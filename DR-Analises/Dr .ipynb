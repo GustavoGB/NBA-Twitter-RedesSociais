{
 "cells": [
  {
   "cell_type": "code",
   "execution_count": 53,
   "metadata": {},
   "outputs": [],
   "source": [
    "with open(\"2019/DR-2019-0.1.json\", \"r\") as f:\n",
    "    data = json.load(f)\n",
    "    dict_temp = {}\n",
    "    lista = []\n",
    "    counter = 0\n",
    "    for key, value in data.items():\n",
    "        if(len(value)>1):\n",
    "            if(counter == 1):\n",
    "                for i in range(len(value)):\n",
    "                    lista.append(value[i])\n",
    "                counter = 2\n",
    "            elif(counter == 0):\n",
    "                counter = 1\n",
    "                for i in range(len(value)):\n",
    "                    dict_temp[(value[i][0], value[i][1])] = 0\n",
    "    i = 0\n",
    "    for key, value in dict_temp.items():\n",
    "        dict_temp[key] = lista[i][0]\n",
    "        i+=1\n",
    "#print(dict_temp)"
   ]
  },
  {
   "cell_type": "code",
   "execution_count": 74,
   "metadata": {},
   "outputs": [],
   "source": [
    "import operator\n"
   ]
  },
  {
   "cell_type": "code",
   "execution_count": null,
   "metadata": {},
   "outputs": [],
   "source": []
  },
  {
   "cell_type": "code",
   "execution_count": null,
   "metadata": {},
   "outputs": [],
   "source": []
  },
  {
   "cell_type": "code",
   "execution_count": 54,
   "metadata": {},
   "outputs": [
    {
     "name": "stdout",
     "output_type": "stream",
     "text": [
      "this is the mean:  0.06158764367816095\n"
     ]
    }
   ],
   "source": [
    "### MEDIA rivalidades ocultas para 0.1\n",
    "count = 0\n",
    "_sum = 0\n",
    "for key in dict_temp:\n",
    "    if(key == 0.5):\n",
    "        break\n",
    "    elif(key == 1):\n",
    "        break\n",
    "    else:\n",
    "        count += 1\n",
    "        _sum += dict_temp[key]\n",
    "\n",
    "print('this is the mean: ', _sum/count)"
   ]
  },
  {
   "cell_type": "code",
   "execution_count": 55,
   "metadata": {},
   "outputs": [],
   "source": [
    "##DR valendo 0.2\n",
    "with open(\"2019/DR-2019-0.2.json\", \"r\") as f:\n",
    "    data = json.load(f)\n",
    "    dict_temp = {}\n",
    "    lista = []\n",
    "    counter = 0\n",
    "    for key, value in data.items():\n",
    "        if(len(value)>1):\n",
    "            if(counter == 1):\n",
    "                for i in range(len(value)):\n",
    "                    lista.append(value[i])\n",
    "                counter = 2\n",
    "            elif(counter == 0):\n",
    "                counter = 1\n",
    "                for i in range(len(value)):\n",
    "                    dict_temp[(value[i][0], value[i][1])] = 0\n",
    "    i = 0\n",
    "    for key, value in dict_temp.items():\n",
    "        dict_temp[key] = lista[i][0]\n",
    "        i+=1\n",
    "#print(dict_temp)"
   ]
  },
  {
   "cell_type": "code",
   "execution_count": 56,
   "metadata": {},
   "outputs": [
    {
     "name": "stdout",
     "output_type": "stream",
     "text": [
      "this is the mean:  0.11581896551724137\n"
     ]
    }
   ],
   "source": [
    "### MEDIA rivalidades ocultas para 0.1\n",
    "count = 0\n",
    "_sum = 0\n",
    "for key in dict_temp:\n",
    "    if(key == 0.5):\n",
    "        break\n",
    "    elif(key == 1):\n",
    "        break\n",
    "    else:\n",
    "        count += 1\n",
    "        _sum += dict_temp[key]\n",
    "\n",
    "print('this is the mean: ', _sum/count)"
   ]
  },
  {
   "cell_type": "code",
   "execution_count": 57,
   "metadata": {},
   "outputs": [],
   "source": [
    "##DR valendo 0.3\n",
    "with open(\"2019/DR-2019-0.3.json\", \"r\") as f:\n",
    "    data = json.load(f)\n",
    "    dict_temp = {}\n",
    "    lista = []\n",
    "    counter = 0\n",
    "    for key, value in data.items():\n",
    "        if(len(value)>1):\n",
    "            if(counter == 1):\n",
    "                for i in range(len(value)):\n",
    "                    lista.append(value[i])\n",
    "                counter = 2\n",
    "            elif(counter == 0):\n",
    "                counter = 1\n",
    "                for i in range(len(value)):\n",
    "                    dict_temp[(value[i][0], value[i][1])] = 0\n",
    "    i = 0\n",
    "    for key, value in dict_temp.items():\n",
    "        dict_temp[key] = lista[i][0]\n",
    "        i+=1\n",
    "#print(dict_temp)"
   ]
  },
  {
   "cell_type": "code",
   "execution_count": 58,
   "metadata": {},
   "outputs": [
    {
     "name": "stdout",
     "output_type": "stream",
     "text": [
      "this is the mean:  0.19263649425287352\n"
     ]
    }
   ],
   "source": [
    "### MEDIA rivalidades ocultas para 0.1\n",
    "count = 0\n",
    "_sum = 0\n",
    "for key in dict_temp:\n",
    "    if(key == 0.5):\n",
    "        break\n",
    "    elif(key == 1):\n",
    "        break\n",
    "    else:\n",
    "        count += 1\n",
    "        _sum += dict_temp[key]\n",
    "\n",
    "print('this is the mean: ', _sum/count)"
   ]
  },
  {
   "cell_type": "code",
   "execution_count": 60,
   "metadata": {},
   "outputs": [],
   "source": [
    "##DR valendo 0.4\n",
    "with open(\"2019/DR-2019-04.json\", \"r\") as f:\n",
    "    data = json.load(f)\n",
    "    dict_temp = {}\n",
    "    lista = []\n",
    "    counter = 0\n",
    "    for key, value in data.items():\n",
    "        if(len(value)>1):\n",
    "            if(counter == 1):\n",
    "                for i in range(len(value)):\n",
    "                    lista.append(value[i])\n",
    "                counter = 2\n",
    "            elif(counter == 0):\n",
    "                counter = 1\n",
    "                for i in range(len(value)):\n",
    "                    dict_temp[(value[i][0], value[i][1])] = 0\n",
    "    i = 0\n",
    "    for key, value in dict_temp.items():\n",
    "        dict_temp[key] = lista[i][0]\n",
    "        i+=1\n",
    "#print(dict_temp)"
   ]
  },
  {
   "cell_type": "code",
   "execution_count": 61,
   "metadata": {},
   "outputs": [
    {
     "name": "stdout",
     "output_type": "stream",
     "text": [
      "this is the mean:  0.20545977011494224\n"
     ]
    }
   ],
   "source": [
    "### MEDIA rivalidades ocultas para 0.4 para 2019\n",
    " count = 0\n",
    "_sum = 0\n",
    "for key in dict_temp:\n",
    "    if(key == 0.5):\n",
    "        break\n",
    "    elif(key == 1):\n",
    "        break\n",
    "    else:\n",
    "        count += 1\n",
    "        _sum += dict_temp[key]\n",
    "\n",
    "print('this is the mean: ', _sum/count)"
   ]
  },
  {
   "cell_type": "code",
   "execution_count": 63,
   "metadata": {},
   "outputs": [],
   "source": [
    "##DR valendo 0.1 para 2018\n",
    "with open(\"2018/DR-2018-0.1.json\", \"r\") as f:\n",
    "    data = json.load(f)\n",
    "    dict_temp = {}\n",
    "    lista = []\n",
    "    counter = 0\n",
    "    for key, value in data.items():\n",
    "        if(len(value)>1):\n",
    "            if(counter == 1):\n",
    "                for i in range(len(value)):\n",
    "                    lista.append(value[i])\n",
    "                counter = 2\n",
    "            elif(counter == 0):\n",
    "                counter = 1\n",
    "                for i in range(len(value)):\n",
    "                    dict_temp[(value[i][0], value[i][1])] = 0\n",
    "    i = 0\n",
    "    for key, value in dict_temp.items():\n",
    "        dict_temp[key] = lista[i][0]\n",
    "        i+=1\n",
    "#print(dict_temp)"
   ]
  },
  {
   "cell_type": "code",
   "execution_count": 64,
   "metadata": {},
   "outputs": [
    {
     "name": "stdout",
     "output_type": "stream",
     "text": [
      "this is the mean:  0.06020114942528736\n"
     ]
    }
   ],
   "source": [
    "### MEDIA rivalidades ocultas para 0.1 2018\n",
    "count = 0\n",
    "_sum = 0\n",
    "for key in dict_temp:\n",
    "    if(key == 0.5):\n",
    "        break\n",
    "    elif(key == 1):\n",
    "        break\n",
    "    else:\n",
    "        count += 1\n",
    "        _sum += dict_temp[key]\n",
    "\n",
    "print('this is the mean: ', _sum/count)"
   ]
  },
  {
   "cell_type": "code",
   "execution_count": 65,
   "metadata": {},
   "outputs": [],
   "source": [
    "##DR valendo 0.2 PARA 2018\n",
    "with open(\"2018/DR-2018-0.2.json\", \"r\") as f:\n",
    "    data = json.load(f)\n",
    "    dict_temp = {}\n",
    "    lista = []\n",
    "    counter = 0\n",
    "    for key, value in data.items():\n",
    "        if(len(value)>1):\n",
    "            if(counter == 1):\n",
    "                for i in range(len(value)):\n",
    "                    lista.append(value[i])\n",
    "                counter = 2\n",
    "            elif(counter == 0):\n",
    "                counter = 1\n",
    "                for i in range(len(value)):\n",
    "                    dict_temp[(value[i][0], value[i][1])] = 0\n",
    "    i = 0\n",
    "    for key, value in dict_temp.items():\n",
    "        dict_temp[key] = lista[i][0]\n",
    "        i+=1\n",
    "#print(dict_temp)"
   ]
  },
  {
   "cell_type": "code",
   "execution_count": 66,
   "metadata": {},
   "outputs": [
    {
     "name": "stdout",
     "output_type": "stream",
     "text": [
      "this is the mean:  0.09512931034482759\n"
     ]
    }
   ],
   "source": [
    "### MEDIA rivalidades ocultas para 0.2 2018\n",
    "count = 0\n",
    "_sum = 0\n",
    "for key in dict_temp:\n",
    "    if(key == 0.5):\n",
    "        break\n",
    "    elif(key == 1):\n",
    "        break\n",
    "    else:\n",
    "        count += 1\n",
    "        _sum += dict_temp[key]\n",
    "\n",
    "print('this is the mean: ', _sum/count)"
   ]
  },
  {
   "cell_type": "code",
   "execution_count": 67,
   "metadata": {},
   "outputs": [],
   "source": [
    "##DR valendo 0.3 PARA 2018\n",
    "with open(\"2018/DR-2018-0.3.json\", \"r\") as f:\n",
    "    data = json.load(f)\n",
    "    dict_temp = {}\n",
    "    lista = []\n",
    "    counter = 0\n",
    "    for key, value in data.items():\n",
    "        if(len(value)>1):\n",
    "            if(counter == 1):\n",
    "                for i in range(len(value)):\n",
    "                    lista.append(value[i])\n",
    "                counter = 2\n",
    "            elif(counter == 0):\n",
    "                counter = 1\n",
    "                for i in range(len(value)):\n",
    "                    dict_temp[(value[i][0], value[i][1])] = 0\n",
    "    i = 0\n",
    "    for key, value in dict_temp.items():\n",
    "        dict_temp[key] = lista[i][0]\n",
    "        i+=1\n",
    "#print(dict_temp)"
   ]
  },
  {
   "cell_type": "code",
   "execution_count": 68,
   "metadata": {},
   "outputs": [
    {
     "name": "stdout",
     "output_type": "stream",
     "text": [
      "this is the mean:  0.18496408045977022\n"
     ]
    }
   ],
   "source": [
    "### MEDIA rivalidades ocultas para 0.2 2018\n",
    "count = 0\n",
    "_sum = 0\n",
    "for key in dict_temp:\n",
    "    if(key == 0.5):\n",
    "        break\n",
    "    elif(key == 1):\n",
    "        break\n",
    "    else:\n",
    "        count += 1\n",
    "        _sum += dict_temp[key]\n",
    "\n",
    "print('this is the mean: ', _sum/count)"
   ]
  },
  {
   "cell_type": "code",
   "execution_count": 70,
   "metadata": {},
   "outputs": [],
   "source": [
    "##DR valendo 0.4 PARA 2018\n",
    "with open(\"2018/DR-2018-0.4.json\", \"r\") as f:\n",
    "    data = json.load(f)\n",
    "    dict_temp = {}\n",
    "    lista = []\n",
    "    counter = 0\n",
    "    for key, value in data.items():\n",
    "        if(len(value)>1):\n",
    "            if(counter == 1):\n",
    "                for i in range(len(value)):\n",
    "                    lista.append(value[i])\n",
    "                counter = 2\n",
    "            elif(counter == 0):\n",
    "                counter = 1\n",
    "                for i in range(len(value)):\n",
    "                    dict_temp[(value[i][0], value[i][1])] = 0\n",
    "    i = 0\n",
    "    for key, value in dict_temp.items():\n",
    "        dict_temp[key] = lista[i][0]\n",
    "        i+=1\n",
    "#print(dict_temp)"
   ]
  },
  {
   "cell_type": "code",
   "execution_count": 101,
   "metadata": {},
   "outputs": [
    {
     "ename": "TypeError",
     "evalue": "'NoneType' object is not subscriptable",
     "output_type": "error",
     "traceback": [
      "\u001b[1;31m---------------------------------------------------------------------------\u001b[0m",
      "\u001b[1;31mTypeError\u001b[0m                                 Traceback (most recent call last)",
      "\u001b[1;32m<ipython-input-101-22b90cec380c>\u001b[0m in \u001b[0;36m<module>\u001b[1;34m\u001b[0m\n\u001b[0;32m     13\u001b[0m         \u001b[0m_sum\u001b[0m \u001b[1;33m+=\u001b[0m \u001b[0mdict_temp\u001b[0m\u001b[1;33m[\u001b[0m\u001b[0mkey\u001b[0m\u001b[1;33m]\u001b[0m\u001b[1;33m\u001b[0m\u001b[1;33m\u001b[0m\u001b[0m\n\u001b[0;32m     14\u001b[0m         \u001b[0mmaximo\u001b[0m \u001b[1;33m=\u001b[0m \u001b[0mmax\u001b[0m\u001b[1;33m(\u001b[0m\u001b[0mdict_temp\u001b[0m\u001b[1;33m.\u001b[0m\u001b[0mitems\u001b[0m\u001b[1;33m(\u001b[0m\u001b[1;33m)\u001b[0m\u001b[1;33m,\u001b[0m\u001b[0mkey\u001b[0m\u001b[1;33m=\u001b[0m\u001b[0moperator\u001b[0m\u001b[1;33m.\u001b[0m\u001b[0mitemgetter\u001b[0m\u001b[1;33m(\u001b[0m\u001b[1;36m1\u001b[0m\u001b[1;33m)\u001b[0m\u001b[1;33m)\u001b[0m\u001b[1;33m[\u001b[0m\u001b[1;36m1\u001b[0m\u001b[1;33m]\u001b[0m\u001b[1;33m\u001b[0m\u001b[1;33m\u001b[0m\u001b[0m\n\u001b[1;32m---> 15\u001b[1;33m         \u001b[0mosso\u001b[0m \u001b[1;33m=\u001b[0m \u001b[0mmax\u001b[0m\u001b[1;33m(\u001b[0m\u001b[0mdict_temp\u001b[0m\u001b[1;33m,\u001b[0m \u001b[0mkey\u001b[0m\u001b[1;33m=\u001b[0m\u001b[0mdict_temp\u001b[0m\u001b[1;33m.\u001b[0m\u001b[0mget\u001b[0m\u001b[1;33m(\u001b[0m\u001b[1;36m1\u001b[0m\u001b[1;33m)\u001b[0m\u001b[1;33m[\u001b[0m\u001b[1;36m1\u001b[0m\u001b[1;33m]\u001b[0m\u001b[1;33m)\u001b[0m\u001b[1;33m\u001b[0m\u001b[1;33m\u001b[0m\u001b[0m\n\u001b[0m\u001b[0;32m     16\u001b[0m         \u001b[0mminimo\u001b[0m \u001b[1;33m=\u001b[0m \u001b[0mmin\u001b[0m\u001b[1;33m(\u001b[0m\u001b[0mdict_temp\u001b[0m\u001b[1;33m.\u001b[0m\u001b[0mitems\u001b[0m\u001b[1;33m(\u001b[0m\u001b[1;33m)\u001b[0m\u001b[1;33m,\u001b[0m\u001b[0mkey\u001b[0m\u001b[1;33m=\u001b[0m\u001b[0moperator\u001b[0m\u001b[1;33m.\u001b[0m\u001b[0mitemgetter\u001b[0m\u001b[1;33m(\u001b[0m\u001b[1;36m1\u001b[0m\u001b[1;33m)\u001b[0m\u001b[1;33m)\u001b[0m\u001b[1;33m[\u001b[0m\u001b[1;36m1\u001b[0m\u001b[1;33m]\u001b[0m\u001b[1;33m\u001b[0m\u001b[1;33m\u001b[0m\u001b[0m\n\u001b[0;32m     17\u001b[0m \u001b[1;33m\u001b[0m\u001b[0m\n",
      "\u001b[1;31mTypeError\u001b[0m: 'NoneType' object is not subscriptable"
     ]
    }
   ],
   "source": [
    "### MEDIA rivalidades ocultas para 0.2 2018\n",
    "count = 0\n",
    "_sum = 0\n",
    "maximo = 0\n",
    "minimo = 0\n",
    "for key in dict_temp:\n",
    "    if(key == 0.5) and (maximo == 0.5) and (minimo == 0.0):\n",
    "        break\n",
    "    elif(key == 1.0) and (maximo == 1.0) :\n",
    "        break\n",
    "    else:\n",
    "        count += 1\n",
    "        _sum += dict_temp[key]\n",
    "        maximo = max(dict_temp.items(),key=operator.itemgetter(1))[1]\n",
    "        osso = max(dict_temp, key=dict_temp.get(1)[1])\n",
    "        minimo = min(dict_temp.items(),key=operator.itemgetter(1))[1]\n",
    "\n",
    "print('this is the mean: ', _sum/count)\n",
    "print('Max Rivalry for dr :', maximo)\n",
    "print('Min Rivalry for dr :', minimo)\n",
    "print('Min Rivalry for dr :', osso)"
   ]
  },
  {
   "cell_type": "code",
   "execution_count": null,
   "metadata": {},
   "outputs": [],
   "source": []
  },
  {
   "cell_type": "code",
   "execution_count": null,
   "metadata": {},
   "outputs": [],
   "source": []
  }
 ],
 "metadata": {
  "kernelspec": {
   "display_name": "Python 3",
   "language": "python",
   "name": "python3"
  },
  "language_info": {
   "codemirror_mode": {
    "name": "ipython",
    "version": 3
   },
   "file_extension": ".py",
   "mimetype": "text/x-python",
   "name": "python",
   "nbconvert_exporter": "python",
   "pygments_lexer": "ipython3",
   "version": "3.7.3"
  }
 },
 "nbformat": 4,
 "nbformat_minor": 2
}
