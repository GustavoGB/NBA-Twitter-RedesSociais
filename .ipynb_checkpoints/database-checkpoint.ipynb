{
 "cells": [
  {
   "cell_type": "code",
   "execution_count": 32,
   "metadata": {},
   "outputs": [],
   "source": [
    "import pymysql\n",
    "import json\n",
    "from functools import partial\n",
    "\n",
    "def run_db_query(connection, query, args=None):\n",
    "    with connection.cursor() as cursor:\n",
    "        print('Executando query:')\n",
    "        cursor.execute(query, args)\n",
    "        for result in cursor:\n",
    "            print(result)\n",
    "\n",
    "connection = pymysql.connect(\n",
    "    host='localhost',\n",
    "    user='root',\n",
    "    password='vlm1998',\n",
    "    database='redes')\n",
    "\n",
    "db = partial(run_db_query, connection)\n",
    "\n"
   ]
  },
  {
   "cell_type": "code",
   "execution_count": 21,
   "metadata": {},
   "outputs": [
    {
     "name": "stdout",
     "output_type": "stream",
     "text": [
      "Executando query:\n",
      "('jogador',)\n",
      "('times',)\n",
      "('transferencia',)\n"
     ]
    }
   ],
   "source": [
    "db('SHOW TABLES')"
   ]
  },
  {
   "cell_type": "code",
   "execution_count": 18,
   "metadata": {},
   "outputs": [
    {
     "name": "stdout",
     "output_type": "stream",
     "text": [
      "{'Patrick Patterson': ['LA Clippers'], 'Justin Patton': ['Oklahoma City Thunder'], 'Isaiah Roby': ['Dallas Mavericks'], 'Jaylen Nowell': ['Minnesota Timberwolves'], 'JaKarr Sampson': ['Indiana Pacers'], 'Vlatko Cancar': ['Denver Nuggets'], 'Cody Martin': ['Charlotte Hornets'], 'Justin Holiday': ['Indiana Pacers'], 'Marko Guduric': ['Memphis Grizzlies'], 'Trey Burke': ['Philadelphia 76ers'], 'T.J. McConnell': ['Indiana Pacers'], 'Pau Gasol': ['Portland Trail Blazers'], 'Javonte Green': ['Boston Celtics'], 'Kyle Korver': ['Milwaukee Bucks'], 'Furkan Korkmaz': ['Philadelphia 76ers'], 'Dragan Bender': ['Milwaukee Bucks'], 'Nicolo Melli': ['New Orleans Pelicans'], 'Cameron Payne': ['Toronto Raptors'], 'Ben McLemore': ['Houston Rockets'], 'Boban Marjanovic': ['Dallas Mavericks'], 'Cheick Diallo': ['Phoenix Suns']}\n"
     ]
    }
   ],
   "source": [
    "with open(\"signed.json\", 'r') as f:\n",
    "    signed = json.load(f)\n",
    "print(signed)"
   ]
  },
  {
   "cell_type": "code",
   "execution_count": 27,
   "metadata": {
    "scrolled": true
   },
   "outputs": [
    {
     "name": "stdout",
     "output_type": "stream",
     "text": [
      "Executando query:\n",
      "Executando query:\n",
      "Executando query:\n",
      "Executando query:\n",
      "Executando query:\n",
      "Executando query:\n",
      "Executando query:\n",
      "Executando query:\n",
      "Executando query:\n",
      "Executando query:\n",
      "Executando query:\n",
      "Executando query:\n",
      "Executando query:\n",
      "Executando query:\n",
      "Executando query:\n",
      "Executando query:\n",
      "Executando query:\n",
      "Executando query:\n",
      "Executando query:\n",
      "Executando query:\n",
      "Executando query:\n"
     ]
    }
   ],
   "source": [
    "for key in signed:\n",
    "    query = ('INSERT INTO jogador (nome) VALUES (%s)')\n",
    "    arg = [key]\n",
    "    run_db_query(connection, query, arg)"
   ]
  },
  {
   "cell_type": "code",
   "execution_count": 31,
   "metadata": {},
   "outputs": [],
   "source": [
    "connection.close()"
   ]
  },
  {
   "cell_type": "code",
   "execution_count": null,
   "metadata": {},
   "outputs": [],
   "source": []
  }
 ],
 "metadata": {
  "kernelspec": {
   "display_name": "Python 3",
   "language": "python",
   "name": "python3"
  },
  "language_info": {
   "codemirror_mode": {
    "name": "ipython",
    "version": 3
   },
   "file_extension": ".py",
   "mimetype": "text/x-python",
   "name": "python",
   "nbconvert_exporter": "python",
   "pygments_lexer": "ipython3",
   "version": "3.6.4"
  }
 },
 "nbformat": 4,
 "nbformat_minor": 2
}
