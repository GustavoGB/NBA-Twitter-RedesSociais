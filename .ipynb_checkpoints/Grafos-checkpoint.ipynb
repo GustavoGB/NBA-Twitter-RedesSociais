{
 "cells": [
  {
   "cell_type": "code",
   "execution_count": 1,
   "metadata": {},
   "outputs": [
    {
     "data": {
      "text/html": [
       "        <script type=\"text/javascript\">\n",
       "        window.PlotlyConfig = {MathJaxConfig: 'local'};\n",
       "        if (window.MathJax) {MathJax.Hub.Config({SVG: {font: \"STIX-Web\"}});}\n",
       "        if (typeof require !== 'undefined') {\n",
       "        require.undef(\"plotly\");\n",
       "        requirejs.config({\n",
       "            paths: {\n",
       "                'plotly': ['https://cdn.plot.ly/plotly-latest.min']\n",
       "            }\n",
       "        });\n",
       "        require(['plotly'], function(Plotly) {\n",
       "            window._Plotly = Plotly;\n",
       "        });\n",
       "        }\n",
       "        </script>\n",
       "        "
      ]
     },
     "metadata": {},
     "output_type": "display_data"
    }
   ],
   "source": [
    "import pymysql\n",
    "import json\n",
    "from functools import partial\n",
    "import csv\n",
    "import networkx as nx\n",
    "import freeman as fm\n",
    "from random import random, choices\n",
    "def run_db_query(connection, query, args=None):\n",
    "    with connection.cursor() as cursor:\n",
    "        print('Executando query:')\n",
    "        cursor.execute(query, args)\n",
    "        for result in cursor:\n",
    "            print(result)\n",
    "            \n",
    "def return_db_results(connection, query, args=None):#Gambiarra para pegar o id\n",
    "    with connection.cursor() as cursor:\n",
    "        cursor.execute(query, args)\n",
    "        for result in cursor:\n",
    "            return result #retorna logo o primeiro\n",
    "\n",
    "def multiple_db_results(connection, query, args=None):#Gambiarra para pegar o id\n",
    "    with connection.cursor() as cursor:\n",
    "        cursor.execute(query, args)\n",
    "        res = cursor.fetchall()\n",
    "        return res\n",
    "\n",
    "connection = pymysql.connect(\n",
    "    host='localhost',\n",
    "    user='root',\n",
    "    password='vlm1998',\n",
    "    database='redes')\n",
    "\n",
    "db = partial(run_db_query, connection)"
   ]
  },
  {
   "cell_type": "code",
   "execution_count": 2,
   "metadata": {},
   "outputs": [],
   "source": [
    "def add_node(g, n):\n",
    "    g.add_node(n)\n",
    "    g.nodes[n]['pos'] = (random(), random())\n",
    "    g.nodes[n]['label'] = n\n",
    "    g.nodes[n]['color'] = (255, 0, 0)\n",
    "\n",
    "def add_edge(g, n, m, peso):\n",
    "    #print(\"De: \", n, \"para: \", m, \"peso: \", peso)\n",
    "    g.add_edge(n, m)\n",
    "    g[n][m]['weight'] = peso\n",
    "\n",
    "def get_team_name(connection, id_team):\n",
    "    with connection.cursor() as cursor:\n",
    "        cursor.execute(\"SELECT nome FROM times WHERE id_time = %s\", (id_team))\n",
    "        res = cursor.fetchone()\n",
    "        if res:\n",
    "            return res\n",
    "        else:\n",
    "            return -1\n",
    "def get_team_id(connection, nome):\n",
    "    with connection.cursor() as cursor:\n",
    "        cursor.execute(\"SELECT id_time FROM times WHERE nome=%s\", (nome))\n",
    "        res = cursor.fetchone()\n",
    "        if res:\n",
    "            return res\n",
    "        else:\n",
    "            return -1\n",
    "def list_all_teams(connection):\n",
    "    with connection.cursor() as cursor:\n",
    "        cursor.execute(\"SELECT nome FROM times\")\n",
    "        res = cursor.fetchall()\n",
    "        return res\n",
    "def list_all_transfers(connection, ano):\n",
    "    with connection.cursor() as cursor:\n",
    "        cursor.execute(\"SELECT * FROM transferencia WHERE ano=%s\", (ano))\n",
    "        res = cursor.fetchall()\n",
    "        return res\n",
    "def get_from_where(connection, id_jogador, ano):\n",
    "    with connection.cursor() as cursor:\n",
    "        cursor.execute(\"SELECT times.nome FROM waived INNER JOIN times USING(id_time) WHERE id_jogador = %s AND ano = %s \", (id_jogador, ano))\n",
    "        res = cursor.fetchone()\n",
    "        if res:\n",
    "            return res\n",
    "        else:\n",
    "            return -1\n",
    "\n",
    "def get_weight(connection, id_time1, id_time2, ano):\n",
    "    with connection.cursor() as cursor:\n",
    "        cursor.execute(\"SELECT peso FROM rivalidade WHERE id_time1=%s AND id_time2=%s AND ano=%s\", (id_time1, id_time2, ano))\n",
    "        res = cursor.fetchall()\n",
    "        if res:\n",
    "            return res\n",
    "        else: #Pode ser que os nomes estejam invertidos nao sei\n",
    "            cursor.execute(\"SELECT peso FROM rivalidade WHERE id_time1=%s AND id_time2=%s AND ano=%s\", (id_time2, id_time1, ano))\n",
    "            if res:\n",
    "                return res\n",
    "            return -1\n"
   ]
  },
  {
   "cell_type": "code",
   "execution_count": 3,
   "metadata": {
    "scrolled": true
   },
   "outputs": [
    {
     "data": {
      "application/vnd.plotly.v1+json": {
       "config": {
        "linkText": "Export to plot.ly",
        "plotlyServerURL": "https://plot.ly",
        "showLink": false,
        "staticPlot": true
       },
       "data": [
        {
         "hoverinfo": "none",
         "line": {
          "color": "rgba(255, 255, 255, 0.0)",
          "dash": "solid",
          "width": 1
         },
         "mode": "lines",
         "type": "scatter",
         "x": [
          0.9877875629911081,
          0.8253525168659742,
          null,
          0.8394839343415457,
          0.8522171385722057,
          null,
          0.8394839343415457,
          0.853751247625847,
          null
         ],
         "y": [
          0.10064997194128933,
          0.15515258554852496,
          null,
          0.1504110029604899,
          0.13825237953282507,
          null,
          0.1504110029604899,
          0.15351001266304967,
          null
         ]
        },
        {
         "hoverinfo": "none",
         "line": {
          "color": "rgba(255, 255, 255, 0.0)",
          "dash": "solid",
          "width": 1
         },
         "mode": "lines",
         "type": "scatter",
         "x": [
          0.6657518540015366,
          0.9746320637657699,
          null,
          0.9616591481177758,
          0.9510906525728116,
          null,
          0.9616591481177758,
          0.9474406442849851,
          null
         ],
         "y": [
          0.6819712177264294,
          0.4133666298311808,
          null,
          0.4246479762926102,
          0.44242885995765446,
          null,
          0.4246479762926102,
          0.4284220564697091,
          null
         ]
        },
        {
         "hoverinfo": "none",
         "line": {
          "color": "rgba(255, 255, 255, 0.0)",
          "dash": "solid",
          "width": 1
         },
         "mode": "lines",
         "type": "scatter",
         "x": [
          0.3130067468288521,
          0.3499668322226597,
          null,
          0.3458091923564756,
          0.3459015706469828,
          null,
          0.3458091923564756,
          0.3377729239203506,
          null
         ],
         "y": [
          0.6729646013520403,
          0.4496220702127133,
          null,
          0.47474587069600155,
          0.5009920473459931,
          null,
          0.47474587069600155,
          0.4965030607404037,
          null
         ]
        },
        {
         "hoverinfo": "none",
         "line": {
          "color": "rgba(255, 255, 255, 0.0)",
          "dash": "solid",
          "width": 1
         },
         "mode": "lines",
         "type": "scatter",
         "x": [
          0.3499668322226597,
          0.9926856014334526,
          null,
          0.9784862464521992,
          0.9655693764674027,
          null,
          0.9784862464521992,
          0.964272792565718,
          null
         ],
         "y": [
          0.4496220702127133,
          0.2682292564139206,
          null,
          0.2722367027147967,
          0.2837306548816061,
          null,
          0.2722367027147967,
          0.26839966990686415,
          null
         ]
        },
        {
         "hoverinfo": "none",
         "line": {
          "color": "rgba(255, 255, 255, 0.0)",
          "dash": "solid",
          "width": 1
         },
         "mode": "lines",
         "type": "scatter",
         "x": [
          0.5148042784508876,
          0.3846394161106561,
          null,
          0.39887357572086857,
          0.4130497913454055,
          null,
          0.39887357572086857,
          0.4118941842316794,
          null
         ],
         "y": [
          0.30079606984334584,
          0.2681343367755409,
          null,
          0.2717060558499104,
          0.2674339677160637,
          null,
          0.2717060558499104,
          0.28280253110505943,
          null
         ]
        },
        {
         "hoverinfo": "none",
         "line": {
          "color": "rgba(255, 255, 255, 0.0)",
          "dash": "solid",
          "width": 1
         },
         "mode": "lines",
         "type": "scatter",
         "x": [
          0.4317862843872923,
          0.864196207342952,
          null,
          0.8501331652952427,
          0.83756813173278,
          null,
          0.8501331652952427,
          0.8358283244251369,
          null
         ],
         "y": [
          0.47596416145351483,
          0.3106216182365953,
          null,
          0.3159989674001878,
          0.32872804950240503,
          null,
          0.3159989674001878,
          0.31354424103946854,
          null
         ]
        },
        {
         "hoverinfo": "none",
         "line": {
          "color": "rgba(255, 255, 255, 0.0)",
          "dash": "solid",
          "width": 1
         },
         "mode": "lines",
         "type": "scatter",
         "x": [
          0.04247953120902426,
          0.9088573793496606,
          null,
          0.8946617281034954,
          0.8804447671870989,
          null,
          0.8946617281034954,
          0.8817554417751662,
          null
         ],
         "y": [
          0.7314598768196983,
          0.9786971721994223,
          null,
          0.9746461747878565,
          0.9784396021768602,
          null,
          0.9746461747878565,
          0.9631126161096084,
          null
         ]
        },
        {
         "hoverinfo": "none",
         "line": {
          "color": "rgba(255, 255, 255, 0.0)",
          "dash": "solid",
          "width": 1
         },
         "mode": "lines",
         "type": "scatter",
         "x": [
          0.7134229855990559,
          0.02306618337905708,
          null,
          0.03737721103278929,
          0.051426193923551466,
          null,
          0.03737721103278929,
          0.05067192197101909,
          null
         ],
         "y": [
          0.8958337535500325,
          0.78337381735013,
          null,
          0.7857051006107835,
          0.7802064818269927,
          null,
          0.7857051006107835,
          0.7956580393253543,
          null
         ]
        },
        {
         "hoverinfo": "none",
         "line": {
          "color": "rgba(255, 255, 255, 0.0)",
          "dash": "solid",
          "width": 1
         },
         "mode": "lines",
         "type": "scatter",
         "x": [
          0.5090667309339035,
          0.35833691444281857,
          null,
          0.36605647712096834,
          0.3698501850197143,
          null,
          0.36605647712096834,
          0.3770123290352797,
          null
         ],
         "y": [
          0.13887939504069535,
          0.5711110886875235,
          null,
          0.5489745285279956,
          0.5236592748807892,
          null,
          0.5489745285279956,
          0.5319940548469596,
          null
         ]
        },
        {
         "hoverinfo": "none",
         "line": {
          "color": "rgba(255, 255, 255, 0.0)",
          "dash": "solid",
          "width": 1
         },
         "mode": "lines",
         "type": "scatter",
         "x": [
          0.864196207342952,
          0.5205252236641866,
          null,
          0.5348513623196516,
          0.5482144739508822,
          null,
          0.5348513623196516,
          0.5488608167000979,
          null
         ],
         "y": [
          0.3106216182365953,
          0.35854458361113184,
          null,
          0.35654688500013015,
          0.3469044742304788,
          null,
          0.35654688500013015,
          0.36237234701505056,
          null
         ]
        },
        {
         "hoverinfo": "none",
         "line": {
          "color": "rgba(255, 255, 255, 0.0)",
          "dash": "solid",
          "width": 1
         },
         "mode": "lines",
         "type": "scatter",
         "x": [
          0.4084734897119745,
          0.35833691444281857,
          null,
          0.3629728571963361,
          0.3633828613383074,
          null,
          0.3629728571963361,
          0.3714206236022302,
          null
         ],
         "y": [
          0.3024412939240082,
          0.5711110886875235,
          null,
          0.5462681914326484,
          0.5200321610598867,
          null,
          0.5462681914326484,
          0.5250375693190489,
          null
         ]
        },
        {
         "hoverinfo": "none",
         "line": {
          "color": "rgba(255, 255, 255, 0.0)",
          "dash": "solid",
          "width": 1
         },
         "mode": "lines",
         "type": "scatter",
         "x": [
          0.08197942538511671,
          0.9088573793496606,
          null,
          0.8967789040385449,
          0.8829404414832318,
          null,
          0.8967789040385449,
          0.8875393501984348,
          null
         ],
         "y": [
          0.005611287598566106,
          0.9786971721994223,
          null,
          0.9644829900744861,
          0.9574242032011742,
          null,
          0.9644829900744861,
          0.9443831232537412,
          null
         ]
        },
        {
         "hoverinfo": "none",
         "marker": {
          "color": "rgba(255, 255, 255, 0.0)",
          "line": {
           "color": "rgba(255, 255, 255, 0.0)",
           "width": 1
          },
          "size": 20,
          "symbol": "circle"
         },
         "mode": "markers+text",
         "text": [
          "('Atlanta Hawks',)"
         ],
         "textfont": {
          "color": "rgb(0, 0, 0)"
         },
         "textposition": "middle center",
         "type": "scatter",
         "x": [
          0.02306618337905708
         ],
         "y": [
          0.78337381735013
         ]
        },
        {
         "hoverinfo": "none",
         "marker": {
          "color": "rgba(255, 255, 255, 0.0)",
          "line": {
           "color": "rgba(255, 255, 255, 0.0)",
           "width": 1
          },
          "size": 20,
          "symbol": "circle"
         },
         "mode": "markers+text",
         "text": [
          "('Boston Celtics',)"
         ],
         "textfont": {
          "color": "rgb(0, 0, 0)"
         },
         "textposition": "middle center",
         "type": "scatter",
         "x": [
          0.9877875629911081
         ],
         "y": [
          0.10064997194128933
         ]
        },
        {
         "hoverinfo": "none",
         "marker": {
          "color": "rgba(255, 255, 255, 0.0)",
          "line": {
           "color": "rgba(255, 255, 255, 0.0)",
           "width": 1
          },
          "size": 20,
          "symbol": "circle"
         },
         "mode": "markers+text",
         "text": [
          "('Brooklyn Nets',)"
         ],
         "textfont": {
          "color": "rgb(0, 0, 0)"
         },
         "textposition": "middle center",
         "type": "scatter",
         "x": [
          0.6657518540015366
         ],
         "y": [
          0.6819712177264294
         ]
        },
        {
         "hoverinfo": "none",
         "marker": {
          "color": "rgba(255, 255, 255, 0.0)",
          "line": {
           "color": "rgba(255, 255, 255, 0.0)",
           "width": 1
          },
          "size": 20,
          "symbol": "circle"
         },
         "mode": "markers+text",
         "text": [
          "('Charlotte Hornets',)"
         ],
         "textfont": {
          "color": "rgb(0, 0, 0)"
         },
         "textposition": "middle center",
         "type": "scatter",
         "x": [
          0.9360112977782276
         ],
         "y": [
          0.303518405870677
         ]
        },
        {
         "hoverinfo": "none",
         "marker": {
          "color": "rgba(255, 255, 255, 0.0)",
          "line": {
           "color": "rgba(255, 255, 255, 0.0)",
           "width": 1
          },
          "size": 20,
          "symbol": "circle"
         },
         "mode": "markers+text",
         "text": [
          "('Chicago Bulls',)"
         ],
         "textfont": {
          "color": "rgb(0, 0, 0)"
         },
         "textposition": "middle center",
         "type": "scatter",
         "x": [
          0.3130067468288521
         ],
         "y": [
          0.6729646013520403
         ]
        },
        {
         "hoverinfo": "none",
         "marker": {
          "color": "rgba(255, 255, 255, 0.0)",
          "line": {
           "color": "rgba(255, 255, 255, 0.0)",
           "width": 1
          },
          "size": 20,
          "symbol": "circle"
         },
         "mode": "markers+text",
         "text": [
          "('Cleveland Cavaliers',)"
         ],
         "textfont": {
          "color": "rgb(0, 0, 0)"
         },
         "textposition": "middle center",
         "type": "scatter",
         "x": [
          0.3499668322226597
         ],
         "y": [
          0.4496220702127133
         ]
        },
        {
         "hoverinfo": "none",
         "marker": {
          "color": "rgba(255, 255, 255, 0.0)",
          "line": {
           "color": "rgba(255, 255, 255, 0.0)",
           "width": 1
          },
          "size": 20,
          "symbol": "circle"
         },
         "mode": "markers+text",
         "text": [
          "('Dallas Mavericks',)"
         ],
         "textfont": {
          "color": "rgb(0, 0, 0)"
         },
         "textposition": "middle center",
         "type": "scatter",
         "x": [
          0.5148042784508876
         ],
         "y": [
          0.30079606984334584
         ]
        },
        {
         "hoverinfo": "none",
         "marker": {
          "color": "rgba(255, 255, 255, 0.0)",
          "line": {
           "color": "rgba(255, 255, 255, 0.0)",
           "width": 1
          },
          "size": 20,
          "symbol": "circle"
         },
         "mode": "markers+text",
         "text": [
          "('Denver Nuggets',)"
         ],
         "textfont": {
          "color": "rgb(0, 0, 0)"
         },
         "textposition": "middle center",
         "type": "scatter",
         "x": [
          0.7330741940372147
         ],
         "y": [
          0.8273389887338318
         ]
        },
        {
         "hoverinfo": "none",
         "marker": {
          "color": "rgba(255, 255, 255, 0.0)",
          "line": {
           "color": "rgba(255, 255, 255, 0.0)",
           "width": 1
          },
          "size": 20,
          "symbol": "circle"
         },
         "mode": "markers+text",
         "text": [
          "('Detroit Pistons',)"
         ],
         "textfont": {
          "color": "rgb(0, 0, 0)"
         },
         "textposition": "middle center",
         "type": "scatter",
         "x": [
          0.4317862843872923
         ],
         "y": [
          0.47596416145351483
         ]
        },
        {
         "hoverinfo": "none",
         "marker": {
          "color": "rgba(255, 255, 255, 0.0)",
          "line": {
           "color": "rgba(255, 255, 255, 0.0)",
           "width": 1
          },
          "size": 20,
          "symbol": "circle"
         },
         "mode": "markers+text",
         "text": [
          "('Golden State Warriors',)"
         ],
         "textfont": {
          "color": "rgb(0, 0, 0)"
         },
         "textposition": "middle center",
         "type": "scatter",
         "x": [
          0.5811320993677
         ],
         "y": [
          0.9305262721546907
         ]
        },
        {
         "hoverinfo": "none",
         "marker": {
          "color": "rgba(255, 255, 255, 0.0)",
          "line": {
           "color": "rgba(255, 255, 255, 0.0)",
           "width": 1
          },
          "size": 20,
          "symbol": "circle"
         },
         "mode": "markers+text",
         "text": [
          "('Houston Rockets',)"
         ],
         "textfont": {
          "color": "rgb(0, 0, 0)"
         },
         "textposition": "middle center",
         "type": "scatter",
         "x": [
          0.9746320637657699
         ],
         "y": [
          0.4133666298311808
         ]
        },
        {
         "hoverinfo": "none",
         "marker": {
          "color": "rgba(255, 255, 255, 0.0)",
          "line": {
           "color": "rgba(255, 255, 255, 0.0)",
           "width": 1
          },
          "size": 20,
          "symbol": "circle"
         },
         "mode": "markers+text",
         "text": [
          "('Indiana Pacers',)"
         ],
         "textfont": {
          "color": "rgb(0, 0, 0)"
         },
         "textposition": "middle center",
         "type": "scatter",
         "x": [
          0.5515185142253216
         ],
         "y": [
          0.4037517772736835
         ]
        },
        {
         "hoverinfo": "none",
         "marker": {
          "color": "rgba(255, 255, 255, 0.0)",
          "line": {
           "color": "rgba(255, 255, 255, 0.0)",
           "width": 1
          },
          "size": 20,
          "symbol": "circle"
         },
         "mode": "markers+text",
         "text": [
          "('LA Clippers',)"
         ],
         "textfont": {
          "color": "rgb(0, 0, 0)"
         },
         "textposition": "middle center",
         "type": "scatter",
         "x": [
          0.6570115694483919
         ],
         "y": [
          0.8752912558437298
         ]
        },
        {
         "hoverinfo": "none",
         "marker": {
          "color": "rgba(255, 255, 255, 0.0)",
          "line": {
           "color": "rgba(255, 255, 255, 0.0)",
           "width": 1
          },
          "size": 20,
          "symbol": "circle"
         },
         "mode": "markers+text",
         "text": [
          "('Los Angeles Lakers',)"
         ],
         "textfont": {
          "color": "rgb(0, 0, 0)"
         },
         "textposition": "middle center",
         "type": "scatter",
         "x": [
          0.9088573793496606
         ],
         "y": [
          0.9786971721994223
         ]
        },
        {
         "hoverinfo": "none",
         "marker": {
          "color": "rgba(255, 255, 255, 0.0)",
          "line": {
           "color": "rgba(255, 255, 255, 0.0)",
           "width": 1
          },
          "size": 20,
          "symbol": "circle"
         },
         "mode": "markers+text",
         "text": [
          "('Memphis Grizzlies',)"
         ],
         "textfont": {
          "color": "rgb(0, 0, 0)"
         },
         "textposition": "middle center",
         "type": "scatter",
         "x": [
          0.04247953120902426
         ],
         "y": [
          0.7314598768196983
         ]
        },
        {
         "hoverinfo": "none",
         "marker": {
          "color": "rgba(255, 255, 255, 0.0)",
          "line": {
           "color": "rgba(255, 255, 255, 0.0)",
           "width": 1
          },
          "size": 20,
          "symbol": "circle"
         },
         "mode": "markers+text",
         "text": [
          "('Miami Heat',)"
         ],
         "textfont": {
          "color": "rgb(0, 0, 0)"
         },
         "textposition": "middle center",
         "type": "scatter",
         "x": [
          0.8253525168659742
         ],
         "y": [
          0.15515258554852496
         ]
        },
        {
         "hoverinfo": "none",
         "marker": {
          "color": "rgba(255, 255, 255, 0.0)",
          "line": {
           "color": "rgba(255, 255, 255, 0.0)",
           "width": 1
          },
          "size": 20,
          "symbol": "circle"
         },
         "mode": "markers+text",
         "text": [
          "('Milwaukee Bucks',)"
         ],
         "textfont": {
          "color": "rgb(0, 0, 0)"
         },
         "textposition": "middle center",
         "type": "scatter",
         "x": [
          0.7134229855990559
         ],
         "y": [
          0.8958337535500325
         ]
        },
        {
         "hoverinfo": "none",
         "marker": {
          "color": "rgba(255, 255, 255, 0.0)",
          "line": {
           "color": "rgba(255, 255, 255, 0.0)",
           "width": 1
          },
          "size": 20,
          "symbol": "circle"
         },
         "mode": "markers+text",
         "text": [
          "('Minnesota Timberwolves',)"
         ],
         "textfont": {
          "color": "rgb(0, 0, 0)"
         },
         "textposition": "middle center",
         "type": "scatter",
         "x": [
          0.008183698087374514
         ],
         "y": [
          0.10007021000132932
         ]
        },
        {
         "hoverinfo": "none",
         "marker": {
          "color": "rgba(255, 255, 255, 0.0)",
          "line": {
           "color": "rgba(255, 255, 255, 0.0)",
           "width": 1
          },
          "size": 20,
          "symbol": "circle"
         },
         "mode": "markers+text",
         "text": [
          "('New Orleans Pelicans',)"
         ],
         "textfont": {
          "color": "rgb(0, 0, 0)"
         },
         "textposition": "middle center",
         "type": "scatter",
         "x": [
          0.5090667309339035
         ],
         "y": [
          0.13887939504069535
         ]
        },
        {
         "hoverinfo": "none",
         "marker": {
          "color": "rgba(255, 255, 255, 0.0)",
          "line": {
           "color": "rgba(255, 255, 255, 0.0)",
           "width": 1
          },
          "size": 20,
          "symbol": "circle"
         },
         "mode": "markers+text",
         "text": [
          "('New York Knicks',)"
         ],
         "textfont": {
          "color": "rgb(0, 0, 0)"
         },
         "textposition": "middle center",
         "type": "scatter",
         "x": [
          0.864196207342952
         ],
         "y": [
          0.3106216182365953
         ]
        },
        {
         "hoverinfo": "none",
         "marker": {
          "color": "rgba(255, 255, 255, 0.0)",
          "line": {
           "color": "rgba(255, 255, 255, 0.0)",
           "width": 1
          },
          "size": 20,
          "symbol": "circle"
         },
         "mode": "markers+text",
         "text": [
          "('Oklahoma City Thunder',)"
         ],
         "textfont": {
          "color": "rgb(0, 0, 0)"
         },
         "textposition": "middle center",
         "type": "scatter",
         "x": [
          0.35833691444281857
         ],
         "y": [
          0.5711110886875235
         ]
        },
        {
         "hoverinfo": "none",
         "marker": {
          "color": "rgba(255, 255, 255, 0.0)",
          "line": {
           "color": "rgba(255, 255, 255, 0.0)",
           "width": 1
          },
          "size": 20,
          "symbol": "circle"
         },
         "mode": "markers+text",
         "text": [
          "('Orlando Magic',)"
         ],
         "textfont": {
          "color": "rgb(0, 0, 0)"
         },
         "textposition": "middle center",
         "type": "scatter",
         "x": [
          0.17526360328523305
         ],
         "y": [
          0.19546951598297113
         ]
        },
        {
         "hoverinfo": "none",
         "marker": {
          "color": "rgba(255, 255, 255, 0.0)",
          "line": {
           "color": "rgba(255, 255, 255, 0.0)",
           "width": 1
          },
          "size": 20,
          "symbol": "circle"
         },
         "mode": "markers+text",
         "text": [
          "('Philadelphia 76ers',)"
         ],
         "textfont": {
          "color": "rgb(0, 0, 0)"
         },
         "textposition": "middle center",
         "type": "scatter",
         "x": [
          0.4084734897119745
         ],
         "y": [
          0.3024412939240082
         ]
        },
        {
         "hoverinfo": "none",
         "marker": {
          "color": "rgba(255, 255, 255, 0.0)",
          "line": {
           "color": "rgba(255, 255, 255, 0.0)",
           "width": 1
          },
          "size": 20,
          "symbol": "circle"
         },
         "mode": "markers+text",
         "text": [
          "('Phoenix Suns',)"
         ],
         "textfont": {
          "color": "rgb(0, 0, 0)"
         },
         "textposition": "middle center",
         "type": "scatter",
         "x": [
          0.3846394161106561
         ],
         "y": [
          0.2681343367755409
         ]
        },
        {
         "hoverinfo": "none",
         "marker": {
          "color": "rgba(255, 255, 255, 0.0)",
          "line": {
           "color": "rgba(255, 255, 255, 0.0)",
           "width": 1
          },
          "size": 20,
          "symbol": "circle"
         },
         "mode": "markers+text",
         "text": [
          "('Portland Trail Blazers',)"
         ],
         "textfont": {
          "color": "rgb(0, 0, 0)"
         },
         "textposition": "middle center",
         "type": "scatter",
         "x": [
          0.5205252236641866
         ],
         "y": [
          0.35854458361113184
         ]
        },
        {
         "hoverinfo": "none",
         "marker": {
          "color": "rgba(255, 255, 255, 0.0)",
          "line": {
           "color": "rgba(255, 255, 255, 0.0)",
           "width": 1
          },
          "size": 20,
          "symbol": "circle"
         },
         "mode": "markers+text",
         "text": [
          "('Sacramento Kings',)"
         ],
         "textfont": {
          "color": "rgb(0, 0, 0)"
         },
         "textposition": "middle center",
         "type": "scatter",
         "x": [
          0.42840018223088105
         ],
         "y": [
          0.1901977870068059
         ]
        },
        {
         "hoverinfo": "none",
         "marker": {
          "color": "rgba(255, 255, 255, 0.0)",
          "line": {
           "color": "rgba(255, 255, 255, 0.0)",
           "width": 1
          },
          "size": 20,
          "symbol": "circle"
         },
         "mode": "markers+text",
         "text": [
          "('San Antonio Spurs',)"
         ],
         "textfont": {
          "color": "rgb(0, 0, 0)"
         },
         "textposition": "middle center",
         "type": "scatter",
         "x": [
          0.009859986609690008
         ],
         "y": [
          0.9822939322824391
         ]
        },
        {
         "hoverinfo": "none",
         "marker": {
          "color": "rgba(255, 255, 255, 0.0)",
          "line": {
           "color": "rgba(255, 255, 255, 0.0)",
           "width": 1
          },
          "size": 20,
          "symbol": "circle"
         },
         "mode": "markers+text",
         "text": [
          "('Toronto Raptors',)"
         ],
         "textfont": {
          "color": "rgb(0, 0, 0)"
         },
         "textposition": "middle center",
         "type": "scatter",
         "x": [
          0.9926856014334526
         ],
         "y": [
          0.2682292564139206
         ]
        },
        {
         "hoverinfo": "none",
         "marker": {
          "color": "rgba(255, 255, 255, 0.0)",
          "line": {
           "color": "rgba(255, 255, 255, 0.0)",
           "width": 1
          },
          "size": 20,
          "symbol": "circle"
         },
         "mode": "markers+text",
         "text": [
          "('Utah Jazz',)"
         ],
         "textfont": {
          "color": "rgb(0, 0, 0)"
         },
         "textposition": "middle center",
         "type": "scatter",
         "x": [
          0.2172710196978057
         ],
         "y": [
          0.78994857462467
         ]
        },
        {
         "hoverinfo": "none",
         "marker": {
          "color": "rgba(255, 255, 255, 0.0)",
          "line": {
           "color": "rgba(255, 255, 255, 0.0)",
           "width": 1
          },
          "size": 20,
          "symbol": "circle"
         },
         "mode": "markers+text",
         "text": [
          "('Washington Wizards',)"
         ],
         "textfont": {
          "color": "rgb(0, 0, 0)"
         },
         "textposition": "middle center",
         "type": "scatter",
         "x": [
          0.08197942538511671
         ],
         "y": [
          0.005611287598566106
         ]
        },
        {
         "hoverinfo": "none",
         "mode": "text",
         "text": [
          null,
          null,
          null,
          null,
          null,
          null,
          null,
          null,
          null,
          null,
          null,
          null
         ],
         "textfont": {
          "color": "rgb(0, 0, 0)"
         },
         "textposition": "middle center",
         "type": "scatter",
         "x": [
          0.9039744322187117,
          0.8263675235414185,
          0.34523990444548697,
          0.6735199482082771,
          0.4516770555671724,
          0.650934880967606,
          0.4734508834204249,
          0.3695207611015694,
          0.4215839643251712,
          0.6912671477294434,
          0.36980585745942607,
          0.4876373630145141
         ],
         "y": [
          0.10208640587614667,
          0.5713674783483693,
          0.5688883944355635,
          0.38486464249166963,
          0.2584626440214962,
          0.4189828564203979,
          0.8810107378096415,
          0.8134608057991689,
          0.3408933635859146,
          0.3084125169233292,
          0.42830738249619055,
          0.514218846215363
         ]
        },
        {
         "hoverinfo": "none",
         "marker": {
          "color": "rgba(255, 255, 255, 0.0)",
          "line": {
           "color": "rgba(255, 255, 255, 0.0)",
           "width": 0
          },
          "size": 0,
          "symbol": "circle"
         },
         "mode": "markers",
         "type": "scatter",
         "x": [
          0.5,
          0,
          1,
          0.5
         ],
         "y": [
          0,
          0.5,
          0.5,
          1
         ]
        }
       ],
       "frames": [
        {
         "data": [
          {
           "hoverinfo": "none",
           "line": {
            "color": "rgba(255, 255, 255, 0.0)",
            "dash": "solid",
            "width": 1
           },
           "mode": "lines",
           "type": "scatter",
           "x": [
            0.9877875629911081,
            0.8253525168659742,
            null,
            0.8394839343415457,
            0.8522171385722057,
            null,
            0.8394839343415457,
            0.853751247625847,
            null
           ],
           "y": [
            0.10064997194128933,
            0.15515258554852496,
            null,
            0.1504110029604899,
            0.13825237953282507,
            null,
            0.1504110029604899,
            0.15351001266304967,
            null
           ]
          },
          {
           "hoverinfo": "none",
           "line": {
            "color": "rgba(255, 255, 255, 0.0)",
            "dash": "solid",
            "width": 1
           },
           "mode": "lines",
           "type": "scatter",
           "x": [
            0.6657518540015366,
            0.9746320637657699,
            null,
            0.9616591481177758,
            0.9510906525728116,
            null,
            0.9616591481177758,
            0.9474406442849851,
            null
           ],
           "y": [
            0.6819712177264294,
            0.4133666298311808,
            null,
            0.4246479762926102,
            0.44242885995765446,
            null,
            0.4246479762926102,
            0.4284220564697091,
            null
           ]
          },
          {
           "hoverinfo": "none",
           "line": {
            "color": "rgba(255, 255, 255, 0.0)",
            "dash": "solid",
            "width": 1
           },
           "mode": "lines",
           "type": "scatter",
           "x": [
            0.3130067468288521,
            0.3499668322226597,
            null,
            0.3458091923564756,
            0.3459015706469828,
            null,
            0.3458091923564756,
            0.3377729239203506,
            null
           ],
           "y": [
            0.6729646013520403,
            0.4496220702127133,
            null,
            0.47474587069600155,
            0.5009920473459931,
            null,
            0.47474587069600155,
            0.4965030607404037,
            null
           ]
          },
          {
           "hoverinfo": "none",
           "line": {
            "color": "rgba(255, 255, 255, 0.0)",
            "dash": "solid",
            "width": 1
           },
           "mode": "lines",
           "type": "scatter",
           "x": [
            0.3499668322226597,
            0.9926856014334526,
            null,
            0.9784862464521992,
            0.9655693764674027,
            null,
            0.9784862464521992,
            0.964272792565718,
            null
           ],
           "y": [
            0.4496220702127133,
            0.2682292564139206,
            null,
            0.2722367027147967,
            0.2837306548816061,
            null,
            0.2722367027147967,
            0.26839966990686415,
            null
           ]
          },
          {
           "hoverinfo": "none",
           "line": {
            "color": "rgba(255, 255, 255, 0.0)",
            "dash": "solid",
            "width": 1
           },
           "mode": "lines",
           "type": "scatter",
           "x": [
            0.5148042784508876,
            0.3846394161106561,
            null,
            0.39887357572086857,
            0.4130497913454055,
            null,
            0.39887357572086857,
            0.4118941842316794,
            null
           ],
           "y": [
            0.30079606984334584,
            0.2681343367755409,
            null,
            0.2717060558499104,
            0.2674339677160637,
            null,
            0.2717060558499104,
            0.28280253110505943,
            null
           ]
          },
          {
           "hoverinfo": "none",
           "line": {
            "color": "rgba(255, 255, 255, 0.0)",
            "dash": "solid",
            "width": 1
           },
           "mode": "lines",
           "type": "scatter",
           "x": [
            0.4317862843872923,
            0.864196207342952,
            null,
            0.8501331652952427,
            0.83756813173278,
            null,
            0.8501331652952427,
            0.8358283244251369,
            null
           ],
           "y": [
            0.47596416145351483,
            0.3106216182365953,
            null,
            0.3159989674001878,
            0.32872804950240503,
            null,
            0.3159989674001878,
            0.31354424103946854,
            null
           ]
          },
          {
           "hoverinfo": "none",
           "line": {
            "color": "rgba(255, 255, 255, 0.0)",
            "dash": "solid",
            "width": 1
           },
           "mode": "lines",
           "type": "scatter",
           "x": [
            0.04247953120902426,
            0.9088573793496606,
            null,
            0.8946617281034954,
            0.8804447671870989,
            null,
            0.8946617281034954,
            0.8817554417751662,
            null
           ],
           "y": [
            0.7314598768196983,
            0.9786971721994223,
            null,
            0.9746461747878565,
            0.9784396021768602,
            null,
            0.9746461747878565,
            0.9631126161096084,
            null
           ]
          },
          {
           "hoverinfo": "none",
           "line": {
            "color": "rgba(255, 255, 255, 0.0)",
            "dash": "solid",
            "width": 1
           },
           "mode": "lines",
           "type": "scatter",
           "x": [
            0.7134229855990559,
            0.02306618337905708,
            null,
            0.03737721103278929,
            0.051426193923551466,
            null,
            0.03737721103278929,
            0.05067192197101909,
            null
           ],
           "y": [
            0.8958337535500325,
            0.78337381735013,
            null,
            0.7857051006107835,
            0.7802064818269927,
            null,
            0.7857051006107835,
            0.7956580393253543,
            null
           ]
          },
          {
           "hoverinfo": "none",
           "line": {
            "color": "rgba(255, 255, 255, 0.0)",
            "dash": "solid",
            "width": 1
           },
           "mode": "lines",
           "type": "scatter",
           "x": [
            0.5090667309339035,
            0.35833691444281857,
            null,
            0.36605647712096834,
            0.3698501850197143,
            null,
            0.36605647712096834,
            0.3770123290352797,
            null
           ],
           "y": [
            0.13887939504069535,
            0.5711110886875235,
            null,
            0.5489745285279956,
            0.5236592748807892,
            null,
            0.5489745285279956,
            0.5319940548469596,
            null
           ]
          },
          {
           "hoverinfo": "none",
           "line": {
            "color": "rgba(255, 255, 255, 0.0)",
            "dash": "solid",
            "width": 1
           },
           "mode": "lines",
           "type": "scatter",
           "x": [
            0.864196207342952,
            0.5205252236641866,
            null,
            0.5348513623196516,
            0.5482144739508822,
            null,
            0.5348513623196516,
            0.5488608167000979,
            null
           ],
           "y": [
            0.3106216182365953,
            0.35854458361113184,
            null,
            0.35654688500013015,
            0.3469044742304788,
            null,
            0.35654688500013015,
            0.36237234701505056,
            null
           ]
          },
          {
           "hoverinfo": "none",
           "line": {
            "color": "rgba(255, 255, 255, 0.0)",
            "dash": "solid",
            "width": 1
           },
           "mode": "lines",
           "type": "scatter",
           "x": [
            0.4084734897119745,
            0.35833691444281857,
            null,
            0.3629728571963361,
            0.3633828613383074,
            null,
            0.3629728571963361,
            0.3714206236022302,
            null
           ],
           "y": [
            0.3024412939240082,
            0.5711110886875235,
            null,
            0.5462681914326484,
            0.5200321610598867,
            null,
            0.5462681914326484,
            0.5250375693190489,
            null
           ]
          },
          {
           "hoverinfo": "none",
           "line": {
            "color": "rgba(255, 255, 255, 0.0)",
            "dash": "solid",
            "width": 1
           },
           "mode": "lines",
           "type": "scatter",
           "x": [
            0.08197942538511671,
            0.9088573793496606,
            null,
            0.8967789040385449,
            0.8829404414832318,
            null,
            0.8967789040385449,
            0.8875393501984348,
            null
           ],
           "y": [
            0.005611287598566106,
            0.9786971721994223,
            null,
            0.9644829900744861,
            0.9574242032011742,
            null,
            0.9644829900744861,
            0.9443831232537412,
            null
           ]
          },
          {
           "hoverinfo": "none",
           "marker": {
            "color": "rgba(255, 255, 255, 0.0)",
            "line": {
             "color": "rgba(255, 255, 255, 0.0)",
             "width": 1
            },
            "size": 20,
            "symbol": "circle"
           },
           "mode": "markers+text",
           "text": [
            "('Atlanta Hawks',)"
           ],
           "textfont": {
            "color": "rgb(0, 0, 0)"
           },
           "textposition": "middle center",
           "type": "scatter",
           "x": [
            0.02306618337905708
           ],
           "y": [
            0.78337381735013
           ]
          },
          {
           "hoverinfo": "none",
           "marker": {
            "color": "rgba(255, 255, 255, 0.0)",
            "line": {
             "color": "rgba(255, 255, 255, 0.0)",
             "width": 1
            },
            "size": 20,
            "symbol": "circle"
           },
           "mode": "markers+text",
           "text": [
            "('Boston Celtics',)"
           ],
           "textfont": {
            "color": "rgb(0, 0, 0)"
           },
           "textposition": "middle center",
           "type": "scatter",
           "x": [
            0.9877875629911081
           ],
           "y": [
            0.10064997194128933
           ]
          },
          {
           "hoverinfo": "none",
           "marker": {
            "color": "rgba(255, 255, 255, 0.0)",
            "line": {
             "color": "rgba(255, 255, 255, 0.0)",
             "width": 1
            },
            "size": 20,
            "symbol": "circle"
           },
           "mode": "markers+text",
           "text": [
            "('Brooklyn Nets',)"
           ],
           "textfont": {
            "color": "rgb(0, 0, 0)"
           },
           "textposition": "middle center",
           "type": "scatter",
           "x": [
            0.6657518540015366
           ],
           "y": [
            0.6819712177264294
           ]
          },
          {
           "hoverinfo": "none",
           "marker": {
            "color": "rgba(255, 255, 255, 0.0)",
            "line": {
             "color": "rgba(255, 255, 255, 0.0)",
             "width": 1
            },
            "size": 20,
            "symbol": "circle"
           },
           "mode": "markers+text",
           "text": [
            "('Charlotte Hornets',)"
           ],
           "textfont": {
            "color": "rgb(0, 0, 0)"
           },
           "textposition": "middle center",
           "type": "scatter",
           "x": [
            0.9360112977782276
           ],
           "y": [
            0.303518405870677
           ]
          },
          {
           "hoverinfo": "none",
           "marker": {
            "color": "rgba(255, 255, 255, 0.0)",
            "line": {
             "color": "rgba(255, 255, 255, 0.0)",
             "width": 1
            },
            "size": 20,
            "symbol": "circle"
           },
           "mode": "markers+text",
           "text": [
            "('Chicago Bulls',)"
           ],
           "textfont": {
            "color": "rgb(0, 0, 0)"
           },
           "textposition": "middle center",
           "type": "scatter",
           "x": [
            0.3130067468288521
           ],
           "y": [
            0.6729646013520403
           ]
          },
          {
           "hoverinfo": "none",
           "marker": {
            "color": "rgba(255, 255, 255, 0.0)",
            "line": {
             "color": "rgba(255, 255, 255, 0.0)",
             "width": 1
            },
            "size": 20,
            "symbol": "circle"
           },
           "mode": "markers+text",
           "text": [
            "('Cleveland Cavaliers',)"
           ],
           "textfont": {
            "color": "rgb(0, 0, 0)"
           },
           "textposition": "middle center",
           "type": "scatter",
           "x": [
            0.3499668322226597
           ],
           "y": [
            0.4496220702127133
           ]
          },
          {
           "hoverinfo": "none",
           "marker": {
            "color": "rgba(255, 255, 255, 0.0)",
            "line": {
             "color": "rgba(255, 255, 255, 0.0)",
             "width": 1
            },
            "size": 20,
            "symbol": "circle"
           },
           "mode": "markers+text",
           "text": [
            "('Dallas Mavericks',)"
           ],
           "textfont": {
            "color": "rgb(0, 0, 0)"
           },
           "textposition": "middle center",
           "type": "scatter",
           "x": [
            0.5148042784508876
           ],
           "y": [
            0.30079606984334584
           ]
          },
          {
           "hoverinfo": "none",
           "marker": {
            "color": "rgba(255, 255, 255, 0.0)",
            "line": {
             "color": "rgba(255, 255, 255, 0.0)",
             "width": 1
            },
            "size": 20,
            "symbol": "circle"
           },
           "mode": "markers+text",
           "text": [
            "('Denver Nuggets',)"
           ],
           "textfont": {
            "color": "rgb(0, 0, 0)"
           },
           "textposition": "middle center",
           "type": "scatter",
           "x": [
            0.7330741940372147
           ],
           "y": [
            0.8273389887338318
           ]
          },
          {
           "hoverinfo": "none",
           "marker": {
            "color": "rgba(255, 255, 255, 0.0)",
            "line": {
             "color": "rgba(255, 255, 255, 0.0)",
             "width": 1
            },
            "size": 20,
            "symbol": "circle"
           },
           "mode": "markers+text",
           "text": [
            "('Detroit Pistons',)"
           ],
           "textfont": {
            "color": "rgb(0, 0, 0)"
           },
           "textposition": "middle center",
           "type": "scatter",
           "x": [
            0.4317862843872923
           ],
           "y": [
            0.47596416145351483
           ]
          },
          {
           "hoverinfo": "none",
           "marker": {
            "color": "rgba(255, 255, 255, 0.0)",
            "line": {
             "color": "rgba(255, 255, 255, 0.0)",
             "width": 1
            },
            "size": 20,
            "symbol": "circle"
           },
           "mode": "markers+text",
           "text": [
            "('Golden State Warriors',)"
           ],
           "textfont": {
            "color": "rgb(0, 0, 0)"
           },
           "textposition": "middle center",
           "type": "scatter",
           "x": [
            0.5811320993677
           ],
           "y": [
            0.9305262721546907
           ]
          },
          {
           "hoverinfo": "none",
           "marker": {
            "color": "rgba(255, 255, 255, 0.0)",
            "line": {
             "color": "rgba(255, 255, 255, 0.0)",
             "width": 1
            },
            "size": 20,
            "symbol": "circle"
           },
           "mode": "markers+text",
           "text": [
            "('Houston Rockets',)"
           ],
           "textfont": {
            "color": "rgb(0, 0, 0)"
           },
           "textposition": "middle center",
           "type": "scatter",
           "x": [
            0.9746320637657699
           ],
           "y": [
            0.4133666298311808
           ]
          },
          {
           "hoverinfo": "none",
           "marker": {
            "color": "rgba(255, 255, 255, 0.0)",
            "line": {
             "color": "rgba(255, 255, 255, 0.0)",
             "width": 1
            },
            "size": 20,
            "symbol": "circle"
           },
           "mode": "markers+text",
           "text": [
            "('Indiana Pacers',)"
           ],
           "textfont": {
            "color": "rgb(0, 0, 0)"
           },
           "textposition": "middle center",
           "type": "scatter",
           "x": [
            0.5515185142253216
           ],
           "y": [
            0.4037517772736835
           ]
          },
          {
           "hoverinfo": "none",
           "marker": {
            "color": "rgba(255, 255, 255, 0.0)",
            "line": {
             "color": "rgba(255, 255, 255, 0.0)",
             "width": 1
            },
            "size": 20,
            "symbol": "circle"
           },
           "mode": "markers+text",
           "text": [
            "('LA Clippers',)"
           ],
           "textfont": {
            "color": "rgb(0, 0, 0)"
           },
           "textposition": "middle center",
           "type": "scatter",
           "x": [
            0.6570115694483919
           ],
           "y": [
            0.8752912558437298
           ]
          },
          {
           "hoverinfo": "none",
           "marker": {
            "color": "rgba(255, 255, 255, 0.0)",
            "line": {
             "color": "rgba(255, 255, 255, 0.0)",
             "width": 1
            },
            "size": 20,
            "symbol": "circle"
           },
           "mode": "markers+text",
           "text": [
            "('Los Angeles Lakers',)"
           ],
           "textfont": {
            "color": "rgb(0, 0, 0)"
           },
           "textposition": "middle center",
           "type": "scatter",
           "x": [
            0.9088573793496606
           ],
           "y": [
            0.9786971721994223
           ]
          },
          {
           "hoverinfo": "none",
           "marker": {
            "color": "rgba(255, 255, 255, 0.0)",
            "line": {
             "color": "rgba(255, 255, 255, 0.0)",
             "width": 1
            },
            "size": 20,
            "symbol": "circle"
           },
           "mode": "markers+text",
           "text": [
            "('Memphis Grizzlies',)"
           ],
           "textfont": {
            "color": "rgb(0, 0, 0)"
           },
           "textposition": "middle center",
           "type": "scatter",
           "x": [
            0.04247953120902426
           ],
           "y": [
            0.7314598768196983
           ]
          },
          {
           "hoverinfo": "none",
           "marker": {
            "color": "rgba(255, 255, 255, 0.0)",
            "line": {
             "color": "rgba(255, 255, 255, 0.0)",
             "width": 1
            },
            "size": 20,
            "symbol": "circle"
           },
           "mode": "markers+text",
           "text": [
            "('Miami Heat',)"
           ],
           "textfont": {
            "color": "rgb(0, 0, 0)"
           },
           "textposition": "middle center",
           "type": "scatter",
           "x": [
            0.8253525168659742
           ],
           "y": [
            0.15515258554852496
           ]
          },
          {
           "hoverinfo": "none",
           "marker": {
            "color": "rgba(255, 255, 255, 0.0)",
            "line": {
             "color": "rgba(255, 255, 255, 0.0)",
             "width": 1
            },
            "size": 20,
            "symbol": "circle"
           },
           "mode": "markers+text",
           "text": [
            "('Milwaukee Bucks',)"
           ],
           "textfont": {
            "color": "rgb(0, 0, 0)"
           },
           "textposition": "middle center",
           "type": "scatter",
           "x": [
            0.7134229855990559
           ],
           "y": [
            0.8958337535500325
           ]
          },
          {
           "hoverinfo": "none",
           "marker": {
            "color": "rgba(255, 255, 255, 0.0)",
            "line": {
             "color": "rgba(255, 255, 255, 0.0)",
             "width": 1
            },
            "size": 20,
            "symbol": "circle"
           },
           "mode": "markers+text",
           "text": [
            "('Minnesota Timberwolves',)"
           ],
           "textfont": {
            "color": "rgb(0, 0, 0)"
           },
           "textposition": "middle center",
           "type": "scatter",
           "x": [
            0.008183698087374514
           ],
           "y": [
            0.10007021000132932
           ]
          },
          {
           "hoverinfo": "none",
           "marker": {
            "color": "rgba(255, 255, 255, 0.0)",
            "line": {
             "color": "rgba(255, 255, 255, 0.0)",
             "width": 1
            },
            "size": 20,
            "symbol": "circle"
           },
           "mode": "markers+text",
           "text": [
            "('New Orleans Pelicans',)"
           ],
           "textfont": {
            "color": "rgb(0, 0, 0)"
           },
           "textposition": "middle center",
           "type": "scatter",
           "x": [
            0.5090667309339035
           ],
           "y": [
            0.13887939504069535
           ]
          },
          {
           "hoverinfo": "none",
           "marker": {
            "color": "rgba(255, 255, 255, 0.0)",
            "line": {
             "color": "rgba(255, 255, 255, 0.0)",
             "width": 1
            },
            "size": 20,
            "symbol": "circle"
           },
           "mode": "markers+text",
           "text": [
            "('New York Knicks',)"
           ],
           "textfont": {
            "color": "rgb(0, 0, 0)"
           },
           "textposition": "middle center",
           "type": "scatter",
           "x": [
            0.864196207342952
           ],
           "y": [
            0.3106216182365953
           ]
          },
          {
           "hoverinfo": "none",
           "marker": {
            "color": "rgba(255, 255, 255, 0.0)",
            "line": {
             "color": "rgba(255, 255, 255, 0.0)",
             "width": 1
            },
            "size": 20,
            "symbol": "circle"
           },
           "mode": "markers+text",
           "text": [
            "('Oklahoma City Thunder',)"
           ],
           "textfont": {
            "color": "rgb(0, 0, 0)"
           },
           "textposition": "middle center",
           "type": "scatter",
           "x": [
            0.35833691444281857
           ],
           "y": [
            0.5711110886875235
           ]
          },
          {
           "hoverinfo": "none",
           "marker": {
            "color": "rgba(255, 255, 255, 0.0)",
            "line": {
             "color": "rgba(255, 255, 255, 0.0)",
             "width": 1
            },
            "size": 20,
            "symbol": "circle"
           },
           "mode": "markers+text",
           "text": [
            "('Orlando Magic',)"
           ],
           "textfont": {
            "color": "rgb(0, 0, 0)"
           },
           "textposition": "middle center",
           "type": "scatter",
           "x": [
            0.17526360328523305
           ],
           "y": [
            0.19546951598297113
           ]
          },
          {
           "hoverinfo": "none",
           "marker": {
            "color": "rgba(255, 255, 255, 0.0)",
            "line": {
             "color": "rgba(255, 255, 255, 0.0)",
             "width": 1
            },
            "size": 20,
            "symbol": "circle"
           },
           "mode": "markers+text",
           "text": [
            "('Philadelphia 76ers',)"
           ],
           "textfont": {
            "color": "rgb(0, 0, 0)"
           },
           "textposition": "middle center",
           "type": "scatter",
           "x": [
            0.4084734897119745
           ],
           "y": [
            0.3024412939240082
           ]
          },
          {
           "hoverinfo": "none",
           "marker": {
            "color": "rgba(255, 255, 255, 0.0)",
            "line": {
             "color": "rgba(255, 255, 255, 0.0)",
             "width": 1
            },
            "size": 20,
            "symbol": "circle"
           },
           "mode": "markers+text",
           "text": [
            "('Phoenix Suns',)"
           ],
           "textfont": {
            "color": "rgb(0, 0, 0)"
           },
           "textposition": "middle center",
           "type": "scatter",
           "x": [
            0.3846394161106561
           ],
           "y": [
            0.2681343367755409
           ]
          },
          {
           "hoverinfo": "none",
           "marker": {
            "color": "rgba(255, 255, 255, 0.0)",
            "line": {
             "color": "rgba(255, 255, 255, 0.0)",
             "width": 1
            },
            "size": 20,
            "symbol": "circle"
           },
           "mode": "markers+text",
           "text": [
            "('Portland Trail Blazers',)"
           ],
           "textfont": {
            "color": "rgb(0, 0, 0)"
           },
           "textposition": "middle center",
           "type": "scatter",
           "x": [
            0.5205252236641866
           ],
           "y": [
            0.35854458361113184
           ]
          },
          {
           "hoverinfo": "none",
           "marker": {
            "color": "rgba(255, 255, 255, 0.0)",
            "line": {
             "color": "rgba(255, 255, 255, 0.0)",
             "width": 1
            },
            "size": 20,
            "symbol": "circle"
           },
           "mode": "markers+text",
           "text": [
            "('Sacramento Kings',)"
           ],
           "textfont": {
            "color": "rgb(0, 0, 0)"
           },
           "textposition": "middle center",
           "type": "scatter",
           "x": [
            0.42840018223088105
           ],
           "y": [
            0.1901977870068059
           ]
          },
          {
           "hoverinfo": "none",
           "marker": {
            "color": "rgba(255, 255, 255, 0.0)",
            "line": {
             "color": "rgba(255, 255, 255, 0.0)",
             "width": 1
            },
            "size": 20,
            "symbol": "circle"
           },
           "mode": "markers+text",
           "text": [
            "('San Antonio Spurs',)"
           ],
           "textfont": {
            "color": "rgb(0, 0, 0)"
           },
           "textposition": "middle center",
           "type": "scatter",
           "x": [
            0.009859986609690008
           ],
           "y": [
            0.9822939322824391
           ]
          },
          {
           "hoverinfo": "none",
           "marker": {
            "color": "rgba(255, 255, 255, 0.0)",
            "line": {
             "color": "rgba(255, 255, 255, 0.0)",
             "width": 1
            },
            "size": 20,
            "symbol": "circle"
           },
           "mode": "markers+text",
           "text": [
            "('Toronto Raptors',)"
           ],
           "textfont": {
            "color": "rgb(0, 0, 0)"
           },
           "textposition": "middle center",
           "type": "scatter",
           "x": [
            0.9926856014334526
           ],
           "y": [
            0.2682292564139206
           ]
          },
          {
           "hoverinfo": "none",
           "marker": {
            "color": "rgba(255, 255, 255, 0.0)",
            "line": {
             "color": "rgba(255, 255, 255, 0.0)",
             "width": 1
            },
            "size": 20,
            "symbol": "circle"
           },
           "mode": "markers+text",
           "text": [
            "('Utah Jazz',)"
           ],
           "textfont": {
            "color": "rgb(0, 0, 0)"
           },
           "textposition": "middle center",
           "type": "scatter",
           "x": [
            0.2172710196978057
           ],
           "y": [
            0.78994857462467
           ]
          },
          {
           "hoverinfo": "none",
           "marker": {
            "color": "rgba(255, 255, 255, 0.0)",
            "line": {
             "color": "rgba(255, 255, 255, 0.0)",
             "width": 1
            },
            "size": 20,
            "symbol": "circle"
           },
           "mode": "markers+text",
           "text": [
            "('Washington Wizards',)"
           ],
           "textfont": {
            "color": "rgb(0, 0, 0)"
           },
           "textposition": "middle center",
           "type": "scatter",
           "x": [
            0.08197942538511671
           ],
           "y": [
            0.005611287598566106
           ]
          },
          {
           "hoverinfo": "none",
           "mode": "text",
           "text": [
            null,
            null,
            null,
            null,
            null,
            null,
            null,
            null,
            null,
            null,
            null,
            null
           ],
           "textfont": {
            "color": "rgb(0, 0, 0)"
           },
           "textposition": "middle center",
           "type": "scatter",
           "x": [
            0.9039744322187117,
            0.8263675235414185,
            0.34523990444548697,
            0.6735199482082771,
            0.4516770555671724,
            0.650934880967606,
            0.4734508834204249,
            0.3695207611015694,
            0.4215839643251712,
            0.6912671477294434,
            0.36980585745942607,
            0.4876373630145141
           ],
           "y": [
            0.10208640587614667,
            0.5713674783483693,
            0.5688883944355635,
            0.38486464249166963,
            0.2584626440214962,
            0.4189828564203979,
            0.8810107378096415,
            0.8134608057991689,
            0.3408933635859146,
            0.3084125169233292,
            0.42830738249619055,
            0.514218846215363
           ]
          },
          {
           "hoverinfo": "none",
           "marker": {
            "color": "rgba(255, 255, 255, 0.0)",
            "line": {
             "color": "rgba(255, 255, 255, 0.0)",
             "width": 0
            },
            "size": 0,
            "symbol": "circle"
           },
           "mode": "markers",
           "type": "scatter",
           "x": [
            0.5,
            0,
            1,
            0.5
           ],
           "y": [
            0,
            0.5,
            0.5,
            1
           ]
          }
         ],
         "name": "0"
        },
        {
         "data": [
          {
           "hoverinfo": "none",
           "line": {
            "color": "rgb(0, 0, 0)",
            "dash": "solid",
            "width": 1
           },
           "mode": "lines",
           "type": "scatter",
           "x": [
            0.9877875629911081,
            0.8253525168659742,
            null,
            0.8394839343415457,
            0.8522171385722057,
            null,
            0.8394839343415457,
            0.853751247625847,
            null
           ],
           "y": [
            0.10064997194128933,
            0.15515258554852496,
            null,
            0.1504110029604899,
            0.13825237953282507,
            null,
            0.1504110029604899,
            0.15351001266304967,
            null
           ]
          },
          {
           "hoverinfo": "none",
           "line": {
            "color": "rgb(0, 0, 0)",
            "dash": "solid",
            "width": 1
           },
           "mode": "lines",
           "type": "scatter",
           "x": [
            0.6657518540015366,
            0.9746320637657699,
            null,
            0.9616591481177758,
            0.9510906525728116,
            null,
            0.9616591481177758,
            0.9474406442849851,
            null
           ],
           "y": [
            0.6819712177264294,
            0.4133666298311808,
            null,
            0.4246479762926102,
            0.44242885995765446,
            null,
            0.4246479762926102,
            0.4284220564697091,
            null
           ]
          },
          {
           "hoverinfo": "none",
           "line": {
            "color": "rgb(0, 0, 0)",
            "dash": "solid",
            "width": 1
           },
           "mode": "lines",
           "type": "scatter",
           "x": [
            0.3130067468288521,
            0.3499668322226597,
            null,
            0.3458091923564756,
            0.3459015706469828,
            null,
            0.3458091923564756,
            0.3377729239203506,
            null
           ],
           "y": [
            0.6729646013520403,
            0.4496220702127133,
            null,
            0.47474587069600155,
            0.5009920473459931,
            null,
            0.47474587069600155,
            0.4965030607404037,
            null
           ]
          },
          {
           "hoverinfo": "none",
           "line": {
            "color": "rgb(0, 0, 0)",
            "dash": "solid",
            "width": 1
           },
           "mode": "lines",
           "type": "scatter",
           "x": [
            0.3499668322226597,
            0.9926856014334526,
            null,
            0.9784862464521992,
            0.9655693764674027,
            null,
            0.9784862464521992,
            0.964272792565718,
            null
           ],
           "y": [
            0.4496220702127133,
            0.2682292564139206,
            null,
            0.2722367027147967,
            0.2837306548816061,
            null,
            0.2722367027147967,
            0.26839966990686415,
            null
           ]
          },
          {
           "hoverinfo": "none",
           "line": {
            "color": "rgb(0, 0, 0)",
            "dash": "solid",
            "width": 1
           },
           "mode": "lines",
           "type": "scatter",
           "x": [
            0.5148042784508876,
            0.3846394161106561,
            null,
            0.39887357572086857,
            0.4130497913454055,
            null,
            0.39887357572086857,
            0.4118941842316794,
            null
           ],
           "y": [
            0.30079606984334584,
            0.2681343367755409,
            null,
            0.2717060558499104,
            0.2674339677160637,
            null,
            0.2717060558499104,
            0.28280253110505943,
            null
           ]
          },
          {
           "hoverinfo": "none",
           "line": {
            "color": "rgb(0, 0, 0)",
            "dash": "solid",
            "width": 1
           },
           "mode": "lines",
           "type": "scatter",
           "x": [
            0.4317862843872923,
            0.864196207342952,
            null,
            0.8501331652952427,
            0.83756813173278,
            null,
            0.8501331652952427,
            0.8358283244251369,
            null
           ],
           "y": [
            0.47596416145351483,
            0.3106216182365953,
            null,
            0.3159989674001878,
            0.32872804950240503,
            null,
            0.3159989674001878,
            0.31354424103946854,
            null
           ]
          },
          {
           "hoverinfo": "none",
           "line": {
            "color": "rgb(0, 0, 0)",
            "dash": "solid",
            "width": 1
           },
           "mode": "lines",
           "type": "scatter",
           "x": [
            0.04247953120902426,
            0.9088573793496606,
            null,
            0.8946617281034954,
            0.8804447671870989,
            null,
            0.8946617281034954,
            0.8817554417751662,
            null
           ],
           "y": [
            0.7314598768196983,
            0.9786971721994223,
            null,
            0.9746461747878565,
            0.9784396021768602,
            null,
            0.9746461747878565,
            0.9631126161096084,
            null
           ]
          },
          {
           "hoverinfo": "none",
           "line": {
            "color": "rgb(0, 0, 0)",
            "dash": "solid",
            "width": 1
           },
           "mode": "lines",
           "type": "scatter",
           "x": [
            0.7134229855990559,
            0.02306618337905708,
            null,
            0.03737721103278929,
            0.051426193923551466,
            null,
            0.03737721103278929,
            0.05067192197101909,
            null
           ],
           "y": [
            0.8958337535500325,
            0.78337381735013,
            null,
            0.7857051006107835,
            0.7802064818269927,
            null,
            0.7857051006107835,
            0.7956580393253543,
            null
           ]
          },
          {
           "hoverinfo": "none",
           "line": {
            "color": "rgb(0, 0, 0)",
            "dash": "solid",
            "width": 1
           },
           "mode": "lines",
           "type": "scatter",
           "x": [
            0.5090667309339035,
            0.35833691444281857,
            null,
            0.36605647712096834,
            0.3698501850197143,
            null,
            0.36605647712096834,
            0.3770123290352797,
            null
           ],
           "y": [
            0.13887939504069535,
            0.5711110886875235,
            null,
            0.5489745285279956,
            0.5236592748807892,
            null,
            0.5489745285279956,
            0.5319940548469596,
            null
           ]
          },
          {
           "hoverinfo": "none",
           "line": {
            "color": "rgb(0, 0, 0)",
            "dash": "solid",
            "width": 1
           },
           "mode": "lines",
           "type": "scatter",
           "x": [
            0.864196207342952,
            0.5205252236641866,
            null,
            0.5348513623196516,
            0.5482144739508822,
            null,
            0.5348513623196516,
            0.5488608167000979,
            null
           ],
           "y": [
            0.3106216182365953,
            0.35854458361113184,
            null,
            0.35654688500013015,
            0.3469044742304788,
            null,
            0.35654688500013015,
            0.36237234701505056,
            null
           ]
          },
          {
           "hoverinfo": "none",
           "line": {
            "color": "rgb(0, 0, 0)",
            "dash": "solid",
            "width": 1
           },
           "mode": "lines",
           "type": "scatter",
           "x": [
            0.4084734897119745,
            0.35833691444281857,
            null,
            0.3629728571963361,
            0.3633828613383074,
            null,
            0.3629728571963361,
            0.3714206236022302,
            null
           ],
           "y": [
            0.3024412939240082,
            0.5711110886875235,
            null,
            0.5462681914326484,
            0.5200321610598867,
            null,
            0.5462681914326484,
            0.5250375693190489,
            null
           ]
          },
          {
           "hoverinfo": "none",
           "line": {
            "color": "rgb(0, 0, 0)",
            "dash": "solid",
            "width": 1
           },
           "mode": "lines",
           "type": "scatter",
           "x": [
            0.08197942538511671,
            0.9088573793496606,
            null,
            0.8967789040385449,
            0.8829404414832318,
            null,
            0.8967789040385449,
            0.8875393501984348,
            null
           ],
           "y": [
            0.005611287598566106,
            0.9786971721994223,
            null,
            0.9644829900744861,
            0.9574242032011742,
            null,
            0.9644829900744861,
            0.9443831232537412,
            null
           ]
          },
          {
           "hoverinfo": "none",
           "marker": {
            "color": "rgb(255, 0, 0)",
            "line": {
             "color": "rgb(0, 0, 0)",
             "width": 1
            },
            "size": 20,
            "symbol": "circle"
           },
           "mode": "markers+text",
           "text": [
            "('Atlanta Hawks',)"
           ],
           "textfont": {
            "color": "rgb(0, 0, 0)"
           },
           "textposition": "middle center",
           "type": "scatter",
           "x": [
            0.02306618337905708
           ],
           "y": [
            0.78337381735013
           ]
          },
          {
           "hoverinfo": "none",
           "marker": {
            "color": "rgb(255, 0, 0)",
            "line": {
             "color": "rgb(0, 0, 0)",
             "width": 1
            },
            "size": 20,
            "symbol": "circle"
           },
           "mode": "markers+text",
           "text": [
            "('Boston Celtics',)"
           ],
           "textfont": {
            "color": "rgb(0, 0, 0)"
           },
           "textposition": "middle center",
           "type": "scatter",
           "x": [
            0.9877875629911081
           ],
           "y": [
            0.10064997194128933
           ]
          },
          {
           "hoverinfo": "none",
           "marker": {
            "color": "rgb(255, 0, 0)",
            "line": {
             "color": "rgb(0, 0, 0)",
             "width": 1
            },
            "size": 20,
            "symbol": "circle"
           },
           "mode": "markers+text",
           "text": [
            "('Brooklyn Nets',)"
           ],
           "textfont": {
            "color": "rgb(0, 0, 0)"
           },
           "textposition": "middle center",
           "type": "scatter",
           "x": [
            0.6657518540015366
           ],
           "y": [
            0.6819712177264294
           ]
          },
          {
           "hoverinfo": "none",
           "marker": {
            "color": "rgb(255, 0, 0)",
            "line": {
             "color": "rgb(0, 0, 0)",
             "width": 1
            },
            "size": 20,
            "symbol": "circle"
           },
           "mode": "markers+text",
           "text": [
            "('Charlotte Hornets',)"
           ],
           "textfont": {
            "color": "rgb(0, 0, 0)"
           },
           "textposition": "middle center",
           "type": "scatter",
           "x": [
            0.9360112977782276
           ],
           "y": [
            0.303518405870677
           ]
          },
          {
           "hoverinfo": "none",
           "marker": {
            "color": "rgb(255, 0, 0)",
            "line": {
             "color": "rgb(0, 0, 0)",
             "width": 1
            },
            "size": 20,
            "symbol": "circle"
           },
           "mode": "markers+text",
           "text": [
            "('Chicago Bulls',)"
           ],
           "textfont": {
            "color": "rgb(0, 0, 0)"
           },
           "textposition": "middle center",
           "type": "scatter",
           "x": [
            0.3130067468288521
           ],
           "y": [
            0.6729646013520403
           ]
          },
          {
           "hoverinfo": "none",
           "marker": {
            "color": "rgb(255, 0, 0)",
            "line": {
             "color": "rgb(0, 0, 0)",
             "width": 1
            },
            "size": 20,
            "symbol": "circle"
           },
           "mode": "markers+text",
           "text": [
            "('Cleveland Cavaliers',)"
           ],
           "textfont": {
            "color": "rgb(0, 0, 0)"
           },
           "textposition": "middle center",
           "type": "scatter",
           "x": [
            0.3499668322226597
           ],
           "y": [
            0.4496220702127133
           ]
          },
          {
           "hoverinfo": "none",
           "marker": {
            "color": "rgb(255, 0, 0)",
            "line": {
             "color": "rgb(0, 0, 0)",
             "width": 1
            },
            "size": 20,
            "symbol": "circle"
           },
           "mode": "markers+text",
           "text": [
            "('Dallas Mavericks',)"
           ],
           "textfont": {
            "color": "rgb(0, 0, 0)"
           },
           "textposition": "middle center",
           "type": "scatter",
           "x": [
            0.5148042784508876
           ],
           "y": [
            0.30079606984334584
           ]
          },
          {
           "hoverinfo": "none",
           "marker": {
            "color": "rgb(255, 0, 0)",
            "line": {
             "color": "rgb(0, 0, 0)",
             "width": 1
            },
            "size": 20,
            "symbol": "circle"
           },
           "mode": "markers+text",
           "text": [
            "('Denver Nuggets',)"
           ],
           "textfont": {
            "color": "rgb(0, 0, 0)"
           },
           "textposition": "middle center",
           "type": "scatter",
           "x": [
            0.7330741940372147
           ],
           "y": [
            0.8273389887338318
           ]
          },
          {
           "hoverinfo": "none",
           "marker": {
            "color": "rgb(255, 0, 0)",
            "line": {
             "color": "rgb(0, 0, 0)",
             "width": 1
            },
            "size": 20,
            "symbol": "circle"
           },
           "mode": "markers+text",
           "text": [
            "('Detroit Pistons',)"
           ],
           "textfont": {
            "color": "rgb(0, 0, 0)"
           },
           "textposition": "middle center",
           "type": "scatter",
           "x": [
            0.4317862843872923
           ],
           "y": [
            0.47596416145351483
           ]
          },
          {
           "hoverinfo": "none",
           "marker": {
            "color": "rgb(255, 0, 0)",
            "line": {
             "color": "rgb(0, 0, 0)",
             "width": 1
            },
            "size": 20,
            "symbol": "circle"
           },
           "mode": "markers+text",
           "text": [
            "('Golden State Warriors',)"
           ],
           "textfont": {
            "color": "rgb(0, 0, 0)"
           },
           "textposition": "middle center",
           "type": "scatter",
           "x": [
            0.5811320993677
           ],
           "y": [
            0.9305262721546907
           ]
          },
          {
           "hoverinfo": "none",
           "marker": {
            "color": "rgb(255, 0, 0)",
            "line": {
             "color": "rgb(0, 0, 0)",
             "width": 1
            },
            "size": 20,
            "symbol": "circle"
           },
           "mode": "markers+text",
           "text": [
            "('Houston Rockets',)"
           ],
           "textfont": {
            "color": "rgb(0, 0, 0)"
           },
           "textposition": "middle center",
           "type": "scatter",
           "x": [
            0.9746320637657699
           ],
           "y": [
            0.4133666298311808
           ]
          },
          {
           "hoverinfo": "none",
           "marker": {
            "color": "rgb(255, 0, 0)",
            "line": {
             "color": "rgb(0, 0, 0)",
             "width": 1
            },
            "size": 20,
            "symbol": "circle"
           },
           "mode": "markers+text",
           "text": [
            "('Indiana Pacers',)"
           ],
           "textfont": {
            "color": "rgb(0, 0, 0)"
           },
           "textposition": "middle center",
           "type": "scatter",
           "x": [
            0.5515185142253216
           ],
           "y": [
            0.4037517772736835
           ]
          },
          {
           "hoverinfo": "none",
           "marker": {
            "color": "rgb(255, 0, 0)",
            "line": {
             "color": "rgb(0, 0, 0)",
             "width": 1
            },
            "size": 20,
            "symbol": "circle"
           },
           "mode": "markers+text",
           "text": [
            "('LA Clippers',)"
           ],
           "textfont": {
            "color": "rgb(0, 0, 0)"
           },
           "textposition": "middle center",
           "type": "scatter",
           "x": [
            0.6570115694483919
           ],
           "y": [
            0.8752912558437298
           ]
          },
          {
           "hoverinfo": "none",
           "marker": {
            "color": "rgb(255, 0, 0)",
            "line": {
             "color": "rgb(0, 0, 0)",
             "width": 1
            },
            "size": 20,
            "symbol": "circle"
           },
           "mode": "markers+text",
           "text": [
            "('Los Angeles Lakers',)"
           ],
           "textfont": {
            "color": "rgb(0, 0, 0)"
           },
           "textposition": "middle center",
           "type": "scatter",
           "x": [
            0.9088573793496606
           ],
           "y": [
            0.9786971721994223
           ]
          },
          {
           "hoverinfo": "none",
           "marker": {
            "color": "rgb(255, 0, 0)",
            "line": {
             "color": "rgb(0, 0, 0)",
             "width": 1
            },
            "size": 20,
            "symbol": "circle"
           },
           "mode": "markers+text",
           "text": [
            "('Memphis Grizzlies',)"
           ],
           "textfont": {
            "color": "rgb(0, 0, 0)"
           },
           "textposition": "middle center",
           "type": "scatter",
           "x": [
            0.04247953120902426
           ],
           "y": [
            0.7314598768196983
           ]
          },
          {
           "hoverinfo": "none",
           "marker": {
            "color": "rgb(255, 0, 0)",
            "line": {
             "color": "rgb(0, 0, 0)",
             "width": 1
            },
            "size": 20,
            "symbol": "circle"
           },
           "mode": "markers+text",
           "text": [
            "('Miami Heat',)"
           ],
           "textfont": {
            "color": "rgb(0, 0, 0)"
           },
           "textposition": "middle center",
           "type": "scatter",
           "x": [
            0.8253525168659742
           ],
           "y": [
            0.15515258554852496
           ]
          },
          {
           "hoverinfo": "none",
           "marker": {
            "color": "rgb(255, 0, 0)",
            "line": {
             "color": "rgb(0, 0, 0)",
             "width": 1
            },
            "size": 20,
            "symbol": "circle"
           },
           "mode": "markers+text",
           "text": [
            "('Milwaukee Bucks',)"
           ],
           "textfont": {
            "color": "rgb(0, 0, 0)"
           },
           "textposition": "middle center",
           "type": "scatter",
           "x": [
            0.7134229855990559
           ],
           "y": [
            0.8958337535500325
           ]
          },
          {
           "hoverinfo": "none",
           "marker": {
            "color": "rgb(255, 0, 0)",
            "line": {
             "color": "rgb(0, 0, 0)",
             "width": 1
            },
            "size": 20,
            "symbol": "circle"
           },
           "mode": "markers+text",
           "text": [
            "('Minnesota Timberwolves',)"
           ],
           "textfont": {
            "color": "rgb(0, 0, 0)"
           },
           "textposition": "middle center",
           "type": "scatter",
           "x": [
            0.008183698087374514
           ],
           "y": [
            0.10007021000132932
           ]
          },
          {
           "hoverinfo": "none",
           "marker": {
            "color": "rgb(255, 0, 0)",
            "line": {
             "color": "rgb(0, 0, 0)",
             "width": 1
            },
            "size": 20,
            "symbol": "circle"
           },
           "mode": "markers+text",
           "text": [
            "('New Orleans Pelicans',)"
           ],
           "textfont": {
            "color": "rgb(0, 0, 0)"
           },
           "textposition": "middle center",
           "type": "scatter",
           "x": [
            0.5090667309339035
           ],
           "y": [
            0.13887939504069535
           ]
          },
          {
           "hoverinfo": "none",
           "marker": {
            "color": "rgb(255, 0, 0)",
            "line": {
             "color": "rgb(0, 0, 0)",
             "width": 1
            },
            "size": 20,
            "symbol": "circle"
           },
           "mode": "markers+text",
           "text": [
            "('New York Knicks',)"
           ],
           "textfont": {
            "color": "rgb(0, 0, 0)"
           },
           "textposition": "middle center",
           "type": "scatter",
           "x": [
            0.864196207342952
           ],
           "y": [
            0.3106216182365953
           ]
          },
          {
           "hoverinfo": "none",
           "marker": {
            "color": "rgb(255, 0, 0)",
            "line": {
             "color": "rgb(0, 0, 0)",
             "width": 1
            },
            "size": 20,
            "symbol": "circle"
           },
           "mode": "markers+text",
           "text": [
            "('Oklahoma City Thunder',)"
           ],
           "textfont": {
            "color": "rgb(0, 0, 0)"
           },
           "textposition": "middle center",
           "type": "scatter",
           "x": [
            0.35833691444281857
           ],
           "y": [
            0.5711110886875235
           ]
          },
          {
           "hoverinfo": "none",
           "marker": {
            "color": "rgb(255, 0, 0)",
            "line": {
             "color": "rgb(0, 0, 0)",
             "width": 1
            },
            "size": 20,
            "symbol": "circle"
           },
           "mode": "markers+text",
           "text": [
            "('Orlando Magic',)"
           ],
           "textfont": {
            "color": "rgb(0, 0, 0)"
           },
           "textposition": "middle center",
           "type": "scatter",
           "x": [
            0.17526360328523305
           ],
           "y": [
            0.19546951598297113
           ]
          },
          {
           "hoverinfo": "none",
           "marker": {
            "color": "rgb(255, 0, 0)",
            "line": {
             "color": "rgb(0, 0, 0)",
             "width": 1
            },
            "size": 20,
            "symbol": "circle"
           },
           "mode": "markers+text",
           "text": [
            "('Philadelphia 76ers',)"
           ],
           "textfont": {
            "color": "rgb(0, 0, 0)"
           },
           "textposition": "middle center",
           "type": "scatter",
           "x": [
            0.4084734897119745
           ],
           "y": [
            0.3024412939240082
           ]
          },
          {
           "hoverinfo": "none",
           "marker": {
            "color": "rgb(255, 0, 0)",
            "line": {
             "color": "rgb(0, 0, 0)",
             "width": 1
            },
            "size": 20,
            "symbol": "circle"
           },
           "mode": "markers+text",
           "text": [
            "('Phoenix Suns',)"
           ],
           "textfont": {
            "color": "rgb(0, 0, 0)"
           },
           "textposition": "middle center",
           "type": "scatter",
           "x": [
            0.3846394161106561
           ],
           "y": [
            0.2681343367755409
           ]
          },
          {
           "hoverinfo": "none",
           "marker": {
            "color": "rgb(255, 0, 0)",
            "line": {
             "color": "rgb(0, 0, 0)",
             "width": 1
            },
            "size": 20,
            "symbol": "circle"
           },
           "mode": "markers+text",
           "text": [
            "('Portland Trail Blazers',)"
           ],
           "textfont": {
            "color": "rgb(0, 0, 0)"
           },
           "textposition": "middle center",
           "type": "scatter",
           "x": [
            0.5205252236641866
           ],
           "y": [
            0.35854458361113184
           ]
          },
          {
           "hoverinfo": "none",
           "marker": {
            "color": "rgb(255, 0, 0)",
            "line": {
             "color": "rgb(0, 0, 0)",
             "width": 1
            },
            "size": 20,
            "symbol": "circle"
           },
           "mode": "markers+text",
           "text": [
            "('Sacramento Kings',)"
           ],
           "textfont": {
            "color": "rgb(0, 0, 0)"
           },
           "textposition": "middle center",
           "type": "scatter",
           "x": [
            0.42840018223088105
           ],
           "y": [
            0.1901977870068059
           ]
          },
          {
           "hoverinfo": "none",
           "marker": {
            "color": "rgb(255, 0, 0)",
            "line": {
             "color": "rgb(0, 0, 0)",
             "width": 1
            },
            "size": 20,
            "symbol": "circle"
           },
           "mode": "markers+text",
           "text": [
            "('San Antonio Spurs',)"
           ],
           "textfont": {
            "color": "rgb(0, 0, 0)"
           },
           "textposition": "middle center",
           "type": "scatter",
           "x": [
            0.009859986609690008
           ],
           "y": [
            0.9822939322824391
           ]
          },
          {
           "hoverinfo": "none",
           "marker": {
            "color": "rgb(255, 0, 0)",
            "line": {
             "color": "rgb(0, 0, 0)",
             "width": 1
            },
            "size": 20,
            "symbol": "circle"
           },
           "mode": "markers+text",
           "text": [
            "('Toronto Raptors',)"
           ],
           "textfont": {
            "color": "rgb(0, 0, 0)"
           },
           "textposition": "middle center",
           "type": "scatter",
           "x": [
            0.9926856014334526
           ],
           "y": [
            0.2682292564139206
           ]
          },
          {
           "hoverinfo": "none",
           "marker": {
            "color": "rgb(255, 0, 0)",
            "line": {
             "color": "rgb(0, 0, 0)",
             "width": 1
            },
            "size": 20,
            "symbol": "circle"
           },
           "mode": "markers+text",
           "text": [
            "('Utah Jazz',)"
           ],
           "textfont": {
            "color": "rgb(0, 0, 0)"
           },
           "textposition": "middle center",
           "type": "scatter",
           "x": [
            0.2172710196978057
           ],
           "y": [
            0.78994857462467
           ]
          },
          {
           "hoverinfo": "none",
           "marker": {
            "color": "rgb(255, 0, 0)",
            "line": {
             "color": "rgb(0, 0, 0)",
             "width": 1
            },
            "size": 20,
            "symbol": "circle"
           },
           "mode": "markers+text",
           "text": [
            "('Washington Wizards',)"
           ],
           "textfont": {
            "color": "rgb(0, 0, 0)"
           },
           "textposition": "middle center",
           "type": "scatter",
           "x": [
            0.08197942538511671
           ],
           "y": [
            0.005611287598566106
           ]
          },
          {
           "hoverinfo": "none",
           "mode": "text",
           "text": [
            null,
            null,
            null,
            null,
            null,
            null,
            null,
            null,
            null,
            null,
            null,
            null
           ],
           "textfont": {
            "color": "rgb(0, 0, 0)"
           },
           "textposition": "middle center",
           "type": "scatter",
           "x": [
            0.9039744322187117,
            0.8263675235414185,
            0.34523990444548697,
            0.6735199482082771,
            0.4516770555671724,
            0.650934880967606,
            0.4734508834204249,
            0.3695207611015694,
            0.4215839643251712,
            0.6912671477294434,
            0.36980585745942607,
            0.4876373630145141
           ],
           "y": [
            0.10208640587614667,
            0.5713674783483693,
            0.5688883944355635,
            0.38486464249166963,
            0.2584626440214962,
            0.4189828564203979,
            0.8810107378096415,
            0.8134608057991689,
            0.3408933635859146,
            0.3084125169233292,
            0.42830738249619055,
            0.514218846215363
           ]
          },
          {
           "hoverinfo": "none",
           "marker": {
            "color": "rgba(255, 255, 255, 0.0)",
            "line": {
             "color": "rgba(255, 255, 255, 0.0)",
             "width": 0
            },
            "size": 0,
            "symbol": "circle"
           },
           "mode": "markers",
           "type": "scatter",
           "x": [
            0.5,
            0,
            1,
            0.5
           ],
           "y": [
            0,
            0.5,
            0.5,
            1
           ]
          }
         ],
         "name": "1"
        }
       ],
       "layout": {
        "height": 526,
        "margin": {
         "b": 0,
         "l": 0,
         "r": 0,
         "t": 0
        },
        "showlegend": false,
        "sliders": [
         {
          "currentvalue": {
           "visible": false
          },
          "steps": [
           {
            "args": [
             [
              0
             ],
             {
              "frame": {
               "redraw": false
              },
              "mode": "immediate"
             }
            ],
            "label": "",
            "method": "animate"
           },
           {
            "args": [
             [
              1
             ],
             {
              "frame": {
               "redraw": false
              },
              "mode": "immediate"
             }
            ],
            "label": "",
            "method": "animate"
           }
          ]
         }
        ],
        "template": {
         "data": {
          "bar": [
           {
            "error_x": {
             "color": "#2a3f5f"
            },
            "error_y": {
             "color": "#2a3f5f"
            },
            "marker": {
             "line": {
              "color": "#E5ECF6",
              "width": 0.5
             }
            },
            "type": "bar"
           }
          ],
          "barpolar": [
           {
            "marker": {
             "line": {
              "color": "#E5ECF6",
              "width": 0.5
             }
            },
            "type": "barpolar"
           }
          ],
          "carpet": [
           {
            "aaxis": {
             "endlinecolor": "#2a3f5f",
             "gridcolor": "white",
             "linecolor": "white",
             "minorgridcolor": "white",
             "startlinecolor": "#2a3f5f"
            },
            "baxis": {
             "endlinecolor": "#2a3f5f",
             "gridcolor": "white",
             "linecolor": "white",
             "minorgridcolor": "white",
             "startlinecolor": "#2a3f5f"
            },
            "type": "carpet"
           }
          ],
          "choropleth": [
           {
            "colorbar": {
             "outlinewidth": 0,
             "ticks": ""
            },
            "type": "choropleth"
           }
          ],
          "contour": [
           {
            "colorbar": {
             "outlinewidth": 0,
             "ticks": ""
            },
            "colorscale": [
             [
              0,
              "#0d0887"
             ],
             [
              0.1111111111111111,
              "#46039f"
             ],
             [
              0.2222222222222222,
              "#7201a8"
             ],
             [
              0.3333333333333333,
              "#9c179e"
             ],
             [
              0.4444444444444444,
              "#bd3786"
             ],
             [
              0.5555555555555556,
              "#d8576b"
             ],
             [
              0.6666666666666666,
              "#ed7953"
             ],
             [
              0.7777777777777778,
              "#fb9f3a"
             ],
             [
              0.8888888888888888,
              "#fdca26"
             ],
             [
              1,
              "#f0f921"
             ]
            ],
            "type": "contour"
           }
          ],
          "contourcarpet": [
           {
            "colorbar": {
             "outlinewidth": 0,
             "ticks": ""
            },
            "type": "contourcarpet"
           }
          ],
          "heatmap": [
           {
            "colorbar": {
             "outlinewidth": 0,
             "ticks": ""
            },
            "colorscale": [
             [
              0,
              "#0d0887"
             ],
             [
              0.1111111111111111,
              "#46039f"
             ],
             [
              0.2222222222222222,
              "#7201a8"
             ],
             [
              0.3333333333333333,
              "#9c179e"
             ],
             [
              0.4444444444444444,
              "#bd3786"
             ],
             [
              0.5555555555555556,
              "#d8576b"
             ],
             [
              0.6666666666666666,
              "#ed7953"
             ],
             [
              0.7777777777777778,
              "#fb9f3a"
             ],
             [
              0.8888888888888888,
              "#fdca26"
             ],
             [
              1,
              "#f0f921"
             ]
            ],
            "type": "heatmap"
           }
          ],
          "heatmapgl": [
           {
            "colorbar": {
             "outlinewidth": 0,
             "ticks": ""
            },
            "colorscale": [
             [
              0,
              "#0d0887"
             ],
             [
              0.1111111111111111,
              "#46039f"
             ],
             [
              0.2222222222222222,
              "#7201a8"
             ],
             [
              0.3333333333333333,
              "#9c179e"
             ],
             [
              0.4444444444444444,
              "#bd3786"
             ],
             [
              0.5555555555555556,
              "#d8576b"
             ],
             [
              0.6666666666666666,
              "#ed7953"
             ],
             [
              0.7777777777777778,
              "#fb9f3a"
             ],
             [
              0.8888888888888888,
              "#fdca26"
             ],
             [
              1,
              "#f0f921"
             ]
            ],
            "type": "heatmapgl"
           }
          ],
          "histogram": [
           {
            "marker": {
             "colorbar": {
              "outlinewidth": 0,
              "ticks": ""
             }
            },
            "type": "histogram"
           }
          ],
          "histogram2d": [
           {
            "colorbar": {
             "outlinewidth": 0,
             "ticks": ""
            },
            "colorscale": [
             [
              0,
              "#0d0887"
             ],
             [
              0.1111111111111111,
              "#46039f"
             ],
             [
              0.2222222222222222,
              "#7201a8"
             ],
             [
              0.3333333333333333,
              "#9c179e"
             ],
             [
              0.4444444444444444,
              "#bd3786"
             ],
             [
              0.5555555555555556,
              "#d8576b"
             ],
             [
              0.6666666666666666,
              "#ed7953"
             ],
             [
              0.7777777777777778,
              "#fb9f3a"
             ],
             [
              0.8888888888888888,
              "#fdca26"
             ],
             [
              1,
              "#f0f921"
             ]
            ],
            "type": "histogram2d"
           }
          ],
          "histogram2dcontour": [
           {
            "colorbar": {
             "outlinewidth": 0,
             "ticks": ""
            },
            "colorscale": [
             [
              0,
              "#0d0887"
             ],
             [
              0.1111111111111111,
              "#46039f"
             ],
             [
              0.2222222222222222,
              "#7201a8"
             ],
             [
              0.3333333333333333,
              "#9c179e"
             ],
             [
              0.4444444444444444,
              "#bd3786"
             ],
             [
              0.5555555555555556,
              "#d8576b"
             ],
             [
              0.6666666666666666,
              "#ed7953"
             ],
             [
              0.7777777777777778,
              "#fb9f3a"
             ],
             [
              0.8888888888888888,
              "#fdca26"
             ],
             [
              1,
              "#f0f921"
             ]
            ],
            "type": "histogram2dcontour"
           }
          ],
          "mesh3d": [
           {
            "colorbar": {
             "outlinewidth": 0,
             "ticks": ""
            },
            "type": "mesh3d"
           }
          ],
          "parcoords": [
           {
            "line": {
             "colorbar": {
              "outlinewidth": 0,
              "ticks": ""
             }
            },
            "type": "parcoords"
           }
          ],
          "scatter": [
           {
            "marker": {
             "colorbar": {
              "outlinewidth": 0,
              "ticks": ""
             }
            },
            "type": "scatter"
           }
          ],
          "scatter3d": [
           {
            "line": {
             "colorbar": {
              "outlinewidth": 0,
              "ticks": ""
             }
            },
            "marker": {
             "colorbar": {
              "outlinewidth": 0,
              "ticks": ""
             }
            },
            "type": "scatter3d"
           }
          ],
          "scattercarpet": [
           {
            "marker": {
             "colorbar": {
              "outlinewidth": 0,
              "ticks": ""
             }
            },
            "type": "scattercarpet"
           }
          ],
          "scattergeo": [
           {
            "marker": {
             "colorbar": {
              "outlinewidth": 0,
              "ticks": ""
             }
            },
            "type": "scattergeo"
           }
          ],
          "scattergl": [
           {
            "marker": {
             "colorbar": {
              "outlinewidth": 0,
              "ticks": ""
             }
            },
            "type": "scattergl"
           }
          ],
          "scattermapbox": [
           {
            "marker": {
             "colorbar": {
              "outlinewidth": 0,
              "ticks": ""
             }
            },
            "type": "scattermapbox"
           }
          ],
          "scatterpolar": [
           {
            "marker": {
             "colorbar": {
              "outlinewidth": 0,
              "ticks": ""
             }
            },
            "type": "scatterpolar"
           }
          ],
          "scatterpolargl": [
           {
            "marker": {
             "colorbar": {
              "outlinewidth": 0,
              "ticks": ""
             }
            },
            "type": "scatterpolargl"
           }
          ],
          "scatterternary": [
           {
            "marker": {
             "colorbar": {
              "outlinewidth": 0,
              "ticks": ""
             }
            },
            "type": "scatterternary"
           }
          ],
          "surface": [
           {
            "colorbar": {
             "outlinewidth": 0,
             "ticks": ""
            },
            "colorscale": [
             [
              0,
              "#0d0887"
             ],
             [
              0.1111111111111111,
              "#46039f"
             ],
             [
              0.2222222222222222,
              "#7201a8"
             ],
             [
              0.3333333333333333,
              "#9c179e"
             ],
             [
              0.4444444444444444,
              "#bd3786"
             ],
             [
              0.5555555555555556,
              "#d8576b"
             ],
             [
              0.6666666666666666,
              "#ed7953"
             ],
             [
              0.7777777777777778,
              "#fb9f3a"
             ],
             [
              0.8888888888888888,
              "#fdca26"
             ],
             [
              1,
              "#f0f921"
             ]
            ],
            "type": "surface"
           }
          ],
          "table": [
           {
            "cells": {
             "fill": {
              "color": "#EBF0F8"
             },
             "line": {
              "color": "white"
             }
            },
            "header": {
             "fill": {
              "color": "#C8D4E3"
             },
             "line": {
              "color": "white"
             }
            },
            "type": "table"
           }
          ]
         },
         "layout": {
          "annotationdefaults": {
           "arrowcolor": "#2a3f5f",
           "arrowhead": 0,
           "arrowwidth": 1
          },
          "colorscale": {
           "diverging": [
            [
             0,
             "#8e0152"
            ],
            [
             0.1,
             "#c51b7d"
            ],
            [
             0.2,
             "#de77ae"
            ],
            [
             0.3,
             "#f1b6da"
            ],
            [
             0.4,
             "#fde0ef"
            ],
            [
             0.5,
             "#f7f7f7"
            ],
            [
             0.6,
             "#e6f5d0"
            ],
            [
             0.7,
             "#b8e186"
            ],
            [
             0.8,
             "#7fbc41"
            ],
            [
             0.9,
             "#4d9221"
            ],
            [
             1,
             "#276419"
            ]
           ],
           "sequential": [
            [
             0,
             "#0d0887"
            ],
            [
             0.1111111111111111,
             "#46039f"
            ],
            [
             0.2222222222222222,
             "#7201a8"
            ],
            [
             0.3333333333333333,
             "#9c179e"
            ],
            [
             0.4444444444444444,
             "#bd3786"
            ],
            [
             0.5555555555555556,
             "#d8576b"
            ],
            [
             0.6666666666666666,
             "#ed7953"
            ],
            [
             0.7777777777777778,
             "#fb9f3a"
            ],
            [
             0.8888888888888888,
             "#fdca26"
            ],
            [
             1,
             "#f0f921"
            ]
           ],
           "sequentialminus": [
            [
             0,
             "#0d0887"
            ],
            [
             0.1111111111111111,
             "#46039f"
            ],
            [
             0.2222222222222222,
             "#7201a8"
            ],
            [
             0.3333333333333333,
             "#9c179e"
            ],
            [
             0.4444444444444444,
             "#bd3786"
            ],
            [
             0.5555555555555556,
             "#d8576b"
            ],
            [
             0.6666666666666666,
             "#ed7953"
            ],
            [
             0.7777777777777778,
             "#fb9f3a"
            ],
            [
             0.8888888888888888,
             "#fdca26"
            ],
            [
             1,
             "#f0f921"
            ]
           ]
          },
          "colorway": [
           "#636efa",
           "#EF553B",
           "#00cc96",
           "#ab63fa",
           "#FFA15A",
           "#19d3f3",
           "#FF6692",
           "#B6E880",
           "#FF97FF",
           "#FECB52"
          ],
          "font": {
           "color": "#2a3f5f"
          },
          "geo": {
           "bgcolor": "white",
           "lakecolor": "white",
           "landcolor": "#E5ECF6",
           "showlakes": true,
           "showland": true,
           "subunitcolor": "white"
          },
          "hoverlabel": {
           "align": "left"
          },
          "hovermode": "closest",
          "mapbox": {
           "style": "light"
          },
          "paper_bgcolor": "white",
          "plot_bgcolor": "#E5ECF6",
          "polar": {
           "angularaxis": {
            "gridcolor": "white",
            "linecolor": "white",
            "ticks": ""
           },
           "bgcolor": "#E5ECF6",
           "radialaxis": {
            "gridcolor": "white",
            "linecolor": "white",
            "ticks": ""
           }
          },
          "scene": {
           "xaxis": {
            "backgroundcolor": "#E5ECF6",
            "gridcolor": "white",
            "gridwidth": 2,
            "linecolor": "white",
            "showbackground": true,
            "ticks": "",
            "zerolinecolor": "white"
           },
           "yaxis": {
            "backgroundcolor": "#E5ECF6",
            "gridcolor": "white",
            "gridwidth": 2,
            "linecolor": "white",
            "showbackground": true,
            "ticks": "",
            "zerolinecolor": "white"
           },
           "zaxis": {
            "backgroundcolor": "#E5ECF6",
            "gridcolor": "white",
            "gridwidth": 2,
            "linecolor": "white",
            "showbackground": true,
            "ticks": "",
            "zerolinecolor": "white"
           }
          },
          "shapedefaults": {
           "line": {
            "color": "#2a3f5f"
           }
          },
          "ternary": {
           "aaxis": {
            "gridcolor": "white",
            "linecolor": "white",
            "ticks": ""
           },
           "baxis": {
            "gridcolor": "white",
            "linecolor": "white",
            "ticks": ""
           },
           "bgcolor": "#E5ECF6",
           "caxis": {
            "gridcolor": "white",
            "linecolor": "white",
            "ticks": ""
           }
          },
          "title": {
           "x": 0.05
          },
          "xaxis": {
           "automargin": true,
           "gridcolor": "white",
           "linecolor": "white",
           "ticks": "",
           "zerolinecolor": "white",
           "zerolinewidth": 2
          },
          "yaxis": {
           "automargin": true,
           "gridcolor": "white",
           "linecolor": "white",
           "ticks": "",
           "zerolinecolor": "white",
           "zerolinewidth": 2
          }
         }
        },
        "updatemenus": [
         {
          "buttons": [
           {
            "args": [
             null,
             {
              "frame": {
               "redraw": false
              },
              "fromcurrent": true
             }
            ],
            "label": "Play",
            "method": "animate"
           },
           {
            "args": [
             [
              null
             ],
             {
              "frame": {
               "redraw": false
              },
              "mode": "immediate"
             }
            ],
            "label": "Pause",
            "method": "animate"
           }
          ],
          "showactive": true,
          "type": "buttons"
         }
        ],
        "width": 912,
        "xaxis": {
         "showgrid": false,
         "showticklabels": false,
         "zeroline": false
        },
        "yaxis": {
         "showgrid": false,
         "showticklabels": false,
         "zeroline": false
        }
       }
      },
      "text/html": [
       "<div>\n",
       "        \n",
       "        \n",
       "            <div id=\"ff103195-be30-45b9-9ba1-052d497300aa\" class=\"plotly-graph-div\" style=\"height:526.0px; width:912.0px;\"></div>\n",
       "            <script type=\"text/javascript\">\n",
       "                require([\"plotly\"], function(Plotly) {\n",
       "                    window.PLOTLYENV=window.PLOTLYENV || {};\n",
       "                    \n",
       "                if (document.getElementById(\"ff103195-be30-45b9-9ba1-052d497300aa\")) {\n",
       "                    Plotly.newPlot(\n",
       "                        'ff103195-be30-45b9-9ba1-052d497300aa',\n",
       "                        [{\"hoverinfo\": \"none\", \"line\": {\"color\": \"rgba(255, 255, 255, 0.0)\", \"dash\": \"solid\", \"width\": 1}, \"mode\": \"lines\", \"type\": \"scatter\", \"x\": [0.9877875629911081, 0.8253525168659742, null, 0.8394839343415457, 0.8522171385722057, null, 0.8394839343415457, 0.853751247625847, null], \"y\": [0.10064997194128933, 0.15515258554852496, null, 0.1504110029604899, 0.13825237953282507, null, 0.1504110029604899, 0.15351001266304967, null]}, {\"hoverinfo\": \"none\", \"line\": {\"color\": \"rgba(255, 255, 255, 0.0)\", \"dash\": \"solid\", \"width\": 1}, \"mode\": \"lines\", \"type\": \"scatter\", \"x\": [0.6657518540015366, 0.9746320637657699, null, 0.9616591481177758, 0.9510906525728116, null, 0.9616591481177758, 0.9474406442849851, null], \"y\": [0.6819712177264294, 0.4133666298311808, null, 0.4246479762926102, 0.44242885995765446, null, 0.4246479762926102, 0.4284220564697091, null]}, {\"hoverinfo\": \"none\", \"line\": {\"color\": \"rgba(255, 255, 255, 0.0)\", \"dash\": \"solid\", \"width\": 1}, \"mode\": \"lines\", \"type\": \"scatter\", \"x\": [0.3130067468288521, 0.3499668322226597, null, 0.3458091923564756, 0.3459015706469828, null, 0.3458091923564756, 0.3377729239203506, null], \"y\": [0.6729646013520403, 0.4496220702127133, null, 0.47474587069600155, 0.5009920473459931, null, 0.47474587069600155, 0.4965030607404037, null]}, {\"hoverinfo\": \"none\", \"line\": {\"color\": \"rgba(255, 255, 255, 0.0)\", \"dash\": \"solid\", \"width\": 1}, \"mode\": \"lines\", \"type\": \"scatter\", \"x\": [0.3499668322226597, 0.9926856014334526, null, 0.9784862464521992, 0.9655693764674027, null, 0.9784862464521992, 0.964272792565718, null], \"y\": [0.4496220702127133, 0.2682292564139206, null, 0.2722367027147967, 0.2837306548816061, null, 0.2722367027147967, 0.26839966990686415, null]}, {\"hoverinfo\": \"none\", \"line\": {\"color\": \"rgba(255, 255, 255, 0.0)\", \"dash\": \"solid\", \"width\": 1}, \"mode\": \"lines\", \"type\": \"scatter\", \"x\": [0.5148042784508876, 0.3846394161106561, null, 0.39887357572086857, 0.4130497913454055, null, 0.39887357572086857, 0.4118941842316794, null], \"y\": [0.30079606984334584, 0.2681343367755409, null, 0.2717060558499104, 0.2674339677160637, null, 0.2717060558499104, 0.28280253110505943, null]}, {\"hoverinfo\": \"none\", \"line\": {\"color\": \"rgba(255, 255, 255, 0.0)\", \"dash\": \"solid\", \"width\": 1}, \"mode\": \"lines\", \"type\": \"scatter\", \"x\": [0.4317862843872923, 0.864196207342952, null, 0.8501331652952427, 0.83756813173278, null, 0.8501331652952427, 0.8358283244251369, null], \"y\": [0.47596416145351483, 0.3106216182365953, null, 0.3159989674001878, 0.32872804950240503, null, 0.3159989674001878, 0.31354424103946854, null]}, {\"hoverinfo\": \"none\", \"line\": {\"color\": \"rgba(255, 255, 255, 0.0)\", \"dash\": \"solid\", \"width\": 1}, \"mode\": \"lines\", \"type\": \"scatter\", \"x\": [0.04247953120902426, 0.9088573793496606, null, 0.8946617281034954, 0.8804447671870989, null, 0.8946617281034954, 0.8817554417751662, null], \"y\": [0.7314598768196983, 0.9786971721994223, null, 0.9746461747878565, 0.9784396021768602, null, 0.9746461747878565, 0.9631126161096084, null]}, {\"hoverinfo\": \"none\", \"line\": {\"color\": \"rgba(255, 255, 255, 0.0)\", \"dash\": \"solid\", \"width\": 1}, \"mode\": \"lines\", \"type\": \"scatter\", \"x\": [0.7134229855990559, 0.02306618337905708, null, 0.03737721103278929, 0.051426193923551466, null, 0.03737721103278929, 0.05067192197101909, null], \"y\": [0.8958337535500325, 0.78337381735013, null, 0.7857051006107835, 0.7802064818269927, null, 0.7857051006107835, 0.7956580393253543, null]}, {\"hoverinfo\": \"none\", \"line\": {\"color\": \"rgba(255, 255, 255, 0.0)\", \"dash\": \"solid\", \"width\": 1}, \"mode\": \"lines\", \"type\": \"scatter\", \"x\": [0.5090667309339035, 0.35833691444281857, null, 0.36605647712096834, 0.3698501850197143, null, 0.36605647712096834, 0.3770123290352797, null], \"y\": [0.13887939504069535, 0.5711110886875235, null, 0.5489745285279956, 0.5236592748807892, null, 0.5489745285279956, 0.5319940548469596, null]}, {\"hoverinfo\": \"none\", \"line\": {\"color\": \"rgba(255, 255, 255, 0.0)\", \"dash\": \"solid\", \"width\": 1}, \"mode\": \"lines\", \"type\": \"scatter\", \"x\": [0.864196207342952, 0.5205252236641866, null, 0.5348513623196516, 0.5482144739508822, null, 0.5348513623196516, 0.5488608167000979, null], \"y\": [0.3106216182365953, 0.35854458361113184, null, 0.35654688500013015, 0.3469044742304788, null, 0.35654688500013015, 0.36237234701505056, null]}, {\"hoverinfo\": \"none\", \"line\": {\"color\": \"rgba(255, 255, 255, 0.0)\", \"dash\": \"solid\", \"width\": 1}, \"mode\": \"lines\", \"type\": \"scatter\", \"x\": [0.4084734897119745, 0.35833691444281857, null, 0.3629728571963361, 0.3633828613383074, null, 0.3629728571963361, 0.3714206236022302, null], \"y\": [0.3024412939240082, 0.5711110886875235, null, 0.5462681914326484, 0.5200321610598867, null, 0.5462681914326484, 0.5250375693190489, null]}, {\"hoverinfo\": \"none\", \"line\": {\"color\": \"rgba(255, 255, 255, 0.0)\", \"dash\": \"solid\", \"width\": 1}, \"mode\": \"lines\", \"type\": \"scatter\", \"x\": [0.08197942538511671, 0.9088573793496606, null, 0.8967789040385449, 0.8829404414832318, null, 0.8967789040385449, 0.8875393501984348, null], \"y\": [0.005611287598566106, 0.9786971721994223, null, 0.9644829900744861, 0.9574242032011742, null, 0.9644829900744861, 0.9443831232537412, null]}, {\"hoverinfo\": \"none\", \"marker\": {\"color\": \"rgba(255, 255, 255, 0.0)\", \"line\": {\"color\": \"rgba(255, 255, 255, 0.0)\", \"width\": 1}, \"size\": 20, \"symbol\": \"circle\"}, \"mode\": \"markers+text\", \"text\": [\"('Atlanta Hawks',)\"], \"textfont\": {\"color\": \"rgb(0, 0, 0)\"}, \"textposition\": \"middle center\", \"type\": \"scatter\", \"x\": [0.02306618337905708], \"y\": [0.78337381735013]}, {\"hoverinfo\": \"none\", \"marker\": {\"color\": \"rgba(255, 255, 255, 0.0)\", \"line\": {\"color\": \"rgba(255, 255, 255, 0.0)\", \"width\": 1}, \"size\": 20, \"symbol\": \"circle\"}, \"mode\": \"markers+text\", \"text\": [\"('Boston Celtics',)\"], \"textfont\": {\"color\": \"rgb(0, 0, 0)\"}, \"textposition\": \"middle center\", \"type\": \"scatter\", \"x\": [0.9877875629911081], \"y\": [0.10064997194128933]}, {\"hoverinfo\": \"none\", \"marker\": {\"color\": \"rgba(255, 255, 255, 0.0)\", \"line\": {\"color\": \"rgba(255, 255, 255, 0.0)\", \"width\": 1}, \"size\": 20, \"symbol\": \"circle\"}, \"mode\": \"markers+text\", \"text\": [\"('Brooklyn Nets',)\"], \"textfont\": {\"color\": \"rgb(0, 0, 0)\"}, \"textposition\": \"middle center\", \"type\": \"scatter\", \"x\": [0.6657518540015366], \"y\": [0.6819712177264294]}, {\"hoverinfo\": \"none\", \"marker\": {\"color\": \"rgba(255, 255, 255, 0.0)\", \"line\": {\"color\": \"rgba(255, 255, 255, 0.0)\", \"width\": 1}, \"size\": 20, \"symbol\": \"circle\"}, \"mode\": \"markers+text\", \"text\": [\"('Charlotte Hornets',)\"], \"textfont\": {\"color\": \"rgb(0, 0, 0)\"}, \"textposition\": \"middle center\", \"type\": \"scatter\", \"x\": [0.9360112977782276], \"y\": [0.303518405870677]}, {\"hoverinfo\": \"none\", \"marker\": {\"color\": \"rgba(255, 255, 255, 0.0)\", \"line\": {\"color\": \"rgba(255, 255, 255, 0.0)\", \"width\": 1}, \"size\": 20, \"symbol\": \"circle\"}, \"mode\": \"markers+text\", \"text\": [\"('Chicago Bulls',)\"], \"textfont\": {\"color\": \"rgb(0, 0, 0)\"}, \"textposition\": \"middle center\", \"type\": \"scatter\", \"x\": [0.3130067468288521], \"y\": [0.6729646013520403]}, {\"hoverinfo\": \"none\", \"marker\": {\"color\": \"rgba(255, 255, 255, 0.0)\", \"line\": {\"color\": \"rgba(255, 255, 255, 0.0)\", \"width\": 1}, \"size\": 20, \"symbol\": \"circle\"}, \"mode\": \"markers+text\", \"text\": [\"('Cleveland Cavaliers',)\"], \"textfont\": {\"color\": \"rgb(0, 0, 0)\"}, \"textposition\": \"middle center\", \"type\": \"scatter\", \"x\": [0.3499668322226597], \"y\": [0.4496220702127133]}, {\"hoverinfo\": \"none\", \"marker\": {\"color\": \"rgba(255, 255, 255, 0.0)\", \"line\": {\"color\": \"rgba(255, 255, 255, 0.0)\", \"width\": 1}, \"size\": 20, \"symbol\": \"circle\"}, \"mode\": \"markers+text\", \"text\": [\"('Dallas Mavericks',)\"], \"textfont\": {\"color\": \"rgb(0, 0, 0)\"}, \"textposition\": \"middle center\", \"type\": \"scatter\", \"x\": [0.5148042784508876], \"y\": [0.30079606984334584]}, {\"hoverinfo\": \"none\", \"marker\": {\"color\": \"rgba(255, 255, 255, 0.0)\", \"line\": {\"color\": \"rgba(255, 255, 255, 0.0)\", \"width\": 1}, \"size\": 20, \"symbol\": \"circle\"}, \"mode\": \"markers+text\", \"text\": [\"('Denver Nuggets',)\"], \"textfont\": {\"color\": \"rgb(0, 0, 0)\"}, \"textposition\": \"middle center\", \"type\": \"scatter\", \"x\": [0.7330741940372147], \"y\": [0.8273389887338318]}, {\"hoverinfo\": \"none\", \"marker\": {\"color\": \"rgba(255, 255, 255, 0.0)\", \"line\": {\"color\": \"rgba(255, 255, 255, 0.0)\", \"width\": 1}, \"size\": 20, \"symbol\": \"circle\"}, \"mode\": \"markers+text\", \"text\": [\"('Detroit Pistons',)\"], \"textfont\": {\"color\": \"rgb(0, 0, 0)\"}, \"textposition\": \"middle center\", \"type\": \"scatter\", \"x\": [0.4317862843872923], \"y\": [0.47596416145351483]}, {\"hoverinfo\": \"none\", \"marker\": {\"color\": \"rgba(255, 255, 255, 0.0)\", \"line\": {\"color\": \"rgba(255, 255, 255, 0.0)\", \"width\": 1}, \"size\": 20, \"symbol\": \"circle\"}, \"mode\": \"markers+text\", \"text\": [\"('Golden State Warriors',)\"], \"textfont\": {\"color\": \"rgb(0, 0, 0)\"}, \"textposition\": \"middle center\", \"type\": \"scatter\", \"x\": [0.5811320993677], \"y\": [0.9305262721546907]}, {\"hoverinfo\": \"none\", \"marker\": {\"color\": \"rgba(255, 255, 255, 0.0)\", \"line\": {\"color\": \"rgba(255, 255, 255, 0.0)\", \"width\": 1}, \"size\": 20, \"symbol\": \"circle\"}, \"mode\": \"markers+text\", \"text\": [\"('Houston Rockets',)\"], \"textfont\": {\"color\": \"rgb(0, 0, 0)\"}, \"textposition\": \"middle center\", \"type\": \"scatter\", \"x\": [0.9746320637657699], \"y\": [0.4133666298311808]}, {\"hoverinfo\": \"none\", \"marker\": {\"color\": \"rgba(255, 255, 255, 0.0)\", \"line\": {\"color\": \"rgba(255, 255, 255, 0.0)\", \"width\": 1}, \"size\": 20, \"symbol\": \"circle\"}, \"mode\": \"markers+text\", \"text\": [\"('Indiana Pacers',)\"], \"textfont\": {\"color\": \"rgb(0, 0, 0)\"}, \"textposition\": \"middle center\", \"type\": \"scatter\", \"x\": [0.5515185142253216], \"y\": [0.4037517772736835]}, {\"hoverinfo\": \"none\", \"marker\": {\"color\": \"rgba(255, 255, 255, 0.0)\", \"line\": {\"color\": \"rgba(255, 255, 255, 0.0)\", \"width\": 1}, \"size\": 20, \"symbol\": \"circle\"}, \"mode\": \"markers+text\", \"text\": [\"('LA Clippers',)\"], \"textfont\": {\"color\": \"rgb(0, 0, 0)\"}, \"textposition\": \"middle center\", \"type\": \"scatter\", \"x\": [0.6570115694483919], \"y\": [0.8752912558437298]}, {\"hoverinfo\": \"none\", \"marker\": {\"color\": \"rgba(255, 255, 255, 0.0)\", \"line\": {\"color\": \"rgba(255, 255, 255, 0.0)\", \"width\": 1}, \"size\": 20, \"symbol\": \"circle\"}, \"mode\": \"markers+text\", \"text\": [\"('Los Angeles Lakers',)\"], \"textfont\": {\"color\": \"rgb(0, 0, 0)\"}, \"textposition\": \"middle center\", \"type\": \"scatter\", \"x\": [0.9088573793496606], \"y\": [0.9786971721994223]}, {\"hoverinfo\": \"none\", \"marker\": {\"color\": \"rgba(255, 255, 255, 0.0)\", \"line\": {\"color\": \"rgba(255, 255, 255, 0.0)\", \"width\": 1}, \"size\": 20, \"symbol\": \"circle\"}, \"mode\": \"markers+text\", \"text\": [\"('Memphis Grizzlies',)\"], \"textfont\": {\"color\": \"rgb(0, 0, 0)\"}, \"textposition\": \"middle center\", \"type\": \"scatter\", \"x\": [0.04247953120902426], \"y\": [0.7314598768196983]}, {\"hoverinfo\": \"none\", \"marker\": {\"color\": \"rgba(255, 255, 255, 0.0)\", \"line\": {\"color\": \"rgba(255, 255, 255, 0.0)\", \"width\": 1}, \"size\": 20, \"symbol\": \"circle\"}, \"mode\": \"markers+text\", \"text\": [\"('Miami Heat',)\"], \"textfont\": {\"color\": \"rgb(0, 0, 0)\"}, \"textposition\": \"middle center\", \"type\": \"scatter\", \"x\": [0.8253525168659742], \"y\": [0.15515258554852496]}, {\"hoverinfo\": \"none\", \"marker\": {\"color\": \"rgba(255, 255, 255, 0.0)\", \"line\": {\"color\": \"rgba(255, 255, 255, 0.0)\", \"width\": 1}, \"size\": 20, \"symbol\": \"circle\"}, \"mode\": \"markers+text\", \"text\": [\"('Milwaukee Bucks',)\"], \"textfont\": {\"color\": \"rgb(0, 0, 0)\"}, \"textposition\": \"middle center\", \"type\": \"scatter\", \"x\": [0.7134229855990559], \"y\": [0.8958337535500325]}, {\"hoverinfo\": \"none\", \"marker\": {\"color\": \"rgba(255, 255, 255, 0.0)\", \"line\": {\"color\": \"rgba(255, 255, 255, 0.0)\", \"width\": 1}, \"size\": 20, \"symbol\": \"circle\"}, \"mode\": \"markers+text\", \"text\": [\"('Minnesota Timberwolves',)\"], \"textfont\": {\"color\": \"rgb(0, 0, 0)\"}, \"textposition\": \"middle center\", \"type\": \"scatter\", \"x\": [0.008183698087374514], \"y\": [0.10007021000132932]}, {\"hoverinfo\": \"none\", \"marker\": {\"color\": \"rgba(255, 255, 255, 0.0)\", \"line\": {\"color\": \"rgba(255, 255, 255, 0.0)\", \"width\": 1}, \"size\": 20, \"symbol\": \"circle\"}, \"mode\": \"markers+text\", \"text\": [\"('New Orleans Pelicans',)\"], \"textfont\": {\"color\": \"rgb(0, 0, 0)\"}, \"textposition\": \"middle center\", \"type\": \"scatter\", \"x\": [0.5090667309339035], \"y\": [0.13887939504069535]}, {\"hoverinfo\": \"none\", \"marker\": {\"color\": \"rgba(255, 255, 255, 0.0)\", \"line\": {\"color\": \"rgba(255, 255, 255, 0.0)\", \"width\": 1}, \"size\": 20, \"symbol\": \"circle\"}, \"mode\": \"markers+text\", \"text\": [\"('New York Knicks',)\"], \"textfont\": {\"color\": \"rgb(0, 0, 0)\"}, \"textposition\": \"middle center\", \"type\": \"scatter\", \"x\": [0.864196207342952], \"y\": [0.3106216182365953]}, {\"hoverinfo\": \"none\", \"marker\": {\"color\": \"rgba(255, 255, 255, 0.0)\", \"line\": {\"color\": \"rgba(255, 255, 255, 0.0)\", \"width\": 1}, \"size\": 20, \"symbol\": \"circle\"}, \"mode\": \"markers+text\", \"text\": [\"('Oklahoma City Thunder',)\"], \"textfont\": {\"color\": \"rgb(0, 0, 0)\"}, \"textposition\": \"middle center\", \"type\": \"scatter\", \"x\": [0.35833691444281857], \"y\": [0.5711110886875235]}, {\"hoverinfo\": \"none\", \"marker\": {\"color\": \"rgba(255, 255, 255, 0.0)\", \"line\": {\"color\": \"rgba(255, 255, 255, 0.0)\", \"width\": 1}, \"size\": 20, \"symbol\": \"circle\"}, \"mode\": \"markers+text\", \"text\": [\"('Orlando Magic',)\"], \"textfont\": {\"color\": \"rgb(0, 0, 0)\"}, \"textposition\": \"middle center\", \"type\": \"scatter\", \"x\": [0.17526360328523305], \"y\": [0.19546951598297113]}, {\"hoverinfo\": \"none\", \"marker\": {\"color\": \"rgba(255, 255, 255, 0.0)\", \"line\": {\"color\": \"rgba(255, 255, 255, 0.0)\", \"width\": 1}, \"size\": 20, \"symbol\": \"circle\"}, \"mode\": \"markers+text\", \"text\": [\"('Philadelphia 76ers',)\"], \"textfont\": {\"color\": \"rgb(0, 0, 0)\"}, \"textposition\": \"middle center\", \"type\": \"scatter\", \"x\": [0.4084734897119745], \"y\": [0.3024412939240082]}, {\"hoverinfo\": \"none\", \"marker\": {\"color\": \"rgba(255, 255, 255, 0.0)\", \"line\": {\"color\": \"rgba(255, 255, 255, 0.0)\", \"width\": 1}, \"size\": 20, \"symbol\": \"circle\"}, \"mode\": \"markers+text\", \"text\": [\"('Phoenix Suns',)\"], \"textfont\": {\"color\": \"rgb(0, 0, 0)\"}, \"textposition\": \"middle center\", \"type\": \"scatter\", \"x\": [0.3846394161106561], \"y\": [0.2681343367755409]}, {\"hoverinfo\": \"none\", \"marker\": {\"color\": \"rgba(255, 255, 255, 0.0)\", \"line\": {\"color\": \"rgba(255, 255, 255, 0.0)\", \"width\": 1}, \"size\": 20, \"symbol\": \"circle\"}, \"mode\": \"markers+text\", \"text\": [\"('Portland Trail Blazers',)\"], \"textfont\": {\"color\": \"rgb(0, 0, 0)\"}, \"textposition\": \"middle center\", \"type\": \"scatter\", \"x\": [0.5205252236641866], \"y\": [0.35854458361113184]}, {\"hoverinfo\": \"none\", \"marker\": {\"color\": \"rgba(255, 255, 255, 0.0)\", \"line\": {\"color\": \"rgba(255, 255, 255, 0.0)\", \"width\": 1}, \"size\": 20, \"symbol\": \"circle\"}, \"mode\": \"markers+text\", \"text\": [\"('Sacramento Kings',)\"], \"textfont\": {\"color\": \"rgb(0, 0, 0)\"}, \"textposition\": \"middle center\", \"type\": \"scatter\", \"x\": [0.42840018223088105], \"y\": [0.1901977870068059]}, {\"hoverinfo\": \"none\", \"marker\": {\"color\": \"rgba(255, 255, 255, 0.0)\", \"line\": {\"color\": \"rgba(255, 255, 255, 0.0)\", \"width\": 1}, \"size\": 20, \"symbol\": \"circle\"}, \"mode\": \"markers+text\", \"text\": [\"('San Antonio Spurs',)\"], \"textfont\": {\"color\": \"rgb(0, 0, 0)\"}, \"textposition\": \"middle center\", \"type\": \"scatter\", \"x\": [0.009859986609690008], \"y\": [0.9822939322824391]}, {\"hoverinfo\": \"none\", \"marker\": {\"color\": \"rgba(255, 255, 255, 0.0)\", \"line\": {\"color\": \"rgba(255, 255, 255, 0.0)\", \"width\": 1}, \"size\": 20, \"symbol\": \"circle\"}, \"mode\": \"markers+text\", \"text\": [\"('Toronto Raptors',)\"], \"textfont\": {\"color\": \"rgb(0, 0, 0)\"}, \"textposition\": \"middle center\", \"type\": \"scatter\", \"x\": [0.9926856014334526], \"y\": [0.2682292564139206]}, {\"hoverinfo\": \"none\", \"marker\": {\"color\": \"rgba(255, 255, 255, 0.0)\", \"line\": {\"color\": \"rgba(255, 255, 255, 0.0)\", \"width\": 1}, \"size\": 20, \"symbol\": \"circle\"}, \"mode\": \"markers+text\", \"text\": [\"('Utah Jazz',)\"], \"textfont\": {\"color\": \"rgb(0, 0, 0)\"}, \"textposition\": \"middle center\", \"type\": \"scatter\", \"x\": [0.2172710196978057], \"y\": [0.78994857462467]}, {\"hoverinfo\": \"none\", \"marker\": {\"color\": \"rgba(255, 255, 255, 0.0)\", \"line\": {\"color\": \"rgba(255, 255, 255, 0.0)\", \"width\": 1}, \"size\": 20, \"symbol\": \"circle\"}, \"mode\": \"markers+text\", \"text\": [\"('Washington Wizards',)\"], \"textfont\": {\"color\": \"rgb(0, 0, 0)\"}, \"textposition\": \"middle center\", \"type\": \"scatter\", \"x\": [0.08197942538511671], \"y\": [0.005611287598566106]}, {\"hoverinfo\": \"none\", \"mode\": \"text\", \"text\": [null, null, null, null, null, null, null, null, null, null, null, null], \"textfont\": {\"color\": \"rgb(0, 0, 0)\"}, \"textposition\": \"middle center\", \"type\": \"scatter\", \"x\": [0.9039744322187117, 0.8263675235414185, 0.34523990444548697, 0.6735199482082771, 0.4516770555671724, 0.650934880967606, 0.4734508834204249, 0.3695207611015694, 0.4215839643251712, 0.6912671477294434, 0.36980585745942607, 0.4876373630145141], \"y\": [0.10208640587614667, 0.5713674783483693, 0.5688883944355635, 0.38486464249166963, 0.2584626440214962, 0.4189828564203979, 0.8810107378096415, 0.8134608057991689, 0.3408933635859146, 0.3084125169233292, 0.42830738249619055, 0.514218846215363]}, {\"hoverinfo\": \"none\", \"marker\": {\"color\": \"rgba(255, 255, 255, 0.0)\", \"line\": {\"color\": \"rgba(255, 255, 255, 0.0)\", \"width\": 0}, \"size\": 0, \"symbol\": \"circle\"}, \"mode\": \"markers\", \"type\": \"scatter\", \"x\": [0.5, 0.0, 1.0, 0.5], \"y\": [0.0, 0.5, 0.5, 1.0]}],\n",
       "                        {\"height\": 526.0, \"margin\": {\"b\": 0, \"l\": 0, \"r\": 0, \"t\": 0}, \"showlegend\": false, \"sliders\": [{\"currentvalue\": {\"visible\": false}, \"steps\": [{\"args\": [[0], {\"frame\": {\"redraw\": false}, \"mode\": \"immediate\"}], \"label\": \"\", \"method\": \"animate\"}, {\"args\": [[1], {\"frame\": {\"redraw\": false}, \"mode\": \"immediate\"}], \"label\": \"\", \"method\": \"animate\"}]}], \"template\": {\"data\": {\"bar\": [{\"error_x\": {\"color\": \"#2a3f5f\"}, \"error_y\": {\"color\": \"#2a3f5f\"}, \"marker\": {\"line\": {\"color\": \"#E5ECF6\", \"width\": 0.5}}, \"type\": \"bar\"}], \"barpolar\": [{\"marker\": {\"line\": {\"color\": \"#E5ECF6\", \"width\": 0.5}}, \"type\": \"barpolar\"}], \"carpet\": [{\"aaxis\": {\"endlinecolor\": \"#2a3f5f\", \"gridcolor\": \"white\", \"linecolor\": \"white\", \"minorgridcolor\": \"white\", \"startlinecolor\": \"#2a3f5f\"}, \"baxis\": {\"endlinecolor\": \"#2a3f5f\", \"gridcolor\": \"white\", \"linecolor\": \"white\", \"minorgridcolor\": \"white\", \"startlinecolor\": \"#2a3f5f\"}, \"type\": \"carpet\"}], \"choropleth\": [{\"colorbar\": {\"outlinewidth\": 0, \"ticks\": \"\"}, \"type\": \"choropleth\"}], \"contour\": [{\"colorbar\": {\"outlinewidth\": 0, \"ticks\": \"\"}, \"colorscale\": [[0.0, \"#0d0887\"], [0.1111111111111111, \"#46039f\"], [0.2222222222222222, \"#7201a8\"], [0.3333333333333333, \"#9c179e\"], [0.4444444444444444, \"#bd3786\"], [0.5555555555555556, \"#d8576b\"], [0.6666666666666666, \"#ed7953\"], [0.7777777777777778, \"#fb9f3a\"], [0.8888888888888888, \"#fdca26\"], [1.0, \"#f0f921\"]], \"type\": \"contour\"}], \"contourcarpet\": [{\"colorbar\": {\"outlinewidth\": 0, \"ticks\": \"\"}, \"type\": \"contourcarpet\"}], \"heatmap\": [{\"colorbar\": {\"outlinewidth\": 0, \"ticks\": \"\"}, \"colorscale\": [[0.0, \"#0d0887\"], [0.1111111111111111, \"#46039f\"], [0.2222222222222222, \"#7201a8\"], [0.3333333333333333, \"#9c179e\"], [0.4444444444444444, \"#bd3786\"], [0.5555555555555556, \"#d8576b\"], [0.6666666666666666, \"#ed7953\"], [0.7777777777777778, \"#fb9f3a\"], [0.8888888888888888, \"#fdca26\"], [1.0, \"#f0f921\"]], \"type\": \"heatmap\"}], \"heatmapgl\": [{\"colorbar\": {\"outlinewidth\": 0, \"ticks\": \"\"}, \"colorscale\": [[0.0, \"#0d0887\"], [0.1111111111111111, \"#46039f\"], [0.2222222222222222, \"#7201a8\"], [0.3333333333333333, \"#9c179e\"], [0.4444444444444444, \"#bd3786\"], [0.5555555555555556, \"#d8576b\"], [0.6666666666666666, \"#ed7953\"], [0.7777777777777778, \"#fb9f3a\"], [0.8888888888888888, \"#fdca26\"], [1.0, \"#f0f921\"]], \"type\": \"heatmapgl\"}], \"histogram\": [{\"marker\": {\"colorbar\": {\"outlinewidth\": 0, \"ticks\": \"\"}}, \"type\": \"histogram\"}], \"histogram2d\": [{\"colorbar\": {\"outlinewidth\": 0, \"ticks\": \"\"}, \"colorscale\": [[0.0, \"#0d0887\"], [0.1111111111111111, \"#46039f\"], [0.2222222222222222, \"#7201a8\"], [0.3333333333333333, \"#9c179e\"], [0.4444444444444444, \"#bd3786\"], [0.5555555555555556, \"#d8576b\"], [0.6666666666666666, \"#ed7953\"], [0.7777777777777778, \"#fb9f3a\"], [0.8888888888888888, \"#fdca26\"], [1.0, \"#f0f921\"]], \"type\": \"histogram2d\"}], \"histogram2dcontour\": [{\"colorbar\": {\"outlinewidth\": 0, \"ticks\": \"\"}, \"colorscale\": [[0.0, \"#0d0887\"], [0.1111111111111111, \"#46039f\"], [0.2222222222222222, \"#7201a8\"], [0.3333333333333333, \"#9c179e\"], [0.4444444444444444, \"#bd3786\"], [0.5555555555555556, \"#d8576b\"], [0.6666666666666666, \"#ed7953\"], [0.7777777777777778, \"#fb9f3a\"], [0.8888888888888888, \"#fdca26\"], [1.0, \"#f0f921\"]], \"type\": \"histogram2dcontour\"}], \"mesh3d\": [{\"colorbar\": {\"outlinewidth\": 0, \"ticks\": \"\"}, \"type\": \"mesh3d\"}], \"parcoords\": [{\"line\": {\"colorbar\": {\"outlinewidth\": 0, \"ticks\": \"\"}}, \"type\": \"parcoords\"}], \"scatter\": [{\"marker\": {\"colorbar\": {\"outlinewidth\": 0, \"ticks\": \"\"}}, \"type\": \"scatter\"}], \"scatter3d\": [{\"line\": {\"colorbar\": {\"outlinewidth\": 0, \"ticks\": \"\"}}, \"marker\": {\"colorbar\": {\"outlinewidth\": 0, \"ticks\": \"\"}}, \"type\": \"scatter3d\"}], \"scattercarpet\": [{\"marker\": {\"colorbar\": {\"outlinewidth\": 0, \"ticks\": \"\"}}, \"type\": \"scattercarpet\"}], \"scattergeo\": [{\"marker\": {\"colorbar\": {\"outlinewidth\": 0, \"ticks\": \"\"}}, \"type\": \"scattergeo\"}], \"scattergl\": [{\"marker\": {\"colorbar\": {\"outlinewidth\": 0, \"ticks\": \"\"}}, \"type\": \"scattergl\"}], \"scattermapbox\": [{\"marker\": {\"colorbar\": {\"outlinewidth\": 0, \"ticks\": \"\"}}, \"type\": \"scattermapbox\"}], \"scatterpolar\": [{\"marker\": {\"colorbar\": {\"outlinewidth\": 0, \"ticks\": \"\"}}, \"type\": \"scatterpolar\"}], \"scatterpolargl\": [{\"marker\": {\"colorbar\": {\"outlinewidth\": 0, \"ticks\": \"\"}}, \"type\": \"scatterpolargl\"}], \"scatterternary\": [{\"marker\": {\"colorbar\": {\"outlinewidth\": 0, \"ticks\": \"\"}}, \"type\": \"scatterternary\"}], \"surface\": [{\"colorbar\": {\"outlinewidth\": 0, \"ticks\": \"\"}, \"colorscale\": [[0.0, \"#0d0887\"], [0.1111111111111111, \"#46039f\"], [0.2222222222222222, \"#7201a8\"], [0.3333333333333333, \"#9c179e\"], [0.4444444444444444, \"#bd3786\"], [0.5555555555555556, \"#d8576b\"], [0.6666666666666666, \"#ed7953\"], [0.7777777777777778, \"#fb9f3a\"], [0.8888888888888888, \"#fdca26\"], [1.0, \"#f0f921\"]], \"type\": \"surface\"}], \"table\": [{\"cells\": {\"fill\": {\"color\": \"#EBF0F8\"}, \"line\": {\"color\": \"white\"}}, \"header\": {\"fill\": {\"color\": \"#C8D4E3\"}, \"line\": {\"color\": \"white\"}}, \"type\": \"table\"}]}, \"layout\": {\"annotationdefaults\": {\"arrowcolor\": \"#2a3f5f\", \"arrowhead\": 0, \"arrowwidth\": 1}, \"colorscale\": {\"diverging\": [[0, \"#8e0152\"], [0.1, \"#c51b7d\"], [0.2, \"#de77ae\"], [0.3, \"#f1b6da\"], [0.4, \"#fde0ef\"], [0.5, \"#f7f7f7\"], [0.6, \"#e6f5d0\"], [0.7, \"#b8e186\"], [0.8, \"#7fbc41\"], [0.9, \"#4d9221\"], [1, \"#276419\"]], \"sequential\": [[0.0, \"#0d0887\"], [0.1111111111111111, \"#46039f\"], [0.2222222222222222, \"#7201a8\"], [0.3333333333333333, \"#9c179e\"], [0.4444444444444444, \"#bd3786\"], [0.5555555555555556, \"#d8576b\"], [0.6666666666666666, \"#ed7953\"], [0.7777777777777778, \"#fb9f3a\"], [0.8888888888888888, \"#fdca26\"], [1.0, \"#f0f921\"]], \"sequentialminus\": [[0.0, \"#0d0887\"], [0.1111111111111111, \"#46039f\"], [0.2222222222222222, \"#7201a8\"], [0.3333333333333333, \"#9c179e\"], [0.4444444444444444, \"#bd3786\"], [0.5555555555555556, \"#d8576b\"], [0.6666666666666666, \"#ed7953\"], [0.7777777777777778, \"#fb9f3a\"], [0.8888888888888888, \"#fdca26\"], [1.0, \"#f0f921\"]]}, \"colorway\": [\"#636efa\", \"#EF553B\", \"#00cc96\", \"#ab63fa\", \"#FFA15A\", \"#19d3f3\", \"#FF6692\", \"#B6E880\", \"#FF97FF\", \"#FECB52\"], \"font\": {\"color\": \"#2a3f5f\"}, \"geo\": {\"bgcolor\": \"white\", \"lakecolor\": \"white\", \"landcolor\": \"#E5ECF6\", \"showlakes\": true, \"showland\": true, \"subunitcolor\": \"white\"}, \"hoverlabel\": {\"align\": \"left\"}, \"hovermode\": \"closest\", \"mapbox\": {\"style\": \"light\"}, \"paper_bgcolor\": \"white\", \"plot_bgcolor\": \"#E5ECF6\", \"polar\": {\"angularaxis\": {\"gridcolor\": \"white\", \"linecolor\": \"white\", \"ticks\": \"\"}, \"bgcolor\": \"#E5ECF6\", \"radialaxis\": {\"gridcolor\": \"white\", \"linecolor\": \"white\", \"ticks\": \"\"}}, \"scene\": {\"xaxis\": {\"backgroundcolor\": \"#E5ECF6\", \"gridcolor\": \"white\", \"gridwidth\": 2, \"linecolor\": \"white\", \"showbackground\": true, \"ticks\": \"\", \"zerolinecolor\": \"white\"}, \"yaxis\": {\"backgroundcolor\": \"#E5ECF6\", \"gridcolor\": \"white\", \"gridwidth\": 2, \"linecolor\": \"white\", \"showbackground\": true, \"ticks\": \"\", \"zerolinecolor\": \"white\"}, \"zaxis\": {\"backgroundcolor\": \"#E5ECF6\", \"gridcolor\": \"white\", \"gridwidth\": 2, \"linecolor\": \"white\", \"showbackground\": true, \"ticks\": \"\", \"zerolinecolor\": \"white\"}}, \"shapedefaults\": {\"line\": {\"color\": \"#2a3f5f\"}}, \"ternary\": {\"aaxis\": {\"gridcolor\": \"white\", \"linecolor\": \"white\", \"ticks\": \"\"}, \"baxis\": {\"gridcolor\": \"white\", \"linecolor\": \"white\", \"ticks\": \"\"}, \"bgcolor\": \"#E5ECF6\", \"caxis\": {\"gridcolor\": \"white\", \"linecolor\": \"white\", \"ticks\": \"\"}}, \"title\": {\"x\": 0.05}, \"xaxis\": {\"automargin\": true, \"gridcolor\": \"white\", \"linecolor\": \"white\", \"ticks\": \"\", \"zerolinecolor\": \"white\", \"zerolinewidth\": 2}, \"yaxis\": {\"automargin\": true, \"gridcolor\": \"white\", \"linecolor\": \"white\", \"ticks\": \"\", \"zerolinecolor\": \"white\", \"zerolinewidth\": 2}}}, \"updatemenus\": [{\"buttons\": [{\"args\": [null, {\"frame\": {\"redraw\": false}, \"fromcurrent\": true}], \"label\": \"Play\", \"method\": \"animate\"}, {\"args\": [[null], {\"frame\": {\"redraw\": false}, \"mode\": \"immediate\"}], \"label\": \"Pause\", \"method\": \"animate\"}], \"showactive\": true, \"type\": \"buttons\"}], \"width\": 912.0, \"xaxis\": {\"showgrid\": false, \"showticklabels\": false, \"zeroline\": false}, \"yaxis\": {\"showgrid\": false, \"showticklabels\": false, \"zeroline\": false}},\n",
       "                        {\"staticPlot\": true, \"responsive\": true}\n",
       "                    ).then(function(){\n",
       "                            Plotly.addFrames('ff103195-be30-45b9-9ba1-052d497300aa', [{\"data\": [{\"hoverinfo\": \"none\", \"line\": {\"color\": \"rgba(255, 255, 255, 0.0)\", \"dash\": \"solid\", \"width\": 1}, \"mode\": \"lines\", \"x\": [0.9877875629911081, 0.8253525168659742, null, 0.8394839343415457, 0.8522171385722057, null, 0.8394839343415457, 0.853751247625847, null], \"y\": [0.10064997194128933, 0.15515258554852496, null, 0.1504110029604899, 0.13825237953282507, null, 0.1504110029604899, 0.15351001266304967, null], \"type\": \"scatter\"}, {\"hoverinfo\": \"none\", \"line\": {\"color\": \"rgba(255, 255, 255, 0.0)\", \"dash\": \"solid\", \"width\": 1}, \"mode\": \"lines\", \"x\": [0.6657518540015366, 0.9746320637657699, null, 0.9616591481177758, 0.9510906525728116, null, 0.9616591481177758, 0.9474406442849851, null], \"y\": [0.6819712177264294, 0.4133666298311808, null, 0.4246479762926102, 0.44242885995765446, null, 0.4246479762926102, 0.4284220564697091, null], \"type\": \"scatter\"}, {\"hoverinfo\": \"none\", \"line\": {\"color\": \"rgba(255, 255, 255, 0.0)\", \"dash\": \"solid\", \"width\": 1}, \"mode\": \"lines\", \"x\": [0.3130067468288521, 0.3499668322226597, null, 0.3458091923564756, 0.3459015706469828, null, 0.3458091923564756, 0.3377729239203506, null], \"y\": [0.6729646013520403, 0.4496220702127133, null, 0.47474587069600155, 0.5009920473459931, null, 0.47474587069600155, 0.4965030607404037, null], \"type\": \"scatter\"}, {\"hoverinfo\": \"none\", \"line\": {\"color\": \"rgba(255, 255, 255, 0.0)\", \"dash\": \"solid\", \"width\": 1}, \"mode\": \"lines\", \"x\": [0.3499668322226597, 0.9926856014334526, null, 0.9784862464521992, 0.9655693764674027, null, 0.9784862464521992, 0.964272792565718, null], \"y\": [0.4496220702127133, 0.2682292564139206, null, 0.2722367027147967, 0.2837306548816061, null, 0.2722367027147967, 0.26839966990686415, null], \"type\": \"scatter\"}, {\"hoverinfo\": \"none\", \"line\": {\"color\": \"rgba(255, 255, 255, 0.0)\", \"dash\": \"solid\", \"width\": 1}, \"mode\": \"lines\", \"x\": [0.5148042784508876, 0.3846394161106561, null, 0.39887357572086857, 0.4130497913454055, null, 0.39887357572086857, 0.4118941842316794, null], \"y\": [0.30079606984334584, 0.2681343367755409, null, 0.2717060558499104, 0.2674339677160637, null, 0.2717060558499104, 0.28280253110505943, null], \"type\": \"scatter\"}, {\"hoverinfo\": \"none\", \"line\": {\"color\": \"rgba(255, 255, 255, 0.0)\", \"dash\": \"solid\", \"width\": 1}, \"mode\": \"lines\", \"x\": [0.4317862843872923, 0.864196207342952, null, 0.8501331652952427, 0.83756813173278, null, 0.8501331652952427, 0.8358283244251369, null], \"y\": [0.47596416145351483, 0.3106216182365953, null, 0.3159989674001878, 0.32872804950240503, null, 0.3159989674001878, 0.31354424103946854, null], \"type\": \"scatter\"}, {\"hoverinfo\": \"none\", \"line\": {\"color\": \"rgba(255, 255, 255, 0.0)\", \"dash\": \"solid\", \"width\": 1}, \"mode\": \"lines\", \"x\": [0.04247953120902426, 0.9088573793496606, null, 0.8946617281034954, 0.8804447671870989, null, 0.8946617281034954, 0.8817554417751662, null], \"y\": [0.7314598768196983, 0.9786971721994223, null, 0.9746461747878565, 0.9784396021768602, null, 0.9746461747878565, 0.9631126161096084, null], \"type\": \"scatter\"}, {\"hoverinfo\": \"none\", \"line\": {\"color\": \"rgba(255, 255, 255, 0.0)\", \"dash\": \"solid\", \"width\": 1}, \"mode\": \"lines\", \"x\": [0.7134229855990559, 0.02306618337905708, null, 0.03737721103278929, 0.051426193923551466, null, 0.03737721103278929, 0.05067192197101909, null], \"y\": [0.8958337535500325, 0.78337381735013, null, 0.7857051006107835, 0.7802064818269927, null, 0.7857051006107835, 0.7956580393253543, null], \"type\": \"scatter\"}, {\"hoverinfo\": \"none\", \"line\": {\"color\": \"rgba(255, 255, 255, 0.0)\", \"dash\": \"solid\", \"width\": 1}, \"mode\": \"lines\", \"x\": [0.5090667309339035, 0.35833691444281857, null, 0.36605647712096834, 0.3698501850197143, null, 0.36605647712096834, 0.3770123290352797, null], \"y\": [0.13887939504069535, 0.5711110886875235, null, 0.5489745285279956, 0.5236592748807892, null, 0.5489745285279956, 0.5319940548469596, null], \"type\": \"scatter\"}, {\"hoverinfo\": \"none\", \"line\": {\"color\": \"rgba(255, 255, 255, 0.0)\", \"dash\": \"solid\", \"width\": 1}, \"mode\": \"lines\", \"x\": [0.864196207342952, 0.5205252236641866, null, 0.5348513623196516, 0.5482144739508822, null, 0.5348513623196516, 0.5488608167000979, null], \"y\": [0.3106216182365953, 0.35854458361113184, null, 0.35654688500013015, 0.3469044742304788, null, 0.35654688500013015, 0.36237234701505056, null], \"type\": \"scatter\"}, {\"hoverinfo\": \"none\", \"line\": {\"color\": \"rgba(255, 255, 255, 0.0)\", \"dash\": \"solid\", \"width\": 1}, \"mode\": \"lines\", \"x\": [0.4084734897119745, 0.35833691444281857, null, 0.3629728571963361, 0.3633828613383074, null, 0.3629728571963361, 0.3714206236022302, null], \"y\": [0.3024412939240082, 0.5711110886875235, null, 0.5462681914326484, 0.5200321610598867, null, 0.5462681914326484, 0.5250375693190489, null], \"type\": \"scatter\"}, {\"hoverinfo\": \"none\", \"line\": {\"color\": \"rgba(255, 255, 255, 0.0)\", \"dash\": \"solid\", \"width\": 1}, \"mode\": \"lines\", \"x\": [0.08197942538511671, 0.9088573793496606, null, 0.8967789040385449, 0.8829404414832318, null, 0.8967789040385449, 0.8875393501984348, null], \"y\": [0.005611287598566106, 0.9786971721994223, null, 0.9644829900744861, 0.9574242032011742, null, 0.9644829900744861, 0.9443831232537412, null], \"type\": \"scatter\"}, {\"hoverinfo\": \"none\", \"marker\": {\"color\": \"rgba(255, 255, 255, 0.0)\", \"line\": {\"color\": \"rgba(255, 255, 255, 0.0)\", \"width\": 1}, \"size\": 20, \"symbol\": \"circle\"}, \"mode\": \"markers+text\", \"text\": [\"('Atlanta Hawks',)\"], \"textfont\": {\"color\": \"rgb(0, 0, 0)\"}, \"textposition\": \"middle center\", \"x\": [0.02306618337905708], \"y\": [0.78337381735013], \"type\": \"scatter\"}, {\"hoverinfo\": \"none\", \"marker\": {\"color\": \"rgba(255, 255, 255, 0.0)\", \"line\": {\"color\": \"rgba(255, 255, 255, 0.0)\", \"width\": 1}, \"size\": 20, \"symbol\": \"circle\"}, \"mode\": \"markers+text\", \"text\": [\"('Boston Celtics',)\"], \"textfont\": {\"color\": \"rgb(0, 0, 0)\"}, \"textposition\": \"middle center\", \"x\": [0.9877875629911081], \"y\": [0.10064997194128933], \"type\": \"scatter\"}, {\"hoverinfo\": \"none\", \"marker\": {\"color\": \"rgba(255, 255, 255, 0.0)\", \"line\": {\"color\": \"rgba(255, 255, 255, 0.0)\", \"width\": 1}, \"size\": 20, \"symbol\": \"circle\"}, \"mode\": \"markers+text\", \"text\": [\"('Brooklyn Nets',)\"], \"textfont\": {\"color\": \"rgb(0, 0, 0)\"}, \"textposition\": \"middle center\", \"x\": [0.6657518540015366], \"y\": [0.6819712177264294], \"type\": \"scatter\"}, {\"hoverinfo\": \"none\", \"marker\": {\"color\": \"rgba(255, 255, 255, 0.0)\", \"line\": {\"color\": \"rgba(255, 255, 255, 0.0)\", \"width\": 1}, \"size\": 20, \"symbol\": \"circle\"}, \"mode\": \"markers+text\", \"text\": [\"('Charlotte Hornets',)\"], \"textfont\": {\"color\": \"rgb(0, 0, 0)\"}, \"textposition\": \"middle center\", \"x\": [0.9360112977782276], \"y\": [0.303518405870677], \"type\": \"scatter\"}, {\"hoverinfo\": \"none\", \"marker\": {\"color\": \"rgba(255, 255, 255, 0.0)\", \"line\": {\"color\": \"rgba(255, 255, 255, 0.0)\", \"width\": 1}, \"size\": 20, \"symbol\": \"circle\"}, \"mode\": \"markers+text\", \"text\": [\"('Chicago Bulls',)\"], \"textfont\": {\"color\": \"rgb(0, 0, 0)\"}, \"textposition\": \"middle center\", \"x\": [0.3130067468288521], \"y\": [0.6729646013520403], \"type\": \"scatter\"}, {\"hoverinfo\": \"none\", \"marker\": {\"color\": \"rgba(255, 255, 255, 0.0)\", \"line\": {\"color\": \"rgba(255, 255, 255, 0.0)\", \"width\": 1}, \"size\": 20, \"symbol\": \"circle\"}, \"mode\": \"markers+text\", \"text\": [\"('Cleveland Cavaliers',)\"], \"textfont\": {\"color\": \"rgb(0, 0, 0)\"}, \"textposition\": \"middle center\", \"x\": [0.3499668322226597], \"y\": [0.4496220702127133], \"type\": \"scatter\"}, {\"hoverinfo\": \"none\", \"marker\": {\"color\": \"rgba(255, 255, 255, 0.0)\", \"line\": {\"color\": \"rgba(255, 255, 255, 0.0)\", \"width\": 1}, \"size\": 20, \"symbol\": \"circle\"}, \"mode\": \"markers+text\", \"text\": [\"('Dallas Mavericks',)\"], \"textfont\": {\"color\": \"rgb(0, 0, 0)\"}, \"textposition\": \"middle center\", \"x\": [0.5148042784508876], \"y\": [0.30079606984334584], \"type\": \"scatter\"}, {\"hoverinfo\": \"none\", \"marker\": {\"color\": \"rgba(255, 255, 255, 0.0)\", \"line\": {\"color\": \"rgba(255, 255, 255, 0.0)\", \"width\": 1}, \"size\": 20, \"symbol\": \"circle\"}, \"mode\": \"markers+text\", \"text\": [\"('Denver Nuggets',)\"], \"textfont\": {\"color\": \"rgb(0, 0, 0)\"}, \"textposition\": \"middle center\", \"x\": [0.7330741940372147], \"y\": [0.8273389887338318], \"type\": \"scatter\"}, {\"hoverinfo\": \"none\", \"marker\": {\"color\": \"rgba(255, 255, 255, 0.0)\", \"line\": {\"color\": \"rgba(255, 255, 255, 0.0)\", \"width\": 1}, \"size\": 20, \"symbol\": \"circle\"}, \"mode\": \"markers+text\", \"text\": [\"('Detroit Pistons',)\"], \"textfont\": {\"color\": \"rgb(0, 0, 0)\"}, \"textposition\": \"middle center\", \"x\": [0.4317862843872923], \"y\": [0.47596416145351483], \"type\": \"scatter\"}, {\"hoverinfo\": \"none\", \"marker\": {\"color\": \"rgba(255, 255, 255, 0.0)\", \"line\": {\"color\": \"rgba(255, 255, 255, 0.0)\", \"width\": 1}, \"size\": 20, \"symbol\": \"circle\"}, \"mode\": \"markers+text\", \"text\": [\"('Golden State Warriors',)\"], \"textfont\": {\"color\": \"rgb(0, 0, 0)\"}, \"textposition\": \"middle center\", \"x\": [0.5811320993677], \"y\": [0.9305262721546907], \"type\": \"scatter\"}, {\"hoverinfo\": \"none\", \"marker\": {\"color\": \"rgba(255, 255, 255, 0.0)\", \"line\": {\"color\": \"rgba(255, 255, 255, 0.0)\", \"width\": 1}, \"size\": 20, \"symbol\": \"circle\"}, \"mode\": \"markers+text\", \"text\": [\"('Houston Rockets',)\"], \"textfont\": {\"color\": \"rgb(0, 0, 0)\"}, \"textposition\": \"middle center\", \"x\": [0.9746320637657699], \"y\": [0.4133666298311808], \"type\": \"scatter\"}, {\"hoverinfo\": \"none\", \"marker\": {\"color\": \"rgba(255, 255, 255, 0.0)\", \"line\": {\"color\": \"rgba(255, 255, 255, 0.0)\", \"width\": 1}, \"size\": 20, \"symbol\": \"circle\"}, \"mode\": \"markers+text\", \"text\": [\"('Indiana Pacers',)\"], \"textfont\": {\"color\": \"rgb(0, 0, 0)\"}, \"textposition\": \"middle center\", \"x\": [0.5515185142253216], \"y\": [0.4037517772736835], \"type\": \"scatter\"}, {\"hoverinfo\": \"none\", \"marker\": {\"color\": \"rgba(255, 255, 255, 0.0)\", \"line\": {\"color\": \"rgba(255, 255, 255, 0.0)\", \"width\": 1}, \"size\": 20, \"symbol\": \"circle\"}, \"mode\": \"markers+text\", \"text\": [\"('LA Clippers',)\"], \"textfont\": {\"color\": \"rgb(0, 0, 0)\"}, \"textposition\": \"middle center\", \"x\": [0.6570115694483919], \"y\": [0.8752912558437298], \"type\": \"scatter\"}, {\"hoverinfo\": \"none\", \"marker\": {\"color\": \"rgba(255, 255, 255, 0.0)\", \"line\": {\"color\": \"rgba(255, 255, 255, 0.0)\", \"width\": 1}, \"size\": 20, \"symbol\": \"circle\"}, \"mode\": \"markers+text\", \"text\": [\"('Los Angeles Lakers',)\"], \"textfont\": {\"color\": \"rgb(0, 0, 0)\"}, \"textposition\": \"middle center\", \"x\": [0.9088573793496606], \"y\": [0.9786971721994223], \"type\": \"scatter\"}, {\"hoverinfo\": \"none\", \"marker\": {\"color\": \"rgba(255, 255, 255, 0.0)\", \"line\": {\"color\": \"rgba(255, 255, 255, 0.0)\", \"width\": 1}, \"size\": 20, \"symbol\": \"circle\"}, \"mode\": \"markers+text\", \"text\": [\"('Memphis Grizzlies',)\"], \"textfont\": {\"color\": \"rgb(0, 0, 0)\"}, \"textposition\": \"middle center\", \"x\": [0.04247953120902426], \"y\": [0.7314598768196983], \"type\": \"scatter\"}, {\"hoverinfo\": \"none\", \"marker\": {\"color\": \"rgba(255, 255, 255, 0.0)\", \"line\": {\"color\": \"rgba(255, 255, 255, 0.0)\", \"width\": 1}, \"size\": 20, \"symbol\": \"circle\"}, \"mode\": \"markers+text\", \"text\": [\"('Miami Heat',)\"], \"textfont\": {\"color\": \"rgb(0, 0, 0)\"}, \"textposition\": \"middle center\", \"x\": [0.8253525168659742], \"y\": [0.15515258554852496], \"type\": \"scatter\"}, {\"hoverinfo\": \"none\", \"marker\": {\"color\": \"rgba(255, 255, 255, 0.0)\", \"line\": {\"color\": \"rgba(255, 255, 255, 0.0)\", \"width\": 1}, \"size\": 20, \"symbol\": \"circle\"}, \"mode\": \"markers+text\", \"text\": [\"('Milwaukee Bucks',)\"], \"textfont\": {\"color\": \"rgb(0, 0, 0)\"}, \"textposition\": \"middle center\", \"x\": [0.7134229855990559], \"y\": [0.8958337535500325], \"type\": \"scatter\"}, {\"hoverinfo\": \"none\", \"marker\": {\"color\": \"rgba(255, 255, 255, 0.0)\", \"line\": {\"color\": \"rgba(255, 255, 255, 0.0)\", \"width\": 1}, \"size\": 20, \"symbol\": \"circle\"}, \"mode\": \"markers+text\", \"text\": [\"('Minnesota Timberwolves',)\"], \"textfont\": {\"color\": \"rgb(0, 0, 0)\"}, \"textposition\": \"middle center\", \"x\": [0.008183698087374514], \"y\": [0.10007021000132932], \"type\": \"scatter\"}, {\"hoverinfo\": \"none\", \"marker\": {\"color\": \"rgba(255, 255, 255, 0.0)\", \"line\": {\"color\": \"rgba(255, 255, 255, 0.0)\", \"width\": 1}, \"size\": 20, \"symbol\": \"circle\"}, \"mode\": \"markers+text\", \"text\": [\"('New Orleans Pelicans',)\"], \"textfont\": {\"color\": \"rgb(0, 0, 0)\"}, \"textposition\": \"middle center\", \"x\": [0.5090667309339035], \"y\": [0.13887939504069535], \"type\": \"scatter\"}, {\"hoverinfo\": \"none\", \"marker\": {\"color\": \"rgba(255, 255, 255, 0.0)\", \"line\": {\"color\": \"rgba(255, 255, 255, 0.0)\", \"width\": 1}, \"size\": 20, \"symbol\": \"circle\"}, \"mode\": \"markers+text\", \"text\": [\"('New York Knicks',)\"], \"textfont\": {\"color\": \"rgb(0, 0, 0)\"}, \"textposition\": \"middle center\", \"x\": [0.864196207342952], \"y\": [0.3106216182365953], \"type\": \"scatter\"}, {\"hoverinfo\": \"none\", \"marker\": {\"color\": \"rgba(255, 255, 255, 0.0)\", \"line\": {\"color\": \"rgba(255, 255, 255, 0.0)\", \"width\": 1}, \"size\": 20, \"symbol\": \"circle\"}, \"mode\": \"markers+text\", \"text\": [\"('Oklahoma City Thunder',)\"], \"textfont\": {\"color\": \"rgb(0, 0, 0)\"}, \"textposition\": \"middle center\", \"x\": [0.35833691444281857], \"y\": [0.5711110886875235], \"type\": \"scatter\"}, {\"hoverinfo\": \"none\", \"marker\": {\"color\": \"rgba(255, 255, 255, 0.0)\", \"line\": {\"color\": \"rgba(255, 255, 255, 0.0)\", \"width\": 1}, \"size\": 20, \"symbol\": \"circle\"}, \"mode\": \"markers+text\", \"text\": [\"('Orlando Magic',)\"], \"textfont\": {\"color\": \"rgb(0, 0, 0)\"}, \"textposition\": \"middle center\", \"x\": [0.17526360328523305], \"y\": [0.19546951598297113], \"type\": \"scatter\"}, {\"hoverinfo\": \"none\", \"marker\": {\"color\": \"rgba(255, 255, 255, 0.0)\", \"line\": {\"color\": \"rgba(255, 255, 255, 0.0)\", \"width\": 1}, \"size\": 20, \"symbol\": \"circle\"}, \"mode\": \"markers+text\", \"text\": [\"('Philadelphia 76ers',)\"], \"textfont\": {\"color\": \"rgb(0, 0, 0)\"}, \"textposition\": \"middle center\", \"x\": [0.4084734897119745], \"y\": [0.3024412939240082], \"type\": \"scatter\"}, {\"hoverinfo\": \"none\", \"marker\": {\"color\": \"rgba(255, 255, 255, 0.0)\", \"line\": {\"color\": \"rgba(255, 255, 255, 0.0)\", \"width\": 1}, \"size\": 20, \"symbol\": \"circle\"}, \"mode\": \"markers+text\", \"text\": [\"('Phoenix Suns',)\"], \"textfont\": {\"color\": \"rgb(0, 0, 0)\"}, \"textposition\": \"middle center\", \"x\": [0.3846394161106561], \"y\": [0.2681343367755409], \"type\": \"scatter\"}, {\"hoverinfo\": \"none\", \"marker\": {\"color\": \"rgba(255, 255, 255, 0.0)\", \"line\": {\"color\": \"rgba(255, 255, 255, 0.0)\", \"width\": 1}, \"size\": 20, \"symbol\": \"circle\"}, \"mode\": \"markers+text\", \"text\": [\"('Portland Trail Blazers',)\"], \"textfont\": {\"color\": \"rgb(0, 0, 0)\"}, \"textposition\": \"middle center\", \"x\": [0.5205252236641866], \"y\": [0.35854458361113184], \"type\": \"scatter\"}, {\"hoverinfo\": \"none\", \"marker\": {\"color\": \"rgba(255, 255, 255, 0.0)\", \"line\": {\"color\": \"rgba(255, 255, 255, 0.0)\", \"width\": 1}, \"size\": 20, \"symbol\": \"circle\"}, \"mode\": \"markers+text\", \"text\": [\"('Sacramento Kings',)\"], \"textfont\": {\"color\": \"rgb(0, 0, 0)\"}, \"textposition\": \"middle center\", \"x\": [0.42840018223088105], \"y\": [0.1901977870068059], \"type\": \"scatter\"}, {\"hoverinfo\": \"none\", \"marker\": {\"color\": \"rgba(255, 255, 255, 0.0)\", \"line\": {\"color\": \"rgba(255, 255, 255, 0.0)\", \"width\": 1}, \"size\": 20, \"symbol\": \"circle\"}, \"mode\": \"markers+text\", \"text\": [\"('San Antonio Spurs',)\"], \"textfont\": {\"color\": \"rgb(0, 0, 0)\"}, \"textposition\": \"middle center\", \"x\": [0.009859986609690008], \"y\": [0.9822939322824391], \"type\": \"scatter\"}, {\"hoverinfo\": \"none\", \"marker\": {\"color\": \"rgba(255, 255, 255, 0.0)\", \"line\": {\"color\": \"rgba(255, 255, 255, 0.0)\", \"width\": 1}, \"size\": 20, \"symbol\": \"circle\"}, \"mode\": \"markers+text\", \"text\": [\"('Toronto Raptors',)\"], \"textfont\": {\"color\": \"rgb(0, 0, 0)\"}, \"textposition\": \"middle center\", \"x\": [0.9926856014334526], \"y\": [0.2682292564139206], \"type\": \"scatter\"}, {\"hoverinfo\": \"none\", \"marker\": {\"color\": \"rgba(255, 255, 255, 0.0)\", \"line\": {\"color\": \"rgba(255, 255, 255, 0.0)\", \"width\": 1}, \"size\": 20, \"symbol\": \"circle\"}, \"mode\": \"markers+text\", \"text\": [\"('Utah Jazz',)\"], \"textfont\": {\"color\": \"rgb(0, 0, 0)\"}, \"textposition\": \"middle center\", \"x\": [0.2172710196978057], \"y\": [0.78994857462467], \"type\": \"scatter\"}, {\"hoverinfo\": \"none\", \"marker\": {\"color\": \"rgba(255, 255, 255, 0.0)\", \"line\": {\"color\": \"rgba(255, 255, 255, 0.0)\", \"width\": 1}, \"size\": 20, \"symbol\": \"circle\"}, \"mode\": \"markers+text\", \"text\": [\"('Washington Wizards',)\"], \"textfont\": {\"color\": \"rgb(0, 0, 0)\"}, \"textposition\": \"middle center\", \"x\": [0.08197942538511671], \"y\": [0.005611287598566106], \"type\": \"scatter\"}, {\"hoverinfo\": \"none\", \"mode\": \"text\", \"text\": [null, null, null, null, null, null, null, null, null, null, null, null], \"textfont\": {\"color\": \"rgb(0, 0, 0)\"}, \"textposition\": \"middle center\", \"x\": [0.9039744322187117, 0.8263675235414185, 0.34523990444548697, 0.6735199482082771, 0.4516770555671724, 0.650934880967606, 0.4734508834204249, 0.3695207611015694, 0.4215839643251712, 0.6912671477294434, 0.36980585745942607, 0.4876373630145141], \"y\": [0.10208640587614667, 0.5713674783483693, 0.5688883944355635, 0.38486464249166963, 0.2584626440214962, 0.4189828564203979, 0.8810107378096415, 0.8134608057991689, 0.3408933635859146, 0.3084125169233292, 0.42830738249619055, 0.514218846215363], \"type\": \"scatter\"}, {\"hoverinfo\": \"none\", \"marker\": {\"color\": \"rgba(255, 255, 255, 0.0)\", \"line\": {\"color\": \"rgba(255, 255, 255, 0.0)\", \"width\": 0}, \"size\": 0, \"symbol\": \"circle\"}, \"mode\": \"markers\", \"x\": [0.5, 0.0, 1.0, 0.5], \"y\": [0.0, 0.5, 0.5, 1.0], \"type\": \"scatter\"}], \"name\": \"0\"}, {\"data\": [{\"hoverinfo\": \"none\", \"line\": {\"color\": \"rgb(0, 0, 0)\", \"dash\": \"solid\", \"width\": 1}, \"mode\": \"lines\", \"x\": [0.9877875629911081, 0.8253525168659742, null, 0.8394839343415457, 0.8522171385722057, null, 0.8394839343415457, 0.853751247625847, null], \"y\": [0.10064997194128933, 0.15515258554852496, null, 0.1504110029604899, 0.13825237953282507, null, 0.1504110029604899, 0.15351001266304967, null], \"type\": \"scatter\"}, {\"hoverinfo\": \"none\", \"line\": {\"color\": \"rgb(0, 0, 0)\", \"dash\": \"solid\", \"width\": 1}, \"mode\": \"lines\", \"x\": [0.6657518540015366, 0.9746320637657699, null, 0.9616591481177758, 0.9510906525728116, null, 0.9616591481177758, 0.9474406442849851, null], \"y\": [0.6819712177264294, 0.4133666298311808, null, 0.4246479762926102, 0.44242885995765446, null, 0.4246479762926102, 0.4284220564697091, null], \"type\": \"scatter\"}, {\"hoverinfo\": \"none\", \"line\": {\"color\": \"rgb(0, 0, 0)\", \"dash\": \"solid\", \"width\": 1}, \"mode\": \"lines\", \"x\": [0.3130067468288521, 0.3499668322226597, null, 0.3458091923564756, 0.3459015706469828, null, 0.3458091923564756, 0.3377729239203506, null], \"y\": [0.6729646013520403, 0.4496220702127133, null, 0.47474587069600155, 0.5009920473459931, null, 0.47474587069600155, 0.4965030607404037, null], \"type\": \"scatter\"}, {\"hoverinfo\": \"none\", \"line\": {\"color\": \"rgb(0, 0, 0)\", \"dash\": \"solid\", \"width\": 1}, \"mode\": \"lines\", \"x\": [0.3499668322226597, 0.9926856014334526, null, 0.9784862464521992, 0.9655693764674027, null, 0.9784862464521992, 0.964272792565718, null], \"y\": [0.4496220702127133, 0.2682292564139206, null, 0.2722367027147967, 0.2837306548816061, null, 0.2722367027147967, 0.26839966990686415, null], \"type\": \"scatter\"}, {\"hoverinfo\": \"none\", \"line\": {\"color\": \"rgb(0, 0, 0)\", \"dash\": \"solid\", \"width\": 1}, \"mode\": \"lines\", \"x\": [0.5148042784508876, 0.3846394161106561, null, 0.39887357572086857, 0.4130497913454055, null, 0.39887357572086857, 0.4118941842316794, null], \"y\": [0.30079606984334584, 0.2681343367755409, null, 0.2717060558499104, 0.2674339677160637, null, 0.2717060558499104, 0.28280253110505943, null], \"type\": \"scatter\"}, {\"hoverinfo\": \"none\", \"line\": {\"color\": \"rgb(0, 0, 0)\", \"dash\": \"solid\", \"width\": 1}, \"mode\": \"lines\", \"x\": [0.4317862843872923, 0.864196207342952, null, 0.8501331652952427, 0.83756813173278, null, 0.8501331652952427, 0.8358283244251369, null], \"y\": [0.47596416145351483, 0.3106216182365953, null, 0.3159989674001878, 0.32872804950240503, null, 0.3159989674001878, 0.31354424103946854, null], \"type\": \"scatter\"}, {\"hoverinfo\": \"none\", \"line\": {\"color\": \"rgb(0, 0, 0)\", \"dash\": \"solid\", \"width\": 1}, \"mode\": \"lines\", \"x\": [0.04247953120902426, 0.9088573793496606, null, 0.8946617281034954, 0.8804447671870989, null, 0.8946617281034954, 0.8817554417751662, null], \"y\": [0.7314598768196983, 0.9786971721994223, null, 0.9746461747878565, 0.9784396021768602, null, 0.9746461747878565, 0.9631126161096084, null], \"type\": \"scatter\"}, {\"hoverinfo\": \"none\", \"line\": {\"color\": \"rgb(0, 0, 0)\", \"dash\": \"solid\", \"width\": 1}, \"mode\": \"lines\", \"x\": [0.7134229855990559, 0.02306618337905708, null, 0.03737721103278929, 0.051426193923551466, null, 0.03737721103278929, 0.05067192197101909, null], \"y\": [0.8958337535500325, 0.78337381735013, null, 0.7857051006107835, 0.7802064818269927, null, 0.7857051006107835, 0.7956580393253543, null], \"type\": \"scatter\"}, {\"hoverinfo\": \"none\", \"line\": {\"color\": \"rgb(0, 0, 0)\", \"dash\": \"solid\", \"width\": 1}, \"mode\": \"lines\", \"x\": [0.5090667309339035, 0.35833691444281857, null, 0.36605647712096834, 0.3698501850197143, null, 0.36605647712096834, 0.3770123290352797, null], \"y\": [0.13887939504069535, 0.5711110886875235, null, 0.5489745285279956, 0.5236592748807892, null, 0.5489745285279956, 0.5319940548469596, null], \"type\": \"scatter\"}, {\"hoverinfo\": \"none\", \"line\": {\"color\": \"rgb(0, 0, 0)\", \"dash\": \"solid\", \"width\": 1}, \"mode\": \"lines\", \"x\": [0.864196207342952, 0.5205252236641866, null, 0.5348513623196516, 0.5482144739508822, null, 0.5348513623196516, 0.5488608167000979, null], \"y\": [0.3106216182365953, 0.35854458361113184, null, 0.35654688500013015, 0.3469044742304788, null, 0.35654688500013015, 0.36237234701505056, null], \"type\": \"scatter\"}, {\"hoverinfo\": \"none\", \"line\": {\"color\": \"rgb(0, 0, 0)\", \"dash\": \"solid\", \"width\": 1}, \"mode\": \"lines\", \"x\": [0.4084734897119745, 0.35833691444281857, null, 0.3629728571963361, 0.3633828613383074, null, 0.3629728571963361, 0.3714206236022302, null], \"y\": [0.3024412939240082, 0.5711110886875235, null, 0.5462681914326484, 0.5200321610598867, null, 0.5462681914326484, 0.5250375693190489, null], \"type\": \"scatter\"}, {\"hoverinfo\": \"none\", \"line\": {\"color\": \"rgb(0, 0, 0)\", \"dash\": \"solid\", \"width\": 1}, \"mode\": \"lines\", \"x\": [0.08197942538511671, 0.9088573793496606, null, 0.8967789040385449, 0.8829404414832318, null, 0.8967789040385449, 0.8875393501984348, null], \"y\": [0.005611287598566106, 0.9786971721994223, null, 0.9644829900744861, 0.9574242032011742, null, 0.9644829900744861, 0.9443831232537412, null], \"type\": \"scatter\"}, {\"hoverinfo\": \"none\", \"marker\": {\"color\": \"rgb(255, 0, 0)\", \"line\": {\"color\": \"rgb(0, 0, 0)\", \"width\": 1}, \"size\": 20, \"symbol\": \"circle\"}, \"mode\": \"markers+text\", \"text\": [\"('Atlanta Hawks',)\"], \"textfont\": {\"color\": \"rgb(0, 0, 0)\"}, \"textposition\": \"middle center\", \"x\": [0.02306618337905708], \"y\": [0.78337381735013], \"type\": \"scatter\"}, {\"hoverinfo\": \"none\", \"marker\": {\"color\": \"rgb(255, 0, 0)\", \"line\": {\"color\": \"rgb(0, 0, 0)\", \"width\": 1}, \"size\": 20, \"symbol\": \"circle\"}, \"mode\": \"markers+text\", \"text\": [\"('Boston Celtics',)\"], \"textfont\": {\"color\": \"rgb(0, 0, 0)\"}, \"textposition\": \"middle center\", \"x\": [0.9877875629911081], \"y\": [0.10064997194128933], \"type\": \"scatter\"}, {\"hoverinfo\": \"none\", \"marker\": {\"color\": \"rgb(255, 0, 0)\", \"line\": {\"color\": \"rgb(0, 0, 0)\", \"width\": 1}, \"size\": 20, \"symbol\": \"circle\"}, \"mode\": \"markers+text\", \"text\": [\"('Brooklyn Nets',)\"], \"textfont\": {\"color\": \"rgb(0, 0, 0)\"}, \"textposition\": \"middle center\", \"x\": [0.6657518540015366], \"y\": [0.6819712177264294], \"type\": \"scatter\"}, {\"hoverinfo\": \"none\", \"marker\": {\"color\": \"rgb(255, 0, 0)\", \"line\": {\"color\": \"rgb(0, 0, 0)\", \"width\": 1}, \"size\": 20, \"symbol\": \"circle\"}, \"mode\": \"markers+text\", \"text\": [\"('Charlotte Hornets',)\"], \"textfont\": {\"color\": \"rgb(0, 0, 0)\"}, \"textposition\": \"middle center\", \"x\": [0.9360112977782276], \"y\": [0.303518405870677], \"type\": \"scatter\"}, {\"hoverinfo\": \"none\", \"marker\": {\"color\": \"rgb(255, 0, 0)\", \"line\": {\"color\": \"rgb(0, 0, 0)\", \"width\": 1}, \"size\": 20, \"symbol\": \"circle\"}, \"mode\": \"markers+text\", \"text\": [\"('Chicago Bulls',)\"], \"textfont\": {\"color\": \"rgb(0, 0, 0)\"}, \"textposition\": \"middle center\", \"x\": [0.3130067468288521], \"y\": [0.6729646013520403], \"type\": \"scatter\"}, {\"hoverinfo\": \"none\", \"marker\": {\"color\": \"rgb(255, 0, 0)\", \"line\": {\"color\": \"rgb(0, 0, 0)\", \"width\": 1}, \"size\": 20, \"symbol\": \"circle\"}, \"mode\": \"markers+text\", \"text\": [\"('Cleveland Cavaliers',)\"], \"textfont\": {\"color\": \"rgb(0, 0, 0)\"}, \"textposition\": \"middle center\", \"x\": [0.3499668322226597], \"y\": [0.4496220702127133], \"type\": \"scatter\"}, {\"hoverinfo\": \"none\", \"marker\": {\"color\": \"rgb(255, 0, 0)\", \"line\": {\"color\": \"rgb(0, 0, 0)\", \"width\": 1}, \"size\": 20, \"symbol\": \"circle\"}, \"mode\": \"markers+text\", \"text\": [\"('Dallas Mavericks',)\"], \"textfont\": {\"color\": \"rgb(0, 0, 0)\"}, \"textposition\": \"middle center\", \"x\": [0.5148042784508876], \"y\": [0.30079606984334584], \"type\": \"scatter\"}, {\"hoverinfo\": \"none\", \"marker\": {\"color\": \"rgb(255, 0, 0)\", \"line\": {\"color\": \"rgb(0, 0, 0)\", \"width\": 1}, \"size\": 20, \"symbol\": \"circle\"}, \"mode\": \"markers+text\", \"text\": [\"('Denver Nuggets',)\"], \"textfont\": {\"color\": \"rgb(0, 0, 0)\"}, \"textposition\": \"middle center\", \"x\": [0.7330741940372147], \"y\": [0.8273389887338318], \"type\": \"scatter\"}, {\"hoverinfo\": \"none\", \"marker\": {\"color\": \"rgb(255, 0, 0)\", \"line\": {\"color\": \"rgb(0, 0, 0)\", \"width\": 1}, \"size\": 20, \"symbol\": \"circle\"}, \"mode\": \"markers+text\", \"text\": [\"('Detroit Pistons',)\"], \"textfont\": {\"color\": \"rgb(0, 0, 0)\"}, \"textposition\": \"middle center\", \"x\": [0.4317862843872923], \"y\": [0.47596416145351483], \"type\": \"scatter\"}, {\"hoverinfo\": \"none\", \"marker\": {\"color\": \"rgb(255, 0, 0)\", \"line\": {\"color\": \"rgb(0, 0, 0)\", \"width\": 1}, \"size\": 20, \"symbol\": \"circle\"}, \"mode\": \"markers+text\", \"text\": [\"('Golden State Warriors',)\"], \"textfont\": {\"color\": \"rgb(0, 0, 0)\"}, \"textposition\": \"middle center\", \"x\": [0.5811320993677], \"y\": [0.9305262721546907], \"type\": \"scatter\"}, {\"hoverinfo\": \"none\", \"marker\": {\"color\": \"rgb(255, 0, 0)\", \"line\": {\"color\": \"rgb(0, 0, 0)\", \"width\": 1}, \"size\": 20, \"symbol\": \"circle\"}, \"mode\": \"markers+text\", \"text\": [\"('Houston Rockets',)\"], \"textfont\": {\"color\": \"rgb(0, 0, 0)\"}, \"textposition\": \"middle center\", \"x\": [0.9746320637657699], \"y\": [0.4133666298311808], \"type\": \"scatter\"}, {\"hoverinfo\": \"none\", \"marker\": {\"color\": \"rgb(255, 0, 0)\", \"line\": {\"color\": \"rgb(0, 0, 0)\", \"width\": 1}, \"size\": 20, \"symbol\": \"circle\"}, \"mode\": \"markers+text\", \"text\": [\"('Indiana Pacers',)\"], \"textfont\": {\"color\": \"rgb(0, 0, 0)\"}, \"textposition\": \"middle center\", \"x\": [0.5515185142253216], \"y\": [0.4037517772736835], \"type\": \"scatter\"}, {\"hoverinfo\": \"none\", \"marker\": {\"color\": \"rgb(255, 0, 0)\", \"line\": {\"color\": \"rgb(0, 0, 0)\", \"width\": 1}, \"size\": 20, \"symbol\": \"circle\"}, \"mode\": \"markers+text\", \"text\": [\"('LA Clippers',)\"], \"textfont\": {\"color\": \"rgb(0, 0, 0)\"}, \"textposition\": \"middle center\", \"x\": [0.6570115694483919], \"y\": [0.8752912558437298], \"type\": \"scatter\"}, {\"hoverinfo\": \"none\", \"marker\": {\"color\": \"rgb(255, 0, 0)\", \"line\": {\"color\": \"rgb(0, 0, 0)\", \"width\": 1}, \"size\": 20, \"symbol\": \"circle\"}, \"mode\": \"markers+text\", \"text\": [\"('Los Angeles Lakers',)\"], \"textfont\": {\"color\": \"rgb(0, 0, 0)\"}, \"textposition\": \"middle center\", \"x\": [0.9088573793496606], \"y\": [0.9786971721994223], \"type\": \"scatter\"}, {\"hoverinfo\": \"none\", \"marker\": {\"color\": \"rgb(255, 0, 0)\", \"line\": {\"color\": \"rgb(0, 0, 0)\", \"width\": 1}, \"size\": 20, \"symbol\": \"circle\"}, \"mode\": \"markers+text\", \"text\": [\"('Memphis Grizzlies',)\"], \"textfont\": {\"color\": \"rgb(0, 0, 0)\"}, \"textposition\": \"middle center\", \"x\": [0.04247953120902426], \"y\": [0.7314598768196983], \"type\": \"scatter\"}, {\"hoverinfo\": \"none\", \"marker\": {\"color\": \"rgb(255, 0, 0)\", \"line\": {\"color\": \"rgb(0, 0, 0)\", \"width\": 1}, \"size\": 20, \"symbol\": \"circle\"}, \"mode\": \"markers+text\", \"text\": [\"('Miami Heat',)\"], \"textfont\": {\"color\": \"rgb(0, 0, 0)\"}, \"textposition\": \"middle center\", \"x\": [0.8253525168659742], \"y\": [0.15515258554852496], \"type\": \"scatter\"}, {\"hoverinfo\": \"none\", \"marker\": {\"color\": \"rgb(255, 0, 0)\", \"line\": {\"color\": \"rgb(0, 0, 0)\", \"width\": 1}, \"size\": 20, \"symbol\": \"circle\"}, \"mode\": \"markers+text\", \"text\": [\"('Milwaukee Bucks',)\"], \"textfont\": {\"color\": \"rgb(0, 0, 0)\"}, \"textposition\": \"middle center\", \"x\": [0.7134229855990559], \"y\": [0.8958337535500325], \"type\": \"scatter\"}, {\"hoverinfo\": \"none\", \"marker\": {\"color\": \"rgb(255, 0, 0)\", \"line\": {\"color\": \"rgb(0, 0, 0)\", \"width\": 1}, \"size\": 20, \"symbol\": \"circle\"}, \"mode\": \"markers+text\", \"text\": [\"('Minnesota Timberwolves',)\"], \"textfont\": {\"color\": \"rgb(0, 0, 0)\"}, \"textposition\": \"middle center\", \"x\": [0.008183698087374514], \"y\": [0.10007021000132932], \"type\": \"scatter\"}, {\"hoverinfo\": \"none\", \"marker\": {\"color\": \"rgb(255, 0, 0)\", \"line\": {\"color\": \"rgb(0, 0, 0)\", \"width\": 1}, \"size\": 20, \"symbol\": \"circle\"}, \"mode\": \"markers+text\", \"text\": [\"('New Orleans Pelicans',)\"], \"textfont\": {\"color\": \"rgb(0, 0, 0)\"}, \"textposition\": \"middle center\", \"x\": [0.5090667309339035], \"y\": [0.13887939504069535], \"type\": \"scatter\"}, {\"hoverinfo\": \"none\", \"marker\": {\"color\": \"rgb(255, 0, 0)\", \"line\": {\"color\": \"rgb(0, 0, 0)\", \"width\": 1}, \"size\": 20, \"symbol\": \"circle\"}, \"mode\": \"markers+text\", \"text\": [\"('New York Knicks',)\"], \"textfont\": {\"color\": \"rgb(0, 0, 0)\"}, \"textposition\": \"middle center\", \"x\": [0.864196207342952], \"y\": [0.3106216182365953], \"type\": \"scatter\"}, {\"hoverinfo\": \"none\", \"marker\": {\"color\": \"rgb(255, 0, 0)\", \"line\": {\"color\": \"rgb(0, 0, 0)\", \"width\": 1}, \"size\": 20, \"symbol\": \"circle\"}, \"mode\": \"markers+text\", \"text\": [\"('Oklahoma City Thunder',)\"], \"textfont\": {\"color\": \"rgb(0, 0, 0)\"}, \"textposition\": \"middle center\", \"x\": [0.35833691444281857], \"y\": [0.5711110886875235], \"type\": \"scatter\"}, {\"hoverinfo\": \"none\", \"marker\": {\"color\": \"rgb(255, 0, 0)\", \"line\": {\"color\": \"rgb(0, 0, 0)\", \"width\": 1}, \"size\": 20, \"symbol\": \"circle\"}, \"mode\": \"markers+text\", \"text\": [\"('Orlando Magic',)\"], \"textfont\": {\"color\": \"rgb(0, 0, 0)\"}, \"textposition\": \"middle center\", \"x\": [0.17526360328523305], \"y\": [0.19546951598297113], \"type\": \"scatter\"}, {\"hoverinfo\": \"none\", \"marker\": {\"color\": \"rgb(255, 0, 0)\", \"line\": {\"color\": \"rgb(0, 0, 0)\", \"width\": 1}, \"size\": 20, \"symbol\": \"circle\"}, \"mode\": \"markers+text\", \"text\": [\"('Philadelphia 76ers',)\"], \"textfont\": {\"color\": \"rgb(0, 0, 0)\"}, \"textposition\": \"middle center\", \"x\": [0.4084734897119745], \"y\": [0.3024412939240082], \"type\": \"scatter\"}, {\"hoverinfo\": \"none\", \"marker\": {\"color\": \"rgb(255, 0, 0)\", \"line\": {\"color\": \"rgb(0, 0, 0)\", \"width\": 1}, \"size\": 20, \"symbol\": \"circle\"}, \"mode\": \"markers+text\", \"text\": [\"('Phoenix Suns',)\"], \"textfont\": {\"color\": \"rgb(0, 0, 0)\"}, \"textposition\": \"middle center\", \"x\": [0.3846394161106561], \"y\": [0.2681343367755409], \"type\": \"scatter\"}, {\"hoverinfo\": \"none\", \"marker\": {\"color\": \"rgb(255, 0, 0)\", \"line\": {\"color\": \"rgb(0, 0, 0)\", \"width\": 1}, \"size\": 20, \"symbol\": \"circle\"}, \"mode\": \"markers+text\", \"text\": [\"('Portland Trail Blazers',)\"], \"textfont\": {\"color\": \"rgb(0, 0, 0)\"}, \"textposition\": \"middle center\", \"x\": [0.5205252236641866], \"y\": [0.35854458361113184], \"type\": \"scatter\"}, {\"hoverinfo\": \"none\", \"marker\": {\"color\": \"rgb(255, 0, 0)\", \"line\": {\"color\": \"rgb(0, 0, 0)\", \"width\": 1}, \"size\": 20, \"symbol\": \"circle\"}, \"mode\": \"markers+text\", \"text\": [\"('Sacramento Kings',)\"], \"textfont\": {\"color\": \"rgb(0, 0, 0)\"}, \"textposition\": \"middle center\", \"x\": [0.42840018223088105], \"y\": [0.1901977870068059], \"type\": \"scatter\"}, {\"hoverinfo\": \"none\", \"marker\": {\"color\": \"rgb(255, 0, 0)\", \"line\": {\"color\": \"rgb(0, 0, 0)\", \"width\": 1}, \"size\": 20, \"symbol\": \"circle\"}, \"mode\": \"markers+text\", \"text\": [\"('San Antonio Spurs',)\"], \"textfont\": {\"color\": \"rgb(0, 0, 0)\"}, \"textposition\": \"middle center\", \"x\": [0.009859986609690008], \"y\": [0.9822939322824391], \"type\": \"scatter\"}, {\"hoverinfo\": \"none\", \"marker\": {\"color\": \"rgb(255, 0, 0)\", \"line\": {\"color\": \"rgb(0, 0, 0)\", \"width\": 1}, \"size\": 20, \"symbol\": \"circle\"}, \"mode\": \"markers+text\", \"text\": [\"('Toronto Raptors',)\"], \"textfont\": {\"color\": \"rgb(0, 0, 0)\"}, \"textposition\": \"middle center\", \"x\": [0.9926856014334526], \"y\": [0.2682292564139206], \"type\": \"scatter\"}, {\"hoverinfo\": \"none\", \"marker\": {\"color\": \"rgb(255, 0, 0)\", \"line\": {\"color\": \"rgb(0, 0, 0)\", \"width\": 1}, \"size\": 20, \"symbol\": \"circle\"}, \"mode\": \"markers+text\", \"text\": [\"('Utah Jazz',)\"], \"textfont\": {\"color\": \"rgb(0, 0, 0)\"}, \"textposition\": \"middle center\", \"x\": [0.2172710196978057], \"y\": [0.78994857462467], \"type\": \"scatter\"}, {\"hoverinfo\": \"none\", \"marker\": {\"color\": \"rgb(255, 0, 0)\", \"line\": {\"color\": \"rgb(0, 0, 0)\", \"width\": 1}, \"size\": 20, \"symbol\": \"circle\"}, \"mode\": \"markers+text\", \"text\": [\"('Washington Wizards',)\"], \"textfont\": {\"color\": \"rgb(0, 0, 0)\"}, \"textposition\": \"middle center\", \"x\": [0.08197942538511671], \"y\": [0.005611287598566106], \"type\": \"scatter\"}, {\"hoverinfo\": \"none\", \"mode\": \"text\", \"text\": [null, null, null, null, null, null, null, null, null, null, null, null], \"textfont\": {\"color\": \"rgb(0, 0, 0)\"}, \"textposition\": \"middle center\", \"x\": [0.9039744322187117, 0.8263675235414185, 0.34523990444548697, 0.6735199482082771, 0.4516770555671724, 0.650934880967606, 0.4734508834204249, 0.3695207611015694, 0.4215839643251712, 0.6912671477294434, 0.36980585745942607, 0.4876373630145141], \"y\": [0.10208640587614667, 0.5713674783483693, 0.5688883944355635, 0.38486464249166963, 0.2584626440214962, 0.4189828564203979, 0.8810107378096415, 0.8134608057991689, 0.3408933635859146, 0.3084125169233292, 0.42830738249619055, 0.514218846215363], \"type\": \"scatter\"}, {\"hoverinfo\": \"none\", \"marker\": {\"color\": \"rgba(255, 255, 255, 0.0)\", \"line\": {\"color\": \"rgba(255, 255, 255, 0.0)\", \"width\": 0}, \"size\": 0, \"symbol\": \"circle\"}, \"mode\": \"markers\", \"x\": [0.5, 0.0, 1.0, 0.5], \"y\": [0.0, 0.5, 0.5, 1.0], \"type\": \"scatter\"}], \"name\": \"1\"}]);\n",
       "                        }).then(function(){\n",
       "                            Plotly.animate('ff103195-be30-45b9-9ba1-052d497300aa', null);\n",
       "                        }).then(function(){\n",
       "                            \n",
       "var gd = document.getElementById('ff103195-be30-45b9-9ba1-052d497300aa');\n",
       "var x = new MutationObserver(function (mutations, observer) {{\n",
       "        var display = window.getComputedStyle(gd).display;\n",
       "        if (!display || display === 'none') {{\n",
       "            console.log([gd, 'removed!']);\n",
       "            Plotly.purge(gd);\n",
       "            observer.disconnect();\n",
       "        }}\n",
       "}});\n",
       "\n",
       "// Listen for the removal of the full notebook cells\n",
       "var notebookContainer = gd.closest('#notebook-container');\n",
       "if (notebookContainer) {{\n",
       "    x.observe(notebookContainer, {childList: true});\n",
       "}}\n",
       "\n",
       "// Listen for the clearing of the current output cell\n",
       "var outputEl = gd.closest('.output');\n",
       "if (outputEl) {{\n",
       "    x.observe(outputEl, {childList: true});\n",
       "}}\n",
       "\n",
       "                        })\n",
       "                };\n",
       "                });\n",
       "            </script>\n",
       "        </div>"
      ]
     },
     "metadata": {},
     "output_type": "display_data"
    }
   ],
   "source": [
    "a = fm.Animation()\n",
    "g = nx.DiGraph()\n",
    "a.rec(g)\n",
    "\n",
    "transfers = list_all_transfers(connection, 2019)\n",
    "teams = list_all_teams(connection)\n",
    "\n",
    "for team in teams:\n",
    "    add_node(g, team)\n",
    "\n",
    "    \n",
    "#Existem casos em que um time assina com um jogador e na mesma temporada vende ele, vamos ignorar estes casos por enquanto\n",
    "for transfer in transfers:\n",
    "    antigo = get_from_where(connection, transfer[1], transfer[3])\n",
    "    novo = get_team_name(connection, transfer[2])\n",
    "    if(antigo != -1) and (novo != -1):\n",
    "        if(antigo != novo):\n",
    "            id_antigo = get_team_id(connection, antigo)\n",
    "            id_novo = get_team_id(connection, novo)\n",
    "            weight = get_weight(connection, id_antigo, id_novo, 2019)\n",
    "            if(weight == -1):\n",
    "                weight = 0\n",
    "            add_edge(g, antigo, novo, weight)\n",
    "    #else:\n",
    "        #print(antigo, novo)\n",
    "        \n",
    "for ant, novo, weight in g.edges(data=True):\n",
    "    print(ant, novo, weight)\n",
    "    \n",
    "a.rec(g)\n",
    "a.play()"
   ]
  },
  {
   "cell_type": "code",
   "execution_count": 4,
   "metadata": {},
   "outputs": [
    {
     "name": "stdout",
     "output_type": "stream",
     "text": [
      "-1 ('Phoenix Suns',)\n",
      "-1 ('Chicago Bulls',)\n",
      "-1 ('Sacramento Kings',)\n",
      "-1 ('Los Angeles Lakers',)\n",
      "-1 ('Orlando Magic',)\n",
      "-1 ('Dallas Mavericks',)\n",
      "-1 ('Memphis Grizzlies',)\n",
      "-1 ('New York Knicks',)\n",
      "-1 ('Atlanta Hawks',)\n",
      "-1 ('Milwaukee Bucks',)\n",
      "-1 ('Golden State Warriors',)\n",
      "-1 ('San Antonio Spurs',)\n",
      "-1 ('Cleveland Cavaliers',)\n",
      "-1 ('Philadelphia 76ers',)\n",
      "-1 ('Cleveland Cavaliers',)\n",
      "-1 ('Phoenix Suns',)\n",
      "-1 ('Atlanta Hawks',)\n",
      "-1 ('LA Clippers',)\n",
      "-1 ('Dallas Mavericks',)\n",
      "-1 ('Phoenix Suns',)\n",
      "-1 ('New York Knicks',)\n",
      "-1 ('Phoenix Suns',)\n",
      "-1 ('Cleveland Cavaliers',)\n",
      "-1 ('Atlanta Hawks',)\n",
      "-1 ('Houston Rockets',)\n",
      "-1 ('Los Angeles Lakers',)\n",
      "-1 ('Memphis Grizzlies',)\n",
      "-1 ('Memphis Grizzlies',)\n",
      "-1 ('Dallas Mavericks',)\n",
      "-1 ('Utah Jazz',)\n",
      "-1 ('Atlanta Hawks',)\n",
      "-1 ('Milwaukee Bucks',)\n",
      "-1 ('Indiana Pacers',)\n",
      "-1 ('Indiana Pacers',)\n",
      "-1 ('Utah Jazz',)\n",
      "-1 ('Indiana Pacers',)\n",
      "-1 ('Atlanta Hawks',)\n",
      "-1 ('Boston Celtics',)\n",
      "-1 ('Brooklyn Nets',)\n",
      "-1 ('Oklahoma City Thunder',)\n",
      "-1 ('Minnesota Timberwolves',)\n",
      "-1 ('Indiana Pacers',)\n",
      "-1 ('New Orleans Pelicans',)\n",
      "-1 ('Chicago Bulls',)\n",
      "-1 ('Charlotte Hornets',)\n",
      "-1 ('New Orleans Pelicans',)\n",
      "-1 ('Orlando Magic',)\n",
      "-1 ('New Orleans Pelicans',)\n",
      "-1 ('Memphis Grizzlies',)\n",
      "-1 ('Phoenix Suns',)\n",
      "-1 ('Phoenix Suns',)\n",
      "-1 ('Portland Trail Blazers',)\n",
      "-1 ('Utah Jazz',)\n",
      "-1 ('Memphis Grizzlies',)\n",
      "-1 ('Denver Nuggets',)\n",
      "-1 ('Denver Nuggets',)\n",
      "-1 ('New York Knicks',)\n",
      "-1 ('Boston Celtics',)\n",
      "-1 ('Los Angeles Lakers',)\n",
      "-1 ('New Orleans Pelicans',)\n"
     ]
    },
    {
     "data": {
      "application/vnd.plotly.v1+json": {
       "config": {
        "linkText": "Export to plot.ly",
        "plotlyServerURL": "https://plot.ly",
        "showLink": false,
        "staticPlot": true
       },
       "data": [
        {
         "hoverinfo": "none",
         "line": {
          "color": "rgba(255, 255, 255, 0.0)",
          "dash": "solid",
          "width": 1
         },
         "mode": "lines",
         "type": "scatter",
         "x": [
          0.2578883723259273,
          0.3635891075927543,
          null,
          0.3501891538931849,
          0.33585566897904584,
          null,
          0.3501891538931849,
          0.3389197093637393,
          null
         ],
         "y": [
          0.32084233479191304,
          0.3955450319008773,
          null,
          0.38607477911629484,
          0.38426143842489574,
          null,
          0.38607477911629484,
          0.36979356371498395,
          null
         ]
        },
        {
         "hoverinfo": "none",
         "line": {
          "color": "rgba(255, 255, 255, 0.0)",
          "dash": "solid",
          "width": 1
         },
         "mode": "lines",
         "type": "scatter",
         "x": [
          0.21618238517178123,
          0.9171810026541254,
          null,
          0.9028132710942162,
          0.8891018177724608,
          null,
          0.9028132710942162,
          0.8890726879656858,
          null
         ],
         "y": [
          0.19806440262718117,
          0.19367168136178314,
          null,
          0.19376171497723507,
          0.20160411761125063,
          null,
          0.19376171497723507,
          0.18609133713939777,
          null
         ]
        },
        {
         "hoverinfo": "none",
         "line": {
          "color": "rgba(255, 255, 255, 0.0)",
          "dash": "solid",
          "width": 1
         },
         "mode": "lines",
         "type": "scatter",
         "x": [
          0.5424021481496177,
          0.43256537961174246,
          null,
          0.4379352736638725,
          0.4391270485937476,
          null,
          0.4379352736638725,
          0.4470036101954743,
          null
         ],
         "y": [
          0.020713523906475295,
          0.5186635855214322,
          null,
          0.49431892289416357,
          0.46816265214719543,
          null,
          0.49431892289416357,
          0.47396050459456734,
          null
         ]
        },
        {
         "hoverinfo": "none",
         "line": {
          "color": "rgba(255, 255, 255, 0.0)",
          "dash": "solid",
          "width": 1
         },
         "mode": "lines",
         "type": "scatter",
         "x": [
          0.5708710020557325,
          0.5424021481496177,
          null,
          0.5449846224671686,
          0.5516285848453224,
          null,
          0.5449846224671686,
          0.543274923984587,
          null
         ],
         "y": [
          0.30534170598099,
          0.020713523906475295,
          null,
          0.04653279196281096,
          0.06980473742794754,
          null,
          0.04653279196281096,
          0.07259302429113962,
          null
         ]
        },
        {
         "hoverinfo": "none",
         "line": {
          "color": "rgba(255, 255, 255, 0.0)",
          "dash": "solid",
          "width": 1
         },
         "mode": "lines",
         "type": "scatter",
         "x": [
          0.5751137361402261,
          0.757227329711187,
          null,
          0.7475673132984728,
          0.7351956813760483,
          null,
          0.7475673132984728,
          0.7414818128916612,
          null
         ],
         "y": [
          0.41734590577491804,
          0.7836274607795185,
          null,
          0.764198456257458,
          0.7508521592178623,
          null,
          0.764198456257458,
          0.7404222793624319,
          null
         ]
        },
        {
         "hoverinfo": "none",
         "line": {
          "color": "rgba(255, 255, 255, 0.0)",
          "dash": "solid",
          "width": 1
         },
         "mode": "lines",
         "type": "scatter",
         "x": [
          0.33482259238727785,
          0.4750004641562492,
          null,
          0.4650105190262521,
          0.4524150914919172,
          null,
          0.4650105190262521,
          0.4585184283464893,
          null
         ],
         "y": [
          0.2858867356982998,
          0.5505848124641965,
          null,
          0.5317207847147584,
          0.5190923419388004,
          null,
          0.5317207847147584,
          0.5083062394088838,
          null
         ]
        },
        {
         "hoverinfo": "none",
         "line": {
          "color": "rgba(255, 255, 255, 0.0)",
          "dash": "solid",
          "width": 1
         },
         "mode": "lines",
         "type": "scatter",
         "x": [
          0.5733458795255526,
          0.4750004641562492,
          null,
          0.4820004680135658,
          0.49239580013292733,
          null,
          0.4820004680135658,
          0.4849798541120332,
          null
         ],
         "y": [
          0.872609736231231,
          0.5505848124641965,
          null,
          0.5735058169671163,
          0.5916241512977561,
          null,
          0.5735058169671163,
          0.5991820265745796,
          null
         ]
        },
        {
         "hoverinfo": "none",
         "line": {
          "color": "rgba(255, 255, 255, 0.0)",
          "dash": "solid",
          "width": 1
         },
         "mode": "lines",
         "type": "scatter",
         "x": [
          0.6266071284782703,
          0.5733458795255526,
          null,
          0.5763545050372334,
          0.5750769081865911,
          null,
          0.5763545050372334,
          0.5833806013547215,
          null
         ],
         "y": [
          0.4182690894005706,
          0.872609736231231,
          null,
          0.8469449069617978,
          0.8208021587991121,
          null,
          0.8469449069617978,
          0.8240505593479469,
          null
         ]
        },
        {
         "hoverinfo": "none",
         "marker": {
          "color": "rgba(255, 255, 255, 0.0)",
          "line": {
           "color": "rgba(255, 255, 255, 0.0)",
           "width": 1
          },
          "size": 20,
          "symbol": "circle"
         },
         "mode": "markers+text",
         "text": [
          "('Atlanta Hawks',)"
         ],
         "textfont": {
          "color": "rgb(0, 0, 0)"
         },
         "textposition": "middle center",
         "type": "scatter",
         "x": [
          0.2578883723259273
         ],
         "y": [
          0.32084233479191304
         ]
        },
        {
         "hoverinfo": "none",
         "marker": {
          "color": "rgba(255, 255, 255, 0.0)",
          "line": {
           "color": "rgba(255, 255, 255, 0.0)",
           "width": 1
          },
          "size": 20,
          "symbol": "circle"
         },
         "mode": "markers+text",
         "text": [
          "('Boston Celtics',)"
         ],
         "textfont": {
          "color": "rgb(0, 0, 0)"
         },
         "textposition": "middle center",
         "type": "scatter",
         "x": [
          0.43256537961174246
         ],
         "y": [
          0.5186635855214322
         ]
        },
        {
         "hoverinfo": "none",
         "marker": {
          "color": "rgba(255, 255, 255, 0.0)",
          "line": {
           "color": "rgba(255, 255, 255, 0.0)",
           "width": 1
          },
          "size": 20,
          "symbol": "circle"
         },
         "mode": "markers+text",
         "text": [
          "('Brooklyn Nets',)"
         ],
         "textfont": {
          "color": "rgb(0, 0, 0)"
         },
         "textposition": "middle center",
         "type": "scatter",
         "x": [
          0.11221838997637534
         ],
         "y": [
          0.023003091982322976
         ]
        },
        {
         "hoverinfo": "none",
         "marker": {
          "color": "rgba(255, 255, 255, 0.0)",
          "line": {
           "color": "rgba(255, 255, 255, 0.0)",
           "width": 1
          },
          "size": 20,
          "symbol": "circle"
         },
         "mode": "markers+text",
         "text": [
          "('Charlotte Hornets',)"
         ],
         "textfont": {
          "color": "rgb(0, 0, 0)"
         },
         "textposition": "middle center",
         "type": "scatter",
         "x": [
          0.9090635623466599
         ],
         "y": [
          0.828469162609598
         ]
        },
        {
         "hoverinfo": "none",
         "marker": {
          "color": "rgba(255, 255, 255, 0.0)",
          "line": {
           "color": "rgba(255, 255, 255, 0.0)",
           "width": 1
          },
          "size": 20,
          "symbol": "circle"
         },
         "mode": "markers+text",
         "text": [
          "('Chicago Bulls',)"
         ],
         "textfont": {
          "color": "rgb(0, 0, 0)"
         },
         "textposition": "middle center",
         "type": "scatter",
         "x": [
          0.21618238517178123
         ],
         "y": [
          0.19806440262718117
         ]
        },
        {
         "hoverinfo": "none",
         "marker": {
          "color": "rgba(255, 255, 255, 0.0)",
          "line": {
           "color": "rgba(255, 255, 255, 0.0)",
           "width": 1
          },
          "size": 20,
          "symbol": "circle"
         },
         "mode": "markers+text",
         "text": [
          "('Cleveland Cavaliers',)"
         ],
         "textfont": {
          "color": "rgb(0, 0, 0)"
         },
         "textposition": "middle center",
         "type": "scatter",
         "x": [
          0.21165194812972576
         ],
         "y": [
          0.794130636470508
         ]
        },
        {
         "hoverinfo": "none",
         "marker": {
          "color": "rgba(255, 255, 255, 0.0)",
          "line": {
           "color": "rgba(255, 255, 255, 0.0)",
           "width": 1
          },
          "size": 20,
          "symbol": "circle"
         },
         "mode": "markers+text",
         "text": [
          "('Dallas Mavericks',)"
         ],
         "textfont": {
          "color": "rgb(0, 0, 0)"
         },
         "textposition": "middle center",
         "type": "scatter",
         "x": [
          0.4750004641562492
         ],
         "y": [
          0.5505848124641965
         ]
        },
        {
         "hoverinfo": "none",
         "marker": {
          "color": "rgba(255, 255, 255, 0.0)",
          "line": {
           "color": "rgba(255, 255, 255, 0.0)",
           "width": 1
          },
          "size": 20,
          "symbol": "circle"
         },
         "mode": "markers+text",
         "text": [
          "('Denver Nuggets',)"
         ],
         "textfont": {
          "color": "rgb(0, 0, 0)"
         },
         "textposition": "middle center",
         "type": "scatter",
         "x": [
          0.5424021481496177
         ],
         "y": [
          0.020713523906475295
         ]
        },
        {
         "hoverinfo": "none",
         "marker": {
          "color": "rgba(255, 255, 255, 0.0)",
          "line": {
           "color": "rgba(255, 255, 255, 0.0)",
           "width": 1
          },
          "size": 20,
          "symbol": "circle"
         },
         "mode": "markers+text",
         "text": [
          "('Detroit Pistons',)"
         ],
         "textfont": {
          "color": "rgb(0, 0, 0)"
         },
         "textposition": "middle center",
         "type": "scatter",
         "x": [
          0.9457824513236409
         ],
         "y": [
          0.07939137483213865
         ]
        },
        {
         "hoverinfo": "none",
         "marker": {
          "color": "rgba(255, 255, 255, 0.0)",
          "line": {
           "color": "rgba(255, 255, 255, 0.0)",
           "width": 1
          },
          "size": 20,
          "symbol": "circle"
         },
         "mode": "markers+text",
         "text": [
          "('Golden State Warriors',)"
         ],
         "textfont": {
          "color": "rgb(0, 0, 0)"
         },
         "textposition": "middle center",
         "type": "scatter",
         "x": [
          0.9998248270476896
         ],
         "y": [
          0.7045069888281296
         ]
        },
        {
         "hoverinfo": "none",
         "marker": {
          "color": "rgba(255, 255, 255, 0.0)",
          "line": {
           "color": "rgba(255, 255, 255, 0.0)",
           "width": 1
          },
          "size": 20,
          "symbol": "circle"
         },
         "mode": "markers+text",
         "text": [
          "('Houston Rockets',)"
         ],
         "textfont": {
          "color": "rgb(0, 0, 0)"
         },
         "textposition": "middle center",
         "type": "scatter",
         "x": [
          0.3635891075927543
         ],
         "y": [
          0.3955450319008773
         ]
        },
        {
         "hoverinfo": "none",
         "marker": {
          "color": "rgba(255, 255, 255, 0.0)",
          "line": {
           "color": "rgba(255, 255, 255, 0.0)",
           "width": 1
          },
          "size": 20,
          "symbol": "circle"
         },
         "mode": "markers+text",
         "text": [
          "('Indiana Pacers',)"
         ],
         "textfont": {
          "color": "rgb(0, 0, 0)"
         },
         "textposition": "middle center",
         "type": "scatter",
         "x": [
          0.5350540001177557
         ],
         "y": [
          0.5588872112059232
         ]
        },
        {
         "hoverinfo": "none",
         "marker": {
          "color": "rgba(255, 255, 255, 0.0)",
          "line": {
           "color": "rgba(255, 255, 255, 0.0)",
           "width": 1
          },
          "size": 20,
          "symbol": "circle"
         },
         "mode": "markers+text",
         "text": [
          "('LA Clippers',)"
         ],
         "textfont": {
          "color": "rgb(0, 0, 0)"
         },
         "textposition": "middle center",
         "type": "scatter",
         "x": [
          0.1474461571520782
         ],
         "y": [
          0.8969265635097233
         ]
        },
        {
         "hoverinfo": "none",
         "marker": {
          "color": "rgba(255, 255, 255, 0.0)",
          "line": {
           "color": "rgba(255, 255, 255, 0.0)",
           "width": 1
          },
          "size": 20,
          "symbol": "circle"
         },
         "mode": "markers+text",
         "text": [
          "('Los Angeles Lakers',)"
         ],
         "textfont": {
          "color": "rgb(0, 0, 0)"
         },
         "textposition": "middle center",
         "type": "scatter",
         "x": [
          0.0005565783485109721
         ],
         "y": [
          0.46173782872575053
         ]
        },
        {
         "hoverinfo": "none",
         "marker": {
          "color": "rgba(255, 255, 255, 0.0)",
          "line": {
           "color": "rgba(255, 255, 255, 0.0)",
           "width": 1
          },
          "size": 20,
          "symbol": "circle"
         },
         "mode": "markers+text",
         "text": [
          "('Memphis Grizzlies',)"
         ],
         "textfont": {
          "color": "rgb(0, 0, 0)"
         },
         "textposition": "middle center",
         "type": "scatter",
         "x": [
          0.5708710020557325
         ],
         "y": [
          0.30534170598099
         ]
        },
        {
         "hoverinfo": "none",
         "marker": {
          "color": "rgba(255, 255, 255, 0.0)",
          "line": {
           "color": "rgba(255, 255, 255, 0.0)",
           "width": 1
          },
          "size": 20,
          "symbol": "circle"
         },
         "mode": "markers+text",
         "text": [
          "('Miami Heat',)"
         ],
         "textfont": {
          "color": "rgb(0, 0, 0)"
         },
         "textposition": "middle center",
         "type": "scatter",
         "x": [
          0.5756301823109237
         ],
         "y": [
          0.08402151559107118
         ]
        },
        {
         "hoverinfo": "none",
         "marker": {
          "color": "rgba(255, 255, 255, 0.0)",
          "line": {
           "color": "rgba(255, 255, 255, 0.0)",
           "width": 1
          },
          "size": 20,
          "symbol": "circle"
         },
         "mode": "markers+text",
         "text": [
          "('Milwaukee Bucks',)"
         ],
         "textfont": {
          "color": "rgb(0, 0, 0)"
         },
         "textposition": "middle center",
         "type": "scatter",
         "x": [
          0.5791686709389611
         ],
         "y": [
          0.31427470939671787
         ]
        },
        {
         "hoverinfo": "none",
         "marker": {
          "color": "rgba(255, 255, 255, 0.0)",
          "line": {
           "color": "rgba(255, 255, 255, 0.0)",
           "width": 1
          },
          "size": 20,
          "symbol": "circle"
         },
         "mode": "markers+text",
         "text": [
          "('Minnesota Timberwolves',)"
         ],
         "textfont": {
          "color": "rgb(0, 0, 0)"
         },
         "textposition": "middle center",
         "type": "scatter",
         "x": [
          0.21334168508823392
         ],
         "y": [
          0.62111085816352
         ]
        },
        {
         "hoverinfo": "none",
         "marker": {
          "color": "rgba(255, 255, 255, 0.0)",
          "line": {
           "color": "rgba(255, 255, 255, 0.0)",
           "width": 1
          },
          "size": 20,
          "symbol": "circle"
         },
         "mode": "markers+text",
         "text": [
          "('New Orleans Pelicans',)"
         ],
         "textfont": {
          "color": "rgb(0, 0, 0)"
         },
         "textposition": "middle center",
         "type": "scatter",
         "x": [
          0.5751137361402261
         ],
         "y": [
          0.41734590577491804
         ]
        },
        {
         "hoverinfo": "none",
         "marker": {
          "color": "rgba(255, 255, 255, 0.0)",
          "line": {
           "color": "rgba(255, 255, 255, 0.0)",
           "width": 1
          },
          "size": 20,
          "symbol": "circle"
         },
         "mode": "markers+text",
         "text": [
          "('New York Knicks',)"
         ],
         "textfont": {
          "color": "rgb(0, 0, 0)"
         },
         "textposition": "middle center",
         "type": "scatter",
         "x": [
          0.5875228654644489
         ],
         "y": [
          0.8455516258870958
         ]
        },
        {
         "hoverinfo": "none",
         "marker": {
          "color": "rgba(255, 255, 255, 0.0)",
          "line": {
           "color": "rgba(255, 255, 255, 0.0)",
           "width": 1
          },
          "size": 20,
          "symbol": "circle"
         },
         "mode": "markers+text",
         "text": [
          "('Oklahoma City Thunder',)"
         ],
         "textfont": {
          "color": "rgb(0, 0, 0)"
         },
         "textposition": "middle center",
         "type": "scatter",
         "x": [
          0.33482259238727785
         ],
         "y": [
          0.2858867356982998
         ]
        },
        {
         "hoverinfo": "none",
         "marker": {
          "color": "rgba(255, 255, 255, 0.0)",
          "line": {
           "color": "rgba(255, 255, 255, 0.0)",
           "width": 1
          },
          "size": 20,
          "symbol": "circle"
         },
         "mode": "markers+text",
         "text": [
          "('Orlando Magic',)"
         ],
         "textfont": {
          "color": "rgb(0, 0, 0)"
         },
         "textposition": "middle center",
         "type": "scatter",
         "x": [
          0.757227329711187
         ],
         "y": [
          0.7836274607795185
         ]
        },
        {
         "hoverinfo": "none",
         "marker": {
          "color": "rgba(255, 255, 255, 0.0)",
          "line": {
           "color": "rgba(255, 255, 255, 0.0)",
           "width": 1
          },
          "size": 20,
          "symbol": "circle"
         },
         "mode": "markers+text",
         "text": [
          "('Philadelphia 76ers',)"
         ],
         "textfont": {
          "color": "rgb(0, 0, 0)"
         },
         "textposition": "middle center",
         "type": "scatter",
         "x": [
          0.5949496259671603
         ],
         "y": [
          0.5119247025866192
         ]
        },
        {
         "hoverinfo": "none",
         "marker": {
          "color": "rgba(255, 255, 255, 0.0)",
          "line": {
           "color": "rgba(255, 255, 255, 0.0)",
           "width": 1
          },
          "size": 20,
          "symbol": "circle"
         },
         "mode": "markers+text",
         "text": [
          "('Phoenix Suns',)"
         ],
         "textfont": {
          "color": "rgb(0, 0, 0)"
         },
         "textposition": "middle center",
         "type": "scatter",
         "x": [
          0.6366763800746762
         ],
         "y": [
          0.3819582124402713
         ]
        },
        {
         "hoverinfo": "none",
         "marker": {
          "color": "rgba(255, 255, 255, 0.0)",
          "line": {
           "color": "rgba(255, 255, 255, 0.0)",
           "width": 1
          },
          "size": 20,
          "symbol": "circle"
         },
         "mode": "markers+text",
         "text": [
          "('Portland Trail Blazers',)"
         ],
         "textfont": {
          "color": "rgb(0, 0, 0)"
         },
         "textposition": "middle center",
         "type": "scatter",
         "x": [
          0.5733458795255526
         ],
         "y": [
          0.872609736231231
         ]
        },
        {
         "hoverinfo": "none",
         "marker": {
          "color": "rgba(255, 255, 255, 0.0)",
          "line": {
           "color": "rgba(255, 255, 255, 0.0)",
           "width": 1
          },
          "size": 20,
          "symbol": "circle"
         },
         "mode": "markers+text",
         "text": [
          "('Sacramento Kings',)"
         ],
         "textfont": {
          "color": "rgb(0, 0, 0)"
         },
         "textposition": "middle center",
         "type": "scatter",
         "x": [
          0.6266071284782703
         ],
         "y": [
          0.4182690894005706
         ]
        },
        {
         "hoverinfo": "none",
         "marker": {
          "color": "rgba(255, 255, 255, 0.0)",
          "line": {
           "color": "rgba(255, 255, 255, 0.0)",
           "width": 1
          },
          "size": 20,
          "symbol": "circle"
         },
         "mode": "markers+text",
         "text": [
          "('San Antonio Spurs',)"
         ],
         "textfont": {
          "color": "rgb(0, 0, 0)"
         },
         "textposition": "middle center",
         "type": "scatter",
         "x": [
          0.9171810026541254
         ],
         "y": [
          0.19367168136178314
         ]
        },
        {
         "hoverinfo": "none",
         "marker": {
          "color": "rgba(255, 255, 255, 0.0)",
          "line": {
           "color": "rgba(255, 255, 255, 0.0)",
           "width": 1
          },
          "size": 20,
          "symbol": "circle"
         },
         "mode": "markers+text",
         "text": [
          "('Toronto Raptors',)"
         ],
         "textfont": {
          "color": "rgb(0, 0, 0)"
         },
         "textposition": "middle center",
         "type": "scatter",
         "x": [
          0.8937193877060478
         ],
         "y": [
          0.3717475974104444
         ]
        },
        {
         "hoverinfo": "none",
         "marker": {
          "color": "rgba(255, 255, 255, 0.0)",
          "line": {
           "color": "rgba(255, 255, 255, 0.0)",
           "width": 1
          },
          "size": 20,
          "symbol": "circle"
         },
         "mode": "markers+text",
         "text": [
          "('Utah Jazz',)"
         ],
         "textfont": {
          "color": "rgb(0, 0, 0)"
         },
         "textposition": "middle center",
         "type": "scatter",
         "x": [
          0.6707542454718199
         ],
         "y": [
          0.5564951607050072
         ]
        },
        {
         "hoverinfo": "none",
         "marker": {
          "color": "rgba(255, 255, 255, 0.0)",
          "line": {
           "color": "rgba(255, 255, 255, 0.0)",
           "width": 1
          },
          "size": 20,
          "symbol": "circle"
         },
         "mode": "markers+text",
         "text": [
          "('Washington Wizards',)"
         ],
         "textfont": {
          "color": "rgb(0, 0, 0)"
         },
         "textposition": "middle center",
         "type": "scatter",
         "x": [
          0.45290118494132214
         ],
         "y": [
          0.9750770606404473
         ]
        },
        {
         "hoverinfo": "none",
         "mode": "text",
         "text": [
          null,
          null,
          null,
          null,
          null,
          null,
          null,
          null
         ],
         "textfont": {
          "color": "rgb(0, 0, 0)"
         },
         "textposition": "middle center",
         "type": "scatter",
         "x": [
          0.30555459296088405,
          0.5667309795558947,
          0.47415715977006323,
          0.5707703985645486,
          0.6555348278640614,
          0.3945850992882349,
          0.5367204458575854,
          0.5859272224621785
         ],
         "y": [
          0.3826723389235614,
          0.22211460673384398,
          0.2598789844769917,
          0.15831002406442707,
          0.6181333274327275,
          0.43648512266517986,
          0.698809865726474,
          0.6399433410150351
         ]
        },
        {
         "hoverinfo": "none",
         "marker": {
          "color": "rgba(255, 255, 255, 0.0)",
          "line": {
           "color": "rgba(255, 255, 255, 0.0)",
           "width": 0
          },
          "size": 0,
          "symbol": "circle"
         },
         "mode": "markers",
         "type": "scatter",
         "x": [
          0.5,
          0,
          1,
          0.5
         ],
         "y": [
          0,
          0.5,
          0.5,
          1
         ]
        }
       ],
       "frames": [
        {
         "data": [
          {
           "hoverinfo": "none",
           "line": {
            "color": "rgba(255, 255, 255, 0.0)",
            "dash": "solid",
            "width": 1
           },
           "mode": "lines",
           "type": "scatter",
           "x": [
            0.2578883723259273,
            0.3635891075927543,
            null,
            0.3501891538931849,
            0.33585566897904584,
            null,
            0.3501891538931849,
            0.3389197093637393,
            null
           ],
           "y": [
            0.32084233479191304,
            0.3955450319008773,
            null,
            0.38607477911629484,
            0.38426143842489574,
            null,
            0.38607477911629484,
            0.36979356371498395,
            null
           ]
          },
          {
           "hoverinfo": "none",
           "line": {
            "color": "rgba(255, 255, 255, 0.0)",
            "dash": "solid",
            "width": 1
           },
           "mode": "lines",
           "type": "scatter",
           "x": [
            0.21618238517178123,
            0.9171810026541254,
            null,
            0.9028132710942162,
            0.8891018177724608,
            null,
            0.9028132710942162,
            0.8890726879656858,
            null
           ],
           "y": [
            0.19806440262718117,
            0.19367168136178314,
            null,
            0.19376171497723507,
            0.20160411761125063,
            null,
            0.19376171497723507,
            0.18609133713939777,
            null
           ]
          },
          {
           "hoverinfo": "none",
           "line": {
            "color": "rgba(255, 255, 255, 0.0)",
            "dash": "solid",
            "width": 1
           },
           "mode": "lines",
           "type": "scatter",
           "x": [
            0.5424021481496177,
            0.43256537961174246,
            null,
            0.4379352736638725,
            0.4391270485937476,
            null,
            0.4379352736638725,
            0.4470036101954743,
            null
           ],
           "y": [
            0.020713523906475295,
            0.5186635855214322,
            null,
            0.49431892289416357,
            0.46816265214719543,
            null,
            0.49431892289416357,
            0.47396050459456734,
            null
           ]
          },
          {
           "hoverinfo": "none",
           "line": {
            "color": "rgba(255, 255, 255, 0.0)",
            "dash": "solid",
            "width": 1
           },
           "mode": "lines",
           "type": "scatter",
           "x": [
            0.5708710020557325,
            0.5424021481496177,
            null,
            0.5449846224671686,
            0.5516285848453224,
            null,
            0.5449846224671686,
            0.543274923984587,
            null
           ],
           "y": [
            0.30534170598099,
            0.020713523906475295,
            null,
            0.04653279196281096,
            0.06980473742794754,
            null,
            0.04653279196281096,
            0.07259302429113962,
            null
           ]
          },
          {
           "hoverinfo": "none",
           "line": {
            "color": "rgba(255, 255, 255, 0.0)",
            "dash": "solid",
            "width": 1
           },
           "mode": "lines",
           "type": "scatter",
           "x": [
            0.5751137361402261,
            0.757227329711187,
            null,
            0.7475673132984728,
            0.7351956813760483,
            null,
            0.7475673132984728,
            0.7414818128916612,
            null
           ],
           "y": [
            0.41734590577491804,
            0.7836274607795185,
            null,
            0.764198456257458,
            0.7508521592178623,
            null,
            0.764198456257458,
            0.7404222793624319,
            null
           ]
          },
          {
           "hoverinfo": "none",
           "line": {
            "color": "rgba(255, 255, 255, 0.0)",
            "dash": "solid",
            "width": 1
           },
           "mode": "lines",
           "type": "scatter",
           "x": [
            0.33482259238727785,
            0.4750004641562492,
            null,
            0.4650105190262521,
            0.4524150914919172,
            null,
            0.4650105190262521,
            0.4585184283464893,
            null
           ],
           "y": [
            0.2858867356982998,
            0.5505848124641965,
            null,
            0.5317207847147584,
            0.5190923419388004,
            null,
            0.5317207847147584,
            0.5083062394088838,
            null
           ]
          },
          {
           "hoverinfo": "none",
           "line": {
            "color": "rgba(255, 255, 255, 0.0)",
            "dash": "solid",
            "width": 1
           },
           "mode": "lines",
           "type": "scatter",
           "x": [
            0.5733458795255526,
            0.4750004641562492,
            null,
            0.4820004680135658,
            0.49239580013292733,
            null,
            0.4820004680135658,
            0.4849798541120332,
            null
           ],
           "y": [
            0.872609736231231,
            0.5505848124641965,
            null,
            0.5735058169671163,
            0.5916241512977561,
            null,
            0.5735058169671163,
            0.5991820265745796,
            null
           ]
          },
          {
           "hoverinfo": "none",
           "line": {
            "color": "rgba(255, 255, 255, 0.0)",
            "dash": "solid",
            "width": 1
           },
           "mode": "lines",
           "type": "scatter",
           "x": [
            0.6266071284782703,
            0.5733458795255526,
            null,
            0.5763545050372334,
            0.5750769081865911,
            null,
            0.5763545050372334,
            0.5833806013547215,
            null
           ],
           "y": [
            0.4182690894005706,
            0.872609736231231,
            null,
            0.8469449069617978,
            0.8208021587991121,
            null,
            0.8469449069617978,
            0.8240505593479469,
            null
           ]
          },
          {
           "hoverinfo": "none",
           "marker": {
            "color": "rgba(255, 255, 255, 0.0)",
            "line": {
             "color": "rgba(255, 255, 255, 0.0)",
             "width": 1
            },
            "size": 20,
            "symbol": "circle"
           },
           "mode": "markers+text",
           "text": [
            "('Atlanta Hawks',)"
           ],
           "textfont": {
            "color": "rgb(0, 0, 0)"
           },
           "textposition": "middle center",
           "type": "scatter",
           "x": [
            0.2578883723259273
           ],
           "y": [
            0.32084233479191304
           ]
          },
          {
           "hoverinfo": "none",
           "marker": {
            "color": "rgba(255, 255, 255, 0.0)",
            "line": {
             "color": "rgba(255, 255, 255, 0.0)",
             "width": 1
            },
            "size": 20,
            "symbol": "circle"
           },
           "mode": "markers+text",
           "text": [
            "('Boston Celtics',)"
           ],
           "textfont": {
            "color": "rgb(0, 0, 0)"
           },
           "textposition": "middle center",
           "type": "scatter",
           "x": [
            0.43256537961174246
           ],
           "y": [
            0.5186635855214322
           ]
          },
          {
           "hoverinfo": "none",
           "marker": {
            "color": "rgba(255, 255, 255, 0.0)",
            "line": {
             "color": "rgba(255, 255, 255, 0.0)",
             "width": 1
            },
            "size": 20,
            "symbol": "circle"
           },
           "mode": "markers+text",
           "text": [
            "('Brooklyn Nets',)"
           ],
           "textfont": {
            "color": "rgb(0, 0, 0)"
           },
           "textposition": "middle center",
           "type": "scatter",
           "x": [
            0.11221838997637534
           ],
           "y": [
            0.023003091982322976
           ]
          },
          {
           "hoverinfo": "none",
           "marker": {
            "color": "rgba(255, 255, 255, 0.0)",
            "line": {
             "color": "rgba(255, 255, 255, 0.0)",
             "width": 1
            },
            "size": 20,
            "symbol": "circle"
           },
           "mode": "markers+text",
           "text": [
            "('Charlotte Hornets',)"
           ],
           "textfont": {
            "color": "rgb(0, 0, 0)"
           },
           "textposition": "middle center",
           "type": "scatter",
           "x": [
            0.9090635623466599
           ],
           "y": [
            0.828469162609598
           ]
          },
          {
           "hoverinfo": "none",
           "marker": {
            "color": "rgba(255, 255, 255, 0.0)",
            "line": {
             "color": "rgba(255, 255, 255, 0.0)",
             "width": 1
            },
            "size": 20,
            "symbol": "circle"
           },
           "mode": "markers+text",
           "text": [
            "('Chicago Bulls',)"
           ],
           "textfont": {
            "color": "rgb(0, 0, 0)"
           },
           "textposition": "middle center",
           "type": "scatter",
           "x": [
            0.21618238517178123
           ],
           "y": [
            0.19806440262718117
           ]
          },
          {
           "hoverinfo": "none",
           "marker": {
            "color": "rgba(255, 255, 255, 0.0)",
            "line": {
             "color": "rgba(255, 255, 255, 0.0)",
             "width": 1
            },
            "size": 20,
            "symbol": "circle"
           },
           "mode": "markers+text",
           "text": [
            "('Cleveland Cavaliers',)"
           ],
           "textfont": {
            "color": "rgb(0, 0, 0)"
           },
           "textposition": "middle center",
           "type": "scatter",
           "x": [
            0.21165194812972576
           ],
           "y": [
            0.794130636470508
           ]
          },
          {
           "hoverinfo": "none",
           "marker": {
            "color": "rgba(255, 255, 255, 0.0)",
            "line": {
             "color": "rgba(255, 255, 255, 0.0)",
             "width": 1
            },
            "size": 20,
            "symbol": "circle"
           },
           "mode": "markers+text",
           "text": [
            "('Dallas Mavericks',)"
           ],
           "textfont": {
            "color": "rgb(0, 0, 0)"
           },
           "textposition": "middle center",
           "type": "scatter",
           "x": [
            0.4750004641562492
           ],
           "y": [
            0.5505848124641965
           ]
          },
          {
           "hoverinfo": "none",
           "marker": {
            "color": "rgba(255, 255, 255, 0.0)",
            "line": {
             "color": "rgba(255, 255, 255, 0.0)",
             "width": 1
            },
            "size": 20,
            "symbol": "circle"
           },
           "mode": "markers+text",
           "text": [
            "('Denver Nuggets',)"
           ],
           "textfont": {
            "color": "rgb(0, 0, 0)"
           },
           "textposition": "middle center",
           "type": "scatter",
           "x": [
            0.5424021481496177
           ],
           "y": [
            0.020713523906475295
           ]
          },
          {
           "hoverinfo": "none",
           "marker": {
            "color": "rgba(255, 255, 255, 0.0)",
            "line": {
             "color": "rgba(255, 255, 255, 0.0)",
             "width": 1
            },
            "size": 20,
            "symbol": "circle"
           },
           "mode": "markers+text",
           "text": [
            "('Detroit Pistons',)"
           ],
           "textfont": {
            "color": "rgb(0, 0, 0)"
           },
           "textposition": "middle center",
           "type": "scatter",
           "x": [
            0.9457824513236409
           ],
           "y": [
            0.07939137483213865
           ]
          },
          {
           "hoverinfo": "none",
           "marker": {
            "color": "rgba(255, 255, 255, 0.0)",
            "line": {
             "color": "rgba(255, 255, 255, 0.0)",
             "width": 1
            },
            "size": 20,
            "symbol": "circle"
           },
           "mode": "markers+text",
           "text": [
            "('Golden State Warriors',)"
           ],
           "textfont": {
            "color": "rgb(0, 0, 0)"
           },
           "textposition": "middle center",
           "type": "scatter",
           "x": [
            0.9998248270476896
           ],
           "y": [
            0.7045069888281296
           ]
          },
          {
           "hoverinfo": "none",
           "marker": {
            "color": "rgba(255, 255, 255, 0.0)",
            "line": {
             "color": "rgba(255, 255, 255, 0.0)",
             "width": 1
            },
            "size": 20,
            "symbol": "circle"
           },
           "mode": "markers+text",
           "text": [
            "('Houston Rockets',)"
           ],
           "textfont": {
            "color": "rgb(0, 0, 0)"
           },
           "textposition": "middle center",
           "type": "scatter",
           "x": [
            0.3635891075927543
           ],
           "y": [
            0.3955450319008773
           ]
          },
          {
           "hoverinfo": "none",
           "marker": {
            "color": "rgba(255, 255, 255, 0.0)",
            "line": {
             "color": "rgba(255, 255, 255, 0.0)",
             "width": 1
            },
            "size": 20,
            "symbol": "circle"
           },
           "mode": "markers+text",
           "text": [
            "('Indiana Pacers',)"
           ],
           "textfont": {
            "color": "rgb(0, 0, 0)"
           },
           "textposition": "middle center",
           "type": "scatter",
           "x": [
            0.5350540001177557
           ],
           "y": [
            0.5588872112059232
           ]
          },
          {
           "hoverinfo": "none",
           "marker": {
            "color": "rgba(255, 255, 255, 0.0)",
            "line": {
             "color": "rgba(255, 255, 255, 0.0)",
             "width": 1
            },
            "size": 20,
            "symbol": "circle"
           },
           "mode": "markers+text",
           "text": [
            "('LA Clippers',)"
           ],
           "textfont": {
            "color": "rgb(0, 0, 0)"
           },
           "textposition": "middle center",
           "type": "scatter",
           "x": [
            0.1474461571520782
           ],
           "y": [
            0.8969265635097233
           ]
          },
          {
           "hoverinfo": "none",
           "marker": {
            "color": "rgba(255, 255, 255, 0.0)",
            "line": {
             "color": "rgba(255, 255, 255, 0.0)",
             "width": 1
            },
            "size": 20,
            "symbol": "circle"
           },
           "mode": "markers+text",
           "text": [
            "('Los Angeles Lakers',)"
           ],
           "textfont": {
            "color": "rgb(0, 0, 0)"
           },
           "textposition": "middle center",
           "type": "scatter",
           "x": [
            0.0005565783485109721
           ],
           "y": [
            0.46173782872575053
           ]
          },
          {
           "hoverinfo": "none",
           "marker": {
            "color": "rgba(255, 255, 255, 0.0)",
            "line": {
             "color": "rgba(255, 255, 255, 0.0)",
             "width": 1
            },
            "size": 20,
            "symbol": "circle"
           },
           "mode": "markers+text",
           "text": [
            "('Memphis Grizzlies',)"
           ],
           "textfont": {
            "color": "rgb(0, 0, 0)"
           },
           "textposition": "middle center",
           "type": "scatter",
           "x": [
            0.5708710020557325
           ],
           "y": [
            0.30534170598099
           ]
          },
          {
           "hoverinfo": "none",
           "marker": {
            "color": "rgba(255, 255, 255, 0.0)",
            "line": {
             "color": "rgba(255, 255, 255, 0.0)",
             "width": 1
            },
            "size": 20,
            "symbol": "circle"
           },
           "mode": "markers+text",
           "text": [
            "('Miami Heat',)"
           ],
           "textfont": {
            "color": "rgb(0, 0, 0)"
           },
           "textposition": "middle center",
           "type": "scatter",
           "x": [
            0.5756301823109237
           ],
           "y": [
            0.08402151559107118
           ]
          },
          {
           "hoverinfo": "none",
           "marker": {
            "color": "rgba(255, 255, 255, 0.0)",
            "line": {
             "color": "rgba(255, 255, 255, 0.0)",
             "width": 1
            },
            "size": 20,
            "symbol": "circle"
           },
           "mode": "markers+text",
           "text": [
            "('Milwaukee Bucks',)"
           ],
           "textfont": {
            "color": "rgb(0, 0, 0)"
           },
           "textposition": "middle center",
           "type": "scatter",
           "x": [
            0.5791686709389611
           ],
           "y": [
            0.31427470939671787
           ]
          },
          {
           "hoverinfo": "none",
           "marker": {
            "color": "rgba(255, 255, 255, 0.0)",
            "line": {
             "color": "rgba(255, 255, 255, 0.0)",
             "width": 1
            },
            "size": 20,
            "symbol": "circle"
           },
           "mode": "markers+text",
           "text": [
            "('Minnesota Timberwolves',)"
           ],
           "textfont": {
            "color": "rgb(0, 0, 0)"
           },
           "textposition": "middle center",
           "type": "scatter",
           "x": [
            0.21334168508823392
           ],
           "y": [
            0.62111085816352
           ]
          },
          {
           "hoverinfo": "none",
           "marker": {
            "color": "rgba(255, 255, 255, 0.0)",
            "line": {
             "color": "rgba(255, 255, 255, 0.0)",
             "width": 1
            },
            "size": 20,
            "symbol": "circle"
           },
           "mode": "markers+text",
           "text": [
            "('New Orleans Pelicans',)"
           ],
           "textfont": {
            "color": "rgb(0, 0, 0)"
           },
           "textposition": "middle center",
           "type": "scatter",
           "x": [
            0.5751137361402261
           ],
           "y": [
            0.41734590577491804
           ]
          },
          {
           "hoverinfo": "none",
           "marker": {
            "color": "rgba(255, 255, 255, 0.0)",
            "line": {
             "color": "rgba(255, 255, 255, 0.0)",
             "width": 1
            },
            "size": 20,
            "symbol": "circle"
           },
           "mode": "markers+text",
           "text": [
            "('New York Knicks',)"
           ],
           "textfont": {
            "color": "rgb(0, 0, 0)"
           },
           "textposition": "middle center",
           "type": "scatter",
           "x": [
            0.5875228654644489
           ],
           "y": [
            0.8455516258870958
           ]
          },
          {
           "hoverinfo": "none",
           "marker": {
            "color": "rgba(255, 255, 255, 0.0)",
            "line": {
             "color": "rgba(255, 255, 255, 0.0)",
             "width": 1
            },
            "size": 20,
            "symbol": "circle"
           },
           "mode": "markers+text",
           "text": [
            "('Oklahoma City Thunder',)"
           ],
           "textfont": {
            "color": "rgb(0, 0, 0)"
           },
           "textposition": "middle center",
           "type": "scatter",
           "x": [
            0.33482259238727785
           ],
           "y": [
            0.2858867356982998
           ]
          },
          {
           "hoverinfo": "none",
           "marker": {
            "color": "rgba(255, 255, 255, 0.0)",
            "line": {
             "color": "rgba(255, 255, 255, 0.0)",
             "width": 1
            },
            "size": 20,
            "symbol": "circle"
           },
           "mode": "markers+text",
           "text": [
            "('Orlando Magic',)"
           ],
           "textfont": {
            "color": "rgb(0, 0, 0)"
           },
           "textposition": "middle center",
           "type": "scatter",
           "x": [
            0.757227329711187
           ],
           "y": [
            0.7836274607795185
           ]
          },
          {
           "hoverinfo": "none",
           "marker": {
            "color": "rgba(255, 255, 255, 0.0)",
            "line": {
             "color": "rgba(255, 255, 255, 0.0)",
             "width": 1
            },
            "size": 20,
            "symbol": "circle"
           },
           "mode": "markers+text",
           "text": [
            "('Philadelphia 76ers',)"
           ],
           "textfont": {
            "color": "rgb(0, 0, 0)"
           },
           "textposition": "middle center",
           "type": "scatter",
           "x": [
            0.5949496259671603
           ],
           "y": [
            0.5119247025866192
           ]
          },
          {
           "hoverinfo": "none",
           "marker": {
            "color": "rgba(255, 255, 255, 0.0)",
            "line": {
             "color": "rgba(255, 255, 255, 0.0)",
             "width": 1
            },
            "size": 20,
            "symbol": "circle"
           },
           "mode": "markers+text",
           "text": [
            "('Phoenix Suns',)"
           ],
           "textfont": {
            "color": "rgb(0, 0, 0)"
           },
           "textposition": "middle center",
           "type": "scatter",
           "x": [
            0.6366763800746762
           ],
           "y": [
            0.3819582124402713
           ]
          },
          {
           "hoverinfo": "none",
           "marker": {
            "color": "rgba(255, 255, 255, 0.0)",
            "line": {
             "color": "rgba(255, 255, 255, 0.0)",
             "width": 1
            },
            "size": 20,
            "symbol": "circle"
           },
           "mode": "markers+text",
           "text": [
            "('Portland Trail Blazers',)"
           ],
           "textfont": {
            "color": "rgb(0, 0, 0)"
           },
           "textposition": "middle center",
           "type": "scatter",
           "x": [
            0.5733458795255526
           ],
           "y": [
            0.872609736231231
           ]
          },
          {
           "hoverinfo": "none",
           "marker": {
            "color": "rgba(255, 255, 255, 0.0)",
            "line": {
             "color": "rgba(255, 255, 255, 0.0)",
             "width": 1
            },
            "size": 20,
            "symbol": "circle"
           },
           "mode": "markers+text",
           "text": [
            "('Sacramento Kings',)"
           ],
           "textfont": {
            "color": "rgb(0, 0, 0)"
           },
           "textposition": "middle center",
           "type": "scatter",
           "x": [
            0.6266071284782703
           ],
           "y": [
            0.4182690894005706
           ]
          },
          {
           "hoverinfo": "none",
           "marker": {
            "color": "rgba(255, 255, 255, 0.0)",
            "line": {
             "color": "rgba(255, 255, 255, 0.0)",
             "width": 1
            },
            "size": 20,
            "symbol": "circle"
           },
           "mode": "markers+text",
           "text": [
            "('San Antonio Spurs',)"
           ],
           "textfont": {
            "color": "rgb(0, 0, 0)"
           },
           "textposition": "middle center",
           "type": "scatter",
           "x": [
            0.9171810026541254
           ],
           "y": [
            0.19367168136178314
           ]
          },
          {
           "hoverinfo": "none",
           "marker": {
            "color": "rgba(255, 255, 255, 0.0)",
            "line": {
             "color": "rgba(255, 255, 255, 0.0)",
             "width": 1
            },
            "size": 20,
            "symbol": "circle"
           },
           "mode": "markers+text",
           "text": [
            "('Toronto Raptors',)"
           ],
           "textfont": {
            "color": "rgb(0, 0, 0)"
           },
           "textposition": "middle center",
           "type": "scatter",
           "x": [
            0.8937193877060478
           ],
           "y": [
            0.3717475974104444
           ]
          },
          {
           "hoverinfo": "none",
           "marker": {
            "color": "rgba(255, 255, 255, 0.0)",
            "line": {
             "color": "rgba(255, 255, 255, 0.0)",
             "width": 1
            },
            "size": 20,
            "symbol": "circle"
           },
           "mode": "markers+text",
           "text": [
            "('Utah Jazz',)"
           ],
           "textfont": {
            "color": "rgb(0, 0, 0)"
           },
           "textposition": "middle center",
           "type": "scatter",
           "x": [
            0.6707542454718199
           ],
           "y": [
            0.5564951607050072
           ]
          },
          {
           "hoverinfo": "none",
           "marker": {
            "color": "rgba(255, 255, 255, 0.0)",
            "line": {
             "color": "rgba(255, 255, 255, 0.0)",
             "width": 1
            },
            "size": 20,
            "symbol": "circle"
           },
           "mode": "markers+text",
           "text": [
            "('Washington Wizards',)"
           ],
           "textfont": {
            "color": "rgb(0, 0, 0)"
           },
           "textposition": "middle center",
           "type": "scatter",
           "x": [
            0.45290118494132214
           ],
           "y": [
            0.9750770606404473
           ]
          },
          {
           "hoverinfo": "none",
           "mode": "text",
           "text": [
            null,
            null,
            null,
            null,
            null,
            null,
            null,
            null
           ],
           "textfont": {
            "color": "rgb(0, 0, 0)"
           },
           "textposition": "middle center",
           "type": "scatter",
           "x": [
            0.30555459296088405,
            0.5667309795558947,
            0.47415715977006323,
            0.5707703985645486,
            0.6555348278640614,
            0.3945850992882349,
            0.5367204458575854,
            0.5859272224621785
           ],
           "y": [
            0.3826723389235614,
            0.22211460673384398,
            0.2598789844769917,
            0.15831002406442707,
            0.6181333274327275,
            0.43648512266517986,
            0.698809865726474,
            0.6399433410150351
           ]
          },
          {
           "hoverinfo": "none",
           "marker": {
            "color": "rgba(255, 255, 255, 0.0)",
            "line": {
             "color": "rgba(255, 255, 255, 0.0)",
             "width": 0
            },
            "size": 0,
            "symbol": "circle"
           },
           "mode": "markers",
           "type": "scatter",
           "x": [
            0.5,
            0,
            1,
            0.5
           ],
           "y": [
            0,
            0.5,
            0.5,
            1
           ]
          }
         ],
         "name": "0"
        },
        {
         "data": [
          {
           "hoverinfo": "none",
           "line": {
            "color": "rgb(0, 0, 0)",
            "dash": "solid",
            "width": 1
           },
           "mode": "lines",
           "type": "scatter",
           "x": [
            0.2578883723259273,
            0.3635891075927543,
            null,
            0.3501891538931849,
            0.33585566897904584,
            null,
            0.3501891538931849,
            0.3389197093637393,
            null
           ],
           "y": [
            0.32084233479191304,
            0.3955450319008773,
            null,
            0.38607477911629484,
            0.38426143842489574,
            null,
            0.38607477911629484,
            0.36979356371498395,
            null
           ]
          },
          {
           "hoverinfo": "none",
           "line": {
            "color": "rgb(0, 0, 0)",
            "dash": "solid",
            "width": 1
           },
           "mode": "lines",
           "type": "scatter",
           "x": [
            0.21618238517178123,
            0.9171810026541254,
            null,
            0.9028132710942162,
            0.8891018177724608,
            null,
            0.9028132710942162,
            0.8890726879656858,
            null
           ],
           "y": [
            0.19806440262718117,
            0.19367168136178314,
            null,
            0.19376171497723507,
            0.20160411761125063,
            null,
            0.19376171497723507,
            0.18609133713939777,
            null
           ]
          },
          {
           "hoverinfo": "none",
           "line": {
            "color": "rgb(0, 0, 0)",
            "dash": "solid",
            "width": 1
           },
           "mode": "lines",
           "type": "scatter",
           "x": [
            0.5424021481496177,
            0.43256537961174246,
            null,
            0.4379352736638725,
            0.4391270485937476,
            null,
            0.4379352736638725,
            0.4470036101954743,
            null
           ],
           "y": [
            0.020713523906475295,
            0.5186635855214322,
            null,
            0.49431892289416357,
            0.46816265214719543,
            null,
            0.49431892289416357,
            0.47396050459456734,
            null
           ]
          },
          {
           "hoverinfo": "none",
           "line": {
            "color": "rgb(0, 0, 0)",
            "dash": "solid",
            "width": 1
           },
           "mode": "lines",
           "type": "scatter",
           "x": [
            0.5708710020557325,
            0.5424021481496177,
            null,
            0.5449846224671686,
            0.5516285848453224,
            null,
            0.5449846224671686,
            0.543274923984587,
            null
           ],
           "y": [
            0.30534170598099,
            0.020713523906475295,
            null,
            0.04653279196281096,
            0.06980473742794754,
            null,
            0.04653279196281096,
            0.07259302429113962,
            null
           ]
          },
          {
           "hoverinfo": "none",
           "line": {
            "color": "rgb(0, 0, 0)",
            "dash": "solid",
            "width": 1
           },
           "mode": "lines",
           "type": "scatter",
           "x": [
            0.5751137361402261,
            0.757227329711187,
            null,
            0.7475673132984728,
            0.7351956813760483,
            null,
            0.7475673132984728,
            0.7414818128916612,
            null
           ],
           "y": [
            0.41734590577491804,
            0.7836274607795185,
            null,
            0.764198456257458,
            0.7508521592178623,
            null,
            0.764198456257458,
            0.7404222793624319,
            null
           ]
          },
          {
           "hoverinfo": "none",
           "line": {
            "color": "rgb(0, 0, 0)",
            "dash": "solid",
            "width": 1
           },
           "mode": "lines",
           "type": "scatter",
           "x": [
            0.33482259238727785,
            0.4750004641562492,
            null,
            0.4650105190262521,
            0.4524150914919172,
            null,
            0.4650105190262521,
            0.4585184283464893,
            null
           ],
           "y": [
            0.2858867356982998,
            0.5505848124641965,
            null,
            0.5317207847147584,
            0.5190923419388004,
            null,
            0.5317207847147584,
            0.5083062394088838,
            null
           ]
          },
          {
           "hoverinfo": "none",
           "line": {
            "color": "rgb(0, 0, 0)",
            "dash": "solid",
            "width": 1
           },
           "mode": "lines",
           "type": "scatter",
           "x": [
            0.5733458795255526,
            0.4750004641562492,
            null,
            0.4820004680135658,
            0.49239580013292733,
            null,
            0.4820004680135658,
            0.4849798541120332,
            null
           ],
           "y": [
            0.872609736231231,
            0.5505848124641965,
            null,
            0.5735058169671163,
            0.5916241512977561,
            null,
            0.5735058169671163,
            0.5991820265745796,
            null
           ]
          },
          {
           "hoverinfo": "none",
           "line": {
            "color": "rgb(0, 0, 0)",
            "dash": "solid",
            "width": 1
           },
           "mode": "lines",
           "type": "scatter",
           "x": [
            0.6266071284782703,
            0.5733458795255526,
            null,
            0.5763545050372334,
            0.5750769081865911,
            null,
            0.5763545050372334,
            0.5833806013547215,
            null
           ],
           "y": [
            0.4182690894005706,
            0.872609736231231,
            null,
            0.8469449069617978,
            0.8208021587991121,
            null,
            0.8469449069617978,
            0.8240505593479469,
            null
           ]
          },
          {
           "hoverinfo": "none",
           "marker": {
            "color": "rgb(255, 0, 0)",
            "line": {
             "color": "rgb(0, 0, 0)",
             "width": 1
            },
            "size": 20,
            "symbol": "circle"
           },
           "mode": "markers+text",
           "text": [
            "('Atlanta Hawks',)"
           ],
           "textfont": {
            "color": "rgb(0, 0, 0)"
           },
           "textposition": "middle center",
           "type": "scatter",
           "x": [
            0.2578883723259273
           ],
           "y": [
            0.32084233479191304
           ]
          },
          {
           "hoverinfo": "none",
           "marker": {
            "color": "rgb(255, 0, 0)",
            "line": {
             "color": "rgb(0, 0, 0)",
             "width": 1
            },
            "size": 20,
            "symbol": "circle"
           },
           "mode": "markers+text",
           "text": [
            "('Boston Celtics',)"
           ],
           "textfont": {
            "color": "rgb(0, 0, 0)"
           },
           "textposition": "middle center",
           "type": "scatter",
           "x": [
            0.43256537961174246
           ],
           "y": [
            0.5186635855214322
           ]
          },
          {
           "hoverinfo": "none",
           "marker": {
            "color": "rgb(255, 0, 0)",
            "line": {
             "color": "rgb(0, 0, 0)",
             "width": 1
            },
            "size": 20,
            "symbol": "circle"
           },
           "mode": "markers+text",
           "text": [
            "('Brooklyn Nets',)"
           ],
           "textfont": {
            "color": "rgb(0, 0, 0)"
           },
           "textposition": "middle center",
           "type": "scatter",
           "x": [
            0.11221838997637534
           ],
           "y": [
            0.023003091982322976
           ]
          },
          {
           "hoverinfo": "none",
           "marker": {
            "color": "rgb(255, 0, 0)",
            "line": {
             "color": "rgb(0, 0, 0)",
             "width": 1
            },
            "size": 20,
            "symbol": "circle"
           },
           "mode": "markers+text",
           "text": [
            "('Charlotte Hornets',)"
           ],
           "textfont": {
            "color": "rgb(0, 0, 0)"
           },
           "textposition": "middle center",
           "type": "scatter",
           "x": [
            0.9090635623466599
           ],
           "y": [
            0.828469162609598
           ]
          },
          {
           "hoverinfo": "none",
           "marker": {
            "color": "rgb(255, 0, 0)",
            "line": {
             "color": "rgb(0, 0, 0)",
             "width": 1
            },
            "size": 20,
            "symbol": "circle"
           },
           "mode": "markers+text",
           "text": [
            "('Chicago Bulls',)"
           ],
           "textfont": {
            "color": "rgb(0, 0, 0)"
           },
           "textposition": "middle center",
           "type": "scatter",
           "x": [
            0.21618238517178123
           ],
           "y": [
            0.19806440262718117
           ]
          },
          {
           "hoverinfo": "none",
           "marker": {
            "color": "rgb(255, 0, 0)",
            "line": {
             "color": "rgb(0, 0, 0)",
             "width": 1
            },
            "size": 20,
            "symbol": "circle"
           },
           "mode": "markers+text",
           "text": [
            "('Cleveland Cavaliers',)"
           ],
           "textfont": {
            "color": "rgb(0, 0, 0)"
           },
           "textposition": "middle center",
           "type": "scatter",
           "x": [
            0.21165194812972576
           ],
           "y": [
            0.794130636470508
           ]
          },
          {
           "hoverinfo": "none",
           "marker": {
            "color": "rgb(255, 0, 0)",
            "line": {
             "color": "rgb(0, 0, 0)",
             "width": 1
            },
            "size": 20,
            "symbol": "circle"
           },
           "mode": "markers+text",
           "text": [
            "('Dallas Mavericks',)"
           ],
           "textfont": {
            "color": "rgb(0, 0, 0)"
           },
           "textposition": "middle center",
           "type": "scatter",
           "x": [
            0.4750004641562492
           ],
           "y": [
            0.5505848124641965
           ]
          },
          {
           "hoverinfo": "none",
           "marker": {
            "color": "rgb(255, 0, 0)",
            "line": {
             "color": "rgb(0, 0, 0)",
             "width": 1
            },
            "size": 20,
            "symbol": "circle"
           },
           "mode": "markers+text",
           "text": [
            "('Denver Nuggets',)"
           ],
           "textfont": {
            "color": "rgb(0, 0, 0)"
           },
           "textposition": "middle center",
           "type": "scatter",
           "x": [
            0.5424021481496177
           ],
           "y": [
            0.020713523906475295
           ]
          },
          {
           "hoverinfo": "none",
           "marker": {
            "color": "rgb(255, 0, 0)",
            "line": {
             "color": "rgb(0, 0, 0)",
             "width": 1
            },
            "size": 20,
            "symbol": "circle"
           },
           "mode": "markers+text",
           "text": [
            "('Detroit Pistons',)"
           ],
           "textfont": {
            "color": "rgb(0, 0, 0)"
           },
           "textposition": "middle center",
           "type": "scatter",
           "x": [
            0.9457824513236409
           ],
           "y": [
            0.07939137483213865
           ]
          },
          {
           "hoverinfo": "none",
           "marker": {
            "color": "rgb(255, 0, 0)",
            "line": {
             "color": "rgb(0, 0, 0)",
             "width": 1
            },
            "size": 20,
            "symbol": "circle"
           },
           "mode": "markers+text",
           "text": [
            "('Golden State Warriors',)"
           ],
           "textfont": {
            "color": "rgb(0, 0, 0)"
           },
           "textposition": "middle center",
           "type": "scatter",
           "x": [
            0.9998248270476896
           ],
           "y": [
            0.7045069888281296
           ]
          },
          {
           "hoverinfo": "none",
           "marker": {
            "color": "rgb(255, 0, 0)",
            "line": {
             "color": "rgb(0, 0, 0)",
             "width": 1
            },
            "size": 20,
            "symbol": "circle"
           },
           "mode": "markers+text",
           "text": [
            "('Houston Rockets',)"
           ],
           "textfont": {
            "color": "rgb(0, 0, 0)"
           },
           "textposition": "middle center",
           "type": "scatter",
           "x": [
            0.3635891075927543
           ],
           "y": [
            0.3955450319008773
           ]
          },
          {
           "hoverinfo": "none",
           "marker": {
            "color": "rgb(255, 0, 0)",
            "line": {
             "color": "rgb(0, 0, 0)",
             "width": 1
            },
            "size": 20,
            "symbol": "circle"
           },
           "mode": "markers+text",
           "text": [
            "('Indiana Pacers',)"
           ],
           "textfont": {
            "color": "rgb(0, 0, 0)"
           },
           "textposition": "middle center",
           "type": "scatter",
           "x": [
            0.5350540001177557
           ],
           "y": [
            0.5588872112059232
           ]
          },
          {
           "hoverinfo": "none",
           "marker": {
            "color": "rgb(255, 0, 0)",
            "line": {
             "color": "rgb(0, 0, 0)",
             "width": 1
            },
            "size": 20,
            "symbol": "circle"
           },
           "mode": "markers+text",
           "text": [
            "('LA Clippers',)"
           ],
           "textfont": {
            "color": "rgb(0, 0, 0)"
           },
           "textposition": "middle center",
           "type": "scatter",
           "x": [
            0.1474461571520782
           ],
           "y": [
            0.8969265635097233
           ]
          },
          {
           "hoverinfo": "none",
           "marker": {
            "color": "rgb(255, 0, 0)",
            "line": {
             "color": "rgb(0, 0, 0)",
             "width": 1
            },
            "size": 20,
            "symbol": "circle"
           },
           "mode": "markers+text",
           "text": [
            "('Los Angeles Lakers',)"
           ],
           "textfont": {
            "color": "rgb(0, 0, 0)"
           },
           "textposition": "middle center",
           "type": "scatter",
           "x": [
            0.0005565783485109721
           ],
           "y": [
            0.46173782872575053
           ]
          },
          {
           "hoverinfo": "none",
           "marker": {
            "color": "rgb(255, 0, 0)",
            "line": {
             "color": "rgb(0, 0, 0)",
             "width": 1
            },
            "size": 20,
            "symbol": "circle"
           },
           "mode": "markers+text",
           "text": [
            "('Memphis Grizzlies',)"
           ],
           "textfont": {
            "color": "rgb(0, 0, 0)"
           },
           "textposition": "middle center",
           "type": "scatter",
           "x": [
            0.5708710020557325
           ],
           "y": [
            0.30534170598099
           ]
          },
          {
           "hoverinfo": "none",
           "marker": {
            "color": "rgb(255, 0, 0)",
            "line": {
             "color": "rgb(0, 0, 0)",
             "width": 1
            },
            "size": 20,
            "symbol": "circle"
           },
           "mode": "markers+text",
           "text": [
            "('Miami Heat',)"
           ],
           "textfont": {
            "color": "rgb(0, 0, 0)"
           },
           "textposition": "middle center",
           "type": "scatter",
           "x": [
            0.5756301823109237
           ],
           "y": [
            0.08402151559107118
           ]
          },
          {
           "hoverinfo": "none",
           "marker": {
            "color": "rgb(255, 0, 0)",
            "line": {
             "color": "rgb(0, 0, 0)",
             "width": 1
            },
            "size": 20,
            "symbol": "circle"
           },
           "mode": "markers+text",
           "text": [
            "('Milwaukee Bucks',)"
           ],
           "textfont": {
            "color": "rgb(0, 0, 0)"
           },
           "textposition": "middle center",
           "type": "scatter",
           "x": [
            0.5791686709389611
           ],
           "y": [
            0.31427470939671787
           ]
          },
          {
           "hoverinfo": "none",
           "marker": {
            "color": "rgb(255, 0, 0)",
            "line": {
             "color": "rgb(0, 0, 0)",
             "width": 1
            },
            "size": 20,
            "symbol": "circle"
           },
           "mode": "markers+text",
           "text": [
            "('Minnesota Timberwolves',)"
           ],
           "textfont": {
            "color": "rgb(0, 0, 0)"
           },
           "textposition": "middle center",
           "type": "scatter",
           "x": [
            0.21334168508823392
           ],
           "y": [
            0.62111085816352
           ]
          },
          {
           "hoverinfo": "none",
           "marker": {
            "color": "rgb(255, 0, 0)",
            "line": {
             "color": "rgb(0, 0, 0)",
             "width": 1
            },
            "size": 20,
            "symbol": "circle"
           },
           "mode": "markers+text",
           "text": [
            "('New Orleans Pelicans',)"
           ],
           "textfont": {
            "color": "rgb(0, 0, 0)"
           },
           "textposition": "middle center",
           "type": "scatter",
           "x": [
            0.5751137361402261
           ],
           "y": [
            0.41734590577491804
           ]
          },
          {
           "hoverinfo": "none",
           "marker": {
            "color": "rgb(255, 0, 0)",
            "line": {
             "color": "rgb(0, 0, 0)",
             "width": 1
            },
            "size": 20,
            "symbol": "circle"
           },
           "mode": "markers+text",
           "text": [
            "('New York Knicks',)"
           ],
           "textfont": {
            "color": "rgb(0, 0, 0)"
           },
           "textposition": "middle center",
           "type": "scatter",
           "x": [
            0.5875228654644489
           ],
           "y": [
            0.8455516258870958
           ]
          },
          {
           "hoverinfo": "none",
           "marker": {
            "color": "rgb(255, 0, 0)",
            "line": {
             "color": "rgb(0, 0, 0)",
             "width": 1
            },
            "size": 20,
            "symbol": "circle"
           },
           "mode": "markers+text",
           "text": [
            "('Oklahoma City Thunder',)"
           ],
           "textfont": {
            "color": "rgb(0, 0, 0)"
           },
           "textposition": "middle center",
           "type": "scatter",
           "x": [
            0.33482259238727785
           ],
           "y": [
            0.2858867356982998
           ]
          },
          {
           "hoverinfo": "none",
           "marker": {
            "color": "rgb(255, 0, 0)",
            "line": {
             "color": "rgb(0, 0, 0)",
             "width": 1
            },
            "size": 20,
            "symbol": "circle"
           },
           "mode": "markers+text",
           "text": [
            "('Orlando Magic',)"
           ],
           "textfont": {
            "color": "rgb(0, 0, 0)"
           },
           "textposition": "middle center",
           "type": "scatter",
           "x": [
            0.757227329711187
           ],
           "y": [
            0.7836274607795185
           ]
          },
          {
           "hoverinfo": "none",
           "marker": {
            "color": "rgb(255, 0, 0)",
            "line": {
             "color": "rgb(0, 0, 0)",
             "width": 1
            },
            "size": 20,
            "symbol": "circle"
           },
           "mode": "markers+text",
           "text": [
            "('Philadelphia 76ers',)"
           ],
           "textfont": {
            "color": "rgb(0, 0, 0)"
           },
           "textposition": "middle center",
           "type": "scatter",
           "x": [
            0.5949496259671603
           ],
           "y": [
            0.5119247025866192
           ]
          },
          {
           "hoverinfo": "none",
           "marker": {
            "color": "rgb(255, 0, 0)",
            "line": {
             "color": "rgb(0, 0, 0)",
             "width": 1
            },
            "size": 20,
            "symbol": "circle"
           },
           "mode": "markers+text",
           "text": [
            "('Phoenix Suns',)"
           ],
           "textfont": {
            "color": "rgb(0, 0, 0)"
           },
           "textposition": "middle center",
           "type": "scatter",
           "x": [
            0.6366763800746762
           ],
           "y": [
            0.3819582124402713
           ]
          },
          {
           "hoverinfo": "none",
           "marker": {
            "color": "rgb(255, 0, 0)",
            "line": {
             "color": "rgb(0, 0, 0)",
             "width": 1
            },
            "size": 20,
            "symbol": "circle"
           },
           "mode": "markers+text",
           "text": [
            "('Portland Trail Blazers',)"
           ],
           "textfont": {
            "color": "rgb(0, 0, 0)"
           },
           "textposition": "middle center",
           "type": "scatter",
           "x": [
            0.5733458795255526
           ],
           "y": [
            0.872609736231231
           ]
          },
          {
           "hoverinfo": "none",
           "marker": {
            "color": "rgb(255, 0, 0)",
            "line": {
             "color": "rgb(0, 0, 0)",
             "width": 1
            },
            "size": 20,
            "symbol": "circle"
           },
           "mode": "markers+text",
           "text": [
            "('Sacramento Kings',)"
           ],
           "textfont": {
            "color": "rgb(0, 0, 0)"
           },
           "textposition": "middle center",
           "type": "scatter",
           "x": [
            0.6266071284782703
           ],
           "y": [
            0.4182690894005706
           ]
          },
          {
           "hoverinfo": "none",
           "marker": {
            "color": "rgb(255, 0, 0)",
            "line": {
             "color": "rgb(0, 0, 0)",
             "width": 1
            },
            "size": 20,
            "symbol": "circle"
           },
           "mode": "markers+text",
           "text": [
            "('San Antonio Spurs',)"
           ],
           "textfont": {
            "color": "rgb(0, 0, 0)"
           },
           "textposition": "middle center",
           "type": "scatter",
           "x": [
            0.9171810026541254
           ],
           "y": [
            0.19367168136178314
           ]
          },
          {
           "hoverinfo": "none",
           "marker": {
            "color": "rgb(255, 0, 0)",
            "line": {
             "color": "rgb(0, 0, 0)",
             "width": 1
            },
            "size": 20,
            "symbol": "circle"
           },
           "mode": "markers+text",
           "text": [
            "('Toronto Raptors',)"
           ],
           "textfont": {
            "color": "rgb(0, 0, 0)"
           },
           "textposition": "middle center",
           "type": "scatter",
           "x": [
            0.8937193877060478
           ],
           "y": [
            0.3717475974104444
           ]
          },
          {
           "hoverinfo": "none",
           "marker": {
            "color": "rgb(255, 0, 0)",
            "line": {
             "color": "rgb(0, 0, 0)",
             "width": 1
            },
            "size": 20,
            "symbol": "circle"
           },
           "mode": "markers+text",
           "text": [
            "('Utah Jazz',)"
           ],
           "textfont": {
            "color": "rgb(0, 0, 0)"
           },
           "textposition": "middle center",
           "type": "scatter",
           "x": [
            0.6707542454718199
           ],
           "y": [
            0.5564951607050072
           ]
          },
          {
           "hoverinfo": "none",
           "marker": {
            "color": "rgb(255, 0, 0)",
            "line": {
             "color": "rgb(0, 0, 0)",
             "width": 1
            },
            "size": 20,
            "symbol": "circle"
           },
           "mode": "markers+text",
           "text": [
            "('Washington Wizards',)"
           ],
           "textfont": {
            "color": "rgb(0, 0, 0)"
           },
           "textposition": "middle center",
           "type": "scatter",
           "x": [
            0.45290118494132214
           ],
           "y": [
            0.9750770606404473
           ]
          },
          {
           "hoverinfo": "none",
           "mode": "text",
           "text": [
            null,
            null,
            null,
            null,
            null,
            null,
            null,
            null
           ],
           "textfont": {
            "color": "rgb(0, 0, 0)"
           },
           "textposition": "middle center",
           "type": "scatter",
           "x": [
            0.30555459296088405,
            0.5667309795558947,
            0.47415715977006323,
            0.5707703985645486,
            0.6555348278640614,
            0.3945850992882349,
            0.5367204458575854,
            0.5859272224621785
           ],
           "y": [
            0.3826723389235614,
            0.22211460673384398,
            0.2598789844769917,
            0.15831002406442707,
            0.6181333274327275,
            0.43648512266517986,
            0.698809865726474,
            0.6399433410150351
           ]
          },
          {
           "hoverinfo": "none",
           "marker": {
            "color": "rgba(255, 255, 255, 0.0)",
            "line": {
             "color": "rgba(255, 255, 255, 0.0)",
             "width": 0
            },
            "size": 0,
            "symbol": "circle"
           },
           "mode": "markers",
           "type": "scatter",
           "x": [
            0.5,
            0,
            1,
            0.5
           ],
           "y": [
            0,
            0.5,
            0.5,
            1
           ]
          }
         ],
         "name": "1"
        }
       ],
       "layout": {
        "height": 526,
        "margin": {
         "b": 0,
         "l": 0,
         "r": 0,
         "t": 0
        },
        "showlegend": false,
        "sliders": [
         {
          "currentvalue": {
           "visible": false
          },
          "steps": [
           {
            "args": [
             [
              0
             ],
             {
              "frame": {
               "redraw": false
              },
              "mode": "immediate"
             }
            ],
            "label": "",
            "method": "animate"
           },
           {
            "args": [
             [
              1
             ],
             {
              "frame": {
               "redraw": false
              },
              "mode": "immediate"
             }
            ],
            "label": "",
            "method": "animate"
           }
          ]
         }
        ],
        "template": {
         "data": {
          "bar": [
           {
            "error_x": {
             "color": "#2a3f5f"
            },
            "error_y": {
             "color": "#2a3f5f"
            },
            "marker": {
             "line": {
              "color": "#E5ECF6",
              "width": 0.5
             }
            },
            "type": "bar"
           }
          ],
          "barpolar": [
           {
            "marker": {
             "line": {
              "color": "#E5ECF6",
              "width": 0.5
             }
            },
            "type": "barpolar"
           }
          ],
          "carpet": [
           {
            "aaxis": {
             "endlinecolor": "#2a3f5f",
             "gridcolor": "white",
             "linecolor": "white",
             "minorgridcolor": "white",
             "startlinecolor": "#2a3f5f"
            },
            "baxis": {
             "endlinecolor": "#2a3f5f",
             "gridcolor": "white",
             "linecolor": "white",
             "minorgridcolor": "white",
             "startlinecolor": "#2a3f5f"
            },
            "type": "carpet"
           }
          ],
          "choropleth": [
           {
            "colorbar": {
             "outlinewidth": 0,
             "ticks": ""
            },
            "type": "choropleth"
           }
          ],
          "contour": [
           {
            "colorbar": {
             "outlinewidth": 0,
             "ticks": ""
            },
            "colorscale": [
             [
              0,
              "#0d0887"
             ],
             [
              0.1111111111111111,
              "#46039f"
             ],
             [
              0.2222222222222222,
              "#7201a8"
             ],
             [
              0.3333333333333333,
              "#9c179e"
             ],
             [
              0.4444444444444444,
              "#bd3786"
             ],
             [
              0.5555555555555556,
              "#d8576b"
             ],
             [
              0.6666666666666666,
              "#ed7953"
             ],
             [
              0.7777777777777778,
              "#fb9f3a"
             ],
             [
              0.8888888888888888,
              "#fdca26"
             ],
             [
              1,
              "#f0f921"
             ]
            ],
            "type": "contour"
           }
          ],
          "contourcarpet": [
           {
            "colorbar": {
             "outlinewidth": 0,
             "ticks": ""
            },
            "type": "contourcarpet"
           }
          ],
          "heatmap": [
           {
            "colorbar": {
             "outlinewidth": 0,
             "ticks": ""
            },
            "colorscale": [
             [
              0,
              "#0d0887"
             ],
             [
              0.1111111111111111,
              "#46039f"
             ],
             [
              0.2222222222222222,
              "#7201a8"
             ],
             [
              0.3333333333333333,
              "#9c179e"
             ],
             [
              0.4444444444444444,
              "#bd3786"
             ],
             [
              0.5555555555555556,
              "#d8576b"
             ],
             [
              0.6666666666666666,
              "#ed7953"
             ],
             [
              0.7777777777777778,
              "#fb9f3a"
             ],
             [
              0.8888888888888888,
              "#fdca26"
             ],
             [
              1,
              "#f0f921"
             ]
            ],
            "type": "heatmap"
           }
          ],
          "heatmapgl": [
           {
            "colorbar": {
             "outlinewidth": 0,
             "ticks": ""
            },
            "colorscale": [
             [
              0,
              "#0d0887"
             ],
             [
              0.1111111111111111,
              "#46039f"
             ],
             [
              0.2222222222222222,
              "#7201a8"
             ],
             [
              0.3333333333333333,
              "#9c179e"
             ],
             [
              0.4444444444444444,
              "#bd3786"
             ],
             [
              0.5555555555555556,
              "#d8576b"
             ],
             [
              0.6666666666666666,
              "#ed7953"
             ],
             [
              0.7777777777777778,
              "#fb9f3a"
             ],
             [
              0.8888888888888888,
              "#fdca26"
             ],
             [
              1,
              "#f0f921"
             ]
            ],
            "type": "heatmapgl"
           }
          ],
          "histogram": [
           {
            "marker": {
             "colorbar": {
              "outlinewidth": 0,
              "ticks": ""
             }
            },
            "type": "histogram"
           }
          ],
          "histogram2d": [
           {
            "colorbar": {
             "outlinewidth": 0,
             "ticks": ""
            },
            "colorscale": [
             [
              0,
              "#0d0887"
             ],
             [
              0.1111111111111111,
              "#46039f"
             ],
             [
              0.2222222222222222,
              "#7201a8"
             ],
             [
              0.3333333333333333,
              "#9c179e"
             ],
             [
              0.4444444444444444,
              "#bd3786"
             ],
             [
              0.5555555555555556,
              "#d8576b"
             ],
             [
              0.6666666666666666,
              "#ed7953"
             ],
             [
              0.7777777777777778,
              "#fb9f3a"
             ],
             [
              0.8888888888888888,
              "#fdca26"
             ],
             [
              1,
              "#f0f921"
             ]
            ],
            "type": "histogram2d"
           }
          ],
          "histogram2dcontour": [
           {
            "colorbar": {
             "outlinewidth": 0,
             "ticks": ""
            },
            "colorscale": [
             [
              0,
              "#0d0887"
             ],
             [
              0.1111111111111111,
              "#46039f"
             ],
             [
              0.2222222222222222,
              "#7201a8"
             ],
             [
              0.3333333333333333,
              "#9c179e"
             ],
             [
              0.4444444444444444,
              "#bd3786"
             ],
             [
              0.5555555555555556,
              "#d8576b"
             ],
             [
              0.6666666666666666,
              "#ed7953"
             ],
             [
              0.7777777777777778,
              "#fb9f3a"
             ],
             [
              0.8888888888888888,
              "#fdca26"
             ],
             [
              1,
              "#f0f921"
             ]
            ],
            "type": "histogram2dcontour"
           }
          ],
          "mesh3d": [
           {
            "colorbar": {
             "outlinewidth": 0,
             "ticks": ""
            },
            "type": "mesh3d"
           }
          ],
          "parcoords": [
           {
            "line": {
             "colorbar": {
              "outlinewidth": 0,
              "ticks": ""
             }
            },
            "type": "parcoords"
           }
          ],
          "scatter": [
           {
            "marker": {
             "colorbar": {
              "outlinewidth": 0,
              "ticks": ""
             }
            },
            "type": "scatter"
           }
          ],
          "scatter3d": [
           {
            "line": {
             "colorbar": {
              "outlinewidth": 0,
              "ticks": ""
             }
            },
            "marker": {
             "colorbar": {
              "outlinewidth": 0,
              "ticks": ""
             }
            },
            "type": "scatter3d"
           }
          ],
          "scattercarpet": [
           {
            "marker": {
             "colorbar": {
              "outlinewidth": 0,
              "ticks": ""
             }
            },
            "type": "scattercarpet"
           }
          ],
          "scattergeo": [
           {
            "marker": {
             "colorbar": {
              "outlinewidth": 0,
              "ticks": ""
             }
            },
            "type": "scattergeo"
           }
          ],
          "scattergl": [
           {
            "marker": {
             "colorbar": {
              "outlinewidth": 0,
              "ticks": ""
             }
            },
            "type": "scattergl"
           }
          ],
          "scattermapbox": [
           {
            "marker": {
             "colorbar": {
              "outlinewidth": 0,
              "ticks": ""
             }
            },
            "type": "scattermapbox"
           }
          ],
          "scatterpolar": [
           {
            "marker": {
             "colorbar": {
              "outlinewidth": 0,
              "ticks": ""
             }
            },
            "type": "scatterpolar"
           }
          ],
          "scatterpolargl": [
           {
            "marker": {
             "colorbar": {
              "outlinewidth": 0,
              "ticks": ""
             }
            },
            "type": "scatterpolargl"
           }
          ],
          "scatterternary": [
           {
            "marker": {
             "colorbar": {
              "outlinewidth": 0,
              "ticks": ""
             }
            },
            "type": "scatterternary"
           }
          ],
          "surface": [
           {
            "colorbar": {
             "outlinewidth": 0,
             "ticks": ""
            },
            "colorscale": [
             [
              0,
              "#0d0887"
             ],
             [
              0.1111111111111111,
              "#46039f"
             ],
             [
              0.2222222222222222,
              "#7201a8"
             ],
             [
              0.3333333333333333,
              "#9c179e"
             ],
             [
              0.4444444444444444,
              "#bd3786"
             ],
             [
              0.5555555555555556,
              "#d8576b"
             ],
             [
              0.6666666666666666,
              "#ed7953"
             ],
             [
              0.7777777777777778,
              "#fb9f3a"
             ],
             [
              0.8888888888888888,
              "#fdca26"
             ],
             [
              1,
              "#f0f921"
             ]
            ],
            "type": "surface"
           }
          ],
          "table": [
           {
            "cells": {
             "fill": {
              "color": "#EBF0F8"
             },
             "line": {
              "color": "white"
             }
            },
            "header": {
             "fill": {
              "color": "#C8D4E3"
             },
             "line": {
              "color": "white"
             }
            },
            "type": "table"
           }
          ]
         },
         "layout": {
          "annotationdefaults": {
           "arrowcolor": "#2a3f5f",
           "arrowhead": 0,
           "arrowwidth": 1
          },
          "colorscale": {
           "diverging": [
            [
             0,
             "#8e0152"
            ],
            [
             0.1,
             "#c51b7d"
            ],
            [
             0.2,
             "#de77ae"
            ],
            [
             0.3,
             "#f1b6da"
            ],
            [
             0.4,
             "#fde0ef"
            ],
            [
             0.5,
             "#f7f7f7"
            ],
            [
             0.6,
             "#e6f5d0"
            ],
            [
             0.7,
             "#b8e186"
            ],
            [
             0.8,
             "#7fbc41"
            ],
            [
             0.9,
             "#4d9221"
            ],
            [
             1,
             "#276419"
            ]
           ],
           "sequential": [
            [
             0,
             "#0d0887"
            ],
            [
             0.1111111111111111,
             "#46039f"
            ],
            [
             0.2222222222222222,
             "#7201a8"
            ],
            [
             0.3333333333333333,
             "#9c179e"
            ],
            [
             0.4444444444444444,
             "#bd3786"
            ],
            [
             0.5555555555555556,
             "#d8576b"
            ],
            [
             0.6666666666666666,
             "#ed7953"
            ],
            [
             0.7777777777777778,
             "#fb9f3a"
            ],
            [
             0.8888888888888888,
             "#fdca26"
            ],
            [
             1,
             "#f0f921"
            ]
           ],
           "sequentialminus": [
            [
             0,
             "#0d0887"
            ],
            [
             0.1111111111111111,
             "#46039f"
            ],
            [
             0.2222222222222222,
             "#7201a8"
            ],
            [
             0.3333333333333333,
             "#9c179e"
            ],
            [
             0.4444444444444444,
             "#bd3786"
            ],
            [
             0.5555555555555556,
             "#d8576b"
            ],
            [
             0.6666666666666666,
             "#ed7953"
            ],
            [
             0.7777777777777778,
             "#fb9f3a"
            ],
            [
             0.8888888888888888,
             "#fdca26"
            ],
            [
             1,
             "#f0f921"
            ]
           ]
          },
          "colorway": [
           "#636efa",
           "#EF553B",
           "#00cc96",
           "#ab63fa",
           "#FFA15A",
           "#19d3f3",
           "#FF6692",
           "#B6E880",
           "#FF97FF",
           "#FECB52"
          ],
          "font": {
           "color": "#2a3f5f"
          },
          "geo": {
           "bgcolor": "white",
           "lakecolor": "white",
           "landcolor": "#E5ECF6",
           "showlakes": true,
           "showland": true,
           "subunitcolor": "white"
          },
          "hoverlabel": {
           "align": "left"
          },
          "hovermode": "closest",
          "mapbox": {
           "style": "light"
          },
          "paper_bgcolor": "white",
          "plot_bgcolor": "#E5ECF6",
          "polar": {
           "angularaxis": {
            "gridcolor": "white",
            "linecolor": "white",
            "ticks": ""
           },
           "bgcolor": "#E5ECF6",
           "radialaxis": {
            "gridcolor": "white",
            "linecolor": "white",
            "ticks": ""
           }
          },
          "scene": {
           "xaxis": {
            "backgroundcolor": "#E5ECF6",
            "gridcolor": "white",
            "gridwidth": 2,
            "linecolor": "white",
            "showbackground": true,
            "ticks": "",
            "zerolinecolor": "white"
           },
           "yaxis": {
            "backgroundcolor": "#E5ECF6",
            "gridcolor": "white",
            "gridwidth": 2,
            "linecolor": "white",
            "showbackground": true,
            "ticks": "",
            "zerolinecolor": "white"
           },
           "zaxis": {
            "backgroundcolor": "#E5ECF6",
            "gridcolor": "white",
            "gridwidth": 2,
            "linecolor": "white",
            "showbackground": true,
            "ticks": "",
            "zerolinecolor": "white"
           }
          },
          "shapedefaults": {
           "line": {
            "color": "#2a3f5f"
           }
          },
          "ternary": {
           "aaxis": {
            "gridcolor": "white",
            "linecolor": "white",
            "ticks": ""
           },
           "baxis": {
            "gridcolor": "white",
            "linecolor": "white",
            "ticks": ""
           },
           "bgcolor": "#E5ECF6",
           "caxis": {
            "gridcolor": "white",
            "linecolor": "white",
            "ticks": ""
           }
          },
          "title": {
           "x": 0.05
          },
          "xaxis": {
           "automargin": true,
           "gridcolor": "white",
           "linecolor": "white",
           "ticks": "",
           "zerolinecolor": "white",
           "zerolinewidth": 2
          },
          "yaxis": {
           "automargin": true,
           "gridcolor": "white",
           "linecolor": "white",
           "ticks": "",
           "zerolinecolor": "white",
           "zerolinewidth": 2
          }
         }
        },
        "updatemenus": [
         {
          "buttons": [
           {
            "args": [
             null,
             {
              "frame": {
               "redraw": false
              },
              "fromcurrent": true
             }
            ],
            "label": "Play",
            "method": "animate"
           },
           {
            "args": [
             [
              null
             ],
             {
              "frame": {
               "redraw": false
              },
              "mode": "immediate"
             }
            ],
            "label": "Pause",
            "method": "animate"
           }
          ],
          "showactive": true,
          "type": "buttons"
         }
        ],
        "width": 912,
        "xaxis": {
         "showgrid": false,
         "showticklabels": false,
         "zeroline": false
        },
        "yaxis": {
         "showgrid": false,
         "showticklabels": false,
         "zeroline": false
        }
       }
      },
      "text/html": [
       "<div>\n",
       "        \n",
       "        \n",
       "            <div id=\"657a0567-c8de-4763-993d-712c1b5ce4e0\" class=\"plotly-graph-div\" style=\"height:526.0px; width:912.0px;\"></div>\n",
       "            <script type=\"text/javascript\">\n",
       "                require([\"plotly\"], function(Plotly) {\n",
       "                    window.PLOTLYENV=window.PLOTLYENV || {};\n",
       "                    \n",
       "                if (document.getElementById(\"657a0567-c8de-4763-993d-712c1b5ce4e0\")) {\n",
       "                    Plotly.newPlot(\n",
       "                        '657a0567-c8de-4763-993d-712c1b5ce4e0',\n",
       "                        [{\"hoverinfo\": \"none\", \"line\": {\"color\": \"rgba(255, 255, 255, 0.0)\", \"dash\": \"solid\", \"width\": 1}, \"mode\": \"lines\", \"type\": \"scatter\", \"x\": [0.2578883723259273, 0.3635891075927543, null, 0.3501891538931849, 0.33585566897904584, null, 0.3501891538931849, 0.3389197093637393, null], \"y\": [0.32084233479191304, 0.3955450319008773, null, 0.38607477911629484, 0.38426143842489574, null, 0.38607477911629484, 0.36979356371498395, null]}, {\"hoverinfo\": \"none\", \"line\": {\"color\": \"rgba(255, 255, 255, 0.0)\", \"dash\": \"solid\", \"width\": 1}, \"mode\": \"lines\", \"type\": \"scatter\", \"x\": [0.21618238517178123, 0.9171810026541254, null, 0.9028132710942162, 0.8891018177724608, null, 0.9028132710942162, 0.8890726879656858, null], \"y\": [0.19806440262718117, 0.19367168136178314, null, 0.19376171497723507, 0.20160411761125063, null, 0.19376171497723507, 0.18609133713939777, null]}, {\"hoverinfo\": \"none\", \"line\": {\"color\": \"rgba(255, 255, 255, 0.0)\", \"dash\": \"solid\", \"width\": 1}, \"mode\": \"lines\", \"type\": \"scatter\", \"x\": [0.5424021481496177, 0.43256537961174246, null, 0.4379352736638725, 0.4391270485937476, null, 0.4379352736638725, 0.4470036101954743, null], \"y\": [0.020713523906475295, 0.5186635855214322, null, 0.49431892289416357, 0.46816265214719543, null, 0.49431892289416357, 0.47396050459456734, null]}, {\"hoverinfo\": \"none\", \"line\": {\"color\": \"rgba(255, 255, 255, 0.0)\", \"dash\": \"solid\", \"width\": 1}, \"mode\": \"lines\", \"type\": \"scatter\", \"x\": [0.5708710020557325, 0.5424021481496177, null, 0.5449846224671686, 0.5516285848453224, null, 0.5449846224671686, 0.543274923984587, null], \"y\": [0.30534170598099, 0.020713523906475295, null, 0.04653279196281096, 0.06980473742794754, null, 0.04653279196281096, 0.07259302429113962, null]}, {\"hoverinfo\": \"none\", \"line\": {\"color\": \"rgba(255, 255, 255, 0.0)\", \"dash\": \"solid\", \"width\": 1}, \"mode\": \"lines\", \"type\": \"scatter\", \"x\": [0.5751137361402261, 0.757227329711187, null, 0.7475673132984728, 0.7351956813760483, null, 0.7475673132984728, 0.7414818128916612, null], \"y\": [0.41734590577491804, 0.7836274607795185, null, 0.764198456257458, 0.7508521592178623, null, 0.764198456257458, 0.7404222793624319, null]}, {\"hoverinfo\": \"none\", \"line\": {\"color\": \"rgba(255, 255, 255, 0.0)\", \"dash\": \"solid\", \"width\": 1}, \"mode\": \"lines\", \"type\": \"scatter\", \"x\": [0.33482259238727785, 0.4750004641562492, null, 0.4650105190262521, 0.4524150914919172, null, 0.4650105190262521, 0.4585184283464893, null], \"y\": [0.2858867356982998, 0.5505848124641965, null, 0.5317207847147584, 0.5190923419388004, null, 0.5317207847147584, 0.5083062394088838, null]}, {\"hoverinfo\": \"none\", \"line\": {\"color\": \"rgba(255, 255, 255, 0.0)\", \"dash\": \"solid\", \"width\": 1}, \"mode\": \"lines\", \"type\": \"scatter\", \"x\": [0.5733458795255526, 0.4750004641562492, null, 0.4820004680135658, 0.49239580013292733, null, 0.4820004680135658, 0.4849798541120332, null], \"y\": [0.872609736231231, 0.5505848124641965, null, 0.5735058169671163, 0.5916241512977561, null, 0.5735058169671163, 0.5991820265745796, null]}, {\"hoverinfo\": \"none\", \"line\": {\"color\": \"rgba(255, 255, 255, 0.0)\", \"dash\": \"solid\", \"width\": 1}, \"mode\": \"lines\", \"type\": \"scatter\", \"x\": [0.6266071284782703, 0.5733458795255526, null, 0.5763545050372334, 0.5750769081865911, null, 0.5763545050372334, 0.5833806013547215, null], \"y\": [0.4182690894005706, 0.872609736231231, null, 0.8469449069617978, 0.8208021587991121, null, 0.8469449069617978, 0.8240505593479469, null]}, {\"hoverinfo\": \"none\", \"marker\": {\"color\": \"rgba(255, 255, 255, 0.0)\", \"line\": {\"color\": \"rgba(255, 255, 255, 0.0)\", \"width\": 1}, \"size\": 20, \"symbol\": \"circle\"}, \"mode\": \"markers+text\", \"text\": [\"('Atlanta Hawks',)\"], \"textfont\": {\"color\": \"rgb(0, 0, 0)\"}, \"textposition\": \"middle center\", \"type\": \"scatter\", \"x\": [0.2578883723259273], \"y\": [0.32084233479191304]}, {\"hoverinfo\": \"none\", \"marker\": {\"color\": \"rgba(255, 255, 255, 0.0)\", \"line\": {\"color\": \"rgba(255, 255, 255, 0.0)\", \"width\": 1}, \"size\": 20, \"symbol\": \"circle\"}, \"mode\": \"markers+text\", \"text\": [\"('Boston Celtics',)\"], \"textfont\": {\"color\": \"rgb(0, 0, 0)\"}, \"textposition\": \"middle center\", \"type\": \"scatter\", \"x\": [0.43256537961174246], \"y\": [0.5186635855214322]}, {\"hoverinfo\": \"none\", \"marker\": {\"color\": \"rgba(255, 255, 255, 0.0)\", \"line\": {\"color\": \"rgba(255, 255, 255, 0.0)\", \"width\": 1}, \"size\": 20, \"symbol\": \"circle\"}, \"mode\": \"markers+text\", \"text\": [\"('Brooklyn Nets',)\"], \"textfont\": {\"color\": \"rgb(0, 0, 0)\"}, \"textposition\": \"middle center\", \"type\": \"scatter\", \"x\": [0.11221838997637534], \"y\": [0.023003091982322976]}, {\"hoverinfo\": \"none\", \"marker\": {\"color\": \"rgba(255, 255, 255, 0.0)\", \"line\": {\"color\": \"rgba(255, 255, 255, 0.0)\", \"width\": 1}, \"size\": 20, \"symbol\": \"circle\"}, \"mode\": \"markers+text\", \"text\": [\"('Charlotte Hornets',)\"], \"textfont\": {\"color\": \"rgb(0, 0, 0)\"}, \"textposition\": \"middle center\", \"type\": \"scatter\", \"x\": [0.9090635623466599], \"y\": [0.828469162609598]}, {\"hoverinfo\": \"none\", \"marker\": {\"color\": \"rgba(255, 255, 255, 0.0)\", \"line\": {\"color\": \"rgba(255, 255, 255, 0.0)\", \"width\": 1}, \"size\": 20, \"symbol\": \"circle\"}, \"mode\": \"markers+text\", \"text\": [\"('Chicago Bulls',)\"], \"textfont\": {\"color\": \"rgb(0, 0, 0)\"}, \"textposition\": \"middle center\", \"type\": \"scatter\", \"x\": [0.21618238517178123], \"y\": [0.19806440262718117]}, {\"hoverinfo\": \"none\", \"marker\": {\"color\": \"rgba(255, 255, 255, 0.0)\", \"line\": {\"color\": \"rgba(255, 255, 255, 0.0)\", \"width\": 1}, \"size\": 20, \"symbol\": \"circle\"}, \"mode\": \"markers+text\", \"text\": [\"('Cleveland Cavaliers',)\"], \"textfont\": {\"color\": \"rgb(0, 0, 0)\"}, \"textposition\": \"middle center\", \"type\": \"scatter\", \"x\": [0.21165194812972576], \"y\": [0.794130636470508]}, {\"hoverinfo\": \"none\", \"marker\": {\"color\": \"rgba(255, 255, 255, 0.0)\", \"line\": {\"color\": \"rgba(255, 255, 255, 0.0)\", \"width\": 1}, \"size\": 20, \"symbol\": \"circle\"}, \"mode\": \"markers+text\", \"text\": [\"('Dallas Mavericks',)\"], \"textfont\": {\"color\": \"rgb(0, 0, 0)\"}, \"textposition\": \"middle center\", \"type\": \"scatter\", \"x\": [0.4750004641562492], \"y\": [0.5505848124641965]}, {\"hoverinfo\": \"none\", \"marker\": {\"color\": \"rgba(255, 255, 255, 0.0)\", \"line\": {\"color\": \"rgba(255, 255, 255, 0.0)\", \"width\": 1}, \"size\": 20, \"symbol\": \"circle\"}, \"mode\": \"markers+text\", \"text\": [\"('Denver Nuggets',)\"], \"textfont\": {\"color\": \"rgb(0, 0, 0)\"}, \"textposition\": \"middle center\", \"type\": \"scatter\", \"x\": [0.5424021481496177], \"y\": [0.020713523906475295]}, {\"hoverinfo\": \"none\", \"marker\": {\"color\": \"rgba(255, 255, 255, 0.0)\", \"line\": {\"color\": \"rgba(255, 255, 255, 0.0)\", \"width\": 1}, \"size\": 20, \"symbol\": \"circle\"}, \"mode\": \"markers+text\", \"text\": [\"('Detroit Pistons',)\"], \"textfont\": {\"color\": \"rgb(0, 0, 0)\"}, \"textposition\": \"middle center\", \"type\": \"scatter\", \"x\": [0.9457824513236409], \"y\": [0.07939137483213865]}, {\"hoverinfo\": \"none\", \"marker\": {\"color\": \"rgba(255, 255, 255, 0.0)\", \"line\": {\"color\": \"rgba(255, 255, 255, 0.0)\", \"width\": 1}, \"size\": 20, \"symbol\": \"circle\"}, \"mode\": \"markers+text\", \"text\": [\"('Golden State Warriors',)\"], \"textfont\": {\"color\": \"rgb(0, 0, 0)\"}, \"textposition\": \"middle center\", \"type\": \"scatter\", \"x\": [0.9998248270476896], \"y\": [0.7045069888281296]}, {\"hoverinfo\": \"none\", \"marker\": {\"color\": \"rgba(255, 255, 255, 0.0)\", \"line\": {\"color\": \"rgba(255, 255, 255, 0.0)\", \"width\": 1}, \"size\": 20, \"symbol\": \"circle\"}, \"mode\": \"markers+text\", \"text\": [\"('Houston Rockets',)\"], \"textfont\": {\"color\": \"rgb(0, 0, 0)\"}, \"textposition\": \"middle center\", \"type\": \"scatter\", \"x\": [0.3635891075927543], \"y\": [0.3955450319008773]}, {\"hoverinfo\": \"none\", \"marker\": {\"color\": \"rgba(255, 255, 255, 0.0)\", \"line\": {\"color\": \"rgba(255, 255, 255, 0.0)\", \"width\": 1}, \"size\": 20, \"symbol\": \"circle\"}, \"mode\": \"markers+text\", \"text\": [\"('Indiana Pacers',)\"], \"textfont\": {\"color\": \"rgb(0, 0, 0)\"}, \"textposition\": \"middle center\", \"type\": \"scatter\", \"x\": [0.5350540001177557], \"y\": [0.5588872112059232]}, {\"hoverinfo\": \"none\", \"marker\": {\"color\": \"rgba(255, 255, 255, 0.0)\", \"line\": {\"color\": \"rgba(255, 255, 255, 0.0)\", \"width\": 1}, \"size\": 20, \"symbol\": \"circle\"}, \"mode\": \"markers+text\", \"text\": [\"('LA Clippers',)\"], \"textfont\": {\"color\": \"rgb(0, 0, 0)\"}, \"textposition\": \"middle center\", \"type\": \"scatter\", \"x\": [0.1474461571520782], \"y\": [0.8969265635097233]}, {\"hoverinfo\": \"none\", \"marker\": {\"color\": \"rgba(255, 255, 255, 0.0)\", \"line\": {\"color\": \"rgba(255, 255, 255, 0.0)\", \"width\": 1}, \"size\": 20, \"symbol\": \"circle\"}, \"mode\": \"markers+text\", \"text\": [\"('Los Angeles Lakers',)\"], \"textfont\": {\"color\": \"rgb(0, 0, 0)\"}, \"textposition\": \"middle center\", \"type\": \"scatter\", \"x\": [0.0005565783485109721], \"y\": [0.46173782872575053]}, {\"hoverinfo\": \"none\", \"marker\": {\"color\": \"rgba(255, 255, 255, 0.0)\", \"line\": {\"color\": \"rgba(255, 255, 255, 0.0)\", \"width\": 1}, \"size\": 20, \"symbol\": \"circle\"}, \"mode\": \"markers+text\", \"text\": [\"('Memphis Grizzlies',)\"], \"textfont\": {\"color\": \"rgb(0, 0, 0)\"}, \"textposition\": \"middle center\", \"type\": \"scatter\", \"x\": [0.5708710020557325], \"y\": [0.30534170598099]}, {\"hoverinfo\": \"none\", \"marker\": {\"color\": \"rgba(255, 255, 255, 0.0)\", \"line\": {\"color\": \"rgba(255, 255, 255, 0.0)\", \"width\": 1}, \"size\": 20, \"symbol\": \"circle\"}, \"mode\": \"markers+text\", \"text\": [\"('Miami Heat',)\"], \"textfont\": {\"color\": \"rgb(0, 0, 0)\"}, \"textposition\": \"middle center\", \"type\": \"scatter\", \"x\": [0.5756301823109237], \"y\": [0.08402151559107118]}, {\"hoverinfo\": \"none\", \"marker\": {\"color\": \"rgba(255, 255, 255, 0.0)\", \"line\": {\"color\": \"rgba(255, 255, 255, 0.0)\", \"width\": 1}, \"size\": 20, \"symbol\": \"circle\"}, \"mode\": \"markers+text\", \"text\": [\"('Milwaukee Bucks',)\"], \"textfont\": {\"color\": \"rgb(0, 0, 0)\"}, \"textposition\": \"middle center\", \"type\": \"scatter\", \"x\": [0.5791686709389611], \"y\": [0.31427470939671787]}, {\"hoverinfo\": \"none\", \"marker\": {\"color\": \"rgba(255, 255, 255, 0.0)\", \"line\": {\"color\": \"rgba(255, 255, 255, 0.0)\", \"width\": 1}, \"size\": 20, \"symbol\": \"circle\"}, \"mode\": \"markers+text\", \"text\": [\"('Minnesota Timberwolves',)\"], \"textfont\": {\"color\": \"rgb(0, 0, 0)\"}, \"textposition\": \"middle center\", \"type\": \"scatter\", \"x\": [0.21334168508823392], \"y\": [0.62111085816352]}, {\"hoverinfo\": \"none\", \"marker\": {\"color\": \"rgba(255, 255, 255, 0.0)\", \"line\": {\"color\": \"rgba(255, 255, 255, 0.0)\", \"width\": 1}, \"size\": 20, \"symbol\": \"circle\"}, \"mode\": \"markers+text\", \"text\": [\"('New Orleans Pelicans',)\"], \"textfont\": {\"color\": \"rgb(0, 0, 0)\"}, \"textposition\": \"middle center\", \"type\": \"scatter\", \"x\": [0.5751137361402261], \"y\": [0.41734590577491804]}, {\"hoverinfo\": \"none\", \"marker\": {\"color\": \"rgba(255, 255, 255, 0.0)\", \"line\": {\"color\": \"rgba(255, 255, 255, 0.0)\", \"width\": 1}, \"size\": 20, \"symbol\": \"circle\"}, \"mode\": \"markers+text\", \"text\": [\"('New York Knicks',)\"], \"textfont\": {\"color\": \"rgb(0, 0, 0)\"}, \"textposition\": \"middle center\", \"type\": \"scatter\", \"x\": [0.5875228654644489], \"y\": [0.8455516258870958]}, {\"hoverinfo\": \"none\", \"marker\": {\"color\": \"rgba(255, 255, 255, 0.0)\", \"line\": {\"color\": \"rgba(255, 255, 255, 0.0)\", \"width\": 1}, \"size\": 20, \"symbol\": \"circle\"}, \"mode\": \"markers+text\", \"text\": [\"('Oklahoma City Thunder',)\"], \"textfont\": {\"color\": \"rgb(0, 0, 0)\"}, \"textposition\": \"middle center\", \"type\": \"scatter\", \"x\": [0.33482259238727785], \"y\": [0.2858867356982998]}, {\"hoverinfo\": \"none\", \"marker\": {\"color\": \"rgba(255, 255, 255, 0.0)\", \"line\": {\"color\": \"rgba(255, 255, 255, 0.0)\", \"width\": 1}, \"size\": 20, \"symbol\": \"circle\"}, \"mode\": \"markers+text\", \"text\": [\"('Orlando Magic',)\"], \"textfont\": {\"color\": \"rgb(0, 0, 0)\"}, \"textposition\": \"middle center\", \"type\": \"scatter\", \"x\": [0.757227329711187], \"y\": [0.7836274607795185]}, {\"hoverinfo\": \"none\", \"marker\": {\"color\": \"rgba(255, 255, 255, 0.0)\", \"line\": {\"color\": \"rgba(255, 255, 255, 0.0)\", \"width\": 1}, \"size\": 20, \"symbol\": \"circle\"}, \"mode\": \"markers+text\", \"text\": [\"('Philadelphia 76ers',)\"], \"textfont\": {\"color\": \"rgb(0, 0, 0)\"}, \"textposition\": \"middle center\", \"type\": \"scatter\", \"x\": [0.5949496259671603], \"y\": [0.5119247025866192]}, {\"hoverinfo\": \"none\", \"marker\": {\"color\": \"rgba(255, 255, 255, 0.0)\", \"line\": {\"color\": \"rgba(255, 255, 255, 0.0)\", \"width\": 1}, \"size\": 20, \"symbol\": \"circle\"}, \"mode\": \"markers+text\", \"text\": [\"('Phoenix Suns',)\"], \"textfont\": {\"color\": \"rgb(0, 0, 0)\"}, \"textposition\": \"middle center\", \"type\": \"scatter\", \"x\": [0.6366763800746762], \"y\": [0.3819582124402713]}, {\"hoverinfo\": \"none\", \"marker\": {\"color\": \"rgba(255, 255, 255, 0.0)\", \"line\": {\"color\": \"rgba(255, 255, 255, 0.0)\", \"width\": 1}, \"size\": 20, \"symbol\": \"circle\"}, \"mode\": \"markers+text\", \"text\": [\"('Portland Trail Blazers',)\"], \"textfont\": {\"color\": \"rgb(0, 0, 0)\"}, \"textposition\": \"middle center\", \"type\": \"scatter\", \"x\": [0.5733458795255526], \"y\": [0.872609736231231]}, {\"hoverinfo\": \"none\", \"marker\": {\"color\": \"rgba(255, 255, 255, 0.0)\", \"line\": {\"color\": \"rgba(255, 255, 255, 0.0)\", \"width\": 1}, \"size\": 20, \"symbol\": \"circle\"}, \"mode\": \"markers+text\", \"text\": [\"('Sacramento Kings',)\"], \"textfont\": {\"color\": \"rgb(0, 0, 0)\"}, \"textposition\": \"middle center\", \"type\": \"scatter\", \"x\": [0.6266071284782703], \"y\": [0.4182690894005706]}, {\"hoverinfo\": \"none\", \"marker\": {\"color\": \"rgba(255, 255, 255, 0.0)\", \"line\": {\"color\": \"rgba(255, 255, 255, 0.0)\", \"width\": 1}, \"size\": 20, \"symbol\": \"circle\"}, \"mode\": \"markers+text\", \"text\": [\"('San Antonio Spurs',)\"], \"textfont\": {\"color\": \"rgb(0, 0, 0)\"}, \"textposition\": \"middle center\", \"type\": \"scatter\", \"x\": [0.9171810026541254], \"y\": [0.19367168136178314]}, {\"hoverinfo\": \"none\", \"marker\": {\"color\": \"rgba(255, 255, 255, 0.0)\", \"line\": {\"color\": \"rgba(255, 255, 255, 0.0)\", \"width\": 1}, \"size\": 20, \"symbol\": \"circle\"}, \"mode\": \"markers+text\", \"text\": [\"('Toronto Raptors',)\"], \"textfont\": {\"color\": \"rgb(0, 0, 0)\"}, \"textposition\": \"middle center\", \"type\": \"scatter\", \"x\": [0.8937193877060478], \"y\": [0.3717475974104444]}, {\"hoverinfo\": \"none\", \"marker\": {\"color\": \"rgba(255, 255, 255, 0.0)\", \"line\": {\"color\": \"rgba(255, 255, 255, 0.0)\", \"width\": 1}, \"size\": 20, \"symbol\": \"circle\"}, \"mode\": \"markers+text\", \"text\": [\"('Utah Jazz',)\"], \"textfont\": {\"color\": \"rgb(0, 0, 0)\"}, \"textposition\": \"middle center\", \"type\": \"scatter\", \"x\": [0.6707542454718199], \"y\": [0.5564951607050072]}, {\"hoverinfo\": \"none\", \"marker\": {\"color\": \"rgba(255, 255, 255, 0.0)\", \"line\": {\"color\": \"rgba(255, 255, 255, 0.0)\", \"width\": 1}, \"size\": 20, \"symbol\": \"circle\"}, \"mode\": \"markers+text\", \"text\": [\"('Washington Wizards',)\"], \"textfont\": {\"color\": \"rgb(0, 0, 0)\"}, \"textposition\": \"middle center\", \"type\": \"scatter\", \"x\": [0.45290118494132214], \"y\": [0.9750770606404473]}, {\"hoverinfo\": \"none\", \"mode\": \"text\", \"text\": [null, null, null, null, null, null, null, null], \"textfont\": {\"color\": \"rgb(0, 0, 0)\"}, \"textposition\": \"middle center\", \"type\": \"scatter\", \"x\": [0.30555459296088405, 0.5667309795558947, 0.47415715977006323, 0.5707703985645486, 0.6555348278640614, 0.3945850992882349, 0.5367204458575854, 0.5859272224621785], \"y\": [0.3826723389235614, 0.22211460673384398, 0.2598789844769917, 0.15831002406442707, 0.6181333274327275, 0.43648512266517986, 0.698809865726474, 0.6399433410150351]}, {\"hoverinfo\": \"none\", \"marker\": {\"color\": \"rgba(255, 255, 255, 0.0)\", \"line\": {\"color\": \"rgba(255, 255, 255, 0.0)\", \"width\": 0}, \"size\": 0, \"symbol\": \"circle\"}, \"mode\": \"markers\", \"type\": \"scatter\", \"x\": [0.5, 0.0, 1.0, 0.5], \"y\": [0.0, 0.5, 0.5, 1.0]}],\n",
       "                        {\"height\": 526.0, \"margin\": {\"b\": 0, \"l\": 0, \"r\": 0, \"t\": 0}, \"showlegend\": false, \"sliders\": [{\"currentvalue\": {\"visible\": false}, \"steps\": [{\"args\": [[0], {\"frame\": {\"redraw\": false}, \"mode\": \"immediate\"}], \"label\": \"\", \"method\": \"animate\"}, {\"args\": [[1], {\"frame\": {\"redraw\": false}, \"mode\": \"immediate\"}], \"label\": \"\", \"method\": \"animate\"}]}], \"template\": {\"data\": {\"bar\": [{\"error_x\": {\"color\": \"#2a3f5f\"}, \"error_y\": {\"color\": \"#2a3f5f\"}, \"marker\": {\"line\": {\"color\": \"#E5ECF6\", \"width\": 0.5}}, \"type\": \"bar\"}], \"barpolar\": [{\"marker\": {\"line\": {\"color\": \"#E5ECF6\", \"width\": 0.5}}, \"type\": \"barpolar\"}], \"carpet\": [{\"aaxis\": {\"endlinecolor\": \"#2a3f5f\", \"gridcolor\": \"white\", \"linecolor\": \"white\", \"minorgridcolor\": \"white\", \"startlinecolor\": \"#2a3f5f\"}, \"baxis\": {\"endlinecolor\": \"#2a3f5f\", \"gridcolor\": \"white\", \"linecolor\": \"white\", \"minorgridcolor\": \"white\", \"startlinecolor\": \"#2a3f5f\"}, \"type\": \"carpet\"}], \"choropleth\": [{\"colorbar\": {\"outlinewidth\": 0, \"ticks\": \"\"}, \"type\": \"choropleth\"}], \"contour\": [{\"colorbar\": {\"outlinewidth\": 0, \"ticks\": \"\"}, \"colorscale\": [[0.0, \"#0d0887\"], [0.1111111111111111, \"#46039f\"], [0.2222222222222222, \"#7201a8\"], [0.3333333333333333, \"#9c179e\"], [0.4444444444444444, \"#bd3786\"], [0.5555555555555556, \"#d8576b\"], [0.6666666666666666, \"#ed7953\"], [0.7777777777777778, \"#fb9f3a\"], [0.8888888888888888, \"#fdca26\"], [1.0, \"#f0f921\"]], \"type\": \"contour\"}], \"contourcarpet\": [{\"colorbar\": {\"outlinewidth\": 0, \"ticks\": \"\"}, \"type\": \"contourcarpet\"}], \"heatmap\": [{\"colorbar\": {\"outlinewidth\": 0, \"ticks\": \"\"}, \"colorscale\": [[0.0, \"#0d0887\"], [0.1111111111111111, \"#46039f\"], [0.2222222222222222, \"#7201a8\"], [0.3333333333333333, \"#9c179e\"], [0.4444444444444444, \"#bd3786\"], [0.5555555555555556, \"#d8576b\"], [0.6666666666666666, \"#ed7953\"], [0.7777777777777778, \"#fb9f3a\"], [0.8888888888888888, \"#fdca26\"], [1.0, \"#f0f921\"]], \"type\": \"heatmap\"}], \"heatmapgl\": [{\"colorbar\": {\"outlinewidth\": 0, \"ticks\": \"\"}, \"colorscale\": [[0.0, \"#0d0887\"], [0.1111111111111111, \"#46039f\"], [0.2222222222222222, \"#7201a8\"], [0.3333333333333333, \"#9c179e\"], [0.4444444444444444, \"#bd3786\"], [0.5555555555555556, \"#d8576b\"], [0.6666666666666666, \"#ed7953\"], [0.7777777777777778, \"#fb9f3a\"], [0.8888888888888888, \"#fdca26\"], [1.0, \"#f0f921\"]], \"type\": \"heatmapgl\"}], \"histogram\": [{\"marker\": {\"colorbar\": {\"outlinewidth\": 0, \"ticks\": \"\"}}, \"type\": \"histogram\"}], \"histogram2d\": [{\"colorbar\": {\"outlinewidth\": 0, \"ticks\": \"\"}, \"colorscale\": [[0.0, \"#0d0887\"], [0.1111111111111111, \"#46039f\"], [0.2222222222222222, \"#7201a8\"], [0.3333333333333333, \"#9c179e\"], [0.4444444444444444, \"#bd3786\"], [0.5555555555555556, \"#d8576b\"], [0.6666666666666666, \"#ed7953\"], [0.7777777777777778, \"#fb9f3a\"], [0.8888888888888888, \"#fdca26\"], [1.0, \"#f0f921\"]], \"type\": \"histogram2d\"}], \"histogram2dcontour\": [{\"colorbar\": {\"outlinewidth\": 0, \"ticks\": \"\"}, \"colorscale\": [[0.0, \"#0d0887\"], [0.1111111111111111, \"#46039f\"], [0.2222222222222222, \"#7201a8\"], [0.3333333333333333, \"#9c179e\"], [0.4444444444444444, \"#bd3786\"], [0.5555555555555556, \"#d8576b\"], [0.6666666666666666, \"#ed7953\"], [0.7777777777777778, \"#fb9f3a\"], [0.8888888888888888, \"#fdca26\"], [1.0, \"#f0f921\"]], \"type\": \"histogram2dcontour\"}], \"mesh3d\": [{\"colorbar\": {\"outlinewidth\": 0, \"ticks\": \"\"}, \"type\": \"mesh3d\"}], \"parcoords\": [{\"line\": {\"colorbar\": {\"outlinewidth\": 0, \"ticks\": \"\"}}, \"type\": \"parcoords\"}], \"scatter\": [{\"marker\": {\"colorbar\": {\"outlinewidth\": 0, \"ticks\": \"\"}}, \"type\": \"scatter\"}], \"scatter3d\": [{\"line\": {\"colorbar\": {\"outlinewidth\": 0, \"ticks\": \"\"}}, \"marker\": {\"colorbar\": {\"outlinewidth\": 0, \"ticks\": \"\"}}, \"type\": \"scatter3d\"}], \"scattercarpet\": [{\"marker\": {\"colorbar\": {\"outlinewidth\": 0, \"ticks\": \"\"}}, \"type\": \"scattercarpet\"}], \"scattergeo\": [{\"marker\": {\"colorbar\": {\"outlinewidth\": 0, \"ticks\": \"\"}}, \"type\": \"scattergeo\"}], \"scattergl\": [{\"marker\": {\"colorbar\": {\"outlinewidth\": 0, \"ticks\": \"\"}}, \"type\": \"scattergl\"}], \"scattermapbox\": [{\"marker\": {\"colorbar\": {\"outlinewidth\": 0, \"ticks\": \"\"}}, \"type\": \"scattermapbox\"}], \"scatterpolar\": [{\"marker\": {\"colorbar\": {\"outlinewidth\": 0, \"ticks\": \"\"}}, \"type\": \"scatterpolar\"}], \"scatterpolargl\": [{\"marker\": {\"colorbar\": {\"outlinewidth\": 0, \"ticks\": \"\"}}, \"type\": \"scatterpolargl\"}], \"scatterternary\": [{\"marker\": {\"colorbar\": {\"outlinewidth\": 0, \"ticks\": \"\"}}, \"type\": \"scatterternary\"}], \"surface\": [{\"colorbar\": {\"outlinewidth\": 0, \"ticks\": \"\"}, \"colorscale\": [[0.0, \"#0d0887\"], [0.1111111111111111, \"#46039f\"], [0.2222222222222222, \"#7201a8\"], [0.3333333333333333, \"#9c179e\"], [0.4444444444444444, \"#bd3786\"], [0.5555555555555556, \"#d8576b\"], [0.6666666666666666, \"#ed7953\"], [0.7777777777777778, \"#fb9f3a\"], [0.8888888888888888, \"#fdca26\"], [1.0, \"#f0f921\"]], \"type\": \"surface\"}], \"table\": [{\"cells\": {\"fill\": {\"color\": \"#EBF0F8\"}, \"line\": {\"color\": \"white\"}}, \"header\": {\"fill\": {\"color\": \"#C8D4E3\"}, \"line\": {\"color\": \"white\"}}, \"type\": \"table\"}]}, \"layout\": {\"annotationdefaults\": {\"arrowcolor\": \"#2a3f5f\", \"arrowhead\": 0, \"arrowwidth\": 1}, \"colorscale\": {\"diverging\": [[0, \"#8e0152\"], [0.1, \"#c51b7d\"], [0.2, \"#de77ae\"], [0.3, \"#f1b6da\"], [0.4, \"#fde0ef\"], [0.5, \"#f7f7f7\"], [0.6, \"#e6f5d0\"], [0.7, \"#b8e186\"], [0.8, \"#7fbc41\"], [0.9, \"#4d9221\"], [1, \"#276419\"]], \"sequential\": [[0.0, \"#0d0887\"], [0.1111111111111111, \"#46039f\"], [0.2222222222222222, \"#7201a8\"], [0.3333333333333333, \"#9c179e\"], [0.4444444444444444, \"#bd3786\"], [0.5555555555555556, \"#d8576b\"], [0.6666666666666666, \"#ed7953\"], [0.7777777777777778, \"#fb9f3a\"], [0.8888888888888888, \"#fdca26\"], [1.0, \"#f0f921\"]], \"sequentialminus\": [[0.0, \"#0d0887\"], [0.1111111111111111, \"#46039f\"], [0.2222222222222222, \"#7201a8\"], [0.3333333333333333, \"#9c179e\"], [0.4444444444444444, \"#bd3786\"], [0.5555555555555556, \"#d8576b\"], [0.6666666666666666, \"#ed7953\"], [0.7777777777777778, \"#fb9f3a\"], [0.8888888888888888, \"#fdca26\"], [1.0, \"#f0f921\"]]}, \"colorway\": [\"#636efa\", \"#EF553B\", \"#00cc96\", \"#ab63fa\", \"#FFA15A\", \"#19d3f3\", \"#FF6692\", \"#B6E880\", \"#FF97FF\", \"#FECB52\"], \"font\": {\"color\": \"#2a3f5f\"}, \"geo\": {\"bgcolor\": \"white\", \"lakecolor\": \"white\", \"landcolor\": \"#E5ECF6\", \"showlakes\": true, \"showland\": true, \"subunitcolor\": \"white\"}, \"hoverlabel\": {\"align\": \"left\"}, \"hovermode\": \"closest\", \"mapbox\": {\"style\": \"light\"}, \"paper_bgcolor\": \"white\", \"plot_bgcolor\": \"#E5ECF6\", \"polar\": {\"angularaxis\": {\"gridcolor\": \"white\", \"linecolor\": \"white\", \"ticks\": \"\"}, \"bgcolor\": \"#E5ECF6\", \"radialaxis\": {\"gridcolor\": \"white\", \"linecolor\": \"white\", \"ticks\": \"\"}}, \"scene\": {\"xaxis\": {\"backgroundcolor\": \"#E5ECF6\", \"gridcolor\": \"white\", \"gridwidth\": 2, \"linecolor\": \"white\", \"showbackground\": true, \"ticks\": \"\", \"zerolinecolor\": \"white\"}, \"yaxis\": {\"backgroundcolor\": \"#E5ECF6\", \"gridcolor\": \"white\", \"gridwidth\": 2, \"linecolor\": \"white\", \"showbackground\": true, \"ticks\": \"\", \"zerolinecolor\": \"white\"}, \"zaxis\": {\"backgroundcolor\": \"#E5ECF6\", \"gridcolor\": \"white\", \"gridwidth\": 2, \"linecolor\": \"white\", \"showbackground\": true, \"ticks\": \"\", \"zerolinecolor\": \"white\"}}, \"shapedefaults\": {\"line\": {\"color\": \"#2a3f5f\"}}, \"ternary\": {\"aaxis\": {\"gridcolor\": \"white\", \"linecolor\": \"white\", \"ticks\": \"\"}, \"baxis\": {\"gridcolor\": \"white\", \"linecolor\": \"white\", \"ticks\": \"\"}, \"bgcolor\": \"#E5ECF6\", \"caxis\": {\"gridcolor\": \"white\", \"linecolor\": \"white\", \"ticks\": \"\"}}, \"title\": {\"x\": 0.05}, \"xaxis\": {\"automargin\": true, \"gridcolor\": \"white\", \"linecolor\": \"white\", \"ticks\": \"\", \"zerolinecolor\": \"white\", \"zerolinewidth\": 2}, \"yaxis\": {\"automargin\": true, \"gridcolor\": \"white\", \"linecolor\": \"white\", \"ticks\": \"\", \"zerolinecolor\": \"white\", \"zerolinewidth\": 2}}}, \"updatemenus\": [{\"buttons\": [{\"args\": [null, {\"frame\": {\"redraw\": false}, \"fromcurrent\": true}], \"label\": \"Play\", \"method\": \"animate\"}, {\"args\": [[null], {\"frame\": {\"redraw\": false}, \"mode\": \"immediate\"}], \"label\": \"Pause\", \"method\": \"animate\"}], \"showactive\": true, \"type\": \"buttons\"}], \"width\": 912.0, \"xaxis\": {\"showgrid\": false, \"showticklabels\": false, \"zeroline\": false}, \"yaxis\": {\"showgrid\": false, \"showticklabels\": false, \"zeroline\": false}},\n",
       "                        {\"staticPlot\": true, \"responsive\": true}\n",
       "                    ).then(function(){\n",
       "                            Plotly.addFrames('657a0567-c8de-4763-993d-712c1b5ce4e0', [{\"data\": [{\"hoverinfo\": \"none\", \"line\": {\"color\": \"rgba(255, 255, 255, 0.0)\", \"dash\": \"solid\", \"width\": 1}, \"mode\": \"lines\", \"x\": [0.2578883723259273, 0.3635891075927543, null, 0.3501891538931849, 0.33585566897904584, null, 0.3501891538931849, 0.3389197093637393, null], \"y\": [0.32084233479191304, 0.3955450319008773, null, 0.38607477911629484, 0.38426143842489574, null, 0.38607477911629484, 0.36979356371498395, null], \"type\": \"scatter\"}, {\"hoverinfo\": \"none\", \"line\": {\"color\": \"rgba(255, 255, 255, 0.0)\", \"dash\": \"solid\", \"width\": 1}, \"mode\": \"lines\", \"x\": [0.21618238517178123, 0.9171810026541254, null, 0.9028132710942162, 0.8891018177724608, null, 0.9028132710942162, 0.8890726879656858, null], \"y\": [0.19806440262718117, 0.19367168136178314, null, 0.19376171497723507, 0.20160411761125063, null, 0.19376171497723507, 0.18609133713939777, null], \"type\": \"scatter\"}, {\"hoverinfo\": \"none\", \"line\": {\"color\": \"rgba(255, 255, 255, 0.0)\", \"dash\": \"solid\", \"width\": 1}, \"mode\": \"lines\", \"x\": [0.5424021481496177, 0.43256537961174246, null, 0.4379352736638725, 0.4391270485937476, null, 0.4379352736638725, 0.4470036101954743, null], \"y\": [0.020713523906475295, 0.5186635855214322, null, 0.49431892289416357, 0.46816265214719543, null, 0.49431892289416357, 0.47396050459456734, null], \"type\": \"scatter\"}, {\"hoverinfo\": \"none\", \"line\": {\"color\": \"rgba(255, 255, 255, 0.0)\", \"dash\": \"solid\", \"width\": 1}, \"mode\": \"lines\", \"x\": [0.5708710020557325, 0.5424021481496177, null, 0.5449846224671686, 0.5516285848453224, null, 0.5449846224671686, 0.543274923984587, null], \"y\": [0.30534170598099, 0.020713523906475295, null, 0.04653279196281096, 0.06980473742794754, null, 0.04653279196281096, 0.07259302429113962, null], \"type\": \"scatter\"}, {\"hoverinfo\": \"none\", \"line\": {\"color\": \"rgba(255, 255, 255, 0.0)\", \"dash\": \"solid\", \"width\": 1}, \"mode\": \"lines\", \"x\": [0.5751137361402261, 0.757227329711187, null, 0.7475673132984728, 0.7351956813760483, null, 0.7475673132984728, 0.7414818128916612, null], \"y\": [0.41734590577491804, 0.7836274607795185, null, 0.764198456257458, 0.7508521592178623, null, 0.764198456257458, 0.7404222793624319, null], \"type\": \"scatter\"}, {\"hoverinfo\": \"none\", \"line\": {\"color\": \"rgba(255, 255, 255, 0.0)\", \"dash\": \"solid\", \"width\": 1}, \"mode\": \"lines\", \"x\": [0.33482259238727785, 0.4750004641562492, null, 0.4650105190262521, 0.4524150914919172, null, 0.4650105190262521, 0.4585184283464893, null], \"y\": [0.2858867356982998, 0.5505848124641965, null, 0.5317207847147584, 0.5190923419388004, null, 0.5317207847147584, 0.5083062394088838, null], \"type\": \"scatter\"}, {\"hoverinfo\": \"none\", \"line\": {\"color\": \"rgba(255, 255, 255, 0.0)\", \"dash\": \"solid\", \"width\": 1}, \"mode\": \"lines\", \"x\": [0.5733458795255526, 0.4750004641562492, null, 0.4820004680135658, 0.49239580013292733, null, 0.4820004680135658, 0.4849798541120332, null], \"y\": [0.872609736231231, 0.5505848124641965, null, 0.5735058169671163, 0.5916241512977561, null, 0.5735058169671163, 0.5991820265745796, null], \"type\": \"scatter\"}, {\"hoverinfo\": \"none\", \"line\": {\"color\": \"rgba(255, 255, 255, 0.0)\", \"dash\": \"solid\", \"width\": 1}, \"mode\": \"lines\", \"x\": [0.6266071284782703, 0.5733458795255526, null, 0.5763545050372334, 0.5750769081865911, null, 0.5763545050372334, 0.5833806013547215, null], \"y\": [0.4182690894005706, 0.872609736231231, null, 0.8469449069617978, 0.8208021587991121, null, 0.8469449069617978, 0.8240505593479469, null], \"type\": \"scatter\"}, {\"hoverinfo\": \"none\", \"marker\": {\"color\": \"rgba(255, 255, 255, 0.0)\", \"line\": {\"color\": \"rgba(255, 255, 255, 0.0)\", \"width\": 1}, \"size\": 20, \"symbol\": \"circle\"}, \"mode\": \"markers+text\", \"text\": [\"('Atlanta Hawks',)\"], \"textfont\": {\"color\": \"rgb(0, 0, 0)\"}, \"textposition\": \"middle center\", \"x\": [0.2578883723259273], \"y\": [0.32084233479191304], \"type\": \"scatter\"}, {\"hoverinfo\": \"none\", \"marker\": {\"color\": \"rgba(255, 255, 255, 0.0)\", \"line\": {\"color\": \"rgba(255, 255, 255, 0.0)\", \"width\": 1}, \"size\": 20, \"symbol\": \"circle\"}, \"mode\": \"markers+text\", \"text\": [\"('Boston Celtics',)\"], \"textfont\": {\"color\": \"rgb(0, 0, 0)\"}, \"textposition\": \"middle center\", \"x\": [0.43256537961174246], \"y\": [0.5186635855214322], \"type\": \"scatter\"}, {\"hoverinfo\": \"none\", \"marker\": {\"color\": \"rgba(255, 255, 255, 0.0)\", \"line\": {\"color\": \"rgba(255, 255, 255, 0.0)\", \"width\": 1}, \"size\": 20, \"symbol\": \"circle\"}, \"mode\": \"markers+text\", \"text\": [\"('Brooklyn Nets',)\"], \"textfont\": {\"color\": \"rgb(0, 0, 0)\"}, \"textposition\": \"middle center\", \"x\": [0.11221838997637534], \"y\": [0.023003091982322976], \"type\": \"scatter\"}, {\"hoverinfo\": \"none\", \"marker\": {\"color\": \"rgba(255, 255, 255, 0.0)\", \"line\": {\"color\": \"rgba(255, 255, 255, 0.0)\", \"width\": 1}, \"size\": 20, \"symbol\": \"circle\"}, \"mode\": \"markers+text\", \"text\": [\"('Charlotte Hornets',)\"], \"textfont\": {\"color\": \"rgb(0, 0, 0)\"}, \"textposition\": \"middle center\", \"x\": [0.9090635623466599], \"y\": [0.828469162609598], \"type\": \"scatter\"}, {\"hoverinfo\": \"none\", \"marker\": {\"color\": \"rgba(255, 255, 255, 0.0)\", \"line\": {\"color\": \"rgba(255, 255, 255, 0.0)\", \"width\": 1}, \"size\": 20, \"symbol\": \"circle\"}, \"mode\": \"markers+text\", \"text\": [\"('Chicago Bulls',)\"], \"textfont\": {\"color\": \"rgb(0, 0, 0)\"}, \"textposition\": \"middle center\", \"x\": [0.21618238517178123], \"y\": [0.19806440262718117], \"type\": \"scatter\"}, {\"hoverinfo\": \"none\", \"marker\": {\"color\": \"rgba(255, 255, 255, 0.0)\", \"line\": {\"color\": \"rgba(255, 255, 255, 0.0)\", \"width\": 1}, \"size\": 20, \"symbol\": \"circle\"}, \"mode\": \"markers+text\", \"text\": [\"('Cleveland Cavaliers',)\"], \"textfont\": {\"color\": \"rgb(0, 0, 0)\"}, \"textposition\": \"middle center\", \"x\": [0.21165194812972576], \"y\": [0.794130636470508], \"type\": \"scatter\"}, {\"hoverinfo\": \"none\", \"marker\": {\"color\": \"rgba(255, 255, 255, 0.0)\", \"line\": {\"color\": \"rgba(255, 255, 255, 0.0)\", \"width\": 1}, \"size\": 20, \"symbol\": \"circle\"}, \"mode\": \"markers+text\", \"text\": [\"('Dallas Mavericks',)\"], \"textfont\": {\"color\": \"rgb(0, 0, 0)\"}, \"textposition\": \"middle center\", \"x\": [0.4750004641562492], \"y\": [0.5505848124641965], \"type\": \"scatter\"}, {\"hoverinfo\": \"none\", \"marker\": {\"color\": \"rgba(255, 255, 255, 0.0)\", \"line\": {\"color\": \"rgba(255, 255, 255, 0.0)\", \"width\": 1}, \"size\": 20, \"symbol\": \"circle\"}, \"mode\": \"markers+text\", \"text\": [\"('Denver Nuggets',)\"], \"textfont\": {\"color\": \"rgb(0, 0, 0)\"}, \"textposition\": \"middle center\", \"x\": [0.5424021481496177], \"y\": [0.020713523906475295], \"type\": \"scatter\"}, {\"hoverinfo\": \"none\", \"marker\": {\"color\": \"rgba(255, 255, 255, 0.0)\", \"line\": {\"color\": \"rgba(255, 255, 255, 0.0)\", \"width\": 1}, \"size\": 20, \"symbol\": \"circle\"}, \"mode\": \"markers+text\", \"text\": [\"('Detroit Pistons',)\"], \"textfont\": {\"color\": \"rgb(0, 0, 0)\"}, \"textposition\": \"middle center\", \"x\": [0.9457824513236409], \"y\": [0.07939137483213865], \"type\": \"scatter\"}, {\"hoverinfo\": \"none\", \"marker\": {\"color\": \"rgba(255, 255, 255, 0.0)\", \"line\": {\"color\": \"rgba(255, 255, 255, 0.0)\", \"width\": 1}, \"size\": 20, \"symbol\": \"circle\"}, \"mode\": \"markers+text\", \"text\": [\"('Golden State Warriors',)\"], \"textfont\": {\"color\": \"rgb(0, 0, 0)\"}, \"textposition\": \"middle center\", \"x\": [0.9998248270476896], \"y\": [0.7045069888281296], \"type\": \"scatter\"}, {\"hoverinfo\": \"none\", \"marker\": {\"color\": \"rgba(255, 255, 255, 0.0)\", \"line\": {\"color\": \"rgba(255, 255, 255, 0.0)\", \"width\": 1}, \"size\": 20, \"symbol\": \"circle\"}, \"mode\": \"markers+text\", \"text\": [\"('Houston Rockets',)\"], \"textfont\": {\"color\": \"rgb(0, 0, 0)\"}, \"textposition\": \"middle center\", \"x\": [0.3635891075927543], \"y\": [0.3955450319008773], \"type\": \"scatter\"}, {\"hoverinfo\": \"none\", \"marker\": {\"color\": \"rgba(255, 255, 255, 0.0)\", \"line\": {\"color\": \"rgba(255, 255, 255, 0.0)\", \"width\": 1}, \"size\": 20, \"symbol\": \"circle\"}, \"mode\": \"markers+text\", \"text\": [\"('Indiana Pacers',)\"], \"textfont\": {\"color\": \"rgb(0, 0, 0)\"}, \"textposition\": \"middle center\", \"x\": [0.5350540001177557], \"y\": [0.5588872112059232], \"type\": \"scatter\"}, {\"hoverinfo\": \"none\", \"marker\": {\"color\": \"rgba(255, 255, 255, 0.0)\", \"line\": {\"color\": \"rgba(255, 255, 255, 0.0)\", \"width\": 1}, \"size\": 20, \"symbol\": \"circle\"}, \"mode\": \"markers+text\", \"text\": [\"('LA Clippers',)\"], \"textfont\": {\"color\": \"rgb(0, 0, 0)\"}, \"textposition\": \"middle center\", \"x\": [0.1474461571520782], \"y\": [0.8969265635097233], \"type\": \"scatter\"}, {\"hoverinfo\": \"none\", \"marker\": {\"color\": \"rgba(255, 255, 255, 0.0)\", \"line\": {\"color\": \"rgba(255, 255, 255, 0.0)\", \"width\": 1}, \"size\": 20, \"symbol\": \"circle\"}, \"mode\": \"markers+text\", \"text\": [\"('Los Angeles Lakers',)\"], \"textfont\": {\"color\": \"rgb(0, 0, 0)\"}, \"textposition\": \"middle center\", \"x\": [0.0005565783485109721], \"y\": [0.46173782872575053], \"type\": \"scatter\"}, {\"hoverinfo\": \"none\", \"marker\": {\"color\": \"rgba(255, 255, 255, 0.0)\", \"line\": {\"color\": \"rgba(255, 255, 255, 0.0)\", \"width\": 1}, \"size\": 20, \"symbol\": \"circle\"}, \"mode\": \"markers+text\", \"text\": [\"('Memphis Grizzlies',)\"], \"textfont\": {\"color\": \"rgb(0, 0, 0)\"}, \"textposition\": \"middle center\", \"x\": [0.5708710020557325], \"y\": [0.30534170598099], \"type\": \"scatter\"}, {\"hoverinfo\": \"none\", \"marker\": {\"color\": \"rgba(255, 255, 255, 0.0)\", \"line\": {\"color\": \"rgba(255, 255, 255, 0.0)\", \"width\": 1}, \"size\": 20, \"symbol\": \"circle\"}, \"mode\": \"markers+text\", \"text\": [\"('Miami Heat',)\"], \"textfont\": {\"color\": \"rgb(0, 0, 0)\"}, \"textposition\": \"middle center\", \"x\": [0.5756301823109237], \"y\": [0.08402151559107118], \"type\": \"scatter\"}, {\"hoverinfo\": \"none\", \"marker\": {\"color\": \"rgba(255, 255, 255, 0.0)\", \"line\": {\"color\": \"rgba(255, 255, 255, 0.0)\", \"width\": 1}, \"size\": 20, \"symbol\": \"circle\"}, \"mode\": \"markers+text\", \"text\": [\"('Milwaukee Bucks',)\"], \"textfont\": {\"color\": \"rgb(0, 0, 0)\"}, \"textposition\": \"middle center\", \"x\": [0.5791686709389611], \"y\": [0.31427470939671787], \"type\": \"scatter\"}, {\"hoverinfo\": \"none\", \"marker\": {\"color\": \"rgba(255, 255, 255, 0.0)\", \"line\": {\"color\": \"rgba(255, 255, 255, 0.0)\", \"width\": 1}, \"size\": 20, \"symbol\": \"circle\"}, \"mode\": \"markers+text\", \"text\": [\"('Minnesota Timberwolves',)\"], \"textfont\": {\"color\": \"rgb(0, 0, 0)\"}, \"textposition\": \"middle center\", \"x\": [0.21334168508823392], \"y\": [0.62111085816352], \"type\": \"scatter\"}, {\"hoverinfo\": \"none\", \"marker\": {\"color\": \"rgba(255, 255, 255, 0.0)\", \"line\": {\"color\": \"rgba(255, 255, 255, 0.0)\", \"width\": 1}, \"size\": 20, \"symbol\": \"circle\"}, \"mode\": \"markers+text\", \"text\": [\"('New Orleans Pelicans',)\"], \"textfont\": {\"color\": \"rgb(0, 0, 0)\"}, \"textposition\": \"middle center\", \"x\": [0.5751137361402261], \"y\": [0.41734590577491804], \"type\": \"scatter\"}, {\"hoverinfo\": \"none\", \"marker\": {\"color\": \"rgba(255, 255, 255, 0.0)\", \"line\": {\"color\": \"rgba(255, 255, 255, 0.0)\", \"width\": 1}, \"size\": 20, \"symbol\": \"circle\"}, \"mode\": \"markers+text\", \"text\": [\"('New York Knicks',)\"], \"textfont\": {\"color\": \"rgb(0, 0, 0)\"}, \"textposition\": \"middle center\", \"x\": [0.5875228654644489], \"y\": [0.8455516258870958], \"type\": \"scatter\"}, {\"hoverinfo\": \"none\", \"marker\": {\"color\": \"rgba(255, 255, 255, 0.0)\", \"line\": {\"color\": \"rgba(255, 255, 255, 0.0)\", \"width\": 1}, \"size\": 20, \"symbol\": \"circle\"}, \"mode\": \"markers+text\", \"text\": [\"('Oklahoma City Thunder',)\"], \"textfont\": {\"color\": \"rgb(0, 0, 0)\"}, \"textposition\": \"middle center\", \"x\": [0.33482259238727785], \"y\": [0.2858867356982998], \"type\": \"scatter\"}, {\"hoverinfo\": \"none\", \"marker\": {\"color\": \"rgba(255, 255, 255, 0.0)\", \"line\": {\"color\": \"rgba(255, 255, 255, 0.0)\", \"width\": 1}, \"size\": 20, \"symbol\": \"circle\"}, \"mode\": \"markers+text\", \"text\": [\"('Orlando Magic',)\"], \"textfont\": {\"color\": \"rgb(0, 0, 0)\"}, \"textposition\": \"middle center\", \"x\": [0.757227329711187], \"y\": [0.7836274607795185], \"type\": \"scatter\"}, {\"hoverinfo\": \"none\", \"marker\": {\"color\": \"rgba(255, 255, 255, 0.0)\", \"line\": {\"color\": \"rgba(255, 255, 255, 0.0)\", \"width\": 1}, \"size\": 20, \"symbol\": \"circle\"}, \"mode\": \"markers+text\", \"text\": [\"('Philadelphia 76ers',)\"], \"textfont\": {\"color\": \"rgb(0, 0, 0)\"}, \"textposition\": \"middle center\", \"x\": [0.5949496259671603], \"y\": [0.5119247025866192], \"type\": \"scatter\"}, {\"hoverinfo\": \"none\", \"marker\": {\"color\": \"rgba(255, 255, 255, 0.0)\", \"line\": {\"color\": \"rgba(255, 255, 255, 0.0)\", \"width\": 1}, \"size\": 20, \"symbol\": \"circle\"}, \"mode\": \"markers+text\", \"text\": [\"('Phoenix Suns',)\"], \"textfont\": {\"color\": \"rgb(0, 0, 0)\"}, \"textposition\": \"middle center\", \"x\": [0.6366763800746762], \"y\": [0.3819582124402713], \"type\": \"scatter\"}, {\"hoverinfo\": \"none\", \"marker\": {\"color\": \"rgba(255, 255, 255, 0.0)\", \"line\": {\"color\": \"rgba(255, 255, 255, 0.0)\", \"width\": 1}, \"size\": 20, \"symbol\": \"circle\"}, \"mode\": \"markers+text\", \"text\": [\"('Portland Trail Blazers',)\"], \"textfont\": {\"color\": \"rgb(0, 0, 0)\"}, \"textposition\": \"middle center\", \"x\": [0.5733458795255526], \"y\": [0.872609736231231], \"type\": \"scatter\"}, {\"hoverinfo\": \"none\", \"marker\": {\"color\": \"rgba(255, 255, 255, 0.0)\", \"line\": {\"color\": \"rgba(255, 255, 255, 0.0)\", \"width\": 1}, \"size\": 20, \"symbol\": \"circle\"}, \"mode\": \"markers+text\", \"text\": [\"('Sacramento Kings',)\"], \"textfont\": {\"color\": \"rgb(0, 0, 0)\"}, \"textposition\": \"middle center\", \"x\": [0.6266071284782703], \"y\": [0.4182690894005706], \"type\": \"scatter\"}, {\"hoverinfo\": \"none\", \"marker\": {\"color\": \"rgba(255, 255, 255, 0.0)\", \"line\": {\"color\": \"rgba(255, 255, 255, 0.0)\", \"width\": 1}, \"size\": 20, \"symbol\": \"circle\"}, \"mode\": \"markers+text\", \"text\": [\"('San Antonio Spurs',)\"], \"textfont\": {\"color\": \"rgb(0, 0, 0)\"}, \"textposition\": \"middle center\", \"x\": [0.9171810026541254], \"y\": [0.19367168136178314], \"type\": \"scatter\"}, {\"hoverinfo\": \"none\", \"marker\": {\"color\": \"rgba(255, 255, 255, 0.0)\", \"line\": {\"color\": \"rgba(255, 255, 255, 0.0)\", \"width\": 1}, \"size\": 20, \"symbol\": \"circle\"}, \"mode\": \"markers+text\", \"text\": [\"('Toronto Raptors',)\"], \"textfont\": {\"color\": \"rgb(0, 0, 0)\"}, \"textposition\": \"middle center\", \"x\": [0.8937193877060478], \"y\": [0.3717475974104444], \"type\": \"scatter\"}, {\"hoverinfo\": \"none\", \"marker\": {\"color\": \"rgba(255, 255, 255, 0.0)\", \"line\": {\"color\": \"rgba(255, 255, 255, 0.0)\", \"width\": 1}, \"size\": 20, \"symbol\": \"circle\"}, \"mode\": \"markers+text\", \"text\": [\"('Utah Jazz',)\"], \"textfont\": {\"color\": \"rgb(0, 0, 0)\"}, \"textposition\": \"middle center\", \"x\": [0.6707542454718199], \"y\": [0.5564951607050072], \"type\": \"scatter\"}, {\"hoverinfo\": \"none\", \"marker\": {\"color\": \"rgba(255, 255, 255, 0.0)\", \"line\": {\"color\": \"rgba(255, 255, 255, 0.0)\", \"width\": 1}, \"size\": 20, \"symbol\": \"circle\"}, \"mode\": \"markers+text\", \"text\": [\"('Washington Wizards',)\"], \"textfont\": {\"color\": \"rgb(0, 0, 0)\"}, \"textposition\": \"middle center\", \"x\": [0.45290118494132214], \"y\": [0.9750770606404473], \"type\": \"scatter\"}, {\"hoverinfo\": \"none\", \"mode\": \"text\", \"text\": [null, null, null, null, null, null, null, null], \"textfont\": {\"color\": \"rgb(0, 0, 0)\"}, \"textposition\": \"middle center\", \"x\": [0.30555459296088405, 0.5667309795558947, 0.47415715977006323, 0.5707703985645486, 0.6555348278640614, 0.3945850992882349, 0.5367204458575854, 0.5859272224621785], \"y\": [0.3826723389235614, 0.22211460673384398, 0.2598789844769917, 0.15831002406442707, 0.6181333274327275, 0.43648512266517986, 0.698809865726474, 0.6399433410150351], \"type\": \"scatter\"}, {\"hoverinfo\": \"none\", \"marker\": {\"color\": \"rgba(255, 255, 255, 0.0)\", \"line\": {\"color\": \"rgba(255, 255, 255, 0.0)\", \"width\": 0}, \"size\": 0, \"symbol\": \"circle\"}, \"mode\": \"markers\", \"x\": [0.5, 0.0, 1.0, 0.5], \"y\": [0.0, 0.5, 0.5, 1.0], \"type\": \"scatter\"}], \"name\": \"0\"}, {\"data\": [{\"hoverinfo\": \"none\", \"line\": {\"color\": \"rgb(0, 0, 0)\", \"dash\": \"solid\", \"width\": 1}, \"mode\": \"lines\", \"x\": [0.2578883723259273, 0.3635891075927543, null, 0.3501891538931849, 0.33585566897904584, null, 0.3501891538931849, 0.3389197093637393, null], \"y\": [0.32084233479191304, 0.3955450319008773, null, 0.38607477911629484, 0.38426143842489574, null, 0.38607477911629484, 0.36979356371498395, null], \"type\": \"scatter\"}, {\"hoverinfo\": \"none\", \"line\": {\"color\": \"rgb(0, 0, 0)\", \"dash\": \"solid\", \"width\": 1}, \"mode\": \"lines\", \"x\": [0.21618238517178123, 0.9171810026541254, null, 0.9028132710942162, 0.8891018177724608, null, 0.9028132710942162, 0.8890726879656858, null], \"y\": [0.19806440262718117, 0.19367168136178314, null, 0.19376171497723507, 0.20160411761125063, null, 0.19376171497723507, 0.18609133713939777, null], \"type\": \"scatter\"}, {\"hoverinfo\": \"none\", \"line\": {\"color\": \"rgb(0, 0, 0)\", \"dash\": \"solid\", \"width\": 1}, \"mode\": \"lines\", \"x\": [0.5424021481496177, 0.43256537961174246, null, 0.4379352736638725, 0.4391270485937476, null, 0.4379352736638725, 0.4470036101954743, null], \"y\": [0.020713523906475295, 0.5186635855214322, null, 0.49431892289416357, 0.46816265214719543, null, 0.49431892289416357, 0.47396050459456734, null], \"type\": \"scatter\"}, {\"hoverinfo\": \"none\", \"line\": {\"color\": \"rgb(0, 0, 0)\", \"dash\": \"solid\", \"width\": 1}, \"mode\": \"lines\", \"x\": [0.5708710020557325, 0.5424021481496177, null, 0.5449846224671686, 0.5516285848453224, null, 0.5449846224671686, 0.543274923984587, null], \"y\": [0.30534170598099, 0.020713523906475295, null, 0.04653279196281096, 0.06980473742794754, null, 0.04653279196281096, 0.07259302429113962, null], \"type\": \"scatter\"}, {\"hoverinfo\": \"none\", \"line\": {\"color\": \"rgb(0, 0, 0)\", \"dash\": \"solid\", \"width\": 1}, \"mode\": \"lines\", \"x\": [0.5751137361402261, 0.757227329711187, null, 0.7475673132984728, 0.7351956813760483, null, 0.7475673132984728, 0.7414818128916612, null], \"y\": [0.41734590577491804, 0.7836274607795185, null, 0.764198456257458, 0.7508521592178623, null, 0.764198456257458, 0.7404222793624319, null], \"type\": \"scatter\"}, {\"hoverinfo\": \"none\", \"line\": {\"color\": \"rgb(0, 0, 0)\", \"dash\": \"solid\", \"width\": 1}, \"mode\": \"lines\", \"x\": [0.33482259238727785, 0.4750004641562492, null, 0.4650105190262521, 0.4524150914919172, null, 0.4650105190262521, 0.4585184283464893, null], \"y\": [0.2858867356982998, 0.5505848124641965, null, 0.5317207847147584, 0.5190923419388004, null, 0.5317207847147584, 0.5083062394088838, null], \"type\": \"scatter\"}, {\"hoverinfo\": \"none\", \"line\": {\"color\": \"rgb(0, 0, 0)\", \"dash\": \"solid\", \"width\": 1}, \"mode\": \"lines\", \"x\": [0.5733458795255526, 0.4750004641562492, null, 0.4820004680135658, 0.49239580013292733, null, 0.4820004680135658, 0.4849798541120332, null], \"y\": [0.872609736231231, 0.5505848124641965, null, 0.5735058169671163, 0.5916241512977561, null, 0.5735058169671163, 0.5991820265745796, null], \"type\": \"scatter\"}, {\"hoverinfo\": \"none\", \"line\": {\"color\": \"rgb(0, 0, 0)\", \"dash\": \"solid\", \"width\": 1}, \"mode\": \"lines\", \"x\": [0.6266071284782703, 0.5733458795255526, null, 0.5763545050372334, 0.5750769081865911, null, 0.5763545050372334, 0.5833806013547215, null], \"y\": [0.4182690894005706, 0.872609736231231, null, 0.8469449069617978, 0.8208021587991121, null, 0.8469449069617978, 0.8240505593479469, null], \"type\": \"scatter\"}, {\"hoverinfo\": \"none\", \"marker\": {\"color\": \"rgb(255, 0, 0)\", \"line\": {\"color\": \"rgb(0, 0, 0)\", \"width\": 1}, \"size\": 20, \"symbol\": \"circle\"}, \"mode\": \"markers+text\", \"text\": [\"('Atlanta Hawks',)\"], \"textfont\": {\"color\": \"rgb(0, 0, 0)\"}, \"textposition\": \"middle center\", \"x\": [0.2578883723259273], \"y\": [0.32084233479191304], \"type\": \"scatter\"}, {\"hoverinfo\": \"none\", \"marker\": {\"color\": \"rgb(255, 0, 0)\", \"line\": {\"color\": \"rgb(0, 0, 0)\", \"width\": 1}, \"size\": 20, \"symbol\": \"circle\"}, \"mode\": \"markers+text\", \"text\": [\"('Boston Celtics',)\"], \"textfont\": {\"color\": \"rgb(0, 0, 0)\"}, \"textposition\": \"middle center\", \"x\": [0.43256537961174246], \"y\": [0.5186635855214322], \"type\": \"scatter\"}, {\"hoverinfo\": \"none\", \"marker\": {\"color\": \"rgb(255, 0, 0)\", \"line\": {\"color\": \"rgb(0, 0, 0)\", \"width\": 1}, \"size\": 20, \"symbol\": \"circle\"}, \"mode\": \"markers+text\", \"text\": [\"('Brooklyn Nets',)\"], \"textfont\": {\"color\": \"rgb(0, 0, 0)\"}, \"textposition\": \"middle center\", \"x\": [0.11221838997637534], \"y\": [0.023003091982322976], \"type\": \"scatter\"}, {\"hoverinfo\": \"none\", \"marker\": {\"color\": \"rgb(255, 0, 0)\", \"line\": {\"color\": \"rgb(0, 0, 0)\", \"width\": 1}, \"size\": 20, \"symbol\": \"circle\"}, \"mode\": \"markers+text\", \"text\": [\"('Charlotte Hornets',)\"], \"textfont\": {\"color\": \"rgb(0, 0, 0)\"}, \"textposition\": \"middle center\", \"x\": [0.9090635623466599], \"y\": [0.828469162609598], \"type\": \"scatter\"}, {\"hoverinfo\": \"none\", \"marker\": {\"color\": \"rgb(255, 0, 0)\", \"line\": {\"color\": \"rgb(0, 0, 0)\", \"width\": 1}, \"size\": 20, \"symbol\": \"circle\"}, \"mode\": \"markers+text\", \"text\": [\"('Chicago Bulls',)\"], \"textfont\": {\"color\": \"rgb(0, 0, 0)\"}, \"textposition\": \"middle center\", \"x\": [0.21618238517178123], \"y\": [0.19806440262718117], \"type\": \"scatter\"}, {\"hoverinfo\": \"none\", \"marker\": {\"color\": \"rgb(255, 0, 0)\", \"line\": {\"color\": \"rgb(0, 0, 0)\", \"width\": 1}, \"size\": 20, \"symbol\": \"circle\"}, \"mode\": \"markers+text\", \"text\": [\"('Cleveland Cavaliers',)\"], \"textfont\": {\"color\": \"rgb(0, 0, 0)\"}, \"textposition\": \"middle center\", \"x\": [0.21165194812972576], \"y\": [0.794130636470508], \"type\": \"scatter\"}, {\"hoverinfo\": \"none\", \"marker\": {\"color\": \"rgb(255, 0, 0)\", \"line\": {\"color\": \"rgb(0, 0, 0)\", \"width\": 1}, \"size\": 20, \"symbol\": \"circle\"}, \"mode\": \"markers+text\", \"text\": [\"('Dallas Mavericks',)\"], \"textfont\": {\"color\": \"rgb(0, 0, 0)\"}, \"textposition\": \"middle center\", \"x\": [0.4750004641562492], \"y\": [0.5505848124641965], \"type\": \"scatter\"}, {\"hoverinfo\": \"none\", \"marker\": {\"color\": \"rgb(255, 0, 0)\", \"line\": {\"color\": \"rgb(0, 0, 0)\", \"width\": 1}, \"size\": 20, \"symbol\": \"circle\"}, \"mode\": \"markers+text\", \"text\": [\"('Denver Nuggets',)\"], \"textfont\": {\"color\": \"rgb(0, 0, 0)\"}, \"textposition\": \"middle center\", \"x\": [0.5424021481496177], \"y\": [0.020713523906475295], \"type\": \"scatter\"}, {\"hoverinfo\": \"none\", \"marker\": {\"color\": \"rgb(255, 0, 0)\", \"line\": {\"color\": \"rgb(0, 0, 0)\", \"width\": 1}, \"size\": 20, \"symbol\": \"circle\"}, \"mode\": \"markers+text\", \"text\": [\"('Detroit Pistons',)\"], \"textfont\": {\"color\": \"rgb(0, 0, 0)\"}, \"textposition\": \"middle center\", \"x\": [0.9457824513236409], \"y\": [0.07939137483213865], \"type\": \"scatter\"}, {\"hoverinfo\": \"none\", \"marker\": {\"color\": \"rgb(255, 0, 0)\", \"line\": {\"color\": \"rgb(0, 0, 0)\", \"width\": 1}, \"size\": 20, \"symbol\": \"circle\"}, \"mode\": \"markers+text\", \"text\": [\"('Golden State Warriors',)\"], \"textfont\": {\"color\": \"rgb(0, 0, 0)\"}, \"textposition\": \"middle center\", \"x\": [0.9998248270476896], \"y\": [0.7045069888281296], \"type\": \"scatter\"}, {\"hoverinfo\": \"none\", \"marker\": {\"color\": \"rgb(255, 0, 0)\", \"line\": {\"color\": \"rgb(0, 0, 0)\", \"width\": 1}, \"size\": 20, \"symbol\": \"circle\"}, \"mode\": \"markers+text\", \"text\": [\"('Houston Rockets',)\"], \"textfont\": {\"color\": \"rgb(0, 0, 0)\"}, \"textposition\": \"middle center\", \"x\": [0.3635891075927543], \"y\": [0.3955450319008773], \"type\": \"scatter\"}, {\"hoverinfo\": \"none\", \"marker\": {\"color\": \"rgb(255, 0, 0)\", \"line\": {\"color\": \"rgb(0, 0, 0)\", \"width\": 1}, \"size\": 20, \"symbol\": \"circle\"}, \"mode\": \"markers+text\", \"text\": [\"('Indiana Pacers',)\"], \"textfont\": {\"color\": \"rgb(0, 0, 0)\"}, \"textposition\": \"middle center\", \"x\": [0.5350540001177557], \"y\": [0.5588872112059232], \"type\": \"scatter\"}, {\"hoverinfo\": \"none\", \"marker\": {\"color\": \"rgb(255, 0, 0)\", \"line\": {\"color\": \"rgb(0, 0, 0)\", \"width\": 1}, \"size\": 20, \"symbol\": \"circle\"}, \"mode\": \"markers+text\", \"text\": [\"('LA Clippers',)\"], \"textfont\": {\"color\": \"rgb(0, 0, 0)\"}, \"textposition\": \"middle center\", \"x\": [0.1474461571520782], \"y\": [0.8969265635097233], \"type\": \"scatter\"}, {\"hoverinfo\": \"none\", \"marker\": {\"color\": \"rgb(255, 0, 0)\", \"line\": {\"color\": \"rgb(0, 0, 0)\", \"width\": 1}, \"size\": 20, \"symbol\": \"circle\"}, \"mode\": \"markers+text\", \"text\": [\"('Los Angeles Lakers',)\"], \"textfont\": {\"color\": \"rgb(0, 0, 0)\"}, \"textposition\": \"middle center\", \"x\": [0.0005565783485109721], \"y\": [0.46173782872575053], \"type\": \"scatter\"}, {\"hoverinfo\": \"none\", \"marker\": {\"color\": \"rgb(255, 0, 0)\", \"line\": {\"color\": \"rgb(0, 0, 0)\", \"width\": 1}, \"size\": 20, \"symbol\": \"circle\"}, \"mode\": \"markers+text\", \"text\": [\"('Memphis Grizzlies',)\"], \"textfont\": {\"color\": \"rgb(0, 0, 0)\"}, \"textposition\": \"middle center\", \"x\": [0.5708710020557325], \"y\": [0.30534170598099], \"type\": \"scatter\"}, {\"hoverinfo\": \"none\", \"marker\": {\"color\": \"rgb(255, 0, 0)\", \"line\": {\"color\": \"rgb(0, 0, 0)\", \"width\": 1}, \"size\": 20, \"symbol\": \"circle\"}, \"mode\": \"markers+text\", \"text\": [\"('Miami Heat',)\"], \"textfont\": {\"color\": \"rgb(0, 0, 0)\"}, \"textposition\": \"middle center\", \"x\": [0.5756301823109237], \"y\": [0.08402151559107118], \"type\": \"scatter\"}, {\"hoverinfo\": \"none\", \"marker\": {\"color\": \"rgb(255, 0, 0)\", \"line\": {\"color\": \"rgb(0, 0, 0)\", \"width\": 1}, \"size\": 20, \"symbol\": \"circle\"}, \"mode\": \"markers+text\", \"text\": [\"('Milwaukee Bucks',)\"], \"textfont\": {\"color\": \"rgb(0, 0, 0)\"}, \"textposition\": \"middle center\", \"x\": [0.5791686709389611], \"y\": [0.31427470939671787], \"type\": \"scatter\"}, {\"hoverinfo\": \"none\", \"marker\": {\"color\": \"rgb(255, 0, 0)\", \"line\": {\"color\": \"rgb(0, 0, 0)\", \"width\": 1}, \"size\": 20, \"symbol\": \"circle\"}, \"mode\": \"markers+text\", \"text\": [\"('Minnesota Timberwolves',)\"], \"textfont\": {\"color\": \"rgb(0, 0, 0)\"}, \"textposition\": \"middle center\", \"x\": [0.21334168508823392], \"y\": [0.62111085816352], \"type\": \"scatter\"}, {\"hoverinfo\": \"none\", \"marker\": {\"color\": \"rgb(255, 0, 0)\", \"line\": {\"color\": \"rgb(0, 0, 0)\", \"width\": 1}, \"size\": 20, \"symbol\": \"circle\"}, \"mode\": \"markers+text\", \"text\": [\"('New Orleans Pelicans',)\"], \"textfont\": {\"color\": \"rgb(0, 0, 0)\"}, \"textposition\": \"middle center\", \"x\": [0.5751137361402261], \"y\": [0.41734590577491804], \"type\": \"scatter\"}, {\"hoverinfo\": \"none\", \"marker\": {\"color\": \"rgb(255, 0, 0)\", \"line\": {\"color\": \"rgb(0, 0, 0)\", \"width\": 1}, \"size\": 20, \"symbol\": \"circle\"}, \"mode\": \"markers+text\", \"text\": [\"('New York Knicks',)\"], \"textfont\": {\"color\": \"rgb(0, 0, 0)\"}, \"textposition\": \"middle center\", \"x\": [0.5875228654644489], \"y\": [0.8455516258870958], \"type\": \"scatter\"}, {\"hoverinfo\": \"none\", \"marker\": {\"color\": \"rgb(255, 0, 0)\", \"line\": {\"color\": \"rgb(0, 0, 0)\", \"width\": 1}, \"size\": 20, \"symbol\": \"circle\"}, \"mode\": \"markers+text\", \"text\": [\"('Oklahoma City Thunder',)\"], \"textfont\": {\"color\": \"rgb(0, 0, 0)\"}, \"textposition\": \"middle center\", \"x\": [0.33482259238727785], \"y\": [0.2858867356982998], \"type\": \"scatter\"}, {\"hoverinfo\": \"none\", \"marker\": {\"color\": \"rgb(255, 0, 0)\", \"line\": {\"color\": \"rgb(0, 0, 0)\", \"width\": 1}, \"size\": 20, \"symbol\": \"circle\"}, \"mode\": \"markers+text\", \"text\": [\"('Orlando Magic',)\"], \"textfont\": {\"color\": \"rgb(0, 0, 0)\"}, \"textposition\": \"middle center\", \"x\": [0.757227329711187], \"y\": [0.7836274607795185], \"type\": \"scatter\"}, {\"hoverinfo\": \"none\", \"marker\": {\"color\": \"rgb(255, 0, 0)\", \"line\": {\"color\": \"rgb(0, 0, 0)\", \"width\": 1}, \"size\": 20, \"symbol\": \"circle\"}, \"mode\": \"markers+text\", \"text\": [\"('Philadelphia 76ers',)\"], \"textfont\": {\"color\": \"rgb(0, 0, 0)\"}, \"textposition\": \"middle center\", \"x\": [0.5949496259671603], \"y\": [0.5119247025866192], \"type\": \"scatter\"}, {\"hoverinfo\": \"none\", \"marker\": {\"color\": \"rgb(255, 0, 0)\", \"line\": {\"color\": \"rgb(0, 0, 0)\", \"width\": 1}, \"size\": 20, \"symbol\": \"circle\"}, \"mode\": \"markers+text\", \"text\": [\"('Phoenix Suns',)\"], \"textfont\": {\"color\": \"rgb(0, 0, 0)\"}, \"textposition\": \"middle center\", \"x\": [0.6366763800746762], \"y\": [0.3819582124402713], \"type\": \"scatter\"}, {\"hoverinfo\": \"none\", \"marker\": {\"color\": \"rgb(255, 0, 0)\", \"line\": {\"color\": \"rgb(0, 0, 0)\", \"width\": 1}, \"size\": 20, \"symbol\": \"circle\"}, \"mode\": \"markers+text\", \"text\": [\"('Portland Trail Blazers',)\"], \"textfont\": {\"color\": \"rgb(0, 0, 0)\"}, \"textposition\": \"middle center\", \"x\": [0.5733458795255526], \"y\": [0.872609736231231], \"type\": \"scatter\"}, {\"hoverinfo\": \"none\", \"marker\": {\"color\": \"rgb(255, 0, 0)\", \"line\": {\"color\": \"rgb(0, 0, 0)\", \"width\": 1}, \"size\": 20, \"symbol\": \"circle\"}, \"mode\": \"markers+text\", \"text\": [\"('Sacramento Kings',)\"], \"textfont\": {\"color\": \"rgb(0, 0, 0)\"}, \"textposition\": \"middle center\", \"x\": [0.6266071284782703], \"y\": [0.4182690894005706], \"type\": \"scatter\"}, {\"hoverinfo\": \"none\", \"marker\": {\"color\": \"rgb(255, 0, 0)\", \"line\": {\"color\": \"rgb(0, 0, 0)\", \"width\": 1}, \"size\": 20, \"symbol\": \"circle\"}, \"mode\": \"markers+text\", \"text\": [\"('San Antonio Spurs',)\"], \"textfont\": {\"color\": \"rgb(0, 0, 0)\"}, \"textposition\": \"middle center\", \"x\": [0.9171810026541254], \"y\": [0.19367168136178314], \"type\": \"scatter\"}, {\"hoverinfo\": \"none\", \"marker\": {\"color\": \"rgb(255, 0, 0)\", \"line\": {\"color\": \"rgb(0, 0, 0)\", \"width\": 1}, \"size\": 20, \"symbol\": \"circle\"}, \"mode\": \"markers+text\", \"text\": [\"('Toronto Raptors',)\"], \"textfont\": {\"color\": \"rgb(0, 0, 0)\"}, \"textposition\": \"middle center\", \"x\": [0.8937193877060478], \"y\": [0.3717475974104444], \"type\": \"scatter\"}, {\"hoverinfo\": \"none\", \"marker\": {\"color\": \"rgb(255, 0, 0)\", \"line\": {\"color\": \"rgb(0, 0, 0)\", \"width\": 1}, \"size\": 20, \"symbol\": \"circle\"}, \"mode\": \"markers+text\", \"text\": [\"('Utah Jazz',)\"], \"textfont\": {\"color\": \"rgb(0, 0, 0)\"}, \"textposition\": \"middle center\", \"x\": [0.6707542454718199], \"y\": [0.5564951607050072], \"type\": \"scatter\"}, {\"hoverinfo\": \"none\", \"marker\": {\"color\": \"rgb(255, 0, 0)\", \"line\": {\"color\": \"rgb(0, 0, 0)\", \"width\": 1}, \"size\": 20, \"symbol\": \"circle\"}, \"mode\": \"markers+text\", \"text\": [\"('Washington Wizards',)\"], \"textfont\": {\"color\": \"rgb(0, 0, 0)\"}, \"textposition\": \"middle center\", \"x\": [0.45290118494132214], \"y\": [0.9750770606404473], \"type\": \"scatter\"}, {\"hoverinfo\": \"none\", \"mode\": \"text\", \"text\": [null, null, null, null, null, null, null, null], \"textfont\": {\"color\": \"rgb(0, 0, 0)\"}, \"textposition\": \"middle center\", \"x\": [0.30555459296088405, 0.5667309795558947, 0.47415715977006323, 0.5707703985645486, 0.6555348278640614, 0.3945850992882349, 0.5367204458575854, 0.5859272224621785], \"y\": [0.3826723389235614, 0.22211460673384398, 0.2598789844769917, 0.15831002406442707, 0.6181333274327275, 0.43648512266517986, 0.698809865726474, 0.6399433410150351], \"type\": \"scatter\"}, {\"hoverinfo\": \"none\", \"marker\": {\"color\": \"rgba(255, 255, 255, 0.0)\", \"line\": {\"color\": \"rgba(255, 255, 255, 0.0)\", \"width\": 0}, \"size\": 0, \"symbol\": \"circle\"}, \"mode\": \"markers\", \"x\": [0.5, 0.0, 1.0, 0.5], \"y\": [0.0, 0.5, 0.5, 1.0], \"type\": \"scatter\"}], \"name\": \"1\"}]);\n",
       "                        }).then(function(){\n",
       "                            Plotly.animate('657a0567-c8de-4763-993d-712c1b5ce4e0', null);\n",
       "                        }).then(function(){\n",
       "                            \n",
       "var gd = document.getElementById('657a0567-c8de-4763-993d-712c1b5ce4e0');\n",
       "var x = new MutationObserver(function (mutations, observer) {{\n",
       "        var display = window.getComputedStyle(gd).display;\n",
       "        if (!display || display === 'none') {{\n",
       "            console.log([gd, 'removed!']);\n",
       "            Plotly.purge(gd);\n",
       "            observer.disconnect();\n",
       "        }}\n",
       "}});\n",
       "\n",
       "// Listen for the removal of the full notebook cells\n",
       "var notebookContainer = gd.closest('#notebook-container');\n",
       "if (notebookContainer) {{\n",
       "    x.observe(notebookContainer, {childList: true});\n",
       "}}\n",
       "\n",
       "// Listen for the clearing of the current output cell\n",
       "var outputEl = gd.closest('.output');\n",
       "if (outputEl) {{\n",
       "    x.observe(outputEl, {childList: true});\n",
       "}}\n",
       "\n",
       "                        })\n",
       "                };\n",
       "                });\n",
       "            </script>\n",
       "        </div>"
      ]
     },
     "metadata": {},
     "output_type": "display_data"
    }
   ],
   "source": [
    "\n",
    "\n",
    "a = fm.Animation()\n",
    "g = nx.DiGraph()\n",
    "a.rec(g)\n",
    "\n",
    "transfers = list_all_transfers(connection, 2018)\n",
    "teams = list_all_teams(connection)\n",
    "\n",
    "for team in teams:\n",
    "    add_node(g, team)\n",
    "\n",
    "    \n",
    "#Existem casos em que um time assina com um jogador e na mesma temporada vende ele, vamos ignorar estes casos por enquanto\n",
    "for transfer in transfers:\n",
    "    antigo = get_from_where(connection, transfer[1], transfer[3])\n",
    "    novo = get_team_name(connection, transfer[2])\n",
    "    if(antigo != -1) and (novo != -1):\n",
    "        if(antigo != novo):\n",
    "            id_antigo = get_team_id(connection, antigo)\n",
    "            id_novo = get_team_id(connection, novo)\n",
    "            weight = get_weight(connection, id_antigo, id_novo, 2019)\n",
    "            if(weight == -1):\n",
    "                weight = 0\n",
    "            add_edge(g, antigo, novo, weight)\n",
    "    else:\n",
    "        print(antigo, novo)\n",
    "    \n",
    "    \n",
    "a.rec(g)\n",
    "a.play()\n"
   ]
  },
  {
   "cell_type": "code",
   "execution_count": 5,
   "metadata": {},
   "outputs": [
    {
     "name": "stdout",
     "output_type": "stream",
     "text": [
      "-1 ('New Orleans Pelicans',)\n",
      "-1 ('Orlando Magic',)\n",
      "-1 ('Houston Rockets',)\n",
      "-1 ('Indiana Pacers',)\n",
      "-1 ('Los Angeles Lakers',)\n",
      "-1 ('Sacramento Kings',)\n",
      "-1 ('Charlotte Hornets',)\n",
      "-1 ('Indiana Pacers',)\n",
      "-1 ('Oklahoma City Thunder',)\n",
      "-1 ('Indiana Pacers',)\n",
      "-1 ('Dallas Mavericks',)\n",
      "-1 ('Atlanta Hawks',)\n",
      "-1 ('New Orleans Pelicans',)\n",
      "-1 ('Utah Jazz',)\n",
      "-1 ('Los Angeles Lakers',)\n",
      "-1 ('Memphis Grizzlies',)\n",
      "-1 ('San Antonio Spurs',)\n",
      "-1 ('Minnesota Timberwolves',)\n",
      "-1 ('Dallas Mavericks',)\n",
      "-1 ('Miami Heat',)\n",
      "-1 ('Boston Celtics',)\n",
      "-1 ('Sacramento Kings',)\n",
      "-1 ('Orlando Magic',)\n",
      "-1 ('Utah Jazz',)\n",
      "-1 ('Utah Jazz',)\n",
      "-1 ('Houston Rockets',)\n",
      "-1 ('Dallas Mavericks',)\n",
      "-1 ('San Antonio Spurs',)\n",
      "-1 ('Orlando Magic',)\n",
      "-1 ('Detroit Pistons',)\n",
      "-1 ('Toronto Raptors',)\n",
      "-1 ('Memphis Grizzlies',)\n",
      "-1 ('Washington Wizards',)\n",
      "-1 ('Toronto Raptors',)\n",
      "-1 ('New Orleans Pelicans',)\n",
      "-1 ('Phoenix Suns',)\n",
      "-1 ('Denver Nuggets',)\n",
      "-1 ('New Orleans Pelicans',)\n",
      "-1 ('Minnesota Timberwolves',)\n",
      "-1 ('Los Angeles Lakers',)\n",
      "-1 ('Denver Nuggets',)\n",
      "-1 ('Utah Jazz',)\n",
      "-1 ('Boston Celtics',)\n",
      "-1 ('Miami Heat',)\n",
      "-1 ('Oklahoma City Thunder',)\n",
      "-1 ('Sacramento Kings',)\n",
      "-1 ('Philadelphia 76ers',)\n",
      "-1 ('Cleveland Cavaliers',)\n",
      "-1 ('Cleveland Cavaliers',)\n",
      "-1 ('Utah Jazz',)\n",
      "-1 ('New Orleans Pelicans',)\n",
      "-1 ('Minnesota Timberwolves',)\n",
      "-1 ('LA Clippers',)\n",
      "-1 ('Boston Celtics',)\n",
      "-1 ('Utah Jazz',)\n",
      "-1 ('Washington Wizards',)\n",
      "-1 ('Orlando Magic',)\n",
      "-1 ('Indiana Pacers',)\n",
      "-1 ('Cleveland Cavaliers',)\n",
      "-1 ('Golden State Warriors',)\n",
      "-1 ('Brooklyn Nets',)\n"
     ]
    },
    {
     "data": {
      "application/vnd.plotly.v1+json": {
       "config": {
        "linkText": "Export to plot.ly",
        "plotlyServerURL": "https://plot.ly",
        "showLink": false,
        "staticPlot": true
       },
       "data": [
        {
         "hoverinfo": "none",
         "line": {
          "color": "rgba(255, 255, 255, 0.0)",
          "dash": "solid",
          "width": 1
         },
         "mode": "lines",
         "type": "scatter",
         "x": [
          0.2532939342588636,
          0.5623606305455091,
          null,
          0.5486384307968404,
          0.5342706207454423,
          null,
          0.5486384307968404,
          0.5367876045862916,
          null
         ],
         "y": [
          0.08847434460809245,
          0.26369124235980423,
          null,
          0.255911817079828,
          0.2558877494650732,
          null,
          0.255911817079828,
          0.24107194702580795,
          null
         ]
        },
        {
         "hoverinfo": "none",
         "line": {
          "color": "rgba(255, 255, 255, 0.0)",
          "dash": "solid",
          "width": 1
         },
         "mode": "lines",
         "type": "scatter",
         "x": [
          0.7171745370422026,
          0.3058768349238462,
          null,
          0.31554819755166974,
          0.32164758611697264,
          null,
          0.31554819755166974,
          0.3279276202222179,
          null
         ],
         "y": [
          0.021280857942984954,
          0.8467440345642494,
          null,
          0.8273338757525134,
          0.8035695776214091,
          null,
          0.8273338757525134,
          0.8140117079384691,
          null
         ]
        },
        {
         "hoverinfo": "none",
         "line": {
          "color": "rgba(255, 255, 255, 0.0)",
          "dash": "solid",
          "width": 1
         },
         "mode": "lines",
         "type": "scatter",
         "x": [
          0.8115951114896895,
          0.7001164210140165,
          null,
          0.7110866989162284,
          0.7188250759225643,
          null,
          0.7110866989162284,
          0.7243089354615554,
          null
         ],
         "y": [
          0.3201207726924048,
          0.492358242890671,
          null,
          0.47540887879977095,
          0.4532942509270604,
          null,
          0.47540887879977095,
          0.46513881470545737,
          null
         ]
        },
        {
         "hoverinfo": "none",
         "line": {
          "color": "rgba(255, 255, 255, 0.0)",
          "dash": "solid",
          "width": 1
         },
         "mode": "lines",
         "type": "scatter",
         "x": [
          0.8115951114896895,
          0.5075596499031447,
          null,
          0.5190569145913858,
          0.5274942702529535,
          null,
          0.5190569145913858,
          0.5325870718934423,
          null
         ],
         "y": [
          0.3201207726924048,
          0.7363701137329127,
          null,
          0.7206294207713899,
          0.6993849878028843,
          null,
          0.7206294207713899,
          0.7117985370393649,
          null
         ]
        },
        {
         "hoverinfo": "none",
         "line": {
          "color": "rgba(255, 255, 255, 0.0)",
          "dash": "solid",
          "width": 1
         },
         "mode": "lines",
         "type": "scatter",
         "x": [
          0.649690889787739,
          0.2963878979870257,
          null,
          0.30937388895854867,
          0.32359674479066175,
          null,
          0.30937388895854867,
          0.31996301517153874,
          null
         ],
         "y": [
          0.5659242174531383,
          0.2603674450834452,
          null,
          0.2715984778778653,
          0.27531743288654137,
          null,
          0.2715984778778653,
          0.28933835374734085,
          null
         ]
        },
        {
         "hoverinfo": "none",
         "marker": {
          "color": "rgba(255, 255, 255, 0.0)",
          "line": {
           "color": "rgba(255, 255, 255, 0.0)",
           "width": 1
          },
          "size": 20,
          "symbol": "circle"
         },
         "mode": "markers+text",
         "text": [
          "('Atlanta Hawks',)"
         ],
         "textfont": {
          "color": "rgb(0, 0, 0)"
         },
         "textposition": "middle center",
         "type": "scatter",
         "x": [
          0.2532939342588636
         ],
         "y": [
          0.08847434460809245
         ]
        },
        {
         "hoverinfo": "none",
         "marker": {
          "color": "rgba(255, 255, 255, 0.0)",
          "line": {
           "color": "rgba(255, 255, 255, 0.0)",
           "width": 1
          },
          "size": 20,
          "symbol": "circle"
         },
         "mode": "markers+text",
         "text": [
          "('Boston Celtics',)"
         ],
         "textfont": {
          "color": "rgb(0, 0, 0)"
         },
         "textposition": "middle center",
         "type": "scatter",
         "x": [
          0.137457944258097
         ],
         "y": [
          0.7666806523595047
         ]
        },
        {
         "hoverinfo": "none",
         "marker": {
          "color": "rgba(255, 255, 255, 0.0)",
          "line": {
           "color": "rgba(255, 255, 255, 0.0)",
           "width": 1
          },
          "size": 20,
          "symbol": "circle"
         },
         "mode": "markers+text",
         "text": [
          "('Brooklyn Nets',)"
         ],
         "textfont": {
          "color": "rgb(0, 0, 0)"
         },
         "textposition": "middle center",
         "type": "scatter",
         "x": [
          0.9177331233421402
         ],
         "y": [
          0.11860634717275043
         ]
        },
        {
         "hoverinfo": "none",
         "marker": {
          "color": "rgba(255, 255, 255, 0.0)",
          "line": {
           "color": "rgba(255, 255, 255, 0.0)",
           "width": 1
          },
          "size": 20,
          "symbol": "circle"
         },
         "mode": "markers+text",
         "text": [
          "('Charlotte Hornets',)"
         ],
         "textfont": {
          "color": "rgb(0, 0, 0)"
         },
         "textposition": "middle center",
         "type": "scatter",
         "x": [
          0.9797720758249455
         ],
         "y": [
          0.1637604513484422
         ]
        },
        {
         "hoverinfo": "none",
         "marker": {
          "color": "rgba(255, 255, 255, 0.0)",
          "line": {
           "color": "rgba(255, 255, 255, 0.0)",
           "width": 1
          },
          "size": 20,
          "symbol": "circle"
         },
         "mode": "markers+text",
         "text": [
          "('Chicago Bulls',)"
         ],
         "textfont": {
          "color": "rgb(0, 0, 0)"
         },
         "textposition": "middle center",
         "type": "scatter",
         "x": [
          0.5623606305455091
         ],
         "y": [
          0.26369124235980423
         ]
        },
        {
         "hoverinfo": "none",
         "marker": {
          "color": "rgba(255, 255, 255, 0.0)",
          "line": {
           "color": "rgba(255, 255, 255, 0.0)",
           "width": 1
          },
          "size": 20,
          "symbol": "circle"
         },
         "mode": "markers+text",
         "text": [
          "('Cleveland Cavaliers',)"
         ],
         "textfont": {
          "color": "rgb(0, 0, 0)"
         },
         "textposition": "middle center",
         "type": "scatter",
         "x": [
          0.7001164210140165
         ],
         "y": [
          0.492358242890671
         ]
        },
        {
         "hoverinfo": "none",
         "marker": {
          "color": "rgba(255, 255, 255, 0.0)",
          "line": {
           "color": "rgba(255, 255, 255, 0.0)",
           "width": 1
          },
          "size": 20,
          "symbol": "circle"
         },
         "mode": "markers+text",
         "text": [
          "('Dallas Mavericks',)"
         ],
         "textfont": {
          "color": "rgb(0, 0, 0)"
         },
         "textposition": "middle center",
         "type": "scatter",
         "x": [
          0.015232819833666311
         ],
         "y": [
          0.3865539284857177
         ]
        },
        {
         "hoverinfo": "none",
         "marker": {
          "color": "rgba(255, 255, 255, 0.0)",
          "line": {
           "color": "rgba(255, 255, 255, 0.0)",
           "width": 1
          },
          "size": 20,
          "symbol": "circle"
         },
         "mode": "markers+text",
         "text": [
          "('Denver Nuggets',)"
         ],
         "textfont": {
          "color": "rgb(0, 0, 0)"
         },
         "textposition": "middle center",
         "type": "scatter",
         "x": [
          0.9434920563953874
         ],
         "y": [
          0.9066838001844677
         ]
        },
        {
         "hoverinfo": "none",
         "marker": {
          "color": "rgba(255, 255, 255, 0.0)",
          "line": {
           "color": "rgba(255, 255, 255, 0.0)",
           "width": 1
          },
          "size": 20,
          "symbol": "circle"
         },
         "mode": "markers+text",
         "text": [
          "('Detroit Pistons',)"
         ],
         "textfont": {
          "color": "rgb(0, 0, 0)"
         },
         "textposition": "middle center",
         "type": "scatter",
         "x": [
          0.8338442979145716
         ],
         "y": [
          0.6619314162517527
         ]
        },
        {
         "hoverinfo": "none",
         "marker": {
          "color": "rgba(255, 255, 255, 0.0)",
          "line": {
           "color": "rgba(255, 255, 255, 0.0)",
           "width": 1
          },
          "size": 20,
          "symbol": "circle"
         },
         "mode": "markers+text",
         "text": [
          "('Golden State Warriors',)"
         ],
         "textfont": {
          "color": "rgb(0, 0, 0)"
         },
         "textposition": "middle center",
         "type": "scatter",
         "x": [
          0.3058768349238462
         ],
         "y": [
          0.8467440345642494
         ]
        },
        {
         "hoverinfo": "none",
         "marker": {
          "color": "rgba(255, 255, 255, 0.0)",
          "line": {
           "color": "rgba(255, 255, 255, 0.0)",
           "width": 1
          },
          "size": 20,
          "symbol": "circle"
         },
         "mode": "markers+text",
         "text": [
          "('Houston Rockets',)"
         ],
         "textfont": {
          "color": "rgb(0, 0, 0)"
         },
         "textposition": "middle center",
         "type": "scatter",
         "x": [
          0.3233963550258525
         ],
         "y": [
          0.5850220642076611
         ]
        },
        {
         "hoverinfo": "none",
         "marker": {
          "color": "rgba(255, 255, 255, 0.0)",
          "line": {
           "color": "rgba(255, 255, 255, 0.0)",
           "width": 1
          },
          "size": 20,
          "symbol": "circle"
         },
         "mode": "markers+text",
         "text": [
          "('Indiana Pacers',)"
         ],
         "textfont": {
          "color": "rgb(0, 0, 0)"
         },
         "textposition": "middle center",
         "type": "scatter",
         "x": [
          0.5131061803980489
         ],
         "y": [
          0.7391021178690709
         ]
        },
        {
         "hoverinfo": "none",
         "marker": {
          "color": "rgba(255, 255, 255, 0.0)",
          "line": {
           "color": "rgba(255, 255, 255, 0.0)",
           "width": 1
          },
          "size": 20,
          "symbol": "circle"
         },
         "mode": "markers+text",
         "text": [
          "('LA Clippers',)"
         ],
         "textfont": {
          "color": "rgb(0, 0, 0)"
         },
         "textposition": "middle center",
         "type": "scatter",
         "x": [
          0.44463042352600357
         ],
         "y": [
          0.12997012760615267
         ]
        },
        {
         "hoverinfo": "none",
         "marker": {
          "color": "rgba(255, 255, 255, 0.0)",
          "line": {
           "color": "rgba(255, 255, 255, 0.0)",
           "width": 1
          },
          "size": 20,
          "symbol": "circle"
         },
         "mode": "markers+text",
         "text": [
          "('Los Angeles Lakers',)"
         ],
         "textfont": {
          "color": "rgb(0, 0, 0)"
         },
         "textposition": "middle center",
         "type": "scatter",
         "x": [
          0.7171745370422026
         ],
         "y": [
          0.021280857942984954
         ]
        },
        {
         "hoverinfo": "none",
         "marker": {
          "color": "rgba(255, 255, 255, 0.0)",
          "line": {
           "color": "rgba(255, 255, 255, 0.0)",
           "width": 1
          },
          "size": 20,
          "symbol": "circle"
         },
         "mode": "markers+text",
         "text": [
          "('Memphis Grizzlies',)"
         ],
         "textfont": {
          "color": "rgb(0, 0, 0)"
         },
         "textposition": "middle center",
         "type": "scatter",
         "x": [
          0.8522576784057927
         ],
         "y": [
          0.6770686116512314
         ]
        },
        {
         "hoverinfo": "none",
         "marker": {
          "color": "rgba(255, 255, 255, 0.0)",
          "line": {
           "color": "rgba(255, 255, 255, 0.0)",
           "width": 1
          },
          "size": 20,
          "symbol": "circle"
         },
         "mode": "markers+text",
         "text": [
          "('Miami Heat',)"
         ],
         "textfont": {
          "color": "rgb(0, 0, 0)"
         },
         "textposition": "middle center",
         "type": "scatter",
         "x": [
          0.7912324098618182
         ],
         "y": [
          0.3249702340823911
         ]
        },
        {
         "hoverinfo": "none",
         "marker": {
          "color": "rgba(255, 255, 255, 0.0)",
          "line": {
           "color": "rgba(255, 255, 255, 0.0)",
           "width": 1
          },
          "size": 20,
          "symbol": "circle"
         },
         "mode": "markers+text",
         "text": [
          "('Milwaukee Bucks',)"
         ],
         "textfont": {
          "color": "rgb(0, 0, 0)"
         },
         "textposition": "middle center",
         "type": "scatter",
         "x": [
          0.022149233130175694
         ],
         "y": [
          0.28129930457340424
         ]
        },
        {
         "hoverinfo": "none",
         "marker": {
          "color": "rgba(255, 255, 255, 0.0)",
          "line": {
           "color": "rgba(255, 255, 255, 0.0)",
           "width": 1
          },
          "size": 20,
          "symbol": "circle"
         },
         "mode": "markers+text",
         "text": [
          "('Minnesota Timberwolves',)"
         ],
         "textfont": {
          "color": "rgb(0, 0, 0)"
         },
         "textposition": "middle center",
         "type": "scatter",
         "x": [
          0.34040371754747856
         ],
         "y": [
          0.7622398768055848
         ]
        },
        {
         "hoverinfo": "none",
         "marker": {
          "color": "rgba(255, 255, 255, 0.0)",
          "line": {
           "color": "rgba(255, 255, 255, 0.0)",
           "width": 1
          },
          "size": 20,
          "symbol": "circle"
         },
         "mode": "markers+text",
         "text": [
          "('New Orleans Pelicans',)"
         ],
         "textfont": {
          "color": "rgb(0, 0, 0)"
         },
         "textposition": "middle center",
         "type": "scatter",
         "x": [
          0.5075596499031447
         ],
         "y": [
          0.7363701137329127
         ]
        },
        {
         "hoverinfo": "none",
         "marker": {
          "color": "rgba(255, 255, 255, 0.0)",
          "line": {
           "color": "rgba(255, 255, 255, 0.0)",
           "width": 1
          },
          "size": 20,
          "symbol": "circle"
         },
         "mode": "markers+text",
         "text": [
          "('New York Knicks',)"
         ],
         "textfont": {
          "color": "rgb(0, 0, 0)"
         },
         "textposition": "middle center",
         "type": "scatter",
         "x": [
          0.44064518764300165
         ],
         "y": [
          0.8521146325689313
         ]
        },
        {
         "hoverinfo": "none",
         "marker": {
          "color": "rgba(255, 255, 255, 0.0)",
          "line": {
           "color": "rgba(255, 255, 255, 0.0)",
           "width": 1
          },
          "size": 20,
          "symbol": "circle"
         },
         "mode": "markers+text",
         "text": [
          "('Oklahoma City Thunder',)"
         ],
         "textfont": {
          "color": "rgb(0, 0, 0)"
         },
         "textposition": "middle center",
         "type": "scatter",
         "x": [
          0.3362113339635353
         ],
         "y": [
          0.058929116339870524
         ]
        },
        {
         "hoverinfo": "none",
         "marker": {
          "color": "rgba(255, 255, 255, 0.0)",
          "line": {
           "color": "rgba(255, 255, 255, 0.0)",
           "width": 1
          },
          "size": 20,
          "symbol": "circle"
         },
         "mode": "markers+text",
         "text": [
          "('Orlando Magic',)"
         ],
         "textfont": {
          "color": "rgb(0, 0, 0)"
         },
         "textposition": "middle center",
         "type": "scatter",
         "x": [
          0.25024326171135636
         ],
         "y": [
          0.4778336329249716
         ]
        },
        {
         "hoverinfo": "none",
         "marker": {
          "color": "rgba(255, 255, 255, 0.0)",
          "line": {
           "color": "rgba(255, 255, 255, 0.0)",
           "width": 1
          },
          "size": 20,
          "symbol": "circle"
         },
         "mode": "markers+text",
         "text": [
          "('Philadelphia 76ers',)"
         ],
         "textfont": {
          "color": "rgb(0, 0, 0)"
         },
         "textposition": "middle center",
         "type": "scatter",
         "x": [
          0.8115951114896895
         ],
         "y": [
          0.3201207726924048
         ]
        },
        {
         "hoverinfo": "none",
         "marker": {
          "color": "rgba(255, 255, 255, 0.0)",
          "line": {
           "color": "rgba(255, 255, 255, 0.0)",
           "width": 1
          },
          "size": 20,
          "symbol": "circle"
         },
         "mode": "markers+text",
         "text": [
          "('Phoenix Suns',)"
         ],
         "textfont": {
          "color": "rgb(0, 0, 0)"
         },
         "textposition": "middle center",
         "type": "scatter",
         "x": [
          0.649690889787739
         ],
         "y": [
          0.5659242174531383
         ]
        },
        {
         "hoverinfo": "none",
         "marker": {
          "color": "rgba(255, 255, 255, 0.0)",
          "line": {
           "color": "rgba(255, 255, 255, 0.0)",
           "width": 1
          },
          "size": 20,
          "symbol": "circle"
         },
         "mode": "markers+text",
         "text": [
          "('Portland Trail Blazers',)"
         ],
         "textfont": {
          "color": "rgb(0, 0, 0)"
         },
         "textposition": "middle center",
         "type": "scatter",
         "x": [
          0.7173250868268514
         ],
         "y": [
          0.5720866543300545
         ]
        },
        {
         "hoverinfo": "none",
         "marker": {
          "color": "rgba(255, 255, 255, 0.0)",
          "line": {
           "color": "rgba(255, 255, 255, 0.0)",
           "width": 1
          },
          "size": 20,
          "symbol": "circle"
         },
         "mode": "markers+text",
         "text": [
          "('Sacramento Kings',)"
         ],
         "textfont": {
          "color": "rgb(0, 0, 0)"
         },
         "textposition": "middle center",
         "type": "scatter",
         "x": [
          0.10484003710461398
         ],
         "y": [
          0.29322047946298624
         ]
        },
        {
         "hoverinfo": "none",
         "marker": {
          "color": "rgba(255, 255, 255, 0.0)",
          "line": {
           "color": "rgba(255, 255, 255, 0.0)",
           "width": 1
          },
          "size": 20,
          "symbol": "circle"
         },
         "mode": "markers+text",
         "text": [
          "('San Antonio Spurs',)"
         ],
         "textfont": {
          "color": "rgb(0, 0, 0)"
         },
         "textposition": "middle center",
         "type": "scatter",
         "x": [
          0.42625991051510637
         ],
         "y": [
          0.5119061414782429
         ]
        },
        {
         "hoverinfo": "none",
         "marker": {
          "color": "rgba(255, 255, 255, 0.0)",
          "line": {
           "color": "rgba(255, 255, 255, 0.0)",
           "width": 1
          },
          "size": 20,
          "symbol": "circle"
         },
         "mode": "markers+text",
         "text": [
          "('Toronto Raptors',)"
         ],
         "textfont": {
          "color": "rgb(0, 0, 0)"
         },
         "textposition": "middle center",
         "type": "scatter",
         "x": [
          0.6583612242311504
         ],
         "y": [
          0.8444216260025493
         ]
        },
        {
         "hoverinfo": "none",
         "marker": {
          "color": "rgba(255, 255, 255, 0.0)",
          "line": {
           "color": "rgba(255, 255, 255, 0.0)",
           "width": 1
          },
          "size": 20,
          "symbol": "circle"
         },
         "mode": "markers+text",
         "text": [
          "('Utah Jazz',)"
         ],
         "textfont": {
          "color": "rgb(0, 0, 0)"
         },
         "textposition": "middle center",
         "type": "scatter",
         "x": [
          0.18494270970276527
         ],
         "y": [
          0.5595933363937293
         ]
        },
        {
         "hoverinfo": "none",
         "marker": {
          "color": "rgba(255, 255, 255, 0.0)",
          "line": {
           "color": "rgba(255, 255, 255, 0.0)",
           "width": 1
          },
          "size": 20,
          "symbol": "circle"
         },
         "mode": "markers+text",
         "text": [
          "('Washington Wizards',)"
         ],
         "textfont": {
          "color": "rgb(0, 0, 0)"
         },
         "textposition": "middle center",
         "type": "scatter",
         "x": [
          0.2963878979870257
         ],
         "y": [
          0.2603674450834452
         ]
        },
        {
         "hoverinfo": "none",
         "mode": "text",
         "text": [
          null,
          null,
          null,
          null,
          null
         ],
         "textfont": {
          "color": "rgb(0, 0, 0)"
         },
         "textposition": "middle center",
         "type": "scatter",
         "x": [
          0.4035687177015097,
          0.5009002973231517,
          0.746577450564162,
          0.6509607082562732,
          0.47918741614984506
         ],
         "y": [
          0.20115011900907545,
          0.41634507515397107,
          0.38619931508828453,
          0.5072425659868954,
          0.3894233910683443
         ]
        },
        {
         "hoverinfo": "none",
         "marker": {
          "color": "rgba(255, 255, 255, 0.0)",
          "line": {
           "color": "rgba(255, 255, 255, 0.0)",
           "width": 0
          },
          "size": 0,
          "symbol": "circle"
         },
         "mode": "markers",
         "type": "scatter",
         "x": [
          0.5,
          0,
          1,
          0.5
         ],
         "y": [
          0,
          0.5,
          0.5,
          1
         ]
        }
       ],
       "frames": [
        {
         "data": [
          {
           "hoverinfo": "none",
           "line": {
            "color": "rgba(255, 255, 255, 0.0)",
            "dash": "solid",
            "width": 1
           },
           "mode": "lines",
           "type": "scatter",
           "x": [
            0.2532939342588636,
            0.5623606305455091,
            null,
            0.5486384307968404,
            0.5342706207454423,
            null,
            0.5486384307968404,
            0.5367876045862916,
            null
           ],
           "y": [
            0.08847434460809245,
            0.26369124235980423,
            null,
            0.255911817079828,
            0.2558877494650732,
            null,
            0.255911817079828,
            0.24107194702580795,
            null
           ]
          },
          {
           "hoverinfo": "none",
           "line": {
            "color": "rgba(255, 255, 255, 0.0)",
            "dash": "solid",
            "width": 1
           },
           "mode": "lines",
           "type": "scatter",
           "x": [
            0.7171745370422026,
            0.3058768349238462,
            null,
            0.31554819755166974,
            0.32164758611697264,
            null,
            0.31554819755166974,
            0.3279276202222179,
            null
           ],
           "y": [
            0.021280857942984954,
            0.8467440345642494,
            null,
            0.8273338757525134,
            0.8035695776214091,
            null,
            0.8273338757525134,
            0.8140117079384691,
            null
           ]
          },
          {
           "hoverinfo": "none",
           "line": {
            "color": "rgba(255, 255, 255, 0.0)",
            "dash": "solid",
            "width": 1
           },
           "mode": "lines",
           "type": "scatter",
           "x": [
            0.8115951114896895,
            0.7001164210140165,
            null,
            0.7110866989162284,
            0.7188250759225643,
            null,
            0.7110866989162284,
            0.7243089354615554,
            null
           ],
           "y": [
            0.3201207726924048,
            0.492358242890671,
            null,
            0.47540887879977095,
            0.4532942509270604,
            null,
            0.47540887879977095,
            0.46513881470545737,
            null
           ]
          },
          {
           "hoverinfo": "none",
           "line": {
            "color": "rgba(255, 255, 255, 0.0)",
            "dash": "solid",
            "width": 1
           },
           "mode": "lines",
           "type": "scatter",
           "x": [
            0.8115951114896895,
            0.5075596499031447,
            null,
            0.5190569145913858,
            0.5274942702529535,
            null,
            0.5190569145913858,
            0.5325870718934423,
            null
           ],
           "y": [
            0.3201207726924048,
            0.7363701137329127,
            null,
            0.7206294207713899,
            0.6993849878028843,
            null,
            0.7206294207713899,
            0.7117985370393649,
            null
           ]
          },
          {
           "hoverinfo": "none",
           "line": {
            "color": "rgba(255, 255, 255, 0.0)",
            "dash": "solid",
            "width": 1
           },
           "mode": "lines",
           "type": "scatter",
           "x": [
            0.649690889787739,
            0.2963878979870257,
            null,
            0.30937388895854867,
            0.32359674479066175,
            null,
            0.30937388895854867,
            0.31996301517153874,
            null
           ],
           "y": [
            0.5659242174531383,
            0.2603674450834452,
            null,
            0.2715984778778653,
            0.27531743288654137,
            null,
            0.2715984778778653,
            0.28933835374734085,
            null
           ]
          },
          {
           "hoverinfo": "none",
           "marker": {
            "color": "rgba(255, 255, 255, 0.0)",
            "line": {
             "color": "rgba(255, 255, 255, 0.0)",
             "width": 1
            },
            "size": 20,
            "symbol": "circle"
           },
           "mode": "markers+text",
           "text": [
            "('Atlanta Hawks',)"
           ],
           "textfont": {
            "color": "rgb(0, 0, 0)"
           },
           "textposition": "middle center",
           "type": "scatter",
           "x": [
            0.2532939342588636
           ],
           "y": [
            0.08847434460809245
           ]
          },
          {
           "hoverinfo": "none",
           "marker": {
            "color": "rgba(255, 255, 255, 0.0)",
            "line": {
             "color": "rgba(255, 255, 255, 0.0)",
             "width": 1
            },
            "size": 20,
            "symbol": "circle"
           },
           "mode": "markers+text",
           "text": [
            "('Boston Celtics',)"
           ],
           "textfont": {
            "color": "rgb(0, 0, 0)"
           },
           "textposition": "middle center",
           "type": "scatter",
           "x": [
            0.137457944258097
           ],
           "y": [
            0.7666806523595047
           ]
          },
          {
           "hoverinfo": "none",
           "marker": {
            "color": "rgba(255, 255, 255, 0.0)",
            "line": {
             "color": "rgba(255, 255, 255, 0.0)",
             "width": 1
            },
            "size": 20,
            "symbol": "circle"
           },
           "mode": "markers+text",
           "text": [
            "('Brooklyn Nets',)"
           ],
           "textfont": {
            "color": "rgb(0, 0, 0)"
           },
           "textposition": "middle center",
           "type": "scatter",
           "x": [
            0.9177331233421402
           ],
           "y": [
            0.11860634717275043
           ]
          },
          {
           "hoverinfo": "none",
           "marker": {
            "color": "rgba(255, 255, 255, 0.0)",
            "line": {
             "color": "rgba(255, 255, 255, 0.0)",
             "width": 1
            },
            "size": 20,
            "symbol": "circle"
           },
           "mode": "markers+text",
           "text": [
            "('Charlotte Hornets',)"
           ],
           "textfont": {
            "color": "rgb(0, 0, 0)"
           },
           "textposition": "middle center",
           "type": "scatter",
           "x": [
            0.9797720758249455
           ],
           "y": [
            0.1637604513484422
           ]
          },
          {
           "hoverinfo": "none",
           "marker": {
            "color": "rgba(255, 255, 255, 0.0)",
            "line": {
             "color": "rgba(255, 255, 255, 0.0)",
             "width": 1
            },
            "size": 20,
            "symbol": "circle"
           },
           "mode": "markers+text",
           "text": [
            "('Chicago Bulls',)"
           ],
           "textfont": {
            "color": "rgb(0, 0, 0)"
           },
           "textposition": "middle center",
           "type": "scatter",
           "x": [
            0.5623606305455091
           ],
           "y": [
            0.26369124235980423
           ]
          },
          {
           "hoverinfo": "none",
           "marker": {
            "color": "rgba(255, 255, 255, 0.0)",
            "line": {
             "color": "rgba(255, 255, 255, 0.0)",
             "width": 1
            },
            "size": 20,
            "symbol": "circle"
           },
           "mode": "markers+text",
           "text": [
            "('Cleveland Cavaliers',)"
           ],
           "textfont": {
            "color": "rgb(0, 0, 0)"
           },
           "textposition": "middle center",
           "type": "scatter",
           "x": [
            0.7001164210140165
           ],
           "y": [
            0.492358242890671
           ]
          },
          {
           "hoverinfo": "none",
           "marker": {
            "color": "rgba(255, 255, 255, 0.0)",
            "line": {
             "color": "rgba(255, 255, 255, 0.0)",
             "width": 1
            },
            "size": 20,
            "symbol": "circle"
           },
           "mode": "markers+text",
           "text": [
            "('Dallas Mavericks',)"
           ],
           "textfont": {
            "color": "rgb(0, 0, 0)"
           },
           "textposition": "middle center",
           "type": "scatter",
           "x": [
            0.015232819833666311
           ],
           "y": [
            0.3865539284857177
           ]
          },
          {
           "hoverinfo": "none",
           "marker": {
            "color": "rgba(255, 255, 255, 0.0)",
            "line": {
             "color": "rgba(255, 255, 255, 0.0)",
             "width": 1
            },
            "size": 20,
            "symbol": "circle"
           },
           "mode": "markers+text",
           "text": [
            "('Denver Nuggets',)"
           ],
           "textfont": {
            "color": "rgb(0, 0, 0)"
           },
           "textposition": "middle center",
           "type": "scatter",
           "x": [
            0.9434920563953874
           ],
           "y": [
            0.9066838001844677
           ]
          },
          {
           "hoverinfo": "none",
           "marker": {
            "color": "rgba(255, 255, 255, 0.0)",
            "line": {
             "color": "rgba(255, 255, 255, 0.0)",
             "width": 1
            },
            "size": 20,
            "symbol": "circle"
           },
           "mode": "markers+text",
           "text": [
            "('Detroit Pistons',)"
           ],
           "textfont": {
            "color": "rgb(0, 0, 0)"
           },
           "textposition": "middle center",
           "type": "scatter",
           "x": [
            0.8338442979145716
           ],
           "y": [
            0.6619314162517527
           ]
          },
          {
           "hoverinfo": "none",
           "marker": {
            "color": "rgba(255, 255, 255, 0.0)",
            "line": {
             "color": "rgba(255, 255, 255, 0.0)",
             "width": 1
            },
            "size": 20,
            "symbol": "circle"
           },
           "mode": "markers+text",
           "text": [
            "('Golden State Warriors',)"
           ],
           "textfont": {
            "color": "rgb(0, 0, 0)"
           },
           "textposition": "middle center",
           "type": "scatter",
           "x": [
            0.3058768349238462
           ],
           "y": [
            0.8467440345642494
           ]
          },
          {
           "hoverinfo": "none",
           "marker": {
            "color": "rgba(255, 255, 255, 0.0)",
            "line": {
             "color": "rgba(255, 255, 255, 0.0)",
             "width": 1
            },
            "size": 20,
            "symbol": "circle"
           },
           "mode": "markers+text",
           "text": [
            "('Houston Rockets',)"
           ],
           "textfont": {
            "color": "rgb(0, 0, 0)"
           },
           "textposition": "middle center",
           "type": "scatter",
           "x": [
            0.3233963550258525
           ],
           "y": [
            0.5850220642076611
           ]
          },
          {
           "hoverinfo": "none",
           "marker": {
            "color": "rgba(255, 255, 255, 0.0)",
            "line": {
             "color": "rgba(255, 255, 255, 0.0)",
             "width": 1
            },
            "size": 20,
            "symbol": "circle"
           },
           "mode": "markers+text",
           "text": [
            "('Indiana Pacers',)"
           ],
           "textfont": {
            "color": "rgb(0, 0, 0)"
           },
           "textposition": "middle center",
           "type": "scatter",
           "x": [
            0.5131061803980489
           ],
           "y": [
            0.7391021178690709
           ]
          },
          {
           "hoverinfo": "none",
           "marker": {
            "color": "rgba(255, 255, 255, 0.0)",
            "line": {
             "color": "rgba(255, 255, 255, 0.0)",
             "width": 1
            },
            "size": 20,
            "symbol": "circle"
           },
           "mode": "markers+text",
           "text": [
            "('LA Clippers',)"
           ],
           "textfont": {
            "color": "rgb(0, 0, 0)"
           },
           "textposition": "middle center",
           "type": "scatter",
           "x": [
            0.44463042352600357
           ],
           "y": [
            0.12997012760615267
           ]
          },
          {
           "hoverinfo": "none",
           "marker": {
            "color": "rgba(255, 255, 255, 0.0)",
            "line": {
             "color": "rgba(255, 255, 255, 0.0)",
             "width": 1
            },
            "size": 20,
            "symbol": "circle"
           },
           "mode": "markers+text",
           "text": [
            "('Los Angeles Lakers',)"
           ],
           "textfont": {
            "color": "rgb(0, 0, 0)"
           },
           "textposition": "middle center",
           "type": "scatter",
           "x": [
            0.7171745370422026
           ],
           "y": [
            0.021280857942984954
           ]
          },
          {
           "hoverinfo": "none",
           "marker": {
            "color": "rgba(255, 255, 255, 0.0)",
            "line": {
             "color": "rgba(255, 255, 255, 0.0)",
             "width": 1
            },
            "size": 20,
            "symbol": "circle"
           },
           "mode": "markers+text",
           "text": [
            "('Memphis Grizzlies',)"
           ],
           "textfont": {
            "color": "rgb(0, 0, 0)"
           },
           "textposition": "middle center",
           "type": "scatter",
           "x": [
            0.8522576784057927
           ],
           "y": [
            0.6770686116512314
           ]
          },
          {
           "hoverinfo": "none",
           "marker": {
            "color": "rgba(255, 255, 255, 0.0)",
            "line": {
             "color": "rgba(255, 255, 255, 0.0)",
             "width": 1
            },
            "size": 20,
            "symbol": "circle"
           },
           "mode": "markers+text",
           "text": [
            "('Miami Heat',)"
           ],
           "textfont": {
            "color": "rgb(0, 0, 0)"
           },
           "textposition": "middle center",
           "type": "scatter",
           "x": [
            0.7912324098618182
           ],
           "y": [
            0.3249702340823911
           ]
          },
          {
           "hoverinfo": "none",
           "marker": {
            "color": "rgba(255, 255, 255, 0.0)",
            "line": {
             "color": "rgba(255, 255, 255, 0.0)",
             "width": 1
            },
            "size": 20,
            "symbol": "circle"
           },
           "mode": "markers+text",
           "text": [
            "('Milwaukee Bucks',)"
           ],
           "textfont": {
            "color": "rgb(0, 0, 0)"
           },
           "textposition": "middle center",
           "type": "scatter",
           "x": [
            0.022149233130175694
           ],
           "y": [
            0.28129930457340424
           ]
          },
          {
           "hoverinfo": "none",
           "marker": {
            "color": "rgba(255, 255, 255, 0.0)",
            "line": {
             "color": "rgba(255, 255, 255, 0.0)",
             "width": 1
            },
            "size": 20,
            "symbol": "circle"
           },
           "mode": "markers+text",
           "text": [
            "('Minnesota Timberwolves',)"
           ],
           "textfont": {
            "color": "rgb(0, 0, 0)"
           },
           "textposition": "middle center",
           "type": "scatter",
           "x": [
            0.34040371754747856
           ],
           "y": [
            0.7622398768055848
           ]
          },
          {
           "hoverinfo": "none",
           "marker": {
            "color": "rgba(255, 255, 255, 0.0)",
            "line": {
             "color": "rgba(255, 255, 255, 0.0)",
             "width": 1
            },
            "size": 20,
            "symbol": "circle"
           },
           "mode": "markers+text",
           "text": [
            "('New Orleans Pelicans',)"
           ],
           "textfont": {
            "color": "rgb(0, 0, 0)"
           },
           "textposition": "middle center",
           "type": "scatter",
           "x": [
            0.5075596499031447
           ],
           "y": [
            0.7363701137329127
           ]
          },
          {
           "hoverinfo": "none",
           "marker": {
            "color": "rgba(255, 255, 255, 0.0)",
            "line": {
             "color": "rgba(255, 255, 255, 0.0)",
             "width": 1
            },
            "size": 20,
            "symbol": "circle"
           },
           "mode": "markers+text",
           "text": [
            "('New York Knicks',)"
           ],
           "textfont": {
            "color": "rgb(0, 0, 0)"
           },
           "textposition": "middle center",
           "type": "scatter",
           "x": [
            0.44064518764300165
           ],
           "y": [
            0.8521146325689313
           ]
          },
          {
           "hoverinfo": "none",
           "marker": {
            "color": "rgba(255, 255, 255, 0.0)",
            "line": {
             "color": "rgba(255, 255, 255, 0.0)",
             "width": 1
            },
            "size": 20,
            "symbol": "circle"
           },
           "mode": "markers+text",
           "text": [
            "('Oklahoma City Thunder',)"
           ],
           "textfont": {
            "color": "rgb(0, 0, 0)"
           },
           "textposition": "middle center",
           "type": "scatter",
           "x": [
            0.3362113339635353
           ],
           "y": [
            0.058929116339870524
           ]
          },
          {
           "hoverinfo": "none",
           "marker": {
            "color": "rgba(255, 255, 255, 0.0)",
            "line": {
             "color": "rgba(255, 255, 255, 0.0)",
             "width": 1
            },
            "size": 20,
            "symbol": "circle"
           },
           "mode": "markers+text",
           "text": [
            "('Orlando Magic',)"
           ],
           "textfont": {
            "color": "rgb(0, 0, 0)"
           },
           "textposition": "middle center",
           "type": "scatter",
           "x": [
            0.25024326171135636
           ],
           "y": [
            0.4778336329249716
           ]
          },
          {
           "hoverinfo": "none",
           "marker": {
            "color": "rgba(255, 255, 255, 0.0)",
            "line": {
             "color": "rgba(255, 255, 255, 0.0)",
             "width": 1
            },
            "size": 20,
            "symbol": "circle"
           },
           "mode": "markers+text",
           "text": [
            "('Philadelphia 76ers',)"
           ],
           "textfont": {
            "color": "rgb(0, 0, 0)"
           },
           "textposition": "middle center",
           "type": "scatter",
           "x": [
            0.8115951114896895
           ],
           "y": [
            0.3201207726924048
           ]
          },
          {
           "hoverinfo": "none",
           "marker": {
            "color": "rgba(255, 255, 255, 0.0)",
            "line": {
             "color": "rgba(255, 255, 255, 0.0)",
             "width": 1
            },
            "size": 20,
            "symbol": "circle"
           },
           "mode": "markers+text",
           "text": [
            "('Phoenix Suns',)"
           ],
           "textfont": {
            "color": "rgb(0, 0, 0)"
           },
           "textposition": "middle center",
           "type": "scatter",
           "x": [
            0.649690889787739
           ],
           "y": [
            0.5659242174531383
           ]
          },
          {
           "hoverinfo": "none",
           "marker": {
            "color": "rgba(255, 255, 255, 0.0)",
            "line": {
             "color": "rgba(255, 255, 255, 0.0)",
             "width": 1
            },
            "size": 20,
            "symbol": "circle"
           },
           "mode": "markers+text",
           "text": [
            "('Portland Trail Blazers',)"
           ],
           "textfont": {
            "color": "rgb(0, 0, 0)"
           },
           "textposition": "middle center",
           "type": "scatter",
           "x": [
            0.7173250868268514
           ],
           "y": [
            0.5720866543300545
           ]
          },
          {
           "hoverinfo": "none",
           "marker": {
            "color": "rgba(255, 255, 255, 0.0)",
            "line": {
             "color": "rgba(255, 255, 255, 0.0)",
             "width": 1
            },
            "size": 20,
            "symbol": "circle"
           },
           "mode": "markers+text",
           "text": [
            "('Sacramento Kings',)"
           ],
           "textfont": {
            "color": "rgb(0, 0, 0)"
           },
           "textposition": "middle center",
           "type": "scatter",
           "x": [
            0.10484003710461398
           ],
           "y": [
            0.29322047946298624
           ]
          },
          {
           "hoverinfo": "none",
           "marker": {
            "color": "rgba(255, 255, 255, 0.0)",
            "line": {
             "color": "rgba(255, 255, 255, 0.0)",
             "width": 1
            },
            "size": 20,
            "symbol": "circle"
           },
           "mode": "markers+text",
           "text": [
            "('San Antonio Spurs',)"
           ],
           "textfont": {
            "color": "rgb(0, 0, 0)"
           },
           "textposition": "middle center",
           "type": "scatter",
           "x": [
            0.42625991051510637
           ],
           "y": [
            0.5119061414782429
           ]
          },
          {
           "hoverinfo": "none",
           "marker": {
            "color": "rgba(255, 255, 255, 0.0)",
            "line": {
             "color": "rgba(255, 255, 255, 0.0)",
             "width": 1
            },
            "size": 20,
            "symbol": "circle"
           },
           "mode": "markers+text",
           "text": [
            "('Toronto Raptors',)"
           ],
           "textfont": {
            "color": "rgb(0, 0, 0)"
           },
           "textposition": "middle center",
           "type": "scatter",
           "x": [
            0.6583612242311504
           ],
           "y": [
            0.8444216260025493
           ]
          },
          {
           "hoverinfo": "none",
           "marker": {
            "color": "rgba(255, 255, 255, 0.0)",
            "line": {
             "color": "rgba(255, 255, 255, 0.0)",
             "width": 1
            },
            "size": 20,
            "symbol": "circle"
           },
           "mode": "markers+text",
           "text": [
            "('Utah Jazz',)"
           ],
           "textfont": {
            "color": "rgb(0, 0, 0)"
           },
           "textposition": "middle center",
           "type": "scatter",
           "x": [
            0.18494270970276527
           ],
           "y": [
            0.5595933363937293
           ]
          },
          {
           "hoverinfo": "none",
           "marker": {
            "color": "rgba(255, 255, 255, 0.0)",
            "line": {
             "color": "rgba(255, 255, 255, 0.0)",
             "width": 1
            },
            "size": 20,
            "symbol": "circle"
           },
           "mode": "markers+text",
           "text": [
            "('Washington Wizards',)"
           ],
           "textfont": {
            "color": "rgb(0, 0, 0)"
           },
           "textposition": "middle center",
           "type": "scatter",
           "x": [
            0.2963878979870257
           ],
           "y": [
            0.2603674450834452
           ]
          },
          {
           "hoverinfo": "none",
           "mode": "text",
           "text": [
            null,
            null,
            null,
            null,
            null
           ],
           "textfont": {
            "color": "rgb(0, 0, 0)"
           },
           "textposition": "middle center",
           "type": "scatter",
           "x": [
            0.4035687177015097,
            0.5009002973231517,
            0.746577450564162,
            0.6509607082562732,
            0.47918741614984506
           ],
           "y": [
            0.20115011900907545,
            0.41634507515397107,
            0.38619931508828453,
            0.5072425659868954,
            0.3894233910683443
           ]
          },
          {
           "hoverinfo": "none",
           "marker": {
            "color": "rgba(255, 255, 255, 0.0)",
            "line": {
             "color": "rgba(255, 255, 255, 0.0)",
             "width": 0
            },
            "size": 0,
            "symbol": "circle"
           },
           "mode": "markers",
           "type": "scatter",
           "x": [
            0.5,
            0,
            1,
            0.5
           ],
           "y": [
            0,
            0.5,
            0.5,
            1
           ]
          }
         ],
         "name": "0"
        },
        {
         "data": [
          {
           "hoverinfo": "none",
           "line": {
            "color": "rgb(0, 0, 0)",
            "dash": "solid",
            "width": 1
           },
           "mode": "lines",
           "type": "scatter",
           "x": [
            0.2532939342588636,
            0.5623606305455091,
            null,
            0.5486384307968404,
            0.5342706207454423,
            null,
            0.5486384307968404,
            0.5367876045862916,
            null
           ],
           "y": [
            0.08847434460809245,
            0.26369124235980423,
            null,
            0.255911817079828,
            0.2558877494650732,
            null,
            0.255911817079828,
            0.24107194702580795,
            null
           ]
          },
          {
           "hoverinfo": "none",
           "line": {
            "color": "rgb(0, 0, 0)",
            "dash": "solid",
            "width": 1
           },
           "mode": "lines",
           "type": "scatter",
           "x": [
            0.7171745370422026,
            0.3058768349238462,
            null,
            0.31554819755166974,
            0.32164758611697264,
            null,
            0.31554819755166974,
            0.3279276202222179,
            null
           ],
           "y": [
            0.021280857942984954,
            0.8467440345642494,
            null,
            0.8273338757525134,
            0.8035695776214091,
            null,
            0.8273338757525134,
            0.8140117079384691,
            null
           ]
          },
          {
           "hoverinfo": "none",
           "line": {
            "color": "rgb(0, 0, 0)",
            "dash": "solid",
            "width": 1
           },
           "mode": "lines",
           "type": "scatter",
           "x": [
            0.8115951114896895,
            0.7001164210140165,
            null,
            0.7110866989162284,
            0.7188250759225643,
            null,
            0.7110866989162284,
            0.7243089354615554,
            null
           ],
           "y": [
            0.3201207726924048,
            0.492358242890671,
            null,
            0.47540887879977095,
            0.4532942509270604,
            null,
            0.47540887879977095,
            0.46513881470545737,
            null
           ]
          },
          {
           "hoverinfo": "none",
           "line": {
            "color": "rgb(0, 0, 0)",
            "dash": "solid",
            "width": 1
           },
           "mode": "lines",
           "type": "scatter",
           "x": [
            0.8115951114896895,
            0.5075596499031447,
            null,
            0.5190569145913858,
            0.5274942702529535,
            null,
            0.5190569145913858,
            0.5325870718934423,
            null
           ],
           "y": [
            0.3201207726924048,
            0.7363701137329127,
            null,
            0.7206294207713899,
            0.6993849878028843,
            null,
            0.7206294207713899,
            0.7117985370393649,
            null
           ]
          },
          {
           "hoverinfo": "none",
           "line": {
            "color": "rgb(0, 0, 0)",
            "dash": "solid",
            "width": 1
           },
           "mode": "lines",
           "type": "scatter",
           "x": [
            0.649690889787739,
            0.2963878979870257,
            null,
            0.30937388895854867,
            0.32359674479066175,
            null,
            0.30937388895854867,
            0.31996301517153874,
            null
           ],
           "y": [
            0.5659242174531383,
            0.2603674450834452,
            null,
            0.2715984778778653,
            0.27531743288654137,
            null,
            0.2715984778778653,
            0.28933835374734085,
            null
           ]
          },
          {
           "hoverinfo": "none",
           "marker": {
            "color": "rgb(255, 0, 0)",
            "line": {
             "color": "rgb(0, 0, 0)",
             "width": 1
            },
            "size": 20,
            "symbol": "circle"
           },
           "mode": "markers+text",
           "text": [
            "('Atlanta Hawks',)"
           ],
           "textfont": {
            "color": "rgb(0, 0, 0)"
           },
           "textposition": "middle center",
           "type": "scatter",
           "x": [
            0.2532939342588636
           ],
           "y": [
            0.08847434460809245
           ]
          },
          {
           "hoverinfo": "none",
           "marker": {
            "color": "rgb(255, 0, 0)",
            "line": {
             "color": "rgb(0, 0, 0)",
             "width": 1
            },
            "size": 20,
            "symbol": "circle"
           },
           "mode": "markers+text",
           "text": [
            "('Boston Celtics',)"
           ],
           "textfont": {
            "color": "rgb(0, 0, 0)"
           },
           "textposition": "middle center",
           "type": "scatter",
           "x": [
            0.137457944258097
           ],
           "y": [
            0.7666806523595047
           ]
          },
          {
           "hoverinfo": "none",
           "marker": {
            "color": "rgb(255, 0, 0)",
            "line": {
             "color": "rgb(0, 0, 0)",
             "width": 1
            },
            "size": 20,
            "symbol": "circle"
           },
           "mode": "markers+text",
           "text": [
            "('Brooklyn Nets',)"
           ],
           "textfont": {
            "color": "rgb(0, 0, 0)"
           },
           "textposition": "middle center",
           "type": "scatter",
           "x": [
            0.9177331233421402
           ],
           "y": [
            0.11860634717275043
           ]
          },
          {
           "hoverinfo": "none",
           "marker": {
            "color": "rgb(255, 0, 0)",
            "line": {
             "color": "rgb(0, 0, 0)",
             "width": 1
            },
            "size": 20,
            "symbol": "circle"
           },
           "mode": "markers+text",
           "text": [
            "('Charlotte Hornets',)"
           ],
           "textfont": {
            "color": "rgb(0, 0, 0)"
           },
           "textposition": "middle center",
           "type": "scatter",
           "x": [
            0.9797720758249455
           ],
           "y": [
            0.1637604513484422
           ]
          },
          {
           "hoverinfo": "none",
           "marker": {
            "color": "rgb(255, 0, 0)",
            "line": {
             "color": "rgb(0, 0, 0)",
             "width": 1
            },
            "size": 20,
            "symbol": "circle"
           },
           "mode": "markers+text",
           "text": [
            "('Chicago Bulls',)"
           ],
           "textfont": {
            "color": "rgb(0, 0, 0)"
           },
           "textposition": "middle center",
           "type": "scatter",
           "x": [
            0.5623606305455091
           ],
           "y": [
            0.26369124235980423
           ]
          },
          {
           "hoverinfo": "none",
           "marker": {
            "color": "rgb(255, 0, 0)",
            "line": {
             "color": "rgb(0, 0, 0)",
             "width": 1
            },
            "size": 20,
            "symbol": "circle"
           },
           "mode": "markers+text",
           "text": [
            "('Cleveland Cavaliers',)"
           ],
           "textfont": {
            "color": "rgb(0, 0, 0)"
           },
           "textposition": "middle center",
           "type": "scatter",
           "x": [
            0.7001164210140165
           ],
           "y": [
            0.492358242890671
           ]
          },
          {
           "hoverinfo": "none",
           "marker": {
            "color": "rgb(255, 0, 0)",
            "line": {
             "color": "rgb(0, 0, 0)",
             "width": 1
            },
            "size": 20,
            "symbol": "circle"
           },
           "mode": "markers+text",
           "text": [
            "('Dallas Mavericks',)"
           ],
           "textfont": {
            "color": "rgb(0, 0, 0)"
           },
           "textposition": "middle center",
           "type": "scatter",
           "x": [
            0.015232819833666311
           ],
           "y": [
            0.3865539284857177
           ]
          },
          {
           "hoverinfo": "none",
           "marker": {
            "color": "rgb(255, 0, 0)",
            "line": {
             "color": "rgb(0, 0, 0)",
             "width": 1
            },
            "size": 20,
            "symbol": "circle"
           },
           "mode": "markers+text",
           "text": [
            "('Denver Nuggets',)"
           ],
           "textfont": {
            "color": "rgb(0, 0, 0)"
           },
           "textposition": "middle center",
           "type": "scatter",
           "x": [
            0.9434920563953874
           ],
           "y": [
            0.9066838001844677
           ]
          },
          {
           "hoverinfo": "none",
           "marker": {
            "color": "rgb(255, 0, 0)",
            "line": {
             "color": "rgb(0, 0, 0)",
             "width": 1
            },
            "size": 20,
            "symbol": "circle"
           },
           "mode": "markers+text",
           "text": [
            "('Detroit Pistons',)"
           ],
           "textfont": {
            "color": "rgb(0, 0, 0)"
           },
           "textposition": "middle center",
           "type": "scatter",
           "x": [
            0.8338442979145716
           ],
           "y": [
            0.6619314162517527
           ]
          },
          {
           "hoverinfo": "none",
           "marker": {
            "color": "rgb(255, 0, 0)",
            "line": {
             "color": "rgb(0, 0, 0)",
             "width": 1
            },
            "size": 20,
            "symbol": "circle"
           },
           "mode": "markers+text",
           "text": [
            "('Golden State Warriors',)"
           ],
           "textfont": {
            "color": "rgb(0, 0, 0)"
           },
           "textposition": "middle center",
           "type": "scatter",
           "x": [
            0.3058768349238462
           ],
           "y": [
            0.8467440345642494
           ]
          },
          {
           "hoverinfo": "none",
           "marker": {
            "color": "rgb(255, 0, 0)",
            "line": {
             "color": "rgb(0, 0, 0)",
             "width": 1
            },
            "size": 20,
            "symbol": "circle"
           },
           "mode": "markers+text",
           "text": [
            "('Houston Rockets',)"
           ],
           "textfont": {
            "color": "rgb(0, 0, 0)"
           },
           "textposition": "middle center",
           "type": "scatter",
           "x": [
            0.3233963550258525
           ],
           "y": [
            0.5850220642076611
           ]
          },
          {
           "hoverinfo": "none",
           "marker": {
            "color": "rgb(255, 0, 0)",
            "line": {
             "color": "rgb(0, 0, 0)",
             "width": 1
            },
            "size": 20,
            "symbol": "circle"
           },
           "mode": "markers+text",
           "text": [
            "('Indiana Pacers',)"
           ],
           "textfont": {
            "color": "rgb(0, 0, 0)"
           },
           "textposition": "middle center",
           "type": "scatter",
           "x": [
            0.5131061803980489
           ],
           "y": [
            0.7391021178690709
           ]
          },
          {
           "hoverinfo": "none",
           "marker": {
            "color": "rgb(255, 0, 0)",
            "line": {
             "color": "rgb(0, 0, 0)",
             "width": 1
            },
            "size": 20,
            "symbol": "circle"
           },
           "mode": "markers+text",
           "text": [
            "('LA Clippers',)"
           ],
           "textfont": {
            "color": "rgb(0, 0, 0)"
           },
           "textposition": "middle center",
           "type": "scatter",
           "x": [
            0.44463042352600357
           ],
           "y": [
            0.12997012760615267
           ]
          },
          {
           "hoverinfo": "none",
           "marker": {
            "color": "rgb(255, 0, 0)",
            "line": {
             "color": "rgb(0, 0, 0)",
             "width": 1
            },
            "size": 20,
            "symbol": "circle"
           },
           "mode": "markers+text",
           "text": [
            "('Los Angeles Lakers',)"
           ],
           "textfont": {
            "color": "rgb(0, 0, 0)"
           },
           "textposition": "middle center",
           "type": "scatter",
           "x": [
            0.7171745370422026
           ],
           "y": [
            0.021280857942984954
           ]
          },
          {
           "hoverinfo": "none",
           "marker": {
            "color": "rgb(255, 0, 0)",
            "line": {
             "color": "rgb(0, 0, 0)",
             "width": 1
            },
            "size": 20,
            "symbol": "circle"
           },
           "mode": "markers+text",
           "text": [
            "('Memphis Grizzlies',)"
           ],
           "textfont": {
            "color": "rgb(0, 0, 0)"
           },
           "textposition": "middle center",
           "type": "scatter",
           "x": [
            0.8522576784057927
           ],
           "y": [
            0.6770686116512314
           ]
          },
          {
           "hoverinfo": "none",
           "marker": {
            "color": "rgb(255, 0, 0)",
            "line": {
             "color": "rgb(0, 0, 0)",
             "width": 1
            },
            "size": 20,
            "symbol": "circle"
           },
           "mode": "markers+text",
           "text": [
            "('Miami Heat',)"
           ],
           "textfont": {
            "color": "rgb(0, 0, 0)"
           },
           "textposition": "middle center",
           "type": "scatter",
           "x": [
            0.7912324098618182
           ],
           "y": [
            0.3249702340823911
           ]
          },
          {
           "hoverinfo": "none",
           "marker": {
            "color": "rgb(255, 0, 0)",
            "line": {
             "color": "rgb(0, 0, 0)",
             "width": 1
            },
            "size": 20,
            "symbol": "circle"
           },
           "mode": "markers+text",
           "text": [
            "('Milwaukee Bucks',)"
           ],
           "textfont": {
            "color": "rgb(0, 0, 0)"
           },
           "textposition": "middle center",
           "type": "scatter",
           "x": [
            0.022149233130175694
           ],
           "y": [
            0.28129930457340424
           ]
          },
          {
           "hoverinfo": "none",
           "marker": {
            "color": "rgb(255, 0, 0)",
            "line": {
             "color": "rgb(0, 0, 0)",
             "width": 1
            },
            "size": 20,
            "symbol": "circle"
           },
           "mode": "markers+text",
           "text": [
            "('Minnesota Timberwolves',)"
           ],
           "textfont": {
            "color": "rgb(0, 0, 0)"
           },
           "textposition": "middle center",
           "type": "scatter",
           "x": [
            0.34040371754747856
           ],
           "y": [
            0.7622398768055848
           ]
          },
          {
           "hoverinfo": "none",
           "marker": {
            "color": "rgb(255, 0, 0)",
            "line": {
             "color": "rgb(0, 0, 0)",
             "width": 1
            },
            "size": 20,
            "symbol": "circle"
           },
           "mode": "markers+text",
           "text": [
            "('New Orleans Pelicans',)"
           ],
           "textfont": {
            "color": "rgb(0, 0, 0)"
           },
           "textposition": "middle center",
           "type": "scatter",
           "x": [
            0.5075596499031447
           ],
           "y": [
            0.7363701137329127
           ]
          },
          {
           "hoverinfo": "none",
           "marker": {
            "color": "rgb(255, 0, 0)",
            "line": {
             "color": "rgb(0, 0, 0)",
             "width": 1
            },
            "size": 20,
            "symbol": "circle"
           },
           "mode": "markers+text",
           "text": [
            "('New York Knicks',)"
           ],
           "textfont": {
            "color": "rgb(0, 0, 0)"
           },
           "textposition": "middle center",
           "type": "scatter",
           "x": [
            0.44064518764300165
           ],
           "y": [
            0.8521146325689313
           ]
          },
          {
           "hoverinfo": "none",
           "marker": {
            "color": "rgb(255, 0, 0)",
            "line": {
             "color": "rgb(0, 0, 0)",
             "width": 1
            },
            "size": 20,
            "symbol": "circle"
           },
           "mode": "markers+text",
           "text": [
            "('Oklahoma City Thunder',)"
           ],
           "textfont": {
            "color": "rgb(0, 0, 0)"
           },
           "textposition": "middle center",
           "type": "scatter",
           "x": [
            0.3362113339635353
           ],
           "y": [
            0.058929116339870524
           ]
          },
          {
           "hoverinfo": "none",
           "marker": {
            "color": "rgb(255, 0, 0)",
            "line": {
             "color": "rgb(0, 0, 0)",
             "width": 1
            },
            "size": 20,
            "symbol": "circle"
           },
           "mode": "markers+text",
           "text": [
            "('Orlando Magic',)"
           ],
           "textfont": {
            "color": "rgb(0, 0, 0)"
           },
           "textposition": "middle center",
           "type": "scatter",
           "x": [
            0.25024326171135636
           ],
           "y": [
            0.4778336329249716
           ]
          },
          {
           "hoverinfo": "none",
           "marker": {
            "color": "rgb(255, 0, 0)",
            "line": {
             "color": "rgb(0, 0, 0)",
             "width": 1
            },
            "size": 20,
            "symbol": "circle"
           },
           "mode": "markers+text",
           "text": [
            "('Philadelphia 76ers',)"
           ],
           "textfont": {
            "color": "rgb(0, 0, 0)"
           },
           "textposition": "middle center",
           "type": "scatter",
           "x": [
            0.8115951114896895
           ],
           "y": [
            0.3201207726924048
           ]
          },
          {
           "hoverinfo": "none",
           "marker": {
            "color": "rgb(255, 0, 0)",
            "line": {
             "color": "rgb(0, 0, 0)",
             "width": 1
            },
            "size": 20,
            "symbol": "circle"
           },
           "mode": "markers+text",
           "text": [
            "('Phoenix Suns',)"
           ],
           "textfont": {
            "color": "rgb(0, 0, 0)"
           },
           "textposition": "middle center",
           "type": "scatter",
           "x": [
            0.649690889787739
           ],
           "y": [
            0.5659242174531383
           ]
          },
          {
           "hoverinfo": "none",
           "marker": {
            "color": "rgb(255, 0, 0)",
            "line": {
             "color": "rgb(0, 0, 0)",
             "width": 1
            },
            "size": 20,
            "symbol": "circle"
           },
           "mode": "markers+text",
           "text": [
            "('Portland Trail Blazers',)"
           ],
           "textfont": {
            "color": "rgb(0, 0, 0)"
           },
           "textposition": "middle center",
           "type": "scatter",
           "x": [
            0.7173250868268514
           ],
           "y": [
            0.5720866543300545
           ]
          },
          {
           "hoverinfo": "none",
           "marker": {
            "color": "rgb(255, 0, 0)",
            "line": {
             "color": "rgb(0, 0, 0)",
             "width": 1
            },
            "size": 20,
            "symbol": "circle"
           },
           "mode": "markers+text",
           "text": [
            "('Sacramento Kings',)"
           ],
           "textfont": {
            "color": "rgb(0, 0, 0)"
           },
           "textposition": "middle center",
           "type": "scatter",
           "x": [
            0.10484003710461398
           ],
           "y": [
            0.29322047946298624
           ]
          },
          {
           "hoverinfo": "none",
           "marker": {
            "color": "rgb(255, 0, 0)",
            "line": {
             "color": "rgb(0, 0, 0)",
             "width": 1
            },
            "size": 20,
            "symbol": "circle"
           },
           "mode": "markers+text",
           "text": [
            "('San Antonio Spurs',)"
           ],
           "textfont": {
            "color": "rgb(0, 0, 0)"
           },
           "textposition": "middle center",
           "type": "scatter",
           "x": [
            0.42625991051510637
           ],
           "y": [
            0.5119061414782429
           ]
          },
          {
           "hoverinfo": "none",
           "marker": {
            "color": "rgb(255, 0, 0)",
            "line": {
             "color": "rgb(0, 0, 0)",
             "width": 1
            },
            "size": 20,
            "symbol": "circle"
           },
           "mode": "markers+text",
           "text": [
            "('Toronto Raptors',)"
           ],
           "textfont": {
            "color": "rgb(0, 0, 0)"
           },
           "textposition": "middle center",
           "type": "scatter",
           "x": [
            0.6583612242311504
           ],
           "y": [
            0.8444216260025493
           ]
          },
          {
           "hoverinfo": "none",
           "marker": {
            "color": "rgb(255, 0, 0)",
            "line": {
             "color": "rgb(0, 0, 0)",
             "width": 1
            },
            "size": 20,
            "symbol": "circle"
           },
           "mode": "markers+text",
           "text": [
            "('Utah Jazz',)"
           ],
           "textfont": {
            "color": "rgb(0, 0, 0)"
           },
           "textposition": "middle center",
           "type": "scatter",
           "x": [
            0.18494270970276527
           ],
           "y": [
            0.5595933363937293
           ]
          },
          {
           "hoverinfo": "none",
           "marker": {
            "color": "rgb(255, 0, 0)",
            "line": {
             "color": "rgb(0, 0, 0)",
             "width": 1
            },
            "size": 20,
            "symbol": "circle"
           },
           "mode": "markers+text",
           "text": [
            "('Washington Wizards',)"
           ],
           "textfont": {
            "color": "rgb(0, 0, 0)"
           },
           "textposition": "middle center",
           "type": "scatter",
           "x": [
            0.2963878979870257
           ],
           "y": [
            0.2603674450834452
           ]
          },
          {
           "hoverinfo": "none",
           "mode": "text",
           "text": [
            null,
            null,
            null,
            null,
            null
           ],
           "textfont": {
            "color": "rgb(0, 0, 0)"
           },
           "textposition": "middle center",
           "type": "scatter",
           "x": [
            0.4035687177015097,
            0.5009002973231517,
            0.746577450564162,
            0.6509607082562732,
            0.47918741614984506
           ],
           "y": [
            0.20115011900907545,
            0.41634507515397107,
            0.38619931508828453,
            0.5072425659868954,
            0.3894233910683443
           ]
          },
          {
           "hoverinfo": "none",
           "marker": {
            "color": "rgba(255, 255, 255, 0.0)",
            "line": {
             "color": "rgba(255, 255, 255, 0.0)",
             "width": 0
            },
            "size": 0,
            "symbol": "circle"
           },
           "mode": "markers",
           "type": "scatter",
           "x": [
            0.5,
            0,
            1,
            0.5
           ],
           "y": [
            0,
            0.5,
            0.5,
            1
           ]
          }
         ],
         "name": "1"
        }
       ],
       "layout": {
        "height": 526,
        "margin": {
         "b": 0,
         "l": 0,
         "r": 0,
         "t": 0
        },
        "showlegend": false,
        "sliders": [
         {
          "currentvalue": {
           "visible": false
          },
          "steps": [
           {
            "args": [
             [
              0
             ],
             {
              "frame": {
               "redraw": false
              },
              "mode": "immediate"
             }
            ],
            "label": "",
            "method": "animate"
           },
           {
            "args": [
             [
              1
             ],
             {
              "frame": {
               "redraw": false
              },
              "mode": "immediate"
             }
            ],
            "label": "",
            "method": "animate"
           }
          ]
         }
        ],
        "template": {
         "data": {
          "bar": [
           {
            "error_x": {
             "color": "#2a3f5f"
            },
            "error_y": {
             "color": "#2a3f5f"
            },
            "marker": {
             "line": {
              "color": "#E5ECF6",
              "width": 0.5
             }
            },
            "type": "bar"
           }
          ],
          "barpolar": [
           {
            "marker": {
             "line": {
              "color": "#E5ECF6",
              "width": 0.5
             }
            },
            "type": "barpolar"
           }
          ],
          "carpet": [
           {
            "aaxis": {
             "endlinecolor": "#2a3f5f",
             "gridcolor": "white",
             "linecolor": "white",
             "minorgridcolor": "white",
             "startlinecolor": "#2a3f5f"
            },
            "baxis": {
             "endlinecolor": "#2a3f5f",
             "gridcolor": "white",
             "linecolor": "white",
             "minorgridcolor": "white",
             "startlinecolor": "#2a3f5f"
            },
            "type": "carpet"
           }
          ],
          "choropleth": [
           {
            "colorbar": {
             "outlinewidth": 0,
             "ticks": ""
            },
            "type": "choropleth"
           }
          ],
          "contour": [
           {
            "colorbar": {
             "outlinewidth": 0,
             "ticks": ""
            },
            "colorscale": [
             [
              0,
              "#0d0887"
             ],
             [
              0.1111111111111111,
              "#46039f"
             ],
             [
              0.2222222222222222,
              "#7201a8"
             ],
             [
              0.3333333333333333,
              "#9c179e"
             ],
             [
              0.4444444444444444,
              "#bd3786"
             ],
             [
              0.5555555555555556,
              "#d8576b"
             ],
             [
              0.6666666666666666,
              "#ed7953"
             ],
             [
              0.7777777777777778,
              "#fb9f3a"
             ],
             [
              0.8888888888888888,
              "#fdca26"
             ],
             [
              1,
              "#f0f921"
             ]
            ],
            "type": "contour"
           }
          ],
          "contourcarpet": [
           {
            "colorbar": {
             "outlinewidth": 0,
             "ticks": ""
            },
            "type": "contourcarpet"
           }
          ],
          "heatmap": [
           {
            "colorbar": {
             "outlinewidth": 0,
             "ticks": ""
            },
            "colorscale": [
             [
              0,
              "#0d0887"
             ],
             [
              0.1111111111111111,
              "#46039f"
             ],
             [
              0.2222222222222222,
              "#7201a8"
             ],
             [
              0.3333333333333333,
              "#9c179e"
             ],
             [
              0.4444444444444444,
              "#bd3786"
             ],
             [
              0.5555555555555556,
              "#d8576b"
             ],
             [
              0.6666666666666666,
              "#ed7953"
             ],
             [
              0.7777777777777778,
              "#fb9f3a"
             ],
             [
              0.8888888888888888,
              "#fdca26"
             ],
             [
              1,
              "#f0f921"
             ]
            ],
            "type": "heatmap"
           }
          ],
          "heatmapgl": [
           {
            "colorbar": {
             "outlinewidth": 0,
             "ticks": ""
            },
            "colorscale": [
             [
              0,
              "#0d0887"
             ],
             [
              0.1111111111111111,
              "#46039f"
             ],
             [
              0.2222222222222222,
              "#7201a8"
             ],
             [
              0.3333333333333333,
              "#9c179e"
             ],
             [
              0.4444444444444444,
              "#bd3786"
             ],
             [
              0.5555555555555556,
              "#d8576b"
             ],
             [
              0.6666666666666666,
              "#ed7953"
             ],
             [
              0.7777777777777778,
              "#fb9f3a"
             ],
             [
              0.8888888888888888,
              "#fdca26"
             ],
             [
              1,
              "#f0f921"
             ]
            ],
            "type": "heatmapgl"
           }
          ],
          "histogram": [
           {
            "marker": {
             "colorbar": {
              "outlinewidth": 0,
              "ticks": ""
             }
            },
            "type": "histogram"
           }
          ],
          "histogram2d": [
           {
            "colorbar": {
             "outlinewidth": 0,
             "ticks": ""
            },
            "colorscale": [
             [
              0,
              "#0d0887"
             ],
             [
              0.1111111111111111,
              "#46039f"
             ],
             [
              0.2222222222222222,
              "#7201a8"
             ],
             [
              0.3333333333333333,
              "#9c179e"
             ],
             [
              0.4444444444444444,
              "#bd3786"
             ],
             [
              0.5555555555555556,
              "#d8576b"
             ],
             [
              0.6666666666666666,
              "#ed7953"
             ],
             [
              0.7777777777777778,
              "#fb9f3a"
             ],
             [
              0.8888888888888888,
              "#fdca26"
             ],
             [
              1,
              "#f0f921"
             ]
            ],
            "type": "histogram2d"
           }
          ],
          "histogram2dcontour": [
           {
            "colorbar": {
             "outlinewidth": 0,
             "ticks": ""
            },
            "colorscale": [
             [
              0,
              "#0d0887"
             ],
             [
              0.1111111111111111,
              "#46039f"
             ],
             [
              0.2222222222222222,
              "#7201a8"
             ],
             [
              0.3333333333333333,
              "#9c179e"
             ],
             [
              0.4444444444444444,
              "#bd3786"
             ],
             [
              0.5555555555555556,
              "#d8576b"
             ],
             [
              0.6666666666666666,
              "#ed7953"
             ],
             [
              0.7777777777777778,
              "#fb9f3a"
             ],
             [
              0.8888888888888888,
              "#fdca26"
             ],
             [
              1,
              "#f0f921"
             ]
            ],
            "type": "histogram2dcontour"
           }
          ],
          "mesh3d": [
           {
            "colorbar": {
             "outlinewidth": 0,
             "ticks": ""
            },
            "type": "mesh3d"
           }
          ],
          "parcoords": [
           {
            "line": {
             "colorbar": {
              "outlinewidth": 0,
              "ticks": ""
             }
            },
            "type": "parcoords"
           }
          ],
          "scatter": [
           {
            "marker": {
             "colorbar": {
              "outlinewidth": 0,
              "ticks": ""
             }
            },
            "type": "scatter"
           }
          ],
          "scatter3d": [
           {
            "line": {
             "colorbar": {
              "outlinewidth": 0,
              "ticks": ""
             }
            },
            "marker": {
             "colorbar": {
              "outlinewidth": 0,
              "ticks": ""
             }
            },
            "type": "scatter3d"
           }
          ],
          "scattercarpet": [
           {
            "marker": {
             "colorbar": {
              "outlinewidth": 0,
              "ticks": ""
             }
            },
            "type": "scattercarpet"
           }
          ],
          "scattergeo": [
           {
            "marker": {
             "colorbar": {
              "outlinewidth": 0,
              "ticks": ""
             }
            },
            "type": "scattergeo"
           }
          ],
          "scattergl": [
           {
            "marker": {
             "colorbar": {
              "outlinewidth": 0,
              "ticks": ""
             }
            },
            "type": "scattergl"
           }
          ],
          "scattermapbox": [
           {
            "marker": {
             "colorbar": {
              "outlinewidth": 0,
              "ticks": ""
             }
            },
            "type": "scattermapbox"
           }
          ],
          "scatterpolar": [
           {
            "marker": {
             "colorbar": {
              "outlinewidth": 0,
              "ticks": ""
             }
            },
            "type": "scatterpolar"
           }
          ],
          "scatterpolargl": [
           {
            "marker": {
             "colorbar": {
              "outlinewidth": 0,
              "ticks": ""
             }
            },
            "type": "scatterpolargl"
           }
          ],
          "scatterternary": [
           {
            "marker": {
             "colorbar": {
              "outlinewidth": 0,
              "ticks": ""
             }
            },
            "type": "scatterternary"
           }
          ],
          "surface": [
           {
            "colorbar": {
             "outlinewidth": 0,
             "ticks": ""
            },
            "colorscale": [
             [
              0,
              "#0d0887"
             ],
             [
              0.1111111111111111,
              "#46039f"
             ],
             [
              0.2222222222222222,
              "#7201a8"
             ],
             [
              0.3333333333333333,
              "#9c179e"
             ],
             [
              0.4444444444444444,
              "#bd3786"
             ],
             [
              0.5555555555555556,
              "#d8576b"
             ],
             [
              0.6666666666666666,
              "#ed7953"
             ],
             [
              0.7777777777777778,
              "#fb9f3a"
             ],
             [
              0.8888888888888888,
              "#fdca26"
             ],
             [
              1,
              "#f0f921"
             ]
            ],
            "type": "surface"
           }
          ],
          "table": [
           {
            "cells": {
             "fill": {
              "color": "#EBF0F8"
             },
             "line": {
              "color": "white"
             }
            },
            "header": {
             "fill": {
              "color": "#C8D4E3"
             },
             "line": {
              "color": "white"
             }
            },
            "type": "table"
           }
          ]
         },
         "layout": {
          "annotationdefaults": {
           "arrowcolor": "#2a3f5f",
           "arrowhead": 0,
           "arrowwidth": 1
          },
          "colorscale": {
           "diverging": [
            [
             0,
             "#8e0152"
            ],
            [
             0.1,
             "#c51b7d"
            ],
            [
             0.2,
             "#de77ae"
            ],
            [
             0.3,
             "#f1b6da"
            ],
            [
             0.4,
             "#fde0ef"
            ],
            [
             0.5,
             "#f7f7f7"
            ],
            [
             0.6,
             "#e6f5d0"
            ],
            [
             0.7,
             "#b8e186"
            ],
            [
             0.8,
             "#7fbc41"
            ],
            [
             0.9,
             "#4d9221"
            ],
            [
             1,
             "#276419"
            ]
           ],
           "sequential": [
            [
             0,
             "#0d0887"
            ],
            [
             0.1111111111111111,
             "#46039f"
            ],
            [
             0.2222222222222222,
             "#7201a8"
            ],
            [
             0.3333333333333333,
             "#9c179e"
            ],
            [
             0.4444444444444444,
             "#bd3786"
            ],
            [
             0.5555555555555556,
             "#d8576b"
            ],
            [
             0.6666666666666666,
             "#ed7953"
            ],
            [
             0.7777777777777778,
             "#fb9f3a"
            ],
            [
             0.8888888888888888,
             "#fdca26"
            ],
            [
             1,
             "#f0f921"
            ]
           ],
           "sequentialminus": [
            [
             0,
             "#0d0887"
            ],
            [
             0.1111111111111111,
             "#46039f"
            ],
            [
             0.2222222222222222,
             "#7201a8"
            ],
            [
             0.3333333333333333,
             "#9c179e"
            ],
            [
             0.4444444444444444,
             "#bd3786"
            ],
            [
             0.5555555555555556,
             "#d8576b"
            ],
            [
             0.6666666666666666,
             "#ed7953"
            ],
            [
             0.7777777777777778,
             "#fb9f3a"
            ],
            [
             0.8888888888888888,
             "#fdca26"
            ],
            [
             1,
             "#f0f921"
            ]
           ]
          },
          "colorway": [
           "#636efa",
           "#EF553B",
           "#00cc96",
           "#ab63fa",
           "#FFA15A",
           "#19d3f3",
           "#FF6692",
           "#B6E880",
           "#FF97FF",
           "#FECB52"
          ],
          "font": {
           "color": "#2a3f5f"
          },
          "geo": {
           "bgcolor": "white",
           "lakecolor": "white",
           "landcolor": "#E5ECF6",
           "showlakes": true,
           "showland": true,
           "subunitcolor": "white"
          },
          "hoverlabel": {
           "align": "left"
          },
          "hovermode": "closest",
          "mapbox": {
           "style": "light"
          },
          "paper_bgcolor": "white",
          "plot_bgcolor": "#E5ECF6",
          "polar": {
           "angularaxis": {
            "gridcolor": "white",
            "linecolor": "white",
            "ticks": ""
           },
           "bgcolor": "#E5ECF6",
           "radialaxis": {
            "gridcolor": "white",
            "linecolor": "white",
            "ticks": ""
           }
          },
          "scene": {
           "xaxis": {
            "backgroundcolor": "#E5ECF6",
            "gridcolor": "white",
            "gridwidth": 2,
            "linecolor": "white",
            "showbackground": true,
            "ticks": "",
            "zerolinecolor": "white"
           },
           "yaxis": {
            "backgroundcolor": "#E5ECF6",
            "gridcolor": "white",
            "gridwidth": 2,
            "linecolor": "white",
            "showbackground": true,
            "ticks": "",
            "zerolinecolor": "white"
           },
           "zaxis": {
            "backgroundcolor": "#E5ECF6",
            "gridcolor": "white",
            "gridwidth": 2,
            "linecolor": "white",
            "showbackground": true,
            "ticks": "",
            "zerolinecolor": "white"
           }
          },
          "shapedefaults": {
           "line": {
            "color": "#2a3f5f"
           }
          },
          "ternary": {
           "aaxis": {
            "gridcolor": "white",
            "linecolor": "white",
            "ticks": ""
           },
           "baxis": {
            "gridcolor": "white",
            "linecolor": "white",
            "ticks": ""
           },
           "bgcolor": "#E5ECF6",
           "caxis": {
            "gridcolor": "white",
            "linecolor": "white",
            "ticks": ""
           }
          },
          "title": {
           "x": 0.05
          },
          "xaxis": {
           "automargin": true,
           "gridcolor": "white",
           "linecolor": "white",
           "ticks": "",
           "zerolinecolor": "white",
           "zerolinewidth": 2
          },
          "yaxis": {
           "automargin": true,
           "gridcolor": "white",
           "linecolor": "white",
           "ticks": "",
           "zerolinecolor": "white",
           "zerolinewidth": 2
          }
         }
        },
        "updatemenus": [
         {
          "buttons": [
           {
            "args": [
             null,
             {
              "frame": {
               "redraw": false
              },
              "fromcurrent": true
             }
            ],
            "label": "Play",
            "method": "animate"
           },
           {
            "args": [
             [
              null
             ],
             {
              "frame": {
               "redraw": false
              },
              "mode": "immediate"
             }
            ],
            "label": "Pause",
            "method": "animate"
           }
          ],
          "showactive": true,
          "type": "buttons"
         }
        ],
        "width": 912,
        "xaxis": {
         "showgrid": false,
         "showticklabels": false,
         "zeroline": false
        },
        "yaxis": {
         "showgrid": false,
         "showticklabels": false,
         "zeroline": false
        }
       }
      },
      "text/html": [
       "<div>\n",
       "        \n",
       "        \n",
       "            <div id=\"9c93e7d5-8b92-4a54-943d-8be46a486163\" class=\"plotly-graph-div\" style=\"height:526.0px; width:912.0px;\"></div>\n",
       "            <script type=\"text/javascript\">\n",
       "                require([\"plotly\"], function(Plotly) {\n",
       "                    window.PLOTLYENV=window.PLOTLYENV || {};\n",
       "                    \n",
       "                if (document.getElementById(\"9c93e7d5-8b92-4a54-943d-8be46a486163\")) {\n",
       "                    Plotly.newPlot(\n",
       "                        '9c93e7d5-8b92-4a54-943d-8be46a486163',\n",
       "                        [{\"hoverinfo\": \"none\", \"line\": {\"color\": \"rgba(255, 255, 255, 0.0)\", \"dash\": \"solid\", \"width\": 1}, \"mode\": \"lines\", \"type\": \"scatter\", \"x\": [0.2532939342588636, 0.5623606305455091, null, 0.5486384307968404, 0.5342706207454423, null, 0.5486384307968404, 0.5367876045862916, null], \"y\": [0.08847434460809245, 0.26369124235980423, null, 0.255911817079828, 0.2558877494650732, null, 0.255911817079828, 0.24107194702580795, null]}, {\"hoverinfo\": \"none\", \"line\": {\"color\": \"rgba(255, 255, 255, 0.0)\", \"dash\": \"solid\", \"width\": 1}, \"mode\": \"lines\", \"type\": \"scatter\", \"x\": [0.7171745370422026, 0.3058768349238462, null, 0.31554819755166974, 0.32164758611697264, null, 0.31554819755166974, 0.3279276202222179, null], \"y\": [0.021280857942984954, 0.8467440345642494, null, 0.8273338757525134, 0.8035695776214091, null, 0.8273338757525134, 0.8140117079384691, null]}, {\"hoverinfo\": \"none\", \"line\": {\"color\": \"rgba(255, 255, 255, 0.0)\", \"dash\": \"solid\", \"width\": 1}, \"mode\": \"lines\", \"type\": \"scatter\", \"x\": [0.8115951114896895, 0.7001164210140165, null, 0.7110866989162284, 0.7188250759225643, null, 0.7110866989162284, 0.7243089354615554, null], \"y\": [0.3201207726924048, 0.492358242890671, null, 0.47540887879977095, 0.4532942509270604, null, 0.47540887879977095, 0.46513881470545737, null]}, {\"hoverinfo\": \"none\", \"line\": {\"color\": \"rgba(255, 255, 255, 0.0)\", \"dash\": \"solid\", \"width\": 1}, \"mode\": \"lines\", \"type\": \"scatter\", \"x\": [0.8115951114896895, 0.5075596499031447, null, 0.5190569145913858, 0.5274942702529535, null, 0.5190569145913858, 0.5325870718934423, null], \"y\": [0.3201207726924048, 0.7363701137329127, null, 0.7206294207713899, 0.6993849878028843, null, 0.7206294207713899, 0.7117985370393649, null]}, {\"hoverinfo\": \"none\", \"line\": {\"color\": \"rgba(255, 255, 255, 0.0)\", \"dash\": \"solid\", \"width\": 1}, \"mode\": \"lines\", \"type\": \"scatter\", \"x\": [0.649690889787739, 0.2963878979870257, null, 0.30937388895854867, 0.32359674479066175, null, 0.30937388895854867, 0.31996301517153874, null], \"y\": [0.5659242174531383, 0.2603674450834452, null, 0.2715984778778653, 0.27531743288654137, null, 0.2715984778778653, 0.28933835374734085, null]}, {\"hoverinfo\": \"none\", \"marker\": {\"color\": \"rgba(255, 255, 255, 0.0)\", \"line\": {\"color\": \"rgba(255, 255, 255, 0.0)\", \"width\": 1}, \"size\": 20, \"symbol\": \"circle\"}, \"mode\": \"markers+text\", \"text\": [\"('Atlanta Hawks',)\"], \"textfont\": {\"color\": \"rgb(0, 0, 0)\"}, \"textposition\": \"middle center\", \"type\": \"scatter\", \"x\": [0.2532939342588636], \"y\": [0.08847434460809245]}, {\"hoverinfo\": \"none\", \"marker\": {\"color\": \"rgba(255, 255, 255, 0.0)\", \"line\": {\"color\": \"rgba(255, 255, 255, 0.0)\", \"width\": 1}, \"size\": 20, \"symbol\": \"circle\"}, \"mode\": \"markers+text\", \"text\": [\"('Boston Celtics',)\"], \"textfont\": {\"color\": \"rgb(0, 0, 0)\"}, \"textposition\": \"middle center\", \"type\": \"scatter\", \"x\": [0.137457944258097], \"y\": [0.7666806523595047]}, {\"hoverinfo\": \"none\", \"marker\": {\"color\": \"rgba(255, 255, 255, 0.0)\", \"line\": {\"color\": \"rgba(255, 255, 255, 0.0)\", \"width\": 1}, \"size\": 20, \"symbol\": \"circle\"}, \"mode\": \"markers+text\", \"text\": [\"('Brooklyn Nets',)\"], \"textfont\": {\"color\": \"rgb(0, 0, 0)\"}, \"textposition\": \"middle center\", \"type\": \"scatter\", \"x\": [0.9177331233421402], \"y\": [0.11860634717275043]}, {\"hoverinfo\": \"none\", \"marker\": {\"color\": \"rgba(255, 255, 255, 0.0)\", \"line\": {\"color\": \"rgba(255, 255, 255, 0.0)\", \"width\": 1}, \"size\": 20, \"symbol\": \"circle\"}, \"mode\": \"markers+text\", \"text\": [\"('Charlotte Hornets',)\"], \"textfont\": {\"color\": \"rgb(0, 0, 0)\"}, \"textposition\": \"middle center\", \"type\": \"scatter\", \"x\": [0.9797720758249455], \"y\": [0.1637604513484422]}, {\"hoverinfo\": \"none\", \"marker\": {\"color\": \"rgba(255, 255, 255, 0.0)\", \"line\": {\"color\": \"rgba(255, 255, 255, 0.0)\", \"width\": 1}, \"size\": 20, \"symbol\": \"circle\"}, \"mode\": \"markers+text\", \"text\": [\"('Chicago Bulls',)\"], \"textfont\": {\"color\": \"rgb(0, 0, 0)\"}, \"textposition\": \"middle center\", \"type\": \"scatter\", \"x\": [0.5623606305455091], \"y\": [0.26369124235980423]}, {\"hoverinfo\": \"none\", \"marker\": {\"color\": \"rgba(255, 255, 255, 0.0)\", \"line\": {\"color\": \"rgba(255, 255, 255, 0.0)\", \"width\": 1}, \"size\": 20, \"symbol\": \"circle\"}, \"mode\": \"markers+text\", \"text\": [\"('Cleveland Cavaliers',)\"], \"textfont\": {\"color\": \"rgb(0, 0, 0)\"}, \"textposition\": \"middle center\", \"type\": \"scatter\", \"x\": [0.7001164210140165], \"y\": [0.492358242890671]}, {\"hoverinfo\": \"none\", \"marker\": {\"color\": \"rgba(255, 255, 255, 0.0)\", \"line\": {\"color\": \"rgba(255, 255, 255, 0.0)\", \"width\": 1}, \"size\": 20, \"symbol\": \"circle\"}, \"mode\": \"markers+text\", \"text\": [\"('Dallas Mavericks',)\"], \"textfont\": {\"color\": \"rgb(0, 0, 0)\"}, \"textposition\": \"middle center\", \"type\": \"scatter\", \"x\": [0.015232819833666311], \"y\": [0.3865539284857177]}, {\"hoverinfo\": \"none\", \"marker\": {\"color\": \"rgba(255, 255, 255, 0.0)\", \"line\": {\"color\": \"rgba(255, 255, 255, 0.0)\", \"width\": 1}, \"size\": 20, \"symbol\": \"circle\"}, \"mode\": \"markers+text\", \"text\": [\"('Denver Nuggets',)\"], \"textfont\": {\"color\": \"rgb(0, 0, 0)\"}, \"textposition\": \"middle center\", \"type\": \"scatter\", \"x\": [0.9434920563953874], \"y\": [0.9066838001844677]}, {\"hoverinfo\": \"none\", \"marker\": {\"color\": \"rgba(255, 255, 255, 0.0)\", \"line\": {\"color\": \"rgba(255, 255, 255, 0.0)\", \"width\": 1}, \"size\": 20, \"symbol\": \"circle\"}, \"mode\": \"markers+text\", \"text\": [\"('Detroit Pistons',)\"], \"textfont\": {\"color\": \"rgb(0, 0, 0)\"}, \"textposition\": \"middle center\", \"type\": \"scatter\", \"x\": [0.8338442979145716], \"y\": [0.6619314162517527]}, {\"hoverinfo\": \"none\", \"marker\": {\"color\": \"rgba(255, 255, 255, 0.0)\", \"line\": {\"color\": \"rgba(255, 255, 255, 0.0)\", \"width\": 1}, \"size\": 20, \"symbol\": \"circle\"}, \"mode\": \"markers+text\", \"text\": [\"('Golden State Warriors',)\"], \"textfont\": {\"color\": \"rgb(0, 0, 0)\"}, \"textposition\": \"middle center\", \"type\": \"scatter\", \"x\": [0.3058768349238462], \"y\": [0.8467440345642494]}, {\"hoverinfo\": \"none\", \"marker\": {\"color\": \"rgba(255, 255, 255, 0.0)\", \"line\": {\"color\": \"rgba(255, 255, 255, 0.0)\", \"width\": 1}, \"size\": 20, \"symbol\": \"circle\"}, \"mode\": \"markers+text\", \"text\": [\"('Houston Rockets',)\"], \"textfont\": {\"color\": \"rgb(0, 0, 0)\"}, \"textposition\": \"middle center\", \"type\": \"scatter\", \"x\": [0.3233963550258525], \"y\": [0.5850220642076611]}, {\"hoverinfo\": \"none\", \"marker\": {\"color\": \"rgba(255, 255, 255, 0.0)\", \"line\": {\"color\": \"rgba(255, 255, 255, 0.0)\", \"width\": 1}, \"size\": 20, \"symbol\": \"circle\"}, \"mode\": \"markers+text\", \"text\": [\"('Indiana Pacers',)\"], \"textfont\": {\"color\": \"rgb(0, 0, 0)\"}, \"textposition\": \"middle center\", \"type\": \"scatter\", \"x\": [0.5131061803980489], \"y\": [0.7391021178690709]}, {\"hoverinfo\": \"none\", \"marker\": {\"color\": \"rgba(255, 255, 255, 0.0)\", \"line\": {\"color\": \"rgba(255, 255, 255, 0.0)\", \"width\": 1}, \"size\": 20, \"symbol\": \"circle\"}, \"mode\": \"markers+text\", \"text\": [\"('LA Clippers',)\"], \"textfont\": {\"color\": \"rgb(0, 0, 0)\"}, \"textposition\": \"middle center\", \"type\": \"scatter\", \"x\": [0.44463042352600357], \"y\": [0.12997012760615267]}, {\"hoverinfo\": \"none\", \"marker\": {\"color\": \"rgba(255, 255, 255, 0.0)\", \"line\": {\"color\": \"rgba(255, 255, 255, 0.0)\", \"width\": 1}, \"size\": 20, \"symbol\": \"circle\"}, \"mode\": \"markers+text\", \"text\": [\"('Los Angeles Lakers',)\"], \"textfont\": {\"color\": \"rgb(0, 0, 0)\"}, \"textposition\": \"middle center\", \"type\": \"scatter\", \"x\": [0.7171745370422026], \"y\": [0.021280857942984954]}, {\"hoverinfo\": \"none\", \"marker\": {\"color\": \"rgba(255, 255, 255, 0.0)\", \"line\": {\"color\": \"rgba(255, 255, 255, 0.0)\", \"width\": 1}, \"size\": 20, \"symbol\": \"circle\"}, \"mode\": \"markers+text\", \"text\": [\"('Memphis Grizzlies',)\"], \"textfont\": {\"color\": \"rgb(0, 0, 0)\"}, \"textposition\": \"middle center\", \"type\": \"scatter\", \"x\": [0.8522576784057927], \"y\": [0.6770686116512314]}, {\"hoverinfo\": \"none\", \"marker\": {\"color\": \"rgba(255, 255, 255, 0.0)\", \"line\": {\"color\": \"rgba(255, 255, 255, 0.0)\", \"width\": 1}, \"size\": 20, \"symbol\": \"circle\"}, \"mode\": \"markers+text\", \"text\": [\"('Miami Heat',)\"], \"textfont\": {\"color\": \"rgb(0, 0, 0)\"}, \"textposition\": \"middle center\", \"type\": \"scatter\", \"x\": [0.7912324098618182], \"y\": [0.3249702340823911]}, {\"hoverinfo\": \"none\", \"marker\": {\"color\": \"rgba(255, 255, 255, 0.0)\", \"line\": {\"color\": \"rgba(255, 255, 255, 0.0)\", \"width\": 1}, \"size\": 20, \"symbol\": \"circle\"}, \"mode\": \"markers+text\", \"text\": [\"('Milwaukee Bucks',)\"], \"textfont\": {\"color\": \"rgb(0, 0, 0)\"}, \"textposition\": \"middle center\", \"type\": \"scatter\", \"x\": [0.022149233130175694], \"y\": [0.28129930457340424]}, {\"hoverinfo\": \"none\", \"marker\": {\"color\": \"rgba(255, 255, 255, 0.0)\", \"line\": {\"color\": \"rgba(255, 255, 255, 0.0)\", \"width\": 1}, \"size\": 20, \"symbol\": \"circle\"}, \"mode\": \"markers+text\", \"text\": [\"('Minnesota Timberwolves',)\"], \"textfont\": {\"color\": \"rgb(0, 0, 0)\"}, \"textposition\": \"middle center\", \"type\": \"scatter\", \"x\": [0.34040371754747856], \"y\": [0.7622398768055848]}, {\"hoverinfo\": \"none\", \"marker\": {\"color\": \"rgba(255, 255, 255, 0.0)\", \"line\": {\"color\": \"rgba(255, 255, 255, 0.0)\", \"width\": 1}, \"size\": 20, \"symbol\": \"circle\"}, \"mode\": \"markers+text\", \"text\": [\"('New Orleans Pelicans',)\"], \"textfont\": {\"color\": \"rgb(0, 0, 0)\"}, \"textposition\": \"middle center\", \"type\": \"scatter\", \"x\": [0.5075596499031447], \"y\": [0.7363701137329127]}, {\"hoverinfo\": \"none\", \"marker\": {\"color\": \"rgba(255, 255, 255, 0.0)\", \"line\": {\"color\": \"rgba(255, 255, 255, 0.0)\", \"width\": 1}, \"size\": 20, \"symbol\": \"circle\"}, \"mode\": \"markers+text\", \"text\": [\"('New York Knicks',)\"], \"textfont\": {\"color\": \"rgb(0, 0, 0)\"}, \"textposition\": \"middle center\", \"type\": \"scatter\", \"x\": [0.44064518764300165], \"y\": [0.8521146325689313]}, {\"hoverinfo\": \"none\", \"marker\": {\"color\": \"rgba(255, 255, 255, 0.0)\", \"line\": {\"color\": \"rgba(255, 255, 255, 0.0)\", \"width\": 1}, \"size\": 20, \"symbol\": \"circle\"}, \"mode\": \"markers+text\", \"text\": [\"('Oklahoma City Thunder',)\"], \"textfont\": {\"color\": \"rgb(0, 0, 0)\"}, \"textposition\": \"middle center\", \"type\": \"scatter\", \"x\": [0.3362113339635353], \"y\": [0.058929116339870524]}, {\"hoverinfo\": \"none\", \"marker\": {\"color\": \"rgba(255, 255, 255, 0.0)\", \"line\": {\"color\": \"rgba(255, 255, 255, 0.0)\", \"width\": 1}, \"size\": 20, \"symbol\": \"circle\"}, \"mode\": \"markers+text\", \"text\": [\"('Orlando Magic',)\"], \"textfont\": {\"color\": \"rgb(0, 0, 0)\"}, \"textposition\": \"middle center\", \"type\": \"scatter\", \"x\": [0.25024326171135636], \"y\": [0.4778336329249716]}, {\"hoverinfo\": \"none\", \"marker\": {\"color\": \"rgba(255, 255, 255, 0.0)\", \"line\": {\"color\": \"rgba(255, 255, 255, 0.0)\", \"width\": 1}, \"size\": 20, \"symbol\": \"circle\"}, \"mode\": \"markers+text\", \"text\": [\"('Philadelphia 76ers',)\"], \"textfont\": {\"color\": \"rgb(0, 0, 0)\"}, \"textposition\": \"middle center\", \"type\": \"scatter\", \"x\": [0.8115951114896895], \"y\": [0.3201207726924048]}, {\"hoverinfo\": \"none\", \"marker\": {\"color\": \"rgba(255, 255, 255, 0.0)\", \"line\": {\"color\": \"rgba(255, 255, 255, 0.0)\", \"width\": 1}, \"size\": 20, \"symbol\": \"circle\"}, \"mode\": \"markers+text\", \"text\": [\"('Phoenix Suns',)\"], \"textfont\": {\"color\": \"rgb(0, 0, 0)\"}, \"textposition\": \"middle center\", \"type\": \"scatter\", \"x\": [0.649690889787739], \"y\": [0.5659242174531383]}, {\"hoverinfo\": \"none\", \"marker\": {\"color\": \"rgba(255, 255, 255, 0.0)\", \"line\": {\"color\": \"rgba(255, 255, 255, 0.0)\", \"width\": 1}, \"size\": 20, \"symbol\": \"circle\"}, \"mode\": \"markers+text\", \"text\": [\"('Portland Trail Blazers',)\"], \"textfont\": {\"color\": \"rgb(0, 0, 0)\"}, \"textposition\": \"middle center\", \"type\": \"scatter\", \"x\": [0.7173250868268514], \"y\": [0.5720866543300545]}, {\"hoverinfo\": \"none\", \"marker\": {\"color\": \"rgba(255, 255, 255, 0.0)\", \"line\": {\"color\": \"rgba(255, 255, 255, 0.0)\", \"width\": 1}, \"size\": 20, \"symbol\": \"circle\"}, \"mode\": \"markers+text\", \"text\": [\"('Sacramento Kings',)\"], \"textfont\": {\"color\": \"rgb(0, 0, 0)\"}, \"textposition\": \"middle center\", \"type\": \"scatter\", \"x\": [0.10484003710461398], \"y\": [0.29322047946298624]}, {\"hoverinfo\": \"none\", \"marker\": {\"color\": \"rgba(255, 255, 255, 0.0)\", \"line\": {\"color\": \"rgba(255, 255, 255, 0.0)\", \"width\": 1}, \"size\": 20, \"symbol\": \"circle\"}, \"mode\": \"markers+text\", \"text\": [\"('San Antonio Spurs',)\"], \"textfont\": {\"color\": \"rgb(0, 0, 0)\"}, \"textposition\": \"middle center\", \"type\": \"scatter\", \"x\": [0.42625991051510637], \"y\": [0.5119061414782429]}, {\"hoverinfo\": \"none\", \"marker\": {\"color\": \"rgba(255, 255, 255, 0.0)\", \"line\": {\"color\": \"rgba(255, 255, 255, 0.0)\", \"width\": 1}, \"size\": 20, \"symbol\": \"circle\"}, \"mode\": \"markers+text\", \"text\": [\"('Toronto Raptors',)\"], \"textfont\": {\"color\": \"rgb(0, 0, 0)\"}, \"textposition\": \"middle center\", \"type\": \"scatter\", \"x\": [0.6583612242311504], \"y\": [0.8444216260025493]}, {\"hoverinfo\": \"none\", \"marker\": {\"color\": \"rgba(255, 255, 255, 0.0)\", \"line\": {\"color\": \"rgba(255, 255, 255, 0.0)\", \"width\": 1}, \"size\": 20, \"symbol\": \"circle\"}, \"mode\": \"markers+text\", \"text\": [\"('Utah Jazz',)\"], \"textfont\": {\"color\": \"rgb(0, 0, 0)\"}, \"textposition\": \"middle center\", \"type\": \"scatter\", \"x\": [0.18494270970276527], \"y\": [0.5595933363937293]}, {\"hoverinfo\": \"none\", \"marker\": {\"color\": \"rgba(255, 255, 255, 0.0)\", \"line\": {\"color\": \"rgba(255, 255, 255, 0.0)\", \"width\": 1}, \"size\": 20, \"symbol\": \"circle\"}, \"mode\": \"markers+text\", \"text\": [\"('Washington Wizards',)\"], \"textfont\": {\"color\": \"rgb(0, 0, 0)\"}, \"textposition\": \"middle center\", \"type\": \"scatter\", \"x\": [0.2963878979870257], \"y\": [0.2603674450834452]}, {\"hoverinfo\": \"none\", \"mode\": \"text\", \"text\": [null, null, null, null, null], \"textfont\": {\"color\": \"rgb(0, 0, 0)\"}, \"textposition\": \"middle center\", \"type\": \"scatter\", \"x\": [0.4035687177015097, 0.5009002973231517, 0.746577450564162, 0.6509607082562732, 0.47918741614984506], \"y\": [0.20115011900907545, 0.41634507515397107, 0.38619931508828453, 0.5072425659868954, 0.3894233910683443]}, {\"hoverinfo\": \"none\", \"marker\": {\"color\": \"rgba(255, 255, 255, 0.0)\", \"line\": {\"color\": \"rgba(255, 255, 255, 0.0)\", \"width\": 0}, \"size\": 0, \"symbol\": \"circle\"}, \"mode\": \"markers\", \"type\": \"scatter\", \"x\": [0.5, 0.0, 1.0, 0.5], \"y\": [0.0, 0.5, 0.5, 1.0]}],\n",
       "                        {\"height\": 526.0, \"margin\": {\"b\": 0, \"l\": 0, \"r\": 0, \"t\": 0}, \"showlegend\": false, \"sliders\": [{\"currentvalue\": {\"visible\": false}, \"steps\": [{\"args\": [[0], {\"frame\": {\"redraw\": false}, \"mode\": \"immediate\"}], \"label\": \"\", \"method\": \"animate\"}, {\"args\": [[1], {\"frame\": {\"redraw\": false}, \"mode\": \"immediate\"}], \"label\": \"\", \"method\": \"animate\"}]}], \"template\": {\"data\": {\"bar\": [{\"error_x\": {\"color\": \"#2a3f5f\"}, \"error_y\": {\"color\": \"#2a3f5f\"}, \"marker\": {\"line\": {\"color\": \"#E5ECF6\", \"width\": 0.5}}, \"type\": \"bar\"}], \"barpolar\": [{\"marker\": {\"line\": {\"color\": \"#E5ECF6\", \"width\": 0.5}}, \"type\": \"barpolar\"}], \"carpet\": [{\"aaxis\": {\"endlinecolor\": \"#2a3f5f\", \"gridcolor\": \"white\", \"linecolor\": \"white\", \"minorgridcolor\": \"white\", \"startlinecolor\": \"#2a3f5f\"}, \"baxis\": {\"endlinecolor\": \"#2a3f5f\", \"gridcolor\": \"white\", \"linecolor\": \"white\", \"minorgridcolor\": \"white\", \"startlinecolor\": \"#2a3f5f\"}, \"type\": \"carpet\"}], \"choropleth\": [{\"colorbar\": {\"outlinewidth\": 0, \"ticks\": \"\"}, \"type\": \"choropleth\"}], \"contour\": [{\"colorbar\": {\"outlinewidth\": 0, \"ticks\": \"\"}, \"colorscale\": [[0.0, \"#0d0887\"], [0.1111111111111111, \"#46039f\"], [0.2222222222222222, \"#7201a8\"], [0.3333333333333333, \"#9c179e\"], [0.4444444444444444, \"#bd3786\"], [0.5555555555555556, \"#d8576b\"], [0.6666666666666666, \"#ed7953\"], [0.7777777777777778, \"#fb9f3a\"], [0.8888888888888888, \"#fdca26\"], [1.0, \"#f0f921\"]], \"type\": \"contour\"}], \"contourcarpet\": [{\"colorbar\": {\"outlinewidth\": 0, \"ticks\": \"\"}, \"type\": \"contourcarpet\"}], \"heatmap\": [{\"colorbar\": {\"outlinewidth\": 0, \"ticks\": \"\"}, \"colorscale\": [[0.0, \"#0d0887\"], [0.1111111111111111, \"#46039f\"], [0.2222222222222222, \"#7201a8\"], [0.3333333333333333, \"#9c179e\"], [0.4444444444444444, \"#bd3786\"], [0.5555555555555556, \"#d8576b\"], [0.6666666666666666, \"#ed7953\"], [0.7777777777777778, \"#fb9f3a\"], [0.8888888888888888, \"#fdca26\"], [1.0, \"#f0f921\"]], \"type\": \"heatmap\"}], \"heatmapgl\": [{\"colorbar\": {\"outlinewidth\": 0, \"ticks\": \"\"}, \"colorscale\": [[0.0, \"#0d0887\"], [0.1111111111111111, \"#46039f\"], [0.2222222222222222, \"#7201a8\"], [0.3333333333333333, \"#9c179e\"], [0.4444444444444444, \"#bd3786\"], [0.5555555555555556, \"#d8576b\"], [0.6666666666666666, \"#ed7953\"], [0.7777777777777778, \"#fb9f3a\"], [0.8888888888888888, \"#fdca26\"], [1.0, \"#f0f921\"]], \"type\": \"heatmapgl\"}], \"histogram\": [{\"marker\": {\"colorbar\": {\"outlinewidth\": 0, \"ticks\": \"\"}}, \"type\": \"histogram\"}], \"histogram2d\": [{\"colorbar\": {\"outlinewidth\": 0, \"ticks\": \"\"}, \"colorscale\": [[0.0, \"#0d0887\"], [0.1111111111111111, \"#46039f\"], [0.2222222222222222, \"#7201a8\"], [0.3333333333333333, \"#9c179e\"], [0.4444444444444444, \"#bd3786\"], [0.5555555555555556, \"#d8576b\"], [0.6666666666666666, \"#ed7953\"], [0.7777777777777778, \"#fb9f3a\"], [0.8888888888888888, \"#fdca26\"], [1.0, \"#f0f921\"]], \"type\": \"histogram2d\"}], \"histogram2dcontour\": [{\"colorbar\": {\"outlinewidth\": 0, \"ticks\": \"\"}, \"colorscale\": [[0.0, \"#0d0887\"], [0.1111111111111111, \"#46039f\"], [0.2222222222222222, \"#7201a8\"], [0.3333333333333333, \"#9c179e\"], [0.4444444444444444, \"#bd3786\"], [0.5555555555555556, \"#d8576b\"], [0.6666666666666666, \"#ed7953\"], [0.7777777777777778, \"#fb9f3a\"], [0.8888888888888888, \"#fdca26\"], [1.0, \"#f0f921\"]], \"type\": \"histogram2dcontour\"}], \"mesh3d\": [{\"colorbar\": {\"outlinewidth\": 0, \"ticks\": \"\"}, \"type\": \"mesh3d\"}], \"parcoords\": [{\"line\": {\"colorbar\": {\"outlinewidth\": 0, \"ticks\": \"\"}}, \"type\": \"parcoords\"}], \"scatter\": [{\"marker\": {\"colorbar\": {\"outlinewidth\": 0, \"ticks\": \"\"}}, \"type\": \"scatter\"}], \"scatter3d\": [{\"line\": {\"colorbar\": {\"outlinewidth\": 0, \"ticks\": \"\"}}, \"marker\": {\"colorbar\": {\"outlinewidth\": 0, \"ticks\": \"\"}}, \"type\": \"scatter3d\"}], \"scattercarpet\": [{\"marker\": {\"colorbar\": {\"outlinewidth\": 0, \"ticks\": \"\"}}, \"type\": \"scattercarpet\"}], \"scattergeo\": [{\"marker\": {\"colorbar\": {\"outlinewidth\": 0, \"ticks\": \"\"}}, \"type\": \"scattergeo\"}], \"scattergl\": [{\"marker\": {\"colorbar\": {\"outlinewidth\": 0, \"ticks\": \"\"}}, \"type\": \"scattergl\"}], \"scattermapbox\": [{\"marker\": {\"colorbar\": {\"outlinewidth\": 0, \"ticks\": \"\"}}, \"type\": \"scattermapbox\"}], \"scatterpolar\": [{\"marker\": {\"colorbar\": {\"outlinewidth\": 0, \"ticks\": \"\"}}, \"type\": \"scatterpolar\"}], \"scatterpolargl\": [{\"marker\": {\"colorbar\": {\"outlinewidth\": 0, \"ticks\": \"\"}}, \"type\": \"scatterpolargl\"}], \"scatterternary\": [{\"marker\": {\"colorbar\": {\"outlinewidth\": 0, \"ticks\": \"\"}}, \"type\": \"scatterternary\"}], \"surface\": [{\"colorbar\": {\"outlinewidth\": 0, \"ticks\": \"\"}, \"colorscale\": [[0.0, \"#0d0887\"], [0.1111111111111111, \"#46039f\"], [0.2222222222222222, \"#7201a8\"], [0.3333333333333333, \"#9c179e\"], [0.4444444444444444, \"#bd3786\"], [0.5555555555555556, \"#d8576b\"], [0.6666666666666666, \"#ed7953\"], [0.7777777777777778, \"#fb9f3a\"], [0.8888888888888888, \"#fdca26\"], [1.0, \"#f0f921\"]], \"type\": \"surface\"}], \"table\": [{\"cells\": {\"fill\": {\"color\": \"#EBF0F8\"}, \"line\": {\"color\": \"white\"}}, \"header\": {\"fill\": {\"color\": \"#C8D4E3\"}, \"line\": {\"color\": \"white\"}}, \"type\": \"table\"}]}, \"layout\": {\"annotationdefaults\": {\"arrowcolor\": \"#2a3f5f\", \"arrowhead\": 0, \"arrowwidth\": 1}, \"colorscale\": {\"diverging\": [[0, \"#8e0152\"], [0.1, \"#c51b7d\"], [0.2, \"#de77ae\"], [0.3, \"#f1b6da\"], [0.4, \"#fde0ef\"], [0.5, \"#f7f7f7\"], [0.6, \"#e6f5d0\"], [0.7, \"#b8e186\"], [0.8, \"#7fbc41\"], [0.9, \"#4d9221\"], [1, \"#276419\"]], \"sequential\": [[0.0, \"#0d0887\"], [0.1111111111111111, \"#46039f\"], [0.2222222222222222, \"#7201a8\"], [0.3333333333333333, \"#9c179e\"], [0.4444444444444444, \"#bd3786\"], [0.5555555555555556, \"#d8576b\"], [0.6666666666666666, \"#ed7953\"], [0.7777777777777778, \"#fb9f3a\"], [0.8888888888888888, \"#fdca26\"], [1.0, \"#f0f921\"]], \"sequentialminus\": [[0.0, \"#0d0887\"], [0.1111111111111111, \"#46039f\"], [0.2222222222222222, \"#7201a8\"], [0.3333333333333333, \"#9c179e\"], [0.4444444444444444, \"#bd3786\"], [0.5555555555555556, \"#d8576b\"], [0.6666666666666666, \"#ed7953\"], [0.7777777777777778, \"#fb9f3a\"], [0.8888888888888888, \"#fdca26\"], [1.0, \"#f0f921\"]]}, \"colorway\": [\"#636efa\", \"#EF553B\", \"#00cc96\", \"#ab63fa\", \"#FFA15A\", \"#19d3f3\", \"#FF6692\", \"#B6E880\", \"#FF97FF\", \"#FECB52\"], \"font\": {\"color\": \"#2a3f5f\"}, \"geo\": {\"bgcolor\": \"white\", \"lakecolor\": \"white\", \"landcolor\": \"#E5ECF6\", \"showlakes\": true, \"showland\": true, \"subunitcolor\": \"white\"}, \"hoverlabel\": {\"align\": \"left\"}, \"hovermode\": \"closest\", \"mapbox\": {\"style\": \"light\"}, \"paper_bgcolor\": \"white\", \"plot_bgcolor\": \"#E5ECF6\", \"polar\": {\"angularaxis\": {\"gridcolor\": \"white\", \"linecolor\": \"white\", \"ticks\": \"\"}, \"bgcolor\": \"#E5ECF6\", \"radialaxis\": {\"gridcolor\": \"white\", \"linecolor\": \"white\", \"ticks\": \"\"}}, \"scene\": {\"xaxis\": {\"backgroundcolor\": \"#E5ECF6\", \"gridcolor\": \"white\", \"gridwidth\": 2, \"linecolor\": \"white\", \"showbackground\": true, \"ticks\": \"\", \"zerolinecolor\": \"white\"}, \"yaxis\": {\"backgroundcolor\": \"#E5ECF6\", \"gridcolor\": \"white\", \"gridwidth\": 2, \"linecolor\": \"white\", \"showbackground\": true, \"ticks\": \"\", \"zerolinecolor\": \"white\"}, \"zaxis\": {\"backgroundcolor\": \"#E5ECF6\", \"gridcolor\": \"white\", \"gridwidth\": 2, \"linecolor\": \"white\", \"showbackground\": true, \"ticks\": \"\", \"zerolinecolor\": \"white\"}}, \"shapedefaults\": {\"line\": {\"color\": \"#2a3f5f\"}}, \"ternary\": {\"aaxis\": {\"gridcolor\": \"white\", \"linecolor\": \"white\", \"ticks\": \"\"}, \"baxis\": {\"gridcolor\": \"white\", \"linecolor\": \"white\", \"ticks\": \"\"}, \"bgcolor\": \"#E5ECF6\", \"caxis\": {\"gridcolor\": \"white\", \"linecolor\": \"white\", \"ticks\": \"\"}}, \"title\": {\"x\": 0.05}, \"xaxis\": {\"automargin\": true, \"gridcolor\": \"white\", \"linecolor\": \"white\", \"ticks\": \"\", \"zerolinecolor\": \"white\", \"zerolinewidth\": 2}, \"yaxis\": {\"automargin\": true, \"gridcolor\": \"white\", \"linecolor\": \"white\", \"ticks\": \"\", \"zerolinecolor\": \"white\", \"zerolinewidth\": 2}}}, \"updatemenus\": [{\"buttons\": [{\"args\": [null, {\"frame\": {\"redraw\": false}, \"fromcurrent\": true}], \"label\": \"Play\", \"method\": \"animate\"}, {\"args\": [[null], {\"frame\": {\"redraw\": false}, \"mode\": \"immediate\"}], \"label\": \"Pause\", \"method\": \"animate\"}], \"showactive\": true, \"type\": \"buttons\"}], \"width\": 912.0, \"xaxis\": {\"showgrid\": false, \"showticklabels\": false, \"zeroline\": false}, \"yaxis\": {\"showgrid\": false, \"showticklabels\": false, \"zeroline\": false}},\n",
       "                        {\"staticPlot\": true, \"responsive\": true}\n",
       "                    ).then(function(){\n",
       "                            Plotly.addFrames('9c93e7d5-8b92-4a54-943d-8be46a486163', [{\"data\": [{\"hoverinfo\": \"none\", \"line\": {\"color\": \"rgba(255, 255, 255, 0.0)\", \"dash\": \"solid\", \"width\": 1}, \"mode\": \"lines\", \"x\": [0.2532939342588636, 0.5623606305455091, null, 0.5486384307968404, 0.5342706207454423, null, 0.5486384307968404, 0.5367876045862916, null], \"y\": [0.08847434460809245, 0.26369124235980423, null, 0.255911817079828, 0.2558877494650732, null, 0.255911817079828, 0.24107194702580795, null], \"type\": \"scatter\"}, {\"hoverinfo\": \"none\", \"line\": {\"color\": \"rgba(255, 255, 255, 0.0)\", \"dash\": \"solid\", \"width\": 1}, \"mode\": \"lines\", \"x\": [0.7171745370422026, 0.3058768349238462, null, 0.31554819755166974, 0.32164758611697264, null, 0.31554819755166974, 0.3279276202222179, null], \"y\": [0.021280857942984954, 0.8467440345642494, null, 0.8273338757525134, 0.8035695776214091, null, 0.8273338757525134, 0.8140117079384691, null], \"type\": \"scatter\"}, {\"hoverinfo\": \"none\", \"line\": {\"color\": \"rgba(255, 255, 255, 0.0)\", \"dash\": \"solid\", \"width\": 1}, \"mode\": \"lines\", \"x\": [0.8115951114896895, 0.7001164210140165, null, 0.7110866989162284, 0.7188250759225643, null, 0.7110866989162284, 0.7243089354615554, null], \"y\": [0.3201207726924048, 0.492358242890671, null, 0.47540887879977095, 0.4532942509270604, null, 0.47540887879977095, 0.46513881470545737, null], \"type\": \"scatter\"}, {\"hoverinfo\": \"none\", \"line\": {\"color\": \"rgba(255, 255, 255, 0.0)\", \"dash\": \"solid\", \"width\": 1}, \"mode\": \"lines\", \"x\": [0.8115951114896895, 0.5075596499031447, null, 0.5190569145913858, 0.5274942702529535, null, 0.5190569145913858, 0.5325870718934423, null], \"y\": [0.3201207726924048, 0.7363701137329127, null, 0.7206294207713899, 0.6993849878028843, null, 0.7206294207713899, 0.7117985370393649, null], \"type\": \"scatter\"}, {\"hoverinfo\": \"none\", \"line\": {\"color\": \"rgba(255, 255, 255, 0.0)\", \"dash\": \"solid\", \"width\": 1}, \"mode\": \"lines\", \"x\": [0.649690889787739, 0.2963878979870257, null, 0.30937388895854867, 0.32359674479066175, null, 0.30937388895854867, 0.31996301517153874, null], \"y\": [0.5659242174531383, 0.2603674450834452, null, 0.2715984778778653, 0.27531743288654137, null, 0.2715984778778653, 0.28933835374734085, null], \"type\": \"scatter\"}, {\"hoverinfo\": \"none\", \"marker\": {\"color\": \"rgba(255, 255, 255, 0.0)\", \"line\": {\"color\": \"rgba(255, 255, 255, 0.0)\", \"width\": 1}, \"size\": 20, \"symbol\": \"circle\"}, \"mode\": \"markers+text\", \"text\": [\"('Atlanta Hawks',)\"], \"textfont\": {\"color\": \"rgb(0, 0, 0)\"}, \"textposition\": \"middle center\", \"x\": [0.2532939342588636], \"y\": [0.08847434460809245], \"type\": \"scatter\"}, {\"hoverinfo\": \"none\", \"marker\": {\"color\": \"rgba(255, 255, 255, 0.0)\", \"line\": {\"color\": \"rgba(255, 255, 255, 0.0)\", \"width\": 1}, \"size\": 20, \"symbol\": \"circle\"}, \"mode\": \"markers+text\", \"text\": [\"('Boston Celtics',)\"], \"textfont\": {\"color\": \"rgb(0, 0, 0)\"}, \"textposition\": \"middle center\", \"x\": [0.137457944258097], \"y\": [0.7666806523595047], \"type\": \"scatter\"}, {\"hoverinfo\": \"none\", \"marker\": {\"color\": \"rgba(255, 255, 255, 0.0)\", \"line\": {\"color\": \"rgba(255, 255, 255, 0.0)\", \"width\": 1}, \"size\": 20, \"symbol\": \"circle\"}, \"mode\": \"markers+text\", \"text\": [\"('Brooklyn Nets',)\"], \"textfont\": {\"color\": \"rgb(0, 0, 0)\"}, \"textposition\": \"middle center\", \"x\": [0.9177331233421402], \"y\": [0.11860634717275043], \"type\": \"scatter\"}, {\"hoverinfo\": \"none\", \"marker\": {\"color\": \"rgba(255, 255, 255, 0.0)\", \"line\": {\"color\": \"rgba(255, 255, 255, 0.0)\", \"width\": 1}, \"size\": 20, \"symbol\": \"circle\"}, \"mode\": \"markers+text\", \"text\": [\"('Charlotte Hornets',)\"], \"textfont\": {\"color\": \"rgb(0, 0, 0)\"}, \"textposition\": \"middle center\", \"x\": [0.9797720758249455], \"y\": [0.1637604513484422], \"type\": \"scatter\"}, {\"hoverinfo\": \"none\", \"marker\": {\"color\": \"rgba(255, 255, 255, 0.0)\", \"line\": {\"color\": \"rgba(255, 255, 255, 0.0)\", \"width\": 1}, \"size\": 20, \"symbol\": \"circle\"}, \"mode\": \"markers+text\", \"text\": [\"('Chicago Bulls',)\"], \"textfont\": {\"color\": \"rgb(0, 0, 0)\"}, \"textposition\": \"middle center\", \"x\": [0.5623606305455091], \"y\": [0.26369124235980423], \"type\": \"scatter\"}, {\"hoverinfo\": \"none\", \"marker\": {\"color\": \"rgba(255, 255, 255, 0.0)\", \"line\": {\"color\": \"rgba(255, 255, 255, 0.0)\", \"width\": 1}, \"size\": 20, \"symbol\": \"circle\"}, \"mode\": \"markers+text\", \"text\": [\"('Cleveland Cavaliers',)\"], \"textfont\": {\"color\": \"rgb(0, 0, 0)\"}, \"textposition\": \"middle center\", \"x\": [0.7001164210140165], \"y\": [0.492358242890671], \"type\": \"scatter\"}, {\"hoverinfo\": \"none\", \"marker\": {\"color\": \"rgba(255, 255, 255, 0.0)\", \"line\": {\"color\": \"rgba(255, 255, 255, 0.0)\", \"width\": 1}, \"size\": 20, \"symbol\": \"circle\"}, \"mode\": \"markers+text\", \"text\": [\"('Dallas Mavericks',)\"], \"textfont\": {\"color\": \"rgb(0, 0, 0)\"}, \"textposition\": \"middle center\", \"x\": [0.015232819833666311], \"y\": [0.3865539284857177], \"type\": \"scatter\"}, {\"hoverinfo\": \"none\", \"marker\": {\"color\": \"rgba(255, 255, 255, 0.0)\", \"line\": {\"color\": \"rgba(255, 255, 255, 0.0)\", \"width\": 1}, \"size\": 20, \"symbol\": \"circle\"}, \"mode\": \"markers+text\", \"text\": [\"('Denver Nuggets',)\"], \"textfont\": {\"color\": \"rgb(0, 0, 0)\"}, \"textposition\": \"middle center\", \"x\": [0.9434920563953874], \"y\": [0.9066838001844677], \"type\": \"scatter\"}, {\"hoverinfo\": \"none\", \"marker\": {\"color\": \"rgba(255, 255, 255, 0.0)\", \"line\": {\"color\": \"rgba(255, 255, 255, 0.0)\", \"width\": 1}, \"size\": 20, \"symbol\": \"circle\"}, \"mode\": \"markers+text\", \"text\": [\"('Detroit Pistons',)\"], \"textfont\": {\"color\": \"rgb(0, 0, 0)\"}, \"textposition\": \"middle center\", \"x\": [0.8338442979145716], \"y\": [0.6619314162517527], \"type\": \"scatter\"}, {\"hoverinfo\": \"none\", \"marker\": {\"color\": \"rgba(255, 255, 255, 0.0)\", \"line\": {\"color\": \"rgba(255, 255, 255, 0.0)\", \"width\": 1}, \"size\": 20, \"symbol\": \"circle\"}, \"mode\": \"markers+text\", \"text\": [\"('Golden State Warriors',)\"], \"textfont\": {\"color\": \"rgb(0, 0, 0)\"}, \"textposition\": \"middle center\", \"x\": [0.3058768349238462], \"y\": [0.8467440345642494], \"type\": \"scatter\"}, {\"hoverinfo\": \"none\", \"marker\": {\"color\": \"rgba(255, 255, 255, 0.0)\", \"line\": {\"color\": \"rgba(255, 255, 255, 0.0)\", \"width\": 1}, \"size\": 20, \"symbol\": \"circle\"}, \"mode\": \"markers+text\", \"text\": [\"('Houston Rockets',)\"], \"textfont\": {\"color\": \"rgb(0, 0, 0)\"}, \"textposition\": \"middle center\", \"x\": [0.3233963550258525], \"y\": [0.5850220642076611], \"type\": \"scatter\"}, {\"hoverinfo\": \"none\", \"marker\": {\"color\": \"rgba(255, 255, 255, 0.0)\", \"line\": {\"color\": \"rgba(255, 255, 255, 0.0)\", \"width\": 1}, \"size\": 20, \"symbol\": \"circle\"}, \"mode\": \"markers+text\", \"text\": [\"('Indiana Pacers',)\"], \"textfont\": {\"color\": \"rgb(0, 0, 0)\"}, \"textposition\": \"middle center\", \"x\": [0.5131061803980489], \"y\": [0.7391021178690709], \"type\": \"scatter\"}, {\"hoverinfo\": \"none\", \"marker\": {\"color\": \"rgba(255, 255, 255, 0.0)\", \"line\": {\"color\": \"rgba(255, 255, 255, 0.0)\", \"width\": 1}, \"size\": 20, \"symbol\": \"circle\"}, \"mode\": \"markers+text\", \"text\": [\"('LA Clippers',)\"], \"textfont\": {\"color\": \"rgb(0, 0, 0)\"}, \"textposition\": \"middle center\", \"x\": [0.44463042352600357], \"y\": [0.12997012760615267], \"type\": \"scatter\"}, {\"hoverinfo\": \"none\", \"marker\": {\"color\": \"rgba(255, 255, 255, 0.0)\", \"line\": {\"color\": \"rgba(255, 255, 255, 0.0)\", \"width\": 1}, \"size\": 20, \"symbol\": \"circle\"}, \"mode\": \"markers+text\", \"text\": [\"('Los Angeles Lakers',)\"], \"textfont\": {\"color\": \"rgb(0, 0, 0)\"}, \"textposition\": \"middle center\", \"x\": [0.7171745370422026], \"y\": [0.021280857942984954], \"type\": \"scatter\"}, {\"hoverinfo\": \"none\", \"marker\": {\"color\": \"rgba(255, 255, 255, 0.0)\", \"line\": {\"color\": \"rgba(255, 255, 255, 0.0)\", \"width\": 1}, \"size\": 20, \"symbol\": \"circle\"}, \"mode\": \"markers+text\", \"text\": [\"('Memphis Grizzlies',)\"], \"textfont\": {\"color\": \"rgb(0, 0, 0)\"}, \"textposition\": \"middle center\", \"x\": [0.8522576784057927], \"y\": [0.6770686116512314], \"type\": \"scatter\"}, {\"hoverinfo\": \"none\", \"marker\": {\"color\": \"rgba(255, 255, 255, 0.0)\", \"line\": {\"color\": \"rgba(255, 255, 255, 0.0)\", \"width\": 1}, \"size\": 20, \"symbol\": \"circle\"}, \"mode\": \"markers+text\", \"text\": [\"('Miami Heat',)\"], \"textfont\": {\"color\": \"rgb(0, 0, 0)\"}, \"textposition\": \"middle center\", \"x\": [0.7912324098618182], \"y\": [0.3249702340823911], \"type\": \"scatter\"}, {\"hoverinfo\": \"none\", \"marker\": {\"color\": \"rgba(255, 255, 255, 0.0)\", \"line\": {\"color\": \"rgba(255, 255, 255, 0.0)\", \"width\": 1}, \"size\": 20, \"symbol\": \"circle\"}, \"mode\": \"markers+text\", \"text\": [\"('Milwaukee Bucks',)\"], \"textfont\": {\"color\": \"rgb(0, 0, 0)\"}, \"textposition\": \"middle center\", \"x\": [0.022149233130175694], \"y\": [0.28129930457340424], \"type\": \"scatter\"}, {\"hoverinfo\": \"none\", \"marker\": {\"color\": \"rgba(255, 255, 255, 0.0)\", \"line\": {\"color\": \"rgba(255, 255, 255, 0.0)\", \"width\": 1}, \"size\": 20, \"symbol\": \"circle\"}, \"mode\": \"markers+text\", \"text\": [\"('Minnesota Timberwolves',)\"], \"textfont\": {\"color\": \"rgb(0, 0, 0)\"}, \"textposition\": \"middle center\", \"x\": [0.34040371754747856], \"y\": [0.7622398768055848], \"type\": \"scatter\"}, {\"hoverinfo\": \"none\", \"marker\": {\"color\": \"rgba(255, 255, 255, 0.0)\", \"line\": {\"color\": \"rgba(255, 255, 255, 0.0)\", \"width\": 1}, \"size\": 20, \"symbol\": \"circle\"}, \"mode\": \"markers+text\", \"text\": [\"('New Orleans Pelicans',)\"], \"textfont\": {\"color\": \"rgb(0, 0, 0)\"}, \"textposition\": \"middle center\", \"x\": [0.5075596499031447], \"y\": [0.7363701137329127], \"type\": \"scatter\"}, {\"hoverinfo\": \"none\", \"marker\": {\"color\": \"rgba(255, 255, 255, 0.0)\", \"line\": {\"color\": \"rgba(255, 255, 255, 0.0)\", \"width\": 1}, \"size\": 20, \"symbol\": \"circle\"}, \"mode\": \"markers+text\", \"text\": [\"('New York Knicks',)\"], \"textfont\": {\"color\": \"rgb(0, 0, 0)\"}, \"textposition\": \"middle center\", \"x\": [0.44064518764300165], \"y\": [0.8521146325689313], \"type\": \"scatter\"}, {\"hoverinfo\": \"none\", \"marker\": {\"color\": \"rgba(255, 255, 255, 0.0)\", \"line\": {\"color\": \"rgba(255, 255, 255, 0.0)\", \"width\": 1}, \"size\": 20, \"symbol\": \"circle\"}, \"mode\": \"markers+text\", \"text\": [\"('Oklahoma City Thunder',)\"], \"textfont\": {\"color\": \"rgb(0, 0, 0)\"}, \"textposition\": \"middle center\", \"x\": [0.3362113339635353], \"y\": [0.058929116339870524], \"type\": \"scatter\"}, {\"hoverinfo\": \"none\", \"marker\": {\"color\": \"rgba(255, 255, 255, 0.0)\", \"line\": {\"color\": \"rgba(255, 255, 255, 0.0)\", \"width\": 1}, \"size\": 20, \"symbol\": \"circle\"}, \"mode\": \"markers+text\", \"text\": [\"('Orlando Magic',)\"], \"textfont\": {\"color\": \"rgb(0, 0, 0)\"}, \"textposition\": \"middle center\", \"x\": [0.25024326171135636], \"y\": [0.4778336329249716], \"type\": \"scatter\"}, {\"hoverinfo\": \"none\", \"marker\": {\"color\": \"rgba(255, 255, 255, 0.0)\", \"line\": {\"color\": \"rgba(255, 255, 255, 0.0)\", \"width\": 1}, \"size\": 20, \"symbol\": \"circle\"}, \"mode\": \"markers+text\", \"text\": [\"('Philadelphia 76ers',)\"], \"textfont\": {\"color\": \"rgb(0, 0, 0)\"}, \"textposition\": \"middle center\", \"x\": [0.8115951114896895], \"y\": [0.3201207726924048], \"type\": \"scatter\"}, {\"hoverinfo\": \"none\", \"marker\": {\"color\": \"rgba(255, 255, 255, 0.0)\", \"line\": {\"color\": \"rgba(255, 255, 255, 0.0)\", \"width\": 1}, \"size\": 20, \"symbol\": \"circle\"}, \"mode\": \"markers+text\", \"text\": [\"('Phoenix Suns',)\"], \"textfont\": {\"color\": \"rgb(0, 0, 0)\"}, \"textposition\": \"middle center\", \"x\": [0.649690889787739], \"y\": [0.5659242174531383], \"type\": \"scatter\"}, {\"hoverinfo\": \"none\", \"marker\": {\"color\": \"rgba(255, 255, 255, 0.0)\", \"line\": {\"color\": \"rgba(255, 255, 255, 0.0)\", \"width\": 1}, \"size\": 20, \"symbol\": \"circle\"}, \"mode\": \"markers+text\", \"text\": [\"('Portland Trail Blazers',)\"], \"textfont\": {\"color\": \"rgb(0, 0, 0)\"}, \"textposition\": \"middle center\", \"x\": [0.7173250868268514], \"y\": [0.5720866543300545], \"type\": \"scatter\"}, {\"hoverinfo\": \"none\", \"marker\": {\"color\": \"rgba(255, 255, 255, 0.0)\", \"line\": {\"color\": \"rgba(255, 255, 255, 0.0)\", \"width\": 1}, \"size\": 20, \"symbol\": \"circle\"}, \"mode\": \"markers+text\", \"text\": [\"('Sacramento Kings',)\"], \"textfont\": {\"color\": \"rgb(0, 0, 0)\"}, \"textposition\": \"middle center\", \"x\": [0.10484003710461398], \"y\": [0.29322047946298624], \"type\": \"scatter\"}, {\"hoverinfo\": \"none\", \"marker\": {\"color\": \"rgba(255, 255, 255, 0.0)\", \"line\": {\"color\": \"rgba(255, 255, 255, 0.0)\", \"width\": 1}, \"size\": 20, \"symbol\": \"circle\"}, \"mode\": \"markers+text\", \"text\": [\"('San Antonio Spurs',)\"], \"textfont\": {\"color\": \"rgb(0, 0, 0)\"}, \"textposition\": \"middle center\", \"x\": [0.42625991051510637], \"y\": [0.5119061414782429], \"type\": \"scatter\"}, {\"hoverinfo\": \"none\", \"marker\": {\"color\": \"rgba(255, 255, 255, 0.0)\", \"line\": {\"color\": \"rgba(255, 255, 255, 0.0)\", \"width\": 1}, \"size\": 20, \"symbol\": \"circle\"}, \"mode\": \"markers+text\", \"text\": [\"('Toronto Raptors',)\"], \"textfont\": {\"color\": \"rgb(0, 0, 0)\"}, \"textposition\": \"middle center\", \"x\": [0.6583612242311504], \"y\": [0.8444216260025493], \"type\": \"scatter\"}, {\"hoverinfo\": \"none\", \"marker\": {\"color\": \"rgba(255, 255, 255, 0.0)\", \"line\": {\"color\": \"rgba(255, 255, 255, 0.0)\", \"width\": 1}, \"size\": 20, \"symbol\": \"circle\"}, \"mode\": \"markers+text\", \"text\": [\"('Utah Jazz',)\"], \"textfont\": {\"color\": \"rgb(0, 0, 0)\"}, \"textposition\": \"middle center\", \"x\": [0.18494270970276527], \"y\": [0.5595933363937293], \"type\": \"scatter\"}, {\"hoverinfo\": \"none\", \"marker\": {\"color\": \"rgba(255, 255, 255, 0.0)\", \"line\": {\"color\": \"rgba(255, 255, 255, 0.0)\", \"width\": 1}, \"size\": 20, \"symbol\": \"circle\"}, \"mode\": \"markers+text\", \"text\": [\"('Washington Wizards',)\"], \"textfont\": {\"color\": \"rgb(0, 0, 0)\"}, \"textposition\": \"middle center\", \"x\": [0.2963878979870257], \"y\": [0.2603674450834452], \"type\": \"scatter\"}, {\"hoverinfo\": \"none\", \"mode\": \"text\", \"text\": [null, null, null, null, null], \"textfont\": {\"color\": \"rgb(0, 0, 0)\"}, \"textposition\": \"middle center\", \"x\": [0.4035687177015097, 0.5009002973231517, 0.746577450564162, 0.6509607082562732, 0.47918741614984506], \"y\": [0.20115011900907545, 0.41634507515397107, 0.38619931508828453, 0.5072425659868954, 0.3894233910683443], \"type\": \"scatter\"}, {\"hoverinfo\": \"none\", \"marker\": {\"color\": \"rgba(255, 255, 255, 0.0)\", \"line\": {\"color\": \"rgba(255, 255, 255, 0.0)\", \"width\": 0}, \"size\": 0, \"symbol\": \"circle\"}, \"mode\": \"markers\", \"x\": [0.5, 0.0, 1.0, 0.5], \"y\": [0.0, 0.5, 0.5, 1.0], \"type\": \"scatter\"}], \"name\": \"0\"}, {\"data\": [{\"hoverinfo\": \"none\", \"line\": {\"color\": \"rgb(0, 0, 0)\", \"dash\": \"solid\", \"width\": 1}, \"mode\": \"lines\", \"x\": [0.2532939342588636, 0.5623606305455091, null, 0.5486384307968404, 0.5342706207454423, null, 0.5486384307968404, 0.5367876045862916, null], \"y\": [0.08847434460809245, 0.26369124235980423, null, 0.255911817079828, 0.2558877494650732, null, 0.255911817079828, 0.24107194702580795, null], \"type\": \"scatter\"}, {\"hoverinfo\": \"none\", \"line\": {\"color\": \"rgb(0, 0, 0)\", \"dash\": \"solid\", \"width\": 1}, \"mode\": \"lines\", \"x\": [0.7171745370422026, 0.3058768349238462, null, 0.31554819755166974, 0.32164758611697264, null, 0.31554819755166974, 0.3279276202222179, null], \"y\": [0.021280857942984954, 0.8467440345642494, null, 0.8273338757525134, 0.8035695776214091, null, 0.8273338757525134, 0.8140117079384691, null], \"type\": \"scatter\"}, {\"hoverinfo\": \"none\", \"line\": {\"color\": \"rgb(0, 0, 0)\", \"dash\": \"solid\", \"width\": 1}, \"mode\": \"lines\", \"x\": [0.8115951114896895, 0.7001164210140165, null, 0.7110866989162284, 0.7188250759225643, null, 0.7110866989162284, 0.7243089354615554, null], \"y\": [0.3201207726924048, 0.492358242890671, null, 0.47540887879977095, 0.4532942509270604, null, 0.47540887879977095, 0.46513881470545737, null], \"type\": \"scatter\"}, {\"hoverinfo\": \"none\", \"line\": {\"color\": \"rgb(0, 0, 0)\", \"dash\": \"solid\", \"width\": 1}, \"mode\": \"lines\", \"x\": [0.8115951114896895, 0.5075596499031447, null, 0.5190569145913858, 0.5274942702529535, null, 0.5190569145913858, 0.5325870718934423, null], \"y\": [0.3201207726924048, 0.7363701137329127, null, 0.7206294207713899, 0.6993849878028843, null, 0.7206294207713899, 0.7117985370393649, null], \"type\": \"scatter\"}, {\"hoverinfo\": \"none\", \"line\": {\"color\": \"rgb(0, 0, 0)\", \"dash\": \"solid\", \"width\": 1}, \"mode\": \"lines\", \"x\": [0.649690889787739, 0.2963878979870257, null, 0.30937388895854867, 0.32359674479066175, null, 0.30937388895854867, 0.31996301517153874, null], \"y\": [0.5659242174531383, 0.2603674450834452, null, 0.2715984778778653, 0.27531743288654137, null, 0.2715984778778653, 0.28933835374734085, null], \"type\": \"scatter\"}, {\"hoverinfo\": \"none\", \"marker\": {\"color\": \"rgb(255, 0, 0)\", \"line\": {\"color\": \"rgb(0, 0, 0)\", \"width\": 1}, \"size\": 20, \"symbol\": \"circle\"}, \"mode\": \"markers+text\", \"text\": [\"('Atlanta Hawks',)\"], \"textfont\": {\"color\": \"rgb(0, 0, 0)\"}, \"textposition\": \"middle center\", \"x\": [0.2532939342588636], \"y\": [0.08847434460809245], \"type\": \"scatter\"}, {\"hoverinfo\": \"none\", \"marker\": {\"color\": \"rgb(255, 0, 0)\", \"line\": {\"color\": \"rgb(0, 0, 0)\", \"width\": 1}, \"size\": 20, \"symbol\": \"circle\"}, \"mode\": \"markers+text\", \"text\": [\"('Boston Celtics',)\"], \"textfont\": {\"color\": \"rgb(0, 0, 0)\"}, \"textposition\": \"middle center\", \"x\": [0.137457944258097], \"y\": [0.7666806523595047], \"type\": \"scatter\"}, {\"hoverinfo\": \"none\", \"marker\": {\"color\": \"rgb(255, 0, 0)\", \"line\": {\"color\": \"rgb(0, 0, 0)\", \"width\": 1}, \"size\": 20, \"symbol\": \"circle\"}, \"mode\": \"markers+text\", \"text\": [\"('Brooklyn Nets',)\"], \"textfont\": {\"color\": \"rgb(0, 0, 0)\"}, \"textposition\": \"middle center\", \"x\": [0.9177331233421402], \"y\": [0.11860634717275043], \"type\": \"scatter\"}, {\"hoverinfo\": \"none\", \"marker\": {\"color\": \"rgb(255, 0, 0)\", \"line\": {\"color\": \"rgb(0, 0, 0)\", \"width\": 1}, \"size\": 20, \"symbol\": \"circle\"}, \"mode\": \"markers+text\", \"text\": [\"('Charlotte Hornets',)\"], \"textfont\": {\"color\": \"rgb(0, 0, 0)\"}, \"textposition\": \"middle center\", \"x\": [0.9797720758249455], \"y\": [0.1637604513484422], \"type\": \"scatter\"}, {\"hoverinfo\": \"none\", \"marker\": {\"color\": \"rgb(255, 0, 0)\", \"line\": {\"color\": \"rgb(0, 0, 0)\", \"width\": 1}, \"size\": 20, \"symbol\": \"circle\"}, \"mode\": \"markers+text\", \"text\": [\"('Chicago Bulls',)\"], \"textfont\": {\"color\": \"rgb(0, 0, 0)\"}, \"textposition\": \"middle center\", \"x\": [0.5623606305455091], \"y\": [0.26369124235980423], \"type\": \"scatter\"}, {\"hoverinfo\": \"none\", \"marker\": {\"color\": \"rgb(255, 0, 0)\", \"line\": {\"color\": \"rgb(0, 0, 0)\", \"width\": 1}, \"size\": 20, \"symbol\": \"circle\"}, \"mode\": \"markers+text\", \"text\": [\"('Cleveland Cavaliers',)\"], \"textfont\": {\"color\": \"rgb(0, 0, 0)\"}, \"textposition\": \"middle center\", \"x\": [0.7001164210140165], \"y\": [0.492358242890671], \"type\": \"scatter\"}, {\"hoverinfo\": \"none\", \"marker\": {\"color\": \"rgb(255, 0, 0)\", \"line\": {\"color\": \"rgb(0, 0, 0)\", \"width\": 1}, \"size\": 20, \"symbol\": \"circle\"}, \"mode\": \"markers+text\", \"text\": [\"('Dallas Mavericks',)\"], \"textfont\": {\"color\": \"rgb(0, 0, 0)\"}, \"textposition\": \"middle center\", \"x\": [0.015232819833666311], \"y\": [0.3865539284857177], \"type\": \"scatter\"}, {\"hoverinfo\": \"none\", \"marker\": {\"color\": \"rgb(255, 0, 0)\", \"line\": {\"color\": \"rgb(0, 0, 0)\", \"width\": 1}, \"size\": 20, \"symbol\": \"circle\"}, \"mode\": \"markers+text\", \"text\": [\"('Denver Nuggets',)\"], \"textfont\": {\"color\": \"rgb(0, 0, 0)\"}, \"textposition\": \"middle center\", \"x\": [0.9434920563953874], \"y\": [0.9066838001844677], \"type\": \"scatter\"}, {\"hoverinfo\": \"none\", \"marker\": {\"color\": \"rgb(255, 0, 0)\", \"line\": {\"color\": \"rgb(0, 0, 0)\", \"width\": 1}, \"size\": 20, \"symbol\": \"circle\"}, \"mode\": \"markers+text\", \"text\": [\"('Detroit Pistons',)\"], \"textfont\": {\"color\": \"rgb(0, 0, 0)\"}, \"textposition\": \"middle center\", \"x\": [0.8338442979145716], \"y\": [0.6619314162517527], \"type\": \"scatter\"}, {\"hoverinfo\": \"none\", \"marker\": {\"color\": \"rgb(255, 0, 0)\", \"line\": {\"color\": \"rgb(0, 0, 0)\", \"width\": 1}, \"size\": 20, \"symbol\": \"circle\"}, \"mode\": \"markers+text\", \"text\": [\"('Golden State Warriors',)\"], \"textfont\": {\"color\": \"rgb(0, 0, 0)\"}, \"textposition\": \"middle center\", \"x\": [0.3058768349238462], \"y\": [0.8467440345642494], \"type\": \"scatter\"}, {\"hoverinfo\": \"none\", \"marker\": {\"color\": \"rgb(255, 0, 0)\", \"line\": {\"color\": \"rgb(0, 0, 0)\", \"width\": 1}, \"size\": 20, \"symbol\": \"circle\"}, \"mode\": \"markers+text\", \"text\": [\"('Houston Rockets',)\"], \"textfont\": {\"color\": \"rgb(0, 0, 0)\"}, \"textposition\": \"middle center\", \"x\": [0.3233963550258525], \"y\": [0.5850220642076611], \"type\": \"scatter\"}, {\"hoverinfo\": \"none\", \"marker\": {\"color\": \"rgb(255, 0, 0)\", \"line\": {\"color\": \"rgb(0, 0, 0)\", \"width\": 1}, \"size\": 20, \"symbol\": \"circle\"}, \"mode\": \"markers+text\", \"text\": [\"('Indiana Pacers',)\"], \"textfont\": {\"color\": \"rgb(0, 0, 0)\"}, \"textposition\": \"middle center\", \"x\": [0.5131061803980489], \"y\": [0.7391021178690709], \"type\": \"scatter\"}, {\"hoverinfo\": \"none\", \"marker\": {\"color\": \"rgb(255, 0, 0)\", \"line\": {\"color\": \"rgb(0, 0, 0)\", \"width\": 1}, \"size\": 20, \"symbol\": \"circle\"}, \"mode\": \"markers+text\", \"text\": [\"('LA Clippers',)\"], \"textfont\": {\"color\": \"rgb(0, 0, 0)\"}, \"textposition\": \"middle center\", \"x\": [0.44463042352600357], \"y\": [0.12997012760615267], \"type\": \"scatter\"}, {\"hoverinfo\": \"none\", \"marker\": {\"color\": \"rgb(255, 0, 0)\", \"line\": {\"color\": \"rgb(0, 0, 0)\", \"width\": 1}, \"size\": 20, \"symbol\": \"circle\"}, \"mode\": \"markers+text\", \"text\": [\"('Los Angeles Lakers',)\"], \"textfont\": {\"color\": \"rgb(0, 0, 0)\"}, \"textposition\": \"middle center\", \"x\": [0.7171745370422026], \"y\": [0.021280857942984954], \"type\": \"scatter\"}, {\"hoverinfo\": \"none\", \"marker\": {\"color\": \"rgb(255, 0, 0)\", \"line\": {\"color\": \"rgb(0, 0, 0)\", \"width\": 1}, \"size\": 20, \"symbol\": \"circle\"}, \"mode\": \"markers+text\", \"text\": [\"('Memphis Grizzlies',)\"], \"textfont\": {\"color\": \"rgb(0, 0, 0)\"}, \"textposition\": \"middle center\", \"x\": [0.8522576784057927], \"y\": [0.6770686116512314], \"type\": \"scatter\"}, {\"hoverinfo\": \"none\", \"marker\": {\"color\": \"rgb(255, 0, 0)\", \"line\": {\"color\": \"rgb(0, 0, 0)\", \"width\": 1}, \"size\": 20, \"symbol\": \"circle\"}, \"mode\": \"markers+text\", \"text\": [\"('Miami Heat',)\"], \"textfont\": {\"color\": \"rgb(0, 0, 0)\"}, \"textposition\": \"middle center\", \"x\": [0.7912324098618182], \"y\": [0.3249702340823911], \"type\": \"scatter\"}, {\"hoverinfo\": \"none\", \"marker\": {\"color\": \"rgb(255, 0, 0)\", \"line\": {\"color\": \"rgb(0, 0, 0)\", \"width\": 1}, \"size\": 20, \"symbol\": \"circle\"}, \"mode\": \"markers+text\", \"text\": [\"('Milwaukee Bucks',)\"], \"textfont\": {\"color\": \"rgb(0, 0, 0)\"}, \"textposition\": \"middle center\", \"x\": [0.022149233130175694], \"y\": [0.28129930457340424], \"type\": \"scatter\"}, {\"hoverinfo\": \"none\", \"marker\": {\"color\": \"rgb(255, 0, 0)\", \"line\": {\"color\": \"rgb(0, 0, 0)\", \"width\": 1}, \"size\": 20, \"symbol\": \"circle\"}, \"mode\": \"markers+text\", \"text\": [\"('Minnesota Timberwolves',)\"], \"textfont\": {\"color\": \"rgb(0, 0, 0)\"}, \"textposition\": \"middle center\", \"x\": [0.34040371754747856], \"y\": [0.7622398768055848], \"type\": \"scatter\"}, {\"hoverinfo\": \"none\", \"marker\": {\"color\": \"rgb(255, 0, 0)\", \"line\": {\"color\": \"rgb(0, 0, 0)\", \"width\": 1}, \"size\": 20, \"symbol\": \"circle\"}, \"mode\": \"markers+text\", \"text\": [\"('New Orleans Pelicans',)\"], \"textfont\": {\"color\": \"rgb(0, 0, 0)\"}, \"textposition\": \"middle center\", \"x\": [0.5075596499031447], \"y\": [0.7363701137329127], \"type\": \"scatter\"}, {\"hoverinfo\": \"none\", \"marker\": {\"color\": \"rgb(255, 0, 0)\", \"line\": {\"color\": \"rgb(0, 0, 0)\", \"width\": 1}, \"size\": 20, \"symbol\": \"circle\"}, \"mode\": \"markers+text\", \"text\": [\"('New York Knicks',)\"], \"textfont\": {\"color\": \"rgb(0, 0, 0)\"}, \"textposition\": \"middle center\", \"x\": [0.44064518764300165], \"y\": [0.8521146325689313], \"type\": \"scatter\"}, {\"hoverinfo\": \"none\", \"marker\": {\"color\": \"rgb(255, 0, 0)\", \"line\": {\"color\": \"rgb(0, 0, 0)\", \"width\": 1}, \"size\": 20, \"symbol\": \"circle\"}, \"mode\": \"markers+text\", \"text\": [\"('Oklahoma City Thunder',)\"], \"textfont\": {\"color\": \"rgb(0, 0, 0)\"}, \"textposition\": \"middle center\", \"x\": [0.3362113339635353], \"y\": [0.058929116339870524], \"type\": \"scatter\"}, {\"hoverinfo\": \"none\", \"marker\": {\"color\": \"rgb(255, 0, 0)\", \"line\": {\"color\": \"rgb(0, 0, 0)\", \"width\": 1}, \"size\": 20, \"symbol\": \"circle\"}, \"mode\": \"markers+text\", \"text\": [\"('Orlando Magic',)\"], \"textfont\": {\"color\": \"rgb(0, 0, 0)\"}, \"textposition\": \"middle center\", \"x\": [0.25024326171135636], \"y\": [0.4778336329249716], \"type\": \"scatter\"}, {\"hoverinfo\": \"none\", \"marker\": {\"color\": \"rgb(255, 0, 0)\", \"line\": {\"color\": \"rgb(0, 0, 0)\", \"width\": 1}, \"size\": 20, \"symbol\": \"circle\"}, \"mode\": \"markers+text\", \"text\": [\"('Philadelphia 76ers',)\"], \"textfont\": {\"color\": \"rgb(0, 0, 0)\"}, \"textposition\": \"middle center\", \"x\": [0.8115951114896895], \"y\": [0.3201207726924048], \"type\": \"scatter\"}, {\"hoverinfo\": \"none\", \"marker\": {\"color\": \"rgb(255, 0, 0)\", \"line\": {\"color\": \"rgb(0, 0, 0)\", \"width\": 1}, \"size\": 20, \"symbol\": \"circle\"}, \"mode\": \"markers+text\", \"text\": [\"('Phoenix Suns',)\"], \"textfont\": {\"color\": \"rgb(0, 0, 0)\"}, \"textposition\": \"middle center\", \"x\": [0.649690889787739], \"y\": [0.5659242174531383], \"type\": \"scatter\"}, {\"hoverinfo\": \"none\", \"marker\": {\"color\": \"rgb(255, 0, 0)\", \"line\": {\"color\": \"rgb(0, 0, 0)\", \"width\": 1}, \"size\": 20, \"symbol\": \"circle\"}, \"mode\": \"markers+text\", \"text\": [\"('Portland Trail Blazers',)\"], \"textfont\": {\"color\": \"rgb(0, 0, 0)\"}, \"textposition\": \"middle center\", \"x\": [0.7173250868268514], \"y\": [0.5720866543300545], \"type\": \"scatter\"}, {\"hoverinfo\": \"none\", \"marker\": {\"color\": \"rgb(255, 0, 0)\", \"line\": {\"color\": \"rgb(0, 0, 0)\", \"width\": 1}, \"size\": 20, \"symbol\": \"circle\"}, \"mode\": \"markers+text\", \"text\": [\"('Sacramento Kings',)\"], \"textfont\": {\"color\": \"rgb(0, 0, 0)\"}, \"textposition\": \"middle center\", \"x\": [0.10484003710461398], \"y\": [0.29322047946298624], \"type\": \"scatter\"}, {\"hoverinfo\": \"none\", \"marker\": {\"color\": \"rgb(255, 0, 0)\", \"line\": {\"color\": \"rgb(0, 0, 0)\", \"width\": 1}, \"size\": 20, \"symbol\": \"circle\"}, \"mode\": \"markers+text\", \"text\": [\"('San Antonio Spurs',)\"], \"textfont\": {\"color\": \"rgb(0, 0, 0)\"}, \"textposition\": \"middle center\", \"x\": [0.42625991051510637], \"y\": [0.5119061414782429], \"type\": \"scatter\"}, {\"hoverinfo\": \"none\", \"marker\": {\"color\": \"rgb(255, 0, 0)\", \"line\": {\"color\": \"rgb(0, 0, 0)\", \"width\": 1}, \"size\": 20, \"symbol\": \"circle\"}, \"mode\": \"markers+text\", \"text\": [\"('Toronto Raptors',)\"], \"textfont\": {\"color\": \"rgb(0, 0, 0)\"}, \"textposition\": \"middle center\", \"x\": [0.6583612242311504], \"y\": [0.8444216260025493], \"type\": \"scatter\"}, {\"hoverinfo\": \"none\", \"marker\": {\"color\": \"rgb(255, 0, 0)\", \"line\": {\"color\": \"rgb(0, 0, 0)\", \"width\": 1}, \"size\": 20, \"symbol\": \"circle\"}, \"mode\": \"markers+text\", \"text\": [\"('Utah Jazz',)\"], \"textfont\": {\"color\": \"rgb(0, 0, 0)\"}, \"textposition\": \"middle center\", \"x\": [0.18494270970276527], \"y\": [0.5595933363937293], \"type\": \"scatter\"}, {\"hoverinfo\": \"none\", \"marker\": {\"color\": \"rgb(255, 0, 0)\", \"line\": {\"color\": \"rgb(0, 0, 0)\", \"width\": 1}, \"size\": 20, \"symbol\": \"circle\"}, \"mode\": \"markers+text\", \"text\": [\"('Washington Wizards',)\"], \"textfont\": {\"color\": \"rgb(0, 0, 0)\"}, \"textposition\": \"middle center\", \"x\": [0.2963878979870257], \"y\": [0.2603674450834452], \"type\": \"scatter\"}, {\"hoverinfo\": \"none\", \"mode\": \"text\", \"text\": [null, null, null, null, null], \"textfont\": {\"color\": \"rgb(0, 0, 0)\"}, \"textposition\": \"middle center\", \"x\": [0.4035687177015097, 0.5009002973231517, 0.746577450564162, 0.6509607082562732, 0.47918741614984506], \"y\": [0.20115011900907545, 0.41634507515397107, 0.38619931508828453, 0.5072425659868954, 0.3894233910683443], \"type\": \"scatter\"}, {\"hoverinfo\": \"none\", \"marker\": {\"color\": \"rgba(255, 255, 255, 0.0)\", \"line\": {\"color\": \"rgba(255, 255, 255, 0.0)\", \"width\": 0}, \"size\": 0, \"symbol\": \"circle\"}, \"mode\": \"markers\", \"x\": [0.5, 0.0, 1.0, 0.5], \"y\": [0.0, 0.5, 0.5, 1.0], \"type\": \"scatter\"}], \"name\": \"1\"}]);\n",
       "                        }).then(function(){\n",
       "                            Plotly.animate('9c93e7d5-8b92-4a54-943d-8be46a486163', null);\n",
       "                        }).then(function(){\n",
       "                            \n",
       "var gd = document.getElementById('9c93e7d5-8b92-4a54-943d-8be46a486163');\n",
       "var x = new MutationObserver(function (mutations, observer) {{\n",
       "        var display = window.getComputedStyle(gd).display;\n",
       "        if (!display || display === 'none') {{\n",
       "            console.log([gd, 'removed!']);\n",
       "            Plotly.purge(gd);\n",
       "            observer.disconnect();\n",
       "        }}\n",
       "}});\n",
       "\n",
       "// Listen for the removal of the full notebook cells\n",
       "var notebookContainer = gd.closest('#notebook-container');\n",
       "if (notebookContainer) {{\n",
       "    x.observe(notebookContainer, {childList: true});\n",
       "}}\n",
       "\n",
       "// Listen for the clearing of the current output cell\n",
       "var outputEl = gd.closest('.output');\n",
       "if (outputEl) {{\n",
       "    x.observe(outputEl, {childList: true});\n",
       "}}\n",
       "\n",
       "                        })\n",
       "                };\n",
       "                });\n",
       "            </script>\n",
       "        </div>"
      ]
     },
     "metadata": {},
     "output_type": "display_data"
    }
   ],
   "source": [
    "a = fm.Animation()\n",
    "g = nx.DiGraph()\n",
    "a.rec(g)\n",
    "\n",
    "transfers = list_all_transfers(connection, 2017)\n",
    "teams = list_all_teams(connection)\n",
    "\n",
    "for team in teams:\n",
    "    add_node(g, team)\n",
    "\n",
    "    \n",
    "#Existem casos em que um time assina com um jogador e na mesma temporada vende ele, vamos ignorar estes casos por enquanto\n",
    "for transfer in transfers:\n",
    "    antigo = get_from_where(connection, transfer[1], transfer[3])\n",
    "    novo = get_team_name(connection, transfer[2])\n",
    "    if(antigo != -1) and (novo != -1):\n",
    "        if(antigo != novo):\n",
    "            id_antigo = get_team_id(connection, antigo)\n",
    "            id_novo = get_team_id(connection, novo)\n",
    "            weight = get_weight(connection, id_antigo, id_novo, 2019)\n",
    "            if(weight == -1):\n",
    "                weight = 0\n",
    "            add_edge(g, antigo, novo, weight)\n",
    "    else:\n",
    "        print(antigo, novo)\n",
    "    \n",
    "    \n",
    "a.rec(g)\n",
    "a.play()"
   ]
  },
  {
   "cell_type": "code",
   "execution_count": 6,
   "metadata": {},
   "outputs": [
    {
     "name": "stdout",
     "output_type": "stream",
     "text": [
      "-1 ('Cleveland Cavaliers',)\n",
      "-1 ('Houston Rockets',)\n",
      "-1 ('Orlando Magic',)\n",
      "-1 ('LA Clippers',)\n",
      "-1 ('New York Knicks',)\n",
      "-1 ('Phoenix Suns',)\n",
      "-1 ('Sacramento Kings',)\n",
      "-1 ('Philadelphia 76ers',)\n",
      "-1 ('Houston Rockets',)\n",
      "-1 ('Miami Heat',)\n",
      "-1 ('Brooklyn Nets',)\n",
      "-1 ('Indiana Pacers',)\n",
      "-1 ('Houston Rockets',)\n",
      "-1 ('Phoenix Suns',)\n",
      "-1 ('Dallas Mavericks',)\n",
      "-1 ('Chicago Bulls',)\n",
      "-1 ('Philadelphia 76ers',)\n",
      "-1 ('Boston Celtics',)\n",
      "-1 ('San Antonio Spurs',)\n",
      "-1 ('Atlanta Hawks',)\n",
      "-1 ('Los Angeles Lakers',)\n",
      "-1 ('Phoenix Suns',)\n",
      "-1 ('Golden State Warriors',)\n",
      "-1 ('Portland Trail Blazers',)\n",
      "-1 ('LA Clippers',)\n",
      "-1 ('Dallas Mavericks',)\n",
      "-1 ('San Antonio Spurs',)\n",
      "-1 ('Brooklyn Nets',)\n",
      "-1 ('New Orleans Pelicans',)\n",
      "-1 ('New Orleans Pelicans',)\n",
      "-1 ('San Antonio Spurs',)\n",
      "-1 ('Boston Celtics',)\n",
      "-1 ('Houston Rockets',)\n",
      "-1 ('Houston Rockets',)\n",
      "-1 ('Orlando Magic',)\n",
      "-1 ('Charlotte Hornets',)\n",
      "-1 ('New Orleans Pelicans',)\n",
      "-1 ('Brooklyn Nets',)\n",
      "-1 ('Detroit Pistons',)\n",
      "-1 ('Orlando Magic',)\n",
      "-1 ('Philadelphia 76ers',)\n",
      "-1 ('Milwaukee Bucks',)\n",
      "-1 ('Charlotte Hornets',)\n",
      "-1 ('New Orleans Pelicans',)\n",
      "-1 ('Boston Celtics',)\n",
      "-1 ('Washington Wizards',)\n",
      "-1 ('Atlanta Hawks',)\n",
      "-1 ('Phoenix Suns',)\n",
      "-1 ('Indiana Pacers',)\n",
      "-1 ('New York Knicks',)\n",
      "-1 ('Miami Heat',)\n",
      "-1 ('Miami Heat',)\n",
      "-1 ('Cleveland Cavaliers',)\n",
      "-1 ('New Orleans Pelicans',)\n",
      "-1 ('Phoenix Suns',)\n",
      "-1 ('New York Knicks',)\n",
      "-1 ('New York Knicks',)\n",
      "-1 ('Detroit Pistons',)\n",
      "-1 ('Cleveland Cavaliers',)\n",
      "-1 ('Washington Wizards',)\n",
      "-1 ('Washington Wizards',)\n",
      "-1 ('LA Clippers',)\n",
      "-1 ('Miami Heat',)\n",
      "-1 ('Phoenix Suns',)\n",
      "-1 ('Oklahoma City Thunder',)\n",
      "-1 ('New Orleans Pelicans',)\n",
      "-1 ('Los Angeles Lakers',)\n",
      "-1 ('Washington Wizards',)\n",
      "-1 ('New York Knicks',)\n",
      "-1 ('Dallas Mavericks',)\n",
      "-1 ('Washington Wizards',)\n",
      "-1 ('Golden State Warriors',)\n",
      "-1 ('Memphis Grizzlies',)\n",
      "-1 ('New York Knicks',)\n",
      "-1 ('Portland Trail Blazers',)\n",
      "-1 ('New York Knicks',)\n",
      "-1 ('Charlotte Hornets',)\n",
      "-1 ('Philadelphia 76ers',)\n",
      "-1 ('Minnesota Timberwolves',)\n",
      "-1 ('Charlotte Hornets',)\n",
      "-1 ('Brooklyn Nets',)\n",
      "-1 ('Detroit Pistons',)\n",
      "-1 ('LA Clippers',)\n",
      "-1 ('Memphis Grizzlies',)\n",
      "-1 ('LA Clippers',)\n",
      "-1 ('Indiana Pacers',)\n",
      "-1 ('Toronto Raptors',)\n",
      "-1 ('Atlanta Hawks',)\n",
      "-1 ('Sacramento Kings',)\n",
      "-1 ('Sacramento Kings',)\n",
      "-1 ('Portland Trail Blazers',)\n",
      "-1 ('Toronto Raptors',)\n",
      "-1 ('Brooklyn Nets',)\n",
      "-1 ('Chicago Bulls',)\n",
      "-1 ('Miami Heat',)\n",
      "-1 ('Miami Heat',)\n",
      "-1 ('Phoenix Suns',)\n",
      "-1 ('Oklahoma City Thunder',)\n",
      "-1 ('Memphis Grizzlies',)\n",
      "-1 ('Houston Rockets',)\n"
     ]
    },
    {
     "data": {
      "application/vnd.plotly.v1+json": {
       "config": {
        "linkText": "Export to plot.ly",
        "plotlyServerURL": "https://plot.ly",
        "showLink": false,
        "staticPlot": true
       },
       "data": [
        {
         "hoverinfo": "none",
         "line": {
          "color": "rgba(255, 255, 255, 0.0)",
          "dash": "solid",
          "width": 1
         },
         "mode": "lines",
         "type": "scatter",
         "x": [
          0.59938265714518,
          0.1300280301327984,
          null,
          0.14366268605399768,
          0.15802738339110686,
          null,
          0.14366268605399768,
          0.15534935735327687,
          null
         ],
         "y": [
          0.332433833135782,
          0.047503423420247826,
          null,
          0.05578059354784766,
          0.056327435332431126,
          null,
          0.05578059354784766,
          0.07104871706245734,
          null
         ]
        },
        {
         "hoverinfo": "none",
         "line": {
          "color": "rgba(255, 255, 255, 0.0)",
          "dash": "solid",
          "width": 1
         },
         "mode": "lines",
         "type": "scatter",
         "x": [
          0.9852669980395963,
          0.17134256663984304,
          null,
          0.1856974381715294,
          0.19923097547935475,
          null,
          0.1856974381715294,
          0.19959136600556474,
          null
         ],
         "y": [
          0.7779724373083199,
          0.8411299803959531,
          null,
          0.8400160951477603,
          0.831202512149237,
          null,
          0.8400160951477603,
          0.8467014077016889,
          null
         ]
        },
        {
         "hoverinfo": "none",
         "line": {
          "color": "rgba(255, 255, 255, 0.0)",
          "dash": "solid",
          "width": 1
         },
         "mode": "lines",
         "type": "scatter",
         "x": [
          0.9852669980395963,
          0.1305052502754127,
          null,
          0.1446978595571185,
          0.15891764336601302,
          null,
          0.1446978595571185,
          0.1575955107936566,
          null
         ],
         "y": [
          0.7779724373083199,
          0.531864895444712,
          null,
          0.5359513068828557,
          0.5321933540039052,
          null,
          0.5359513068828557,
          0.5475170556746841,
          null
         ]
        },
        {
         "hoverinfo": "none",
         "line": {
          "color": "rgba(255, 255, 255, 0.0)",
          "dash": "solid",
          "width": 1
         },
         "mode": "lines",
         "type": "scatter",
         "x": [
          0.9852669980395963,
          0.59938265714518,
          null,
          0.611527962544771,
          0.6253993199273618,
          null,
          0.611527962544771,
          0.6208623120017874,
          null
         ],
         "y": [
          0.7779724373083199,
          0.332433833135782,
          null,
          0.3464566939817046,
          0.353296626570664,
          null,
          0.3464566939817046,
          0.3664098626888264,
          null
         ]
        },
        {
         "hoverinfo": "none",
         "line": {
          "color": "rgba(255, 255, 255, 0.0)",
          "dash": "solid",
          "width": 1
         },
         "mode": "lines",
         "type": "scatter",
         "x": [
          0.9852669980395963,
          0.9224590893816811,
          null,
          0.9248251702863601,
          0.9312735840726667,
          null,
          0.9248251702863601,
          0.92289756334898,
          null
         ],
         "y": [
          0.7779724373083199,
          0.09076227708869977,
          null,
          0.11665065440202643,
          0.14010544199953087,
          null,
          0.11665065440202643,
          0.14266008978786698,
          null
         ]
        },
        {
         "hoverinfo": "none",
         "line": {
          "color": "rgba(255, 255, 255, 0.0)",
          "dash": "solid",
          "width": 1
         },
         "mode": "lines",
         "type": "scatter",
         "x": [
          0.6615399770521982,
          0.59938265714518,
          null,
          0.6127069912851973,
          0.6270247898651694,
          null,
          0.6127069912851973,
          0.6238476378997465,
          null
         ],
         "y": [
          0.3782429415958283,
          0.332433833135782,
          null,
          0.3422536881213415,
          0.34444183961520175,
          null,
          0.3422536881213415,
          0.35882806819873525,
          null
         ]
        },
        {
         "hoverinfo": "none",
         "line": {
          "color": "rgba(255, 255, 255, 0.0)",
          "dash": "solid",
          "width": 1
         },
         "mode": "lines",
         "type": "scatter",
         "x": [
          0.6615399770521982,
          0.14857289565925325,
          null,
          0.1620682878087671,
          0.17350390495299345,
          null,
          0.1620682878087671,
          0.17641795177552036,
          null
         ],
         "y": [
          0.3782429415958283,
          0.7205907873430651,
          null,
          0.7115841305857651,
          0.695694283135258,
          null,
          0.7115841305857651,
          0.7102652023457153,
          null
         ]
        },
        {
         "hoverinfo": "none",
         "line": {
          "color": "rgba(255, 255, 255, 0.0)",
          "dash": "solid",
          "width": 1
         },
         "mode": "lines",
         "type": "scatter",
         "x": [
          0.6333231952655372,
          0.791932100808889,
          null,
          0.7818614718229007,
          0.7752690524361753,
          null,
          0.7818614718229007,
          0.7692122125321048,
          null
         ],
         "y": [
          0.9014938580647948,
          0.606655385308331,
          null,
          0.6253757015462752,
          0.6486965110144843,
          null,
          0.6253757015462752,
          0.6378232944582236,
          null
         ]
        },
        {
         "hoverinfo": "none",
         "line": {
          "color": "rgba(255, 255, 255, 0.0)",
          "dash": "solid",
          "width": 1
         },
         "mode": "lines",
         "type": "scatter",
         "x": [
          0.6333231952655372,
          0.15272696860599377,
          null,
          0.16700058143578383,
          0.18112210441100685,
          null,
          0.16700058143578383,
          0.18015126479646051,
          null
         ],
         "y": [
          0.9014938580647948,
          0.8004613765877595,
          null,
          0.8034620212949801,
          0.7986230662410113,
          null,
          0.8034620212949801,
          0.8140342271083678,
          null
         ]
        },
        {
         "hoverinfo": "none",
         "line": {
          "color": "rgba(255, 255, 255, 0.0)",
          "dash": "solid",
          "width": 1
         },
         "mode": "lines",
         "type": "scatter",
         "x": [
          0.5837498026634218,
          0.38478684788487705,
          null,
          0.39858582246301555,
          0.4105855769253992,
          null,
          0.39858582246301555,
          0.4129513958546566,
          null
         ],
         "y": [
          0.6994277507143435,
          0.8048601273035465,
          null,
          0.7975479184258363,
          0.7831129505159484,
          null,
          0.7975479184258363,
          0.7980116464217545,
          null
         ]
        },
        {
         "hoverinfo": "none",
         "line": {
          "color": "rgba(255, 255, 255, 0.0)",
          "dash": "solid",
          "width": 1
         },
         "mode": "lines",
         "type": "scatter",
         "x": [
          0.9613740468669975,
          0.17134256663984304,
          null,
          0.18570493309517688,
          0.1993088920176257,
          null,
          0.18570493309517688,
          0.1995427596626761,
          null
         ],
         "y": [
          0.8013691338544022,
          0.8411299803959531,
          null,
          0.840407148631781,
          0.8319631071766765,
          null,
          0.840407148631781,
          0.8474700949672603,
          null
         ]
        },
        {
         "hoverinfo": "none",
         "line": {
          "color": "rgba(255, 255, 255, 0.0)",
          "dash": "solid",
          "width": 1
         },
         "mode": "lines",
         "type": "scatter",
         "x": [
          0.4901982805827293,
          0.3574939171361847,
          null,
          0.36893704417647855,
          0.3824366904557825,
          null,
          0.36893704417647855,
          0.37730147151975985,
          null
         ],
         "y": [
          0.7123496504000605,
          0.5282866342742184,
          null,
          0.5441584294604868,
          0.5531437860291523,
          null,
          0.5441584294604868,
          0.5654988830705618,
          null
         ]
        },
        {
         "hoverinfo": "none",
         "line": {
          "color": "rgba(255, 255, 255, 0.0)",
          "dash": "solid",
          "width": 1
         },
         "mode": "lines",
         "type": "scatter",
         "x": [
          0.4901982805827293,
          0.14857289565925325,
          null,
          0.16293945915978103,
          0.17660829636801664,
          null,
          0.16293945915978103,
          0.17672042662233398,
          null
         ],
         "y": [
          0.7123496504000605,
          0.7205907873430651,
          null,
          0.7202442181991043,
          0.7121573683883939,
          null,
          0.7202442181991043,
          0.7276688877113531,
          null
         ]
        },
        {
         "hoverinfo": "none",
         "line": {
          "color": "rgba(255, 255, 255, 0.0)",
          "dash": "solid",
          "width": 1
         },
         "mode": "lines",
         "type": "scatter",
         "x": [
          0.48949944373098575,
          0.865818504755022,
          null,
          0.8520534134221953,
          0.8401200169168231,
          null,
          0.8520534134221953,
          0.8376862218747757,
          null
         ],
         "y": [
          0.38901393473745083,
          0.18336417444798092,
          null,
          0.1908864820484924,
          0.20550387313452476,
          null,
          0.1908864820484924,
          0.19064176082885106,
          null
         ]
        },
        {
         "hoverinfo": "none",
         "line": {
          "color": "rgba(255, 255, 255, 0.0)",
          "dash": "solid",
          "width": 1
         },
         "mode": "lines",
         "type": "scatter",
         "x": [
          0.3574939171361847,
          0.6677203134686431,
          null,
          0.656468701056204,
          0.6430791333843519,
          null,
          0.656468701056204,
          0.648360116929853,
          null
         ],
         "y": [
          0.5282866342742184,
          0.978321213953681,
          null,
          0.9619988934722163,
          0.9524797448731038,
          null,
          0.9619988934722163,
          0.9403314253850381,
          null
         ]
        },
        {
         "hoverinfo": "none",
         "line": {
          "color": "rgba(255, 255, 255, 0.0)",
          "dash": "solid",
          "width": 1
         },
         "mode": "lines",
         "type": "scatter",
         "x": [
          0.15272696860599377,
          0.4718592057136122,
          null,
          0.46287836847890645,
          0.45761293871583775,
          null,
          0.46287836847890645,
          0.4509843552155506,
          null
         ],
         "y": [
          0.8004613765877595,
          0.07244412784167409,
          null,
          0.09293157365505969,
          0.1173522646594711,
          null,
          0.09293157365505969,
          0.10765569175967009,
          null
         ]
        },
        {
         "hoverinfo": "none",
         "line": {
          "color": "rgba(255, 255, 255, 0.0)",
          "dash": "solid",
          "width": 1
         },
         "mode": "lines",
         "type": "scatter",
         "x": [
          0.08378935413714406,
          0.411025227074875,
          null,
          0.39675238718383166,
          0.38360442303195236,
          null,
          0.39675238718383166,
          0.3826296218329885,
          null
         ],
         "y": [
          0.24019969553772447,
          0.17112266597076842,
          null,
          0.17413555503548792,
          0.18471904106099268,
          null,
          0.17413555503548792,
          0.16930871473241127,
          null
         ]
        },
        {
         "hoverinfo": "none",
         "line": {
          "color": "rgba(255, 255, 255, 0.0)",
          "dash": "solid",
          "width": 1
         },
         "mode": "lines",
         "type": "scatter",
         "x": [
          0.865818504755022,
          0.6333231952655372,
          null,
          0.6406372017465817,
          0.6439698793419578,
          null,
          0.6406372017465817,
          0.6512791986972915,
          null
         ],
         "y": [
          0.18336417444798092,
          0.9014938580647948,
          null,
          0.8789024123632145,
          0.8533715286354837,
          null,
          0.8789024123632145,
          0.8612684312493065,
          null
         ]
        },
        {
         "hoverinfo": "none",
         "line": {
          "color": "rgba(255, 255, 255, 0.0)",
          "dash": "solid",
          "width": 1
         },
         "mode": "lines",
         "type": "scatter",
         "x": [
          0.25281888972542055,
          0.15272696860599377,
          null,
          0.16171847747172194,
          0.16699663010402824,
          null,
          0.16171847747172194,
          0.17362015786286863,
          null
         ],
         "y": [
          0.5725726217985725,
          0.8004613765877595,
          null,
          0.7799895569226954,
          0.7555780330899726,
          null,
          0.7799895569226954,
          0.7652861281057485,
          null
         ]
        },
        {
         "hoverinfo": "none",
         "line": {
          "color": "rgba(255, 255, 255, 0.0)",
          "dash": "solid",
          "width": 1
         },
         "mode": "lines",
         "type": "scatter",
         "x": [
          0.29818301961073457,
          0.6333231952655372,
          null,
          0.619116449693525,
          0.6061782210419575,
          null,
          0.619116449693525,
          0.6049102334717588,
          null
         ],
         "y": [
          0.9939453604189677,
          0.9014938580647948,
          null,
          0.9054129196011498,
          0.9168264243725006,
          null,
          0.9054129196011498,
          0.9014874598074163,
          null
         ]
        },
        {
         "hoverinfo": "none",
         "line": {
          "color": "rgba(255, 255, 255, 0.0)",
          "dash": "solid",
          "width": 1
         },
         "mode": "lines",
         "type": "scatter",
         "x": [
          0.4718592057136122,
          0.865818504755022,
          null,
          0.8516183586042978,
          0.837405664056201,
          null,
          0.8516183586042978,
          0.838699217614988,
          null
         ],
         "y": [
          0.07244412784167409,
          0.18336417444798092,
          null,
          0.17936609424861205,
          0.18321250194628166,
          null,
          0.17936609424861205,
          0.16788066274912714,
          null
         ]
        },
        {
         "hoverinfo": "none",
         "line": {
          "color": "rgba(255, 255, 255, 0.0)",
          "dash": "solid",
          "width": 1
         },
         "mode": "lines",
         "type": "scatter",
         "x": [
          0.1300280301327984,
          0.3574939171361847,
          null,
          0.34809886000845414,
          0.3359109766253991,
          null,
          0.34809886000845414,
          0.34233586160842794,
          null
         ],
         "y": [
          0.047503423420247826,
          0.5282866342742184,
          null,
          0.5084287743043868,
          0.4945297382836996,
          null,
          0.5084287743043868,
          0.4843859338748204,
          null
         ]
        },
        {
         "hoverinfo": "none",
         "line": {
          "color": "rgba(255, 255, 255, 0.0)",
          "dash": "solid",
          "width": 1
         },
         "mode": "lines",
         "type": "scatter",
         "x": [
          0.411025227074875,
          0.3574939171361847,
          null,
          0.3612881014718604,
          0.36081756766755785,
          null,
          0.3612881014718604,
          0.36900808076084257,
          null
         ],
         "y": [
          0.17112266597076842,
          0.5282866342742184,
          null,
          0.5029716189055159,
          0.47673897841640706,
          null,
          0.5029716189055159,
          0.48083554358563074,
          null
         ]
        },
        {
         "hoverinfo": "none",
         "marker": {
          "color": "rgba(255, 255, 255, 0.0)",
          "line": {
           "color": "rgba(255, 255, 255, 0.0)",
           "width": 1
          },
          "size": 20,
          "symbol": "circle"
         },
         "mode": "markers+text",
         "text": [
          "('Atlanta Hawks',)"
         ],
         "textfont": {
          "color": "rgb(0, 0, 0)"
         },
         "textposition": "middle center",
         "type": "scatter",
         "x": [
          0.59938265714518
         ],
         "y": [
          0.332433833135782
         ]
        },
        {
         "hoverinfo": "none",
         "marker": {
          "color": "rgba(255, 255, 255, 0.0)",
          "line": {
           "color": "rgba(255, 255, 255, 0.0)",
           "width": 1
          },
          "size": 20,
          "symbol": "circle"
         },
         "mode": "markers+text",
         "text": [
          "('Boston Celtics',)"
         ],
         "textfont": {
          "color": "rgb(0, 0, 0)"
         },
         "textposition": "middle center",
         "type": "scatter",
         "x": [
          0.9852669980395963
         ],
         "y": [
          0.7779724373083199
         ]
        },
        {
         "hoverinfo": "none",
         "marker": {
          "color": "rgba(255, 255, 255, 0.0)",
          "line": {
           "color": "rgba(255, 255, 255, 0.0)",
           "width": 1
          },
          "size": 20,
          "symbol": "circle"
         },
         "mode": "markers+text",
         "text": [
          "('Brooklyn Nets',)"
         ],
         "textfont": {
          "color": "rgb(0, 0, 0)"
         },
         "textposition": "middle center",
         "type": "scatter",
         "x": [
          0.6615399770521982
         ],
         "y": [
          0.3782429415958283
         ]
        },
        {
         "hoverinfo": "none",
         "marker": {
          "color": "rgba(255, 255, 255, 0.0)",
          "line": {
           "color": "rgba(255, 255, 255, 0.0)",
           "width": 1
          },
          "size": 20,
          "symbol": "circle"
         },
         "mode": "markers+text",
         "text": [
          "('Charlotte Hornets',)"
         ],
         "textfont": {
          "color": "rgb(0, 0, 0)"
         },
         "textposition": "middle center",
         "type": "scatter",
         "x": [
          0.9168193781357818
         ],
         "y": [
          0.10756279144382563
         ]
        },
        {
         "hoverinfo": "none",
         "marker": {
          "color": "rgba(255, 255, 255, 0.0)",
          "line": {
           "color": "rgba(255, 255, 255, 0.0)",
           "width": 1
          },
          "size": 20,
          "symbol": "circle"
         },
         "mode": "markers+text",
         "text": [
          "('Chicago Bulls',)"
         ],
         "textfont": {
          "color": "rgb(0, 0, 0)"
         },
         "textposition": "middle center",
         "type": "scatter",
         "x": [
          0.1305052502754127
         ],
         "y": [
          0.531864895444712
         ]
        },
        {
         "hoverinfo": "none",
         "marker": {
          "color": "rgba(255, 255, 255, 0.0)",
          "line": {
           "color": "rgba(255, 255, 255, 0.0)",
           "width": 1
          },
          "size": 20,
          "symbol": "circle"
         },
         "mode": "markers+text",
         "text": [
          "('Cleveland Cavaliers',)"
         ],
         "textfont": {
          "color": "rgb(0, 0, 0)"
         },
         "textposition": "middle center",
         "type": "scatter",
         "x": [
          0.3854339825285763
         ],
         "y": [
          0.41227696105407274
         ]
        },
        {
         "hoverinfo": "none",
         "marker": {
          "color": "rgba(255, 255, 255, 0.0)",
          "line": {
           "color": "rgba(255, 255, 255, 0.0)",
           "width": 1
          },
          "size": 20,
          "symbol": "circle"
         },
         "mode": "markers+text",
         "text": [
          "('Dallas Mavericks',)"
         ],
         "textfont": {
          "color": "rgb(0, 0, 0)"
         },
         "textposition": "middle center",
         "type": "scatter",
         "x": [
          0.9224590893816811
         ],
         "y": [
          0.09076227708869977
         ]
        },
        {
         "hoverinfo": "none",
         "marker": {
          "color": "rgba(255, 255, 255, 0.0)",
          "line": {
           "color": "rgba(255, 255, 255, 0.0)",
           "width": 1
          },
          "size": 20,
          "symbol": "circle"
         },
         "mode": "markers+text",
         "text": [
          "('Denver Nuggets',)"
         ],
         "textfont": {
          "color": "rgb(0, 0, 0)"
         },
         "textposition": "middle center",
         "type": "scatter",
         "x": [
          0.6333231952655372
         ],
         "y": [
          0.9014938580647948
         ]
        },
        {
         "hoverinfo": "none",
         "marker": {
          "color": "rgba(255, 255, 255, 0.0)",
          "line": {
           "color": "rgba(255, 255, 255, 0.0)",
           "width": 1
          },
          "size": 20,
          "symbol": "circle"
         },
         "mode": "markers+text",
         "text": [
          "('Detroit Pistons',)"
         ],
         "textfont": {
          "color": "rgb(0, 0, 0)"
         },
         "textposition": "middle center",
         "type": "scatter",
         "x": [
          0.49550102046735156
         ],
         "y": [
          0.39939813255680245
         ]
        },
        {
         "hoverinfo": "none",
         "marker": {
          "color": "rgba(255, 255, 255, 0.0)",
          "line": {
           "color": "rgba(255, 255, 255, 0.0)",
           "width": 1
          },
          "size": 20,
          "symbol": "circle"
         },
         "mode": "markers+text",
         "text": [
          "('Golden State Warriors',)"
         ],
         "textfont": {
          "color": "rgb(0, 0, 0)"
         },
         "textposition": "middle center",
         "type": "scatter",
         "x": [
          0.5837498026634218
         ],
         "y": [
          0.6994277507143435
         ]
        },
        {
         "hoverinfo": "none",
         "marker": {
          "color": "rgba(255, 255, 255, 0.0)",
          "line": {
           "color": "rgba(255, 255, 255, 0.0)",
           "width": 1
          },
          "size": 20,
          "symbol": "circle"
         },
         "mode": "markers+text",
         "text": [
          "('Houston Rockets',)"
         ],
         "textfont": {
          "color": "rgb(0, 0, 0)"
         },
         "textposition": "middle center",
         "type": "scatter",
         "x": [
          0.9613740468669975
         ],
         "y": [
          0.8013691338544022
         ]
        },
        {
         "hoverinfo": "none",
         "marker": {
          "color": "rgba(255, 255, 255, 0.0)",
          "line": {
           "color": "rgba(255, 255, 255, 0.0)",
           "width": 1
          },
          "size": 20,
          "symbol": "circle"
         },
         "mode": "markers+text",
         "text": [
          "('Indiana Pacers',)"
         ],
         "textfont": {
          "color": "rgb(0, 0, 0)"
         },
         "textposition": "middle center",
         "type": "scatter",
         "x": [
          0.17134256663984304
         ],
         "y": [
          0.8411299803959531
         ]
        },
        {
         "hoverinfo": "none",
         "marker": {
          "color": "rgba(255, 255, 255, 0.0)",
          "line": {
           "color": "rgba(255, 255, 255, 0.0)",
           "width": 1
          },
          "size": 20,
          "symbol": "circle"
         },
         "mode": "markers+text",
         "text": [
          "('LA Clippers',)"
         ],
         "textfont": {
          "color": "rgb(0, 0, 0)"
         },
         "textposition": "middle center",
         "type": "scatter",
         "x": [
          0.4901982805827293
         ],
         "y": [
          0.7123496504000605
         ]
        },
        {
         "hoverinfo": "none",
         "marker": {
          "color": "rgba(255, 255, 255, 0.0)",
          "line": {
           "color": "rgba(255, 255, 255, 0.0)",
           "width": 1
          },
          "size": 20,
          "symbol": "circle"
         },
         "mode": "markers+text",
         "text": [
          "('Los Angeles Lakers',)"
         ],
         "textfont": {
          "color": "rgb(0, 0, 0)"
         },
         "textposition": "middle center",
         "type": "scatter",
         "x": [
          0.48949944373098575
         ],
         "y": [
          0.38901393473745083
         ]
        },
        {
         "hoverinfo": "none",
         "marker": {
          "color": "rgba(255, 255, 255, 0.0)",
          "line": {
           "color": "rgba(255, 255, 255, 0.0)",
           "width": 1
          },
          "size": 20,
          "symbol": "circle"
         },
         "mode": "markers+text",
         "text": [
          "('Memphis Grizzlies',)"
         ],
         "textfont": {
          "color": "rgb(0, 0, 0)"
         },
         "textposition": "middle center",
         "type": "scatter",
         "x": [
          0.3574939171361847
         ],
         "y": [
          0.5282866342742184
         ]
        },
        {
         "hoverinfo": "none",
         "marker": {
          "color": "rgba(255, 255, 255, 0.0)",
          "line": {
           "color": "rgba(255, 255, 255, 0.0)",
           "width": 1
          },
          "size": 20,
          "symbol": "circle"
         },
         "mode": "markers+text",
         "text": [
          "('Miami Heat',)"
         ],
         "textfont": {
          "color": "rgb(0, 0, 0)"
         },
         "textposition": "middle center",
         "type": "scatter",
         "x": [
          0.14857289565925325
         ],
         "y": [
          0.7205907873430651
         ]
        },
        {
         "hoverinfo": "none",
         "marker": {
          "color": "rgba(255, 255, 255, 0.0)",
          "line": {
           "color": "rgba(255, 255, 255, 0.0)",
           "width": 1
          },
          "size": 20,
          "symbol": "circle"
         },
         "mode": "markers+text",
         "text": [
          "('Milwaukee Bucks',)"
         ],
         "textfont": {
          "color": "rgb(0, 0, 0)"
         },
         "textposition": "middle center",
         "type": "scatter",
         "x": [
          0.15272696860599377
         ],
         "y": [
          0.8004613765877595
         ]
        },
        {
         "hoverinfo": "none",
         "marker": {
          "color": "rgba(255, 255, 255, 0.0)",
          "line": {
           "color": "rgba(255, 255, 255, 0.0)",
           "width": 1
          },
          "size": 20,
          "symbol": "circle"
         },
         "mode": "markers+text",
         "text": [
          "('Minnesota Timberwolves',)"
         ],
         "textfont": {
          "color": "rgb(0, 0, 0)"
         },
         "textposition": "middle center",
         "type": "scatter",
         "x": [
          0.08378935413714406
         ],
         "y": [
          0.24019969553772447
         ]
        },
        {
         "hoverinfo": "none",
         "marker": {
          "color": "rgba(255, 255, 255, 0.0)",
          "line": {
           "color": "rgba(255, 255, 255, 0.0)",
           "width": 1
          },
          "size": 20,
          "symbol": "circle"
         },
         "mode": "markers+text",
         "text": [
          "('New Orleans Pelicans',)"
         ],
         "textfont": {
          "color": "rgb(0, 0, 0)"
         },
         "textposition": "middle center",
         "type": "scatter",
         "x": [
          0.865818504755022
         ],
         "y": [
          0.18336417444798092
         ]
        },
        {
         "hoverinfo": "none",
         "marker": {
          "color": "rgba(255, 255, 255, 0.0)",
          "line": {
           "color": "rgba(255, 255, 255, 0.0)",
           "width": 1
          },
          "size": 20,
          "symbol": "circle"
         },
         "mode": "markers+text",
         "text": [
          "('New York Knicks',)"
         ],
         "textfont": {
          "color": "rgb(0, 0, 0)"
         },
         "textposition": "middle center",
         "type": "scatter",
         "x": [
          0.6677203134686431
         ],
         "y": [
          0.978321213953681
         ]
        },
        {
         "hoverinfo": "none",
         "marker": {
          "color": "rgba(255, 255, 255, 0.0)",
          "line": {
           "color": "rgba(255, 255, 255, 0.0)",
           "width": 1
          },
          "size": 20,
          "symbol": "circle"
         },
         "mode": "markers+text",
         "text": [
          "('Oklahoma City Thunder',)"
         ],
         "textfont": {
          "color": "rgb(0, 0, 0)"
         },
         "textposition": "middle center",
         "type": "scatter",
         "x": [
          0.7897709676316589
         ],
         "y": [
          0.9067539556904792
         ]
        },
        {
         "hoverinfo": "none",
         "marker": {
          "color": "rgba(255, 255, 255, 0.0)",
          "line": {
           "color": "rgba(255, 255, 255, 0.0)",
           "width": 1
          },
          "size": 20,
          "symbol": "circle"
         },
         "mode": "markers+text",
         "text": [
          "('Orlando Magic',)"
         ],
         "textfont": {
          "color": "rgb(0, 0, 0)"
         },
         "textposition": "middle center",
         "type": "scatter",
         "x": [
          0.25281888972542055
         ],
         "y": [
          0.5725726217985725
         ]
        },
        {
         "hoverinfo": "none",
         "marker": {
          "color": "rgba(255, 255, 255, 0.0)",
          "line": {
           "color": "rgba(255, 255, 255, 0.0)",
           "width": 1
          },
          "size": 20,
          "symbol": "circle"
         },
         "mode": "markers+text",
         "text": [
          "('Philadelphia 76ers',)"
         ],
         "textfont": {
          "color": "rgb(0, 0, 0)"
         },
         "textposition": "middle center",
         "type": "scatter",
         "x": [
          0.29818301961073457
         ],
         "y": [
          0.9939453604189677
         ]
        },
        {
         "hoverinfo": "none",
         "marker": {
          "color": "rgba(255, 255, 255, 0.0)",
          "line": {
           "color": "rgba(255, 255, 255, 0.0)",
           "width": 1
          },
          "size": 20,
          "symbol": "circle"
         },
         "mode": "markers+text",
         "text": [
          "('Phoenix Suns',)"
         ],
         "textfont": {
          "color": "rgb(0, 0, 0)"
         },
         "textposition": "middle center",
         "type": "scatter",
         "x": [
          0.4718592057136122
         ],
         "y": [
          0.07244412784167409
         ]
        },
        {
         "hoverinfo": "none",
         "marker": {
          "color": "rgba(255, 255, 255, 0.0)",
          "line": {
           "color": "rgba(255, 255, 255, 0.0)",
           "width": 1
          },
          "size": 20,
          "symbol": "circle"
         },
         "mode": "markers+text",
         "text": [
          "('Portland Trail Blazers',)"
         ],
         "textfont": {
          "color": "rgb(0, 0, 0)"
         },
         "textposition": "middle center",
         "type": "scatter",
         "x": [
          0.24639024096894357
         ],
         "y": [
          0.9000433366363173
         ]
        },
        {
         "hoverinfo": "none",
         "marker": {
          "color": "rgba(255, 255, 255, 0.0)",
          "line": {
           "color": "rgba(255, 255, 255, 0.0)",
           "width": 1
          },
          "size": 20,
          "symbol": "circle"
         },
         "mode": "markers+text",
         "text": [
          "('Sacramento Kings',)"
         ],
         "textfont": {
          "color": "rgb(0, 0, 0)"
         },
         "textposition": "middle center",
         "type": "scatter",
         "x": [
          0.1300280301327984
         ],
         "y": [
          0.047503423420247826
         ]
        },
        {
         "hoverinfo": "none",
         "marker": {
          "color": "rgba(255, 255, 255, 0.0)",
          "line": {
           "color": "rgba(255, 255, 255, 0.0)",
           "width": 1
          },
          "size": 20,
          "symbol": "circle"
         },
         "mode": "markers+text",
         "text": [
          "('San Antonio Spurs',)"
         ],
         "textfont": {
          "color": "rgb(0, 0, 0)"
         },
         "textposition": "middle center",
         "type": "scatter",
         "x": [
          0.411025227074875
         ],
         "y": [
          0.17112266597076842
         ]
        },
        {
         "hoverinfo": "none",
         "marker": {
          "color": "rgba(255, 255, 255, 0.0)",
          "line": {
           "color": "rgba(255, 255, 255, 0.0)",
           "width": 1
          },
          "size": 20,
          "symbol": "circle"
         },
         "mode": "markers+text",
         "text": [
          "('Toronto Raptors',)"
         ],
         "textfont": {
          "color": "rgb(0, 0, 0)"
         },
         "textposition": "middle center",
         "type": "scatter",
         "x": [
          0.38478684788487705
         ],
         "y": [
          0.8048601273035465
         ]
        },
        {
         "hoverinfo": "none",
         "marker": {
          "color": "rgba(255, 255, 255, 0.0)",
          "line": {
           "color": "rgba(255, 255, 255, 0.0)",
           "width": 1
          },
          "size": 20,
          "symbol": "circle"
         },
         "mode": "markers+text",
         "text": [
          "('Utah Jazz',)"
         ],
         "textfont": {
          "color": "rgb(0, 0, 0)"
         },
         "textposition": "middle center",
         "type": "scatter",
         "x": [
          0.33974982092982775
         ],
         "y": [
          0.6713711444104047
         ]
        },
        {
         "hoverinfo": "none",
         "marker": {
          "color": "rgba(255, 255, 255, 0.0)",
          "line": {
           "color": "rgba(255, 255, 255, 0.0)",
           "width": 1
          },
          "size": 20,
          "symbol": "circle"
         },
         "mode": "markers+text",
         "text": [
          "('Washington Wizards',)"
         ],
         "textfont": {
          "color": "rgb(0, 0, 0)"
         },
         "textposition": "middle center",
         "type": "scatter",
         "x": [
          0.791932100808889
         ],
         "y": [
          0.606655385308331
         ]
        },
        {
         "hoverinfo": "none",
         "mode": "text",
         "text": [
          null,
          null,
          null,
          null,
          null,
          null,
          null,
          null,
          null,
          null,
          null,
          null,
          null,
          null,
          null,
          null,
          null,
          null,
          null,
          null,
          null,
          null,
          null
         ],
         "textfont": {
          "color": "rgb(0, 0, 0)"
         },
         "textposition": "middle center",
         "type": "scatter",
         "x": [
          0.36923638073470116,
          0.5776950261909244,
          0.5601230821430401,
          0.8000011350382165,
          0.96803469853302,
          0.63583684116406,
          0.40012606821703134,
          0.7228754073571223,
          0.39466767623670085,
          0.48026552127643735,
          0.5659626186756191,
          0.4325345384657332,
          0.31919587139132305,
          0.6817767891794908,
          0.5036720519354052,
          0.32350819758350974,
          0.24905658763712754,
          0.737203981027087,
          0.19156637271112464,
          0.46789845577915784,
          0.6666502509872487,
          0.23289050718548893,
          0.3704017835200763
         ],
         "y": [
          0.16506122533535164,
          0.7833281364477961,
          0.6289920100508801,
          0.5330164355944518,
          0.4300450676718521,
          0.3309978714564822,
          0.5247638646372639,
          0.7724713612515178,
          0.8249029860151645,
          0.7269363634016369,
          0.7950127932067725,
          0.5994141622320357,
          0.6902257879099688,
          0.3113347332479582,
          0.7738580507256494,
          0.45285869110016347,
          0.23173440008276658,
          0.5290679965429838,
          0.6700915656746704,
          0.9736720893419349,
          0.1538445756091426,
          0.3050576528915913,
          0.342773541729763
         ]
        },
        {
         "hoverinfo": "none",
         "marker": {
          "color": "rgba(255, 255, 255, 0.0)",
          "line": {
           "color": "rgba(255, 255, 255, 0.0)",
           "width": 0
          },
          "size": 0,
          "symbol": "circle"
         },
         "mode": "markers",
         "type": "scatter",
         "x": [
          0.5,
          0,
          1,
          0.5
         ],
         "y": [
          0,
          0.5,
          0.5,
          1
         ]
        }
       ],
       "frames": [
        {
         "data": [
          {
           "hoverinfo": "none",
           "line": {
            "color": "rgba(255, 255, 255, 0.0)",
            "dash": "solid",
            "width": 1
           },
           "mode": "lines",
           "type": "scatter",
           "x": [
            0.59938265714518,
            0.1300280301327984,
            null,
            0.14366268605399768,
            0.15802738339110686,
            null,
            0.14366268605399768,
            0.15534935735327687,
            null
           ],
           "y": [
            0.332433833135782,
            0.047503423420247826,
            null,
            0.05578059354784766,
            0.056327435332431126,
            null,
            0.05578059354784766,
            0.07104871706245734,
            null
           ]
          },
          {
           "hoverinfo": "none",
           "line": {
            "color": "rgba(255, 255, 255, 0.0)",
            "dash": "solid",
            "width": 1
           },
           "mode": "lines",
           "type": "scatter",
           "x": [
            0.9852669980395963,
            0.17134256663984304,
            null,
            0.1856974381715294,
            0.19923097547935475,
            null,
            0.1856974381715294,
            0.19959136600556474,
            null
           ],
           "y": [
            0.7779724373083199,
            0.8411299803959531,
            null,
            0.8400160951477603,
            0.831202512149237,
            null,
            0.8400160951477603,
            0.8467014077016889,
            null
           ]
          },
          {
           "hoverinfo": "none",
           "line": {
            "color": "rgba(255, 255, 255, 0.0)",
            "dash": "solid",
            "width": 1
           },
           "mode": "lines",
           "type": "scatter",
           "x": [
            0.9852669980395963,
            0.1305052502754127,
            null,
            0.1446978595571185,
            0.15891764336601302,
            null,
            0.1446978595571185,
            0.1575955107936566,
            null
           ],
           "y": [
            0.7779724373083199,
            0.531864895444712,
            null,
            0.5359513068828557,
            0.5321933540039052,
            null,
            0.5359513068828557,
            0.5475170556746841,
            null
           ]
          },
          {
           "hoverinfo": "none",
           "line": {
            "color": "rgba(255, 255, 255, 0.0)",
            "dash": "solid",
            "width": 1
           },
           "mode": "lines",
           "type": "scatter",
           "x": [
            0.9852669980395963,
            0.59938265714518,
            null,
            0.611527962544771,
            0.6253993199273618,
            null,
            0.611527962544771,
            0.6208623120017874,
            null
           ],
           "y": [
            0.7779724373083199,
            0.332433833135782,
            null,
            0.3464566939817046,
            0.353296626570664,
            null,
            0.3464566939817046,
            0.3664098626888264,
            null
           ]
          },
          {
           "hoverinfo": "none",
           "line": {
            "color": "rgba(255, 255, 255, 0.0)",
            "dash": "solid",
            "width": 1
           },
           "mode": "lines",
           "type": "scatter",
           "x": [
            0.9852669980395963,
            0.9224590893816811,
            null,
            0.9248251702863601,
            0.9312735840726667,
            null,
            0.9248251702863601,
            0.92289756334898,
            null
           ],
           "y": [
            0.7779724373083199,
            0.09076227708869977,
            null,
            0.11665065440202643,
            0.14010544199953087,
            null,
            0.11665065440202643,
            0.14266008978786698,
            null
           ]
          },
          {
           "hoverinfo": "none",
           "line": {
            "color": "rgba(255, 255, 255, 0.0)",
            "dash": "solid",
            "width": 1
           },
           "mode": "lines",
           "type": "scatter",
           "x": [
            0.6615399770521982,
            0.59938265714518,
            null,
            0.6127069912851973,
            0.6270247898651694,
            null,
            0.6127069912851973,
            0.6238476378997465,
            null
           ],
           "y": [
            0.3782429415958283,
            0.332433833135782,
            null,
            0.3422536881213415,
            0.34444183961520175,
            null,
            0.3422536881213415,
            0.35882806819873525,
            null
           ]
          },
          {
           "hoverinfo": "none",
           "line": {
            "color": "rgba(255, 255, 255, 0.0)",
            "dash": "solid",
            "width": 1
           },
           "mode": "lines",
           "type": "scatter",
           "x": [
            0.6615399770521982,
            0.14857289565925325,
            null,
            0.1620682878087671,
            0.17350390495299345,
            null,
            0.1620682878087671,
            0.17641795177552036,
            null
           ],
           "y": [
            0.3782429415958283,
            0.7205907873430651,
            null,
            0.7115841305857651,
            0.695694283135258,
            null,
            0.7115841305857651,
            0.7102652023457153,
            null
           ]
          },
          {
           "hoverinfo": "none",
           "line": {
            "color": "rgba(255, 255, 255, 0.0)",
            "dash": "solid",
            "width": 1
           },
           "mode": "lines",
           "type": "scatter",
           "x": [
            0.6333231952655372,
            0.791932100808889,
            null,
            0.7818614718229007,
            0.7752690524361753,
            null,
            0.7818614718229007,
            0.7692122125321048,
            null
           ],
           "y": [
            0.9014938580647948,
            0.606655385308331,
            null,
            0.6253757015462752,
            0.6486965110144843,
            null,
            0.6253757015462752,
            0.6378232944582236,
            null
           ]
          },
          {
           "hoverinfo": "none",
           "line": {
            "color": "rgba(255, 255, 255, 0.0)",
            "dash": "solid",
            "width": 1
           },
           "mode": "lines",
           "type": "scatter",
           "x": [
            0.6333231952655372,
            0.15272696860599377,
            null,
            0.16700058143578383,
            0.18112210441100685,
            null,
            0.16700058143578383,
            0.18015126479646051,
            null
           ],
           "y": [
            0.9014938580647948,
            0.8004613765877595,
            null,
            0.8034620212949801,
            0.7986230662410113,
            null,
            0.8034620212949801,
            0.8140342271083678,
            null
           ]
          },
          {
           "hoverinfo": "none",
           "line": {
            "color": "rgba(255, 255, 255, 0.0)",
            "dash": "solid",
            "width": 1
           },
           "mode": "lines",
           "type": "scatter",
           "x": [
            0.5837498026634218,
            0.38478684788487705,
            null,
            0.39858582246301555,
            0.4105855769253992,
            null,
            0.39858582246301555,
            0.4129513958546566,
            null
           ],
           "y": [
            0.6994277507143435,
            0.8048601273035465,
            null,
            0.7975479184258363,
            0.7831129505159484,
            null,
            0.7975479184258363,
            0.7980116464217545,
            null
           ]
          },
          {
           "hoverinfo": "none",
           "line": {
            "color": "rgba(255, 255, 255, 0.0)",
            "dash": "solid",
            "width": 1
           },
           "mode": "lines",
           "type": "scatter",
           "x": [
            0.9613740468669975,
            0.17134256663984304,
            null,
            0.18570493309517688,
            0.1993088920176257,
            null,
            0.18570493309517688,
            0.1995427596626761,
            null
           ],
           "y": [
            0.8013691338544022,
            0.8411299803959531,
            null,
            0.840407148631781,
            0.8319631071766765,
            null,
            0.840407148631781,
            0.8474700949672603,
            null
           ]
          },
          {
           "hoverinfo": "none",
           "line": {
            "color": "rgba(255, 255, 255, 0.0)",
            "dash": "solid",
            "width": 1
           },
           "mode": "lines",
           "type": "scatter",
           "x": [
            0.4901982805827293,
            0.3574939171361847,
            null,
            0.36893704417647855,
            0.3824366904557825,
            null,
            0.36893704417647855,
            0.37730147151975985,
            null
           ],
           "y": [
            0.7123496504000605,
            0.5282866342742184,
            null,
            0.5441584294604868,
            0.5531437860291523,
            null,
            0.5441584294604868,
            0.5654988830705618,
            null
           ]
          },
          {
           "hoverinfo": "none",
           "line": {
            "color": "rgba(255, 255, 255, 0.0)",
            "dash": "solid",
            "width": 1
           },
           "mode": "lines",
           "type": "scatter",
           "x": [
            0.4901982805827293,
            0.14857289565925325,
            null,
            0.16293945915978103,
            0.17660829636801664,
            null,
            0.16293945915978103,
            0.17672042662233398,
            null
           ],
           "y": [
            0.7123496504000605,
            0.7205907873430651,
            null,
            0.7202442181991043,
            0.7121573683883939,
            null,
            0.7202442181991043,
            0.7276688877113531,
            null
           ]
          },
          {
           "hoverinfo": "none",
           "line": {
            "color": "rgba(255, 255, 255, 0.0)",
            "dash": "solid",
            "width": 1
           },
           "mode": "lines",
           "type": "scatter",
           "x": [
            0.48949944373098575,
            0.865818504755022,
            null,
            0.8520534134221953,
            0.8401200169168231,
            null,
            0.8520534134221953,
            0.8376862218747757,
            null
           ],
           "y": [
            0.38901393473745083,
            0.18336417444798092,
            null,
            0.1908864820484924,
            0.20550387313452476,
            null,
            0.1908864820484924,
            0.19064176082885106,
            null
           ]
          },
          {
           "hoverinfo": "none",
           "line": {
            "color": "rgba(255, 255, 255, 0.0)",
            "dash": "solid",
            "width": 1
           },
           "mode": "lines",
           "type": "scatter",
           "x": [
            0.3574939171361847,
            0.6677203134686431,
            null,
            0.656468701056204,
            0.6430791333843519,
            null,
            0.656468701056204,
            0.648360116929853,
            null
           ],
           "y": [
            0.5282866342742184,
            0.978321213953681,
            null,
            0.9619988934722163,
            0.9524797448731038,
            null,
            0.9619988934722163,
            0.9403314253850381,
            null
           ]
          },
          {
           "hoverinfo": "none",
           "line": {
            "color": "rgba(255, 255, 255, 0.0)",
            "dash": "solid",
            "width": 1
           },
           "mode": "lines",
           "type": "scatter",
           "x": [
            0.15272696860599377,
            0.4718592057136122,
            null,
            0.46287836847890645,
            0.45761293871583775,
            null,
            0.46287836847890645,
            0.4509843552155506,
            null
           ],
           "y": [
            0.8004613765877595,
            0.07244412784167409,
            null,
            0.09293157365505969,
            0.1173522646594711,
            null,
            0.09293157365505969,
            0.10765569175967009,
            null
           ]
          },
          {
           "hoverinfo": "none",
           "line": {
            "color": "rgba(255, 255, 255, 0.0)",
            "dash": "solid",
            "width": 1
           },
           "mode": "lines",
           "type": "scatter",
           "x": [
            0.08378935413714406,
            0.411025227074875,
            null,
            0.39675238718383166,
            0.38360442303195236,
            null,
            0.39675238718383166,
            0.3826296218329885,
            null
           ],
           "y": [
            0.24019969553772447,
            0.17112266597076842,
            null,
            0.17413555503548792,
            0.18471904106099268,
            null,
            0.17413555503548792,
            0.16930871473241127,
            null
           ]
          },
          {
           "hoverinfo": "none",
           "line": {
            "color": "rgba(255, 255, 255, 0.0)",
            "dash": "solid",
            "width": 1
           },
           "mode": "lines",
           "type": "scatter",
           "x": [
            0.865818504755022,
            0.6333231952655372,
            null,
            0.6406372017465817,
            0.6439698793419578,
            null,
            0.6406372017465817,
            0.6512791986972915,
            null
           ],
           "y": [
            0.18336417444798092,
            0.9014938580647948,
            null,
            0.8789024123632145,
            0.8533715286354837,
            null,
            0.8789024123632145,
            0.8612684312493065,
            null
           ]
          },
          {
           "hoverinfo": "none",
           "line": {
            "color": "rgba(255, 255, 255, 0.0)",
            "dash": "solid",
            "width": 1
           },
           "mode": "lines",
           "type": "scatter",
           "x": [
            0.25281888972542055,
            0.15272696860599377,
            null,
            0.16171847747172194,
            0.16699663010402824,
            null,
            0.16171847747172194,
            0.17362015786286863,
            null
           ],
           "y": [
            0.5725726217985725,
            0.8004613765877595,
            null,
            0.7799895569226954,
            0.7555780330899726,
            null,
            0.7799895569226954,
            0.7652861281057485,
            null
           ]
          },
          {
           "hoverinfo": "none",
           "line": {
            "color": "rgba(255, 255, 255, 0.0)",
            "dash": "solid",
            "width": 1
           },
           "mode": "lines",
           "type": "scatter",
           "x": [
            0.29818301961073457,
            0.6333231952655372,
            null,
            0.619116449693525,
            0.6061782210419575,
            null,
            0.619116449693525,
            0.6049102334717588,
            null
           ],
           "y": [
            0.9939453604189677,
            0.9014938580647948,
            null,
            0.9054129196011498,
            0.9168264243725006,
            null,
            0.9054129196011498,
            0.9014874598074163,
            null
           ]
          },
          {
           "hoverinfo": "none",
           "line": {
            "color": "rgba(255, 255, 255, 0.0)",
            "dash": "solid",
            "width": 1
           },
           "mode": "lines",
           "type": "scatter",
           "x": [
            0.4718592057136122,
            0.865818504755022,
            null,
            0.8516183586042978,
            0.837405664056201,
            null,
            0.8516183586042978,
            0.838699217614988,
            null
           ],
           "y": [
            0.07244412784167409,
            0.18336417444798092,
            null,
            0.17936609424861205,
            0.18321250194628166,
            null,
            0.17936609424861205,
            0.16788066274912714,
            null
           ]
          },
          {
           "hoverinfo": "none",
           "line": {
            "color": "rgba(255, 255, 255, 0.0)",
            "dash": "solid",
            "width": 1
           },
           "mode": "lines",
           "type": "scatter",
           "x": [
            0.1300280301327984,
            0.3574939171361847,
            null,
            0.34809886000845414,
            0.3359109766253991,
            null,
            0.34809886000845414,
            0.34233586160842794,
            null
           ],
           "y": [
            0.047503423420247826,
            0.5282866342742184,
            null,
            0.5084287743043868,
            0.4945297382836996,
            null,
            0.5084287743043868,
            0.4843859338748204,
            null
           ]
          },
          {
           "hoverinfo": "none",
           "line": {
            "color": "rgba(255, 255, 255, 0.0)",
            "dash": "solid",
            "width": 1
           },
           "mode": "lines",
           "type": "scatter",
           "x": [
            0.411025227074875,
            0.3574939171361847,
            null,
            0.3612881014718604,
            0.36081756766755785,
            null,
            0.3612881014718604,
            0.36900808076084257,
            null
           ],
           "y": [
            0.17112266597076842,
            0.5282866342742184,
            null,
            0.5029716189055159,
            0.47673897841640706,
            null,
            0.5029716189055159,
            0.48083554358563074,
            null
           ]
          },
          {
           "hoverinfo": "none",
           "marker": {
            "color": "rgba(255, 255, 255, 0.0)",
            "line": {
             "color": "rgba(255, 255, 255, 0.0)",
             "width": 1
            },
            "size": 20,
            "symbol": "circle"
           },
           "mode": "markers+text",
           "text": [
            "('Atlanta Hawks',)"
           ],
           "textfont": {
            "color": "rgb(0, 0, 0)"
           },
           "textposition": "middle center",
           "type": "scatter",
           "x": [
            0.59938265714518
           ],
           "y": [
            0.332433833135782
           ]
          },
          {
           "hoverinfo": "none",
           "marker": {
            "color": "rgba(255, 255, 255, 0.0)",
            "line": {
             "color": "rgba(255, 255, 255, 0.0)",
             "width": 1
            },
            "size": 20,
            "symbol": "circle"
           },
           "mode": "markers+text",
           "text": [
            "('Boston Celtics',)"
           ],
           "textfont": {
            "color": "rgb(0, 0, 0)"
           },
           "textposition": "middle center",
           "type": "scatter",
           "x": [
            0.9852669980395963
           ],
           "y": [
            0.7779724373083199
           ]
          },
          {
           "hoverinfo": "none",
           "marker": {
            "color": "rgba(255, 255, 255, 0.0)",
            "line": {
             "color": "rgba(255, 255, 255, 0.0)",
             "width": 1
            },
            "size": 20,
            "symbol": "circle"
           },
           "mode": "markers+text",
           "text": [
            "('Brooklyn Nets',)"
           ],
           "textfont": {
            "color": "rgb(0, 0, 0)"
           },
           "textposition": "middle center",
           "type": "scatter",
           "x": [
            0.6615399770521982
           ],
           "y": [
            0.3782429415958283
           ]
          },
          {
           "hoverinfo": "none",
           "marker": {
            "color": "rgba(255, 255, 255, 0.0)",
            "line": {
             "color": "rgba(255, 255, 255, 0.0)",
             "width": 1
            },
            "size": 20,
            "symbol": "circle"
           },
           "mode": "markers+text",
           "text": [
            "('Charlotte Hornets',)"
           ],
           "textfont": {
            "color": "rgb(0, 0, 0)"
           },
           "textposition": "middle center",
           "type": "scatter",
           "x": [
            0.9168193781357818
           ],
           "y": [
            0.10756279144382563
           ]
          },
          {
           "hoverinfo": "none",
           "marker": {
            "color": "rgba(255, 255, 255, 0.0)",
            "line": {
             "color": "rgba(255, 255, 255, 0.0)",
             "width": 1
            },
            "size": 20,
            "symbol": "circle"
           },
           "mode": "markers+text",
           "text": [
            "('Chicago Bulls',)"
           ],
           "textfont": {
            "color": "rgb(0, 0, 0)"
           },
           "textposition": "middle center",
           "type": "scatter",
           "x": [
            0.1305052502754127
           ],
           "y": [
            0.531864895444712
           ]
          },
          {
           "hoverinfo": "none",
           "marker": {
            "color": "rgba(255, 255, 255, 0.0)",
            "line": {
             "color": "rgba(255, 255, 255, 0.0)",
             "width": 1
            },
            "size": 20,
            "symbol": "circle"
           },
           "mode": "markers+text",
           "text": [
            "('Cleveland Cavaliers',)"
           ],
           "textfont": {
            "color": "rgb(0, 0, 0)"
           },
           "textposition": "middle center",
           "type": "scatter",
           "x": [
            0.3854339825285763
           ],
           "y": [
            0.41227696105407274
           ]
          },
          {
           "hoverinfo": "none",
           "marker": {
            "color": "rgba(255, 255, 255, 0.0)",
            "line": {
             "color": "rgba(255, 255, 255, 0.0)",
             "width": 1
            },
            "size": 20,
            "symbol": "circle"
           },
           "mode": "markers+text",
           "text": [
            "('Dallas Mavericks',)"
           ],
           "textfont": {
            "color": "rgb(0, 0, 0)"
           },
           "textposition": "middle center",
           "type": "scatter",
           "x": [
            0.9224590893816811
           ],
           "y": [
            0.09076227708869977
           ]
          },
          {
           "hoverinfo": "none",
           "marker": {
            "color": "rgba(255, 255, 255, 0.0)",
            "line": {
             "color": "rgba(255, 255, 255, 0.0)",
             "width": 1
            },
            "size": 20,
            "symbol": "circle"
           },
           "mode": "markers+text",
           "text": [
            "('Denver Nuggets',)"
           ],
           "textfont": {
            "color": "rgb(0, 0, 0)"
           },
           "textposition": "middle center",
           "type": "scatter",
           "x": [
            0.6333231952655372
           ],
           "y": [
            0.9014938580647948
           ]
          },
          {
           "hoverinfo": "none",
           "marker": {
            "color": "rgba(255, 255, 255, 0.0)",
            "line": {
             "color": "rgba(255, 255, 255, 0.0)",
             "width": 1
            },
            "size": 20,
            "symbol": "circle"
           },
           "mode": "markers+text",
           "text": [
            "('Detroit Pistons',)"
           ],
           "textfont": {
            "color": "rgb(0, 0, 0)"
           },
           "textposition": "middle center",
           "type": "scatter",
           "x": [
            0.49550102046735156
           ],
           "y": [
            0.39939813255680245
           ]
          },
          {
           "hoverinfo": "none",
           "marker": {
            "color": "rgba(255, 255, 255, 0.0)",
            "line": {
             "color": "rgba(255, 255, 255, 0.0)",
             "width": 1
            },
            "size": 20,
            "symbol": "circle"
           },
           "mode": "markers+text",
           "text": [
            "('Golden State Warriors',)"
           ],
           "textfont": {
            "color": "rgb(0, 0, 0)"
           },
           "textposition": "middle center",
           "type": "scatter",
           "x": [
            0.5837498026634218
           ],
           "y": [
            0.6994277507143435
           ]
          },
          {
           "hoverinfo": "none",
           "marker": {
            "color": "rgba(255, 255, 255, 0.0)",
            "line": {
             "color": "rgba(255, 255, 255, 0.0)",
             "width": 1
            },
            "size": 20,
            "symbol": "circle"
           },
           "mode": "markers+text",
           "text": [
            "('Houston Rockets',)"
           ],
           "textfont": {
            "color": "rgb(0, 0, 0)"
           },
           "textposition": "middle center",
           "type": "scatter",
           "x": [
            0.9613740468669975
           ],
           "y": [
            0.8013691338544022
           ]
          },
          {
           "hoverinfo": "none",
           "marker": {
            "color": "rgba(255, 255, 255, 0.0)",
            "line": {
             "color": "rgba(255, 255, 255, 0.0)",
             "width": 1
            },
            "size": 20,
            "symbol": "circle"
           },
           "mode": "markers+text",
           "text": [
            "('Indiana Pacers',)"
           ],
           "textfont": {
            "color": "rgb(0, 0, 0)"
           },
           "textposition": "middle center",
           "type": "scatter",
           "x": [
            0.17134256663984304
           ],
           "y": [
            0.8411299803959531
           ]
          },
          {
           "hoverinfo": "none",
           "marker": {
            "color": "rgba(255, 255, 255, 0.0)",
            "line": {
             "color": "rgba(255, 255, 255, 0.0)",
             "width": 1
            },
            "size": 20,
            "symbol": "circle"
           },
           "mode": "markers+text",
           "text": [
            "('LA Clippers',)"
           ],
           "textfont": {
            "color": "rgb(0, 0, 0)"
           },
           "textposition": "middle center",
           "type": "scatter",
           "x": [
            0.4901982805827293
           ],
           "y": [
            0.7123496504000605
           ]
          },
          {
           "hoverinfo": "none",
           "marker": {
            "color": "rgba(255, 255, 255, 0.0)",
            "line": {
             "color": "rgba(255, 255, 255, 0.0)",
             "width": 1
            },
            "size": 20,
            "symbol": "circle"
           },
           "mode": "markers+text",
           "text": [
            "('Los Angeles Lakers',)"
           ],
           "textfont": {
            "color": "rgb(0, 0, 0)"
           },
           "textposition": "middle center",
           "type": "scatter",
           "x": [
            0.48949944373098575
           ],
           "y": [
            0.38901393473745083
           ]
          },
          {
           "hoverinfo": "none",
           "marker": {
            "color": "rgba(255, 255, 255, 0.0)",
            "line": {
             "color": "rgba(255, 255, 255, 0.0)",
             "width": 1
            },
            "size": 20,
            "symbol": "circle"
           },
           "mode": "markers+text",
           "text": [
            "('Memphis Grizzlies',)"
           ],
           "textfont": {
            "color": "rgb(0, 0, 0)"
           },
           "textposition": "middle center",
           "type": "scatter",
           "x": [
            0.3574939171361847
           ],
           "y": [
            0.5282866342742184
           ]
          },
          {
           "hoverinfo": "none",
           "marker": {
            "color": "rgba(255, 255, 255, 0.0)",
            "line": {
             "color": "rgba(255, 255, 255, 0.0)",
             "width": 1
            },
            "size": 20,
            "symbol": "circle"
           },
           "mode": "markers+text",
           "text": [
            "('Miami Heat',)"
           ],
           "textfont": {
            "color": "rgb(0, 0, 0)"
           },
           "textposition": "middle center",
           "type": "scatter",
           "x": [
            0.14857289565925325
           ],
           "y": [
            0.7205907873430651
           ]
          },
          {
           "hoverinfo": "none",
           "marker": {
            "color": "rgba(255, 255, 255, 0.0)",
            "line": {
             "color": "rgba(255, 255, 255, 0.0)",
             "width": 1
            },
            "size": 20,
            "symbol": "circle"
           },
           "mode": "markers+text",
           "text": [
            "('Milwaukee Bucks',)"
           ],
           "textfont": {
            "color": "rgb(0, 0, 0)"
           },
           "textposition": "middle center",
           "type": "scatter",
           "x": [
            0.15272696860599377
           ],
           "y": [
            0.8004613765877595
           ]
          },
          {
           "hoverinfo": "none",
           "marker": {
            "color": "rgba(255, 255, 255, 0.0)",
            "line": {
             "color": "rgba(255, 255, 255, 0.0)",
             "width": 1
            },
            "size": 20,
            "symbol": "circle"
           },
           "mode": "markers+text",
           "text": [
            "('Minnesota Timberwolves',)"
           ],
           "textfont": {
            "color": "rgb(0, 0, 0)"
           },
           "textposition": "middle center",
           "type": "scatter",
           "x": [
            0.08378935413714406
           ],
           "y": [
            0.24019969553772447
           ]
          },
          {
           "hoverinfo": "none",
           "marker": {
            "color": "rgba(255, 255, 255, 0.0)",
            "line": {
             "color": "rgba(255, 255, 255, 0.0)",
             "width": 1
            },
            "size": 20,
            "symbol": "circle"
           },
           "mode": "markers+text",
           "text": [
            "('New Orleans Pelicans',)"
           ],
           "textfont": {
            "color": "rgb(0, 0, 0)"
           },
           "textposition": "middle center",
           "type": "scatter",
           "x": [
            0.865818504755022
           ],
           "y": [
            0.18336417444798092
           ]
          },
          {
           "hoverinfo": "none",
           "marker": {
            "color": "rgba(255, 255, 255, 0.0)",
            "line": {
             "color": "rgba(255, 255, 255, 0.0)",
             "width": 1
            },
            "size": 20,
            "symbol": "circle"
           },
           "mode": "markers+text",
           "text": [
            "('New York Knicks',)"
           ],
           "textfont": {
            "color": "rgb(0, 0, 0)"
           },
           "textposition": "middle center",
           "type": "scatter",
           "x": [
            0.6677203134686431
           ],
           "y": [
            0.978321213953681
           ]
          },
          {
           "hoverinfo": "none",
           "marker": {
            "color": "rgba(255, 255, 255, 0.0)",
            "line": {
             "color": "rgba(255, 255, 255, 0.0)",
             "width": 1
            },
            "size": 20,
            "symbol": "circle"
           },
           "mode": "markers+text",
           "text": [
            "('Oklahoma City Thunder',)"
           ],
           "textfont": {
            "color": "rgb(0, 0, 0)"
           },
           "textposition": "middle center",
           "type": "scatter",
           "x": [
            0.7897709676316589
           ],
           "y": [
            0.9067539556904792
           ]
          },
          {
           "hoverinfo": "none",
           "marker": {
            "color": "rgba(255, 255, 255, 0.0)",
            "line": {
             "color": "rgba(255, 255, 255, 0.0)",
             "width": 1
            },
            "size": 20,
            "symbol": "circle"
           },
           "mode": "markers+text",
           "text": [
            "('Orlando Magic',)"
           ],
           "textfont": {
            "color": "rgb(0, 0, 0)"
           },
           "textposition": "middle center",
           "type": "scatter",
           "x": [
            0.25281888972542055
           ],
           "y": [
            0.5725726217985725
           ]
          },
          {
           "hoverinfo": "none",
           "marker": {
            "color": "rgba(255, 255, 255, 0.0)",
            "line": {
             "color": "rgba(255, 255, 255, 0.0)",
             "width": 1
            },
            "size": 20,
            "symbol": "circle"
           },
           "mode": "markers+text",
           "text": [
            "('Philadelphia 76ers',)"
           ],
           "textfont": {
            "color": "rgb(0, 0, 0)"
           },
           "textposition": "middle center",
           "type": "scatter",
           "x": [
            0.29818301961073457
           ],
           "y": [
            0.9939453604189677
           ]
          },
          {
           "hoverinfo": "none",
           "marker": {
            "color": "rgba(255, 255, 255, 0.0)",
            "line": {
             "color": "rgba(255, 255, 255, 0.0)",
             "width": 1
            },
            "size": 20,
            "symbol": "circle"
           },
           "mode": "markers+text",
           "text": [
            "('Phoenix Suns',)"
           ],
           "textfont": {
            "color": "rgb(0, 0, 0)"
           },
           "textposition": "middle center",
           "type": "scatter",
           "x": [
            0.4718592057136122
           ],
           "y": [
            0.07244412784167409
           ]
          },
          {
           "hoverinfo": "none",
           "marker": {
            "color": "rgba(255, 255, 255, 0.0)",
            "line": {
             "color": "rgba(255, 255, 255, 0.0)",
             "width": 1
            },
            "size": 20,
            "symbol": "circle"
           },
           "mode": "markers+text",
           "text": [
            "('Portland Trail Blazers',)"
           ],
           "textfont": {
            "color": "rgb(0, 0, 0)"
           },
           "textposition": "middle center",
           "type": "scatter",
           "x": [
            0.24639024096894357
           ],
           "y": [
            0.9000433366363173
           ]
          },
          {
           "hoverinfo": "none",
           "marker": {
            "color": "rgba(255, 255, 255, 0.0)",
            "line": {
             "color": "rgba(255, 255, 255, 0.0)",
             "width": 1
            },
            "size": 20,
            "symbol": "circle"
           },
           "mode": "markers+text",
           "text": [
            "('Sacramento Kings',)"
           ],
           "textfont": {
            "color": "rgb(0, 0, 0)"
           },
           "textposition": "middle center",
           "type": "scatter",
           "x": [
            0.1300280301327984
           ],
           "y": [
            0.047503423420247826
           ]
          },
          {
           "hoverinfo": "none",
           "marker": {
            "color": "rgba(255, 255, 255, 0.0)",
            "line": {
             "color": "rgba(255, 255, 255, 0.0)",
             "width": 1
            },
            "size": 20,
            "symbol": "circle"
           },
           "mode": "markers+text",
           "text": [
            "('San Antonio Spurs',)"
           ],
           "textfont": {
            "color": "rgb(0, 0, 0)"
           },
           "textposition": "middle center",
           "type": "scatter",
           "x": [
            0.411025227074875
           ],
           "y": [
            0.17112266597076842
           ]
          },
          {
           "hoverinfo": "none",
           "marker": {
            "color": "rgba(255, 255, 255, 0.0)",
            "line": {
             "color": "rgba(255, 255, 255, 0.0)",
             "width": 1
            },
            "size": 20,
            "symbol": "circle"
           },
           "mode": "markers+text",
           "text": [
            "('Toronto Raptors',)"
           ],
           "textfont": {
            "color": "rgb(0, 0, 0)"
           },
           "textposition": "middle center",
           "type": "scatter",
           "x": [
            0.38478684788487705
           ],
           "y": [
            0.8048601273035465
           ]
          },
          {
           "hoverinfo": "none",
           "marker": {
            "color": "rgba(255, 255, 255, 0.0)",
            "line": {
             "color": "rgba(255, 255, 255, 0.0)",
             "width": 1
            },
            "size": 20,
            "symbol": "circle"
           },
           "mode": "markers+text",
           "text": [
            "('Utah Jazz',)"
           ],
           "textfont": {
            "color": "rgb(0, 0, 0)"
           },
           "textposition": "middle center",
           "type": "scatter",
           "x": [
            0.33974982092982775
           ],
           "y": [
            0.6713711444104047
           ]
          },
          {
           "hoverinfo": "none",
           "marker": {
            "color": "rgba(255, 255, 255, 0.0)",
            "line": {
             "color": "rgba(255, 255, 255, 0.0)",
             "width": 1
            },
            "size": 20,
            "symbol": "circle"
           },
           "mode": "markers+text",
           "text": [
            "('Washington Wizards',)"
           ],
           "textfont": {
            "color": "rgb(0, 0, 0)"
           },
           "textposition": "middle center",
           "type": "scatter",
           "x": [
            0.791932100808889
           ],
           "y": [
            0.606655385308331
           ]
          },
          {
           "hoverinfo": "none",
           "mode": "text",
           "text": [
            null,
            null,
            null,
            null,
            null,
            null,
            null,
            null,
            null,
            null,
            null,
            null,
            null,
            null,
            null,
            null,
            null,
            null,
            null,
            null,
            null,
            null,
            null
           ],
           "textfont": {
            "color": "rgb(0, 0, 0)"
           },
           "textposition": "middle center",
           "type": "scatter",
           "x": [
            0.36923638073470116,
            0.5776950261909244,
            0.5601230821430401,
            0.8000011350382165,
            0.96803469853302,
            0.63583684116406,
            0.40012606821703134,
            0.7228754073571223,
            0.39466767623670085,
            0.48026552127643735,
            0.5659626186756191,
            0.4325345384657332,
            0.31919587139132305,
            0.6817767891794908,
            0.5036720519354052,
            0.32350819758350974,
            0.24905658763712754,
            0.737203981027087,
            0.19156637271112464,
            0.46789845577915784,
            0.6666502509872487,
            0.23289050718548893,
            0.3704017835200763
           ],
           "y": [
            0.16506122533535164,
            0.7833281364477961,
            0.6289920100508801,
            0.5330164355944518,
            0.4300450676718521,
            0.3309978714564822,
            0.5247638646372639,
            0.7724713612515178,
            0.8249029860151645,
            0.7269363634016369,
            0.7950127932067725,
            0.5994141622320357,
            0.6902257879099688,
            0.3113347332479582,
            0.7738580507256494,
            0.45285869110016347,
            0.23173440008276658,
            0.5290679965429838,
            0.6700915656746704,
            0.9736720893419349,
            0.1538445756091426,
            0.3050576528915913,
            0.342773541729763
           ]
          },
          {
           "hoverinfo": "none",
           "marker": {
            "color": "rgba(255, 255, 255, 0.0)",
            "line": {
             "color": "rgba(255, 255, 255, 0.0)",
             "width": 0
            },
            "size": 0,
            "symbol": "circle"
           },
           "mode": "markers",
           "type": "scatter",
           "x": [
            0.5,
            0,
            1,
            0.5
           ],
           "y": [
            0,
            0.5,
            0.5,
            1
           ]
          }
         ],
         "name": "0"
        },
        {
         "data": [
          {
           "hoverinfo": "none",
           "line": {
            "color": "rgb(0, 0, 0)",
            "dash": "solid",
            "width": 1
           },
           "mode": "lines",
           "type": "scatter",
           "x": [
            0.59938265714518,
            0.1300280301327984,
            null,
            0.14366268605399768,
            0.15802738339110686,
            null,
            0.14366268605399768,
            0.15534935735327687,
            null
           ],
           "y": [
            0.332433833135782,
            0.047503423420247826,
            null,
            0.05578059354784766,
            0.056327435332431126,
            null,
            0.05578059354784766,
            0.07104871706245734,
            null
           ]
          },
          {
           "hoverinfo": "none",
           "line": {
            "color": "rgb(0, 0, 0)",
            "dash": "solid",
            "width": 1
           },
           "mode": "lines",
           "type": "scatter",
           "x": [
            0.9852669980395963,
            0.17134256663984304,
            null,
            0.1856974381715294,
            0.19923097547935475,
            null,
            0.1856974381715294,
            0.19959136600556474,
            null
           ],
           "y": [
            0.7779724373083199,
            0.8411299803959531,
            null,
            0.8400160951477603,
            0.831202512149237,
            null,
            0.8400160951477603,
            0.8467014077016889,
            null
           ]
          },
          {
           "hoverinfo": "none",
           "line": {
            "color": "rgb(0, 0, 0)",
            "dash": "solid",
            "width": 1
           },
           "mode": "lines",
           "type": "scatter",
           "x": [
            0.9852669980395963,
            0.1305052502754127,
            null,
            0.1446978595571185,
            0.15891764336601302,
            null,
            0.1446978595571185,
            0.1575955107936566,
            null
           ],
           "y": [
            0.7779724373083199,
            0.531864895444712,
            null,
            0.5359513068828557,
            0.5321933540039052,
            null,
            0.5359513068828557,
            0.5475170556746841,
            null
           ]
          },
          {
           "hoverinfo": "none",
           "line": {
            "color": "rgb(0, 0, 0)",
            "dash": "solid",
            "width": 1
           },
           "mode": "lines",
           "type": "scatter",
           "x": [
            0.9852669980395963,
            0.59938265714518,
            null,
            0.611527962544771,
            0.6253993199273618,
            null,
            0.611527962544771,
            0.6208623120017874,
            null
           ],
           "y": [
            0.7779724373083199,
            0.332433833135782,
            null,
            0.3464566939817046,
            0.353296626570664,
            null,
            0.3464566939817046,
            0.3664098626888264,
            null
           ]
          },
          {
           "hoverinfo": "none",
           "line": {
            "color": "rgb(0, 0, 0)",
            "dash": "solid",
            "width": 1
           },
           "mode": "lines",
           "type": "scatter",
           "x": [
            0.9852669980395963,
            0.9224590893816811,
            null,
            0.9248251702863601,
            0.9312735840726667,
            null,
            0.9248251702863601,
            0.92289756334898,
            null
           ],
           "y": [
            0.7779724373083199,
            0.09076227708869977,
            null,
            0.11665065440202643,
            0.14010544199953087,
            null,
            0.11665065440202643,
            0.14266008978786698,
            null
           ]
          },
          {
           "hoverinfo": "none",
           "line": {
            "color": "rgb(0, 0, 0)",
            "dash": "solid",
            "width": 1
           },
           "mode": "lines",
           "type": "scatter",
           "x": [
            0.6615399770521982,
            0.59938265714518,
            null,
            0.6127069912851973,
            0.6270247898651694,
            null,
            0.6127069912851973,
            0.6238476378997465,
            null
           ],
           "y": [
            0.3782429415958283,
            0.332433833135782,
            null,
            0.3422536881213415,
            0.34444183961520175,
            null,
            0.3422536881213415,
            0.35882806819873525,
            null
           ]
          },
          {
           "hoverinfo": "none",
           "line": {
            "color": "rgb(0, 0, 0)",
            "dash": "solid",
            "width": 1
           },
           "mode": "lines",
           "type": "scatter",
           "x": [
            0.6615399770521982,
            0.14857289565925325,
            null,
            0.1620682878087671,
            0.17350390495299345,
            null,
            0.1620682878087671,
            0.17641795177552036,
            null
           ],
           "y": [
            0.3782429415958283,
            0.7205907873430651,
            null,
            0.7115841305857651,
            0.695694283135258,
            null,
            0.7115841305857651,
            0.7102652023457153,
            null
           ]
          },
          {
           "hoverinfo": "none",
           "line": {
            "color": "rgb(0, 0, 0)",
            "dash": "solid",
            "width": 1
           },
           "mode": "lines",
           "type": "scatter",
           "x": [
            0.6333231952655372,
            0.791932100808889,
            null,
            0.7818614718229007,
            0.7752690524361753,
            null,
            0.7818614718229007,
            0.7692122125321048,
            null
           ],
           "y": [
            0.9014938580647948,
            0.606655385308331,
            null,
            0.6253757015462752,
            0.6486965110144843,
            null,
            0.6253757015462752,
            0.6378232944582236,
            null
           ]
          },
          {
           "hoverinfo": "none",
           "line": {
            "color": "rgb(0, 0, 0)",
            "dash": "solid",
            "width": 1
           },
           "mode": "lines",
           "type": "scatter",
           "x": [
            0.6333231952655372,
            0.15272696860599377,
            null,
            0.16700058143578383,
            0.18112210441100685,
            null,
            0.16700058143578383,
            0.18015126479646051,
            null
           ],
           "y": [
            0.9014938580647948,
            0.8004613765877595,
            null,
            0.8034620212949801,
            0.7986230662410113,
            null,
            0.8034620212949801,
            0.8140342271083678,
            null
           ]
          },
          {
           "hoverinfo": "none",
           "line": {
            "color": "rgb(0, 0, 0)",
            "dash": "solid",
            "width": 1
           },
           "mode": "lines",
           "type": "scatter",
           "x": [
            0.5837498026634218,
            0.38478684788487705,
            null,
            0.39858582246301555,
            0.4105855769253992,
            null,
            0.39858582246301555,
            0.4129513958546566,
            null
           ],
           "y": [
            0.6994277507143435,
            0.8048601273035465,
            null,
            0.7975479184258363,
            0.7831129505159484,
            null,
            0.7975479184258363,
            0.7980116464217545,
            null
           ]
          },
          {
           "hoverinfo": "none",
           "line": {
            "color": "rgb(0, 0, 0)",
            "dash": "solid",
            "width": 1
           },
           "mode": "lines",
           "type": "scatter",
           "x": [
            0.9613740468669975,
            0.17134256663984304,
            null,
            0.18570493309517688,
            0.1993088920176257,
            null,
            0.18570493309517688,
            0.1995427596626761,
            null
           ],
           "y": [
            0.8013691338544022,
            0.8411299803959531,
            null,
            0.840407148631781,
            0.8319631071766765,
            null,
            0.840407148631781,
            0.8474700949672603,
            null
           ]
          },
          {
           "hoverinfo": "none",
           "line": {
            "color": "rgb(0, 0, 0)",
            "dash": "solid",
            "width": 1
           },
           "mode": "lines",
           "type": "scatter",
           "x": [
            0.4901982805827293,
            0.3574939171361847,
            null,
            0.36893704417647855,
            0.3824366904557825,
            null,
            0.36893704417647855,
            0.37730147151975985,
            null
           ],
           "y": [
            0.7123496504000605,
            0.5282866342742184,
            null,
            0.5441584294604868,
            0.5531437860291523,
            null,
            0.5441584294604868,
            0.5654988830705618,
            null
           ]
          },
          {
           "hoverinfo": "none",
           "line": {
            "color": "rgb(0, 0, 0)",
            "dash": "solid",
            "width": 1
           },
           "mode": "lines",
           "type": "scatter",
           "x": [
            0.4901982805827293,
            0.14857289565925325,
            null,
            0.16293945915978103,
            0.17660829636801664,
            null,
            0.16293945915978103,
            0.17672042662233398,
            null
           ],
           "y": [
            0.7123496504000605,
            0.7205907873430651,
            null,
            0.7202442181991043,
            0.7121573683883939,
            null,
            0.7202442181991043,
            0.7276688877113531,
            null
           ]
          },
          {
           "hoverinfo": "none",
           "line": {
            "color": "rgb(0, 0, 0)",
            "dash": "solid",
            "width": 1
           },
           "mode": "lines",
           "type": "scatter",
           "x": [
            0.48949944373098575,
            0.865818504755022,
            null,
            0.8520534134221953,
            0.8401200169168231,
            null,
            0.8520534134221953,
            0.8376862218747757,
            null
           ],
           "y": [
            0.38901393473745083,
            0.18336417444798092,
            null,
            0.1908864820484924,
            0.20550387313452476,
            null,
            0.1908864820484924,
            0.19064176082885106,
            null
           ]
          },
          {
           "hoverinfo": "none",
           "line": {
            "color": "rgb(0, 0, 0)",
            "dash": "solid",
            "width": 1
           },
           "mode": "lines",
           "type": "scatter",
           "x": [
            0.3574939171361847,
            0.6677203134686431,
            null,
            0.656468701056204,
            0.6430791333843519,
            null,
            0.656468701056204,
            0.648360116929853,
            null
           ],
           "y": [
            0.5282866342742184,
            0.978321213953681,
            null,
            0.9619988934722163,
            0.9524797448731038,
            null,
            0.9619988934722163,
            0.9403314253850381,
            null
           ]
          },
          {
           "hoverinfo": "none",
           "line": {
            "color": "rgb(0, 0, 0)",
            "dash": "solid",
            "width": 1
           },
           "mode": "lines",
           "type": "scatter",
           "x": [
            0.15272696860599377,
            0.4718592057136122,
            null,
            0.46287836847890645,
            0.45761293871583775,
            null,
            0.46287836847890645,
            0.4509843552155506,
            null
           ],
           "y": [
            0.8004613765877595,
            0.07244412784167409,
            null,
            0.09293157365505969,
            0.1173522646594711,
            null,
            0.09293157365505969,
            0.10765569175967009,
            null
           ]
          },
          {
           "hoverinfo": "none",
           "line": {
            "color": "rgb(0, 0, 0)",
            "dash": "solid",
            "width": 1
           },
           "mode": "lines",
           "type": "scatter",
           "x": [
            0.08378935413714406,
            0.411025227074875,
            null,
            0.39675238718383166,
            0.38360442303195236,
            null,
            0.39675238718383166,
            0.3826296218329885,
            null
           ],
           "y": [
            0.24019969553772447,
            0.17112266597076842,
            null,
            0.17413555503548792,
            0.18471904106099268,
            null,
            0.17413555503548792,
            0.16930871473241127,
            null
           ]
          },
          {
           "hoverinfo": "none",
           "line": {
            "color": "rgb(0, 0, 0)",
            "dash": "solid",
            "width": 1
           },
           "mode": "lines",
           "type": "scatter",
           "x": [
            0.865818504755022,
            0.6333231952655372,
            null,
            0.6406372017465817,
            0.6439698793419578,
            null,
            0.6406372017465817,
            0.6512791986972915,
            null
           ],
           "y": [
            0.18336417444798092,
            0.9014938580647948,
            null,
            0.8789024123632145,
            0.8533715286354837,
            null,
            0.8789024123632145,
            0.8612684312493065,
            null
           ]
          },
          {
           "hoverinfo": "none",
           "line": {
            "color": "rgb(0, 0, 0)",
            "dash": "solid",
            "width": 1
           },
           "mode": "lines",
           "type": "scatter",
           "x": [
            0.25281888972542055,
            0.15272696860599377,
            null,
            0.16171847747172194,
            0.16699663010402824,
            null,
            0.16171847747172194,
            0.17362015786286863,
            null
           ],
           "y": [
            0.5725726217985725,
            0.8004613765877595,
            null,
            0.7799895569226954,
            0.7555780330899726,
            null,
            0.7799895569226954,
            0.7652861281057485,
            null
           ]
          },
          {
           "hoverinfo": "none",
           "line": {
            "color": "rgb(0, 0, 0)",
            "dash": "solid",
            "width": 1
           },
           "mode": "lines",
           "type": "scatter",
           "x": [
            0.29818301961073457,
            0.6333231952655372,
            null,
            0.619116449693525,
            0.6061782210419575,
            null,
            0.619116449693525,
            0.6049102334717588,
            null
           ],
           "y": [
            0.9939453604189677,
            0.9014938580647948,
            null,
            0.9054129196011498,
            0.9168264243725006,
            null,
            0.9054129196011498,
            0.9014874598074163,
            null
           ]
          },
          {
           "hoverinfo": "none",
           "line": {
            "color": "rgb(0, 0, 0)",
            "dash": "solid",
            "width": 1
           },
           "mode": "lines",
           "type": "scatter",
           "x": [
            0.4718592057136122,
            0.865818504755022,
            null,
            0.8516183586042978,
            0.837405664056201,
            null,
            0.8516183586042978,
            0.838699217614988,
            null
           ],
           "y": [
            0.07244412784167409,
            0.18336417444798092,
            null,
            0.17936609424861205,
            0.18321250194628166,
            null,
            0.17936609424861205,
            0.16788066274912714,
            null
           ]
          },
          {
           "hoverinfo": "none",
           "line": {
            "color": "rgb(0, 0, 0)",
            "dash": "solid",
            "width": 1
           },
           "mode": "lines",
           "type": "scatter",
           "x": [
            0.1300280301327984,
            0.3574939171361847,
            null,
            0.34809886000845414,
            0.3359109766253991,
            null,
            0.34809886000845414,
            0.34233586160842794,
            null
           ],
           "y": [
            0.047503423420247826,
            0.5282866342742184,
            null,
            0.5084287743043868,
            0.4945297382836996,
            null,
            0.5084287743043868,
            0.4843859338748204,
            null
           ]
          },
          {
           "hoverinfo": "none",
           "line": {
            "color": "rgb(0, 0, 0)",
            "dash": "solid",
            "width": 1
           },
           "mode": "lines",
           "type": "scatter",
           "x": [
            0.411025227074875,
            0.3574939171361847,
            null,
            0.3612881014718604,
            0.36081756766755785,
            null,
            0.3612881014718604,
            0.36900808076084257,
            null
           ],
           "y": [
            0.17112266597076842,
            0.5282866342742184,
            null,
            0.5029716189055159,
            0.47673897841640706,
            null,
            0.5029716189055159,
            0.48083554358563074,
            null
           ]
          },
          {
           "hoverinfo": "none",
           "marker": {
            "color": "rgb(255, 0, 0)",
            "line": {
             "color": "rgb(0, 0, 0)",
             "width": 1
            },
            "size": 20,
            "symbol": "circle"
           },
           "mode": "markers+text",
           "text": [
            "('Atlanta Hawks',)"
           ],
           "textfont": {
            "color": "rgb(0, 0, 0)"
           },
           "textposition": "middle center",
           "type": "scatter",
           "x": [
            0.59938265714518
           ],
           "y": [
            0.332433833135782
           ]
          },
          {
           "hoverinfo": "none",
           "marker": {
            "color": "rgb(255, 0, 0)",
            "line": {
             "color": "rgb(0, 0, 0)",
             "width": 1
            },
            "size": 20,
            "symbol": "circle"
           },
           "mode": "markers+text",
           "text": [
            "('Boston Celtics',)"
           ],
           "textfont": {
            "color": "rgb(0, 0, 0)"
           },
           "textposition": "middle center",
           "type": "scatter",
           "x": [
            0.9852669980395963
           ],
           "y": [
            0.7779724373083199
           ]
          },
          {
           "hoverinfo": "none",
           "marker": {
            "color": "rgb(255, 0, 0)",
            "line": {
             "color": "rgb(0, 0, 0)",
             "width": 1
            },
            "size": 20,
            "symbol": "circle"
           },
           "mode": "markers+text",
           "text": [
            "('Brooklyn Nets',)"
           ],
           "textfont": {
            "color": "rgb(0, 0, 0)"
           },
           "textposition": "middle center",
           "type": "scatter",
           "x": [
            0.6615399770521982
           ],
           "y": [
            0.3782429415958283
           ]
          },
          {
           "hoverinfo": "none",
           "marker": {
            "color": "rgb(255, 0, 0)",
            "line": {
             "color": "rgb(0, 0, 0)",
             "width": 1
            },
            "size": 20,
            "symbol": "circle"
           },
           "mode": "markers+text",
           "text": [
            "('Charlotte Hornets',)"
           ],
           "textfont": {
            "color": "rgb(0, 0, 0)"
           },
           "textposition": "middle center",
           "type": "scatter",
           "x": [
            0.9168193781357818
           ],
           "y": [
            0.10756279144382563
           ]
          },
          {
           "hoverinfo": "none",
           "marker": {
            "color": "rgb(255, 0, 0)",
            "line": {
             "color": "rgb(0, 0, 0)",
             "width": 1
            },
            "size": 20,
            "symbol": "circle"
           },
           "mode": "markers+text",
           "text": [
            "('Chicago Bulls',)"
           ],
           "textfont": {
            "color": "rgb(0, 0, 0)"
           },
           "textposition": "middle center",
           "type": "scatter",
           "x": [
            0.1305052502754127
           ],
           "y": [
            0.531864895444712
           ]
          },
          {
           "hoverinfo": "none",
           "marker": {
            "color": "rgb(255, 0, 0)",
            "line": {
             "color": "rgb(0, 0, 0)",
             "width": 1
            },
            "size": 20,
            "symbol": "circle"
           },
           "mode": "markers+text",
           "text": [
            "('Cleveland Cavaliers',)"
           ],
           "textfont": {
            "color": "rgb(0, 0, 0)"
           },
           "textposition": "middle center",
           "type": "scatter",
           "x": [
            0.3854339825285763
           ],
           "y": [
            0.41227696105407274
           ]
          },
          {
           "hoverinfo": "none",
           "marker": {
            "color": "rgb(255, 0, 0)",
            "line": {
             "color": "rgb(0, 0, 0)",
             "width": 1
            },
            "size": 20,
            "symbol": "circle"
           },
           "mode": "markers+text",
           "text": [
            "('Dallas Mavericks',)"
           ],
           "textfont": {
            "color": "rgb(0, 0, 0)"
           },
           "textposition": "middle center",
           "type": "scatter",
           "x": [
            0.9224590893816811
           ],
           "y": [
            0.09076227708869977
           ]
          },
          {
           "hoverinfo": "none",
           "marker": {
            "color": "rgb(255, 0, 0)",
            "line": {
             "color": "rgb(0, 0, 0)",
             "width": 1
            },
            "size": 20,
            "symbol": "circle"
           },
           "mode": "markers+text",
           "text": [
            "('Denver Nuggets',)"
           ],
           "textfont": {
            "color": "rgb(0, 0, 0)"
           },
           "textposition": "middle center",
           "type": "scatter",
           "x": [
            0.6333231952655372
           ],
           "y": [
            0.9014938580647948
           ]
          },
          {
           "hoverinfo": "none",
           "marker": {
            "color": "rgb(255, 0, 0)",
            "line": {
             "color": "rgb(0, 0, 0)",
             "width": 1
            },
            "size": 20,
            "symbol": "circle"
           },
           "mode": "markers+text",
           "text": [
            "('Detroit Pistons',)"
           ],
           "textfont": {
            "color": "rgb(0, 0, 0)"
           },
           "textposition": "middle center",
           "type": "scatter",
           "x": [
            0.49550102046735156
           ],
           "y": [
            0.39939813255680245
           ]
          },
          {
           "hoverinfo": "none",
           "marker": {
            "color": "rgb(255, 0, 0)",
            "line": {
             "color": "rgb(0, 0, 0)",
             "width": 1
            },
            "size": 20,
            "symbol": "circle"
           },
           "mode": "markers+text",
           "text": [
            "('Golden State Warriors',)"
           ],
           "textfont": {
            "color": "rgb(0, 0, 0)"
           },
           "textposition": "middle center",
           "type": "scatter",
           "x": [
            0.5837498026634218
           ],
           "y": [
            0.6994277507143435
           ]
          },
          {
           "hoverinfo": "none",
           "marker": {
            "color": "rgb(255, 0, 0)",
            "line": {
             "color": "rgb(0, 0, 0)",
             "width": 1
            },
            "size": 20,
            "symbol": "circle"
           },
           "mode": "markers+text",
           "text": [
            "('Houston Rockets',)"
           ],
           "textfont": {
            "color": "rgb(0, 0, 0)"
           },
           "textposition": "middle center",
           "type": "scatter",
           "x": [
            0.9613740468669975
           ],
           "y": [
            0.8013691338544022
           ]
          },
          {
           "hoverinfo": "none",
           "marker": {
            "color": "rgb(255, 0, 0)",
            "line": {
             "color": "rgb(0, 0, 0)",
             "width": 1
            },
            "size": 20,
            "symbol": "circle"
           },
           "mode": "markers+text",
           "text": [
            "('Indiana Pacers',)"
           ],
           "textfont": {
            "color": "rgb(0, 0, 0)"
           },
           "textposition": "middle center",
           "type": "scatter",
           "x": [
            0.17134256663984304
           ],
           "y": [
            0.8411299803959531
           ]
          },
          {
           "hoverinfo": "none",
           "marker": {
            "color": "rgb(255, 0, 0)",
            "line": {
             "color": "rgb(0, 0, 0)",
             "width": 1
            },
            "size": 20,
            "symbol": "circle"
           },
           "mode": "markers+text",
           "text": [
            "('LA Clippers',)"
           ],
           "textfont": {
            "color": "rgb(0, 0, 0)"
           },
           "textposition": "middle center",
           "type": "scatter",
           "x": [
            0.4901982805827293
           ],
           "y": [
            0.7123496504000605
           ]
          },
          {
           "hoverinfo": "none",
           "marker": {
            "color": "rgb(255, 0, 0)",
            "line": {
             "color": "rgb(0, 0, 0)",
             "width": 1
            },
            "size": 20,
            "symbol": "circle"
           },
           "mode": "markers+text",
           "text": [
            "('Los Angeles Lakers',)"
           ],
           "textfont": {
            "color": "rgb(0, 0, 0)"
           },
           "textposition": "middle center",
           "type": "scatter",
           "x": [
            0.48949944373098575
           ],
           "y": [
            0.38901393473745083
           ]
          },
          {
           "hoverinfo": "none",
           "marker": {
            "color": "rgb(255, 0, 0)",
            "line": {
             "color": "rgb(0, 0, 0)",
             "width": 1
            },
            "size": 20,
            "symbol": "circle"
           },
           "mode": "markers+text",
           "text": [
            "('Memphis Grizzlies',)"
           ],
           "textfont": {
            "color": "rgb(0, 0, 0)"
           },
           "textposition": "middle center",
           "type": "scatter",
           "x": [
            0.3574939171361847
           ],
           "y": [
            0.5282866342742184
           ]
          },
          {
           "hoverinfo": "none",
           "marker": {
            "color": "rgb(255, 0, 0)",
            "line": {
             "color": "rgb(0, 0, 0)",
             "width": 1
            },
            "size": 20,
            "symbol": "circle"
           },
           "mode": "markers+text",
           "text": [
            "('Miami Heat',)"
           ],
           "textfont": {
            "color": "rgb(0, 0, 0)"
           },
           "textposition": "middle center",
           "type": "scatter",
           "x": [
            0.14857289565925325
           ],
           "y": [
            0.7205907873430651
           ]
          },
          {
           "hoverinfo": "none",
           "marker": {
            "color": "rgb(255, 0, 0)",
            "line": {
             "color": "rgb(0, 0, 0)",
             "width": 1
            },
            "size": 20,
            "symbol": "circle"
           },
           "mode": "markers+text",
           "text": [
            "('Milwaukee Bucks',)"
           ],
           "textfont": {
            "color": "rgb(0, 0, 0)"
           },
           "textposition": "middle center",
           "type": "scatter",
           "x": [
            0.15272696860599377
           ],
           "y": [
            0.8004613765877595
           ]
          },
          {
           "hoverinfo": "none",
           "marker": {
            "color": "rgb(255, 0, 0)",
            "line": {
             "color": "rgb(0, 0, 0)",
             "width": 1
            },
            "size": 20,
            "symbol": "circle"
           },
           "mode": "markers+text",
           "text": [
            "('Minnesota Timberwolves',)"
           ],
           "textfont": {
            "color": "rgb(0, 0, 0)"
           },
           "textposition": "middle center",
           "type": "scatter",
           "x": [
            0.08378935413714406
           ],
           "y": [
            0.24019969553772447
           ]
          },
          {
           "hoverinfo": "none",
           "marker": {
            "color": "rgb(255, 0, 0)",
            "line": {
             "color": "rgb(0, 0, 0)",
             "width": 1
            },
            "size": 20,
            "symbol": "circle"
           },
           "mode": "markers+text",
           "text": [
            "('New Orleans Pelicans',)"
           ],
           "textfont": {
            "color": "rgb(0, 0, 0)"
           },
           "textposition": "middle center",
           "type": "scatter",
           "x": [
            0.865818504755022
           ],
           "y": [
            0.18336417444798092
           ]
          },
          {
           "hoverinfo": "none",
           "marker": {
            "color": "rgb(255, 0, 0)",
            "line": {
             "color": "rgb(0, 0, 0)",
             "width": 1
            },
            "size": 20,
            "symbol": "circle"
           },
           "mode": "markers+text",
           "text": [
            "('New York Knicks',)"
           ],
           "textfont": {
            "color": "rgb(0, 0, 0)"
           },
           "textposition": "middle center",
           "type": "scatter",
           "x": [
            0.6677203134686431
           ],
           "y": [
            0.978321213953681
           ]
          },
          {
           "hoverinfo": "none",
           "marker": {
            "color": "rgb(255, 0, 0)",
            "line": {
             "color": "rgb(0, 0, 0)",
             "width": 1
            },
            "size": 20,
            "symbol": "circle"
           },
           "mode": "markers+text",
           "text": [
            "('Oklahoma City Thunder',)"
           ],
           "textfont": {
            "color": "rgb(0, 0, 0)"
           },
           "textposition": "middle center",
           "type": "scatter",
           "x": [
            0.7897709676316589
           ],
           "y": [
            0.9067539556904792
           ]
          },
          {
           "hoverinfo": "none",
           "marker": {
            "color": "rgb(255, 0, 0)",
            "line": {
             "color": "rgb(0, 0, 0)",
             "width": 1
            },
            "size": 20,
            "symbol": "circle"
           },
           "mode": "markers+text",
           "text": [
            "('Orlando Magic',)"
           ],
           "textfont": {
            "color": "rgb(0, 0, 0)"
           },
           "textposition": "middle center",
           "type": "scatter",
           "x": [
            0.25281888972542055
           ],
           "y": [
            0.5725726217985725
           ]
          },
          {
           "hoverinfo": "none",
           "marker": {
            "color": "rgb(255, 0, 0)",
            "line": {
             "color": "rgb(0, 0, 0)",
             "width": 1
            },
            "size": 20,
            "symbol": "circle"
           },
           "mode": "markers+text",
           "text": [
            "('Philadelphia 76ers',)"
           ],
           "textfont": {
            "color": "rgb(0, 0, 0)"
           },
           "textposition": "middle center",
           "type": "scatter",
           "x": [
            0.29818301961073457
           ],
           "y": [
            0.9939453604189677
           ]
          },
          {
           "hoverinfo": "none",
           "marker": {
            "color": "rgb(255, 0, 0)",
            "line": {
             "color": "rgb(0, 0, 0)",
             "width": 1
            },
            "size": 20,
            "symbol": "circle"
           },
           "mode": "markers+text",
           "text": [
            "('Phoenix Suns',)"
           ],
           "textfont": {
            "color": "rgb(0, 0, 0)"
           },
           "textposition": "middle center",
           "type": "scatter",
           "x": [
            0.4718592057136122
           ],
           "y": [
            0.07244412784167409
           ]
          },
          {
           "hoverinfo": "none",
           "marker": {
            "color": "rgb(255, 0, 0)",
            "line": {
             "color": "rgb(0, 0, 0)",
             "width": 1
            },
            "size": 20,
            "symbol": "circle"
           },
           "mode": "markers+text",
           "text": [
            "('Portland Trail Blazers',)"
           ],
           "textfont": {
            "color": "rgb(0, 0, 0)"
           },
           "textposition": "middle center",
           "type": "scatter",
           "x": [
            0.24639024096894357
           ],
           "y": [
            0.9000433366363173
           ]
          },
          {
           "hoverinfo": "none",
           "marker": {
            "color": "rgb(255, 0, 0)",
            "line": {
             "color": "rgb(0, 0, 0)",
             "width": 1
            },
            "size": 20,
            "symbol": "circle"
           },
           "mode": "markers+text",
           "text": [
            "('Sacramento Kings',)"
           ],
           "textfont": {
            "color": "rgb(0, 0, 0)"
           },
           "textposition": "middle center",
           "type": "scatter",
           "x": [
            0.1300280301327984
           ],
           "y": [
            0.047503423420247826
           ]
          },
          {
           "hoverinfo": "none",
           "marker": {
            "color": "rgb(255, 0, 0)",
            "line": {
             "color": "rgb(0, 0, 0)",
             "width": 1
            },
            "size": 20,
            "symbol": "circle"
           },
           "mode": "markers+text",
           "text": [
            "('San Antonio Spurs',)"
           ],
           "textfont": {
            "color": "rgb(0, 0, 0)"
           },
           "textposition": "middle center",
           "type": "scatter",
           "x": [
            0.411025227074875
           ],
           "y": [
            0.17112266597076842
           ]
          },
          {
           "hoverinfo": "none",
           "marker": {
            "color": "rgb(255, 0, 0)",
            "line": {
             "color": "rgb(0, 0, 0)",
             "width": 1
            },
            "size": 20,
            "symbol": "circle"
           },
           "mode": "markers+text",
           "text": [
            "('Toronto Raptors',)"
           ],
           "textfont": {
            "color": "rgb(0, 0, 0)"
           },
           "textposition": "middle center",
           "type": "scatter",
           "x": [
            0.38478684788487705
           ],
           "y": [
            0.8048601273035465
           ]
          },
          {
           "hoverinfo": "none",
           "marker": {
            "color": "rgb(255, 0, 0)",
            "line": {
             "color": "rgb(0, 0, 0)",
             "width": 1
            },
            "size": 20,
            "symbol": "circle"
           },
           "mode": "markers+text",
           "text": [
            "('Utah Jazz',)"
           ],
           "textfont": {
            "color": "rgb(0, 0, 0)"
           },
           "textposition": "middle center",
           "type": "scatter",
           "x": [
            0.33974982092982775
           ],
           "y": [
            0.6713711444104047
           ]
          },
          {
           "hoverinfo": "none",
           "marker": {
            "color": "rgb(255, 0, 0)",
            "line": {
             "color": "rgb(0, 0, 0)",
             "width": 1
            },
            "size": 20,
            "symbol": "circle"
           },
           "mode": "markers+text",
           "text": [
            "('Washington Wizards',)"
           ],
           "textfont": {
            "color": "rgb(0, 0, 0)"
           },
           "textposition": "middle center",
           "type": "scatter",
           "x": [
            0.791932100808889
           ],
           "y": [
            0.606655385308331
           ]
          },
          {
           "hoverinfo": "none",
           "mode": "text",
           "text": [
            null,
            null,
            null,
            null,
            null,
            null,
            null,
            null,
            null,
            null,
            null,
            null,
            null,
            null,
            null,
            null,
            null,
            null,
            null,
            null,
            null,
            null,
            null
           ],
           "textfont": {
            "color": "rgb(0, 0, 0)"
           },
           "textposition": "middle center",
           "type": "scatter",
           "x": [
            0.36923638073470116,
            0.5776950261909244,
            0.5601230821430401,
            0.8000011350382165,
            0.96803469853302,
            0.63583684116406,
            0.40012606821703134,
            0.7228754073571223,
            0.39466767623670085,
            0.48026552127643735,
            0.5659626186756191,
            0.4325345384657332,
            0.31919587139132305,
            0.6817767891794908,
            0.5036720519354052,
            0.32350819758350974,
            0.24905658763712754,
            0.737203981027087,
            0.19156637271112464,
            0.46789845577915784,
            0.6666502509872487,
            0.23289050718548893,
            0.3704017835200763
           ],
           "y": [
            0.16506122533535164,
            0.7833281364477961,
            0.6289920100508801,
            0.5330164355944518,
            0.4300450676718521,
            0.3309978714564822,
            0.5247638646372639,
            0.7724713612515178,
            0.8249029860151645,
            0.7269363634016369,
            0.7950127932067725,
            0.5994141622320357,
            0.6902257879099688,
            0.3113347332479582,
            0.7738580507256494,
            0.45285869110016347,
            0.23173440008276658,
            0.5290679965429838,
            0.6700915656746704,
            0.9736720893419349,
            0.1538445756091426,
            0.3050576528915913,
            0.342773541729763
           ]
          },
          {
           "hoverinfo": "none",
           "marker": {
            "color": "rgba(255, 255, 255, 0.0)",
            "line": {
             "color": "rgba(255, 255, 255, 0.0)",
             "width": 0
            },
            "size": 0,
            "symbol": "circle"
           },
           "mode": "markers",
           "type": "scatter",
           "x": [
            0.5,
            0,
            1,
            0.5
           ],
           "y": [
            0,
            0.5,
            0.5,
            1
           ]
          }
         ],
         "name": "1"
        }
       ],
       "layout": {
        "height": 526,
        "margin": {
         "b": 0,
         "l": 0,
         "r": 0,
         "t": 0
        },
        "showlegend": false,
        "sliders": [
         {
          "currentvalue": {
           "visible": false
          },
          "steps": [
           {
            "args": [
             [
              0
             ],
             {
              "frame": {
               "redraw": false
              },
              "mode": "immediate"
             }
            ],
            "label": "",
            "method": "animate"
           },
           {
            "args": [
             [
              1
             ],
             {
              "frame": {
               "redraw": false
              },
              "mode": "immediate"
             }
            ],
            "label": "",
            "method": "animate"
           }
          ]
         }
        ],
        "template": {
         "data": {
          "bar": [
           {
            "error_x": {
             "color": "#2a3f5f"
            },
            "error_y": {
             "color": "#2a3f5f"
            },
            "marker": {
             "line": {
              "color": "#E5ECF6",
              "width": 0.5
             }
            },
            "type": "bar"
           }
          ],
          "barpolar": [
           {
            "marker": {
             "line": {
              "color": "#E5ECF6",
              "width": 0.5
             }
            },
            "type": "barpolar"
           }
          ],
          "carpet": [
           {
            "aaxis": {
             "endlinecolor": "#2a3f5f",
             "gridcolor": "white",
             "linecolor": "white",
             "minorgridcolor": "white",
             "startlinecolor": "#2a3f5f"
            },
            "baxis": {
             "endlinecolor": "#2a3f5f",
             "gridcolor": "white",
             "linecolor": "white",
             "minorgridcolor": "white",
             "startlinecolor": "#2a3f5f"
            },
            "type": "carpet"
           }
          ],
          "choropleth": [
           {
            "colorbar": {
             "outlinewidth": 0,
             "ticks": ""
            },
            "type": "choropleth"
           }
          ],
          "contour": [
           {
            "colorbar": {
             "outlinewidth": 0,
             "ticks": ""
            },
            "colorscale": [
             [
              0,
              "#0d0887"
             ],
             [
              0.1111111111111111,
              "#46039f"
             ],
             [
              0.2222222222222222,
              "#7201a8"
             ],
             [
              0.3333333333333333,
              "#9c179e"
             ],
             [
              0.4444444444444444,
              "#bd3786"
             ],
             [
              0.5555555555555556,
              "#d8576b"
             ],
             [
              0.6666666666666666,
              "#ed7953"
             ],
             [
              0.7777777777777778,
              "#fb9f3a"
             ],
             [
              0.8888888888888888,
              "#fdca26"
             ],
             [
              1,
              "#f0f921"
             ]
            ],
            "type": "contour"
           }
          ],
          "contourcarpet": [
           {
            "colorbar": {
             "outlinewidth": 0,
             "ticks": ""
            },
            "type": "contourcarpet"
           }
          ],
          "heatmap": [
           {
            "colorbar": {
             "outlinewidth": 0,
             "ticks": ""
            },
            "colorscale": [
             [
              0,
              "#0d0887"
             ],
             [
              0.1111111111111111,
              "#46039f"
             ],
             [
              0.2222222222222222,
              "#7201a8"
             ],
             [
              0.3333333333333333,
              "#9c179e"
             ],
             [
              0.4444444444444444,
              "#bd3786"
             ],
             [
              0.5555555555555556,
              "#d8576b"
             ],
             [
              0.6666666666666666,
              "#ed7953"
             ],
             [
              0.7777777777777778,
              "#fb9f3a"
             ],
             [
              0.8888888888888888,
              "#fdca26"
             ],
             [
              1,
              "#f0f921"
             ]
            ],
            "type": "heatmap"
           }
          ],
          "heatmapgl": [
           {
            "colorbar": {
             "outlinewidth": 0,
             "ticks": ""
            },
            "colorscale": [
             [
              0,
              "#0d0887"
             ],
             [
              0.1111111111111111,
              "#46039f"
             ],
             [
              0.2222222222222222,
              "#7201a8"
             ],
             [
              0.3333333333333333,
              "#9c179e"
             ],
             [
              0.4444444444444444,
              "#bd3786"
             ],
             [
              0.5555555555555556,
              "#d8576b"
             ],
             [
              0.6666666666666666,
              "#ed7953"
             ],
             [
              0.7777777777777778,
              "#fb9f3a"
             ],
             [
              0.8888888888888888,
              "#fdca26"
             ],
             [
              1,
              "#f0f921"
             ]
            ],
            "type": "heatmapgl"
           }
          ],
          "histogram": [
           {
            "marker": {
             "colorbar": {
              "outlinewidth": 0,
              "ticks": ""
             }
            },
            "type": "histogram"
           }
          ],
          "histogram2d": [
           {
            "colorbar": {
             "outlinewidth": 0,
             "ticks": ""
            },
            "colorscale": [
             [
              0,
              "#0d0887"
             ],
             [
              0.1111111111111111,
              "#46039f"
             ],
             [
              0.2222222222222222,
              "#7201a8"
             ],
             [
              0.3333333333333333,
              "#9c179e"
             ],
             [
              0.4444444444444444,
              "#bd3786"
             ],
             [
              0.5555555555555556,
              "#d8576b"
             ],
             [
              0.6666666666666666,
              "#ed7953"
             ],
             [
              0.7777777777777778,
              "#fb9f3a"
             ],
             [
              0.8888888888888888,
              "#fdca26"
             ],
             [
              1,
              "#f0f921"
             ]
            ],
            "type": "histogram2d"
           }
          ],
          "histogram2dcontour": [
           {
            "colorbar": {
             "outlinewidth": 0,
             "ticks": ""
            },
            "colorscale": [
             [
              0,
              "#0d0887"
             ],
             [
              0.1111111111111111,
              "#46039f"
             ],
             [
              0.2222222222222222,
              "#7201a8"
             ],
             [
              0.3333333333333333,
              "#9c179e"
             ],
             [
              0.4444444444444444,
              "#bd3786"
             ],
             [
              0.5555555555555556,
              "#d8576b"
             ],
             [
              0.6666666666666666,
              "#ed7953"
             ],
             [
              0.7777777777777778,
              "#fb9f3a"
             ],
             [
              0.8888888888888888,
              "#fdca26"
             ],
             [
              1,
              "#f0f921"
             ]
            ],
            "type": "histogram2dcontour"
           }
          ],
          "mesh3d": [
           {
            "colorbar": {
             "outlinewidth": 0,
             "ticks": ""
            },
            "type": "mesh3d"
           }
          ],
          "parcoords": [
           {
            "line": {
             "colorbar": {
              "outlinewidth": 0,
              "ticks": ""
             }
            },
            "type": "parcoords"
           }
          ],
          "scatter": [
           {
            "marker": {
             "colorbar": {
              "outlinewidth": 0,
              "ticks": ""
             }
            },
            "type": "scatter"
           }
          ],
          "scatter3d": [
           {
            "line": {
             "colorbar": {
              "outlinewidth": 0,
              "ticks": ""
             }
            },
            "marker": {
             "colorbar": {
              "outlinewidth": 0,
              "ticks": ""
             }
            },
            "type": "scatter3d"
           }
          ],
          "scattercarpet": [
           {
            "marker": {
             "colorbar": {
              "outlinewidth": 0,
              "ticks": ""
             }
            },
            "type": "scattercarpet"
           }
          ],
          "scattergeo": [
           {
            "marker": {
             "colorbar": {
              "outlinewidth": 0,
              "ticks": ""
             }
            },
            "type": "scattergeo"
           }
          ],
          "scattergl": [
           {
            "marker": {
             "colorbar": {
              "outlinewidth": 0,
              "ticks": ""
             }
            },
            "type": "scattergl"
           }
          ],
          "scattermapbox": [
           {
            "marker": {
             "colorbar": {
              "outlinewidth": 0,
              "ticks": ""
             }
            },
            "type": "scattermapbox"
           }
          ],
          "scatterpolar": [
           {
            "marker": {
             "colorbar": {
              "outlinewidth": 0,
              "ticks": ""
             }
            },
            "type": "scatterpolar"
           }
          ],
          "scatterpolargl": [
           {
            "marker": {
             "colorbar": {
              "outlinewidth": 0,
              "ticks": ""
             }
            },
            "type": "scatterpolargl"
           }
          ],
          "scatterternary": [
           {
            "marker": {
             "colorbar": {
              "outlinewidth": 0,
              "ticks": ""
             }
            },
            "type": "scatterternary"
           }
          ],
          "surface": [
           {
            "colorbar": {
             "outlinewidth": 0,
             "ticks": ""
            },
            "colorscale": [
             [
              0,
              "#0d0887"
             ],
             [
              0.1111111111111111,
              "#46039f"
             ],
             [
              0.2222222222222222,
              "#7201a8"
             ],
             [
              0.3333333333333333,
              "#9c179e"
             ],
             [
              0.4444444444444444,
              "#bd3786"
             ],
             [
              0.5555555555555556,
              "#d8576b"
             ],
             [
              0.6666666666666666,
              "#ed7953"
             ],
             [
              0.7777777777777778,
              "#fb9f3a"
             ],
             [
              0.8888888888888888,
              "#fdca26"
             ],
             [
              1,
              "#f0f921"
             ]
            ],
            "type": "surface"
           }
          ],
          "table": [
           {
            "cells": {
             "fill": {
              "color": "#EBF0F8"
             },
             "line": {
              "color": "white"
             }
            },
            "header": {
             "fill": {
              "color": "#C8D4E3"
             },
             "line": {
              "color": "white"
             }
            },
            "type": "table"
           }
          ]
         },
         "layout": {
          "annotationdefaults": {
           "arrowcolor": "#2a3f5f",
           "arrowhead": 0,
           "arrowwidth": 1
          },
          "colorscale": {
           "diverging": [
            [
             0,
             "#8e0152"
            ],
            [
             0.1,
             "#c51b7d"
            ],
            [
             0.2,
             "#de77ae"
            ],
            [
             0.3,
             "#f1b6da"
            ],
            [
             0.4,
             "#fde0ef"
            ],
            [
             0.5,
             "#f7f7f7"
            ],
            [
             0.6,
             "#e6f5d0"
            ],
            [
             0.7,
             "#b8e186"
            ],
            [
             0.8,
             "#7fbc41"
            ],
            [
             0.9,
             "#4d9221"
            ],
            [
             1,
             "#276419"
            ]
           ],
           "sequential": [
            [
             0,
             "#0d0887"
            ],
            [
             0.1111111111111111,
             "#46039f"
            ],
            [
             0.2222222222222222,
             "#7201a8"
            ],
            [
             0.3333333333333333,
             "#9c179e"
            ],
            [
             0.4444444444444444,
             "#bd3786"
            ],
            [
             0.5555555555555556,
             "#d8576b"
            ],
            [
             0.6666666666666666,
             "#ed7953"
            ],
            [
             0.7777777777777778,
             "#fb9f3a"
            ],
            [
             0.8888888888888888,
             "#fdca26"
            ],
            [
             1,
             "#f0f921"
            ]
           ],
           "sequentialminus": [
            [
             0,
             "#0d0887"
            ],
            [
             0.1111111111111111,
             "#46039f"
            ],
            [
             0.2222222222222222,
             "#7201a8"
            ],
            [
             0.3333333333333333,
             "#9c179e"
            ],
            [
             0.4444444444444444,
             "#bd3786"
            ],
            [
             0.5555555555555556,
             "#d8576b"
            ],
            [
             0.6666666666666666,
             "#ed7953"
            ],
            [
             0.7777777777777778,
             "#fb9f3a"
            ],
            [
             0.8888888888888888,
             "#fdca26"
            ],
            [
             1,
             "#f0f921"
            ]
           ]
          },
          "colorway": [
           "#636efa",
           "#EF553B",
           "#00cc96",
           "#ab63fa",
           "#FFA15A",
           "#19d3f3",
           "#FF6692",
           "#B6E880",
           "#FF97FF",
           "#FECB52"
          ],
          "font": {
           "color": "#2a3f5f"
          },
          "geo": {
           "bgcolor": "white",
           "lakecolor": "white",
           "landcolor": "#E5ECF6",
           "showlakes": true,
           "showland": true,
           "subunitcolor": "white"
          },
          "hoverlabel": {
           "align": "left"
          },
          "hovermode": "closest",
          "mapbox": {
           "style": "light"
          },
          "paper_bgcolor": "white",
          "plot_bgcolor": "#E5ECF6",
          "polar": {
           "angularaxis": {
            "gridcolor": "white",
            "linecolor": "white",
            "ticks": ""
           },
           "bgcolor": "#E5ECF6",
           "radialaxis": {
            "gridcolor": "white",
            "linecolor": "white",
            "ticks": ""
           }
          },
          "scene": {
           "xaxis": {
            "backgroundcolor": "#E5ECF6",
            "gridcolor": "white",
            "gridwidth": 2,
            "linecolor": "white",
            "showbackground": true,
            "ticks": "",
            "zerolinecolor": "white"
           },
           "yaxis": {
            "backgroundcolor": "#E5ECF6",
            "gridcolor": "white",
            "gridwidth": 2,
            "linecolor": "white",
            "showbackground": true,
            "ticks": "",
            "zerolinecolor": "white"
           },
           "zaxis": {
            "backgroundcolor": "#E5ECF6",
            "gridcolor": "white",
            "gridwidth": 2,
            "linecolor": "white",
            "showbackground": true,
            "ticks": "",
            "zerolinecolor": "white"
           }
          },
          "shapedefaults": {
           "line": {
            "color": "#2a3f5f"
           }
          },
          "ternary": {
           "aaxis": {
            "gridcolor": "white",
            "linecolor": "white",
            "ticks": ""
           },
           "baxis": {
            "gridcolor": "white",
            "linecolor": "white",
            "ticks": ""
           },
           "bgcolor": "#E5ECF6",
           "caxis": {
            "gridcolor": "white",
            "linecolor": "white",
            "ticks": ""
           }
          },
          "title": {
           "x": 0.05
          },
          "xaxis": {
           "automargin": true,
           "gridcolor": "white",
           "linecolor": "white",
           "ticks": "",
           "zerolinecolor": "white",
           "zerolinewidth": 2
          },
          "yaxis": {
           "automargin": true,
           "gridcolor": "white",
           "linecolor": "white",
           "ticks": "",
           "zerolinecolor": "white",
           "zerolinewidth": 2
          }
         }
        },
        "updatemenus": [
         {
          "buttons": [
           {
            "args": [
             null,
             {
              "frame": {
               "redraw": false
              },
              "fromcurrent": true
             }
            ],
            "label": "Play",
            "method": "animate"
           },
           {
            "args": [
             [
              null
             ],
             {
              "frame": {
               "redraw": false
              },
              "mode": "immediate"
             }
            ],
            "label": "Pause",
            "method": "animate"
           }
          ],
          "showactive": true,
          "type": "buttons"
         }
        ],
        "width": 912,
        "xaxis": {
         "showgrid": false,
         "showticklabels": false,
         "zeroline": false
        },
        "yaxis": {
         "showgrid": false,
         "showticklabels": false,
         "zeroline": false
        }
       }
      },
      "text/html": [
       "<div>\n",
       "        \n",
       "        \n",
       "            <div id=\"81be6d51-85d5-43aa-aa6f-6dac5525def9\" class=\"plotly-graph-div\" style=\"height:526.0px; width:912.0px;\"></div>\n",
       "            <script type=\"text/javascript\">\n",
       "                require([\"plotly\"], function(Plotly) {\n",
       "                    window.PLOTLYENV=window.PLOTLYENV || {};\n",
       "                    \n",
       "                if (document.getElementById(\"81be6d51-85d5-43aa-aa6f-6dac5525def9\")) {\n",
       "                    Plotly.newPlot(\n",
       "                        '81be6d51-85d5-43aa-aa6f-6dac5525def9',\n",
       "                        [{\"hoverinfo\": \"none\", \"line\": {\"color\": \"rgba(255, 255, 255, 0.0)\", \"dash\": \"solid\", \"width\": 1}, \"mode\": \"lines\", \"type\": \"scatter\", \"x\": [0.59938265714518, 0.1300280301327984, null, 0.14366268605399768, 0.15802738339110686, null, 0.14366268605399768, 0.15534935735327687, null], \"y\": [0.332433833135782, 0.047503423420247826, null, 0.05578059354784766, 0.056327435332431126, null, 0.05578059354784766, 0.07104871706245734, null]}, {\"hoverinfo\": \"none\", \"line\": {\"color\": \"rgba(255, 255, 255, 0.0)\", \"dash\": \"solid\", \"width\": 1}, \"mode\": \"lines\", \"type\": \"scatter\", \"x\": [0.9852669980395963, 0.17134256663984304, null, 0.1856974381715294, 0.19923097547935475, null, 0.1856974381715294, 0.19959136600556474, null], \"y\": [0.7779724373083199, 0.8411299803959531, null, 0.8400160951477603, 0.831202512149237, null, 0.8400160951477603, 0.8467014077016889, null]}, {\"hoverinfo\": \"none\", \"line\": {\"color\": \"rgba(255, 255, 255, 0.0)\", \"dash\": \"solid\", \"width\": 1}, \"mode\": \"lines\", \"type\": \"scatter\", \"x\": [0.9852669980395963, 0.1305052502754127, null, 0.1446978595571185, 0.15891764336601302, null, 0.1446978595571185, 0.1575955107936566, null], \"y\": [0.7779724373083199, 0.531864895444712, null, 0.5359513068828557, 0.5321933540039052, null, 0.5359513068828557, 0.5475170556746841, null]}, {\"hoverinfo\": \"none\", \"line\": {\"color\": \"rgba(255, 255, 255, 0.0)\", \"dash\": \"solid\", \"width\": 1}, \"mode\": \"lines\", \"type\": \"scatter\", \"x\": [0.9852669980395963, 0.59938265714518, null, 0.611527962544771, 0.6253993199273618, null, 0.611527962544771, 0.6208623120017874, null], \"y\": [0.7779724373083199, 0.332433833135782, null, 0.3464566939817046, 0.353296626570664, null, 0.3464566939817046, 0.3664098626888264, null]}, {\"hoverinfo\": \"none\", \"line\": {\"color\": \"rgba(255, 255, 255, 0.0)\", \"dash\": \"solid\", \"width\": 1}, \"mode\": \"lines\", \"type\": \"scatter\", \"x\": [0.9852669980395963, 0.9224590893816811, null, 0.9248251702863601, 0.9312735840726667, null, 0.9248251702863601, 0.92289756334898, null], \"y\": [0.7779724373083199, 0.09076227708869977, null, 0.11665065440202643, 0.14010544199953087, null, 0.11665065440202643, 0.14266008978786698, null]}, {\"hoverinfo\": \"none\", \"line\": {\"color\": \"rgba(255, 255, 255, 0.0)\", \"dash\": \"solid\", \"width\": 1}, \"mode\": \"lines\", \"type\": \"scatter\", \"x\": [0.6615399770521982, 0.59938265714518, null, 0.6127069912851973, 0.6270247898651694, null, 0.6127069912851973, 0.6238476378997465, null], \"y\": [0.3782429415958283, 0.332433833135782, null, 0.3422536881213415, 0.34444183961520175, null, 0.3422536881213415, 0.35882806819873525, null]}, {\"hoverinfo\": \"none\", \"line\": {\"color\": \"rgba(255, 255, 255, 0.0)\", \"dash\": \"solid\", \"width\": 1}, \"mode\": \"lines\", \"type\": \"scatter\", \"x\": [0.6615399770521982, 0.14857289565925325, null, 0.1620682878087671, 0.17350390495299345, null, 0.1620682878087671, 0.17641795177552036, null], \"y\": [0.3782429415958283, 0.7205907873430651, null, 0.7115841305857651, 0.695694283135258, null, 0.7115841305857651, 0.7102652023457153, null]}, {\"hoverinfo\": \"none\", \"line\": {\"color\": \"rgba(255, 255, 255, 0.0)\", \"dash\": \"solid\", \"width\": 1}, \"mode\": \"lines\", \"type\": \"scatter\", \"x\": [0.6333231952655372, 0.791932100808889, null, 0.7818614718229007, 0.7752690524361753, null, 0.7818614718229007, 0.7692122125321048, null], \"y\": [0.9014938580647948, 0.606655385308331, null, 0.6253757015462752, 0.6486965110144843, null, 0.6253757015462752, 0.6378232944582236, null]}, {\"hoverinfo\": \"none\", \"line\": {\"color\": \"rgba(255, 255, 255, 0.0)\", \"dash\": \"solid\", \"width\": 1}, \"mode\": \"lines\", \"type\": \"scatter\", \"x\": [0.6333231952655372, 0.15272696860599377, null, 0.16700058143578383, 0.18112210441100685, null, 0.16700058143578383, 0.18015126479646051, null], \"y\": [0.9014938580647948, 0.8004613765877595, null, 0.8034620212949801, 0.7986230662410113, null, 0.8034620212949801, 0.8140342271083678, null]}, {\"hoverinfo\": \"none\", \"line\": {\"color\": \"rgba(255, 255, 255, 0.0)\", \"dash\": \"solid\", \"width\": 1}, \"mode\": \"lines\", \"type\": \"scatter\", \"x\": [0.5837498026634218, 0.38478684788487705, null, 0.39858582246301555, 0.4105855769253992, null, 0.39858582246301555, 0.4129513958546566, null], \"y\": [0.6994277507143435, 0.8048601273035465, null, 0.7975479184258363, 0.7831129505159484, null, 0.7975479184258363, 0.7980116464217545, null]}, {\"hoverinfo\": \"none\", \"line\": {\"color\": \"rgba(255, 255, 255, 0.0)\", \"dash\": \"solid\", \"width\": 1}, \"mode\": \"lines\", \"type\": \"scatter\", \"x\": [0.9613740468669975, 0.17134256663984304, null, 0.18570493309517688, 0.1993088920176257, null, 0.18570493309517688, 0.1995427596626761, null], \"y\": [0.8013691338544022, 0.8411299803959531, null, 0.840407148631781, 0.8319631071766765, null, 0.840407148631781, 0.8474700949672603, null]}, {\"hoverinfo\": \"none\", \"line\": {\"color\": \"rgba(255, 255, 255, 0.0)\", \"dash\": \"solid\", \"width\": 1}, \"mode\": \"lines\", \"type\": \"scatter\", \"x\": [0.4901982805827293, 0.3574939171361847, null, 0.36893704417647855, 0.3824366904557825, null, 0.36893704417647855, 0.37730147151975985, null], \"y\": [0.7123496504000605, 0.5282866342742184, null, 0.5441584294604868, 0.5531437860291523, null, 0.5441584294604868, 0.5654988830705618, null]}, {\"hoverinfo\": \"none\", \"line\": {\"color\": \"rgba(255, 255, 255, 0.0)\", \"dash\": \"solid\", \"width\": 1}, \"mode\": \"lines\", \"type\": \"scatter\", \"x\": [0.4901982805827293, 0.14857289565925325, null, 0.16293945915978103, 0.17660829636801664, null, 0.16293945915978103, 0.17672042662233398, null], \"y\": [0.7123496504000605, 0.7205907873430651, null, 0.7202442181991043, 0.7121573683883939, null, 0.7202442181991043, 0.7276688877113531, null]}, {\"hoverinfo\": \"none\", \"line\": {\"color\": \"rgba(255, 255, 255, 0.0)\", \"dash\": \"solid\", \"width\": 1}, \"mode\": \"lines\", \"type\": \"scatter\", \"x\": [0.48949944373098575, 0.865818504755022, null, 0.8520534134221953, 0.8401200169168231, null, 0.8520534134221953, 0.8376862218747757, null], \"y\": [0.38901393473745083, 0.18336417444798092, null, 0.1908864820484924, 0.20550387313452476, null, 0.1908864820484924, 0.19064176082885106, null]}, {\"hoverinfo\": \"none\", \"line\": {\"color\": \"rgba(255, 255, 255, 0.0)\", \"dash\": \"solid\", \"width\": 1}, \"mode\": \"lines\", \"type\": \"scatter\", \"x\": [0.3574939171361847, 0.6677203134686431, null, 0.656468701056204, 0.6430791333843519, null, 0.656468701056204, 0.648360116929853, null], \"y\": [0.5282866342742184, 0.978321213953681, null, 0.9619988934722163, 0.9524797448731038, null, 0.9619988934722163, 0.9403314253850381, null]}, {\"hoverinfo\": \"none\", \"line\": {\"color\": \"rgba(255, 255, 255, 0.0)\", \"dash\": \"solid\", \"width\": 1}, \"mode\": \"lines\", \"type\": \"scatter\", \"x\": [0.15272696860599377, 0.4718592057136122, null, 0.46287836847890645, 0.45761293871583775, null, 0.46287836847890645, 0.4509843552155506, null], \"y\": [0.8004613765877595, 0.07244412784167409, null, 0.09293157365505969, 0.1173522646594711, null, 0.09293157365505969, 0.10765569175967009, null]}, {\"hoverinfo\": \"none\", \"line\": {\"color\": \"rgba(255, 255, 255, 0.0)\", \"dash\": \"solid\", \"width\": 1}, \"mode\": \"lines\", \"type\": \"scatter\", \"x\": [0.08378935413714406, 0.411025227074875, null, 0.39675238718383166, 0.38360442303195236, null, 0.39675238718383166, 0.3826296218329885, null], \"y\": [0.24019969553772447, 0.17112266597076842, null, 0.17413555503548792, 0.18471904106099268, null, 0.17413555503548792, 0.16930871473241127, null]}, {\"hoverinfo\": \"none\", \"line\": {\"color\": \"rgba(255, 255, 255, 0.0)\", \"dash\": \"solid\", \"width\": 1}, \"mode\": \"lines\", \"type\": \"scatter\", \"x\": [0.865818504755022, 0.6333231952655372, null, 0.6406372017465817, 0.6439698793419578, null, 0.6406372017465817, 0.6512791986972915, null], \"y\": [0.18336417444798092, 0.9014938580647948, null, 0.8789024123632145, 0.8533715286354837, null, 0.8789024123632145, 0.8612684312493065, null]}, {\"hoverinfo\": \"none\", \"line\": {\"color\": \"rgba(255, 255, 255, 0.0)\", \"dash\": \"solid\", \"width\": 1}, \"mode\": \"lines\", \"type\": \"scatter\", \"x\": [0.25281888972542055, 0.15272696860599377, null, 0.16171847747172194, 0.16699663010402824, null, 0.16171847747172194, 0.17362015786286863, null], \"y\": [0.5725726217985725, 0.8004613765877595, null, 0.7799895569226954, 0.7555780330899726, null, 0.7799895569226954, 0.7652861281057485, null]}, {\"hoverinfo\": \"none\", \"line\": {\"color\": \"rgba(255, 255, 255, 0.0)\", \"dash\": \"solid\", \"width\": 1}, \"mode\": \"lines\", \"type\": \"scatter\", \"x\": [0.29818301961073457, 0.6333231952655372, null, 0.619116449693525, 0.6061782210419575, null, 0.619116449693525, 0.6049102334717588, null], \"y\": [0.9939453604189677, 0.9014938580647948, null, 0.9054129196011498, 0.9168264243725006, null, 0.9054129196011498, 0.9014874598074163, null]}, {\"hoverinfo\": \"none\", \"line\": {\"color\": \"rgba(255, 255, 255, 0.0)\", \"dash\": \"solid\", \"width\": 1}, \"mode\": \"lines\", \"type\": \"scatter\", \"x\": [0.4718592057136122, 0.865818504755022, null, 0.8516183586042978, 0.837405664056201, null, 0.8516183586042978, 0.838699217614988, null], \"y\": [0.07244412784167409, 0.18336417444798092, null, 0.17936609424861205, 0.18321250194628166, null, 0.17936609424861205, 0.16788066274912714, null]}, {\"hoverinfo\": \"none\", \"line\": {\"color\": \"rgba(255, 255, 255, 0.0)\", \"dash\": \"solid\", \"width\": 1}, \"mode\": \"lines\", \"type\": \"scatter\", \"x\": [0.1300280301327984, 0.3574939171361847, null, 0.34809886000845414, 0.3359109766253991, null, 0.34809886000845414, 0.34233586160842794, null], \"y\": [0.047503423420247826, 0.5282866342742184, null, 0.5084287743043868, 0.4945297382836996, null, 0.5084287743043868, 0.4843859338748204, null]}, {\"hoverinfo\": \"none\", \"line\": {\"color\": \"rgba(255, 255, 255, 0.0)\", \"dash\": \"solid\", \"width\": 1}, \"mode\": \"lines\", \"type\": \"scatter\", \"x\": [0.411025227074875, 0.3574939171361847, null, 0.3612881014718604, 0.36081756766755785, null, 0.3612881014718604, 0.36900808076084257, null], \"y\": [0.17112266597076842, 0.5282866342742184, null, 0.5029716189055159, 0.47673897841640706, null, 0.5029716189055159, 0.48083554358563074, null]}, {\"hoverinfo\": \"none\", \"marker\": {\"color\": \"rgba(255, 255, 255, 0.0)\", \"line\": {\"color\": \"rgba(255, 255, 255, 0.0)\", \"width\": 1}, \"size\": 20, \"symbol\": \"circle\"}, \"mode\": \"markers+text\", \"text\": [\"('Atlanta Hawks',)\"], \"textfont\": {\"color\": \"rgb(0, 0, 0)\"}, \"textposition\": \"middle center\", \"type\": \"scatter\", \"x\": [0.59938265714518], \"y\": [0.332433833135782]}, {\"hoverinfo\": \"none\", \"marker\": {\"color\": \"rgba(255, 255, 255, 0.0)\", \"line\": {\"color\": \"rgba(255, 255, 255, 0.0)\", \"width\": 1}, \"size\": 20, \"symbol\": \"circle\"}, \"mode\": \"markers+text\", \"text\": [\"('Boston Celtics',)\"], \"textfont\": {\"color\": \"rgb(0, 0, 0)\"}, \"textposition\": \"middle center\", \"type\": \"scatter\", \"x\": [0.9852669980395963], \"y\": [0.7779724373083199]}, {\"hoverinfo\": \"none\", \"marker\": {\"color\": \"rgba(255, 255, 255, 0.0)\", \"line\": {\"color\": \"rgba(255, 255, 255, 0.0)\", \"width\": 1}, \"size\": 20, \"symbol\": \"circle\"}, \"mode\": \"markers+text\", \"text\": [\"('Brooklyn Nets',)\"], \"textfont\": {\"color\": \"rgb(0, 0, 0)\"}, \"textposition\": \"middle center\", \"type\": \"scatter\", \"x\": [0.6615399770521982], \"y\": [0.3782429415958283]}, {\"hoverinfo\": \"none\", \"marker\": {\"color\": \"rgba(255, 255, 255, 0.0)\", \"line\": {\"color\": \"rgba(255, 255, 255, 0.0)\", \"width\": 1}, \"size\": 20, \"symbol\": \"circle\"}, \"mode\": \"markers+text\", \"text\": [\"('Charlotte Hornets',)\"], \"textfont\": {\"color\": \"rgb(0, 0, 0)\"}, \"textposition\": \"middle center\", \"type\": \"scatter\", \"x\": [0.9168193781357818], \"y\": [0.10756279144382563]}, {\"hoverinfo\": \"none\", \"marker\": {\"color\": \"rgba(255, 255, 255, 0.0)\", \"line\": {\"color\": \"rgba(255, 255, 255, 0.0)\", \"width\": 1}, \"size\": 20, \"symbol\": \"circle\"}, \"mode\": \"markers+text\", \"text\": [\"('Chicago Bulls',)\"], \"textfont\": {\"color\": \"rgb(0, 0, 0)\"}, \"textposition\": \"middle center\", \"type\": \"scatter\", \"x\": [0.1305052502754127], \"y\": [0.531864895444712]}, {\"hoverinfo\": \"none\", \"marker\": {\"color\": \"rgba(255, 255, 255, 0.0)\", \"line\": {\"color\": \"rgba(255, 255, 255, 0.0)\", \"width\": 1}, \"size\": 20, \"symbol\": \"circle\"}, \"mode\": \"markers+text\", \"text\": [\"('Cleveland Cavaliers',)\"], \"textfont\": {\"color\": \"rgb(0, 0, 0)\"}, \"textposition\": \"middle center\", \"type\": \"scatter\", \"x\": [0.3854339825285763], \"y\": [0.41227696105407274]}, {\"hoverinfo\": \"none\", \"marker\": {\"color\": \"rgba(255, 255, 255, 0.0)\", \"line\": {\"color\": \"rgba(255, 255, 255, 0.0)\", \"width\": 1}, \"size\": 20, \"symbol\": \"circle\"}, \"mode\": \"markers+text\", \"text\": [\"('Dallas Mavericks',)\"], \"textfont\": {\"color\": \"rgb(0, 0, 0)\"}, \"textposition\": \"middle center\", \"type\": \"scatter\", \"x\": [0.9224590893816811], \"y\": [0.09076227708869977]}, {\"hoverinfo\": \"none\", \"marker\": {\"color\": \"rgba(255, 255, 255, 0.0)\", \"line\": {\"color\": \"rgba(255, 255, 255, 0.0)\", \"width\": 1}, \"size\": 20, \"symbol\": \"circle\"}, \"mode\": \"markers+text\", \"text\": [\"('Denver Nuggets',)\"], \"textfont\": {\"color\": \"rgb(0, 0, 0)\"}, \"textposition\": \"middle center\", \"type\": \"scatter\", \"x\": [0.6333231952655372], \"y\": [0.9014938580647948]}, {\"hoverinfo\": \"none\", \"marker\": {\"color\": \"rgba(255, 255, 255, 0.0)\", \"line\": {\"color\": \"rgba(255, 255, 255, 0.0)\", \"width\": 1}, \"size\": 20, \"symbol\": \"circle\"}, \"mode\": \"markers+text\", \"text\": [\"('Detroit Pistons',)\"], \"textfont\": {\"color\": \"rgb(0, 0, 0)\"}, \"textposition\": \"middle center\", \"type\": \"scatter\", \"x\": [0.49550102046735156], \"y\": [0.39939813255680245]}, {\"hoverinfo\": \"none\", \"marker\": {\"color\": \"rgba(255, 255, 255, 0.0)\", \"line\": {\"color\": \"rgba(255, 255, 255, 0.0)\", \"width\": 1}, \"size\": 20, \"symbol\": \"circle\"}, \"mode\": \"markers+text\", \"text\": [\"('Golden State Warriors',)\"], \"textfont\": {\"color\": \"rgb(0, 0, 0)\"}, \"textposition\": \"middle center\", \"type\": \"scatter\", \"x\": [0.5837498026634218], \"y\": [0.6994277507143435]}, {\"hoverinfo\": \"none\", \"marker\": {\"color\": \"rgba(255, 255, 255, 0.0)\", \"line\": {\"color\": \"rgba(255, 255, 255, 0.0)\", \"width\": 1}, \"size\": 20, \"symbol\": \"circle\"}, \"mode\": \"markers+text\", \"text\": [\"('Houston Rockets',)\"], \"textfont\": {\"color\": \"rgb(0, 0, 0)\"}, \"textposition\": \"middle center\", \"type\": \"scatter\", \"x\": [0.9613740468669975], \"y\": [0.8013691338544022]}, {\"hoverinfo\": \"none\", \"marker\": {\"color\": \"rgba(255, 255, 255, 0.0)\", \"line\": {\"color\": \"rgba(255, 255, 255, 0.0)\", \"width\": 1}, \"size\": 20, \"symbol\": \"circle\"}, \"mode\": \"markers+text\", \"text\": [\"('Indiana Pacers',)\"], \"textfont\": {\"color\": \"rgb(0, 0, 0)\"}, \"textposition\": \"middle center\", \"type\": \"scatter\", \"x\": [0.17134256663984304], \"y\": [0.8411299803959531]}, {\"hoverinfo\": \"none\", \"marker\": {\"color\": \"rgba(255, 255, 255, 0.0)\", \"line\": {\"color\": \"rgba(255, 255, 255, 0.0)\", \"width\": 1}, \"size\": 20, \"symbol\": \"circle\"}, \"mode\": \"markers+text\", \"text\": [\"('LA Clippers',)\"], \"textfont\": {\"color\": \"rgb(0, 0, 0)\"}, \"textposition\": \"middle center\", \"type\": \"scatter\", \"x\": [0.4901982805827293], \"y\": [0.7123496504000605]}, {\"hoverinfo\": \"none\", \"marker\": {\"color\": \"rgba(255, 255, 255, 0.0)\", \"line\": {\"color\": \"rgba(255, 255, 255, 0.0)\", \"width\": 1}, \"size\": 20, \"symbol\": \"circle\"}, \"mode\": \"markers+text\", \"text\": [\"('Los Angeles Lakers',)\"], \"textfont\": {\"color\": \"rgb(0, 0, 0)\"}, \"textposition\": \"middle center\", \"type\": \"scatter\", \"x\": [0.48949944373098575], \"y\": [0.38901393473745083]}, {\"hoverinfo\": \"none\", \"marker\": {\"color\": \"rgba(255, 255, 255, 0.0)\", \"line\": {\"color\": \"rgba(255, 255, 255, 0.0)\", \"width\": 1}, \"size\": 20, \"symbol\": \"circle\"}, \"mode\": \"markers+text\", \"text\": [\"('Memphis Grizzlies',)\"], \"textfont\": {\"color\": \"rgb(0, 0, 0)\"}, \"textposition\": \"middle center\", \"type\": \"scatter\", \"x\": [0.3574939171361847], \"y\": [0.5282866342742184]}, {\"hoverinfo\": \"none\", \"marker\": {\"color\": \"rgba(255, 255, 255, 0.0)\", \"line\": {\"color\": \"rgba(255, 255, 255, 0.0)\", \"width\": 1}, \"size\": 20, \"symbol\": \"circle\"}, \"mode\": \"markers+text\", \"text\": [\"('Miami Heat',)\"], \"textfont\": {\"color\": \"rgb(0, 0, 0)\"}, \"textposition\": \"middle center\", \"type\": \"scatter\", \"x\": [0.14857289565925325], \"y\": [0.7205907873430651]}, {\"hoverinfo\": \"none\", \"marker\": {\"color\": \"rgba(255, 255, 255, 0.0)\", \"line\": {\"color\": \"rgba(255, 255, 255, 0.0)\", \"width\": 1}, \"size\": 20, \"symbol\": \"circle\"}, \"mode\": \"markers+text\", \"text\": [\"('Milwaukee Bucks',)\"], \"textfont\": {\"color\": \"rgb(0, 0, 0)\"}, \"textposition\": \"middle center\", \"type\": \"scatter\", \"x\": [0.15272696860599377], \"y\": [0.8004613765877595]}, {\"hoverinfo\": \"none\", \"marker\": {\"color\": \"rgba(255, 255, 255, 0.0)\", \"line\": {\"color\": \"rgba(255, 255, 255, 0.0)\", \"width\": 1}, \"size\": 20, \"symbol\": \"circle\"}, \"mode\": \"markers+text\", \"text\": [\"('Minnesota Timberwolves',)\"], \"textfont\": {\"color\": \"rgb(0, 0, 0)\"}, \"textposition\": \"middle center\", \"type\": \"scatter\", \"x\": [0.08378935413714406], \"y\": [0.24019969553772447]}, {\"hoverinfo\": \"none\", \"marker\": {\"color\": \"rgba(255, 255, 255, 0.0)\", \"line\": {\"color\": \"rgba(255, 255, 255, 0.0)\", \"width\": 1}, \"size\": 20, \"symbol\": \"circle\"}, \"mode\": \"markers+text\", \"text\": [\"('New Orleans Pelicans',)\"], \"textfont\": {\"color\": \"rgb(0, 0, 0)\"}, \"textposition\": \"middle center\", \"type\": \"scatter\", \"x\": [0.865818504755022], \"y\": [0.18336417444798092]}, {\"hoverinfo\": \"none\", \"marker\": {\"color\": \"rgba(255, 255, 255, 0.0)\", \"line\": {\"color\": \"rgba(255, 255, 255, 0.0)\", \"width\": 1}, \"size\": 20, \"symbol\": \"circle\"}, \"mode\": \"markers+text\", \"text\": [\"('New York Knicks',)\"], \"textfont\": {\"color\": \"rgb(0, 0, 0)\"}, \"textposition\": \"middle center\", \"type\": \"scatter\", \"x\": [0.6677203134686431], \"y\": [0.978321213953681]}, {\"hoverinfo\": \"none\", \"marker\": {\"color\": \"rgba(255, 255, 255, 0.0)\", \"line\": {\"color\": \"rgba(255, 255, 255, 0.0)\", \"width\": 1}, \"size\": 20, \"symbol\": \"circle\"}, \"mode\": \"markers+text\", \"text\": [\"('Oklahoma City Thunder',)\"], \"textfont\": {\"color\": \"rgb(0, 0, 0)\"}, \"textposition\": \"middle center\", \"type\": \"scatter\", \"x\": [0.7897709676316589], \"y\": [0.9067539556904792]}, {\"hoverinfo\": \"none\", \"marker\": {\"color\": \"rgba(255, 255, 255, 0.0)\", \"line\": {\"color\": \"rgba(255, 255, 255, 0.0)\", \"width\": 1}, \"size\": 20, \"symbol\": \"circle\"}, \"mode\": \"markers+text\", \"text\": [\"('Orlando Magic',)\"], \"textfont\": {\"color\": \"rgb(0, 0, 0)\"}, \"textposition\": \"middle center\", \"type\": \"scatter\", \"x\": [0.25281888972542055], \"y\": [0.5725726217985725]}, {\"hoverinfo\": \"none\", \"marker\": {\"color\": \"rgba(255, 255, 255, 0.0)\", \"line\": {\"color\": \"rgba(255, 255, 255, 0.0)\", \"width\": 1}, \"size\": 20, \"symbol\": \"circle\"}, \"mode\": \"markers+text\", \"text\": [\"('Philadelphia 76ers',)\"], \"textfont\": {\"color\": \"rgb(0, 0, 0)\"}, \"textposition\": \"middle center\", \"type\": \"scatter\", \"x\": [0.29818301961073457], \"y\": [0.9939453604189677]}, {\"hoverinfo\": \"none\", \"marker\": {\"color\": \"rgba(255, 255, 255, 0.0)\", \"line\": {\"color\": \"rgba(255, 255, 255, 0.0)\", \"width\": 1}, \"size\": 20, \"symbol\": \"circle\"}, \"mode\": \"markers+text\", \"text\": [\"('Phoenix Suns',)\"], \"textfont\": {\"color\": \"rgb(0, 0, 0)\"}, \"textposition\": \"middle center\", \"type\": \"scatter\", \"x\": [0.4718592057136122], \"y\": [0.07244412784167409]}, {\"hoverinfo\": \"none\", \"marker\": {\"color\": \"rgba(255, 255, 255, 0.0)\", \"line\": {\"color\": \"rgba(255, 255, 255, 0.0)\", \"width\": 1}, \"size\": 20, \"symbol\": \"circle\"}, \"mode\": \"markers+text\", \"text\": [\"('Portland Trail Blazers',)\"], \"textfont\": {\"color\": \"rgb(0, 0, 0)\"}, \"textposition\": \"middle center\", \"type\": \"scatter\", \"x\": [0.24639024096894357], \"y\": [0.9000433366363173]}, {\"hoverinfo\": \"none\", \"marker\": {\"color\": \"rgba(255, 255, 255, 0.0)\", \"line\": {\"color\": \"rgba(255, 255, 255, 0.0)\", \"width\": 1}, \"size\": 20, \"symbol\": \"circle\"}, \"mode\": \"markers+text\", \"text\": [\"('Sacramento Kings',)\"], \"textfont\": {\"color\": \"rgb(0, 0, 0)\"}, \"textposition\": \"middle center\", \"type\": \"scatter\", \"x\": [0.1300280301327984], \"y\": [0.047503423420247826]}, {\"hoverinfo\": \"none\", \"marker\": {\"color\": \"rgba(255, 255, 255, 0.0)\", \"line\": {\"color\": \"rgba(255, 255, 255, 0.0)\", \"width\": 1}, \"size\": 20, \"symbol\": \"circle\"}, \"mode\": \"markers+text\", \"text\": [\"('San Antonio Spurs',)\"], \"textfont\": {\"color\": \"rgb(0, 0, 0)\"}, \"textposition\": \"middle center\", \"type\": \"scatter\", \"x\": [0.411025227074875], \"y\": [0.17112266597076842]}, {\"hoverinfo\": \"none\", \"marker\": {\"color\": \"rgba(255, 255, 255, 0.0)\", \"line\": {\"color\": \"rgba(255, 255, 255, 0.0)\", \"width\": 1}, \"size\": 20, \"symbol\": \"circle\"}, \"mode\": \"markers+text\", \"text\": [\"('Toronto Raptors',)\"], \"textfont\": {\"color\": \"rgb(0, 0, 0)\"}, \"textposition\": \"middle center\", \"type\": \"scatter\", \"x\": [0.38478684788487705], \"y\": [0.8048601273035465]}, {\"hoverinfo\": \"none\", \"marker\": {\"color\": \"rgba(255, 255, 255, 0.0)\", \"line\": {\"color\": \"rgba(255, 255, 255, 0.0)\", \"width\": 1}, \"size\": 20, \"symbol\": \"circle\"}, \"mode\": \"markers+text\", \"text\": [\"('Utah Jazz',)\"], \"textfont\": {\"color\": \"rgb(0, 0, 0)\"}, \"textposition\": \"middle center\", \"type\": \"scatter\", \"x\": [0.33974982092982775], \"y\": [0.6713711444104047]}, {\"hoverinfo\": \"none\", \"marker\": {\"color\": \"rgba(255, 255, 255, 0.0)\", \"line\": {\"color\": \"rgba(255, 255, 255, 0.0)\", \"width\": 1}, \"size\": 20, \"symbol\": \"circle\"}, \"mode\": \"markers+text\", \"text\": [\"('Washington Wizards',)\"], \"textfont\": {\"color\": \"rgb(0, 0, 0)\"}, \"textposition\": \"middle center\", \"type\": \"scatter\", \"x\": [0.791932100808889], \"y\": [0.606655385308331]}, {\"hoverinfo\": \"none\", \"mode\": \"text\", \"text\": [null, null, null, null, null, null, null, null, null, null, null, null, null, null, null, null, null, null, null, null, null, null, null], \"textfont\": {\"color\": \"rgb(0, 0, 0)\"}, \"textposition\": \"middle center\", \"type\": \"scatter\", \"x\": [0.36923638073470116, 0.5776950261909244, 0.5601230821430401, 0.8000011350382165, 0.96803469853302, 0.63583684116406, 0.40012606821703134, 0.7228754073571223, 0.39466767623670085, 0.48026552127643735, 0.5659626186756191, 0.4325345384657332, 0.31919587139132305, 0.6817767891794908, 0.5036720519354052, 0.32350819758350974, 0.24905658763712754, 0.737203981027087, 0.19156637271112464, 0.46789845577915784, 0.6666502509872487, 0.23289050718548893, 0.3704017835200763], \"y\": [0.16506122533535164, 0.7833281364477961, 0.6289920100508801, 0.5330164355944518, 0.4300450676718521, 0.3309978714564822, 0.5247638646372639, 0.7724713612515178, 0.8249029860151645, 0.7269363634016369, 0.7950127932067725, 0.5994141622320357, 0.6902257879099688, 0.3113347332479582, 0.7738580507256494, 0.45285869110016347, 0.23173440008276658, 0.5290679965429838, 0.6700915656746704, 0.9736720893419349, 0.1538445756091426, 0.3050576528915913, 0.342773541729763]}, {\"hoverinfo\": \"none\", \"marker\": {\"color\": \"rgba(255, 255, 255, 0.0)\", \"line\": {\"color\": \"rgba(255, 255, 255, 0.0)\", \"width\": 0}, \"size\": 0, \"symbol\": \"circle\"}, \"mode\": \"markers\", \"type\": \"scatter\", \"x\": [0.5, 0.0, 1.0, 0.5], \"y\": [0.0, 0.5, 0.5, 1.0]}],\n",
       "                        {\"height\": 526.0, \"margin\": {\"b\": 0, \"l\": 0, \"r\": 0, \"t\": 0}, \"showlegend\": false, \"sliders\": [{\"currentvalue\": {\"visible\": false}, \"steps\": [{\"args\": [[0], {\"frame\": {\"redraw\": false}, \"mode\": \"immediate\"}], \"label\": \"\", \"method\": \"animate\"}, {\"args\": [[1], {\"frame\": {\"redraw\": false}, \"mode\": \"immediate\"}], \"label\": \"\", \"method\": \"animate\"}]}], \"template\": {\"data\": {\"bar\": [{\"error_x\": {\"color\": \"#2a3f5f\"}, \"error_y\": {\"color\": \"#2a3f5f\"}, \"marker\": {\"line\": {\"color\": \"#E5ECF6\", \"width\": 0.5}}, \"type\": \"bar\"}], \"barpolar\": [{\"marker\": {\"line\": {\"color\": \"#E5ECF6\", \"width\": 0.5}}, \"type\": \"barpolar\"}], \"carpet\": [{\"aaxis\": {\"endlinecolor\": \"#2a3f5f\", \"gridcolor\": \"white\", \"linecolor\": \"white\", \"minorgridcolor\": \"white\", \"startlinecolor\": \"#2a3f5f\"}, \"baxis\": {\"endlinecolor\": \"#2a3f5f\", \"gridcolor\": \"white\", \"linecolor\": \"white\", \"minorgridcolor\": \"white\", \"startlinecolor\": \"#2a3f5f\"}, \"type\": \"carpet\"}], \"choropleth\": [{\"colorbar\": {\"outlinewidth\": 0, \"ticks\": \"\"}, \"type\": \"choropleth\"}], \"contour\": [{\"colorbar\": {\"outlinewidth\": 0, \"ticks\": \"\"}, \"colorscale\": [[0.0, \"#0d0887\"], [0.1111111111111111, \"#46039f\"], [0.2222222222222222, \"#7201a8\"], [0.3333333333333333, \"#9c179e\"], [0.4444444444444444, \"#bd3786\"], [0.5555555555555556, \"#d8576b\"], [0.6666666666666666, \"#ed7953\"], [0.7777777777777778, \"#fb9f3a\"], [0.8888888888888888, \"#fdca26\"], [1.0, \"#f0f921\"]], \"type\": \"contour\"}], \"contourcarpet\": [{\"colorbar\": {\"outlinewidth\": 0, \"ticks\": \"\"}, \"type\": \"contourcarpet\"}], \"heatmap\": [{\"colorbar\": {\"outlinewidth\": 0, \"ticks\": \"\"}, \"colorscale\": [[0.0, \"#0d0887\"], [0.1111111111111111, \"#46039f\"], [0.2222222222222222, \"#7201a8\"], [0.3333333333333333, \"#9c179e\"], [0.4444444444444444, \"#bd3786\"], [0.5555555555555556, \"#d8576b\"], [0.6666666666666666, \"#ed7953\"], [0.7777777777777778, \"#fb9f3a\"], [0.8888888888888888, \"#fdca26\"], [1.0, \"#f0f921\"]], \"type\": \"heatmap\"}], \"heatmapgl\": [{\"colorbar\": {\"outlinewidth\": 0, \"ticks\": \"\"}, \"colorscale\": [[0.0, \"#0d0887\"], [0.1111111111111111, \"#46039f\"], [0.2222222222222222, \"#7201a8\"], [0.3333333333333333, \"#9c179e\"], [0.4444444444444444, \"#bd3786\"], [0.5555555555555556, \"#d8576b\"], [0.6666666666666666, \"#ed7953\"], [0.7777777777777778, \"#fb9f3a\"], [0.8888888888888888, \"#fdca26\"], [1.0, \"#f0f921\"]], \"type\": \"heatmapgl\"}], \"histogram\": [{\"marker\": {\"colorbar\": {\"outlinewidth\": 0, \"ticks\": \"\"}}, \"type\": \"histogram\"}], \"histogram2d\": [{\"colorbar\": {\"outlinewidth\": 0, \"ticks\": \"\"}, \"colorscale\": [[0.0, \"#0d0887\"], [0.1111111111111111, \"#46039f\"], [0.2222222222222222, \"#7201a8\"], [0.3333333333333333, \"#9c179e\"], [0.4444444444444444, \"#bd3786\"], [0.5555555555555556, \"#d8576b\"], [0.6666666666666666, \"#ed7953\"], [0.7777777777777778, \"#fb9f3a\"], [0.8888888888888888, \"#fdca26\"], [1.0, \"#f0f921\"]], \"type\": \"histogram2d\"}], \"histogram2dcontour\": [{\"colorbar\": {\"outlinewidth\": 0, \"ticks\": \"\"}, \"colorscale\": [[0.0, \"#0d0887\"], [0.1111111111111111, \"#46039f\"], [0.2222222222222222, \"#7201a8\"], [0.3333333333333333, \"#9c179e\"], [0.4444444444444444, \"#bd3786\"], [0.5555555555555556, \"#d8576b\"], [0.6666666666666666, \"#ed7953\"], [0.7777777777777778, \"#fb9f3a\"], [0.8888888888888888, \"#fdca26\"], [1.0, \"#f0f921\"]], \"type\": \"histogram2dcontour\"}], \"mesh3d\": [{\"colorbar\": {\"outlinewidth\": 0, \"ticks\": \"\"}, \"type\": \"mesh3d\"}], \"parcoords\": [{\"line\": {\"colorbar\": {\"outlinewidth\": 0, \"ticks\": \"\"}}, \"type\": \"parcoords\"}], \"scatter\": [{\"marker\": {\"colorbar\": {\"outlinewidth\": 0, \"ticks\": \"\"}}, \"type\": \"scatter\"}], \"scatter3d\": [{\"line\": {\"colorbar\": {\"outlinewidth\": 0, \"ticks\": \"\"}}, \"marker\": {\"colorbar\": {\"outlinewidth\": 0, \"ticks\": \"\"}}, \"type\": \"scatter3d\"}], \"scattercarpet\": [{\"marker\": {\"colorbar\": {\"outlinewidth\": 0, \"ticks\": \"\"}}, \"type\": \"scattercarpet\"}], \"scattergeo\": [{\"marker\": {\"colorbar\": {\"outlinewidth\": 0, \"ticks\": \"\"}}, \"type\": \"scattergeo\"}], \"scattergl\": [{\"marker\": {\"colorbar\": {\"outlinewidth\": 0, \"ticks\": \"\"}}, \"type\": \"scattergl\"}], \"scattermapbox\": [{\"marker\": {\"colorbar\": {\"outlinewidth\": 0, \"ticks\": \"\"}}, \"type\": \"scattermapbox\"}], \"scatterpolar\": [{\"marker\": {\"colorbar\": {\"outlinewidth\": 0, \"ticks\": \"\"}}, \"type\": \"scatterpolar\"}], \"scatterpolargl\": [{\"marker\": {\"colorbar\": {\"outlinewidth\": 0, \"ticks\": \"\"}}, \"type\": \"scatterpolargl\"}], \"scatterternary\": [{\"marker\": {\"colorbar\": {\"outlinewidth\": 0, \"ticks\": \"\"}}, \"type\": \"scatterternary\"}], \"surface\": [{\"colorbar\": {\"outlinewidth\": 0, \"ticks\": \"\"}, \"colorscale\": [[0.0, \"#0d0887\"], [0.1111111111111111, \"#46039f\"], [0.2222222222222222, \"#7201a8\"], [0.3333333333333333, \"#9c179e\"], [0.4444444444444444, \"#bd3786\"], [0.5555555555555556, \"#d8576b\"], [0.6666666666666666, \"#ed7953\"], [0.7777777777777778, \"#fb9f3a\"], [0.8888888888888888, \"#fdca26\"], [1.0, \"#f0f921\"]], \"type\": \"surface\"}], \"table\": [{\"cells\": {\"fill\": {\"color\": \"#EBF0F8\"}, \"line\": {\"color\": \"white\"}}, \"header\": {\"fill\": {\"color\": \"#C8D4E3\"}, \"line\": {\"color\": \"white\"}}, \"type\": \"table\"}]}, \"layout\": {\"annotationdefaults\": {\"arrowcolor\": \"#2a3f5f\", \"arrowhead\": 0, \"arrowwidth\": 1}, \"colorscale\": {\"diverging\": [[0, \"#8e0152\"], [0.1, \"#c51b7d\"], [0.2, \"#de77ae\"], [0.3, \"#f1b6da\"], [0.4, \"#fde0ef\"], [0.5, \"#f7f7f7\"], [0.6, \"#e6f5d0\"], [0.7, \"#b8e186\"], [0.8, \"#7fbc41\"], [0.9, \"#4d9221\"], [1, \"#276419\"]], \"sequential\": [[0.0, \"#0d0887\"], [0.1111111111111111, \"#46039f\"], [0.2222222222222222, \"#7201a8\"], [0.3333333333333333, \"#9c179e\"], [0.4444444444444444, \"#bd3786\"], [0.5555555555555556, \"#d8576b\"], [0.6666666666666666, \"#ed7953\"], [0.7777777777777778, \"#fb9f3a\"], [0.8888888888888888, \"#fdca26\"], [1.0, \"#f0f921\"]], \"sequentialminus\": [[0.0, \"#0d0887\"], [0.1111111111111111, \"#46039f\"], [0.2222222222222222, \"#7201a8\"], [0.3333333333333333, \"#9c179e\"], [0.4444444444444444, \"#bd3786\"], [0.5555555555555556, \"#d8576b\"], [0.6666666666666666, \"#ed7953\"], [0.7777777777777778, \"#fb9f3a\"], [0.8888888888888888, \"#fdca26\"], [1.0, \"#f0f921\"]]}, \"colorway\": [\"#636efa\", \"#EF553B\", \"#00cc96\", \"#ab63fa\", \"#FFA15A\", \"#19d3f3\", \"#FF6692\", \"#B6E880\", \"#FF97FF\", \"#FECB52\"], \"font\": {\"color\": \"#2a3f5f\"}, \"geo\": {\"bgcolor\": \"white\", \"lakecolor\": \"white\", \"landcolor\": \"#E5ECF6\", \"showlakes\": true, \"showland\": true, \"subunitcolor\": \"white\"}, \"hoverlabel\": {\"align\": \"left\"}, \"hovermode\": \"closest\", \"mapbox\": {\"style\": \"light\"}, \"paper_bgcolor\": \"white\", \"plot_bgcolor\": \"#E5ECF6\", \"polar\": {\"angularaxis\": {\"gridcolor\": \"white\", \"linecolor\": \"white\", \"ticks\": \"\"}, \"bgcolor\": \"#E5ECF6\", \"radialaxis\": {\"gridcolor\": \"white\", \"linecolor\": \"white\", \"ticks\": \"\"}}, \"scene\": {\"xaxis\": {\"backgroundcolor\": \"#E5ECF6\", \"gridcolor\": \"white\", \"gridwidth\": 2, \"linecolor\": \"white\", \"showbackground\": true, \"ticks\": \"\", \"zerolinecolor\": \"white\"}, \"yaxis\": {\"backgroundcolor\": \"#E5ECF6\", \"gridcolor\": \"white\", \"gridwidth\": 2, \"linecolor\": \"white\", \"showbackground\": true, \"ticks\": \"\", \"zerolinecolor\": \"white\"}, \"zaxis\": {\"backgroundcolor\": \"#E5ECF6\", \"gridcolor\": \"white\", \"gridwidth\": 2, \"linecolor\": \"white\", \"showbackground\": true, \"ticks\": \"\", \"zerolinecolor\": \"white\"}}, \"shapedefaults\": {\"line\": {\"color\": \"#2a3f5f\"}}, \"ternary\": {\"aaxis\": {\"gridcolor\": \"white\", \"linecolor\": \"white\", \"ticks\": \"\"}, \"baxis\": {\"gridcolor\": \"white\", \"linecolor\": \"white\", \"ticks\": \"\"}, \"bgcolor\": \"#E5ECF6\", \"caxis\": {\"gridcolor\": \"white\", \"linecolor\": \"white\", \"ticks\": \"\"}}, \"title\": {\"x\": 0.05}, \"xaxis\": {\"automargin\": true, \"gridcolor\": \"white\", \"linecolor\": \"white\", \"ticks\": \"\", \"zerolinecolor\": \"white\", \"zerolinewidth\": 2}, \"yaxis\": {\"automargin\": true, \"gridcolor\": \"white\", \"linecolor\": \"white\", \"ticks\": \"\", \"zerolinecolor\": \"white\", \"zerolinewidth\": 2}}}, \"updatemenus\": [{\"buttons\": [{\"args\": [null, {\"frame\": {\"redraw\": false}, \"fromcurrent\": true}], \"label\": \"Play\", \"method\": \"animate\"}, {\"args\": [[null], {\"frame\": {\"redraw\": false}, \"mode\": \"immediate\"}], \"label\": \"Pause\", \"method\": \"animate\"}], \"showactive\": true, \"type\": \"buttons\"}], \"width\": 912.0, \"xaxis\": {\"showgrid\": false, \"showticklabels\": false, \"zeroline\": false}, \"yaxis\": {\"showgrid\": false, \"showticklabels\": false, \"zeroline\": false}},\n",
       "                        {\"staticPlot\": true, \"responsive\": true}\n",
       "                    ).then(function(){\n",
       "                            Plotly.addFrames('81be6d51-85d5-43aa-aa6f-6dac5525def9', [{\"data\": [{\"hoverinfo\": \"none\", \"line\": {\"color\": \"rgba(255, 255, 255, 0.0)\", \"dash\": \"solid\", \"width\": 1}, \"mode\": \"lines\", \"x\": [0.59938265714518, 0.1300280301327984, null, 0.14366268605399768, 0.15802738339110686, null, 0.14366268605399768, 0.15534935735327687, null], \"y\": [0.332433833135782, 0.047503423420247826, null, 0.05578059354784766, 0.056327435332431126, null, 0.05578059354784766, 0.07104871706245734, null], \"type\": \"scatter\"}, {\"hoverinfo\": \"none\", \"line\": {\"color\": \"rgba(255, 255, 255, 0.0)\", \"dash\": \"solid\", \"width\": 1}, \"mode\": \"lines\", \"x\": [0.9852669980395963, 0.17134256663984304, null, 0.1856974381715294, 0.19923097547935475, null, 0.1856974381715294, 0.19959136600556474, null], \"y\": [0.7779724373083199, 0.8411299803959531, null, 0.8400160951477603, 0.831202512149237, null, 0.8400160951477603, 0.8467014077016889, null], \"type\": \"scatter\"}, {\"hoverinfo\": \"none\", \"line\": {\"color\": \"rgba(255, 255, 255, 0.0)\", \"dash\": \"solid\", \"width\": 1}, \"mode\": \"lines\", \"x\": [0.9852669980395963, 0.1305052502754127, null, 0.1446978595571185, 0.15891764336601302, null, 0.1446978595571185, 0.1575955107936566, null], \"y\": [0.7779724373083199, 0.531864895444712, null, 0.5359513068828557, 0.5321933540039052, null, 0.5359513068828557, 0.5475170556746841, null], \"type\": \"scatter\"}, {\"hoverinfo\": \"none\", \"line\": {\"color\": \"rgba(255, 255, 255, 0.0)\", \"dash\": \"solid\", \"width\": 1}, \"mode\": \"lines\", \"x\": [0.9852669980395963, 0.59938265714518, null, 0.611527962544771, 0.6253993199273618, null, 0.611527962544771, 0.6208623120017874, null], \"y\": [0.7779724373083199, 0.332433833135782, null, 0.3464566939817046, 0.353296626570664, null, 0.3464566939817046, 0.3664098626888264, null], \"type\": \"scatter\"}, {\"hoverinfo\": \"none\", \"line\": {\"color\": \"rgba(255, 255, 255, 0.0)\", \"dash\": \"solid\", \"width\": 1}, \"mode\": \"lines\", \"x\": [0.9852669980395963, 0.9224590893816811, null, 0.9248251702863601, 0.9312735840726667, null, 0.9248251702863601, 0.92289756334898, null], \"y\": [0.7779724373083199, 0.09076227708869977, null, 0.11665065440202643, 0.14010544199953087, null, 0.11665065440202643, 0.14266008978786698, null], \"type\": \"scatter\"}, {\"hoverinfo\": \"none\", \"line\": {\"color\": \"rgba(255, 255, 255, 0.0)\", \"dash\": \"solid\", \"width\": 1}, \"mode\": \"lines\", \"x\": [0.6615399770521982, 0.59938265714518, null, 0.6127069912851973, 0.6270247898651694, null, 0.6127069912851973, 0.6238476378997465, null], \"y\": [0.3782429415958283, 0.332433833135782, null, 0.3422536881213415, 0.34444183961520175, null, 0.3422536881213415, 0.35882806819873525, null], \"type\": \"scatter\"}, {\"hoverinfo\": \"none\", \"line\": {\"color\": \"rgba(255, 255, 255, 0.0)\", \"dash\": \"solid\", \"width\": 1}, \"mode\": \"lines\", \"x\": [0.6615399770521982, 0.14857289565925325, null, 0.1620682878087671, 0.17350390495299345, null, 0.1620682878087671, 0.17641795177552036, null], \"y\": [0.3782429415958283, 0.7205907873430651, null, 0.7115841305857651, 0.695694283135258, null, 0.7115841305857651, 0.7102652023457153, null], \"type\": \"scatter\"}, {\"hoverinfo\": \"none\", \"line\": {\"color\": \"rgba(255, 255, 255, 0.0)\", \"dash\": \"solid\", \"width\": 1}, \"mode\": \"lines\", \"x\": [0.6333231952655372, 0.791932100808889, null, 0.7818614718229007, 0.7752690524361753, null, 0.7818614718229007, 0.7692122125321048, null], \"y\": [0.9014938580647948, 0.606655385308331, null, 0.6253757015462752, 0.6486965110144843, null, 0.6253757015462752, 0.6378232944582236, null], \"type\": \"scatter\"}, {\"hoverinfo\": \"none\", \"line\": {\"color\": \"rgba(255, 255, 255, 0.0)\", \"dash\": \"solid\", \"width\": 1}, \"mode\": \"lines\", \"x\": [0.6333231952655372, 0.15272696860599377, null, 0.16700058143578383, 0.18112210441100685, null, 0.16700058143578383, 0.18015126479646051, null], \"y\": [0.9014938580647948, 0.8004613765877595, null, 0.8034620212949801, 0.7986230662410113, null, 0.8034620212949801, 0.8140342271083678, null], \"type\": \"scatter\"}, {\"hoverinfo\": \"none\", \"line\": {\"color\": \"rgba(255, 255, 255, 0.0)\", \"dash\": \"solid\", \"width\": 1}, \"mode\": \"lines\", \"x\": [0.5837498026634218, 0.38478684788487705, null, 0.39858582246301555, 0.4105855769253992, null, 0.39858582246301555, 0.4129513958546566, null], \"y\": [0.6994277507143435, 0.8048601273035465, null, 0.7975479184258363, 0.7831129505159484, null, 0.7975479184258363, 0.7980116464217545, null], \"type\": \"scatter\"}, {\"hoverinfo\": \"none\", \"line\": {\"color\": \"rgba(255, 255, 255, 0.0)\", \"dash\": \"solid\", \"width\": 1}, \"mode\": \"lines\", \"x\": [0.9613740468669975, 0.17134256663984304, null, 0.18570493309517688, 0.1993088920176257, null, 0.18570493309517688, 0.1995427596626761, null], \"y\": [0.8013691338544022, 0.8411299803959531, null, 0.840407148631781, 0.8319631071766765, null, 0.840407148631781, 0.8474700949672603, null], \"type\": \"scatter\"}, {\"hoverinfo\": \"none\", \"line\": {\"color\": \"rgba(255, 255, 255, 0.0)\", \"dash\": \"solid\", \"width\": 1}, \"mode\": \"lines\", \"x\": [0.4901982805827293, 0.3574939171361847, null, 0.36893704417647855, 0.3824366904557825, null, 0.36893704417647855, 0.37730147151975985, null], \"y\": [0.7123496504000605, 0.5282866342742184, null, 0.5441584294604868, 0.5531437860291523, null, 0.5441584294604868, 0.5654988830705618, null], \"type\": \"scatter\"}, {\"hoverinfo\": \"none\", \"line\": {\"color\": \"rgba(255, 255, 255, 0.0)\", \"dash\": \"solid\", \"width\": 1}, \"mode\": \"lines\", \"x\": [0.4901982805827293, 0.14857289565925325, null, 0.16293945915978103, 0.17660829636801664, null, 0.16293945915978103, 0.17672042662233398, null], \"y\": [0.7123496504000605, 0.7205907873430651, null, 0.7202442181991043, 0.7121573683883939, null, 0.7202442181991043, 0.7276688877113531, null], \"type\": \"scatter\"}, {\"hoverinfo\": \"none\", \"line\": {\"color\": \"rgba(255, 255, 255, 0.0)\", \"dash\": \"solid\", \"width\": 1}, \"mode\": \"lines\", \"x\": [0.48949944373098575, 0.865818504755022, null, 0.8520534134221953, 0.8401200169168231, null, 0.8520534134221953, 0.8376862218747757, null], \"y\": [0.38901393473745083, 0.18336417444798092, null, 0.1908864820484924, 0.20550387313452476, null, 0.1908864820484924, 0.19064176082885106, null], \"type\": \"scatter\"}, {\"hoverinfo\": \"none\", \"line\": {\"color\": \"rgba(255, 255, 255, 0.0)\", \"dash\": \"solid\", \"width\": 1}, \"mode\": \"lines\", \"x\": [0.3574939171361847, 0.6677203134686431, null, 0.656468701056204, 0.6430791333843519, null, 0.656468701056204, 0.648360116929853, null], \"y\": [0.5282866342742184, 0.978321213953681, null, 0.9619988934722163, 0.9524797448731038, null, 0.9619988934722163, 0.9403314253850381, null], \"type\": \"scatter\"}, {\"hoverinfo\": \"none\", \"line\": {\"color\": \"rgba(255, 255, 255, 0.0)\", \"dash\": \"solid\", \"width\": 1}, \"mode\": \"lines\", \"x\": [0.15272696860599377, 0.4718592057136122, null, 0.46287836847890645, 0.45761293871583775, null, 0.46287836847890645, 0.4509843552155506, null], \"y\": [0.8004613765877595, 0.07244412784167409, null, 0.09293157365505969, 0.1173522646594711, null, 0.09293157365505969, 0.10765569175967009, null], \"type\": \"scatter\"}, {\"hoverinfo\": \"none\", \"line\": {\"color\": \"rgba(255, 255, 255, 0.0)\", \"dash\": \"solid\", \"width\": 1}, \"mode\": \"lines\", \"x\": [0.08378935413714406, 0.411025227074875, null, 0.39675238718383166, 0.38360442303195236, null, 0.39675238718383166, 0.3826296218329885, null], \"y\": [0.24019969553772447, 0.17112266597076842, null, 0.17413555503548792, 0.18471904106099268, null, 0.17413555503548792, 0.16930871473241127, null], \"type\": \"scatter\"}, {\"hoverinfo\": \"none\", \"line\": {\"color\": \"rgba(255, 255, 255, 0.0)\", \"dash\": \"solid\", \"width\": 1}, \"mode\": \"lines\", \"x\": [0.865818504755022, 0.6333231952655372, null, 0.6406372017465817, 0.6439698793419578, null, 0.6406372017465817, 0.6512791986972915, null], \"y\": [0.18336417444798092, 0.9014938580647948, null, 0.8789024123632145, 0.8533715286354837, null, 0.8789024123632145, 0.8612684312493065, null], \"type\": \"scatter\"}, {\"hoverinfo\": \"none\", \"line\": {\"color\": \"rgba(255, 255, 255, 0.0)\", \"dash\": \"solid\", \"width\": 1}, \"mode\": \"lines\", \"x\": [0.25281888972542055, 0.15272696860599377, null, 0.16171847747172194, 0.16699663010402824, null, 0.16171847747172194, 0.17362015786286863, null], \"y\": [0.5725726217985725, 0.8004613765877595, null, 0.7799895569226954, 0.7555780330899726, null, 0.7799895569226954, 0.7652861281057485, null], \"type\": \"scatter\"}, {\"hoverinfo\": \"none\", \"line\": {\"color\": \"rgba(255, 255, 255, 0.0)\", \"dash\": \"solid\", \"width\": 1}, \"mode\": \"lines\", \"x\": [0.29818301961073457, 0.6333231952655372, null, 0.619116449693525, 0.6061782210419575, null, 0.619116449693525, 0.6049102334717588, null], \"y\": [0.9939453604189677, 0.9014938580647948, null, 0.9054129196011498, 0.9168264243725006, null, 0.9054129196011498, 0.9014874598074163, null], \"type\": \"scatter\"}, {\"hoverinfo\": \"none\", \"line\": {\"color\": \"rgba(255, 255, 255, 0.0)\", \"dash\": \"solid\", \"width\": 1}, \"mode\": \"lines\", \"x\": [0.4718592057136122, 0.865818504755022, null, 0.8516183586042978, 0.837405664056201, null, 0.8516183586042978, 0.838699217614988, null], \"y\": [0.07244412784167409, 0.18336417444798092, null, 0.17936609424861205, 0.18321250194628166, null, 0.17936609424861205, 0.16788066274912714, null], \"type\": \"scatter\"}, {\"hoverinfo\": \"none\", \"line\": {\"color\": \"rgba(255, 255, 255, 0.0)\", \"dash\": \"solid\", \"width\": 1}, \"mode\": \"lines\", \"x\": [0.1300280301327984, 0.3574939171361847, null, 0.34809886000845414, 0.3359109766253991, null, 0.34809886000845414, 0.34233586160842794, null], \"y\": [0.047503423420247826, 0.5282866342742184, null, 0.5084287743043868, 0.4945297382836996, null, 0.5084287743043868, 0.4843859338748204, null], \"type\": \"scatter\"}, {\"hoverinfo\": \"none\", \"line\": {\"color\": \"rgba(255, 255, 255, 0.0)\", \"dash\": \"solid\", \"width\": 1}, \"mode\": \"lines\", \"x\": [0.411025227074875, 0.3574939171361847, null, 0.3612881014718604, 0.36081756766755785, null, 0.3612881014718604, 0.36900808076084257, null], \"y\": [0.17112266597076842, 0.5282866342742184, null, 0.5029716189055159, 0.47673897841640706, null, 0.5029716189055159, 0.48083554358563074, null], \"type\": \"scatter\"}, {\"hoverinfo\": \"none\", \"marker\": {\"color\": \"rgba(255, 255, 255, 0.0)\", \"line\": {\"color\": \"rgba(255, 255, 255, 0.0)\", \"width\": 1}, \"size\": 20, \"symbol\": \"circle\"}, \"mode\": \"markers+text\", \"text\": [\"('Atlanta Hawks',)\"], \"textfont\": {\"color\": \"rgb(0, 0, 0)\"}, \"textposition\": \"middle center\", \"x\": [0.59938265714518], \"y\": [0.332433833135782], \"type\": \"scatter\"}, {\"hoverinfo\": \"none\", \"marker\": {\"color\": \"rgba(255, 255, 255, 0.0)\", \"line\": {\"color\": \"rgba(255, 255, 255, 0.0)\", \"width\": 1}, \"size\": 20, \"symbol\": \"circle\"}, \"mode\": \"markers+text\", \"text\": [\"('Boston Celtics',)\"], \"textfont\": {\"color\": \"rgb(0, 0, 0)\"}, \"textposition\": \"middle center\", \"x\": [0.9852669980395963], \"y\": [0.7779724373083199], \"type\": \"scatter\"}, {\"hoverinfo\": \"none\", \"marker\": {\"color\": \"rgba(255, 255, 255, 0.0)\", \"line\": {\"color\": \"rgba(255, 255, 255, 0.0)\", \"width\": 1}, \"size\": 20, \"symbol\": \"circle\"}, \"mode\": \"markers+text\", \"text\": [\"('Brooklyn Nets',)\"], \"textfont\": {\"color\": \"rgb(0, 0, 0)\"}, \"textposition\": \"middle center\", \"x\": [0.6615399770521982], \"y\": [0.3782429415958283], \"type\": \"scatter\"}, {\"hoverinfo\": \"none\", \"marker\": {\"color\": \"rgba(255, 255, 255, 0.0)\", \"line\": {\"color\": \"rgba(255, 255, 255, 0.0)\", \"width\": 1}, \"size\": 20, \"symbol\": \"circle\"}, \"mode\": \"markers+text\", \"text\": [\"('Charlotte Hornets',)\"], \"textfont\": {\"color\": \"rgb(0, 0, 0)\"}, \"textposition\": \"middle center\", \"x\": [0.9168193781357818], \"y\": [0.10756279144382563], \"type\": \"scatter\"}, {\"hoverinfo\": \"none\", \"marker\": {\"color\": \"rgba(255, 255, 255, 0.0)\", \"line\": {\"color\": \"rgba(255, 255, 255, 0.0)\", \"width\": 1}, \"size\": 20, \"symbol\": \"circle\"}, \"mode\": \"markers+text\", \"text\": [\"('Chicago Bulls',)\"], \"textfont\": {\"color\": \"rgb(0, 0, 0)\"}, \"textposition\": \"middle center\", \"x\": [0.1305052502754127], \"y\": [0.531864895444712], \"type\": \"scatter\"}, {\"hoverinfo\": \"none\", \"marker\": {\"color\": \"rgba(255, 255, 255, 0.0)\", \"line\": {\"color\": \"rgba(255, 255, 255, 0.0)\", \"width\": 1}, \"size\": 20, \"symbol\": \"circle\"}, \"mode\": \"markers+text\", \"text\": [\"('Cleveland Cavaliers',)\"], \"textfont\": {\"color\": \"rgb(0, 0, 0)\"}, \"textposition\": \"middle center\", \"x\": [0.3854339825285763], \"y\": [0.41227696105407274], \"type\": \"scatter\"}, {\"hoverinfo\": \"none\", \"marker\": {\"color\": \"rgba(255, 255, 255, 0.0)\", \"line\": {\"color\": \"rgba(255, 255, 255, 0.0)\", \"width\": 1}, \"size\": 20, \"symbol\": \"circle\"}, \"mode\": \"markers+text\", \"text\": [\"('Dallas Mavericks',)\"], \"textfont\": {\"color\": \"rgb(0, 0, 0)\"}, \"textposition\": \"middle center\", \"x\": [0.9224590893816811], \"y\": [0.09076227708869977], \"type\": \"scatter\"}, {\"hoverinfo\": \"none\", \"marker\": {\"color\": \"rgba(255, 255, 255, 0.0)\", \"line\": {\"color\": \"rgba(255, 255, 255, 0.0)\", \"width\": 1}, \"size\": 20, \"symbol\": \"circle\"}, \"mode\": \"markers+text\", \"text\": [\"('Denver Nuggets',)\"], \"textfont\": {\"color\": \"rgb(0, 0, 0)\"}, \"textposition\": \"middle center\", \"x\": [0.6333231952655372], \"y\": [0.9014938580647948], \"type\": \"scatter\"}, {\"hoverinfo\": \"none\", \"marker\": {\"color\": \"rgba(255, 255, 255, 0.0)\", \"line\": {\"color\": \"rgba(255, 255, 255, 0.0)\", \"width\": 1}, \"size\": 20, \"symbol\": \"circle\"}, \"mode\": \"markers+text\", \"text\": [\"('Detroit Pistons',)\"], \"textfont\": {\"color\": \"rgb(0, 0, 0)\"}, \"textposition\": \"middle center\", \"x\": [0.49550102046735156], \"y\": [0.39939813255680245], \"type\": \"scatter\"}, {\"hoverinfo\": \"none\", \"marker\": {\"color\": \"rgba(255, 255, 255, 0.0)\", \"line\": {\"color\": \"rgba(255, 255, 255, 0.0)\", \"width\": 1}, \"size\": 20, \"symbol\": \"circle\"}, \"mode\": \"markers+text\", \"text\": [\"('Golden State Warriors',)\"], \"textfont\": {\"color\": \"rgb(0, 0, 0)\"}, \"textposition\": \"middle center\", \"x\": [0.5837498026634218], \"y\": [0.6994277507143435], \"type\": \"scatter\"}, {\"hoverinfo\": \"none\", \"marker\": {\"color\": \"rgba(255, 255, 255, 0.0)\", \"line\": {\"color\": \"rgba(255, 255, 255, 0.0)\", \"width\": 1}, \"size\": 20, \"symbol\": \"circle\"}, \"mode\": \"markers+text\", \"text\": [\"('Houston Rockets',)\"], \"textfont\": {\"color\": \"rgb(0, 0, 0)\"}, \"textposition\": \"middle center\", \"x\": [0.9613740468669975], \"y\": [0.8013691338544022], \"type\": \"scatter\"}, {\"hoverinfo\": \"none\", \"marker\": {\"color\": \"rgba(255, 255, 255, 0.0)\", \"line\": {\"color\": \"rgba(255, 255, 255, 0.0)\", \"width\": 1}, \"size\": 20, \"symbol\": \"circle\"}, \"mode\": \"markers+text\", \"text\": [\"('Indiana Pacers',)\"], \"textfont\": {\"color\": \"rgb(0, 0, 0)\"}, \"textposition\": \"middle center\", \"x\": [0.17134256663984304], \"y\": [0.8411299803959531], \"type\": \"scatter\"}, {\"hoverinfo\": \"none\", \"marker\": {\"color\": \"rgba(255, 255, 255, 0.0)\", \"line\": {\"color\": \"rgba(255, 255, 255, 0.0)\", \"width\": 1}, \"size\": 20, \"symbol\": \"circle\"}, \"mode\": \"markers+text\", \"text\": [\"('LA Clippers',)\"], \"textfont\": {\"color\": \"rgb(0, 0, 0)\"}, \"textposition\": \"middle center\", \"x\": [0.4901982805827293], \"y\": [0.7123496504000605], \"type\": \"scatter\"}, {\"hoverinfo\": \"none\", \"marker\": {\"color\": \"rgba(255, 255, 255, 0.0)\", \"line\": {\"color\": \"rgba(255, 255, 255, 0.0)\", \"width\": 1}, \"size\": 20, \"symbol\": \"circle\"}, \"mode\": \"markers+text\", \"text\": [\"('Los Angeles Lakers',)\"], \"textfont\": {\"color\": \"rgb(0, 0, 0)\"}, \"textposition\": \"middle center\", \"x\": [0.48949944373098575], \"y\": [0.38901393473745083], \"type\": \"scatter\"}, {\"hoverinfo\": \"none\", \"marker\": {\"color\": \"rgba(255, 255, 255, 0.0)\", \"line\": {\"color\": \"rgba(255, 255, 255, 0.0)\", \"width\": 1}, \"size\": 20, \"symbol\": \"circle\"}, \"mode\": \"markers+text\", \"text\": [\"('Memphis Grizzlies',)\"], \"textfont\": {\"color\": \"rgb(0, 0, 0)\"}, \"textposition\": \"middle center\", \"x\": [0.3574939171361847], \"y\": [0.5282866342742184], \"type\": \"scatter\"}, {\"hoverinfo\": \"none\", \"marker\": {\"color\": \"rgba(255, 255, 255, 0.0)\", \"line\": {\"color\": \"rgba(255, 255, 255, 0.0)\", \"width\": 1}, \"size\": 20, \"symbol\": \"circle\"}, \"mode\": \"markers+text\", \"text\": [\"('Miami Heat',)\"], \"textfont\": {\"color\": \"rgb(0, 0, 0)\"}, \"textposition\": \"middle center\", \"x\": [0.14857289565925325], \"y\": [0.7205907873430651], \"type\": \"scatter\"}, {\"hoverinfo\": \"none\", \"marker\": {\"color\": \"rgba(255, 255, 255, 0.0)\", \"line\": {\"color\": \"rgba(255, 255, 255, 0.0)\", \"width\": 1}, \"size\": 20, \"symbol\": \"circle\"}, \"mode\": \"markers+text\", \"text\": [\"('Milwaukee Bucks',)\"], \"textfont\": {\"color\": \"rgb(0, 0, 0)\"}, \"textposition\": \"middle center\", \"x\": [0.15272696860599377], \"y\": [0.8004613765877595], \"type\": \"scatter\"}, {\"hoverinfo\": \"none\", \"marker\": {\"color\": \"rgba(255, 255, 255, 0.0)\", \"line\": {\"color\": \"rgba(255, 255, 255, 0.0)\", \"width\": 1}, \"size\": 20, \"symbol\": \"circle\"}, \"mode\": \"markers+text\", \"text\": [\"('Minnesota Timberwolves',)\"], \"textfont\": {\"color\": \"rgb(0, 0, 0)\"}, \"textposition\": \"middle center\", \"x\": [0.08378935413714406], \"y\": [0.24019969553772447], \"type\": \"scatter\"}, {\"hoverinfo\": \"none\", \"marker\": {\"color\": \"rgba(255, 255, 255, 0.0)\", \"line\": {\"color\": \"rgba(255, 255, 255, 0.0)\", \"width\": 1}, \"size\": 20, \"symbol\": \"circle\"}, \"mode\": \"markers+text\", \"text\": [\"('New Orleans Pelicans',)\"], \"textfont\": {\"color\": \"rgb(0, 0, 0)\"}, \"textposition\": \"middle center\", \"x\": [0.865818504755022], \"y\": [0.18336417444798092], \"type\": \"scatter\"}, {\"hoverinfo\": \"none\", \"marker\": {\"color\": \"rgba(255, 255, 255, 0.0)\", \"line\": {\"color\": \"rgba(255, 255, 255, 0.0)\", \"width\": 1}, \"size\": 20, \"symbol\": \"circle\"}, \"mode\": \"markers+text\", \"text\": [\"('New York Knicks',)\"], \"textfont\": {\"color\": \"rgb(0, 0, 0)\"}, \"textposition\": \"middle center\", \"x\": [0.6677203134686431], \"y\": [0.978321213953681], \"type\": \"scatter\"}, {\"hoverinfo\": \"none\", \"marker\": {\"color\": \"rgba(255, 255, 255, 0.0)\", \"line\": {\"color\": \"rgba(255, 255, 255, 0.0)\", \"width\": 1}, \"size\": 20, \"symbol\": \"circle\"}, \"mode\": \"markers+text\", \"text\": [\"('Oklahoma City Thunder',)\"], \"textfont\": {\"color\": \"rgb(0, 0, 0)\"}, \"textposition\": \"middle center\", \"x\": [0.7897709676316589], \"y\": [0.9067539556904792], \"type\": \"scatter\"}, {\"hoverinfo\": \"none\", \"marker\": {\"color\": \"rgba(255, 255, 255, 0.0)\", \"line\": {\"color\": \"rgba(255, 255, 255, 0.0)\", \"width\": 1}, \"size\": 20, \"symbol\": \"circle\"}, \"mode\": \"markers+text\", \"text\": [\"('Orlando Magic',)\"], \"textfont\": {\"color\": \"rgb(0, 0, 0)\"}, \"textposition\": \"middle center\", \"x\": [0.25281888972542055], \"y\": [0.5725726217985725], \"type\": \"scatter\"}, {\"hoverinfo\": \"none\", \"marker\": {\"color\": \"rgba(255, 255, 255, 0.0)\", \"line\": {\"color\": \"rgba(255, 255, 255, 0.0)\", \"width\": 1}, \"size\": 20, \"symbol\": \"circle\"}, \"mode\": \"markers+text\", \"text\": [\"('Philadelphia 76ers',)\"], \"textfont\": {\"color\": \"rgb(0, 0, 0)\"}, \"textposition\": \"middle center\", \"x\": [0.29818301961073457], \"y\": [0.9939453604189677], \"type\": \"scatter\"}, {\"hoverinfo\": \"none\", \"marker\": {\"color\": \"rgba(255, 255, 255, 0.0)\", \"line\": {\"color\": \"rgba(255, 255, 255, 0.0)\", \"width\": 1}, \"size\": 20, \"symbol\": \"circle\"}, \"mode\": \"markers+text\", \"text\": [\"('Phoenix Suns',)\"], \"textfont\": {\"color\": \"rgb(0, 0, 0)\"}, \"textposition\": \"middle center\", \"x\": [0.4718592057136122], \"y\": [0.07244412784167409], \"type\": \"scatter\"}, {\"hoverinfo\": \"none\", \"marker\": {\"color\": \"rgba(255, 255, 255, 0.0)\", \"line\": {\"color\": \"rgba(255, 255, 255, 0.0)\", \"width\": 1}, \"size\": 20, \"symbol\": \"circle\"}, \"mode\": \"markers+text\", \"text\": [\"('Portland Trail Blazers',)\"], \"textfont\": {\"color\": \"rgb(0, 0, 0)\"}, \"textposition\": \"middle center\", \"x\": [0.24639024096894357], \"y\": [0.9000433366363173], \"type\": \"scatter\"}, {\"hoverinfo\": \"none\", \"marker\": {\"color\": \"rgba(255, 255, 255, 0.0)\", \"line\": {\"color\": \"rgba(255, 255, 255, 0.0)\", \"width\": 1}, \"size\": 20, \"symbol\": \"circle\"}, \"mode\": \"markers+text\", \"text\": [\"('Sacramento Kings',)\"], \"textfont\": {\"color\": \"rgb(0, 0, 0)\"}, \"textposition\": \"middle center\", \"x\": [0.1300280301327984], \"y\": [0.047503423420247826], \"type\": \"scatter\"}, {\"hoverinfo\": \"none\", \"marker\": {\"color\": \"rgba(255, 255, 255, 0.0)\", \"line\": {\"color\": \"rgba(255, 255, 255, 0.0)\", \"width\": 1}, \"size\": 20, \"symbol\": \"circle\"}, \"mode\": \"markers+text\", \"text\": [\"('San Antonio Spurs',)\"], \"textfont\": {\"color\": \"rgb(0, 0, 0)\"}, \"textposition\": \"middle center\", \"x\": [0.411025227074875], \"y\": [0.17112266597076842], \"type\": \"scatter\"}, {\"hoverinfo\": \"none\", \"marker\": {\"color\": \"rgba(255, 255, 255, 0.0)\", \"line\": {\"color\": \"rgba(255, 255, 255, 0.0)\", \"width\": 1}, \"size\": 20, \"symbol\": \"circle\"}, \"mode\": \"markers+text\", \"text\": [\"('Toronto Raptors',)\"], \"textfont\": {\"color\": \"rgb(0, 0, 0)\"}, \"textposition\": \"middle center\", \"x\": [0.38478684788487705], \"y\": [0.8048601273035465], \"type\": \"scatter\"}, {\"hoverinfo\": \"none\", \"marker\": {\"color\": \"rgba(255, 255, 255, 0.0)\", \"line\": {\"color\": \"rgba(255, 255, 255, 0.0)\", \"width\": 1}, \"size\": 20, \"symbol\": \"circle\"}, \"mode\": \"markers+text\", \"text\": [\"('Utah Jazz',)\"], \"textfont\": {\"color\": \"rgb(0, 0, 0)\"}, \"textposition\": \"middle center\", \"x\": [0.33974982092982775], \"y\": [0.6713711444104047], \"type\": \"scatter\"}, {\"hoverinfo\": \"none\", \"marker\": {\"color\": \"rgba(255, 255, 255, 0.0)\", \"line\": {\"color\": \"rgba(255, 255, 255, 0.0)\", \"width\": 1}, \"size\": 20, \"symbol\": \"circle\"}, \"mode\": \"markers+text\", \"text\": [\"('Washington Wizards',)\"], \"textfont\": {\"color\": \"rgb(0, 0, 0)\"}, \"textposition\": \"middle center\", \"x\": [0.791932100808889], \"y\": [0.606655385308331], \"type\": \"scatter\"}, {\"hoverinfo\": \"none\", \"mode\": \"text\", \"text\": [null, null, null, null, null, null, null, null, null, null, null, null, null, null, null, null, null, null, null, null, null, null, null], \"textfont\": {\"color\": \"rgb(0, 0, 0)\"}, \"textposition\": \"middle center\", \"x\": [0.36923638073470116, 0.5776950261909244, 0.5601230821430401, 0.8000011350382165, 0.96803469853302, 0.63583684116406, 0.40012606821703134, 0.7228754073571223, 0.39466767623670085, 0.48026552127643735, 0.5659626186756191, 0.4325345384657332, 0.31919587139132305, 0.6817767891794908, 0.5036720519354052, 0.32350819758350974, 0.24905658763712754, 0.737203981027087, 0.19156637271112464, 0.46789845577915784, 0.6666502509872487, 0.23289050718548893, 0.3704017835200763], \"y\": [0.16506122533535164, 0.7833281364477961, 0.6289920100508801, 0.5330164355944518, 0.4300450676718521, 0.3309978714564822, 0.5247638646372639, 0.7724713612515178, 0.8249029860151645, 0.7269363634016369, 0.7950127932067725, 0.5994141622320357, 0.6902257879099688, 0.3113347332479582, 0.7738580507256494, 0.45285869110016347, 0.23173440008276658, 0.5290679965429838, 0.6700915656746704, 0.9736720893419349, 0.1538445756091426, 0.3050576528915913, 0.342773541729763], \"type\": \"scatter\"}, {\"hoverinfo\": \"none\", \"marker\": {\"color\": \"rgba(255, 255, 255, 0.0)\", \"line\": {\"color\": \"rgba(255, 255, 255, 0.0)\", \"width\": 0}, \"size\": 0, \"symbol\": \"circle\"}, \"mode\": \"markers\", \"x\": [0.5, 0.0, 1.0, 0.5], \"y\": [0.0, 0.5, 0.5, 1.0], \"type\": \"scatter\"}], \"name\": \"0\"}, {\"data\": [{\"hoverinfo\": \"none\", \"line\": {\"color\": \"rgb(0, 0, 0)\", \"dash\": \"solid\", \"width\": 1}, \"mode\": \"lines\", \"x\": [0.59938265714518, 0.1300280301327984, null, 0.14366268605399768, 0.15802738339110686, null, 0.14366268605399768, 0.15534935735327687, null], \"y\": [0.332433833135782, 0.047503423420247826, null, 0.05578059354784766, 0.056327435332431126, null, 0.05578059354784766, 0.07104871706245734, null], \"type\": \"scatter\"}, {\"hoverinfo\": \"none\", \"line\": {\"color\": \"rgb(0, 0, 0)\", \"dash\": \"solid\", \"width\": 1}, \"mode\": \"lines\", \"x\": [0.9852669980395963, 0.17134256663984304, null, 0.1856974381715294, 0.19923097547935475, null, 0.1856974381715294, 0.19959136600556474, null], \"y\": [0.7779724373083199, 0.8411299803959531, null, 0.8400160951477603, 0.831202512149237, null, 0.8400160951477603, 0.8467014077016889, null], \"type\": \"scatter\"}, {\"hoverinfo\": \"none\", \"line\": {\"color\": \"rgb(0, 0, 0)\", \"dash\": \"solid\", \"width\": 1}, \"mode\": \"lines\", \"x\": [0.9852669980395963, 0.1305052502754127, null, 0.1446978595571185, 0.15891764336601302, null, 0.1446978595571185, 0.1575955107936566, null], \"y\": [0.7779724373083199, 0.531864895444712, null, 0.5359513068828557, 0.5321933540039052, null, 0.5359513068828557, 0.5475170556746841, null], \"type\": \"scatter\"}, {\"hoverinfo\": \"none\", \"line\": {\"color\": \"rgb(0, 0, 0)\", \"dash\": \"solid\", \"width\": 1}, \"mode\": \"lines\", \"x\": [0.9852669980395963, 0.59938265714518, null, 0.611527962544771, 0.6253993199273618, null, 0.611527962544771, 0.6208623120017874, null], \"y\": [0.7779724373083199, 0.332433833135782, null, 0.3464566939817046, 0.353296626570664, null, 0.3464566939817046, 0.3664098626888264, null], \"type\": \"scatter\"}, {\"hoverinfo\": \"none\", \"line\": {\"color\": \"rgb(0, 0, 0)\", \"dash\": \"solid\", \"width\": 1}, \"mode\": \"lines\", \"x\": [0.9852669980395963, 0.9224590893816811, null, 0.9248251702863601, 0.9312735840726667, null, 0.9248251702863601, 0.92289756334898, null], \"y\": [0.7779724373083199, 0.09076227708869977, null, 0.11665065440202643, 0.14010544199953087, null, 0.11665065440202643, 0.14266008978786698, null], \"type\": \"scatter\"}, {\"hoverinfo\": \"none\", \"line\": {\"color\": \"rgb(0, 0, 0)\", \"dash\": \"solid\", \"width\": 1}, \"mode\": \"lines\", \"x\": [0.6615399770521982, 0.59938265714518, null, 0.6127069912851973, 0.6270247898651694, null, 0.6127069912851973, 0.6238476378997465, null], \"y\": [0.3782429415958283, 0.332433833135782, null, 0.3422536881213415, 0.34444183961520175, null, 0.3422536881213415, 0.35882806819873525, null], \"type\": \"scatter\"}, {\"hoverinfo\": \"none\", \"line\": {\"color\": \"rgb(0, 0, 0)\", \"dash\": \"solid\", \"width\": 1}, \"mode\": \"lines\", \"x\": [0.6615399770521982, 0.14857289565925325, null, 0.1620682878087671, 0.17350390495299345, null, 0.1620682878087671, 0.17641795177552036, null], \"y\": [0.3782429415958283, 0.7205907873430651, null, 0.7115841305857651, 0.695694283135258, null, 0.7115841305857651, 0.7102652023457153, null], \"type\": \"scatter\"}, {\"hoverinfo\": \"none\", \"line\": {\"color\": \"rgb(0, 0, 0)\", \"dash\": \"solid\", \"width\": 1}, \"mode\": \"lines\", \"x\": [0.6333231952655372, 0.791932100808889, null, 0.7818614718229007, 0.7752690524361753, null, 0.7818614718229007, 0.7692122125321048, null], \"y\": [0.9014938580647948, 0.606655385308331, null, 0.6253757015462752, 0.6486965110144843, null, 0.6253757015462752, 0.6378232944582236, null], \"type\": \"scatter\"}, {\"hoverinfo\": \"none\", \"line\": {\"color\": \"rgb(0, 0, 0)\", \"dash\": \"solid\", \"width\": 1}, \"mode\": \"lines\", \"x\": [0.6333231952655372, 0.15272696860599377, null, 0.16700058143578383, 0.18112210441100685, null, 0.16700058143578383, 0.18015126479646051, null], \"y\": [0.9014938580647948, 0.8004613765877595, null, 0.8034620212949801, 0.7986230662410113, null, 0.8034620212949801, 0.8140342271083678, null], \"type\": \"scatter\"}, {\"hoverinfo\": \"none\", \"line\": {\"color\": \"rgb(0, 0, 0)\", \"dash\": \"solid\", \"width\": 1}, \"mode\": \"lines\", \"x\": [0.5837498026634218, 0.38478684788487705, null, 0.39858582246301555, 0.4105855769253992, null, 0.39858582246301555, 0.4129513958546566, null], \"y\": [0.6994277507143435, 0.8048601273035465, null, 0.7975479184258363, 0.7831129505159484, null, 0.7975479184258363, 0.7980116464217545, null], \"type\": \"scatter\"}, {\"hoverinfo\": \"none\", \"line\": {\"color\": \"rgb(0, 0, 0)\", \"dash\": \"solid\", \"width\": 1}, \"mode\": \"lines\", \"x\": [0.9613740468669975, 0.17134256663984304, null, 0.18570493309517688, 0.1993088920176257, null, 0.18570493309517688, 0.1995427596626761, null], \"y\": [0.8013691338544022, 0.8411299803959531, null, 0.840407148631781, 0.8319631071766765, null, 0.840407148631781, 0.8474700949672603, null], \"type\": \"scatter\"}, {\"hoverinfo\": \"none\", \"line\": {\"color\": \"rgb(0, 0, 0)\", \"dash\": \"solid\", \"width\": 1}, \"mode\": \"lines\", \"x\": [0.4901982805827293, 0.3574939171361847, null, 0.36893704417647855, 0.3824366904557825, null, 0.36893704417647855, 0.37730147151975985, null], \"y\": [0.7123496504000605, 0.5282866342742184, null, 0.5441584294604868, 0.5531437860291523, null, 0.5441584294604868, 0.5654988830705618, null], \"type\": \"scatter\"}, {\"hoverinfo\": \"none\", \"line\": {\"color\": \"rgb(0, 0, 0)\", \"dash\": \"solid\", \"width\": 1}, \"mode\": \"lines\", \"x\": [0.4901982805827293, 0.14857289565925325, null, 0.16293945915978103, 0.17660829636801664, null, 0.16293945915978103, 0.17672042662233398, null], \"y\": [0.7123496504000605, 0.7205907873430651, null, 0.7202442181991043, 0.7121573683883939, null, 0.7202442181991043, 0.7276688877113531, null], \"type\": \"scatter\"}, {\"hoverinfo\": \"none\", \"line\": {\"color\": \"rgb(0, 0, 0)\", \"dash\": \"solid\", \"width\": 1}, \"mode\": \"lines\", \"x\": [0.48949944373098575, 0.865818504755022, null, 0.8520534134221953, 0.8401200169168231, null, 0.8520534134221953, 0.8376862218747757, null], \"y\": [0.38901393473745083, 0.18336417444798092, null, 0.1908864820484924, 0.20550387313452476, null, 0.1908864820484924, 0.19064176082885106, null], \"type\": \"scatter\"}, {\"hoverinfo\": \"none\", \"line\": {\"color\": \"rgb(0, 0, 0)\", \"dash\": \"solid\", \"width\": 1}, \"mode\": \"lines\", \"x\": [0.3574939171361847, 0.6677203134686431, null, 0.656468701056204, 0.6430791333843519, null, 0.656468701056204, 0.648360116929853, null], \"y\": [0.5282866342742184, 0.978321213953681, null, 0.9619988934722163, 0.9524797448731038, null, 0.9619988934722163, 0.9403314253850381, null], \"type\": \"scatter\"}, {\"hoverinfo\": \"none\", \"line\": {\"color\": \"rgb(0, 0, 0)\", \"dash\": \"solid\", \"width\": 1}, \"mode\": \"lines\", \"x\": [0.15272696860599377, 0.4718592057136122, null, 0.46287836847890645, 0.45761293871583775, null, 0.46287836847890645, 0.4509843552155506, null], \"y\": [0.8004613765877595, 0.07244412784167409, null, 0.09293157365505969, 0.1173522646594711, null, 0.09293157365505969, 0.10765569175967009, null], \"type\": \"scatter\"}, {\"hoverinfo\": \"none\", \"line\": {\"color\": \"rgb(0, 0, 0)\", \"dash\": \"solid\", \"width\": 1}, \"mode\": \"lines\", \"x\": [0.08378935413714406, 0.411025227074875, null, 0.39675238718383166, 0.38360442303195236, null, 0.39675238718383166, 0.3826296218329885, null], \"y\": [0.24019969553772447, 0.17112266597076842, null, 0.17413555503548792, 0.18471904106099268, null, 0.17413555503548792, 0.16930871473241127, null], \"type\": \"scatter\"}, {\"hoverinfo\": \"none\", \"line\": {\"color\": \"rgb(0, 0, 0)\", \"dash\": \"solid\", \"width\": 1}, \"mode\": \"lines\", \"x\": [0.865818504755022, 0.6333231952655372, null, 0.6406372017465817, 0.6439698793419578, null, 0.6406372017465817, 0.6512791986972915, null], \"y\": [0.18336417444798092, 0.9014938580647948, null, 0.8789024123632145, 0.8533715286354837, null, 0.8789024123632145, 0.8612684312493065, null], \"type\": \"scatter\"}, {\"hoverinfo\": \"none\", \"line\": {\"color\": \"rgb(0, 0, 0)\", \"dash\": \"solid\", \"width\": 1}, \"mode\": \"lines\", \"x\": [0.25281888972542055, 0.15272696860599377, null, 0.16171847747172194, 0.16699663010402824, null, 0.16171847747172194, 0.17362015786286863, null], \"y\": [0.5725726217985725, 0.8004613765877595, null, 0.7799895569226954, 0.7555780330899726, null, 0.7799895569226954, 0.7652861281057485, null], \"type\": \"scatter\"}, {\"hoverinfo\": \"none\", \"line\": {\"color\": \"rgb(0, 0, 0)\", \"dash\": \"solid\", \"width\": 1}, \"mode\": \"lines\", \"x\": [0.29818301961073457, 0.6333231952655372, null, 0.619116449693525, 0.6061782210419575, null, 0.619116449693525, 0.6049102334717588, null], \"y\": [0.9939453604189677, 0.9014938580647948, null, 0.9054129196011498, 0.9168264243725006, null, 0.9054129196011498, 0.9014874598074163, null], \"type\": \"scatter\"}, {\"hoverinfo\": \"none\", \"line\": {\"color\": \"rgb(0, 0, 0)\", \"dash\": \"solid\", \"width\": 1}, \"mode\": \"lines\", \"x\": [0.4718592057136122, 0.865818504755022, null, 0.8516183586042978, 0.837405664056201, null, 0.8516183586042978, 0.838699217614988, null], \"y\": [0.07244412784167409, 0.18336417444798092, null, 0.17936609424861205, 0.18321250194628166, null, 0.17936609424861205, 0.16788066274912714, null], \"type\": \"scatter\"}, {\"hoverinfo\": \"none\", \"line\": {\"color\": \"rgb(0, 0, 0)\", \"dash\": \"solid\", \"width\": 1}, \"mode\": \"lines\", \"x\": [0.1300280301327984, 0.3574939171361847, null, 0.34809886000845414, 0.3359109766253991, null, 0.34809886000845414, 0.34233586160842794, null], \"y\": [0.047503423420247826, 0.5282866342742184, null, 0.5084287743043868, 0.4945297382836996, null, 0.5084287743043868, 0.4843859338748204, null], \"type\": \"scatter\"}, {\"hoverinfo\": \"none\", \"line\": {\"color\": \"rgb(0, 0, 0)\", \"dash\": \"solid\", \"width\": 1}, \"mode\": \"lines\", \"x\": [0.411025227074875, 0.3574939171361847, null, 0.3612881014718604, 0.36081756766755785, null, 0.3612881014718604, 0.36900808076084257, null], \"y\": [0.17112266597076842, 0.5282866342742184, null, 0.5029716189055159, 0.47673897841640706, null, 0.5029716189055159, 0.48083554358563074, null], \"type\": \"scatter\"}, {\"hoverinfo\": \"none\", \"marker\": {\"color\": \"rgb(255, 0, 0)\", \"line\": {\"color\": \"rgb(0, 0, 0)\", \"width\": 1}, \"size\": 20, \"symbol\": \"circle\"}, \"mode\": \"markers+text\", \"text\": [\"('Atlanta Hawks',)\"], \"textfont\": {\"color\": \"rgb(0, 0, 0)\"}, \"textposition\": \"middle center\", \"x\": [0.59938265714518], \"y\": [0.332433833135782], \"type\": \"scatter\"}, {\"hoverinfo\": \"none\", \"marker\": {\"color\": \"rgb(255, 0, 0)\", \"line\": {\"color\": \"rgb(0, 0, 0)\", \"width\": 1}, \"size\": 20, \"symbol\": \"circle\"}, \"mode\": \"markers+text\", \"text\": [\"('Boston Celtics',)\"], \"textfont\": {\"color\": \"rgb(0, 0, 0)\"}, \"textposition\": \"middle center\", \"x\": [0.9852669980395963], \"y\": [0.7779724373083199], \"type\": \"scatter\"}, {\"hoverinfo\": \"none\", \"marker\": {\"color\": \"rgb(255, 0, 0)\", \"line\": {\"color\": \"rgb(0, 0, 0)\", \"width\": 1}, \"size\": 20, \"symbol\": \"circle\"}, \"mode\": \"markers+text\", \"text\": [\"('Brooklyn Nets',)\"], \"textfont\": {\"color\": \"rgb(0, 0, 0)\"}, \"textposition\": \"middle center\", \"x\": [0.6615399770521982], \"y\": [0.3782429415958283], \"type\": \"scatter\"}, {\"hoverinfo\": \"none\", \"marker\": {\"color\": \"rgb(255, 0, 0)\", \"line\": {\"color\": \"rgb(0, 0, 0)\", \"width\": 1}, \"size\": 20, \"symbol\": \"circle\"}, \"mode\": \"markers+text\", \"text\": [\"('Charlotte Hornets',)\"], \"textfont\": {\"color\": \"rgb(0, 0, 0)\"}, \"textposition\": \"middle center\", \"x\": [0.9168193781357818], \"y\": [0.10756279144382563], \"type\": \"scatter\"}, {\"hoverinfo\": \"none\", \"marker\": {\"color\": \"rgb(255, 0, 0)\", \"line\": {\"color\": \"rgb(0, 0, 0)\", \"width\": 1}, \"size\": 20, \"symbol\": \"circle\"}, \"mode\": \"markers+text\", \"text\": [\"('Chicago Bulls',)\"], \"textfont\": {\"color\": \"rgb(0, 0, 0)\"}, \"textposition\": \"middle center\", \"x\": [0.1305052502754127], \"y\": [0.531864895444712], \"type\": \"scatter\"}, {\"hoverinfo\": \"none\", \"marker\": {\"color\": \"rgb(255, 0, 0)\", \"line\": {\"color\": \"rgb(0, 0, 0)\", \"width\": 1}, \"size\": 20, \"symbol\": \"circle\"}, \"mode\": \"markers+text\", \"text\": [\"('Cleveland Cavaliers',)\"], \"textfont\": {\"color\": \"rgb(0, 0, 0)\"}, \"textposition\": \"middle center\", \"x\": [0.3854339825285763], \"y\": [0.41227696105407274], \"type\": \"scatter\"}, {\"hoverinfo\": \"none\", \"marker\": {\"color\": \"rgb(255, 0, 0)\", \"line\": {\"color\": \"rgb(0, 0, 0)\", \"width\": 1}, \"size\": 20, \"symbol\": \"circle\"}, \"mode\": \"markers+text\", \"text\": [\"('Dallas Mavericks',)\"], \"textfont\": {\"color\": \"rgb(0, 0, 0)\"}, \"textposition\": \"middle center\", \"x\": [0.9224590893816811], \"y\": [0.09076227708869977], \"type\": \"scatter\"}, {\"hoverinfo\": \"none\", \"marker\": {\"color\": \"rgb(255, 0, 0)\", \"line\": {\"color\": \"rgb(0, 0, 0)\", \"width\": 1}, \"size\": 20, \"symbol\": \"circle\"}, \"mode\": \"markers+text\", \"text\": [\"('Denver Nuggets',)\"], \"textfont\": {\"color\": \"rgb(0, 0, 0)\"}, \"textposition\": \"middle center\", \"x\": [0.6333231952655372], \"y\": [0.9014938580647948], \"type\": \"scatter\"}, {\"hoverinfo\": \"none\", \"marker\": {\"color\": \"rgb(255, 0, 0)\", \"line\": {\"color\": \"rgb(0, 0, 0)\", \"width\": 1}, \"size\": 20, \"symbol\": \"circle\"}, \"mode\": \"markers+text\", \"text\": [\"('Detroit Pistons',)\"], \"textfont\": {\"color\": \"rgb(0, 0, 0)\"}, \"textposition\": \"middle center\", \"x\": [0.49550102046735156], \"y\": [0.39939813255680245], \"type\": \"scatter\"}, {\"hoverinfo\": \"none\", \"marker\": {\"color\": \"rgb(255, 0, 0)\", \"line\": {\"color\": \"rgb(0, 0, 0)\", \"width\": 1}, \"size\": 20, \"symbol\": \"circle\"}, \"mode\": \"markers+text\", \"text\": [\"('Golden State Warriors',)\"], \"textfont\": {\"color\": \"rgb(0, 0, 0)\"}, \"textposition\": \"middle center\", \"x\": [0.5837498026634218], \"y\": [0.6994277507143435], \"type\": \"scatter\"}, {\"hoverinfo\": \"none\", \"marker\": {\"color\": \"rgb(255, 0, 0)\", \"line\": {\"color\": \"rgb(0, 0, 0)\", \"width\": 1}, \"size\": 20, \"symbol\": \"circle\"}, \"mode\": \"markers+text\", \"text\": [\"('Houston Rockets',)\"], \"textfont\": {\"color\": \"rgb(0, 0, 0)\"}, \"textposition\": \"middle center\", \"x\": [0.9613740468669975], \"y\": [0.8013691338544022], \"type\": \"scatter\"}, {\"hoverinfo\": \"none\", \"marker\": {\"color\": \"rgb(255, 0, 0)\", \"line\": {\"color\": \"rgb(0, 0, 0)\", \"width\": 1}, \"size\": 20, \"symbol\": \"circle\"}, \"mode\": \"markers+text\", \"text\": [\"('Indiana Pacers',)\"], \"textfont\": {\"color\": \"rgb(0, 0, 0)\"}, \"textposition\": \"middle center\", \"x\": [0.17134256663984304], \"y\": [0.8411299803959531], \"type\": \"scatter\"}, {\"hoverinfo\": \"none\", \"marker\": {\"color\": \"rgb(255, 0, 0)\", \"line\": {\"color\": \"rgb(0, 0, 0)\", \"width\": 1}, \"size\": 20, \"symbol\": \"circle\"}, \"mode\": \"markers+text\", \"text\": [\"('LA Clippers',)\"], \"textfont\": {\"color\": \"rgb(0, 0, 0)\"}, \"textposition\": \"middle center\", \"x\": [0.4901982805827293], \"y\": [0.7123496504000605], \"type\": \"scatter\"}, {\"hoverinfo\": \"none\", \"marker\": {\"color\": \"rgb(255, 0, 0)\", \"line\": {\"color\": \"rgb(0, 0, 0)\", \"width\": 1}, \"size\": 20, \"symbol\": \"circle\"}, \"mode\": \"markers+text\", \"text\": [\"('Los Angeles Lakers',)\"], \"textfont\": {\"color\": \"rgb(0, 0, 0)\"}, \"textposition\": \"middle center\", \"x\": [0.48949944373098575], \"y\": [0.38901393473745083], \"type\": \"scatter\"}, {\"hoverinfo\": \"none\", \"marker\": {\"color\": \"rgb(255, 0, 0)\", \"line\": {\"color\": \"rgb(0, 0, 0)\", \"width\": 1}, \"size\": 20, \"symbol\": \"circle\"}, \"mode\": \"markers+text\", \"text\": [\"('Memphis Grizzlies',)\"], \"textfont\": {\"color\": \"rgb(0, 0, 0)\"}, \"textposition\": \"middle center\", \"x\": [0.3574939171361847], \"y\": [0.5282866342742184], \"type\": \"scatter\"}, {\"hoverinfo\": \"none\", \"marker\": {\"color\": \"rgb(255, 0, 0)\", \"line\": {\"color\": \"rgb(0, 0, 0)\", \"width\": 1}, \"size\": 20, \"symbol\": \"circle\"}, \"mode\": \"markers+text\", \"text\": [\"('Miami Heat',)\"], \"textfont\": {\"color\": \"rgb(0, 0, 0)\"}, \"textposition\": \"middle center\", \"x\": [0.14857289565925325], \"y\": [0.7205907873430651], \"type\": \"scatter\"}, {\"hoverinfo\": \"none\", \"marker\": {\"color\": \"rgb(255, 0, 0)\", \"line\": {\"color\": \"rgb(0, 0, 0)\", \"width\": 1}, \"size\": 20, \"symbol\": \"circle\"}, \"mode\": \"markers+text\", \"text\": [\"('Milwaukee Bucks',)\"], \"textfont\": {\"color\": \"rgb(0, 0, 0)\"}, \"textposition\": \"middle center\", \"x\": [0.15272696860599377], \"y\": [0.8004613765877595], \"type\": \"scatter\"}, {\"hoverinfo\": \"none\", \"marker\": {\"color\": \"rgb(255, 0, 0)\", \"line\": {\"color\": \"rgb(0, 0, 0)\", \"width\": 1}, \"size\": 20, \"symbol\": \"circle\"}, \"mode\": \"markers+text\", \"text\": [\"('Minnesota Timberwolves',)\"], \"textfont\": {\"color\": \"rgb(0, 0, 0)\"}, \"textposition\": \"middle center\", \"x\": [0.08378935413714406], \"y\": [0.24019969553772447], \"type\": \"scatter\"}, {\"hoverinfo\": \"none\", \"marker\": {\"color\": \"rgb(255, 0, 0)\", \"line\": {\"color\": \"rgb(0, 0, 0)\", \"width\": 1}, \"size\": 20, \"symbol\": \"circle\"}, \"mode\": \"markers+text\", \"text\": [\"('New Orleans Pelicans',)\"], \"textfont\": {\"color\": \"rgb(0, 0, 0)\"}, \"textposition\": \"middle center\", \"x\": [0.865818504755022], \"y\": [0.18336417444798092], \"type\": \"scatter\"}, {\"hoverinfo\": \"none\", \"marker\": {\"color\": \"rgb(255, 0, 0)\", \"line\": {\"color\": \"rgb(0, 0, 0)\", \"width\": 1}, \"size\": 20, \"symbol\": \"circle\"}, \"mode\": \"markers+text\", \"text\": [\"('New York Knicks',)\"], \"textfont\": {\"color\": \"rgb(0, 0, 0)\"}, \"textposition\": \"middle center\", \"x\": [0.6677203134686431], \"y\": [0.978321213953681], \"type\": \"scatter\"}, {\"hoverinfo\": \"none\", \"marker\": {\"color\": \"rgb(255, 0, 0)\", \"line\": {\"color\": \"rgb(0, 0, 0)\", \"width\": 1}, \"size\": 20, \"symbol\": \"circle\"}, \"mode\": \"markers+text\", \"text\": [\"('Oklahoma City Thunder',)\"], \"textfont\": {\"color\": \"rgb(0, 0, 0)\"}, \"textposition\": \"middle center\", \"x\": [0.7897709676316589], \"y\": [0.9067539556904792], \"type\": \"scatter\"}, {\"hoverinfo\": \"none\", \"marker\": {\"color\": \"rgb(255, 0, 0)\", \"line\": {\"color\": \"rgb(0, 0, 0)\", \"width\": 1}, \"size\": 20, \"symbol\": \"circle\"}, \"mode\": \"markers+text\", \"text\": [\"('Orlando Magic',)\"], \"textfont\": {\"color\": \"rgb(0, 0, 0)\"}, \"textposition\": \"middle center\", \"x\": [0.25281888972542055], \"y\": [0.5725726217985725], \"type\": \"scatter\"}, {\"hoverinfo\": \"none\", \"marker\": {\"color\": \"rgb(255, 0, 0)\", \"line\": {\"color\": \"rgb(0, 0, 0)\", \"width\": 1}, \"size\": 20, \"symbol\": \"circle\"}, \"mode\": \"markers+text\", \"text\": [\"('Philadelphia 76ers',)\"], \"textfont\": {\"color\": \"rgb(0, 0, 0)\"}, \"textposition\": \"middle center\", \"x\": [0.29818301961073457], \"y\": [0.9939453604189677], \"type\": \"scatter\"}, {\"hoverinfo\": \"none\", \"marker\": {\"color\": \"rgb(255, 0, 0)\", \"line\": {\"color\": \"rgb(0, 0, 0)\", \"width\": 1}, \"size\": 20, \"symbol\": \"circle\"}, \"mode\": \"markers+text\", \"text\": [\"('Phoenix Suns',)\"], \"textfont\": {\"color\": \"rgb(0, 0, 0)\"}, \"textposition\": \"middle center\", \"x\": [0.4718592057136122], \"y\": [0.07244412784167409], \"type\": \"scatter\"}, {\"hoverinfo\": \"none\", \"marker\": {\"color\": \"rgb(255, 0, 0)\", \"line\": {\"color\": \"rgb(0, 0, 0)\", \"width\": 1}, \"size\": 20, \"symbol\": \"circle\"}, \"mode\": \"markers+text\", \"text\": [\"('Portland Trail Blazers',)\"], \"textfont\": {\"color\": \"rgb(0, 0, 0)\"}, \"textposition\": \"middle center\", \"x\": [0.24639024096894357], \"y\": [0.9000433366363173], \"type\": \"scatter\"}, {\"hoverinfo\": \"none\", \"marker\": {\"color\": \"rgb(255, 0, 0)\", \"line\": {\"color\": \"rgb(0, 0, 0)\", \"width\": 1}, \"size\": 20, \"symbol\": \"circle\"}, \"mode\": \"markers+text\", \"text\": [\"('Sacramento Kings',)\"], \"textfont\": {\"color\": \"rgb(0, 0, 0)\"}, \"textposition\": \"middle center\", \"x\": [0.1300280301327984], \"y\": [0.047503423420247826], \"type\": \"scatter\"}, {\"hoverinfo\": \"none\", \"marker\": {\"color\": \"rgb(255, 0, 0)\", \"line\": {\"color\": \"rgb(0, 0, 0)\", \"width\": 1}, \"size\": 20, \"symbol\": \"circle\"}, \"mode\": \"markers+text\", \"text\": [\"('San Antonio Spurs',)\"], \"textfont\": {\"color\": \"rgb(0, 0, 0)\"}, \"textposition\": \"middle center\", \"x\": [0.411025227074875], \"y\": [0.17112266597076842], \"type\": \"scatter\"}, {\"hoverinfo\": \"none\", \"marker\": {\"color\": \"rgb(255, 0, 0)\", \"line\": {\"color\": \"rgb(0, 0, 0)\", \"width\": 1}, \"size\": 20, \"symbol\": \"circle\"}, \"mode\": \"markers+text\", \"text\": [\"('Toronto Raptors',)\"], \"textfont\": {\"color\": \"rgb(0, 0, 0)\"}, \"textposition\": \"middle center\", \"x\": [0.38478684788487705], \"y\": [0.8048601273035465], \"type\": \"scatter\"}, {\"hoverinfo\": \"none\", \"marker\": {\"color\": \"rgb(255, 0, 0)\", \"line\": {\"color\": \"rgb(0, 0, 0)\", \"width\": 1}, \"size\": 20, \"symbol\": \"circle\"}, \"mode\": \"markers+text\", \"text\": [\"('Utah Jazz',)\"], \"textfont\": {\"color\": \"rgb(0, 0, 0)\"}, \"textposition\": \"middle center\", \"x\": [0.33974982092982775], \"y\": [0.6713711444104047], \"type\": \"scatter\"}, {\"hoverinfo\": \"none\", \"marker\": {\"color\": \"rgb(255, 0, 0)\", \"line\": {\"color\": \"rgb(0, 0, 0)\", \"width\": 1}, \"size\": 20, \"symbol\": \"circle\"}, \"mode\": \"markers+text\", \"text\": [\"('Washington Wizards',)\"], \"textfont\": {\"color\": \"rgb(0, 0, 0)\"}, \"textposition\": \"middle center\", \"x\": [0.791932100808889], \"y\": [0.606655385308331], \"type\": \"scatter\"}, {\"hoverinfo\": \"none\", \"mode\": \"text\", \"text\": [null, null, null, null, null, null, null, null, null, null, null, null, null, null, null, null, null, null, null, null, null, null, null], \"textfont\": {\"color\": \"rgb(0, 0, 0)\"}, \"textposition\": \"middle center\", \"x\": [0.36923638073470116, 0.5776950261909244, 0.5601230821430401, 0.8000011350382165, 0.96803469853302, 0.63583684116406, 0.40012606821703134, 0.7228754073571223, 0.39466767623670085, 0.48026552127643735, 0.5659626186756191, 0.4325345384657332, 0.31919587139132305, 0.6817767891794908, 0.5036720519354052, 0.32350819758350974, 0.24905658763712754, 0.737203981027087, 0.19156637271112464, 0.46789845577915784, 0.6666502509872487, 0.23289050718548893, 0.3704017835200763], \"y\": [0.16506122533535164, 0.7833281364477961, 0.6289920100508801, 0.5330164355944518, 0.4300450676718521, 0.3309978714564822, 0.5247638646372639, 0.7724713612515178, 0.8249029860151645, 0.7269363634016369, 0.7950127932067725, 0.5994141622320357, 0.6902257879099688, 0.3113347332479582, 0.7738580507256494, 0.45285869110016347, 0.23173440008276658, 0.5290679965429838, 0.6700915656746704, 0.9736720893419349, 0.1538445756091426, 0.3050576528915913, 0.342773541729763], \"type\": \"scatter\"}, {\"hoverinfo\": \"none\", \"marker\": {\"color\": \"rgba(255, 255, 255, 0.0)\", \"line\": {\"color\": \"rgba(255, 255, 255, 0.0)\", \"width\": 0}, \"size\": 0, \"symbol\": \"circle\"}, \"mode\": \"markers\", \"x\": [0.5, 0.0, 1.0, 0.5], \"y\": [0.0, 0.5, 0.5, 1.0], \"type\": \"scatter\"}], \"name\": \"1\"}]);\n",
       "                        }).then(function(){\n",
       "                            Plotly.animate('81be6d51-85d5-43aa-aa6f-6dac5525def9', null);\n",
       "                        }).then(function(){\n",
       "                            \n",
       "var gd = document.getElementById('81be6d51-85d5-43aa-aa6f-6dac5525def9');\n",
       "var x = new MutationObserver(function (mutations, observer) {{\n",
       "        var display = window.getComputedStyle(gd).display;\n",
       "        if (!display || display === 'none') {{\n",
       "            console.log([gd, 'removed!']);\n",
       "            Plotly.purge(gd);\n",
       "            observer.disconnect();\n",
       "        }}\n",
       "}});\n",
       "\n",
       "// Listen for the removal of the full notebook cells\n",
       "var notebookContainer = gd.closest('#notebook-container');\n",
       "if (notebookContainer) {{\n",
       "    x.observe(notebookContainer, {childList: true});\n",
       "}}\n",
       "\n",
       "// Listen for the clearing of the current output cell\n",
       "var outputEl = gd.closest('.output');\n",
       "if (outputEl) {{\n",
       "    x.observe(outputEl, {childList: true});\n",
       "}}\n",
       "\n",
       "                        })\n",
       "                };\n",
       "                });\n",
       "            </script>\n",
       "        </div>"
      ]
     },
     "metadata": {},
     "output_type": "display_data"
    }
   ],
   "source": [
    "a = fm.Animation()\n",
    "g = nx.DiGraph()\n",
    "a.rec(g)\n",
    "\n",
    "transfers = list_all_transfers(connection, 2016)\n",
    "teams = list_all_teams(connection)\n",
    "\n",
    "for team in teams:\n",
    "    add_node(g, team)\n",
    "\n",
    "    \n",
    "#Existem casos em que um time assina com um jogador e na mesma temporada vende ele, vamos ignorar estes casos por enquanto\n",
    "for transfer in transfers:\n",
    "    antigo = get_from_where(connection, transfer[1], transfer[3])\n",
    "    novo = get_team_name(connection, transfer[2])\n",
    "    if(antigo != -1) and (novo != -1):\n",
    "        if(antigo != novo):\n",
    "            id_antigo = get_team_id(connection, antigo)\n",
    "            id_novo = get_team_id(connection, novo)\n",
    "            weight = get_weight(connection, id_antigo, id_novo, 2019)\n",
    "            if(weight == -1):\n",
    "                weight = 0\n",
    "            add_edge(g, antigo, novo, weight)\n",
    "    else:\n",
    "        print(antigo, novo)\n",
    "    \n",
    "    \n",
    "a.rec(g)\n",
    "a.play()"
   ]
  },
  {
   "cell_type": "code",
   "execution_count": 7,
   "metadata": {
    "scrolled": true
   },
   "outputs": [
    {
     "data": {
      "application/vnd.plotly.v1+json": {
       "config": {
        "linkText": "Export to plot.ly",
        "plotlyServerURL": "https://plot.ly",
        "showLink": false,
        "staticPlot": true
       },
       "data": [
        {
         "hoverinfo": "none",
         "line": {
          "color": "rgba(255, 255, 255, 0.0)",
          "dash": "solid",
          "width": 1
         },
         "mode": "lines",
         "type": "scatter",
         "x": [
          0.9000353191022225,
          0.06475610002878784,
          null,
          0.07851773679967733,
          0.09288503553456648,
          null,
          0.07851773679967733,
          0.09044442557943497,
          null
         ],
         "y": [
          0.578196347780768,
          0.12034230758596098,
          null,
          0.12788567853470145,
          0.12766294483833995,
          null,
          0.12788567853470145,
          0.14252132726774655,
          null
         ]
        },
        {
         "hoverinfo": "none",
         "line": {
          "color": "rgba(255, 255, 255, 0.0)",
          "dash": "solid",
          "width": 1
         },
         "mode": "lines",
         "type": "scatter",
         "x": [
          0.5107295056086786,
          0.9142358226699291,
          null,
          0.902010278523927,
          0.8881002245827,
          null,
          0.902010278523927,
          0.8925613156209706,
          null
         ],
         "y": [
          0.4601580107920312,
          0.9152406965395632,
          null,
          0.9014524775465924,
          0.8948800236033175,
          null,
          0.9014524775465924,
          0.8816801540417879,
          null
         ]
        },
        {
         "hoverinfo": "none",
         "line": {
          "color": "rgba(255, 255, 255, 0.0)",
          "dash": "solid",
          "width": 1
         },
         "mode": "lines",
         "type": "scatter",
         "x": [
          0.00310060136949708,
          0.5332006349196151,
          null,
          0.5188349844615217,
          0.5051846724171586,
          null,
          0.5188349844615217,
          0.5050372363606034,
          null
         ],
         "y": [
          0.771594505896738,
          0.7547792558606273,
          null,
          0.7552349472190422,
          0.7634255525589204,
          null,
          0.7552349472190422,
          0.7479150190441097,
          null
         ]
        },
        {
         "hoverinfo": "none",
         "line": {
          "color": "rgba(255, 255, 255, 0.0)",
          "dash": "solid",
          "width": 1
         },
         "mode": "lines",
         "type": "scatter",
         "x": [
          0.06475610002878784,
          0.518601108574592,
          null,
          0.5061660589533719,
          0.49215940231291344,
          null,
          0.5061660589533719,
          0.49641340229935216,
          null
         ],
         "y": [
          0.12034230758596098,
          0.6002134250889016,
          null,
          0.5870652774931853,
          0.5812174082098515,
          null,
          0.5870652774931853,
          0.5677913364513252,
          null
         ]
        },
        {
         "hoverinfo": "none",
         "marker": {
          "color": "rgba(255, 255, 255, 0.0)",
          "line": {
           "color": "rgba(255, 255, 255, 0.0)",
           "width": 1
          },
          "size": 20,
          "symbol": "circle"
         },
         "mode": "markers+text",
         "text": [
          "('Atlanta Hawks',)"
         ],
         "textfont": {
          "color": "rgb(0, 0, 0)"
         },
         "textposition": "middle center",
         "type": "scatter",
         "x": [
          0.9528918051655421
         ],
         "y": [
          0.06925916751235628
         ]
        },
        {
         "hoverinfo": "none",
         "marker": {
          "color": "rgba(255, 255, 255, 0.0)",
          "line": {
           "color": "rgba(255, 255, 255, 0.0)",
           "width": 1
          },
          "size": 20,
          "symbol": "circle"
         },
         "mode": "markers+text",
         "text": [
          "('Boston Celtics',)"
         ],
         "textfont": {
          "color": "rgb(0, 0, 0)"
         },
         "textposition": "middle center",
         "type": "scatter",
         "x": [
          0.9000353191022225
         ],
         "y": [
          0.578196347780768
         ]
        },
        {
         "hoverinfo": "none",
         "marker": {
          "color": "rgba(255, 255, 255, 0.0)",
          "line": {
           "color": "rgba(255, 255, 255, 0.0)",
           "width": 1
          },
          "size": 20,
          "symbol": "circle"
         },
         "mode": "markers+text",
         "text": [
          "('Brooklyn Nets',)"
         ],
         "textfont": {
          "color": "rgb(0, 0, 0)"
         },
         "textposition": "middle center",
         "type": "scatter",
         "x": [
          0.1928078315656524
         ],
         "y": [
          0.38049595508786327
         ]
        },
        {
         "hoverinfo": "none",
         "marker": {
          "color": "rgba(255, 255, 255, 0.0)",
          "line": {
           "color": "rgba(255, 255, 255, 0.0)",
           "width": 1
          },
          "size": 20,
          "symbol": "circle"
         },
         "mode": "markers+text",
         "text": [
          "('Charlotte Hornets',)"
         ],
         "textfont": {
          "color": "rgb(0, 0, 0)"
         },
         "textposition": "middle center",
         "type": "scatter",
         "x": [
          0.1307901879954193
         ],
         "y": [
          0.28369796536360437
         ]
        },
        {
         "hoverinfo": "none",
         "marker": {
          "color": "rgba(255, 255, 255, 0.0)",
          "line": {
           "color": "rgba(255, 255, 255, 0.0)",
           "width": 1
          },
          "size": 20,
          "symbol": "circle"
         },
         "mode": "markers+text",
         "text": [
          "('Chicago Bulls',)"
         ],
         "textfont": {
          "color": "rgb(0, 0, 0)"
         },
         "textposition": "middle center",
         "type": "scatter",
         "x": [
          0.19029450047865482
         ],
         "y": [
          0.9332830312504907
         ]
        },
        {
         "hoverinfo": "none",
         "marker": {
          "color": "rgba(255, 255, 255, 0.0)",
          "line": {
           "color": "rgba(255, 255, 255, 0.0)",
           "width": 1
          },
          "size": 20,
          "symbol": "circle"
         },
         "mode": "markers+text",
         "text": [
          "('Cleveland Cavaliers',)"
         ],
         "textfont": {
          "color": "rgb(0, 0, 0)"
         },
         "textposition": "middle center",
         "type": "scatter",
         "x": [
          0.816919398835723
         ],
         "y": [
          0.48881133528061493
         ]
        },
        {
         "hoverinfo": "none",
         "marker": {
          "color": "rgba(255, 255, 255, 0.0)",
          "line": {
           "color": "rgba(255, 255, 255, 0.0)",
           "width": 1
          },
          "size": 20,
          "symbol": "circle"
         },
         "mode": "markers+text",
         "text": [
          "('Dallas Mavericks',)"
         ],
         "textfont": {
          "color": "rgb(0, 0, 0)"
         },
         "textposition": "middle center",
         "type": "scatter",
         "x": [
          0.8837074202123242
         ],
         "y": [
          0.5099693334584041
         ]
        },
        {
         "hoverinfo": "none",
         "marker": {
          "color": "rgba(255, 255, 255, 0.0)",
          "line": {
           "color": "rgba(255, 255, 255, 0.0)",
           "width": 1
          },
          "size": 20,
          "symbol": "circle"
         },
         "mode": "markers+text",
         "text": [
          "('Denver Nuggets',)"
         ],
         "textfont": {
          "color": "rgb(0, 0, 0)"
         },
         "textposition": "middle center",
         "type": "scatter",
         "x": [
          0.8399548418497538
         ],
         "y": [
          0.4845105005350425
         ]
        },
        {
         "hoverinfo": "none",
         "marker": {
          "color": "rgba(255, 255, 255, 0.0)",
          "line": {
           "color": "rgba(255, 255, 255, 0.0)",
           "width": 1
          },
          "size": 20,
          "symbol": "circle"
         },
         "mode": "markers+text",
         "text": [
          "('Detroit Pistons',)"
         ],
         "textfont": {
          "color": "rgb(0, 0, 0)"
         },
         "textposition": "middle center",
         "type": "scatter",
         "x": [
          0.08814813941536637
         ],
         "y": [
          0.6542791901695156
         ]
        },
        {
         "hoverinfo": "none",
         "marker": {
          "color": "rgba(255, 255, 255, 0.0)",
          "line": {
           "color": "rgba(255, 255, 255, 0.0)",
           "width": 1
          },
          "size": 20,
          "symbol": "circle"
         },
         "mode": "markers+text",
         "text": [
          "('Golden State Warriors',)"
         ],
         "textfont": {
          "color": "rgb(0, 0, 0)"
         },
         "textposition": "middle center",
         "type": "scatter",
         "x": [
          0.6911809004771826
         ],
         "y": [
          0.27513458637796173
         ]
        },
        {
         "hoverinfo": "none",
         "marker": {
          "color": "rgba(255, 255, 255, 0.0)",
          "line": {
           "color": "rgba(255, 255, 255, 0.0)",
           "width": 1
          },
          "size": 20,
          "symbol": "circle"
         },
         "mode": "markers+text",
         "text": [
          "('Houston Rockets',)"
         ],
         "textfont": {
          "color": "rgb(0, 0, 0)"
         },
         "textposition": "middle center",
         "type": "scatter",
         "x": [
          0.9142358226699291
         ],
         "y": [
          0.9152406965395632
         ]
        },
        {
         "hoverinfo": "none",
         "marker": {
          "color": "rgba(255, 255, 255, 0.0)",
          "line": {
           "color": "rgba(255, 255, 255, 0.0)",
           "width": 1
          },
          "size": 20,
          "symbol": "circle"
         },
         "mode": "markers+text",
         "text": [
          "('Indiana Pacers',)"
         ],
         "textfont": {
          "color": "rgb(0, 0, 0)"
         },
         "textposition": "middle center",
         "type": "scatter",
         "x": [
          0.9789546099706437
         ],
         "y": [
          0.5449092095603997
         ]
        },
        {
         "hoverinfo": "none",
         "marker": {
          "color": "rgba(255, 255, 255, 0.0)",
          "line": {
           "color": "rgba(255, 255, 255, 0.0)",
           "width": 1
          },
          "size": 20,
          "symbol": "circle"
         },
         "mode": "markers+text",
         "text": [
          "('LA Clippers',)"
         ],
         "textfont": {
          "color": "rgb(0, 0, 0)"
         },
         "textposition": "middle center",
         "type": "scatter",
         "x": [
          0.5107295056086786
         ],
         "y": [
          0.4601580107920312
         ]
        },
        {
         "hoverinfo": "none",
         "marker": {
          "color": "rgba(255, 255, 255, 0.0)",
          "line": {
           "color": "rgba(255, 255, 255, 0.0)",
           "width": 1
          },
          "size": 20,
          "symbol": "circle"
         },
         "mode": "markers+text",
         "text": [
          "('Los Angeles Lakers',)"
         ],
         "textfont": {
          "color": "rgb(0, 0, 0)"
         },
         "textposition": "middle center",
         "type": "scatter",
         "x": [
          0.42059809883729016
         ],
         "y": [
          0.329051736347859
         ]
        },
        {
         "hoverinfo": "none",
         "marker": {
          "color": "rgba(255, 255, 255, 0.0)",
          "line": {
           "color": "rgba(255, 255, 255, 0.0)",
           "width": 1
          },
          "size": 20,
          "symbol": "circle"
         },
         "mode": "markers+text",
         "text": [
          "('Memphis Grizzlies',)"
         ],
         "textfont": {
          "color": "rgb(0, 0, 0)"
         },
         "textposition": "middle center",
         "type": "scatter",
         "x": [
          0.41840435594174674
         ],
         "y": [
          0.2903369941100492
         ]
        },
        {
         "hoverinfo": "none",
         "marker": {
          "color": "rgba(255, 255, 255, 0.0)",
          "line": {
           "color": "rgba(255, 255, 255, 0.0)",
           "width": 1
          },
          "size": 20,
          "symbol": "circle"
         },
         "mode": "markers+text",
         "text": [
          "('Miami Heat',)"
         ],
         "textfont": {
          "color": "rgb(0, 0, 0)"
         },
         "textposition": "middle center",
         "type": "scatter",
         "x": [
          0.4346755564551269
         ],
         "y": [
          0.005414023680544
         ]
        },
        {
         "hoverinfo": "none",
         "marker": {
          "color": "rgba(255, 255, 255, 0.0)",
          "line": {
           "color": "rgba(255, 255, 255, 0.0)",
           "width": 1
          },
          "size": 20,
          "symbol": "circle"
         },
         "mode": "markers+text",
         "text": [
          "('Milwaukee Bucks',)"
         ],
         "textfont": {
          "color": "rgb(0, 0, 0)"
         },
         "textposition": "middle center",
         "type": "scatter",
         "x": [
          0.28636996370159185
         ],
         "y": [
          0.29522182412135256
         ]
        },
        {
         "hoverinfo": "none",
         "marker": {
          "color": "rgba(255, 255, 255, 0.0)",
          "line": {
           "color": "rgba(255, 255, 255, 0.0)",
           "width": 1
          },
          "size": 20,
          "symbol": "circle"
         },
         "mode": "markers+text",
         "text": [
          "('Minnesota Timberwolves',)"
         ],
         "textfont": {
          "color": "rgb(0, 0, 0)"
         },
         "textposition": "middle center",
         "type": "scatter",
         "x": [
          0.00310060136949708
         ],
         "y": [
          0.771594505896738
         ]
        },
        {
         "hoverinfo": "none",
         "marker": {
          "color": "rgba(255, 255, 255, 0.0)",
          "line": {
           "color": "rgba(255, 255, 255, 0.0)",
           "width": 1
          },
          "size": 20,
          "symbol": "circle"
         },
         "mode": "markers+text",
         "text": [
          "('New Orleans Pelicans',)"
         ],
         "textfont": {
          "color": "rgb(0, 0, 0)"
         },
         "textposition": "middle center",
         "type": "scatter",
         "x": [
          0.9454264441626102
         ],
         "y": [
          0.29188003344611047
         ]
        },
        {
         "hoverinfo": "none",
         "marker": {
          "color": "rgba(255, 255, 255, 0.0)",
          "line": {
           "color": "rgba(255, 255, 255, 0.0)",
           "width": 1
          },
          "size": 20,
          "symbol": "circle"
         },
         "mode": "markers+text",
         "text": [
          "('New York Knicks',)"
         ],
         "textfont": {
          "color": "rgb(0, 0, 0)"
         },
         "textposition": "middle center",
         "type": "scatter",
         "x": [
          0.4961091002153274
         ],
         "y": [
          0.5803632634141122
         ]
        },
        {
         "hoverinfo": "none",
         "marker": {
          "color": "rgba(255, 255, 255, 0.0)",
          "line": {
           "color": "rgba(255, 255, 255, 0.0)",
           "width": 1
          },
          "size": 20,
          "symbol": "circle"
         },
         "mode": "markers+text",
         "text": [
          "('Oklahoma City Thunder',)"
         ],
         "textfont": {
          "color": "rgb(0, 0, 0)"
         },
         "textposition": "middle center",
         "type": "scatter",
         "x": [
          0.526671320080307
         ],
         "y": [
          0.739468101082775
         ]
        },
        {
         "hoverinfo": "none",
         "marker": {
          "color": "rgba(255, 255, 255, 0.0)",
          "line": {
           "color": "rgba(255, 255, 255, 0.0)",
           "width": 1
          },
          "size": 20,
          "symbol": "circle"
         },
         "mode": "markers+text",
         "text": [
          "('Orlando Magic',)"
         ],
         "textfont": {
          "color": "rgb(0, 0, 0)"
         },
         "textposition": "middle center",
         "type": "scatter",
         "x": [
          0.9094307078236904
         ],
         "y": [
          0.9700673598710964
         ]
        },
        {
         "hoverinfo": "none",
         "marker": {
          "color": "rgba(255, 255, 255, 0.0)",
          "line": {
           "color": "rgba(255, 255, 255, 0.0)",
           "width": 1
          },
          "size": 20,
          "symbol": "circle"
         },
         "mode": "markers+text",
         "text": [
          "('Philadelphia 76ers',)"
         ],
         "textfont": {
          "color": "rgb(0, 0, 0)"
         },
         "textposition": "middle center",
         "type": "scatter",
         "x": [
          0.38361118843496544
         ],
         "y": [
          0.8161578740602545
         ]
        },
        {
         "hoverinfo": "none",
         "marker": {
          "color": "rgba(255, 255, 255, 0.0)",
          "line": {
           "color": "rgba(255, 255, 255, 0.0)",
           "width": 1
          },
          "size": 20,
          "symbol": "circle"
         },
         "mode": "markers+text",
         "text": [
          "('Phoenix Suns',)"
         ],
         "textfont": {
          "color": "rgb(0, 0, 0)"
         },
         "textposition": "middle center",
         "type": "scatter",
         "x": [
          0.518601108574592
         ],
         "y": [
          0.6002134250889016
         ]
        },
        {
         "hoverinfo": "none",
         "marker": {
          "color": "rgba(255, 255, 255, 0.0)",
          "line": {
           "color": "rgba(255, 255, 255, 0.0)",
           "width": 1
          },
          "size": 20,
          "symbol": "circle"
         },
         "mode": "markers+text",
         "text": [
          "('Portland Trail Blazers',)"
         ],
         "textfont": {
          "color": "rgb(0, 0, 0)"
         },
         "textposition": "middle center",
         "type": "scatter",
         "x": [
          0.8675595510805824
         ],
         "y": [
          0.37657134631076716
         ]
        },
        {
         "hoverinfo": "none",
         "marker": {
          "color": "rgba(255, 255, 255, 0.0)",
          "line": {
           "color": "rgba(255, 255, 255, 0.0)",
           "width": 1
          },
          "size": 20,
          "symbol": "circle"
         },
         "mode": "markers+text",
         "text": [
          "('Sacramento Kings',)"
         ],
         "textfont": {
          "color": "rgb(0, 0, 0)"
         },
         "textposition": "middle center",
         "type": "scatter",
         "x": [
          0.9154066230558345
         ],
         "y": [
          0.35998936633052314
         ]
        },
        {
         "hoverinfo": "none",
         "marker": {
          "color": "rgba(255, 255, 255, 0.0)",
          "line": {
           "color": "rgba(255, 255, 255, 0.0)",
           "width": 1
          },
          "size": 20,
          "symbol": "circle"
         },
         "mode": "markers+text",
         "text": [
          "('San Antonio Spurs',)"
         ],
         "textfont": {
          "color": "rgb(0, 0, 0)"
         },
         "textposition": "middle center",
         "type": "scatter",
         "x": [
          0.676419494408939
         ],
         "y": [
          0.5087024352919418
         ]
        },
        {
         "hoverinfo": "none",
         "marker": {
          "color": "rgba(255, 255, 255, 0.0)",
          "line": {
           "color": "rgba(255, 255, 255, 0.0)",
           "width": 1
          },
          "size": 20,
          "symbol": "circle"
         },
         "mode": "markers+text",
         "text": [
          "('Toronto Raptors',)"
         ],
         "textfont": {
          "color": "rgb(0, 0, 0)"
         },
         "textposition": "middle center",
         "type": "scatter",
         "x": [
          0.5332006349196151
         ],
         "y": [
          0.7547792558606273
         ]
        },
        {
         "hoverinfo": "none",
         "marker": {
          "color": "rgba(255, 255, 255, 0.0)",
          "line": {
           "color": "rgba(255, 255, 255, 0.0)",
           "width": 1
          },
          "size": 20,
          "symbol": "circle"
         },
         "mode": "markers+text",
         "text": [
          "('Utah Jazz',)"
         ],
         "textfont": {
          "color": "rgb(0, 0, 0)"
         },
         "textposition": "middle center",
         "type": "scatter",
         "x": [
          0.06475610002878784
         ],
         "y": [
          0.12034230758596098
         ]
        },
        {
         "hoverinfo": "none",
         "marker": {
          "color": "rgba(255, 255, 255, 0.0)",
          "line": {
           "color": "rgba(255, 255, 255, 0.0)",
           "width": 1
          },
          "size": 20,
          "symbol": "circle"
         },
         "mode": "markers+text",
         "text": [
          "('Washington Wizards',)"
         ],
         "textfont": {
          "color": "rgb(0, 0, 0)"
         },
         "textposition": "middle center",
         "type": "scatter",
         "x": [
          0.575551936239528
         ],
         "y": [
          0.015481259445679019
         ]
        },
        {
         "hoverinfo": "none",
         "mode": "text",
         "text": [
          null,
          null,
          null,
          null
         ],
         "textfont": {
          "color": "rgb(0, 0, 0)"
         },
         "textposition": "middle center",
         "type": "scatter",
         "x": [
          0.4865250548693415,
          0.7049348028802207,
          0.26840006987955045,
          0.2844811269540348
         ],
         "y": [
          0.3241299597239443,
          0.710032631160856,
          0.7894296439202392,
          0.3829938624958805
         ]
        },
        {
         "hoverinfo": "none",
         "marker": {
          "color": "rgba(255, 255, 255, 0.0)",
          "line": {
           "color": "rgba(255, 255, 255, 0.0)",
           "width": 0
          },
          "size": 0,
          "symbol": "circle"
         },
         "mode": "markers",
         "type": "scatter",
         "x": [
          0.5,
          0,
          1,
          0.5
         ],
         "y": [
          0,
          0.5,
          0.5,
          1
         ]
        }
       ],
       "frames": [
        {
         "data": [
          {
           "hoverinfo": "none",
           "line": {
            "color": "rgba(255, 255, 255, 0.0)",
            "dash": "solid",
            "width": 1
           },
           "mode": "lines",
           "type": "scatter",
           "x": [
            0.9000353191022225,
            0.06475610002878784,
            null,
            0.07851773679967733,
            0.09288503553456648,
            null,
            0.07851773679967733,
            0.09044442557943497,
            null
           ],
           "y": [
            0.578196347780768,
            0.12034230758596098,
            null,
            0.12788567853470145,
            0.12766294483833995,
            null,
            0.12788567853470145,
            0.14252132726774655,
            null
           ]
          },
          {
           "hoverinfo": "none",
           "line": {
            "color": "rgba(255, 255, 255, 0.0)",
            "dash": "solid",
            "width": 1
           },
           "mode": "lines",
           "type": "scatter",
           "x": [
            0.5107295056086786,
            0.9142358226699291,
            null,
            0.902010278523927,
            0.8881002245827,
            null,
            0.902010278523927,
            0.8925613156209706,
            null
           ],
           "y": [
            0.4601580107920312,
            0.9152406965395632,
            null,
            0.9014524775465924,
            0.8948800236033175,
            null,
            0.9014524775465924,
            0.8816801540417879,
            null
           ]
          },
          {
           "hoverinfo": "none",
           "line": {
            "color": "rgba(255, 255, 255, 0.0)",
            "dash": "solid",
            "width": 1
           },
           "mode": "lines",
           "type": "scatter",
           "x": [
            0.00310060136949708,
            0.5332006349196151,
            null,
            0.5188349844615217,
            0.5051846724171586,
            null,
            0.5188349844615217,
            0.5050372363606034,
            null
           ],
           "y": [
            0.771594505896738,
            0.7547792558606273,
            null,
            0.7552349472190422,
            0.7634255525589204,
            null,
            0.7552349472190422,
            0.7479150190441097,
            null
           ]
          },
          {
           "hoverinfo": "none",
           "line": {
            "color": "rgba(255, 255, 255, 0.0)",
            "dash": "solid",
            "width": 1
           },
           "mode": "lines",
           "type": "scatter",
           "x": [
            0.06475610002878784,
            0.518601108574592,
            null,
            0.5061660589533719,
            0.49215940231291344,
            null,
            0.5061660589533719,
            0.49641340229935216,
            null
           ],
           "y": [
            0.12034230758596098,
            0.6002134250889016,
            null,
            0.5870652774931853,
            0.5812174082098515,
            null,
            0.5870652774931853,
            0.5677913364513252,
            null
           ]
          },
          {
           "hoverinfo": "none",
           "marker": {
            "color": "rgba(255, 255, 255, 0.0)",
            "line": {
             "color": "rgba(255, 255, 255, 0.0)",
             "width": 1
            },
            "size": 20,
            "symbol": "circle"
           },
           "mode": "markers+text",
           "text": [
            "('Atlanta Hawks',)"
           ],
           "textfont": {
            "color": "rgb(0, 0, 0)"
           },
           "textposition": "middle center",
           "type": "scatter",
           "x": [
            0.9528918051655421
           ],
           "y": [
            0.06925916751235628
           ]
          },
          {
           "hoverinfo": "none",
           "marker": {
            "color": "rgba(255, 255, 255, 0.0)",
            "line": {
             "color": "rgba(255, 255, 255, 0.0)",
             "width": 1
            },
            "size": 20,
            "symbol": "circle"
           },
           "mode": "markers+text",
           "text": [
            "('Boston Celtics',)"
           ],
           "textfont": {
            "color": "rgb(0, 0, 0)"
           },
           "textposition": "middle center",
           "type": "scatter",
           "x": [
            0.9000353191022225
           ],
           "y": [
            0.578196347780768
           ]
          },
          {
           "hoverinfo": "none",
           "marker": {
            "color": "rgba(255, 255, 255, 0.0)",
            "line": {
             "color": "rgba(255, 255, 255, 0.0)",
             "width": 1
            },
            "size": 20,
            "symbol": "circle"
           },
           "mode": "markers+text",
           "text": [
            "('Brooklyn Nets',)"
           ],
           "textfont": {
            "color": "rgb(0, 0, 0)"
           },
           "textposition": "middle center",
           "type": "scatter",
           "x": [
            0.1928078315656524
           ],
           "y": [
            0.38049595508786327
           ]
          },
          {
           "hoverinfo": "none",
           "marker": {
            "color": "rgba(255, 255, 255, 0.0)",
            "line": {
             "color": "rgba(255, 255, 255, 0.0)",
             "width": 1
            },
            "size": 20,
            "symbol": "circle"
           },
           "mode": "markers+text",
           "text": [
            "('Charlotte Hornets',)"
           ],
           "textfont": {
            "color": "rgb(0, 0, 0)"
           },
           "textposition": "middle center",
           "type": "scatter",
           "x": [
            0.1307901879954193
           ],
           "y": [
            0.28369796536360437
           ]
          },
          {
           "hoverinfo": "none",
           "marker": {
            "color": "rgba(255, 255, 255, 0.0)",
            "line": {
             "color": "rgba(255, 255, 255, 0.0)",
             "width": 1
            },
            "size": 20,
            "symbol": "circle"
           },
           "mode": "markers+text",
           "text": [
            "('Chicago Bulls',)"
           ],
           "textfont": {
            "color": "rgb(0, 0, 0)"
           },
           "textposition": "middle center",
           "type": "scatter",
           "x": [
            0.19029450047865482
           ],
           "y": [
            0.9332830312504907
           ]
          },
          {
           "hoverinfo": "none",
           "marker": {
            "color": "rgba(255, 255, 255, 0.0)",
            "line": {
             "color": "rgba(255, 255, 255, 0.0)",
             "width": 1
            },
            "size": 20,
            "symbol": "circle"
           },
           "mode": "markers+text",
           "text": [
            "('Cleveland Cavaliers',)"
           ],
           "textfont": {
            "color": "rgb(0, 0, 0)"
           },
           "textposition": "middle center",
           "type": "scatter",
           "x": [
            0.816919398835723
           ],
           "y": [
            0.48881133528061493
           ]
          },
          {
           "hoverinfo": "none",
           "marker": {
            "color": "rgba(255, 255, 255, 0.0)",
            "line": {
             "color": "rgba(255, 255, 255, 0.0)",
             "width": 1
            },
            "size": 20,
            "symbol": "circle"
           },
           "mode": "markers+text",
           "text": [
            "('Dallas Mavericks',)"
           ],
           "textfont": {
            "color": "rgb(0, 0, 0)"
           },
           "textposition": "middle center",
           "type": "scatter",
           "x": [
            0.8837074202123242
           ],
           "y": [
            0.5099693334584041
           ]
          },
          {
           "hoverinfo": "none",
           "marker": {
            "color": "rgba(255, 255, 255, 0.0)",
            "line": {
             "color": "rgba(255, 255, 255, 0.0)",
             "width": 1
            },
            "size": 20,
            "symbol": "circle"
           },
           "mode": "markers+text",
           "text": [
            "('Denver Nuggets',)"
           ],
           "textfont": {
            "color": "rgb(0, 0, 0)"
           },
           "textposition": "middle center",
           "type": "scatter",
           "x": [
            0.8399548418497538
           ],
           "y": [
            0.4845105005350425
           ]
          },
          {
           "hoverinfo": "none",
           "marker": {
            "color": "rgba(255, 255, 255, 0.0)",
            "line": {
             "color": "rgba(255, 255, 255, 0.0)",
             "width": 1
            },
            "size": 20,
            "symbol": "circle"
           },
           "mode": "markers+text",
           "text": [
            "('Detroit Pistons',)"
           ],
           "textfont": {
            "color": "rgb(0, 0, 0)"
           },
           "textposition": "middle center",
           "type": "scatter",
           "x": [
            0.08814813941536637
           ],
           "y": [
            0.6542791901695156
           ]
          },
          {
           "hoverinfo": "none",
           "marker": {
            "color": "rgba(255, 255, 255, 0.0)",
            "line": {
             "color": "rgba(255, 255, 255, 0.0)",
             "width": 1
            },
            "size": 20,
            "symbol": "circle"
           },
           "mode": "markers+text",
           "text": [
            "('Golden State Warriors',)"
           ],
           "textfont": {
            "color": "rgb(0, 0, 0)"
           },
           "textposition": "middle center",
           "type": "scatter",
           "x": [
            0.6911809004771826
           ],
           "y": [
            0.27513458637796173
           ]
          },
          {
           "hoverinfo": "none",
           "marker": {
            "color": "rgba(255, 255, 255, 0.0)",
            "line": {
             "color": "rgba(255, 255, 255, 0.0)",
             "width": 1
            },
            "size": 20,
            "symbol": "circle"
           },
           "mode": "markers+text",
           "text": [
            "('Houston Rockets',)"
           ],
           "textfont": {
            "color": "rgb(0, 0, 0)"
           },
           "textposition": "middle center",
           "type": "scatter",
           "x": [
            0.9142358226699291
           ],
           "y": [
            0.9152406965395632
           ]
          },
          {
           "hoverinfo": "none",
           "marker": {
            "color": "rgba(255, 255, 255, 0.0)",
            "line": {
             "color": "rgba(255, 255, 255, 0.0)",
             "width": 1
            },
            "size": 20,
            "symbol": "circle"
           },
           "mode": "markers+text",
           "text": [
            "('Indiana Pacers',)"
           ],
           "textfont": {
            "color": "rgb(0, 0, 0)"
           },
           "textposition": "middle center",
           "type": "scatter",
           "x": [
            0.9789546099706437
           ],
           "y": [
            0.5449092095603997
           ]
          },
          {
           "hoverinfo": "none",
           "marker": {
            "color": "rgba(255, 255, 255, 0.0)",
            "line": {
             "color": "rgba(255, 255, 255, 0.0)",
             "width": 1
            },
            "size": 20,
            "symbol": "circle"
           },
           "mode": "markers+text",
           "text": [
            "('LA Clippers',)"
           ],
           "textfont": {
            "color": "rgb(0, 0, 0)"
           },
           "textposition": "middle center",
           "type": "scatter",
           "x": [
            0.5107295056086786
           ],
           "y": [
            0.4601580107920312
           ]
          },
          {
           "hoverinfo": "none",
           "marker": {
            "color": "rgba(255, 255, 255, 0.0)",
            "line": {
             "color": "rgba(255, 255, 255, 0.0)",
             "width": 1
            },
            "size": 20,
            "symbol": "circle"
           },
           "mode": "markers+text",
           "text": [
            "('Los Angeles Lakers',)"
           ],
           "textfont": {
            "color": "rgb(0, 0, 0)"
           },
           "textposition": "middle center",
           "type": "scatter",
           "x": [
            0.42059809883729016
           ],
           "y": [
            0.329051736347859
           ]
          },
          {
           "hoverinfo": "none",
           "marker": {
            "color": "rgba(255, 255, 255, 0.0)",
            "line": {
             "color": "rgba(255, 255, 255, 0.0)",
             "width": 1
            },
            "size": 20,
            "symbol": "circle"
           },
           "mode": "markers+text",
           "text": [
            "('Memphis Grizzlies',)"
           ],
           "textfont": {
            "color": "rgb(0, 0, 0)"
           },
           "textposition": "middle center",
           "type": "scatter",
           "x": [
            0.41840435594174674
           ],
           "y": [
            0.2903369941100492
           ]
          },
          {
           "hoverinfo": "none",
           "marker": {
            "color": "rgba(255, 255, 255, 0.0)",
            "line": {
             "color": "rgba(255, 255, 255, 0.0)",
             "width": 1
            },
            "size": 20,
            "symbol": "circle"
           },
           "mode": "markers+text",
           "text": [
            "('Miami Heat',)"
           ],
           "textfont": {
            "color": "rgb(0, 0, 0)"
           },
           "textposition": "middle center",
           "type": "scatter",
           "x": [
            0.4346755564551269
           ],
           "y": [
            0.005414023680544
           ]
          },
          {
           "hoverinfo": "none",
           "marker": {
            "color": "rgba(255, 255, 255, 0.0)",
            "line": {
             "color": "rgba(255, 255, 255, 0.0)",
             "width": 1
            },
            "size": 20,
            "symbol": "circle"
           },
           "mode": "markers+text",
           "text": [
            "('Milwaukee Bucks',)"
           ],
           "textfont": {
            "color": "rgb(0, 0, 0)"
           },
           "textposition": "middle center",
           "type": "scatter",
           "x": [
            0.28636996370159185
           ],
           "y": [
            0.29522182412135256
           ]
          },
          {
           "hoverinfo": "none",
           "marker": {
            "color": "rgba(255, 255, 255, 0.0)",
            "line": {
             "color": "rgba(255, 255, 255, 0.0)",
             "width": 1
            },
            "size": 20,
            "symbol": "circle"
           },
           "mode": "markers+text",
           "text": [
            "('Minnesota Timberwolves',)"
           ],
           "textfont": {
            "color": "rgb(0, 0, 0)"
           },
           "textposition": "middle center",
           "type": "scatter",
           "x": [
            0.00310060136949708
           ],
           "y": [
            0.771594505896738
           ]
          },
          {
           "hoverinfo": "none",
           "marker": {
            "color": "rgba(255, 255, 255, 0.0)",
            "line": {
             "color": "rgba(255, 255, 255, 0.0)",
             "width": 1
            },
            "size": 20,
            "symbol": "circle"
           },
           "mode": "markers+text",
           "text": [
            "('New Orleans Pelicans',)"
           ],
           "textfont": {
            "color": "rgb(0, 0, 0)"
           },
           "textposition": "middle center",
           "type": "scatter",
           "x": [
            0.9454264441626102
           ],
           "y": [
            0.29188003344611047
           ]
          },
          {
           "hoverinfo": "none",
           "marker": {
            "color": "rgba(255, 255, 255, 0.0)",
            "line": {
             "color": "rgba(255, 255, 255, 0.0)",
             "width": 1
            },
            "size": 20,
            "symbol": "circle"
           },
           "mode": "markers+text",
           "text": [
            "('New York Knicks',)"
           ],
           "textfont": {
            "color": "rgb(0, 0, 0)"
           },
           "textposition": "middle center",
           "type": "scatter",
           "x": [
            0.4961091002153274
           ],
           "y": [
            0.5803632634141122
           ]
          },
          {
           "hoverinfo": "none",
           "marker": {
            "color": "rgba(255, 255, 255, 0.0)",
            "line": {
             "color": "rgba(255, 255, 255, 0.0)",
             "width": 1
            },
            "size": 20,
            "symbol": "circle"
           },
           "mode": "markers+text",
           "text": [
            "('Oklahoma City Thunder',)"
           ],
           "textfont": {
            "color": "rgb(0, 0, 0)"
           },
           "textposition": "middle center",
           "type": "scatter",
           "x": [
            0.526671320080307
           ],
           "y": [
            0.739468101082775
           ]
          },
          {
           "hoverinfo": "none",
           "marker": {
            "color": "rgba(255, 255, 255, 0.0)",
            "line": {
             "color": "rgba(255, 255, 255, 0.0)",
             "width": 1
            },
            "size": 20,
            "symbol": "circle"
           },
           "mode": "markers+text",
           "text": [
            "('Orlando Magic',)"
           ],
           "textfont": {
            "color": "rgb(0, 0, 0)"
           },
           "textposition": "middle center",
           "type": "scatter",
           "x": [
            0.9094307078236904
           ],
           "y": [
            0.9700673598710964
           ]
          },
          {
           "hoverinfo": "none",
           "marker": {
            "color": "rgba(255, 255, 255, 0.0)",
            "line": {
             "color": "rgba(255, 255, 255, 0.0)",
             "width": 1
            },
            "size": 20,
            "symbol": "circle"
           },
           "mode": "markers+text",
           "text": [
            "('Philadelphia 76ers',)"
           ],
           "textfont": {
            "color": "rgb(0, 0, 0)"
           },
           "textposition": "middle center",
           "type": "scatter",
           "x": [
            0.38361118843496544
           ],
           "y": [
            0.8161578740602545
           ]
          },
          {
           "hoverinfo": "none",
           "marker": {
            "color": "rgba(255, 255, 255, 0.0)",
            "line": {
             "color": "rgba(255, 255, 255, 0.0)",
             "width": 1
            },
            "size": 20,
            "symbol": "circle"
           },
           "mode": "markers+text",
           "text": [
            "('Phoenix Suns',)"
           ],
           "textfont": {
            "color": "rgb(0, 0, 0)"
           },
           "textposition": "middle center",
           "type": "scatter",
           "x": [
            0.518601108574592
           ],
           "y": [
            0.6002134250889016
           ]
          },
          {
           "hoverinfo": "none",
           "marker": {
            "color": "rgba(255, 255, 255, 0.0)",
            "line": {
             "color": "rgba(255, 255, 255, 0.0)",
             "width": 1
            },
            "size": 20,
            "symbol": "circle"
           },
           "mode": "markers+text",
           "text": [
            "('Portland Trail Blazers',)"
           ],
           "textfont": {
            "color": "rgb(0, 0, 0)"
           },
           "textposition": "middle center",
           "type": "scatter",
           "x": [
            0.8675595510805824
           ],
           "y": [
            0.37657134631076716
           ]
          },
          {
           "hoverinfo": "none",
           "marker": {
            "color": "rgba(255, 255, 255, 0.0)",
            "line": {
             "color": "rgba(255, 255, 255, 0.0)",
             "width": 1
            },
            "size": 20,
            "symbol": "circle"
           },
           "mode": "markers+text",
           "text": [
            "('Sacramento Kings',)"
           ],
           "textfont": {
            "color": "rgb(0, 0, 0)"
           },
           "textposition": "middle center",
           "type": "scatter",
           "x": [
            0.9154066230558345
           ],
           "y": [
            0.35998936633052314
           ]
          },
          {
           "hoverinfo": "none",
           "marker": {
            "color": "rgba(255, 255, 255, 0.0)",
            "line": {
             "color": "rgba(255, 255, 255, 0.0)",
             "width": 1
            },
            "size": 20,
            "symbol": "circle"
           },
           "mode": "markers+text",
           "text": [
            "('San Antonio Spurs',)"
           ],
           "textfont": {
            "color": "rgb(0, 0, 0)"
           },
           "textposition": "middle center",
           "type": "scatter",
           "x": [
            0.676419494408939
           ],
           "y": [
            0.5087024352919418
           ]
          },
          {
           "hoverinfo": "none",
           "marker": {
            "color": "rgba(255, 255, 255, 0.0)",
            "line": {
             "color": "rgba(255, 255, 255, 0.0)",
             "width": 1
            },
            "size": 20,
            "symbol": "circle"
           },
           "mode": "markers+text",
           "text": [
            "('Toronto Raptors',)"
           ],
           "textfont": {
            "color": "rgb(0, 0, 0)"
           },
           "textposition": "middle center",
           "type": "scatter",
           "x": [
            0.5332006349196151
           ],
           "y": [
            0.7547792558606273
           ]
          },
          {
           "hoverinfo": "none",
           "marker": {
            "color": "rgba(255, 255, 255, 0.0)",
            "line": {
             "color": "rgba(255, 255, 255, 0.0)",
             "width": 1
            },
            "size": 20,
            "symbol": "circle"
           },
           "mode": "markers+text",
           "text": [
            "('Utah Jazz',)"
           ],
           "textfont": {
            "color": "rgb(0, 0, 0)"
           },
           "textposition": "middle center",
           "type": "scatter",
           "x": [
            0.06475610002878784
           ],
           "y": [
            0.12034230758596098
           ]
          },
          {
           "hoverinfo": "none",
           "marker": {
            "color": "rgba(255, 255, 255, 0.0)",
            "line": {
             "color": "rgba(255, 255, 255, 0.0)",
             "width": 1
            },
            "size": 20,
            "symbol": "circle"
           },
           "mode": "markers+text",
           "text": [
            "('Washington Wizards',)"
           ],
           "textfont": {
            "color": "rgb(0, 0, 0)"
           },
           "textposition": "middle center",
           "type": "scatter",
           "x": [
            0.575551936239528
           ],
           "y": [
            0.015481259445679019
           ]
          },
          {
           "hoverinfo": "none",
           "mode": "text",
           "text": [
            null,
            null,
            null,
            null
           ],
           "textfont": {
            "color": "rgb(0, 0, 0)"
           },
           "textposition": "middle center",
           "type": "scatter",
           "x": [
            0.4865250548693415,
            0.7049348028802207,
            0.26840006987955045,
            0.2844811269540348
           ],
           "y": [
            0.3241299597239443,
            0.710032631160856,
            0.7894296439202392,
            0.3829938624958805
           ]
          },
          {
           "hoverinfo": "none",
           "marker": {
            "color": "rgba(255, 255, 255, 0.0)",
            "line": {
             "color": "rgba(255, 255, 255, 0.0)",
             "width": 0
            },
            "size": 0,
            "symbol": "circle"
           },
           "mode": "markers",
           "type": "scatter",
           "x": [
            0.5,
            0,
            1,
            0.5
           ],
           "y": [
            0,
            0.5,
            0.5,
            1
           ]
          }
         ],
         "name": "0"
        },
        {
         "data": [
          {
           "hoverinfo": "none",
           "line": {
            "color": "rgb(0, 0, 0)",
            "dash": "solid",
            "width": 1
           },
           "mode": "lines",
           "type": "scatter",
           "x": [
            0.9000353191022225,
            0.06475610002878784,
            null,
            0.07851773679967733,
            0.09288503553456648,
            null,
            0.07851773679967733,
            0.09044442557943497,
            null
           ],
           "y": [
            0.578196347780768,
            0.12034230758596098,
            null,
            0.12788567853470145,
            0.12766294483833995,
            null,
            0.12788567853470145,
            0.14252132726774655,
            null
           ]
          },
          {
           "hoverinfo": "none",
           "line": {
            "color": "rgb(0, 0, 0)",
            "dash": "solid",
            "width": 1
           },
           "mode": "lines",
           "type": "scatter",
           "x": [
            0.5107295056086786,
            0.9142358226699291,
            null,
            0.902010278523927,
            0.8881002245827,
            null,
            0.902010278523927,
            0.8925613156209706,
            null
           ],
           "y": [
            0.4601580107920312,
            0.9152406965395632,
            null,
            0.9014524775465924,
            0.8948800236033175,
            null,
            0.9014524775465924,
            0.8816801540417879,
            null
           ]
          },
          {
           "hoverinfo": "none",
           "line": {
            "color": "rgb(0, 0, 0)",
            "dash": "solid",
            "width": 1
           },
           "mode": "lines",
           "type": "scatter",
           "x": [
            0.00310060136949708,
            0.5332006349196151,
            null,
            0.5188349844615217,
            0.5051846724171586,
            null,
            0.5188349844615217,
            0.5050372363606034,
            null
           ],
           "y": [
            0.771594505896738,
            0.7547792558606273,
            null,
            0.7552349472190422,
            0.7634255525589204,
            null,
            0.7552349472190422,
            0.7479150190441097,
            null
           ]
          },
          {
           "hoverinfo": "none",
           "line": {
            "color": "rgb(0, 0, 0)",
            "dash": "solid",
            "width": 1
           },
           "mode": "lines",
           "type": "scatter",
           "x": [
            0.06475610002878784,
            0.518601108574592,
            null,
            0.5061660589533719,
            0.49215940231291344,
            null,
            0.5061660589533719,
            0.49641340229935216,
            null
           ],
           "y": [
            0.12034230758596098,
            0.6002134250889016,
            null,
            0.5870652774931853,
            0.5812174082098515,
            null,
            0.5870652774931853,
            0.5677913364513252,
            null
           ]
          },
          {
           "hoverinfo": "none",
           "marker": {
            "color": "rgb(255, 0, 0)",
            "line": {
             "color": "rgb(0, 0, 0)",
             "width": 1
            },
            "size": 20,
            "symbol": "circle"
           },
           "mode": "markers+text",
           "text": [
            "('Atlanta Hawks',)"
           ],
           "textfont": {
            "color": "rgb(0, 0, 0)"
           },
           "textposition": "middle center",
           "type": "scatter",
           "x": [
            0.9528918051655421
           ],
           "y": [
            0.06925916751235628
           ]
          },
          {
           "hoverinfo": "none",
           "marker": {
            "color": "rgb(255, 0, 0)",
            "line": {
             "color": "rgb(0, 0, 0)",
             "width": 1
            },
            "size": 20,
            "symbol": "circle"
           },
           "mode": "markers+text",
           "text": [
            "('Boston Celtics',)"
           ],
           "textfont": {
            "color": "rgb(0, 0, 0)"
           },
           "textposition": "middle center",
           "type": "scatter",
           "x": [
            0.9000353191022225
           ],
           "y": [
            0.578196347780768
           ]
          },
          {
           "hoverinfo": "none",
           "marker": {
            "color": "rgb(255, 0, 0)",
            "line": {
             "color": "rgb(0, 0, 0)",
             "width": 1
            },
            "size": 20,
            "symbol": "circle"
           },
           "mode": "markers+text",
           "text": [
            "('Brooklyn Nets',)"
           ],
           "textfont": {
            "color": "rgb(0, 0, 0)"
           },
           "textposition": "middle center",
           "type": "scatter",
           "x": [
            0.1928078315656524
           ],
           "y": [
            0.38049595508786327
           ]
          },
          {
           "hoverinfo": "none",
           "marker": {
            "color": "rgb(255, 0, 0)",
            "line": {
             "color": "rgb(0, 0, 0)",
             "width": 1
            },
            "size": 20,
            "symbol": "circle"
           },
           "mode": "markers+text",
           "text": [
            "('Charlotte Hornets',)"
           ],
           "textfont": {
            "color": "rgb(0, 0, 0)"
           },
           "textposition": "middle center",
           "type": "scatter",
           "x": [
            0.1307901879954193
           ],
           "y": [
            0.28369796536360437
           ]
          },
          {
           "hoverinfo": "none",
           "marker": {
            "color": "rgb(255, 0, 0)",
            "line": {
             "color": "rgb(0, 0, 0)",
             "width": 1
            },
            "size": 20,
            "symbol": "circle"
           },
           "mode": "markers+text",
           "text": [
            "('Chicago Bulls',)"
           ],
           "textfont": {
            "color": "rgb(0, 0, 0)"
           },
           "textposition": "middle center",
           "type": "scatter",
           "x": [
            0.19029450047865482
           ],
           "y": [
            0.9332830312504907
           ]
          },
          {
           "hoverinfo": "none",
           "marker": {
            "color": "rgb(255, 0, 0)",
            "line": {
             "color": "rgb(0, 0, 0)",
             "width": 1
            },
            "size": 20,
            "symbol": "circle"
           },
           "mode": "markers+text",
           "text": [
            "('Cleveland Cavaliers',)"
           ],
           "textfont": {
            "color": "rgb(0, 0, 0)"
           },
           "textposition": "middle center",
           "type": "scatter",
           "x": [
            0.816919398835723
           ],
           "y": [
            0.48881133528061493
           ]
          },
          {
           "hoverinfo": "none",
           "marker": {
            "color": "rgb(255, 0, 0)",
            "line": {
             "color": "rgb(0, 0, 0)",
             "width": 1
            },
            "size": 20,
            "symbol": "circle"
           },
           "mode": "markers+text",
           "text": [
            "('Dallas Mavericks',)"
           ],
           "textfont": {
            "color": "rgb(0, 0, 0)"
           },
           "textposition": "middle center",
           "type": "scatter",
           "x": [
            0.8837074202123242
           ],
           "y": [
            0.5099693334584041
           ]
          },
          {
           "hoverinfo": "none",
           "marker": {
            "color": "rgb(255, 0, 0)",
            "line": {
             "color": "rgb(0, 0, 0)",
             "width": 1
            },
            "size": 20,
            "symbol": "circle"
           },
           "mode": "markers+text",
           "text": [
            "('Denver Nuggets',)"
           ],
           "textfont": {
            "color": "rgb(0, 0, 0)"
           },
           "textposition": "middle center",
           "type": "scatter",
           "x": [
            0.8399548418497538
           ],
           "y": [
            0.4845105005350425
           ]
          },
          {
           "hoverinfo": "none",
           "marker": {
            "color": "rgb(255, 0, 0)",
            "line": {
             "color": "rgb(0, 0, 0)",
             "width": 1
            },
            "size": 20,
            "symbol": "circle"
           },
           "mode": "markers+text",
           "text": [
            "('Detroit Pistons',)"
           ],
           "textfont": {
            "color": "rgb(0, 0, 0)"
           },
           "textposition": "middle center",
           "type": "scatter",
           "x": [
            0.08814813941536637
           ],
           "y": [
            0.6542791901695156
           ]
          },
          {
           "hoverinfo": "none",
           "marker": {
            "color": "rgb(255, 0, 0)",
            "line": {
             "color": "rgb(0, 0, 0)",
             "width": 1
            },
            "size": 20,
            "symbol": "circle"
           },
           "mode": "markers+text",
           "text": [
            "('Golden State Warriors',)"
           ],
           "textfont": {
            "color": "rgb(0, 0, 0)"
           },
           "textposition": "middle center",
           "type": "scatter",
           "x": [
            0.6911809004771826
           ],
           "y": [
            0.27513458637796173
           ]
          },
          {
           "hoverinfo": "none",
           "marker": {
            "color": "rgb(255, 0, 0)",
            "line": {
             "color": "rgb(0, 0, 0)",
             "width": 1
            },
            "size": 20,
            "symbol": "circle"
           },
           "mode": "markers+text",
           "text": [
            "('Houston Rockets',)"
           ],
           "textfont": {
            "color": "rgb(0, 0, 0)"
           },
           "textposition": "middle center",
           "type": "scatter",
           "x": [
            0.9142358226699291
           ],
           "y": [
            0.9152406965395632
           ]
          },
          {
           "hoverinfo": "none",
           "marker": {
            "color": "rgb(255, 0, 0)",
            "line": {
             "color": "rgb(0, 0, 0)",
             "width": 1
            },
            "size": 20,
            "symbol": "circle"
           },
           "mode": "markers+text",
           "text": [
            "('Indiana Pacers',)"
           ],
           "textfont": {
            "color": "rgb(0, 0, 0)"
           },
           "textposition": "middle center",
           "type": "scatter",
           "x": [
            0.9789546099706437
           ],
           "y": [
            0.5449092095603997
           ]
          },
          {
           "hoverinfo": "none",
           "marker": {
            "color": "rgb(255, 0, 0)",
            "line": {
             "color": "rgb(0, 0, 0)",
             "width": 1
            },
            "size": 20,
            "symbol": "circle"
           },
           "mode": "markers+text",
           "text": [
            "('LA Clippers',)"
           ],
           "textfont": {
            "color": "rgb(0, 0, 0)"
           },
           "textposition": "middle center",
           "type": "scatter",
           "x": [
            0.5107295056086786
           ],
           "y": [
            0.4601580107920312
           ]
          },
          {
           "hoverinfo": "none",
           "marker": {
            "color": "rgb(255, 0, 0)",
            "line": {
             "color": "rgb(0, 0, 0)",
             "width": 1
            },
            "size": 20,
            "symbol": "circle"
           },
           "mode": "markers+text",
           "text": [
            "('Los Angeles Lakers',)"
           ],
           "textfont": {
            "color": "rgb(0, 0, 0)"
           },
           "textposition": "middle center",
           "type": "scatter",
           "x": [
            0.42059809883729016
           ],
           "y": [
            0.329051736347859
           ]
          },
          {
           "hoverinfo": "none",
           "marker": {
            "color": "rgb(255, 0, 0)",
            "line": {
             "color": "rgb(0, 0, 0)",
             "width": 1
            },
            "size": 20,
            "symbol": "circle"
           },
           "mode": "markers+text",
           "text": [
            "('Memphis Grizzlies',)"
           ],
           "textfont": {
            "color": "rgb(0, 0, 0)"
           },
           "textposition": "middle center",
           "type": "scatter",
           "x": [
            0.41840435594174674
           ],
           "y": [
            0.2903369941100492
           ]
          },
          {
           "hoverinfo": "none",
           "marker": {
            "color": "rgb(255, 0, 0)",
            "line": {
             "color": "rgb(0, 0, 0)",
             "width": 1
            },
            "size": 20,
            "symbol": "circle"
           },
           "mode": "markers+text",
           "text": [
            "('Miami Heat',)"
           ],
           "textfont": {
            "color": "rgb(0, 0, 0)"
           },
           "textposition": "middle center",
           "type": "scatter",
           "x": [
            0.4346755564551269
           ],
           "y": [
            0.005414023680544
           ]
          },
          {
           "hoverinfo": "none",
           "marker": {
            "color": "rgb(255, 0, 0)",
            "line": {
             "color": "rgb(0, 0, 0)",
             "width": 1
            },
            "size": 20,
            "symbol": "circle"
           },
           "mode": "markers+text",
           "text": [
            "('Milwaukee Bucks',)"
           ],
           "textfont": {
            "color": "rgb(0, 0, 0)"
           },
           "textposition": "middle center",
           "type": "scatter",
           "x": [
            0.28636996370159185
           ],
           "y": [
            0.29522182412135256
           ]
          },
          {
           "hoverinfo": "none",
           "marker": {
            "color": "rgb(255, 0, 0)",
            "line": {
             "color": "rgb(0, 0, 0)",
             "width": 1
            },
            "size": 20,
            "symbol": "circle"
           },
           "mode": "markers+text",
           "text": [
            "('Minnesota Timberwolves',)"
           ],
           "textfont": {
            "color": "rgb(0, 0, 0)"
           },
           "textposition": "middle center",
           "type": "scatter",
           "x": [
            0.00310060136949708
           ],
           "y": [
            0.771594505896738
           ]
          },
          {
           "hoverinfo": "none",
           "marker": {
            "color": "rgb(255, 0, 0)",
            "line": {
             "color": "rgb(0, 0, 0)",
             "width": 1
            },
            "size": 20,
            "symbol": "circle"
           },
           "mode": "markers+text",
           "text": [
            "('New Orleans Pelicans',)"
           ],
           "textfont": {
            "color": "rgb(0, 0, 0)"
           },
           "textposition": "middle center",
           "type": "scatter",
           "x": [
            0.9454264441626102
           ],
           "y": [
            0.29188003344611047
           ]
          },
          {
           "hoverinfo": "none",
           "marker": {
            "color": "rgb(255, 0, 0)",
            "line": {
             "color": "rgb(0, 0, 0)",
             "width": 1
            },
            "size": 20,
            "symbol": "circle"
           },
           "mode": "markers+text",
           "text": [
            "('New York Knicks',)"
           ],
           "textfont": {
            "color": "rgb(0, 0, 0)"
           },
           "textposition": "middle center",
           "type": "scatter",
           "x": [
            0.4961091002153274
           ],
           "y": [
            0.5803632634141122
           ]
          },
          {
           "hoverinfo": "none",
           "marker": {
            "color": "rgb(255, 0, 0)",
            "line": {
             "color": "rgb(0, 0, 0)",
             "width": 1
            },
            "size": 20,
            "symbol": "circle"
           },
           "mode": "markers+text",
           "text": [
            "('Oklahoma City Thunder',)"
           ],
           "textfont": {
            "color": "rgb(0, 0, 0)"
           },
           "textposition": "middle center",
           "type": "scatter",
           "x": [
            0.526671320080307
           ],
           "y": [
            0.739468101082775
           ]
          },
          {
           "hoverinfo": "none",
           "marker": {
            "color": "rgb(255, 0, 0)",
            "line": {
             "color": "rgb(0, 0, 0)",
             "width": 1
            },
            "size": 20,
            "symbol": "circle"
           },
           "mode": "markers+text",
           "text": [
            "('Orlando Magic',)"
           ],
           "textfont": {
            "color": "rgb(0, 0, 0)"
           },
           "textposition": "middle center",
           "type": "scatter",
           "x": [
            0.9094307078236904
           ],
           "y": [
            0.9700673598710964
           ]
          },
          {
           "hoverinfo": "none",
           "marker": {
            "color": "rgb(255, 0, 0)",
            "line": {
             "color": "rgb(0, 0, 0)",
             "width": 1
            },
            "size": 20,
            "symbol": "circle"
           },
           "mode": "markers+text",
           "text": [
            "('Philadelphia 76ers',)"
           ],
           "textfont": {
            "color": "rgb(0, 0, 0)"
           },
           "textposition": "middle center",
           "type": "scatter",
           "x": [
            0.38361118843496544
           ],
           "y": [
            0.8161578740602545
           ]
          },
          {
           "hoverinfo": "none",
           "marker": {
            "color": "rgb(255, 0, 0)",
            "line": {
             "color": "rgb(0, 0, 0)",
             "width": 1
            },
            "size": 20,
            "symbol": "circle"
           },
           "mode": "markers+text",
           "text": [
            "('Phoenix Suns',)"
           ],
           "textfont": {
            "color": "rgb(0, 0, 0)"
           },
           "textposition": "middle center",
           "type": "scatter",
           "x": [
            0.518601108574592
           ],
           "y": [
            0.6002134250889016
           ]
          },
          {
           "hoverinfo": "none",
           "marker": {
            "color": "rgb(255, 0, 0)",
            "line": {
             "color": "rgb(0, 0, 0)",
             "width": 1
            },
            "size": 20,
            "symbol": "circle"
           },
           "mode": "markers+text",
           "text": [
            "('Portland Trail Blazers',)"
           ],
           "textfont": {
            "color": "rgb(0, 0, 0)"
           },
           "textposition": "middle center",
           "type": "scatter",
           "x": [
            0.8675595510805824
           ],
           "y": [
            0.37657134631076716
           ]
          },
          {
           "hoverinfo": "none",
           "marker": {
            "color": "rgb(255, 0, 0)",
            "line": {
             "color": "rgb(0, 0, 0)",
             "width": 1
            },
            "size": 20,
            "symbol": "circle"
           },
           "mode": "markers+text",
           "text": [
            "('Sacramento Kings',)"
           ],
           "textfont": {
            "color": "rgb(0, 0, 0)"
           },
           "textposition": "middle center",
           "type": "scatter",
           "x": [
            0.9154066230558345
           ],
           "y": [
            0.35998936633052314
           ]
          },
          {
           "hoverinfo": "none",
           "marker": {
            "color": "rgb(255, 0, 0)",
            "line": {
             "color": "rgb(0, 0, 0)",
             "width": 1
            },
            "size": 20,
            "symbol": "circle"
           },
           "mode": "markers+text",
           "text": [
            "('San Antonio Spurs',)"
           ],
           "textfont": {
            "color": "rgb(0, 0, 0)"
           },
           "textposition": "middle center",
           "type": "scatter",
           "x": [
            0.676419494408939
           ],
           "y": [
            0.5087024352919418
           ]
          },
          {
           "hoverinfo": "none",
           "marker": {
            "color": "rgb(255, 0, 0)",
            "line": {
             "color": "rgb(0, 0, 0)",
             "width": 1
            },
            "size": 20,
            "symbol": "circle"
           },
           "mode": "markers+text",
           "text": [
            "('Toronto Raptors',)"
           ],
           "textfont": {
            "color": "rgb(0, 0, 0)"
           },
           "textposition": "middle center",
           "type": "scatter",
           "x": [
            0.5332006349196151
           ],
           "y": [
            0.7547792558606273
           ]
          },
          {
           "hoverinfo": "none",
           "marker": {
            "color": "rgb(255, 0, 0)",
            "line": {
             "color": "rgb(0, 0, 0)",
             "width": 1
            },
            "size": 20,
            "symbol": "circle"
           },
           "mode": "markers+text",
           "text": [
            "('Utah Jazz',)"
           ],
           "textfont": {
            "color": "rgb(0, 0, 0)"
           },
           "textposition": "middle center",
           "type": "scatter",
           "x": [
            0.06475610002878784
           ],
           "y": [
            0.12034230758596098
           ]
          },
          {
           "hoverinfo": "none",
           "marker": {
            "color": "rgb(255, 0, 0)",
            "line": {
             "color": "rgb(0, 0, 0)",
             "width": 1
            },
            "size": 20,
            "symbol": "circle"
           },
           "mode": "markers+text",
           "text": [
            "('Washington Wizards',)"
           ],
           "textfont": {
            "color": "rgb(0, 0, 0)"
           },
           "textposition": "middle center",
           "type": "scatter",
           "x": [
            0.575551936239528
           ],
           "y": [
            0.015481259445679019
           ]
          },
          {
           "hoverinfo": "none",
           "mode": "text",
           "text": [
            null,
            null,
            null,
            null
           ],
           "textfont": {
            "color": "rgb(0, 0, 0)"
           },
           "textposition": "middle center",
           "type": "scatter",
           "x": [
            0.4865250548693415,
            0.7049348028802207,
            0.26840006987955045,
            0.2844811269540348
           ],
           "y": [
            0.3241299597239443,
            0.710032631160856,
            0.7894296439202392,
            0.3829938624958805
           ]
          },
          {
           "hoverinfo": "none",
           "marker": {
            "color": "rgba(255, 255, 255, 0.0)",
            "line": {
             "color": "rgba(255, 255, 255, 0.0)",
             "width": 0
            },
            "size": 0,
            "symbol": "circle"
           },
           "mode": "markers",
           "type": "scatter",
           "x": [
            0.5,
            0,
            1,
            0.5
           ],
           "y": [
            0,
            0.5,
            0.5,
            1
           ]
          }
         ],
         "name": "1"
        }
       ],
       "layout": {
        "height": 526,
        "margin": {
         "b": 0,
         "l": 0,
         "r": 0,
         "t": 0
        },
        "showlegend": false,
        "sliders": [
         {
          "currentvalue": {
           "visible": false
          },
          "steps": [
           {
            "args": [
             [
              0
             ],
             {
              "frame": {
               "redraw": false
              },
              "mode": "immediate"
             }
            ],
            "label": "",
            "method": "animate"
           },
           {
            "args": [
             [
              1
             ],
             {
              "frame": {
               "redraw": false
              },
              "mode": "immediate"
             }
            ],
            "label": "",
            "method": "animate"
           }
          ]
         }
        ],
        "template": {
         "data": {
          "bar": [
           {
            "error_x": {
             "color": "#2a3f5f"
            },
            "error_y": {
             "color": "#2a3f5f"
            },
            "marker": {
             "line": {
              "color": "#E5ECF6",
              "width": 0.5
             }
            },
            "type": "bar"
           }
          ],
          "barpolar": [
           {
            "marker": {
             "line": {
              "color": "#E5ECF6",
              "width": 0.5
             }
            },
            "type": "barpolar"
           }
          ],
          "carpet": [
           {
            "aaxis": {
             "endlinecolor": "#2a3f5f",
             "gridcolor": "white",
             "linecolor": "white",
             "minorgridcolor": "white",
             "startlinecolor": "#2a3f5f"
            },
            "baxis": {
             "endlinecolor": "#2a3f5f",
             "gridcolor": "white",
             "linecolor": "white",
             "minorgridcolor": "white",
             "startlinecolor": "#2a3f5f"
            },
            "type": "carpet"
           }
          ],
          "choropleth": [
           {
            "colorbar": {
             "outlinewidth": 0,
             "ticks": ""
            },
            "type": "choropleth"
           }
          ],
          "contour": [
           {
            "colorbar": {
             "outlinewidth": 0,
             "ticks": ""
            },
            "colorscale": [
             [
              0,
              "#0d0887"
             ],
             [
              0.1111111111111111,
              "#46039f"
             ],
             [
              0.2222222222222222,
              "#7201a8"
             ],
             [
              0.3333333333333333,
              "#9c179e"
             ],
             [
              0.4444444444444444,
              "#bd3786"
             ],
             [
              0.5555555555555556,
              "#d8576b"
             ],
             [
              0.6666666666666666,
              "#ed7953"
             ],
             [
              0.7777777777777778,
              "#fb9f3a"
             ],
             [
              0.8888888888888888,
              "#fdca26"
             ],
             [
              1,
              "#f0f921"
             ]
            ],
            "type": "contour"
           }
          ],
          "contourcarpet": [
           {
            "colorbar": {
             "outlinewidth": 0,
             "ticks": ""
            },
            "type": "contourcarpet"
           }
          ],
          "heatmap": [
           {
            "colorbar": {
             "outlinewidth": 0,
             "ticks": ""
            },
            "colorscale": [
             [
              0,
              "#0d0887"
             ],
             [
              0.1111111111111111,
              "#46039f"
             ],
             [
              0.2222222222222222,
              "#7201a8"
             ],
             [
              0.3333333333333333,
              "#9c179e"
             ],
             [
              0.4444444444444444,
              "#bd3786"
             ],
             [
              0.5555555555555556,
              "#d8576b"
             ],
             [
              0.6666666666666666,
              "#ed7953"
             ],
             [
              0.7777777777777778,
              "#fb9f3a"
             ],
             [
              0.8888888888888888,
              "#fdca26"
             ],
             [
              1,
              "#f0f921"
             ]
            ],
            "type": "heatmap"
           }
          ],
          "heatmapgl": [
           {
            "colorbar": {
             "outlinewidth": 0,
             "ticks": ""
            },
            "colorscale": [
             [
              0,
              "#0d0887"
             ],
             [
              0.1111111111111111,
              "#46039f"
             ],
             [
              0.2222222222222222,
              "#7201a8"
             ],
             [
              0.3333333333333333,
              "#9c179e"
             ],
             [
              0.4444444444444444,
              "#bd3786"
             ],
             [
              0.5555555555555556,
              "#d8576b"
             ],
             [
              0.6666666666666666,
              "#ed7953"
             ],
             [
              0.7777777777777778,
              "#fb9f3a"
             ],
             [
              0.8888888888888888,
              "#fdca26"
             ],
             [
              1,
              "#f0f921"
             ]
            ],
            "type": "heatmapgl"
           }
          ],
          "histogram": [
           {
            "marker": {
             "colorbar": {
              "outlinewidth": 0,
              "ticks": ""
             }
            },
            "type": "histogram"
           }
          ],
          "histogram2d": [
           {
            "colorbar": {
             "outlinewidth": 0,
             "ticks": ""
            },
            "colorscale": [
             [
              0,
              "#0d0887"
             ],
             [
              0.1111111111111111,
              "#46039f"
             ],
             [
              0.2222222222222222,
              "#7201a8"
             ],
             [
              0.3333333333333333,
              "#9c179e"
             ],
             [
              0.4444444444444444,
              "#bd3786"
             ],
             [
              0.5555555555555556,
              "#d8576b"
             ],
             [
              0.6666666666666666,
              "#ed7953"
             ],
             [
              0.7777777777777778,
              "#fb9f3a"
             ],
             [
              0.8888888888888888,
              "#fdca26"
             ],
             [
              1,
              "#f0f921"
             ]
            ],
            "type": "histogram2d"
           }
          ],
          "histogram2dcontour": [
           {
            "colorbar": {
             "outlinewidth": 0,
             "ticks": ""
            },
            "colorscale": [
             [
              0,
              "#0d0887"
             ],
             [
              0.1111111111111111,
              "#46039f"
             ],
             [
              0.2222222222222222,
              "#7201a8"
             ],
             [
              0.3333333333333333,
              "#9c179e"
             ],
             [
              0.4444444444444444,
              "#bd3786"
             ],
             [
              0.5555555555555556,
              "#d8576b"
             ],
             [
              0.6666666666666666,
              "#ed7953"
             ],
             [
              0.7777777777777778,
              "#fb9f3a"
             ],
             [
              0.8888888888888888,
              "#fdca26"
             ],
             [
              1,
              "#f0f921"
             ]
            ],
            "type": "histogram2dcontour"
           }
          ],
          "mesh3d": [
           {
            "colorbar": {
             "outlinewidth": 0,
             "ticks": ""
            },
            "type": "mesh3d"
           }
          ],
          "parcoords": [
           {
            "line": {
             "colorbar": {
              "outlinewidth": 0,
              "ticks": ""
             }
            },
            "type": "parcoords"
           }
          ],
          "scatter": [
           {
            "marker": {
             "colorbar": {
              "outlinewidth": 0,
              "ticks": ""
             }
            },
            "type": "scatter"
           }
          ],
          "scatter3d": [
           {
            "line": {
             "colorbar": {
              "outlinewidth": 0,
              "ticks": ""
             }
            },
            "marker": {
             "colorbar": {
              "outlinewidth": 0,
              "ticks": ""
             }
            },
            "type": "scatter3d"
           }
          ],
          "scattercarpet": [
           {
            "marker": {
             "colorbar": {
              "outlinewidth": 0,
              "ticks": ""
             }
            },
            "type": "scattercarpet"
           }
          ],
          "scattergeo": [
           {
            "marker": {
             "colorbar": {
              "outlinewidth": 0,
              "ticks": ""
             }
            },
            "type": "scattergeo"
           }
          ],
          "scattergl": [
           {
            "marker": {
             "colorbar": {
              "outlinewidth": 0,
              "ticks": ""
             }
            },
            "type": "scattergl"
           }
          ],
          "scattermapbox": [
           {
            "marker": {
             "colorbar": {
              "outlinewidth": 0,
              "ticks": ""
             }
            },
            "type": "scattermapbox"
           }
          ],
          "scatterpolar": [
           {
            "marker": {
             "colorbar": {
              "outlinewidth": 0,
              "ticks": ""
             }
            },
            "type": "scatterpolar"
           }
          ],
          "scatterpolargl": [
           {
            "marker": {
             "colorbar": {
              "outlinewidth": 0,
              "ticks": ""
             }
            },
            "type": "scatterpolargl"
           }
          ],
          "scatterternary": [
           {
            "marker": {
             "colorbar": {
              "outlinewidth": 0,
              "ticks": ""
             }
            },
            "type": "scatterternary"
           }
          ],
          "surface": [
           {
            "colorbar": {
             "outlinewidth": 0,
             "ticks": ""
            },
            "colorscale": [
             [
              0,
              "#0d0887"
             ],
             [
              0.1111111111111111,
              "#46039f"
             ],
             [
              0.2222222222222222,
              "#7201a8"
             ],
             [
              0.3333333333333333,
              "#9c179e"
             ],
             [
              0.4444444444444444,
              "#bd3786"
             ],
             [
              0.5555555555555556,
              "#d8576b"
             ],
             [
              0.6666666666666666,
              "#ed7953"
             ],
             [
              0.7777777777777778,
              "#fb9f3a"
             ],
             [
              0.8888888888888888,
              "#fdca26"
             ],
             [
              1,
              "#f0f921"
             ]
            ],
            "type": "surface"
           }
          ],
          "table": [
           {
            "cells": {
             "fill": {
              "color": "#EBF0F8"
             },
             "line": {
              "color": "white"
             }
            },
            "header": {
             "fill": {
              "color": "#C8D4E3"
             },
             "line": {
              "color": "white"
             }
            },
            "type": "table"
           }
          ]
         },
         "layout": {
          "annotationdefaults": {
           "arrowcolor": "#2a3f5f",
           "arrowhead": 0,
           "arrowwidth": 1
          },
          "colorscale": {
           "diverging": [
            [
             0,
             "#8e0152"
            ],
            [
             0.1,
             "#c51b7d"
            ],
            [
             0.2,
             "#de77ae"
            ],
            [
             0.3,
             "#f1b6da"
            ],
            [
             0.4,
             "#fde0ef"
            ],
            [
             0.5,
             "#f7f7f7"
            ],
            [
             0.6,
             "#e6f5d0"
            ],
            [
             0.7,
             "#b8e186"
            ],
            [
             0.8,
             "#7fbc41"
            ],
            [
             0.9,
             "#4d9221"
            ],
            [
             1,
             "#276419"
            ]
           ],
           "sequential": [
            [
             0,
             "#0d0887"
            ],
            [
             0.1111111111111111,
             "#46039f"
            ],
            [
             0.2222222222222222,
             "#7201a8"
            ],
            [
             0.3333333333333333,
             "#9c179e"
            ],
            [
             0.4444444444444444,
             "#bd3786"
            ],
            [
             0.5555555555555556,
             "#d8576b"
            ],
            [
             0.6666666666666666,
             "#ed7953"
            ],
            [
             0.7777777777777778,
             "#fb9f3a"
            ],
            [
             0.8888888888888888,
             "#fdca26"
            ],
            [
             1,
             "#f0f921"
            ]
           ],
           "sequentialminus": [
            [
             0,
             "#0d0887"
            ],
            [
             0.1111111111111111,
             "#46039f"
            ],
            [
             0.2222222222222222,
             "#7201a8"
            ],
            [
             0.3333333333333333,
             "#9c179e"
            ],
            [
             0.4444444444444444,
             "#bd3786"
            ],
            [
             0.5555555555555556,
             "#d8576b"
            ],
            [
             0.6666666666666666,
             "#ed7953"
            ],
            [
             0.7777777777777778,
             "#fb9f3a"
            ],
            [
             0.8888888888888888,
             "#fdca26"
            ],
            [
             1,
             "#f0f921"
            ]
           ]
          },
          "colorway": [
           "#636efa",
           "#EF553B",
           "#00cc96",
           "#ab63fa",
           "#FFA15A",
           "#19d3f3",
           "#FF6692",
           "#B6E880",
           "#FF97FF",
           "#FECB52"
          ],
          "font": {
           "color": "#2a3f5f"
          },
          "geo": {
           "bgcolor": "white",
           "lakecolor": "white",
           "landcolor": "#E5ECF6",
           "showlakes": true,
           "showland": true,
           "subunitcolor": "white"
          },
          "hoverlabel": {
           "align": "left"
          },
          "hovermode": "closest",
          "mapbox": {
           "style": "light"
          },
          "paper_bgcolor": "white",
          "plot_bgcolor": "#E5ECF6",
          "polar": {
           "angularaxis": {
            "gridcolor": "white",
            "linecolor": "white",
            "ticks": ""
           },
           "bgcolor": "#E5ECF6",
           "radialaxis": {
            "gridcolor": "white",
            "linecolor": "white",
            "ticks": ""
           }
          },
          "scene": {
           "xaxis": {
            "backgroundcolor": "#E5ECF6",
            "gridcolor": "white",
            "gridwidth": 2,
            "linecolor": "white",
            "showbackground": true,
            "ticks": "",
            "zerolinecolor": "white"
           },
           "yaxis": {
            "backgroundcolor": "#E5ECF6",
            "gridcolor": "white",
            "gridwidth": 2,
            "linecolor": "white",
            "showbackground": true,
            "ticks": "",
            "zerolinecolor": "white"
           },
           "zaxis": {
            "backgroundcolor": "#E5ECF6",
            "gridcolor": "white",
            "gridwidth": 2,
            "linecolor": "white",
            "showbackground": true,
            "ticks": "",
            "zerolinecolor": "white"
           }
          },
          "shapedefaults": {
           "line": {
            "color": "#2a3f5f"
           }
          },
          "ternary": {
           "aaxis": {
            "gridcolor": "white",
            "linecolor": "white",
            "ticks": ""
           },
           "baxis": {
            "gridcolor": "white",
            "linecolor": "white",
            "ticks": ""
           },
           "bgcolor": "#E5ECF6",
           "caxis": {
            "gridcolor": "white",
            "linecolor": "white",
            "ticks": ""
           }
          },
          "title": {
           "x": 0.05
          },
          "xaxis": {
           "automargin": true,
           "gridcolor": "white",
           "linecolor": "white",
           "ticks": "",
           "zerolinecolor": "white",
           "zerolinewidth": 2
          },
          "yaxis": {
           "automargin": true,
           "gridcolor": "white",
           "linecolor": "white",
           "ticks": "",
           "zerolinecolor": "white",
           "zerolinewidth": 2
          }
         }
        },
        "updatemenus": [
         {
          "buttons": [
           {
            "args": [
             null,
             {
              "frame": {
               "redraw": false
              },
              "fromcurrent": true
             }
            ],
            "label": "Play",
            "method": "animate"
           },
           {
            "args": [
             [
              null
             ],
             {
              "frame": {
               "redraw": false
              },
              "mode": "immediate"
             }
            ],
            "label": "Pause",
            "method": "animate"
           }
          ],
          "showactive": true,
          "type": "buttons"
         }
        ],
        "width": 912,
        "xaxis": {
         "showgrid": false,
         "showticklabels": false,
         "zeroline": false
        },
        "yaxis": {
         "showgrid": false,
         "showticklabels": false,
         "zeroline": false
        }
       }
      },
      "text/html": [
       "<div>\n",
       "        \n",
       "        \n",
       "            <div id=\"c8e5ca07-afc8-494d-a655-8b4d0681fd56\" class=\"plotly-graph-div\" style=\"height:526.0px; width:912.0px;\"></div>\n",
       "            <script type=\"text/javascript\">\n",
       "                require([\"plotly\"], function(Plotly) {\n",
       "                    window.PLOTLYENV=window.PLOTLYENV || {};\n",
       "                    \n",
       "                if (document.getElementById(\"c8e5ca07-afc8-494d-a655-8b4d0681fd56\")) {\n",
       "                    Plotly.newPlot(\n",
       "                        'c8e5ca07-afc8-494d-a655-8b4d0681fd56',\n",
       "                        [{\"hoverinfo\": \"none\", \"line\": {\"color\": \"rgba(255, 255, 255, 0.0)\", \"dash\": \"solid\", \"width\": 1}, \"mode\": \"lines\", \"type\": \"scatter\", \"x\": [0.9000353191022225, 0.06475610002878784, null, 0.07851773679967733, 0.09288503553456648, null, 0.07851773679967733, 0.09044442557943497, null], \"y\": [0.578196347780768, 0.12034230758596098, null, 0.12788567853470145, 0.12766294483833995, null, 0.12788567853470145, 0.14252132726774655, null]}, {\"hoverinfo\": \"none\", \"line\": {\"color\": \"rgba(255, 255, 255, 0.0)\", \"dash\": \"solid\", \"width\": 1}, \"mode\": \"lines\", \"type\": \"scatter\", \"x\": [0.5107295056086786, 0.9142358226699291, null, 0.902010278523927, 0.8881002245827, null, 0.902010278523927, 0.8925613156209706, null], \"y\": [0.4601580107920312, 0.9152406965395632, null, 0.9014524775465924, 0.8948800236033175, null, 0.9014524775465924, 0.8816801540417879, null]}, {\"hoverinfo\": \"none\", \"line\": {\"color\": \"rgba(255, 255, 255, 0.0)\", \"dash\": \"solid\", \"width\": 1}, \"mode\": \"lines\", \"type\": \"scatter\", \"x\": [0.00310060136949708, 0.5332006349196151, null, 0.5188349844615217, 0.5051846724171586, null, 0.5188349844615217, 0.5050372363606034, null], \"y\": [0.771594505896738, 0.7547792558606273, null, 0.7552349472190422, 0.7634255525589204, null, 0.7552349472190422, 0.7479150190441097, null]}, {\"hoverinfo\": \"none\", \"line\": {\"color\": \"rgba(255, 255, 255, 0.0)\", \"dash\": \"solid\", \"width\": 1}, \"mode\": \"lines\", \"type\": \"scatter\", \"x\": [0.06475610002878784, 0.518601108574592, null, 0.5061660589533719, 0.49215940231291344, null, 0.5061660589533719, 0.49641340229935216, null], \"y\": [0.12034230758596098, 0.6002134250889016, null, 0.5870652774931853, 0.5812174082098515, null, 0.5870652774931853, 0.5677913364513252, null]}, {\"hoverinfo\": \"none\", \"marker\": {\"color\": \"rgba(255, 255, 255, 0.0)\", \"line\": {\"color\": \"rgba(255, 255, 255, 0.0)\", \"width\": 1}, \"size\": 20, \"symbol\": \"circle\"}, \"mode\": \"markers+text\", \"text\": [\"('Atlanta Hawks',)\"], \"textfont\": {\"color\": \"rgb(0, 0, 0)\"}, \"textposition\": \"middle center\", \"type\": \"scatter\", \"x\": [0.9528918051655421], \"y\": [0.06925916751235628]}, {\"hoverinfo\": \"none\", \"marker\": {\"color\": \"rgba(255, 255, 255, 0.0)\", \"line\": {\"color\": \"rgba(255, 255, 255, 0.0)\", \"width\": 1}, \"size\": 20, \"symbol\": \"circle\"}, \"mode\": \"markers+text\", \"text\": [\"('Boston Celtics',)\"], \"textfont\": {\"color\": \"rgb(0, 0, 0)\"}, \"textposition\": \"middle center\", \"type\": \"scatter\", \"x\": [0.9000353191022225], \"y\": [0.578196347780768]}, {\"hoverinfo\": \"none\", \"marker\": {\"color\": \"rgba(255, 255, 255, 0.0)\", \"line\": {\"color\": \"rgba(255, 255, 255, 0.0)\", \"width\": 1}, \"size\": 20, \"symbol\": \"circle\"}, \"mode\": \"markers+text\", \"text\": [\"('Brooklyn Nets',)\"], \"textfont\": {\"color\": \"rgb(0, 0, 0)\"}, \"textposition\": \"middle center\", \"type\": \"scatter\", \"x\": [0.1928078315656524], \"y\": [0.38049595508786327]}, {\"hoverinfo\": \"none\", \"marker\": {\"color\": \"rgba(255, 255, 255, 0.0)\", \"line\": {\"color\": \"rgba(255, 255, 255, 0.0)\", \"width\": 1}, \"size\": 20, \"symbol\": \"circle\"}, \"mode\": \"markers+text\", \"text\": [\"('Charlotte Hornets',)\"], \"textfont\": {\"color\": \"rgb(0, 0, 0)\"}, \"textposition\": \"middle center\", \"type\": \"scatter\", \"x\": [0.1307901879954193], \"y\": [0.28369796536360437]}, {\"hoverinfo\": \"none\", \"marker\": {\"color\": \"rgba(255, 255, 255, 0.0)\", \"line\": {\"color\": \"rgba(255, 255, 255, 0.0)\", \"width\": 1}, \"size\": 20, \"symbol\": \"circle\"}, \"mode\": \"markers+text\", \"text\": [\"('Chicago Bulls',)\"], \"textfont\": {\"color\": \"rgb(0, 0, 0)\"}, \"textposition\": \"middle center\", \"type\": \"scatter\", \"x\": [0.19029450047865482], \"y\": [0.9332830312504907]}, {\"hoverinfo\": \"none\", \"marker\": {\"color\": \"rgba(255, 255, 255, 0.0)\", \"line\": {\"color\": \"rgba(255, 255, 255, 0.0)\", \"width\": 1}, \"size\": 20, \"symbol\": \"circle\"}, \"mode\": \"markers+text\", \"text\": [\"('Cleveland Cavaliers',)\"], \"textfont\": {\"color\": \"rgb(0, 0, 0)\"}, \"textposition\": \"middle center\", \"type\": \"scatter\", \"x\": [0.816919398835723], \"y\": [0.48881133528061493]}, {\"hoverinfo\": \"none\", \"marker\": {\"color\": \"rgba(255, 255, 255, 0.0)\", \"line\": {\"color\": \"rgba(255, 255, 255, 0.0)\", \"width\": 1}, \"size\": 20, \"symbol\": \"circle\"}, \"mode\": \"markers+text\", \"text\": [\"('Dallas Mavericks',)\"], \"textfont\": {\"color\": \"rgb(0, 0, 0)\"}, \"textposition\": \"middle center\", \"type\": \"scatter\", \"x\": [0.8837074202123242], \"y\": [0.5099693334584041]}, {\"hoverinfo\": \"none\", \"marker\": {\"color\": \"rgba(255, 255, 255, 0.0)\", \"line\": {\"color\": \"rgba(255, 255, 255, 0.0)\", \"width\": 1}, \"size\": 20, \"symbol\": \"circle\"}, \"mode\": \"markers+text\", \"text\": [\"('Denver Nuggets',)\"], \"textfont\": {\"color\": \"rgb(0, 0, 0)\"}, \"textposition\": \"middle center\", \"type\": \"scatter\", \"x\": [0.8399548418497538], \"y\": [0.4845105005350425]}, {\"hoverinfo\": \"none\", \"marker\": {\"color\": \"rgba(255, 255, 255, 0.0)\", \"line\": {\"color\": \"rgba(255, 255, 255, 0.0)\", \"width\": 1}, \"size\": 20, \"symbol\": \"circle\"}, \"mode\": \"markers+text\", \"text\": [\"('Detroit Pistons',)\"], \"textfont\": {\"color\": \"rgb(0, 0, 0)\"}, \"textposition\": \"middle center\", \"type\": \"scatter\", \"x\": [0.08814813941536637], \"y\": [0.6542791901695156]}, {\"hoverinfo\": \"none\", \"marker\": {\"color\": \"rgba(255, 255, 255, 0.0)\", \"line\": {\"color\": \"rgba(255, 255, 255, 0.0)\", \"width\": 1}, \"size\": 20, \"symbol\": \"circle\"}, \"mode\": \"markers+text\", \"text\": [\"('Golden State Warriors',)\"], \"textfont\": {\"color\": \"rgb(0, 0, 0)\"}, \"textposition\": \"middle center\", \"type\": \"scatter\", \"x\": [0.6911809004771826], \"y\": [0.27513458637796173]}, {\"hoverinfo\": \"none\", \"marker\": {\"color\": \"rgba(255, 255, 255, 0.0)\", \"line\": {\"color\": \"rgba(255, 255, 255, 0.0)\", \"width\": 1}, \"size\": 20, \"symbol\": \"circle\"}, \"mode\": \"markers+text\", \"text\": [\"('Houston Rockets',)\"], \"textfont\": {\"color\": \"rgb(0, 0, 0)\"}, \"textposition\": \"middle center\", \"type\": \"scatter\", \"x\": [0.9142358226699291], \"y\": [0.9152406965395632]}, {\"hoverinfo\": \"none\", \"marker\": {\"color\": \"rgba(255, 255, 255, 0.0)\", \"line\": {\"color\": \"rgba(255, 255, 255, 0.0)\", \"width\": 1}, \"size\": 20, \"symbol\": \"circle\"}, \"mode\": \"markers+text\", \"text\": [\"('Indiana Pacers',)\"], \"textfont\": {\"color\": \"rgb(0, 0, 0)\"}, \"textposition\": \"middle center\", \"type\": \"scatter\", \"x\": [0.9789546099706437], \"y\": [0.5449092095603997]}, {\"hoverinfo\": \"none\", \"marker\": {\"color\": \"rgba(255, 255, 255, 0.0)\", \"line\": {\"color\": \"rgba(255, 255, 255, 0.0)\", \"width\": 1}, \"size\": 20, \"symbol\": \"circle\"}, \"mode\": \"markers+text\", \"text\": [\"('LA Clippers',)\"], \"textfont\": {\"color\": \"rgb(0, 0, 0)\"}, \"textposition\": \"middle center\", \"type\": \"scatter\", \"x\": [0.5107295056086786], \"y\": [0.4601580107920312]}, {\"hoverinfo\": \"none\", \"marker\": {\"color\": \"rgba(255, 255, 255, 0.0)\", \"line\": {\"color\": \"rgba(255, 255, 255, 0.0)\", \"width\": 1}, \"size\": 20, \"symbol\": \"circle\"}, \"mode\": \"markers+text\", \"text\": [\"('Los Angeles Lakers',)\"], \"textfont\": {\"color\": \"rgb(0, 0, 0)\"}, \"textposition\": \"middle center\", \"type\": \"scatter\", \"x\": [0.42059809883729016], \"y\": [0.329051736347859]}, {\"hoverinfo\": \"none\", \"marker\": {\"color\": \"rgba(255, 255, 255, 0.0)\", \"line\": {\"color\": \"rgba(255, 255, 255, 0.0)\", \"width\": 1}, \"size\": 20, \"symbol\": \"circle\"}, \"mode\": \"markers+text\", \"text\": [\"('Memphis Grizzlies',)\"], \"textfont\": {\"color\": \"rgb(0, 0, 0)\"}, \"textposition\": \"middle center\", \"type\": \"scatter\", \"x\": [0.41840435594174674], \"y\": [0.2903369941100492]}, {\"hoverinfo\": \"none\", \"marker\": {\"color\": \"rgba(255, 255, 255, 0.0)\", \"line\": {\"color\": \"rgba(255, 255, 255, 0.0)\", \"width\": 1}, \"size\": 20, \"symbol\": \"circle\"}, \"mode\": \"markers+text\", \"text\": [\"('Miami Heat',)\"], \"textfont\": {\"color\": \"rgb(0, 0, 0)\"}, \"textposition\": \"middle center\", \"type\": \"scatter\", \"x\": [0.4346755564551269], \"y\": [0.005414023680544]}, {\"hoverinfo\": \"none\", \"marker\": {\"color\": \"rgba(255, 255, 255, 0.0)\", \"line\": {\"color\": \"rgba(255, 255, 255, 0.0)\", \"width\": 1}, \"size\": 20, \"symbol\": \"circle\"}, \"mode\": \"markers+text\", \"text\": [\"('Milwaukee Bucks',)\"], \"textfont\": {\"color\": \"rgb(0, 0, 0)\"}, \"textposition\": \"middle center\", \"type\": \"scatter\", \"x\": [0.28636996370159185], \"y\": [0.29522182412135256]}, {\"hoverinfo\": \"none\", \"marker\": {\"color\": \"rgba(255, 255, 255, 0.0)\", \"line\": {\"color\": \"rgba(255, 255, 255, 0.0)\", \"width\": 1}, \"size\": 20, \"symbol\": \"circle\"}, \"mode\": \"markers+text\", \"text\": [\"('Minnesota Timberwolves',)\"], \"textfont\": {\"color\": \"rgb(0, 0, 0)\"}, \"textposition\": \"middle center\", \"type\": \"scatter\", \"x\": [0.00310060136949708], \"y\": [0.771594505896738]}, {\"hoverinfo\": \"none\", \"marker\": {\"color\": \"rgba(255, 255, 255, 0.0)\", \"line\": {\"color\": \"rgba(255, 255, 255, 0.0)\", \"width\": 1}, \"size\": 20, \"symbol\": \"circle\"}, \"mode\": \"markers+text\", \"text\": [\"('New Orleans Pelicans',)\"], \"textfont\": {\"color\": \"rgb(0, 0, 0)\"}, \"textposition\": \"middle center\", \"type\": \"scatter\", \"x\": [0.9454264441626102], \"y\": [0.29188003344611047]}, {\"hoverinfo\": \"none\", \"marker\": {\"color\": \"rgba(255, 255, 255, 0.0)\", \"line\": {\"color\": \"rgba(255, 255, 255, 0.0)\", \"width\": 1}, \"size\": 20, \"symbol\": \"circle\"}, \"mode\": \"markers+text\", \"text\": [\"('New York Knicks',)\"], \"textfont\": {\"color\": \"rgb(0, 0, 0)\"}, \"textposition\": \"middle center\", \"type\": \"scatter\", \"x\": [0.4961091002153274], \"y\": [0.5803632634141122]}, {\"hoverinfo\": \"none\", \"marker\": {\"color\": \"rgba(255, 255, 255, 0.0)\", \"line\": {\"color\": \"rgba(255, 255, 255, 0.0)\", \"width\": 1}, \"size\": 20, \"symbol\": \"circle\"}, \"mode\": \"markers+text\", \"text\": [\"('Oklahoma City Thunder',)\"], \"textfont\": {\"color\": \"rgb(0, 0, 0)\"}, \"textposition\": \"middle center\", \"type\": \"scatter\", \"x\": [0.526671320080307], \"y\": [0.739468101082775]}, {\"hoverinfo\": \"none\", \"marker\": {\"color\": \"rgba(255, 255, 255, 0.0)\", \"line\": {\"color\": \"rgba(255, 255, 255, 0.0)\", \"width\": 1}, \"size\": 20, \"symbol\": \"circle\"}, \"mode\": \"markers+text\", \"text\": [\"('Orlando Magic',)\"], \"textfont\": {\"color\": \"rgb(0, 0, 0)\"}, \"textposition\": \"middle center\", \"type\": \"scatter\", \"x\": [0.9094307078236904], \"y\": [0.9700673598710964]}, {\"hoverinfo\": \"none\", \"marker\": {\"color\": \"rgba(255, 255, 255, 0.0)\", \"line\": {\"color\": \"rgba(255, 255, 255, 0.0)\", \"width\": 1}, \"size\": 20, \"symbol\": \"circle\"}, \"mode\": \"markers+text\", \"text\": [\"('Philadelphia 76ers',)\"], \"textfont\": {\"color\": \"rgb(0, 0, 0)\"}, \"textposition\": \"middle center\", \"type\": \"scatter\", \"x\": [0.38361118843496544], \"y\": [0.8161578740602545]}, {\"hoverinfo\": \"none\", \"marker\": {\"color\": \"rgba(255, 255, 255, 0.0)\", \"line\": {\"color\": \"rgba(255, 255, 255, 0.0)\", \"width\": 1}, \"size\": 20, \"symbol\": \"circle\"}, \"mode\": \"markers+text\", \"text\": [\"('Phoenix Suns',)\"], \"textfont\": {\"color\": \"rgb(0, 0, 0)\"}, \"textposition\": \"middle center\", \"type\": \"scatter\", \"x\": [0.518601108574592], \"y\": [0.6002134250889016]}, {\"hoverinfo\": \"none\", \"marker\": {\"color\": \"rgba(255, 255, 255, 0.0)\", \"line\": {\"color\": \"rgba(255, 255, 255, 0.0)\", \"width\": 1}, \"size\": 20, \"symbol\": \"circle\"}, \"mode\": \"markers+text\", \"text\": [\"('Portland Trail Blazers',)\"], \"textfont\": {\"color\": \"rgb(0, 0, 0)\"}, \"textposition\": \"middle center\", \"type\": \"scatter\", \"x\": [0.8675595510805824], \"y\": [0.37657134631076716]}, {\"hoverinfo\": \"none\", \"marker\": {\"color\": \"rgba(255, 255, 255, 0.0)\", \"line\": {\"color\": \"rgba(255, 255, 255, 0.0)\", \"width\": 1}, \"size\": 20, \"symbol\": \"circle\"}, \"mode\": \"markers+text\", \"text\": [\"('Sacramento Kings',)\"], \"textfont\": {\"color\": \"rgb(0, 0, 0)\"}, \"textposition\": \"middle center\", \"type\": \"scatter\", \"x\": [0.9154066230558345], \"y\": [0.35998936633052314]}, {\"hoverinfo\": \"none\", \"marker\": {\"color\": \"rgba(255, 255, 255, 0.0)\", \"line\": {\"color\": \"rgba(255, 255, 255, 0.0)\", \"width\": 1}, \"size\": 20, \"symbol\": \"circle\"}, \"mode\": \"markers+text\", \"text\": [\"('San Antonio Spurs',)\"], \"textfont\": {\"color\": \"rgb(0, 0, 0)\"}, \"textposition\": \"middle center\", \"type\": \"scatter\", \"x\": [0.676419494408939], \"y\": [0.5087024352919418]}, {\"hoverinfo\": \"none\", \"marker\": {\"color\": \"rgba(255, 255, 255, 0.0)\", \"line\": {\"color\": \"rgba(255, 255, 255, 0.0)\", \"width\": 1}, \"size\": 20, \"symbol\": \"circle\"}, \"mode\": \"markers+text\", \"text\": [\"('Toronto Raptors',)\"], \"textfont\": {\"color\": \"rgb(0, 0, 0)\"}, \"textposition\": \"middle center\", \"type\": \"scatter\", \"x\": [0.5332006349196151], \"y\": [0.7547792558606273]}, {\"hoverinfo\": \"none\", \"marker\": {\"color\": \"rgba(255, 255, 255, 0.0)\", \"line\": {\"color\": \"rgba(255, 255, 255, 0.0)\", \"width\": 1}, \"size\": 20, \"symbol\": \"circle\"}, \"mode\": \"markers+text\", \"text\": [\"('Utah Jazz',)\"], \"textfont\": {\"color\": \"rgb(0, 0, 0)\"}, \"textposition\": \"middle center\", \"type\": \"scatter\", \"x\": [0.06475610002878784], \"y\": [0.12034230758596098]}, {\"hoverinfo\": \"none\", \"marker\": {\"color\": \"rgba(255, 255, 255, 0.0)\", \"line\": {\"color\": \"rgba(255, 255, 255, 0.0)\", \"width\": 1}, \"size\": 20, \"symbol\": \"circle\"}, \"mode\": \"markers+text\", \"text\": [\"('Washington Wizards',)\"], \"textfont\": {\"color\": \"rgb(0, 0, 0)\"}, \"textposition\": \"middle center\", \"type\": \"scatter\", \"x\": [0.575551936239528], \"y\": [0.015481259445679019]}, {\"hoverinfo\": \"none\", \"mode\": \"text\", \"text\": [null, null, null, null], \"textfont\": {\"color\": \"rgb(0, 0, 0)\"}, \"textposition\": \"middle center\", \"type\": \"scatter\", \"x\": [0.4865250548693415, 0.7049348028802207, 0.26840006987955045, 0.2844811269540348], \"y\": [0.3241299597239443, 0.710032631160856, 0.7894296439202392, 0.3829938624958805]}, {\"hoverinfo\": \"none\", \"marker\": {\"color\": \"rgba(255, 255, 255, 0.0)\", \"line\": {\"color\": \"rgba(255, 255, 255, 0.0)\", \"width\": 0}, \"size\": 0, \"symbol\": \"circle\"}, \"mode\": \"markers\", \"type\": \"scatter\", \"x\": [0.5, 0.0, 1.0, 0.5], \"y\": [0.0, 0.5, 0.5, 1.0]}],\n",
       "                        {\"height\": 526.0, \"margin\": {\"b\": 0, \"l\": 0, \"r\": 0, \"t\": 0}, \"showlegend\": false, \"sliders\": [{\"currentvalue\": {\"visible\": false}, \"steps\": [{\"args\": [[0], {\"frame\": {\"redraw\": false}, \"mode\": \"immediate\"}], \"label\": \"\", \"method\": \"animate\"}, {\"args\": [[1], {\"frame\": {\"redraw\": false}, \"mode\": \"immediate\"}], \"label\": \"\", \"method\": \"animate\"}]}], \"template\": {\"data\": {\"bar\": [{\"error_x\": {\"color\": \"#2a3f5f\"}, \"error_y\": {\"color\": \"#2a3f5f\"}, \"marker\": {\"line\": {\"color\": \"#E5ECF6\", \"width\": 0.5}}, \"type\": \"bar\"}], \"barpolar\": [{\"marker\": {\"line\": {\"color\": \"#E5ECF6\", \"width\": 0.5}}, \"type\": \"barpolar\"}], \"carpet\": [{\"aaxis\": {\"endlinecolor\": \"#2a3f5f\", \"gridcolor\": \"white\", \"linecolor\": \"white\", \"minorgridcolor\": \"white\", \"startlinecolor\": \"#2a3f5f\"}, \"baxis\": {\"endlinecolor\": \"#2a3f5f\", \"gridcolor\": \"white\", \"linecolor\": \"white\", \"minorgridcolor\": \"white\", \"startlinecolor\": \"#2a3f5f\"}, \"type\": \"carpet\"}], \"choropleth\": [{\"colorbar\": {\"outlinewidth\": 0, \"ticks\": \"\"}, \"type\": \"choropleth\"}], \"contour\": [{\"colorbar\": {\"outlinewidth\": 0, \"ticks\": \"\"}, \"colorscale\": [[0.0, \"#0d0887\"], [0.1111111111111111, \"#46039f\"], [0.2222222222222222, \"#7201a8\"], [0.3333333333333333, \"#9c179e\"], [0.4444444444444444, \"#bd3786\"], [0.5555555555555556, \"#d8576b\"], [0.6666666666666666, \"#ed7953\"], [0.7777777777777778, \"#fb9f3a\"], [0.8888888888888888, \"#fdca26\"], [1.0, \"#f0f921\"]], \"type\": \"contour\"}], \"contourcarpet\": [{\"colorbar\": {\"outlinewidth\": 0, \"ticks\": \"\"}, \"type\": \"contourcarpet\"}], \"heatmap\": [{\"colorbar\": {\"outlinewidth\": 0, \"ticks\": \"\"}, \"colorscale\": [[0.0, \"#0d0887\"], [0.1111111111111111, \"#46039f\"], [0.2222222222222222, \"#7201a8\"], [0.3333333333333333, \"#9c179e\"], [0.4444444444444444, \"#bd3786\"], [0.5555555555555556, \"#d8576b\"], [0.6666666666666666, \"#ed7953\"], [0.7777777777777778, \"#fb9f3a\"], [0.8888888888888888, \"#fdca26\"], [1.0, \"#f0f921\"]], \"type\": \"heatmap\"}], \"heatmapgl\": [{\"colorbar\": {\"outlinewidth\": 0, \"ticks\": \"\"}, \"colorscale\": [[0.0, \"#0d0887\"], [0.1111111111111111, \"#46039f\"], [0.2222222222222222, \"#7201a8\"], [0.3333333333333333, \"#9c179e\"], [0.4444444444444444, \"#bd3786\"], [0.5555555555555556, \"#d8576b\"], [0.6666666666666666, \"#ed7953\"], [0.7777777777777778, \"#fb9f3a\"], [0.8888888888888888, \"#fdca26\"], [1.0, \"#f0f921\"]], \"type\": \"heatmapgl\"}], \"histogram\": [{\"marker\": {\"colorbar\": {\"outlinewidth\": 0, \"ticks\": \"\"}}, \"type\": \"histogram\"}], \"histogram2d\": [{\"colorbar\": {\"outlinewidth\": 0, \"ticks\": \"\"}, \"colorscale\": [[0.0, \"#0d0887\"], [0.1111111111111111, \"#46039f\"], [0.2222222222222222, \"#7201a8\"], [0.3333333333333333, \"#9c179e\"], [0.4444444444444444, \"#bd3786\"], [0.5555555555555556, \"#d8576b\"], [0.6666666666666666, \"#ed7953\"], [0.7777777777777778, \"#fb9f3a\"], [0.8888888888888888, \"#fdca26\"], [1.0, \"#f0f921\"]], \"type\": \"histogram2d\"}], \"histogram2dcontour\": [{\"colorbar\": {\"outlinewidth\": 0, \"ticks\": \"\"}, \"colorscale\": [[0.0, \"#0d0887\"], [0.1111111111111111, \"#46039f\"], [0.2222222222222222, \"#7201a8\"], [0.3333333333333333, \"#9c179e\"], [0.4444444444444444, \"#bd3786\"], [0.5555555555555556, \"#d8576b\"], [0.6666666666666666, \"#ed7953\"], [0.7777777777777778, \"#fb9f3a\"], [0.8888888888888888, \"#fdca26\"], [1.0, \"#f0f921\"]], \"type\": \"histogram2dcontour\"}], \"mesh3d\": [{\"colorbar\": {\"outlinewidth\": 0, \"ticks\": \"\"}, \"type\": \"mesh3d\"}], \"parcoords\": [{\"line\": {\"colorbar\": {\"outlinewidth\": 0, \"ticks\": \"\"}}, \"type\": \"parcoords\"}], \"scatter\": [{\"marker\": {\"colorbar\": {\"outlinewidth\": 0, \"ticks\": \"\"}}, \"type\": \"scatter\"}], \"scatter3d\": [{\"line\": {\"colorbar\": {\"outlinewidth\": 0, \"ticks\": \"\"}}, \"marker\": {\"colorbar\": {\"outlinewidth\": 0, \"ticks\": \"\"}}, \"type\": \"scatter3d\"}], \"scattercarpet\": [{\"marker\": {\"colorbar\": {\"outlinewidth\": 0, \"ticks\": \"\"}}, \"type\": \"scattercarpet\"}], \"scattergeo\": [{\"marker\": {\"colorbar\": {\"outlinewidth\": 0, \"ticks\": \"\"}}, \"type\": \"scattergeo\"}], \"scattergl\": [{\"marker\": {\"colorbar\": {\"outlinewidth\": 0, \"ticks\": \"\"}}, \"type\": \"scattergl\"}], \"scattermapbox\": [{\"marker\": {\"colorbar\": {\"outlinewidth\": 0, \"ticks\": \"\"}}, \"type\": \"scattermapbox\"}], \"scatterpolar\": [{\"marker\": {\"colorbar\": {\"outlinewidth\": 0, \"ticks\": \"\"}}, \"type\": \"scatterpolar\"}], \"scatterpolargl\": [{\"marker\": {\"colorbar\": {\"outlinewidth\": 0, \"ticks\": \"\"}}, \"type\": \"scatterpolargl\"}], \"scatterternary\": [{\"marker\": {\"colorbar\": {\"outlinewidth\": 0, \"ticks\": \"\"}}, \"type\": \"scatterternary\"}], \"surface\": [{\"colorbar\": {\"outlinewidth\": 0, \"ticks\": \"\"}, \"colorscale\": [[0.0, \"#0d0887\"], [0.1111111111111111, \"#46039f\"], [0.2222222222222222, \"#7201a8\"], [0.3333333333333333, \"#9c179e\"], [0.4444444444444444, \"#bd3786\"], [0.5555555555555556, \"#d8576b\"], [0.6666666666666666, \"#ed7953\"], [0.7777777777777778, \"#fb9f3a\"], [0.8888888888888888, \"#fdca26\"], [1.0, \"#f0f921\"]], \"type\": \"surface\"}], \"table\": [{\"cells\": {\"fill\": {\"color\": \"#EBF0F8\"}, \"line\": {\"color\": \"white\"}}, \"header\": {\"fill\": {\"color\": \"#C8D4E3\"}, \"line\": {\"color\": \"white\"}}, \"type\": \"table\"}]}, \"layout\": {\"annotationdefaults\": {\"arrowcolor\": \"#2a3f5f\", \"arrowhead\": 0, \"arrowwidth\": 1}, \"colorscale\": {\"diverging\": [[0, \"#8e0152\"], [0.1, \"#c51b7d\"], [0.2, \"#de77ae\"], [0.3, \"#f1b6da\"], [0.4, \"#fde0ef\"], [0.5, \"#f7f7f7\"], [0.6, \"#e6f5d0\"], [0.7, \"#b8e186\"], [0.8, \"#7fbc41\"], [0.9, \"#4d9221\"], [1, \"#276419\"]], \"sequential\": [[0.0, \"#0d0887\"], [0.1111111111111111, \"#46039f\"], [0.2222222222222222, \"#7201a8\"], [0.3333333333333333, \"#9c179e\"], [0.4444444444444444, \"#bd3786\"], [0.5555555555555556, \"#d8576b\"], [0.6666666666666666, \"#ed7953\"], [0.7777777777777778, \"#fb9f3a\"], [0.8888888888888888, \"#fdca26\"], [1.0, \"#f0f921\"]], \"sequentialminus\": [[0.0, \"#0d0887\"], [0.1111111111111111, \"#46039f\"], [0.2222222222222222, \"#7201a8\"], [0.3333333333333333, \"#9c179e\"], [0.4444444444444444, \"#bd3786\"], [0.5555555555555556, \"#d8576b\"], [0.6666666666666666, \"#ed7953\"], [0.7777777777777778, \"#fb9f3a\"], [0.8888888888888888, \"#fdca26\"], [1.0, \"#f0f921\"]]}, \"colorway\": [\"#636efa\", \"#EF553B\", \"#00cc96\", \"#ab63fa\", \"#FFA15A\", \"#19d3f3\", \"#FF6692\", \"#B6E880\", \"#FF97FF\", \"#FECB52\"], \"font\": {\"color\": \"#2a3f5f\"}, \"geo\": {\"bgcolor\": \"white\", \"lakecolor\": \"white\", \"landcolor\": \"#E5ECF6\", \"showlakes\": true, \"showland\": true, \"subunitcolor\": \"white\"}, \"hoverlabel\": {\"align\": \"left\"}, \"hovermode\": \"closest\", \"mapbox\": {\"style\": \"light\"}, \"paper_bgcolor\": \"white\", \"plot_bgcolor\": \"#E5ECF6\", \"polar\": {\"angularaxis\": {\"gridcolor\": \"white\", \"linecolor\": \"white\", \"ticks\": \"\"}, \"bgcolor\": \"#E5ECF6\", \"radialaxis\": {\"gridcolor\": \"white\", \"linecolor\": \"white\", \"ticks\": \"\"}}, \"scene\": {\"xaxis\": {\"backgroundcolor\": \"#E5ECF6\", \"gridcolor\": \"white\", \"gridwidth\": 2, \"linecolor\": \"white\", \"showbackground\": true, \"ticks\": \"\", \"zerolinecolor\": \"white\"}, \"yaxis\": {\"backgroundcolor\": \"#E5ECF6\", \"gridcolor\": \"white\", \"gridwidth\": 2, \"linecolor\": \"white\", \"showbackground\": true, \"ticks\": \"\", \"zerolinecolor\": \"white\"}, \"zaxis\": {\"backgroundcolor\": \"#E5ECF6\", \"gridcolor\": \"white\", \"gridwidth\": 2, \"linecolor\": \"white\", \"showbackground\": true, \"ticks\": \"\", \"zerolinecolor\": \"white\"}}, \"shapedefaults\": {\"line\": {\"color\": \"#2a3f5f\"}}, \"ternary\": {\"aaxis\": {\"gridcolor\": \"white\", \"linecolor\": \"white\", \"ticks\": \"\"}, \"baxis\": {\"gridcolor\": \"white\", \"linecolor\": \"white\", \"ticks\": \"\"}, \"bgcolor\": \"#E5ECF6\", \"caxis\": {\"gridcolor\": \"white\", \"linecolor\": \"white\", \"ticks\": \"\"}}, \"title\": {\"x\": 0.05}, \"xaxis\": {\"automargin\": true, \"gridcolor\": \"white\", \"linecolor\": \"white\", \"ticks\": \"\", \"zerolinecolor\": \"white\", \"zerolinewidth\": 2}, \"yaxis\": {\"automargin\": true, \"gridcolor\": \"white\", \"linecolor\": \"white\", \"ticks\": \"\", \"zerolinecolor\": \"white\", \"zerolinewidth\": 2}}}, \"updatemenus\": [{\"buttons\": [{\"args\": [null, {\"frame\": {\"redraw\": false}, \"fromcurrent\": true}], \"label\": \"Play\", \"method\": \"animate\"}, {\"args\": [[null], {\"frame\": {\"redraw\": false}, \"mode\": \"immediate\"}], \"label\": \"Pause\", \"method\": \"animate\"}], \"showactive\": true, \"type\": \"buttons\"}], \"width\": 912.0, \"xaxis\": {\"showgrid\": false, \"showticklabels\": false, \"zeroline\": false}, \"yaxis\": {\"showgrid\": false, \"showticklabels\": false, \"zeroline\": false}},\n",
       "                        {\"staticPlot\": true, \"responsive\": true}\n",
       "                    ).then(function(){\n",
       "                            Plotly.addFrames('c8e5ca07-afc8-494d-a655-8b4d0681fd56', [{\"data\": [{\"hoverinfo\": \"none\", \"line\": {\"color\": \"rgba(255, 255, 255, 0.0)\", \"dash\": \"solid\", \"width\": 1}, \"mode\": \"lines\", \"x\": [0.9000353191022225, 0.06475610002878784, null, 0.07851773679967733, 0.09288503553456648, null, 0.07851773679967733, 0.09044442557943497, null], \"y\": [0.578196347780768, 0.12034230758596098, null, 0.12788567853470145, 0.12766294483833995, null, 0.12788567853470145, 0.14252132726774655, null], \"type\": \"scatter\"}, {\"hoverinfo\": \"none\", \"line\": {\"color\": \"rgba(255, 255, 255, 0.0)\", \"dash\": \"solid\", \"width\": 1}, \"mode\": \"lines\", \"x\": [0.5107295056086786, 0.9142358226699291, null, 0.902010278523927, 0.8881002245827, null, 0.902010278523927, 0.8925613156209706, null], \"y\": [0.4601580107920312, 0.9152406965395632, null, 0.9014524775465924, 0.8948800236033175, null, 0.9014524775465924, 0.8816801540417879, null], \"type\": \"scatter\"}, {\"hoverinfo\": \"none\", \"line\": {\"color\": \"rgba(255, 255, 255, 0.0)\", \"dash\": \"solid\", \"width\": 1}, \"mode\": \"lines\", \"x\": [0.00310060136949708, 0.5332006349196151, null, 0.5188349844615217, 0.5051846724171586, null, 0.5188349844615217, 0.5050372363606034, null], \"y\": [0.771594505896738, 0.7547792558606273, null, 0.7552349472190422, 0.7634255525589204, null, 0.7552349472190422, 0.7479150190441097, null], \"type\": \"scatter\"}, {\"hoverinfo\": \"none\", \"line\": {\"color\": \"rgba(255, 255, 255, 0.0)\", \"dash\": \"solid\", \"width\": 1}, \"mode\": \"lines\", \"x\": [0.06475610002878784, 0.518601108574592, null, 0.5061660589533719, 0.49215940231291344, null, 0.5061660589533719, 0.49641340229935216, null], \"y\": [0.12034230758596098, 0.6002134250889016, null, 0.5870652774931853, 0.5812174082098515, null, 0.5870652774931853, 0.5677913364513252, null], \"type\": \"scatter\"}, {\"hoverinfo\": \"none\", \"marker\": {\"color\": \"rgba(255, 255, 255, 0.0)\", \"line\": {\"color\": \"rgba(255, 255, 255, 0.0)\", \"width\": 1}, \"size\": 20, \"symbol\": \"circle\"}, \"mode\": \"markers+text\", \"text\": [\"('Atlanta Hawks',)\"], \"textfont\": {\"color\": \"rgb(0, 0, 0)\"}, \"textposition\": \"middle center\", \"x\": [0.9528918051655421], \"y\": [0.06925916751235628], \"type\": \"scatter\"}, {\"hoverinfo\": \"none\", \"marker\": {\"color\": \"rgba(255, 255, 255, 0.0)\", \"line\": {\"color\": \"rgba(255, 255, 255, 0.0)\", \"width\": 1}, \"size\": 20, \"symbol\": \"circle\"}, \"mode\": \"markers+text\", \"text\": [\"('Boston Celtics',)\"], \"textfont\": {\"color\": \"rgb(0, 0, 0)\"}, \"textposition\": \"middle center\", \"x\": [0.9000353191022225], \"y\": [0.578196347780768], \"type\": \"scatter\"}, {\"hoverinfo\": \"none\", \"marker\": {\"color\": \"rgba(255, 255, 255, 0.0)\", \"line\": {\"color\": \"rgba(255, 255, 255, 0.0)\", \"width\": 1}, \"size\": 20, \"symbol\": \"circle\"}, \"mode\": \"markers+text\", \"text\": [\"('Brooklyn Nets',)\"], \"textfont\": {\"color\": \"rgb(0, 0, 0)\"}, \"textposition\": \"middle center\", \"x\": [0.1928078315656524], \"y\": [0.38049595508786327], \"type\": \"scatter\"}, {\"hoverinfo\": \"none\", \"marker\": {\"color\": \"rgba(255, 255, 255, 0.0)\", \"line\": {\"color\": \"rgba(255, 255, 255, 0.0)\", \"width\": 1}, \"size\": 20, \"symbol\": \"circle\"}, \"mode\": \"markers+text\", \"text\": [\"('Charlotte Hornets',)\"], \"textfont\": {\"color\": \"rgb(0, 0, 0)\"}, \"textposition\": \"middle center\", \"x\": [0.1307901879954193], \"y\": [0.28369796536360437], \"type\": \"scatter\"}, {\"hoverinfo\": \"none\", \"marker\": {\"color\": \"rgba(255, 255, 255, 0.0)\", \"line\": {\"color\": \"rgba(255, 255, 255, 0.0)\", \"width\": 1}, \"size\": 20, \"symbol\": \"circle\"}, \"mode\": \"markers+text\", \"text\": [\"('Chicago Bulls',)\"], \"textfont\": {\"color\": \"rgb(0, 0, 0)\"}, \"textposition\": \"middle center\", \"x\": [0.19029450047865482], \"y\": [0.9332830312504907], \"type\": \"scatter\"}, {\"hoverinfo\": \"none\", \"marker\": {\"color\": \"rgba(255, 255, 255, 0.0)\", \"line\": {\"color\": \"rgba(255, 255, 255, 0.0)\", \"width\": 1}, \"size\": 20, \"symbol\": \"circle\"}, \"mode\": \"markers+text\", \"text\": [\"('Cleveland Cavaliers',)\"], \"textfont\": {\"color\": \"rgb(0, 0, 0)\"}, \"textposition\": \"middle center\", \"x\": [0.816919398835723], \"y\": [0.48881133528061493], \"type\": \"scatter\"}, {\"hoverinfo\": \"none\", \"marker\": {\"color\": \"rgba(255, 255, 255, 0.0)\", \"line\": {\"color\": \"rgba(255, 255, 255, 0.0)\", \"width\": 1}, \"size\": 20, \"symbol\": \"circle\"}, \"mode\": \"markers+text\", \"text\": [\"('Dallas Mavericks',)\"], \"textfont\": {\"color\": \"rgb(0, 0, 0)\"}, \"textposition\": \"middle center\", \"x\": [0.8837074202123242], \"y\": [0.5099693334584041], \"type\": \"scatter\"}, {\"hoverinfo\": \"none\", \"marker\": {\"color\": \"rgba(255, 255, 255, 0.0)\", \"line\": {\"color\": \"rgba(255, 255, 255, 0.0)\", \"width\": 1}, \"size\": 20, \"symbol\": \"circle\"}, \"mode\": \"markers+text\", \"text\": [\"('Denver Nuggets',)\"], \"textfont\": {\"color\": \"rgb(0, 0, 0)\"}, \"textposition\": \"middle center\", \"x\": [0.8399548418497538], \"y\": [0.4845105005350425], \"type\": \"scatter\"}, {\"hoverinfo\": \"none\", \"marker\": {\"color\": \"rgba(255, 255, 255, 0.0)\", \"line\": {\"color\": \"rgba(255, 255, 255, 0.0)\", \"width\": 1}, \"size\": 20, \"symbol\": \"circle\"}, \"mode\": \"markers+text\", \"text\": [\"('Detroit Pistons',)\"], \"textfont\": {\"color\": \"rgb(0, 0, 0)\"}, \"textposition\": \"middle center\", \"x\": [0.08814813941536637], \"y\": [0.6542791901695156], \"type\": \"scatter\"}, {\"hoverinfo\": \"none\", \"marker\": {\"color\": \"rgba(255, 255, 255, 0.0)\", \"line\": {\"color\": \"rgba(255, 255, 255, 0.0)\", \"width\": 1}, \"size\": 20, \"symbol\": \"circle\"}, \"mode\": \"markers+text\", \"text\": [\"('Golden State Warriors',)\"], \"textfont\": {\"color\": \"rgb(0, 0, 0)\"}, \"textposition\": \"middle center\", \"x\": [0.6911809004771826], \"y\": [0.27513458637796173], \"type\": \"scatter\"}, {\"hoverinfo\": \"none\", \"marker\": {\"color\": \"rgba(255, 255, 255, 0.0)\", \"line\": {\"color\": \"rgba(255, 255, 255, 0.0)\", \"width\": 1}, \"size\": 20, \"symbol\": \"circle\"}, \"mode\": \"markers+text\", \"text\": [\"('Houston Rockets',)\"], \"textfont\": {\"color\": \"rgb(0, 0, 0)\"}, \"textposition\": \"middle center\", \"x\": [0.9142358226699291], \"y\": [0.9152406965395632], \"type\": \"scatter\"}, {\"hoverinfo\": \"none\", \"marker\": {\"color\": \"rgba(255, 255, 255, 0.0)\", \"line\": {\"color\": \"rgba(255, 255, 255, 0.0)\", \"width\": 1}, \"size\": 20, \"symbol\": \"circle\"}, \"mode\": \"markers+text\", \"text\": [\"('Indiana Pacers',)\"], \"textfont\": {\"color\": \"rgb(0, 0, 0)\"}, \"textposition\": \"middle center\", \"x\": [0.9789546099706437], \"y\": [0.5449092095603997], \"type\": \"scatter\"}, {\"hoverinfo\": \"none\", \"marker\": {\"color\": \"rgba(255, 255, 255, 0.0)\", \"line\": {\"color\": \"rgba(255, 255, 255, 0.0)\", \"width\": 1}, \"size\": 20, \"symbol\": \"circle\"}, \"mode\": \"markers+text\", \"text\": [\"('LA Clippers',)\"], \"textfont\": {\"color\": \"rgb(0, 0, 0)\"}, \"textposition\": \"middle center\", \"x\": [0.5107295056086786], \"y\": [0.4601580107920312], \"type\": \"scatter\"}, {\"hoverinfo\": \"none\", \"marker\": {\"color\": \"rgba(255, 255, 255, 0.0)\", \"line\": {\"color\": \"rgba(255, 255, 255, 0.0)\", \"width\": 1}, \"size\": 20, \"symbol\": \"circle\"}, \"mode\": \"markers+text\", \"text\": [\"('Los Angeles Lakers',)\"], \"textfont\": {\"color\": \"rgb(0, 0, 0)\"}, \"textposition\": \"middle center\", \"x\": [0.42059809883729016], \"y\": [0.329051736347859], \"type\": \"scatter\"}, {\"hoverinfo\": \"none\", \"marker\": {\"color\": \"rgba(255, 255, 255, 0.0)\", \"line\": {\"color\": \"rgba(255, 255, 255, 0.0)\", \"width\": 1}, \"size\": 20, \"symbol\": \"circle\"}, \"mode\": \"markers+text\", \"text\": [\"('Memphis Grizzlies',)\"], \"textfont\": {\"color\": \"rgb(0, 0, 0)\"}, \"textposition\": \"middle center\", \"x\": [0.41840435594174674], \"y\": [0.2903369941100492], \"type\": \"scatter\"}, {\"hoverinfo\": \"none\", \"marker\": {\"color\": \"rgba(255, 255, 255, 0.0)\", \"line\": {\"color\": \"rgba(255, 255, 255, 0.0)\", \"width\": 1}, \"size\": 20, \"symbol\": \"circle\"}, \"mode\": \"markers+text\", \"text\": [\"('Miami Heat',)\"], \"textfont\": {\"color\": \"rgb(0, 0, 0)\"}, \"textposition\": \"middle center\", \"x\": [0.4346755564551269], \"y\": [0.005414023680544], \"type\": \"scatter\"}, {\"hoverinfo\": \"none\", \"marker\": {\"color\": \"rgba(255, 255, 255, 0.0)\", \"line\": {\"color\": \"rgba(255, 255, 255, 0.0)\", \"width\": 1}, \"size\": 20, \"symbol\": \"circle\"}, \"mode\": \"markers+text\", \"text\": [\"('Milwaukee Bucks',)\"], \"textfont\": {\"color\": \"rgb(0, 0, 0)\"}, \"textposition\": \"middle center\", \"x\": [0.28636996370159185], \"y\": [0.29522182412135256], \"type\": \"scatter\"}, {\"hoverinfo\": \"none\", \"marker\": {\"color\": \"rgba(255, 255, 255, 0.0)\", \"line\": {\"color\": \"rgba(255, 255, 255, 0.0)\", \"width\": 1}, \"size\": 20, \"symbol\": \"circle\"}, \"mode\": \"markers+text\", \"text\": [\"('Minnesota Timberwolves',)\"], \"textfont\": {\"color\": \"rgb(0, 0, 0)\"}, \"textposition\": \"middle center\", \"x\": [0.00310060136949708], \"y\": [0.771594505896738], \"type\": \"scatter\"}, {\"hoverinfo\": \"none\", \"marker\": {\"color\": \"rgba(255, 255, 255, 0.0)\", \"line\": {\"color\": \"rgba(255, 255, 255, 0.0)\", \"width\": 1}, \"size\": 20, \"symbol\": \"circle\"}, \"mode\": \"markers+text\", \"text\": [\"('New Orleans Pelicans',)\"], \"textfont\": {\"color\": \"rgb(0, 0, 0)\"}, \"textposition\": \"middle center\", \"x\": [0.9454264441626102], \"y\": [0.29188003344611047], \"type\": \"scatter\"}, {\"hoverinfo\": \"none\", \"marker\": {\"color\": \"rgba(255, 255, 255, 0.0)\", \"line\": {\"color\": \"rgba(255, 255, 255, 0.0)\", \"width\": 1}, \"size\": 20, \"symbol\": \"circle\"}, \"mode\": \"markers+text\", \"text\": [\"('New York Knicks',)\"], \"textfont\": {\"color\": \"rgb(0, 0, 0)\"}, \"textposition\": \"middle center\", \"x\": [0.4961091002153274], \"y\": [0.5803632634141122], \"type\": \"scatter\"}, {\"hoverinfo\": \"none\", \"marker\": {\"color\": \"rgba(255, 255, 255, 0.0)\", \"line\": {\"color\": \"rgba(255, 255, 255, 0.0)\", \"width\": 1}, \"size\": 20, \"symbol\": \"circle\"}, \"mode\": \"markers+text\", \"text\": [\"('Oklahoma City Thunder',)\"], \"textfont\": {\"color\": \"rgb(0, 0, 0)\"}, \"textposition\": \"middle center\", \"x\": [0.526671320080307], \"y\": [0.739468101082775], \"type\": \"scatter\"}, {\"hoverinfo\": \"none\", \"marker\": {\"color\": \"rgba(255, 255, 255, 0.0)\", \"line\": {\"color\": \"rgba(255, 255, 255, 0.0)\", \"width\": 1}, \"size\": 20, \"symbol\": \"circle\"}, \"mode\": \"markers+text\", \"text\": [\"('Orlando Magic',)\"], \"textfont\": {\"color\": \"rgb(0, 0, 0)\"}, \"textposition\": \"middle center\", \"x\": [0.9094307078236904], \"y\": [0.9700673598710964], \"type\": \"scatter\"}, {\"hoverinfo\": \"none\", \"marker\": {\"color\": \"rgba(255, 255, 255, 0.0)\", \"line\": {\"color\": \"rgba(255, 255, 255, 0.0)\", \"width\": 1}, \"size\": 20, \"symbol\": \"circle\"}, \"mode\": \"markers+text\", \"text\": [\"('Philadelphia 76ers',)\"], \"textfont\": {\"color\": \"rgb(0, 0, 0)\"}, \"textposition\": \"middle center\", \"x\": [0.38361118843496544], \"y\": [0.8161578740602545], \"type\": \"scatter\"}, {\"hoverinfo\": \"none\", \"marker\": {\"color\": \"rgba(255, 255, 255, 0.0)\", \"line\": {\"color\": \"rgba(255, 255, 255, 0.0)\", \"width\": 1}, \"size\": 20, \"symbol\": \"circle\"}, \"mode\": \"markers+text\", \"text\": [\"('Phoenix Suns',)\"], \"textfont\": {\"color\": \"rgb(0, 0, 0)\"}, \"textposition\": \"middle center\", \"x\": [0.518601108574592], \"y\": [0.6002134250889016], \"type\": \"scatter\"}, {\"hoverinfo\": \"none\", \"marker\": {\"color\": \"rgba(255, 255, 255, 0.0)\", \"line\": {\"color\": \"rgba(255, 255, 255, 0.0)\", \"width\": 1}, \"size\": 20, \"symbol\": \"circle\"}, \"mode\": \"markers+text\", \"text\": [\"('Portland Trail Blazers',)\"], \"textfont\": {\"color\": \"rgb(0, 0, 0)\"}, \"textposition\": \"middle center\", \"x\": [0.8675595510805824], \"y\": [0.37657134631076716], \"type\": \"scatter\"}, {\"hoverinfo\": \"none\", \"marker\": {\"color\": \"rgba(255, 255, 255, 0.0)\", \"line\": {\"color\": \"rgba(255, 255, 255, 0.0)\", \"width\": 1}, \"size\": 20, \"symbol\": \"circle\"}, \"mode\": \"markers+text\", \"text\": [\"('Sacramento Kings',)\"], \"textfont\": {\"color\": \"rgb(0, 0, 0)\"}, \"textposition\": \"middle center\", \"x\": [0.9154066230558345], \"y\": [0.35998936633052314], \"type\": \"scatter\"}, {\"hoverinfo\": \"none\", \"marker\": {\"color\": \"rgba(255, 255, 255, 0.0)\", \"line\": {\"color\": \"rgba(255, 255, 255, 0.0)\", \"width\": 1}, \"size\": 20, \"symbol\": \"circle\"}, \"mode\": \"markers+text\", \"text\": [\"('San Antonio Spurs',)\"], \"textfont\": {\"color\": \"rgb(0, 0, 0)\"}, \"textposition\": \"middle center\", \"x\": [0.676419494408939], \"y\": [0.5087024352919418], \"type\": \"scatter\"}, {\"hoverinfo\": \"none\", \"marker\": {\"color\": \"rgba(255, 255, 255, 0.0)\", \"line\": {\"color\": \"rgba(255, 255, 255, 0.0)\", \"width\": 1}, \"size\": 20, \"symbol\": \"circle\"}, \"mode\": \"markers+text\", \"text\": [\"('Toronto Raptors',)\"], \"textfont\": {\"color\": \"rgb(0, 0, 0)\"}, \"textposition\": \"middle center\", \"x\": [0.5332006349196151], \"y\": [0.7547792558606273], \"type\": \"scatter\"}, {\"hoverinfo\": \"none\", \"marker\": {\"color\": \"rgba(255, 255, 255, 0.0)\", \"line\": {\"color\": \"rgba(255, 255, 255, 0.0)\", \"width\": 1}, \"size\": 20, \"symbol\": \"circle\"}, \"mode\": \"markers+text\", \"text\": [\"('Utah Jazz',)\"], \"textfont\": {\"color\": \"rgb(0, 0, 0)\"}, \"textposition\": \"middle center\", \"x\": [0.06475610002878784], \"y\": [0.12034230758596098], \"type\": \"scatter\"}, {\"hoverinfo\": \"none\", \"marker\": {\"color\": \"rgba(255, 255, 255, 0.0)\", \"line\": {\"color\": \"rgba(255, 255, 255, 0.0)\", \"width\": 1}, \"size\": 20, \"symbol\": \"circle\"}, \"mode\": \"markers+text\", \"text\": [\"('Washington Wizards',)\"], \"textfont\": {\"color\": \"rgb(0, 0, 0)\"}, \"textposition\": \"middle center\", \"x\": [0.575551936239528], \"y\": [0.015481259445679019], \"type\": \"scatter\"}, {\"hoverinfo\": \"none\", \"mode\": \"text\", \"text\": [null, null, null, null], \"textfont\": {\"color\": \"rgb(0, 0, 0)\"}, \"textposition\": \"middle center\", \"x\": [0.4865250548693415, 0.7049348028802207, 0.26840006987955045, 0.2844811269540348], \"y\": [0.3241299597239443, 0.710032631160856, 0.7894296439202392, 0.3829938624958805], \"type\": \"scatter\"}, {\"hoverinfo\": \"none\", \"marker\": {\"color\": \"rgba(255, 255, 255, 0.0)\", \"line\": {\"color\": \"rgba(255, 255, 255, 0.0)\", \"width\": 0}, \"size\": 0, \"symbol\": \"circle\"}, \"mode\": \"markers\", \"x\": [0.5, 0.0, 1.0, 0.5], \"y\": [0.0, 0.5, 0.5, 1.0], \"type\": \"scatter\"}], \"name\": \"0\"}, {\"data\": [{\"hoverinfo\": \"none\", \"line\": {\"color\": \"rgb(0, 0, 0)\", \"dash\": \"solid\", \"width\": 1}, \"mode\": \"lines\", \"x\": [0.9000353191022225, 0.06475610002878784, null, 0.07851773679967733, 0.09288503553456648, null, 0.07851773679967733, 0.09044442557943497, null], \"y\": [0.578196347780768, 0.12034230758596098, null, 0.12788567853470145, 0.12766294483833995, null, 0.12788567853470145, 0.14252132726774655, null], \"type\": \"scatter\"}, {\"hoverinfo\": \"none\", \"line\": {\"color\": \"rgb(0, 0, 0)\", \"dash\": \"solid\", \"width\": 1}, \"mode\": \"lines\", \"x\": [0.5107295056086786, 0.9142358226699291, null, 0.902010278523927, 0.8881002245827, null, 0.902010278523927, 0.8925613156209706, null], \"y\": [0.4601580107920312, 0.9152406965395632, null, 0.9014524775465924, 0.8948800236033175, null, 0.9014524775465924, 0.8816801540417879, null], \"type\": \"scatter\"}, {\"hoverinfo\": \"none\", \"line\": {\"color\": \"rgb(0, 0, 0)\", \"dash\": \"solid\", \"width\": 1}, \"mode\": \"lines\", \"x\": [0.00310060136949708, 0.5332006349196151, null, 0.5188349844615217, 0.5051846724171586, null, 0.5188349844615217, 0.5050372363606034, null], \"y\": [0.771594505896738, 0.7547792558606273, null, 0.7552349472190422, 0.7634255525589204, null, 0.7552349472190422, 0.7479150190441097, null], \"type\": \"scatter\"}, {\"hoverinfo\": \"none\", \"line\": {\"color\": \"rgb(0, 0, 0)\", \"dash\": \"solid\", \"width\": 1}, \"mode\": \"lines\", \"x\": [0.06475610002878784, 0.518601108574592, null, 0.5061660589533719, 0.49215940231291344, null, 0.5061660589533719, 0.49641340229935216, null], \"y\": [0.12034230758596098, 0.6002134250889016, null, 0.5870652774931853, 0.5812174082098515, null, 0.5870652774931853, 0.5677913364513252, null], \"type\": \"scatter\"}, {\"hoverinfo\": \"none\", \"marker\": {\"color\": \"rgb(255, 0, 0)\", \"line\": {\"color\": \"rgb(0, 0, 0)\", \"width\": 1}, \"size\": 20, \"symbol\": \"circle\"}, \"mode\": \"markers+text\", \"text\": [\"('Atlanta Hawks',)\"], \"textfont\": {\"color\": \"rgb(0, 0, 0)\"}, \"textposition\": \"middle center\", \"x\": [0.9528918051655421], \"y\": [0.06925916751235628], \"type\": \"scatter\"}, {\"hoverinfo\": \"none\", \"marker\": {\"color\": \"rgb(255, 0, 0)\", \"line\": {\"color\": \"rgb(0, 0, 0)\", \"width\": 1}, \"size\": 20, \"symbol\": \"circle\"}, \"mode\": \"markers+text\", \"text\": [\"('Boston Celtics',)\"], \"textfont\": {\"color\": \"rgb(0, 0, 0)\"}, \"textposition\": \"middle center\", \"x\": [0.9000353191022225], \"y\": [0.578196347780768], \"type\": \"scatter\"}, {\"hoverinfo\": \"none\", \"marker\": {\"color\": \"rgb(255, 0, 0)\", \"line\": {\"color\": \"rgb(0, 0, 0)\", \"width\": 1}, \"size\": 20, \"symbol\": \"circle\"}, \"mode\": \"markers+text\", \"text\": [\"('Brooklyn Nets',)\"], \"textfont\": {\"color\": \"rgb(0, 0, 0)\"}, \"textposition\": \"middle center\", \"x\": [0.1928078315656524], \"y\": [0.38049595508786327], \"type\": \"scatter\"}, {\"hoverinfo\": \"none\", \"marker\": {\"color\": \"rgb(255, 0, 0)\", \"line\": {\"color\": \"rgb(0, 0, 0)\", \"width\": 1}, \"size\": 20, \"symbol\": \"circle\"}, \"mode\": \"markers+text\", \"text\": [\"('Charlotte Hornets',)\"], \"textfont\": {\"color\": \"rgb(0, 0, 0)\"}, \"textposition\": \"middle center\", \"x\": [0.1307901879954193], \"y\": [0.28369796536360437], \"type\": \"scatter\"}, {\"hoverinfo\": \"none\", \"marker\": {\"color\": \"rgb(255, 0, 0)\", \"line\": {\"color\": \"rgb(0, 0, 0)\", \"width\": 1}, \"size\": 20, \"symbol\": \"circle\"}, \"mode\": \"markers+text\", \"text\": [\"('Chicago Bulls',)\"], \"textfont\": {\"color\": \"rgb(0, 0, 0)\"}, \"textposition\": \"middle center\", \"x\": [0.19029450047865482], \"y\": [0.9332830312504907], \"type\": \"scatter\"}, {\"hoverinfo\": \"none\", \"marker\": {\"color\": \"rgb(255, 0, 0)\", \"line\": {\"color\": \"rgb(0, 0, 0)\", \"width\": 1}, \"size\": 20, \"symbol\": \"circle\"}, \"mode\": \"markers+text\", \"text\": [\"('Cleveland Cavaliers',)\"], \"textfont\": {\"color\": \"rgb(0, 0, 0)\"}, \"textposition\": \"middle center\", \"x\": [0.816919398835723], \"y\": [0.48881133528061493], \"type\": \"scatter\"}, {\"hoverinfo\": \"none\", \"marker\": {\"color\": \"rgb(255, 0, 0)\", \"line\": {\"color\": \"rgb(0, 0, 0)\", \"width\": 1}, \"size\": 20, \"symbol\": \"circle\"}, \"mode\": \"markers+text\", \"text\": [\"('Dallas Mavericks',)\"], \"textfont\": {\"color\": \"rgb(0, 0, 0)\"}, \"textposition\": \"middle center\", \"x\": [0.8837074202123242], \"y\": [0.5099693334584041], \"type\": \"scatter\"}, {\"hoverinfo\": \"none\", \"marker\": {\"color\": \"rgb(255, 0, 0)\", \"line\": {\"color\": \"rgb(0, 0, 0)\", \"width\": 1}, \"size\": 20, \"symbol\": \"circle\"}, \"mode\": \"markers+text\", \"text\": [\"('Denver Nuggets',)\"], \"textfont\": {\"color\": \"rgb(0, 0, 0)\"}, \"textposition\": \"middle center\", \"x\": [0.8399548418497538], \"y\": [0.4845105005350425], \"type\": \"scatter\"}, {\"hoverinfo\": \"none\", \"marker\": {\"color\": \"rgb(255, 0, 0)\", \"line\": {\"color\": \"rgb(0, 0, 0)\", \"width\": 1}, \"size\": 20, \"symbol\": \"circle\"}, \"mode\": \"markers+text\", \"text\": [\"('Detroit Pistons',)\"], \"textfont\": {\"color\": \"rgb(0, 0, 0)\"}, \"textposition\": \"middle center\", \"x\": [0.08814813941536637], \"y\": [0.6542791901695156], \"type\": \"scatter\"}, {\"hoverinfo\": \"none\", \"marker\": {\"color\": \"rgb(255, 0, 0)\", \"line\": {\"color\": \"rgb(0, 0, 0)\", \"width\": 1}, \"size\": 20, \"symbol\": \"circle\"}, \"mode\": \"markers+text\", \"text\": [\"('Golden State Warriors',)\"], \"textfont\": {\"color\": \"rgb(0, 0, 0)\"}, \"textposition\": \"middle center\", \"x\": [0.6911809004771826], \"y\": [0.27513458637796173], \"type\": \"scatter\"}, {\"hoverinfo\": \"none\", \"marker\": {\"color\": \"rgb(255, 0, 0)\", \"line\": {\"color\": \"rgb(0, 0, 0)\", \"width\": 1}, \"size\": 20, \"symbol\": \"circle\"}, \"mode\": \"markers+text\", \"text\": [\"('Houston Rockets',)\"], \"textfont\": {\"color\": \"rgb(0, 0, 0)\"}, \"textposition\": \"middle center\", \"x\": [0.9142358226699291], \"y\": [0.9152406965395632], \"type\": \"scatter\"}, {\"hoverinfo\": \"none\", \"marker\": {\"color\": \"rgb(255, 0, 0)\", \"line\": {\"color\": \"rgb(0, 0, 0)\", \"width\": 1}, \"size\": 20, \"symbol\": \"circle\"}, \"mode\": \"markers+text\", \"text\": [\"('Indiana Pacers',)\"], \"textfont\": {\"color\": \"rgb(0, 0, 0)\"}, \"textposition\": \"middle center\", \"x\": [0.9789546099706437], \"y\": [0.5449092095603997], \"type\": \"scatter\"}, {\"hoverinfo\": \"none\", \"marker\": {\"color\": \"rgb(255, 0, 0)\", \"line\": {\"color\": \"rgb(0, 0, 0)\", \"width\": 1}, \"size\": 20, \"symbol\": \"circle\"}, \"mode\": \"markers+text\", \"text\": [\"('LA Clippers',)\"], \"textfont\": {\"color\": \"rgb(0, 0, 0)\"}, \"textposition\": \"middle center\", \"x\": [0.5107295056086786], \"y\": [0.4601580107920312], \"type\": \"scatter\"}, {\"hoverinfo\": \"none\", \"marker\": {\"color\": \"rgb(255, 0, 0)\", \"line\": {\"color\": \"rgb(0, 0, 0)\", \"width\": 1}, \"size\": 20, \"symbol\": \"circle\"}, \"mode\": \"markers+text\", \"text\": [\"('Los Angeles Lakers',)\"], \"textfont\": {\"color\": \"rgb(0, 0, 0)\"}, \"textposition\": \"middle center\", \"x\": [0.42059809883729016], \"y\": [0.329051736347859], \"type\": \"scatter\"}, {\"hoverinfo\": \"none\", \"marker\": {\"color\": \"rgb(255, 0, 0)\", \"line\": {\"color\": \"rgb(0, 0, 0)\", \"width\": 1}, \"size\": 20, \"symbol\": \"circle\"}, \"mode\": \"markers+text\", \"text\": [\"('Memphis Grizzlies',)\"], \"textfont\": {\"color\": \"rgb(0, 0, 0)\"}, \"textposition\": \"middle center\", \"x\": [0.41840435594174674], \"y\": [0.2903369941100492], \"type\": \"scatter\"}, {\"hoverinfo\": \"none\", \"marker\": {\"color\": \"rgb(255, 0, 0)\", \"line\": {\"color\": \"rgb(0, 0, 0)\", \"width\": 1}, \"size\": 20, \"symbol\": \"circle\"}, \"mode\": \"markers+text\", \"text\": [\"('Miami Heat',)\"], \"textfont\": {\"color\": \"rgb(0, 0, 0)\"}, \"textposition\": \"middle center\", \"x\": [0.4346755564551269], \"y\": [0.005414023680544], \"type\": \"scatter\"}, {\"hoverinfo\": \"none\", \"marker\": {\"color\": \"rgb(255, 0, 0)\", \"line\": {\"color\": \"rgb(0, 0, 0)\", \"width\": 1}, \"size\": 20, \"symbol\": \"circle\"}, \"mode\": \"markers+text\", \"text\": [\"('Milwaukee Bucks',)\"], \"textfont\": {\"color\": \"rgb(0, 0, 0)\"}, \"textposition\": \"middle center\", \"x\": [0.28636996370159185], \"y\": [0.29522182412135256], \"type\": \"scatter\"}, {\"hoverinfo\": \"none\", \"marker\": {\"color\": \"rgb(255, 0, 0)\", \"line\": {\"color\": \"rgb(0, 0, 0)\", \"width\": 1}, \"size\": 20, \"symbol\": \"circle\"}, \"mode\": \"markers+text\", \"text\": [\"('Minnesota Timberwolves',)\"], \"textfont\": {\"color\": \"rgb(0, 0, 0)\"}, \"textposition\": \"middle center\", \"x\": [0.00310060136949708], \"y\": [0.771594505896738], \"type\": \"scatter\"}, {\"hoverinfo\": \"none\", \"marker\": {\"color\": \"rgb(255, 0, 0)\", \"line\": {\"color\": \"rgb(0, 0, 0)\", \"width\": 1}, \"size\": 20, \"symbol\": \"circle\"}, \"mode\": \"markers+text\", \"text\": [\"('New Orleans Pelicans',)\"], \"textfont\": {\"color\": \"rgb(0, 0, 0)\"}, \"textposition\": \"middle center\", \"x\": [0.9454264441626102], \"y\": [0.29188003344611047], \"type\": \"scatter\"}, {\"hoverinfo\": \"none\", \"marker\": {\"color\": \"rgb(255, 0, 0)\", \"line\": {\"color\": \"rgb(0, 0, 0)\", \"width\": 1}, \"size\": 20, \"symbol\": \"circle\"}, \"mode\": \"markers+text\", \"text\": [\"('New York Knicks',)\"], \"textfont\": {\"color\": \"rgb(0, 0, 0)\"}, \"textposition\": \"middle center\", \"x\": [0.4961091002153274], \"y\": [0.5803632634141122], \"type\": \"scatter\"}, {\"hoverinfo\": \"none\", \"marker\": {\"color\": \"rgb(255, 0, 0)\", \"line\": {\"color\": \"rgb(0, 0, 0)\", \"width\": 1}, \"size\": 20, \"symbol\": \"circle\"}, \"mode\": \"markers+text\", \"text\": [\"('Oklahoma City Thunder',)\"], \"textfont\": {\"color\": \"rgb(0, 0, 0)\"}, \"textposition\": \"middle center\", \"x\": [0.526671320080307], \"y\": [0.739468101082775], \"type\": \"scatter\"}, {\"hoverinfo\": \"none\", \"marker\": {\"color\": \"rgb(255, 0, 0)\", \"line\": {\"color\": \"rgb(0, 0, 0)\", \"width\": 1}, \"size\": 20, \"symbol\": \"circle\"}, \"mode\": \"markers+text\", \"text\": [\"('Orlando Magic',)\"], \"textfont\": {\"color\": \"rgb(0, 0, 0)\"}, \"textposition\": \"middle center\", \"x\": [0.9094307078236904], \"y\": [0.9700673598710964], \"type\": \"scatter\"}, {\"hoverinfo\": \"none\", \"marker\": {\"color\": \"rgb(255, 0, 0)\", \"line\": {\"color\": \"rgb(0, 0, 0)\", \"width\": 1}, \"size\": 20, \"symbol\": \"circle\"}, \"mode\": \"markers+text\", \"text\": [\"('Philadelphia 76ers',)\"], \"textfont\": {\"color\": \"rgb(0, 0, 0)\"}, \"textposition\": \"middle center\", \"x\": [0.38361118843496544], \"y\": [0.8161578740602545], \"type\": \"scatter\"}, {\"hoverinfo\": \"none\", \"marker\": {\"color\": \"rgb(255, 0, 0)\", \"line\": {\"color\": \"rgb(0, 0, 0)\", \"width\": 1}, \"size\": 20, \"symbol\": \"circle\"}, \"mode\": \"markers+text\", \"text\": [\"('Phoenix Suns',)\"], \"textfont\": {\"color\": \"rgb(0, 0, 0)\"}, \"textposition\": \"middle center\", \"x\": [0.518601108574592], \"y\": [0.6002134250889016], \"type\": \"scatter\"}, {\"hoverinfo\": \"none\", \"marker\": {\"color\": \"rgb(255, 0, 0)\", \"line\": {\"color\": \"rgb(0, 0, 0)\", \"width\": 1}, \"size\": 20, \"symbol\": \"circle\"}, \"mode\": \"markers+text\", \"text\": [\"('Portland Trail Blazers',)\"], \"textfont\": {\"color\": \"rgb(0, 0, 0)\"}, \"textposition\": \"middle center\", \"x\": [0.8675595510805824], \"y\": [0.37657134631076716], \"type\": \"scatter\"}, {\"hoverinfo\": \"none\", \"marker\": {\"color\": \"rgb(255, 0, 0)\", \"line\": {\"color\": \"rgb(0, 0, 0)\", \"width\": 1}, \"size\": 20, \"symbol\": \"circle\"}, \"mode\": \"markers+text\", \"text\": [\"('Sacramento Kings',)\"], \"textfont\": {\"color\": \"rgb(0, 0, 0)\"}, \"textposition\": \"middle center\", \"x\": [0.9154066230558345], \"y\": [0.35998936633052314], \"type\": \"scatter\"}, {\"hoverinfo\": \"none\", \"marker\": {\"color\": \"rgb(255, 0, 0)\", \"line\": {\"color\": \"rgb(0, 0, 0)\", \"width\": 1}, \"size\": 20, \"symbol\": \"circle\"}, \"mode\": \"markers+text\", \"text\": [\"('San Antonio Spurs',)\"], \"textfont\": {\"color\": \"rgb(0, 0, 0)\"}, \"textposition\": \"middle center\", \"x\": [0.676419494408939], \"y\": [0.5087024352919418], \"type\": \"scatter\"}, {\"hoverinfo\": \"none\", \"marker\": {\"color\": \"rgb(255, 0, 0)\", \"line\": {\"color\": \"rgb(0, 0, 0)\", \"width\": 1}, \"size\": 20, \"symbol\": \"circle\"}, \"mode\": \"markers+text\", \"text\": [\"('Toronto Raptors',)\"], \"textfont\": {\"color\": \"rgb(0, 0, 0)\"}, \"textposition\": \"middle center\", \"x\": [0.5332006349196151], \"y\": [0.7547792558606273], \"type\": \"scatter\"}, {\"hoverinfo\": \"none\", \"marker\": {\"color\": \"rgb(255, 0, 0)\", \"line\": {\"color\": \"rgb(0, 0, 0)\", \"width\": 1}, \"size\": 20, \"symbol\": \"circle\"}, \"mode\": \"markers+text\", \"text\": [\"('Utah Jazz',)\"], \"textfont\": {\"color\": \"rgb(0, 0, 0)\"}, \"textposition\": \"middle center\", \"x\": [0.06475610002878784], \"y\": [0.12034230758596098], \"type\": \"scatter\"}, {\"hoverinfo\": \"none\", \"marker\": {\"color\": \"rgb(255, 0, 0)\", \"line\": {\"color\": \"rgb(0, 0, 0)\", \"width\": 1}, \"size\": 20, \"symbol\": \"circle\"}, \"mode\": \"markers+text\", \"text\": [\"('Washington Wizards',)\"], \"textfont\": {\"color\": \"rgb(0, 0, 0)\"}, \"textposition\": \"middle center\", \"x\": [0.575551936239528], \"y\": [0.015481259445679019], \"type\": \"scatter\"}, {\"hoverinfo\": \"none\", \"mode\": \"text\", \"text\": [null, null, null, null], \"textfont\": {\"color\": \"rgb(0, 0, 0)\"}, \"textposition\": \"middle center\", \"x\": [0.4865250548693415, 0.7049348028802207, 0.26840006987955045, 0.2844811269540348], \"y\": [0.3241299597239443, 0.710032631160856, 0.7894296439202392, 0.3829938624958805], \"type\": \"scatter\"}, {\"hoverinfo\": \"none\", \"marker\": {\"color\": \"rgba(255, 255, 255, 0.0)\", \"line\": {\"color\": \"rgba(255, 255, 255, 0.0)\", \"width\": 0}, \"size\": 0, \"symbol\": \"circle\"}, \"mode\": \"markers\", \"x\": [0.5, 0.0, 1.0, 0.5], \"y\": [0.0, 0.5, 0.5, 1.0], \"type\": \"scatter\"}], \"name\": \"1\"}]);\n",
       "                        }).then(function(){\n",
       "                            Plotly.animate('c8e5ca07-afc8-494d-a655-8b4d0681fd56', null);\n",
       "                        }).then(function(){\n",
       "                            \n",
       "var gd = document.getElementById('c8e5ca07-afc8-494d-a655-8b4d0681fd56');\n",
       "var x = new MutationObserver(function (mutations, observer) {{\n",
       "        var display = window.getComputedStyle(gd).display;\n",
       "        if (!display || display === 'none') {{\n",
       "            console.log([gd, 'removed!']);\n",
       "            Plotly.purge(gd);\n",
       "            observer.disconnect();\n",
       "        }}\n",
       "}});\n",
       "\n",
       "// Listen for the removal of the full notebook cells\n",
       "var notebookContainer = gd.closest('#notebook-container');\n",
       "if (notebookContainer) {{\n",
       "    x.observe(notebookContainer, {childList: true});\n",
       "}}\n",
       "\n",
       "// Listen for the clearing of the current output cell\n",
       "var outputEl = gd.closest('.output');\n",
       "if (outputEl) {{\n",
       "    x.observe(outputEl, {childList: true});\n",
       "}}\n",
       "\n",
       "                        })\n",
       "                };\n",
       "                });\n",
       "            </script>\n",
       "        </div>"
      ]
     },
     "metadata": {},
     "output_type": "display_data"
    }
   ],
   "source": [
    "a = fm.Animation()\n",
    "g = nx.DiGraph()\n",
    "a.rec(g)\n",
    "\n",
    "transfers = list_all_transfers(connection, 2015)\n",
    "teams = list_all_teams(connection)\n",
    "\n",
    "for team in teams:\n",
    "    add_node(g, team)\n",
    "\n",
    "    \n",
    "#Existem casos em que um time assina com um jogador e na mesma temporada vende ele, vamos ignorar estes casos por enquanto\n",
    "for transfer in transfers:\n",
    "    antigo = get_from_where(connection, transfer[1], transfer[3])\n",
    "    novo = get_team_name(connection, transfer[2])\n",
    "    if(antigo != -1) and (novo != -1):\n",
    "        if(antigo != novo):\n",
    "            id_antigo = get_team_id(connection, antigo)\n",
    "            id_novo = get_team_id(connection, novo)\n",
    "            weight = get_weight(connection, id_antigo, id_novo, 2019)\n",
    "            if(weight == -1):\n",
    "                weight = 0\n",
    "            add_edge(g, antigo, novo, weight)\n",
    "    #else:\n",
    "        #print(antigo, novo)\n",
    "    \n",
    "    \n",
    "a.rec(g)\n",
    "a.play()"
   ]
  },
  {
   "cell_type": "code",
   "execution_count": 8,
   "metadata": {},
   "outputs": [],
   "source": [
    "connection.close()"
   ]
  },
  {
   "cell_type": "code",
   "execution_count": null,
   "metadata": {},
   "outputs": [],
   "source": []
  }
 ],
 "metadata": {
  "kernelspec": {
   "display_name": "Python 3",
   "language": "python",
   "name": "python3"
  },
  "language_info": {
   "codemirror_mode": {
    "name": "ipython",
    "version": 3
   },
   "file_extension": ".py",
   "mimetype": "text/x-python",
   "name": "python",
   "nbconvert_exporter": "python",
   "pygments_lexer": "ipython3",
   "version": "3.6.4"
  }
 },
 "nbformat": 4,
 "nbformat_minor": 2
}
