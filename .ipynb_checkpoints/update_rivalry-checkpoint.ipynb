{
 "cells": [
  {
   "cell_type": "code",
   "execution_count": 61,
   "metadata": {},
   "outputs": [],
   "source": [
    "import pymysql\n",
    "import json\n",
    "import matplotlib.pyplot as plt\n",
    "from functools import partial\n",
    "import csv\n",
    "import networkx as nx\n",
    "import freeman as fm\n",
    "from random import random, choices\n",
    "\n",
    "def run_db_query(connection, query, args=None):\n",
    "    with connection.cursor() as cursor:\n",
    "        print('Executando query:')\n",
    "        cursor.execute(query, args)\n",
    "        for result in cursor:\n",
    "            print(result)\n",
    "            \n",
    "def return_db_results(connection, query, args=None):#Gambiarra para pegar o id\n",
    "    with connection.cursor() as cursor:\n",
    "        cursor.execute(query, args)\n",
    "        for result in cursor:\n",
    "            return result #retorna logo o primeiro\n",
    "        \n",
    "def get_team_id(connection, nome):\n",
    "    with connection.cursor() as cursor:\n",
    "        cursor.execute(\"SELECT id_time FROM times WHERE nome=%s\", (nome))\n",
    "        res = cursor.fetchone()\n",
    "        if res:\n",
    "            return res\n",
    "        else:\n",
    "            return -1\n",
    "\n",
    "def insere_rivalidade(connection, id_time1, id_time2, ano, peso):\n",
    "    with connection.cursor() as cursor:\n",
    "        try:\n",
    "            cursor.execute('INSERT INTO rivalidade (id_time1, id_time2, ano, peso) VALUES (%s, %s, %s, %s)', (id_time1, id_time2, ano, peso))\n",
    "        except Exception as e:\n",
    "            print(e)\n",
    "        \n",
    "connection = pymysql.connect(\n",
    "    host='localhost',\n",
    "    user='root',\n",
    "    password='vlm1998',\n",
    "    database='redes')\n",
    "\n",
    "db = partial(run_db_query, connection)"
   ]
  },
  {
   "cell_type": "code",
   "execution_count": 62,
   "metadata": {},
   "outputs": [
    {
     "name": "stdout",
     "output_type": "stream",
     "text": [
      "(1062, \"Duplicate entry '3-8-2019' for key 'PRIMARY'\")\n",
      "(1062, \"Duplicate entry '3-18-2019' for key 'PRIMARY'\")\n",
      "(1062, \"Duplicate entry '4-26-2019' for key 'PRIMARY'\")\n",
      "(1062, \"Duplicate entry '4-15-2019' for key 'PRIMARY'\")\n",
      "(1062, \"Duplicate entry '4-13-2019' for key 'PRIMARY'\")\n",
      "(1062, \"Duplicate entry '4-21-2019' for key 'PRIMARY'\")\n",
      "(1062, \"Duplicate entry '4-25-2019' for key 'PRIMARY'\")\n",
      "(1062, \"Duplicate entry '6-13-2019' for key 'PRIMARY'\")\n",
      "(1062, \"Duplicate entry '6-30-2019' for key 'PRIMARY'\")\n",
      "(1062, \"Duplicate entry '6-11-2019' for key 'PRIMARY'\")\n",
      "(1062, \"Duplicate entry '7-24-2019' for key 'PRIMARY'\")\n",
      "(1062, \"Duplicate entry '5-8-2019' for key 'PRIMARY'\")\n",
      "(1062, \"Duplicate entry '5-19-2019' for key 'PRIMARY'\")\n",
      "(1062, \"Duplicate entry '5-31-2019' for key 'PRIMARY'\")\n",
      "(1062, \"Duplicate entry '5-27-2019' for key 'PRIMARY'\")\n",
      "(1062, \"Duplicate entry '15-25-2019' for key 'PRIMARY'\")\n",
      "(1062, \"Duplicate entry '13-25-2019' for key 'PRIMARY'\")\n",
      "(1062, \"Duplicate entry '13-30-2019' for key 'PRIMARY'\")\n",
      "(1062, \"Duplicate entry '25-18-2019' for key 'PRIMARY'\")\n",
      "(1062, \"Duplicate entry '24-19-2019' for key 'PRIMARY'\")\n"
     ]
    }
   ],
   "source": [
    "with open(\"rivalidades2019.json\", \"r\") as f:\n",
    "    data = json.load(f)\n",
    "    dict_temp = {}\n",
    "    lista = []\n",
    "    counter = 0\n",
    "    for key, value in data.items():\n",
    "        if(len(value)>1):\n",
    "            if(counter == 1):\n",
    "                for i in range(len(value)):\n",
    "                    lista.append(value[i])\n",
    "                counter = 2\n",
    "            elif(counter == 0):\n",
    "                counter = 1\n",
    "                for i in range(len(value)):\n",
    "                    dict_temp[(value[i][0], value[i][1])] = 0\n",
    "    i = 0\n",
    "    for key, value in dict_temp.items():\n",
    "        dict_temp[key] = lista[i][0]\n",
    "        i+=1\n",
    "#print(dict_temp)\n",
    "for key, value in dict_temp.items():\n",
    "    id_time1 = get_team_id(connection, key[0])\n",
    "    id_time2 = get_team_id(connection, key[1])\n",
    "    insere_rivalidade(connection, id_time1, id_time2, 2019, value)"
   ]
  },
  {
   "cell_type": "code",
   "execution_count": 63,
   "metadata": {},
   "outputs": [
    {
     "name": "stdout",
     "output_type": "stream",
     "text": [
      "(1062, \"Duplicate entry '3-8-2018' for key 'PRIMARY'\")\n",
      "(1062, \"Duplicate entry '3-18-2018' for key 'PRIMARY'\")\n",
      "(1062, \"Duplicate entry '4-26-2018' for key 'PRIMARY'\")\n",
      "(1062, \"Duplicate entry '4-27-2018' for key 'PRIMARY'\")\n",
      "(1062, \"Duplicate entry '6-1-2018' for key 'PRIMARY'\")\n",
      "(1062, \"Duplicate entry '6-13-2018' for key 'PRIMARY'\")\n",
      "(1062, \"Duplicate entry '6-30-2018' for key 'PRIMARY'\")\n",
      "(1062, \"Duplicate entry '6-11-2018' for key 'PRIMARY'\")\n",
      "(1062, \"Duplicate entry '7-24-2018' for key 'PRIMARY'\")\n",
      "(1062, \"Duplicate entry '5-31-2018' for key 'PRIMARY'\")\n",
      "(1062, \"Duplicate entry '5-27-2018' for key 'PRIMARY'\")\n",
      "(1062, \"Duplicate entry '15-25-2018' for key 'PRIMARY'\")\n",
      "(1062, \"Duplicate entry '8-18-2018' for key 'PRIMARY'\")\n",
      "(1062, \"Duplicate entry '13-25-2018' for key 'PRIMARY'\")\n",
      "(1062, \"Duplicate entry '13-30-2018' for key 'PRIMARY'\")\n",
      "(1062, \"Duplicate entry '21-14-2018' for key 'PRIMARY'\")\n",
      "(1062, \"Duplicate entry '25-18-2018' for key 'PRIMARY'\")\n",
      "(1062, \"Duplicate entry '24-19-2018' for key 'PRIMARY'\")\n"
     ]
    }
   ],
   "source": [
    "with open(\"rivalidadesAntigas.json\", \"r\") as f:\n",
    "    data = json.load(f)\n",
    "    dict_temp = {}\n",
    "    lista = []\n",
    "    counter = 0\n",
    "    for key, value in data.items():\n",
    "        if(len(value)>1):\n",
    "            if(counter == 1):\n",
    "                for i in range(len(value)):\n",
    "                    lista.append(value[i])\n",
    "                counter = 2\n",
    "            elif(counter == 0):\n",
    "                counter = 1\n",
    "                for i in range(len(value)):\n",
    "                    dict_temp[(value[i][0], value[i][1])] = 0\n",
    "    i = 0\n",
    "    for key, value in dict_temp.items():\n",
    "        dict_temp[key] = lista[i][0]\n",
    "        i+=1\n",
    "#print(dict_temp)\n",
    "for key, value in dict_temp.items():\n",
    "    id_time1 = get_team_id(connection, key[0])\n",
    "    id_time2 = get_team_id(connection, key[1])\n",
    "    insere_rivalidade(connection, id_time1, id_time2, 2018, value)"
   ]
  },
  {
   "cell_type": "code",
   "execution_count": 67,
   "metadata": {},
   "outputs": [
    {
     "name": "stdout",
     "output_type": "stream",
     "text": [
      "Executando query:\n",
      "(306,)\n",
      "Executando query:\n"
     ]
    }
   ],
   "source": [
    "db('SELECT COUNT(*) FROM rivalidade WHERE peso!=0')\n",
    "db('COMMIT')"
   ]
  },
  {
   "cell_type": "code",
   "execution_count": 68,
   "metadata": {},
   "outputs": [],
   "source": [
    "connection.close()"
   ]
  },
  {
   "cell_type": "code",
   "execution_count": null,
   "metadata": {},
   "outputs": [],
   "source": []
  }
 ],
 "metadata": {
  "kernelspec": {
   "display_name": "Python 3",
   "language": "python",
   "name": "python3"
  },
  "language_info": {
   "codemirror_mode": {
    "name": "ipython",
    "version": 3
   },
   "file_extension": ".py",
   "mimetype": "text/x-python",
   "name": "python",
   "nbconvert_exporter": "python",
   "pygments_lexer": "ipython3",
   "version": "3.6.4"
  }
 },
 "nbformat": 4,
 "nbformat_minor": 2
}
