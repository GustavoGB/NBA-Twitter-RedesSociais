{
 "cells": [
  {
   "cell_type": "markdown",
   "metadata": {},
   "source": [
    "Intradivisional rivalries comprise games between opponents in the same NBA division. Since the 2004–05 NBA season, there are 30 teams in six divisions of five teams each. Each team plays each division opponent four times during the regular season (twice at home, twice away) for a total of sixteen games out of 82 total regular season games. \n",
    "\n",
    "Interdivisional rivalries comprise games between opponents in different divisions but within the same conference. A team plays against each team from the other two divisions in its conference either three or four times. The total interdivisional games an NBA team plays is 36. Conference games are often important, as a team's record in common games, as well as its overall record against its conference, are sometimes used as tiebreakers for playoff seeding at the end of the regular season. Also, many regular season opponents have met again in the playoffs, and the result of a regular season game can affect where the playoff game will be played. \n",
    "\n",
    "Interconference rivalries comprise games between opponents in different conferences. A team plays each opponent from the other conference in one home game and one away game. "
   ]
  },
  {
   "cell_type": "code",
   "execution_count": 1,
   "metadata": {},
   "outputs": [],
   "source": [
    "dict_intra_leste = {\"Boston Celtics\":\"Philadelphia 76ers\", \"Boston Celtics\" : \"New York Knicks\", \n",
    "                   \"Boston Celtics\" :  \"Brooklyn Nets\", \"Brooklyn Nets\" :  \"New York Knicks\", \n",
    "                  \"New York Knicks\" : \"Philadelphia 76ers\", \"Chicago Bulls\" : \"Detroit Pistons\",\n",
    "                \"Chicago Bulls\" :  \"Milwaukee Bucks\", \"Chicago Bulls\" : \"Indiana Pacers\", \n",
    "                \"Indiana Pacers\" : \"Detroit Pistons\", \"Miami Heat\" : \"Orlando Magic\",\n",
    "                    \"Boston Celtics\" : \"Detroit Pistons\", \"Boston Celtics\" : \"Orlando Magic\",\n",
    "                    \"Boston Celtics\" : \"Chicago Bulls\", \"Boston Celtics\" : \"Atlanta Hawks\",\n",
    "                    \"Boston Celtics\" : \"Miami Heat\", \"Chicago Bulls\" : \"Miami Heat\",\n",
    "                    \"Chicago Bulls\" : \"New York Knicks\", \"Cleveland Cavaliers\" : \"Orlando Magic\",\n",
    "                    \"Cleveland Cavaliers\" : \"Washington Wizards\", \"Cleveland Cavaliers\" : \"Miami Heat\",\n",
    "                    \"Indiana Pacers\" : \"New York Knicks\", \"Miami Heat\" : \"New York Knicks\"}\n",
    "\n",
    "dict_intra_oeste = {\"Los Angeles Lakers\" : \"Los Angeles Clippers\", \"Los Angeles Lakers\" : \"Phoenix Suns\",\n",
    "                   \"Los Angeles Lakers\" : \"Sacramento Kings\", \"Houston Rockets\" : \"San Antonio Spurs\",\n",
    "                   \"San Antonio Spurs\" : \"Dallas Mavericks\", \"Houston Rockets\" : \"Utah Jazz\", \n",
    "                    \"San Antonio Spurs\" : \"Los Angeles Lakers\", \n",
    "                    \"San Antonio Spurs\" : \"Phoenix Suns\", \"Dallas Mavericks\" : \"Phoenix Suns\", \n",
    "                    \"Phoenix Suns\" : \"Portland Trail Blazers\"}\n",
    "\n",
    "dict_biggest = {\"Boston Celtics\" : \"Los Angeles Lakers\", \"Los Angeles Lakers\" : \"Philadelphia 76ers\",\n",
    "                \"Boston Celtics\" : \"Philadelphia 76ers\",\"Los Angeles Lakers\" : \"Detroit Pistons\", \n",
    "                \"Milwaukee Bucks\" : \"Minnesota Timberwolves\", \n",
    "                \"Chicago Bulls\" : \"Utah Jazz\", \"Cleveland Cavaliers\" : \"Golden State Warriors\",\n",
    "                \"Chicago Bulls\" : \"Detroit Pistons\",\"San Antonio Spurs\" : \"Los Angeles Lakers\"\n",
    "}\n"
   ]
  },
  {
   "cell_type": "code",
   "execution_count": null,
   "metadata": {},
   "outputs": [],
   "source": [
    "# https://basketball.fandom.com/wiki/Rivalries_of_the_NBA\n",
    "#"
   ]
  }
 ],
 "metadata": {
  "kernelspec": {
   "display_name": "Python 3",
   "language": "python",
   "name": "python3"
  },
  "language_info": {
   "codemirror_mode": {
    "name": "ipython",
    "version": 3
   },
   "file_extension": ".py",
   "mimetype": "text/x-python",
   "name": "python",
   "nbconvert_exporter": "python",
   "pygments_lexer": "ipython3",
   "version": "3.6.4"
  }
 },
 "nbformat": 4,
 "nbformat_minor": 2
}
