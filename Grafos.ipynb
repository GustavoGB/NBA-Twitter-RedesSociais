{
 "cells": [
  {
   "cell_type": "code",
   "execution_count": 9,
   "metadata": {},
   "outputs": [],
   "source": [
    "import pymysql\n",
    "import json\n",
    "from functools import partial\n",
    "import csv\n",
    "import networkx as nx\n",
    "import freeman as fm\n",
    "from random import random, choices\n",
    "def run_db_query(connection, query, args=None):\n",
    "    with connection.cursor() as cursor:\n",
    "        print('Executando query:')\n",
    "        cursor.execute(query, args)\n",
    "        for result in cursor:\n",
    "            print(result)\n",
    "            \n",
    "def return_db_results(connection, query, args=None):#Gambiarra para pegar o id\n",
    "    with connection.cursor() as cursor:\n",
    "        cursor.execute(query, args)\n",
    "        for result in cursor:\n",
    "            return result #retorna logo o primeiro\n",
    "\n",
    "def multiple_db_results(connection, query, args=None):#Gambiarra para pegar o id\n",
    "    with connection.cursor() as cursor:\n",
    "        cursor.execute(query, args)\n",
    "        res = cursor.fetchall()\n",
    "        return res\n",
    "\n",
    "connection = pymysql.connect(\n",
    "    host='localhost',\n",
    "    user='root',\n",
    "    password='vlm1998',\n",
    "    database='redes')\n",
    "\n",
    "db = partial(run_db_query, connection)"
   ]
  },
  {
   "cell_type": "code",
   "execution_count": 10,
   "metadata": {},
   "outputs": [],
   "source": [
    "def add_node(g, n):\n",
    "    g.add_node(n)\n",
    "    g.nodes[n]['pos'] = (random(), random())\n",
    "    g.nodes[n]['label'] = n\n",
    "    g.nodes[n]['color'] = (255, 0, 0)\n",
    "\n",
    "def add_edge(g, n, m, peso):\n",
    "    print(\"De: \", n, \"para: \", m, \"peso: \", peso)\n",
    "    g.add_edge(n, m)\n",
    "    g[n][m]['weight'] = peso\n",
    "\n",
    "def get_team_name(connection, id_team):\n",
    "    with connection.cursor() as cursor:\n",
    "        cursor.execute(\"SELECT nome FROM times WHERE id_time = %s\", (id_team))\n",
    "        res = cursor.fetchone()\n",
    "        if res:\n",
    "            return res\n",
    "        else:\n",
    "            return -1\n",
    "def get_team_id(connection, nome):\n",
    "    with connection.cursor() as cursor:\n",
    "        cursor.execute(\"SELECT id_time FROM times WHERE nome=%s\", (nome))\n",
    "        res = cursor.fetchone()\n",
    "        if res:\n",
    "            return res\n",
    "        else:\n",
    "            return -1\n",
    "def list_all_teams(connection):\n",
    "    with connection.cursor() as cursor:\n",
    "        cursor.execute(\"SELECT nome FROM times\")\n",
    "        res = cursor.fetchall()\n",
    "        return res\n",
    "def list_all_transfers(connection, ano):\n",
    "    with connection.cursor() as cursor:\n",
    "        cursor.execute(\"SELECT * FROM transferencia WHERE ano=%s\", (ano))\n",
    "        res = cursor.fetchall()\n",
    "        return res\n",
    "def get_from_where(connection, id_jogador, ano):\n",
    "    with connection.cursor() as cursor:\n",
    "        cursor.execute(\"SELECT times.nome FROM waived INNER JOIN times USING(id_time) WHERE id_jogador = %s AND ano = %s \", (id_jogador, str(ano)))\n",
    "        res = cursor.fetchone()\n",
    "        if res:\n",
    "            return res\n",
    "        else:\n",
    "            return -1\n",
    "\n",
    "def get_weight(connection, id_time1, id_time2, ano):\n",
    "    with connection.cursor() as cursor:\n",
    "        cursor.execute(\"SELECT peso FROM rivalidade WHERE id_time1=%s AND id_time2=%s AND ano=%s\", (id_time1, id_time2, ano))\n",
    "        res = cursor.fetchall()\n",
    "        if res:\n",
    "            return res\n",
    "        else: #Pode ser que os nomes estejam invertidos nao sei\n",
    "            cursor.execute(\"SELECT peso FROM rivalidade WHERE id_time1=%s AND id_time2=%s AND ano=%s\", (id_time2, id_time1, ano))\n",
    "            if res:\n",
    "                return res\n",
    "            return -1\n"
   ]
  },
  {
   "cell_type": "code",
   "execution_count": 13,
   "metadata": {},
   "outputs": [
    {
     "name": "stdout",
     "output_type": "stream",
     "text": [
      "De:  ('Miami Heat',) para:  ('Houston Rockets',) peso:  0\n",
      "De:  ('Miami Heat',) para:  ('Houston Rockets',) peso:  0\n",
      "De:  ('Miami Heat',) para:  ('Houston Rockets',) peso:  0\n",
      "De:  ('Miami Heat',) para:  ('Houston Rockets',) peso:  0\n",
      "De:  ('Miami Heat',) para:  ('Houston Rockets',) peso:  0\n",
      "De:  ('Miami Heat',) para:  ('Houston Rockets',) peso:  0\n",
      "De:  ('Atlanta Hawks',) para:  ('Houston Rockets',) peso:  0\n",
      "De:  ('Atlanta Hawks',) para:  ('Houston Rockets',) peso:  0\n",
      "De:  ('Atlanta Hawks',) para:  ('Houston Rockets',) peso:  0\n",
      "De:  ('Atlanta Hawks',) para:  ('Houston Rockets',) peso:  0\n",
      "De:  ('Atlanta Hawks',) para:  ('Houston Rockets',) peso:  0\n",
      "De:  ('Atlanta Hawks',) para:  ('Houston Rockets',) peso:  0\n",
      "De:  ('New York Knicks',) para:  ('Washington Wizards',) peso:  0\n",
      "De:  ('New York Knicks',) para:  ('Washington Wizards',) peso:  0\n",
      "De:  ('New York Knicks',) para:  ('Washington Wizards',) peso:  0\n",
      "De:  ('New York Knicks',) para:  ('Washington Wizards',) peso:  0\n",
      "De:  ('New York Knicks',) para:  ('Washington Wizards',) peso:  0\n",
      "De:  ('New York Knicks',) para:  ('Washington Wizards',) peso:  0\n",
      "De:  ('LA Clippers',) para:  ('Los Angeles Lakers',) peso:  0\n",
      "De:  ('LA Clippers',) para:  ('Los Angeles Lakers',) peso:  0\n",
      "De:  ('LA Clippers',) para:  ('Los Angeles Lakers',) peso:  0\n",
      "De:  ('LA Clippers',) para:  ('Los Angeles Lakers',) peso:  0\n",
      "De:  ('LA Clippers',) para:  ('Los Angeles Lakers',) peso:  0\n",
      "De:  ('LA Clippers',) para:  ('Los Angeles Lakers',) peso:  0\n",
      "De:  ('Atlanta Hawks',) para:  ('San Antonio Spurs',) peso:  0\n",
      "De:  ('Atlanta Hawks',) para:  ('San Antonio Spurs',) peso:  0\n",
      "De:  ('Atlanta Hawks',) para:  ('San Antonio Spurs',) peso:  0\n",
      "De:  ('Atlanta Hawks',) para:  ('San Antonio Spurs',) peso:  0\n",
      "De:  ('Atlanta Hawks',) para:  ('San Antonio Spurs',) peso:  0\n",
      "De:  ('Atlanta Hawks',) para:  ('Philadelphia 76ers',) peso:  0\n",
      "De:  ('Los Angeles Lakers',) para:  ('Golden State Warriors',) peso:  0\n",
      "De:  ('Los Angeles Lakers',) para:  ('Golden State Warriors',) peso:  0\n",
      "De:  ('Los Angeles Lakers',) para:  ('Golden State Warriors',) peso:  0\n",
      "De:  ('Los Angeles Lakers',) para:  ('Golden State Warriors',) peso:  0\n",
      "De:  ('Los Angeles Lakers',) para:  ('Golden State Warriors',) peso:  0\n",
      "De:  ('Memphis Grizzlies',) para:  ('Los Angeles Lakers',) peso:  0\n",
      "De:  ('Memphis Grizzlies',) para:  ('Los Angeles Lakers',) peso:  0\n",
      "De:  ('Memphis Grizzlies',) para:  ('Los Angeles Lakers',) peso:  0\n",
      "De:  ('Memphis Grizzlies',) para:  ('Los Angeles Lakers',) peso:  0\n",
      "De:  ('Memphis Grizzlies',) para:  ('Los Angeles Lakers',) peso:  0\n",
      "De:  ('Memphis Grizzlies',) para:  ('Los Angeles Lakers',) peso:  0\n",
      "De:  ('Los Angeles Lakers',) para:  ('Philadelphia 76ers',) peso:  ((1.0,),)\n",
      "De:  ('Los Angeles Lakers',) para:  ('Philadelphia 76ers',) peso:  ((1.0,),)\n",
      "De:  ('Los Angeles Lakers',) para:  ('Philadelphia 76ers',) peso:  ((1.0,),)\n",
      "De:  ('Los Angeles Lakers',) para:  ('Philadelphia 76ers',) peso:  ((1.0,),)\n",
      "De:  ('Los Angeles Lakers',) para:  ('Philadelphia 76ers',) peso:  ((1.0,),)\n",
      "De:  ('Los Angeles Lakers',) para:  ('Oklahoma City Thunder',) peso:  0\n",
      "De:  ('Houston Rockets',) para:  ('Memphis Grizzlies',) peso:  0\n",
      "De:  ('Houston Rockets',) para:  ('Memphis Grizzlies',) peso:  0\n",
      "De:  ('Houston Rockets',) para:  ('Memphis Grizzlies',) peso:  0\n",
      "De:  ('Houston Rockets',) para:  ('Memphis Grizzlies',) peso:  0\n",
      "De:  ('Houston Rockets',) para:  ('Memphis Grizzlies',) peso:  0\n",
      "De:  ('Houston Rockets',) para:  ('Memphis Grizzlies',) peso:  0\n",
      "De:  ('Phoenix Suns',) para:  ('Minnesota Timberwolves',) peso:  0\n",
      "De:  ('Phoenix Suns',) para:  ('Minnesota Timberwolves',) peso:  0\n",
      "De:  ('Phoenix Suns',) para:  ('Minnesota Timberwolves',) peso:  0\n",
      "De:  ('Phoenix Suns',) para:  ('Minnesota Timberwolves',) peso:  0\n",
      "De:  ('Phoenix Suns',) para:  ('Minnesota Timberwolves',) peso:  0\n",
      "De:  ('Phoenix Suns',) para:  ('Houston Rockets',) peso:  0\n",
      "De:  ('Chicago Bulls',) para:  ('Orlando Magic',) peso:  0\n",
      "De:  ('Chicago Bulls',) para:  ('Orlando Magic',) peso:  0\n",
      "De:  ('Chicago Bulls',) para:  ('Orlando Magic',) peso:  0\n",
      "De:  ('Chicago Bulls',) para:  ('Orlando Magic',) peso:  0\n",
      "De:  ('Chicago Bulls',) para:  ('Orlando Magic',) peso:  0\n",
      "De:  ('Chicago Bulls',) para:  ('Houston Rockets',) peso:  0\n",
      "De:  ('Phoenix Suns',) para:  ('Los Angeles Lakers',) peso:  0\n",
      "De:  ('Phoenix Suns',) para:  ('Los Angeles Lakers',) peso:  0\n",
      "De:  ('Phoenix Suns',) para:  ('Los Angeles Lakers',) peso:  0\n",
      "De:  ('Phoenix Suns',) para:  ('Los Angeles Lakers',) peso:  0\n",
      "De:  ('Phoenix Suns',) para:  ('Los Angeles Lakers',) peso:  0\n",
      "De:  ('Phoenix Suns',) para:  ('Los Angeles Lakers',) peso:  0\n",
      "De:  ('Washington Wizards',) para:  ('Houston Rockets',) peso:  0\n",
      "De:  ('Washington Wizards',) para:  ('Houston Rockets',) peso:  0\n",
      "De:  ('Washington Wizards',) para:  ('Houston Rockets',) peso:  0\n",
      "De:  ('Washington Wizards',) para:  ('Houston Rockets',) peso:  0\n",
      "De:  ('Washington Wizards',) para:  ('Houston Rockets',) peso:  0\n",
      "De:  ('Washington Wizards',) para:  ('Houston Rockets',) peso:  0\n",
      "De:  ('Sacramento Kings',) para:  ('Atlanta Hawks',) peso:  0\n",
      "De:  ('Sacramento Kings',) para:  ('Atlanta Hawks',) peso:  0\n",
      "De:  ('Sacramento Kings',) para:  ('Atlanta Hawks',) peso:  0\n",
      "De:  ('Sacramento Kings',) para:  ('Atlanta Hawks',) peso:  0\n",
      "De:  ('Sacramento Kings',) para:  ('Atlanta Hawks',) peso:  0\n",
      "De:  ('Sacramento Kings',) para:  ('Atlanta Hawks',) peso:  0\n",
      "De:  ('Los Angeles Lakers',) para:  ('Minnesota Timberwolves',) peso:  0\n",
      "De:  ('Los Angeles Lakers',) para:  ('Minnesota Timberwolves',) peso:  0\n",
      "De:  ('Los Angeles Lakers',) para:  ('Minnesota Timberwolves',) peso:  0\n",
      "De:  ('Los Angeles Lakers',) para:  ('Minnesota Timberwolves',) peso:  0\n",
      "De:  ('Los Angeles Lakers',) para:  ('Minnesota Timberwolves',) peso:  0\n",
      "De:  ('Los Angeles Lakers',) para:  ('Minnesota Timberwolves',) peso:  0\n",
      "De:  ('Detroit Pistons',) para:  ('New York Knicks',) peso:  0\n",
      "De:  ('Detroit Pistons',) para:  ('New York Knicks',) peso:  0\n",
      "De:  ('Detroit Pistons',) para:  ('New York Knicks',) peso:  0\n",
      "De:  ('Detroit Pistons',) para:  ('New York Knicks',) peso:  0\n",
      "De:  ('Detroit Pistons',) para:  ('New York Knicks',) peso:  0\n",
      "De:  ('Detroit Pistons',) para:  ('New York Knicks',) peso:  0\n",
      "De:  ('Phoenix Suns',) para:  ('Detroit Pistons',) peso:  0\n",
      "De:  ('Phoenix Suns',) para:  ('Detroit Pistons',) peso:  0\n",
      "De:  ('Phoenix Suns',) para:  ('Detroit Pistons',) peso:  0\n",
      "De:  ('Phoenix Suns',) para:  ('Detroit Pistons',) peso:  0\n",
      "De:  ('Phoenix Suns',) para:  ('Detroit Pistons',) peso:  0\n",
      "De:  ('Phoenix Suns',) para:  ('Detroit Pistons',) peso:  0\n",
      "De:  ('Brooklyn Nets',) para:  ('Houston Rockets',) peso:  0\n",
      "De:  ('Brooklyn Nets',) para:  ('Houston Rockets',) peso:  0\n",
      "De:  ('Brooklyn Nets',) para:  ('Houston Rockets',) peso:  0\n",
      "De:  ('Brooklyn Nets',) para:  ('Houston Rockets',) peso:  0\n",
      "De:  ('Brooklyn Nets',) para:  ('Houston Rockets',) peso:  0\n",
      "De:  ('Brooklyn Nets',) para:  ('Houston Rockets',) peso:  0\n",
      "De:  ('San Antonio Spurs',) para:  ('Milwaukee Bucks',) peso:  0\n",
      "De:  ('San Antonio Spurs',) para:  ('Milwaukee Bucks',) peso:  0\n",
      "De:  ('San Antonio Spurs',) para:  ('Milwaukee Bucks',) peso:  0\n",
      "De:  ('San Antonio Spurs',) para:  ('Milwaukee Bucks',) peso:  0\n",
      "De:  ('San Antonio Spurs',) para:  ('Milwaukee Bucks',) peso:  0\n",
      "De:  ('San Antonio Spurs',) para:  ('Milwaukee Bucks',) peso:  0\n",
      "De:  ('Memphis Grizzlies',) para:  ('Denver Nuggets',) peso:  0\n",
      "De:  ('Memphis Grizzlies',) para:  ('Denver Nuggets',) peso:  0\n",
      "De:  ('Memphis Grizzlies',) para:  ('Denver Nuggets',) peso:  0\n",
      "De:  ('Memphis Grizzlies',) para:  ('Denver Nuggets',) peso:  0\n",
      "De:  ('Memphis Grizzlies',) para:  ('Denver Nuggets',) peso:  0\n",
      "De:  ('Memphis Grizzlies',) para:  ('Denver Nuggets',) peso:  0\n",
      "De:  ('Phoenix Suns',) para:  ('Chicago Bulls',) peso:  0\n",
      "De:  ('Phoenix Suns',) para:  ('Chicago Bulls',) peso:  0\n",
      "De:  ('Phoenix Suns',) para:  ('Chicago Bulls',) peso:  0\n",
      "De:  ('Phoenix Suns',) para:  ('Chicago Bulls',) peso:  0\n",
      "De:  ('Phoenix Suns',) para:  ('Chicago Bulls',) peso:  0\n",
      "De:  ('Oklahoma City Thunder',) para:  ('Dallas Mavericks',) peso:  0\n",
      "De:  ('Golden State Warriors',) para:  ('Houston Rockets',) peso:  0\n",
      "De:  ('Golden State Warriors',) para:  ('Houston Rockets',) peso:  0\n",
      "De:  ('Golden State Warriors',) para:  ('Houston Rockets',) peso:  0\n",
      "De:  ('Golden State Warriors',) para:  ('Houston Rockets',) peso:  0\n",
      "De:  ('Golden State Warriors',) para:  ('Houston Rockets',) peso:  0\n",
      "De:  ('Golden State Warriors',) para:  ('Houston Rockets',) peso:  0\n",
      "De:  ('Memphis Grizzlies',) para:  ('Washington Wizards',) peso:  0\n",
      "De:  ('Atlanta Hawks',) para:  ('Milwaukee Bucks',) peso:  0\n",
      "De:  ('Atlanta Hawks',) para:  ('Milwaukee Bucks',) peso:  0\n",
      "De:  ('Atlanta Hawks',) para:  ('Milwaukee Bucks',) peso:  0\n",
      "De:  ('Atlanta Hawks',) para:  ('Milwaukee Bucks',) peso:  0\n",
      "De:  ('Atlanta Hawks',) para:  ('Milwaukee Bucks',) peso:  0\n",
      "De:  ('Atlanta Hawks',) para:  ('Philadelphia 76ers',) peso:  0\n",
      "De:  ('New York Knicks',) para:  ('Washington Wizards',) peso:  0\n"
     ]
    },
    {
     "name": "stdout",
     "output_type": "stream",
     "text": [
      "De:  ('New York Knicks',) para:  ('Washington Wizards',) peso:  0\n",
      "De:  ('New York Knicks',) para:  ('Washington Wizards',) peso:  0\n",
      "De:  ('New York Knicks',) para:  ('Washington Wizards',) peso:  0\n",
      "De:  ('New York Knicks',) para:  ('Washington Wizards',) peso:  0\n",
      "De:  ('New York Knicks',) para:  ('Washington Wizards',) peso:  0\n",
      "De:  ('Utah Jazz',) para:  ('Golden State Warriors',) peso:  0\n",
      "De:  ('Orlando Magic',) para:  ('Atlanta Hawks',) peso:  0\n",
      "De:  ('Orlando Magic',) para:  ('Atlanta Hawks',) peso:  0\n",
      "De:  ('Orlando Magic',) para:  ('Atlanta Hawks',) peso:  0\n",
      "De:  ('Orlando Magic',) para:  ('Atlanta Hawks',) peso:  0\n",
      "De:  ('Orlando Magic',) para:  ('Atlanta Hawks',) peso:  0\n",
      "De:  ('Orlando Magic',) para:  ('Atlanta Hawks',) peso:  0\n",
      "De:  ('Detroit Pistons',) para:  ('Houston Rockets',) peso:  0\n",
      "De:  ('Washington Wizards',) para:  ('Los Angeles Lakers',) peso:  0\n",
      "De:  ('Washington Wizards',) para:  ('Los Angeles Lakers',) peso:  0\n",
      "De:  ('Washington Wizards',) para:  ('Los Angeles Lakers',) peso:  0\n",
      "De:  ('Washington Wizards',) para:  ('Los Angeles Lakers',) peso:  0\n",
      "De:  ('Washington Wizards',) para:  ('Los Angeles Lakers',) peso:  0\n",
      "De:  ('Washington Wizards',) para:  ('Los Angeles Lakers',) peso:  0\n",
      "De:  ('New York Knicks',) para:  ('Portland Trail Blazers',) peso:  0\n",
      "De:  ('New York Knicks',) para:  ('Portland Trail Blazers',) peso:  0\n",
      "De:  ('New York Knicks',) para:  ('Portland Trail Blazers',) peso:  0\n",
      "De:  ('New York Knicks',) para:  ('Portland Trail Blazers',) peso:  0\n",
      "De:  ('New York Knicks',) para:  ('Portland Trail Blazers',) peso:  0\n",
      "De:  ('New York Knicks',) para:  ('Portland Trail Blazers',) peso:  0\n",
      "De:  ('Phoenix Suns',) para:  ('Milwaukee Bucks',) peso:  0\n",
      "De:  ('Phoenix Suns',) para:  ('Milwaukee Bucks',) peso:  0\n",
      "De:  ('Phoenix Suns',) para:  ('Milwaukee Bucks',) peso:  0\n",
      "De:  ('Phoenix Suns',) para:  ('Milwaukee Bucks',) peso:  0\n",
      "De:  ('Phoenix Suns',) para:  ('Milwaukee Bucks',) peso:  0\n",
      "De:  ('Phoenix Suns',) para:  ('Milwaukee Bucks',) peso:  0\n",
      "De:  ('Atlanta Hawks',) para:  ('Toronto Raptors',) peso:  0\n",
      "De:  ('Atlanta Hawks',) para:  ('Toronto Raptors',) peso:  0\n",
      "De:  ('Atlanta Hawks',) para:  ('Toronto Raptors',) peso:  0\n",
      "De:  ('Atlanta Hawks',) para:  ('Toronto Raptors',) peso:  0\n",
      "De:  ('Atlanta Hawks',) para:  ('Toronto Raptors',) peso:  0\n",
      "De:  ('Atlanta Hawks',) para:  ('Toronto Raptors',) peso:  0\n",
      "De:  ('Atlanta Hawks',) para:  ('Memphis Grizzlies',) peso:  0\n",
      "De:  ('Atlanta Hawks',) para:  ('Memphis Grizzlies',) peso:  0\n",
      "De:  ('Atlanta Hawks',) para:  ('Memphis Grizzlies',) peso:  0\n",
      "De:  ('Atlanta Hawks',) para:  ('Memphis Grizzlies',) peso:  0\n",
      "De:  ('Atlanta Hawks',) para:  ('Memphis Grizzlies',) peso:  0\n",
      "De:  ('Atlanta Hawks',) para:  ('Memphis Grizzlies',) peso:  0\n",
      "De:  ('New York Knicks',) para:  ('Indiana Pacers',) peso:  0\n",
      "De:  ('New York Knicks',) para:  ('Indiana Pacers',) peso:  0\n",
      "De:  ('New York Knicks',) para:  ('Indiana Pacers',) peso:  0\n",
      "De:  ('New York Knicks',) para:  ('Indiana Pacers',) peso:  0\n",
      "De:  ('New York Knicks',) para:  ('Indiana Pacers',) peso:  0\n",
      "De:  ('New York Knicks',) para:  ('Indiana Pacers',) peso:  0\n",
      "De:  ('Cleveland Cavaliers',) para:  ('Toronto Raptors',) peso:  0\n",
      "De:  ('Cleveland Cavaliers',) para:  ('Toronto Raptors',) peso:  0\n",
      "De:  ('Cleveland Cavaliers',) para:  ('Toronto Raptors',) peso:  0\n",
      "De:  ('Cleveland Cavaliers',) para:  ('Toronto Raptors',) peso:  0\n",
      "De:  ('Cleveland Cavaliers',) para:  ('Toronto Raptors',) peso:  0\n",
      "De:  ('Cleveland Cavaliers',) para:  ('Toronto Raptors',) peso:  0\n",
      "De:  ('Sacramento Kings',) para:  ('Houston Rockets',) peso:  0\n",
      "De:  ('Sacramento Kings',) para:  ('Houston Rockets',) peso:  0\n",
      "De:  ('Sacramento Kings',) para:  ('Houston Rockets',) peso:  0\n",
      "De:  ('Sacramento Kings',) para:  ('Houston Rockets',) peso:  0\n",
      "De:  ('Sacramento Kings',) para:  ('Houston Rockets',) peso:  0\n",
      "De:  ('Sacramento Kings',) para:  ('Houston Rockets',) peso:  0\n",
      "De:  ('Milwaukee Bucks',) para:  ('Toronto Raptors',) peso:  0\n",
      "De:  ('Milwaukee Bucks',) para:  ('Toronto Raptors',) peso:  0\n",
      "De:  ('Milwaukee Bucks',) para:  ('Toronto Raptors',) peso:  0\n",
      "De:  ('Milwaukee Bucks',) para:  ('Toronto Raptors',) peso:  0\n",
      "De:  ('Milwaukee Bucks',) para:  ('Toronto Raptors',) peso:  0\n",
      "De:  ('Milwaukee Bucks',) para:  ('Toronto Raptors',) peso:  0\n",
      "De:  ('Brooklyn Nets',) para:  ('Toronto Raptors',) peso:  0\n",
      "De:  ('Brooklyn Nets',) para:  ('Toronto Raptors',) peso:  0\n",
      "De:  ('Brooklyn Nets',) para:  ('Toronto Raptors',) peso:  0\n",
      "De:  ('Brooklyn Nets',) para:  ('Toronto Raptors',) peso:  0\n",
      "De:  ('Brooklyn Nets',) para:  ('Toronto Raptors',) peso:  0\n",
      "De:  ('Brooklyn Nets',) para:  ('Boston Celtics',) peso:  0\n",
      "De:  ('Toronto Raptors',) para:  ('Phoenix Suns',) peso:  0\n",
      "De:  ('Toronto Raptors',) para:  ('Phoenix Suns',) peso:  0\n",
      "De:  ('Toronto Raptors',) para:  ('Phoenix Suns',) peso:  0\n",
      "De:  ('Toronto Raptors',) para:  ('Phoenix Suns',) peso:  0\n",
      "De:  ('Toronto Raptors',) para:  ('Phoenix Suns',) peso:  0\n",
      "De:  ('Toronto Raptors',) para:  ('Phoenix Suns',) peso:  0\n",
      "De:  ('New Orleans Pelicans',) para:  ('Oklahoma City Thunder',) peso:  0\n",
      "De:  ('New Orleans Pelicans',) para:  ('Oklahoma City Thunder',) peso:  0\n",
      "De:  ('New Orleans Pelicans',) para:  ('Oklahoma City Thunder',) peso:  0\n",
      "De:  ('New Orleans Pelicans',) para:  ('Oklahoma City Thunder',) peso:  0\n",
      "De:  ('New Orleans Pelicans',) para:  ('Oklahoma City Thunder',) peso:  0\n",
      "De:  ('New Orleans Pelicans',) para:  ('Oklahoma City Thunder',) peso:  0\n",
      "De:  ('Utah Jazz',) para:  ('Philadelphia 76ers',) peso:  0\n",
      "De:  ('Utah Jazz',) para:  ('Philadelphia 76ers',) peso:  0\n",
      "De:  ('Utah Jazz',) para:  ('Philadelphia 76ers',) peso:  0\n",
      "De:  ('Utah Jazz',) para:  ('Philadelphia 76ers',) peso:  0\n",
      "De:  ('Utah Jazz',) para:  ('Philadelphia 76ers',) peso:  0\n",
      "De:  ('Utah Jazz',) para:  ('Philadelphia 76ers',) peso:  0\n",
      "De:  ('New York Knicks',) para:  ('Memphis Grizzlies',) peso:  0\n",
      "De:  ('New York Knicks',) para:  ('Memphis Grizzlies',) peso:  0\n",
      "De:  ('New York Knicks',) para:  ('Memphis Grizzlies',) peso:  0\n",
      "De:  ('New York Knicks',) para:  ('Memphis Grizzlies',) peso:  0\n",
      "De:  ('New York Knicks',) para:  ('Memphis Grizzlies',) peso:  0\n",
      "De:  ('New York Knicks',) para:  ('Memphis Grizzlies',) peso:  0\n",
      "De:  ('Golden State Warriors',) para:  ('Miami Heat',) peso:  0\n",
      "De:  ('Golden State Warriors',) para:  ('Miami Heat',) peso:  0\n",
      "De:  ('Golden State Warriors',) para:  ('Miami Heat',) peso:  0\n",
      "De:  ('Golden State Warriors',) para:  ('Miami Heat',) peso:  0\n",
      "De:  ('Golden State Warriors',) para:  ('Miami Heat',) peso:  0\n",
      "De:  ('Golden State Warriors',) para:  ('Miami Heat',) peso:  0\n",
      "De:  ('Oklahoma City Thunder',) para:  ('LA Clippers',) peso:  0\n",
      "De:  ('Oklahoma City Thunder',) para:  ('LA Clippers',) peso:  0\n",
      "De:  ('Oklahoma City Thunder',) para:  ('LA Clippers',) peso:  0\n",
      "De:  ('Oklahoma City Thunder',) para:  ('LA Clippers',) peso:  0\n",
      "De:  ('Oklahoma City Thunder',) para:  ('LA Clippers',) peso:  0\n",
      "De:  ('Oklahoma City Thunder',) para:  ('LA Clippers',) peso:  0\n",
      "De:  ('Philadelphia 76ers',) para:  ('Oklahoma City Thunder',) peso:  0\n",
      "De:  ('Philadelphia 76ers',) para:  ('Oklahoma City Thunder',) peso:  0\n",
      "De:  ('Philadelphia 76ers',) para:  ('Oklahoma City Thunder',) peso:  0\n",
      "De:  ('Philadelphia 76ers',) para:  ('Oklahoma City Thunder',) peso:  0\n",
      "De:  ('Philadelphia 76ers',) para:  ('Oklahoma City Thunder',) peso:  0\n",
      "De:  ('Philadelphia 76ers',) para:  ('Oklahoma City Thunder',) peso:  0\n",
      "De:  ('Chicago Bulls',) para:  ('Cleveland Cavaliers',) peso:  0\n",
      "De:  ('Chicago Bulls',) para:  ('Cleveland Cavaliers',) peso:  0\n",
      "De:  ('Chicago Bulls',) para:  ('Cleveland Cavaliers',) peso:  0\n",
      "De:  ('Chicago Bulls',) para:  ('Cleveland Cavaliers',) peso:  0\n",
      "De:  ('Chicago Bulls',) para:  ('Cleveland Cavaliers',) peso:  0\n",
      "De:  ('Chicago Bulls',) para:  ('Cleveland Cavaliers',) peso:  0\n",
      "De:  ('Portland Trail Blazers',) para:  ('Washington Wizards',) peso:  0\n",
      "De:  ('Portland Trail Blazers',) para:  ('Washington Wizards',) peso:  0\n",
      "De:  ('Portland Trail Blazers',) para:  ('Washington Wizards',) peso:  0\n",
      "De:  ('Portland Trail Blazers',) para:  ('Washington Wizards',) peso:  0\n",
      "De:  ('Portland Trail Blazers',) para:  ('Washington Wizards',) peso:  0\n",
      "De:  ('Portland Trail Blazers',) para:  ('Washington Wizards',) peso:  0\n",
      "De:  ('Chicago Bulls',) para:  ('San Antonio Spurs',) peso:  0\n",
      "De:  ('Chicago Bulls',) para:  ('San Antonio Spurs',) peso:  0\n",
      "De:  ('Chicago Bulls',) para:  ('San Antonio Spurs',) peso:  0\n",
      "De:  ('Chicago Bulls',) para:  ('San Antonio Spurs',) peso:  0\n",
      "De:  ('Chicago Bulls',) para:  ('San Antonio Spurs',) peso:  0\n",
      "De:  ('Chicago Bulls',) para:  ('San Antonio Spurs',) peso:  0\n"
     ]
    },
    {
     "name": "stdout",
     "output_type": "stream",
     "text": [
      "De:  ('Sacramento Kings',) para:  ('Minnesota Timberwolves',) peso:  0\n",
      "De:  ('Sacramento Kings',) para:  ('Minnesota Timberwolves',) peso:  0\n",
      "De:  ('Sacramento Kings',) para:  ('Minnesota Timberwolves',) peso:  0\n",
      "De:  ('Sacramento Kings',) para:  ('Minnesota Timberwolves',) peso:  0\n",
      "De:  ('Sacramento Kings',) para:  ('Minnesota Timberwolves',) peso:  0\n",
      "De:  ('Sacramento Kings',) para:  ('Minnesota Timberwolves',) peso:  0\n",
      "De:  ('Phoenix Suns',) para:  ('Houston Rockets',) peso:  0\n",
      "De:  ('Phoenix Suns',) para:  ('Houston Rockets',) peso:  0\n",
      "De:  ('Phoenix Suns',) para:  ('Houston Rockets',) peso:  0\n",
      "De:  ('Phoenix Suns',) para:  ('Houston Rockets',) peso:  0\n",
      "De:  ('Phoenix Suns',) para:  ('Houston Rockets',) peso:  0\n",
      "De:  ('Phoenix Suns',) para:  ('Houston Rockets',) peso:  0\n",
      "De:  ('Utah Jazz',) para:  ('Detroit Pistons',) peso:  0\n",
      "De:  ('Utah Jazz',) para:  ('Detroit Pistons',) peso:  0\n",
      "De:  ('Utah Jazz',) para:  ('Detroit Pistons',) peso:  0\n",
      "De:  ('Utah Jazz',) para:  ('Detroit Pistons',) peso:  0\n",
      "De:  ('Utah Jazz',) para:  ('Detroit Pistons',) peso:  0\n",
      "De:  ('Utah Jazz',) para:  ('Minnesota Timberwolves',) peso:  0\n",
      "De:  ('Utah Jazz',) para:  ('Philadelphia 76ers',) peso:  0\n",
      "De:  ('Utah Jazz',) para:  ('Philadelphia 76ers',) peso:  0\n",
      "De:  ('Utah Jazz',) para:  ('Philadelphia 76ers',) peso:  0\n",
      "De:  ('Utah Jazz',) para:  ('Philadelphia 76ers',) peso:  0\n",
      "De:  ('Utah Jazz',) para:  ('Philadelphia 76ers',) peso:  0\n",
      "De:  ('Utah Jazz',) para:  ('LA Clippers',) peso:  0\n",
      "De:  ('Dallas Mavericks',) para:  ('Phoenix Suns',) peso:  ((0.5,),)\n",
      "De:  ('Dallas Mavericks',) para:  ('Phoenix Suns',) peso:  ((0.5,),)\n",
      "De:  ('Dallas Mavericks',) para:  ('Phoenix Suns',) peso:  ((0.5,),)\n",
      "De:  ('Dallas Mavericks',) para:  ('Phoenix Suns',) peso:  ((0.5,),)\n",
      "De:  ('Dallas Mavericks',) para:  ('Phoenix Suns',) peso:  ((0.5,),)\n",
      "De:  ('Dallas Mavericks',) para:  ('Phoenix Suns',) peso:  ((0.5,),)\n",
      "De:  ('Indiana Pacers',) para:  ('Cleveland Cavaliers',) peso:  0\n",
      "De:  ('Indiana Pacers',) para:  ('Cleveland Cavaliers',) peso:  0\n",
      "De:  ('Indiana Pacers',) para:  ('Cleveland Cavaliers',) peso:  0\n",
      "De:  ('Indiana Pacers',) para:  ('Cleveland Cavaliers',) peso:  0\n",
      "De:  ('Indiana Pacers',) para:  ('Cleveland Cavaliers',) peso:  0\n",
      "De:  ('Indiana Pacers',) para:  ('Portland Trail Blazers',) peso:  0\n",
      "De:  ('Cleveland Cavaliers',) para:  ('Toronto Raptors',) peso:  0\n",
      "De:  ('Cleveland Cavaliers',) para:  ('Toronto Raptors',) peso:  0\n",
      "De:  ('Cleveland Cavaliers',) para:  ('Toronto Raptors',) peso:  0\n",
      "De:  ('Cleveland Cavaliers',) para:  ('Toronto Raptors',) peso:  0\n",
      "De:  ('Cleveland Cavaliers',) para:  ('Toronto Raptors',) peso:  0\n",
      "De:  ('Cleveland Cavaliers',) para:  ('Atlanta Hawks',) peso:  0\n",
      "De:  ('Golden State Warriors',) para:  ('Sacramento Kings',) peso:  0\n",
      "De:  ('Golden State Warriors',) para:  ('Sacramento Kings',) peso:  0\n",
      "De:  ('Golden State Warriors',) para:  ('Sacramento Kings',) peso:  0\n",
      "De:  ('Golden State Warriors',) para:  ('Sacramento Kings',) peso:  0\n",
      "De:  ('Golden State Warriors',) para:  ('Sacramento Kings',) peso:  0\n",
      "De:  ('Golden State Warriors',) para:  ('Sacramento Kings',) peso:  0\n",
      "De:  ('Cleveland Cavaliers',) para:  ('Washington Wizards',) peso:  ((0.5,),)\n",
      "De:  ('Cleveland Cavaliers',) para:  ('Washington Wizards',) peso:  ((0.5,),)\n",
      "De:  ('Cleveland Cavaliers',) para:  ('Washington Wizards',) peso:  ((0.5,),)\n",
      "De:  ('Cleveland Cavaliers',) para:  ('Washington Wizards',) peso:  ((0.5,),)\n",
      "De:  ('Cleveland Cavaliers',) para:  ('Washington Wizards',) peso:  ((0.5,),)\n",
      "De:  ('Milwaukee Bucks',) para:  ('Atlanta Hawks',) peso:  0\n",
      "De:  ('Milwaukee Bucks',) para:  ('Atlanta Hawks',) peso:  0\n",
      "De:  ('Milwaukee Bucks',) para:  ('Atlanta Hawks',) peso:  0\n",
      "De:  ('Milwaukee Bucks',) para:  ('Atlanta Hawks',) peso:  0\n",
      "De:  ('Milwaukee Bucks',) para:  ('Atlanta Hawks',) peso:  0\n",
      "De:  ('Milwaukee Bucks',) para:  ('Brooklyn Nets',) peso:  0\n"
     ]
    },
    {
     "data": {
      "application/vnd.plotly.v1+json": {
       "config": {
        "linkText": "Export to plot.ly",
        "plotlyServerURL": "https://plot.ly",
        "showLink": false,
        "staticPlot": true
       },
       "data": [
        {
         "hoverinfo": "none",
         "line": {
          "color": "rgba(255, 255, 255, 0.0)",
          "dash": "solid",
          "width": 1
         },
         "mode": "lines",
         "type": "scatter",
         "x": [
          0.11931960619673054,
          0.5526782610616999,
          null,
          0.5417653383328875,
          0.5285779795073159,
          null,
          0.5417653383328875,
          0.5341016705867737,
          null
         ],
         "y": [
          0.018633553602880992,
          0.6965916677129139,
          null,
          0.6795191933787864,
          0.6691005545049208,
          null,
          0.6795191933787864,
          0.6573179168705474,
          null
         ]
        },
        {
         "hoverinfo": "none",
         "line": {
          "color": "rgba(255, 255, 255, 0.0)",
          "dash": "solid",
          "width": 1
         },
         "mode": "lines",
         "type": "scatter",
         "x": [
          0.11931960619673054,
          0.21976896563283277,
          null,
          0.21476944584252328,
          0.20601258646315165,
          null,
          0.21476944584252328,
          0.21397385785431838,
          null
         ],
         "y": [
          0.018633553602880992,
          0.5130220934181828,
          null,
          0.4884156120749034,
          0.4676071230213606,
          null,
          0.4884156120749034,
          0.4622091621359997,
          null
         ]
        },
        {
         "hoverinfo": "none",
         "line": {
          "color": "rgba(255, 255, 255, 0.0)",
          "dash": "solid",
          "width": 1
         },
         "mode": "lines",
         "type": "scatter",
         "x": [
          0.11931960619673054,
          0.7300559277230534,
          null,
          0.7164521752101635,
          0.7020898264371777,
          null,
          0.7164521752101635,
          0.7048222016539535,
          null
         ],
         "y": [
          0.018633553602880992,
          0.3977760371687721,
          null,
          0.38933088607531363,
          0.3886068828033578,
          null,
          0.38933088607531363,
          0.3739189673557497,
          null
         ]
        },
        {
         "hoverinfo": "none",
         "line": {
          "color": "rgba(255, 255, 255, 0.0)",
          "dash": "solid",
          "width": 1
         },
         "mode": "lines",
         "type": "scatter",
         "x": [
          0.11751947611791126,
          0.6107039059347525,
          null,
          0.5982706180975996,
          0.584264745295326,
          null
         ],
         "y": [
          0.024311748048194925,
          0.5460726271629036,
          null,
          0.5329189207601926,
          0.5270647898502075,
          null
         ]
        },
        {
         "hoverinfo": "none",
         "line": {
          "color": "rgba(255, 255, 255, 0.0)",
          "dash": "solid",
          "width": 1
         },
         "mode": "lines",
         "type": "scatter",
         "x": [
          0.11931960619673054,
          0.2235189707639248,
          null,
          0.21691306628978568,
          0.20683161508543302,
          null,
          0.21691306628978568,
          0.214372794318492,
          null
         ],
         "y": [
          0.018633553602880992,
          0.38628741419589163,
          null,
          0.3629793422828454,
          0.34427847459274535,
          null,
          0.3629793422828454,
          0.337146106793552,
          null
         ]
        },
        {
         "hoverinfo": "none",
         "line": {
          "color": "rgba(255, 255, 255, 0.0)",
          "dash": "solid",
          "width": 1
         },
         "mode": "lines",
         "type": "scatter",
         "x": [
          0.11931960619673054,
          0.3890199702694477,
          null,
          0.37602033081485964,
          0.3617929800990711,
          null,
          0.37602033081485964,
          0.3654096216977584,
          null
         ],
         "y": [
          0.018633553602880992,
          0.2505453207177464,
          null,
          0.23936710311268303,
          0.23570597248699962,
          null,
          0.23936710311268303,
          0.22167031541535992,
          null
         ]
        },
        {
         "hoverinfo": "none",
         "line": {
          "color": "rgba(255, 255, 255, 0.0)",
          "dash": "solid",
          "width": 1
         },
         "mode": "lines",
         "type": "scatter",
         "x": [
          0.7146533834750309,
          0.5526782610616999,
          null,
          0.5652840813522743,
          0.5752895609015818,
          null,
          0.5652840813522743,
          0.5793642020008579,
          null
         ],
         "y": [
          0.534771125053913,
          0.6965916677129139,
          null,
          0.6839978776932516,
          0.6651613444783402,
          null,
          0.6839978776932516,
          0.6787717966238245,
          null
         ]
        },
        {
         "hoverinfo": "none",
         "line": {
          "color": "rgba(255, 255, 255, 0.0)",
          "dash": "solid",
          "width": 1
         },
         "mode": "lines",
         "type": "scatter",
         "x": [
          0.7146533834750309,
          0.2235189707639248,
          null,
          0.2376939731973996,
          0.2519291436081149,
          null,
          0.2376939731973996,
          0.25054259690296976,
          null
         ],
         "y": [
          0.534771125053913,
          0.38628741419589163,
          null,
          0.3905729150858117,
          0.3870146646454304,
          null,
          0.3905729150858117,
          0.4023193562748349,
          null
         ]
        },
        {
         "hoverinfo": "none",
         "line": {
          "color": "rgba(255, 255, 255, 0.0)",
          "dash": "solid",
          "width": 1
         },
         "mode": "lines",
         "type": "scatter",
         "x": [
          0.7146533834750309,
          0.6019142956893831,
          null,
          0.6100597231781211,
          0.6213390651977954,
          null,
          0.6100597231781211,
          0.6143436293574829,
          null
         ],
         "y": [
          0.534771125053913,
          0.23551537854926619,
          null,
          0.2571366816094463,
          0.273395009142937,
          null,
          0.2571366816094463,
          0.28218959358762197,
          null
         ]
        },
        {
         "hoverinfo": "none",
         "line": {
          "color": "rgba(255, 255, 255, 0.0)",
          "dash": "solid",
          "width": 1
         },
         "mode": "lines",
         "type": "scatter",
         "x": [
          0.4900300561762585,
          0.6589911410927456,
          null,
          0.6448730595784812,
          0.6305973319958157,
          null,
          0.6448730595784812,
          0.6321737503070937,
          null
         ],
         "y": [
          0.11795673627221848,
          0.1762676117268882,
          null,
          0.17139526083470463,
          0.1743621434134964,
          null,
          0.17139526083470463,
          0.15911890906565956,
          null
         ]
        },
        {
         "hoverinfo": "none",
         "line": {
          "color": "rgba(255, 255, 255, 0.0)",
          "dash": "solid",
          "width": 1
         },
         "mode": "lines",
         "type": "scatter",
         "x": [
          0.4900300561762585,
          0.5526782610616999,
          null,
          0.5498905575861232,
          0.5430620701709902,
          null,
          0.5498905575861232,
          0.5513926552990946,
          null
         ],
         "y": [
          0.11795673627221848,
          0.6965916677129139,
          null,
          0.6708437215041282,
          0.6477507049399138,
          null,
          0.6708437215041282,
          0.64474083300175,
          null
         ]
        },
        {
         "hoverinfo": "none",
         "line": {
          "color": "rgba(255, 255, 255, 0.0)",
          "dash": "solid",
          "width": 1
         },
         "mode": "lines",
         "type": "scatter",
         "x": [
          0.4900300561762585,
          0.26715657375090585,
          null,
          0.2751143744260125,
          0.27918151545432673,
          null,
          0.2751143744260125,
          0.28625198811393376,
          null
         ],
         "y": [
          0.11795673627221848,
          0.7299982433843056,
          null,
          0.7081450185614686,
          0.68297183320899,
          null,
          0.7081450185614686,
          0.6915638377573038,
          null
         ]
        },
        {
         "hoverinfo": "none",
         "line": {
          "color": "rgba(255, 255, 255, 0.0)",
          "dash": "solid",
          "width": 1
         },
         "mode": "lines",
         "type": "scatter",
         "x": [
          0.4900300561762585,
          0.21976896563283277,
          null,
          0.23098722418359172,
          0.23905157924957163,
          null,
          0.23098722418359172,
          0.24435729259358252,
          null
         ],
         "y": [
          0.11795673627221848,
          0.5130220934181828,
          null,
          0.4966233387472835,
          0.47490085630332646,
          null,
          0.4966233387472835,
          0.4870131637645823,
          null
         ]
        },
        {
         "hoverinfo": "none",
         "line": {
          "color": "rgba(255, 255, 255, 0.0)",
          "dash": "solid",
          "width": 1
         },
         "mode": "lines",
         "type": "scatter",
         "x": [
          0.26715657375090585,
          0.2235189707639248,
          null,
          0.22676509845715712,
          0.23400243617697405,
          null,
          0.22676509845715712,
          0.22573004920475212,
          null
         ],
         "y": [
          0.7299982433843056,
          0.38628741419589163,
          null,
          0.41185548312546194,
          0.4345291769932983,
          null,
          0.41185548312546194,
          0.43803400766741996,
          null
         ]
        },
        {
         "hoverinfo": "none",
         "line": {
          "color": "rgba(255, 255, 255, 0.0)",
          "dash": "solid",
          "width": 1
         },
         "mode": "lines",
         "type": "scatter",
         "x": [
          0.26715657375090585,
          0.11931960619673054,
          null,
          0.12441911510501014,
          0.13326040522785915,
          null,
          0.12441911510501014,
          0.1253213188555623,
          null
         ],
         "y": [
          0.7299982433843056,
          0.018633553602880992,
          null,
          0.043171466092506244,
          0.06386046989911932,
          null,
          0.043171466092506244,
          0.06936638862251304,
          null
         ]
        },
        {
         "hoverinfo": "none",
         "line": {
          "color": "rgba(255, 255, 255, 0.0)",
          "dash": "solid",
          "width": 1
         },
         "mode": "lines",
         "type": "scatter",
         "x": [
          0.26715657375090585,
          0.3286774867333624,
          null,
          0.3170661005023806,
          0.30847408845337315,
          null,
          0.3170661005023806,
          0.30347255063981293,
          null
         ],
         "y": [
          0.7299982433843056,
          0.6480934453741629,
          null,
          0.6635520625786494,
          0.6845886265631281,
          null,
          0.6635520625786494,
          0.6720518607679122,
          null
         ]
        },
        {
         "hoverinfo": "none",
         "line": {
          "color": "rgba(255, 255, 255, 0.0)",
          "dash": "solid",
          "width": 1
         },
         "mode": "lines",
         "type": "scatter",
         "x": [
          0.7919919020707024,
          0.5805254513338318,
          null,
          0.5922851285358136,
          0.6059590805774158,
          null,
          0.5922851285358136,
          0.601080073956995,
          null
         ],
         "y": [
          0.3792170153372445,
          0.10804518699319077,
          null,
          0.12312508811455242,
          0.1311830304358798,
          null,
          0.12312508811455242,
          0.14387990538051088,
          null
         ]
        },
        {
         "hoverinfo": "none",
         "line": {
          "color": "rgba(255, 255, 255, 0.0)",
          "dash": "solid",
          "width": 1
         },
         "mode": "lines",
         "type": "scatter",
         "x": [
          0.6203305331304902,
          0.28984763010955217,
          null,
          0.3022263444526046,
          0.3118966750994626,
          null,
          0.3022263444526046,
          0.31620768880650757,
          null
         ],
         "y": [
          0.33991532341532626,
          0.6956448759054679,
          null,
          0.6823205118509124,
          0.6629086372796141,
          null,
          0.6823205118509124,
          0.6762738840707896,
          null
         ]
        },
        {
         "hoverinfo": "none",
         "line": {
          "color": "rgba(255, 255, 255, 0.0)",
          "dash": "solid",
          "width": 1
         },
         "mode": "lines",
         "type": "scatter",
         "x": [
          0.6203305331304902,
          0.5526782610616999,
          null,
          0.5573822164255222,
          0.5578641033664419,
          null,
          0.5573822164255222,
          0.5658880498891575,
          null
         ],
         "y": [
          0.33991532341532626,
          0.6965916677129139,
          null,
          0.6717914717756491,
          0.6455595190624001,
          null,
          0.6717914717756491,
          0.6506383602562308,
          null
         ]
        },
        {
         "hoverinfo": "none",
         "line": {
          "color": "rgba(255, 255, 255, 0.0)",
          "dash": "solid",
          "width": 1
         },
         "mode": "lines",
         "type": "scatter",
         "x": [
          0.8367228626947864,
          0.5526782610616999,
          null,
          0.5619776503577483,
          0.5676250349363824,
          null,
          0.5619776503577483,
          0.5740983576213123,
          null
         ],
         "y": [
          0.08547172834581584,
          0.6965916677129139,
          null,
          0.6765840978098845,
          0.6524498800998801,
          null,
          0.6765840978098845,
          0.6624903923456983,
          null
         ]
        },
        {
         "hoverinfo": "none",
         "line": {
          "color": "rgba(255, 255, 255, 0.0)",
          "dash": "solid",
          "width": 1
         },
         "mode": "lines",
         "type": "scatter",
         "x": [
          0.8367228626947864,
          0.043050495351714235,
          null,
          0.05525322722380989,
          0.06466951403265686,
          null,
          0.05525322722380989,
          0.06915237046382092,
          null
         ],
         "y": [
          0.08547172834581584,
          0.9866404470516293,
          null,
          0.9727849561735734,
          0.9529606805412517,
          null,
          0.9727849561735734,
          0.9661359197847874,
          null
         ]
        },
        {
         "hoverinfo": "none",
         "line": {
          "color": "rgba(255, 255, 255, 0.0)",
          "dash": "solid",
          "width": 1
         },
         "mode": "lines",
         "type": "scatter",
         "x": [
          0.8367228626947864,
          0.7646819435859958,
          null,
          0.7694499058616701,
          0.7699995449661209,
          null,
          0.7694499058616701,
          0.7780102834386712,
          null
         ],
         "y": [
          0.08547172834581584,
          0.45957032096768424,
          null,
          0.4348109481130665,
          0.40858344118097867,
          null,
          0.4348109481130665,
          0.4137313903733895,
          null
         ]
        },
        {
         "hoverinfo": "none",
         "line": {
          "color": "rgba(255, 255, 255, 0.0)",
          "dash": "solid",
          "width": 1
         },
         "mode": "lines",
         "type": "scatter",
         "x": [
          0.5526782610616999,
          0.3890199702694477,
          null,
          0.3970194536042383,
          0.4081886630699972,
          null,
          0.3970194536042383,
          0.4011346407862347,
          null
         ],
         "y": [
          0.6965916677129139,
          0.2505453207177464,
          null,
          0.2723477011658073,
          0.2888578061856602,
          null,
          0.2723477011658073,
          0.2974948153296169,
          null
         ]
        },
        {
         "hoverinfo": "none",
         "line": {
          "color": "rgba(255, 255, 255, 0.0)",
          "dash": "solid",
          "width": 1
         },
         "mode": "lines",
         "type": "scatter",
         "x": [
          0.6599127034904547,
          0.26715657375090585,
          null,
          0.2780560326790374,
          0.2857021986791758,
          null,
          0.2780560326790374,
          0.2912351683304389,
          null
         ],
         "y": [
          0.11376743481814933,
          0.7299982433843056,
          null,
          0.7128970910925002,
          0.6906756858898738,
          null,
          0.7128970910925002,
          0.7024437867142151,
          null
         ]
        },
        {
         "hoverinfo": "none",
         "line": {
          "color": "rgba(255, 255, 255, 0.0)",
          "dash": "solid",
          "width": 1
         },
         "mode": "lines",
         "type": "scatter",
         "x": [
          0.6599127034904547,
          0.1022208712794197,
          null,
          0.11384633980052405,
          0.12245752547015538,
          null,
          0.11384633980052405,
          0.1274476226936769,
          null
         ],
         "y": [
          0.11376743481814933,
          0.8536450927107452,
          null,
          0.83822183577116,
          0.8172114504427417,
          null,
          0.83822183577116,
          0.8297634208284876,
          null
         ]
        },
        {
         "hoverinfo": "none",
         "line": {
          "color": "rgba(255, 255, 255, 0.0)",
          "dash": "solid",
          "width": 1
         },
         "mode": "lines",
         "type": "scatter",
         "x": [
          0.122398484876439,
          0.661599770590562,
          null,
          0.6478018738849185,
          0.6334362326884646,
          null,
          0.6478018738849185,
          0.635804246689198,
          null
         ],
         "y": [
          0.08386532725608942,
          0.3698807037983498,
          null,
          0.36256171045335217,
          0.36301837511286916,
          null,
          0.36256171045335217,
          0.3481208429815478,
          null
         ]
        },
        {
         "hoverinfo": "none",
         "line": {
          "color": "rgba(255, 255, 255, 0.0)",
          "dash": "solid",
          "width": 1
         },
         "mode": "lines",
         "type": "scatter",
         "x": [
          0.661599770590562,
          0.8367228626947864,
          null,
          0.8259849667605355,
          0.8185477857496759,
          null,
          0.8259849667605355,
          0.8129055401665484,
          null
         ],
         "y": [
          0.3698807037983498,
          0.08547172834581584,
          null,
          0.10291062771928432,
          0.12536747558424513,
          null,
          0.10291062771928432,
          0.1137738136576517,
          null
         ]
        },
        {
         "hoverinfo": "none",
         "line": {
          "color": "rgba(255, 255, 255, 0.0)",
          "dash": "solid",
          "width": 1
         },
         "mode": "lines",
         "type": "scatter",
         "x": [
          0.661599770590562,
          0.7300559277230534,
          null,
          0.7160327639330671,
          0.7017115067842183,
          null,
          0.7160327639330671,
          0.7035603409587984,
          null
         ],
         "y": [
          0.3698807037983498,
          0.3977760371687721,
          null,
          0.39206171072662893,
          0.3941729822019964,
          null,
          0.39206171072662893,
          0.37903223012935217,
          null
         ]
        },
        {
         "hoverinfo": "none",
         "line": {
          "color": "rgba(255, 255, 255, 0.0)",
          "dash": "solid",
          "width": 1
         },
         "mode": "lines",
         "type": "scatter",
         "x": [
          0.661599770590562,
          0.4645428575234585,
          null,
          0.47847900915961866,
          0.4907597621884692,
          null,
          0.47847900915961866,
          0.4928256844827909,
          null
         ],
         "y": [
          0.3698807037983498,
          0.4601686721849013,
          null,
          0.4537833756795849,
          0.44015986622954795,
          null,
          0.4537833756795849,
          0.4552066716387918,
          null
         ]
        },
        {
         "hoverinfo": "none",
         "line": {
          "color": "rgba(255, 255, 255, 0.0)",
          "dash": "solid",
          "width": 1
         },
         "mode": "lines",
         "type": "scatter",
         "x": [
          0.661599770590562,
          0.3764259880841979,
          null,
          0.38890377832586853,
          0.3987192396866351,
          null,
          0.38890377832586853,
          0.40292929360814866,
          null
         ],
         "y": [
          0.3698807037983498,
          0.6672709087146321,
          null,
          0.654258588422566,
          0.6350913347243442,
          null,
          0.654258588422566,
          0.6485635533543871,
          null
         ]
        },
        {
         "hoverinfo": "none",
         "line": {
          "color": "rgba(255, 255, 255, 0.0)",
          "dash": "solid",
          "width": 1
         },
         "mode": "lines",
         "type": "scatter",
         "x": [
          0.3890199702694477,
          0.661599770590562,
          null,
          0.6476276039162193,
          0.6332899230181273,
          null,
          0.6476276039162193,
          0.6352690435020226,
          null
         ],
         "y": [
          0.2505453207177464,
          0.3698807037983498,
          null,
          0.3637636919706778,
          0.36546273271596036,
          null,
          0.3637636919706778,
          0.35037704201861936,
          null
         ]
        },
        {
         "hoverinfo": "none",
         "line": {
          "color": "rgba(255, 255, 255, 0.0)",
          "dash": "solid",
          "width": 1
         },
         "mode": "lines",
         "type": "scatter",
         "x": [
          0.3890199702694477,
          0.6439639636488322,
          null,
          0.6299278809214987,
          0.6156115664061896,
          null,
          0.6299278809214987,
          0.6174258314491927,
          null
         ],
         "y": [
          0.2505453207177464,
          0.35239664594787135,
          null,
          0.3467891648385157,
          0.3490094838206576,
          null,
          0.3467891648385157,
          0.33385478322467377,
          null
         ]
        },
        {
         "hoverinfo": "none",
         "line": {
          "color": "rgba(255, 255, 255, 0.0)",
          "dash": "solid",
          "width": 1
         },
         "mode": "lines",
         "type": "scatter",
         "x": [
          0.3890199702694477,
          0.3286774867333624,
          null,
          0.3325165392351308,
          0.3320925230847305,
          null,
          0.3325165392351308,
          0.3402757292627477,
          null
         ],
         "y": [
          0.2505453207177464,
          0.6480934453741629,
          null,
          0.6228010140206728,
          0.5965657268784841,
          null,
          0.6228010140206728,
          0.6007107360214741,
          null
         ]
        },
        {
         "hoverinfo": "none",
         "line": {
          "color": "rgba(255, 255, 255, 0.0)",
          "dash": "solid",
          "width": 1
         },
         "mode": "lines",
         "type": "scatter",
         "x": [
          0.043050495351714235,
          0.5526782610616999,
          null,
          0.5389607799455843,
          0.5271189461378292,
          null,
          0.5389607799455843,
          0.5245929932551061,
          null
         ],
         "y": [
          0.9866404470516293,
          0.6965916677129139,
          null,
          0.7043988142638642,
          0.7192626201155234,
          null,
          0.7043988142638642,
          0.7044519123643528,
          null
         ]
        },
        {
         "hoverinfo": "none",
         "line": {
          "color": "rgba(255, 255, 255, 0.0)",
          "dash": "solid",
          "width": 1
         },
         "mode": "lines",
         "type": "scatter",
         "x": [
          0.6125040360135718,
          0.2235189707639248,
          null,
          0.23756037042563383,
          0.25187454961399147,
          null,
          0.23756037042563383,
          0.2500747141477293,
          null
         ],
         "y": [
          0.5403944327175897,
          0.38628741419589163,
          null,
          0.3918502967614441,
          0.3895845008269937,
          null,
          0.3918502967614441,
          0.40474494209508044,
          null
         ]
        },
        {
         "hoverinfo": "none",
         "line": {
          "color": "rgba(255, 255, 255, 0.0)",
          "dash": "solid",
          "width": 1
         },
         "mode": "lines",
         "type": "scatter",
         "x": [
          0.6143041660923911,
          0.12111973627554982,
          null,
          0.13355302411270276,
          0.1475588969149764,
          null
         ],
         "y": [
          0.5347162382722758,
          0.01295535915756706,
          null,
          0.026109065560277984,
          0.03196319647026307,
          null
         ]
        },
        {
         "hoverinfo": "none",
         "line": {
          "color": "rgba(255, 255, 255, 0.0)",
          "dash": "solid",
          "width": 1
         },
         "mode": "lines",
         "type": "scatter",
         "x": [
          0.6125040360135718,
          0.7146533834750309,
          null,
          0.7002920868046192,
          0.6867001108445618,
          null,
          0.7002920868046192,
          0.6864443212838717,
          null
         ],
         "y": [
          0.5403944327175897,
          0.534771125053913,
          null,
          0.5355617124794227,
          0.5440699058689652,
          null,
          0.5355617124794227,
          0.528564073120747,
          null
         ]
        },
        {
         "hoverinfo": "none",
         "line": {
          "color": "rgba(255, 255, 255, 0.0)",
          "dash": "solid",
          "width": 1
         },
         "mode": "lines",
         "type": "scatter",
         "x": [
          0.746120228185612,
          0.4645428575234585,
          null,
          0.478128721964737,
          0.4897261484887807,
          null,
          0.478128721964737,
          0.4924894395148281,
          null
         ],
         "y": [
          0.28315607044925484,
          0.4601686721849013,
          null,
          0.4516279673479918,
          0.43613441948918535,
          null,
          0.4516279673479918,
          0.4508030212596959,
          null
         ]
        },
        {
         "hoverinfo": "none",
         "line": {
          "color": "rgba(255, 255, 255, 0.0)",
          "dash": "solid",
          "width": 1
         },
         "mode": "lines",
         "type": "scatter",
         "x": [
          0.28984763010955217,
          0.3286774867333624,
          null,
          0.3167431699505386,
          0.3077061582293548,
          null,
          0.3167431699505386,
          0.302977605080891,
          null
         ],
         "y": [
          0.6956448759054679,
          0.6480934453741629,
          null,
          0.6627083289915556,
          0.6831131768852529,
          null,
          0.6627083289915556,
          0.6702277443058969,
          null
         ]
        },
        {
         "hoverinfo": "none",
         "line": {
          "color": "rgba(255, 255, 255, 0.0)",
          "dash": "solid",
          "width": 1
         },
         "mode": "lines",
         "type": "scatter",
         "x": [
          0.28984763010955217,
          0.1022208712794197,
          null,
          0.11526905404642102,
          0.12595693359543075,
          null,
          0.11526905404642102,
          0.12951198472560382,
          null
         ],
         "y": [
          0.6956448759054679,
          0.8536450927107452,
          null,
          0.8426572372526249,
          0.8251161034533838,
          null,
          0.8426572372526249,
          0.8392041725391054,
          null
         ]
        },
        {
         "hoverinfo": "none",
         "line": {
          "color": "rgba(255, 255, 255, 0.0)",
          "dash": "solid",
          "width": 1
         },
         "mode": "lines",
         "type": "scatter",
         "x": [
          0.28984763010955217,
          0.6599127034904547,
          null,
          0.6490231925468036,
          0.6413899493804492,
          null,
          0.6490231925468036,
          0.635850141406753,
          null
         ],
         "y": [
          0.6956448759054679,
          0.11376743481814933,
          null,
          0.13088972281116432,
          0.1531259493214845,
          null,
          0.13088972281116432,
          0.14136858929493307,
          null
         ]
        },
        {
         "hoverinfo": "none",
         "line": {
          "color": "rgba(255, 255, 255, 0.0)",
          "dash": "solid",
          "width": 1
         },
         "mode": "lines",
         "type": "scatter",
         "x": [
          0.28984763010955217,
          0.3890199702694477,
          null,
          0.3836034393987054,
          0.3823615291006166,
          null,
          0.3836034393987054,
          0.37449613052620334,
          null
         ],
         "y": [
          0.6956448759054679,
          0.2505453207177464,
          null,
          0.2748554809634447,
          0.30100396711663335,
          null,
          0.2748554809634447,
          0.2951557610886687,
          null
         ]
        },
        {
         "hoverinfo": "none",
         "line": {
          "color": "rgba(255, 255, 255, 0.0)",
          "dash": "solid",
          "width": 1
         },
         "mode": "lines",
         "type": "scatter",
         "x": [
          0.4645428575234585,
          0.7919919020707024,
          null,
          0.7777538757131398,
          0.764721192233169,
          null,
          0.7777538757131398,
          0.7635823469680874,
          null
         ],
         "y": [
          0.4601686721849013,
          0.3792170153372445,
          null,
          0.3827369273451691,
          0.393785996874927,
          null,
          0.3827369273451691,
          0.3784132585747748,
          null
         ]
        },
        {
         "hoverinfo": "none",
         "line": {
          "color": "rgba(255, 255, 255, 0.0)",
          "dash": "solid",
          "width": 1
         },
         "mode": "lines",
         "type": "scatter",
         "x": [
          0.4645428575234585,
          0.122398484876439,
          null,
          0.13470754964503462,
          0.1486569115874851,
          null,
          0.13470754964503462,
          0.1442767851434838,
          null
         ],
         "y": [
          0.4601686721849013,
          0.08386532725608942,
          null,
          0.09740330308054222,
          0.1036916021580086,
          null,
          0.09740330308054222,
          0.116981648591076,
          null
         ]
        },
        {
         "hoverinfo": "none",
         "line": {
          "color": "rgba(255, 255, 255, 0.0)",
          "dash": "solid",
          "width": 1
         },
         "mode": "lines",
         "type": "scatter",
         "x": [
          0.6589911410927456,
          0.11931960619673054,
          null,
          0.1335072027877809,
          0.14773152886145016,
          null,
          0.1335072027877809,
          0.1463907341469605,
          null
         ],
         "y": [
          0.1762676117268882,
          0.018633553602880992,
          null,
          0.022777645482962308,
          0.01907750292561076,
          null,
          0.022777645482962308,
          0.034395792414975486,
          null
         ]
        },
        {
         "hoverinfo": "none",
         "line": {
          "color": "rgba(255, 255, 255, 0.0)",
          "dash": "solid",
          "width": 1
         },
         "mode": "lines",
         "type": "scatter",
         "x": [
          0.7300559277230534,
          0.4645428575234585,
          null,
          0.47879325478672413,
          0.4918654562302439,
          null,
          0.47879325478672413,
          0.49294890232347105,
          null
         ],
         "y": [
          0.3977760371687721,
          0.4601686721849013,
          null,
          0.4568199864323943,
          0.44592781718441576,
          null,
          0.4568199864323943,
          0.4613139123004028,
          null
         ]
        },
        {
         "hoverinfo": "none",
         "line": {
          "color": "rgba(255, 255, 255, 0.0)",
          "dash": "solid",
          "width": 1
         },
         "mode": "lines",
         "type": "scatter",
         "x": [
          0.5805254513338318,
          0.3764259880841979,
          null,
          0.38439620276817155,
          0.38847764649985256,
          null,
          0.38439620276817155,
          0.39554323286402,
          null
         ],
         "y": [
          0.10804518699319077,
          0.6672709087146321,
          null,
          0.6454327863210007,
          0.6202673271931451,
          null,
          0.6454327863210007,
          0.6288727350956019,
          null
         ]
        },
        {
         "hoverinfo": "none",
         "line": {
          "color": "rgba(255, 255, 255, 0.0)",
          "dash": "solid",
          "width": 1
         },
         "mode": "lines",
         "type": "scatter",
         "x": [
          0.5805254513338318,
          0.5526782610616999,
          null,
          0.5539155165694847,
          0.5508673041329996,
          null,
          0.5539155165694847,
          0.5593277196718867,
          null
         ],
         "y": [
          0.10804518699319077,
          0.6965916677129139,
          null,
          0.6704424451973996,
          0.6447932089331663,
          null,
          0.6704424451973996,
          0.6461290685989616,
          null
         ]
        },
        {
         "hoverinfo": "none",
         "line": {
          "color": "rgba(255, 255, 255, 0.0)",
          "dash": "solid",
          "width": 1
         },
         "mode": "lines",
         "type": "scatter",
         "x": [
          0.5805254513338318,
          0.661599770590562,
          null,
          0.6545259908503347,
          0.6440724255361454,
          null,
          0.6545259908503347,
          0.6514638763607707,
          null
         ],
         "y": [
          0.10804518699319077,
          0.3698807037983498,
          null,
          0.3470354083826312,
          0.3290292294637116,
          null,
          0.3470354083826312,
          0.32139169867057094,
          null
         ]
        },
        {
         "hoverinfo": "none",
         "line": {
          "color": "rgba(255, 255, 255, 0.0)",
          "dash": "solid",
          "width": 1
         },
         "mode": "lines",
         "type": "scatter",
         "x": [
          0.5805254513338318,
          0.6203305331304902,
          null,
          0.6160312190265257,
          0.6078724969136238,
          null,
          0.6160312190265257,
          0.6159753578559682,
          null
         ],
         "y": [
          0.10804518699319077,
          0.33991532341532626,
          null,
          0.3148712209336286,
          0.2932666518431885,
          null,
          0.3148712209336286,
          0.28862470014773495,
          null
         ]
        },
        {
         "hoverinfo": "none",
         "line": {
          "color": "rgba(255, 255, 255, 0.0)",
          "dash": "solid",
          "width": 1
         },
         "mode": "lines",
         "type": "scatter",
         "x": [
          0.5805254513338318,
          0.4900300561762585,
          null,
          0.5043721177504027,
          0.5178194979327811,
          null,
          0.5043721177504027,
          0.5183277270701566,
          null
         ],
         "y": [
          0.10804518699319077,
          0.11795673627221848,
          null,
          0.11638591546075663,
          0.10714272067461007,
          null,
          0.11638591546075663,
          0.12262778536876841,
          null
         ]
        },
        {
         "hoverinfo": "none",
         "line": {
          "color": "rgba(255, 255, 255, 0.0)",
          "dash": "solid",
          "width": 1
         },
         "mode": "lines",
         "type": "scatter",
         "x": [
          0.5805254513338318,
          0.6125040360135718,
          null,
          0.6105801871055249,
          0.6045345196892521,
          null,
          0.6105801871055249,
          0.6129500083989542,
          null
         ],
         "y": [
          0.10804518699319077,
          0.5403944327175897,
          null,
          0.514384068825257,
          0.4905740049667738,
          null,
          0.514384068825257,
          0.48849683324017906,
          null
         ]
        },
        {
         "hoverinfo": "none",
         "line": {
          "color": "rgba(255, 255, 255, 0.0)",
          "dash": "solid",
          "width": 1
         },
         "mode": "lines",
         "type": "scatter",
         "x": [
          0.1022208712794197,
          0.3286774867333624,
          null,
          0.3158105044741989,
          0.3054075705275606,
          null,
          0.3158105044741989,
          0.30162884310661575,
          null
         ],
         "y": [
          0.8536450927107452,
          0.6480934453741629,
          null,
          0.6597726334355051,
          0.677876401776463,
          null,
          0.6597726334355051,
          0.6639839741312678,
          null
         ]
        },
        {
         "hoverinfo": "none",
         "line": {
          "color": "rgba(255, 255, 255, 0.0)",
          "dash": "solid",
          "width": 1
         },
         "mode": "lines",
         "type": "scatter",
         "x": [
          0.7646819435859958,
          0.11931960619673054,
          null,
          0.13277696680644344,
          0.14712070091113424,
          null,
          0.13277696680644344,
          0.1441458479773133,
          null
         ],
         "y": [
          0.45957032096768424,
          0.018633553602880992,
          null,
          0.027828148237135426,
          0.02934715163701501,
          null,
          0.027828148237135426,
          0.043877008350899374,
          null
         ]
        },
        {
         "hoverinfo": "none",
         "line": {
          "color": "rgba(255, 255, 255, 0.0)",
          "dash": "solid",
          "width": 1
         },
         "mode": "lines",
         "type": "scatter",
         "x": [
          0.7646819435859958,
          0.5526782610616999,
          null,
          0.5649331436936277,
          0.5744242394682462,
          null,
          0.5649331436936277,
          0.5788571210154737,
          null
         ],
         "y": [
          0.45957032096768424,
          0.6965916677129139,
          null,
          0.6828906378485323,
          0.6631857709786347,
          null,
          0.6828906378485323,
          0.6764173171823431,
          null
         ]
        },
        {
         "hoverinfo": "none",
         "line": {
          "color": "rgba(255, 255, 255, 0.0)",
          "dash": "solid",
          "width": 1
         },
         "mode": "lines",
         "type": "scatter",
         "x": [
          0.7646819435859958,
          0.3764259880841979,
          null,
          0.3902147222319993,
          0.4021943105898914,
          null,
          0.3902147222319993,
          0.4045808956146012,
          null
         ],
         "y": [
          0.45957032096768424,
          0.6672709087146321,
          null,
          0.6598945165532207,
          0.6454037602856084,
          null,
          0.6598945165532207,
          0.6602913996410402,
          null
         ]
        },
        {
         "hoverinfo": "none",
         "line": {
          "color": "rgba(255, 255, 255, 0.0)",
          "dash": "solid",
          "width": 1
         },
         "mode": "lines",
         "type": "scatter",
         "x": [
          0.21976896563283277,
          0.6125040360135718,
          null,
          0.5981466657498182,
          0.5842686672220062,
          null,
          0.5981466657498182,
          0.5845924248759287,
          null
         ],
         "y": [
          0.5130220934181828,
          0.5403944327175897,
          null,
          0.5393937713559097,
          0.5461885997554152,
          null,
          0.5393937713559097,
          0.5306870063322622,
          null
         ]
        },
        {
         "hoverinfo": "none",
         "line": {
          "color": "rgba(255, 255, 255, 0.0)",
          "dash": "solid",
          "width": 1
         },
         "mode": "lines",
         "type": "scatter",
         "x": [
          0.2235189707639248,
          0.5805254513338318,
          null,
          0.5673101257542703,
          0.5563512452994729,
          null,
          0.5673101257542703,
          0.5530188407254076,
          null
         ],
         "y": [
          0.38628741419589163,
          0.10804518699319077,
          null,
          0.1183448925240151,
          0.1353188432901957,
          null,
          0.1183448925240151,
          0.12105031079952512,
          null
         ]
        },
        {
         "hoverinfo": "none",
         "line": {
          "color": "rgba(255, 255, 255, 0.0)",
          "dash": "solid",
          "width": 1
         },
         "mode": "lines",
         "type": "scatter",
         "x": [
          0.3156022120837657,
          0.8367228626947864,
          null,
          0.8227561423420257,
          0.8104094768835775,
          null,
          0.8227561423420257,
          0.8084169726276628,
          null
         ],
         "y": [
          0.31525065159337873,
          0.08547172834581584,
          null,
          0.0916301063724672,
          0.1050533347783591,
          null,
          0.0916301063724672,
          0.08997352445195406,
          null
         ]
        },
        {
         "hoverinfo": "none",
         "line": {
          "color": "rgba(255, 255, 255, 0.0)",
          "dash": "solid",
          "width": 1
         },
         "mode": "lines",
         "type": "scatter",
         "x": [
          0.3156022120837657,
          0.7300559277230534,
          null,
          0.7157727108393251,
          0.7016673450267921,
          null,
          0.7157727108393251,
          0.7025875201096171,
          null
         ],
         "y": [
          0.31525065159337873,
          0.3977760371687721,
          null,
          0.3949319850198645,
          0.39992572338741655,
          null,
          0.3949319850198645,
          0.38450419306265743,
          null
         ]
        },
        {
         "hoverinfo": "none",
         "line": {
          "color": "rgba(255, 255, 255, 0.0)",
          "dash": "solid",
          "width": 1
         },
         "mode": "lines",
         "type": "scatter",
         "x": [
          0.3156022120837657,
          0.6203305331304902,
          null,
          0.6059767994948613,
          0.5920762091937797,
          null,
          0.6059767994948613,
          0.5924520988013311,
          null
         ],
         "y": [
          0.31525065159337873,
          0.33991532341532626,
          null,
          0.33875353402756486,
          0.3453924677181448,
          null,
          0.33875353402756486,
          0.3298948007473702,
          null
         ]
        },
        {
         "hoverinfo": "none",
         "line": {
          "color": "rgba(255, 255, 255, 0.0)",
          "dash": "solid",
          "width": 1
         },
         "mode": "lines",
         "type": "scatter",
         "x": [
          0.3156022120837657,
          0.3764259880841979,
          null,
          0.372101268859142,
          0.3639206383853718,
          null,
          0.372101268859142,
          0.37201877517107446,
          null
         ],
         "y": [
          0.31525065159337873,
          0.6672709087146321,
          null,
          0.6422414075279486,
          0.6206645024896235,
          null,
          0.6422414075279486,
          0.6159951209897706,
          null
         ]
        },
        {
         "hoverinfo": "none",
         "line": {
          "color": "rgba(255, 255, 255, 0.0)",
          "dash": "solid",
          "width": 1
         },
         "mode": "lines",
         "type": "scatter",
         "x": [
          0.3156022120837657,
          0.122398484876439,
          null,
          0.13441427295748076,
          0.14822135361828867,
          null,
          0.13441427295748076,
          0.14356543389551235,
          null
         ],
         "y": [
          0.31525065159337873,
          0.08386532725608942,
          null,
          0.09825571745449627,
          0.10551668390187853,
          null,
          0.09825571745449627,
          0.11849008070570106,
          null
         ]
        },
        {
         "hoverinfo": "none",
         "line": {
          "color": "rgba(255, 255, 255, 0.0)",
          "dash": "solid",
          "width": 1
         },
         "mode": "lines",
         "type": "scatter",
         "x": [
          0.3286774867333624,
          0.5526782610616999,
          null,
          0.5384103065947159,
          0.5242798727256088,
          null,
          0.5384103065947159,
          0.5252793454088379,
          null
         ],
         "y": [
          0.6480934453741629,
          0.6965916677129139,
          null,
          0.6935025246948425,
          0.6982538794277443,
          null,
          0.6935025246948425,
          0.6828488278713584,
          null
         ]
        },
        {
         "hoverinfo": "none",
         "line": {
          "color": "rgba(255, 255, 255, 0.0)",
          "dash": "solid",
          "width": 1
         },
         "mode": "lines",
         "type": "scatter",
         "x": [
          0.3286774867333624,
          0.661599770590562,
          null,
          0.6485341589846367,
          0.6378184129964131,
          null,
          0.6485341589846367,
          0.6342857939330937,
          null
         ],
         "y": [
          0.6480934453741629,
          0.3698807037983498,
          null,
          0.3807992268336189,
          0.39828353376216075,
          null,
          0.3807992268336189,
          0.384176646830979,
          null
         ]
        },
        {
         "hoverinfo": "none",
         "marker": {
          "color": "rgba(255, 255, 255, 0.0)",
          "line": {
           "color": "rgba(255, 255, 255, 0.0)",
           "width": 1
          },
          "size": 20,
          "symbol": "circle"
         },
         "mode": "markers+text",
         "text": [
          "('Atlanta Hawks',)"
         ],
         "textfont": {
          "color": "rgb(0, 0, 0)"
         },
         "textposition": "middle center",
         "type": "scatter",
         "x": [
          0.11931960619673054
         ],
         "y": [
          0.018633553602880992
         ]
        },
        {
         "hoverinfo": "none",
         "marker": {
          "color": "rgba(255, 255, 255, 0.0)",
          "line": {
           "color": "rgba(255, 255, 255, 0.0)",
           "width": 1
          },
          "size": 20,
          "symbol": "circle"
         },
         "mode": "markers+text",
         "text": [
          "('Boston Celtics',)"
         ],
         "textfont": {
          "color": "rgb(0, 0, 0)"
         },
         "textposition": "middle center",
         "type": "scatter",
         "x": [
          0.6019142956893831
         ],
         "y": [
          0.23551537854926619
         ]
        },
        {
         "hoverinfo": "none",
         "marker": {
          "color": "rgba(255, 255, 255, 0.0)",
          "line": {
           "color": "rgba(255, 255, 255, 0.0)",
           "width": 1
          },
          "size": 20,
          "symbol": "circle"
         },
         "mode": "markers+text",
         "text": [
          "('Brooklyn Nets',)"
         ],
         "textfont": {
          "color": "rgb(0, 0, 0)"
         },
         "textposition": "middle center",
         "type": "scatter",
         "x": [
          0.7146533834750309
         ],
         "y": [
          0.534771125053913
         ]
        },
        {
         "hoverinfo": "none",
         "marker": {
          "color": "rgba(255, 255, 255, 0.0)",
          "line": {
           "color": "rgba(255, 255, 255, 0.0)",
           "width": 1
          },
          "size": 20,
          "symbol": "circle"
         },
         "mode": "markers+text",
         "text": [
          "('Charlotte Hornets',)"
         ],
         "textfont": {
          "color": "rgb(0, 0, 0)"
         },
         "textposition": "middle center",
         "type": "scatter",
         "x": [
          0.27873525345969663
         ],
         "y": [
          0.764994389785598
         ]
        },
        {
         "hoverinfo": "none",
         "marker": {
          "color": "rgba(255, 255, 255, 0.0)",
          "line": {
           "color": "rgba(255, 255, 255, 0.0)",
           "width": 1
          },
          "size": 20,
          "symbol": "circle"
         },
         "mode": "markers+text",
         "text": [
          "('Chicago Bulls',)"
         ],
         "textfont": {
          "color": "rgb(0, 0, 0)"
         },
         "textposition": "middle center",
         "type": "scatter",
         "x": [
          0.4900300561762585
         ],
         "y": [
          0.11795673627221848
         ]
        },
        {
         "hoverinfo": "none",
         "marker": {
          "color": "rgba(255, 255, 255, 0.0)",
          "line": {
           "color": "rgba(255, 255, 255, 0.0)",
           "width": 1
          },
          "size": 20,
          "symbol": "circle"
         },
         "mode": "markers+text",
         "text": [
          "('Cleveland Cavaliers',)"
         ],
         "textfont": {
          "color": "rgb(0, 0, 0)"
         },
         "textposition": "middle center",
         "type": "scatter",
         "x": [
          0.26715657375090585
         ],
         "y": [
          0.7299982433843056
         ]
        },
        {
         "hoverinfo": "none",
         "marker": {
          "color": "rgba(255, 255, 255, 0.0)",
          "line": {
           "color": "rgba(255, 255, 255, 0.0)",
           "width": 1
          },
          "size": 20,
          "symbol": "circle"
         },
         "mode": "markers+text",
         "text": [
          "('Dallas Mavericks',)"
         ],
         "textfont": {
          "color": "rgb(0, 0, 0)"
         },
         "textposition": "middle center",
         "type": "scatter",
         "x": [
          0.7919919020707024
         ],
         "y": [
          0.3792170153372445
         ]
        },
        {
         "hoverinfo": "none",
         "marker": {
          "color": "rgba(255, 255, 255, 0.0)",
          "line": {
           "color": "rgba(255, 255, 255, 0.0)",
           "width": 1
          },
          "size": 20,
          "symbol": "circle"
         },
         "mode": "markers+text",
         "text": [
          "('Denver Nuggets',)"
         ],
         "textfont": {
          "color": "rgb(0, 0, 0)"
         },
         "textposition": "middle center",
         "type": "scatter",
         "x": [
          0.6439639636488322
         ],
         "y": [
          0.35239664594787135
         ]
        },
        {
         "hoverinfo": "none",
         "marker": {
          "color": "rgba(255, 255, 255, 0.0)",
          "line": {
           "color": "rgba(255, 255, 255, 0.0)",
           "width": 1
          },
          "size": 20,
          "symbol": "circle"
         },
         "mode": "markers+text",
         "text": [
          "('Detroit Pistons',)"
         ],
         "textfont": {
          "color": "rgb(0, 0, 0)"
         },
         "textposition": "middle center",
         "type": "scatter",
         "x": [
          0.6203305331304902
         ],
         "y": [
          0.33991532341532626
         ]
        },
        {
         "hoverinfo": "none",
         "marker": {
          "color": "rgba(255, 255, 255, 0.0)",
          "line": {
           "color": "rgba(255, 255, 255, 0.0)",
           "width": 1
          },
          "size": 20,
          "symbol": "circle"
         },
         "mode": "markers+text",
         "text": [
          "('Golden State Warriors',)"
         ],
         "textfont": {
          "color": "rgb(0, 0, 0)"
         },
         "textposition": "middle center",
         "type": "scatter",
         "x": [
          0.8367228626947864
         ],
         "y": [
          0.08547172834581584
         ]
        },
        {
         "hoverinfo": "none",
         "marker": {
          "color": "rgba(255, 255, 255, 0.0)",
          "line": {
           "color": "rgba(255, 255, 255, 0.0)",
           "width": 1
          },
          "size": 20,
          "symbol": "circle"
         },
         "mode": "markers+text",
         "text": [
          "('Houston Rockets',)"
         ],
         "textfont": {
          "color": "rgb(0, 0, 0)"
         },
         "textposition": "middle center",
         "type": "scatter",
         "x": [
          0.5526782610616999
         ],
         "y": [
          0.6965916677129139
         ]
        },
        {
         "hoverinfo": "none",
         "marker": {
          "color": "rgba(255, 255, 255, 0.0)",
          "line": {
           "color": "rgba(255, 255, 255, 0.0)",
           "width": 1
          },
          "size": 20,
          "symbol": "circle"
         },
         "mode": "markers+text",
         "text": [
          "('Indiana Pacers',)"
         ],
         "textfont": {
          "color": "rgb(0, 0, 0)"
         },
         "textposition": "middle center",
         "type": "scatter",
         "x": [
          0.6599127034904547
         ],
         "y": [
          0.11376743481814933
         ]
        },
        {
         "hoverinfo": "none",
         "marker": {
          "color": "rgba(255, 255, 255, 0.0)",
          "line": {
           "color": "rgba(255, 255, 255, 0.0)",
           "width": 1
          },
          "size": 20,
          "symbol": "circle"
         },
         "mode": "markers+text",
         "text": [
          "('LA Clippers',)"
         ],
         "textfont": {
          "color": "rgb(0, 0, 0)"
         },
         "textposition": "middle center",
         "type": "scatter",
         "x": [
          0.122398484876439
         ],
         "y": [
          0.08386532725608942
         ]
        },
        {
         "hoverinfo": "none",
         "marker": {
          "color": "rgba(255, 255, 255, 0.0)",
          "line": {
           "color": "rgba(255, 255, 255, 0.0)",
           "width": 1
          },
          "size": 20,
          "symbol": "circle"
         },
         "mode": "markers+text",
         "text": [
          "('Los Angeles Lakers',)"
         ],
         "textfont": {
          "color": "rgb(0, 0, 0)"
         },
         "textposition": "middle center",
         "type": "scatter",
         "x": [
          0.661599770590562
         ],
         "y": [
          0.3698807037983498
         ]
        },
        {
         "hoverinfo": "none",
         "marker": {
          "color": "rgba(255, 255, 255, 0.0)",
          "line": {
           "color": "rgba(255, 255, 255, 0.0)",
           "width": 1
          },
          "size": 20,
          "symbol": "circle"
         },
         "mode": "markers+text",
         "text": [
          "('Memphis Grizzlies',)"
         ],
         "textfont": {
          "color": "rgb(0, 0, 0)"
         },
         "textposition": "middle center",
         "type": "scatter",
         "x": [
          0.3890199702694477
         ],
         "y": [
          0.2505453207177464
         ]
        },
        {
         "hoverinfo": "none",
         "marker": {
          "color": "rgba(255, 255, 255, 0.0)",
          "line": {
           "color": "rgba(255, 255, 255, 0.0)",
           "width": 1
          },
          "size": 20,
          "symbol": "circle"
         },
         "mode": "markers+text",
         "text": [
          "('Miami Heat',)"
         ],
         "textfont": {
          "color": "rgb(0, 0, 0)"
         },
         "textposition": "middle center",
         "type": "scatter",
         "x": [
          0.043050495351714235
         ],
         "y": [
          0.9866404470516293
         ]
        },
        {
         "hoverinfo": "none",
         "marker": {
          "color": "rgba(255, 255, 255, 0.0)",
          "line": {
           "color": "rgba(255, 255, 255, 0.0)",
           "width": 1
          },
          "size": 20,
          "symbol": "circle"
         },
         "mode": "markers+text",
         "text": [
          "('Milwaukee Bucks',)"
         ],
         "textfont": {
          "color": "rgb(0, 0, 0)"
         },
         "textposition": "middle center",
         "type": "scatter",
         "x": [
          0.6125040360135718
         ],
         "y": [
          0.5403944327175897
         ]
        },
        {
         "hoverinfo": "none",
         "marker": {
          "color": "rgba(255, 255, 255, 0.0)",
          "line": {
           "color": "rgba(255, 255, 255, 0.0)",
           "width": 1
          },
          "size": 20,
          "symbol": "circle"
         },
         "mode": "markers+text",
         "text": [
          "('Minnesota Timberwolves',)"
         ],
         "textfont": {
          "color": "rgb(0, 0, 0)"
         },
         "textposition": "middle center",
         "type": "scatter",
         "x": [
          0.3764259880841979
         ],
         "y": [
          0.6672709087146321
         ]
        },
        {
         "hoverinfo": "none",
         "marker": {
          "color": "rgba(255, 255, 255, 0.0)",
          "line": {
           "color": "rgba(255, 255, 255, 0.0)",
           "width": 1
          },
          "size": 20,
          "symbol": "circle"
         },
         "mode": "markers+text",
         "text": [
          "('New Orleans Pelicans',)"
         ],
         "textfont": {
          "color": "rgb(0, 0, 0)"
         },
         "textposition": "middle center",
         "type": "scatter",
         "x": [
          0.746120228185612
         ],
         "y": [
          0.28315607044925484
         ]
        },
        {
         "hoverinfo": "none",
         "marker": {
          "color": "rgba(255, 255, 255, 0.0)",
          "line": {
           "color": "rgba(255, 255, 255, 0.0)",
           "width": 1
          },
          "size": 20,
          "symbol": "circle"
         },
         "mode": "markers+text",
         "text": [
          "('New York Knicks',)"
         ],
         "textfont": {
          "color": "rgb(0, 0, 0)"
         },
         "textposition": "middle center",
         "type": "scatter",
         "x": [
          0.28984763010955217
         ],
         "y": [
          0.6956448759054679
         ]
        },
        {
         "hoverinfo": "none",
         "marker": {
          "color": "rgba(255, 255, 255, 0.0)",
          "line": {
           "color": "rgba(255, 255, 255, 0.0)",
           "width": 1
          },
          "size": 20,
          "symbol": "circle"
         },
         "mode": "markers+text",
         "text": [
          "('Oklahoma City Thunder',)"
         ],
         "textfont": {
          "color": "rgb(0, 0, 0)"
         },
         "textposition": "middle center",
         "type": "scatter",
         "x": [
          0.4645428575234585
         ],
         "y": [
          0.4601686721849013
         ]
        },
        {
         "hoverinfo": "none",
         "marker": {
          "color": "rgba(255, 255, 255, 0.0)",
          "line": {
           "color": "rgba(255, 255, 255, 0.0)",
           "width": 1
          },
          "size": 20,
          "symbol": "circle"
         },
         "mode": "markers+text",
         "text": [
          "('Orlando Magic',)"
         ],
         "textfont": {
          "color": "rgb(0, 0, 0)"
         },
         "textposition": "middle center",
         "type": "scatter",
         "x": [
          0.6589911410927456
         ],
         "y": [
          0.1762676117268882
         ]
        },
        {
         "hoverinfo": "none",
         "marker": {
          "color": "rgba(255, 255, 255, 0.0)",
          "line": {
           "color": "rgba(255, 255, 255, 0.0)",
           "width": 1
          },
          "size": 20,
          "symbol": "circle"
         },
         "mode": "markers+text",
         "text": [
          "('Philadelphia 76ers',)"
         ],
         "textfont": {
          "color": "rgb(0, 0, 0)"
         },
         "textposition": "middle center",
         "type": "scatter",
         "x": [
          0.7300559277230534
         ],
         "y": [
          0.3977760371687721
         ]
        },
        {
         "hoverinfo": "none",
         "marker": {
          "color": "rgba(255, 255, 255, 0.0)",
          "line": {
           "color": "rgba(255, 255, 255, 0.0)",
           "width": 1
          },
          "size": 20,
          "symbol": "circle"
         },
         "mode": "markers+text",
         "text": [
          "('Phoenix Suns',)"
         ],
         "textfont": {
          "color": "rgb(0, 0, 0)"
         },
         "textposition": "middle center",
         "type": "scatter",
         "x": [
          0.5805254513338318
         ],
         "y": [
          0.10804518699319077
         ]
        },
        {
         "hoverinfo": "none",
         "marker": {
          "color": "rgba(255, 255, 255, 0.0)",
          "line": {
           "color": "rgba(255, 255, 255, 0.0)",
           "width": 1
          },
          "size": 20,
          "symbol": "circle"
         },
         "mode": "markers+text",
         "text": [
          "('Portland Trail Blazers',)"
         ],
         "textfont": {
          "color": "rgb(0, 0, 0)"
         },
         "textposition": "middle center",
         "type": "scatter",
         "x": [
          0.1022208712794197
         ],
         "y": [
          0.8536450927107452
         ]
        },
        {
         "hoverinfo": "none",
         "marker": {
          "color": "rgba(255, 255, 255, 0.0)",
          "line": {
           "color": "rgba(255, 255, 255, 0.0)",
           "width": 1
          },
          "size": 20,
          "symbol": "circle"
         },
         "mode": "markers+text",
         "text": [
          "('Sacramento Kings',)"
         ],
         "textfont": {
          "color": "rgb(0, 0, 0)"
         },
         "textposition": "middle center",
         "type": "scatter",
         "x": [
          0.7646819435859958
         ],
         "y": [
          0.45957032096768424
         ]
        },
        {
         "hoverinfo": "none",
         "marker": {
          "color": "rgba(255, 255, 255, 0.0)",
          "line": {
           "color": "rgba(255, 255, 255, 0.0)",
           "width": 1
          },
          "size": 20,
          "symbol": "circle"
         },
         "mode": "markers+text",
         "text": [
          "('San Antonio Spurs',)"
         ],
         "textfont": {
          "color": "rgb(0, 0, 0)"
         },
         "textposition": "middle center",
         "type": "scatter",
         "x": [
          0.21976896563283277
         ],
         "y": [
          0.5130220934181828
         ]
        },
        {
         "hoverinfo": "none",
         "marker": {
          "color": "rgba(255, 255, 255, 0.0)",
          "line": {
           "color": "rgba(255, 255, 255, 0.0)",
           "width": 1
          },
          "size": 20,
          "symbol": "circle"
         },
         "mode": "markers+text",
         "text": [
          "('Toronto Raptors',)"
         ],
         "textfont": {
          "color": "rgb(0, 0, 0)"
         },
         "textposition": "middle center",
         "type": "scatter",
         "x": [
          0.2235189707639248
         ],
         "y": [
          0.38628741419589163
         ]
        },
        {
         "hoverinfo": "none",
         "marker": {
          "color": "rgba(255, 255, 255, 0.0)",
          "line": {
           "color": "rgba(255, 255, 255, 0.0)",
           "width": 1
          },
          "size": 20,
          "symbol": "circle"
         },
         "mode": "markers+text",
         "text": [
          "('Utah Jazz',)"
         ],
         "textfont": {
          "color": "rgb(0, 0, 0)"
         },
         "textposition": "middle center",
         "type": "scatter",
         "x": [
          0.3156022120837657
         ],
         "y": [
          0.31525065159337873
         ]
        },
        {
         "hoverinfo": "none",
         "marker": {
          "color": "rgba(255, 255, 255, 0.0)",
          "line": {
           "color": "rgba(255, 255, 255, 0.0)",
           "width": 1
          },
          "size": 20,
          "symbol": "circle"
         },
         "mode": "markers+text",
         "text": [
          "('Washington Wizards',)"
         ],
         "textfont": {
          "color": "rgb(0, 0, 0)"
         },
         "textposition": "middle center",
         "type": "scatter",
         "x": [
          0.3286774867333624
         ],
         "y": [
          0.6480934453741629
         ]
        },
        {
         "hoverinfo": "none",
         "mode": "text",
         "text": [
          null,
          null,
          null,
          null,
          null,
          null,
          null,
          null,
          null,
          null,
          null,
          null,
          null,
          null,
          null,
          null,
          null,
          null,
          null,
          null,
          null,
          null,
          null,
          null,
          null,
          null,
          null,
          null,
          null,
          null,
          null,
          null,
          null,
          null,
          null,
          null,
          null,
          null,
          null,
          null,
          null,
          null,
          null,
          null,
          null,
          null,
          null,
          null,
          null,
          null,
          null,
          null,
          null,
          null,
          null,
          null,
          null,
          null,
          null,
          null,
          null,
          null,
          null,
          null,
          null
         ],
         "textfont": {
          "color": "rgb(0, 0, 0)"
         },
         "textposition": "middle center",
         "type": "scatter",
         "x": [
          0.3266532256963092,
          0.15607435862772784,
          0.4200647747664901,
          0.35691117071105477,
          0.1586601284244791,
          0.24805067773376566,
          0.6267718079041538,
          0.4714321194169772,
          0.6701196391022194,
          0.5718434065512809,
          0.5072593777202042,
          0.3666305582717705,
          0.34592260640797573,
          0.2593340858524818,
          0.20667048172460442,
          0.3063792905221763,
          0.6945136225747367,
          0.4477951409522257,
          0.5729284277683682,
          0.6837481421468434,
          0.43230199220638343,
          0.7871487809311822,
          0.48278403944533127,
          0.4541732319781833,
          0.3726238838016298,
          0.3879926098248164,
          0.7587076106962539,
          0.6926997480440829,
          0.5595759146769448,
          0.511889755729223,
          0.5219613337829602,
          0.5134223544553116,
          0.3450033027173824,
          0.3021381179134773,
          0.4210567020345464,
          0.3749124714992476,
          0.6640114882056796,
          0.6006562432239856,
          0.3172629472982197,
          0.1900193470600839,
          0.4842531434168694,
          0.3527415172205503,
          0.6301942281807288,
          0.30088154589695526,
          0.39142390669978255,
          0.5954662758535646,
          0.4665212302952597,
          0.5522874111138422,
          0.6085567811441095,
          0.5867185050977834,
          0.534417864776357,
          0.582276311715399,
          0.22184252764341886,
          0.447034022816149,
          0.6511799695963632,
          0.5665160270226001,
          0.415588724991593,
          0.40766041192135544,
          0.5795337184642102,
          0.521272196528792,
          0.4673303930715862,
          0.3323126058998921,
          0.22687784656285093,
          0.4389868344005697,
          0.5011155787717861
         ],
         "y": [
          0.3775480285562005,
          0.2749608045447981,
          0.23305574485819236,
          0.307904965386805,
          0.21452796293875853,
          0.15833681002223832,
          0.5926534412069312,
          0.43463477699052316,
          0.3702634157591707,
          0.1729026851122254,
          0.41236669968023393,
          0.40944040513042945,
          0.2949962181225544,
          0.55221289473632,
          0.36500026017295656,
          0.7102571956043349,
          0.22214885619781774,
          0.4951670151911989,
          0.5096604432459566,
          0.37404383726807966,
          0.5137644830189888,
          0.26381104632638447,
          0.4589552648163426,
          0.4019720164923572,
          0.4624691874109338,
          0.2520786221076077,
          0.24729189998347023,
          0.4094454885881028,
          0.3895665212232069,
          0.4957817327441477,
          0.33573697027731975,
          0.3271117013858908,
          0.44230631075925964,
          0.8666747630432072,
          0.43769049257865805,
          0.2511230209336657,
          0.5638175885513854,
          0.34684409926686854,
          0.693670432243084,
          0.7508089338990962,
          0.42459880527462,
          0.4829898633668214,
          0.4457024667134705,
          0.24953114911959628,
          0.07153308338044617,
          0.40294013290457187,
          0.37309828559657376,
          0.40005824406324075,
          0.2518851257086265,
          0.2318341203390599,
          0.0868012900956853,
          0.32773424250631067,
          0.7743743075001386,
          0.21451841239194883,
          0.5556941221307933,
          0.53823174616171,
          0.552935900085137,
          0.27130768275562983,
          0.22587519880298684,
          0.3826055201056814,
          0.3538039812324305,
          0.4991610546438713,
          0.17760788836330343,
          0.6984068513178714,
          0.532854963504167
         ]
        },
        {
         "hoverinfo": "none",
         "marker": {
          "color": "rgba(255, 255, 255, 0.0)",
          "line": {
           "color": "rgba(255, 255, 255, 0.0)",
           "width": 0
          },
          "size": 0,
          "symbol": "circle"
         },
         "mode": "markers",
         "type": "scatter",
         "x": [
          0.5,
          0,
          1,
          0.5
         ],
         "y": [
          0,
          0.5,
          0.5,
          1
         ]
        }
       ],
       "frames": [
        {
         "data": [
          {
           "hoverinfo": "none",
           "line": {
            "color": "rgba(255, 255, 255, 0.0)",
            "dash": "solid",
            "width": 1
           },
           "mode": "lines",
           "type": "scatter",
           "x": [
            0.11931960619673054,
            0.5526782610616999,
            null,
            0.5417653383328875,
            0.5285779795073159,
            null,
            0.5417653383328875,
            0.5341016705867737,
            null
           ],
           "y": [
            0.018633553602880992,
            0.6965916677129139,
            null,
            0.6795191933787864,
            0.6691005545049208,
            null,
            0.6795191933787864,
            0.6573179168705474,
            null
           ]
          },
          {
           "hoverinfo": "none",
           "line": {
            "color": "rgba(255, 255, 255, 0.0)",
            "dash": "solid",
            "width": 1
           },
           "mode": "lines",
           "type": "scatter",
           "x": [
            0.11931960619673054,
            0.21976896563283277,
            null,
            0.21476944584252328,
            0.20601258646315165,
            null,
            0.21476944584252328,
            0.21397385785431838,
            null
           ],
           "y": [
            0.018633553602880992,
            0.5130220934181828,
            null,
            0.4884156120749034,
            0.4676071230213606,
            null,
            0.4884156120749034,
            0.4622091621359997,
            null
           ]
          },
          {
           "hoverinfo": "none",
           "line": {
            "color": "rgba(255, 255, 255, 0.0)",
            "dash": "solid",
            "width": 1
           },
           "mode": "lines",
           "type": "scatter",
           "x": [
            0.11931960619673054,
            0.7300559277230534,
            null,
            0.7164521752101635,
            0.7020898264371777,
            null,
            0.7164521752101635,
            0.7048222016539535,
            null
           ],
           "y": [
            0.018633553602880992,
            0.3977760371687721,
            null,
            0.38933088607531363,
            0.3886068828033578,
            null,
            0.38933088607531363,
            0.3739189673557497,
            null
           ]
          },
          {
           "hoverinfo": "none",
           "line": {
            "color": "rgba(255, 255, 255, 0.0)",
            "dash": "solid",
            "width": 1
           },
           "mode": "lines",
           "type": "scatter",
           "x": [
            0.11751947611791126,
            0.6107039059347525,
            null,
            0.5982706180975996,
            0.584264745295326,
            null
           ],
           "y": [
            0.024311748048194925,
            0.5460726271629036,
            null,
            0.5329189207601926,
            0.5270647898502075,
            null
           ]
          },
          {
           "hoverinfo": "none",
           "line": {
            "color": "rgba(255, 255, 255, 0.0)",
            "dash": "solid",
            "width": 1
           },
           "mode": "lines",
           "type": "scatter",
           "x": [
            0.11931960619673054,
            0.2235189707639248,
            null,
            0.21691306628978568,
            0.20683161508543302,
            null,
            0.21691306628978568,
            0.214372794318492,
            null
           ],
           "y": [
            0.018633553602880992,
            0.38628741419589163,
            null,
            0.3629793422828454,
            0.34427847459274535,
            null,
            0.3629793422828454,
            0.337146106793552,
            null
           ]
          },
          {
           "hoverinfo": "none",
           "line": {
            "color": "rgba(255, 255, 255, 0.0)",
            "dash": "solid",
            "width": 1
           },
           "mode": "lines",
           "type": "scatter",
           "x": [
            0.11931960619673054,
            0.3890199702694477,
            null,
            0.37602033081485964,
            0.3617929800990711,
            null,
            0.37602033081485964,
            0.3654096216977584,
            null
           ],
           "y": [
            0.018633553602880992,
            0.2505453207177464,
            null,
            0.23936710311268303,
            0.23570597248699962,
            null,
            0.23936710311268303,
            0.22167031541535992,
            null
           ]
          },
          {
           "hoverinfo": "none",
           "line": {
            "color": "rgba(255, 255, 255, 0.0)",
            "dash": "solid",
            "width": 1
           },
           "mode": "lines",
           "type": "scatter",
           "x": [
            0.7146533834750309,
            0.5526782610616999,
            null,
            0.5652840813522743,
            0.5752895609015818,
            null,
            0.5652840813522743,
            0.5793642020008579,
            null
           ],
           "y": [
            0.534771125053913,
            0.6965916677129139,
            null,
            0.6839978776932516,
            0.6651613444783402,
            null,
            0.6839978776932516,
            0.6787717966238245,
            null
           ]
          },
          {
           "hoverinfo": "none",
           "line": {
            "color": "rgba(255, 255, 255, 0.0)",
            "dash": "solid",
            "width": 1
           },
           "mode": "lines",
           "type": "scatter",
           "x": [
            0.7146533834750309,
            0.2235189707639248,
            null,
            0.2376939731973996,
            0.2519291436081149,
            null,
            0.2376939731973996,
            0.25054259690296976,
            null
           ],
           "y": [
            0.534771125053913,
            0.38628741419589163,
            null,
            0.3905729150858117,
            0.3870146646454304,
            null,
            0.3905729150858117,
            0.4023193562748349,
            null
           ]
          },
          {
           "hoverinfo": "none",
           "line": {
            "color": "rgba(255, 255, 255, 0.0)",
            "dash": "solid",
            "width": 1
           },
           "mode": "lines",
           "type": "scatter",
           "x": [
            0.7146533834750309,
            0.6019142956893831,
            null,
            0.6100597231781211,
            0.6213390651977954,
            null,
            0.6100597231781211,
            0.6143436293574829,
            null
           ],
           "y": [
            0.534771125053913,
            0.23551537854926619,
            null,
            0.2571366816094463,
            0.273395009142937,
            null,
            0.2571366816094463,
            0.28218959358762197,
            null
           ]
          },
          {
           "hoverinfo": "none",
           "line": {
            "color": "rgba(255, 255, 255, 0.0)",
            "dash": "solid",
            "width": 1
           },
           "mode": "lines",
           "type": "scatter",
           "x": [
            0.4900300561762585,
            0.6589911410927456,
            null,
            0.6448730595784812,
            0.6305973319958157,
            null,
            0.6448730595784812,
            0.6321737503070937,
            null
           ],
           "y": [
            0.11795673627221848,
            0.1762676117268882,
            null,
            0.17139526083470463,
            0.1743621434134964,
            null,
            0.17139526083470463,
            0.15911890906565956,
            null
           ]
          },
          {
           "hoverinfo": "none",
           "line": {
            "color": "rgba(255, 255, 255, 0.0)",
            "dash": "solid",
            "width": 1
           },
           "mode": "lines",
           "type": "scatter",
           "x": [
            0.4900300561762585,
            0.5526782610616999,
            null,
            0.5498905575861232,
            0.5430620701709902,
            null,
            0.5498905575861232,
            0.5513926552990946,
            null
           ],
           "y": [
            0.11795673627221848,
            0.6965916677129139,
            null,
            0.6708437215041282,
            0.6477507049399138,
            null,
            0.6708437215041282,
            0.64474083300175,
            null
           ]
          },
          {
           "hoverinfo": "none",
           "line": {
            "color": "rgba(255, 255, 255, 0.0)",
            "dash": "solid",
            "width": 1
           },
           "mode": "lines",
           "type": "scatter",
           "x": [
            0.4900300561762585,
            0.26715657375090585,
            null,
            0.2751143744260125,
            0.27918151545432673,
            null,
            0.2751143744260125,
            0.28625198811393376,
            null
           ],
           "y": [
            0.11795673627221848,
            0.7299982433843056,
            null,
            0.7081450185614686,
            0.68297183320899,
            null,
            0.7081450185614686,
            0.6915638377573038,
            null
           ]
          },
          {
           "hoverinfo": "none",
           "line": {
            "color": "rgba(255, 255, 255, 0.0)",
            "dash": "solid",
            "width": 1
           },
           "mode": "lines",
           "type": "scatter",
           "x": [
            0.4900300561762585,
            0.21976896563283277,
            null,
            0.23098722418359172,
            0.23905157924957163,
            null,
            0.23098722418359172,
            0.24435729259358252,
            null
           ],
           "y": [
            0.11795673627221848,
            0.5130220934181828,
            null,
            0.4966233387472835,
            0.47490085630332646,
            null,
            0.4966233387472835,
            0.4870131637645823,
            null
           ]
          },
          {
           "hoverinfo": "none",
           "line": {
            "color": "rgba(255, 255, 255, 0.0)",
            "dash": "solid",
            "width": 1
           },
           "mode": "lines",
           "type": "scatter",
           "x": [
            0.26715657375090585,
            0.2235189707639248,
            null,
            0.22676509845715712,
            0.23400243617697405,
            null,
            0.22676509845715712,
            0.22573004920475212,
            null
           ],
           "y": [
            0.7299982433843056,
            0.38628741419589163,
            null,
            0.41185548312546194,
            0.4345291769932983,
            null,
            0.41185548312546194,
            0.43803400766741996,
            null
           ]
          },
          {
           "hoverinfo": "none",
           "line": {
            "color": "rgba(255, 255, 255, 0.0)",
            "dash": "solid",
            "width": 1
           },
           "mode": "lines",
           "type": "scatter",
           "x": [
            0.26715657375090585,
            0.11931960619673054,
            null,
            0.12441911510501014,
            0.13326040522785915,
            null,
            0.12441911510501014,
            0.1253213188555623,
            null
           ],
           "y": [
            0.7299982433843056,
            0.018633553602880992,
            null,
            0.043171466092506244,
            0.06386046989911932,
            null,
            0.043171466092506244,
            0.06936638862251304,
            null
           ]
          },
          {
           "hoverinfo": "none",
           "line": {
            "color": "rgba(255, 255, 255, 0.0)",
            "dash": "solid",
            "width": 1
           },
           "mode": "lines",
           "type": "scatter",
           "x": [
            0.26715657375090585,
            0.3286774867333624,
            null,
            0.3170661005023806,
            0.30847408845337315,
            null,
            0.3170661005023806,
            0.30347255063981293,
            null
           ],
           "y": [
            0.7299982433843056,
            0.6480934453741629,
            null,
            0.6635520625786494,
            0.6845886265631281,
            null,
            0.6635520625786494,
            0.6720518607679122,
            null
           ]
          },
          {
           "hoverinfo": "none",
           "line": {
            "color": "rgba(255, 255, 255, 0.0)",
            "dash": "solid",
            "width": 1
           },
           "mode": "lines",
           "type": "scatter",
           "x": [
            0.7919919020707024,
            0.5805254513338318,
            null,
            0.5922851285358136,
            0.6059590805774158,
            null,
            0.5922851285358136,
            0.601080073956995,
            null
           ],
           "y": [
            0.3792170153372445,
            0.10804518699319077,
            null,
            0.12312508811455242,
            0.1311830304358798,
            null,
            0.12312508811455242,
            0.14387990538051088,
            null
           ]
          },
          {
           "hoverinfo": "none",
           "line": {
            "color": "rgba(255, 255, 255, 0.0)",
            "dash": "solid",
            "width": 1
           },
           "mode": "lines",
           "type": "scatter",
           "x": [
            0.6203305331304902,
            0.28984763010955217,
            null,
            0.3022263444526046,
            0.3118966750994626,
            null,
            0.3022263444526046,
            0.31620768880650757,
            null
           ],
           "y": [
            0.33991532341532626,
            0.6956448759054679,
            null,
            0.6823205118509124,
            0.6629086372796141,
            null,
            0.6823205118509124,
            0.6762738840707896,
            null
           ]
          },
          {
           "hoverinfo": "none",
           "line": {
            "color": "rgba(255, 255, 255, 0.0)",
            "dash": "solid",
            "width": 1
           },
           "mode": "lines",
           "type": "scatter",
           "x": [
            0.6203305331304902,
            0.5526782610616999,
            null,
            0.5573822164255222,
            0.5578641033664419,
            null,
            0.5573822164255222,
            0.5658880498891575,
            null
           ],
           "y": [
            0.33991532341532626,
            0.6965916677129139,
            null,
            0.6717914717756491,
            0.6455595190624001,
            null,
            0.6717914717756491,
            0.6506383602562308,
            null
           ]
          },
          {
           "hoverinfo": "none",
           "line": {
            "color": "rgba(255, 255, 255, 0.0)",
            "dash": "solid",
            "width": 1
           },
           "mode": "lines",
           "type": "scatter",
           "x": [
            0.8367228626947864,
            0.5526782610616999,
            null,
            0.5619776503577483,
            0.5676250349363824,
            null,
            0.5619776503577483,
            0.5740983576213123,
            null
           ],
           "y": [
            0.08547172834581584,
            0.6965916677129139,
            null,
            0.6765840978098845,
            0.6524498800998801,
            null,
            0.6765840978098845,
            0.6624903923456983,
            null
           ]
          },
          {
           "hoverinfo": "none",
           "line": {
            "color": "rgba(255, 255, 255, 0.0)",
            "dash": "solid",
            "width": 1
           },
           "mode": "lines",
           "type": "scatter",
           "x": [
            0.8367228626947864,
            0.043050495351714235,
            null,
            0.05525322722380989,
            0.06466951403265686,
            null,
            0.05525322722380989,
            0.06915237046382092,
            null
           ],
           "y": [
            0.08547172834581584,
            0.9866404470516293,
            null,
            0.9727849561735734,
            0.9529606805412517,
            null,
            0.9727849561735734,
            0.9661359197847874,
            null
           ]
          },
          {
           "hoverinfo": "none",
           "line": {
            "color": "rgba(255, 255, 255, 0.0)",
            "dash": "solid",
            "width": 1
           },
           "mode": "lines",
           "type": "scatter",
           "x": [
            0.8367228626947864,
            0.7646819435859958,
            null,
            0.7694499058616701,
            0.7699995449661209,
            null,
            0.7694499058616701,
            0.7780102834386712,
            null
           ],
           "y": [
            0.08547172834581584,
            0.45957032096768424,
            null,
            0.4348109481130665,
            0.40858344118097867,
            null,
            0.4348109481130665,
            0.4137313903733895,
            null
           ]
          },
          {
           "hoverinfo": "none",
           "line": {
            "color": "rgba(255, 255, 255, 0.0)",
            "dash": "solid",
            "width": 1
           },
           "mode": "lines",
           "type": "scatter",
           "x": [
            0.5526782610616999,
            0.3890199702694477,
            null,
            0.3970194536042383,
            0.4081886630699972,
            null,
            0.3970194536042383,
            0.4011346407862347,
            null
           ],
           "y": [
            0.6965916677129139,
            0.2505453207177464,
            null,
            0.2723477011658073,
            0.2888578061856602,
            null,
            0.2723477011658073,
            0.2974948153296169,
            null
           ]
          },
          {
           "hoverinfo": "none",
           "line": {
            "color": "rgba(255, 255, 255, 0.0)",
            "dash": "solid",
            "width": 1
           },
           "mode": "lines",
           "type": "scatter",
           "x": [
            0.6599127034904547,
            0.26715657375090585,
            null,
            0.2780560326790374,
            0.2857021986791758,
            null,
            0.2780560326790374,
            0.2912351683304389,
            null
           ],
           "y": [
            0.11376743481814933,
            0.7299982433843056,
            null,
            0.7128970910925002,
            0.6906756858898738,
            null,
            0.7128970910925002,
            0.7024437867142151,
            null
           ]
          },
          {
           "hoverinfo": "none",
           "line": {
            "color": "rgba(255, 255, 255, 0.0)",
            "dash": "solid",
            "width": 1
           },
           "mode": "lines",
           "type": "scatter",
           "x": [
            0.6599127034904547,
            0.1022208712794197,
            null,
            0.11384633980052405,
            0.12245752547015538,
            null,
            0.11384633980052405,
            0.1274476226936769,
            null
           ],
           "y": [
            0.11376743481814933,
            0.8536450927107452,
            null,
            0.83822183577116,
            0.8172114504427417,
            null,
            0.83822183577116,
            0.8297634208284876,
            null
           ]
          },
          {
           "hoverinfo": "none",
           "line": {
            "color": "rgba(255, 255, 255, 0.0)",
            "dash": "solid",
            "width": 1
           },
           "mode": "lines",
           "type": "scatter",
           "x": [
            0.122398484876439,
            0.661599770590562,
            null,
            0.6478018738849185,
            0.6334362326884646,
            null,
            0.6478018738849185,
            0.635804246689198,
            null
           ],
           "y": [
            0.08386532725608942,
            0.3698807037983498,
            null,
            0.36256171045335217,
            0.36301837511286916,
            null,
            0.36256171045335217,
            0.3481208429815478,
            null
           ]
          },
          {
           "hoverinfo": "none",
           "line": {
            "color": "rgba(255, 255, 255, 0.0)",
            "dash": "solid",
            "width": 1
           },
           "mode": "lines",
           "type": "scatter",
           "x": [
            0.661599770590562,
            0.8367228626947864,
            null,
            0.8259849667605355,
            0.8185477857496759,
            null,
            0.8259849667605355,
            0.8129055401665484,
            null
           ],
           "y": [
            0.3698807037983498,
            0.08547172834581584,
            null,
            0.10291062771928432,
            0.12536747558424513,
            null,
            0.10291062771928432,
            0.1137738136576517,
            null
           ]
          },
          {
           "hoverinfo": "none",
           "line": {
            "color": "rgba(255, 255, 255, 0.0)",
            "dash": "solid",
            "width": 1
           },
           "mode": "lines",
           "type": "scatter",
           "x": [
            0.661599770590562,
            0.7300559277230534,
            null,
            0.7160327639330671,
            0.7017115067842183,
            null,
            0.7160327639330671,
            0.7035603409587984,
            null
           ],
           "y": [
            0.3698807037983498,
            0.3977760371687721,
            null,
            0.39206171072662893,
            0.3941729822019964,
            null,
            0.39206171072662893,
            0.37903223012935217,
            null
           ]
          },
          {
           "hoverinfo": "none",
           "line": {
            "color": "rgba(255, 255, 255, 0.0)",
            "dash": "solid",
            "width": 1
           },
           "mode": "lines",
           "type": "scatter",
           "x": [
            0.661599770590562,
            0.4645428575234585,
            null,
            0.47847900915961866,
            0.4907597621884692,
            null,
            0.47847900915961866,
            0.4928256844827909,
            null
           ],
           "y": [
            0.3698807037983498,
            0.4601686721849013,
            null,
            0.4537833756795849,
            0.44015986622954795,
            null,
            0.4537833756795849,
            0.4552066716387918,
            null
           ]
          },
          {
           "hoverinfo": "none",
           "line": {
            "color": "rgba(255, 255, 255, 0.0)",
            "dash": "solid",
            "width": 1
           },
           "mode": "lines",
           "type": "scatter",
           "x": [
            0.661599770590562,
            0.3764259880841979,
            null,
            0.38890377832586853,
            0.3987192396866351,
            null,
            0.38890377832586853,
            0.40292929360814866,
            null
           ],
           "y": [
            0.3698807037983498,
            0.6672709087146321,
            null,
            0.654258588422566,
            0.6350913347243442,
            null,
            0.654258588422566,
            0.6485635533543871,
            null
           ]
          },
          {
           "hoverinfo": "none",
           "line": {
            "color": "rgba(255, 255, 255, 0.0)",
            "dash": "solid",
            "width": 1
           },
           "mode": "lines",
           "type": "scatter",
           "x": [
            0.3890199702694477,
            0.661599770590562,
            null,
            0.6476276039162193,
            0.6332899230181273,
            null,
            0.6476276039162193,
            0.6352690435020226,
            null
           ],
           "y": [
            0.2505453207177464,
            0.3698807037983498,
            null,
            0.3637636919706778,
            0.36546273271596036,
            null,
            0.3637636919706778,
            0.35037704201861936,
            null
           ]
          },
          {
           "hoverinfo": "none",
           "line": {
            "color": "rgba(255, 255, 255, 0.0)",
            "dash": "solid",
            "width": 1
           },
           "mode": "lines",
           "type": "scatter",
           "x": [
            0.3890199702694477,
            0.6439639636488322,
            null,
            0.6299278809214987,
            0.6156115664061896,
            null,
            0.6299278809214987,
            0.6174258314491927,
            null
           ],
           "y": [
            0.2505453207177464,
            0.35239664594787135,
            null,
            0.3467891648385157,
            0.3490094838206576,
            null,
            0.3467891648385157,
            0.33385478322467377,
            null
           ]
          },
          {
           "hoverinfo": "none",
           "line": {
            "color": "rgba(255, 255, 255, 0.0)",
            "dash": "solid",
            "width": 1
           },
           "mode": "lines",
           "type": "scatter",
           "x": [
            0.3890199702694477,
            0.3286774867333624,
            null,
            0.3325165392351308,
            0.3320925230847305,
            null,
            0.3325165392351308,
            0.3402757292627477,
            null
           ],
           "y": [
            0.2505453207177464,
            0.6480934453741629,
            null,
            0.6228010140206728,
            0.5965657268784841,
            null,
            0.6228010140206728,
            0.6007107360214741,
            null
           ]
          },
          {
           "hoverinfo": "none",
           "line": {
            "color": "rgba(255, 255, 255, 0.0)",
            "dash": "solid",
            "width": 1
           },
           "mode": "lines",
           "type": "scatter",
           "x": [
            0.043050495351714235,
            0.5526782610616999,
            null,
            0.5389607799455843,
            0.5271189461378292,
            null,
            0.5389607799455843,
            0.5245929932551061,
            null
           ],
           "y": [
            0.9866404470516293,
            0.6965916677129139,
            null,
            0.7043988142638642,
            0.7192626201155234,
            null,
            0.7043988142638642,
            0.7044519123643528,
            null
           ]
          },
          {
           "hoverinfo": "none",
           "line": {
            "color": "rgba(255, 255, 255, 0.0)",
            "dash": "solid",
            "width": 1
           },
           "mode": "lines",
           "type": "scatter",
           "x": [
            0.6125040360135718,
            0.2235189707639248,
            null,
            0.23756037042563383,
            0.25187454961399147,
            null,
            0.23756037042563383,
            0.2500747141477293,
            null
           ],
           "y": [
            0.5403944327175897,
            0.38628741419589163,
            null,
            0.3918502967614441,
            0.3895845008269937,
            null,
            0.3918502967614441,
            0.40474494209508044,
            null
           ]
          },
          {
           "hoverinfo": "none",
           "line": {
            "color": "rgba(255, 255, 255, 0.0)",
            "dash": "solid",
            "width": 1
           },
           "mode": "lines",
           "type": "scatter",
           "x": [
            0.6143041660923911,
            0.12111973627554982,
            null,
            0.13355302411270276,
            0.1475588969149764,
            null
           ],
           "y": [
            0.5347162382722758,
            0.01295535915756706,
            null,
            0.026109065560277984,
            0.03196319647026307,
            null
           ]
          },
          {
           "hoverinfo": "none",
           "line": {
            "color": "rgba(255, 255, 255, 0.0)",
            "dash": "solid",
            "width": 1
           },
           "mode": "lines",
           "type": "scatter",
           "x": [
            0.6125040360135718,
            0.7146533834750309,
            null,
            0.7002920868046192,
            0.6867001108445618,
            null,
            0.7002920868046192,
            0.6864443212838717,
            null
           ],
           "y": [
            0.5403944327175897,
            0.534771125053913,
            null,
            0.5355617124794227,
            0.5440699058689652,
            null,
            0.5355617124794227,
            0.528564073120747,
            null
           ]
          },
          {
           "hoverinfo": "none",
           "line": {
            "color": "rgba(255, 255, 255, 0.0)",
            "dash": "solid",
            "width": 1
           },
           "mode": "lines",
           "type": "scatter",
           "x": [
            0.746120228185612,
            0.4645428575234585,
            null,
            0.478128721964737,
            0.4897261484887807,
            null,
            0.478128721964737,
            0.4924894395148281,
            null
           ],
           "y": [
            0.28315607044925484,
            0.4601686721849013,
            null,
            0.4516279673479918,
            0.43613441948918535,
            null,
            0.4516279673479918,
            0.4508030212596959,
            null
           ]
          },
          {
           "hoverinfo": "none",
           "line": {
            "color": "rgba(255, 255, 255, 0.0)",
            "dash": "solid",
            "width": 1
           },
           "mode": "lines",
           "type": "scatter",
           "x": [
            0.28984763010955217,
            0.3286774867333624,
            null,
            0.3167431699505386,
            0.3077061582293548,
            null,
            0.3167431699505386,
            0.302977605080891,
            null
           ],
           "y": [
            0.6956448759054679,
            0.6480934453741629,
            null,
            0.6627083289915556,
            0.6831131768852529,
            null,
            0.6627083289915556,
            0.6702277443058969,
            null
           ]
          },
          {
           "hoverinfo": "none",
           "line": {
            "color": "rgba(255, 255, 255, 0.0)",
            "dash": "solid",
            "width": 1
           },
           "mode": "lines",
           "type": "scatter",
           "x": [
            0.28984763010955217,
            0.1022208712794197,
            null,
            0.11526905404642102,
            0.12595693359543075,
            null,
            0.11526905404642102,
            0.12951198472560382,
            null
           ],
           "y": [
            0.6956448759054679,
            0.8536450927107452,
            null,
            0.8426572372526249,
            0.8251161034533838,
            null,
            0.8426572372526249,
            0.8392041725391054,
            null
           ]
          },
          {
           "hoverinfo": "none",
           "line": {
            "color": "rgba(255, 255, 255, 0.0)",
            "dash": "solid",
            "width": 1
           },
           "mode": "lines",
           "type": "scatter",
           "x": [
            0.28984763010955217,
            0.6599127034904547,
            null,
            0.6490231925468036,
            0.6413899493804492,
            null,
            0.6490231925468036,
            0.635850141406753,
            null
           ],
           "y": [
            0.6956448759054679,
            0.11376743481814933,
            null,
            0.13088972281116432,
            0.1531259493214845,
            null,
            0.13088972281116432,
            0.14136858929493307,
            null
           ]
          },
          {
           "hoverinfo": "none",
           "line": {
            "color": "rgba(255, 255, 255, 0.0)",
            "dash": "solid",
            "width": 1
           },
           "mode": "lines",
           "type": "scatter",
           "x": [
            0.28984763010955217,
            0.3890199702694477,
            null,
            0.3836034393987054,
            0.3823615291006166,
            null,
            0.3836034393987054,
            0.37449613052620334,
            null
           ],
           "y": [
            0.6956448759054679,
            0.2505453207177464,
            null,
            0.2748554809634447,
            0.30100396711663335,
            null,
            0.2748554809634447,
            0.2951557610886687,
            null
           ]
          },
          {
           "hoverinfo": "none",
           "line": {
            "color": "rgba(255, 255, 255, 0.0)",
            "dash": "solid",
            "width": 1
           },
           "mode": "lines",
           "type": "scatter",
           "x": [
            0.4645428575234585,
            0.7919919020707024,
            null,
            0.7777538757131398,
            0.764721192233169,
            null,
            0.7777538757131398,
            0.7635823469680874,
            null
           ],
           "y": [
            0.4601686721849013,
            0.3792170153372445,
            null,
            0.3827369273451691,
            0.393785996874927,
            null,
            0.3827369273451691,
            0.3784132585747748,
            null
           ]
          },
          {
           "hoverinfo": "none",
           "line": {
            "color": "rgba(255, 255, 255, 0.0)",
            "dash": "solid",
            "width": 1
           },
           "mode": "lines",
           "type": "scatter",
           "x": [
            0.4645428575234585,
            0.122398484876439,
            null,
            0.13470754964503462,
            0.1486569115874851,
            null,
            0.13470754964503462,
            0.1442767851434838,
            null
           ],
           "y": [
            0.4601686721849013,
            0.08386532725608942,
            null,
            0.09740330308054222,
            0.1036916021580086,
            null,
            0.09740330308054222,
            0.116981648591076,
            null
           ]
          },
          {
           "hoverinfo": "none",
           "line": {
            "color": "rgba(255, 255, 255, 0.0)",
            "dash": "solid",
            "width": 1
           },
           "mode": "lines",
           "type": "scatter",
           "x": [
            0.6589911410927456,
            0.11931960619673054,
            null,
            0.1335072027877809,
            0.14773152886145016,
            null,
            0.1335072027877809,
            0.1463907341469605,
            null
           ],
           "y": [
            0.1762676117268882,
            0.018633553602880992,
            null,
            0.022777645482962308,
            0.01907750292561076,
            null,
            0.022777645482962308,
            0.034395792414975486,
            null
           ]
          },
          {
           "hoverinfo": "none",
           "line": {
            "color": "rgba(255, 255, 255, 0.0)",
            "dash": "solid",
            "width": 1
           },
           "mode": "lines",
           "type": "scatter",
           "x": [
            0.7300559277230534,
            0.4645428575234585,
            null,
            0.47879325478672413,
            0.4918654562302439,
            null,
            0.47879325478672413,
            0.49294890232347105,
            null
           ],
           "y": [
            0.3977760371687721,
            0.4601686721849013,
            null,
            0.4568199864323943,
            0.44592781718441576,
            null,
            0.4568199864323943,
            0.4613139123004028,
            null
           ]
          },
          {
           "hoverinfo": "none",
           "line": {
            "color": "rgba(255, 255, 255, 0.0)",
            "dash": "solid",
            "width": 1
           },
           "mode": "lines",
           "type": "scatter",
           "x": [
            0.5805254513338318,
            0.3764259880841979,
            null,
            0.38439620276817155,
            0.38847764649985256,
            null,
            0.38439620276817155,
            0.39554323286402,
            null
           ],
           "y": [
            0.10804518699319077,
            0.6672709087146321,
            null,
            0.6454327863210007,
            0.6202673271931451,
            null,
            0.6454327863210007,
            0.6288727350956019,
            null
           ]
          },
          {
           "hoverinfo": "none",
           "line": {
            "color": "rgba(255, 255, 255, 0.0)",
            "dash": "solid",
            "width": 1
           },
           "mode": "lines",
           "type": "scatter",
           "x": [
            0.5805254513338318,
            0.5526782610616999,
            null,
            0.5539155165694847,
            0.5508673041329996,
            null,
            0.5539155165694847,
            0.5593277196718867,
            null
           ],
           "y": [
            0.10804518699319077,
            0.6965916677129139,
            null,
            0.6704424451973996,
            0.6447932089331663,
            null,
            0.6704424451973996,
            0.6461290685989616,
            null
           ]
          },
          {
           "hoverinfo": "none",
           "line": {
            "color": "rgba(255, 255, 255, 0.0)",
            "dash": "solid",
            "width": 1
           },
           "mode": "lines",
           "type": "scatter",
           "x": [
            0.5805254513338318,
            0.661599770590562,
            null,
            0.6545259908503347,
            0.6440724255361454,
            null,
            0.6545259908503347,
            0.6514638763607707,
            null
           ],
           "y": [
            0.10804518699319077,
            0.3698807037983498,
            null,
            0.3470354083826312,
            0.3290292294637116,
            null,
            0.3470354083826312,
            0.32139169867057094,
            null
           ]
          },
          {
           "hoverinfo": "none",
           "line": {
            "color": "rgba(255, 255, 255, 0.0)",
            "dash": "solid",
            "width": 1
           },
           "mode": "lines",
           "type": "scatter",
           "x": [
            0.5805254513338318,
            0.6203305331304902,
            null,
            0.6160312190265257,
            0.6078724969136238,
            null,
            0.6160312190265257,
            0.6159753578559682,
            null
           ],
           "y": [
            0.10804518699319077,
            0.33991532341532626,
            null,
            0.3148712209336286,
            0.2932666518431885,
            null,
            0.3148712209336286,
            0.28862470014773495,
            null
           ]
          },
          {
           "hoverinfo": "none",
           "line": {
            "color": "rgba(255, 255, 255, 0.0)",
            "dash": "solid",
            "width": 1
           },
           "mode": "lines",
           "type": "scatter",
           "x": [
            0.5805254513338318,
            0.4900300561762585,
            null,
            0.5043721177504027,
            0.5178194979327811,
            null,
            0.5043721177504027,
            0.5183277270701566,
            null
           ],
           "y": [
            0.10804518699319077,
            0.11795673627221848,
            null,
            0.11638591546075663,
            0.10714272067461007,
            null,
            0.11638591546075663,
            0.12262778536876841,
            null
           ]
          },
          {
           "hoverinfo": "none",
           "line": {
            "color": "rgba(255, 255, 255, 0.0)",
            "dash": "solid",
            "width": 1
           },
           "mode": "lines",
           "type": "scatter",
           "x": [
            0.5805254513338318,
            0.6125040360135718,
            null,
            0.6105801871055249,
            0.6045345196892521,
            null,
            0.6105801871055249,
            0.6129500083989542,
            null
           ],
           "y": [
            0.10804518699319077,
            0.5403944327175897,
            null,
            0.514384068825257,
            0.4905740049667738,
            null,
            0.514384068825257,
            0.48849683324017906,
            null
           ]
          },
          {
           "hoverinfo": "none",
           "line": {
            "color": "rgba(255, 255, 255, 0.0)",
            "dash": "solid",
            "width": 1
           },
           "mode": "lines",
           "type": "scatter",
           "x": [
            0.1022208712794197,
            0.3286774867333624,
            null,
            0.3158105044741989,
            0.3054075705275606,
            null,
            0.3158105044741989,
            0.30162884310661575,
            null
           ],
           "y": [
            0.8536450927107452,
            0.6480934453741629,
            null,
            0.6597726334355051,
            0.677876401776463,
            null,
            0.6597726334355051,
            0.6639839741312678,
            null
           ]
          },
          {
           "hoverinfo": "none",
           "line": {
            "color": "rgba(255, 255, 255, 0.0)",
            "dash": "solid",
            "width": 1
           },
           "mode": "lines",
           "type": "scatter",
           "x": [
            0.7646819435859958,
            0.11931960619673054,
            null,
            0.13277696680644344,
            0.14712070091113424,
            null,
            0.13277696680644344,
            0.1441458479773133,
            null
           ],
           "y": [
            0.45957032096768424,
            0.018633553602880992,
            null,
            0.027828148237135426,
            0.02934715163701501,
            null,
            0.027828148237135426,
            0.043877008350899374,
            null
           ]
          },
          {
           "hoverinfo": "none",
           "line": {
            "color": "rgba(255, 255, 255, 0.0)",
            "dash": "solid",
            "width": 1
           },
           "mode": "lines",
           "type": "scatter",
           "x": [
            0.7646819435859958,
            0.5526782610616999,
            null,
            0.5649331436936277,
            0.5744242394682462,
            null,
            0.5649331436936277,
            0.5788571210154737,
            null
           ],
           "y": [
            0.45957032096768424,
            0.6965916677129139,
            null,
            0.6828906378485323,
            0.6631857709786347,
            null,
            0.6828906378485323,
            0.6764173171823431,
            null
           ]
          },
          {
           "hoverinfo": "none",
           "line": {
            "color": "rgba(255, 255, 255, 0.0)",
            "dash": "solid",
            "width": 1
           },
           "mode": "lines",
           "type": "scatter",
           "x": [
            0.7646819435859958,
            0.3764259880841979,
            null,
            0.3902147222319993,
            0.4021943105898914,
            null,
            0.3902147222319993,
            0.4045808956146012,
            null
           ],
           "y": [
            0.45957032096768424,
            0.6672709087146321,
            null,
            0.6598945165532207,
            0.6454037602856084,
            null,
            0.6598945165532207,
            0.6602913996410402,
            null
           ]
          },
          {
           "hoverinfo": "none",
           "line": {
            "color": "rgba(255, 255, 255, 0.0)",
            "dash": "solid",
            "width": 1
           },
           "mode": "lines",
           "type": "scatter",
           "x": [
            0.21976896563283277,
            0.6125040360135718,
            null,
            0.5981466657498182,
            0.5842686672220062,
            null,
            0.5981466657498182,
            0.5845924248759287,
            null
           ],
           "y": [
            0.5130220934181828,
            0.5403944327175897,
            null,
            0.5393937713559097,
            0.5461885997554152,
            null,
            0.5393937713559097,
            0.5306870063322622,
            null
           ]
          },
          {
           "hoverinfo": "none",
           "line": {
            "color": "rgba(255, 255, 255, 0.0)",
            "dash": "solid",
            "width": 1
           },
           "mode": "lines",
           "type": "scatter",
           "x": [
            0.2235189707639248,
            0.5805254513338318,
            null,
            0.5673101257542703,
            0.5563512452994729,
            null,
            0.5673101257542703,
            0.5530188407254076,
            null
           ],
           "y": [
            0.38628741419589163,
            0.10804518699319077,
            null,
            0.1183448925240151,
            0.1353188432901957,
            null,
            0.1183448925240151,
            0.12105031079952512,
            null
           ]
          },
          {
           "hoverinfo": "none",
           "line": {
            "color": "rgba(255, 255, 255, 0.0)",
            "dash": "solid",
            "width": 1
           },
           "mode": "lines",
           "type": "scatter",
           "x": [
            0.3156022120837657,
            0.8367228626947864,
            null,
            0.8227561423420257,
            0.8104094768835775,
            null,
            0.8227561423420257,
            0.8084169726276628,
            null
           ],
           "y": [
            0.31525065159337873,
            0.08547172834581584,
            null,
            0.0916301063724672,
            0.1050533347783591,
            null,
            0.0916301063724672,
            0.08997352445195406,
            null
           ]
          },
          {
           "hoverinfo": "none",
           "line": {
            "color": "rgba(255, 255, 255, 0.0)",
            "dash": "solid",
            "width": 1
           },
           "mode": "lines",
           "type": "scatter",
           "x": [
            0.3156022120837657,
            0.7300559277230534,
            null,
            0.7157727108393251,
            0.7016673450267921,
            null,
            0.7157727108393251,
            0.7025875201096171,
            null
           ],
           "y": [
            0.31525065159337873,
            0.3977760371687721,
            null,
            0.3949319850198645,
            0.39992572338741655,
            null,
            0.3949319850198645,
            0.38450419306265743,
            null
           ]
          },
          {
           "hoverinfo": "none",
           "line": {
            "color": "rgba(255, 255, 255, 0.0)",
            "dash": "solid",
            "width": 1
           },
           "mode": "lines",
           "type": "scatter",
           "x": [
            0.3156022120837657,
            0.6203305331304902,
            null,
            0.6059767994948613,
            0.5920762091937797,
            null,
            0.6059767994948613,
            0.5924520988013311,
            null
           ],
           "y": [
            0.31525065159337873,
            0.33991532341532626,
            null,
            0.33875353402756486,
            0.3453924677181448,
            null,
            0.33875353402756486,
            0.3298948007473702,
            null
           ]
          },
          {
           "hoverinfo": "none",
           "line": {
            "color": "rgba(255, 255, 255, 0.0)",
            "dash": "solid",
            "width": 1
           },
           "mode": "lines",
           "type": "scatter",
           "x": [
            0.3156022120837657,
            0.3764259880841979,
            null,
            0.372101268859142,
            0.3639206383853718,
            null,
            0.372101268859142,
            0.37201877517107446,
            null
           ],
           "y": [
            0.31525065159337873,
            0.6672709087146321,
            null,
            0.6422414075279486,
            0.6206645024896235,
            null,
            0.6422414075279486,
            0.6159951209897706,
            null
           ]
          },
          {
           "hoverinfo": "none",
           "line": {
            "color": "rgba(255, 255, 255, 0.0)",
            "dash": "solid",
            "width": 1
           },
           "mode": "lines",
           "type": "scatter",
           "x": [
            0.3156022120837657,
            0.122398484876439,
            null,
            0.13441427295748076,
            0.14822135361828867,
            null,
            0.13441427295748076,
            0.14356543389551235,
            null
           ],
           "y": [
            0.31525065159337873,
            0.08386532725608942,
            null,
            0.09825571745449627,
            0.10551668390187853,
            null,
            0.09825571745449627,
            0.11849008070570106,
            null
           ]
          },
          {
           "hoverinfo": "none",
           "line": {
            "color": "rgba(255, 255, 255, 0.0)",
            "dash": "solid",
            "width": 1
           },
           "mode": "lines",
           "type": "scatter",
           "x": [
            0.3286774867333624,
            0.5526782610616999,
            null,
            0.5384103065947159,
            0.5242798727256088,
            null,
            0.5384103065947159,
            0.5252793454088379,
            null
           ],
           "y": [
            0.6480934453741629,
            0.6965916677129139,
            null,
            0.6935025246948425,
            0.6982538794277443,
            null,
            0.6935025246948425,
            0.6828488278713584,
            null
           ]
          },
          {
           "hoverinfo": "none",
           "line": {
            "color": "rgba(255, 255, 255, 0.0)",
            "dash": "solid",
            "width": 1
           },
           "mode": "lines",
           "type": "scatter",
           "x": [
            0.3286774867333624,
            0.661599770590562,
            null,
            0.6485341589846367,
            0.6378184129964131,
            null,
            0.6485341589846367,
            0.6342857939330937,
            null
           ],
           "y": [
            0.6480934453741629,
            0.3698807037983498,
            null,
            0.3807992268336189,
            0.39828353376216075,
            null,
            0.3807992268336189,
            0.384176646830979,
            null
           ]
          },
          {
           "hoverinfo": "none",
           "marker": {
            "color": "rgba(255, 255, 255, 0.0)",
            "line": {
             "color": "rgba(255, 255, 255, 0.0)",
             "width": 1
            },
            "size": 20,
            "symbol": "circle"
           },
           "mode": "markers+text",
           "text": [
            "('Atlanta Hawks',)"
           ],
           "textfont": {
            "color": "rgb(0, 0, 0)"
           },
           "textposition": "middle center",
           "type": "scatter",
           "x": [
            0.11931960619673054
           ],
           "y": [
            0.018633553602880992
           ]
          },
          {
           "hoverinfo": "none",
           "marker": {
            "color": "rgba(255, 255, 255, 0.0)",
            "line": {
             "color": "rgba(255, 255, 255, 0.0)",
             "width": 1
            },
            "size": 20,
            "symbol": "circle"
           },
           "mode": "markers+text",
           "text": [
            "('Boston Celtics',)"
           ],
           "textfont": {
            "color": "rgb(0, 0, 0)"
           },
           "textposition": "middle center",
           "type": "scatter",
           "x": [
            0.6019142956893831
           ],
           "y": [
            0.23551537854926619
           ]
          },
          {
           "hoverinfo": "none",
           "marker": {
            "color": "rgba(255, 255, 255, 0.0)",
            "line": {
             "color": "rgba(255, 255, 255, 0.0)",
             "width": 1
            },
            "size": 20,
            "symbol": "circle"
           },
           "mode": "markers+text",
           "text": [
            "('Brooklyn Nets',)"
           ],
           "textfont": {
            "color": "rgb(0, 0, 0)"
           },
           "textposition": "middle center",
           "type": "scatter",
           "x": [
            0.7146533834750309
           ],
           "y": [
            0.534771125053913
           ]
          },
          {
           "hoverinfo": "none",
           "marker": {
            "color": "rgba(255, 255, 255, 0.0)",
            "line": {
             "color": "rgba(255, 255, 255, 0.0)",
             "width": 1
            },
            "size": 20,
            "symbol": "circle"
           },
           "mode": "markers+text",
           "text": [
            "('Charlotte Hornets',)"
           ],
           "textfont": {
            "color": "rgb(0, 0, 0)"
           },
           "textposition": "middle center",
           "type": "scatter",
           "x": [
            0.27873525345969663
           ],
           "y": [
            0.764994389785598
           ]
          },
          {
           "hoverinfo": "none",
           "marker": {
            "color": "rgba(255, 255, 255, 0.0)",
            "line": {
             "color": "rgba(255, 255, 255, 0.0)",
             "width": 1
            },
            "size": 20,
            "symbol": "circle"
           },
           "mode": "markers+text",
           "text": [
            "('Chicago Bulls',)"
           ],
           "textfont": {
            "color": "rgb(0, 0, 0)"
           },
           "textposition": "middle center",
           "type": "scatter",
           "x": [
            0.4900300561762585
           ],
           "y": [
            0.11795673627221848
           ]
          },
          {
           "hoverinfo": "none",
           "marker": {
            "color": "rgba(255, 255, 255, 0.0)",
            "line": {
             "color": "rgba(255, 255, 255, 0.0)",
             "width": 1
            },
            "size": 20,
            "symbol": "circle"
           },
           "mode": "markers+text",
           "text": [
            "('Cleveland Cavaliers',)"
           ],
           "textfont": {
            "color": "rgb(0, 0, 0)"
           },
           "textposition": "middle center",
           "type": "scatter",
           "x": [
            0.26715657375090585
           ],
           "y": [
            0.7299982433843056
           ]
          },
          {
           "hoverinfo": "none",
           "marker": {
            "color": "rgba(255, 255, 255, 0.0)",
            "line": {
             "color": "rgba(255, 255, 255, 0.0)",
             "width": 1
            },
            "size": 20,
            "symbol": "circle"
           },
           "mode": "markers+text",
           "text": [
            "('Dallas Mavericks',)"
           ],
           "textfont": {
            "color": "rgb(0, 0, 0)"
           },
           "textposition": "middle center",
           "type": "scatter",
           "x": [
            0.7919919020707024
           ],
           "y": [
            0.3792170153372445
           ]
          },
          {
           "hoverinfo": "none",
           "marker": {
            "color": "rgba(255, 255, 255, 0.0)",
            "line": {
             "color": "rgba(255, 255, 255, 0.0)",
             "width": 1
            },
            "size": 20,
            "symbol": "circle"
           },
           "mode": "markers+text",
           "text": [
            "('Denver Nuggets',)"
           ],
           "textfont": {
            "color": "rgb(0, 0, 0)"
           },
           "textposition": "middle center",
           "type": "scatter",
           "x": [
            0.6439639636488322
           ],
           "y": [
            0.35239664594787135
           ]
          },
          {
           "hoverinfo": "none",
           "marker": {
            "color": "rgba(255, 255, 255, 0.0)",
            "line": {
             "color": "rgba(255, 255, 255, 0.0)",
             "width": 1
            },
            "size": 20,
            "symbol": "circle"
           },
           "mode": "markers+text",
           "text": [
            "('Detroit Pistons',)"
           ],
           "textfont": {
            "color": "rgb(0, 0, 0)"
           },
           "textposition": "middle center",
           "type": "scatter",
           "x": [
            0.6203305331304902
           ],
           "y": [
            0.33991532341532626
           ]
          },
          {
           "hoverinfo": "none",
           "marker": {
            "color": "rgba(255, 255, 255, 0.0)",
            "line": {
             "color": "rgba(255, 255, 255, 0.0)",
             "width": 1
            },
            "size": 20,
            "symbol": "circle"
           },
           "mode": "markers+text",
           "text": [
            "('Golden State Warriors',)"
           ],
           "textfont": {
            "color": "rgb(0, 0, 0)"
           },
           "textposition": "middle center",
           "type": "scatter",
           "x": [
            0.8367228626947864
           ],
           "y": [
            0.08547172834581584
           ]
          },
          {
           "hoverinfo": "none",
           "marker": {
            "color": "rgba(255, 255, 255, 0.0)",
            "line": {
             "color": "rgba(255, 255, 255, 0.0)",
             "width": 1
            },
            "size": 20,
            "symbol": "circle"
           },
           "mode": "markers+text",
           "text": [
            "('Houston Rockets',)"
           ],
           "textfont": {
            "color": "rgb(0, 0, 0)"
           },
           "textposition": "middle center",
           "type": "scatter",
           "x": [
            0.5526782610616999
           ],
           "y": [
            0.6965916677129139
           ]
          },
          {
           "hoverinfo": "none",
           "marker": {
            "color": "rgba(255, 255, 255, 0.0)",
            "line": {
             "color": "rgba(255, 255, 255, 0.0)",
             "width": 1
            },
            "size": 20,
            "symbol": "circle"
           },
           "mode": "markers+text",
           "text": [
            "('Indiana Pacers',)"
           ],
           "textfont": {
            "color": "rgb(0, 0, 0)"
           },
           "textposition": "middle center",
           "type": "scatter",
           "x": [
            0.6599127034904547
           ],
           "y": [
            0.11376743481814933
           ]
          },
          {
           "hoverinfo": "none",
           "marker": {
            "color": "rgba(255, 255, 255, 0.0)",
            "line": {
             "color": "rgba(255, 255, 255, 0.0)",
             "width": 1
            },
            "size": 20,
            "symbol": "circle"
           },
           "mode": "markers+text",
           "text": [
            "('LA Clippers',)"
           ],
           "textfont": {
            "color": "rgb(0, 0, 0)"
           },
           "textposition": "middle center",
           "type": "scatter",
           "x": [
            0.122398484876439
           ],
           "y": [
            0.08386532725608942
           ]
          },
          {
           "hoverinfo": "none",
           "marker": {
            "color": "rgba(255, 255, 255, 0.0)",
            "line": {
             "color": "rgba(255, 255, 255, 0.0)",
             "width": 1
            },
            "size": 20,
            "symbol": "circle"
           },
           "mode": "markers+text",
           "text": [
            "('Los Angeles Lakers',)"
           ],
           "textfont": {
            "color": "rgb(0, 0, 0)"
           },
           "textposition": "middle center",
           "type": "scatter",
           "x": [
            0.661599770590562
           ],
           "y": [
            0.3698807037983498
           ]
          },
          {
           "hoverinfo": "none",
           "marker": {
            "color": "rgba(255, 255, 255, 0.0)",
            "line": {
             "color": "rgba(255, 255, 255, 0.0)",
             "width": 1
            },
            "size": 20,
            "symbol": "circle"
           },
           "mode": "markers+text",
           "text": [
            "('Memphis Grizzlies',)"
           ],
           "textfont": {
            "color": "rgb(0, 0, 0)"
           },
           "textposition": "middle center",
           "type": "scatter",
           "x": [
            0.3890199702694477
           ],
           "y": [
            0.2505453207177464
           ]
          },
          {
           "hoverinfo": "none",
           "marker": {
            "color": "rgba(255, 255, 255, 0.0)",
            "line": {
             "color": "rgba(255, 255, 255, 0.0)",
             "width": 1
            },
            "size": 20,
            "symbol": "circle"
           },
           "mode": "markers+text",
           "text": [
            "('Miami Heat',)"
           ],
           "textfont": {
            "color": "rgb(0, 0, 0)"
           },
           "textposition": "middle center",
           "type": "scatter",
           "x": [
            0.043050495351714235
           ],
           "y": [
            0.9866404470516293
           ]
          },
          {
           "hoverinfo": "none",
           "marker": {
            "color": "rgba(255, 255, 255, 0.0)",
            "line": {
             "color": "rgba(255, 255, 255, 0.0)",
             "width": 1
            },
            "size": 20,
            "symbol": "circle"
           },
           "mode": "markers+text",
           "text": [
            "('Milwaukee Bucks',)"
           ],
           "textfont": {
            "color": "rgb(0, 0, 0)"
           },
           "textposition": "middle center",
           "type": "scatter",
           "x": [
            0.6125040360135718
           ],
           "y": [
            0.5403944327175897
           ]
          },
          {
           "hoverinfo": "none",
           "marker": {
            "color": "rgba(255, 255, 255, 0.0)",
            "line": {
             "color": "rgba(255, 255, 255, 0.0)",
             "width": 1
            },
            "size": 20,
            "symbol": "circle"
           },
           "mode": "markers+text",
           "text": [
            "('Minnesota Timberwolves',)"
           ],
           "textfont": {
            "color": "rgb(0, 0, 0)"
           },
           "textposition": "middle center",
           "type": "scatter",
           "x": [
            0.3764259880841979
           ],
           "y": [
            0.6672709087146321
           ]
          },
          {
           "hoverinfo": "none",
           "marker": {
            "color": "rgba(255, 255, 255, 0.0)",
            "line": {
             "color": "rgba(255, 255, 255, 0.0)",
             "width": 1
            },
            "size": 20,
            "symbol": "circle"
           },
           "mode": "markers+text",
           "text": [
            "('New Orleans Pelicans',)"
           ],
           "textfont": {
            "color": "rgb(0, 0, 0)"
           },
           "textposition": "middle center",
           "type": "scatter",
           "x": [
            0.746120228185612
           ],
           "y": [
            0.28315607044925484
           ]
          },
          {
           "hoverinfo": "none",
           "marker": {
            "color": "rgba(255, 255, 255, 0.0)",
            "line": {
             "color": "rgba(255, 255, 255, 0.0)",
             "width": 1
            },
            "size": 20,
            "symbol": "circle"
           },
           "mode": "markers+text",
           "text": [
            "('New York Knicks',)"
           ],
           "textfont": {
            "color": "rgb(0, 0, 0)"
           },
           "textposition": "middle center",
           "type": "scatter",
           "x": [
            0.28984763010955217
           ],
           "y": [
            0.6956448759054679
           ]
          },
          {
           "hoverinfo": "none",
           "marker": {
            "color": "rgba(255, 255, 255, 0.0)",
            "line": {
             "color": "rgba(255, 255, 255, 0.0)",
             "width": 1
            },
            "size": 20,
            "symbol": "circle"
           },
           "mode": "markers+text",
           "text": [
            "('Oklahoma City Thunder',)"
           ],
           "textfont": {
            "color": "rgb(0, 0, 0)"
           },
           "textposition": "middle center",
           "type": "scatter",
           "x": [
            0.4645428575234585
           ],
           "y": [
            0.4601686721849013
           ]
          },
          {
           "hoverinfo": "none",
           "marker": {
            "color": "rgba(255, 255, 255, 0.0)",
            "line": {
             "color": "rgba(255, 255, 255, 0.0)",
             "width": 1
            },
            "size": 20,
            "symbol": "circle"
           },
           "mode": "markers+text",
           "text": [
            "('Orlando Magic',)"
           ],
           "textfont": {
            "color": "rgb(0, 0, 0)"
           },
           "textposition": "middle center",
           "type": "scatter",
           "x": [
            0.6589911410927456
           ],
           "y": [
            0.1762676117268882
           ]
          },
          {
           "hoverinfo": "none",
           "marker": {
            "color": "rgba(255, 255, 255, 0.0)",
            "line": {
             "color": "rgba(255, 255, 255, 0.0)",
             "width": 1
            },
            "size": 20,
            "symbol": "circle"
           },
           "mode": "markers+text",
           "text": [
            "('Philadelphia 76ers',)"
           ],
           "textfont": {
            "color": "rgb(0, 0, 0)"
           },
           "textposition": "middle center",
           "type": "scatter",
           "x": [
            0.7300559277230534
           ],
           "y": [
            0.3977760371687721
           ]
          },
          {
           "hoverinfo": "none",
           "marker": {
            "color": "rgba(255, 255, 255, 0.0)",
            "line": {
             "color": "rgba(255, 255, 255, 0.0)",
             "width": 1
            },
            "size": 20,
            "symbol": "circle"
           },
           "mode": "markers+text",
           "text": [
            "('Phoenix Suns',)"
           ],
           "textfont": {
            "color": "rgb(0, 0, 0)"
           },
           "textposition": "middle center",
           "type": "scatter",
           "x": [
            0.5805254513338318
           ],
           "y": [
            0.10804518699319077
           ]
          },
          {
           "hoverinfo": "none",
           "marker": {
            "color": "rgba(255, 255, 255, 0.0)",
            "line": {
             "color": "rgba(255, 255, 255, 0.0)",
             "width": 1
            },
            "size": 20,
            "symbol": "circle"
           },
           "mode": "markers+text",
           "text": [
            "('Portland Trail Blazers',)"
           ],
           "textfont": {
            "color": "rgb(0, 0, 0)"
           },
           "textposition": "middle center",
           "type": "scatter",
           "x": [
            0.1022208712794197
           ],
           "y": [
            0.8536450927107452
           ]
          },
          {
           "hoverinfo": "none",
           "marker": {
            "color": "rgba(255, 255, 255, 0.0)",
            "line": {
             "color": "rgba(255, 255, 255, 0.0)",
             "width": 1
            },
            "size": 20,
            "symbol": "circle"
           },
           "mode": "markers+text",
           "text": [
            "('Sacramento Kings',)"
           ],
           "textfont": {
            "color": "rgb(0, 0, 0)"
           },
           "textposition": "middle center",
           "type": "scatter",
           "x": [
            0.7646819435859958
           ],
           "y": [
            0.45957032096768424
           ]
          },
          {
           "hoverinfo": "none",
           "marker": {
            "color": "rgba(255, 255, 255, 0.0)",
            "line": {
             "color": "rgba(255, 255, 255, 0.0)",
             "width": 1
            },
            "size": 20,
            "symbol": "circle"
           },
           "mode": "markers+text",
           "text": [
            "('San Antonio Spurs',)"
           ],
           "textfont": {
            "color": "rgb(0, 0, 0)"
           },
           "textposition": "middle center",
           "type": "scatter",
           "x": [
            0.21976896563283277
           ],
           "y": [
            0.5130220934181828
           ]
          },
          {
           "hoverinfo": "none",
           "marker": {
            "color": "rgba(255, 255, 255, 0.0)",
            "line": {
             "color": "rgba(255, 255, 255, 0.0)",
             "width": 1
            },
            "size": 20,
            "symbol": "circle"
           },
           "mode": "markers+text",
           "text": [
            "('Toronto Raptors',)"
           ],
           "textfont": {
            "color": "rgb(0, 0, 0)"
           },
           "textposition": "middle center",
           "type": "scatter",
           "x": [
            0.2235189707639248
           ],
           "y": [
            0.38628741419589163
           ]
          },
          {
           "hoverinfo": "none",
           "marker": {
            "color": "rgba(255, 255, 255, 0.0)",
            "line": {
             "color": "rgba(255, 255, 255, 0.0)",
             "width": 1
            },
            "size": 20,
            "symbol": "circle"
           },
           "mode": "markers+text",
           "text": [
            "('Utah Jazz',)"
           ],
           "textfont": {
            "color": "rgb(0, 0, 0)"
           },
           "textposition": "middle center",
           "type": "scatter",
           "x": [
            0.3156022120837657
           ],
           "y": [
            0.31525065159337873
           ]
          },
          {
           "hoverinfo": "none",
           "marker": {
            "color": "rgba(255, 255, 255, 0.0)",
            "line": {
             "color": "rgba(255, 255, 255, 0.0)",
             "width": 1
            },
            "size": 20,
            "symbol": "circle"
           },
           "mode": "markers+text",
           "text": [
            "('Washington Wizards',)"
           ],
           "textfont": {
            "color": "rgb(0, 0, 0)"
           },
           "textposition": "middle center",
           "type": "scatter",
           "x": [
            0.3286774867333624
           ],
           "y": [
            0.6480934453741629
           ]
          },
          {
           "hoverinfo": "none",
           "mode": "text",
           "text": [
            null,
            null,
            null,
            null,
            null,
            null,
            null,
            null,
            null,
            null,
            null,
            null,
            null,
            null,
            null,
            null,
            null,
            null,
            null,
            null,
            null,
            null,
            null,
            null,
            null,
            null,
            null,
            null,
            null,
            null,
            null,
            null,
            null,
            null,
            null,
            null,
            null,
            null,
            null,
            null,
            null,
            null,
            null,
            null,
            null,
            null,
            null,
            null,
            null,
            null,
            null,
            null,
            null,
            null,
            null,
            null,
            null,
            null,
            null,
            null,
            null,
            null,
            null,
            null,
            null
           ],
           "textfont": {
            "color": "rgb(0, 0, 0)"
           },
           "textposition": "middle center",
           "type": "scatter",
           "x": [
            0.3266532256963092,
            0.15607435862772784,
            0.4200647747664901,
            0.35691117071105477,
            0.1586601284244791,
            0.24805067773376566,
            0.6267718079041538,
            0.4714321194169772,
            0.6701196391022194,
            0.5718434065512809,
            0.5072593777202042,
            0.3666305582717705,
            0.34592260640797573,
            0.2593340858524818,
            0.20667048172460442,
            0.3063792905221763,
            0.6945136225747367,
            0.4477951409522257,
            0.5729284277683682,
            0.6837481421468434,
            0.43230199220638343,
            0.7871487809311822,
            0.48278403944533127,
            0.4541732319781833,
            0.3726238838016298,
            0.3879926098248164,
            0.7587076106962539,
            0.6926997480440829,
            0.5595759146769448,
            0.511889755729223,
            0.5219613337829602,
            0.5134223544553116,
            0.3450033027173824,
            0.3021381179134773,
            0.4210567020345464,
            0.3749124714992476,
            0.6640114882056796,
            0.6006562432239856,
            0.3172629472982197,
            0.1900193470600839,
            0.4842531434168694,
            0.3527415172205503,
            0.6301942281807288,
            0.30088154589695526,
            0.39142390669978255,
            0.5954662758535646,
            0.4665212302952597,
            0.5522874111138422,
            0.6085567811441095,
            0.5867185050977834,
            0.534417864776357,
            0.582276311715399,
            0.22184252764341886,
            0.447034022816149,
            0.6511799695963632,
            0.5665160270226001,
            0.415588724991593,
            0.40766041192135544,
            0.5795337184642102,
            0.521272196528792,
            0.4673303930715862,
            0.3323126058998921,
            0.22687784656285093,
            0.4389868344005697,
            0.5011155787717861
           ],
           "y": [
            0.3775480285562005,
            0.2749608045447981,
            0.23305574485819236,
            0.307904965386805,
            0.21452796293875853,
            0.15833681002223832,
            0.5926534412069312,
            0.43463477699052316,
            0.3702634157591707,
            0.1729026851122254,
            0.41236669968023393,
            0.40944040513042945,
            0.2949962181225544,
            0.55221289473632,
            0.36500026017295656,
            0.7102571956043349,
            0.22214885619781774,
            0.4951670151911989,
            0.5096604432459566,
            0.37404383726807966,
            0.5137644830189888,
            0.26381104632638447,
            0.4589552648163426,
            0.4019720164923572,
            0.4624691874109338,
            0.2520786221076077,
            0.24729189998347023,
            0.4094454885881028,
            0.3895665212232069,
            0.4957817327441477,
            0.33573697027731975,
            0.3271117013858908,
            0.44230631075925964,
            0.8666747630432072,
            0.43769049257865805,
            0.2511230209336657,
            0.5638175885513854,
            0.34684409926686854,
            0.693670432243084,
            0.7508089338990962,
            0.42459880527462,
            0.4829898633668214,
            0.4457024667134705,
            0.24953114911959628,
            0.07153308338044617,
            0.40294013290457187,
            0.37309828559657376,
            0.40005824406324075,
            0.2518851257086265,
            0.2318341203390599,
            0.0868012900956853,
            0.32773424250631067,
            0.7743743075001386,
            0.21451841239194883,
            0.5556941221307933,
            0.53823174616171,
            0.552935900085137,
            0.27130768275562983,
            0.22587519880298684,
            0.3826055201056814,
            0.3538039812324305,
            0.4991610546438713,
            0.17760788836330343,
            0.6984068513178714,
            0.532854963504167
           ]
          },
          {
           "hoverinfo": "none",
           "marker": {
            "color": "rgba(255, 255, 255, 0.0)",
            "line": {
             "color": "rgba(255, 255, 255, 0.0)",
             "width": 0
            },
            "size": 0,
            "symbol": "circle"
           },
           "mode": "markers",
           "type": "scatter",
           "x": [
            0.5,
            0,
            1,
            0.5
           ],
           "y": [
            0,
            0.5,
            0.5,
            1
           ]
          }
         ],
         "name": "0"
        },
        {
         "data": [
          {
           "hoverinfo": "none",
           "line": {
            "color": "rgb(0, 0, 0)",
            "dash": "solid",
            "width": 1
           },
           "mode": "lines",
           "type": "scatter",
           "x": [
            0.11931960619673054,
            0.5526782610616999,
            null,
            0.5417653383328875,
            0.5285779795073159,
            null,
            0.5417653383328875,
            0.5341016705867737,
            null
           ],
           "y": [
            0.018633553602880992,
            0.6965916677129139,
            null,
            0.6795191933787864,
            0.6691005545049208,
            null,
            0.6795191933787864,
            0.6573179168705474,
            null
           ]
          },
          {
           "hoverinfo": "none",
           "line": {
            "color": "rgb(0, 0, 0)",
            "dash": "solid",
            "width": 1
           },
           "mode": "lines",
           "type": "scatter",
           "x": [
            0.11931960619673054,
            0.21976896563283277,
            null,
            0.21476944584252328,
            0.20601258646315165,
            null,
            0.21476944584252328,
            0.21397385785431838,
            null
           ],
           "y": [
            0.018633553602880992,
            0.5130220934181828,
            null,
            0.4884156120749034,
            0.4676071230213606,
            null,
            0.4884156120749034,
            0.4622091621359997,
            null
           ]
          },
          {
           "hoverinfo": "none",
           "line": {
            "color": "rgb(0, 0, 0)",
            "dash": "solid",
            "width": 1
           },
           "mode": "lines",
           "type": "scatter",
           "x": [
            0.11931960619673054,
            0.7300559277230534,
            null,
            0.7164521752101635,
            0.7020898264371777,
            null,
            0.7164521752101635,
            0.7048222016539535,
            null
           ],
           "y": [
            0.018633553602880992,
            0.3977760371687721,
            null,
            0.38933088607531363,
            0.3886068828033578,
            null,
            0.38933088607531363,
            0.3739189673557497,
            null
           ]
          },
          {
           "hoverinfo": "none",
           "line": {
            "color": "rgb(0, 0, 0)",
            "dash": "solid",
            "width": 1
           },
           "mode": "lines",
           "type": "scatter",
           "x": [
            0.11751947611791126,
            0.6107039059347525,
            null,
            0.5982706180975996,
            0.584264745295326,
            null
           ],
           "y": [
            0.024311748048194925,
            0.5460726271629036,
            null,
            0.5329189207601926,
            0.5270647898502075,
            null
           ]
          },
          {
           "hoverinfo": "none",
           "line": {
            "color": "rgb(0, 0, 0)",
            "dash": "solid",
            "width": 1
           },
           "mode": "lines",
           "type": "scatter",
           "x": [
            0.11931960619673054,
            0.2235189707639248,
            null,
            0.21691306628978568,
            0.20683161508543302,
            null,
            0.21691306628978568,
            0.214372794318492,
            null
           ],
           "y": [
            0.018633553602880992,
            0.38628741419589163,
            null,
            0.3629793422828454,
            0.34427847459274535,
            null,
            0.3629793422828454,
            0.337146106793552,
            null
           ]
          },
          {
           "hoverinfo": "none",
           "line": {
            "color": "rgb(0, 0, 0)",
            "dash": "solid",
            "width": 1
           },
           "mode": "lines",
           "type": "scatter",
           "x": [
            0.11931960619673054,
            0.3890199702694477,
            null,
            0.37602033081485964,
            0.3617929800990711,
            null,
            0.37602033081485964,
            0.3654096216977584,
            null
           ],
           "y": [
            0.018633553602880992,
            0.2505453207177464,
            null,
            0.23936710311268303,
            0.23570597248699962,
            null,
            0.23936710311268303,
            0.22167031541535992,
            null
           ]
          },
          {
           "hoverinfo": "none",
           "line": {
            "color": "rgb(0, 0, 0)",
            "dash": "solid",
            "width": 1
           },
           "mode": "lines",
           "type": "scatter",
           "x": [
            0.7146533834750309,
            0.5526782610616999,
            null,
            0.5652840813522743,
            0.5752895609015818,
            null,
            0.5652840813522743,
            0.5793642020008579,
            null
           ],
           "y": [
            0.534771125053913,
            0.6965916677129139,
            null,
            0.6839978776932516,
            0.6651613444783402,
            null,
            0.6839978776932516,
            0.6787717966238245,
            null
           ]
          },
          {
           "hoverinfo": "none",
           "line": {
            "color": "rgb(0, 0, 0)",
            "dash": "solid",
            "width": 1
           },
           "mode": "lines",
           "type": "scatter",
           "x": [
            0.7146533834750309,
            0.2235189707639248,
            null,
            0.2376939731973996,
            0.2519291436081149,
            null,
            0.2376939731973996,
            0.25054259690296976,
            null
           ],
           "y": [
            0.534771125053913,
            0.38628741419589163,
            null,
            0.3905729150858117,
            0.3870146646454304,
            null,
            0.3905729150858117,
            0.4023193562748349,
            null
           ]
          },
          {
           "hoverinfo": "none",
           "line": {
            "color": "rgb(0, 0, 0)",
            "dash": "solid",
            "width": 1
           },
           "mode": "lines",
           "type": "scatter",
           "x": [
            0.7146533834750309,
            0.6019142956893831,
            null,
            0.6100597231781211,
            0.6213390651977954,
            null,
            0.6100597231781211,
            0.6143436293574829,
            null
           ],
           "y": [
            0.534771125053913,
            0.23551537854926619,
            null,
            0.2571366816094463,
            0.273395009142937,
            null,
            0.2571366816094463,
            0.28218959358762197,
            null
           ]
          },
          {
           "hoverinfo": "none",
           "line": {
            "color": "rgb(0, 0, 0)",
            "dash": "solid",
            "width": 1
           },
           "mode": "lines",
           "type": "scatter",
           "x": [
            0.4900300561762585,
            0.6589911410927456,
            null,
            0.6448730595784812,
            0.6305973319958157,
            null,
            0.6448730595784812,
            0.6321737503070937,
            null
           ],
           "y": [
            0.11795673627221848,
            0.1762676117268882,
            null,
            0.17139526083470463,
            0.1743621434134964,
            null,
            0.17139526083470463,
            0.15911890906565956,
            null
           ]
          },
          {
           "hoverinfo": "none",
           "line": {
            "color": "rgb(0, 0, 0)",
            "dash": "solid",
            "width": 1
           },
           "mode": "lines",
           "type": "scatter",
           "x": [
            0.4900300561762585,
            0.5526782610616999,
            null,
            0.5498905575861232,
            0.5430620701709902,
            null,
            0.5498905575861232,
            0.5513926552990946,
            null
           ],
           "y": [
            0.11795673627221848,
            0.6965916677129139,
            null,
            0.6708437215041282,
            0.6477507049399138,
            null,
            0.6708437215041282,
            0.64474083300175,
            null
           ]
          },
          {
           "hoverinfo": "none",
           "line": {
            "color": "rgb(0, 0, 0)",
            "dash": "solid",
            "width": 1
           },
           "mode": "lines",
           "type": "scatter",
           "x": [
            0.4900300561762585,
            0.26715657375090585,
            null,
            0.2751143744260125,
            0.27918151545432673,
            null,
            0.2751143744260125,
            0.28625198811393376,
            null
           ],
           "y": [
            0.11795673627221848,
            0.7299982433843056,
            null,
            0.7081450185614686,
            0.68297183320899,
            null,
            0.7081450185614686,
            0.6915638377573038,
            null
           ]
          },
          {
           "hoverinfo": "none",
           "line": {
            "color": "rgb(0, 0, 0)",
            "dash": "solid",
            "width": 1
           },
           "mode": "lines",
           "type": "scatter",
           "x": [
            0.4900300561762585,
            0.21976896563283277,
            null,
            0.23098722418359172,
            0.23905157924957163,
            null,
            0.23098722418359172,
            0.24435729259358252,
            null
           ],
           "y": [
            0.11795673627221848,
            0.5130220934181828,
            null,
            0.4966233387472835,
            0.47490085630332646,
            null,
            0.4966233387472835,
            0.4870131637645823,
            null
           ]
          },
          {
           "hoverinfo": "none",
           "line": {
            "color": "rgb(0, 0, 0)",
            "dash": "solid",
            "width": 1
           },
           "mode": "lines",
           "type": "scatter",
           "x": [
            0.26715657375090585,
            0.2235189707639248,
            null,
            0.22676509845715712,
            0.23400243617697405,
            null,
            0.22676509845715712,
            0.22573004920475212,
            null
           ],
           "y": [
            0.7299982433843056,
            0.38628741419589163,
            null,
            0.41185548312546194,
            0.4345291769932983,
            null,
            0.41185548312546194,
            0.43803400766741996,
            null
           ]
          },
          {
           "hoverinfo": "none",
           "line": {
            "color": "rgb(0, 0, 0)",
            "dash": "solid",
            "width": 1
           },
           "mode": "lines",
           "type": "scatter",
           "x": [
            0.26715657375090585,
            0.11931960619673054,
            null,
            0.12441911510501014,
            0.13326040522785915,
            null,
            0.12441911510501014,
            0.1253213188555623,
            null
           ],
           "y": [
            0.7299982433843056,
            0.018633553602880992,
            null,
            0.043171466092506244,
            0.06386046989911932,
            null,
            0.043171466092506244,
            0.06936638862251304,
            null
           ]
          },
          {
           "hoverinfo": "none",
           "line": {
            "color": "rgb(0, 0, 0)",
            "dash": "solid",
            "width": 1
           },
           "mode": "lines",
           "type": "scatter",
           "x": [
            0.26715657375090585,
            0.3286774867333624,
            null,
            0.3170661005023806,
            0.30847408845337315,
            null,
            0.3170661005023806,
            0.30347255063981293,
            null
           ],
           "y": [
            0.7299982433843056,
            0.6480934453741629,
            null,
            0.6635520625786494,
            0.6845886265631281,
            null,
            0.6635520625786494,
            0.6720518607679122,
            null
           ]
          },
          {
           "hoverinfo": "none",
           "line": {
            "color": "rgb(0, 0, 0)",
            "dash": "solid",
            "width": 1
           },
           "mode": "lines",
           "type": "scatter",
           "x": [
            0.7919919020707024,
            0.5805254513338318,
            null,
            0.5922851285358136,
            0.6059590805774158,
            null,
            0.5922851285358136,
            0.601080073956995,
            null
           ],
           "y": [
            0.3792170153372445,
            0.10804518699319077,
            null,
            0.12312508811455242,
            0.1311830304358798,
            null,
            0.12312508811455242,
            0.14387990538051088,
            null
           ]
          },
          {
           "hoverinfo": "none",
           "line": {
            "color": "rgb(0, 0, 0)",
            "dash": "solid",
            "width": 1
           },
           "mode": "lines",
           "type": "scatter",
           "x": [
            0.6203305331304902,
            0.28984763010955217,
            null,
            0.3022263444526046,
            0.3118966750994626,
            null,
            0.3022263444526046,
            0.31620768880650757,
            null
           ],
           "y": [
            0.33991532341532626,
            0.6956448759054679,
            null,
            0.6823205118509124,
            0.6629086372796141,
            null,
            0.6823205118509124,
            0.6762738840707896,
            null
           ]
          },
          {
           "hoverinfo": "none",
           "line": {
            "color": "rgb(0, 0, 0)",
            "dash": "solid",
            "width": 1
           },
           "mode": "lines",
           "type": "scatter",
           "x": [
            0.6203305331304902,
            0.5526782610616999,
            null,
            0.5573822164255222,
            0.5578641033664419,
            null,
            0.5573822164255222,
            0.5658880498891575,
            null
           ],
           "y": [
            0.33991532341532626,
            0.6965916677129139,
            null,
            0.6717914717756491,
            0.6455595190624001,
            null,
            0.6717914717756491,
            0.6506383602562308,
            null
           ]
          },
          {
           "hoverinfo": "none",
           "line": {
            "color": "rgb(0, 0, 0)",
            "dash": "solid",
            "width": 1
           },
           "mode": "lines",
           "type": "scatter",
           "x": [
            0.8367228626947864,
            0.5526782610616999,
            null,
            0.5619776503577483,
            0.5676250349363824,
            null,
            0.5619776503577483,
            0.5740983576213123,
            null
           ],
           "y": [
            0.08547172834581584,
            0.6965916677129139,
            null,
            0.6765840978098845,
            0.6524498800998801,
            null,
            0.6765840978098845,
            0.6624903923456983,
            null
           ]
          },
          {
           "hoverinfo": "none",
           "line": {
            "color": "rgb(0, 0, 0)",
            "dash": "solid",
            "width": 1
           },
           "mode": "lines",
           "type": "scatter",
           "x": [
            0.8367228626947864,
            0.043050495351714235,
            null,
            0.05525322722380989,
            0.06466951403265686,
            null,
            0.05525322722380989,
            0.06915237046382092,
            null
           ],
           "y": [
            0.08547172834581584,
            0.9866404470516293,
            null,
            0.9727849561735734,
            0.9529606805412517,
            null,
            0.9727849561735734,
            0.9661359197847874,
            null
           ]
          },
          {
           "hoverinfo": "none",
           "line": {
            "color": "rgb(0, 0, 0)",
            "dash": "solid",
            "width": 1
           },
           "mode": "lines",
           "type": "scatter",
           "x": [
            0.8367228626947864,
            0.7646819435859958,
            null,
            0.7694499058616701,
            0.7699995449661209,
            null,
            0.7694499058616701,
            0.7780102834386712,
            null
           ],
           "y": [
            0.08547172834581584,
            0.45957032096768424,
            null,
            0.4348109481130665,
            0.40858344118097867,
            null,
            0.4348109481130665,
            0.4137313903733895,
            null
           ]
          },
          {
           "hoverinfo": "none",
           "line": {
            "color": "rgb(0, 0, 0)",
            "dash": "solid",
            "width": 1
           },
           "mode": "lines",
           "type": "scatter",
           "x": [
            0.5526782610616999,
            0.3890199702694477,
            null,
            0.3970194536042383,
            0.4081886630699972,
            null,
            0.3970194536042383,
            0.4011346407862347,
            null
           ],
           "y": [
            0.6965916677129139,
            0.2505453207177464,
            null,
            0.2723477011658073,
            0.2888578061856602,
            null,
            0.2723477011658073,
            0.2974948153296169,
            null
           ]
          },
          {
           "hoverinfo": "none",
           "line": {
            "color": "rgb(0, 0, 0)",
            "dash": "solid",
            "width": 1
           },
           "mode": "lines",
           "type": "scatter",
           "x": [
            0.6599127034904547,
            0.26715657375090585,
            null,
            0.2780560326790374,
            0.2857021986791758,
            null,
            0.2780560326790374,
            0.2912351683304389,
            null
           ],
           "y": [
            0.11376743481814933,
            0.7299982433843056,
            null,
            0.7128970910925002,
            0.6906756858898738,
            null,
            0.7128970910925002,
            0.7024437867142151,
            null
           ]
          },
          {
           "hoverinfo": "none",
           "line": {
            "color": "rgb(0, 0, 0)",
            "dash": "solid",
            "width": 1
           },
           "mode": "lines",
           "type": "scatter",
           "x": [
            0.6599127034904547,
            0.1022208712794197,
            null,
            0.11384633980052405,
            0.12245752547015538,
            null,
            0.11384633980052405,
            0.1274476226936769,
            null
           ],
           "y": [
            0.11376743481814933,
            0.8536450927107452,
            null,
            0.83822183577116,
            0.8172114504427417,
            null,
            0.83822183577116,
            0.8297634208284876,
            null
           ]
          },
          {
           "hoverinfo": "none",
           "line": {
            "color": "rgb(0, 0, 0)",
            "dash": "solid",
            "width": 1
           },
           "mode": "lines",
           "type": "scatter",
           "x": [
            0.122398484876439,
            0.661599770590562,
            null,
            0.6478018738849185,
            0.6334362326884646,
            null,
            0.6478018738849185,
            0.635804246689198,
            null
           ],
           "y": [
            0.08386532725608942,
            0.3698807037983498,
            null,
            0.36256171045335217,
            0.36301837511286916,
            null,
            0.36256171045335217,
            0.3481208429815478,
            null
           ]
          },
          {
           "hoverinfo": "none",
           "line": {
            "color": "rgb(0, 0, 0)",
            "dash": "solid",
            "width": 1
           },
           "mode": "lines",
           "type": "scatter",
           "x": [
            0.661599770590562,
            0.8367228626947864,
            null,
            0.8259849667605355,
            0.8185477857496759,
            null,
            0.8259849667605355,
            0.8129055401665484,
            null
           ],
           "y": [
            0.3698807037983498,
            0.08547172834581584,
            null,
            0.10291062771928432,
            0.12536747558424513,
            null,
            0.10291062771928432,
            0.1137738136576517,
            null
           ]
          },
          {
           "hoverinfo": "none",
           "line": {
            "color": "rgb(0, 0, 0)",
            "dash": "solid",
            "width": 1
           },
           "mode": "lines",
           "type": "scatter",
           "x": [
            0.661599770590562,
            0.7300559277230534,
            null,
            0.7160327639330671,
            0.7017115067842183,
            null,
            0.7160327639330671,
            0.7035603409587984,
            null
           ],
           "y": [
            0.3698807037983498,
            0.3977760371687721,
            null,
            0.39206171072662893,
            0.3941729822019964,
            null,
            0.39206171072662893,
            0.37903223012935217,
            null
           ]
          },
          {
           "hoverinfo": "none",
           "line": {
            "color": "rgb(0, 0, 0)",
            "dash": "solid",
            "width": 1
           },
           "mode": "lines",
           "type": "scatter",
           "x": [
            0.661599770590562,
            0.4645428575234585,
            null,
            0.47847900915961866,
            0.4907597621884692,
            null,
            0.47847900915961866,
            0.4928256844827909,
            null
           ],
           "y": [
            0.3698807037983498,
            0.4601686721849013,
            null,
            0.4537833756795849,
            0.44015986622954795,
            null,
            0.4537833756795849,
            0.4552066716387918,
            null
           ]
          },
          {
           "hoverinfo": "none",
           "line": {
            "color": "rgb(0, 0, 0)",
            "dash": "solid",
            "width": 1
           },
           "mode": "lines",
           "type": "scatter",
           "x": [
            0.661599770590562,
            0.3764259880841979,
            null,
            0.38890377832586853,
            0.3987192396866351,
            null,
            0.38890377832586853,
            0.40292929360814866,
            null
           ],
           "y": [
            0.3698807037983498,
            0.6672709087146321,
            null,
            0.654258588422566,
            0.6350913347243442,
            null,
            0.654258588422566,
            0.6485635533543871,
            null
           ]
          },
          {
           "hoverinfo": "none",
           "line": {
            "color": "rgb(0, 0, 0)",
            "dash": "solid",
            "width": 1
           },
           "mode": "lines",
           "type": "scatter",
           "x": [
            0.3890199702694477,
            0.661599770590562,
            null,
            0.6476276039162193,
            0.6332899230181273,
            null,
            0.6476276039162193,
            0.6352690435020226,
            null
           ],
           "y": [
            0.2505453207177464,
            0.3698807037983498,
            null,
            0.3637636919706778,
            0.36546273271596036,
            null,
            0.3637636919706778,
            0.35037704201861936,
            null
           ]
          },
          {
           "hoverinfo": "none",
           "line": {
            "color": "rgb(0, 0, 0)",
            "dash": "solid",
            "width": 1
           },
           "mode": "lines",
           "type": "scatter",
           "x": [
            0.3890199702694477,
            0.6439639636488322,
            null,
            0.6299278809214987,
            0.6156115664061896,
            null,
            0.6299278809214987,
            0.6174258314491927,
            null
           ],
           "y": [
            0.2505453207177464,
            0.35239664594787135,
            null,
            0.3467891648385157,
            0.3490094838206576,
            null,
            0.3467891648385157,
            0.33385478322467377,
            null
           ]
          },
          {
           "hoverinfo": "none",
           "line": {
            "color": "rgb(0, 0, 0)",
            "dash": "solid",
            "width": 1
           },
           "mode": "lines",
           "type": "scatter",
           "x": [
            0.3890199702694477,
            0.3286774867333624,
            null,
            0.3325165392351308,
            0.3320925230847305,
            null,
            0.3325165392351308,
            0.3402757292627477,
            null
           ],
           "y": [
            0.2505453207177464,
            0.6480934453741629,
            null,
            0.6228010140206728,
            0.5965657268784841,
            null,
            0.6228010140206728,
            0.6007107360214741,
            null
           ]
          },
          {
           "hoverinfo": "none",
           "line": {
            "color": "rgb(0, 0, 0)",
            "dash": "solid",
            "width": 1
           },
           "mode": "lines",
           "type": "scatter",
           "x": [
            0.043050495351714235,
            0.5526782610616999,
            null,
            0.5389607799455843,
            0.5271189461378292,
            null,
            0.5389607799455843,
            0.5245929932551061,
            null
           ],
           "y": [
            0.9866404470516293,
            0.6965916677129139,
            null,
            0.7043988142638642,
            0.7192626201155234,
            null,
            0.7043988142638642,
            0.7044519123643528,
            null
           ]
          },
          {
           "hoverinfo": "none",
           "line": {
            "color": "rgb(0, 0, 0)",
            "dash": "solid",
            "width": 1
           },
           "mode": "lines",
           "type": "scatter",
           "x": [
            0.6125040360135718,
            0.2235189707639248,
            null,
            0.23756037042563383,
            0.25187454961399147,
            null,
            0.23756037042563383,
            0.2500747141477293,
            null
           ],
           "y": [
            0.5403944327175897,
            0.38628741419589163,
            null,
            0.3918502967614441,
            0.3895845008269937,
            null,
            0.3918502967614441,
            0.40474494209508044,
            null
           ]
          },
          {
           "hoverinfo": "none",
           "line": {
            "color": "rgb(0, 0, 0)",
            "dash": "solid",
            "width": 1
           },
           "mode": "lines",
           "type": "scatter",
           "x": [
            0.6143041660923911,
            0.12111973627554982,
            null,
            0.13355302411270276,
            0.1475588969149764,
            null
           ],
           "y": [
            0.5347162382722758,
            0.01295535915756706,
            null,
            0.026109065560277984,
            0.03196319647026307,
            null
           ]
          },
          {
           "hoverinfo": "none",
           "line": {
            "color": "rgb(0, 0, 0)",
            "dash": "solid",
            "width": 1
           },
           "mode": "lines",
           "type": "scatter",
           "x": [
            0.6125040360135718,
            0.7146533834750309,
            null,
            0.7002920868046192,
            0.6867001108445618,
            null,
            0.7002920868046192,
            0.6864443212838717,
            null
           ],
           "y": [
            0.5403944327175897,
            0.534771125053913,
            null,
            0.5355617124794227,
            0.5440699058689652,
            null,
            0.5355617124794227,
            0.528564073120747,
            null
           ]
          },
          {
           "hoverinfo": "none",
           "line": {
            "color": "rgb(0, 0, 0)",
            "dash": "solid",
            "width": 1
           },
           "mode": "lines",
           "type": "scatter",
           "x": [
            0.746120228185612,
            0.4645428575234585,
            null,
            0.478128721964737,
            0.4897261484887807,
            null,
            0.478128721964737,
            0.4924894395148281,
            null
           ],
           "y": [
            0.28315607044925484,
            0.4601686721849013,
            null,
            0.4516279673479918,
            0.43613441948918535,
            null,
            0.4516279673479918,
            0.4508030212596959,
            null
           ]
          },
          {
           "hoverinfo": "none",
           "line": {
            "color": "rgb(0, 0, 0)",
            "dash": "solid",
            "width": 1
           },
           "mode": "lines",
           "type": "scatter",
           "x": [
            0.28984763010955217,
            0.3286774867333624,
            null,
            0.3167431699505386,
            0.3077061582293548,
            null,
            0.3167431699505386,
            0.302977605080891,
            null
           ],
           "y": [
            0.6956448759054679,
            0.6480934453741629,
            null,
            0.6627083289915556,
            0.6831131768852529,
            null,
            0.6627083289915556,
            0.6702277443058969,
            null
           ]
          },
          {
           "hoverinfo": "none",
           "line": {
            "color": "rgb(0, 0, 0)",
            "dash": "solid",
            "width": 1
           },
           "mode": "lines",
           "type": "scatter",
           "x": [
            0.28984763010955217,
            0.1022208712794197,
            null,
            0.11526905404642102,
            0.12595693359543075,
            null,
            0.11526905404642102,
            0.12951198472560382,
            null
           ],
           "y": [
            0.6956448759054679,
            0.8536450927107452,
            null,
            0.8426572372526249,
            0.8251161034533838,
            null,
            0.8426572372526249,
            0.8392041725391054,
            null
           ]
          },
          {
           "hoverinfo": "none",
           "line": {
            "color": "rgb(0, 0, 0)",
            "dash": "solid",
            "width": 1
           },
           "mode": "lines",
           "type": "scatter",
           "x": [
            0.28984763010955217,
            0.6599127034904547,
            null,
            0.6490231925468036,
            0.6413899493804492,
            null,
            0.6490231925468036,
            0.635850141406753,
            null
           ],
           "y": [
            0.6956448759054679,
            0.11376743481814933,
            null,
            0.13088972281116432,
            0.1531259493214845,
            null,
            0.13088972281116432,
            0.14136858929493307,
            null
           ]
          },
          {
           "hoverinfo": "none",
           "line": {
            "color": "rgb(0, 0, 0)",
            "dash": "solid",
            "width": 1
           },
           "mode": "lines",
           "type": "scatter",
           "x": [
            0.28984763010955217,
            0.3890199702694477,
            null,
            0.3836034393987054,
            0.3823615291006166,
            null,
            0.3836034393987054,
            0.37449613052620334,
            null
           ],
           "y": [
            0.6956448759054679,
            0.2505453207177464,
            null,
            0.2748554809634447,
            0.30100396711663335,
            null,
            0.2748554809634447,
            0.2951557610886687,
            null
           ]
          },
          {
           "hoverinfo": "none",
           "line": {
            "color": "rgb(0, 0, 0)",
            "dash": "solid",
            "width": 1
           },
           "mode": "lines",
           "type": "scatter",
           "x": [
            0.4645428575234585,
            0.7919919020707024,
            null,
            0.7777538757131398,
            0.764721192233169,
            null,
            0.7777538757131398,
            0.7635823469680874,
            null
           ],
           "y": [
            0.4601686721849013,
            0.3792170153372445,
            null,
            0.3827369273451691,
            0.393785996874927,
            null,
            0.3827369273451691,
            0.3784132585747748,
            null
           ]
          },
          {
           "hoverinfo": "none",
           "line": {
            "color": "rgb(0, 0, 0)",
            "dash": "solid",
            "width": 1
           },
           "mode": "lines",
           "type": "scatter",
           "x": [
            0.4645428575234585,
            0.122398484876439,
            null,
            0.13470754964503462,
            0.1486569115874851,
            null,
            0.13470754964503462,
            0.1442767851434838,
            null
           ],
           "y": [
            0.4601686721849013,
            0.08386532725608942,
            null,
            0.09740330308054222,
            0.1036916021580086,
            null,
            0.09740330308054222,
            0.116981648591076,
            null
           ]
          },
          {
           "hoverinfo": "none",
           "line": {
            "color": "rgb(0, 0, 0)",
            "dash": "solid",
            "width": 1
           },
           "mode": "lines",
           "type": "scatter",
           "x": [
            0.6589911410927456,
            0.11931960619673054,
            null,
            0.1335072027877809,
            0.14773152886145016,
            null,
            0.1335072027877809,
            0.1463907341469605,
            null
           ],
           "y": [
            0.1762676117268882,
            0.018633553602880992,
            null,
            0.022777645482962308,
            0.01907750292561076,
            null,
            0.022777645482962308,
            0.034395792414975486,
            null
           ]
          },
          {
           "hoverinfo": "none",
           "line": {
            "color": "rgb(0, 0, 0)",
            "dash": "solid",
            "width": 1
           },
           "mode": "lines",
           "type": "scatter",
           "x": [
            0.7300559277230534,
            0.4645428575234585,
            null,
            0.47879325478672413,
            0.4918654562302439,
            null,
            0.47879325478672413,
            0.49294890232347105,
            null
           ],
           "y": [
            0.3977760371687721,
            0.4601686721849013,
            null,
            0.4568199864323943,
            0.44592781718441576,
            null,
            0.4568199864323943,
            0.4613139123004028,
            null
           ]
          },
          {
           "hoverinfo": "none",
           "line": {
            "color": "rgb(0, 0, 0)",
            "dash": "solid",
            "width": 1
           },
           "mode": "lines",
           "type": "scatter",
           "x": [
            0.5805254513338318,
            0.3764259880841979,
            null,
            0.38439620276817155,
            0.38847764649985256,
            null,
            0.38439620276817155,
            0.39554323286402,
            null
           ],
           "y": [
            0.10804518699319077,
            0.6672709087146321,
            null,
            0.6454327863210007,
            0.6202673271931451,
            null,
            0.6454327863210007,
            0.6288727350956019,
            null
           ]
          },
          {
           "hoverinfo": "none",
           "line": {
            "color": "rgb(0, 0, 0)",
            "dash": "solid",
            "width": 1
           },
           "mode": "lines",
           "type": "scatter",
           "x": [
            0.5805254513338318,
            0.5526782610616999,
            null,
            0.5539155165694847,
            0.5508673041329996,
            null,
            0.5539155165694847,
            0.5593277196718867,
            null
           ],
           "y": [
            0.10804518699319077,
            0.6965916677129139,
            null,
            0.6704424451973996,
            0.6447932089331663,
            null,
            0.6704424451973996,
            0.6461290685989616,
            null
           ]
          },
          {
           "hoverinfo": "none",
           "line": {
            "color": "rgb(0, 0, 0)",
            "dash": "solid",
            "width": 1
           },
           "mode": "lines",
           "type": "scatter",
           "x": [
            0.5805254513338318,
            0.661599770590562,
            null,
            0.6545259908503347,
            0.6440724255361454,
            null,
            0.6545259908503347,
            0.6514638763607707,
            null
           ],
           "y": [
            0.10804518699319077,
            0.3698807037983498,
            null,
            0.3470354083826312,
            0.3290292294637116,
            null,
            0.3470354083826312,
            0.32139169867057094,
            null
           ]
          },
          {
           "hoverinfo": "none",
           "line": {
            "color": "rgb(0, 0, 0)",
            "dash": "solid",
            "width": 1
           },
           "mode": "lines",
           "type": "scatter",
           "x": [
            0.5805254513338318,
            0.6203305331304902,
            null,
            0.6160312190265257,
            0.6078724969136238,
            null,
            0.6160312190265257,
            0.6159753578559682,
            null
           ],
           "y": [
            0.10804518699319077,
            0.33991532341532626,
            null,
            0.3148712209336286,
            0.2932666518431885,
            null,
            0.3148712209336286,
            0.28862470014773495,
            null
           ]
          },
          {
           "hoverinfo": "none",
           "line": {
            "color": "rgb(0, 0, 0)",
            "dash": "solid",
            "width": 1
           },
           "mode": "lines",
           "type": "scatter",
           "x": [
            0.5805254513338318,
            0.4900300561762585,
            null,
            0.5043721177504027,
            0.5178194979327811,
            null,
            0.5043721177504027,
            0.5183277270701566,
            null
           ],
           "y": [
            0.10804518699319077,
            0.11795673627221848,
            null,
            0.11638591546075663,
            0.10714272067461007,
            null,
            0.11638591546075663,
            0.12262778536876841,
            null
           ]
          },
          {
           "hoverinfo": "none",
           "line": {
            "color": "rgb(0, 0, 0)",
            "dash": "solid",
            "width": 1
           },
           "mode": "lines",
           "type": "scatter",
           "x": [
            0.5805254513338318,
            0.6125040360135718,
            null,
            0.6105801871055249,
            0.6045345196892521,
            null,
            0.6105801871055249,
            0.6129500083989542,
            null
           ],
           "y": [
            0.10804518699319077,
            0.5403944327175897,
            null,
            0.514384068825257,
            0.4905740049667738,
            null,
            0.514384068825257,
            0.48849683324017906,
            null
           ]
          },
          {
           "hoverinfo": "none",
           "line": {
            "color": "rgb(0, 0, 0)",
            "dash": "solid",
            "width": 1
           },
           "mode": "lines",
           "type": "scatter",
           "x": [
            0.1022208712794197,
            0.3286774867333624,
            null,
            0.3158105044741989,
            0.3054075705275606,
            null,
            0.3158105044741989,
            0.30162884310661575,
            null
           ],
           "y": [
            0.8536450927107452,
            0.6480934453741629,
            null,
            0.6597726334355051,
            0.677876401776463,
            null,
            0.6597726334355051,
            0.6639839741312678,
            null
           ]
          },
          {
           "hoverinfo": "none",
           "line": {
            "color": "rgb(0, 0, 0)",
            "dash": "solid",
            "width": 1
           },
           "mode": "lines",
           "type": "scatter",
           "x": [
            0.7646819435859958,
            0.11931960619673054,
            null,
            0.13277696680644344,
            0.14712070091113424,
            null,
            0.13277696680644344,
            0.1441458479773133,
            null
           ],
           "y": [
            0.45957032096768424,
            0.018633553602880992,
            null,
            0.027828148237135426,
            0.02934715163701501,
            null,
            0.027828148237135426,
            0.043877008350899374,
            null
           ]
          },
          {
           "hoverinfo": "none",
           "line": {
            "color": "rgb(0, 0, 0)",
            "dash": "solid",
            "width": 1
           },
           "mode": "lines",
           "type": "scatter",
           "x": [
            0.7646819435859958,
            0.5526782610616999,
            null,
            0.5649331436936277,
            0.5744242394682462,
            null,
            0.5649331436936277,
            0.5788571210154737,
            null
           ],
           "y": [
            0.45957032096768424,
            0.6965916677129139,
            null,
            0.6828906378485323,
            0.6631857709786347,
            null,
            0.6828906378485323,
            0.6764173171823431,
            null
           ]
          },
          {
           "hoverinfo": "none",
           "line": {
            "color": "rgb(0, 0, 0)",
            "dash": "solid",
            "width": 1
           },
           "mode": "lines",
           "type": "scatter",
           "x": [
            0.7646819435859958,
            0.3764259880841979,
            null,
            0.3902147222319993,
            0.4021943105898914,
            null,
            0.3902147222319993,
            0.4045808956146012,
            null
           ],
           "y": [
            0.45957032096768424,
            0.6672709087146321,
            null,
            0.6598945165532207,
            0.6454037602856084,
            null,
            0.6598945165532207,
            0.6602913996410402,
            null
           ]
          },
          {
           "hoverinfo": "none",
           "line": {
            "color": "rgb(0, 0, 0)",
            "dash": "solid",
            "width": 1
           },
           "mode": "lines",
           "type": "scatter",
           "x": [
            0.21976896563283277,
            0.6125040360135718,
            null,
            0.5981466657498182,
            0.5842686672220062,
            null,
            0.5981466657498182,
            0.5845924248759287,
            null
           ],
           "y": [
            0.5130220934181828,
            0.5403944327175897,
            null,
            0.5393937713559097,
            0.5461885997554152,
            null,
            0.5393937713559097,
            0.5306870063322622,
            null
           ]
          },
          {
           "hoverinfo": "none",
           "line": {
            "color": "rgb(0, 0, 0)",
            "dash": "solid",
            "width": 1
           },
           "mode": "lines",
           "type": "scatter",
           "x": [
            0.2235189707639248,
            0.5805254513338318,
            null,
            0.5673101257542703,
            0.5563512452994729,
            null,
            0.5673101257542703,
            0.5530188407254076,
            null
           ],
           "y": [
            0.38628741419589163,
            0.10804518699319077,
            null,
            0.1183448925240151,
            0.1353188432901957,
            null,
            0.1183448925240151,
            0.12105031079952512,
            null
           ]
          },
          {
           "hoverinfo": "none",
           "line": {
            "color": "rgb(0, 0, 0)",
            "dash": "solid",
            "width": 1
           },
           "mode": "lines",
           "type": "scatter",
           "x": [
            0.3156022120837657,
            0.8367228626947864,
            null,
            0.8227561423420257,
            0.8104094768835775,
            null,
            0.8227561423420257,
            0.8084169726276628,
            null
           ],
           "y": [
            0.31525065159337873,
            0.08547172834581584,
            null,
            0.0916301063724672,
            0.1050533347783591,
            null,
            0.0916301063724672,
            0.08997352445195406,
            null
           ]
          },
          {
           "hoverinfo": "none",
           "line": {
            "color": "rgb(0, 0, 0)",
            "dash": "solid",
            "width": 1
           },
           "mode": "lines",
           "type": "scatter",
           "x": [
            0.3156022120837657,
            0.7300559277230534,
            null,
            0.7157727108393251,
            0.7016673450267921,
            null,
            0.7157727108393251,
            0.7025875201096171,
            null
           ],
           "y": [
            0.31525065159337873,
            0.3977760371687721,
            null,
            0.3949319850198645,
            0.39992572338741655,
            null,
            0.3949319850198645,
            0.38450419306265743,
            null
           ]
          },
          {
           "hoverinfo": "none",
           "line": {
            "color": "rgb(0, 0, 0)",
            "dash": "solid",
            "width": 1
           },
           "mode": "lines",
           "type": "scatter",
           "x": [
            0.3156022120837657,
            0.6203305331304902,
            null,
            0.6059767994948613,
            0.5920762091937797,
            null,
            0.6059767994948613,
            0.5924520988013311,
            null
           ],
           "y": [
            0.31525065159337873,
            0.33991532341532626,
            null,
            0.33875353402756486,
            0.3453924677181448,
            null,
            0.33875353402756486,
            0.3298948007473702,
            null
           ]
          },
          {
           "hoverinfo": "none",
           "line": {
            "color": "rgb(0, 0, 0)",
            "dash": "solid",
            "width": 1
           },
           "mode": "lines",
           "type": "scatter",
           "x": [
            0.3156022120837657,
            0.3764259880841979,
            null,
            0.372101268859142,
            0.3639206383853718,
            null,
            0.372101268859142,
            0.37201877517107446,
            null
           ],
           "y": [
            0.31525065159337873,
            0.6672709087146321,
            null,
            0.6422414075279486,
            0.6206645024896235,
            null,
            0.6422414075279486,
            0.6159951209897706,
            null
           ]
          },
          {
           "hoverinfo": "none",
           "line": {
            "color": "rgb(0, 0, 0)",
            "dash": "solid",
            "width": 1
           },
           "mode": "lines",
           "type": "scatter",
           "x": [
            0.3156022120837657,
            0.122398484876439,
            null,
            0.13441427295748076,
            0.14822135361828867,
            null,
            0.13441427295748076,
            0.14356543389551235,
            null
           ],
           "y": [
            0.31525065159337873,
            0.08386532725608942,
            null,
            0.09825571745449627,
            0.10551668390187853,
            null,
            0.09825571745449627,
            0.11849008070570106,
            null
           ]
          },
          {
           "hoverinfo": "none",
           "line": {
            "color": "rgb(0, 0, 0)",
            "dash": "solid",
            "width": 1
           },
           "mode": "lines",
           "type": "scatter",
           "x": [
            0.3286774867333624,
            0.5526782610616999,
            null,
            0.5384103065947159,
            0.5242798727256088,
            null,
            0.5384103065947159,
            0.5252793454088379,
            null
           ],
           "y": [
            0.6480934453741629,
            0.6965916677129139,
            null,
            0.6935025246948425,
            0.6982538794277443,
            null,
            0.6935025246948425,
            0.6828488278713584,
            null
           ]
          },
          {
           "hoverinfo": "none",
           "line": {
            "color": "rgb(0, 0, 0)",
            "dash": "solid",
            "width": 1
           },
           "mode": "lines",
           "type": "scatter",
           "x": [
            0.3286774867333624,
            0.661599770590562,
            null,
            0.6485341589846367,
            0.6378184129964131,
            null,
            0.6485341589846367,
            0.6342857939330937,
            null
           ],
           "y": [
            0.6480934453741629,
            0.3698807037983498,
            null,
            0.3807992268336189,
            0.39828353376216075,
            null,
            0.3807992268336189,
            0.384176646830979,
            null
           ]
          },
          {
           "hoverinfo": "none",
           "marker": {
            "color": "rgb(255, 0, 0)",
            "line": {
             "color": "rgb(0, 0, 0)",
             "width": 1
            },
            "size": 20,
            "symbol": "circle"
           },
           "mode": "markers+text",
           "text": [
            "('Atlanta Hawks',)"
           ],
           "textfont": {
            "color": "rgb(0, 0, 0)"
           },
           "textposition": "middle center",
           "type": "scatter",
           "x": [
            0.11931960619673054
           ],
           "y": [
            0.018633553602880992
           ]
          },
          {
           "hoverinfo": "none",
           "marker": {
            "color": "rgb(255, 0, 0)",
            "line": {
             "color": "rgb(0, 0, 0)",
             "width": 1
            },
            "size": 20,
            "symbol": "circle"
           },
           "mode": "markers+text",
           "text": [
            "('Boston Celtics',)"
           ],
           "textfont": {
            "color": "rgb(0, 0, 0)"
           },
           "textposition": "middle center",
           "type": "scatter",
           "x": [
            0.6019142956893831
           ],
           "y": [
            0.23551537854926619
           ]
          },
          {
           "hoverinfo": "none",
           "marker": {
            "color": "rgb(255, 0, 0)",
            "line": {
             "color": "rgb(0, 0, 0)",
             "width": 1
            },
            "size": 20,
            "symbol": "circle"
           },
           "mode": "markers+text",
           "text": [
            "('Brooklyn Nets',)"
           ],
           "textfont": {
            "color": "rgb(0, 0, 0)"
           },
           "textposition": "middle center",
           "type": "scatter",
           "x": [
            0.7146533834750309
           ],
           "y": [
            0.534771125053913
           ]
          },
          {
           "hoverinfo": "none",
           "marker": {
            "color": "rgb(255, 0, 0)",
            "line": {
             "color": "rgb(0, 0, 0)",
             "width": 1
            },
            "size": 20,
            "symbol": "circle"
           },
           "mode": "markers+text",
           "text": [
            "('Charlotte Hornets',)"
           ],
           "textfont": {
            "color": "rgb(0, 0, 0)"
           },
           "textposition": "middle center",
           "type": "scatter",
           "x": [
            0.27873525345969663
           ],
           "y": [
            0.764994389785598
           ]
          },
          {
           "hoverinfo": "none",
           "marker": {
            "color": "rgb(255, 0, 0)",
            "line": {
             "color": "rgb(0, 0, 0)",
             "width": 1
            },
            "size": 20,
            "symbol": "circle"
           },
           "mode": "markers+text",
           "text": [
            "('Chicago Bulls',)"
           ],
           "textfont": {
            "color": "rgb(0, 0, 0)"
           },
           "textposition": "middle center",
           "type": "scatter",
           "x": [
            0.4900300561762585
           ],
           "y": [
            0.11795673627221848
           ]
          },
          {
           "hoverinfo": "none",
           "marker": {
            "color": "rgb(255, 0, 0)",
            "line": {
             "color": "rgb(0, 0, 0)",
             "width": 1
            },
            "size": 20,
            "symbol": "circle"
           },
           "mode": "markers+text",
           "text": [
            "('Cleveland Cavaliers',)"
           ],
           "textfont": {
            "color": "rgb(0, 0, 0)"
           },
           "textposition": "middle center",
           "type": "scatter",
           "x": [
            0.26715657375090585
           ],
           "y": [
            0.7299982433843056
           ]
          },
          {
           "hoverinfo": "none",
           "marker": {
            "color": "rgb(255, 0, 0)",
            "line": {
             "color": "rgb(0, 0, 0)",
             "width": 1
            },
            "size": 20,
            "symbol": "circle"
           },
           "mode": "markers+text",
           "text": [
            "('Dallas Mavericks',)"
           ],
           "textfont": {
            "color": "rgb(0, 0, 0)"
           },
           "textposition": "middle center",
           "type": "scatter",
           "x": [
            0.7919919020707024
           ],
           "y": [
            0.3792170153372445
           ]
          },
          {
           "hoverinfo": "none",
           "marker": {
            "color": "rgb(255, 0, 0)",
            "line": {
             "color": "rgb(0, 0, 0)",
             "width": 1
            },
            "size": 20,
            "symbol": "circle"
           },
           "mode": "markers+text",
           "text": [
            "('Denver Nuggets',)"
           ],
           "textfont": {
            "color": "rgb(0, 0, 0)"
           },
           "textposition": "middle center",
           "type": "scatter",
           "x": [
            0.6439639636488322
           ],
           "y": [
            0.35239664594787135
           ]
          },
          {
           "hoverinfo": "none",
           "marker": {
            "color": "rgb(255, 0, 0)",
            "line": {
             "color": "rgb(0, 0, 0)",
             "width": 1
            },
            "size": 20,
            "symbol": "circle"
           },
           "mode": "markers+text",
           "text": [
            "('Detroit Pistons',)"
           ],
           "textfont": {
            "color": "rgb(0, 0, 0)"
           },
           "textposition": "middle center",
           "type": "scatter",
           "x": [
            0.6203305331304902
           ],
           "y": [
            0.33991532341532626
           ]
          },
          {
           "hoverinfo": "none",
           "marker": {
            "color": "rgb(255, 0, 0)",
            "line": {
             "color": "rgb(0, 0, 0)",
             "width": 1
            },
            "size": 20,
            "symbol": "circle"
           },
           "mode": "markers+text",
           "text": [
            "('Golden State Warriors',)"
           ],
           "textfont": {
            "color": "rgb(0, 0, 0)"
           },
           "textposition": "middle center",
           "type": "scatter",
           "x": [
            0.8367228626947864
           ],
           "y": [
            0.08547172834581584
           ]
          },
          {
           "hoverinfo": "none",
           "marker": {
            "color": "rgb(255, 0, 0)",
            "line": {
             "color": "rgb(0, 0, 0)",
             "width": 1
            },
            "size": 20,
            "symbol": "circle"
           },
           "mode": "markers+text",
           "text": [
            "('Houston Rockets',)"
           ],
           "textfont": {
            "color": "rgb(0, 0, 0)"
           },
           "textposition": "middle center",
           "type": "scatter",
           "x": [
            0.5526782610616999
           ],
           "y": [
            0.6965916677129139
           ]
          },
          {
           "hoverinfo": "none",
           "marker": {
            "color": "rgb(255, 0, 0)",
            "line": {
             "color": "rgb(0, 0, 0)",
             "width": 1
            },
            "size": 20,
            "symbol": "circle"
           },
           "mode": "markers+text",
           "text": [
            "('Indiana Pacers',)"
           ],
           "textfont": {
            "color": "rgb(0, 0, 0)"
           },
           "textposition": "middle center",
           "type": "scatter",
           "x": [
            0.6599127034904547
           ],
           "y": [
            0.11376743481814933
           ]
          },
          {
           "hoverinfo": "none",
           "marker": {
            "color": "rgb(255, 0, 0)",
            "line": {
             "color": "rgb(0, 0, 0)",
             "width": 1
            },
            "size": 20,
            "symbol": "circle"
           },
           "mode": "markers+text",
           "text": [
            "('LA Clippers',)"
           ],
           "textfont": {
            "color": "rgb(0, 0, 0)"
           },
           "textposition": "middle center",
           "type": "scatter",
           "x": [
            0.122398484876439
           ],
           "y": [
            0.08386532725608942
           ]
          },
          {
           "hoverinfo": "none",
           "marker": {
            "color": "rgb(255, 0, 0)",
            "line": {
             "color": "rgb(0, 0, 0)",
             "width": 1
            },
            "size": 20,
            "symbol": "circle"
           },
           "mode": "markers+text",
           "text": [
            "('Los Angeles Lakers',)"
           ],
           "textfont": {
            "color": "rgb(0, 0, 0)"
           },
           "textposition": "middle center",
           "type": "scatter",
           "x": [
            0.661599770590562
           ],
           "y": [
            0.3698807037983498
           ]
          },
          {
           "hoverinfo": "none",
           "marker": {
            "color": "rgb(255, 0, 0)",
            "line": {
             "color": "rgb(0, 0, 0)",
             "width": 1
            },
            "size": 20,
            "symbol": "circle"
           },
           "mode": "markers+text",
           "text": [
            "('Memphis Grizzlies',)"
           ],
           "textfont": {
            "color": "rgb(0, 0, 0)"
           },
           "textposition": "middle center",
           "type": "scatter",
           "x": [
            0.3890199702694477
           ],
           "y": [
            0.2505453207177464
           ]
          },
          {
           "hoverinfo": "none",
           "marker": {
            "color": "rgb(255, 0, 0)",
            "line": {
             "color": "rgb(0, 0, 0)",
             "width": 1
            },
            "size": 20,
            "symbol": "circle"
           },
           "mode": "markers+text",
           "text": [
            "('Miami Heat',)"
           ],
           "textfont": {
            "color": "rgb(0, 0, 0)"
           },
           "textposition": "middle center",
           "type": "scatter",
           "x": [
            0.043050495351714235
           ],
           "y": [
            0.9866404470516293
           ]
          },
          {
           "hoverinfo": "none",
           "marker": {
            "color": "rgb(255, 0, 0)",
            "line": {
             "color": "rgb(0, 0, 0)",
             "width": 1
            },
            "size": 20,
            "symbol": "circle"
           },
           "mode": "markers+text",
           "text": [
            "('Milwaukee Bucks',)"
           ],
           "textfont": {
            "color": "rgb(0, 0, 0)"
           },
           "textposition": "middle center",
           "type": "scatter",
           "x": [
            0.6125040360135718
           ],
           "y": [
            0.5403944327175897
           ]
          },
          {
           "hoverinfo": "none",
           "marker": {
            "color": "rgb(255, 0, 0)",
            "line": {
             "color": "rgb(0, 0, 0)",
             "width": 1
            },
            "size": 20,
            "symbol": "circle"
           },
           "mode": "markers+text",
           "text": [
            "('Minnesota Timberwolves',)"
           ],
           "textfont": {
            "color": "rgb(0, 0, 0)"
           },
           "textposition": "middle center",
           "type": "scatter",
           "x": [
            0.3764259880841979
           ],
           "y": [
            0.6672709087146321
           ]
          },
          {
           "hoverinfo": "none",
           "marker": {
            "color": "rgb(255, 0, 0)",
            "line": {
             "color": "rgb(0, 0, 0)",
             "width": 1
            },
            "size": 20,
            "symbol": "circle"
           },
           "mode": "markers+text",
           "text": [
            "('New Orleans Pelicans',)"
           ],
           "textfont": {
            "color": "rgb(0, 0, 0)"
           },
           "textposition": "middle center",
           "type": "scatter",
           "x": [
            0.746120228185612
           ],
           "y": [
            0.28315607044925484
           ]
          },
          {
           "hoverinfo": "none",
           "marker": {
            "color": "rgb(255, 0, 0)",
            "line": {
             "color": "rgb(0, 0, 0)",
             "width": 1
            },
            "size": 20,
            "symbol": "circle"
           },
           "mode": "markers+text",
           "text": [
            "('New York Knicks',)"
           ],
           "textfont": {
            "color": "rgb(0, 0, 0)"
           },
           "textposition": "middle center",
           "type": "scatter",
           "x": [
            0.28984763010955217
           ],
           "y": [
            0.6956448759054679
           ]
          },
          {
           "hoverinfo": "none",
           "marker": {
            "color": "rgb(255, 0, 0)",
            "line": {
             "color": "rgb(0, 0, 0)",
             "width": 1
            },
            "size": 20,
            "symbol": "circle"
           },
           "mode": "markers+text",
           "text": [
            "('Oklahoma City Thunder',)"
           ],
           "textfont": {
            "color": "rgb(0, 0, 0)"
           },
           "textposition": "middle center",
           "type": "scatter",
           "x": [
            0.4645428575234585
           ],
           "y": [
            0.4601686721849013
           ]
          },
          {
           "hoverinfo": "none",
           "marker": {
            "color": "rgb(255, 0, 0)",
            "line": {
             "color": "rgb(0, 0, 0)",
             "width": 1
            },
            "size": 20,
            "symbol": "circle"
           },
           "mode": "markers+text",
           "text": [
            "('Orlando Magic',)"
           ],
           "textfont": {
            "color": "rgb(0, 0, 0)"
           },
           "textposition": "middle center",
           "type": "scatter",
           "x": [
            0.6589911410927456
           ],
           "y": [
            0.1762676117268882
           ]
          },
          {
           "hoverinfo": "none",
           "marker": {
            "color": "rgb(255, 0, 0)",
            "line": {
             "color": "rgb(0, 0, 0)",
             "width": 1
            },
            "size": 20,
            "symbol": "circle"
           },
           "mode": "markers+text",
           "text": [
            "('Philadelphia 76ers',)"
           ],
           "textfont": {
            "color": "rgb(0, 0, 0)"
           },
           "textposition": "middle center",
           "type": "scatter",
           "x": [
            0.7300559277230534
           ],
           "y": [
            0.3977760371687721
           ]
          },
          {
           "hoverinfo": "none",
           "marker": {
            "color": "rgb(255, 0, 0)",
            "line": {
             "color": "rgb(0, 0, 0)",
             "width": 1
            },
            "size": 20,
            "symbol": "circle"
           },
           "mode": "markers+text",
           "text": [
            "('Phoenix Suns',)"
           ],
           "textfont": {
            "color": "rgb(0, 0, 0)"
           },
           "textposition": "middle center",
           "type": "scatter",
           "x": [
            0.5805254513338318
           ],
           "y": [
            0.10804518699319077
           ]
          },
          {
           "hoverinfo": "none",
           "marker": {
            "color": "rgb(255, 0, 0)",
            "line": {
             "color": "rgb(0, 0, 0)",
             "width": 1
            },
            "size": 20,
            "symbol": "circle"
           },
           "mode": "markers+text",
           "text": [
            "('Portland Trail Blazers',)"
           ],
           "textfont": {
            "color": "rgb(0, 0, 0)"
           },
           "textposition": "middle center",
           "type": "scatter",
           "x": [
            0.1022208712794197
           ],
           "y": [
            0.8536450927107452
           ]
          },
          {
           "hoverinfo": "none",
           "marker": {
            "color": "rgb(255, 0, 0)",
            "line": {
             "color": "rgb(0, 0, 0)",
             "width": 1
            },
            "size": 20,
            "symbol": "circle"
           },
           "mode": "markers+text",
           "text": [
            "('Sacramento Kings',)"
           ],
           "textfont": {
            "color": "rgb(0, 0, 0)"
           },
           "textposition": "middle center",
           "type": "scatter",
           "x": [
            0.7646819435859958
           ],
           "y": [
            0.45957032096768424
           ]
          },
          {
           "hoverinfo": "none",
           "marker": {
            "color": "rgb(255, 0, 0)",
            "line": {
             "color": "rgb(0, 0, 0)",
             "width": 1
            },
            "size": 20,
            "symbol": "circle"
           },
           "mode": "markers+text",
           "text": [
            "('San Antonio Spurs',)"
           ],
           "textfont": {
            "color": "rgb(0, 0, 0)"
           },
           "textposition": "middle center",
           "type": "scatter",
           "x": [
            0.21976896563283277
           ],
           "y": [
            0.5130220934181828
           ]
          },
          {
           "hoverinfo": "none",
           "marker": {
            "color": "rgb(255, 0, 0)",
            "line": {
             "color": "rgb(0, 0, 0)",
             "width": 1
            },
            "size": 20,
            "symbol": "circle"
           },
           "mode": "markers+text",
           "text": [
            "('Toronto Raptors',)"
           ],
           "textfont": {
            "color": "rgb(0, 0, 0)"
           },
           "textposition": "middle center",
           "type": "scatter",
           "x": [
            0.2235189707639248
           ],
           "y": [
            0.38628741419589163
           ]
          },
          {
           "hoverinfo": "none",
           "marker": {
            "color": "rgb(255, 0, 0)",
            "line": {
             "color": "rgb(0, 0, 0)",
             "width": 1
            },
            "size": 20,
            "symbol": "circle"
           },
           "mode": "markers+text",
           "text": [
            "('Utah Jazz',)"
           ],
           "textfont": {
            "color": "rgb(0, 0, 0)"
           },
           "textposition": "middle center",
           "type": "scatter",
           "x": [
            0.3156022120837657
           ],
           "y": [
            0.31525065159337873
           ]
          },
          {
           "hoverinfo": "none",
           "marker": {
            "color": "rgb(255, 0, 0)",
            "line": {
             "color": "rgb(0, 0, 0)",
             "width": 1
            },
            "size": 20,
            "symbol": "circle"
           },
           "mode": "markers+text",
           "text": [
            "('Washington Wizards',)"
           ],
           "textfont": {
            "color": "rgb(0, 0, 0)"
           },
           "textposition": "middle center",
           "type": "scatter",
           "x": [
            0.3286774867333624
           ],
           "y": [
            0.6480934453741629
           ]
          },
          {
           "hoverinfo": "none",
           "mode": "text",
           "text": [
            null,
            null,
            null,
            null,
            null,
            null,
            null,
            null,
            null,
            null,
            null,
            null,
            null,
            null,
            null,
            null,
            null,
            null,
            null,
            null,
            null,
            null,
            null,
            null,
            null,
            null,
            null,
            null,
            null,
            null,
            null,
            null,
            null,
            null,
            null,
            null,
            null,
            null,
            null,
            null,
            null,
            null,
            null,
            null,
            null,
            null,
            null,
            null,
            null,
            null,
            null,
            null,
            null,
            null,
            null,
            null,
            null,
            null,
            null,
            null,
            null,
            null,
            null,
            null,
            null
           ],
           "textfont": {
            "color": "rgb(0, 0, 0)"
           },
           "textposition": "middle center",
           "type": "scatter",
           "x": [
            0.3266532256963092,
            0.15607435862772784,
            0.4200647747664901,
            0.35691117071105477,
            0.1586601284244791,
            0.24805067773376566,
            0.6267718079041538,
            0.4714321194169772,
            0.6701196391022194,
            0.5718434065512809,
            0.5072593777202042,
            0.3666305582717705,
            0.34592260640797573,
            0.2593340858524818,
            0.20667048172460442,
            0.3063792905221763,
            0.6945136225747367,
            0.4477951409522257,
            0.5729284277683682,
            0.6837481421468434,
            0.43230199220638343,
            0.7871487809311822,
            0.48278403944533127,
            0.4541732319781833,
            0.3726238838016298,
            0.3879926098248164,
            0.7587076106962539,
            0.6926997480440829,
            0.5595759146769448,
            0.511889755729223,
            0.5219613337829602,
            0.5134223544553116,
            0.3450033027173824,
            0.3021381179134773,
            0.4210567020345464,
            0.3749124714992476,
            0.6640114882056796,
            0.6006562432239856,
            0.3172629472982197,
            0.1900193470600839,
            0.4842531434168694,
            0.3527415172205503,
            0.6301942281807288,
            0.30088154589695526,
            0.39142390669978255,
            0.5954662758535646,
            0.4665212302952597,
            0.5522874111138422,
            0.6085567811441095,
            0.5867185050977834,
            0.534417864776357,
            0.582276311715399,
            0.22184252764341886,
            0.447034022816149,
            0.6511799695963632,
            0.5665160270226001,
            0.415588724991593,
            0.40766041192135544,
            0.5795337184642102,
            0.521272196528792,
            0.4673303930715862,
            0.3323126058998921,
            0.22687784656285093,
            0.4389868344005697,
            0.5011155787717861
           ],
           "y": [
            0.3775480285562005,
            0.2749608045447981,
            0.23305574485819236,
            0.307904965386805,
            0.21452796293875853,
            0.15833681002223832,
            0.5926534412069312,
            0.43463477699052316,
            0.3702634157591707,
            0.1729026851122254,
            0.41236669968023393,
            0.40944040513042945,
            0.2949962181225544,
            0.55221289473632,
            0.36500026017295656,
            0.7102571956043349,
            0.22214885619781774,
            0.4951670151911989,
            0.5096604432459566,
            0.37404383726807966,
            0.5137644830189888,
            0.26381104632638447,
            0.4589552648163426,
            0.4019720164923572,
            0.4624691874109338,
            0.2520786221076077,
            0.24729189998347023,
            0.4094454885881028,
            0.3895665212232069,
            0.4957817327441477,
            0.33573697027731975,
            0.3271117013858908,
            0.44230631075925964,
            0.8666747630432072,
            0.43769049257865805,
            0.2511230209336657,
            0.5638175885513854,
            0.34684409926686854,
            0.693670432243084,
            0.7508089338990962,
            0.42459880527462,
            0.4829898633668214,
            0.4457024667134705,
            0.24953114911959628,
            0.07153308338044617,
            0.40294013290457187,
            0.37309828559657376,
            0.40005824406324075,
            0.2518851257086265,
            0.2318341203390599,
            0.0868012900956853,
            0.32773424250631067,
            0.7743743075001386,
            0.21451841239194883,
            0.5556941221307933,
            0.53823174616171,
            0.552935900085137,
            0.27130768275562983,
            0.22587519880298684,
            0.3826055201056814,
            0.3538039812324305,
            0.4991610546438713,
            0.17760788836330343,
            0.6984068513178714,
            0.532854963504167
           ]
          },
          {
           "hoverinfo": "none",
           "marker": {
            "color": "rgba(255, 255, 255, 0.0)",
            "line": {
             "color": "rgba(255, 255, 255, 0.0)",
             "width": 0
            },
            "size": 0,
            "symbol": "circle"
           },
           "mode": "markers",
           "type": "scatter",
           "x": [
            0.5,
            0,
            1,
            0.5
           ],
           "y": [
            0,
            0.5,
            0.5,
            1
           ]
          }
         ],
         "name": "1"
        }
       ],
       "layout": {
        "height": 526,
        "margin": {
         "b": 0,
         "l": 0,
         "r": 0,
         "t": 0
        },
        "showlegend": false,
        "sliders": [
         {
          "currentvalue": {
           "visible": false
          },
          "steps": [
           {
            "args": [
             [
              0
             ],
             {
              "frame": {
               "redraw": false
              },
              "mode": "immediate"
             }
            ],
            "label": "",
            "method": "animate"
           },
           {
            "args": [
             [
              1
             ],
             {
              "frame": {
               "redraw": false
              },
              "mode": "immediate"
             }
            ],
            "label": "",
            "method": "animate"
           }
          ]
         }
        ],
        "template": {
         "data": {
          "bar": [
           {
            "error_x": {
             "color": "#2a3f5f"
            },
            "error_y": {
             "color": "#2a3f5f"
            },
            "marker": {
             "line": {
              "color": "#E5ECF6",
              "width": 0.5
             }
            },
            "type": "bar"
           }
          ],
          "barpolar": [
           {
            "marker": {
             "line": {
              "color": "#E5ECF6",
              "width": 0.5
             }
            },
            "type": "barpolar"
           }
          ],
          "carpet": [
           {
            "aaxis": {
             "endlinecolor": "#2a3f5f",
             "gridcolor": "white",
             "linecolor": "white",
             "minorgridcolor": "white",
             "startlinecolor": "#2a3f5f"
            },
            "baxis": {
             "endlinecolor": "#2a3f5f",
             "gridcolor": "white",
             "linecolor": "white",
             "minorgridcolor": "white",
             "startlinecolor": "#2a3f5f"
            },
            "type": "carpet"
           }
          ],
          "choropleth": [
           {
            "colorbar": {
             "outlinewidth": 0,
             "ticks": ""
            },
            "type": "choropleth"
           }
          ],
          "contour": [
           {
            "colorbar": {
             "outlinewidth": 0,
             "ticks": ""
            },
            "colorscale": [
             [
              0,
              "#0d0887"
             ],
             [
              0.1111111111111111,
              "#46039f"
             ],
             [
              0.2222222222222222,
              "#7201a8"
             ],
             [
              0.3333333333333333,
              "#9c179e"
             ],
             [
              0.4444444444444444,
              "#bd3786"
             ],
             [
              0.5555555555555556,
              "#d8576b"
             ],
             [
              0.6666666666666666,
              "#ed7953"
             ],
             [
              0.7777777777777778,
              "#fb9f3a"
             ],
             [
              0.8888888888888888,
              "#fdca26"
             ],
             [
              1,
              "#f0f921"
             ]
            ],
            "type": "contour"
           }
          ],
          "contourcarpet": [
           {
            "colorbar": {
             "outlinewidth": 0,
             "ticks": ""
            },
            "type": "contourcarpet"
           }
          ],
          "heatmap": [
           {
            "colorbar": {
             "outlinewidth": 0,
             "ticks": ""
            },
            "colorscale": [
             [
              0,
              "#0d0887"
             ],
             [
              0.1111111111111111,
              "#46039f"
             ],
             [
              0.2222222222222222,
              "#7201a8"
             ],
             [
              0.3333333333333333,
              "#9c179e"
             ],
             [
              0.4444444444444444,
              "#bd3786"
             ],
             [
              0.5555555555555556,
              "#d8576b"
             ],
             [
              0.6666666666666666,
              "#ed7953"
             ],
             [
              0.7777777777777778,
              "#fb9f3a"
             ],
             [
              0.8888888888888888,
              "#fdca26"
             ],
             [
              1,
              "#f0f921"
             ]
            ],
            "type": "heatmap"
           }
          ],
          "heatmapgl": [
           {
            "colorbar": {
             "outlinewidth": 0,
             "ticks": ""
            },
            "colorscale": [
             [
              0,
              "#0d0887"
             ],
             [
              0.1111111111111111,
              "#46039f"
             ],
             [
              0.2222222222222222,
              "#7201a8"
             ],
             [
              0.3333333333333333,
              "#9c179e"
             ],
             [
              0.4444444444444444,
              "#bd3786"
             ],
             [
              0.5555555555555556,
              "#d8576b"
             ],
             [
              0.6666666666666666,
              "#ed7953"
             ],
             [
              0.7777777777777778,
              "#fb9f3a"
             ],
             [
              0.8888888888888888,
              "#fdca26"
             ],
             [
              1,
              "#f0f921"
             ]
            ],
            "type": "heatmapgl"
           }
          ],
          "histogram": [
           {
            "marker": {
             "colorbar": {
              "outlinewidth": 0,
              "ticks": ""
             }
            },
            "type": "histogram"
           }
          ],
          "histogram2d": [
           {
            "colorbar": {
             "outlinewidth": 0,
             "ticks": ""
            },
            "colorscale": [
             [
              0,
              "#0d0887"
             ],
             [
              0.1111111111111111,
              "#46039f"
             ],
             [
              0.2222222222222222,
              "#7201a8"
             ],
             [
              0.3333333333333333,
              "#9c179e"
             ],
             [
              0.4444444444444444,
              "#bd3786"
             ],
             [
              0.5555555555555556,
              "#d8576b"
             ],
             [
              0.6666666666666666,
              "#ed7953"
             ],
             [
              0.7777777777777778,
              "#fb9f3a"
             ],
             [
              0.8888888888888888,
              "#fdca26"
             ],
             [
              1,
              "#f0f921"
             ]
            ],
            "type": "histogram2d"
           }
          ],
          "histogram2dcontour": [
           {
            "colorbar": {
             "outlinewidth": 0,
             "ticks": ""
            },
            "colorscale": [
             [
              0,
              "#0d0887"
             ],
             [
              0.1111111111111111,
              "#46039f"
             ],
             [
              0.2222222222222222,
              "#7201a8"
             ],
             [
              0.3333333333333333,
              "#9c179e"
             ],
             [
              0.4444444444444444,
              "#bd3786"
             ],
             [
              0.5555555555555556,
              "#d8576b"
             ],
             [
              0.6666666666666666,
              "#ed7953"
             ],
             [
              0.7777777777777778,
              "#fb9f3a"
             ],
             [
              0.8888888888888888,
              "#fdca26"
             ],
             [
              1,
              "#f0f921"
             ]
            ],
            "type": "histogram2dcontour"
           }
          ],
          "mesh3d": [
           {
            "colorbar": {
             "outlinewidth": 0,
             "ticks": ""
            },
            "type": "mesh3d"
           }
          ],
          "parcoords": [
           {
            "line": {
             "colorbar": {
              "outlinewidth": 0,
              "ticks": ""
             }
            },
            "type": "parcoords"
           }
          ],
          "scatter": [
           {
            "marker": {
             "colorbar": {
              "outlinewidth": 0,
              "ticks": ""
             }
            },
            "type": "scatter"
           }
          ],
          "scatter3d": [
           {
            "line": {
             "colorbar": {
              "outlinewidth": 0,
              "ticks": ""
             }
            },
            "marker": {
             "colorbar": {
              "outlinewidth": 0,
              "ticks": ""
             }
            },
            "type": "scatter3d"
           }
          ],
          "scattercarpet": [
           {
            "marker": {
             "colorbar": {
              "outlinewidth": 0,
              "ticks": ""
             }
            },
            "type": "scattercarpet"
           }
          ],
          "scattergeo": [
           {
            "marker": {
             "colorbar": {
              "outlinewidth": 0,
              "ticks": ""
             }
            },
            "type": "scattergeo"
           }
          ],
          "scattergl": [
           {
            "marker": {
             "colorbar": {
              "outlinewidth": 0,
              "ticks": ""
             }
            },
            "type": "scattergl"
           }
          ],
          "scattermapbox": [
           {
            "marker": {
             "colorbar": {
              "outlinewidth": 0,
              "ticks": ""
             }
            },
            "type": "scattermapbox"
           }
          ],
          "scatterpolar": [
           {
            "marker": {
             "colorbar": {
              "outlinewidth": 0,
              "ticks": ""
             }
            },
            "type": "scatterpolar"
           }
          ],
          "scatterpolargl": [
           {
            "marker": {
             "colorbar": {
              "outlinewidth": 0,
              "ticks": ""
             }
            },
            "type": "scatterpolargl"
           }
          ],
          "scatterternary": [
           {
            "marker": {
             "colorbar": {
              "outlinewidth": 0,
              "ticks": ""
             }
            },
            "type": "scatterternary"
           }
          ],
          "surface": [
           {
            "colorbar": {
             "outlinewidth": 0,
             "ticks": ""
            },
            "colorscale": [
             [
              0,
              "#0d0887"
             ],
             [
              0.1111111111111111,
              "#46039f"
             ],
             [
              0.2222222222222222,
              "#7201a8"
             ],
             [
              0.3333333333333333,
              "#9c179e"
             ],
             [
              0.4444444444444444,
              "#bd3786"
             ],
             [
              0.5555555555555556,
              "#d8576b"
             ],
             [
              0.6666666666666666,
              "#ed7953"
             ],
             [
              0.7777777777777778,
              "#fb9f3a"
             ],
             [
              0.8888888888888888,
              "#fdca26"
             ],
             [
              1,
              "#f0f921"
             ]
            ],
            "type": "surface"
           }
          ],
          "table": [
           {
            "cells": {
             "fill": {
              "color": "#EBF0F8"
             },
             "line": {
              "color": "white"
             }
            },
            "header": {
             "fill": {
              "color": "#C8D4E3"
             },
             "line": {
              "color": "white"
             }
            },
            "type": "table"
           }
          ]
         },
         "layout": {
          "annotationdefaults": {
           "arrowcolor": "#2a3f5f",
           "arrowhead": 0,
           "arrowwidth": 1
          },
          "colorscale": {
           "diverging": [
            [
             0,
             "#8e0152"
            ],
            [
             0.1,
             "#c51b7d"
            ],
            [
             0.2,
             "#de77ae"
            ],
            [
             0.3,
             "#f1b6da"
            ],
            [
             0.4,
             "#fde0ef"
            ],
            [
             0.5,
             "#f7f7f7"
            ],
            [
             0.6,
             "#e6f5d0"
            ],
            [
             0.7,
             "#b8e186"
            ],
            [
             0.8,
             "#7fbc41"
            ],
            [
             0.9,
             "#4d9221"
            ],
            [
             1,
             "#276419"
            ]
           ],
           "sequential": [
            [
             0,
             "#0d0887"
            ],
            [
             0.1111111111111111,
             "#46039f"
            ],
            [
             0.2222222222222222,
             "#7201a8"
            ],
            [
             0.3333333333333333,
             "#9c179e"
            ],
            [
             0.4444444444444444,
             "#bd3786"
            ],
            [
             0.5555555555555556,
             "#d8576b"
            ],
            [
             0.6666666666666666,
             "#ed7953"
            ],
            [
             0.7777777777777778,
             "#fb9f3a"
            ],
            [
             0.8888888888888888,
             "#fdca26"
            ],
            [
             1,
             "#f0f921"
            ]
           ],
           "sequentialminus": [
            [
             0,
             "#0d0887"
            ],
            [
             0.1111111111111111,
             "#46039f"
            ],
            [
             0.2222222222222222,
             "#7201a8"
            ],
            [
             0.3333333333333333,
             "#9c179e"
            ],
            [
             0.4444444444444444,
             "#bd3786"
            ],
            [
             0.5555555555555556,
             "#d8576b"
            ],
            [
             0.6666666666666666,
             "#ed7953"
            ],
            [
             0.7777777777777778,
             "#fb9f3a"
            ],
            [
             0.8888888888888888,
             "#fdca26"
            ],
            [
             1,
             "#f0f921"
            ]
           ]
          },
          "colorway": [
           "#636efa",
           "#EF553B",
           "#00cc96",
           "#ab63fa",
           "#FFA15A",
           "#19d3f3",
           "#FF6692",
           "#B6E880",
           "#FF97FF",
           "#FECB52"
          ],
          "font": {
           "color": "#2a3f5f"
          },
          "geo": {
           "bgcolor": "white",
           "lakecolor": "white",
           "landcolor": "#E5ECF6",
           "showlakes": true,
           "showland": true,
           "subunitcolor": "white"
          },
          "hoverlabel": {
           "align": "left"
          },
          "hovermode": "closest",
          "mapbox": {
           "style": "light"
          },
          "paper_bgcolor": "white",
          "plot_bgcolor": "#E5ECF6",
          "polar": {
           "angularaxis": {
            "gridcolor": "white",
            "linecolor": "white",
            "ticks": ""
           },
           "bgcolor": "#E5ECF6",
           "radialaxis": {
            "gridcolor": "white",
            "linecolor": "white",
            "ticks": ""
           }
          },
          "scene": {
           "xaxis": {
            "backgroundcolor": "#E5ECF6",
            "gridcolor": "white",
            "gridwidth": 2,
            "linecolor": "white",
            "showbackground": true,
            "ticks": "",
            "zerolinecolor": "white"
           },
           "yaxis": {
            "backgroundcolor": "#E5ECF6",
            "gridcolor": "white",
            "gridwidth": 2,
            "linecolor": "white",
            "showbackground": true,
            "ticks": "",
            "zerolinecolor": "white"
           },
           "zaxis": {
            "backgroundcolor": "#E5ECF6",
            "gridcolor": "white",
            "gridwidth": 2,
            "linecolor": "white",
            "showbackground": true,
            "ticks": "",
            "zerolinecolor": "white"
           }
          },
          "shapedefaults": {
           "line": {
            "color": "#2a3f5f"
           }
          },
          "ternary": {
           "aaxis": {
            "gridcolor": "white",
            "linecolor": "white",
            "ticks": ""
           },
           "baxis": {
            "gridcolor": "white",
            "linecolor": "white",
            "ticks": ""
           },
           "bgcolor": "#E5ECF6",
           "caxis": {
            "gridcolor": "white",
            "linecolor": "white",
            "ticks": ""
           }
          },
          "title": {
           "x": 0.05
          },
          "xaxis": {
           "automargin": true,
           "gridcolor": "white",
           "linecolor": "white",
           "ticks": "",
           "zerolinecolor": "white",
           "zerolinewidth": 2
          },
          "yaxis": {
           "automargin": true,
           "gridcolor": "white",
           "linecolor": "white",
           "ticks": "",
           "zerolinecolor": "white",
           "zerolinewidth": 2
          }
         }
        },
        "updatemenus": [
         {
          "buttons": [
           {
            "args": [
             null,
             {
              "frame": {
               "redraw": false
              },
              "fromcurrent": true
             }
            ],
            "label": "Play",
            "method": "animate"
           },
           {
            "args": [
             [
              null
             ],
             {
              "frame": {
               "redraw": false
              },
              "mode": "immediate"
             }
            ],
            "label": "Pause",
            "method": "animate"
           }
          ],
          "showactive": true,
          "type": "buttons"
         }
        ],
        "width": 912,
        "xaxis": {
         "showgrid": false,
         "showticklabels": false,
         "zeroline": false
        },
        "yaxis": {
         "showgrid": false,
         "showticklabels": false,
         "zeroline": false
        }
       }
      },
      "text/html": [
       "<div>\n",
       "        \n",
       "        \n",
       "            <div id=\"85f05c4f-54dd-49cb-bb98-15846f06d8d2\" class=\"plotly-graph-div\" style=\"height:526.0px; width:912.0px;\"></div>\n",
       "            <script type=\"text/javascript\">\n",
       "                require([\"plotly\"], function(Plotly) {\n",
       "                    window.PLOTLYENV=window.PLOTLYENV || {};\n",
       "                    \n",
       "                if (document.getElementById(\"85f05c4f-54dd-49cb-bb98-15846f06d8d2\")) {\n",
       "                    Plotly.newPlot(\n",
       "                        '85f05c4f-54dd-49cb-bb98-15846f06d8d2',\n",
       "                        [{\"hoverinfo\": \"none\", \"line\": {\"color\": \"rgba(255, 255, 255, 0.0)\", \"dash\": \"solid\", \"width\": 1}, \"mode\": \"lines\", \"type\": \"scatter\", \"x\": [0.11931960619673054, 0.5526782610616999, null, 0.5417653383328875, 0.5285779795073159, null, 0.5417653383328875, 0.5341016705867737, null], \"y\": [0.018633553602880992, 0.6965916677129139, null, 0.6795191933787864, 0.6691005545049208, null, 0.6795191933787864, 0.6573179168705474, null]}, {\"hoverinfo\": \"none\", \"line\": {\"color\": \"rgba(255, 255, 255, 0.0)\", \"dash\": \"solid\", \"width\": 1}, \"mode\": \"lines\", \"type\": \"scatter\", \"x\": [0.11931960619673054, 0.21976896563283277, null, 0.21476944584252328, 0.20601258646315165, null, 0.21476944584252328, 0.21397385785431838, null], \"y\": [0.018633553602880992, 0.5130220934181828, null, 0.4884156120749034, 0.4676071230213606, null, 0.4884156120749034, 0.4622091621359997, null]}, {\"hoverinfo\": \"none\", \"line\": {\"color\": \"rgba(255, 255, 255, 0.0)\", \"dash\": \"solid\", \"width\": 1}, \"mode\": \"lines\", \"type\": \"scatter\", \"x\": [0.11931960619673054, 0.7300559277230534, null, 0.7164521752101635, 0.7020898264371777, null, 0.7164521752101635, 0.7048222016539535, null], \"y\": [0.018633553602880992, 0.3977760371687721, null, 0.38933088607531363, 0.3886068828033578, null, 0.38933088607531363, 0.3739189673557497, null]}, {\"hoverinfo\": \"none\", \"line\": {\"color\": \"rgba(255, 255, 255, 0.0)\", \"dash\": \"solid\", \"width\": 1}, \"mode\": \"lines\", \"type\": \"scatter\", \"x\": [0.11751947611791126, 0.6107039059347525, null, 0.5982706180975996, 0.584264745295326, null], \"y\": [0.024311748048194925, 0.5460726271629036, null, 0.5329189207601926, 0.5270647898502075, null]}, {\"hoverinfo\": \"none\", \"line\": {\"color\": \"rgba(255, 255, 255, 0.0)\", \"dash\": \"solid\", \"width\": 1}, \"mode\": \"lines\", \"type\": \"scatter\", \"x\": [0.11931960619673054, 0.2235189707639248, null, 0.21691306628978568, 0.20683161508543302, null, 0.21691306628978568, 0.214372794318492, null], \"y\": [0.018633553602880992, 0.38628741419589163, null, 0.3629793422828454, 0.34427847459274535, null, 0.3629793422828454, 0.337146106793552, null]}, {\"hoverinfo\": \"none\", \"line\": {\"color\": \"rgba(255, 255, 255, 0.0)\", \"dash\": \"solid\", \"width\": 1}, \"mode\": \"lines\", \"type\": \"scatter\", \"x\": [0.11931960619673054, 0.3890199702694477, null, 0.37602033081485964, 0.3617929800990711, null, 0.37602033081485964, 0.3654096216977584, null], \"y\": [0.018633553602880992, 0.2505453207177464, null, 0.23936710311268303, 0.23570597248699962, null, 0.23936710311268303, 0.22167031541535992, null]}, {\"hoverinfo\": \"none\", \"line\": {\"color\": \"rgba(255, 255, 255, 0.0)\", \"dash\": \"solid\", \"width\": 1}, \"mode\": \"lines\", \"type\": \"scatter\", \"x\": [0.7146533834750309, 0.5526782610616999, null, 0.5652840813522743, 0.5752895609015818, null, 0.5652840813522743, 0.5793642020008579, null], \"y\": [0.534771125053913, 0.6965916677129139, null, 0.6839978776932516, 0.6651613444783402, null, 0.6839978776932516, 0.6787717966238245, null]}, {\"hoverinfo\": \"none\", \"line\": {\"color\": \"rgba(255, 255, 255, 0.0)\", \"dash\": \"solid\", \"width\": 1}, \"mode\": \"lines\", \"type\": \"scatter\", \"x\": [0.7146533834750309, 0.2235189707639248, null, 0.2376939731973996, 0.2519291436081149, null, 0.2376939731973996, 0.25054259690296976, null], \"y\": [0.534771125053913, 0.38628741419589163, null, 0.3905729150858117, 0.3870146646454304, null, 0.3905729150858117, 0.4023193562748349, null]}, {\"hoverinfo\": \"none\", \"line\": {\"color\": \"rgba(255, 255, 255, 0.0)\", \"dash\": \"solid\", \"width\": 1}, \"mode\": \"lines\", \"type\": \"scatter\", \"x\": [0.7146533834750309, 0.6019142956893831, null, 0.6100597231781211, 0.6213390651977954, null, 0.6100597231781211, 0.6143436293574829, null], \"y\": [0.534771125053913, 0.23551537854926619, null, 0.2571366816094463, 0.273395009142937, null, 0.2571366816094463, 0.28218959358762197, null]}, {\"hoverinfo\": \"none\", \"line\": {\"color\": \"rgba(255, 255, 255, 0.0)\", \"dash\": \"solid\", \"width\": 1}, \"mode\": \"lines\", \"type\": \"scatter\", \"x\": [0.4900300561762585, 0.6589911410927456, null, 0.6448730595784812, 0.6305973319958157, null, 0.6448730595784812, 0.6321737503070937, null], \"y\": [0.11795673627221848, 0.1762676117268882, null, 0.17139526083470463, 0.1743621434134964, null, 0.17139526083470463, 0.15911890906565956, null]}, {\"hoverinfo\": \"none\", \"line\": {\"color\": \"rgba(255, 255, 255, 0.0)\", \"dash\": \"solid\", \"width\": 1}, \"mode\": \"lines\", \"type\": \"scatter\", \"x\": [0.4900300561762585, 0.5526782610616999, null, 0.5498905575861232, 0.5430620701709902, null, 0.5498905575861232, 0.5513926552990946, null], \"y\": [0.11795673627221848, 0.6965916677129139, null, 0.6708437215041282, 0.6477507049399138, null, 0.6708437215041282, 0.64474083300175, null]}, {\"hoverinfo\": \"none\", \"line\": {\"color\": \"rgba(255, 255, 255, 0.0)\", \"dash\": \"solid\", \"width\": 1}, \"mode\": \"lines\", \"type\": \"scatter\", \"x\": [0.4900300561762585, 0.26715657375090585, null, 0.2751143744260125, 0.27918151545432673, null, 0.2751143744260125, 0.28625198811393376, null], \"y\": [0.11795673627221848, 0.7299982433843056, null, 0.7081450185614686, 0.68297183320899, null, 0.7081450185614686, 0.6915638377573038, null]}, {\"hoverinfo\": \"none\", \"line\": {\"color\": \"rgba(255, 255, 255, 0.0)\", \"dash\": \"solid\", \"width\": 1}, \"mode\": \"lines\", \"type\": \"scatter\", \"x\": [0.4900300561762585, 0.21976896563283277, null, 0.23098722418359172, 0.23905157924957163, null, 0.23098722418359172, 0.24435729259358252, null], \"y\": [0.11795673627221848, 0.5130220934181828, null, 0.4966233387472835, 0.47490085630332646, null, 0.4966233387472835, 0.4870131637645823, null]}, {\"hoverinfo\": \"none\", \"line\": {\"color\": \"rgba(255, 255, 255, 0.0)\", \"dash\": \"solid\", \"width\": 1}, \"mode\": \"lines\", \"type\": \"scatter\", \"x\": [0.26715657375090585, 0.2235189707639248, null, 0.22676509845715712, 0.23400243617697405, null, 0.22676509845715712, 0.22573004920475212, null], \"y\": [0.7299982433843056, 0.38628741419589163, null, 0.41185548312546194, 0.4345291769932983, null, 0.41185548312546194, 0.43803400766741996, null]}, {\"hoverinfo\": \"none\", \"line\": {\"color\": \"rgba(255, 255, 255, 0.0)\", \"dash\": \"solid\", \"width\": 1}, \"mode\": \"lines\", \"type\": \"scatter\", \"x\": [0.26715657375090585, 0.11931960619673054, null, 0.12441911510501014, 0.13326040522785915, null, 0.12441911510501014, 0.1253213188555623, null], \"y\": [0.7299982433843056, 0.018633553602880992, null, 0.043171466092506244, 0.06386046989911932, null, 0.043171466092506244, 0.06936638862251304, null]}, {\"hoverinfo\": \"none\", \"line\": {\"color\": \"rgba(255, 255, 255, 0.0)\", \"dash\": \"solid\", \"width\": 1}, \"mode\": \"lines\", \"type\": \"scatter\", \"x\": [0.26715657375090585, 0.3286774867333624, null, 0.3170661005023806, 0.30847408845337315, null, 0.3170661005023806, 0.30347255063981293, null], \"y\": [0.7299982433843056, 0.6480934453741629, null, 0.6635520625786494, 0.6845886265631281, null, 0.6635520625786494, 0.6720518607679122, null]}, {\"hoverinfo\": \"none\", \"line\": {\"color\": \"rgba(255, 255, 255, 0.0)\", \"dash\": \"solid\", \"width\": 1}, \"mode\": \"lines\", \"type\": \"scatter\", \"x\": [0.7919919020707024, 0.5805254513338318, null, 0.5922851285358136, 0.6059590805774158, null, 0.5922851285358136, 0.601080073956995, null], \"y\": [0.3792170153372445, 0.10804518699319077, null, 0.12312508811455242, 0.1311830304358798, null, 0.12312508811455242, 0.14387990538051088, null]}, {\"hoverinfo\": \"none\", \"line\": {\"color\": \"rgba(255, 255, 255, 0.0)\", \"dash\": \"solid\", \"width\": 1}, \"mode\": \"lines\", \"type\": \"scatter\", \"x\": [0.6203305331304902, 0.28984763010955217, null, 0.3022263444526046, 0.3118966750994626, null, 0.3022263444526046, 0.31620768880650757, null], \"y\": [0.33991532341532626, 0.6956448759054679, null, 0.6823205118509124, 0.6629086372796141, null, 0.6823205118509124, 0.6762738840707896, null]}, {\"hoverinfo\": \"none\", \"line\": {\"color\": \"rgba(255, 255, 255, 0.0)\", \"dash\": \"solid\", \"width\": 1}, \"mode\": \"lines\", \"type\": \"scatter\", \"x\": [0.6203305331304902, 0.5526782610616999, null, 0.5573822164255222, 0.5578641033664419, null, 0.5573822164255222, 0.5658880498891575, null], \"y\": [0.33991532341532626, 0.6965916677129139, null, 0.6717914717756491, 0.6455595190624001, null, 0.6717914717756491, 0.6506383602562308, null]}, {\"hoverinfo\": \"none\", \"line\": {\"color\": \"rgba(255, 255, 255, 0.0)\", \"dash\": \"solid\", \"width\": 1}, \"mode\": \"lines\", \"type\": \"scatter\", \"x\": [0.8367228626947864, 0.5526782610616999, null, 0.5619776503577483, 0.5676250349363824, null, 0.5619776503577483, 0.5740983576213123, null], \"y\": [0.08547172834581584, 0.6965916677129139, null, 0.6765840978098845, 0.6524498800998801, null, 0.6765840978098845, 0.6624903923456983, null]}, {\"hoverinfo\": \"none\", \"line\": {\"color\": \"rgba(255, 255, 255, 0.0)\", \"dash\": \"solid\", \"width\": 1}, \"mode\": \"lines\", \"type\": \"scatter\", \"x\": [0.8367228626947864, 0.043050495351714235, null, 0.05525322722380989, 0.06466951403265686, null, 0.05525322722380989, 0.06915237046382092, null], \"y\": [0.08547172834581584, 0.9866404470516293, null, 0.9727849561735734, 0.9529606805412517, null, 0.9727849561735734, 0.9661359197847874, null]}, {\"hoverinfo\": \"none\", \"line\": {\"color\": \"rgba(255, 255, 255, 0.0)\", \"dash\": \"solid\", \"width\": 1}, \"mode\": \"lines\", \"type\": \"scatter\", \"x\": [0.8367228626947864, 0.7646819435859958, null, 0.7694499058616701, 0.7699995449661209, null, 0.7694499058616701, 0.7780102834386712, null], \"y\": [0.08547172834581584, 0.45957032096768424, null, 0.4348109481130665, 0.40858344118097867, null, 0.4348109481130665, 0.4137313903733895, null]}, {\"hoverinfo\": \"none\", \"line\": {\"color\": \"rgba(255, 255, 255, 0.0)\", \"dash\": \"solid\", \"width\": 1}, \"mode\": \"lines\", \"type\": \"scatter\", \"x\": [0.5526782610616999, 0.3890199702694477, null, 0.3970194536042383, 0.4081886630699972, null, 0.3970194536042383, 0.4011346407862347, null], \"y\": [0.6965916677129139, 0.2505453207177464, null, 0.2723477011658073, 0.2888578061856602, null, 0.2723477011658073, 0.2974948153296169, null]}, {\"hoverinfo\": \"none\", \"line\": {\"color\": \"rgba(255, 255, 255, 0.0)\", \"dash\": \"solid\", \"width\": 1}, \"mode\": \"lines\", \"type\": \"scatter\", \"x\": [0.6599127034904547, 0.26715657375090585, null, 0.2780560326790374, 0.2857021986791758, null, 0.2780560326790374, 0.2912351683304389, null], \"y\": [0.11376743481814933, 0.7299982433843056, null, 0.7128970910925002, 0.6906756858898738, null, 0.7128970910925002, 0.7024437867142151, null]}, {\"hoverinfo\": \"none\", \"line\": {\"color\": \"rgba(255, 255, 255, 0.0)\", \"dash\": \"solid\", \"width\": 1}, \"mode\": \"lines\", \"type\": \"scatter\", \"x\": [0.6599127034904547, 0.1022208712794197, null, 0.11384633980052405, 0.12245752547015538, null, 0.11384633980052405, 0.1274476226936769, null], \"y\": [0.11376743481814933, 0.8536450927107452, null, 0.83822183577116, 0.8172114504427417, null, 0.83822183577116, 0.8297634208284876, null]}, {\"hoverinfo\": \"none\", \"line\": {\"color\": \"rgba(255, 255, 255, 0.0)\", \"dash\": \"solid\", \"width\": 1}, \"mode\": \"lines\", \"type\": \"scatter\", \"x\": [0.122398484876439, 0.661599770590562, null, 0.6478018738849185, 0.6334362326884646, null, 0.6478018738849185, 0.635804246689198, null], \"y\": [0.08386532725608942, 0.3698807037983498, null, 0.36256171045335217, 0.36301837511286916, null, 0.36256171045335217, 0.3481208429815478, null]}, {\"hoverinfo\": \"none\", \"line\": {\"color\": \"rgba(255, 255, 255, 0.0)\", \"dash\": \"solid\", \"width\": 1}, \"mode\": \"lines\", \"type\": \"scatter\", \"x\": [0.661599770590562, 0.8367228626947864, null, 0.8259849667605355, 0.8185477857496759, null, 0.8259849667605355, 0.8129055401665484, null], \"y\": [0.3698807037983498, 0.08547172834581584, null, 0.10291062771928432, 0.12536747558424513, null, 0.10291062771928432, 0.1137738136576517, null]}, {\"hoverinfo\": \"none\", \"line\": {\"color\": \"rgba(255, 255, 255, 0.0)\", \"dash\": \"solid\", \"width\": 1}, \"mode\": \"lines\", \"type\": \"scatter\", \"x\": [0.661599770590562, 0.7300559277230534, null, 0.7160327639330671, 0.7017115067842183, null, 0.7160327639330671, 0.7035603409587984, null], \"y\": [0.3698807037983498, 0.3977760371687721, null, 0.39206171072662893, 0.3941729822019964, null, 0.39206171072662893, 0.37903223012935217, null]}, {\"hoverinfo\": \"none\", \"line\": {\"color\": \"rgba(255, 255, 255, 0.0)\", \"dash\": \"solid\", \"width\": 1}, \"mode\": \"lines\", \"type\": \"scatter\", \"x\": [0.661599770590562, 0.4645428575234585, null, 0.47847900915961866, 0.4907597621884692, null, 0.47847900915961866, 0.4928256844827909, null], \"y\": [0.3698807037983498, 0.4601686721849013, null, 0.4537833756795849, 0.44015986622954795, null, 0.4537833756795849, 0.4552066716387918, null]}, {\"hoverinfo\": \"none\", \"line\": {\"color\": \"rgba(255, 255, 255, 0.0)\", \"dash\": \"solid\", \"width\": 1}, \"mode\": \"lines\", \"type\": \"scatter\", \"x\": [0.661599770590562, 0.3764259880841979, null, 0.38890377832586853, 0.3987192396866351, null, 0.38890377832586853, 0.40292929360814866, null], \"y\": [0.3698807037983498, 0.6672709087146321, null, 0.654258588422566, 0.6350913347243442, null, 0.654258588422566, 0.6485635533543871, null]}, {\"hoverinfo\": \"none\", \"line\": {\"color\": \"rgba(255, 255, 255, 0.0)\", \"dash\": \"solid\", \"width\": 1}, \"mode\": \"lines\", \"type\": \"scatter\", \"x\": [0.3890199702694477, 0.661599770590562, null, 0.6476276039162193, 0.6332899230181273, null, 0.6476276039162193, 0.6352690435020226, null], \"y\": [0.2505453207177464, 0.3698807037983498, null, 0.3637636919706778, 0.36546273271596036, null, 0.3637636919706778, 0.35037704201861936, null]}, {\"hoverinfo\": \"none\", \"line\": {\"color\": \"rgba(255, 255, 255, 0.0)\", \"dash\": \"solid\", \"width\": 1}, \"mode\": \"lines\", \"type\": \"scatter\", \"x\": [0.3890199702694477, 0.6439639636488322, null, 0.6299278809214987, 0.6156115664061896, null, 0.6299278809214987, 0.6174258314491927, null], \"y\": [0.2505453207177464, 0.35239664594787135, null, 0.3467891648385157, 0.3490094838206576, null, 0.3467891648385157, 0.33385478322467377, null]}, {\"hoverinfo\": \"none\", \"line\": {\"color\": \"rgba(255, 255, 255, 0.0)\", \"dash\": \"solid\", \"width\": 1}, \"mode\": \"lines\", \"type\": \"scatter\", \"x\": [0.3890199702694477, 0.3286774867333624, null, 0.3325165392351308, 0.3320925230847305, null, 0.3325165392351308, 0.3402757292627477, null], \"y\": [0.2505453207177464, 0.6480934453741629, null, 0.6228010140206728, 0.5965657268784841, null, 0.6228010140206728, 0.6007107360214741, null]}, {\"hoverinfo\": \"none\", \"line\": {\"color\": \"rgba(255, 255, 255, 0.0)\", \"dash\": \"solid\", \"width\": 1}, \"mode\": \"lines\", \"type\": \"scatter\", \"x\": [0.043050495351714235, 0.5526782610616999, null, 0.5389607799455843, 0.5271189461378292, null, 0.5389607799455843, 0.5245929932551061, null], \"y\": [0.9866404470516293, 0.6965916677129139, null, 0.7043988142638642, 0.7192626201155234, null, 0.7043988142638642, 0.7044519123643528, null]}, {\"hoverinfo\": \"none\", \"line\": {\"color\": \"rgba(255, 255, 255, 0.0)\", \"dash\": \"solid\", \"width\": 1}, \"mode\": \"lines\", \"type\": \"scatter\", \"x\": [0.6125040360135718, 0.2235189707639248, null, 0.23756037042563383, 0.25187454961399147, null, 0.23756037042563383, 0.2500747141477293, null], \"y\": [0.5403944327175897, 0.38628741419589163, null, 0.3918502967614441, 0.3895845008269937, null, 0.3918502967614441, 0.40474494209508044, null]}, {\"hoverinfo\": \"none\", \"line\": {\"color\": \"rgba(255, 255, 255, 0.0)\", \"dash\": \"solid\", \"width\": 1}, \"mode\": \"lines\", \"type\": \"scatter\", \"x\": [0.6143041660923911, 0.12111973627554982, null, 0.13355302411270276, 0.1475588969149764, null], \"y\": [0.5347162382722758, 0.01295535915756706, null, 0.026109065560277984, 0.03196319647026307, null]}, {\"hoverinfo\": \"none\", \"line\": {\"color\": \"rgba(255, 255, 255, 0.0)\", \"dash\": \"solid\", \"width\": 1}, \"mode\": \"lines\", \"type\": \"scatter\", \"x\": [0.6125040360135718, 0.7146533834750309, null, 0.7002920868046192, 0.6867001108445618, null, 0.7002920868046192, 0.6864443212838717, null], \"y\": [0.5403944327175897, 0.534771125053913, null, 0.5355617124794227, 0.5440699058689652, null, 0.5355617124794227, 0.528564073120747, null]}, {\"hoverinfo\": \"none\", \"line\": {\"color\": \"rgba(255, 255, 255, 0.0)\", \"dash\": \"solid\", \"width\": 1}, \"mode\": \"lines\", \"type\": \"scatter\", \"x\": [0.746120228185612, 0.4645428575234585, null, 0.478128721964737, 0.4897261484887807, null, 0.478128721964737, 0.4924894395148281, null], \"y\": [0.28315607044925484, 0.4601686721849013, null, 0.4516279673479918, 0.43613441948918535, null, 0.4516279673479918, 0.4508030212596959, null]}, {\"hoverinfo\": \"none\", \"line\": {\"color\": \"rgba(255, 255, 255, 0.0)\", \"dash\": \"solid\", \"width\": 1}, \"mode\": \"lines\", \"type\": \"scatter\", \"x\": [0.28984763010955217, 0.3286774867333624, null, 0.3167431699505386, 0.3077061582293548, null, 0.3167431699505386, 0.302977605080891, null], \"y\": [0.6956448759054679, 0.6480934453741629, null, 0.6627083289915556, 0.6831131768852529, null, 0.6627083289915556, 0.6702277443058969, null]}, {\"hoverinfo\": \"none\", \"line\": {\"color\": \"rgba(255, 255, 255, 0.0)\", \"dash\": \"solid\", \"width\": 1}, \"mode\": \"lines\", \"type\": \"scatter\", \"x\": [0.28984763010955217, 0.1022208712794197, null, 0.11526905404642102, 0.12595693359543075, null, 0.11526905404642102, 0.12951198472560382, null], \"y\": [0.6956448759054679, 0.8536450927107452, null, 0.8426572372526249, 0.8251161034533838, null, 0.8426572372526249, 0.8392041725391054, null]}, {\"hoverinfo\": \"none\", \"line\": {\"color\": \"rgba(255, 255, 255, 0.0)\", \"dash\": \"solid\", \"width\": 1}, \"mode\": \"lines\", \"type\": \"scatter\", \"x\": [0.28984763010955217, 0.6599127034904547, null, 0.6490231925468036, 0.6413899493804492, null, 0.6490231925468036, 0.635850141406753, null], \"y\": [0.6956448759054679, 0.11376743481814933, null, 0.13088972281116432, 0.1531259493214845, null, 0.13088972281116432, 0.14136858929493307, null]}, {\"hoverinfo\": \"none\", \"line\": {\"color\": \"rgba(255, 255, 255, 0.0)\", \"dash\": \"solid\", \"width\": 1}, \"mode\": \"lines\", \"type\": \"scatter\", \"x\": [0.28984763010955217, 0.3890199702694477, null, 0.3836034393987054, 0.3823615291006166, null, 0.3836034393987054, 0.37449613052620334, null], \"y\": [0.6956448759054679, 0.2505453207177464, null, 0.2748554809634447, 0.30100396711663335, null, 0.2748554809634447, 0.2951557610886687, null]}, {\"hoverinfo\": \"none\", \"line\": {\"color\": \"rgba(255, 255, 255, 0.0)\", \"dash\": \"solid\", \"width\": 1}, \"mode\": \"lines\", \"type\": \"scatter\", \"x\": [0.4645428575234585, 0.7919919020707024, null, 0.7777538757131398, 0.764721192233169, null, 0.7777538757131398, 0.7635823469680874, null], \"y\": [0.4601686721849013, 0.3792170153372445, null, 0.3827369273451691, 0.393785996874927, null, 0.3827369273451691, 0.3784132585747748, null]}, {\"hoverinfo\": \"none\", \"line\": {\"color\": \"rgba(255, 255, 255, 0.0)\", \"dash\": \"solid\", \"width\": 1}, \"mode\": \"lines\", \"type\": \"scatter\", \"x\": [0.4645428575234585, 0.122398484876439, null, 0.13470754964503462, 0.1486569115874851, null, 0.13470754964503462, 0.1442767851434838, null], \"y\": [0.4601686721849013, 0.08386532725608942, null, 0.09740330308054222, 0.1036916021580086, null, 0.09740330308054222, 0.116981648591076, null]}, {\"hoverinfo\": \"none\", \"line\": {\"color\": \"rgba(255, 255, 255, 0.0)\", \"dash\": \"solid\", \"width\": 1}, \"mode\": \"lines\", \"type\": \"scatter\", \"x\": [0.6589911410927456, 0.11931960619673054, null, 0.1335072027877809, 0.14773152886145016, null, 0.1335072027877809, 0.1463907341469605, null], \"y\": [0.1762676117268882, 0.018633553602880992, null, 0.022777645482962308, 0.01907750292561076, null, 0.022777645482962308, 0.034395792414975486, null]}, {\"hoverinfo\": \"none\", \"line\": {\"color\": \"rgba(255, 255, 255, 0.0)\", \"dash\": \"solid\", \"width\": 1}, \"mode\": \"lines\", \"type\": \"scatter\", \"x\": [0.7300559277230534, 0.4645428575234585, null, 0.47879325478672413, 0.4918654562302439, null, 0.47879325478672413, 0.49294890232347105, null], \"y\": [0.3977760371687721, 0.4601686721849013, null, 0.4568199864323943, 0.44592781718441576, null, 0.4568199864323943, 0.4613139123004028, null]}, {\"hoverinfo\": \"none\", \"line\": {\"color\": \"rgba(255, 255, 255, 0.0)\", \"dash\": \"solid\", \"width\": 1}, \"mode\": \"lines\", \"type\": \"scatter\", \"x\": [0.5805254513338318, 0.3764259880841979, null, 0.38439620276817155, 0.38847764649985256, null, 0.38439620276817155, 0.39554323286402, null], \"y\": [0.10804518699319077, 0.6672709087146321, null, 0.6454327863210007, 0.6202673271931451, null, 0.6454327863210007, 0.6288727350956019, null]}, {\"hoverinfo\": \"none\", \"line\": {\"color\": \"rgba(255, 255, 255, 0.0)\", \"dash\": \"solid\", \"width\": 1}, \"mode\": \"lines\", \"type\": \"scatter\", \"x\": [0.5805254513338318, 0.5526782610616999, null, 0.5539155165694847, 0.5508673041329996, null, 0.5539155165694847, 0.5593277196718867, null], \"y\": [0.10804518699319077, 0.6965916677129139, null, 0.6704424451973996, 0.6447932089331663, null, 0.6704424451973996, 0.6461290685989616, null]}, {\"hoverinfo\": \"none\", \"line\": {\"color\": \"rgba(255, 255, 255, 0.0)\", \"dash\": \"solid\", \"width\": 1}, \"mode\": \"lines\", \"type\": \"scatter\", \"x\": [0.5805254513338318, 0.661599770590562, null, 0.6545259908503347, 0.6440724255361454, null, 0.6545259908503347, 0.6514638763607707, null], \"y\": [0.10804518699319077, 0.3698807037983498, null, 0.3470354083826312, 0.3290292294637116, null, 0.3470354083826312, 0.32139169867057094, null]}, {\"hoverinfo\": \"none\", \"line\": {\"color\": \"rgba(255, 255, 255, 0.0)\", \"dash\": \"solid\", \"width\": 1}, \"mode\": \"lines\", \"type\": \"scatter\", \"x\": [0.5805254513338318, 0.6203305331304902, null, 0.6160312190265257, 0.6078724969136238, null, 0.6160312190265257, 0.6159753578559682, null], \"y\": [0.10804518699319077, 0.33991532341532626, null, 0.3148712209336286, 0.2932666518431885, null, 0.3148712209336286, 0.28862470014773495, null]}, {\"hoverinfo\": \"none\", \"line\": {\"color\": \"rgba(255, 255, 255, 0.0)\", \"dash\": \"solid\", \"width\": 1}, \"mode\": \"lines\", \"type\": \"scatter\", \"x\": [0.5805254513338318, 0.4900300561762585, null, 0.5043721177504027, 0.5178194979327811, null, 0.5043721177504027, 0.5183277270701566, null], \"y\": [0.10804518699319077, 0.11795673627221848, null, 0.11638591546075663, 0.10714272067461007, null, 0.11638591546075663, 0.12262778536876841, null]}, {\"hoverinfo\": \"none\", \"line\": {\"color\": \"rgba(255, 255, 255, 0.0)\", \"dash\": \"solid\", \"width\": 1}, \"mode\": \"lines\", \"type\": \"scatter\", \"x\": [0.5805254513338318, 0.6125040360135718, null, 0.6105801871055249, 0.6045345196892521, null, 0.6105801871055249, 0.6129500083989542, null], \"y\": [0.10804518699319077, 0.5403944327175897, null, 0.514384068825257, 0.4905740049667738, null, 0.514384068825257, 0.48849683324017906, null]}, {\"hoverinfo\": \"none\", \"line\": {\"color\": \"rgba(255, 255, 255, 0.0)\", \"dash\": \"solid\", \"width\": 1}, \"mode\": \"lines\", \"type\": \"scatter\", \"x\": [0.1022208712794197, 0.3286774867333624, null, 0.3158105044741989, 0.3054075705275606, null, 0.3158105044741989, 0.30162884310661575, null], \"y\": [0.8536450927107452, 0.6480934453741629, null, 0.6597726334355051, 0.677876401776463, null, 0.6597726334355051, 0.6639839741312678, null]}, {\"hoverinfo\": \"none\", \"line\": {\"color\": \"rgba(255, 255, 255, 0.0)\", \"dash\": \"solid\", \"width\": 1}, \"mode\": \"lines\", \"type\": \"scatter\", \"x\": [0.7646819435859958, 0.11931960619673054, null, 0.13277696680644344, 0.14712070091113424, null, 0.13277696680644344, 0.1441458479773133, null], \"y\": [0.45957032096768424, 0.018633553602880992, null, 0.027828148237135426, 0.02934715163701501, null, 0.027828148237135426, 0.043877008350899374, null]}, {\"hoverinfo\": \"none\", \"line\": {\"color\": \"rgba(255, 255, 255, 0.0)\", \"dash\": \"solid\", \"width\": 1}, \"mode\": \"lines\", \"type\": \"scatter\", \"x\": [0.7646819435859958, 0.5526782610616999, null, 0.5649331436936277, 0.5744242394682462, null, 0.5649331436936277, 0.5788571210154737, null], \"y\": [0.45957032096768424, 0.6965916677129139, null, 0.6828906378485323, 0.6631857709786347, null, 0.6828906378485323, 0.6764173171823431, null]}, {\"hoverinfo\": \"none\", \"line\": {\"color\": \"rgba(255, 255, 255, 0.0)\", \"dash\": \"solid\", \"width\": 1}, \"mode\": \"lines\", \"type\": \"scatter\", \"x\": [0.7646819435859958, 0.3764259880841979, null, 0.3902147222319993, 0.4021943105898914, null, 0.3902147222319993, 0.4045808956146012, null], \"y\": [0.45957032096768424, 0.6672709087146321, null, 0.6598945165532207, 0.6454037602856084, null, 0.6598945165532207, 0.6602913996410402, null]}, {\"hoverinfo\": \"none\", \"line\": {\"color\": \"rgba(255, 255, 255, 0.0)\", \"dash\": \"solid\", \"width\": 1}, \"mode\": \"lines\", \"type\": \"scatter\", \"x\": [0.21976896563283277, 0.6125040360135718, null, 0.5981466657498182, 0.5842686672220062, null, 0.5981466657498182, 0.5845924248759287, null], \"y\": [0.5130220934181828, 0.5403944327175897, null, 0.5393937713559097, 0.5461885997554152, null, 0.5393937713559097, 0.5306870063322622, null]}, {\"hoverinfo\": \"none\", \"line\": {\"color\": \"rgba(255, 255, 255, 0.0)\", \"dash\": \"solid\", \"width\": 1}, \"mode\": \"lines\", \"type\": \"scatter\", \"x\": [0.2235189707639248, 0.5805254513338318, null, 0.5673101257542703, 0.5563512452994729, null, 0.5673101257542703, 0.5530188407254076, null], \"y\": [0.38628741419589163, 0.10804518699319077, null, 0.1183448925240151, 0.1353188432901957, null, 0.1183448925240151, 0.12105031079952512, null]}, {\"hoverinfo\": \"none\", \"line\": {\"color\": \"rgba(255, 255, 255, 0.0)\", \"dash\": \"solid\", \"width\": 1}, \"mode\": \"lines\", \"type\": \"scatter\", \"x\": [0.3156022120837657, 0.8367228626947864, null, 0.8227561423420257, 0.8104094768835775, null, 0.8227561423420257, 0.8084169726276628, null], \"y\": [0.31525065159337873, 0.08547172834581584, null, 0.0916301063724672, 0.1050533347783591, null, 0.0916301063724672, 0.08997352445195406, null]}, {\"hoverinfo\": \"none\", \"line\": {\"color\": \"rgba(255, 255, 255, 0.0)\", \"dash\": \"solid\", \"width\": 1}, \"mode\": \"lines\", \"type\": \"scatter\", \"x\": [0.3156022120837657, 0.7300559277230534, null, 0.7157727108393251, 0.7016673450267921, null, 0.7157727108393251, 0.7025875201096171, null], \"y\": [0.31525065159337873, 0.3977760371687721, null, 0.3949319850198645, 0.39992572338741655, null, 0.3949319850198645, 0.38450419306265743, null]}, {\"hoverinfo\": \"none\", \"line\": {\"color\": \"rgba(255, 255, 255, 0.0)\", \"dash\": \"solid\", \"width\": 1}, \"mode\": \"lines\", \"type\": \"scatter\", \"x\": [0.3156022120837657, 0.6203305331304902, null, 0.6059767994948613, 0.5920762091937797, null, 0.6059767994948613, 0.5924520988013311, null], \"y\": [0.31525065159337873, 0.33991532341532626, null, 0.33875353402756486, 0.3453924677181448, null, 0.33875353402756486, 0.3298948007473702, null]}, {\"hoverinfo\": \"none\", \"line\": {\"color\": \"rgba(255, 255, 255, 0.0)\", \"dash\": \"solid\", \"width\": 1}, \"mode\": \"lines\", \"type\": \"scatter\", \"x\": [0.3156022120837657, 0.3764259880841979, null, 0.372101268859142, 0.3639206383853718, null, 0.372101268859142, 0.37201877517107446, null], \"y\": [0.31525065159337873, 0.6672709087146321, null, 0.6422414075279486, 0.6206645024896235, null, 0.6422414075279486, 0.6159951209897706, null]}, {\"hoverinfo\": \"none\", \"line\": {\"color\": \"rgba(255, 255, 255, 0.0)\", \"dash\": \"solid\", \"width\": 1}, \"mode\": \"lines\", \"type\": \"scatter\", \"x\": [0.3156022120837657, 0.122398484876439, null, 0.13441427295748076, 0.14822135361828867, null, 0.13441427295748076, 0.14356543389551235, null], \"y\": [0.31525065159337873, 0.08386532725608942, null, 0.09825571745449627, 0.10551668390187853, null, 0.09825571745449627, 0.11849008070570106, null]}, {\"hoverinfo\": \"none\", \"line\": {\"color\": \"rgba(255, 255, 255, 0.0)\", \"dash\": \"solid\", \"width\": 1}, \"mode\": \"lines\", \"type\": \"scatter\", \"x\": [0.3286774867333624, 0.5526782610616999, null, 0.5384103065947159, 0.5242798727256088, null, 0.5384103065947159, 0.5252793454088379, null], \"y\": [0.6480934453741629, 0.6965916677129139, null, 0.6935025246948425, 0.6982538794277443, null, 0.6935025246948425, 0.6828488278713584, null]}, {\"hoverinfo\": \"none\", \"line\": {\"color\": \"rgba(255, 255, 255, 0.0)\", \"dash\": \"solid\", \"width\": 1}, \"mode\": \"lines\", \"type\": \"scatter\", \"x\": [0.3286774867333624, 0.661599770590562, null, 0.6485341589846367, 0.6378184129964131, null, 0.6485341589846367, 0.6342857939330937, null], \"y\": [0.6480934453741629, 0.3698807037983498, null, 0.3807992268336189, 0.39828353376216075, null, 0.3807992268336189, 0.384176646830979, null]}, {\"hoverinfo\": \"none\", \"marker\": {\"color\": \"rgba(255, 255, 255, 0.0)\", \"line\": {\"color\": \"rgba(255, 255, 255, 0.0)\", \"width\": 1}, \"size\": 20, \"symbol\": \"circle\"}, \"mode\": \"markers+text\", \"text\": [\"('Atlanta Hawks',)\"], \"textfont\": {\"color\": \"rgb(0, 0, 0)\"}, \"textposition\": \"middle center\", \"type\": \"scatter\", \"x\": [0.11931960619673054], \"y\": [0.018633553602880992]}, {\"hoverinfo\": \"none\", \"marker\": {\"color\": \"rgba(255, 255, 255, 0.0)\", \"line\": {\"color\": \"rgba(255, 255, 255, 0.0)\", \"width\": 1}, \"size\": 20, \"symbol\": \"circle\"}, \"mode\": \"markers+text\", \"text\": [\"('Boston Celtics',)\"], \"textfont\": {\"color\": \"rgb(0, 0, 0)\"}, \"textposition\": \"middle center\", \"type\": \"scatter\", \"x\": [0.6019142956893831], \"y\": [0.23551537854926619]}, {\"hoverinfo\": \"none\", \"marker\": {\"color\": \"rgba(255, 255, 255, 0.0)\", \"line\": {\"color\": \"rgba(255, 255, 255, 0.0)\", \"width\": 1}, \"size\": 20, \"symbol\": \"circle\"}, \"mode\": \"markers+text\", \"text\": [\"('Brooklyn Nets',)\"], \"textfont\": {\"color\": \"rgb(0, 0, 0)\"}, \"textposition\": \"middle center\", \"type\": \"scatter\", \"x\": [0.7146533834750309], \"y\": [0.534771125053913]}, {\"hoverinfo\": \"none\", \"marker\": {\"color\": \"rgba(255, 255, 255, 0.0)\", \"line\": {\"color\": \"rgba(255, 255, 255, 0.0)\", \"width\": 1}, \"size\": 20, \"symbol\": \"circle\"}, \"mode\": \"markers+text\", \"text\": [\"('Charlotte Hornets',)\"], \"textfont\": {\"color\": \"rgb(0, 0, 0)\"}, \"textposition\": \"middle center\", \"type\": \"scatter\", \"x\": [0.27873525345969663], \"y\": [0.764994389785598]}, {\"hoverinfo\": \"none\", \"marker\": {\"color\": \"rgba(255, 255, 255, 0.0)\", \"line\": {\"color\": \"rgba(255, 255, 255, 0.0)\", \"width\": 1}, \"size\": 20, \"symbol\": \"circle\"}, \"mode\": \"markers+text\", \"text\": [\"('Chicago Bulls',)\"], \"textfont\": {\"color\": \"rgb(0, 0, 0)\"}, \"textposition\": \"middle center\", \"type\": \"scatter\", \"x\": [0.4900300561762585], \"y\": [0.11795673627221848]}, {\"hoverinfo\": \"none\", \"marker\": {\"color\": \"rgba(255, 255, 255, 0.0)\", \"line\": {\"color\": \"rgba(255, 255, 255, 0.0)\", \"width\": 1}, \"size\": 20, \"symbol\": \"circle\"}, \"mode\": \"markers+text\", \"text\": [\"('Cleveland Cavaliers',)\"], \"textfont\": {\"color\": \"rgb(0, 0, 0)\"}, \"textposition\": \"middle center\", \"type\": \"scatter\", \"x\": [0.26715657375090585], \"y\": [0.7299982433843056]}, {\"hoverinfo\": \"none\", \"marker\": {\"color\": \"rgba(255, 255, 255, 0.0)\", \"line\": {\"color\": \"rgba(255, 255, 255, 0.0)\", \"width\": 1}, \"size\": 20, \"symbol\": \"circle\"}, \"mode\": \"markers+text\", \"text\": [\"('Dallas Mavericks',)\"], \"textfont\": {\"color\": \"rgb(0, 0, 0)\"}, \"textposition\": \"middle center\", \"type\": \"scatter\", \"x\": [0.7919919020707024], \"y\": [0.3792170153372445]}, {\"hoverinfo\": \"none\", \"marker\": {\"color\": \"rgba(255, 255, 255, 0.0)\", \"line\": {\"color\": \"rgba(255, 255, 255, 0.0)\", \"width\": 1}, \"size\": 20, \"symbol\": \"circle\"}, \"mode\": \"markers+text\", \"text\": [\"('Denver Nuggets',)\"], \"textfont\": {\"color\": \"rgb(0, 0, 0)\"}, \"textposition\": \"middle center\", \"type\": \"scatter\", \"x\": [0.6439639636488322], \"y\": [0.35239664594787135]}, {\"hoverinfo\": \"none\", \"marker\": {\"color\": \"rgba(255, 255, 255, 0.0)\", \"line\": {\"color\": \"rgba(255, 255, 255, 0.0)\", \"width\": 1}, \"size\": 20, \"symbol\": \"circle\"}, \"mode\": \"markers+text\", \"text\": [\"('Detroit Pistons',)\"], \"textfont\": {\"color\": \"rgb(0, 0, 0)\"}, \"textposition\": \"middle center\", \"type\": \"scatter\", \"x\": [0.6203305331304902], \"y\": [0.33991532341532626]}, {\"hoverinfo\": \"none\", \"marker\": {\"color\": \"rgba(255, 255, 255, 0.0)\", \"line\": {\"color\": \"rgba(255, 255, 255, 0.0)\", \"width\": 1}, \"size\": 20, \"symbol\": \"circle\"}, \"mode\": \"markers+text\", \"text\": [\"('Golden State Warriors',)\"], \"textfont\": {\"color\": \"rgb(0, 0, 0)\"}, \"textposition\": \"middle center\", \"type\": \"scatter\", \"x\": [0.8367228626947864], \"y\": [0.08547172834581584]}, {\"hoverinfo\": \"none\", \"marker\": {\"color\": \"rgba(255, 255, 255, 0.0)\", \"line\": {\"color\": \"rgba(255, 255, 255, 0.0)\", \"width\": 1}, \"size\": 20, \"symbol\": \"circle\"}, \"mode\": \"markers+text\", \"text\": [\"('Houston Rockets',)\"], \"textfont\": {\"color\": \"rgb(0, 0, 0)\"}, \"textposition\": \"middle center\", \"type\": \"scatter\", \"x\": [0.5526782610616999], \"y\": [0.6965916677129139]}, {\"hoverinfo\": \"none\", \"marker\": {\"color\": \"rgba(255, 255, 255, 0.0)\", \"line\": {\"color\": \"rgba(255, 255, 255, 0.0)\", \"width\": 1}, \"size\": 20, \"symbol\": \"circle\"}, \"mode\": \"markers+text\", \"text\": [\"('Indiana Pacers',)\"], \"textfont\": {\"color\": \"rgb(0, 0, 0)\"}, \"textposition\": \"middle center\", \"type\": \"scatter\", \"x\": [0.6599127034904547], \"y\": [0.11376743481814933]}, {\"hoverinfo\": \"none\", \"marker\": {\"color\": \"rgba(255, 255, 255, 0.0)\", \"line\": {\"color\": \"rgba(255, 255, 255, 0.0)\", \"width\": 1}, \"size\": 20, \"symbol\": \"circle\"}, \"mode\": \"markers+text\", \"text\": [\"('LA Clippers',)\"], \"textfont\": {\"color\": \"rgb(0, 0, 0)\"}, \"textposition\": \"middle center\", \"type\": \"scatter\", \"x\": [0.122398484876439], \"y\": [0.08386532725608942]}, {\"hoverinfo\": \"none\", \"marker\": {\"color\": \"rgba(255, 255, 255, 0.0)\", \"line\": {\"color\": \"rgba(255, 255, 255, 0.0)\", \"width\": 1}, \"size\": 20, \"symbol\": \"circle\"}, \"mode\": \"markers+text\", \"text\": [\"('Los Angeles Lakers',)\"], \"textfont\": {\"color\": \"rgb(0, 0, 0)\"}, \"textposition\": \"middle center\", \"type\": \"scatter\", \"x\": [0.661599770590562], \"y\": [0.3698807037983498]}, {\"hoverinfo\": \"none\", \"marker\": {\"color\": \"rgba(255, 255, 255, 0.0)\", \"line\": {\"color\": \"rgba(255, 255, 255, 0.0)\", \"width\": 1}, \"size\": 20, \"symbol\": \"circle\"}, \"mode\": \"markers+text\", \"text\": [\"('Memphis Grizzlies',)\"], \"textfont\": {\"color\": \"rgb(0, 0, 0)\"}, \"textposition\": \"middle center\", \"type\": \"scatter\", \"x\": [0.3890199702694477], \"y\": [0.2505453207177464]}, {\"hoverinfo\": \"none\", \"marker\": {\"color\": \"rgba(255, 255, 255, 0.0)\", \"line\": {\"color\": \"rgba(255, 255, 255, 0.0)\", \"width\": 1}, \"size\": 20, \"symbol\": \"circle\"}, \"mode\": \"markers+text\", \"text\": [\"('Miami Heat',)\"], \"textfont\": {\"color\": \"rgb(0, 0, 0)\"}, \"textposition\": \"middle center\", \"type\": \"scatter\", \"x\": [0.043050495351714235], \"y\": [0.9866404470516293]}, {\"hoverinfo\": \"none\", \"marker\": {\"color\": \"rgba(255, 255, 255, 0.0)\", \"line\": {\"color\": \"rgba(255, 255, 255, 0.0)\", \"width\": 1}, \"size\": 20, \"symbol\": \"circle\"}, \"mode\": \"markers+text\", \"text\": [\"('Milwaukee Bucks',)\"], \"textfont\": {\"color\": \"rgb(0, 0, 0)\"}, \"textposition\": \"middle center\", \"type\": \"scatter\", \"x\": [0.6125040360135718], \"y\": [0.5403944327175897]}, {\"hoverinfo\": \"none\", \"marker\": {\"color\": \"rgba(255, 255, 255, 0.0)\", \"line\": {\"color\": \"rgba(255, 255, 255, 0.0)\", \"width\": 1}, \"size\": 20, \"symbol\": \"circle\"}, \"mode\": \"markers+text\", \"text\": [\"('Minnesota Timberwolves',)\"], \"textfont\": {\"color\": \"rgb(0, 0, 0)\"}, \"textposition\": \"middle center\", \"type\": \"scatter\", \"x\": [0.3764259880841979], \"y\": [0.6672709087146321]}, {\"hoverinfo\": \"none\", \"marker\": {\"color\": \"rgba(255, 255, 255, 0.0)\", \"line\": {\"color\": \"rgba(255, 255, 255, 0.0)\", \"width\": 1}, \"size\": 20, \"symbol\": \"circle\"}, \"mode\": \"markers+text\", \"text\": [\"('New Orleans Pelicans',)\"], \"textfont\": {\"color\": \"rgb(0, 0, 0)\"}, \"textposition\": \"middle center\", \"type\": \"scatter\", \"x\": [0.746120228185612], \"y\": [0.28315607044925484]}, {\"hoverinfo\": \"none\", \"marker\": {\"color\": \"rgba(255, 255, 255, 0.0)\", \"line\": {\"color\": \"rgba(255, 255, 255, 0.0)\", \"width\": 1}, \"size\": 20, \"symbol\": \"circle\"}, \"mode\": \"markers+text\", \"text\": [\"('New York Knicks',)\"], \"textfont\": {\"color\": \"rgb(0, 0, 0)\"}, \"textposition\": \"middle center\", \"type\": \"scatter\", \"x\": [0.28984763010955217], \"y\": [0.6956448759054679]}, {\"hoverinfo\": \"none\", \"marker\": {\"color\": \"rgba(255, 255, 255, 0.0)\", \"line\": {\"color\": \"rgba(255, 255, 255, 0.0)\", \"width\": 1}, \"size\": 20, \"symbol\": \"circle\"}, \"mode\": \"markers+text\", \"text\": [\"('Oklahoma City Thunder',)\"], \"textfont\": {\"color\": \"rgb(0, 0, 0)\"}, \"textposition\": \"middle center\", \"type\": \"scatter\", \"x\": [0.4645428575234585], \"y\": [0.4601686721849013]}, {\"hoverinfo\": \"none\", \"marker\": {\"color\": \"rgba(255, 255, 255, 0.0)\", \"line\": {\"color\": \"rgba(255, 255, 255, 0.0)\", \"width\": 1}, \"size\": 20, \"symbol\": \"circle\"}, \"mode\": \"markers+text\", \"text\": [\"('Orlando Magic',)\"], \"textfont\": {\"color\": \"rgb(0, 0, 0)\"}, \"textposition\": \"middle center\", \"type\": \"scatter\", \"x\": [0.6589911410927456], \"y\": [0.1762676117268882]}, {\"hoverinfo\": \"none\", \"marker\": {\"color\": \"rgba(255, 255, 255, 0.0)\", \"line\": {\"color\": \"rgba(255, 255, 255, 0.0)\", \"width\": 1}, \"size\": 20, \"symbol\": \"circle\"}, \"mode\": \"markers+text\", \"text\": [\"('Philadelphia 76ers',)\"], \"textfont\": {\"color\": \"rgb(0, 0, 0)\"}, \"textposition\": \"middle center\", \"type\": \"scatter\", \"x\": [0.7300559277230534], \"y\": [0.3977760371687721]}, {\"hoverinfo\": \"none\", \"marker\": {\"color\": \"rgba(255, 255, 255, 0.0)\", \"line\": {\"color\": \"rgba(255, 255, 255, 0.0)\", \"width\": 1}, \"size\": 20, \"symbol\": \"circle\"}, \"mode\": \"markers+text\", \"text\": [\"('Phoenix Suns',)\"], \"textfont\": {\"color\": \"rgb(0, 0, 0)\"}, \"textposition\": \"middle center\", \"type\": \"scatter\", \"x\": [0.5805254513338318], \"y\": [0.10804518699319077]}, {\"hoverinfo\": \"none\", \"marker\": {\"color\": \"rgba(255, 255, 255, 0.0)\", \"line\": {\"color\": \"rgba(255, 255, 255, 0.0)\", \"width\": 1}, \"size\": 20, \"symbol\": \"circle\"}, \"mode\": \"markers+text\", \"text\": [\"('Portland Trail Blazers',)\"], \"textfont\": {\"color\": \"rgb(0, 0, 0)\"}, \"textposition\": \"middle center\", \"type\": \"scatter\", \"x\": [0.1022208712794197], \"y\": [0.8536450927107452]}, {\"hoverinfo\": \"none\", \"marker\": {\"color\": \"rgba(255, 255, 255, 0.0)\", \"line\": {\"color\": \"rgba(255, 255, 255, 0.0)\", \"width\": 1}, \"size\": 20, \"symbol\": \"circle\"}, \"mode\": \"markers+text\", \"text\": [\"('Sacramento Kings',)\"], \"textfont\": {\"color\": \"rgb(0, 0, 0)\"}, \"textposition\": \"middle center\", \"type\": \"scatter\", \"x\": [0.7646819435859958], \"y\": [0.45957032096768424]}, {\"hoverinfo\": \"none\", \"marker\": {\"color\": \"rgba(255, 255, 255, 0.0)\", \"line\": {\"color\": \"rgba(255, 255, 255, 0.0)\", \"width\": 1}, \"size\": 20, \"symbol\": \"circle\"}, \"mode\": \"markers+text\", \"text\": [\"('San Antonio Spurs',)\"], \"textfont\": {\"color\": \"rgb(0, 0, 0)\"}, \"textposition\": \"middle center\", \"type\": \"scatter\", \"x\": [0.21976896563283277], \"y\": [0.5130220934181828]}, {\"hoverinfo\": \"none\", \"marker\": {\"color\": \"rgba(255, 255, 255, 0.0)\", \"line\": {\"color\": \"rgba(255, 255, 255, 0.0)\", \"width\": 1}, \"size\": 20, \"symbol\": \"circle\"}, \"mode\": \"markers+text\", \"text\": [\"('Toronto Raptors',)\"], \"textfont\": {\"color\": \"rgb(0, 0, 0)\"}, \"textposition\": \"middle center\", \"type\": \"scatter\", \"x\": [0.2235189707639248], \"y\": [0.38628741419589163]}, {\"hoverinfo\": \"none\", \"marker\": {\"color\": \"rgba(255, 255, 255, 0.0)\", \"line\": {\"color\": \"rgba(255, 255, 255, 0.0)\", \"width\": 1}, \"size\": 20, \"symbol\": \"circle\"}, \"mode\": \"markers+text\", \"text\": [\"('Utah Jazz',)\"], \"textfont\": {\"color\": \"rgb(0, 0, 0)\"}, \"textposition\": \"middle center\", \"type\": \"scatter\", \"x\": [0.3156022120837657], \"y\": [0.31525065159337873]}, {\"hoverinfo\": \"none\", \"marker\": {\"color\": \"rgba(255, 255, 255, 0.0)\", \"line\": {\"color\": \"rgba(255, 255, 255, 0.0)\", \"width\": 1}, \"size\": 20, \"symbol\": \"circle\"}, \"mode\": \"markers+text\", \"text\": [\"('Washington Wizards',)\"], \"textfont\": {\"color\": \"rgb(0, 0, 0)\"}, \"textposition\": \"middle center\", \"type\": \"scatter\", \"x\": [0.3286774867333624], \"y\": [0.6480934453741629]}, {\"hoverinfo\": \"none\", \"mode\": \"text\", \"text\": [null, null, null, null, null, null, null, null, null, null, null, null, null, null, null, null, null, null, null, null, null, null, null, null, null, null, null, null, null, null, null, null, null, null, null, null, null, null, null, null, null, null, null, null, null, null, null, null, null, null, null, null, null, null, null, null, null, null, null, null, null, null, null, null, null], \"textfont\": {\"color\": \"rgb(0, 0, 0)\"}, \"textposition\": \"middle center\", \"type\": \"scatter\", \"x\": [0.3266532256963092, 0.15607435862772784, 0.4200647747664901, 0.35691117071105477, 0.1586601284244791, 0.24805067773376566, 0.6267718079041538, 0.4714321194169772, 0.6701196391022194, 0.5718434065512809, 0.5072593777202042, 0.3666305582717705, 0.34592260640797573, 0.2593340858524818, 0.20667048172460442, 0.3063792905221763, 0.6945136225747367, 0.4477951409522257, 0.5729284277683682, 0.6837481421468434, 0.43230199220638343, 0.7871487809311822, 0.48278403944533127, 0.4541732319781833, 0.3726238838016298, 0.3879926098248164, 0.7587076106962539, 0.6926997480440829, 0.5595759146769448, 0.511889755729223, 0.5219613337829602, 0.5134223544553116, 0.3450033027173824, 0.3021381179134773, 0.4210567020345464, 0.3749124714992476, 0.6640114882056796, 0.6006562432239856, 0.3172629472982197, 0.1900193470600839, 0.4842531434168694, 0.3527415172205503, 0.6301942281807288, 0.30088154589695526, 0.39142390669978255, 0.5954662758535646, 0.4665212302952597, 0.5522874111138422, 0.6085567811441095, 0.5867185050977834, 0.534417864776357, 0.582276311715399, 0.22184252764341886, 0.447034022816149, 0.6511799695963632, 0.5665160270226001, 0.415588724991593, 0.40766041192135544, 0.5795337184642102, 0.521272196528792, 0.4673303930715862, 0.3323126058998921, 0.22687784656285093, 0.4389868344005697, 0.5011155787717861], \"y\": [0.3775480285562005, 0.2749608045447981, 0.23305574485819236, 0.307904965386805, 0.21452796293875853, 0.15833681002223832, 0.5926534412069312, 0.43463477699052316, 0.3702634157591707, 0.1729026851122254, 0.41236669968023393, 0.40944040513042945, 0.2949962181225544, 0.55221289473632, 0.36500026017295656, 0.7102571956043349, 0.22214885619781774, 0.4951670151911989, 0.5096604432459566, 0.37404383726807966, 0.5137644830189888, 0.26381104632638447, 0.4589552648163426, 0.4019720164923572, 0.4624691874109338, 0.2520786221076077, 0.24729189998347023, 0.4094454885881028, 0.3895665212232069, 0.4957817327441477, 0.33573697027731975, 0.3271117013858908, 0.44230631075925964, 0.8666747630432072, 0.43769049257865805, 0.2511230209336657, 0.5638175885513854, 0.34684409926686854, 0.693670432243084, 0.7508089338990962, 0.42459880527462, 0.4829898633668214, 0.4457024667134705, 0.24953114911959628, 0.07153308338044617, 0.40294013290457187, 0.37309828559657376, 0.40005824406324075, 0.2518851257086265, 0.2318341203390599, 0.0868012900956853, 0.32773424250631067, 0.7743743075001386, 0.21451841239194883, 0.5556941221307933, 0.53823174616171, 0.552935900085137, 0.27130768275562983, 0.22587519880298684, 0.3826055201056814, 0.3538039812324305, 0.4991610546438713, 0.17760788836330343, 0.6984068513178714, 0.532854963504167]}, {\"hoverinfo\": \"none\", \"marker\": {\"color\": \"rgba(255, 255, 255, 0.0)\", \"line\": {\"color\": \"rgba(255, 255, 255, 0.0)\", \"width\": 0}, \"size\": 0, \"symbol\": \"circle\"}, \"mode\": \"markers\", \"type\": \"scatter\", \"x\": [0.5, 0.0, 1.0, 0.5], \"y\": [0.0, 0.5, 0.5, 1.0]}],\n",
       "                        {\"height\": 526.0, \"margin\": {\"b\": 0, \"l\": 0, \"r\": 0, \"t\": 0}, \"showlegend\": false, \"sliders\": [{\"currentvalue\": {\"visible\": false}, \"steps\": [{\"args\": [[0], {\"frame\": {\"redraw\": false}, \"mode\": \"immediate\"}], \"label\": \"\", \"method\": \"animate\"}, {\"args\": [[1], {\"frame\": {\"redraw\": false}, \"mode\": \"immediate\"}], \"label\": \"\", \"method\": \"animate\"}]}], \"template\": {\"data\": {\"bar\": [{\"error_x\": {\"color\": \"#2a3f5f\"}, \"error_y\": {\"color\": \"#2a3f5f\"}, \"marker\": {\"line\": {\"color\": \"#E5ECF6\", \"width\": 0.5}}, \"type\": \"bar\"}], \"barpolar\": [{\"marker\": {\"line\": {\"color\": \"#E5ECF6\", \"width\": 0.5}}, \"type\": \"barpolar\"}], \"carpet\": [{\"aaxis\": {\"endlinecolor\": \"#2a3f5f\", \"gridcolor\": \"white\", \"linecolor\": \"white\", \"minorgridcolor\": \"white\", \"startlinecolor\": \"#2a3f5f\"}, \"baxis\": {\"endlinecolor\": \"#2a3f5f\", \"gridcolor\": \"white\", \"linecolor\": \"white\", \"minorgridcolor\": \"white\", \"startlinecolor\": \"#2a3f5f\"}, \"type\": \"carpet\"}], \"choropleth\": [{\"colorbar\": {\"outlinewidth\": 0, \"ticks\": \"\"}, \"type\": \"choropleth\"}], \"contour\": [{\"colorbar\": {\"outlinewidth\": 0, \"ticks\": \"\"}, \"colorscale\": [[0.0, \"#0d0887\"], [0.1111111111111111, \"#46039f\"], [0.2222222222222222, \"#7201a8\"], [0.3333333333333333, \"#9c179e\"], [0.4444444444444444, \"#bd3786\"], [0.5555555555555556, \"#d8576b\"], [0.6666666666666666, \"#ed7953\"], [0.7777777777777778, \"#fb9f3a\"], [0.8888888888888888, \"#fdca26\"], [1.0, \"#f0f921\"]], \"type\": \"contour\"}], \"contourcarpet\": [{\"colorbar\": {\"outlinewidth\": 0, \"ticks\": \"\"}, \"type\": \"contourcarpet\"}], \"heatmap\": [{\"colorbar\": {\"outlinewidth\": 0, \"ticks\": \"\"}, \"colorscale\": [[0.0, \"#0d0887\"], [0.1111111111111111, \"#46039f\"], [0.2222222222222222, \"#7201a8\"], [0.3333333333333333, \"#9c179e\"], [0.4444444444444444, \"#bd3786\"], [0.5555555555555556, \"#d8576b\"], [0.6666666666666666, \"#ed7953\"], [0.7777777777777778, \"#fb9f3a\"], [0.8888888888888888, \"#fdca26\"], [1.0, \"#f0f921\"]], \"type\": \"heatmap\"}], \"heatmapgl\": [{\"colorbar\": {\"outlinewidth\": 0, \"ticks\": \"\"}, \"colorscale\": [[0.0, \"#0d0887\"], [0.1111111111111111, \"#46039f\"], [0.2222222222222222, \"#7201a8\"], [0.3333333333333333, \"#9c179e\"], [0.4444444444444444, \"#bd3786\"], [0.5555555555555556, \"#d8576b\"], [0.6666666666666666, \"#ed7953\"], [0.7777777777777778, \"#fb9f3a\"], [0.8888888888888888, \"#fdca26\"], [1.0, \"#f0f921\"]], \"type\": \"heatmapgl\"}], \"histogram\": [{\"marker\": {\"colorbar\": {\"outlinewidth\": 0, \"ticks\": \"\"}}, \"type\": \"histogram\"}], \"histogram2d\": [{\"colorbar\": {\"outlinewidth\": 0, \"ticks\": \"\"}, \"colorscale\": [[0.0, \"#0d0887\"], [0.1111111111111111, \"#46039f\"], [0.2222222222222222, \"#7201a8\"], [0.3333333333333333, \"#9c179e\"], [0.4444444444444444, \"#bd3786\"], [0.5555555555555556, \"#d8576b\"], [0.6666666666666666, \"#ed7953\"], [0.7777777777777778, \"#fb9f3a\"], [0.8888888888888888, \"#fdca26\"], [1.0, \"#f0f921\"]], \"type\": \"histogram2d\"}], \"histogram2dcontour\": [{\"colorbar\": {\"outlinewidth\": 0, \"ticks\": \"\"}, \"colorscale\": [[0.0, \"#0d0887\"], [0.1111111111111111, \"#46039f\"], [0.2222222222222222, \"#7201a8\"], [0.3333333333333333, \"#9c179e\"], [0.4444444444444444, \"#bd3786\"], [0.5555555555555556, \"#d8576b\"], [0.6666666666666666, \"#ed7953\"], [0.7777777777777778, \"#fb9f3a\"], [0.8888888888888888, \"#fdca26\"], [1.0, \"#f0f921\"]], \"type\": \"histogram2dcontour\"}], \"mesh3d\": [{\"colorbar\": {\"outlinewidth\": 0, \"ticks\": \"\"}, \"type\": \"mesh3d\"}], \"parcoords\": [{\"line\": {\"colorbar\": {\"outlinewidth\": 0, \"ticks\": \"\"}}, \"type\": \"parcoords\"}], \"scatter\": [{\"marker\": {\"colorbar\": {\"outlinewidth\": 0, \"ticks\": \"\"}}, \"type\": \"scatter\"}], \"scatter3d\": [{\"line\": {\"colorbar\": {\"outlinewidth\": 0, \"ticks\": \"\"}}, \"marker\": {\"colorbar\": {\"outlinewidth\": 0, \"ticks\": \"\"}}, \"type\": \"scatter3d\"}], \"scattercarpet\": [{\"marker\": {\"colorbar\": {\"outlinewidth\": 0, \"ticks\": \"\"}}, \"type\": \"scattercarpet\"}], \"scattergeo\": [{\"marker\": {\"colorbar\": {\"outlinewidth\": 0, \"ticks\": \"\"}}, \"type\": \"scattergeo\"}], \"scattergl\": [{\"marker\": {\"colorbar\": {\"outlinewidth\": 0, \"ticks\": \"\"}}, \"type\": \"scattergl\"}], \"scattermapbox\": [{\"marker\": {\"colorbar\": {\"outlinewidth\": 0, \"ticks\": \"\"}}, \"type\": \"scattermapbox\"}], \"scatterpolar\": [{\"marker\": {\"colorbar\": {\"outlinewidth\": 0, \"ticks\": \"\"}}, \"type\": \"scatterpolar\"}], \"scatterpolargl\": [{\"marker\": {\"colorbar\": {\"outlinewidth\": 0, \"ticks\": \"\"}}, \"type\": \"scatterpolargl\"}], \"scatterternary\": [{\"marker\": {\"colorbar\": {\"outlinewidth\": 0, \"ticks\": \"\"}}, \"type\": \"scatterternary\"}], \"surface\": [{\"colorbar\": {\"outlinewidth\": 0, \"ticks\": \"\"}, \"colorscale\": [[0.0, \"#0d0887\"], [0.1111111111111111, \"#46039f\"], [0.2222222222222222, \"#7201a8\"], [0.3333333333333333, \"#9c179e\"], [0.4444444444444444, \"#bd3786\"], [0.5555555555555556, \"#d8576b\"], [0.6666666666666666, \"#ed7953\"], [0.7777777777777778, \"#fb9f3a\"], [0.8888888888888888, \"#fdca26\"], [1.0, \"#f0f921\"]], \"type\": \"surface\"}], \"table\": [{\"cells\": {\"fill\": {\"color\": \"#EBF0F8\"}, \"line\": {\"color\": \"white\"}}, \"header\": {\"fill\": {\"color\": \"#C8D4E3\"}, \"line\": {\"color\": \"white\"}}, \"type\": \"table\"}]}, \"layout\": {\"annotationdefaults\": {\"arrowcolor\": \"#2a3f5f\", \"arrowhead\": 0, \"arrowwidth\": 1}, \"colorscale\": {\"diverging\": [[0, \"#8e0152\"], [0.1, \"#c51b7d\"], [0.2, \"#de77ae\"], [0.3, \"#f1b6da\"], [0.4, \"#fde0ef\"], [0.5, \"#f7f7f7\"], [0.6, \"#e6f5d0\"], [0.7, \"#b8e186\"], [0.8, \"#7fbc41\"], [0.9, \"#4d9221\"], [1, \"#276419\"]], \"sequential\": [[0.0, \"#0d0887\"], [0.1111111111111111, \"#46039f\"], [0.2222222222222222, \"#7201a8\"], [0.3333333333333333, \"#9c179e\"], [0.4444444444444444, \"#bd3786\"], [0.5555555555555556, \"#d8576b\"], [0.6666666666666666, \"#ed7953\"], [0.7777777777777778, \"#fb9f3a\"], [0.8888888888888888, \"#fdca26\"], [1.0, \"#f0f921\"]], \"sequentialminus\": [[0.0, \"#0d0887\"], [0.1111111111111111, \"#46039f\"], [0.2222222222222222, \"#7201a8\"], [0.3333333333333333, \"#9c179e\"], [0.4444444444444444, \"#bd3786\"], [0.5555555555555556, \"#d8576b\"], [0.6666666666666666, \"#ed7953\"], [0.7777777777777778, \"#fb9f3a\"], [0.8888888888888888, \"#fdca26\"], [1.0, \"#f0f921\"]]}, \"colorway\": [\"#636efa\", \"#EF553B\", \"#00cc96\", \"#ab63fa\", \"#FFA15A\", \"#19d3f3\", \"#FF6692\", \"#B6E880\", \"#FF97FF\", \"#FECB52\"], \"font\": {\"color\": \"#2a3f5f\"}, \"geo\": {\"bgcolor\": \"white\", \"lakecolor\": \"white\", \"landcolor\": \"#E5ECF6\", \"showlakes\": true, \"showland\": true, \"subunitcolor\": \"white\"}, \"hoverlabel\": {\"align\": \"left\"}, \"hovermode\": \"closest\", \"mapbox\": {\"style\": \"light\"}, \"paper_bgcolor\": \"white\", \"plot_bgcolor\": \"#E5ECF6\", \"polar\": {\"angularaxis\": {\"gridcolor\": \"white\", \"linecolor\": \"white\", \"ticks\": \"\"}, \"bgcolor\": \"#E5ECF6\", \"radialaxis\": {\"gridcolor\": \"white\", \"linecolor\": \"white\", \"ticks\": \"\"}}, \"scene\": {\"xaxis\": {\"backgroundcolor\": \"#E5ECF6\", \"gridcolor\": \"white\", \"gridwidth\": 2, \"linecolor\": \"white\", \"showbackground\": true, \"ticks\": \"\", \"zerolinecolor\": \"white\"}, \"yaxis\": {\"backgroundcolor\": \"#E5ECF6\", \"gridcolor\": \"white\", \"gridwidth\": 2, \"linecolor\": \"white\", \"showbackground\": true, \"ticks\": \"\", \"zerolinecolor\": \"white\"}, \"zaxis\": {\"backgroundcolor\": \"#E5ECF6\", \"gridcolor\": \"white\", \"gridwidth\": 2, \"linecolor\": \"white\", \"showbackground\": true, \"ticks\": \"\", \"zerolinecolor\": \"white\"}}, \"shapedefaults\": {\"line\": {\"color\": \"#2a3f5f\"}}, \"ternary\": {\"aaxis\": {\"gridcolor\": \"white\", \"linecolor\": \"white\", \"ticks\": \"\"}, \"baxis\": {\"gridcolor\": \"white\", \"linecolor\": \"white\", \"ticks\": \"\"}, \"bgcolor\": \"#E5ECF6\", \"caxis\": {\"gridcolor\": \"white\", \"linecolor\": \"white\", \"ticks\": \"\"}}, \"title\": {\"x\": 0.05}, \"xaxis\": {\"automargin\": true, \"gridcolor\": \"white\", \"linecolor\": \"white\", \"ticks\": \"\", \"zerolinecolor\": \"white\", \"zerolinewidth\": 2}, \"yaxis\": {\"automargin\": true, \"gridcolor\": \"white\", \"linecolor\": \"white\", \"ticks\": \"\", \"zerolinecolor\": \"white\", \"zerolinewidth\": 2}}}, \"updatemenus\": [{\"buttons\": [{\"args\": [null, {\"frame\": {\"redraw\": false}, \"fromcurrent\": true}], \"label\": \"Play\", \"method\": \"animate\"}, {\"args\": [[null], {\"frame\": {\"redraw\": false}, \"mode\": \"immediate\"}], \"label\": \"Pause\", \"method\": \"animate\"}], \"showactive\": true, \"type\": \"buttons\"}], \"width\": 912.0, \"xaxis\": {\"showgrid\": false, \"showticklabels\": false, \"zeroline\": false}, \"yaxis\": {\"showgrid\": false, \"showticklabels\": false, \"zeroline\": false}},\n",
       "                        {\"staticPlot\": true, \"responsive\": true}\n",
       "                    ).then(function(){\n",
       "                            Plotly.addFrames('85f05c4f-54dd-49cb-bb98-15846f06d8d2', [{\"data\": [{\"hoverinfo\": \"none\", \"line\": {\"color\": \"rgba(255, 255, 255, 0.0)\", \"dash\": \"solid\", \"width\": 1}, \"mode\": \"lines\", \"x\": [0.11931960619673054, 0.5526782610616999, null, 0.5417653383328875, 0.5285779795073159, null, 0.5417653383328875, 0.5341016705867737, null], \"y\": [0.018633553602880992, 0.6965916677129139, null, 0.6795191933787864, 0.6691005545049208, null, 0.6795191933787864, 0.6573179168705474, null], \"type\": \"scatter\"}, {\"hoverinfo\": \"none\", \"line\": {\"color\": \"rgba(255, 255, 255, 0.0)\", \"dash\": \"solid\", \"width\": 1}, \"mode\": \"lines\", \"x\": [0.11931960619673054, 0.21976896563283277, null, 0.21476944584252328, 0.20601258646315165, null, 0.21476944584252328, 0.21397385785431838, null], \"y\": [0.018633553602880992, 0.5130220934181828, null, 0.4884156120749034, 0.4676071230213606, null, 0.4884156120749034, 0.4622091621359997, null], \"type\": \"scatter\"}, {\"hoverinfo\": \"none\", \"line\": {\"color\": \"rgba(255, 255, 255, 0.0)\", \"dash\": \"solid\", \"width\": 1}, \"mode\": \"lines\", \"x\": [0.11931960619673054, 0.7300559277230534, null, 0.7164521752101635, 0.7020898264371777, null, 0.7164521752101635, 0.7048222016539535, null], \"y\": [0.018633553602880992, 0.3977760371687721, null, 0.38933088607531363, 0.3886068828033578, null, 0.38933088607531363, 0.3739189673557497, null], \"type\": \"scatter\"}, {\"hoverinfo\": \"none\", \"line\": {\"color\": \"rgba(255, 255, 255, 0.0)\", \"dash\": \"solid\", \"width\": 1}, \"mode\": \"lines\", \"x\": [0.11751947611791126, 0.6107039059347525, null, 0.5982706180975996, 0.584264745295326, null], \"y\": [0.024311748048194925, 0.5460726271629036, null, 0.5329189207601926, 0.5270647898502075, null], \"type\": \"scatter\"}, {\"hoverinfo\": \"none\", \"line\": {\"color\": \"rgba(255, 255, 255, 0.0)\", \"dash\": \"solid\", \"width\": 1}, \"mode\": \"lines\", \"x\": [0.11931960619673054, 0.2235189707639248, null, 0.21691306628978568, 0.20683161508543302, null, 0.21691306628978568, 0.214372794318492, null], \"y\": [0.018633553602880992, 0.38628741419589163, null, 0.3629793422828454, 0.34427847459274535, null, 0.3629793422828454, 0.337146106793552, null], \"type\": \"scatter\"}, {\"hoverinfo\": \"none\", \"line\": {\"color\": \"rgba(255, 255, 255, 0.0)\", \"dash\": \"solid\", \"width\": 1}, \"mode\": \"lines\", \"x\": [0.11931960619673054, 0.3890199702694477, null, 0.37602033081485964, 0.3617929800990711, null, 0.37602033081485964, 0.3654096216977584, null], \"y\": [0.018633553602880992, 0.2505453207177464, null, 0.23936710311268303, 0.23570597248699962, null, 0.23936710311268303, 0.22167031541535992, null], \"type\": \"scatter\"}, {\"hoverinfo\": \"none\", \"line\": {\"color\": \"rgba(255, 255, 255, 0.0)\", \"dash\": \"solid\", \"width\": 1}, \"mode\": \"lines\", \"x\": [0.7146533834750309, 0.5526782610616999, null, 0.5652840813522743, 0.5752895609015818, null, 0.5652840813522743, 0.5793642020008579, null], \"y\": [0.534771125053913, 0.6965916677129139, null, 0.6839978776932516, 0.6651613444783402, null, 0.6839978776932516, 0.6787717966238245, null], \"type\": \"scatter\"}, {\"hoverinfo\": \"none\", \"line\": {\"color\": \"rgba(255, 255, 255, 0.0)\", \"dash\": \"solid\", \"width\": 1}, \"mode\": \"lines\", \"x\": [0.7146533834750309, 0.2235189707639248, null, 0.2376939731973996, 0.2519291436081149, null, 0.2376939731973996, 0.25054259690296976, null], \"y\": [0.534771125053913, 0.38628741419589163, null, 0.3905729150858117, 0.3870146646454304, null, 0.3905729150858117, 0.4023193562748349, null], \"type\": \"scatter\"}, {\"hoverinfo\": \"none\", \"line\": {\"color\": \"rgba(255, 255, 255, 0.0)\", \"dash\": \"solid\", \"width\": 1}, \"mode\": \"lines\", \"x\": [0.7146533834750309, 0.6019142956893831, null, 0.6100597231781211, 0.6213390651977954, null, 0.6100597231781211, 0.6143436293574829, null], \"y\": [0.534771125053913, 0.23551537854926619, null, 0.2571366816094463, 0.273395009142937, null, 0.2571366816094463, 0.28218959358762197, null], \"type\": \"scatter\"}, {\"hoverinfo\": \"none\", \"line\": {\"color\": \"rgba(255, 255, 255, 0.0)\", \"dash\": \"solid\", \"width\": 1}, \"mode\": \"lines\", \"x\": [0.4900300561762585, 0.6589911410927456, null, 0.6448730595784812, 0.6305973319958157, null, 0.6448730595784812, 0.6321737503070937, null], \"y\": [0.11795673627221848, 0.1762676117268882, null, 0.17139526083470463, 0.1743621434134964, null, 0.17139526083470463, 0.15911890906565956, null], \"type\": \"scatter\"}, {\"hoverinfo\": \"none\", \"line\": {\"color\": \"rgba(255, 255, 255, 0.0)\", \"dash\": \"solid\", \"width\": 1}, \"mode\": \"lines\", \"x\": [0.4900300561762585, 0.5526782610616999, null, 0.5498905575861232, 0.5430620701709902, null, 0.5498905575861232, 0.5513926552990946, null], \"y\": [0.11795673627221848, 0.6965916677129139, null, 0.6708437215041282, 0.6477507049399138, null, 0.6708437215041282, 0.64474083300175, null], \"type\": \"scatter\"}, {\"hoverinfo\": \"none\", \"line\": {\"color\": \"rgba(255, 255, 255, 0.0)\", \"dash\": \"solid\", \"width\": 1}, \"mode\": \"lines\", \"x\": [0.4900300561762585, 0.26715657375090585, null, 0.2751143744260125, 0.27918151545432673, null, 0.2751143744260125, 0.28625198811393376, null], \"y\": [0.11795673627221848, 0.7299982433843056, null, 0.7081450185614686, 0.68297183320899, null, 0.7081450185614686, 0.6915638377573038, null], \"type\": \"scatter\"}, {\"hoverinfo\": \"none\", \"line\": {\"color\": \"rgba(255, 255, 255, 0.0)\", \"dash\": \"solid\", \"width\": 1}, \"mode\": \"lines\", \"x\": [0.4900300561762585, 0.21976896563283277, null, 0.23098722418359172, 0.23905157924957163, null, 0.23098722418359172, 0.24435729259358252, null], \"y\": [0.11795673627221848, 0.5130220934181828, null, 0.4966233387472835, 0.47490085630332646, null, 0.4966233387472835, 0.4870131637645823, null], \"type\": \"scatter\"}, {\"hoverinfo\": \"none\", \"line\": {\"color\": \"rgba(255, 255, 255, 0.0)\", \"dash\": \"solid\", \"width\": 1}, \"mode\": \"lines\", \"x\": [0.26715657375090585, 0.2235189707639248, null, 0.22676509845715712, 0.23400243617697405, null, 0.22676509845715712, 0.22573004920475212, null], \"y\": [0.7299982433843056, 0.38628741419589163, null, 0.41185548312546194, 0.4345291769932983, null, 0.41185548312546194, 0.43803400766741996, null], \"type\": \"scatter\"}, {\"hoverinfo\": \"none\", \"line\": {\"color\": \"rgba(255, 255, 255, 0.0)\", \"dash\": \"solid\", \"width\": 1}, \"mode\": \"lines\", \"x\": [0.26715657375090585, 0.11931960619673054, null, 0.12441911510501014, 0.13326040522785915, null, 0.12441911510501014, 0.1253213188555623, null], \"y\": [0.7299982433843056, 0.018633553602880992, null, 0.043171466092506244, 0.06386046989911932, null, 0.043171466092506244, 0.06936638862251304, null], \"type\": \"scatter\"}, {\"hoverinfo\": \"none\", \"line\": {\"color\": \"rgba(255, 255, 255, 0.0)\", \"dash\": \"solid\", \"width\": 1}, \"mode\": \"lines\", \"x\": [0.26715657375090585, 0.3286774867333624, null, 0.3170661005023806, 0.30847408845337315, null, 0.3170661005023806, 0.30347255063981293, null], \"y\": [0.7299982433843056, 0.6480934453741629, null, 0.6635520625786494, 0.6845886265631281, null, 0.6635520625786494, 0.6720518607679122, null], \"type\": \"scatter\"}, {\"hoverinfo\": \"none\", \"line\": {\"color\": \"rgba(255, 255, 255, 0.0)\", \"dash\": \"solid\", \"width\": 1}, \"mode\": \"lines\", \"x\": [0.7919919020707024, 0.5805254513338318, null, 0.5922851285358136, 0.6059590805774158, null, 0.5922851285358136, 0.601080073956995, null], \"y\": [0.3792170153372445, 0.10804518699319077, null, 0.12312508811455242, 0.1311830304358798, null, 0.12312508811455242, 0.14387990538051088, null], \"type\": \"scatter\"}, {\"hoverinfo\": \"none\", \"line\": {\"color\": \"rgba(255, 255, 255, 0.0)\", \"dash\": \"solid\", \"width\": 1}, \"mode\": \"lines\", \"x\": [0.6203305331304902, 0.28984763010955217, null, 0.3022263444526046, 0.3118966750994626, null, 0.3022263444526046, 0.31620768880650757, null], \"y\": [0.33991532341532626, 0.6956448759054679, null, 0.6823205118509124, 0.6629086372796141, null, 0.6823205118509124, 0.6762738840707896, null], \"type\": \"scatter\"}, {\"hoverinfo\": \"none\", \"line\": {\"color\": \"rgba(255, 255, 255, 0.0)\", \"dash\": \"solid\", \"width\": 1}, \"mode\": \"lines\", \"x\": [0.6203305331304902, 0.5526782610616999, null, 0.5573822164255222, 0.5578641033664419, null, 0.5573822164255222, 0.5658880498891575, null], \"y\": [0.33991532341532626, 0.6965916677129139, null, 0.6717914717756491, 0.6455595190624001, null, 0.6717914717756491, 0.6506383602562308, null], \"type\": \"scatter\"}, {\"hoverinfo\": \"none\", \"line\": {\"color\": \"rgba(255, 255, 255, 0.0)\", \"dash\": \"solid\", \"width\": 1}, \"mode\": \"lines\", \"x\": [0.8367228626947864, 0.5526782610616999, null, 0.5619776503577483, 0.5676250349363824, null, 0.5619776503577483, 0.5740983576213123, null], \"y\": [0.08547172834581584, 0.6965916677129139, null, 0.6765840978098845, 0.6524498800998801, null, 0.6765840978098845, 0.6624903923456983, null], \"type\": \"scatter\"}, {\"hoverinfo\": \"none\", \"line\": {\"color\": \"rgba(255, 255, 255, 0.0)\", \"dash\": \"solid\", \"width\": 1}, \"mode\": \"lines\", \"x\": [0.8367228626947864, 0.043050495351714235, null, 0.05525322722380989, 0.06466951403265686, null, 0.05525322722380989, 0.06915237046382092, null], \"y\": [0.08547172834581584, 0.9866404470516293, null, 0.9727849561735734, 0.9529606805412517, null, 0.9727849561735734, 0.9661359197847874, null], \"type\": \"scatter\"}, {\"hoverinfo\": \"none\", \"line\": {\"color\": \"rgba(255, 255, 255, 0.0)\", \"dash\": \"solid\", \"width\": 1}, \"mode\": \"lines\", \"x\": [0.8367228626947864, 0.7646819435859958, null, 0.7694499058616701, 0.7699995449661209, null, 0.7694499058616701, 0.7780102834386712, null], \"y\": [0.08547172834581584, 0.45957032096768424, null, 0.4348109481130665, 0.40858344118097867, null, 0.4348109481130665, 0.4137313903733895, null], \"type\": \"scatter\"}, {\"hoverinfo\": \"none\", \"line\": {\"color\": \"rgba(255, 255, 255, 0.0)\", \"dash\": \"solid\", \"width\": 1}, \"mode\": \"lines\", \"x\": [0.5526782610616999, 0.3890199702694477, null, 0.3970194536042383, 0.4081886630699972, null, 0.3970194536042383, 0.4011346407862347, null], \"y\": [0.6965916677129139, 0.2505453207177464, null, 0.2723477011658073, 0.2888578061856602, null, 0.2723477011658073, 0.2974948153296169, null], \"type\": \"scatter\"}, {\"hoverinfo\": \"none\", \"line\": {\"color\": \"rgba(255, 255, 255, 0.0)\", \"dash\": \"solid\", \"width\": 1}, \"mode\": \"lines\", \"x\": [0.6599127034904547, 0.26715657375090585, null, 0.2780560326790374, 0.2857021986791758, null, 0.2780560326790374, 0.2912351683304389, null], \"y\": [0.11376743481814933, 0.7299982433843056, null, 0.7128970910925002, 0.6906756858898738, null, 0.7128970910925002, 0.7024437867142151, null], \"type\": \"scatter\"}, {\"hoverinfo\": \"none\", \"line\": {\"color\": \"rgba(255, 255, 255, 0.0)\", \"dash\": \"solid\", \"width\": 1}, \"mode\": \"lines\", \"x\": [0.6599127034904547, 0.1022208712794197, null, 0.11384633980052405, 0.12245752547015538, null, 0.11384633980052405, 0.1274476226936769, null], \"y\": [0.11376743481814933, 0.8536450927107452, null, 0.83822183577116, 0.8172114504427417, null, 0.83822183577116, 0.8297634208284876, null], \"type\": \"scatter\"}, {\"hoverinfo\": \"none\", \"line\": {\"color\": \"rgba(255, 255, 255, 0.0)\", \"dash\": \"solid\", \"width\": 1}, \"mode\": \"lines\", \"x\": [0.122398484876439, 0.661599770590562, null, 0.6478018738849185, 0.6334362326884646, null, 0.6478018738849185, 0.635804246689198, null], \"y\": [0.08386532725608942, 0.3698807037983498, null, 0.36256171045335217, 0.36301837511286916, null, 0.36256171045335217, 0.3481208429815478, null], \"type\": \"scatter\"}, {\"hoverinfo\": \"none\", \"line\": {\"color\": \"rgba(255, 255, 255, 0.0)\", \"dash\": \"solid\", \"width\": 1}, \"mode\": \"lines\", \"x\": [0.661599770590562, 0.8367228626947864, null, 0.8259849667605355, 0.8185477857496759, null, 0.8259849667605355, 0.8129055401665484, null], \"y\": [0.3698807037983498, 0.08547172834581584, null, 0.10291062771928432, 0.12536747558424513, null, 0.10291062771928432, 0.1137738136576517, null], \"type\": \"scatter\"}, {\"hoverinfo\": \"none\", \"line\": {\"color\": \"rgba(255, 255, 255, 0.0)\", \"dash\": \"solid\", \"width\": 1}, \"mode\": \"lines\", \"x\": [0.661599770590562, 0.7300559277230534, null, 0.7160327639330671, 0.7017115067842183, null, 0.7160327639330671, 0.7035603409587984, null], \"y\": [0.3698807037983498, 0.3977760371687721, null, 0.39206171072662893, 0.3941729822019964, null, 0.39206171072662893, 0.37903223012935217, null], \"type\": \"scatter\"}, {\"hoverinfo\": \"none\", \"line\": {\"color\": \"rgba(255, 255, 255, 0.0)\", \"dash\": \"solid\", \"width\": 1}, \"mode\": \"lines\", \"x\": [0.661599770590562, 0.4645428575234585, null, 0.47847900915961866, 0.4907597621884692, null, 0.47847900915961866, 0.4928256844827909, null], \"y\": [0.3698807037983498, 0.4601686721849013, null, 0.4537833756795849, 0.44015986622954795, null, 0.4537833756795849, 0.4552066716387918, null], \"type\": \"scatter\"}, {\"hoverinfo\": \"none\", \"line\": {\"color\": \"rgba(255, 255, 255, 0.0)\", \"dash\": \"solid\", \"width\": 1}, \"mode\": \"lines\", \"x\": [0.661599770590562, 0.3764259880841979, null, 0.38890377832586853, 0.3987192396866351, null, 0.38890377832586853, 0.40292929360814866, null], \"y\": [0.3698807037983498, 0.6672709087146321, null, 0.654258588422566, 0.6350913347243442, null, 0.654258588422566, 0.6485635533543871, null], \"type\": \"scatter\"}, {\"hoverinfo\": \"none\", \"line\": {\"color\": \"rgba(255, 255, 255, 0.0)\", \"dash\": \"solid\", \"width\": 1}, \"mode\": \"lines\", \"x\": [0.3890199702694477, 0.661599770590562, null, 0.6476276039162193, 0.6332899230181273, null, 0.6476276039162193, 0.6352690435020226, null], \"y\": [0.2505453207177464, 0.3698807037983498, null, 0.3637636919706778, 0.36546273271596036, null, 0.3637636919706778, 0.35037704201861936, null], \"type\": \"scatter\"}, {\"hoverinfo\": \"none\", \"line\": {\"color\": \"rgba(255, 255, 255, 0.0)\", \"dash\": \"solid\", \"width\": 1}, \"mode\": \"lines\", \"x\": [0.3890199702694477, 0.6439639636488322, null, 0.6299278809214987, 0.6156115664061896, null, 0.6299278809214987, 0.6174258314491927, null], \"y\": [0.2505453207177464, 0.35239664594787135, null, 0.3467891648385157, 0.3490094838206576, null, 0.3467891648385157, 0.33385478322467377, null], \"type\": \"scatter\"}, {\"hoverinfo\": \"none\", \"line\": {\"color\": \"rgba(255, 255, 255, 0.0)\", \"dash\": \"solid\", \"width\": 1}, \"mode\": \"lines\", \"x\": [0.3890199702694477, 0.3286774867333624, null, 0.3325165392351308, 0.3320925230847305, null, 0.3325165392351308, 0.3402757292627477, null], \"y\": [0.2505453207177464, 0.6480934453741629, null, 0.6228010140206728, 0.5965657268784841, null, 0.6228010140206728, 0.6007107360214741, null], \"type\": \"scatter\"}, {\"hoverinfo\": \"none\", \"line\": {\"color\": \"rgba(255, 255, 255, 0.0)\", \"dash\": \"solid\", \"width\": 1}, \"mode\": \"lines\", \"x\": [0.043050495351714235, 0.5526782610616999, null, 0.5389607799455843, 0.5271189461378292, null, 0.5389607799455843, 0.5245929932551061, null], \"y\": [0.9866404470516293, 0.6965916677129139, null, 0.7043988142638642, 0.7192626201155234, null, 0.7043988142638642, 0.7044519123643528, null], \"type\": \"scatter\"}, {\"hoverinfo\": \"none\", \"line\": {\"color\": \"rgba(255, 255, 255, 0.0)\", \"dash\": \"solid\", \"width\": 1}, \"mode\": \"lines\", \"x\": [0.6125040360135718, 0.2235189707639248, null, 0.23756037042563383, 0.25187454961399147, null, 0.23756037042563383, 0.2500747141477293, null], \"y\": [0.5403944327175897, 0.38628741419589163, null, 0.3918502967614441, 0.3895845008269937, null, 0.3918502967614441, 0.40474494209508044, null], \"type\": \"scatter\"}, {\"hoverinfo\": \"none\", \"line\": {\"color\": \"rgba(255, 255, 255, 0.0)\", \"dash\": \"solid\", \"width\": 1}, \"mode\": \"lines\", \"x\": [0.6143041660923911, 0.12111973627554982, null, 0.13355302411270276, 0.1475588969149764, null], \"y\": [0.5347162382722758, 0.01295535915756706, null, 0.026109065560277984, 0.03196319647026307, null], \"type\": \"scatter\"}, {\"hoverinfo\": \"none\", \"line\": {\"color\": \"rgba(255, 255, 255, 0.0)\", \"dash\": \"solid\", \"width\": 1}, \"mode\": \"lines\", \"x\": [0.6125040360135718, 0.7146533834750309, null, 0.7002920868046192, 0.6867001108445618, null, 0.7002920868046192, 0.6864443212838717, null], \"y\": [0.5403944327175897, 0.534771125053913, null, 0.5355617124794227, 0.5440699058689652, null, 0.5355617124794227, 0.528564073120747, null], \"type\": \"scatter\"}, {\"hoverinfo\": \"none\", \"line\": {\"color\": \"rgba(255, 255, 255, 0.0)\", \"dash\": \"solid\", \"width\": 1}, \"mode\": \"lines\", \"x\": [0.746120228185612, 0.4645428575234585, null, 0.478128721964737, 0.4897261484887807, null, 0.478128721964737, 0.4924894395148281, null], \"y\": [0.28315607044925484, 0.4601686721849013, null, 0.4516279673479918, 0.43613441948918535, null, 0.4516279673479918, 0.4508030212596959, null], \"type\": \"scatter\"}, {\"hoverinfo\": \"none\", \"line\": {\"color\": \"rgba(255, 255, 255, 0.0)\", \"dash\": \"solid\", \"width\": 1}, \"mode\": \"lines\", \"x\": [0.28984763010955217, 0.3286774867333624, null, 0.3167431699505386, 0.3077061582293548, null, 0.3167431699505386, 0.302977605080891, null], \"y\": [0.6956448759054679, 0.6480934453741629, null, 0.6627083289915556, 0.6831131768852529, null, 0.6627083289915556, 0.6702277443058969, null], \"type\": \"scatter\"}, {\"hoverinfo\": \"none\", \"line\": {\"color\": \"rgba(255, 255, 255, 0.0)\", \"dash\": \"solid\", \"width\": 1}, \"mode\": \"lines\", \"x\": [0.28984763010955217, 0.1022208712794197, null, 0.11526905404642102, 0.12595693359543075, null, 0.11526905404642102, 0.12951198472560382, null], \"y\": [0.6956448759054679, 0.8536450927107452, null, 0.8426572372526249, 0.8251161034533838, null, 0.8426572372526249, 0.8392041725391054, null], \"type\": \"scatter\"}, {\"hoverinfo\": \"none\", \"line\": {\"color\": \"rgba(255, 255, 255, 0.0)\", \"dash\": \"solid\", \"width\": 1}, \"mode\": \"lines\", \"x\": [0.28984763010955217, 0.6599127034904547, null, 0.6490231925468036, 0.6413899493804492, null, 0.6490231925468036, 0.635850141406753, null], \"y\": [0.6956448759054679, 0.11376743481814933, null, 0.13088972281116432, 0.1531259493214845, null, 0.13088972281116432, 0.14136858929493307, null], \"type\": \"scatter\"}, {\"hoverinfo\": \"none\", \"line\": {\"color\": \"rgba(255, 255, 255, 0.0)\", \"dash\": \"solid\", \"width\": 1}, \"mode\": \"lines\", \"x\": [0.28984763010955217, 0.3890199702694477, null, 0.3836034393987054, 0.3823615291006166, null, 0.3836034393987054, 0.37449613052620334, null], \"y\": [0.6956448759054679, 0.2505453207177464, null, 0.2748554809634447, 0.30100396711663335, null, 0.2748554809634447, 0.2951557610886687, null], \"type\": \"scatter\"}, {\"hoverinfo\": \"none\", \"line\": {\"color\": \"rgba(255, 255, 255, 0.0)\", \"dash\": \"solid\", \"width\": 1}, \"mode\": \"lines\", \"x\": [0.4645428575234585, 0.7919919020707024, null, 0.7777538757131398, 0.764721192233169, null, 0.7777538757131398, 0.7635823469680874, null], \"y\": [0.4601686721849013, 0.3792170153372445, null, 0.3827369273451691, 0.393785996874927, null, 0.3827369273451691, 0.3784132585747748, null], \"type\": \"scatter\"}, {\"hoverinfo\": \"none\", \"line\": {\"color\": \"rgba(255, 255, 255, 0.0)\", \"dash\": \"solid\", \"width\": 1}, \"mode\": \"lines\", \"x\": [0.4645428575234585, 0.122398484876439, null, 0.13470754964503462, 0.1486569115874851, null, 0.13470754964503462, 0.1442767851434838, null], \"y\": [0.4601686721849013, 0.08386532725608942, null, 0.09740330308054222, 0.1036916021580086, null, 0.09740330308054222, 0.116981648591076, null], \"type\": \"scatter\"}, {\"hoverinfo\": \"none\", \"line\": {\"color\": \"rgba(255, 255, 255, 0.0)\", \"dash\": \"solid\", \"width\": 1}, \"mode\": \"lines\", \"x\": [0.6589911410927456, 0.11931960619673054, null, 0.1335072027877809, 0.14773152886145016, null, 0.1335072027877809, 0.1463907341469605, null], \"y\": [0.1762676117268882, 0.018633553602880992, null, 0.022777645482962308, 0.01907750292561076, null, 0.022777645482962308, 0.034395792414975486, null], \"type\": \"scatter\"}, {\"hoverinfo\": \"none\", \"line\": {\"color\": \"rgba(255, 255, 255, 0.0)\", \"dash\": \"solid\", \"width\": 1}, \"mode\": \"lines\", \"x\": [0.7300559277230534, 0.4645428575234585, null, 0.47879325478672413, 0.4918654562302439, null, 0.47879325478672413, 0.49294890232347105, null], \"y\": [0.3977760371687721, 0.4601686721849013, null, 0.4568199864323943, 0.44592781718441576, null, 0.4568199864323943, 0.4613139123004028, null], \"type\": \"scatter\"}, {\"hoverinfo\": \"none\", \"line\": {\"color\": \"rgba(255, 255, 255, 0.0)\", \"dash\": \"solid\", \"width\": 1}, \"mode\": \"lines\", \"x\": [0.5805254513338318, 0.3764259880841979, null, 0.38439620276817155, 0.38847764649985256, null, 0.38439620276817155, 0.39554323286402, null], \"y\": [0.10804518699319077, 0.6672709087146321, null, 0.6454327863210007, 0.6202673271931451, null, 0.6454327863210007, 0.6288727350956019, null], \"type\": \"scatter\"}, {\"hoverinfo\": \"none\", \"line\": {\"color\": \"rgba(255, 255, 255, 0.0)\", \"dash\": \"solid\", \"width\": 1}, \"mode\": \"lines\", \"x\": [0.5805254513338318, 0.5526782610616999, null, 0.5539155165694847, 0.5508673041329996, null, 0.5539155165694847, 0.5593277196718867, null], \"y\": [0.10804518699319077, 0.6965916677129139, null, 0.6704424451973996, 0.6447932089331663, null, 0.6704424451973996, 0.6461290685989616, null], \"type\": \"scatter\"}, {\"hoverinfo\": \"none\", \"line\": {\"color\": \"rgba(255, 255, 255, 0.0)\", \"dash\": \"solid\", \"width\": 1}, \"mode\": \"lines\", \"x\": [0.5805254513338318, 0.661599770590562, null, 0.6545259908503347, 0.6440724255361454, null, 0.6545259908503347, 0.6514638763607707, null], \"y\": [0.10804518699319077, 0.3698807037983498, null, 0.3470354083826312, 0.3290292294637116, null, 0.3470354083826312, 0.32139169867057094, null], \"type\": \"scatter\"}, {\"hoverinfo\": \"none\", \"line\": {\"color\": \"rgba(255, 255, 255, 0.0)\", \"dash\": \"solid\", \"width\": 1}, \"mode\": \"lines\", \"x\": [0.5805254513338318, 0.6203305331304902, null, 0.6160312190265257, 0.6078724969136238, null, 0.6160312190265257, 0.6159753578559682, null], \"y\": [0.10804518699319077, 0.33991532341532626, null, 0.3148712209336286, 0.2932666518431885, null, 0.3148712209336286, 0.28862470014773495, null], \"type\": \"scatter\"}, {\"hoverinfo\": \"none\", \"line\": {\"color\": \"rgba(255, 255, 255, 0.0)\", \"dash\": \"solid\", \"width\": 1}, \"mode\": \"lines\", \"x\": [0.5805254513338318, 0.4900300561762585, null, 0.5043721177504027, 0.5178194979327811, null, 0.5043721177504027, 0.5183277270701566, null], \"y\": [0.10804518699319077, 0.11795673627221848, null, 0.11638591546075663, 0.10714272067461007, null, 0.11638591546075663, 0.12262778536876841, null], \"type\": \"scatter\"}, {\"hoverinfo\": \"none\", \"line\": {\"color\": \"rgba(255, 255, 255, 0.0)\", \"dash\": \"solid\", \"width\": 1}, \"mode\": \"lines\", \"x\": [0.5805254513338318, 0.6125040360135718, null, 0.6105801871055249, 0.6045345196892521, null, 0.6105801871055249, 0.6129500083989542, null], \"y\": [0.10804518699319077, 0.5403944327175897, null, 0.514384068825257, 0.4905740049667738, null, 0.514384068825257, 0.48849683324017906, null], \"type\": \"scatter\"}, {\"hoverinfo\": \"none\", \"line\": {\"color\": \"rgba(255, 255, 255, 0.0)\", \"dash\": \"solid\", \"width\": 1}, \"mode\": \"lines\", \"x\": [0.1022208712794197, 0.3286774867333624, null, 0.3158105044741989, 0.3054075705275606, null, 0.3158105044741989, 0.30162884310661575, null], \"y\": [0.8536450927107452, 0.6480934453741629, null, 0.6597726334355051, 0.677876401776463, null, 0.6597726334355051, 0.6639839741312678, null], \"type\": \"scatter\"}, {\"hoverinfo\": \"none\", \"line\": {\"color\": \"rgba(255, 255, 255, 0.0)\", \"dash\": \"solid\", \"width\": 1}, \"mode\": \"lines\", \"x\": [0.7646819435859958, 0.11931960619673054, null, 0.13277696680644344, 0.14712070091113424, null, 0.13277696680644344, 0.1441458479773133, null], \"y\": [0.45957032096768424, 0.018633553602880992, null, 0.027828148237135426, 0.02934715163701501, null, 0.027828148237135426, 0.043877008350899374, null], \"type\": \"scatter\"}, {\"hoverinfo\": \"none\", \"line\": {\"color\": \"rgba(255, 255, 255, 0.0)\", \"dash\": \"solid\", \"width\": 1}, \"mode\": \"lines\", \"x\": [0.7646819435859958, 0.5526782610616999, null, 0.5649331436936277, 0.5744242394682462, null, 0.5649331436936277, 0.5788571210154737, null], \"y\": [0.45957032096768424, 0.6965916677129139, null, 0.6828906378485323, 0.6631857709786347, null, 0.6828906378485323, 0.6764173171823431, null], \"type\": \"scatter\"}, {\"hoverinfo\": \"none\", \"line\": {\"color\": \"rgba(255, 255, 255, 0.0)\", \"dash\": \"solid\", \"width\": 1}, \"mode\": \"lines\", \"x\": [0.7646819435859958, 0.3764259880841979, null, 0.3902147222319993, 0.4021943105898914, null, 0.3902147222319993, 0.4045808956146012, null], \"y\": [0.45957032096768424, 0.6672709087146321, null, 0.6598945165532207, 0.6454037602856084, null, 0.6598945165532207, 0.6602913996410402, null], \"type\": \"scatter\"}, {\"hoverinfo\": \"none\", \"line\": {\"color\": \"rgba(255, 255, 255, 0.0)\", \"dash\": \"solid\", \"width\": 1}, \"mode\": \"lines\", \"x\": [0.21976896563283277, 0.6125040360135718, null, 0.5981466657498182, 0.5842686672220062, null, 0.5981466657498182, 0.5845924248759287, null], \"y\": [0.5130220934181828, 0.5403944327175897, null, 0.5393937713559097, 0.5461885997554152, null, 0.5393937713559097, 0.5306870063322622, null], \"type\": \"scatter\"}, {\"hoverinfo\": \"none\", \"line\": {\"color\": \"rgba(255, 255, 255, 0.0)\", \"dash\": \"solid\", \"width\": 1}, \"mode\": \"lines\", \"x\": [0.2235189707639248, 0.5805254513338318, null, 0.5673101257542703, 0.5563512452994729, null, 0.5673101257542703, 0.5530188407254076, null], \"y\": [0.38628741419589163, 0.10804518699319077, null, 0.1183448925240151, 0.1353188432901957, null, 0.1183448925240151, 0.12105031079952512, null], \"type\": \"scatter\"}, {\"hoverinfo\": \"none\", \"line\": {\"color\": \"rgba(255, 255, 255, 0.0)\", \"dash\": \"solid\", \"width\": 1}, \"mode\": \"lines\", \"x\": [0.3156022120837657, 0.8367228626947864, null, 0.8227561423420257, 0.8104094768835775, null, 0.8227561423420257, 0.8084169726276628, null], \"y\": [0.31525065159337873, 0.08547172834581584, null, 0.0916301063724672, 0.1050533347783591, null, 0.0916301063724672, 0.08997352445195406, null], \"type\": \"scatter\"}, {\"hoverinfo\": \"none\", \"line\": {\"color\": \"rgba(255, 255, 255, 0.0)\", \"dash\": \"solid\", \"width\": 1}, \"mode\": \"lines\", \"x\": [0.3156022120837657, 0.7300559277230534, null, 0.7157727108393251, 0.7016673450267921, null, 0.7157727108393251, 0.7025875201096171, null], \"y\": [0.31525065159337873, 0.3977760371687721, null, 0.3949319850198645, 0.39992572338741655, null, 0.3949319850198645, 0.38450419306265743, null], \"type\": \"scatter\"}, {\"hoverinfo\": \"none\", \"line\": {\"color\": \"rgba(255, 255, 255, 0.0)\", \"dash\": \"solid\", \"width\": 1}, \"mode\": \"lines\", \"x\": [0.3156022120837657, 0.6203305331304902, null, 0.6059767994948613, 0.5920762091937797, null, 0.6059767994948613, 0.5924520988013311, null], \"y\": [0.31525065159337873, 0.33991532341532626, null, 0.33875353402756486, 0.3453924677181448, null, 0.33875353402756486, 0.3298948007473702, null], \"type\": \"scatter\"}, {\"hoverinfo\": \"none\", \"line\": {\"color\": \"rgba(255, 255, 255, 0.0)\", \"dash\": \"solid\", \"width\": 1}, \"mode\": \"lines\", \"x\": [0.3156022120837657, 0.3764259880841979, null, 0.372101268859142, 0.3639206383853718, null, 0.372101268859142, 0.37201877517107446, null], \"y\": [0.31525065159337873, 0.6672709087146321, null, 0.6422414075279486, 0.6206645024896235, null, 0.6422414075279486, 0.6159951209897706, null], \"type\": \"scatter\"}, {\"hoverinfo\": \"none\", \"line\": {\"color\": \"rgba(255, 255, 255, 0.0)\", \"dash\": \"solid\", \"width\": 1}, \"mode\": \"lines\", \"x\": [0.3156022120837657, 0.122398484876439, null, 0.13441427295748076, 0.14822135361828867, null, 0.13441427295748076, 0.14356543389551235, null], \"y\": [0.31525065159337873, 0.08386532725608942, null, 0.09825571745449627, 0.10551668390187853, null, 0.09825571745449627, 0.11849008070570106, null], \"type\": \"scatter\"}, {\"hoverinfo\": \"none\", \"line\": {\"color\": \"rgba(255, 255, 255, 0.0)\", \"dash\": \"solid\", \"width\": 1}, \"mode\": \"lines\", \"x\": [0.3286774867333624, 0.5526782610616999, null, 0.5384103065947159, 0.5242798727256088, null, 0.5384103065947159, 0.5252793454088379, null], \"y\": [0.6480934453741629, 0.6965916677129139, null, 0.6935025246948425, 0.6982538794277443, null, 0.6935025246948425, 0.6828488278713584, null], \"type\": \"scatter\"}, {\"hoverinfo\": \"none\", \"line\": {\"color\": \"rgba(255, 255, 255, 0.0)\", \"dash\": \"solid\", \"width\": 1}, \"mode\": \"lines\", \"x\": [0.3286774867333624, 0.661599770590562, null, 0.6485341589846367, 0.6378184129964131, null, 0.6485341589846367, 0.6342857939330937, null], \"y\": [0.6480934453741629, 0.3698807037983498, null, 0.3807992268336189, 0.39828353376216075, null, 0.3807992268336189, 0.384176646830979, null], \"type\": \"scatter\"}, {\"hoverinfo\": \"none\", \"marker\": {\"color\": \"rgba(255, 255, 255, 0.0)\", \"line\": {\"color\": \"rgba(255, 255, 255, 0.0)\", \"width\": 1}, \"size\": 20, \"symbol\": \"circle\"}, \"mode\": \"markers+text\", \"text\": [\"('Atlanta Hawks',)\"], \"textfont\": {\"color\": \"rgb(0, 0, 0)\"}, \"textposition\": \"middle center\", \"x\": [0.11931960619673054], \"y\": [0.018633553602880992], \"type\": \"scatter\"}, {\"hoverinfo\": \"none\", \"marker\": {\"color\": \"rgba(255, 255, 255, 0.0)\", \"line\": {\"color\": \"rgba(255, 255, 255, 0.0)\", \"width\": 1}, \"size\": 20, \"symbol\": \"circle\"}, \"mode\": \"markers+text\", \"text\": [\"('Boston Celtics',)\"], \"textfont\": {\"color\": \"rgb(0, 0, 0)\"}, \"textposition\": \"middle center\", \"x\": [0.6019142956893831], \"y\": [0.23551537854926619], \"type\": \"scatter\"}, {\"hoverinfo\": \"none\", \"marker\": {\"color\": \"rgba(255, 255, 255, 0.0)\", \"line\": {\"color\": \"rgba(255, 255, 255, 0.0)\", \"width\": 1}, \"size\": 20, \"symbol\": \"circle\"}, \"mode\": \"markers+text\", \"text\": [\"('Brooklyn Nets',)\"], \"textfont\": {\"color\": \"rgb(0, 0, 0)\"}, \"textposition\": \"middle center\", \"x\": [0.7146533834750309], \"y\": [0.534771125053913], \"type\": \"scatter\"}, {\"hoverinfo\": \"none\", \"marker\": {\"color\": \"rgba(255, 255, 255, 0.0)\", \"line\": {\"color\": \"rgba(255, 255, 255, 0.0)\", \"width\": 1}, \"size\": 20, \"symbol\": \"circle\"}, \"mode\": \"markers+text\", \"text\": [\"('Charlotte Hornets',)\"], \"textfont\": {\"color\": \"rgb(0, 0, 0)\"}, \"textposition\": \"middle center\", \"x\": [0.27873525345969663], \"y\": [0.764994389785598], \"type\": \"scatter\"}, {\"hoverinfo\": \"none\", \"marker\": {\"color\": \"rgba(255, 255, 255, 0.0)\", \"line\": {\"color\": \"rgba(255, 255, 255, 0.0)\", \"width\": 1}, \"size\": 20, \"symbol\": \"circle\"}, \"mode\": \"markers+text\", \"text\": [\"('Chicago Bulls',)\"], \"textfont\": {\"color\": \"rgb(0, 0, 0)\"}, \"textposition\": \"middle center\", \"x\": [0.4900300561762585], \"y\": [0.11795673627221848], \"type\": \"scatter\"}, {\"hoverinfo\": \"none\", \"marker\": {\"color\": \"rgba(255, 255, 255, 0.0)\", \"line\": {\"color\": \"rgba(255, 255, 255, 0.0)\", \"width\": 1}, \"size\": 20, \"symbol\": \"circle\"}, \"mode\": \"markers+text\", \"text\": [\"('Cleveland Cavaliers',)\"], \"textfont\": {\"color\": \"rgb(0, 0, 0)\"}, \"textposition\": \"middle center\", \"x\": [0.26715657375090585], \"y\": [0.7299982433843056], \"type\": \"scatter\"}, {\"hoverinfo\": \"none\", \"marker\": {\"color\": \"rgba(255, 255, 255, 0.0)\", \"line\": {\"color\": \"rgba(255, 255, 255, 0.0)\", \"width\": 1}, \"size\": 20, \"symbol\": \"circle\"}, \"mode\": \"markers+text\", \"text\": [\"('Dallas Mavericks',)\"], \"textfont\": {\"color\": \"rgb(0, 0, 0)\"}, \"textposition\": \"middle center\", \"x\": [0.7919919020707024], \"y\": [0.3792170153372445], \"type\": \"scatter\"}, {\"hoverinfo\": \"none\", \"marker\": {\"color\": \"rgba(255, 255, 255, 0.0)\", \"line\": {\"color\": \"rgba(255, 255, 255, 0.0)\", \"width\": 1}, \"size\": 20, \"symbol\": \"circle\"}, \"mode\": \"markers+text\", \"text\": [\"('Denver Nuggets',)\"], \"textfont\": {\"color\": \"rgb(0, 0, 0)\"}, \"textposition\": \"middle center\", \"x\": [0.6439639636488322], \"y\": [0.35239664594787135], \"type\": \"scatter\"}, {\"hoverinfo\": \"none\", \"marker\": {\"color\": \"rgba(255, 255, 255, 0.0)\", \"line\": {\"color\": \"rgba(255, 255, 255, 0.0)\", \"width\": 1}, \"size\": 20, \"symbol\": \"circle\"}, \"mode\": \"markers+text\", \"text\": [\"('Detroit Pistons',)\"], \"textfont\": {\"color\": \"rgb(0, 0, 0)\"}, \"textposition\": \"middle center\", \"x\": [0.6203305331304902], \"y\": [0.33991532341532626], \"type\": \"scatter\"}, {\"hoverinfo\": \"none\", \"marker\": {\"color\": \"rgba(255, 255, 255, 0.0)\", \"line\": {\"color\": \"rgba(255, 255, 255, 0.0)\", \"width\": 1}, \"size\": 20, \"symbol\": \"circle\"}, \"mode\": \"markers+text\", \"text\": [\"('Golden State Warriors',)\"], \"textfont\": {\"color\": \"rgb(0, 0, 0)\"}, \"textposition\": \"middle center\", \"x\": [0.8367228626947864], \"y\": [0.08547172834581584], \"type\": \"scatter\"}, {\"hoverinfo\": \"none\", \"marker\": {\"color\": \"rgba(255, 255, 255, 0.0)\", \"line\": {\"color\": \"rgba(255, 255, 255, 0.0)\", \"width\": 1}, \"size\": 20, \"symbol\": \"circle\"}, \"mode\": \"markers+text\", \"text\": [\"('Houston Rockets',)\"], \"textfont\": {\"color\": \"rgb(0, 0, 0)\"}, \"textposition\": \"middle center\", \"x\": [0.5526782610616999], \"y\": [0.6965916677129139], \"type\": \"scatter\"}, {\"hoverinfo\": \"none\", \"marker\": {\"color\": \"rgba(255, 255, 255, 0.0)\", \"line\": {\"color\": \"rgba(255, 255, 255, 0.0)\", \"width\": 1}, \"size\": 20, \"symbol\": \"circle\"}, \"mode\": \"markers+text\", \"text\": [\"('Indiana Pacers',)\"], \"textfont\": {\"color\": \"rgb(0, 0, 0)\"}, \"textposition\": \"middle center\", \"x\": [0.6599127034904547], \"y\": [0.11376743481814933], \"type\": \"scatter\"}, {\"hoverinfo\": \"none\", \"marker\": {\"color\": \"rgba(255, 255, 255, 0.0)\", \"line\": {\"color\": \"rgba(255, 255, 255, 0.0)\", \"width\": 1}, \"size\": 20, \"symbol\": \"circle\"}, \"mode\": \"markers+text\", \"text\": [\"('LA Clippers',)\"], \"textfont\": {\"color\": \"rgb(0, 0, 0)\"}, \"textposition\": \"middle center\", \"x\": [0.122398484876439], \"y\": [0.08386532725608942], \"type\": \"scatter\"}, {\"hoverinfo\": \"none\", \"marker\": {\"color\": \"rgba(255, 255, 255, 0.0)\", \"line\": {\"color\": \"rgba(255, 255, 255, 0.0)\", \"width\": 1}, \"size\": 20, \"symbol\": \"circle\"}, \"mode\": \"markers+text\", \"text\": [\"('Los Angeles Lakers',)\"], \"textfont\": {\"color\": \"rgb(0, 0, 0)\"}, \"textposition\": \"middle center\", \"x\": [0.661599770590562], \"y\": [0.3698807037983498], \"type\": \"scatter\"}, {\"hoverinfo\": \"none\", \"marker\": {\"color\": \"rgba(255, 255, 255, 0.0)\", \"line\": {\"color\": \"rgba(255, 255, 255, 0.0)\", \"width\": 1}, \"size\": 20, \"symbol\": \"circle\"}, \"mode\": \"markers+text\", \"text\": [\"('Memphis Grizzlies',)\"], \"textfont\": {\"color\": \"rgb(0, 0, 0)\"}, \"textposition\": \"middle center\", \"x\": [0.3890199702694477], \"y\": [0.2505453207177464], \"type\": \"scatter\"}, {\"hoverinfo\": \"none\", \"marker\": {\"color\": \"rgba(255, 255, 255, 0.0)\", \"line\": {\"color\": \"rgba(255, 255, 255, 0.0)\", \"width\": 1}, \"size\": 20, \"symbol\": \"circle\"}, \"mode\": \"markers+text\", \"text\": [\"('Miami Heat',)\"], \"textfont\": {\"color\": \"rgb(0, 0, 0)\"}, \"textposition\": \"middle center\", \"x\": [0.043050495351714235], \"y\": [0.9866404470516293], \"type\": \"scatter\"}, {\"hoverinfo\": \"none\", \"marker\": {\"color\": \"rgba(255, 255, 255, 0.0)\", \"line\": {\"color\": \"rgba(255, 255, 255, 0.0)\", \"width\": 1}, \"size\": 20, \"symbol\": \"circle\"}, \"mode\": \"markers+text\", \"text\": [\"('Milwaukee Bucks',)\"], \"textfont\": {\"color\": \"rgb(0, 0, 0)\"}, \"textposition\": \"middle center\", \"x\": [0.6125040360135718], \"y\": [0.5403944327175897], \"type\": \"scatter\"}, {\"hoverinfo\": \"none\", \"marker\": {\"color\": \"rgba(255, 255, 255, 0.0)\", \"line\": {\"color\": \"rgba(255, 255, 255, 0.0)\", \"width\": 1}, \"size\": 20, \"symbol\": \"circle\"}, \"mode\": \"markers+text\", \"text\": [\"('Minnesota Timberwolves',)\"], \"textfont\": {\"color\": \"rgb(0, 0, 0)\"}, \"textposition\": \"middle center\", \"x\": [0.3764259880841979], \"y\": [0.6672709087146321], \"type\": \"scatter\"}, {\"hoverinfo\": \"none\", \"marker\": {\"color\": \"rgba(255, 255, 255, 0.0)\", \"line\": {\"color\": \"rgba(255, 255, 255, 0.0)\", \"width\": 1}, \"size\": 20, \"symbol\": \"circle\"}, \"mode\": \"markers+text\", \"text\": [\"('New Orleans Pelicans',)\"], \"textfont\": {\"color\": \"rgb(0, 0, 0)\"}, \"textposition\": \"middle center\", \"x\": [0.746120228185612], \"y\": [0.28315607044925484], \"type\": \"scatter\"}, {\"hoverinfo\": \"none\", \"marker\": {\"color\": \"rgba(255, 255, 255, 0.0)\", \"line\": {\"color\": \"rgba(255, 255, 255, 0.0)\", \"width\": 1}, \"size\": 20, \"symbol\": \"circle\"}, \"mode\": \"markers+text\", \"text\": [\"('New York Knicks',)\"], \"textfont\": {\"color\": \"rgb(0, 0, 0)\"}, \"textposition\": \"middle center\", \"x\": [0.28984763010955217], \"y\": [0.6956448759054679], \"type\": \"scatter\"}, {\"hoverinfo\": \"none\", \"marker\": {\"color\": \"rgba(255, 255, 255, 0.0)\", \"line\": {\"color\": \"rgba(255, 255, 255, 0.0)\", \"width\": 1}, \"size\": 20, \"symbol\": \"circle\"}, \"mode\": \"markers+text\", \"text\": [\"('Oklahoma City Thunder',)\"], \"textfont\": {\"color\": \"rgb(0, 0, 0)\"}, \"textposition\": \"middle center\", \"x\": [0.4645428575234585], \"y\": [0.4601686721849013], \"type\": \"scatter\"}, {\"hoverinfo\": \"none\", \"marker\": {\"color\": \"rgba(255, 255, 255, 0.0)\", \"line\": {\"color\": \"rgba(255, 255, 255, 0.0)\", \"width\": 1}, \"size\": 20, \"symbol\": \"circle\"}, \"mode\": \"markers+text\", \"text\": [\"('Orlando Magic',)\"], \"textfont\": {\"color\": \"rgb(0, 0, 0)\"}, \"textposition\": \"middle center\", \"x\": [0.6589911410927456], \"y\": [0.1762676117268882], \"type\": \"scatter\"}, {\"hoverinfo\": \"none\", \"marker\": {\"color\": \"rgba(255, 255, 255, 0.0)\", \"line\": {\"color\": \"rgba(255, 255, 255, 0.0)\", \"width\": 1}, \"size\": 20, \"symbol\": \"circle\"}, \"mode\": \"markers+text\", \"text\": [\"('Philadelphia 76ers',)\"], \"textfont\": {\"color\": \"rgb(0, 0, 0)\"}, \"textposition\": \"middle center\", \"x\": [0.7300559277230534], \"y\": [0.3977760371687721], \"type\": \"scatter\"}, {\"hoverinfo\": \"none\", \"marker\": {\"color\": \"rgba(255, 255, 255, 0.0)\", \"line\": {\"color\": \"rgba(255, 255, 255, 0.0)\", \"width\": 1}, \"size\": 20, \"symbol\": \"circle\"}, \"mode\": \"markers+text\", \"text\": [\"('Phoenix Suns',)\"], \"textfont\": {\"color\": \"rgb(0, 0, 0)\"}, \"textposition\": \"middle center\", \"x\": [0.5805254513338318], \"y\": [0.10804518699319077], \"type\": \"scatter\"}, {\"hoverinfo\": \"none\", \"marker\": {\"color\": \"rgba(255, 255, 255, 0.0)\", \"line\": {\"color\": \"rgba(255, 255, 255, 0.0)\", \"width\": 1}, \"size\": 20, \"symbol\": \"circle\"}, \"mode\": \"markers+text\", \"text\": [\"('Portland Trail Blazers',)\"], \"textfont\": {\"color\": \"rgb(0, 0, 0)\"}, \"textposition\": \"middle center\", \"x\": [0.1022208712794197], \"y\": [0.8536450927107452], \"type\": \"scatter\"}, {\"hoverinfo\": \"none\", \"marker\": {\"color\": \"rgba(255, 255, 255, 0.0)\", \"line\": {\"color\": \"rgba(255, 255, 255, 0.0)\", \"width\": 1}, \"size\": 20, \"symbol\": \"circle\"}, \"mode\": \"markers+text\", \"text\": [\"('Sacramento Kings',)\"], \"textfont\": {\"color\": \"rgb(0, 0, 0)\"}, \"textposition\": \"middle center\", \"x\": [0.7646819435859958], \"y\": [0.45957032096768424], \"type\": \"scatter\"}, {\"hoverinfo\": \"none\", \"marker\": {\"color\": \"rgba(255, 255, 255, 0.0)\", \"line\": {\"color\": \"rgba(255, 255, 255, 0.0)\", \"width\": 1}, \"size\": 20, \"symbol\": \"circle\"}, \"mode\": \"markers+text\", \"text\": [\"('San Antonio Spurs',)\"], \"textfont\": {\"color\": \"rgb(0, 0, 0)\"}, \"textposition\": \"middle center\", \"x\": [0.21976896563283277], \"y\": [0.5130220934181828], \"type\": \"scatter\"}, {\"hoverinfo\": \"none\", \"marker\": {\"color\": \"rgba(255, 255, 255, 0.0)\", \"line\": {\"color\": \"rgba(255, 255, 255, 0.0)\", \"width\": 1}, \"size\": 20, \"symbol\": \"circle\"}, \"mode\": \"markers+text\", \"text\": [\"('Toronto Raptors',)\"], \"textfont\": {\"color\": \"rgb(0, 0, 0)\"}, \"textposition\": \"middle center\", \"x\": [0.2235189707639248], \"y\": [0.38628741419589163], \"type\": \"scatter\"}, {\"hoverinfo\": \"none\", \"marker\": {\"color\": \"rgba(255, 255, 255, 0.0)\", \"line\": {\"color\": \"rgba(255, 255, 255, 0.0)\", \"width\": 1}, \"size\": 20, \"symbol\": \"circle\"}, \"mode\": \"markers+text\", \"text\": [\"('Utah Jazz',)\"], \"textfont\": {\"color\": \"rgb(0, 0, 0)\"}, \"textposition\": \"middle center\", \"x\": [0.3156022120837657], \"y\": [0.31525065159337873], \"type\": \"scatter\"}, {\"hoverinfo\": \"none\", \"marker\": {\"color\": \"rgba(255, 255, 255, 0.0)\", \"line\": {\"color\": \"rgba(255, 255, 255, 0.0)\", \"width\": 1}, \"size\": 20, \"symbol\": \"circle\"}, \"mode\": \"markers+text\", \"text\": [\"('Washington Wizards',)\"], \"textfont\": {\"color\": \"rgb(0, 0, 0)\"}, \"textposition\": \"middle center\", \"x\": [0.3286774867333624], \"y\": [0.6480934453741629], \"type\": \"scatter\"}, {\"hoverinfo\": \"none\", \"mode\": \"text\", \"text\": [null, null, null, null, null, null, null, null, null, null, null, null, null, null, null, null, null, null, null, null, null, null, null, null, null, null, null, null, null, null, null, null, null, null, null, null, null, null, null, null, null, null, null, null, null, null, null, null, null, null, null, null, null, null, null, null, null, null, null, null, null, null, null, null, null], \"textfont\": {\"color\": \"rgb(0, 0, 0)\"}, \"textposition\": \"middle center\", \"x\": [0.3266532256963092, 0.15607435862772784, 0.4200647747664901, 0.35691117071105477, 0.1586601284244791, 0.24805067773376566, 0.6267718079041538, 0.4714321194169772, 0.6701196391022194, 0.5718434065512809, 0.5072593777202042, 0.3666305582717705, 0.34592260640797573, 0.2593340858524818, 0.20667048172460442, 0.3063792905221763, 0.6945136225747367, 0.4477951409522257, 0.5729284277683682, 0.6837481421468434, 0.43230199220638343, 0.7871487809311822, 0.48278403944533127, 0.4541732319781833, 0.3726238838016298, 0.3879926098248164, 0.7587076106962539, 0.6926997480440829, 0.5595759146769448, 0.511889755729223, 0.5219613337829602, 0.5134223544553116, 0.3450033027173824, 0.3021381179134773, 0.4210567020345464, 0.3749124714992476, 0.6640114882056796, 0.6006562432239856, 0.3172629472982197, 0.1900193470600839, 0.4842531434168694, 0.3527415172205503, 0.6301942281807288, 0.30088154589695526, 0.39142390669978255, 0.5954662758535646, 0.4665212302952597, 0.5522874111138422, 0.6085567811441095, 0.5867185050977834, 0.534417864776357, 0.582276311715399, 0.22184252764341886, 0.447034022816149, 0.6511799695963632, 0.5665160270226001, 0.415588724991593, 0.40766041192135544, 0.5795337184642102, 0.521272196528792, 0.4673303930715862, 0.3323126058998921, 0.22687784656285093, 0.4389868344005697, 0.5011155787717861], \"y\": [0.3775480285562005, 0.2749608045447981, 0.23305574485819236, 0.307904965386805, 0.21452796293875853, 0.15833681002223832, 0.5926534412069312, 0.43463477699052316, 0.3702634157591707, 0.1729026851122254, 0.41236669968023393, 0.40944040513042945, 0.2949962181225544, 0.55221289473632, 0.36500026017295656, 0.7102571956043349, 0.22214885619781774, 0.4951670151911989, 0.5096604432459566, 0.37404383726807966, 0.5137644830189888, 0.26381104632638447, 0.4589552648163426, 0.4019720164923572, 0.4624691874109338, 0.2520786221076077, 0.24729189998347023, 0.4094454885881028, 0.3895665212232069, 0.4957817327441477, 0.33573697027731975, 0.3271117013858908, 0.44230631075925964, 0.8666747630432072, 0.43769049257865805, 0.2511230209336657, 0.5638175885513854, 0.34684409926686854, 0.693670432243084, 0.7508089338990962, 0.42459880527462, 0.4829898633668214, 0.4457024667134705, 0.24953114911959628, 0.07153308338044617, 0.40294013290457187, 0.37309828559657376, 0.40005824406324075, 0.2518851257086265, 0.2318341203390599, 0.0868012900956853, 0.32773424250631067, 0.7743743075001386, 0.21451841239194883, 0.5556941221307933, 0.53823174616171, 0.552935900085137, 0.27130768275562983, 0.22587519880298684, 0.3826055201056814, 0.3538039812324305, 0.4991610546438713, 0.17760788836330343, 0.6984068513178714, 0.532854963504167], \"type\": \"scatter\"}, {\"hoverinfo\": \"none\", \"marker\": {\"color\": \"rgba(255, 255, 255, 0.0)\", \"line\": {\"color\": \"rgba(255, 255, 255, 0.0)\", \"width\": 0}, \"size\": 0, \"symbol\": \"circle\"}, \"mode\": \"markers\", \"x\": [0.5, 0.0, 1.0, 0.5], \"y\": [0.0, 0.5, 0.5, 1.0], \"type\": \"scatter\"}], \"name\": \"0\"}, {\"data\": [{\"hoverinfo\": \"none\", \"line\": {\"color\": \"rgb(0, 0, 0)\", \"dash\": \"solid\", \"width\": 1}, \"mode\": \"lines\", \"x\": [0.11931960619673054, 0.5526782610616999, null, 0.5417653383328875, 0.5285779795073159, null, 0.5417653383328875, 0.5341016705867737, null], \"y\": [0.018633553602880992, 0.6965916677129139, null, 0.6795191933787864, 0.6691005545049208, null, 0.6795191933787864, 0.6573179168705474, null], \"type\": \"scatter\"}, {\"hoverinfo\": \"none\", \"line\": {\"color\": \"rgb(0, 0, 0)\", \"dash\": \"solid\", \"width\": 1}, \"mode\": \"lines\", \"x\": [0.11931960619673054, 0.21976896563283277, null, 0.21476944584252328, 0.20601258646315165, null, 0.21476944584252328, 0.21397385785431838, null], \"y\": [0.018633553602880992, 0.5130220934181828, null, 0.4884156120749034, 0.4676071230213606, null, 0.4884156120749034, 0.4622091621359997, null], \"type\": \"scatter\"}, {\"hoverinfo\": \"none\", \"line\": {\"color\": \"rgb(0, 0, 0)\", \"dash\": \"solid\", \"width\": 1}, \"mode\": \"lines\", \"x\": [0.11931960619673054, 0.7300559277230534, null, 0.7164521752101635, 0.7020898264371777, null, 0.7164521752101635, 0.7048222016539535, null], \"y\": [0.018633553602880992, 0.3977760371687721, null, 0.38933088607531363, 0.3886068828033578, null, 0.38933088607531363, 0.3739189673557497, null], \"type\": \"scatter\"}, {\"hoverinfo\": \"none\", \"line\": {\"color\": \"rgb(0, 0, 0)\", \"dash\": \"solid\", \"width\": 1}, \"mode\": \"lines\", \"x\": [0.11751947611791126, 0.6107039059347525, null, 0.5982706180975996, 0.584264745295326, null], \"y\": [0.024311748048194925, 0.5460726271629036, null, 0.5329189207601926, 0.5270647898502075, null], \"type\": \"scatter\"}, {\"hoverinfo\": \"none\", \"line\": {\"color\": \"rgb(0, 0, 0)\", \"dash\": \"solid\", \"width\": 1}, \"mode\": \"lines\", \"x\": [0.11931960619673054, 0.2235189707639248, null, 0.21691306628978568, 0.20683161508543302, null, 0.21691306628978568, 0.214372794318492, null], \"y\": [0.018633553602880992, 0.38628741419589163, null, 0.3629793422828454, 0.34427847459274535, null, 0.3629793422828454, 0.337146106793552, null], \"type\": \"scatter\"}, {\"hoverinfo\": \"none\", \"line\": {\"color\": \"rgb(0, 0, 0)\", \"dash\": \"solid\", \"width\": 1}, \"mode\": \"lines\", \"x\": [0.11931960619673054, 0.3890199702694477, null, 0.37602033081485964, 0.3617929800990711, null, 0.37602033081485964, 0.3654096216977584, null], \"y\": [0.018633553602880992, 0.2505453207177464, null, 0.23936710311268303, 0.23570597248699962, null, 0.23936710311268303, 0.22167031541535992, null], \"type\": \"scatter\"}, {\"hoverinfo\": \"none\", \"line\": {\"color\": \"rgb(0, 0, 0)\", \"dash\": \"solid\", \"width\": 1}, \"mode\": \"lines\", \"x\": [0.7146533834750309, 0.5526782610616999, null, 0.5652840813522743, 0.5752895609015818, null, 0.5652840813522743, 0.5793642020008579, null], \"y\": [0.534771125053913, 0.6965916677129139, null, 0.6839978776932516, 0.6651613444783402, null, 0.6839978776932516, 0.6787717966238245, null], \"type\": \"scatter\"}, {\"hoverinfo\": \"none\", \"line\": {\"color\": \"rgb(0, 0, 0)\", \"dash\": \"solid\", \"width\": 1}, \"mode\": \"lines\", \"x\": [0.7146533834750309, 0.2235189707639248, null, 0.2376939731973996, 0.2519291436081149, null, 0.2376939731973996, 0.25054259690296976, null], \"y\": [0.534771125053913, 0.38628741419589163, null, 0.3905729150858117, 0.3870146646454304, null, 0.3905729150858117, 0.4023193562748349, null], \"type\": \"scatter\"}, {\"hoverinfo\": \"none\", \"line\": {\"color\": \"rgb(0, 0, 0)\", \"dash\": \"solid\", \"width\": 1}, \"mode\": \"lines\", \"x\": [0.7146533834750309, 0.6019142956893831, null, 0.6100597231781211, 0.6213390651977954, null, 0.6100597231781211, 0.6143436293574829, null], \"y\": [0.534771125053913, 0.23551537854926619, null, 0.2571366816094463, 0.273395009142937, null, 0.2571366816094463, 0.28218959358762197, null], \"type\": \"scatter\"}, {\"hoverinfo\": \"none\", \"line\": {\"color\": \"rgb(0, 0, 0)\", \"dash\": \"solid\", \"width\": 1}, \"mode\": \"lines\", \"x\": [0.4900300561762585, 0.6589911410927456, null, 0.6448730595784812, 0.6305973319958157, null, 0.6448730595784812, 0.6321737503070937, null], \"y\": [0.11795673627221848, 0.1762676117268882, null, 0.17139526083470463, 0.1743621434134964, null, 0.17139526083470463, 0.15911890906565956, null], \"type\": \"scatter\"}, {\"hoverinfo\": \"none\", \"line\": {\"color\": \"rgb(0, 0, 0)\", \"dash\": \"solid\", \"width\": 1}, \"mode\": \"lines\", \"x\": [0.4900300561762585, 0.5526782610616999, null, 0.5498905575861232, 0.5430620701709902, null, 0.5498905575861232, 0.5513926552990946, null], \"y\": [0.11795673627221848, 0.6965916677129139, null, 0.6708437215041282, 0.6477507049399138, null, 0.6708437215041282, 0.64474083300175, null], \"type\": \"scatter\"}, {\"hoverinfo\": \"none\", \"line\": {\"color\": \"rgb(0, 0, 0)\", \"dash\": \"solid\", \"width\": 1}, \"mode\": \"lines\", \"x\": [0.4900300561762585, 0.26715657375090585, null, 0.2751143744260125, 0.27918151545432673, null, 0.2751143744260125, 0.28625198811393376, null], \"y\": [0.11795673627221848, 0.7299982433843056, null, 0.7081450185614686, 0.68297183320899, null, 0.7081450185614686, 0.6915638377573038, null], \"type\": \"scatter\"}, {\"hoverinfo\": \"none\", \"line\": {\"color\": \"rgb(0, 0, 0)\", \"dash\": \"solid\", \"width\": 1}, \"mode\": \"lines\", \"x\": [0.4900300561762585, 0.21976896563283277, null, 0.23098722418359172, 0.23905157924957163, null, 0.23098722418359172, 0.24435729259358252, null], \"y\": [0.11795673627221848, 0.5130220934181828, null, 0.4966233387472835, 0.47490085630332646, null, 0.4966233387472835, 0.4870131637645823, null], \"type\": \"scatter\"}, {\"hoverinfo\": \"none\", \"line\": {\"color\": \"rgb(0, 0, 0)\", \"dash\": \"solid\", \"width\": 1}, \"mode\": \"lines\", \"x\": [0.26715657375090585, 0.2235189707639248, null, 0.22676509845715712, 0.23400243617697405, null, 0.22676509845715712, 0.22573004920475212, null], \"y\": [0.7299982433843056, 0.38628741419589163, null, 0.41185548312546194, 0.4345291769932983, null, 0.41185548312546194, 0.43803400766741996, null], \"type\": \"scatter\"}, {\"hoverinfo\": \"none\", \"line\": {\"color\": \"rgb(0, 0, 0)\", \"dash\": \"solid\", \"width\": 1}, \"mode\": \"lines\", \"x\": [0.26715657375090585, 0.11931960619673054, null, 0.12441911510501014, 0.13326040522785915, null, 0.12441911510501014, 0.1253213188555623, null], \"y\": [0.7299982433843056, 0.018633553602880992, null, 0.043171466092506244, 0.06386046989911932, null, 0.043171466092506244, 0.06936638862251304, null], \"type\": \"scatter\"}, {\"hoverinfo\": \"none\", \"line\": {\"color\": \"rgb(0, 0, 0)\", \"dash\": \"solid\", \"width\": 1}, \"mode\": \"lines\", \"x\": [0.26715657375090585, 0.3286774867333624, null, 0.3170661005023806, 0.30847408845337315, null, 0.3170661005023806, 0.30347255063981293, null], \"y\": [0.7299982433843056, 0.6480934453741629, null, 0.6635520625786494, 0.6845886265631281, null, 0.6635520625786494, 0.6720518607679122, null], \"type\": \"scatter\"}, {\"hoverinfo\": \"none\", \"line\": {\"color\": \"rgb(0, 0, 0)\", \"dash\": \"solid\", \"width\": 1}, \"mode\": \"lines\", \"x\": [0.7919919020707024, 0.5805254513338318, null, 0.5922851285358136, 0.6059590805774158, null, 0.5922851285358136, 0.601080073956995, null], \"y\": [0.3792170153372445, 0.10804518699319077, null, 0.12312508811455242, 0.1311830304358798, null, 0.12312508811455242, 0.14387990538051088, null], \"type\": \"scatter\"}, {\"hoverinfo\": \"none\", \"line\": {\"color\": \"rgb(0, 0, 0)\", \"dash\": \"solid\", \"width\": 1}, \"mode\": \"lines\", \"x\": [0.6203305331304902, 0.28984763010955217, null, 0.3022263444526046, 0.3118966750994626, null, 0.3022263444526046, 0.31620768880650757, null], \"y\": [0.33991532341532626, 0.6956448759054679, null, 0.6823205118509124, 0.6629086372796141, null, 0.6823205118509124, 0.6762738840707896, null], \"type\": \"scatter\"}, {\"hoverinfo\": \"none\", \"line\": {\"color\": \"rgb(0, 0, 0)\", \"dash\": \"solid\", \"width\": 1}, \"mode\": \"lines\", \"x\": [0.6203305331304902, 0.5526782610616999, null, 0.5573822164255222, 0.5578641033664419, null, 0.5573822164255222, 0.5658880498891575, null], \"y\": [0.33991532341532626, 0.6965916677129139, null, 0.6717914717756491, 0.6455595190624001, null, 0.6717914717756491, 0.6506383602562308, null], \"type\": \"scatter\"}, {\"hoverinfo\": \"none\", \"line\": {\"color\": \"rgb(0, 0, 0)\", \"dash\": \"solid\", \"width\": 1}, \"mode\": \"lines\", \"x\": [0.8367228626947864, 0.5526782610616999, null, 0.5619776503577483, 0.5676250349363824, null, 0.5619776503577483, 0.5740983576213123, null], \"y\": [0.08547172834581584, 0.6965916677129139, null, 0.6765840978098845, 0.6524498800998801, null, 0.6765840978098845, 0.6624903923456983, null], \"type\": \"scatter\"}, {\"hoverinfo\": \"none\", \"line\": {\"color\": \"rgb(0, 0, 0)\", \"dash\": \"solid\", \"width\": 1}, \"mode\": \"lines\", \"x\": [0.8367228626947864, 0.043050495351714235, null, 0.05525322722380989, 0.06466951403265686, null, 0.05525322722380989, 0.06915237046382092, null], \"y\": [0.08547172834581584, 0.9866404470516293, null, 0.9727849561735734, 0.9529606805412517, null, 0.9727849561735734, 0.9661359197847874, null], \"type\": \"scatter\"}, {\"hoverinfo\": \"none\", \"line\": {\"color\": \"rgb(0, 0, 0)\", \"dash\": \"solid\", \"width\": 1}, \"mode\": \"lines\", \"x\": [0.8367228626947864, 0.7646819435859958, null, 0.7694499058616701, 0.7699995449661209, null, 0.7694499058616701, 0.7780102834386712, null], \"y\": [0.08547172834581584, 0.45957032096768424, null, 0.4348109481130665, 0.40858344118097867, null, 0.4348109481130665, 0.4137313903733895, null], \"type\": \"scatter\"}, {\"hoverinfo\": \"none\", \"line\": {\"color\": \"rgb(0, 0, 0)\", \"dash\": \"solid\", \"width\": 1}, \"mode\": \"lines\", \"x\": [0.5526782610616999, 0.3890199702694477, null, 0.3970194536042383, 0.4081886630699972, null, 0.3970194536042383, 0.4011346407862347, null], \"y\": [0.6965916677129139, 0.2505453207177464, null, 0.2723477011658073, 0.2888578061856602, null, 0.2723477011658073, 0.2974948153296169, null], \"type\": \"scatter\"}, {\"hoverinfo\": \"none\", \"line\": {\"color\": \"rgb(0, 0, 0)\", \"dash\": \"solid\", \"width\": 1}, \"mode\": \"lines\", \"x\": [0.6599127034904547, 0.26715657375090585, null, 0.2780560326790374, 0.2857021986791758, null, 0.2780560326790374, 0.2912351683304389, null], \"y\": [0.11376743481814933, 0.7299982433843056, null, 0.7128970910925002, 0.6906756858898738, null, 0.7128970910925002, 0.7024437867142151, null], \"type\": \"scatter\"}, {\"hoverinfo\": \"none\", \"line\": {\"color\": \"rgb(0, 0, 0)\", \"dash\": \"solid\", \"width\": 1}, \"mode\": \"lines\", \"x\": [0.6599127034904547, 0.1022208712794197, null, 0.11384633980052405, 0.12245752547015538, null, 0.11384633980052405, 0.1274476226936769, null], \"y\": [0.11376743481814933, 0.8536450927107452, null, 0.83822183577116, 0.8172114504427417, null, 0.83822183577116, 0.8297634208284876, null], \"type\": \"scatter\"}, {\"hoverinfo\": \"none\", \"line\": {\"color\": \"rgb(0, 0, 0)\", \"dash\": \"solid\", \"width\": 1}, \"mode\": \"lines\", \"x\": [0.122398484876439, 0.661599770590562, null, 0.6478018738849185, 0.6334362326884646, null, 0.6478018738849185, 0.635804246689198, null], \"y\": [0.08386532725608942, 0.3698807037983498, null, 0.36256171045335217, 0.36301837511286916, null, 0.36256171045335217, 0.3481208429815478, null], \"type\": \"scatter\"}, {\"hoverinfo\": \"none\", \"line\": {\"color\": \"rgb(0, 0, 0)\", \"dash\": \"solid\", \"width\": 1}, \"mode\": \"lines\", \"x\": [0.661599770590562, 0.8367228626947864, null, 0.8259849667605355, 0.8185477857496759, null, 0.8259849667605355, 0.8129055401665484, null], \"y\": [0.3698807037983498, 0.08547172834581584, null, 0.10291062771928432, 0.12536747558424513, null, 0.10291062771928432, 0.1137738136576517, null], \"type\": \"scatter\"}, {\"hoverinfo\": \"none\", \"line\": {\"color\": \"rgb(0, 0, 0)\", \"dash\": \"solid\", \"width\": 1}, \"mode\": \"lines\", \"x\": [0.661599770590562, 0.7300559277230534, null, 0.7160327639330671, 0.7017115067842183, null, 0.7160327639330671, 0.7035603409587984, null], \"y\": [0.3698807037983498, 0.3977760371687721, null, 0.39206171072662893, 0.3941729822019964, null, 0.39206171072662893, 0.37903223012935217, null], \"type\": \"scatter\"}, {\"hoverinfo\": \"none\", \"line\": {\"color\": \"rgb(0, 0, 0)\", \"dash\": \"solid\", \"width\": 1}, \"mode\": \"lines\", \"x\": [0.661599770590562, 0.4645428575234585, null, 0.47847900915961866, 0.4907597621884692, null, 0.47847900915961866, 0.4928256844827909, null], \"y\": [0.3698807037983498, 0.4601686721849013, null, 0.4537833756795849, 0.44015986622954795, null, 0.4537833756795849, 0.4552066716387918, null], \"type\": \"scatter\"}, {\"hoverinfo\": \"none\", \"line\": {\"color\": \"rgb(0, 0, 0)\", \"dash\": \"solid\", \"width\": 1}, \"mode\": \"lines\", \"x\": [0.661599770590562, 0.3764259880841979, null, 0.38890377832586853, 0.3987192396866351, null, 0.38890377832586853, 0.40292929360814866, null], \"y\": [0.3698807037983498, 0.6672709087146321, null, 0.654258588422566, 0.6350913347243442, null, 0.654258588422566, 0.6485635533543871, null], \"type\": \"scatter\"}, {\"hoverinfo\": \"none\", \"line\": {\"color\": \"rgb(0, 0, 0)\", \"dash\": \"solid\", \"width\": 1}, \"mode\": \"lines\", \"x\": [0.3890199702694477, 0.661599770590562, null, 0.6476276039162193, 0.6332899230181273, null, 0.6476276039162193, 0.6352690435020226, null], \"y\": [0.2505453207177464, 0.3698807037983498, null, 0.3637636919706778, 0.36546273271596036, null, 0.3637636919706778, 0.35037704201861936, null], \"type\": \"scatter\"}, {\"hoverinfo\": \"none\", \"line\": {\"color\": \"rgb(0, 0, 0)\", \"dash\": \"solid\", \"width\": 1}, \"mode\": \"lines\", \"x\": [0.3890199702694477, 0.6439639636488322, null, 0.6299278809214987, 0.6156115664061896, null, 0.6299278809214987, 0.6174258314491927, null], \"y\": [0.2505453207177464, 0.35239664594787135, null, 0.3467891648385157, 0.3490094838206576, null, 0.3467891648385157, 0.33385478322467377, null], \"type\": \"scatter\"}, {\"hoverinfo\": \"none\", \"line\": {\"color\": \"rgb(0, 0, 0)\", \"dash\": \"solid\", \"width\": 1}, \"mode\": \"lines\", \"x\": [0.3890199702694477, 0.3286774867333624, null, 0.3325165392351308, 0.3320925230847305, null, 0.3325165392351308, 0.3402757292627477, null], \"y\": [0.2505453207177464, 0.6480934453741629, null, 0.6228010140206728, 0.5965657268784841, null, 0.6228010140206728, 0.6007107360214741, null], \"type\": \"scatter\"}, {\"hoverinfo\": \"none\", \"line\": {\"color\": \"rgb(0, 0, 0)\", \"dash\": \"solid\", \"width\": 1}, \"mode\": \"lines\", \"x\": [0.043050495351714235, 0.5526782610616999, null, 0.5389607799455843, 0.5271189461378292, null, 0.5389607799455843, 0.5245929932551061, null], \"y\": [0.9866404470516293, 0.6965916677129139, null, 0.7043988142638642, 0.7192626201155234, null, 0.7043988142638642, 0.7044519123643528, null], \"type\": \"scatter\"}, {\"hoverinfo\": \"none\", \"line\": {\"color\": \"rgb(0, 0, 0)\", \"dash\": \"solid\", \"width\": 1}, \"mode\": \"lines\", \"x\": [0.6125040360135718, 0.2235189707639248, null, 0.23756037042563383, 0.25187454961399147, null, 0.23756037042563383, 0.2500747141477293, null], \"y\": [0.5403944327175897, 0.38628741419589163, null, 0.3918502967614441, 0.3895845008269937, null, 0.3918502967614441, 0.40474494209508044, null], \"type\": \"scatter\"}, {\"hoverinfo\": \"none\", \"line\": {\"color\": \"rgb(0, 0, 0)\", \"dash\": \"solid\", \"width\": 1}, \"mode\": \"lines\", \"x\": [0.6143041660923911, 0.12111973627554982, null, 0.13355302411270276, 0.1475588969149764, null], \"y\": [0.5347162382722758, 0.01295535915756706, null, 0.026109065560277984, 0.03196319647026307, null], \"type\": \"scatter\"}, {\"hoverinfo\": \"none\", \"line\": {\"color\": \"rgb(0, 0, 0)\", \"dash\": \"solid\", \"width\": 1}, \"mode\": \"lines\", \"x\": [0.6125040360135718, 0.7146533834750309, null, 0.7002920868046192, 0.6867001108445618, null, 0.7002920868046192, 0.6864443212838717, null], \"y\": [0.5403944327175897, 0.534771125053913, null, 0.5355617124794227, 0.5440699058689652, null, 0.5355617124794227, 0.528564073120747, null], \"type\": \"scatter\"}, {\"hoverinfo\": \"none\", \"line\": {\"color\": \"rgb(0, 0, 0)\", \"dash\": \"solid\", \"width\": 1}, \"mode\": \"lines\", \"x\": [0.746120228185612, 0.4645428575234585, null, 0.478128721964737, 0.4897261484887807, null, 0.478128721964737, 0.4924894395148281, null], \"y\": [0.28315607044925484, 0.4601686721849013, null, 0.4516279673479918, 0.43613441948918535, null, 0.4516279673479918, 0.4508030212596959, null], \"type\": \"scatter\"}, {\"hoverinfo\": \"none\", \"line\": {\"color\": \"rgb(0, 0, 0)\", \"dash\": \"solid\", \"width\": 1}, \"mode\": \"lines\", \"x\": [0.28984763010955217, 0.3286774867333624, null, 0.3167431699505386, 0.3077061582293548, null, 0.3167431699505386, 0.302977605080891, null], \"y\": [0.6956448759054679, 0.6480934453741629, null, 0.6627083289915556, 0.6831131768852529, null, 0.6627083289915556, 0.6702277443058969, null], \"type\": \"scatter\"}, {\"hoverinfo\": \"none\", \"line\": {\"color\": \"rgb(0, 0, 0)\", \"dash\": \"solid\", \"width\": 1}, \"mode\": \"lines\", \"x\": [0.28984763010955217, 0.1022208712794197, null, 0.11526905404642102, 0.12595693359543075, null, 0.11526905404642102, 0.12951198472560382, null], \"y\": [0.6956448759054679, 0.8536450927107452, null, 0.8426572372526249, 0.8251161034533838, null, 0.8426572372526249, 0.8392041725391054, null], \"type\": \"scatter\"}, {\"hoverinfo\": \"none\", \"line\": {\"color\": \"rgb(0, 0, 0)\", \"dash\": \"solid\", \"width\": 1}, \"mode\": \"lines\", \"x\": [0.28984763010955217, 0.6599127034904547, null, 0.6490231925468036, 0.6413899493804492, null, 0.6490231925468036, 0.635850141406753, null], \"y\": [0.6956448759054679, 0.11376743481814933, null, 0.13088972281116432, 0.1531259493214845, null, 0.13088972281116432, 0.14136858929493307, null], \"type\": \"scatter\"}, {\"hoverinfo\": \"none\", \"line\": {\"color\": \"rgb(0, 0, 0)\", \"dash\": \"solid\", \"width\": 1}, \"mode\": \"lines\", \"x\": [0.28984763010955217, 0.3890199702694477, null, 0.3836034393987054, 0.3823615291006166, null, 0.3836034393987054, 0.37449613052620334, null], \"y\": [0.6956448759054679, 0.2505453207177464, null, 0.2748554809634447, 0.30100396711663335, null, 0.2748554809634447, 0.2951557610886687, null], \"type\": \"scatter\"}, {\"hoverinfo\": \"none\", \"line\": {\"color\": \"rgb(0, 0, 0)\", \"dash\": \"solid\", \"width\": 1}, \"mode\": \"lines\", \"x\": [0.4645428575234585, 0.7919919020707024, null, 0.7777538757131398, 0.764721192233169, null, 0.7777538757131398, 0.7635823469680874, null], \"y\": [0.4601686721849013, 0.3792170153372445, null, 0.3827369273451691, 0.393785996874927, null, 0.3827369273451691, 0.3784132585747748, null], \"type\": \"scatter\"}, {\"hoverinfo\": \"none\", \"line\": {\"color\": \"rgb(0, 0, 0)\", \"dash\": \"solid\", \"width\": 1}, \"mode\": \"lines\", \"x\": [0.4645428575234585, 0.122398484876439, null, 0.13470754964503462, 0.1486569115874851, null, 0.13470754964503462, 0.1442767851434838, null], \"y\": [0.4601686721849013, 0.08386532725608942, null, 0.09740330308054222, 0.1036916021580086, null, 0.09740330308054222, 0.116981648591076, null], \"type\": \"scatter\"}, {\"hoverinfo\": \"none\", \"line\": {\"color\": \"rgb(0, 0, 0)\", \"dash\": \"solid\", \"width\": 1}, \"mode\": \"lines\", \"x\": [0.6589911410927456, 0.11931960619673054, null, 0.1335072027877809, 0.14773152886145016, null, 0.1335072027877809, 0.1463907341469605, null], \"y\": [0.1762676117268882, 0.018633553602880992, null, 0.022777645482962308, 0.01907750292561076, null, 0.022777645482962308, 0.034395792414975486, null], \"type\": \"scatter\"}, {\"hoverinfo\": \"none\", \"line\": {\"color\": \"rgb(0, 0, 0)\", \"dash\": \"solid\", \"width\": 1}, \"mode\": \"lines\", \"x\": [0.7300559277230534, 0.4645428575234585, null, 0.47879325478672413, 0.4918654562302439, null, 0.47879325478672413, 0.49294890232347105, null], \"y\": [0.3977760371687721, 0.4601686721849013, null, 0.4568199864323943, 0.44592781718441576, null, 0.4568199864323943, 0.4613139123004028, null], \"type\": \"scatter\"}, {\"hoverinfo\": \"none\", \"line\": {\"color\": \"rgb(0, 0, 0)\", \"dash\": \"solid\", \"width\": 1}, \"mode\": \"lines\", \"x\": [0.5805254513338318, 0.3764259880841979, null, 0.38439620276817155, 0.38847764649985256, null, 0.38439620276817155, 0.39554323286402, null], \"y\": [0.10804518699319077, 0.6672709087146321, null, 0.6454327863210007, 0.6202673271931451, null, 0.6454327863210007, 0.6288727350956019, null], \"type\": \"scatter\"}, {\"hoverinfo\": \"none\", \"line\": {\"color\": \"rgb(0, 0, 0)\", \"dash\": \"solid\", \"width\": 1}, \"mode\": \"lines\", \"x\": [0.5805254513338318, 0.5526782610616999, null, 0.5539155165694847, 0.5508673041329996, null, 0.5539155165694847, 0.5593277196718867, null], \"y\": [0.10804518699319077, 0.6965916677129139, null, 0.6704424451973996, 0.6447932089331663, null, 0.6704424451973996, 0.6461290685989616, null], \"type\": \"scatter\"}, {\"hoverinfo\": \"none\", \"line\": {\"color\": \"rgb(0, 0, 0)\", \"dash\": \"solid\", \"width\": 1}, \"mode\": \"lines\", \"x\": [0.5805254513338318, 0.661599770590562, null, 0.6545259908503347, 0.6440724255361454, null, 0.6545259908503347, 0.6514638763607707, null], \"y\": [0.10804518699319077, 0.3698807037983498, null, 0.3470354083826312, 0.3290292294637116, null, 0.3470354083826312, 0.32139169867057094, null], \"type\": \"scatter\"}, {\"hoverinfo\": \"none\", \"line\": {\"color\": \"rgb(0, 0, 0)\", \"dash\": \"solid\", \"width\": 1}, \"mode\": \"lines\", \"x\": [0.5805254513338318, 0.6203305331304902, null, 0.6160312190265257, 0.6078724969136238, null, 0.6160312190265257, 0.6159753578559682, null], \"y\": [0.10804518699319077, 0.33991532341532626, null, 0.3148712209336286, 0.2932666518431885, null, 0.3148712209336286, 0.28862470014773495, null], \"type\": \"scatter\"}, {\"hoverinfo\": \"none\", \"line\": {\"color\": \"rgb(0, 0, 0)\", \"dash\": \"solid\", \"width\": 1}, \"mode\": \"lines\", \"x\": [0.5805254513338318, 0.4900300561762585, null, 0.5043721177504027, 0.5178194979327811, null, 0.5043721177504027, 0.5183277270701566, null], \"y\": [0.10804518699319077, 0.11795673627221848, null, 0.11638591546075663, 0.10714272067461007, null, 0.11638591546075663, 0.12262778536876841, null], \"type\": \"scatter\"}, {\"hoverinfo\": \"none\", \"line\": {\"color\": \"rgb(0, 0, 0)\", \"dash\": \"solid\", \"width\": 1}, \"mode\": \"lines\", \"x\": [0.5805254513338318, 0.6125040360135718, null, 0.6105801871055249, 0.6045345196892521, null, 0.6105801871055249, 0.6129500083989542, null], \"y\": [0.10804518699319077, 0.5403944327175897, null, 0.514384068825257, 0.4905740049667738, null, 0.514384068825257, 0.48849683324017906, null], \"type\": \"scatter\"}, {\"hoverinfo\": \"none\", \"line\": {\"color\": \"rgb(0, 0, 0)\", \"dash\": \"solid\", \"width\": 1}, \"mode\": \"lines\", \"x\": [0.1022208712794197, 0.3286774867333624, null, 0.3158105044741989, 0.3054075705275606, null, 0.3158105044741989, 0.30162884310661575, null], \"y\": [0.8536450927107452, 0.6480934453741629, null, 0.6597726334355051, 0.677876401776463, null, 0.6597726334355051, 0.6639839741312678, null], \"type\": \"scatter\"}, {\"hoverinfo\": \"none\", \"line\": {\"color\": \"rgb(0, 0, 0)\", \"dash\": \"solid\", \"width\": 1}, \"mode\": \"lines\", \"x\": [0.7646819435859958, 0.11931960619673054, null, 0.13277696680644344, 0.14712070091113424, null, 0.13277696680644344, 0.1441458479773133, null], \"y\": [0.45957032096768424, 0.018633553602880992, null, 0.027828148237135426, 0.02934715163701501, null, 0.027828148237135426, 0.043877008350899374, null], \"type\": \"scatter\"}, {\"hoverinfo\": \"none\", \"line\": {\"color\": \"rgb(0, 0, 0)\", \"dash\": \"solid\", \"width\": 1}, \"mode\": \"lines\", \"x\": [0.7646819435859958, 0.5526782610616999, null, 0.5649331436936277, 0.5744242394682462, null, 0.5649331436936277, 0.5788571210154737, null], \"y\": [0.45957032096768424, 0.6965916677129139, null, 0.6828906378485323, 0.6631857709786347, null, 0.6828906378485323, 0.6764173171823431, null], \"type\": \"scatter\"}, {\"hoverinfo\": \"none\", \"line\": {\"color\": \"rgb(0, 0, 0)\", \"dash\": \"solid\", \"width\": 1}, \"mode\": \"lines\", \"x\": [0.7646819435859958, 0.3764259880841979, null, 0.3902147222319993, 0.4021943105898914, null, 0.3902147222319993, 0.4045808956146012, null], \"y\": [0.45957032096768424, 0.6672709087146321, null, 0.6598945165532207, 0.6454037602856084, null, 0.6598945165532207, 0.6602913996410402, null], \"type\": \"scatter\"}, {\"hoverinfo\": \"none\", \"line\": {\"color\": \"rgb(0, 0, 0)\", \"dash\": \"solid\", \"width\": 1}, \"mode\": \"lines\", \"x\": [0.21976896563283277, 0.6125040360135718, null, 0.5981466657498182, 0.5842686672220062, null, 0.5981466657498182, 0.5845924248759287, null], \"y\": [0.5130220934181828, 0.5403944327175897, null, 0.5393937713559097, 0.5461885997554152, null, 0.5393937713559097, 0.5306870063322622, null], \"type\": \"scatter\"}, {\"hoverinfo\": \"none\", \"line\": {\"color\": \"rgb(0, 0, 0)\", \"dash\": \"solid\", \"width\": 1}, \"mode\": \"lines\", \"x\": [0.2235189707639248, 0.5805254513338318, null, 0.5673101257542703, 0.5563512452994729, null, 0.5673101257542703, 0.5530188407254076, null], \"y\": [0.38628741419589163, 0.10804518699319077, null, 0.1183448925240151, 0.1353188432901957, null, 0.1183448925240151, 0.12105031079952512, null], \"type\": \"scatter\"}, {\"hoverinfo\": \"none\", \"line\": {\"color\": \"rgb(0, 0, 0)\", \"dash\": \"solid\", \"width\": 1}, \"mode\": \"lines\", \"x\": [0.3156022120837657, 0.8367228626947864, null, 0.8227561423420257, 0.8104094768835775, null, 0.8227561423420257, 0.8084169726276628, null], \"y\": [0.31525065159337873, 0.08547172834581584, null, 0.0916301063724672, 0.1050533347783591, null, 0.0916301063724672, 0.08997352445195406, null], \"type\": \"scatter\"}, {\"hoverinfo\": \"none\", \"line\": {\"color\": \"rgb(0, 0, 0)\", \"dash\": \"solid\", \"width\": 1}, \"mode\": \"lines\", \"x\": [0.3156022120837657, 0.7300559277230534, null, 0.7157727108393251, 0.7016673450267921, null, 0.7157727108393251, 0.7025875201096171, null], \"y\": [0.31525065159337873, 0.3977760371687721, null, 0.3949319850198645, 0.39992572338741655, null, 0.3949319850198645, 0.38450419306265743, null], \"type\": \"scatter\"}, {\"hoverinfo\": \"none\", \"line\": {\"color\": \"rgb(0, 0, 0)\", \"dash\": \"solid\", \"width\": 1}, \"mode\": \"lines\", \"x\": [0.3156022120837657, 0.6203305331304902, null, 0.6059767994948613, 0.5920762091937797, null, 0.6059767994948613, 0.5924520988013311, null], \"y\": [0.31525065159337873, 0.33991532341532626, null, 0.33875353402756486, 0.3453924677181448, null, 0.33875353402756486, 0.3298948007473702, null], \"type\": \"scatter\"}, {\"hoverinfo\": \"none\", \"line\": {\"color\": \"rgb(0, 0, 0)\", \"dash\": \"solid\", \"width\": 1}, \"mode\": \"lines\", \"x\": [0.3156022120837657, 0.3764259880841979, null, 0.372101268859142, 0.3639206383853718, null, 0.372101268859142, 0.37201877517107446, null], \"y\": [0.31525065159337873, 0.6672709087146321, null, 0.6422414075279486, 0.6206645024896235, null, 0.6422414075279486, 0.6159951209897706, null], \"type\": \"scatter\"}, {\"hoverinfo\": \"none\", \"line\": {\"color\": \"rgb(0, 0, 0)\", \"dash\": \"solid\", \"width\": 1}, \"mode\": \"lines\", \"x\": [0.3156022120837657, 0.122398484876439, null, 0.13441427295748076, 0.14822135361828867, null, 0.13441427295748076, 0.14356543389551235, null], \"y\": [0.31525065159337873, 0.08386532725608942, null, 0.09825571745449627, 0.10551668390187853, null, 0.09825571745449627, 0.11849008070570106, null], \"type\": \"scatter\"}, {\"hoverinfo\": \"none\", \"line\": {\"color\": \"rgb(0, 0, 0)\", \"dash\": \"solid\", \"width\": 1}, \"mode\": \"lines\", \"x\": [0.3286774867333624, 0.5526782610616999, null, 0.5384103065947159, 0.5242798727256088, null, 0.5384103065947159, 0.5252793454088379, null], \"y\": [0.6480934453741629, 0.6965916677129139, null, 0.6935025246948425, 0.6982538794277443, null, 0.6935025246948425, 0.6828488278713584, null], \"type\": \"scatter\"}, {\"hoverinfo\": \"none\", \"line\": {\"color\": \"rgb(0, 0, 0)\", \"dash\": \"solid\", \"width\": 1}, \"mode\": \"lines\", \"x\": [0.3286774867333624, 0.661599770590562, null, 0.6485341589846367, 0.6378184129964131, null, 0.6485341589846367, 0.6342857939330937, null], \"y\": [0.6480934453741629, 0.3698807037983498, null, 0.3807992268336189, 0.39828353376216075, null, 0.3807992268336189, 0.384176646830979, null], \"type\": \"scatter\"}, {\"hoverinfo\": \"none\", \"marker\": {\"color\": \"rgb(255, 0, 0)\", \"line\": {\"color\": \"rgb(0, 0, 0)\", \"width\": 1}, \"size\": 20, \"symbol\": \"circle\"}, \"mode\": \"markers+text\", \"text\": [\"('Atlanta Hawks',)\"], \"textfont\": {\"color\": \"rgb(0, 0, 0)\"}, \"textposition\": \"middle center\", \"x\": [0.11931960619673054], \"y\": [0.018633553602880992], \"type\": \"scatter\"}, {\"hoverinfo\": \"none\", \"marker\": {\"color\": \"rgb(255, 0, 0)\", \"line\": {\"color\": \"rgb(0, 0, 0)\", \"width\": 1}, \"size\": 20, \"symbol\": \"circle\"}, \"mode\": \"markers+text\", \"text\": [\"('Boston Celtics',)\"], \"textfont\": {\"color\": \"rgb(0, 0, 0)\"}, \"textposition\": \"middle center\", \"x\": [0.6019142956893831], \"y\": [0.23551537854926619], \"type\": \"scatter\"}, {\"hoverinfo\": \"none\", \"marker\": {\"color\": \"rgb(255, 0, 0)\", \"line\": {\"color\": \"rgb(0, 0, 0)\", \"width\": 1}, \"size\": 20, \"symbol\": \"circle\"}, \"mode\": \"markers+text\", \"text\": [\"('Brooklyn Nets',)\"], \"textfont\": {\"color\": \"rgb(0, 0, 0)\"}, \"textposition\": \"middle center\", \"x\": [0.7146533834750309], \"y\": [0.534771125053913], \"type\": \"scatter\"}, {\"hoverinfo\": \"none\", \"marker\": {\"color\": \"rgb(255, 0, 0)\", \"line\": {\"color\": \"rgb(0, 0, 0)\", \"width\": 1}, \"size\": 20, \"symbol\": \"circle\"}, \"mode\": \"markers+text\", \"text\": [\"('Charlotte Hornets',)\"], \"textfont\": {\"color\": \"rgb(0, 0, 0)\"}, \"textposition\": \"middle center\", \"x\": [0.27873525345969663], \"y\": [0.764994389785598], \"type\": \"scatter\"}, {\"hoverinfo\": \"none\", \"marker\": {\"color\": \"rgb(255, 0, 0)\", \"line\": {\"color\": \"rgb(0, 0, 0)\", \"width\": 1}, \"size\": 20, \"symbol\": \"circle\"}, \"mode\": \"markers+text\", \"text\": [\"('Chicago Bulls',)\"], \"textfont\": {\"color\": \"rgb(0, 0, 0)\"}, \"textposition\": \"middle center\", \"x\": [0.4900300561762585], \"y\": [0.11795673627221848], \"type\": \"scatter\"}, {\"hoverinfo\": \"none\", \"marker\": {\"color\": \"rgb(255, 0, 0)\", \"line\": {\"color\": \"rgb(0, 0, 0)\", \"width\": 1}, \"size\": 20, \"symbol\": \"circle\"}, \"mode\": \"markers+text\", \"text\": [\"('Cleveland Cavaliers',)\"], \"textfont\": {\"color\": \"rgb(0, 0, 0)\"}, \"textposition\": \"middle center\", \"x\": [0.26715657375090585], \"y\": [0.7299982433843056], \"type\": \"scatter\"}, {\"hoverinfo\": \"none\", \"marker\": {\"color\": \"rgb(255, 0, 0)\", \"line\": {\"color\": \"rgb(0, 0, 0)\", \"width\": 1}, \"size\": 20, \"symbol\": \"circle\"}, \"mode\": \"markers+text\", \"text\": [\"('Dallas Mavericks',)\"], \"textfont\": {\"color\": \"rgb(0, 0, 0)\"}, \"textposition\": \"middle center\", \"x\": [0.7919919020707024], \"y\": [0.3792170153372445], \"type\": \"scatter\"}, {\"hoverinfo\": \"none\", \"marker\": {\"color\": \"rgb(255, 0, 0)\", \"line\": {\"color\": \"rgb(0, 0, 0)\", \"width\": 1}, \"size\": 20, \"symbol\": \"circle\"}, \"mode\": \"markers+text\", \"text\": [\"('Denver Nuggets',)\"], \"textfont\": {\"color\": \"rgb(0, 0, 0)\"}, \"textposition\": \"middle center\", \"x\": [0.6439639636488322], \"y\": [0.35239664594787135], \"type\": \"scatter\"}, {\"hoverinfo\": \"none\", \"marker\": {\"color\": \"rgb(255, 0, 0)\", \"line\": {\"color\": \"rgb(0, 0, 0)\", \"width\": 1}, \"size\": 20, \"symbol\": \"circle\"}, \"mode\": \"markers+text\", \"text\": [\"('Detroit Pistons',)\"], \"textfont\": {\"color\": \"rgb(0, 0, 0)\"}, \"textposition\": \"middle center\", \"x\": [0.6203305331304902], \"y\": [0.33991532341532626], \"type\": \"scatter\"}, {\"hoverinfo\": \"none\", \"marker\": {\"color\": \"rgb(255, 0, 0)\", \"line\": {\"color\": \"rgb(0, 0, 0)\", \"width\": 1}, \"size\": 20, \"symbol\": \"circle\"}, \"mode\": \"markers+text\", \"text\": [\"('Golden State Warriors',)\"], \"textfont\": {\"color\": \"rgb(0, 0, 0)\"}, \"textposition\": \"middle center\", \"x\": [0.8367228626947864], \"y\": [0.08547172834581584], \"type\": \"scatter\"}, {\"hoverinfo\": \"none\", \"marker\": {\"color\": \"rgb(255, 0, 0)\", \"line\": {\"color\": \"rgb(0, 0, 0)\", \"width\": 1}, \"size\": 20, \"symbol\": \"circle\"}, \"mode\": \"markers+text\", \"text\": [\"('Houston Rockets',)\"], \"textfont\": {\"color\": \"rgb(0, 0, 0)\"}, \"textposition\": \"middle center\", \"x\": [0.5526782610616999], \"y\": [0.6965916677129139], \"type\": \"scatter\"}, {\"hoverinfo\": \"none\", \"marker\": {\"color\": \"rgb(255, 0, 0)\", \"line\": {\"color\": \"rgb(0, 0, 0)\", \"width\": 1}, \"size\": 20, \"symbol\": \"circle\"}, \"mode\": \"markers+text\", \"text\": [\"('Indiana Pacers',)\"], \"textfont\": {\"color\": \"rgb(0, 0, 0)\"}, \"textposition\": \"middle center\", \"x\": [0.6599127034904547], \"y\": [0.11376743481814933], \"type\": \"scatter\"}, {\"hoverinfo\": \"none\", \"marker\": {\"color\": \"rgb(255, 0, 0)\", \"line\": {\"color\": \"rgb(0, 0, 0)\", \"width\": 1}, \"size\": 20, \"symbol\": \"circle\"}, \"mode\": \"markers+text\", \"text\": [\"('LA Clippers',)\"], \"textfont\": {\"color\": \"rgb(0, 0, 0)\"}, \"textposition\": \"middle center\", \"x\": [0.122398484876439], \"y\": [0.08386532725608942], \"type\": \"scatter\"}, {\"hoverinfo\": \"none\", \"marker\": {\"color\": \"rgb(255, 0, 0)\", \"line\": {\"color\": \"rgb(0, 0, 0)\", \"width\": 1}, \"size\": 20, \"symbol\": \"circle\"}, \"mode\": \"markers+text\", \"text\": [\"('Los Angeles Lakers',)\"], \"textfont\": {\"color\": \"rgb(0, 0, 0)\"}, \"textposition\": \"middle center\", \"x\": [0.661599770590562], \"y\": [0.3698807037983498], \"type\": \"scatter\"}, {\"hoverinfo\": \"none\", \"marker\": {\"color\": \"rgb(255, 0, 0)\", \"line\": {\"color\": \"rgb(0, 0, 0)\", \"width\": 1}, \"size\": 20, \"symbol\": \"circle\"}, \"mode\": \"markers+text\", \"text\": [\"('Memphis Grizzlies',)\"], \"textfont\": {\"color\": \"rgb(0, 0, 0)\"}, \"textposition\": \"middle center\", \"x\": [0.3890199702694477], \"y\": [0.2505453207177464], \"type\": \"scatter\"}, {\"hoverinfo\": \"none\", \"marker\": {\"color\": \"rgb(255, 0, 0)\", \"line\": {\"color\": \"rgb(0, 0, 0)\", \"width\": 1}, \"size\": 20, \"symbol\": \"circle\"}, \"mode\": \"markers+text\", \"text\": [\"('Miami Heat',)\"], \"textfont\": {\"color\": \"rgb(0, 0, 0)\"}, \"textposition\": \"middle center\", \"x\": [0.043050495351714235], \"y\": [0.9866404470516293], \"type\": \"scatter\"}, {\"hoverinfo\": \"none\", \"marker\": {\"color\": \"rgb(255, 0, 0)\", \"line\": {\"color\": \"rgb(0, 0, 0)\", \"width\": 1}, \"size\": 20, \"symbol\": \"circle\"}, \"mode\": \"markers+text\", \"text\": [\"('Milwaukee Bucks',)\"], \"textfont\": {\"color\": \"rgb(0, 0, 0)\"}, \"textposition\": \"middle center\", \"x\": [0.6125040360135718], \"y\": [0.5403944327175897], \"type\": \"scatter\"}, {\"hoverinfo\": \"none\", \"marker\": {\"color\": \"rgb(255, 0, 0)\", \"line\": {\"color\": \"rgb(0, 0, 0)\", \"width\": 1}, \"size\": 20, \"symbol\": \"circle\"}, \"mode\": \"markers+text\", \"text\": [\"('Minnesota Timberwolves',)\"], \"textfont\": {\"color\": \"rgb(0, 0, 0)\"}, \"textposition\": \"middle center\", \"x\": [0.3764259880841979], \"y\": [0.6672709087146321], \"type\": \"scatter\"}, {\"hoverinfo\": \"none\", \"marker\": {\"color\": \"rgb(255, 0, 0)\", \"line\": {\"color\": \"rgb(0, 0, 0)\", \"width\": 1}, \"size\": 20, \"symbol\": \"circle\"}, \"mode\": \"markers+text\", \"text\": [\"('New Orleans Pelicans',)\"], \"textfont\": {\"color\": \"rgb(0, 0, 0)\"}, \"textposition\": \"middle center\", \"x\": [0.746120228185612], \"y\": [0.28315607044925484], \"type\": \"scatter\"}, {\"hoverinfo\": \"none\", \"marker\": {\"color\": \"rgb(255, 0, 0)\", \"line\": {\"color\": \"rgb(0, 0, 0)\", \"width\": 1}, \"size\": 20, \"symbol\": \"circle\"}, \"mode\": \"markers+text\", \"text\": [\"('New York Knicks',)\"], \"textfont\": {\"color\": \"rgb(0, 0, 0)\"}, \"textposition\": \"middle center\", \"x\": [0.28984763010955217], \"y\": [0.6956448759054679], \"type\": \"scatter\"}, {\"hoverinfo\": \"none\", \"marker\": {\"color\": \"rgb(255, 0, 0)\", \"line\": {\"color\": \"rgb(0, 0, 0)\", \"width\": 1}, \"size\": 20, \"symbol\": \"circle\"}, \"mode\": \"markers+text\", \"text\": [\"('Oklahoma City Thunder',)\"], \"textfont\": {\"color\": \"rgb(0, 0, 0)\"}, \"textposition\": \"middle center\", \"x\": [0.4645428575234585], \"y\": [0.4601686721849013], \"type\": \"scatter\"}, {\"hoverinfo\": \"none\", \"marker\": {\"color\": \"rgb(255, 0, 0)\", \"line\": {\"color\": \"rgb(0, 0, 0)\", \"width\": 1}, \"size\": 20, \"symbol\": \"circle\"}, \"mode\": \"markers+text\", \"text\": [\"('Orlando Magic',)\"], \"textfont\": {\"color\": \"rgb(0, 0, 0)\"}, \"textposition\": \"middle center\", \"x\": [0.6589911410927456], \"y\": [0.1762676117268882], \"type\": \"scatter\"}, {\"hoverinfo\": \"none\", \"marker\": {\"color\": \"rgb(255, 0, 0)\", \"line\": {\"color\": \"rgb(0, 0, 0)\", \"width\": 1}, \"size\": 20, \"symbol\": \"circle\"}, \"mode\": \"markers+text\", \"text\": [\"('Philadelphia 76ers',)\"], \"textfont\": {\"color\": \"rgb(0, 0, 0)\"}, \"textposition\": \"middle center\", \"x\": [0.7300559277230534], \"y\": [0.3977760371687721], \"type\": \"scatter\"}, {\"hoverinfo\": \"none\", \"marker\": {\"color\": \"rgb(255, 0, 0)\", \"line\": {\"color\": \"rgb(0, 0, 0)\", \"width\": 1}, \"size\": 20, \"symbol\": \"circle\"}, \"mode\": \"markers+text\", \"text\": [\"('Phoenix Suns',)\"], \"textfont\": {\"color\": \"rgb(0, 0, 0)\"}, \"textposition\": \"middle center\", \"x\": [0.5805254513338318], \"y\": [0.10804518699319077], \"type\": \"scatter\"}, {\"hoverinfo\": \"none\", \"marker\": {\"color\": \"rgb(255, 0, 0)\", \"line\": {\"color\": \"rgb(0, 0, 0)\", \"width\": 1}, \"size\": 20, \"symbol\": \"circle\"}, \"mode\": \"markers+text\", \"text\": [\"('Portland Trail Blazers',)\"], \"textfont\": {\"color\": \"rgb(0, 0, 0)\"}, \"textposition\": \"middle center\", \"x\": [0.1022208712794197], \"y\": [0.8536450927107452], \"type\": \"scatter\"}, {\"hoverinfo\": \"none\", \"marker\": {\"color\": \"rgb(255, 0, 0)\", \"line\": {\"color\": \"rgb(0, 0, 0)\", \"width\": 1}, \"size\": 20, \"symbol\": \"circle\"}, \"mode\": \"markers+text\", \"text\": [\"('Sacramento Kings',)\"], \"textfont\": {\"color\": \"rgb(0, 0, 0)\"}, \"textposition\": \"middle center\", \"x\": [0.7646819435859958], \"y\": [0.45957032096768424], \"type\": \"scatter\"}, {\"hoverinfo\": \"none\", \"marker\": {\"color\": \"rgb(255, 0, 0)\", \"line\": {\"color\": \"rgb(0, 0, 0)\", \"width\": 1}, \"size\": 20, \"symbol\": \"circle\"}, \"mode\": \"markers+text\", \"text\": [\"('San Antonio Spurs',)\"], \"textfont\": {\"color\": \"rgb(0, 0, 0)\"}, \"textposition\": \"middle center\", \"x\": [0.21976896563283277], \"y\": [0.5130220934181828], \"type\": \"scatter\"}, {\"hoverinfo\": \"none\", \"marker\": {\"color\": \"rgb(255, 0, 0)\", \"line\": {\"color\": \"rgb(0, 0, 0)\", \"width\": 1}, \"size\": 20, \"symbol\": \"circle\"}, \"mode\": \"markers+text\", \"text\": [\"('Toronto Raptors',)\"], \"textfont\": {\"color\": \"rgb(0, 0, 0)\"}, \"textposition\": \"middle center\", \"x\": [0.2235189707639248], \"y\": [0.38628741419589163], \"type\": \"scatter\"}, {\"hoverinfo\": \"none\", \"marker\": {\"color\": \"rgb(255, 0, 0)\", \"line\": {\"color\": \"rgb(0, 0, 0)\", \"width\": 1}, \"size\": 20, \"symbol\": \"circle\"}, \"mode\": \"markers+text\", \"text\": [\"('Utah Jazz',)\"], \"textfont\": {\"color\": \"rgb(0, 0, 0)\"}, \"textposition\": \"middle center\", \"x\": [0.3156022120837657], \"y\": [0.31525065159337873], \"type\": \"scatter\"}, {\"hoverinfo\": \"none\", \"marker\": {\"color\": \"rgb(255, 0, 0)\", \"line\": {\"color\": \"rgb(0, 0, 0)\", \"width\": 1}, \"size\": 20, \"symbol\": \"circle\"}, \"mode\": \"markers+text\", \"text\": [\"('Washington Wizards',)\"], \"textfont\": {\"color\": \"rgb(0, 0, 0)\"}, \"textposition\": \"middle center\", \"x\": [0.3286774867333624], \"y\": [0.6480934453741629], \"type\": \"scatter\"}, {\"hoverinfo\": \"none\", \"mode\": \"text\", \"text\": [null, null, null, null, null, null, null, null, null, null, null, null, null, null, null, null, null, null, null, null, null, null, null, null, null, null, null, null, null, null, null, null, null, null, null, null, null, null, null, null, null, null, null, null, null, null, null, null, null, null, null, null, null, null, null, null, null, null, null, null, null, null, null, null, null], \"textfont\": {\"color\": \"rgb(0, 0, 0)\"}, \"textposition\": \"middle center\", \"x\": [0.3266532256963092, 0.15607435862772784, 0.4200647747664901, 0.35691117071105477, 0.1586601284244791, 0.24805067773376566, 0.6267718079041538, 0.4714321194169772, 0.6701196391022194, 0.5718434065512809, 0.5072593777202042, 0.3666305582717705, 0.34592260640797573, 0.2593340858524818, 0.20667048172460442, 0.3063792905221763, 0.6945136225747367, 0.4477951409522257, 0.5729284277683682, 0.6837481421468434, 0.43230199220638343, 0.7871487809311822, 0.48278403944533127, 0.4541732319781833, 0.3726238838016298, 0.3879926098248164, 0.7587076106962539, 0.6926997480440829, 0.5595759146769448, 0.511889755729223, 0.5219613337829602, 0.5134223544553116, 0.3450033027173824, 0.3021381179134773, 0.4210567020345464, 0.3749124714992476, 0.6640114882056796, 0.6006562432239856, 0.3172629472982197, 0.1900193470600839, 0.4842531434168694, 0.3527415172205503, 0.6301942281807288, 0.30088154589695526, 0.39142390669978255, 0.5954662758535646, 0.4665212302952597, 0.5522874111138422, 0.6085567811441095, 0.5867185050977834, 0.534417864776357, 0.582276311715399, 0.22184252764341886, 0.447034022816149, 0.6511799695963632, 0.5665160270226001, 0.415588724991593, 0.40766041192135544, 0.5795337184642102, 0.521272196528792, 0.4673303930715862, 0.3323126058998921, 0.22687784656285093, 0.4389868344005697, 0.5011155787717861], \"y\": [0.3775480285562005, 0.2749608045447981, 0.23305574485819236, 0.307904965386805, 0.21452796293875853, 0.15833681002223832, 0.5926534412069312, 0.43463477699052316, 0.3702634157591707, 0.1729026851122254, 0.41236669968023393, 0.40944040513042945, 0.2949962181225544, 0.55221289473632, 0.36500026017295656, 0.7102571956043349, 0.22214885619781774, 0.4951670151911989, 0.5096604432459566, 0.37404383726807966, 0.5137644830189888, 0.26381104632638447, 0.4589552648163426, 0.4019720164923572, 0.4624691874109338, 0.2520786221076077, 0.24729189998347023, 0.4094454885881028, 0.3895665212232069, 0.4957817327441477, 0.33573697027731975, 0.3271117013858908, 0.44230631075925964, 0.8666747630432072, 0.43769049257865805, 0.2511230209336657, 0.5638175885513854, 0.34684409926686854, 0.693670432243084, 0.7508089338990962, 0.42459880527462, 0.4829898633668214, 0.4457024667134705, 0.24953114911959628, 0.07153308338044617, 0.40294013290457187, 0.37309828559657376, 0.40005824406324075, 0.2518851257086265, 0.2318341203390599, 0.0868012900956853, 0.32773424250631067, 0.7743743075001386, 0.21451841239194883, 0.5556941221307933, 0.53823174616171, 0.552935900085137, 0.27130768275562983, 0.22587519880298684, 0.3826055201056814, 0.3538039812324305, 0.4991610546438713, 0.17760788836330343, 0.6984068513178714, 0.532854963504167], \"type\": \"scatter\"}, {\"hoverinfo\": \"none\", \"marker\": {\"color\": \"rgba(255, 255, 255, 0.0)\", \"line\": {\"color\": \"rgba(255, 255, 255, 0.0)\", \"width\": 0}, \"size\": 0, \"symbol\": \"circle\"}, \"mode\": \"markers\", \"x\": [0.5, 0.0, 1.0, 0.5], \"y\": [0.0, 0.5, 0.5, 1.0], \"type\": \"scatter\"}], \"name\": \"1\"}]);\n",
       "                        }).then(function(){\n",
       "                            Plotly.animate('85f05c4f-54dd-49cb-bb98-15846f06d8d2', null);\n",
       "                        }).then(function(){\n",
       "                            \n",
       "var gd = document.getElementById('85f05c4f-54dd-49cb-bb98-15846f06d8d2');\n",
       "var x = new MutationObserver(function (mutations, observer) {{\n",
       "        var display = window.getComputedStyle(gd).display;\n",
       "        if (!display || display === 'none') {{\n",
       "            console.log([gd, 'removed!']);\n",
       "            Plotly.purge(gd);\n",
       "            observer.disconnect();\n",
       "        }}\n",
       "}});\n",
       "\n",
       "// Listen for the removal of the full notebook cells\n",
       "var notebookContainer = gd.closest('#notebook-container');\n",
       "if (notebookContainer) {{\n",
       "    x.observe(notebookContainer, {childList: true});\n",
       "}}\n",
       "\n",
       "// Listen for the clearing of the current output cell\n",
       "var outputEl = gd.closest('.output');\n",
       "if (outputEl) {{\n",
       "    x.observe(outputEl, {childList: true});\n",
       "}}\n",
       "\n",
       "                        })\n",
       "                };\n",
       "                });\n",
       "            </script>\n",
       "        </div>"
      ]
     },
     "metadata": {},
     "output_type": "display_data"
    }
   ],
   "source": [
    "a = fm.Animation()\n",
    "g = nx.DiGraph()\n",
    "a.rec(g)\n",
    "\n",
    "transfers = list_all_transfers(connection, 2019)\n",
    "teams = list_all_teams(connection)\n",
    "\n",
    "for team in teams:\n",
    "    add_node(g, team)\n",
    "\n",
    "    \n",
    "#Existem casos em que um time assina com um jogador e na mesma temporada vende ele, vamos ignorar estes casos por enquanto\n",
    "for transfer in transfers:\n",
    "    antigo = get_from_where(connection, transfer[1], transfer[3])\n",
    "    novo = get_team_name(connection, transfer[2])\n",
    "    if(antigo != -1) and (novo != -1):\n",
    "        if(antigo != novo):\n",
    "            id_antigo = get_team_id(connection, antigo)\n",
    "            id_novo = get_team_id(connection, novo)\n",
    "            weight = get_weight(connection, id_antigo, id_novo, 2019)\n",
    "            if(weight == -1):\n",
    "                weight = 0\n",
    "            add_edge(g, antigo, novo, weight)\n",
    "    #else:\n",
    "        #print(antigo, novo)\n",
    "    \n",
    "    \n",
    "a.rec(g)\n",
    "a.play()"
   ]
  },
  {
   "cell_type": "code",
   "execution_count": null,
   "metadata": {},
   "outputs": [],
   "source": [
    "\n",
    "\n",
    "\n"
   ]
  },
  {
   "cell_type": "code",
   "execution_count": 7,
   "metadata": {},
   "outputs": [
    {
     "ename": "Error",
     "evalue": "Already closed",
     "output_type": "error",
     "traceback": [
      "\u001b[1;31m---------------------------------------------------------------------------\u001b[0m",
      "\u001b[1;31mError\u001b[0m                                     Traceback (most recent call last)",
      "\u001b[1;32m<ipython-input-7-0da231f0229d>\u001b[0m in \u001b[0;36m<module>\u001b[1;34m()\u001b[0m\n\u001b[1;32m----> 1\u001b[1;33m \u001b[0mconnection\u001b[0m\u001b[1;33m.\u001b[0m\u001b[0mclose\u001b[0m\u001b[1;33m(\u001b[0m\u001b[1;33m)\u001b[0m\u001b[1;33m\u001b[0m\u001b[0m\n\u001b[0m",
      "\u001b[1;32m~\\Anaconda3\\lib\\site-packages\\pymysql\\connections.py\u001b[0m in \u001b[0;36mclose\u001b[1;34m(self)\u001b[0m\n\u001b[0;32m    352\u001b[0m         \"\"\"\n\u001b[0;32m    353\u001b[0m         \u001b[1;32mif\u001b[0m \u001b[0mself\u001b[0m\u001b[1;33m.\u001b[0m\u001b[0m_closed\u001b[0m\u001b[1;33m:\u001b[0m\u001b[1;33m\u001b[0m\u001b[0m\n\u001b[1;32m--> 354\u001b[1;33m             \u001b[1;32mraise\u001b[0m \u001b[0merr\u001b[0m\u001b[1;33m.\u001b[0m\u001b[0mError\u001b[0m\u001b[1;33m(\u001b[0m\u001b[1;34m\"Already closed\"\u001b[0m\u001b[1;33m)\u001b[0m\u001b[1;33m\u001b[0m\u001b[0m\n\u001b[0m\u001b[0;32m    355\u001b[0m         \u001b[0mself\u001b[0m\u001b[1;33m.\u001b[0m\u001b[0m_closed\u001b[0m \u001b[1;33m=\u001b[0m \u001b[1;32mTrue\u001b[0m\u001b[1;33m\u001b[0m\u001b[0m\n\u001b[0;32m    356\u001b[0m         \u001b[1;32mif\u001b[0m \u001b[0mself\u001b[0m\u001b[1;33m.\u001b[0m\u001b[0m_sock\u001b[0m \u001b[1;32mis\u001b[0m \u001b[1;32mNone\u001b[0m\u001b[1;33m:\u001b[0m\u001b[1;33m\u001b[0m\u001b[0m\n",
      "\u001b[1;31mError\u001b[0m: Already closed"
     ]
    }
   ],
   "source": [
    "connection.close()"
   ]
  },
  {
   "cell_type": "code",
   "execution_count": null,
   "metadata": {},
   "outputs": [],
   "source": []
  }
 ],
 "metadata": {
  "kernelspec": {
   "display_name": "Python 3",
   "language": "python",
   "name": "python3"
  },
  "language_info": {
   "codemirror_mode": {
    "name": "ipython",
    "version": 3
   },
   "file_extension": ".py",
   "mimetype": "text/x-python",
   "name": "python",
   "nbconvert_exporter": "python",
   "pygments_lexer": "ipython3",
   "version": "3.6.4"
  }
 },
 "nbformat": 4,
 "nbformat_minor": 2
}
