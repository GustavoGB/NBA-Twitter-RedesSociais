{
 "cells": [
  {
   "cell_type": "code",
   "execution_count": 66,
   "metadata": {},
   "outputs": [],
   "source": [
    "import pymysql\n",
    "import json\n",
    "from functools import partial\n",
    "import csv\n",
    "import networkx as nx\n",
    "import freeman as fm\n",
    "from random import random, choices\n",
    "def run_db_query(connection, query, args=None):\n",
    "    with connection.cursor() as cursor:\n",
    "        print('Executando query:')\n",
    "        cursor.execute(query, args)\n",
    "        for result in cursor:\n",
    "            print(result)\n",
    "            \n",
    "def return_db_results(connection, query, args=None):#Gambiarra para pegar o id\n",
    "    with connection.cursor() as cursor:\n",
    "        cursor.execute(query, args)\n",
    "        for result in cursor:\n",
    "            return result #retorna logo o primeiro\n",
    "\n",
    "def multiple_db_results(connection, query, args=None):#Gambiarra para pegar o id\n",
    "    with connection.cursor() as cursor:\n",
    "        cursor.execute(query, args)\n",
    "        res = cursor.fetchall()\n",
    "        return res\n",
    "\n",
    "connection = pymysql.connect(\n",
    "    host='localhost',\n",
    "    user='root',\n",
    "    password='vlm1998',\n",
    "    database='redes')\n",
    "\n",
    "db = partial(run_db_query, connection)"
   ]
  },
  {
   "cell_type": "code",
   "execution_count": 69,
   "metadata": {},
   "outputs": [],
   "source": [
    "def add_node(g, n):\n",
    "    g.add_node(n)\n",
    "    g.nodes[n]['pos'] = (random(), random())\n",
    "    g.nodes[n]['label'] = n\n",
    "    g.nodes[n]['color'] = (255, 0, 0)\n",
    "\n",
    "def add_edge(g, n, m):\n",
    "    print(\"De: \", n, \"para: \", m)\n",
    "    g.add_edge(n, m)\n",
    "\n",
    "def get_team_name(connection, id_team):\n",
    "    with connection.cursor() as cursor:\n",
    "        cursor.execute(\"SELECT nome FROM times WHERE id_time = %s\", (id_team))\n",
    "        res = cursor.fetchone()\n",
    "        if res:\n",
    "            return res\n",
    "        else:\n",
    "            return -1\n",
    "def list_all_teams(connection):\n",
    "    with connection.cursor() as cursor:\n",
    "        cursor.execute(\"SELECT nome FROM times\")\n",
    "        res = cursor.fetchall()\n",
    "        return res\n",
    "def list_all_transfers(connection):\n",
    "    with connection.cursor() as cursor:\n",
    "        cursor.execute(\"SELECT * FROM transferencia\")\n",
    "        res = cursor.fetchall()\n",
    "        return res\n",
    "def get_from_where(connection, id_jogador, ano):\n",
    "    with connection.cursor() as cursor:\n",
    "        cursor.execute(\"SELECT times.nome FROM waived INNER JOIN times USING(id_time) WHERE id_jogador = %s AND ano = %s \", (id_jogador, str(ano)))\n",
    "        res = cursor.fetchone()\n",
    "        if res:\n",
    "            return res\n",
    "        else:\n",
    "            return -1\n"
   ]
  },
  {
   "cell_type": "code",
   "execution_count": 71,
   "metadata": {
    "scrolled": true
   },
   "outputs": [
    {
     "name": "stdout",
     "output_type": "stream",
     "text": [
      "Miami Heat Houston Rockets\n",
      "De:  ('Miami Heat',) para:  ('Houston Rockets',)\n",
      "Golden State Warriors Sacramento Kings\n",
      "De:  ('Golden State Warriors',) para:  ('Sacramento Kings',)\n",
      "Cleveland Cavaliers Toronto Raptors\n",
      "De:  ('Cleveland Cavaliers',) para:  ('Toronto Raptors',)\n",
      "Oklahoma City Thunder LA Clippers\n",
      "De:  ('Oklahoma City Thunder',) para:  ('LA Clippers',)\n",
      "Philadelphia 76ers Oklahoma City Thunder\n",
      "De:  ('Philadelphia 76ers',) para:  ('Oklahoma City Thunder',)\n",
      "San Antonio Spurs Milwaukee Bucks\n",
      "De:  ('San Antonio Spurs',) para:  ('Milwaukee Bucks',)\n",
      "Phoenix Suns Milwaukee Bucks\n",
      "De:  ('Phoenix Suns',) para:  ('Milwaukee Bucks',)\n",
      "Chicago Bulls Cleveland Cavaliers\n",
      "De:  ('Chicago Bulls',) para:  ('Cleveland Cavaliers',)\n",
      "Sacramento Kings Houston Rockets\n",
      "De:  ('Sacramento Kings',) para:  ('Houston Rockets',)\n",
      "Phoenix Suns Chicago Bulls\n",
      "De:  ('Phoenix Suns',) para:  ('Chicago Bulls',)\n",
      "Phoenix Suns Los Angeles Lakers\n",
      "De:  ('Phoenix Suns',) para:  ('Los Angeles Lakers',)\n",
      "New York Knicks Portland Trail Blazers\n",
      "De:  ('New York Knicks',) para:  ('Portland Trail Blazers',)\n",
      "New York Knicks Indiana Pacers\n",
      "De:  ('New York Knicks',) para:  ('Indiana Pacers',)\n",
      "Utah Jazz Philadelphia 76ers\n",
      "De:  ('Utah Jazz',) para:  ('Philadelphia 76ers',)\n",
      "Utah Jazz Philadelphia 76ers\n",
      "De:  ('Utah Jazz',) para:  ('Philadelphia 76ers',)\n",
      "Phoenix Suns Detroit Pistons\n",
      "De:  ('Phoenix Suns',) para:  ('Detroit Pistons',)\n",
      "Memphis Grizzlies Los Angeles Lakers\n",
      "De:  ('Memphis Grizzlies',) para:  ('Los Angeles Lakers',)\n",
      "New Orleans Pelicans Oklahoma City Thunder\n",
      "De:  ('New Orleans Pelicans',) para:  ('Oklahoma City Thunder',)\n",
      "Golden State Warriors Miami Heat\n",
      "De:  ('Golden State Warriors',) para:  ('Miami Heat',)\n",
      "Toronto Raptors Phoenix Suns\n",
      "De:  ('Toronto Raptors',) para:  ('Phoenix Suns',)\n",
      "Sacramento Kings Atlanta Hawks\n",
      "De:  ('Sacramento Kings',) para:  ('Atlanta Hawks',)\n",
      "Milwaukee Bucks Atlanta Hawks\n",
      "De:  ('Milwaukee Bucks',) para:  ('Atlanta Hawks',)\n",
      "Chicago Bulls Orlando Magic\n",
      "De:  ('Chicago Bulls',) para:  ('Orlando Magic',)\n",
      "Brooklyn Nets Toronto Raptors\n",
      "De:  ('Brooklyn Nets',) para:  ('Toronto Raptors',)\n",
      "Orlando Magic Atlanta Hawks\n",
      "De:  ('Orlando Magic',) para:  ('Atlanta Hawks',)\n",
      "Washington Wizards Los Angeles Lakers\n",
      "De:  ('Washington Wizards',) para:  ('Los Angeles Lakers',)\n",
      "Milwaukee Bucks Toronto Raptors\n",
      "De:  ('Milwaukee Bucks',) para:  ('Toronto Raptors',)\n",
      "Washington Wizards Houston Rockets\n",
      "De:  ('Washington Wizards',) para:  ('Houston Rockets',)\n",
      "Sacramento Kings Minnesota Timberwolves\n",
      "De:  ('Sacramento Kings',) para:  ('Minnesota Timberwolves',)\n",
      "Dallas Mavericks Phoenix Suns\n",
      "De:  ('Dallas Mavericks',) para:  ('Phoenix Suns',)\n",
      "Detroit Pistons New York Knicks\n",
      "De:  ('Detroit Pistons',) para:  ('New York Knicks',)\n",
      "Phoenix Suns Minnesota Timberwolves\n",
      "De:  ('Phoenix Suns',) para:  ('Minnesota Timberwolves',)\n",
      "New York Knicks Washington Wizards\n",
      "De:  ('New York Knicks',) para:  ('Washington Wizards',)\n",
      "Houston Rockets Memphis Grizzlies\n",
      "De:  ('Houston Rockets',) para:  ('Memphis Grizzlies',)\n",
      "Atlanta Hawks Toronto Raptors\n",
      "De:  ('Atlanta Hawks',) para:  ('Toronto Raptors',)\n",
      "Indiana Pacers Cleveland Cavaliers\n",
      "De:  ('Indiana Pacers',) para:  ('Cleveland Cavaliers',)\n",
      "Portland Trail Blazers Washington Wizards\n",
      "De:  ('Portland Trail Blazers',) para:  ('Washington Wizards',)\n",
      "Brooklyn Nets Houston Rockets\n",
      "De:  ('Brooklyn Nets',) para:  ('Houston Rockets',)\n",
      "Cleveland Cavaliers Toronto Raptors\n",
      "De:  ('Cleveland Cavaliers',) para:  ('Toronto Raptors',)\n",
      "Phoenix Suns Houston Rockets\n",
      "De:  ('Phoenix Suns',) para:  ('Houston Rockets',)\n",
      "New York Knicks Washington Wizards\n",
      "De:  ('New York Knicks',) para:  ('Washington Wizards',)\n",
      "New York Knicks Memphis Grizzlies\n",
      "De:  ('New York Knicks',) para:  ('Memphis Grizzlies',)\n",
      "Memphis Grizzlies Denver Nuggets\n",
      "De:  ('Memphis Grizzlies',) para:  ('Denver Nuggets',)\n",
      "Golden State Warriors Houston Rockets\n",
      "De:  ('Golden State Warriors',) para:  ('Houston Rockets',)\n",
      "Cleveland Cavaliers Washington Wizards\n",
      "De:  ('Cleveland Cavaliers',) para:  ('Washington Wizards',)\n",
      "Los Angeles Lakers Minnesota Timberwolves\n",
      "De:  ('Los Angeles Lakers',) para:  ('Minnesota Timberwolves',)\n",
      "Atlanta Hawks Houston Rockets\n",
      "De:  ('Atlanta Hawks',) para:  ('Houston Rockets',)\n",
      "Atlanta Hawks Memphis Grizzlies\n",
      "De:  ('Atlanta Hawks',) para:  ('Memphis Grizzlies',)\n",
      "LA Clippers Los Angeles Lakers\n",
      "De:  ('LA Clippers',) para:  ('Los Angeles Lakers',)\n"
     ]
    },
    {
     "data": {
      "application/vnd.plotly.v1+json": {
       "config": {
        "linkText": "Export to plot.ly",
        "plotlyServerURL": "https://plot.ly",
        "showLink": false,
        "staticPlot": true
       },
       "data": [
        {
         "hoverinfo": "none",
         "line": {
          "color": "rgba(255, 255, 255, 0.0)",
          "dash": "solid",
          "width": 1
         },
         "mode": "lines",
         "type": "scatter",
         "x": [
          0.8675686494277822,
          0.2843590293998197,
          null,
          0.2977600114265353,
          0.3120936930105964,
          null,
          0.2977600114265353,
          0.3090312240829498,
          null
         ],
         "y": [
          0.4184051883646216,
          0.006471954056391782,
          null,
          0.015937349824223464,
          0.017745495290004278,
          null,
          0.015937349824223464,
          0.032214480280492036,
          null
         ]
        },
        {
         "hoverinfo": "none",
         "line": {
          "color": "rgba(255, 255, 255, 0.0)",
          "dash": "solid",
          "width": 1
         },
         "mode": "lines",
         "type": "scatter",
         "x": [
          0.8675686494277822,
          0.6724589514545904,
          null,
          0.6868156273828264,
          0.7006982540693258,
          null,
          0.6868156273828264,
          0.7003639134499172,
          null
         ],
         "y": [
          0.4184051883646216,
          0.4043614998419862,
          null,
          0.40539487074589825,
          0.3986316658012261,
          null,
          0.40539487074589825,
          0.4141325095531862,
          null
         ]
        },
        {
         "hoverinfo": "none",
         "line": {
          "color": "rgba(255, 255, 255, 0.0)",
          "dash": "solid",
          "width": 1
         },
         "mode": "lines",
         "type": "scatter",
         "x": [
          0.8675686494277822,
          0.5221180554750893,
          null,
          0.5331872511916863,
          0.5410550693556936,
          null,
          0.5331872511916863,
          0.5464690461743552,
          null
         ],
         "y": [
          0.4184051883646216,
          0.9406250143679719,
          null,
          0.923891641890662,
          0.9019299581097725,
          null,
          0.923891641890662,
          0.9138813230441428,
          null
         ]
        },
        {
         "hoverinfo": "none",
         "line": {
          "color": "rgba(255, 255, 255, 0.0)",
          "dash": "solid",
          "width": 1
         },
         "mode": "lines",
         "type": "scatter",
         "x": [
          0.45848455903048313,
          0.6708449357266852,
          null,
          0.6570357851442974,
          0.64267090678355,
          null,
          0.6570357851442974,
          0.6450158926346744,
          null
         ],
         "y": [
          0.37570346186128845,
          0.4871621262930794,
          null,
          0.47991430772731986,
          0.48044504363268736,
          null,
          0.47991430772731986,
          0.46553536073708807,
          null
         ]
        },
        {
         "hoverinfo": "none",
         "line": {
          "color": "rgba(255, 255, 255, 0.0)",
          "dash": "solid",
          "width": 1
         },
         "mode": "lines",
         "type": "scatter",
         "x": [
          0.034891532242013024,
          0.018938184382305767,
          null,
          0.02209217417809563,
          0.0209628814722854,
          null,
          0.02209217417809563,
          0.02924770996040161,
          null
         ],
         "y": [
          0.6041482586538549,
          0.7336698464258018,
          null,
          0.7080633235968865,
          0.68189780309555,
          null,
          0.7080633235968865,
          0.6853031528620417,
          null
         ]
        },
        {
         "hoverinfo": "none",
         "line": {
          "color": "rgba(255, 255, 255, 0.0)",
          "dash": "solid",
          "width": 1
         },
         "mode": "lines",
         "type": "scatter",
         "x": [
          0.034891532242013024,
          0.1285717381336141,
          null,
          0.12329329105873123,
          0.12219966065359684,
          null,
          0.12329329105873123,
          0.11430153527075773,
          null
         ],
         "y": [
          0.6041482586538549,
          0.17090404054234576,
          null,
          0.19531535191848404,
          0.22148592718522866,
          null,
          0.19531535191848404,
          0.2157868096618032,
          null
         ]
        },
        {
         "hoverinfo": "none",
         "line": {
          "color": "rgba(255, 255, 255, 0.0)",
          "dash": "solid",
          "width": 1
         },
         "mode": "lines",
         "type": "scatter",
         "x": [
          0.5221180554750893,
          0.25284826436995056,
          null,
          0.2605825555215104,
          0.2715497016058739,
          null,
          0.2605825555215104,
          0.2643931105463597,
          null
         ],
         "y": [
          0.9406250143679719,
          0.17053692797372544,
          null,
          0.19265632520753942,
          0.20961245138340134,
          null,
          0.19265632520753942,
          0.2179631336215305,
          null
         ]
        },
        {
         "hoverinfo": "none",
         "line": {
          "color": "rgba(255, 255, 255, 0.0)",
          "dash": "solid",
          "width": 1
         },
         "mode": "lines",
         "type": "scatter",
         "x": [
          0.018938184382305767,
          0.498801222263745,
          null,
          0.4858363214565184,
          0.47528045005631464,
          null,
          0.4858363214565184,
          0.47162050721864684,
          null
         ],
         "y": [
          0.7336698464258018,
          0.31498283375559344,
          null,
          0.32629488565379455,
          0.34410077654775095,
          null,
          0.32629488565379455,
          0.3301026266503064,
          null
         ]
        },
        {
         "hoverinfo": "none",
         "line": {
          "color": "rgba(255, 255, 255, 0.0)",
          "dash": "solid",
          "width": 1
         },
         "mode": "lines",
         "type": "scatter",
         "x": [
          0.018938184382305767,
          0.033384801454501734,
          null,
          0.03284143188814721,
          0.036565273622165106,
          null,
          0.03284143188814721,
          0.028079388606491656,
          null
         ],
         "y": [
          0.7336698464258018,
          0.036345095691985074,
          null,
          0.06257303857445758,
          0.08792288638398166,
          null,
          0.06257303857445758,
          0.0873362125055899,
          null
         ]
        },
        {
         "hoverinfo": "none",
         "line": {
          "color": "rgba(255, 255, 255, 0.0)",
          "dash": "solid",
          "width": 1
         },
         "mode": "lines",
         "type": "scatter",
         "x": [
          0.7686980902794368,
          0.29896656175169767,
          null,
          0.31147000950383846,
          0.3213233204991327,
          null,
          0.31147000950383846,
          0.3255066982635355,
          null
         ],
         "y": [
          0.2529713818798117,
          0.7387228229006633,
          null,
          0.725792952550322,
          0.7066906151358712,
          null,
          0.725792952550322,
          0.7201905360740841,
          null
         ]
        },
        {
         "hoverinfo": "none",
         "line": {
          "color": "rgba(255, 255, 255, 0.0)",
          "dash": "solid",
          "width": 1
         },
         "mode": "lines",
         "type": "scatter",
         "x": [
          0.6708449357266852,
          0.46795563360246895,
          null,
          0.4822509604345521,
          0.496333784554192,
          null,
          0.4822509604345521,
          0.495481831008243,
          null
         ],
         "y": [
          0.4871621262930794,
          0.4497899782459661,
          null,
          0.4524231731219749,
          0.44722145757699366,
          null,
          0.4524231731219749,
          0.46265606296301565,
          null
         ]
        },
        {
         "hoverinfo": "none",
         "line": {
          "color": "rgba(255, 255, 255, 0.0)",
          "dash": "solid",
          "width": 1
         },
         "mode": "lines",
         "type": "scatter",
         "x": [
          0.4137964301778312,
          0.498801222263745,
          null,
          0.4853386656717405,
          0.47099407963527284,
          null,
          0.4853386656717405,
          0.4739607086096874,
          null
         ],
         "y": [
          0.25708714990923776,
          0.31498283375559344,
          null,
          0.3058136575116635,
          0.3043217422678744,
          null,
          0.3058136575116635,
          0.2897862754733528,
          null
         ]
        },
        {
         "hoverinfo": "none",
         "line": {
          "color": "rgba(255, 255, 255, 0.0)",
          "dash": "solid",
          "width": 1
         },
         "mode": "lines",
         "type": "scatter",
         "x": [
          0.4137964301778312,
          0.5221180554750893,
          null,
          0.5181227324917819,
          0.5102273381847249,
          null,
          0.5181227324917819,
          0.5183843711352475,
          null
         ],
         "y": [
          0.25708714990923776,
          0.9406250143679719,
          null,
          0.915413478515011,
          0.8934848452362809,
          null,
          0.915413478515011,
          0.8891711114992771,
          null
         ]
        },
        {
         "hoverinfo": "none",
         "line": {
          "color": "rgba(255, 255, 255, 0.0)",
          "dash": "solid",
          "width": 1
         },
         "mode": "lines",
         "type": "scatter",
         "x": [
          0.25284826436995056,
          0.6708449357266852,
          null,
          0.6575728834881168,
          0.6432672590557594,
          null,
          0.6575728834881168,
          0.646519956342303,
          null
         ],
         "y": [
          0.17053692797372544,
          0.4871621262930794,
          null,
          0.47710877788123246,
          0.47466933732065125,
          null,
          0.47710877788123246,
          0.4603395572903529,
          null
         ]
        },
        {
         "hoverinfo": "none",
         "line": {
          "color": "rgba(255, 255, 255, 0.0)",
          "dash": "solid",
          "width": 1
         },
         "mode": "lines",
         "type": "scatter",
         "x": [
          0.25284826436995056,
          0.8502102235794309,
          null,
          0.836740279491424,
          0.822394504653078,
          null,
          0.836740279491424,
          0.8253493961422608,
          null
         ],
         "y": [
          0.17053692797372544,
          0.575560587466893,
          null,
          0.5664276891234621,
          0.564974419606242,
          null,
          0.5664276891234621,
          0.5504309765627736,
          null
         ]
        },
        {
         "hoverinfo": "none",
         "line": {
          "color": "rgba(255, 255, 255, 0.0)",
          "dash": "solid",
          "width": 1
         },
         "mode": "lines",
         "type": "scatter",
         "x": [
          0.033384801454501734,
          0.6708449357266852,
          null,
          0.6574461435778345,
          0.6431128813697783,
          null,
          0.6574461435778345,
          0.6461786956858772,
          null
         ],
         "y": [
          0.036345095691985074,
          0.4871621262930794,
          null,
          0.4776863906894989,
          0.475867185000289,
          null,
          0.4776863906894989,
          0.4614005644118946,
          null
         ]
        },
        {
         "hoverinfo": "none",
         "line": {
          "color": "rgba(255, 255, 255, 0.0)",
          "dash": "solid",
          "width": 1
         },
         "mode": "lines",
         "type": "scatter",
         "x": [
          0.033384801454501734,
          0.5221180554750893,
          null,
          0.512023558407075,
          0.49935844483278063,
          null,
          0.512023558407075,
          0.5054013892044785,
          null
         ],
         "y": [
          0.036345095691985074,
          0.9406250143679719,
          null,
          0.9219476460640046,
          0.9095539680153487,
          null,
          0.9219476460640046,
          0.8986549811894244,
          null
         ]
        },
        {
         "hoverinfo": "none",
         "line": {
          "color": "rgba(255, 255, 255, 0.0)",
          "dash": "solid",
          "width": 1
         },
         "mode": "lines",
         "type": "scatter",
         "x": [
          0.8685522586300654,
          0.45848455903048313,
          null,
          0.47249764732117155,
          0.48682252733333503,
          null,
          0.47249764732117155,
          0.4849471964478749,
          null
         ],
         "y": [
          0.5453194146536426,
          0.37570346186128845,
          null,
          0.3814996836176214,
          0.3794720889616937,
          null,
          0.3814996836176214,
          0.39460196255932617,
          null
         ]
        },
        {
         "hoverinfo": "none",
         "line": {
          "color": "rgba(255, 255, 255, 0.0)",
          "dash": "solid",
          "width": 1
         },
         "mode": "lines",
         "type": "scatter",
         "x": [
          0.6724589514545904,
          0.5221180554750893,
          null,
          0.528667371414693,
          0.5311449710471972,
          null,
          0.528667371414693,
          0.5387033727740197,
          null
         ],
         "y": [
          0.4043614998419862,
          0.9406250143679719,
          null,
          0.9172637116390602,
          0.8914101720126275,
          null,
          0.9172637116390602,
          0.8984814414046149,
          null
         ]
        },
        {
         "hoverinfo": "none",
         "line": {
          "color": "rgba(255, 255, 255, 0.0)",
          "dash": "solid",
          "width": 1
         },
         "mode": "lines",
         "type": "scatter",
         "x": [
          0.20335982988714008,
          0.018938184382305767,
          null,
          0.027258458597051585,
          0.03174553041303147,
          null,
          0.027258458597051585,
          0.038668709894826854,
          null
         ],
         "y": [
          0.2593766114844933,
          0.7336698464258018,
          null,
          0.7122718713556406,
          0.6873379221111203,
          null,
          0.7122718713556406,
          0.6963212878443109,
          null
         ]
        },
        {
         "hoverinfo": "none",
         "line": {
          "color": "rgba(255, 255, 255, 0.0)",
          "dash": "solid",
          "width": 1
         },
         "mode": "lines",
         "type": "scatter",
         "x": [
          0.4748962739677183,
          0.8685522586300654,
          null,
          0.8544158427345641,
          0.8401518403670534,
          null,
          0.8544158427345641,
          0.8416697772412196,
          null
         ],
         "y": [
          0.4146727453953676,
          0.5453194146536426,
          null,
          0.540627816598602,
          0.5437772767361085,
          null,
          0.540627816598602,
          0.5285142468325135,
          null
         ]
        },
        {
         "hoverinfo": "none",
         "line": {
          "color": "rgba(255, 255, 255, 0.0)",
          "dash": "solid",
          "width": 1
         },
         "mode": "lines",
         "type": "scatter",
         "x": [
          0.2605586265200922,
          0.033384801454501734,
          null,
          0.042180721666971635,
          0.05394110710674939,
          null,
          0.042180721666971635,
          0.04722646329601378,
          null
         ],
         "y": [
          0.5723479168870731,
          0.036345095691985074,
          null,
          0.05709853437502674,
          0.07217659224675899,
          null,
          0.05709853437502674,
          0.0816735110007756,
          null
         ]
        },
        {
         "hoverinfo": "none",
         "line": {
          "color": "rgba(255, 255, 255, 0.0)",
          "dash": "solid",
          "width": 1
         },
         "mode": "lines",
         "type": "scatter",
         "x": [
          0.15455978433290074,
          0.941068118585822,
          null,
          0.927196357856654,
          0.9128380918842263,
          null,
          0.927196357856654,
          0.9150502254430942,
          null
         ],
         "y": [
          0.4451772264443228,
          0.832836493690238,
          null,
          0.8259992913803759,
          0.8269561039365785,
          null,
          0.8259992913803759,
          0.811978821123883,
          null
         ]
        },
        {
         "hoverinfo": "none",
         "line": {
          "color": "rgba(255, 255, 255, 0.0)",
          "dash": "solid",
          "width": 1
         },
         "mode": "lines",
         "type": "scatter",
         "x": [
          0.15455978433290074,
          0.498801222263745,
          null,
          0.4847317767052078,
          0.4721515354115645,
          null,
          0.4847317767052078,
          0.47042990855117744,
          null
         ],
         "y": [
          0.4451772264443228,
          0.31498283375559344,
          null,
          0.32030399128668907,
          0.3329828483941058,
          null,
          0.32030399128668907,
          0.3177921260869547,
          null
         ]
        },
        {
         "hoverinfo": "none",
         "line": {
          "color": "rgba(255, 255, 255, 0.0)",
          "dash": "solid",
          "width": 1
         },
         "mode": "lines",
         "type": "scatter",
         "x": [
          0.20859398742060498,
          0.8685522586300654,
          null,
          0.8548954622530966,
          0.8431677873736535,
          null,
          0.8548954622530966,
          0.8405294653255867,
          null
         ],
         "y": [
          0.939379580126871,
          0.5453194146536426,
          null,
          0.5534738687682641,
          0.5686367096772376,
          null,
          0.5534738687682641,
          0.5538915229884873,
          null
         ]
        },
        {
         "hoverinfo": "none",
         "line": {
          "color": "rgba(255, 255, 255, 0.0)",
          "dash": "solid",
          "width": 1
         },
         "mode": "lines",
         "type": "scatter",
         "x": [
          0.498801222263745,
          0.29896656175169767,
          null,
          0.30834432900147873,
          0.31408640082604095,
          null,
          0.30834432900147873,
          0.32052010365740247,
          null
         ],
         "y": [
          0.31498283375559344,
          0.7387228229006633,
          null,
          0.7188377089647469,
          0.6947781657318409,
          null,
          0.7188377089647469,
          0.7049033023308507,
          null
         ]
        },
        {
         "hoverinfo": "none",
         "line": {
          "color": "rgba(255, 255, 255, 0.0)",
          "dash": "solid",
          "width": 1
         },
         "mode": "lines",
         "type": "scatter",
         "x": [
          0.29896656175169767,
          0.15455978433290074,
          null,
          0.1641634427920823,
          0.17649628080181545,
          null,
          0.1641634427920823,
          0.17018005549266108,
          null
         ],
         "y": [
          0.7387228229006633,
          0.4451772264443228,
          null,
          0.464699244045946,
          0.47816482459933807,
          null,
          0.464699244045946,
          0.48853385500491986,
          null
         ]
        },
        {
         "hoverinfo": "none",
         "line": {
          "color": "rgba(255, 255, 255, 0.0)",
          "dash": "solid",
          "width": 1
         },
         "mode": "lines",
         "type": "scatter",
         "x": [
          0.29896656175169767,
          0.034891532242013024,
          null,
          0.04873093106162867,
          0.06309313530398673,
          null,
          0.04873093106162867,
          0.060811292179151946,
          null
         ],
         "y": [
          0.7387228229006633,
          0.6041482586538549,
          null,
          0.611200917396507,
          0.610467408742461,
          null,
          0.611200917396507,
          0.6254097505349654,
          null
         ]
        },
        {
         "hoverinfo": "none",
         "line": {
          "color": "rgba(255, 255, 255, 0.0)",
          "dash": "solid",
          "width": 1
         },
         "mode": "lines",
         "type": "scatter",
         "x": [
          0.29896656175169767,
          0.6708449357266852,
          null,
          0.6573712397622157,
          0.6459737813771741,
          null,
          0.6573712397622157,
          0.6430248713507729,
          null
         ],
         "y": [
          0.7387228229006633,
          0.4871621262930794,
          null,
          0.4962765372938351,
          0.5122576136642456,
          null,
          0.4962765372938351,
          0.4977101197352439,
          null
         ]
        },
        {
         "hoverinfo": "none",
         "line": {
          "color": "rgba(255, 255, 255, 0.0)",
          "dash": "solid",
          "width": 1
         },
         "mode": "lines",
         "type": "scatter",
         "x": [
          0.29896656175169767,
          0.5205373591701874,
          null,
          0.5122549829790511,
          0.5078120445657056,
          null,
          0.5122549829790511,
          0.5008730090082815,
          null
         ],
         "y": [
          0.7387228229006633,
          0.1649714106502279,
          null,
          0.18641839324820295,
          0.21137870200243966,
          null,
          0.18641839324820295,
          0.2024362546089411,
          null
         ]
        },
        {
         "hoverinfo": "none",
         "line": {
          "color": "rgba(255, 255, 255, 0.0)",
          "dash": "solid",
          "width": 1
         },
         "mode": "lines",
         "type": "scatter",
         "x": [
          0.29896656175169767,
          0.46795563360246895,
          null,
          0.457465683538372,
          0.45034569840344585,
          null,
          0.457465683538372,
          0.4445428045426237,
          null
         ],
         "y": [
          0.7387228229006633,
          0.4497899782459661,
          null,
          0.4677254049520298,
          0.49052275042928134,
          null,
          0.4677254049520298,
          0.4791967946354593,
          null
         ]
        },
        {
         "hoverinfo": "none",
         "line": {
          "color": "rgba(255, 255, 255, 0.0)",
          "dash": "solid",
          "width": 1
         },
         "mode": "lines",
         "type": "scatter",
         "x": [
          0.29896656175169767,
          0.5221180554750893,
          null,
          0.5092429097937172,
          0.4950583126166657,
          null,
          0.5092429097937172,
          0.4988273140263234,
          null
         ],
         "y": [
          0.7387228229006633,
          0.9406250143679719,
          null,
          0.9289758871981035,
          0.9247976717754961,
          null,
          0.9289758871981035,
          0.9108964301170315,
          null
         ]
        },
        {
         "hoverinfo": "none",
         "line": {
          "color": "rgba(255, 255, 255, 0.0)",
          "dash": "solid",
          "width": 1
         },
         "mode": "lines",
         "type": "scatter",
         "x": [
          0.595137678663374,
          0.2605586265200922,
          null,
          0.2729688318259899,
          0.28696438832475857,
          null,
          0.2729688318259899,
          0.2826851192597498,
          null
         ],
         "y": [
          0.9289274901762686,
          0.5723479168870731,
          null,
          0.5855741654643846,
          0.5915100596176353,
          null,
          0.5855741654643846,
          0.6049093070714365,
          null
         ]
        },
        {
         "hoverinfo": "none",
         "line": {
          "color": "rgba(255, 255, 255, 0.0)",
          "dash": "solid",
          "width": 1
         },
         "mode": "lines",
         "type": "scatter",
         "x": [
          0.595137678663374,
          0.20335982988714008,
          null,
          0.21385197434699402,
          0.22677625670966825,
          null,
          0.21385197434699402,
          0.22097474888767088,
          null
         ],
         "y": [
          0.9289274901762686,
          0.2593766114844933,
          null,
          0.2773077542594097,
          0.2887738667070758,
          null,
          0.2773077542594097,
          0.3001021917809408,
          null
         ]
        },
        {
         "hoverinfo": "none",
         "line": {
          "color": "rgba(255, 255, 255, 0.0)",
          "dash": "solid",
          "width": 1
         },
         "mode": "lines",
         "type": "scatter",
         "x": [
          0.595137678663374,
          0.033384801454501734,
          null,
          0.04422558149429061,
          0.05736872180725856,
          null,
          0.04422558149429061,
          0.05179562666651235,
          null
         ],
         "y": [
          0.9289274901762686,
          0.036345095691985074,
          null,
          0.053570266756652926,
          0.06417372847078258,
          null,
          0.053570266756652926,
          0.0758784739415388,
          null
         ]
        },
        {
         "hoverinfo": "none",
         "line": {
          "color": "rgba(255, 255, 255, 0.0)",
          "dash": "solid",
          "width": 1
         },
         "mode": "lines",
         "type": "scatter",
         "x": [
          0.595137678663374,
          0.25284826436995056,
          null,
          0.26198832588097737,
          0.27399621744513514,
          null,
          0.26198832588097737,
          0.2674441028654924,
          null
         ],
         "y": [
          0.9289274901762686,
          0.17053692797372544,
          null,
          0.19078802572450568,
          0.20520039500374992,
          null,
          0.19078802572450568,
          0.2150688816976011,
          null
         ]
        },
        {
         "hoverinfo": "none",
         "line": {
          "color": "rgba(255, 255, 255, 0.0)",
          "dash": "solid",
          "width": 1
         },
         "mode": "lines",
         "type": "scatter",
         "x": [
          0.5205373591701874,
          0.595137678663374,
          null,
          0.5926145165782878,
          0.5860240526791469,
          null,
          0.5926145165782878,
          0.5943840428617065,
          null
         ],
         "y": [
          0.1649714106502279,
          0.9289274901762686,
          null,
          0.9030886596239782,
          0.8797660058063278,
          null,
          0.9030886596239782,
          0.8770417581157556,
          null
         ]
        },
        {
         "hoverinfo": "none",
         "line": {
          "color": "rgba(255, 255, 255, 0.0)",
          "dash": "solid",
          "width": 1
         },
         "mode": "lines",
         "type": "scatter",
         "x": [
          0.5266595794830784,
          0.4748962739677183,
          null,
          0.47829478096041395,
          0.4856669892507968,
          null,
          0.47829478096041395,
          0.4774160081473725,
          null
         ],
         "y": [
          0.8030971537898313,
          0.4146727453953676,
          null,
          0.44017465364716113,
          0.4627028801549795,
          null,
          0.44017465364716113,
          0.4663722341298862,
          null
         ]
        },
        {
         "hoverinfo": "none",
         "line": {
          "color": "rgba(255, 255, 255, 0.0)",
          "dash": "solid",
          "width": 1
         },
         "mode": "lines",
         "type": "scatter",
         "x": [
          0.2843590293998197,
          0.5221180554750893,
          null,
          0.5160605213224866,
          0.506423368698442,
          null,
          0.5160605213224866,
          0.5141237071263195,
          null
         ],
         "y": [
          0.006471954056391782,
          0.9406250143679719,
          null,
          0.916825017539232,
          0.8973581594406975,
          null,
          0.916825017539232,
          0.8908178648146285,
          null
         ]
        },
        {
         "hoverinfo": "none",
         "line": {
          "color": "rgba(255, 255, 255, 0.0)",
          "dash": "solid",
          "width": 1
         },
         "mode": "lines",
         "type": "scatter",
         "x": [
          0.2843590293998197,
          0.941068118585822,
          null,
          0.9292358077194441,
          0.9155233336113702,
          null,
          0.9292358077194441,
          0.9203406051848619,
          null
         ],
         "y": [
          0.006471954056391782,
          0.832836493690238,
          null,
          0.8179474015748562,
          0.8101109571932454,
          null,
          0.8179474015748562,
          0.7973356599809138,
          null
         ]
        },
        {
         "hoverinfo": "none",
         "line": {
          "color": "rgba(255, 255, 255, 0.0)",
          "dash": "solid",
          "width": 1
         },
         "mode": "lines",
         "type": "scatter",
         "x": [
          0.2843590293998197,
          0.46795563360246895,
          null,
          0.4592870389994964,
          0.4476194941814937,
          null,
          0.4592870389994964,
          0.45439173435018515,
          null
         ],
         "y": [
          0.006471954056391782,
          0.4497899782459661,
          null,
          0.4288585223043929,
          0.4135416615823307,
          null,
          0.4288585223043929,
          0.4041822157634355,
          null
         ]
        },
        {
         "hoverinfo": "none",
         "line": {
          "color": "rgba(255, 255, 255, 0.0)",
          "dash": "solid",
          "width": 1
         },
         "mode": "lines",
         "type": "scatter",
         "x": [
          0.941068118585822,
          0.498801222263745,
          null,
          0.5108974874182753,
          0.5247447638754987,
          null,
          0.5108974874182753,
          0.5201622179295747,
          null
         ],
         "y": [
          0.832836493690238,
          0.31498283375559344,
          null,
          0.3291464422777462,
          0.3361473105326732,
          null,
          0.3291464422777462,
          0.349207598100625,
          null
         ]
        },
        {
         "hoverinfo": "none",
         "line": {
          "color": "rgba(255, 255, 255, 0.0)",
          "dash": "solid",
          "width": 1
         },
         "mode": "lines",
         "type": "scatter",
         "x": [
          0.941068118585822,
          0.5221180554750893,
          null,
          0.536345457770869,
          0.549345254720324,
          null,
          0.536345457770869,
          0.5505295739386695,
          null
         ],
         "y": [
          0.832836493690238,
          0.9406250143679719,
          null,
          0.9369645527006257,
          0.9257869463305198,
          null,
          0.9369645527006257,
          0.9411482138750089,
          null
         ]
        },
        {
         "hoverinfo": "none",
         "line": {
          "color": "rgba(255, 255, 255, 0.0)",
          "dash": "solid",
          "width": 1
         },
         "mode": "lines",
         "type": "scatter",
         "x": [
          0.941068118585822,
          0.25284826436995056,
          null,
          0.26556008641737605,
          0.2796831183252613,
          null,
          0.26556008641737605,
          0.27572518939984464,
          null
         ],
         "y": [
          0.832836493690238,
          0.17053692797372544,
          null,
          0.18276998717697637,
          0.18759422410502397,
          null,
          0.18276998717697637,
          0.20131912590992768,
          null
         ]
        },
        {
         "hoverinfo": "none",
         "line": {
          "color": "rgba(255, 255, 255, 0.0)",
          "dash": "solid",
          "width": 1
         },
         "mode": "lines",
         "type": "scatter",
         "x": [
          0.1285717381336141,
          0.941068118585822,
          null,
          0.9279460941415584,
          0.9136807432089741,
          null,
          0.9279460941415584,
          0.9171395475485363,
          null
         ],
         "y": [
          0.17090404054234576,
          0.832836493690238,
          null,
          0.8221461151979379,
          0.8190171043616443,
          null,
          0.8221461151979379,
          0.8048493087217157,
          null
         ]
        },
        {
         "hoverinfo": "none",
         "line": {
          "color": "rgba(255, 255, 255, 0.0)",
          "dash": "solid",
          "width": 1
         },
         "mode": "lines",
         "type": "scatter",
         "x": [
          0.71991656933083,
          0.15455978433290074,
          null,
          0.16889521488888423,
          0.18287529826477666,
          null,
          0.16889521488888423,
          0.1823054513079062,
          null
         ],
         "y": [
          0.5146376116125279,
          0.4451772264443228,
          null,
          0.44693849393839613,
          0.44088214443698753,
          null,
          0.44693849393839613,
          0.4563600496482029,
          null
         ]
        },
        {
         "hoverinfo": "none",
         "marker": {
          "color": "rgba(255, 255, 255, 0.0)",
          "line": {
           "color": "rgba(255, 255, 255, 0.0)",
           "width": 1
          },
          "size": 20,
          "symbol": "circle"
         },
         "mode": "markers+text",
         "text": [
          "('Golden State Warriors',)"
         ],
         "textfont": {
          "color": "rgb(0, 0, 0)"
         },
         "textposition": "middle center",
         "type": "scatter",
         "x": [
          0.8675686494277822
         ],
         "y": [
          0.4184051883646216
         ]
        },
        {
         "hoverinfo": "none",
         "marker": {
          "color": "rgba(255, 255, 255, 0.0)",
          "line": {
           "color": "rgba(255, 255, 255, 0.0)",
           "width": 1
          },
          "size": 20,
          "symbol": "circle"
         },
         "mode": "markers+text",
         "text": [
          "('LA Clippers',)"
         ],
         "textfont": {
          "color": "rgb(0, 0, 0)"
         },
         "textposition": "middle center",
         "type": "scatter",
         "x": [
          0.45848455903048313
         ],
         "y": [
          0.37570346186128845
         ]
        },
        {
         "hoverinfo": "none",
         "marker": {
          "color": "rgba(255, 255, 255, 0.0)",
          "line": {
           "color": "rgba(255, 255, 255, 0.0)",
           "width": 1
          },
          "size": 20,
          "symbol": "circle"
         },
         "mode": "markers+text",
         "text": [
          "('Boston Celtics',)"
         ],
         "textfont": {
          "color": "rgb(0, 0, 0)"
         },
         "textposition": "middle center",
         "type": "scatter",
         "x": [
          0.5357097752206065
         ],
         "y": [
          0.35903305778233463
         ]
        },
        {
         "hoverinfo": "none",
         "marker": {
          "color": "rgba(255, 255, 255, 0.0)",
          "line": {
           "color": "rgba(255, 255, 255, 0.0)",
           "width": 1
          },
          "size": 20,
          "symbol": "circle"
         },
         "mode": "markers+text",
         "text": [
          "('Chicago Bulls',)"
         ],
         "textfont": {
          "color": "rgb(0, 0, 0)"
         },
         "textposition": "middle center",
         "type": "scatter",
         "x": [
          0.034891532242013024
         ],
         "y": [
          0.6041482586538549
         ]
        },
        {
         "hoverinfo": "none",
         "marker": {
          "color": "rgba(255, 255, 255, 0.0)",
          "line": {
           "color": "rgba(255, 255, 255, 0.0)",
           "width": 1
          },
          "size": 20,
          "symbol": "circle"
         },
         "mode": "markers+text",
         "text": [
          "('Houston Rockets',)"
         ],
         "textfont": {
          "color": "rgb(0, 0, 0)"
         },
         "textposition": "middle center",
         "type": "scatter",
         "x": [
          0.5221180554750893
         ],
         "y": [
          0.9406250143679719
         ]
        },
        {
         "hoverinfo": "none",
         "marker": {
          "color": "rgba(255, 255, 255, 0.0)",
          "line": {
           "color": "rgba(255, 255, 255, 0.0)",
           "width": 1
          },
          "size": 20,
          "symbol": "circle"
         },
         "mode": "markers+text",
         "text": [
          "('Cleveland Cavaliers',)"
         ],
         "textfont": {
          "color": "rgb(0, 0, 0)"
         },
         "textposition": "middle center",
         "type": "scatter",
         "x": [
          0.018938184382305767
         ],
         "y": [
          0.7336698464258018
         ]
        },
        {
         "hoverinfo": "none",
         "marker": {
          "color": "rgba(255, 255, 255, 0.0)",
          "line": {
           "color": "rgba(255, 255, 255, 0.0)",
           "width": 1
          },
          "size": 20,
          "symbol": "circle"
         },
         "mode": "markers+text",
         "text": [
          "('Dallas Mavericks',)"
         ],
         "textfont": {
          "color": "rgb(0, 0, 0)"
         },
         "textposition": "middle center",
         "type": "scatter",
         "x": [
          0.7686980902794368
         ],
         "y": [
          0.2529713818798117
         ]
        },
        {
         "hoverinfo": "none",
         "marker": {
          "color": "rgba(255, 255, 255, 0.0)",
          "line": {
           "color": "rgba(255, 255, 255, 0.0)",
           "width": 1
          },
          "size": 20,
          "symbol": "circle"
         },
         "mode": "markers+text",
         "text": [
          "('Los Angeles Lakers',)"
         ],
         "textfont": {
          "color": "rgb(0, 0, 0)"
         },
         "textposition": "middle center",
         "type": "scatter",
         "x": [
          0.6708449357266852
         ],
         "y": [
          0.4871621262930794
         ]
        },
        {
         "hoverinfo": "none",
         "marker": {
          "color": "rgba(255, 255, 255, 0.0)",
          "line": {
           "color": "rgba(255, 255, 255, 0.0)",
           "width": 1
          },
          "size": 20,
          "symbol": "circle"
         },
         "mode": "markers+text",
         "text": [
          "('Brooklyn Nets',)"
         ],
         "textfont": {
          "color": "rgb(0, 0, 0)"
         },
         "textposition": "middle center",
         "type": "scatter",
         "x": [
          0.4137964301778312
         ],
         "y": [
          0.25708714990923776
         ]
        },
        {
         "hoverinfo": "none",
         "marker": {
          "color": "rgba(255, 255, 255, 0.0)",
          "line": {
           "color": "rgba(255, 255, 255, 0.0)",
           "width": 1
          },
          "size": 20,
          "symbol": "circle"
         },
         "mode": "markers+text",
         "text": [
          "('Memphis Grizzlies',)"
         ],
         "textfont": {
          "color": "rgb(0, 0, 0)"
         },
         "textposition": "middle center",
         "type": "scatter",
         "x": [
          0.25284826436995056
         ],
         "y": [
          0.17053692797372544
         ]
        },
        {
         "hoverinfo": "none",
         "marker": {
          "color": "rgba(255, 255, 255, 0.0)",
          "line": {
           "color": "rgba(255, 255, 255, 0.0)",
           "width": 1
          },
          "size": 20,
          "symbol": "circle"
         },
         "mode": "markers+text",
         "text": [
          "('Washington Wizards',)"
         ],
         "textfont": {
          "color": "rgb(0, 0, 0)"
         },
         "textposition": "middle center",
         "type": "scatter",
         "x": [
          0.033384801454501734
         ],
         "y": [
          0.036345095691985074
         ]
        },
        {
         "hoverinfo": "none",
         "marker": {
          "color": "rgba(255, 255, 255, 0.0)",
          "line": {
           "color": "rgba(255, 255, 255, 0.0)",
           "width": 1
          },
          "size": 20,
          "symbol": "circle"
         },
         "mode": "markers+text",
         "text": [
          "('Oklahoma City Thunder',)"
         ],
         "textfont": {
          "color": "rgb(0, 0, 0)"
         },
         "textposition": "middle center",
         "type": "scatter",
         "x": [
          0.8685522586300654
         ],
         "y": [
          0.5453194146536426
         ]
        },
        {
         "hoverinfo": "none",
         "marker": {
          "color": "rgba(255, 255, 255, 0.0)",
          "line": {
           "color": "rgba(255, 255, 255, 0.0)",
           "width": 1
          },
          "size": 20,
          "symbol": "circle"
         },
         "mode": "markers+text",
         "text": [
          "('Miami Heat',)"
         ],
         "textfont": {
          "color": "rgb(0, 0, 0)"
         },
         "textposition": "middle center",
         "type": "scatter",
         "x": [
          0.6724589514545904
         ],
         "y": [
          0.4043614998419862
         ]
        },
        {
         "hoverinfo": "none",
         "marker": {
          "color": "rgba(255, 255, 255, 0.0)",
          "line": {
           "color": "rgba(255, 255, 255, 0.0)",
           "width": 1
          },
          "size": 20,
          "symbol": "circle"
         },
         "mode": "markers+text",
         "text": [
          "('Minnesota Timberwolves',)"
         ],
         "textfont": {
          "color": "rgb(0, 0, 0)"
         },
         "textposition": "middle center",
         "type": "scatter",
         "x": [
          0.46795563360246895
         ],
         "y": [
          0.4497899782459661
         ]
        },
        {
         "hoverinfo": "none",
         "marker": {
          "color": "rgba(255, 255, 255, 0.0)",
          "line": {
           "color": "rgba(255, 255, 255, 0.0)",
           "width": 1
          },
          "size": 20,
          "symbol": "circle"
         },
         "mode": "markers+text",
         "text": [
          "('Indiana Pacers',)"
         ],
         "textfont": {
          "color": "rgb(0, 0, 0)"
         },
         "textposition": "middle center",
         "type": "scatter",
         "x": [
          0.20335982988714008
         ],
         "y": [
          0.2593766114844933
         ]
        },
        {
         "hoverinfo": "none",
         "marker": {
          "color": "rgba(255, 255, 255, 0.0)",
          "line": {
           "color": "rgba(255, 255, 255, 0.0)",
           "width": 1
          },
          "size": 20,
          "symbol": "circle"
         },
         "mode": "markers+text",
         "text": [
          "('Denver Nuggets',)"
         ],
         "textfont": {
          "color": "rgb(0, 0, 0)"
         },
         "textposition": "middle center",
         "type": "scatter",
         "x": [
          0.8502102235794309
         ],
         "y": [
          0.575560587466893
         ]
        },
        {
         "hoverinfo": "none",
         "marker": {
          "color": "rgba(255, 255, 255, 0.0)",
          "line": {
           "color": "rgba(255, 255, 255, 0.0)",
           "width": 1
          },
          "size": 20,
          "symbol": "circle"
         },
         "mode": "markers+text",
         "text": [
          "('Charlotte Hornets',)"
         ],
         "textfont": {
          "color": "rgb(0, 0, 0)"
         },
         "textposition": "middle center",
         "type": "scatter",
         "x": [
          0.18674033924666944
         ],
         "y": [
          0.3892342028166137
         ]
        },
        {
         "hoverinfo": "none",
         "marker": {
          "color": "rgba(255, 255, 255, 0.0)",
          "line": {
           "color": "rgba(255, 255, 255, 0.0)",
           "width": 1
          },
          "size": 20,
          "symbol": "circle"
         },
         "mode": "markers+text",
         "text": [
          "('Philadelphia 76ers',)"
         ],
         "textfont": {
          "color": "rgb(0, 0, 0)"
         },
         "textposition": "middle center",
         "type": "scatter",
         "x": [
          0.4748962739677183
         ],
         "y": [
          0.4146727453953676
         ]
        },
        {
         "hoverinfo": "none",
         "marker": {
          "color": "rgba(255, 255, 255, 0.0)",
          "line": {
           "color": "rgba(255, 255, 255, 0.0)",
           "width": 1
          },
          "size": 20,
          "symbol": "circle"
         },
         "mode": "markers+text",
         "text": [
          "('Portland Trail Blazers',)"
         ],
         "textfont": {
          "color": "rgb(0, 0, 0)"
         },
         "textposition": "middle center",
         "type": "scatter",
         "x": [
          0.2605586265200922
         ],
         "y": [
          0.5723479168870731
         ]
        },
        {
         "hoverinfo": "none",
         "marker": {
          "color": "rgba(255, 255, 255, 0.0)",
          "line": {
           "color": "rgba(255, 255, 255, 0.0)",
           "width": 1
          },
          "size": 20,
          "symbol": "circle"
         },
         "mode": "markers+text",
         "text": [
          "('Milwaukee Bucks',)"
         ],
         "textfont": {
          "color": "rgb(0, 0, 0)"
         },
         "textposition": "middle center",
         "type": "scatter",
         "x": [
          0.15455978433290074
         ],
         "y": [
          0.4451772264443228
         ]
        },
        {
         "hoverinfo": "none",
         "marker": {
          "color": "rgba(255, 255, 255, 0.0)",
          "line": {
           "color": "rgba(255, 255, 255, 0.0)",
           "width": 1
          },
          "size": 20,
          "symbol": "circle"
         },
         "mode": "markers+text",
         "text": [
          "('New Orleans Pelicans',)"
         ],
         "textfont": {
          "color": "rgb(0, 0, 0)"
         },
         "textposition": "middle center",
         "type": "scatter",
         "x": [
          0.20859398742060498
         ],
         "y": [
          0.939379580126871
         ]
        },
        {
         "hoverinfo": "none",
         "marker": {
          "color": "rgba(255, 255, 255, 0.0)",
          "line": {
           "color": "rgba(255, 255, 255, 0.0)",
           "width": 1
          },
          "size": 20,
          "symbol": "circle"
         },
         "mode": "markers+text",
         "text": [
          "('Toronto Raptors',)"
         ],
         "textfont": {
          "color": "rgb(0, 0, 0)"
         },
         "textposition": "middle center",
         "type": "scatter",
         "x": [
          0.498801222263745
         ],
         "y": [
          0.31498283375559344
         ]
        },
        {
         "hoverinfo": "none",
         "marker": {
          "color": "rgba(255, 255, 255, 0.0)",
          "line": {
           "color": "rgba(255, 255, 255, 0.0)",
           "width": 1
          },
          "size": 20,
          "symbol": "circle"
         },
         "mode": "markers+text",
         "text": [
          "('Phoenix Suns',)"
         ],
         "textfont": {
          "color": "rgb(0, 0, 0)"
         },
         "textposition": "middle center",
         "type": "scatter",
         "x": [
          0.29896656175169767
         ],
         "y": [
          0.7387228229006633
         ]
        },
        {
         "hoverinfo": "none",
         "marker": {
          "color": "rgba(255, 255, 255, 0.0)",
          "line": {
           "color": "rgba(255, 255, 255, 0.0)",
           "width": 1
          },
          "size": 20,
          "symbol": "circle"
         },
         "mode": "markers+text",
         "text": [
          "('New York Knicks',)"
         ],
         "textfont": {
          "color": "rgb(0, 0, 0)"
         },
         "textposition": "middle center",
         "type": "scatter",
         "x": [
          0.595137678663374
         ],
         "y": [
          0.9289274901762686
         ]
        },
        {
         "hoverinfo": "none",
         "marker": {
          "color": "rgba(255, 255, 255, 0.0)",
          "line": {
           "color": "rgba(255, 255, 255, 0.0)",
           "width": 1
          },
          "size": 20,
          "symbol": "circle"
         },
         "mode": "markers+text",
         "text": [
          "('Detroit Pistons',)"
         ],
         "textfont": {
          "color": "rgb(0, 0, 0)"
         },
         "textposition": "middle center",
         "type": "scatter",
         "x": [
          0.5205373591701874
         ],
         "y": [
          0.1649714106502279
         ]
        },
        {
         "hoverinfo": "none",
         "marker": {
          "color": "rgba(255, 255, 255, 0.0)",
          "line": {
           "color": "rgba(255, 255, 255, 0.0)",
           "width": 1
          },
          "size": 20,
          "symbol": "circle"
         },
         "mode": "markers+text",
         "text": [
          "('Utah Jazz',)"
         ],
         "textfont": {
          "color": "rgb(0, 0, 0)"
         },
         "textposition": "middle center",
         "type": "scatter",
         "x": [
          0.5266595794830784
         ],
         "y": [
          0.8030971537898313
         ]
        },
        {
         "hoverinfo": "none",
         "marker": {
          "color": "rgba(255, 255, 255, 0.0)",
          "line": {
           "color": "rgba(255, 255, 255, 0.0)",
           "width": 1
          },
          "size": 20,
          "symbol": "circle"
         },
         "mode": "markers+text",
         "text": [
          "('Sacramento Kings',)"
         ],
         "textfont": {
          "color": "rgb(0, 0, 0)"
         },
         "textposition": "middle center",
         "type": "scatter",
         "x": [
          0.2843590293998197
         ],
         "y": [
          0.006471954056391782
         ]
        },
        {
         "hoverinfo": "none",
         "marker": {
          "color": "rgba(255, 255, 255, 0.0)",
          "line": {
           "color": "rgba(255, 255, 255, 0.0)",
           "width": 1
          },
          "size": 20,
          "symbol": "circle"
         },
         "mode": "markers+text",
         "text": [
          "('Atlanta Hawks',)"
         ],
         "textfont": {
          "color": "rgb(0, 0, 0)"
         },
         "textposition": "middle center",
         "type": "scatter",
         "x": [
          0.941068118585822
         ],
         "y": [
          0.832836493690238
         ]
        },
        {
         "hoverinfo": "none",
         "marker": {
          "color": "rgba(255, 255, 255, 0.0)",
          "line": {
           "color": "rgba(255, 255, 255, 0.0)",
           "width": 1
          },
          "size": 20,
          "symbol": "circle"
         },
         "mode": "markers+text",
         "text": [
          "('Orlando Magic',)"
         ],
         "textfont": {
          "color": "rgb(0, 0, 0)"
         },
         "textposition": "middle center",
         "type": "scatter",
         "x": [
          0.1285717381336141
         ],
         "y": [
          0.17090404054234576
         ]
        },
        {
         "hoverinfo": "none",
         "marker": {
          "color": "rgba(255, 255, 255, 0.0)",
          "line": {
           "color": "rgba(255, 255, 255, 0.0)",
           "width": 1
          },
          "size": 20,
          "symbol": "circle"
         },
         "mode": "markers+text",
         "text": [
          "('San Antonio Spurs',)"
         ],
         "textfont": {
          "color": "rgb(0, 0, 0)"
         },
         "textposition": "middle center",
         "type": "scatter",
         "x": [
          0.71991656933083
         ],
         "y": [
          0.5146376116125279
         ]
        },
        {
         "hoverinfo": "none",
         "mode": "text",
         "text": [
          null,
          null,
          null,
          null,
          null,
          null,
          null,
          null,
          null,
          null,
          null,
          null,
          null,
          null,
          null,
          null,
          null,
          null,
          null,
          null,
          null,
          null,
          null,
          null,
          null,
          null,
          null,
          null,
          null,
          null,
          null,
          null,
          null,
          null,
          null,
          null,
          null,
          null,
          null,
          null,
          null,
          null,
          null,
          null,
          null,
          null
         ],
         "textfont": {
          "color": "rgb(0, 0, 0)"
         },
         "textposition": "middle center",
         "type": "scatter",
         "x": [
          0.5811453276142949,
          0.7705794819273795,
          0.6856832735522186,
          0.5606971915257761,
          0.01289749452219281,
          0.09509472374285477,
          0.399591623063444,
          0.2650620765604027,
          0.040519030616998616,
          0.5267543366427512,
          0.5708417318596337,
          0.4512794926734644,
          0.4541561003552273,
          0.4563432584607982,
          0.546529769450485,
          0.34692772022139207,
          0.26752717943633064,
          0.6666913405675772,
          0.5845002041261683,
          0.09943546043683296,
          0.6691560208118652,
          0.15833243257672064,
          0.5440711726087041,
          0.3295933783261209,
          0.5430369836829082,
          0.38799850636176714,
          0.23744979474663605,
          0.1707897696706347,
          0.4898951030370189,
          0.4214923345555237,
          0.3932791976411785,
          0.4041654157229914,
          0.4350883834939683,
          0.4090645091563535,
          0.32369053628830347,
          0.43507870175092556,
          0.5436929866747942,
          0.5147380230528887,
          0.39021009589758393,
          0.6045630796020731,
          0.36469916380899003,
          0.7276880250899275,
          0.729589299824624,
          0.603654736817597,
          0.5289678677195365,
          0.4382023189514659
         ],
         "y": [
          0.18795803711445935,
          0.3851569754784948,
          0.6592942084036942,
          0.45665895892060104,
          0.6631474333853146,
          0.397168667089225,
          0.5414521873349283,
          0.54801025337634,
          0.386000083180108,
          0.4730061584650669,
          0.44236175443453624,
          0.310628008598912,
          0.6061546249112608,
          0.3530945359471652,
          0.3976552697550934,
          0.2862301446817714,
          0.506925396130603,
          0.4349127257894363,
          0.6605291523964116,
          0.48132398786994257,
          0.5058200838651058,
          0.28827836857856043,
          0.6643473993520597,
          0.4057816944273647,
          0.7672973458899162,
          0.5097217889427015,
          0.5744063336289488,
          0.6461541193115046,
          0.6375558404532252,
          0.4669771268253953,
          0.6134191439974916,
          0.8631938698002886,
          0.7279670922642042,
          0.5749852987462384,
          0.46283266325514244,
          0.533035403795011,
          0.5515586913875788,
          0.6026766533539742,
          0.48461421589252685,
          0.44126915395992633,
          0.2439665090479477,
          0.5518125494248762,
          0.8607405388116176,
          0.47846511465085806,
          0.525841209408175,
          0.4537198608474161
         ]
        },
        {
         "hoverinfo": "none",
         "marker": {
          "color": "rgba(255, 255, 255, 0.0)",
          "line": {
           "color": "rgba(255, 255, 255, 0.0)",
           "width": 0
          },
          "size": 0,
          "symbol": "circle"
         },
         "mode": "markers",
         "type": "scatter",
         "x": [
          0.5,
          0,
          1,
          0.5
         ],
         "y": [
          0,
          0.5,
          0.5,
          1
         ]
        }
       ],
       "frames": [
        {
         "data": [
          {
           "hoverinfo": "none",
           "line": {
            "color": "rgba(255, 255, 255, 0.0)",
            "dash": "solid",
            "width": 1
           },
           "mode": "lines",
           "type": "scatter",
           "x": [
            0.8675686494277822,
            0.2843590293998197,
            null,
            0.2977600114265353,
            0.3120936930105964,
            null,
            0.2977600114265353,
            0.3090312240829498,
            null
           ],
           "y": [
            0.4184051883646216,
            0.006471954056391782,
            null,
            0.015937349824223464,
            0.017745495290004278,
            null,
            0.015937349824223464,
            0.032214480280492036,
            null
           ]
          },
          {
           "hoverinfo": "none",
           "line": {
            "color": "rgba(255, 255, 255, 0.0)",
            "dash": "solid",
            "width": 1
           },
           "mode": "lines",
           "type": "scatter",
           "x": [
            0.8675686494277822,
            0.6724589514545904,
            null,
            0.6868156273828264,
            0.7006982540693258,
            null,
            0.6868156273828264,
            0.7003639134499172,
            null
           ],
           "y": [
            0.4184051883646216,
            0.4043614998419862,
            null,
            0.40539487074589825,
            0.3986316658012261,
            null,
            0.40539487074589825,
            0.4141325095531862,
            null
           ]
          },
          {
           "hoverinfo": "none",
           "line": {
            "color": "rgba(255, 255, 255, 0.0)",
            "dash": "solid",
            "width": 1
           },
           "mode": "lines",
           "type": "scatter",
           "x": [
            0.8675686494277822,
            0.5221180554750893,
            null,
            0.5331872511916863,
            0.5410550693556936,
            null,
            0.5331872511916863,
            0.5464690461743552,
            null
           ],
           "y": [
            0.4184051883646216,
            0.9406250143679719,
            null,
            0.923891641890662,
            0.9019299581097725,
            null,
            0.923891641890662,
            0.9138813230441428,
            null
           ]
          },
          {
           "hoverinfo": "none",
           "line": {
            "color": "rgba(255, 255, 255, 0.0)",
            "dash": "solid",
            "width": 1
           },
           "mode": "lines",
           "type": "scatter",
           "x": [
            0.45848455903048313,
            0.6708449357266852,
            null,
            0.6570357851442974,
            0.64267090678355,
            null,
            0.6570357851442974,
            0.6450158926346744,
            null
           ],
           "y": [
            0.37570346186128845,
            0.4871621262930794,
            null,
            0.47991430772731986,
            0.48044504363268736,
            null,
            0.47991430772731986,
            0.46553536073708807,
            null
           ]
          },
          {
           "hoverinfo": "none",
           "line": {
            "color": "rgba(255, 255, 255, 0.0)",
            "dash": "solid",
            "width": 1
           },
           "mode": "lines",
           "type": "scatter",
           "x": [
            0.034891532242013024,
            0.018938184382305767,
            null,
            0.02209217417809563,
            0.0209628814722854,
            null,
            0.02209217417809563,
            0.02924770996040161,
            null
           ],
           "y": [
            0.6041482586538549,
            0.7336698464258018,
            null,
            0.7080633235968865,
            0.68189780309555,
            null,
            0.7080633235968865,
            0.6853031528620417,
            null
           ]
          },
          {
           "hoverinfo": "none",
           "line": {
            "color": "rgba(255, 255, 255, 0.0)",
            "dash": "solid",
            "width": 1
           },
           "mode": "lines",
           "type": "scatter",
           "x": [
            0.034891532242013024,
            0.1285717381336141,
            null,
            0.12329329105873123,
            0.12219966065359684,
            null,
            0.12329329105873123,
            0.11430153527075773,
            null
           ],
           "y": [
            0.6041482586538549,
            0.17090404054234576,
            null,
            0.19531535191848404,
            0.22148592718522866,
            null,
            0.19531535191848404,
            0.2157868096618032,
            null
           ]
          },
          {
           "hoverinfo": "none",
           "line": {
            "color": "rgba(255, 255, 255, 0.0)",
            "dash": "solid",
            "width": 1
           },
           "mode": "lines",
           "type": "scatter",
           "x": [
            0.5221180554750893,
            0.25284826436995056,
            null,
            0.2605825555215104,
            0.2715497016058739,
            null,
            0.2605825555215104,
            0.2643931105463597,
            null
           ],
           "y": [
            0.9406250143679719,
            0.17053692797372544,
            null,
            0.19265632520753942,
            0.20961245138340134,
            null,
            0.19265632520753942,
            0.2179631336215305,
            null
           ]
          },
          {
           "hoverinfo": "none",
           "line": {
            "color": "rgba(255, 255, 255, 0.0)",
            "dash": "solid",
            "width": 1
           },
           "mode": "lines",
           "type": "scatter",
           "x": [
            0.018938184382305767,
            0.498801222263745,
            null,
            0.4858363214565184,
            0.47528045005631464,
            null,
            0.4858363214565184,
            0.47162050721864684,
            null
           ],
           "y": [
            0.7336698464258018,
            0.31498283375559344,
            null,
            0.32629488565379455,
            0.34410077654775095,
            null,
            0.32629488565379455,
            0.3301026266503064,
            null
           ]
          },
          {
           "hoverinfo": "none",
           "line": {
            "color": "rgba(255, 255, 255, 0.0)",
            "dash": "solid",
            "width": 1
           },
           "mode": "lines",
           "type": "scatter",
           "x": [
            0.018938184382305767,
            0.033384801454501734,
            null,
            0.03284143188814721,
            0.036565273622165106,
            null,
            0.03284143188814721,
            0.028079388606491656,
            null
           ],
           "y": [
            0.7336698464258018,
            0.036345095691985074,
            null,
            0.06257303857445758,
            0.08792288638398166,
            null,
            0.06257303857445758,
            0.0873362125055899,
            null
           ]
          },
          {
           "hoverinfo": "none",
           "line": {
            "color": "rgba(255, 255, 255, 0.0)",
            "dash": "solid",
            "width": 1
           },
           "mode": "lines",
           "type": "scatter",
           "x": [
            0.7686980902794368,
            0.29896656175169767,
            null,
            0.31147000950383846,
            0.3213233204991327,
            null,
            0.31147000950383846,
            0.3255066982635355,
            null
           ],
           "y": [
            0.2529713818798117,
            0.7387228229006633,
            null,
            0.725792952550322,
            0.7066906151358712,
            null,
            0.725792952550322,
            0.7201905360740841,
            null
           ]
          },
          {
           "hoverinfo": "none",
           "line": {
            "color": "rgba(255, 255, 255, 0.0)",
            "dash": "solid",
            "width": 1
           },
           "mode": "lines",
           "type": "scatter",
           "x": [
            0.6708449357266852,
            0.46795563360246895,
            null,
            0.4822509604345521,
            0.496333784554192,
            null,
            0.4822509604345521,
            0.495481831008243,
            null
           ],
           "y": [
            0.4871621262930794,
            0.4497899782459661,
            null,
            0.4524231731219749,
            0.44722145757699366,
            null,
            0.4524231731219749,
            0.46265606296301565,
            null
           ]
          },
          {
           "hoverinfo": "none",
           "line": {
            "color": "rgba(255, 255, 255, 0.0)",
            "dash": "solid",
            "width": 1
           },
           "mode": "lines",
           "type": "scatter",
           "x": [
            0.4137964301778312,
            0.498801222263745,
            null,
            0.4853386656717405,
            0.47099407963527284,
            null,
            0.4853386656717405,
            0.4739607086096874,
            null
           ],
           "y": [
            0.25708714990923776,
            0.31498283375559344,
            null,
            0.3058136575116635,
            0.3043217422678744,
            null,
            0.3058136575116635,
            0.2897862754733528,
            null
           ]
          },
          {
           "hoverinfo": "none",
           "line": {
            "color": "rgba(255, 255, 255, 0.0)",
            "dash": "solid",
            "width": 1
           },
           "mode": "lines",
           "type": "scatter",
           "x": [
            0.4137964301778312,
            0.5221180554750893,
            null,
            0.5181227324917819,
            0.5102273381847249,
            null,
            0.5181227324917819,
            0.5183843711352475,
            null
           ],
           "y": [
            0.25708714990923776,
            0.9406250143679719,
            null,
            0.915413478515011,
            0.8934848452362809,
            null,
            0.915413478515011,
            0.8891711114992771,
            null
           ]
          },
          {
           "hoverinfo": "none",
           "line": {
            "color": "rgba(255, 255, 255, 0.0)",
            "dash": "solid",
            "width": 1
           },
           "mode": "lines",
           "type": "scatter",
           "x": [
            0.25284826436995056,
            0.6708449357266852,
            null,
            0.6575728834881168,
            0.6432672590557594,
            null,
            0.6575728834881168,
            0.646519956342303,
            null
           ],
           "y": [
            0.17053692797372544,
            0.4871621262930794,
            null,
            0.47710877788123246,
            0.47466933732065125,
            null,
            0.47710877788123246,
            0.4603395572903529,
            null
           ]
          },
          {
           "hoverinfo": "none",
           "line": {
            "color": "rgba(255, 255, 255, 0.0)",
            "dash": "solid",
            "width": 1
           },
           "mode": "lines",
           "type": "scatter",
           "x": [
            0.25284826436995056,
            0.8502102235794309,
            null,
            0.836740279491424,
            0.822394504653078,
            null,
            0.836740279491424,
            0.8253493961422608,
            null
           ],
           "y": [
            0.17053692797372544,
            0.575560587466893,
            null,
            0.5664276891234621,
            0.564974419606242,
            null,
            0.5664276891234621,
            0.5504309765627736,
            null
           ]
          },
          {
           "hoverinfo": "none",
           "line": {
            "color": "rgba(255, 255, 255, 0.0)",
            "dash": "solid",
            "width": 1
           },
           "mode": "lines",
           "type": "scatter",
           "x": [
            0.033384801454501734,
            0.6708449357266852,
            null,
            0.6574461435778345,
            0.6431128813697783,
            null,
            0.6574461435778345,
            0.6461786956858772,
            null
           ],
           "y": [
            0.036345095691985074,
            0.4871621262930794,
            null,
            0.4776863906894989,
            0.475867185000289,
            null,
            0.4776863906894989,
            0.4614005644118946,
            null
           ]
          },
          {
           "hoverinfo": "none",
           "line": {
            "color": "rgba(255, 255, 255, 0.0)",
            "dash": "solid",
            "width": 1
           },
           "mode": "lines",
           "type": "scatter",
           "x": [
            0.033384801454501734,
            0.5221180554750893,
            null,
            0.512023558407075,
            0.49935844483278063,
            null,
            0.512023558407075,
            0.5054013892044785,
            null
           ],
           "y": [
            0.036345095691985074,
            0.9406250143679719,
            null,
            0.9219476460640046,
            0.9095539680153487,
            null,
            0.9219476460640046,
            0.8986549811894244,
            null
           ]
          },
          {
           "hoverinfo": "none",
           "line": {
            "color": "rgba(255, 255, 255, 0.0)",
            "dash": "solid",
            "width": 1
           },
           "mode": "lines",
           "type": "scatter",
           "x": [
            0.8685522586300654,
            0.45848455903048313,
            null,
            0.47249764732117155,
            0.48682252733333503,
            null,
            0.47249764732117155,
            0.4849471964478749,
            null
           ],
           "y": [
            0.5453194146536426,
            0.37570346186128845,
            null,
            0.3814996836176214,
            0.3794720889616937,
            null,
            0.3814996836176214,
            0.39460196255932617,
            null
           ]
          },
          {
           "hoverinfo": "none",
           "line": {
            "color": "rgba(255, 255, 255, 0.0)",
            "dash": "solid",
            "width": 1
           },
           "mode": "lines",
           "type": "scatter",
           "x": [
            0.6724589514545904,
            0.5221180554750893,
            null,
            0.528667371414693,
            0.5311449710471972,
            null,
            0.528667371414693,
            0.5387033727740197,
            null
           ],
           "y": [
            0.4043614998419862,
            0.9406250143679719,
            null,
            0.9172637116390602,
            0.8914101720126275,
            null,
            0.9172637116390602,
            0.8984814414046149,
            null
           ]
          },
          {
           "hoverinfo": "none",
           "line": {
            "color": "rgba(255, 255, 255, 0.0)",
            "dash": "solid",
            "width": 1
           },
           "mode": "lines",
           "type": "scatter",
           "x": [
            0.20335982988714008,
            0.018938184382305767,
            null,
            0.027258458597051585,
            0.03174553041303147,
            null,
            0.027258458597051585,
            0.038668709894826854,
            null
           ],
           "y": [
            0.2593766114844933,
            0.7336698464258018,
            null,
            0.7122718713556406,
            0.6873379221111203,
            null,
            0.7122718713556406,
            0.6963212878443109,
            null
           ]
          },
          {
           "hoverinfo": "none",
           "line": {
            "color": "rgba(255, 255, 255, 0.0)",
            "dash": "solid",
            "width": 1
           },
           "mode": "lines",
           "type": "scatter",
           "x": [
            0.4748962739677183,
            0.8685522586300654,
            null,
            0.8544158427345641,
            0.8401518403670534,
            null,
            0.8544158427345641,
            0.8416697772412196,
            null
           ],
           "y": [
            0.4146727453953676,
            0.5453194146536426,
            null,
            0.540627816598602,
            0.5437772767361085,
            null,
            0.540627816598602,
            0.5285142468325135,
            null
           ]
          },
          {
           "hoverinfo": "none",
           "line": {
            "color": "rgba(255, 255, 255, 0.0)",
            "dash": "solid",
            "width": 1
           },
           "mode": "lines",
           "type": "scatter",
           "x": [
            0.2605586265200922,
            0.033384801454501734,
            null,
            0.042180721666971635,
            0.05394110710674939,
            null,
            0.042180721666971635,
            0.04722646329601378,
            null
           ],
           "y": [
            0.5723479168870731,
            0.036345095691985074,
            null,
            0.05709853437502674,
            0.07217659224675899,
            null,
            0.05709853437502674,
            0.0816735110007756,
            null
           ]
          },
          {
           "hoverinfo": "none",
           "line": {
            "color": "rgba(255, 255, 255, 0.0)",
            "dash": "solid",
            "width": 1
           },
           "mode": "lines",
           "type": "scatter",
           "x": [
            0.15455978433290074,
            0.941068118585822,
            null,
            0.927196357856654,
            0.9128380918842263,
            null,
            0.927196357856654,
            0.9150502254430942,
            null
           ],
           "y": [
            0.4451772264443228,
            0.832836493690238,
            null,
            0.8259992913803759,
            0.8269561039365785,
            null,
            0.8259992913803759,
            0.811978821123883,
            null
           ]
          },
          {
           "hoverinfo": "none",
           "line": {
            "color": "rgba(255, 255, 255, 0.0)",
            "dash": "solid",
            "width": 1
           },
           "mode": "lines",
           "type": "scatter",
           "x": [
            0.15455978433290074,
            0.498801222263745,
            null,
            0.4847317767052078,
            0.4721515354115645,
            null,
            0.4847317767052078,
            0.47042990855117744,
            null
           ],
           "y": [
            0.4451772264443228,
            0.31498283375559344,
            null,
            0.32030399128668907,
            0.3329828483941058,
            null,
            0.32030399128668907,
            0.3177921260869547,
            null
           ]
          },
          {
           "hoverinfo": "none",
           "line": {
            "color": "rgba(255, 255, 255, 0.0)",
            "dash": "solid",
            "width": 1
           },
           "mode": "lines",
           "type": "scatter",
           "x": [
            0.20859398742060498,
            0.8685522586300654,
            null,
            0.8548954622530966,
            0.8431677873736535,
            null,
            0.8548954622530966,
            0.8405294653255867,
            null
           ],
           "y": [
            0.939379580126871,
            0.5453194146536426,
            null,
            0.5534738687682641,
            0.5686367096772376,
            null,
            0.5534738687682641,
            0.5538915229884873,
            null
           ]
          },
          {
           "hoverinfo": "none",
           "line": {
            "color": "rgba(255, 255, 255, 0.0)",
            "dash": "solid",
            "width": 1
           },
           "mode": "lines",
           "type": "scatter",
           "x": [
            0.498801222263745,
            0.29896656175169767,
            null,
            0.30834432900147873,
            0.31408640082604095,
            null,
            0.30834432900147873,
            0.32052010365740247,
            null
           ],
           "y": [
            0.31498283375559344,
            0.7387228229006633,
            null,
            0.7188377089647469,
            0.6947781657318409,
            null,
            0.7188377089647469,
            0.7049033023308507,
            null
           ]
          },
          {
           "hoverinfo": "none",
           "line": {
            "color": "rgba(255, 255, 255, 0.0)",
            "dash": "solid",
            "width": 1
           },
           "mode": "lines",
           "type": "scatter",
           "x": [
            0.29896656175169767,
            0.15455978433290074,
            null,
            0.1641634427920823,
            0.17649628080181545,
            null,
            0.1641634427920823,
            0.17018005549266108,
            null
           ],
           "y": [
            0.7387228229006633,
            0.4451772264443228,
            null,
            0.464699244045946,
            0.47816482459933807,
            null,
            0.464699244045946,
            0.48853385500491986,
            null
           ]
          },
          {
           "hoverinfo": "none",
           "line": {
            "color": "rgba(255, 255, 255, 0.0)",
            "dash": "solid",
            "width": 1
           },
           "mode": "lines",
           "type": "scatter",
           "x": [
            0.29896656175169767,
            0.034891532242013024,
            null,
            0.04873093106162867,
            0.06309313530398673,
            null,
            0.04873093106162867,
            0.060811292179151946,
            null
           ],
           "y": [
            0.7387228229006633,
            0.6041482586538549,
            null,
            0.611200917396507,
            0.610467408742461,
            null,
            0.611200917396507,
            0.6254097505349654,
            null
           ]
          },
          {
           "hoverinfo": "none",
           "line": {
            "color": "rgba(255, 255, 255, 0.0)",
            "dash": "solid",
            "width": 1
           },
           "mode": "lines",
           "type": "scatter",
           "x": [
            0.29896656175169767,
            0.6708449357266852,
            null,
            0.6573712397622157,
            0.6459737813771741,
            null,
            0.6573712397622157,
            0.6430248713507729,
            null
           ],
           "y": [
            0.7387228229006633,
            0.4871621262930794,
            null,
            0.4962765372938351,
            0.5122576136642456,
            null,
            0.4962765372938351,
            0.4977101197352439,
            null
           ]
          },
          {
           "hoverinfo": "none",
           "line": {
            "color": "rgba(255, 255, 255, 0.0)",
            "dash": "solid",
            "width": 1
           },
           "mode": "lines",
           "type": "scatter",
           "x": [
            0.29896656175169767,
            0.5205373591701874,
            null,
            0.5122549829790511,
            0.5078120445657056,
            null,
            0.5122549829790511,
            0.5008730090082815,
            null
           ],
           "y": [
            0.7387228229006633,
            0.1649714106502279,
            null,
            0.18641839324820295,
            0.21137870200243966,
            null,
            0.18641839324820295,
            0.2024362546089411,
            null
           ]
          },
          {
           "hoverinfo": "none",
           "line": {
            "color": "rgba(255, 255, 255, 0.0)",
            "dash": "solid",
            "width": 1
           },
           "mode": "lines",
           "type": "scatter",
           "x": [
            0.29896656175169767,
            0.46795563360246895,
            null,
            0.457465683538372,
            0.45034569840344585,
            null,
            0.457465683538372,
            0.4445428045426237,
            null
           ],
           "y": [
            0.7387228229006633,
            0.4497899782459661,
            null,
            0.4677254049520298,
            0.49052275042928134,
            null,
            0.4677254049520298,
            0.4791967946354593,
            null
           ]
          },
          {
           "hoverinfo": "none",
           "line": {
            "color": "rgba(255, 255, 255, 0.0)",
            "dash": "solid",
            "width": 1
           },
           "mode": "lines",
           "type": "scatter",
           "x": [
            0.29896656175169767,
            0.5221180554750893,
            null,
            0.5092429097937172,
            0.4950583126166657,
            null,
            0.5092429097937172,
            0.4988273140263234,
            null
           ],
           "y": [
            0.7387228229006633,
            0.9406250143679719,
            null,
            0.9289758871981035,
            0.9247976717754961,
            null,
            0.9289758871981035,
            0.9108964301170315,
            null
           ]
          },
          {
           "hoverinfo": "none",
           "line": {
            "color": "rgba(255, 255, 255, 0.0)",
            "dash": "solid",
            "width": 1
           },
           "mode": "lines",
           "type": "scatter",
           "x": [
            0.595137678663374,
            0.2605586265200922,
            null,
            0.2729688318259899,
            0.28696438832475857,
            null,
            0.2729688318259899,
            0.2826851192597498,
            null
           ],
           "y": [
            0.9289274901762686,
            0.5723479168870731,
            null,
            0.5855741654643846,
            0.5915100596176353,
            null,
            0.5855741654643846,
            0.6049093070714365,
            null
           ]
          },
          {
           "hoverinfo": "none",
           "line": {
            "color": "rgba(255, 255, 255, 0.0)",
            "dash": "solid",
            "width": 1
           },
           "mode": "lines",
           "type": "scatter",
           "x": [
            0.595137678663374,
            0.20335982988714008,
            null,
            0.21385197434699402,
            0.22677625670966825,
            null,
            0.21385197434699402,
            0.22097474888767088,
            null
           ],
           "y": [
            0.9289274901762686,
            0.2593766114844933,
            null,
            0.2773077542594097,
            0.2887738667070758,
            null,
            0.2773077542594097,
            0.3001021917809408,
            null
           ]
          },
          {
           "hoverinfo": "none",
           "line": {
            "color": "rgba(255, 255, 255, 0.0)",
            "dash": "solid",
            "width": 1
           },
           "mode": "lines",
           "type": "scatter",
           "x": [
            0.595137678663374,
            0.033384801454501734,
            null,
            0.04422558149429061,
            0.05736872180725856,
            null,
            0.04422558149429061,
            0.05179562666651235,
            null
           ],
           "y": [
            0.9289274901762686,
            0.036345095691985074,
            null,
            0.053570266756652926,
            0.06417372847078258,
            null,
            0.053570266756652926,
            0.0758784739415388,
            null
           ]
          },
          {
           "hoverinfo": "none",
           "line": {
            "color": "rgba(255, 255, 255, 0.0)",
            "dash": "solid",
            "width": 1
           },
           "mode": "lines",
           "type": "scatter",
           "x": [
            0.595137678663374,
            0.25284826436995056,
            null,
            0.26198832588097737,
            0.27399621744513514,
            null,
            0.26198832588097737,
            0.2674441028654924,
            null
           ],
           "y": [
            0.9289274901762686,
            0.17053692797372544,
            null,
            0.19078802572450568,
            0.20520039500374992,
            null,
            0.19078802572450568,
            0.2150688816976011,
            null
           ]
          },
          {
           "hoverinfo": "none",
           "line": {
            "color": "rgba(255, 255, 255, 0.0)",
            "dash": "solid",
            "width": 1
           },
           "mode": "lines",
           "type": "scatter",
           "x": [
            0.5205373591701874,
            0.595137678663374,
            null,
            0.5926145165782878,
            0.5860240526791469,
            null,
            0.5926145165782878,
            0.5943840428617065,
            null
           ],
           "y": [
            0.1649714106502279,
            0.9289274901762686,
            null,
            0.9030886596239782,
            0.8797660058063278,
            null,
            0.9030886596239782,
            0.8770417581157556,
            null
           ]
          },
          {
           "hoverinfo": "none",
           "line": {
            "color": "rgba(255, 255, 255, 0.0)",
            "dash": "solid",
            "width": 1
           },
           "mode": "lines",
           "type": "scatter",
           "x": [
            0.5266595794830784,
            0.4748962739677183,
            null,
            0.47829478096041395,
            0.4856669892507968,
            null,
            0.47829478096041395,
            0.4774160081473725,
            null
           ],
           "y": [
            0.8030971537898313,
            0.4146727453953676,
            null,
            0.44017465364716113,
            0.4627028801549795,
            null,
            0.44017465364716113,
            0.4663722341298862,
            null
           ]
          },
          {
           "hoverinfo": "none",
           "line": {
            "color": "rgba(255, 255, 255, 0.0)",
            "dash": "solid",
            "width": 1
           },
           "mode": "lines",
           "type": "scatter",
           "x": [
            0.2843590293998197,
            0.5221180554750893,
            null,
            0.5160605213224866,
            0.506423368698442,
            null,
            0.5160605213224866,
            0.5141237071263195,
            null
           ],
           "y": [
            0.006471954056391782,
            0.9406250143679719,
            null,
            0.916825017539232,
            0.8973581594406975,
            null,
            0.916825017539232,
            0.8908178648146285,
            null
           ]
          },
          {
           "hoverinfo": "none",
           "line": {
            "color": "rgba(255, 255, 255, 0.0)",
            "dash": "solid",
            "width": 1
           },
           "mode": "lines",
           "type": "scatter",
           "x": [
            0.2843590293998197,
            0.941068118585822,
            null,
            0.9292358077194441,
            0.9155233336113702,
            null,
            0.9292358077194441,
            0.9203406051848619,
            null
           ],
           "y": [
            0.006471954056391782,
            0.832836493690238,
            null,
            0.8179474015748562,
            0.8101109571932454,
            null,
            0.8179474015748562,
            0.7973356599809138,
            null
           ]
          },
          {
           "hoverinfo": "none",
           "line": {
            "color": "rgba(255, 255, 255, 0.0)",
            "dash": "solid",
            "width": 1
           },
           "mode": "lines",
           "type": "scatter",
           "x": [
            0.2843590293998197,
            0.46795563360246895,
            null,
            0.4592870389994964,
            0.4476194941814937,
            null,
            0.4592870389994964,
            0.45439173435018515,
            null
           ],
           "y": [
            0.006471954056391782,
            0.4497899782459661,
            null,
            0.4288585223043929,
            0.4135416615823307,
            null,
            0.4288585223043929,
            0.4041822157634355,
            null
           ]
          },
          {
           "hoverinfo": "none",
           "line": {
            "color": "rgba(255, 255, 255, 0.0)",
            "dash": "solid",
            "width": 1
           },
           "mode": "lines",
           "type": "scatter",
           "x": [
            0.941068118585822,
            0.498801222263745,
            null,
            0.5108974874182753,
            0.5247447638754987,
            null,
            0.5108974874182753,
            0.5201622179295747,
            null
           ],
           "y": [
            0.832836493690238,
            0.31498283375559344,
            null,
            0.3291464422777462,
            0.3361473105326732,
            null,
            0.3291464422777462,
            0.349207598100625,
            null
           ]
          },
          {
           "hoverinfo": "none",
           "line": {
            "color": "rgba(255, 255, 255, 0.0)",
            "dash": "solid",
            "width": 1
           },
           "mode": "lines",
           "type": "scatter",
           "x": [
            0.941068118585822,
            0.5221180554750893,
            null,
            0.536345457770869,
            0.549345254720324,
            null,
            0.536345457770869,
            0.5505295739386695,
            null
           ],
           "y": [
            0.832836493690238,
            0.9406250143679719,
            null,
            0.9369645527006257,
            0.9257869463305198,
            null,
            0.9369645527006257,
            0.9411482138750089,
            null
           ]
          },
          {
           "hoverinfo": "none",
           "line": {
            "color": "rgba(255, 255, 255, 0.0)",
            "dash": "solid",
            "width": 1
           },
           "mode": "lines",
           "type": "scatter",
           "x": [
            0.941068118585822,
            0.25284826436995056,
            null,
            0.26556008641737605,
            0.2796831183252613,
            null,
            0.26556008641737605,
            0.27572518939984464,
            null
           ],
           "y": [
            0.832836493690238,
            0.17053692797372544,
            null,
            0.18276998717697637,
            0.18759422410502397,
            null,
            0.18276998717697637,
            0.20131912590992768,
            null
           ]
          },
          {
           "hoverinfo": "none",
           "line": {
            "color": "rgba(255, 255, 255, 0.0)",
            "dash": "solid",
            "width": 1
           },
           "mode": "lines",
           "type": "scatter",
           "x": [
            0.1285717381336141,
            0.941068118585822,
            null,
            0.9279460941415584,
            0.9136807432089741,
            null,
            0.9279460941415584,
            0.9171395475485363,
            null
           ],
           "y": [
            0.17090404054234576,
            0.832836493690238,
            null,
            0.8221461151979379,
            0.8190171043616443,
            null,
            0.8221461151979379,
            0.8048493087217157,
            null
           ]
          },
          {
           "hoverinfo": "none",
           "line": {
            "color": "rgba(255, 255, 255, 0.0)",
            "dash": "solid",
            "width": 1
           },
           "mode": "lines",
           "type": "scatter",
           "x": [
            0.71991656933083,
            0.15455978433290074,
            null,
            0.16889521488888423,
            0.18287529826477666,
            null,
            0.16889521488888423,
            0.1823054513079062,
            null
           ],
           "y": [
            0.5146376116125279,
            0.4451772264443228,
            null,
            0.44693849393839613,
            0.44088214443698753,
            null,
            0.44693849393839613,
            0.4563600496482029,
            null
           ]
          },
          {
           "hoverinfo": "none",
           "marker": {
            "color": "rgba(255, 255, 255, 0.0)",
            "line": {
             "color": "rgba(255, 255, 255, 0.0)",
             "width": 1
            },
            "size": 20,
            "symbol": "circle"
           },
           "mode": "markers+text",
           "text": [
            "('Golden State Warriors',)"
           ],
           "textfont": {
            "color": "rgb(0, 0, 0)"
           },
           "textposition": "middle center",
           "type": "scatter",
           "x": [
            0.8675686494277822
           ],
           "y": [
            0.4184051883646216
           ]
          },
          {
           "hoverinfo": "none",
           "marker": {
            "color": "rgba(255, 255, 255, 0.0)",
            "line": {
             "color": "rgba(255, 255, 255, 0.0)",
             "width": 1
            },
            "size": 20,
            "symbol": "circle"
           },
           "mode": "markers+text",
           "text": [
            "('LA Clippers',)"
           ],
           "textfont": {
            "color": "rgb(0, 0, 0)"
           },
           "textposition": "middle center",
           "type": "scatter",
           "x": [
            0.45848455903048313
           ],
           "y": [
            0.37570346186128845
           ]
          },
          {
           "hoverinfo": "none",
           "marker": {
            "color": "rgba(255, 255, 255, 0.0)",
            "line": {
             "color": "rgba(255, 255, 255, 0.0)",
             "width": 1
            },
            "size": 20,
            "symbol": "circle"
           },
           "mode": "markers+text",
           "text": [
            "('Boston Celtics',)"
           ],
           "textfont": {
            "color": "rgb(0, 0, 0)"
           },
           "textposition": "middle center",
           "type": "scatter",
           "x": [
            0.5357097752206065
           ],
           "y": [
            0.35903305778233463
           ]
          },
          {
           "hoverinfo": "none",
           "marker": {
            "color": "rgba(255, 255, 255, 0.0)",
            "line": {
             "color": "rgba(255, 255, 255, 0.0)",
             "width": 1
            },
            "size": 20,
            "symbol": "circle"
           },
           "mode": "markers+text",
           "text": [
            "('Chicago Bulls',)"
           ],
           "textfont": {
            "color": "rgb(0, 0, 0)"
           },
           "textposition": "middle center",
           "type": "scatter",
           "x": [
            0.034891532242013024
           ],
           "y": [
            0.6041482586538549
           ]
          },
          {
           "hoverinfo": "none",
           "marker": {
            "color": "rgba(255, 255, 255, 0.0)",
            "line": {
             "color": "rgba(255, 255, 255, 0.0)",
             "width": 1
            },
            "size": 20,
            "symbol": "circle"
           },
           "mode": "markers+text",
           "text": [
            "('Houston Rockets',)"
           ],
           "textfont": {
            "color": "rgb(0, 0, 0)"
           },
           "textposition": "middle center",
           "type": "scatter",
           "x": [
            0.5221180554750893
           ],
           "y": [
            0.9406250143679719
           ]
          },
          {
           "hoverinfo": "none",
           "marker": {
            "color": "rgba(255, 255, 255, 0.0)",
            "line": {
             "color": "rgba(255, 255, 255, 0.0)",
             "width": 1
            },
            "size": 20,
            "symbol": "circle"
           },
           "mode": "markers+text",
           "text": [
            "('Cleveland Cavaliers',)"
           ],
           "textfont": {
            "color": "rgb(0, 0, 0)"
           },
           "textposition": "middle center",
           "type": "scatter",
           "x": [
            0.018938184382305767
           ],
           "y": [
            0.7336698464258018
           ]
          },
          {
           "hoverinfo": "none",
           "marker": {
            "color": "rgba(255, 255, 255, 0.0)",
            "line": {
             "color": "rgba(255, 255, 255, 0.0)",
             "width": 1
            },
            "size": 20,
            "symbol": "circle"
           },
           "mode": "markers+text",
           "text": [
            "('Dallas Mavericks',)"
           ],
           "textfont": {
            "color": "rgb(0, 0, 0)"
           },
           "textposition": "middle center",
           "type": "scatter",
           "x": [
            0.7686980902794368
           ],
           "y": [
            0.2529713818798117
           ]
          },
          {
           "hoverinfo": "none",
           "marker": {
            "color": "rgba(255, 255, 255, 0.0)",
            "line": {
             "color": "rgba(255, 255, 255, 0.0)",
             "width": 1
            },
            "size": 20,
            "symbol": "circle"
           },
           "mode": "markers+text",
           "text": [
            "('Los Angeles Lakers',)"
           ],
           "textfont": {
            "color": "rgb(0, 0, 0)"
           },
           "textposition": "middle center",
           "type": "scatter",
           "x": [
            0.6708449357266852
           ],
           "y": [
            0.4871621262930794
           ]
          },
          {
           "hoverinfo": "none",
           "marker": {
            "color": "rgba(255, 255, 255, 0.0)",
            "line": {
             "color": "rgba(255, 255, 255, 0.0)",
             "width": 1
            },
            "size": 20,
            "symbol": "circle"
           },
           "mode": "markers+text",
           "text": [
            "('Brooklyn Nets',)"
           ],
           "textfont": {
            "color": "rgb(0, 0, 0)"
           },
           "textposition": "middle center",
           "type": "scatter",
           "x": [
            0.4137964301778312
           ],
           "y": [
            0.25708714990923776
           ]
          },
          {
           "hoverinfo": "none",
           "marker": {
            "color": "rgba(255, 255, 255, 0.0)",
            "line": {
             "color": "rgba(255, 255, 255, 0.0)",
             "width": 1
            },
            "size": 20,
            "symbol": "circle"
           },
           "mode": "markers+text",
           "text": [
            "('Memphis Grizzlies',)"
           ],
           "textfont": {
            "color": "rgb(0, 0, 0)"
           },
           "textposition": "middle center",
           "type": "scatter",
           "x": [
            0.25284826436995056
           ],
           "y": [
            0.17053692797372544
           ]
          },
          {
           "hoverinfo": "none",
           "marker": {
            "color": "rgba(255, 255, 255, 0.0)",
            "line": {
             "color": "rgba(255, 255, 255, 0.0)",
             "width": 1
            },
            "size": 20,
            "symbol": "circle"
           },
           "mode": "markers+text",
           "text": [
            "('Washington Wizards',)"
           ],
           "textfont": {
            "color": "rgb(0, 0, 0)"
           },
           "textposition": "middle center",
           "type": "scatter",
           "x": [
            0.033384801454501734
           ],
           "y": [
            0.036345095691985074
           ]
          },
          {
           "hoverinfo": "none",
           "marker": {
            "color": "rgba(255, 255, 255, 0.0)",
            "line": {
             "color": "rgba(255, 255, 255, 0.0)",
             "width": 1
            },
            "size": 20,
            "symbol": "circle"
           },
           "mode": "markers+text",
           "text": [
            "('Oklahoma City Thunder',)"
           ],
           "textfont": {
            "color": "rgb(0, 0, 0)"
           },
           "textposition": "middle center",
           "type": "scatter",
           "x": [
            0.8685522586300654
           ],
           "y": [
            0.5453194146536426
           ]
          },
          {
           "hoverinfo": "none",
           "marker": {
            "color": "rgba(255, 255, 255, 0.0)",
            "line": {
             "color": "rgba(255, 255, 255, 0.0)",
             "width": 1
            },
            "size": 20,
            "symbol": "circle"
           },
           "mode": "markers+text",
           "text": [
            "('Miami Heat',)"
           ],
           "textfont": {
            "color": "rgb(0, 0, 0)"
           },
           "textposition": "middle center",
           "type": "scatter",
           "x": [
            0.6724589514545904
           ],
           "y": [
            0.4043614998419862
           ]
          },
          {
           "hoverinfo": "none",
           "marker": {
            "color": "rgba(255, 255, 255, 0.0)",
            "line": {
             "color": "rgba(255, 255, 255, 0.0)",
             "width": 1
            },
            "size": 20,
            "symbol": "circle"
           },
           "mode": "markers+text",
           "text": [
            "('Minnesota Timberwolves',)"
           ],
           "textfont": {
            "color": "rgb(0, 0, 0)"
           },
           "textposition": "middle center",
           "type": "scatter",
           "x": [
            0.46795563360246895
           ],
           "y": [
            0.4497899782459661
           ]
          },
          {
           "hoverinfo": "none",
           "marker": {
            "color": "rgba(255, 255, 255, 0.0)",
            "line": {
             "color": "rgba(255, 255, 255, 0.0)",
             "width": 1
            },
            "size": 20,
            "symbol": "circle"
           },
           "mode": "markers+text",
           "text": [
            "('Indiana Pacers',)"
           ],
           "textfont": {
            "color": "rgb(0, 0, 0)"
           },
           "textposition": "middle center",
           "type": "scatter",
           "x": [
            0.20335982988714008
           ],
           "y": [
            0.2593766114844933
           ]
          },
          {
           "hoverinfo": "none",
           "marker": {
            "color": "rgba(255, 255, 255, 0.0)",
            "line": {
             "color": "rgba(255, 255, 255, 0.0)",
             "width": 1
            },
            "size": 20,
            "symbol": "circle"
           },
           "mode": "markers+text",
           "text": [
            "('Denver Nuggets',)"
           ],
           "textfont": {
            "color": "rgb(0, 0, 0)"
           },
           "textposition": "middle center",
           "type": "scatter",
           "x": [
            0.8502102235794309
           ],
           "y": [
            0.575560587466893
           ]
          },
          {
           "hoverinfo": "none",
           "marker": {
            "color": "rgba(255, 255, 255, 0.0)",
            "line": {
             "color": "rgba(255, 255, 255, 0.0)",
             "width": 1
            },
            "size": 20,
            "symbol": "circle"
           },
           "mode": "markers+text",
           "text": [
            "('Charlotte Hornets',)"
           ],
           "textfont": {
            "color": "rgb(0, 0, 0)"
           },
           "textposition": "middle center",
           "type": "scatter",
           "x": [
            0.18674033924666944
           ],
           "y": [
            0.3892342028166137
           ]
          },
          {
           "hoverinfo": "none",
           "marker": {
            "color": "rgba(255, 255, 255, 0.0)",
            "line": {
             "color": "rgba(255, 255, 255, 0.0)",
             "width": 1
            },
            "size": 20,
            "symbol": "circle"
           },
           "mode": "markers+text",
           "text": [
            "('Philadelphia 76ers',)"
           ],
           "textfont": {
            "color": "rgb(0, 0, 0)"
           },
           "textposition": "middle center",
           "type": "scatter",
           "x": [
            0.4748962739677183
           ],
           "y": [
            0.4146727453953676
           ]
          },
          {
           "hoverinfo": "none",
           "marker": {
            "color": "rgba(255, 255, 255, 0.0)",
            "line": {
             "color": "rgba(255, 255, 255, 0.0)",
             "width": 1
            },
            "size": 20,
            "symbol": "circle"
           },
           "mode": "markers+text",
           "text": [
            "('Portland Trail Blazers',)"
           ],
           "textfont": {
            "color": "rgb(0, 0, 0)"
           },
           "textposition": "middle center",
           "type": "scatter",
           "x": [
            0.2605586265200922
           ],
           "y": [
            0.5723479168870731
           ]
          },
          {
           "hoverinfo": "none",
           "marker": {
            "color": "rgba(255, 255, 255, 0.0)",
            "line": {
             "color": "rgba(255, 255, 255, 0.0)",
             "width": 1
            },
            "size": 20,
            "symbol": "circle"
           },
           "mode": "markers+text",
           "text": [
            "('Milwaukee Bucks',)"
           ],
           "textfont": {
            "color": "rgb(0, 0, 0)"
           },
           "textposition": "middle center",
           "type": "scatter",
           "x": [
            0.15455978433290074
           ],
           "y": [
            0.4451772264443228
           ]
          },
          {
           "hoverinfo": "none",
           "marker": {
            "color": "rgba(255, 255, 255, 0.0)",
            "line": {
             "color": "rgba(255, 255, 255, 0.0)",
             "width": 1
            },
            "size": 20,
            "symbol": "circle"
           },
           "mode": "markers+text",
           "text": [
            "('New Orleans Pelicans',)"
           ],
           "textfont": {
            "color": "rgb(0, 0, 0)"
           },
           "textposition": "middle center",
           "type": "scatter",
           "x": [
            0.20859398742060498
           ],
           "y": [
            0.939379580126871
           ]
          },
          {
           "hoverinfo": "none",
           "marker": {
            "color": "rgba(255, 255, 255, 0.0)",
            "line": {
             "color": "rgba(255, 255, 255, 0.0)",
             "width": 1
            },
            "size": 20,
            "symbol": "circle"
           },
           "mode": "markers+text",
           "text": [
            "('Toronto Raptors',)"
           ],
           "textfont": {
            "color": "rgb(0, 0, 0)"
           },
           "textposition": "middle center",
           "type": "scatter",
           "x": [
            0.498801222263745
           ],
           "y": [
            0.31498283375559344
           ]
          },
          {
           "hoverinfo": "none",
           "marker": {
            "color": "rgba(255, 255, 255, 0.0)",
            "line": {
             "color": "rgba(255, 255, 255, 0.0)",
             "width": 1
            },
            "size": 20,
            "symbol": "circle"
           },
           "mode": "markers+text",
           "text": [
            "('Phoenix Suns',)"
           ],
           "textfont": {
            "color": "rgb(0, 0, 0)"
           },
           "textposition": "middle center",
           "type": "scatter",
           "x": [
            0.29896656175169767
           ],
           "y": [
            0.7387228229006633
           ]
          },
          {
           "hoverinfo": "none",
           "marker": {
            "color": "rgba(255, 255, 255, 0.0)",
            "line": {
             "color": "rgba(255, 255, 255, 0.0)",
             "width": 1
            },
            "size": 20,
            "symbol": "circle"
           },
           "mode": "markers+text",
           "text": [
            "('New York Knicks',)"
           ],
           "textfont": {
            "color": "rgb(0, 0, 0)"
           },
           "textposition": "middle center",
           "type": "scatter",
           "x": [
            0.595137678663374
           ],
           "y": [
            0.9289274901762686
           ]
          },
          {
           "hoverinfo": "none",
           "marker": {
            "color": "rgba(255, 255, 255, 0.0)",
            "line": {
             "color": "rgba(255, 255, 255, 0.0)",
             "width": 1
            },
            "size": 20,
            "symbol": "circle"
           },
           "mode": "markers+text",
           "text": [
            "('Detroit Pistons',)"
           ],
           "textfont": {
            "color": "rgb(0, 0, 0)"
           },
           "textposition": "middle center",
           "type": "scatter",
           "x": [
            0.5205373591701874
           ],
           "y": [
            0.1649714106502279
           ]
          },
          {
           "hoverinfo": "none",
           "marker": {
            "color": "rgba(255, 255, 255, 0.0)",
            "line": {
             "color": "rgba(255, 255, 255, 0.0)",
             "width": 1
            },
            "size": 20,
            "symbol": "circle"
           },
           "mode": "markers+text",
           "text": [
            "('Utah Jazz',)"
           ],
           "textfont": {
            "color": "rgb(0, 0, 0)"
           },
           "textposition": "middle center",
           "type": "scatter",
           "x": [
            0.5266595794830784
           ],
           "y": [
            0.8030971537898313
           ]
          },
          {
           "hoverinfo": "none",
           "marker": {
            "color": "rgba(255, 255, 255, 0.0)",
            "line": {
             "color": "rgba(255, 255, 255, 0.0)",
             "width": 1
            },
            "size": 20,
            "symbol": "circle"
           },
           "mode": "markers+text",
           "text": [
            "('Sacramento Kings',)"
           ],
           "textfont": {
            "color": "rgb(0, 0, 0)"
           },
           "textposition": "middle center",
           "type": "scatter",
           "x": [
            0.2843590293998197
           ],
           "y": [
            0.006471954056391782
           ]
          },
          {
           "hoverinfo": "none",
           "marker": {
            "color": "rgba(255, 255, 255, 0.0)",
            "line": {
             "color": "rgba(255, 255, 255, 0.0)",
             "width": 1
            },
            "size": 20,
            "symbol": "circle"
           },
           "mode": "markers+text",
           "text": [
            "('Atlanta Hawks',)"
           ],
           "textfont": {
            "color": "rgb(0, 0, 0)"
           },
           "textposition": "middle center",
           "type": "scatter",
           "x": [
            0.941068118585822
           ],
           "y": [
            0.832836493690238
           ]
          },
          {
           "hoverinfo": "none",
           "marker": {
            "color": "rgba(255, 255, 255, 0.0)",
            "line": {
             "color": "rgba(255, 255, 255, 0.0)",
             "width": 1
            },
            "size": 20,
            "symbol": "circle"
           },
           "mode": "markers+text",
           "text": [
            "('Orlando Magic',)"
           ],
           "textfont": {
            "color": "rgb(0, 0, 0)"
           },
           "textposition": "middle center",
           "type": "scatter",
           "x": [
            0.1285717381336141
           ],
           "y": [
            0.17090404054234576
           ]
          },
          {
           "hoverinfo": "none",
           "marker": {
            "color": "rgba(255, 255, 255, 0.0)",
            "line": {
             "color": "rgba(255, 255, 255, 0.0)",
             "width": 1
            },
            "size": 20,
            "symbol": "circle"
           },
           "mode": "markers+text",
           "text": [
            "('San Antonio Spurs',)"
           ],
           "textfont": {
            "color": "rgb(0, 0, 0)"
           },
           "textposition": "middle center",
           "type": "scatter",
           "x": [
            0.71991656933083
           ],
           "y": [
            0.5146376116125279
           ]
          },
          {
           "hoverinfo": "none",
           "mode": "text",
           "text": [
            null,
            null,
            null,
            null,
            null,
            null,
            null,
            null,
            null,
            null,
            null,
            null,
            null,
            null,
            null,
            null,
            null,
            null,
            null,
            null,
            null,
            null,
            null,
            null,
            null,
            null,
            null,
            null,
            null,
            null,
            null,
            null,
            null,
            null,
            null,
            null,
            null,
            null,
            null,
            null,
            null,
            null,
            null,
            null,
            null,
            null
           ],
           "textfont": {
            "color": "rgb(0, 0, 0)"
           },
           "textposition": "middle center",
           "type": "scatter",
           "x": [
            0.5811453276142949,
            0.7705794819273795,
            0.6856832735522186,
            0.5606971915257761,
            0.01289749452219281,
            0.09509472374285477,
            0.399591623063444,
            0.2650620765604027,
            0.040519030616998616,
            0.5267543366427512,
            0.5708417318596337,
            0.4512794926734644,
            0.4541561003552273,
            0.4563432584607982,
            0.546529769450485,
            0.34692772022139207,
            0.26752717943633064,
            0.6666913405675772,
            0.5845002041261683,
            0.09943546043683296,
            0.6691560208118652,
            0.15833243257672064,
            0.5440711726087041,
            0.3295933783261209,
            0.5430369836829082,
            0.38799850636176714,
            0.23744979474663605,
            0.1707897696706347,
            0.4898951030370189,
            0.4214923345555237,
            0.3932791976411785,
            0.4041654157229914,
            0.4350883834939683,
            0.4090645091563535,
            0.32369053628830347,
            0.43507870175092556,
            0.5436929866747942,
            0.5147380230528887,
            0.39021009589758393,
            0.6045630796020731,
            0.36469916380899003,
            0.7276880250899275,
            0.729589299824624,
            0.603654736817597,
            0.5289678677195365,
            0.4382023189514659
           ],
           "y": [
            0.18795803711445935,
            0.3851569754784948,
            0.6592942084036942,
            0.45665895892060104,
            0.6631474333853146,
            0.397168667089225,
            0.5414521873349283,
            0.54801025337634,
            0.386000083180108,
            0.4730061584650669,
            0.44236175443453624,
            0.310628008598912,
            0.6061546249112608,
            0.3530945359471652,
            0.3976552697550934,
            0.2862301446817714,
            0.506925396130603,
            0.4349127257894363,
            0.6605291523964116,
            0.48132398786994257,
            0.5058200838651058,
            0.28827836857856043,
            0.6643473993520597,
            0.4057816944273647,
            0.7672973458899162,
            0.5097217889427015,
            0.5744063336289488,
            0.6461541193115046,
            0.6375558404532252,
            0.4669771268253953,
            0.6134191439974916,
            0.8631938698002886,
            0.7279670922642042,
            0.5749852987462384,
            0.46283266325514244,
            0.533035403795011,
            0.5515586913875788,
            0.6026766533539742,
            0.48461421589252685,
            0.44126915395992633,
            0.2439665090479477,
            0.5518125494248762,
            0.8607405388116176,
            0.47846511465085806,
            0.525841209408175,
            0.4537198608474161
           ]
          },
          {
           "hoverinfo": "none",
           "marker": {
            "color": "rgba(255, 255, 255, 0.0)",
            "line": {
             "color": "rgba(255, 255, 255, 0.0)",
             "width": 0
            },
            "size": 0,
            "symbol": "circle"
           },
           "mode": "markers",
           "type": "scatter",
           "x": [
            0.5,
            0,
            1,
            0.5
           ],
           "y": [
            0,
            0.5,
            0.5,
            1
           ]
          }
         ],
         "name": "0"
        },
        {
         "data": [
          {
           "hoverinfo": "none",
           "line": {
            "color": "rgb(0, 0, 0)",
            "dash": "solid",
            "width": 1
           },
           "mode": "lines",
           "type": "scatter",
           "x": [
            0.8675686494277822,
            0.2843590293998197,
            null,
            0.2977600114265353,
            0.3120936930105964,
            null,
            0.2977600114265353,
            0.3090312240829498,
            null
           ],
           "y": [
            0.4184051883646216,
            0.006471954056391782,
            null,
            0.015937349824223464,
            0.017745495290004278,
            null,
            0.015937349824223464,
            0.032214480280492036,
            null
           ]
          },
          {
           "hoverinfo": "none",
           "line": {
            "color": "rgb(0, 0, 0)",
            "dash": "solid",
            "width": 1
           },
           "mode": "lines",
           "type": "scatter",
           "x": [
            0.8675686494277822,
            0.6724589514545904,
            null,
            0.6868156273828264,
            0.7006982540693258,
            null,
            0.6868156273828264,
            0.7003639134499172,
            null
           ],
           "y": [
            0.4184051883646216,
            0.4043614998419862,
            null,
            0.40539487074589825,
            0.3986316658012261,
            null,
            0.40539487074589825,
            0.4141325095531862,
            null
           ]
          },
          {
           "hoverinfo": "none",
           "line": {
            "color": "rgb(0, 0, 0)",
            "dash": "solid",
            "width": 1
           },
           "mode": "lines",
           "type": "scatter",
           "x": [
            0.8675686494277822,
            0.5221180554750893,
            null,
            0.5331872511916863,
            0.5410550693556936,
            null,
            0.5331872511916863,
            0.5464690461743552,
            null
           ],
           "y": [
            0.4184051883646216,
            0.9406250143679719,
            null,
            0.923891641890662,
            0.9019299581097725,
            null,
            0.923891641890662,
            0.9138813230441428,
            null
           ]
          },
          {
           "hoverinfo": "none",
           "line": {
            "color": "rgb(0, 0, 0)",
            "dash": "solid",
            "width": 1
           },
           "mode": "lines",
           "type": "scatter",
           "x": [
            0.45848455903048313,
            0.6708449357266852,
            null,
            0.6570357851442974,
            0.64267090678355,
            null,
            0.6570357851442974,
            0.6450158926346744,
            null
           ],
           "y": [
            0.37570346186128845,
            0.4871621262930794,
            null,
            0.47991430772731986,
            0.48044504363268736,
            null,
            0.47991430772731986,
            0.46553536073708807,
            null
           ]
          },
          {
           "hoverinfo": "none",
           "line": {
            "color": "rgb(0, 0, 0)",
            "dash": "solid",
            "width": 1
           },
           "mode": "lines",
           "type": "scatter",
           "x": [
            0.034891532242013024,
            0.018938184382305767,
            null,
            0.02209217417809563,
            0.0209628814722854,
            null,
            0.02209217417809563,
            0.02924770996040161,
            null
           ],
           "y": [
            0.6041482586538549,
            0.7336698464258018,
            null,
            0.7080633235968865,
            0.68189780309555,
            null,
            0.7080633235968865,
            0.6853031528620417,
            null
           ]
          },
          {
           "hoverinfo": "none",
           "line": {
            "color": "rgb(0, 0, 0)",
            "dash": "solid",
            "width": 1
           },
           "mode": "lines",
           "type": "scatter",
           "x": [
            0.034891532242013024,
            0.1285717381336141,
            null,
            0.12329329105873123,
            0.12219966065359684,
            null,
            0.12329329105873123,
            0.11430153527075773,
            null
           ],
           "y": [
            0.6041482586538549,
            0.17090404054234576,
            null,
            0.19531535191848404,
            0.22148592718522866,
            null,
            0.19531535191848404,
            0.2157868096618032,
            null
           ]
          },
          {
           "hoverinfo": "none",
           "line": {
            "color": "rgb(0, 0, 0)",
            "dash": "solid",
            "width": 1
           },
           "mode": "lines",
           "type": "scatter",
           "x": [
            0.5221180554750893,
            0.25284826436995056,
            null,
            0.2605825555215104,
            0.2715497016058739,
            null,
            0.2605825555215104,
            0.2643931105463597,
            null
           ],
           "y": [
            0.9406250143679719,
            0.17053692797372544,
            null,
            0.19265632520753942,
            0.20961245138340134,
            null,
            0.19265632520753942,
            0.2179631336215305,
            null
           ]
          },
          {
           "hoverinfo": "none",
           "line": {
            "color": "rgb(0, 0, 0)",
            "dash": "solid",
            "width": 1
           },
           "mode": "lines",
           "type": "scatter",
           "x": [
            0.018938184382305767,
            0.498801222263745,
            null,
            0.4858363214565184,
            0.47528045005631464,
            null,
            0.4858363214565184,
            0.47162050721864684,
            null
           ],
           "y": [
            0.7336698464258018,
            0.31498283375559344,
            null,
            0.32629488565379455,
            0.34410077654775095,
            null,
            0.32629488565379455,
            0.3301026266503064,
            null
           ]
          },
          {
           "hoverinfo": "none",
           "line": {
            "color": "rgb(0, 0, 0)",
            "dash": "solid",
            "width": 1
           },
           "mode": "lines",
           "type": "scatter",
           "x": [
            0.018938184382305767,
            0.033384801454501734,
            null,
            0.03284143188814721,
            0.036565273622165106,
            null,
            0.03284143188814721,
            0.028079388606491656,
            null
           ],
           "y": [
            0.7336698464258018,
            0.036345095691985074,
            null,
            0.06257303857445758,
            0.08792288638398166,
            null,
            0.06257303857445758,
            0.0873362125055899,
            null
           ]
          },
          {
           "hoverinfo": "none",
           "line": {
            "color": "rgb(0, 0, 0)",
            "dash": "solid",
            "width": 1
           },
           "mode": "lines",
           "type": "scatter",
           "x": [
            0.7686980902794368,
            0.29896656175169767,
            null,
            0.31147000950383846,
            0.3213233204991327,
            null,
            0.31147000950383846,
            0.3255066982635355,
            null
           ],
           "y": [
            0.2529713818798117,
            0.7387228229006633,
            null,
            0.725792952550322,
            0.7066906151358712,
            null,
            0.725792952550322,
            0.7201905360740841,
            null
           ]
          },
          {
           "hoverinfo": "none",
           "line": {
            "color": "rgb(0, 0, 0)",
            "dash": "solid",
            "width": 1
           },
           "mode": "lines",
           "type": "scatter",
           "x": [
            0.6708449357266852,
            0.46795563360246895,
            null,
            0.4822509604345521,
            0.496333784554192,
            null,
            0.4822509604345521,
            0.495481831008243,
            null
           ],
           "y": [
            0.4871621262930794,
            0.4497899782459661,
            null,
            0.4524231731219749,
            0.44722145757699366,
            null,
            0.4524231731219749,
            0.46265606296301565,
            null
           ]
          },
          {
           "hoverinfo": "none",
           "line": {
            "color": "rgb(0, 0, 0)",
            "dash": "solid",
            "width": 1
           },
           "mode": "lines",
           "type": "scatter",
           "x": [
            0.4137964301778312,
            0.498801222263745,
            null,
            0.4853386656717405,
            0.47099407963527284,
            null,
            0.4853386656717405,
            0.4739607086096874,
            null
           ],
           "y": [
            0.25708714990923776,
            0.31498283375559344,
            null,
            0.3058136575116635,
            0.3043217422678744,
            null,
            0.3058136575116635,
            0.2897862754733528,
            null
           ]
          },
          {
           "hoverinfo": "none",
           "line": {
            "color": "rgb(0, 0, 0)",
            "dash": "solid",
            "width": 1
           },
           "mode": "lines",
           "type": "scatter",
           "x": [
            0.4137964301778312,
            0.5221180554750893,
            null,
            0.5181227324917819,
            0.5102273381847249,
            null,
            0.5181227324917819,
            0.5183843711352475,
            null
           ],
           "y": [
            0.25708714990923776,
            0.9406250143679719,
            null,
            0.915413478515011,
            0.8934848452362809,
            null,
            0.915413478515011,
            0.8891711114992771,
            null
           ]
          },
          {
           "hoverinfo": "none",
           "line": {
            "color": "rgb(0, 0, 0)",
            "dash": "solid",
            "width": 1
           },
           "mode": "lines",
           "type": "scatter",
           "x": [
            0.25284826436995056,
            0.6708449357266852,
            null,
            0.6575728834881168,
            0.6432672590557594,
            null,
            0.6575728834881168,
            0.646519956342303,
            null
           ],
           "y": [
            0.17053692797372544,
            0.4871621262930794,
            null,
            0.47710877788123246,
            0.47466933732065125,
            null,
            0.47710877788123246,
            0.4603395572903529,
            null
           ]
          },
          {
           "hoverinfo": "none",
           "line": {
            "color": "rgb(0, 0, 0)",
            "dash": "solid",
            "width": 1
           },
           "mode": "lines",
           "type": "scatter",
           "x": [
            0.25284826436995056,
            0.8502102235794309,
            null,
            0.836740279491424,
            0.822394504653078,
            null,
            0.836740279491424,
            0.8253493961422608,
            null
           ],
           "y": [
            0.17053692797372544,
            0.575560587466893,
            null,
            0.5664276891234621,
            0.564974419606242,
            null,
            0.5664276891234621,
            0.5504309765627736,
            null
           ]
          },
          {
           "hoverinfo": "none",
           "line": {
            "color": "rgb(0, 0, 0)",
            "dash": "solid",
            "width": 1
           },
           "mode": "lines",
           "type": "scatter",
           "x": [
            0.033384801454501734,
            0.6708449357266852,
            null,
            0.6574461435778345,
            0.6431128813697783,
            null,
            0.6574461435778345,
            0.6461786956858772,
            null
           ],
           "y": [
            0.036345095691985074,
            0.4871621262930794,
            null,
            0.4776863906894989,
            0.475867185000289,
            null,
            0.4776863906894989,
            0.4614005644118946,
            null
           ]
          },
          {
           "hoverinfo": "none",
           "line": {
            "color": "rgb(0, 0, 0)",
            "dash": "solid",
            "width": 1
           },
           "mode": "lines",
           "type": "scatter",
           "x": [
            0.033384801454501734,
            0.5221180554750893,
            null,
            0.512023558407075,
            0.49935844483278063,
            null,
            0.512023558407075,
            0.5054013892044785,
            null
           ],
           "y": [
            0.036345095691985074,
            0.9406250143679719,
            null,
            0.9219476460640046,
            0.9095539680153487,
            null,
            0.9219476460640046,
            0.8986549811894244,
            null
           ]
          },
          {
           "hoverinfo": "none",
           "line": {
            "color": "rgb(0, 0, 0)",
            "dash": "solid",
            "width": 1
           },
           "mode": "lines",
           "type": "scatter",
           "x": [
            0.8685522586300654,
            0.45848455903048313,
            null,
            0.47249764732117155,
            0.48682252733333503,
            null,
            0.47249764732117155,
            0.4849471964478749,
            null
           ],
           "y": [
            0.5453194146536426,
            0.37570346186128845,
            null,
            0.3814996836176214,
            0.3794720889616937,
            null,
            0.3814996836176214,
            0.39460196255932617,
            null
           ]
          },
          {
           "hoverinfo": "none",
           "line": {
            "color": "rgb(0, 0, 0)",
            "dash": "solid",
            "width": 1
           },
           "mode": "lines",
           "type": "scatter",
           "x": [
            0.6724589514545904,
            0.5221180554750893,
            null,
            0.528667371414693,
            0.5311449710471972,
            null,
            0.528667371414693,
            0.5387033727740197,
            null
           ],
           "y": [
            0.4043614998419862,
            0.9406250143679719,
            null,
            0.9172637116390602,
            0.8914101720126275,
            null,
            0.9172637116390602,
            0.8984814414046149,
            null
           ]
          },
          {
           "hoverinfo": "none",
           "line": {
            "color": "rgb(0, 0, 0)",
            "dash": "solid",
            "width": 1
           },
           "mode": "lines",
           "type": "scatter",
           "x": [
            0.20335982988714008,
            0.018938184382305767,
            null,
            0.027258458597051585,
            0.03174553041303147,
            null,
            0.027258458597051585,
            0.038668709894826854,
            null
           ],
           "y": [
            0.2593766114844933,
            0.7336698464258018,
            null,
            0.7122718713556406,
            0.6873379221111203,
            null,
            0.7122718713556406,
            0.6963212878443109,
            null
           ]
          },
          {
           "hoverinfo": "none",
           "line": {
            "color": "rgb(0, 0, 0)",
            "dash": "solid",
            "width": 1
           },
           "mode": "lines",
           "type": "scatter",
           "x": [
            0.4748962739677183,
            0.8685522586300654,
            null,
            0.8544158427345641,
            0.8401518403670534,
            null,
            0.8544158427345641,
            0.8416697772412196,
            null
           ],
           "y": [
            0.4146727453953676,
            0.5453194146536426,
            null,
            0.540627816598602,
            0.5437772767361085,
            null,
            0.540627816598602,
            0.5285142468325135,
            null
           ]
          },
          {
           "hoverinfo": "none",
           "line": {
            "color": "rgb(0, 0, 0)",
            "dash": "solid",
            "width": 1
           },
           "mode": "lines",
           "type": "scatter",
           "x": [
            0.2605586265200922,
            0.033384801454501734,
            null,
            0.042180721666971635,
            0.05394110710674939,
            null,
            0.042180721666971635,
            0.04722646329601378,
            null
           ],
           "y": [
            0.5723479168870731,
            0.036345095691985074,
            null,
            0.05709853437502674,
            0.07217659224675899,
            null,
            0.05709853437502674,
            0.0816735110007756,
            null
           ]
          },
          {
           "hoverinfo": "none",
           "line": {
            "color": "rgb(0, 0, 0)",
            "dash": "solid",
            "width": 1
           },
           "mode": "lines",
           "type": "scatter",
           "x": [
            0.15455978433290074,
            0.941068118585822,
            null,
            0.927196357856654,
            0.9128380918842263,
            null,
            0.927196357856654,
            0.9150502254430942,
            null
           ],
           "y": [
            0.4451772264443228,
            0.832836493690238,
            null,
            0.8259992913803759,
            0.8269561039365785,
            null,
            0.8259992913803759,
            0.811978821123883,
            null
           ]
          },
          {
           "hoverinfo": "none",
           "line": {
            "color": "rgb(0, 0, 0)",
            "dash": "solid",
            "width": 1
           },
           "mode": "lines",
           "type": "scatter",
           "x": [
            0.15455978433290074,
            0.498801222263745,
            null,
            0.4847317767052078,
            0.4721515354115645,
            null,
            0.4847317767052078,
            0.47042990855117744,
            null
           ],
           "y": [
            0.4451772264443228,
            0.31498283375559344,
            null,
            0.32030399128668907,
            0.3329828483941058,
            null,
            0.32030399128668907,
            0.3177921260869547,
            null
           ]
          },
          {
           "hoverinfo": "none",
           "line": {
            "color": "rgb(0, 0, 0)",
            "dash": "solid",
            "width": 1
           },
           "mode": "lines",
           "type": "scatter",
           "x": [
            0.20859398742060498,
            0.8685522586300654,
            null,
            0.8548954622530966,
            0.8431677873736535,
            null,
            0.8548954622530966,
            0.8405294653255867,
            null
           ],
           "y": [
            0.939379580126871,
            0.5453194146536426,
            null,
            0.5534738687682641,
            0.5686367096772376,
            null,
            0.5534738687682641,
            0.5538915229884873,
            null
           ]
          },
          {
           "hoverinfo": "none",
           "line": {
            "color": "rgb(0, 0, 0)",
            "dash": "solid",
            "width": 1
           },
           "mode": "lines",
           "type": "scatter",
           "x": [
            0.498801222263745,
            0.29896656175169767,
            null,
            0.30834432900147873,
            0.31408640082604095,
            null,
            0.30834432900147873,
            0.32052010365740247,
            null
           ],
           "y": [
            0.31498283375559344,
            0.7387228229006633,
            null,
            0.7188377089647469,
            0.6947781657318409,
            null,
            0.7188377089647469,
            0.7049033023308507,
            null
           ]
          },
          {
           "hoverinfo": "none",
           "line": {
            "color": "rgb(0, 0, 0)",
            "dash": "solid",
            "width": 1
           },
           "mode": "lines",
           "type": "scatter",
           "x": [
            0.29896656175169767,
            0.15455978433290074,
            null,
            0.1641634427920823,
            0.17649628080181545,
            null,
            0.1641634427920823,
            0.17018005549266108,
            null
           ],
           "y": [
            0.7387228229006633,
            0.4451772264443228,
            null,
            0.464699244045946,
            0.47816482459933807,
            null,
            0.464699244045946,
            0.48853385500491986,
            null
           ]
          },
          {
           "hoverinfo": "none",
           "line": {
            "color": "rgb(0, 0, 0)",
            "dash": "solid",
            "width": 1
           },
           "mode": "lines",
           "type": "scatter",
           "x": [
            0.29896656175169767,
            0.034891532242013024,
            null,
            0.04873093106162867,
            0.06309313530398673,
            null,
            0.04873093106162867,
            0.060811292179151946,
            null
           ],
           "y": [
            0.7387228229006633,
            0.6041482586538549,
            null,
            0.611200917396507,
            0.610467408742461,
            null,
            0.611200917396507,
            0.6254097505349654,
            null
           ]
          },
          {
           "hoverinfo": "none",
           "line": {
            "color": "rgb(0, 0, 0)",
            "dash": "solid",
            "width": 1
           },
           "mode": "lines",
           "type": "scatter",
           "x": [
            0.29896656175169767,
            0.6708449357266852,
            null,
            0.6573712397622157,
            0.6459737813771741,
            null,
            0.6573712397622157,
            0.6430248713507729,
            null
           ],
           "y": [
            0.7387228229006633,
            0.4871621262930794,
            null,
            0.4962765372938351,
            0.5122576136642456,
            null,
            0.4962765372938351,
            0.4977101197352439,
            null
           ]
          },
          {
           "hoverinfo": "none",
           "line": {
            "color": "rgb(0, 0, 0)",
            "dash": "solid",
            "width": 1
           },
           "mode": "lines",
           "type": "scatter",
           "x": [
            0.29896656175169767,
            0.5205373591701874,
            null,
            0.5122549829790511,
            0.5078120445657056,
            null,
            0.5122549829790511,
            0.5008730090082815,
            null
           ],
           "y": [
            0.7387228229006633,
            0.1649714106502279,
            null,
            0.18641839324820295,
            0.21137870200243966,
            null,
            0.18641839324820295,
            0.2024362546089411,
            null
           ]
          },
          {
           "hoverinfo": "none",
           "line": {
            "color": "rgb(0, 0, 0)",
            "dash": "solid",
            "width": 1
           },
           "mode": "lines",
           "type": "scatter",
           "x": [
            0.29896656175169767,
            0.46795563360246895,
            null,
            0.457465683538372,
            0.45034569840344585,
            null,
            0.457465683538372,
            0.4445428045426237,
            null
           ],
           "y": [
            0.7387228229006633,
            0.4497899782459661,
            null,
            0.4677254049520298,
            0.49052275042928134,
            null,
            0.4677254049520298,
            0.4791967946354593,
            null
           ]
          },
          {
           "hoverinfo": "none",
           "line": {
            "color": "rgb(0, 0, 0)",
            "dash": "solid",
            "width": 1
           },
           "mode": "lines",
           "type": "scatter",
           "x": [
            0.29896656175169767,
            0.5221180554750893,
            null,
            0.5092429097937172,
            0.4950583126166657,
            null,
            0.5092429097937172,
            0.4988273140263234,
            null
           ],
           "y": [
            0.7387228229006633,
            0.9406250143679719,
            null,
            0.9289758871981035,
            0.9247976717754961,
            null,
            0.9289758871981035,
            0.9108964301170315,
            null
           ]
          },
          {
           "hoverinfo": "none",
           "line": {
            "color": "rgb(0, 0, 0)",
            "dash": "solid",
            "width": 1
           },
           "mode": "lines",
           "type": "scatter",
           "x": [
            0.595137678663374,
            0.2605586265200922,
            null,
            0.2729688318259899,
            0.28696438832475857,
            null,
            0.2729688318259899,
            0.2826851192597498,
            null
           ],
           "y": [
            0.9289274901762686,
            0.5723479168870731,
            null,
            0.5855741654643846,
            0.5915100596176353,
            null,
            0.5855741654643846,
            0.6049093070714365,
            null
           ]
          },
          {
           "hoverinfo": "none",
           "line": {
            "color": "rgb(0, 0, 0)",
            "dash": "solid",
            "width": 1
           },
           "mode": "lines",
           "type": "scatter",
           "x": [
            0.595137678663374,
            0.20335982988714008,
            null,
            0.21385197434699402,
            0.22677625670966825,
            null,
            0.21385197434699402,
            0.22097474888767088,
            null
           ],
           "y": [
            0.9289274901762686,
            0.2593766114844933,
            null,
            0.2773077542594097,
            0.2887738667070758,
            null,
            0.2773077542594097,
            0.3001021917809408,
            null
           ]
          },
          {
           "hoverinfo": "none",
           "line": {
            "color": "rgb(0, 0, 0)",
            "dash": "solid",
            "width": 1
           },
           "mode": "lines",
           "type": "scatter",
           "x": [
            0.595137678663374,
            0.033384801454501734,
            null,
            0.04422558149429061,
            0.05736872180725856,
            null,
            0.04422558149429061,
            0.05179562666651235,
            null
           ],
           "y": [
            0.9289274901762686,
            0.036345095691985074,
            null,
            0.053570266756652926,
            0.06417372847078258,
            null,
            0.053570266756652926,
            0.0758784739415388,
            null
           ]
          },
          {
           "hoverinfo": "none",
           "line": {
            "color": "rgb(0, 0, 0)",
            "dash": "solid",
            "width": 1
           },
           "mode": "lines",
           "type": "scatter",
           "x": [
            0.595137678663374,
            0.25284826436995056,
            null,
            0.26198832588097737,
            0.27399621744513514,
            null,
            0.26198832588097737,
            0.2674441028654924,
            null
           ],
           "y": [
            0.9289274901762686,
            0.17053692797372544,
            null,
            0.19078802572450568,
            0.20520039500374992,
            null,
            0.19078802572450568,
            0.2150688816976011,
            null
           ]
          },
          {
           "hoverinfo": "none",
           "line": {
            "color": "rgb(0, 0, 0)",
            "dash": "solid",
            "width": 1
           },
           "mode": "lines",
           "type": "scatter",
           "x": [
            0.5205373591701874,
            0.595137678663374,
            null,
            0.5926145165782878,
            0.5860240526791469,
            null,
            0.5926145165782878,
            0.5943840428617065,
            null
           ],
           "y": [
            0.1649714106502279,
            0.9289274901762686,
            null,
            0.9030886596239782,
            0.8797660058063278,
            null,
            0.9030886596239782,
            0.8770417581157556,
            null
           ]
          },
          {
           "hoverinfo": "none",
           "line": {
            "color": "rgb(0, 0, 0)",
            "dash": "solid",
            "width": 1
           },
           "mode": "lines",
           "type": "scatter",
           "x": [
            0.5266595794830784,
            0.4748962739677183,
            null,
            0.47829478096041395,
            0.4856669892507968,
            null,
            0.47829478096041395,
            0.4774160081473725,
            null
           ],
           "y": [
            0.8030971537898313,
            0.4146727453953676,
            null,
            0.44017465364716113,
            0.4627028801549795,
            null,
            0.44017465364716113,
            0.4663722341298862,
            null
           ]
          },
          {
           "hoverinfo": "none",
           "line": {
            "color": "rgb(0, 0, 0)",
            "dash": "solid",
            "width": 1
           },
           "mode": "lines",
           "type": "scatter",
           "x": [
            0.2843590293998197,
            0.5221180554750893,
            null,
            0.5160605213224866,
            0.506423368698442,
            null,
            0.5160605213224866,
            0.5141237071263195,
            null
           ],
           "y": [
            0.006471954056391782,
            0.9406250143679719,
            null,
            0.916825017539232,
            0.8973581594406975,
            null,
            0.916825017539232,
            0.8908178648146285,
            null
           ]
          },
          {
           "hoverinfo": "none",
           "line": {
            "color": "rgb(0, 0, 0)",
            "dash": "solid",
            "width": 1
           },
           "mode": "lines",
           "type": "scatter",
           "x": [
            0.2843590293998197,
            0.941068118585822,
            null,
            0.9292358077194441,
            0.9155233336113702,
            null,
            0.9292358077194441,
            0.9203406051848619,
            null
           ],
           "y": [
            0.006471954056391782,
            0.832836493690238,
            null,
            0.8179474015748562,
            0.8101109571932454,
            null,
            0.8179474015748562,
            0.7973356599809138,
            null
           ]
          },
          {
           "hoverinfo": "none",
           "line": {
            "color": "rgb(0, 0, 0)",
            "dash": "solid",
            "width": 1
           },
           "mode": "lines",
           "type": "scatter",
           "x": [
            0.2843590293998197,
            0.46795563360246895,
            null,
            0.4592870389994964,
            0.4476194941814937,
            null,
            0.4592870389994964,
            0.45439173435018515,
            null
           ],
           "y": [
            0.006471954056391782,
            0.4497899782459661,
            null,
            0.4288585223043929,
            0.4135416615823307,
            null,
            0.4288585223043929,
            0.4041822157634355,
            null
           ]
          },
          {
           "hoverinfo": "none",
           "line": {
            "color": "rgb(0, 0, 0)",
            "dash": "solid",
            "width": 1
           },
           "mode": "lines",
           "type": "scatter",
           "x": [
            0.941068118585822,
            0.498801222263745,
            null,
            0.5108974874182753,
            0.5247447638754987,
            null,
            0.5108974874182753,
            0.5201622179295747,
            null
           ],
           "y": [
            0.832836493690238,
            0.31498283375559344,
            null,
            0.3291464422777462,
            0.3361473105326732,
            null,
            0.3291464422777462,
            0.349207598100625,
            null
           ]
          },
          {
           "hoverinfo": "none",
           "line": {
            "color": "rgb(0, 0, 0)",
            "dash": "solid",
            "width": 1
           },
           "mode": "lines",
           "type": "scatter",
           "x": [
            0.941068118585822,
            0.5221180554750893,
            null,
            0.536345457770869,
            0.549345254720324,
            null,
            0.536345457770869,
            0.5505295739386695,
            null
           ],
           "y": [
            0.832836493690238,
            0.9406250143679719,
            null,
            0.9369645527006257,
            0.9257869463305198,
            null,
            0.9369645527006257,
            0.9411482138750089,
            null
           ]
          },
          {
           "hoverinfo": "none",
           "line": {
            "color": "rgb(0, 0, 0)",
            "dash": "solid",
            "width": 1
           },
           "mode": "lines",
           "type": "scatter",
           "x": [
            0.941068118585822,
            0.25284826436995056,
            null,
            0.26556008641737605,
            0.2796831183252613,
            null,
            0.26556008641737605,
            0.27572518939984464,
            null
           ],
           "y": [
            0.832836493690238,
            0.17053692797372544,
            null,
            0.18276998717697637,
            0.18759422410502397,
            null,
            0.18276998717697637,
            0.20131912590992768,
            null
           ]
          },
          {
           "hoverinfo": "none",
           "line": {
            "color": "rgb(0, 0, 0)",
            "dash": "solid",
            "width": 1
           },
           "mode": "lines",
           "type": "scatter",
           "x": [
            0.1285717381336141,
            0.941068118585822,
            null,
            0.9279460941415584,
            0.9136807432089741,
            null,
            0.9279460941415584,
            0.9171395475485363,
            null
           ],
           "y": [
            0.17090404054234576,
            0.832836493690238,
            null,
            0.8221461151979379,
            0.8190171043616443,
            null,
            0.8221461151979379,
            0.8048493087217157,
            null
           ]
          },
          {
           "hoverinfo": "none",
           "line": {
            "color": "rgb(0, 0, 0)",
            "dash": "solid",
            "width": 1
           },
           "mode": "lines",
           "type": "scatter",
           "x": [
            0.71991656933083,
            0.15455978433290074,
            null,
            0.16889521488888423,
            0.18287529826477666,
            null,
            0.16889521488888423,
            0.1823054513079062,
            null
           ],
           "y": [
            0.5146376116125279,
            0.4451772264443228,
            null,
            0.44693849393839613,
            0.44088214443698753,
            null,
            0.44693849393839613,
            0.4563600496482029,
            null
           ]
          },
          {
           "hoverinfo": "none",
           "marker": {
            "color": "rgb(255, 0, 0)",
            "line": {
             "color": "rgb(0, 0, 0)",
             "width": 1
            },
            "size": 20,
            "symbol": "circle"
           },
           "mode": "markers+text",
           "text": [
            "('Golden State Warriors',)"
           ],
           "textfont": {
            "color": "rgb(0, 0, 0)"
           },
           "textposition": "middle center",
           "type": "scatter",
           "x": [
            0.8675686494277822
           ],
           "y": [
            0.4184051883646216
           ]
          },
          {
           "hoverinfo": "none",
           "marker": {
            "color": "rgb(255, 0, 0)",
            "line": {
             "color": "rgb(0, 0, 0)",
             "width": 1
            },
            "size": 20,
            "symbol": "circle"
           },
           "mode": "markers+text",
           "text": [
            "('LA Clippers',)"
           ],
           "textfont": {
            "color": "rgb(0, 0, 0)"
           },
           "textposition": "middle center",
           "type": "scatter",
           "x": [
            0.45848455903048313
           ],
           "y": [
            0.37570346186128845
           ]
          },
          {
           "hoverinfo": "none",
           "marker": {
            "color": "rgb(255, 0, 0)",
            "line": {
             "color": "rgb(0, 0, 0)",
             "width": 1
            },
            "size": 20,
            "symbol": "circle"
           },
           "mode": "markers+text",
           "text": [
            "('Boston Celtics',)"
           ],
           "textfont": {
            "color": "rgb(0, 0, 0)"
           },
           "textposition": "middle center",
           "type": "scatter",
           "x": [
            0.5357097752206065
           ],
           "y": [
            0.35903305778233463
           ]
          },
          {
           "hoverinfo": "none",
           "marker": {
            "color": "rgb(255, 0, 0)",
            "line": {
             "color": "rgb(0, 0, 0)",
             "width": 1
            },
            "size": 20,
            "symbol": "circle"
           },
           "mode": "markers+text",
           "text": [
            "('Chicago Bulls',)"
           ],
           "textfont": {
            "color": "rgb(0, 0, 0)"
           },
           "textposition": "middle center",
           "type": "scatter",
           "x": [
            0.034891532242013024
           ],
           "y": [
            0.6041482586538549
           ]
          },
          {
           "hoverinfo": "none",
           "marker": {
            "color": "rgb(255, 0, 0)",
            "line": {
             "color": "rgb(0, 0, 0)",
             "width": 1
            },
            "size": 20,
            "symbol": "circle"
           },
           "mode": "markers+text",
           "text": [
            "('Houston Rockets',)"
           ],
           "textfont": {
            "color": "rgb(0, 0, 0)"
           },
           "textposition": "middle center",
           "type": "scatter",
           "x": [
            0.5221180554750893
           ],
           "y": [
            0.9406250143679719
           ]
          },
          {
           "hoverinfo": "none",
           "marker": {
            "color": "rgb(255, 0, 0)",
            "line": {
             "color": "rgb(0, 0, 0)",
             "width": 1
            },
            "size": 20,
            "symbol": "circle"
           },
           "mode": "markers+text",
           "text": [
            "('Cleveland Cavaliers',)"
           ],
           "textfont": {
            "color": "rgb(0, 0, 0)"
           },
           "textposition": "middle center",
           "type": "scatter",
           "x": [
            0.018938184382305767
           ],
           "y": [
            0.7336698464258018
           ]
          },
          {
           "hoverinfo": "none",
           "marker": {
            "color": "rgb(255, 0, 0)",
            "line": {
             "color": "rgb(0, 0, 0)",
             "width": 1
            },
            "size": 20,
            "symbol": "circle"
           },
           "mode": "markers+text",
           "text": [
            "('Dallas Mavericks',)"
           ],
           "textfont": {
            "color": "rgb(0, 0, 0)"
           },
           "textposition": "middle center",
           "type": "scatter",
           "x": [
            0.7686980902794368
           ],
           "y": [
            0.2529713818798117
           ]
          },
          {
           "hoverinfo": "none",
           "marker": {
            "color": "rgb(255, 0, 0)",
            "line": {
             "color": "rgb(0, 0, 0)",
             "width": 1
            },
            "size": 20,
            "symbol": "circle"
           },
           "mode": "markers+text",
           "text": [
            "('Los Angeles Lakers',)"
           ],
           "textfont": {
            "color": "rgb(0, 0, 0)"
           },
           "textposition": "middle center",
           "type": "scatter",
           "x": [
            0.6708449357266852
           ],
           "y": [
            0.4871621262930794
           ]
          },
          {
           "hoverinfo": "none",
           "marker": {
            "color": "rgb(255, 0, 0)",
            "line": {
             "color": "rgb(0, 0, 0)",
             "width": 1
            },
            "size": 20,
            "symbol": "circle"
           },
           "mode": "markers+text",
           "text": [
            "('Brooklyn Nets',)"
           ],
           "textfont": {
            "color": "rgb(0, 0, 0)"
           },
           "textposition": "middle center",
           "type": "scatter",
           "x": [
            0.4137964301778312
           ],
           "y": [
            0.25708714990923776
           ]
          },
          {
           "hoverinfo": "none",
           "marker": {
            "color": "rgb(255, 0, 0)",
            "line": {
             "color": "rgb(0, 0, 0)",
             "width": 1
            },
            "size": 20,
            "symbol": "circle"
           },
           "mode": "markers+text",
           "text": [
            "('Memphis Grizzlies',)"
           ],
           "textfont": {
            "color": "rgb(0, 0, 0)"
           },
           "textposition": "middle center",
           "type": "scatter",
           "x": [
            0.25284826436995056
           ],
           "y": [
            0.17053692797372544
           ]
          },
          {
           "hoverinfo": "none",
           "marker": {
            "color": "rgb(255, 0, 0)",
            "line": {
             "color": "rgb(0, 0, 0)",
             "width": 1
            },
            "size": 20,
            "symbol": "circle"
           },
           "mode": "markers+text",
           "text": [
            "('Washington Wizards',)"
           ],
           "textfont": {
            "color": "rgb(0, 0, 0)"
           },
           "textposition": "middle center",
           "type": "scatter",
           "x": [
            0.033384801454501734
           ],
           "y": [
            0.036345095691985074
           ]
          },
          {
           "hoverinfo": "none",
           "marker": {
            "color": "rgb(255, 0, 0)",
            "line": {
             "color": "rgb(0, 0, 0)",
             "width": 1
            },
            "size": 20,
            "symbol": "circle"
           },
           "mode": "markers+text",
           "text": [
            "('Oklahoma City Thunder',)"
           ],
           "textfont": {
            "color": "rgb(0, 0, 0)"
           },
           "textposition": "middle center",
           "type": "scatter",
           "x": [
            0.8685522586300654
           ],
           "y": [
            0.5453194146536426
           ]
          },
          {
           "hoverinfo": "none",
           "marker": {
            "color": "rgb(255, 0, 0)",
            "line": {
             "color": "rgb(0, 0, 0)",
             "width": 1
            },
            "size": 20,
            "symbol": "circle"
           },
           "mode": "markers+text",
           "text": [
            "('Miami Heat',)"
           ],
           "textfont": {
            "color": "rgb(0, 0, 0)"
           },
           "textposition": "middle center",
           "type": "scatter",
           "x": [
            0.6724589514545904
           ],
           "y": [
            0.4043614998419862
           ]
          },
          {
           "hoverinfo": "none",
           "marker": {
            "color": "rgb(255, 0, 0)",
            "line": {
             "color": "rgb(0, 0, 0)",
             "width": 1
            },
            "size": 20,
            "symbol": "circle"
           },
           "mode": "markers+text",
           "text": [
            "('Minnesota Timberwolves',)"
           ],
           "textfont": {
            "color": "rgb(0, 0, 0)"
           },
           "textposition": "middle center",
           "type": "scatter",
           "x": [
            0.46795563360246895
           ],
           "y": [
            0.4497899782459661
           ]
          },
          {
           "hoverinfo": "none",
           "marker": {
            "color": "rgb(255, 0, 0)",
            "line": {
             "color": "rgb(0, 0, 0)",
             "width": 1
            },
            "size": 20,
            "symbol": "circle"
           },
           "mode": "markers+text",
           "text": [
            "('Indiana Pacers',)"
           ],
           "textfont": {
            "color": "rgb(0, 0, 0)"
           },
           "textposition": "middle center",
           "type": "scatter",
           "x": [
            0.20335982988714008
           ],
           "y": [
            0.2593766114844933
           ]
          },
          {
           "hoverinfo": "none",
           "marker": {
            "color": "rgb(255, 0, 0)",
            "line": {
             "color": "rgb(0, 0, 0)",
             "width": 1
            },
            "size": 20,
            "symbol": "circle"
           },
           "mode": "markers+text",
           "text": [
            "('Denver Nuggets',)"
           ],
           "textfont": {
            "color": "rgb(0, 0, 0)"
           },
           "textposition": "middle center",
           "type": "scatter",
           "x": [
            0.8502102235794309
           ],
           "y": [
            0.575560587466893
           ]
          },
          {
           "hoverinfo": "none",
           "marker": {
            "color": "rgb(255, 0, 0)",
            "line": {
             "color": "rgb(0, 0, 0)",
             "width": 1
            },
            "size": 20,
            "symbol": "circle"
           },
           "mode": "markers+text",
           "text": [
            "('Charlotte Hornets',)"
           ],
           "textfont": {
            "color": "rgb(0, 0, 0)"
           },
           "textposition": "middle center",
           "type": "scatter",
           "x": [
            0.18674033924666944
           ],
           "y": [
            0.3892342028166137
           ]
          },
          {
           "hoverinfo": "none",
           "marker": {
            "color": "rgb(255, 0, 0)",
            "line": {
             "color": "rgb(0, 0, 0)",
             "width": 1
            },
            "size": 20,
            "symbol": "circle"
           },
           "mode": "markers+text",
           "text": [
            "('Philadelphia 76ers',)"
           ],
           "textfont": {
            "color": "rgb(0, 0, 0)"
           },
           "textposition": "middle center",
           "type": "scatter",
           "x": [
            0.4748962739677183
           ],
           "y": [
            0.4146727453953676
           ]
          },
          {
           "hoverinfo": "none",
           "marker": {
            "color": "rgb(255, 0, 0)",
            "line": {
             "color": "rgb(0, 0, 0)",
             "width": 1
            },
            "size": 20,
            "symbol": "circle"
           },
           "mode": "markers+text",
           "text": [
            "('Portland Trail Blazers',)"
           ],
           "textfont": {
            "color": "rgb(0, 0, 0)"
           },
           "textposition": "middle center",
           "type": "scatter",
           "x": [
            0.2605586265200922
           ],
           "y": [
            0.5723479168870731
           ]
          },
          {
           "hoverinfo": "none",
           "marker": {
            "color": "rgb(255, 0, 0)",
            "line": {
             "color": "rgb(0, 0, 0)",
             "width": 1
            },
            "size": 20,
            "symbol": "circle"
           },
           "mode": "markers+text",
           "text": [
            "('Milwaukee Bucks',)"
           ],
           "textfont": {
            "color": "rgb(0, 0, 0)"
           },
           "textposition": "middle center",
           "type": "scatter",
           "x": [
            0.15455978433290074
           ],
           "y": [
            0.4451772264443228
           ]
          },
          {
           "hoverinfo": "none",
           "marker": {
            "color": "rgb(255, 0, 0)",
            "line": {
             "color": "rgb(0, 0, 0)",
             "width": 1
            },
            "size": 20,
            "symbol": "circle"
           },
           "mode": "markers+text",
           "text": [
            "('New Orleans Pelicans',)"
           ],
           "textfont": {
            "color": "rgb(0, 0, 0)"
           },
           "textposition": "middle center",
           "type": "scatter",
           "x": [
            0.20859398742060498
           ],
           "y": [
            0.939379580126871
           ]
          },
          {
           "hoverinfo": "none",
           "marker": {
            "color": "rgb(255, 0, 0)",
            "line": {
             "color": "rgb(0, 0, 0)",
             "width": 1
            },
            "size": 20,
            "symbol": "circle"
           },
           "mode": "markers+text",
           "text": [
            "('Toronto Raptors',)"
           ],
           "textfont": {
            "color": "rgb(0, 0, 0)"
           },
           "textposition": "middle center",
           "type": "scatter",
           "x": [
            0.498801222263745
           ],
           "y": [
            0.31498283375559344
           ]
          },
          {
           "hoverinfo": "none",
           "marker": {
            "color": "rgb(255, 0, 0)",
            "line": {
             "color": "rgb(0, 0, 0)",
             "width": 1
            },
            "size": 20,
            "symbol": "circle"
           },
           "mode": "markers+text",
           "text": [
            "('Phoenix Suns',)"
           ],
           "textfont": {
            "color": "rgb(0, 0, 0)"
           },
           "textposition": "middle center",
           "type": "scatter",
           "x": [
            0.29896656175169767
           ],
           "y": [
            0.7387228229006633
           ]
          },
          {
           "hoverinfo": "none",
           "marker": {
            "color": "rgb(255, 0, 0)",
            "line": {
             "color": "rgb(0, 0, 0)",
             "width": 1
            },
            "size": 20,
            "symbol": "circle"
           },
           "mode": "markers+text",
           "text": [
            "('New York Knicks',)"
           ],
           "textfont": {
            "color": "rgb(0, 0, 0)"
           },
           "textposition": "middle center",
           "type": "scatter",
           "x": [
            0.595137678663374
           ],
           "y": [
            0.9289274901762686
           ]
          },
          {
           "hoverinfo": "none",
           "marker": {
            "color": "rgb(255, 0, 0)",
            "line": {
             "color": "rgb(0, 0, 0)",
             "width": 1
            },
            "size": 20,
            "symbol": "circle"
           },
           "mode": "markers+text",
           "text": [
            "('Detroit Pistons',)"
           ],
           "textfont": {
            "color": "rgb(0, 0, 0)"
           },
           "textposition": "middle center",
           "type": "scatter",
           "x": [
            0.5205373591701874
           ],
           "y": [
            0.1649714106502279
           ]
          },
          {
           "hoverinfo": "none",
           "marker": {
            "color": "rgb(255, 0, 0)",
            "line": {
             "color": "rgb(0, 0, 0)",
             "width": 1
            },
            "size": 20,
            "symbol": "circle"
           },
           "mode": "markers+text",
           "text": [
            "('Utah Jazz',)"
           ],
           "textfont": {
            "color": "rgb(0, 0, 0)"
           },
           "textposition": "middle center",
           "type": "scatter",
           "x": [
            0.5266595794830784
           ],
           "y": [
            0.8030971537898313
           ]
          },
          {
           "hoverinfo": "none",
           "marker": {
            "color": "rgb(255, 0, 0)",
            "line": {
             "color": "rgb(0, 0, 0)",
             "width": 1
            },
            "size": 20,
            "symbol": "circle"
           },
           "mode": "markers+text",
           "text": [
            "('Sacramento Kings',)"
           ],
           "textfont": {
            "color": "rgb(0, 0, 0)"
           },
           "textposition": "middle center",
           "type": "scatter",
           "x": [
            0.2843590293998197
           ],
           "y": [
            0.006471954056391782
           ]
          },
          {
           "hoverinfo": "none",
           "marker": {
            "color": "rgb(255, 0, 0)",
            "line": {
             "color": "rgb(0, 0, 0)",
             "width": 1
            },
            "size": 20,
            "symbol": "circle"
           },
           "mode": "markers+text",
           "text": [
            "('Atlanta Hawks',)"
           ],
           "textfont": {
            "color": "rgb(0, 0, 0)"
           },
           "textposition": "middle center",
           "type": "scatter",
           "x": [
            0.941068118585822
           ],
           "y": [
            0.832836493690238
           ]
          },
          {
           "hoverinfo": "none",
           "marker": {
            "color": "rgb(255, 0, 0)",
            "line": {
             "color": "rgb(0, 0, 0)",
             "width": 1
            },
            "size": 20,
            "symbol": "circle"
           },
           "mode": "markers+text",
           "text": [
            "('Orlando Magic',)"
           ],
           "textfont": {
            "color": "rgb(0, 0, 0)"
           },
           "textposition": "middle center",
           "type": "scatter",
           "x": [
            0.1285717381336141
           ],
           "y": [
            0.17090404054234576
           ]
          },
          {
           "hoverinfo": "none",
           "marker": {
            "color": "rgb(255, 0, 0)",
            "line": {
             "color": "rgb(0, 0, 0)",
             "width": 1
            },
            "size": 20,
            "symbol": "circle"
           },
           "mode": "markers+text",
           "text": [
            "('San Antonio Spurs',)"
           ],
           "textfont": {
            "color": "rgb(0, 0, 0)"
           },
           "textposition": "middle center",
           "type": "scatter",
           "x": [
            0.71991656933083
           ],
           "y": [
            0.5146376116125279
           ]
          },
          {
           "hoverinfo": "none",
           "mode": "text",
           "text": [
            null,
            null,
            null,
            null,
            null,
            null,
            null,
            null,
            null,
            null,
            null,
            null,
            null,
            null,
            null,
            null,
            null,
            null,
            null,
            null,
            null,
            null,
            null,
            null,
            null,
            null,
            null,
            null,
            null,
            null,
            null,
            null,
            null,
            null,
            null,
            null,
            null,
            null,
            null,
            null,
            null,
            null,
            null,
            null,
            null,
            null
           ],
           "textfont": {
            "color": "rgb(0, 0, 0)"
           },
           "textposition": "middle center",
           "type": "scatter",
           "x": [
            0.5811453276142949,
            0.7705794819273795,
            0.6856832735522186,
            0.5606971915257761,
            0.01289749452219281,
            0.09509472374285477,
            0.399591623063444,
            0.2650620765604027,
            0.040519030616998616,
            0.5267543366427512,
            0.5708417318596337,
            0.4512794926734644,
            0.4541561003552273,
            0.4563432584607982,
            0.546529769450485,
            0.34692772022139207,
            0.26752717943633064,
            0.6666913405675772,
            0.5845002041261683,
            0.09943546043683296,
            0.6691560208118652,
            0.15833243257672064,
            0.5440711726087041,
            0.3295933783261209,
            0.5430369836829082,
            0.38799850636176714,
            0.23744979474663605,
            0.1707897696706347,
            0.4898951030370189,
            0.4214923345555237,
            0.3932791976411785,
            0.4041654157229914,
            0.4350883834939683,
            0.4090645091563535,
            0.32369053628830347,
            0.43507870175092556,
            0.5436929866747942,
            0.5147380230528887,
            0.39021009589758393,
            0.6045630796020731,
            0.36469916380899003,
            0.7276880250899275,
            0.729589299824624,
            0.603654736817597,
            0.5289678677195365,
            0.4382023189514659
           ],
           "y": [
            0.18795803711445935,
            0.3851569754784948,
            0.6592942084036942,
            0.45665895892060104,
            0.6631474333853146,
            0.397168667089225,
            0.5414521873349283,
            0.54801025337634,
            0.386000083180108,
            0.4730061584650669,
            0.44236175443453624,
            0.310628008598912,
            0.6061546249112608,
            0.3530945359471652,
            0.3976552697550934,
            0.2862301446817714,
            0.506925396130603,
            0.4349127257894363,
            0.6605291523964116,
            0.48132398786994257,
            0.5058200838651058,
            0.28827836857856043,
            0.6643473993520597,
            0.4057816944273647,
            0.7672973458899162,
            0.5097217889427015,
            0.5744063336289488,
            0.6461541193115046,
            0.6375558404532252,
            0.4669771268253953,
            0.6134191439974916,
            0.8631938698002886,
            0.7279670922642042,
            0.5749852987462384,
            0.46283266325514244,
            0.533035403795011,
            0.5515586913875788,
            0.6026766533539742,
            0.48461421589252685,
            0.44126915395992633,
            0.2439665090479477,
            0.5518125494248762,
            0.8607405388116176,
            0.47846511465085806,
            0.525841209408175,
            0.4537198608474161
           ]
          },
          {
           "hoverinfo": "none",
           "marker": {
            "color": "rgba(255, 255, 255, 0.0)",
            "line": {
             "color": "rgba(255, 255, 255, 0.0)",
             "width": 0
            },
            "size": 0,
            "symbol": "circle"
           },
           "mode": "markers",
           "type": "scatter",
           "x": [
            0.5,
            0,
            1,
            0.5
           ],
           "y": [
            0,
            0.5,
            0.5,
            1
           ]
          }
         ],
         "name": "1"
        }
       ],
       "layout": {
        "height": 526,
        "margin": {
         "b": 0,
         "l": 0,
         "r": 0,
         "t": 0
        },
        "showlegend": false,
        "sliders": [
         {
          "currentvalue": {
           "visible": false
          },
          "steps": [
           {
            "args": [
             [
              0
             ],
             {
              "frame": {
               "redraw": false
              },
              "mode": "immediate"
             }
            ],
            "label": "",
            "method": "animate"
           },
           {
            "args": [
             [
              1
             ],
             {
              "frame": {
               "redraw": false
              },
              "mode": "immediate"
             }
            ],
            "label": "",
            "method": "animate"
           }
          ]
         }
        ],
        "template": {
         "data": {
          "bar": [
           {
            "error_x": {
             "color": "#2a3f5f"
            },
            "error_y": {
             "color": "#2a3f5f"
            },
            "marker": {
             "line": {
              "color": "#E5ECF6",
              "width": 0.5
             }
            },
            "type": "bar"
           }
          ],
          "barpolar": [
           {
            "marker": {
             "line": {
              "color": "#E5ECF6",
              "width": 0.5
             }
            },
            "type": "barpolar"
           }
          ],
          "carpet": [
           {
            "aaxis": {
             "endlinecolor": "#2a3f5f",
             "gridcolor": "white",
             "linecolor": "white",
             "minorgridcolor": "white",
             "startlinecolor": "#2a3f5f"
            },
            "baxis": {
             "endlinecolor": "#2a3f5f",
             "gridcolor": "white",
             "linecolor": "white",
             "minorgridcolor": "white",
             "startlinecolor": "#2a3f5f"
            },
            "type": "carpet"
           }
          ],
          "choropleth": [
           {
            "colorbar": {
             "outlinewidth": 0,
             "ticks": ""
            },
            "type": "choropleth"
           }
          ],
          "contour": [
           {
            "colorbar": {
             "outlinewidth": 0,
             "ticks": ""
            },
            "colorscale": [
             [
              0,
              "#0d0887"
             ],
             [
              0.1111111111111111,
              "#46039f"
             ],
             [
              0.2222222222222222,
              "#7201a8"
             ],
             [
              0.3333333333333333,
              "#9c179e"
             ],
             [
              0.4444444444444444,
              "#bd3786"
             ],
             [
              0.5555555555555556,
              "#d8576b"
             ],
             [
              0.6666666666666666,
              "#ed7953"
             ],
             [
              0.7777777777777778,
              "#fb9f3a"
             ],
             [
              0.8888888888888888,
              "#fdca26"
             ],
             [
              1,
              "#f0f921"
             ]
            ],
            "type": "contour"
           }
          ],
          "contourcarpet": [
           {
            "colorbar": {
             "outlinewidth": 0,
             "ticks": ""
            },
            "type": "contourcarpet"
           }
          ],
          "heatmap": [
           {
            "colorbar": {
             "outlinewidth": 0,
             "ticks": ""
            },
            "colorscale": [
             [
              0,
              "#0d0887"
             ],
             [
              0.1111111111111111,
              "#46039f"
             ],
             [
              0.2222222222222222,
              "#7201a8"
             ],
             [
              0.3333333333333333,
              "#9c179e"
             ],
             [
              0.4444444444444444,
              "#bd3786"
             ],
             [
              0.5555555555555556,
              "#d8576b"
             ],
             [
              0.6666666666666666,
              "#ed7953"
             ],
             [
              0.7777777777777778,
              "#fb9f3a"
             ],
             [
              0.8888888888888888,
              "#fdca26"
             ],
             [
              1,
              "#f0f921"
             ]
            ],
            "type": "heatmap"
           }
          ],
          "heatmapgl": [
           {
            "colorbar": {
             "outlinewidth": 0,
             "ticks": ""
            },
            "colorscale": [
             [
              0,
              "#0d0887"
             ],
             [
              0.1111111111111111,
              "#46039f"
             ],
             [
              0.2222222222222222,
              "#7201a8"
             ],
             [
              0.3333333333333333,
              "#9c179e"
             ],
             [
              0.4444444444444444,
              "#bd3786"
             ],
             [
              0.5555555555555556,
              "#d8576b"
             ],
             [
              0.6666666666666666,
              "#ed7953"
             ],
             [
              0.7777777777777778,
              "#fb9f3a"
             ],
             [
              0.8888888888888888,
              "#fdca26"
             ],
             [
              1,
              "#f0f921"
             ]
            ],
            "type": "heatmapgl"
           }
          ],
          "histogram": [
           {
            "marker": {
             "colorbar": {
              "outlinewidth": 0,
              "ticks": ""
             }
            },
            "type": "histogram"
           }
          ],
          "histogram2d": [
           {
            "colorbar": {
             "outlinewidth": 0,
             "ticks": ""
            },
            "colorscale": [
             [
              0,
              "#0d0887"
             ],
             [
              0.1111111111111111,
              "#46039f"
             ],
             [
              0.2222222222222222,
              "#7201a8"
             ],
             [
              0.3333333333333333,
              "#9c179e"
             ],
             [
              0.4444444444444444,
              "#bd3786"
             ],
             [
              0.5555555555555556,
              "#d8576b"
             ],
             [
              0.6666666666666666,
              "#ed7953"
             ],
             [
              0.7777777777777778,
              "#fb9f3a"
             ],
             [
              0.8888888888888888,
              "#fdca26"
             ],
             [
              1,
              "#f0f921"
             ]
            ],
            "type": "histogram2d"
           }
          ],
          "histogram2dcontour": [
           {
            "colorbar": {
             "outlinewidth": 0,
             "ticks": ""
            },
            "colorscale": [
             [
              0,
              "#0d0887"
             ],
             [
              0.1111111111111111,
              "#46039f"
             ],
             [
              0.2222222222222222,
              "#7201a8"
             ],
             [
              0.3333333333333333,
              "#9c179e"
             ],
             [
              0.4444444444444444,
              "#bd3786"
             ],
             [
              0.5555555555555556,
              "#d8576b"
             ],
             [
              0.6666666666666666,
              "#ed7953"
             ],
             [
              0.7777777777777778,
              "#fb9f3a"
             ],
             [
              0.8888888888888888,
              "#fdca26"
             ],
             [
              1,
              "#f0f921"
             ]
            ],
            "type": "histogram2dcontour"
           }
          ],
          "mesh3d": [
           {
            "colorbar": {
             "outlinewidth": 0,
             "ticks": ""
            },
            "type": "mesh3d"
           }
          ],
          "parcoords": [
           {
            "line": {
             "colorbar": {
              "outlinewidth": 0,
              "ticks": ""
             }
            },
            "type": "parcoords"
           }
          ],
          "scatter": [
           {
            "marker": {
             "colorbar": {
              "outlinewidth": 0,
              "ticks": ""
             }
            },
            "type": "scatter"
           }
          ],
          "scatter3d": [
           {
            "line": {
             "colorbar": {
              "outlinewidth": 0,
              "ticks": ""
             }
            },
            "marker": {
             "colorbar": {
              "outlinewidth": 0,
              "ticks": ""
             }
            },
            "type": "scatter3d"
           }
          ],
          "scattercarpet": [
           {
            "marker": {
             "colorbar": {
              "outlinewidth": 0,
              "ticks": ""
             }
            },
            "type": "scattercarpet"
           }
          ],
          "scattergeo": [
           {
            "marker": {
             "colorbar": {
              "outlinewidth": 0,
              "ticks": ""
             }
            },
            "type": "scattergeo"
           }
          ],
          "scattergl": [
           {
            "marker": {
             "colorbar": {
              "outlinewidth": 0,
              "ticks": ""
             }
            },
            "type": "scattergl"
           }
          ],
          "scattermapbox": [
           {
            "marker": {
             "colorbar": {
              "outlinewidth": 0,
              "ticks": ""
             }
            },
            "type": "scattermapbox"
           }
          ],
          "scatterpolar": [
           {
            "marker": {
             "colorbar": {
              "outlinewidth": 0,
              "ticks": ""
             }
            },
            "type": "scatterpolar"
           }
          ],
          "scatterpolargl": [
           {
            "marker": {
             "colorbar": {
              "outlinewidth": 0,
              "ticks": ""
             }
            },
            "type": "scatterpolargl"
           }
          ],
          "scatterternary": [
           {
            "marker": {
             "colorbar": {
              "outlinewidth": 0,
              "ticks": ""
             }
            },
            "type": "scatterternary"
           }
          ],
          "surface": [
           {
            "colorbar": {
             "outlinewidth": 0,
             "ticks": ""
            },
            "colorscale": [
             [
              0,
              "#0d0887"
             ],
             [
              0.1111111111111111,
              "#46039f"
             ],
             [
              0.2222222222222222,
              "#7201a8"
             ],
             [
              0.3333333333333333,
              "#9c179e"
             ],
             [
              0.4444444444444444,
              "#bd3786"
             ],
             [
              0.5555555555555556,
              "#d8576b"
             ],
             [
              0.6666666666666666,
              "#ed7953"
             ],
             [
              0.7777777777777778,
              "#fb9f3a"
             ],
             [
              0.8888888888888888,
              "#fdca26"
             ],
             [
              1,
              "#f0f921"
             ]
            ],
            "type": "surface"
           }
          ],
          "table": [
           {
            "cells": {
             "fill": {
              "color": "#EBF0F8"
             },
             "line": {
              "color": "white"
             }
            },
            "header": {
             "fill": {
              "color": "#C8D4E3"
             },
             "line": {
              "color": "white"
             }
            },
            "type": "table"
           }
          ]
         },
         "layout": {
          "annotationdefaults": {
           "arrowcolor": "#2a3f5f",
           "arrowhead": 0,
           "arrowwidth": 1
          },
          "colorscale": {
           "diverging": [
            [
             0,
             "#8e0152"
            ],
            [
             0.1,
             "#c51b7d"
            ],
            [
             0.2,
             "#de77ae"
            ],
            [
             0.3,
             "#f1b6da"
            ],
            [
             0.4,
             "#fde0ef"
            ],
            [
             0.5,
             "#f7f7f7"
            ],
            [
             0.6,
             "#e6f5d0"
            ],
            [
             0.7,
             "#b8e186"
            ],
            [
             0.8,
             "#7fbc41"
            ],
            [
             0.9,
             "#4d9221"
            ],
            [
             1,
             "#276419"
            ]
           ],
           "sequential": [
            [
             0,
             "#0d0887"
            ],
            [
             0.1111111111111111,
             "#46039f"
            ],
            [
             0.2222222222222222,
             "#7201a8"
            ],
            [
             0.3333333333333333,
             "#9c179e"
            ],
            [
             0.4444444444444444,
             "#bd3786"
            ],
            [
             0.5555555555555556,
             "#d8576b"
            ],
            [
             0.6666666666666666,
             "#ed7953"
            ],
            [
             0.7777777777777778,
             "#fb9f3a"
            ],
            [
             0.8888888888888888,
             "#fdca26"
            ],
            [
             1,
             "#f0f921"
            ]
           ],
           "sequentialminus": [
            [
             0,
             "#0d0887"
            ],
            [
             0.1111111111111111,
             "#46039f"
            ],
            [
             0.2222222222222222,
             "#7201a8"
            ],
            [
             0.3333333333333333,
             "#9c179e"
            ],
            [
             0.4444444444444444,
             "#bd3786"
            ],
            [
             0.5555555555555556,
             "#d8576b"
            ],
            [
             0.6666666666666666,
             "#ed7953"
            ],
            [
             0.7777777777777778,
             "#fb9f3a"
            ],
            [
             0.8888888888888888,
             "#fdca26"
            ],
            [
             1,
             "#f0f921"
            ]
           ]
          },
          "colorway": [
           "#636efa",
           "#EF553B",
           "#00cc96",
           "#ab63fa",
           "#FFA15A",
           "#19d3f3",
           "#FF6692",
           "#B6E880",
           "#FF97FF",
           "#FECB52"
          ],
          "font": {
           "color": "#2a3f5f"
          },
          "geo": {
           "bgcolor": "white",
           "lakecolor": "white",
           "landcolor": "#E5ECF6",
           "showlakes": true,
           "showland": true,
           "subunitcolor": "white"
          },
          "hoverlabel": {
           "align": "left"
          },
          "hovermode": "closest",
          "mapbox": {
           "style": "light"
          },
          "paper_bgcolor": "white",
          "plot_bgcolor": "#E5ECF6",
          "polar": {
           "angularaxis": {
            "gridcolor": "white",
            "linecolor": "white",
            "ticks": ""
           },
           "bgcolor": "#E5ECF6",
           "radialaxis": {
            "gridcolor": "white",
            "linecolor": "white",
            "ticks": ""
           }
          },
          "scene": {
           "xaxis": {
            "backgroundcolor": "#E5ECF6",
            "gridcolor": "white",
            "gridwidth": 2,
            "linecolor": "white",
            "showbackground": true,
            "ticks": "",
            "zerolinecolor": "white"
           },
           "yaxis": {
            "backgroundcolor": "#E5ECF6",
            "gridcolor": "white",
            "gridwidth": 2,
            "linecolor": "white",
            "showbackground": true,
            "ticks": "",
            "zerolinecolor": "white"
           },
           "zaxis": {
            "backgroundcolor": "#E5ECF6",
            "gridcolor": "white",
            "gridwidth": 2,
            "linecolor": "white",
            "showbackground": true,
            "ticks": "",
            "zerolinecolor": "white"
           }
          },
          "shapedefaults": {
           "line": {
            "color": "#2a3f5f"
           }
          },
          "ternary": {
           "aaxis": {
            "gridcolor": "white",
            "linecolor": "white",
            "ticks": ""
           },
           "baxis": {
            "gridcolor": "white",
            "linecolor": "white",
            "ticks": ""
           },
           "bgcolor": "#E5ECF6",
           "caxis": {
            "gridcolor": "white",
            "linecolor": "white",
            "ticks": ""
           }
          },
          "title": {
           "x": 0.05
          },
          "xaxis": {
           "automargin": true,
           "gridcolor": "white",
           "linecolor": "white",
           "ticks": "",
           "zerolinecolor": "white",
           "zerolinewidth": 2
          },
          "yaxis": {
           "automargin": true,
           "gridcolor": "white",
           "linecolor": "white",
           "ticks": "",
           "zerolinecolor": "white",
           "zerolinewidth": 2
          }
         }
        },
        "updatemenus": [
         {
          "buttons": [
           {
            "args": [
             null,
             {
              "frame": {
               "redraw": false
              },
              "fromcurrent": true
             }
            ],
            "label": "Play",
            "method": "animate"
           },
           {
            "args": [
             [
              null
             ],
             {
              "frame": {
               "redraw": false
              },
              "mode": "immediate"
             }
            ],
            "label": "Pause",
            "method": "animate"
           }
          ],
          "showactive": true,
          "type": "buttons"
         }
        ],
        "width": 912,
        "xaxis": {
         "showgrid": false,
         "showticklabels": false,
         "zeroline": false
        },
        "yaxis": {
         "showgrid": false,
         "showticklabels": false,
         "zeroline": false
        }
       }
      },
      "text/html": [
       "<div>\n",
       "        \n",
       "        \n",
       "            <div id=\"2d5a72c5-b13e-4052-896f-9bd74ffea6cd\" class=\"plotly-graph-div\" style=\"height:526.0px; width:912.0px;\"></div>\n",
       "            <script type=\"text/javascript\">\n",
       "                require([\"plotly\"], function(Plotly) {\n",
       "                    window.PLOTLYENV=window.PLOTLYENV || {};\n",
       "                    \n",
       "                if (document.getElementById(\"2d5a72c5-b13e-4052-896f-9bd74ffea6cd\")) {\n",
       "                    Plotly.newPlot(\n",
       "                        '2d5a72c5-b13e-4052-896f-9bd74ffea6cd',\n",
       "                        [{\"hoverinfo\": \"none\", \"line\": {\"color\": \"rgba(255, 255, 255, 0.0)\", \"dash\": \"solid\", \"width\": 1}, \"mode\": \"lines\", \"type\": \"scatter\", \"x\": [0.8675686494277822, 0.2843590293998197, null, 0.2977600114265353, 0.3120936930105964, null, 0.2977600114265353, 0.3090312240829498, null], \"y\": [0.4184051883646216, 0.006471954056391782, null, 0.015937349824223464, 0.017745495290004278, null, 0.015937349824223464, 0.032214480280492036, null]}, {\"hoverinfo\": \"none\", \"line\": {\"color\": \"rgba(255, 255, 255, 0.0)\", \"dash\": \"solid\", \"width\": 1}, \"mode\": \"lines\", \"type\": \"scatter\", \"x\": [0.8675686494277822, 0.6724589514545904, null, 0.6868156273828264, 0.7006982540693258, null, 0.6868156273828264, 0.7003639134499172, null], \"y\": [0.4184051883646216, 0.4043614998419862, null, 0.40539487074589825, 0.3986316658012261, null, 0.40539487074589825, 0.4141325095531862, null]}, {\"hoverinfo\": \"none\", \"line\": {\"color\": \"rgba(255, 255, 255, 0.0)\", \"dash\": \"solid\", \"width\": 1}, \"mode\": \"lines\", \"type\": \"scatter\", \"x\": [0.8675686494277822, 0.5221180554750893, null, 0.5331872511916863, 0.5410550693556936, null, 0.5331872511916863, 0.5464690461743552, null], \"y\": [0.4184051883646216, 0.9406250143679719, null, 0.923891641890662, 0.9019299581097725, null, 0.923891641890662, 0.9138813230441428, null]}, {\"hoverinfo\": \"none\", \"line\": {\"color\": \"rgba(255, 255, 255, 0.0)\", \"dash\": \"solid\", \"width\": 1}, \"mode\": \"lines\", \"type\": \"scatter\", \"x\": [0.45848455903048313, 0.6708449357266852, null, 0.6570357851442974, 0.64267090678355, null, 0.6570357851442974, 0.6450158926346744, null], \"y\": [0.37570346186128845, 0.4871621262930794, null, 0.47991430772731986, 0.48044504363268736, null, 0.47991430772731986, 0.46553536073708807, null]}, {\"hoverinfo\": \"none\", \"line\": {\"color\": \"rgba(255, 255, 255, 0.0)\", \"dash\": \"solid\", \"width\": 1}, \"mode\": \"lines\", \"type\": \"scatter\", \"x\": [0.034891532242013024, 0.018938184382305767, null, 0.02209217417809563, 0.0209628814722854, null, 0.02209217417809563, 0.02924770996040161, null], \"y\": [0.6041482586538549, 0.7336698464258018, null, 0.7080633235968865, 0.68189780309555, null, 0.7080633235968865, 0.6853031528620417, null]}, {\"hoverinfo\": \"none\", \"line\": {\"color\": \"rgba(255, 255, 255, 0.0)\", \"dash\": \"solid\", \"width\": 1}, \"mode\": \"lines\", \"type\": \"scatter\", \"x\": [0.034891532242013024, 0.1285717381336141, null, 0.12329329105873123, 0.12219966065359684, null, 0.12329329105873123, 0.11430153527075773, null], \"y\": [0.6041482586538549, 0.17090404054234576, null, 0.19531535191848404, 0.22148592718522866, null, 0.19531535191848404, 0.2157868096618032, null]}, {\"hoverinfo\": \"none\", \"line\": {\"color\": \"rgba(255, 255, 255, 0.0)\", \"dash\": \"solid\", \"width\": 1}, \"mode\": \"lines\", \"type\": \"scatter\", \"x\": [0.5221180554750893, 0.25284826436995056, null, 0.2605825555215104, 0.2715497016058739, null, 0.2605825555215104, 0.2643931105463597, null], \"y\": [0.9406250143679719, 0.17053692797372544, null, 0.19265632520753942, 0.20961245138340134, null, 0.19265632520753942, 0.2179631336215305, null]}, {\"hoverinfo\": \"none\", \"line\": {\"color\": \"rgba(255, 255, 255, 0.0)\", \"dash\": \"solid\", \"width\": 1}, \"mode\": \"lines\", \"type\": \"scatter\", \"x\": [0.018938184382305767, 0.498801222263745, null, 0.4858363214565184, 0.47528045005631464, null, 0.4858363214565184, 0.47162050721864684, null], \"y\": [0.7336698464258018, 0.31498283375559344, null, 0.32629488565379455, 0.34410077654775095, null, 0.32629488565379455, 0.3301026266503064, null]}, {\"hoverinfo\": \"none\", \"line\": {\"color\": \"rgba(255, 255, 255, 0.0)\", \"dash\": \"solid\", \"width\": 1}, \"mode\": \"lines\", \"type\": \"scatter\", \"x\": [0.018938184382305767, 0.033384801454501734, null, 0.03284143188814721, 0.036565273622165106, null, 0.03284143188814721, 0.028079388606491656, null], \"y\": [0.7336698464258018, 0.036345095691985074, null, 0.06257303857445758, 0.08792288638398166, null, 0.06257303857445758, 0.0873362125055899, null]}, {\"hoverinfo\": \"none\", \"line\": {\"color\": \"rgba(255, 255, 255, 0.0)\", \"dash\": \"solid\", \"width\": 1}, \"mode\": \"lines\", \"type\": \"scatter\", \"x\": [0.7686980902794368, 0.29896656175169767, null, 0.31147000950383846, 0.3213233204991327, null, 0.31147000950383846, 0.3255066982635355, null], \"y\": [0.2529713818798117, 0.7387228229006633, null, 0.725792952550322, 0.7066906151358712, null, 0.725792952550322, 0.7201905360740841, null]}, {\"hoverinfo\": \"none\", \"line\": {\"color\": \"rgba(255, 255, 255, 0.0)\", \"dash\": \"solid\", \"width\": 1}, \"mode\": \"lines\", \"type\": \"scatter\", \"x\": [0.6708449357266852, 0.46795563360246895, null, 0.4822509604345521, 0.496333784554192, null, 0.4822509604345521, 0.495481831008243, null], \"y\": [0.4871621262930794, 0.4497899782459661, null, 0.4524231731219749, 0.44722145757699366, null, 0.4524231731219749, 0.46265606296301565, null]}, {\"hoverinfo\": \"none\", \"line\": {\"color\": \"rgba(255, 255, 255, 0.0)\", \"dash\": \"solid\", \"width\": 1}, \"mode\": \"lines\", \"type\": \"scatter\", \"x\": [0.4137964301778312, 0.498801222263745, null, 0.4853386656717405, 0.47099407963527284, null, 0.4853386656717405, 0.4739607086096874, null], \"y\": [0.25708714990923776, 0.31498283375559344, null, 0.3058136575116635, 0.3043217422678744, null, 0.3058136575116635, 0.2897862754733528, null]}, {\"hoverinfo\": \"none\", \"line\": {\"color\": \"rgba(255, 255, 255, 0.0)\", \"dash\": \"solid\", \"width\": 1}, \"mode\": \"lines\", \"type\": \"scatter\", \"x\": [0.4137964301778312, 0.5221180554750893, null, 0.5181227324917819, 0.5102273381847249, null, 0.5181227324917819, 0.5183843711352475, null], \"y\": [0.25708714990923776, 0.9406250143679719, null, 0.915413478515011, 0.8934848452362809, null, 0.915413478515011, 0.8891711114992771, null]}, {\"hoverinfo\": \"none\", \"line\": {\"color\": \"rgba(255, 255, 255, 0.0)\", \"dash\": \"solid\", \"width\": 1}, \"mode\": \"lines\", \"type\": \"scatter\", \"x\": [0.25284826436995056, 0.6708449357266852, null, 0.6575728834881168, 0.6432672590557594, null, 0.6575728834881168, 0.646519956342303, null], \"y\": [0.17053692797372544, 0.4871621262930794, null, 0.47710877788123246, 0.47466933732065125, null, 0.47710877788123246, 0.4603395572903529, null]}, {\"hoverinfo\": \"none\", \"line\": {\"color\": \"rgba(255, 255, 255, 0.0)\", \"dash\": \"solid\", \"width\": 1}, \"mode\": \"lines\", \"type\": \"scatter\", \"x\": [0.25284826436995056, 0.8502102235794309, null, 0.836740279491424, 0.822394504653078, null, 0.836740279491424, 0.8253493961422608, null], \"y\": [0.17053692797372544, 0.575560587466893, null, 0.5664276891234621, 0.564974419606242, null, 0.5664276891234621, 0.5504309765627736, null]}, {\"hoverinfo\": \"none\", \"line\": {\"color\": \"rgba(255, 255, 255, 0.0)\", \"dash\": \"solid\", \"width\": 1}, \"mode\": \"lines\", \"type\": \"scatter\", \"x\": [0.033384801454501734, 0.6708449357266852, null, 0.6574461435778345, 0.6431128813697783, null, 0.6574461435778345, 0.6461786956858772, null], \"y\": [0.036345095691985074, 0.4871621262930794, null, 0.4776863906894989, 0.475867185000289, null, 0.4776863906894989, 0.4614005644118946, null]}, {\"hoverinfo\": \"none\", \"line\": {\"color\": \"rgba(255, 255, 255, 0.0)\", \"dash\": \"solid\", \"width\": 1}, \"mode\": \"lines\", \"type\": \"scatter\", \"x\": [0.033384801454501734, 0.5221180554750893, null, 0.512023558407075, 0.49935844483278063, null, 0.512023558407075, 0.5054013892044785, null], \"y\": [0.036345095691985074, 0.9406250143679719, null, 0.9219476460640046, 0.9095539680153487, null, 0.9219476460640046, 0.8986549811894244, null]}, {\"hoverinfo\": \"none\", \"line\": {\"color\": \"rgba(255, 255, 255, 0.0)\", \"dash\": \"solid\", \"width\": 1}, \"mode\": \"lines\", \"type\": \"scatter\", \"x\": [0.8685522586300654, 0.45848455903048313, null, 0.47249764732117155, 0.48682252733333503, null, 0.47249764732117155, 0.4849471964478749, null], \"y\": [0.5453194146536426, 0.37570346186128845, null, 0.3814996836176214, 0.3794720889616937, null, 0.3814996836176214, 0.39460196255932617, null]}, {\"hoverinfo\": \"none\", \"line\": {\"color\": \"rgba(255, 255, 255, 0.0)\", \"dash\": \"solid\", \"width\": 1}, \"mode\": \"lines\", \"type\": \"scatter\", \"x\": [0.6724589514545904, 0.5221180554750893, null, 0.528667371414693, 0.5311449710471972, null, 0.528667371414693, 0.5387033727740197, null], \"y\": [0.4043614998419862, 0.9406250143679719, null, 0.9172637116390602, 0.8914101720126275, null, 0.9172637116390602, 0.8984814414046149, null]}, {\"hoverinfo\": \"none\", \"line\": {\"color\": \"rgba(255, 255, 255, 0.0)\", \"dash\": \"solid\", \"width\": 1}, \"mode\": \"lines\", \"type\": \"scatter\", \"x\": [0.20335982988714008, 0.018938184382305767, null, 0.027258458597051585, 0.03174553041303147, null, 0.027258458597051585, 0.038668709894826854, null], \"y\": [0.2593766114844933, 0.7336698464258018, null, 0.7122718713556406, 0.6873379221111203, null, 0.7122718713556406, 0.6963212878443109, null]}, {\"hoverinfo\": \"none\", \"line\": {\"color\": \"rgba(255, 255, 255, 0.0)\", \"dash\": \"solid\", \"width\": 1}, \"mode\": \"lines\", \"type\": \"scatter\", \"x\": [0.4748962739677183, 0.8685522586300654, null, 0.8544158427345641, 0.8401518403670534, null, 0.8544158427345641, 0.8416697772412196, null], \"y\": [0.4146727453953676, 0.5453194146536426, null, 0.540627816598602, 0.5437772767361085, null, 0.540627816598602, 0.5285142468325135, null]}, {\"hoverinfo\": \"none\", \"line\": {\"color\": \"rgba(255, 255, 255, 0.0)\", \"dash\": \"solid\", \"width\": 1}, \"mode\": \"lines\", \"type\": \"scatter\", \"x\": [0.2605586265200922, 0.033384801454501734, null, 0.042180721666971635, 0.05394110710674939, null, 0.042180721666971635, 0.04722646329601378, null], \"y\": [0.5723479168870731, 0.036345095691985074, null, 0.05709853437502674, 0.07217659224675899, null, 0.05709853437502674, 0.0816735110007756, null]}, {\"hoverinfo\": \"none\", \"line\": {\"color\": \"rgba(255, 255, 255, 0.0)\", \"dash\": \"solid\", \"width\": 1}, \"mode\": \"lines\", \"type\": \"scatter\", \"x\": [0.15455978433290074, 0.941068118585822, null, 0.927196357856654, 0.9128380918842263, null, 0.927196357856654, 0.9150502254430942, null], \"y\": [0.4451772264443228, 0.832836493690238, null, 0.8259992913803759, 0.8269561039365785, null, 0.8259992913803759, 0.811978821123883, null]}, {\"hoverinfo\": \"none\", \"line\": {\"color\": \"rgba(255, 255, 255, 0.0)\", \"dash\": \"solid\", \"width\": 1}, \"mode\": \"lines\", \"type\": \"scatter\", \"x\": [0.15455978433290074, 0.498801222263745, null, 0.4847317767052078, 0.4721515354115645, null, 0.4847317767052078, 0.47042990855117744, null], \"y\": [0.4451772264443228, 0.31498283375559344, null, 0.32030399128668907, 0.3329828483941058, null, 0.32030399128668907, 0.3177921260869547, null]}, {\"hoverinfo\": \"none\", \"line\": {\"color\": \"rgba(255, 255, 255, 0.0)\", \"dash\": \"solid\", \"width\": 1}, \"mode\": \"lines\", \"type\": \"scatter\", \"x\": [0.20859398742060498, 0.8685522586300654, null, 0.8548954622530966, 0.8431677873736535, null, 0.8548954622530966, 0.8405294653255867, null], \"y\": [0.939379580126871, 0.5453194146536426, null, 0.5534738687682641, 0.5686367096772376, null, 0.5534738687682641, 0.5538915229884873, null]}, {\"hoverinfo\": \"none\", \"line\": {\"color\": \"rgba(255, 255, 255, 0.0)\", \"dash\": \"solid\", \"width\": 1}, \"mode\": \"lines\", \"type\": \"scatter\", \"x\": [0.498801222263745, 0.29896656175169767, null, 0.30834432900147873, 0.31408640082604095, null, 0.30834432900147873, 0.32052010365740247, null], \"y\": [0.31498283375559344, 0.7387228229006633, null, 0.7188377089647469, 0.6947781657318409, null, 0.7188377089647469, 0.7049033023308507, null]}, {\"hoverinfo\": \"none\", \"line\": {\"color\": \"rgba(255, 255, 255, 0.0)\", \"dash\": \"solid\", \"width\": 1}, \"mode\": \"lines\", \"type\": \"scatter\", \"x\": [0.29896656175169767, 0.15455978433290074, null, 0.1641634427920823, 0.17649628080181545, null, 0.1641634427920823, 0.17018005549266108, null], \"y\": [0.7387228229006633, 0.4451772264443228, null, 0.464699244045946, 0.47816482459933807, null, 0.464699244045946, 0.48853385500491986, null]}, {\"hoverinfo\": \"none\", \"line\": {\"color\": \"rgba(255, 255, 255, 0.0)\", \"dash\": \"solid\", \"width\": 1}, \"mode\": \"lines\", \"type\": \"scatter\", \"x\": [0.29896656175169767, 0.034891532242013024, null, 0.04873093106162867, 0.06309313530398673, null, 0.04873093106162867, 0.060811292179151946, null], \"y\": [0.7387228229006633, 0.6041482586538549, null, 0.611200917396507, 0.610467408742461, null, 0.611200917396507, 0.6254097505349654, null]}, {\"hoverinfo\": \"none\", \"line\": {\"color\": \"rgba(255, 255, 255, 0.0)\", \"dash\": \"solid\", \"width\": 1}, \"mode\": \"lines\", \"type\": \"scatter\", \"x\": [0.29896656175169767, 0.6708449357266852, null, 0.6573712397622157, 0.6459737813771741, null, 0.6573712397622157, 0.6430248713507729, null], \"y\": [0.7387228229006633, 0.4871621262930794, null, 0.4962765372938351, 0.5122576136642456, null, 0.4962765372938351, 0.4977101197352439, null]}, {\"hoverinfo\": \"none\", \"line\": {\"color\": \"rgba(255, 255, 255, 0.0)\", \"dash\": \"solid\", \"width\": 1}, \"mode\": \"lines\", \"type\": \"scatter\", \"x\": [0.29896656175169767, 0.5205373591701874, null, 0.5122549829790511, 0.5078120445657056, null, 0.5122549829790511, 0.5008730090082815, null], \"y\": [0.7387228229006633, 0.1649714106502279, null, 0.18641839324820295, 0.21137870200243966, null, 0.18641839324820295, 0.2024362546089411, null]}, {\"hoverinfo\": \"none\", \"line\": {\"color\": \"rgba(255, 255, 255, 0.0)\", \"dash\": \"solid\", \"width\": 1}, \"mode\": \"lines\", \"type\": \"scatter\", \"x\": [0.29896656175169767, 0.46795563360246895, null, 0.457465683538372, 0.45034569840344585, null, 0.457465683538372, 0.4445428045426237, null], \"y\": [0.7387228229006633, 0.4497899782459661, null, 0.4677254049520298, 0.49052275042928134, null, 0.4677254049520298, 0.4791967946354593, null]}, {\"hoverinfo\": \"none\", \"line\": {\"color\": \"rgba(255, 255, 255, 0.0)\", \"dash\": \"solid\", \"width\": 1}, \"mode\": \"lines\", \"type\": \"scatter\", \"x\": [0.29896656175169767, 0.5221180554750893, null, 0.5092429097937172, 0.4950583126166657, null, 0.5092429097937172, 0.4988273140263234, null], \"y\": [0.7387228229006633, 0.9406250143679719, null, 0.9289758871981035, 0.9247976717754961, null, 0.9289758871981035, 0.9108964301170315, null]}, {\"hoverinfo\": \"none\", \"line\": {\"color\": \"rgba(255, 255, 255, 0.0)\", \"dash\": \"solid\", \"width\": 1}, \"mode\": \"lines\", \"type\": \"scatter\", \"x\": [0.595137678663374, 0.2605586265200922, null, 0.2729688318259899, 0.28696438832475857, null, 0.2729688318259899, 0.2826851192597498, null], \"y\": [0.9289274901762686, 0.5723479168870731, null, 0.5855741654643846, 0.5915100596176353, null, 0.5855741654643846, 0.6049093070714365, null]}, {\"hoverinfo\": \"none\", \"line\": {\"color\": \"rgba(255, 255, 255, 0.0)\", \"dash\": \"solid\", \"width\": 1}, \"mode\": \"lines\", \"type\": \"scatter\", \"x\": [0.595137678663374, 0.20335982988714008, null, 0.21385197434699402, 0.22677625670966825, null, 0.21385197434699402, 0.22097474888767088, null], \"y\": [0.9289274901762686, 0.2593766114844933, null, 0.2773077542594097, 0.2887738667070758, null, 0.2773077542594097, 0.3001021917809408, null]}, {\"hoverinfo\": \"none\", \"line\": {\"color\": \"rgba(255, 255, 255, 0.0)\", \"dash\": \"solid\", \"width\": 1}, \"mode\": \"lines\", \"type\": \"scatter\", \"x\": [0.595137678663374, 0.033384801454501734, null, 0.04422558149429061, 0.05736872180725856, null, 0.04422558149429061, 0.05179562666651235, null], \"y\": [0.9289274901762686, 0.036345095691985074, null, 0.053570266756652926, 0.06417372847078258, null, 0.053570266756652926, 0.0758784739415388, null]}, {\"hoverinfo\": \"none\", \"line\": {\"color\": \"rgba(255, 255, 255, 0.0)\", \"dash\": \"solid\", \"width\": 1}, \"mode\": \"lines\", \"type\": \"scatter\", \"x\": [0.595137678663374, 0.25284826436995056, null, 0.26198832588097737, 0.27399621744513514, null, 0.26198832588097737, 0.2674441028654924, null], \"y\": [0.9289274901762686, 0.17053692797372544, null, 0.19078802572450568, 0.20520039500374992, null, 0.19078802572450568, 0.2150688816976011, null]}, {\"hoverinfo\": \"none\", \"line\": {\"color\": \"rgba(255, 255, 255, 0.0)\", \"dash\": \"solid\", \"width\": 1}, \"mode\": \"lines\", \"type\": \"scatter\", \"x\": [0.5205373591701874, 0.595137678663374, null, 0.5926145165782878, 0.5860240526791469, null, 0.5926145165782878, 0.5943840428617065, null], \"y\": [0.1649714106502279, 0.9289274901762686, null, 0.9030886596239782, 0.8797660058063278, null, 0.9030886596239782, 0.8770417581157556, null]}, {\"hoverinfo\": \"none\", \"line\": {\"color\": \"rgba(255, 255, 255, 0.0)\", \"dash\": \"solid\", \"width\": 1}, \"mode\": \"lines\", \"type\": \"scatter\", \"x\": [0.5266595794830784, 0.4748962739677183, null, 0.47829478096041395, 0.4856669892507968, null, 0.47829478096041395, 0.4774160081473725, null], \"y\": [0.8030971537898313, 0.4146727453953676, null, 0.44017465364716113, 0.4627028801549795, null, 0.44017465364716113, 0.4663722341298862, null]}, {\"hoverinfo\": \"none\", \"line\": {\"color\": \"rgba(255, 255, 255, 0.0)\", \"dash\": \"solid\", \"width\": 1}, \"mode\": \"lines\", \"type\": \"scatter\", \"x\": [0.2843590293998197, 0.5221180554750893, null, 0.5160605213224866, 0.506423368698442, null, 0.5160605213224866, 0.5141237071263195, null], \"y\": [0.006471954056391782, 0.9406250143679719, null, 0.916825017539232, 0.8973581594406975, null, 0.916825017539232, 0.8908178648146285, null]}, {\"hoverinfo\": \"none\", \"line\": {\"color\": \"rgba(255, 255, 255, 0.0)\", \"dash\": \"solid\", \"width\": 1}, \"mode\": \"lines\", \"type\": \"scatter\", \"x\": [0.2843590293998197, 0.941068118585822, null, 0.9292358077194441, 0.9155233336113702, null, 0.9292358077194441, 0.9203406051848619, null], \"y\": [0.006471954056391782, 0.832836493690238, null, 0.8179474015748562, 0.8101109571932454, null, 0.8179474015748562, 0.7973356599809138, null]}, {\"hoverinfo\": \"none\", \"line\": {\"color\": \"rgba(255, 255, 255, 0.0)\", \"dash\": \"solid\", \"width\": 1}, \"mode\": \"lines\", \"type\": \"scatter\", \"x\": [0.2843590293998197, 0.46795563360246895, null, 0.4592870389994964, 0.4476194941814937, null, 0.4592870389994964, 0.45439173435018515, null], \"y\": [0.006471954056391782, 0.4497899782459661, null, 0.4288585223043929, 0.4135416615823307, null, 0.4288585223043929, 0.4041822157634355, null]}, {\"hoverinfo\": \"none\", \"line\": {\"color\": \"rgba(255, 255, 255, 0.0)\", \"dash\": \"solid\", \"width\": 1}, \"mode\": \"lines\", \"type\": \"scatter\", \"x\": [0.941068118585822, 0.498801222263745, null, 0.5108974874182753, 0.5247447638754987, null, 0.5108974874182753, 0.5201622179295747, null], \"y\": [0.832836493690238, 0.31498283375559344, null, 0.3291464422777462, 0.3361473105326732, null, 0.3291464422777462, 0.349207598100625, null]}, {\"hoverinfo\": \"none\", \"line\": {\"color\": \"rgba(255, 255, 255, 0.0)\", \"dash\": \"solid\", \"width\": 1}, \"mode\": \"lines\", \"type\": \"scatter\", \"x\": [0.941068118585822, 0.5221180554750893, null, 0.536345457770869, 0.549345254720324, null, 0.536345457770869, 0.5505295739386695, null], \"y\": [0.832836493690238, 0.9406250143679719, null, 0.9369645527006257, 0.9257869463305198, null, 0.9369645527006257, 0.9411482138750089, null]}, {\"hoverinfo\": \"none\", \"line\": {\"color\": \"rgba(255, 255, 255, 0.0)\", \"dash\": \"solid\", \"width\": 1}, \"mode\": \"lines\", \"type\": \"scatter\", \"x\": [0.941068118585822, 0.25284826436995056, null, 0.26556008641737605, 0.2796831183252613, null, 0.26556008641737605, 0.27572518939984464, null], \"y\": [0.832836493690238, 0.17053692797372544, null, 0.18276998717697637, 0.18759422410502397, null, 0.18276998717697637, 0.20131912590992768, null]}, {\"hoverinfo\": \"none\", \"line\": {\"color\": \"rgba(255, 255, 255, 0.0)\", \"dash\": \"solid\", \"width\": 1}, \"mode\": \"lines\", \"type\": \"scatter\", \"x\": [0.1285717381336141, 0.941068118585822, null, 0.9279460941415584, 0.9136807432089741, null, 0.9279460941415584, 0.9171395475485363, null], \"y\": [0.17090404054234576, 0.832836493690238, null, 0.8221461151979379, 0.8190171043616443, null, 0.8221461151979379, 0.8048493087217157, null]}, {\"hoverinfo\": \"none\", \"line\": {\"color\": \"rgba(255, 255, 255, 0.0)\", \"dash\": \"solid\", \"width\": 1}, \"mode\": \"lines\", \"type\": \"scatter\", \"x\": [0.71991656933083, 0.15455978433290074, null, 0.16889521488888423, 0.18287529826477666, null, 0.16889521488888423, 0.1823054513079062, null], \"y\": [0.5146376116125279, 0.4451772264443228, null, 0.44693849393839613, 0.44088214443698753, null, 0.44693849393839613, 0.4563600496482029, null]}, {\"hoverinfo\": \"none\", \"marker\": {\"color\": \"rgba(255, 255, 255, 0.0)\", \"line\": {\"color\": \"rgba(255, 255, 255, 0.0)\", \"width\": 1}, \"size\": 20, \"symbol\": \"circle\"}, \"mode\": \"markers+text\", \"text\": [\"('Golden State Warriors',)\"], \"textfont\": {\"color\": \"rgb(0, 0, 0)\"}, \"textposition\": \"middle center\", \"type\": \"scatter\", \"x\": [0.8675686494277822], \"y\": [0.4184051883646216]}, {\"hoverinfo\": \"none\", \"marker\": {\"color\": \"rgba(255, 255, 255, 0.0)\", \"line\": {\"color\": \"rgba(255, 255, 255, 0.0)\", \"width\": 1}, \"size\": 20, \"symbol\": \"circle\"}, \"mode\": \"markers+text\", \"text\": [\"('LA Clippers',)\"], \"textfont\": {\"color\": \"rgb(0, 0, 0)\"}, \"textposition\": \"middle center\", \"type\": \"scatter\", \"x\": [0.45848455903048313], \"y\": [0.37570346186128845]}, {\"hoverinfo\": \"none\", \"marker\": {\"color\": \"rgba(255, 255, 255, 0.0)\", \"line\": {\"color\": \"rgba(255, 255, 255, 0.0)\", \"width\": 1}, \"size\": 20, \"symbol\": \"circle\"}, \"mode\": \"markers+text\", \"text\": [\"('Boston Celtics',)\"], \"textfont\": {\"color\": \"rgb(0, 0, 0)\"}, \"textposition\": \"middle center\", \"type\": \"scatter\", \"x\": [0.5357097752206065], \"y\": [0.35903305778233463]}, {\"hoverinfo\": \"none\", \"marker\": {\"color\": \"rgba(255, 255, 255, 0.0)\", \"line\": {\"color\": \"rgba(255, 255, 255, 0.0)\", \"width\": 1}, \"size\": 20, \"symbol\": \"circle\"}, \"mode\": \"markers+text\", \"text\": [\"('Chicago Bulls',)\"], \"textfont\": {\"color\": \"rgb(0, 0, 0)\"}, \"textposition\": \"middle center\", \"type\": \"scatter\", \"x\": [0.034891532242013024], \"y\": [0.6041482586538549]}, {\"hoverinfo\": \"none\", \"marker\": {\"color\": \"rgba(255, 255, 255, 0.0)\", \"line\": {\"color\": \"rgba(255, 255, 255, 0.0)\", \"width\": 1}, \"size\": 20, \"symbol\": \"circle\"}, \"mode\": \"markers+text\", \"text\": [\"('Houston Rockets',)\"], \"textfont\": {\"color\": \"rgb(0, 0, 0)\"}, \"textposition\": \"middle center\", \"type\": \"scatter\", \"x\": [0.5221180554750893], \"y\": [0.9406250143679719]}, {\"hoverinfo\": \"none\", \"marker\": {\"color\": \"rgba(255, 255, 255, 0.0)\", \"line\": {\"color\": \"rgba(255, 255, 255, 0.0)\", \"width\": 1}, \"size\": 20, \"symbol\": \"circle\"}, \"mode\": \"markers+text\", \"text\": [\"('Cleveland Cavaliers',)\"], \"textfont\": {\"color\": \"rgb(0, 0, 0)\"}, \"textposition\": \"middle center\", \"type\": \"scatter\", \"x\": [0.018938184382305767], \"y\": [0.7336698464258018]}, {\"hoverinfo\": \"none\", \"marker\": {\"color\": \"rgba(255, 255, 255, 0.0)\", \"line\": {\"color\": \"rgba(255, 255, 255, 0.0)\", \"width\": 1}, \"size\": 20, \"symbol\": \"circle\"}, \"mode\": \"markers+text\", \"text\": [\"('Dallas Mavericks',)\"], \"textfont\": {\"color\": \"rgb(0, 0, 0)\"}, \"textposition\": \"middle center\", \"type\": \"scatter\", \"x\": [0.7686980902794368], \"y\": [0.2529713818798117]}, {\"hoverinfo\": \"none\", \"marker\": {\"color\": \"rgba(255, 255, 255, 0.0)\", \"line\": {\"color\": \"rgba(255, 255, 255, 0.0)\", \"width\": 1}, \"size\": 20, \"symbol\": \"circle\"}, \"mode\": \"markers+text\", \"text\": [\"('Los Angeles Lakers',)\"], \"textfont\": {\"color\": \"rgb(0, 0, 0)\"}, \"textposition\": \"middle center\", \"type\": \"scatter\", \"x\": [0.6708449357266852], \"y\": [0.4871621262930794]}, {\"hoverinfo\": \"none\", \"marker\": {\"color\": \"rgba(255, 255, 255, 0.0)\", \"line\": {\"color\": \"rgba(255, 255, 255, 0.0)\", \"width\": 1}, \"size\": 20, \"symbol\": \"circle\"}, \"mode\": \"markers+text\", \"text\": [\"('Brooklyn Nets',)\"], \"textfont\": {\"color\": \"rgb(0, 0, 0)\"}, \"textposition\": \"middle center\", \"type\": \"scatter\", \"x\": [0.4137964301778312], \"y\": [0.25708714990923776]}, {\"hoverinfo\": \"none\", \"marker\": {\"color\": \"rgba(255, 255, 255, 0.0)\", \"line\": {\"color\": \"rgba(255, 255, 255, 0.0)\", \"width\": 1}, \"size\": 20, \"symbol\": \"circle\"}, \"mode\": \"markers+text\", \"text\": [\"('Memphis Grizzlies',)\"], \"textfont\": {\"color\": \"rgb(0, 0, 0)\"}, \"textposition\": \"middle center\", \"type\": \"scatter\", \"x\": [0.25284826436995056], \"y\": [0.17053692797372544]}, {\"hoverinfo\": \"none\", \"marker\": {\"color\": \"rgba(255, 255, 255, 0.0)\", \"line\": {\"color\": \"rgba(255, 255, 255, 0.0)\", \"width\": 1}, \"size\": 20, \"symbol\": \"circle\"}, \"mode\": \"markers+text\", \"text\": [\"('Washington Wizards',)\"], \"textfont\": {\"color\": \"rgb(0, 0, 0)\"}, \"textposition\": \"middle center\", \"type\": \"scatter\", \"x\": [0.033384801454501734], \"y\": [0.036345095691985074]}, {\"hoverinfo\": \"none\", \"marker\": {\"color\": \"rgba(255, 255, 255, 0.0)\", \"line\": {\"color\": \"rgba(255, 255, 255, 0.0)\", \"width\": 1}, \"size\": 20, \"symbol\": \"circle\"}, \"mode\": \"markers+text\", \"text\": [\"('Oklahoma City Thunder',)\"], \"textfont\": {\"color\": \"rgb(0, 0, 0)\"}, \"textposition\": \"middle center\", \"type\": \"scatter\", \"x\": [0.8685522586300654], \"y\": [0.5453194146536426]}, {\"hoverinfo\": \"none\", \"marker\": {\"color\": \"rgba(255, 255, 255, 0.0)\", \"line\": {\"color\": \"rgba(255, 255, 255, 0.0)\", \"width\": 1}, \"size\": 20, \"symbol\": \"circle\"}, \"mode\": \"markers+text\", \"text\": [\"('Miami Heat',)\"], \"textfont\": {\"color\": \"rgb(0, 0, 0)\"}, \"textposition\": \"middle center\", \"type\": \"scatter\", \"x\": [0.6724589514545904], \"y\": [0.4043614998419862]}, {\"hoverinfo\": \"none\", \"marker\": {\"color\": \"rgba(255, 255, 255, 0.0)\", \"line\": {\"color\": \"rgba(255, 255, 255, 0.0)\", \"width\": 1}, \"size\": 20, \"symbol\": \"circle\"}, \"mode\": \"markers+text\", \"text\": [\"('Minnesota Timberwolves',)\"], \"textfont\": {\"color\": \"rgb(0, 0, 0)\"}, \"textposition\": \"middle center\", \"type\": \"scatter\", \"x\": [0.46795563360246895], \"y\": [0.4497899782459661]}, {\"hoverinfo\": \"none\", \"marker\": {\"color\": \"rgba(255, 255, 255, 0.0)\", \"line\": {\"color\": \"rgba(255, 255, 255, 0.0)\", \"width\": 1}, \"size\": 20, \"symbol\": \"circle\"}, \"mode\": \"markers+text\", \"text\": [\"('Indiana Pacers',)\"], \"textfont\": {\"color\": \"rgb(0, 0, 0)\"}, \"textposition\": \"middle center\", \"type\": \"scatter\", \"x\": [0.20335982988714008], \"y\": [0.2593766114844933]}, {\"hoverinfo\": \"none\", \"marker\": {\"color\": \"rgba(255, 255, 255, 0.0)\", \"line\": {\"color\": \"rgba(255, 255, 255, 0.0)\", \"width\": 1}, \"size\": 20, \"symbol\": \"circle\"}, \"mode\": \"markers+text\", \"text\": [\"('Denver Nuggets',)\"], \"textfont\": {\"color\": \"rgb(0, 0, 0)\"}, \"textposition\": \"middle center\", \"type\": \"scatter\", \"x\": [0.8502102235794309], \"y\": [0.575560587466893]}, {\"hoverinfo\": \"none\", \"marker\": {\"color\": \"rgba(255, 255, 255, 0.0)\", \"line\": {\"color\": \"rgba(255, 255, 255, 0.0)\", \"width\": 1}, \"size\": 20, \"symbol\": \"circle\"}, \"mode\": \"markers+text\", \"text\": [\"('Charlotte Hornets',)\"], \"textfont\": {\"color\": \"rgb(0, 0, 0)\"}, \"textposition\": \"middle center\", \"type\": \"scatter\", \"x\": [0.18674033924666944], \"y\": [0.3892342028166137]}, {\"hoverinfo\": \"none\", \"marker\": {\"color\": \"rgba(255, 255, 255, 0.0)\", \"line\": {\"color\": \"rgba(255, 255, 255, 0.0)\", \"width\": 1}, \"size\": 20, \"symbol\": \"circle\"}, \"mode\": \"markers+text\", \"text\": [\"('Philadelphia 76ers',)\"], \"textfont\": {\"color\": \"rgb(0, 0, 0)\"}, \"textposition\": \"middle center\", \"type\": \"scatter\", \"x\": [0.4748962739677183], \"y\": [0.4146727453953676]}, {\"hoverinfo\": \"none\", \"marker\": {\"color\": \"rgba(255, 255, 255, 0.0)\", \"line\": {\"color\": \"rgba(255, 255, 255, 0.0)\", \"width\": 1}, \"size\": 20, \"symbol\": \"circle\"}, \"mode\": \"markers+text\", \"text\": [\"('Portland Trail Blazers',)\"], \"textfont\": {\"color\": \"rgb(0, 0, 0)\"}, \"textposition\": \"middle center\", \"type\": \"scatter\", \"x\": [0.2605586265200922], \"y\": [0.5723479168870731]}, {\"hoverinfo\": \"none\", \"marker\": {\"color\": \"rgba(255, 255, 255, 0.0)\", \"line\": {\"color\": \"rgba(255, 255, 255, 0.0)\", \"width\": 1}, \"size\": 20, \"symbol\": \"circle\"}, \"mode\": \"markers+text\", \"text\": [\"('Milwaukee Bucks',)\"], \"textfont\": {\"color\": \"rgb(0, 0, 0)\"}, \"textposition\": \"middle center\", \"type\": \"scatter\", \"x\": [0.15455978433290074], \"y\": [0.4451772264443228]}, {\"hoverinfo\": \"none\", \"marker\": {\"color\": \"rgba(255, 255, 255, 0.0)\", \"line\": {\"color\": \"rgba(255, 255, 255, 0.0)\", \"width\": 1}, \"size\": 20, \"symbol\": \"circle\"}, \"mode\": \"markers+text\", \"text\": [\"('New Orleans Pelicans',)\"], \"textfont\": {\"color\": \"rgb(0, 0, 0)\"}, \"textposition\": \"middle center\", \"type\": \"scatter\", \"x\": [0.20859398742060498], \"y\": [0.939379580126871]}, {\"hoverinfo\": \"none\", \"marker\": {\"color\": \"rgba(255, 255, 255, 0.0)\", \"line\": {\"color\": \"rgba(255, 255, 255, 0.0)\", \"width\": 1}, \"size\": 20, \"symbol\": \"circle\"}, \"mode\": \"markers+text\", \"text\": [\"('Toronto Raptors',)\"], \"textfont\": {\"color\": \"rgb(0, 0, 0)\"}, \"textposition\": \"middle center\", \"type\": \"scatter\", \"x\": [0.498801222263745], \"y\": [0.31498283375559344]}, {\"hoverinfo\": \"none\", \"marker\": {\"color\": \"rgba(255, 255, 255, 0.0)\", \"line\": {\"color\": \"rgba(255, 255, 255, 0.0)\", \"width\": 1}, \"size\": 20, \"symbol\": \"circle\"}, \"mode\": \"markers+text\", \"text\": [\"('Phoenix Suns',)\"], \"textfont\": {\"color\": \"rgb(0, 0, 0)\"}, \"textposition\": \"middle center\", \"type\": \"scatter\", \"x\": [0.29896656175169767], \"y\": [0.7387228229006633]}, {\"hoverinfo\": \"none\", \"marker\": {\"color\": \"rgba(255, 255, 255, 0.0)\", \"line\": {\"color\": \"rgba(255, 255, 255, 0.0)\", \"width\": 1}, \"size\": 20, \"symbol\": \"circle\"}, \"mode\": \"markers+text\", \"text\": [\"('New York Knicks',)\"], \"textfont\": {\"color\": \"rgb(0, 0, 0)\"}, \"textposition\": \"middle center\", \"type\": \"scatter\", \"x\": [0.595137678663374], \"y\": [0.9289274901762686]}, {\"hoverinfo\": \"none\", \"marker\": {\"color\": \"rgba(255, 255, 255, 0.0)\", \"line\": {\"color\": \"rgba(255, 255, 255, 0.0)\", \"width\": 1}, \"size\": 20, \"symbol\": \"circle\"}, \"mode\": \"markers+text\", \"text\": [\"('Detroit Pistons',)\"], \"textfont\": {\"color\": \"rgb(0, 0, 0)\"}, \"textposition\": \"middle center\", \"type\": \"scatter\", \"x\": [0.5205373591701874], \"y\": [0.1649714106502279]}, {\"hoverinfo\": \"none\", \"marker\": {\"color\": \"rgba(255, 255, 255, 0.0)\", \"line\": {\"color\": \"rgba(255, 255, 255, 0.0)\", \"width\": 1}, \"size\": 20, \"symbol\": \"circle\"}, \"mode\": \"markers+text\", \"text\": [\"('Utah Jazz',)\"], \"textfont\": {\"color\": \"rgb(0, 0, 0)\"}, \"textposition\": \"middle center\", \"type\": \"scatter\", \"x\": [0.5266595794830784], \"y\": [0.8030971537898313]}, {\"hoverinfo\": \"none\", \"marker\": {\"color\": \"rgba(255, 255, 255, 0.0)\", \"line\": {\"color\": \"rgba(255, 255, 255, 0.0)\", \"width\": 1}, \"size\": 20, \"symbol\": \"circle\"}, \"mode\": \"markers+text\", \"text\": [\"('Sacramento Kings',)\"], \"textfont\": {\"color\": \"rgb(0, 0, 0)\"}, \"textposition\": \"middle center\", \"type\": \"scatter\", \"x\": [0.2843590293998197], \"y\": [0.006471954056391782]}, {\"hoverinfo\": \"none\", \"marker\": {\"color\": \"rgba(255, 255, 255, 0.0)\", \"line\": {\"color\": \"rgba(255, 255, 255, 0.0)\", \"width\": 1}, \"size\": 20, \"symbol\": \"circle\"}, \"mode\": \"markers+text\", \"text\": [\"('Atlanta Hawks',)\"], \"textfont\": {\"color\": \"rgb(0, 0, 0)\"}, \"textposition\": \"middle center\", \"type\": \"scatter\", \"x\": [0.941068118585822], \"y\": [0.832836493690238]}, {\"hoverinfo\": \"none\", \"marker\": {\"color\": \"rgba(255, 255, 255, 0.0)\", \"line\": {\"color\": \"rgba(255, 255, 255, 0.0)\", \"width\": 1}, \"size\": 20, \"symbol\": \"circle\"}, \"mode\": \"markers+text\", \"text\": [\"('Orlando Magic',)\"], \"textfont\": {\"color\": \"rgb(0, 0, 0)\"}, \"textposition\": \"middle center\", \"type\": \"scatter\", \"x\": [0.1285717381336141], \"y\": [0.17090404054234576]}, {\"hoverinfo\": \"none\", \"marker\": {\"color\": \"rgba(255, 255, 255, 0.0)\", \"line\": {\"color\": \"rgba(255, 255, 255, 0.0)\", \"width\": 1}, \"size\": 20, \"symbol\": \"circle\"}, \"mode\": \"markers+text\", \"text\": [\"('San Antonio Spurs',)\"], \"textfont\": {\"color\": \"rgb(0, 0, 0)\"}, \"textposition\": \"middle center\", \"type\": \"scatter\", \"x\": [0.71991656933083], \"y\": [0.5146376116125279]}, {\"hoverinfo\": \"none\", \"mode\": \"text\", \"text\": [null, null, null, null, null, null, null, null, null, null, null, null, null, null, null, null, null, null, null, null, null, null, null, null, null, null, null, null, null, null, null, null, null, null, null, null, null, null, null, null, null, null, null, null, null, null], \"textfont\": {\"color\": \"rgb(0, 0, 0)\"}, \"textposition\": \"middle center\", \"type\": \"scatter\", \"x\": [0.5811453276142949, 0.7705794819273795, 0.6856832735522186, 0.5606971915257761, 0.01289749452219281, 0.09509472374285477, 0.399591623063444, 0.2650620765604027, 0.040519030616998616, 0.5267543366427512, 0.5708417318596337, 0.4512794926734644, 0.4541561003552273, 0.4563432584607982, 0.546529769450485, 0.34692772022139207, 0.26752717943633064, 0.6666913405675772, 0.5845002041261683, 0.09943546043683296, 0.6691560208118652, 0.15833243257672064, 0.5440711726087041, 0.3295933783261209, 0.5430369836829082, 0.38799850636176714, 0.23744979474663605, 0.1707897696706347, 0.4898951030370189, 0.4214923345555237, 0.3932791976411785, 0.4041654157229914, 0.4350883834939683, 0.4090645091563535, 0.32369053628830347, 0.43507870175092556, 0.5436929866747942, 0.5147380230528887, 0.39021009589758393, 0.6045630796020731, 0.36469916380899003, 0.7276880250899275, 0.729589299824624, 0.603654736817597, 0.5289678677195365, 0.4382023189514659], \"y\": [0.18795803711445935, 0.3851569754784948, 0.6592942084036942, 0.45665895892060104, 0.6631474333853146, 0.397168667089225, 0.5414521873349283, 0.54801025337634, 0.386000083180108, 0.4730061584650669, 0.44236175443453624, 0.310628008598912, 0.6061546249112608, 0.3530945359471652, 0.3976552697550934, 0.2862301446817714, 0.506925396130603, 0.4349127257894363, 0.6605291523964116, 0.48132398786994257, 0.5058200838651058, 0.28827836857856043, 0.6643473993520597, 0.4057816944273647, 0.7672973458899162, 0.5097217889427015, 0.5744063336289488, 0.6461541193115046, 0.6375558404532252, 0.4669771268253953, 0.6134191439974916, 0.8631938698002886, 0.7279670922642042, 0.5749852987462384, 0.46283266325514244, 0.533035403795011, 0.5515586913875788, 0.6026766533539742, 0.48461421589252685, 0.44126915395992633, 0.2439665090479477, 0.5518125494248762, 0.8607405388116176, 0.47846511465085806, 0.525841209408175, 0.4537198608474161]}, {\"hoverinfo\": \"none\", \"marker\": {\"color\": \"rgba(255, 255, 255, 0.0)\", \"line\": {\"color\": \"rgba(255, 255, 255, 0.0)\", \"width\": 0}, \"size\": 0, \"symbol\": \"circle\"}, \"mode\": \"markers\", \"type\": \"scatter\", \"x\": [0.5, 0.0, 1.0, 0.5], \"y\": [0.0, 0.5, 0.5, 1.0]}],\n",
       "                        {\"height\": 526.0, \"margin\": {\"b\": 0, \"l\": 0, \"r\": 0, \"t\": 0}, \"showlegend\": false, \"sliders\": [{\"currentvalue\": {\"visible\": false}, \"steps\": [{\"args\": [[0], {\"frame\": {\"redraw\": false}, \"mode\": \"immediate\"}], \"label\": \"\", \"method\": \"animate\"}, {\"args\": [[1], {\"frame\": {\"redraw\": false}, \"mode\": \"immediate\"}], \"label\": \"\", \"method\": \"animate\"}]}], \"template\": {\"data\": {\"bar\": [{\"error_x\": {\"color\": \"#2a3f5f\"}, \"error_y\": {\"color\": \"#2a3f5f\"}, \"marker\": {\"line\": {\"color\": \"#E5ECF6\", \"width\": 0.5}}, \"type\": \"bar\"}], \"barpolar\": [{\"marker\": {\"line\": {\"color\": \"#E5ECF6\", \"width\": 0.5}}, \"type\": \"barpolar\"}], \"carpet\": [{\"aaxis\": {\"endlinecolor\": \"#2a3f5f\", \"gridcolor\": \"white\", \"linecolor\": \"white\", \"minorgridcolor\": \"white\", \"startlinecolor\": \"#2a3f5f\"}, \"baxis\": {\"endlinecolor\": \"#2a3f5f\", \"gridcolor\": \"white\", \"linecolor\": \"white\", \"minorgridcolor\": \"white\", \"startlinecolor\": \"#2a3f5f\"}, \"type\": \"carpet\"}], \"choropleth\": [{\"colorbar\": {\"outlinewidth\": 0, \"ticks\": \"\"}, \"type\": \"choropleth\"}], \"contour\": [{\"colorbar\": {\"outlinewidth\": 0, \"ticks\": \"\"}, \"colorscale\": [[0.0, \"#0d0887\"], [0.1111111111111111, \"#46039f\"], [0.2222222222222222, \"#7201a8\"], [0.3333333333333333, \"#9c179e\"], [0.4444444444444444, \"#bd3786\"], [0.5555555555555556, \"#d8576b\"], [0.6666666666666666, \"#ed7953\"], [0.7777777777777778, \"#fb9f3a\"], [0.8888888888888888, \"#fdca26\"], [1.0, \"#f0f921\"]], \"type\": \"contour\"}], \"contourcarpet\": [{\"colorbar\": {\"outlinewidth\": 0, \"ticks\": \"\"}, \"type\": \"contourcarpet\"}], \"heatmap\": [{\"colorbar\": {\"outlinewidth\": 0, \"ticks\": \"\"}, \"colorscale\": [[0.0, \"#0d0887\"], [0.1111111111111111, \"#46039f\"], [0.2222222222222222, \"#7201a8\"], [0.3333333333333333, \"#9c179e\"], [0.4444444444444444, \"#bd3786\"], [0.5555555555555556, \"#d8576b\"], [0.6666666666666666, \"#ed7953\"], [0.7777777777777778, \"#fb9f3a\"], [0.8888888888888888, \"#fdca26\"], [1.0, \"#f0f921\"]], \"type\": \"heatmap\"}], \"heatmapgl\": [{\"colorbar\": {\"outlinewidth\": 0, \"ticks\": \"\"}, \"colorscale\": [[0.0, \"#0d0887\"], [0.1111111111111111, \"#46039f\"], [0.2222222222222222, \"#7201a8\"], [0.3333333333333333, \"#9c179e\"], [0.4444444444444444, \"#bd3786\"], [0.5555555555555556, \"#d8576b\"], [0.6666666666666666, \"#ed7953\"], [0.7777777777777778, \"#fb9f3a\"], [0.8888888888888888, \"#fdca26\"], [1.0, \"#f0f921\"]], \"type\": \"heatmapgl\"}], \"histogram\": [{\"marker\": {\"colorbar\": {\"outlinewidth\": 0, \"ticks\": \"\"}}, \"type\": \"histogram\"}], \"histogram2d\": [{\"colorbar\": {\"outlinewidth\": 0, \"ticks\": \"\"}, \"colorscale\": [[0.0, \"#0d0887\"], [0.1111111111111111, \"#46039f\"], [0.2222222222222222, \"#7201a8\"], [0.3333333333333333, \"#9c179e\"], [0.4444444444444444, \"#bd3786\"], [0.5555555555555556, \"#d8576b\"], [0.6666666666666666, \"#ed7953\"], [0.7777777777777778, \"#fb9f3a\"], [0.8888888888888888, \"#fdca26\"], [1.0, \"#f0f921\"]], \"type\": \"histogram2d\"}], \"histogram2dcontour\": [{\"colorbar\": {\"outlinewidth\": 0, \"ticks\": \"\"}, \"colorscale\": [[0.0, \"#0d0887\"], [0.1111111111111111, \"#46039f\"], [0.2222222222222222, \"#7201a8\"], [0.3333333333333333, \"#9c179e\"], [0.4444444444444444, \"#bd3786\"], [0.5555555555555556, \"#d8576b\"], [0.6666666666666666, \"#ed7953\"], [0.7777777777777778, \"#fb9f3a\"], [0.8888888888888888, \"#fdca26\"], [1.0, \"#f0f921\"]], \"type\": \"histogram2dcontour\"}], \"mesh3d\": [{\"colorbar\": {\"outlinewidth\": 0, \"ticks\": \"\"}, \"type\": \"mesh3d\"}], \"parcoords\": [{\"line\": {\"colorbar\": {\"outlinewidth\": 0, \"ticks\": \"\"}}, \"type\": \"parcoords\"}], \"scatter\": [{\"marker\": {\"colorbar\": {\"outlinewidth\": 0, \"ticks\": \"\"}}, \"type\": \"scatter\"}], \"scatter3d\": [{\"line\": {\"colorbar\": {\"outlinewidth\": 0, \"ticks\": \"\"}}, \"marker\": {\"colorbar\": {\"outlinewidth\": 0, \"ticks\": \"\"}}, \"type\": \"scatter3d\"}], \"scattercarpet\": [{\"marker\": {\"colorbar\": {\"outlinewidth\": 0, \"ticks\": \"\"}}, \"type\": \"scattercarpet\"}], \"scattergeo\": [{\"marker\": {\"colorbar\": {\"outlinewidth\": 0, \"ticks\": \"\"}}, \"type\": \"scattergeo\"}], \"scattergl\": [{\"marker\": {\"colorbar\": {\"outlinewidth\": 0, \"ticks\": \"\"}}, \"type\": \"scattergl\"}], \"scattermapbox\": [{\"marker\": {\"colorbar\": {\"outlinewidth\": 0, \"ticks\": \"\"}}, \"type\": \"scattermapbox\"}], \"scatterpolar\": [{\"marker\": {\"colorbar\": {\"outlinewidth\": 0, \"ticks\": \"\"}}, \"type\": \"scatterpolar\"}], \"scatterpolargl\": [{\"marker\": {\"colorbar\": {\"outlinewidth\": 0, \"ticks\": \"\"}}, \"type\": \"scatterpolargl\"}], \"scatterternary\": [{\"marker\": {\"colorbar\": {\"outlinewidth\": 0, \"ticks\": \"\"}}, \"type\": \"scatterternary\"}], \"surface\": [{\"colorbar\": {\"outlinewidth\": 0, \"ticks\": \"\"}, \"colorscale\": [[0.0, \"#0d0887\"], [0.1111111111111111, \"#46039f\"], [0.2222222222222222, \"#7201a8\"], [0.3333333333333333, \"#9c179e\"], [0.4444444444444444, \"#bd3786\"], [0.5555555555555556, \"#d8576b\"], [0.6666666666666666, \"#ed7953\"], [0.7777777777777778, \"#fb9f3a\"], [0.8888888888888888, \"#fdca26\"], [1.0, \"#f0f921\"]], \"type\": \"surface\"}], \"table\": [{\"cells\": {\"fill\": {\"color\": \"#EBF0F8\"}, \"line\": {\"color\": \"white\"}}, \"header\": {\"fill\": {\"color\": \"#C8D4E3\"}, \"line\": {\"color\": \"white\"}}, \"type\": \"table\"}]}, \"layout\": {\"annotationdefaults\": {\"arrowcolor\": \"#2a3f5f\", \"arrowhead\": 0, \"arrowwidth\": 1}, \"colorscale\": {\"diverging\": [[0, \"#8e0152\"], [0.1, \"#c51b7d\"], [0.2, \"#de77ae\"], [0.3, \"#f1b6da\"], [0.4, \"#fde0ef\"], [0.5, \"#f7f7f7\"], [0.6, \"#e6f5d0\"], [0.7, \"#b8e186\"], [0.8, \"#7fbc41\"], [0.9, \"#4d9221\"], [1, \"#276419\"]], \"sequential\": [[0.0, \"#0d0887\"], [0.1111111111111111, \"#46039f\"], [0.2222222222222222, \"#7201a8\"], [0.3333333333333333, \"#9c179e\"], [0.4444444444444444, \"#bd3786\"], [0.5555555555555556, \"#d8576b\"], [0.6666666666666666, \"#ed7953\"], [0.7777777777777778, \"#fb9f3a\"], [0.8888888888888888, \"#fdca26\"], [1.0, \"#f0f921\"]], \"sequentialminus\": [[0.0, \"#0d0887\"], [0.1111111111111111, \"#46039f\"], [0.2222222222222222, \"#7201a8\"], [0.3333333333333333, \"#9c179e\"], [0.4444444444444444, \"#bd3786\"], [0.5555555555555556, \"#d8576b\"], [0.6666666666666666, \"#ed7953\"], [0.7777777777777778, \"#fb9f3a\"], [0.8888888888888888, \"#fdca26\"], [1.0, \"#f0f921\"]]}, \"colorway\": [\"#636efa\", \"#EF553B\", \"#00cc96\", \"#ab63fa\", \"#FFA15A\", \"#19d3f3\", \"#FF6692\", \"#B6E880\", \"#FF97FF\", \"#FECB52\"], \"font\": {\"color\": \"#2a3f5f\"}, \"geo\": {\"bgcolor\": \"white\", \"lakecolor\": \"white\", \"landcolor\": \"#E5ECF6\", \"showlakes\": true, \"showland\": true, \"subunitcolor\": \"white\"}, \"hoverlabel\": {\"align\": \"left\"}, \"hovermode\": \"closest\", \"mapbox\": {\"style\": \"light\"}, \"paper_bgcolor\": \"white\", \"plot_bgcolor\": \"#E5ECF6\", \"polar\": {\"angularaxis\": {\"gridcolor\": \"white\", \"linecolor\": \"white\", \"ticks\": \"\"}, \"bgcolor\": \"#E5ECF6\", \"radialaxis\": {\"gridcolor\": \"white\", \"linecolor\": \"white\", \"ticks\": \"\"}}, \"scene\": {\"xaxis\": {\"backgroundcolor\": \"#E5ECF6\", \"gridcolor\": \"white\", \"gridwidth\": 2, \"linecolor\": \"white\", \"showbackground\": true, \"ticks\": \"\", \"zerolinecolor\": \"white\"}, \"yaxis\": {\"backgroundcolor\": \"#E5ECF6\", \"gridcolor\": \"white\", \"gridwidth\": 2, \"linecolor\": \"white\", \"showbackground\": true, \"ticks\": \"\", \"zerolinecolor\": \"white\"}, \"zaxis\": {\"backgroundcolor\": \"#E5ECF6\", \"gridcolor\": \"white\", \"gridwidth\": 2, \"linecolor\": \"white\", \"showbackground\": true, \"ticks\": \"\", \"zerolinecolor\": \"white\"}}, \"shapedefaults\": {\"line\": {\"color\": \"#2a3f5f\"}}, \"ternary\": {\"aaxis\": {\"gridcolor\": \"white\", \"linecolor\": \"white\", \"ticks\": \"\"}, \"baxis\": {\"gridcolor\": \"white\", \"linecolor\": \"white\", \"ticks\": \"\"}, \"bgcolor\": \"#E5ECF6\", \"caxis\": {\"gridcolor\": \"white\", \"linecolor\": \"white\", \"ticks\": \"\"}}, \"title\": {\"x\": 0.05}, \"xaxis\": {\"automargin\": true, \"gridcolor\": \"white\", \"linecolor\": \"white\", \"ticks\": \"\", \"zerolinecolor\": \"white\", \"zerolinewidth\": 2}, \"yaxis\": {\"automargin\": true, \"gridcolor\": \"white\", \"linecolor\": \"white\", \"ticks\": \"\", \"zerolinecolor\": \"white\", \"zerolinewidth\": 2}}}, \"updatemenus\": [{\"buttons\": [{\"args\": [null, {\"frame\": {\"redraw\": false}, \"fromcurrent\": true}], \"label\": \"Play\", \"method\": \"animate\"}, {\"args\": [[null], {\"frame\": {\"redraw\": false}, \"mode\": \"immediate\"}], \"label\": \"Pause\", \"method\": \"animate\"}], \"showactive\": true, \"type\": \"buttons\"}], \"width\": 912.0, \"xaxis\": {\"showgrid\": false, \"showticklabels\": false, \"zeroline\": false}, \"yaxis\": {\"showgrid\": false, \"showticklabels\": false, \"zeroline\": false}},\n",
       "                        {\"staticPlot\": true, \"responsive\": true}\n",
       "                    ).then(function(){\n",
       "                            Plotly.addFrames('2d5a72c5-b13e-4052-896f-9bd74ffea6cd', [{\"data\": [{\"hoverinfo\": \"none\", \"line\": {\"color\": \"rgba(255, 255, 255, 0.0)\", \"dash\": \"solid\", \"width\": 1}, \"mode\": \"lines\", \"x\": [0.8675686494277822, 0.2843590293998197, null, 0.2977600114265353, 0.3120936930105964, null, 0.2977600114265353, 0.3090312240829498, null], \"y\": [0.4184051883646216, 0.006471954056391782, null, 0.015937349824223464, 0.017745495290004278, null, 0.015937349824223464, 0.032214480280492036, null], \"type\": \"scatter\"}, {\"hoverinfo\": \"none\", \"line\": {\"color\": \"rgba(255, 255, 255, 0.0)\", \"dash\": \"solid\", \"width\": 1}, \"mode\": \"lines\", \"x\": [0.8675686494277822, 0.6724589514545904, null, 0.6868156273828264, 0.7006982540693258, null, 0.6868156273828264, 0.7003639134499172, null], \"y\": [0.4184051883646216, 0.4043614998419862, null, 0.40539487074589825, 0.3986316658012261, null, 0.40539487074589825, 0.4141325095531862, null], \"type\": \"scatter\"}, {\"hoverinfo\": \"none\", \"line\": {\"color\": \"rgba(255, 255, 255, 0.0)\", \"dash\": \"solid\", \"width\": 1}, \"mode\": \"lines\", \"x\": [0.8675686494277822, 0.5221180554750893, null, 0.5331872511916863, 0.5410550693556936, null, 0.5331872511916863, 0.5464690461743552, null], \"y\": [0.4184051883646216, 0.9406250143679719, null, 0.923891641890662, 0.9019299581097725, null, 0.923891641890662, 0.9138813230441428, null], \"type\": \"scatter\"}, {\"hoverinfo\": \"none\", \"line\": {\"color\": \"rgba(255, 255, 255, 0.0)\", \"dash\": \"solid\", \"width\": 1}, \"mode\": \"lines\", \"x\": [0.45848455903048313, 0.6708449357266852, null, 0.6570357851442974, 0.64267090678355, null, 0.6570357851442974, 0.6450158926346744, null], \"y\": [0.37570346186128845, 0.4871621262930794, null, 0.47991430772731986, 0.48044504363268736, null, 0.47991430772731986, 0.46553536073708807, null], \"type\": \"scatter\"}, {\"hoverinfo\": \"none\", \"line\": {\"color\": \"rgba(255, 255, 255, 0.0)\", \"dash\": \"solid\", \"width\": 1}, \"mode\": \"lines\", \"x\": [0.034891532242013024, 0.018938184382305767, null, 0.02209217417809563, 0.0209628814722854, null, 0.02209217417809563, 0.02924770996040161, null], \"y\": [0.6041482586538549, 0.7336698464258018, null, 0.7080633235968865, 0.68189780309555, null, 0.7080633235968865, 0.6853031528620417, null], \"type\": \"scatter\"}, {\"hoverinfo\": \"none\", \"line\": {\"color\": \"rgba(255, 255, 255, 0.0)\", \"dash\": \"solid\", \"width\": 1}, \"mode\": \"lines\", \"x\": [0.034891532242013024, 0.1285717381336141, null, 0.12329329105873123, 0.12219966065359684, null, 0.12329329105873123, 0.11430153527075773, null], \"y\": [0.6041482586538549, 0.17090404054234576, null, 0.19531535191848404, 0.22148592718522866, null, 0.19531535191848404, 0.2157868096618032, null], \"type\": \"scatter\"}, {\"hoverinfo\": \"none\", \"line\": {\"color\": \"rgba(255, 255, 255, 0.0)\", \"dash\": \"solid\", \"width\": 1}, \"mode\": \"lines\", \"x\": [0.5221180554750893, 0.25284826436995056, null, 0.2605825555215104, 0.2715497016058739, null, 0.2605825555215104, 0.2643931105463597, null], \"y\": [0.9406250143679719, 0.17053692797372544, null, 0.19265632520753942, 0.20961245138340134, null, 0.19265632520753942, 0.2179631336215305, null], \"type\": \"scatter\"}, {\"hoverinfo\": \"none\", \"line\": {\"color\": \"rgba(255, 255, 255, 0.0)\", \"dash\": \"solid\", \"width\": 1}, \"mode\": \"lines\", \"x\": [0.018938184382305767, 0.498801222263745, null, 0.4858363214565184, 0.47528045005631464, null, 0.4858363214565184, 0.47162050721864684, null], \"y\": [0.7336698464258018, 0.31498283375559344, null, 0.32629488565379455, 0.34410077654775095, null, 0.32629488565379455, 0.3301026266503064, null], \"type\": \"scatter\"}, {\"hoverinfo\": \"none\", \"line\": {\"color\": \"rgba(255, 255, 255, 0.0)\", \"dash\": \"solid\", \"width\": 1}, \"mode\": \"lines\", \"x\": [0.018938184382305767, 0.033384801454501734, null, 0.03284143188814721, 0.036565273622165106, null, 0.03284143188814721, 0.028079388606491656, null], \"y\": [0.7336698464258018, 0.036345095691985074, null, 0.06257303857445758, 0.08792288638398166, null, 0.06257303857445758, 0.0873362125055899, null], \"type\": \"scatter\"}, {\"hoverinfo\": \"none\", \"line\": {\"color\": \"rgba(255, 255, 255, 0.0)\", \"dash\": \"solid\", \"width\": 1}, \"mode\": \"lines\", \"x\": [0.7686980902794368, 0.29896656175169767, null, 0.31147000950383846, 0.3213233204991327, null, 0.31147000950383846, 0.3255066982635355, null], \"y\": [0.2529713818798117, 0.7387228229006633, null, 0.725792952550322, 0.7066906151358712, null, 0.725792952550322, 0.7201905360740841, null], \"type\": \"scatter\"}, {\"hoverinfo\": \"none\", \"line\": {\"color\": \"rgba(255, 255, 255, 0.0)\", \"dash\": \"solid\", \"width\": 1}, \"mode\": \"lines\", \"x\": [0.6708449357266852, 0.46795563360246895, null, 0.4822509604345521, 0.496333784554192, null, 0.4822509604345521, 0.495481831008243, null], \"y\": [0.4871621262930794, 0.4497899782459661, null, 0.4524231731219749, 0.44722145757699366, null, 0.4524231731219749, 0.46265606296301565, null], \"type\": \"scatter\"}, {\"hoverinfo\": \"none\", \"line\": {\"color\": \"rgba(255, 255, 255, 0.0)\", \"dash\": \"solid\", \"width\": 1}, \"mode\": \"lines\", \"x\": [0.4137964301778312, 0.498801222263745, null, 0.4853386656717405, 0.47099407963527284, null, 0.4853386656717405, 0.4739607086096874, null], \"y\": [0.25708714990923776, 0.31498283375559344, null, 0.3058136575116635, 0.3043217422678744, null, 0.3058136575116635, 0.2897862754733528, null], \"type\": \"scatter\"}, {\"hoverinfo\": \"none\", \"line\": {\"color\": \"rgba(255, 255, 255, 0.0)\", \"dash\": \"solid\", \"width\": 1}, \"mode\": \"lines\", \"x\": [0.4137964301778312, 0.5221180554750893, null, 0.5181227324917819, 0.5102273381847249, null, 0.5181227324917819, 0.5183843711352475, null], \"y\": [0.25708714990923776, 0.9406250143679719, null, 0.915413478515011, 0.8934848452362809, null, 0.915413478515011, 0.8891711114992771, null], \"type\": \"scatter\"}, {\"hoverinfo\": \"none\", \"line\": {\"color\": \"rgba(255, 255, 255, 0.0)\", \"dash\": \"solid\", \"width\": 1}, \"mode\": \"lines\", \"x\": [0.25284826436995056, 0.6708449357266852, null, 0.6575728834881168, 0.6432672590557594, null, 0.6575728834881168, 0.646519956342303, null], \"y\": [0.17053692797372544, 0.4871621262930794, null, 0.47710877788123246, 0.47466933732065125, null, 0.47710877788123246, 0.4603395572903529, null], \"type\": \"scatter\"}, {\"hoverinfo\": \"none\", \"line\": {\"color\": \"rgba(255, 255, 255, 0.0)\", \"dash\": \"solid\", \"width\": 1}, \"mode\": \"lines\", \"x\": [0.25284826436995056, 0.8502102235794309, null, 0.836740279491424, 0.822394504653078, null, 0.836740279491424, 0.8253493961422608, null], \"y\": [0.17053692797372544, 0.575560587466893, null, 0.5664276891234621, 0.564974419606242, null, 0.5664276891234621, 0.5504309765627736, null], \"type\": \"scatter\"}, {\"hoverinfo\": \"none\", \"line\": {\"color\": \"rgba(255, 255, 255, 0.0)\", \"dash\": \"solid\", \"width\": 1}, \"mode\": \"lines\", \"x\": [0.033384801454501734, 0.6708449357266852, null, 0.6574461435778345, 0.6431128813697783, null, 0.6574461435778345, 0.6461786956858772, null], \"y\": [0.036345095691985074, 0.4871621262930794, null, 0.4776863906894989, 0.475867185000289, null, 0.4776863906894989, 0.4614005644118946, null], \"type\": \"scatter\"}, {\"hoverinfo\": \"none\", \"line\": {\"color\": \"rgba(255, 255, 255, 0.0)\", \"dash\": \"solid\", \"width\": 1}, \"mode\": \"lines\", \"x\": [0.033384801454501734, 0.5221180554750893, null, 0.512023558407075, 0.49935844483278063, null, 0.512023558407075, 0.5054013892044785, null], \"y\": [0.036345095691985074, 0.9406250143679719, null, 0.9219476460640046, 0.9095539680153487, null, 0.9219476460640046, 0.8986549811894244, null], \"type\": \"scatter\"}, {\"hoverinfo\": \"none\", \"line\": {\"color\": \"rgba(255, 255, 255, 0.0)\", \"dash\": \"solid\", \"width\": 1}, \"mode\": \"lines\", \"x\": [0.8685522586300654, 0.45848455903048313, null, 0.47249764732117155, 0.48682252733333503, null, 0.47249764732117155, 0.4849471964478749, null], \"y\": [0.5453194146536426, 0.37570346186128845, null, 0.3814996836176214, 0.3794720889616937, null, 0.3814996836176214, 0.39460196255932617, null], \"type\": \"scatter\"}, {\"hoverinfo\": \"none\", \"line\": {\"color\": \"rgba(255, 255, 255, 0.0)\", \"dash\": \"solid\", \"width\": 1}, \"mode\": \"lines\", \"x\": [0.6724589514545904, 0.5221180554750893, null, 0.528667371414693, 0.5311449710471972, null, 0.528667371414693, 0.5387033727740197, null], \"y\": [0.4043614998419862, 0.9406250143679719, null, 0.9172637116390602, 0.8914101720126275, null, 0.9172637116390602, 0.8984814414046149, null], \"type\": \"scatter\"}, {\"hoverinfo\": \"none\", \"line\": {\"color\": \"rgba(255, 255, 255, 0.0)\", \"dash\": \"solid\", \"width\": 1}, \"mode\": \"lines\", \"x\": [0.20335982988714008, 0.018938184382305767, null, 0.027258458597051585, 0.03174553041303147, null, 0.027258458597051585, 0.038668709894826854, null], \"y\": [0.2593766114844933, 0.7336698464258018, null, 0.7122718713556406, 0.6873379221111203, null, 0.7122718713556406, 0.6963212878443109, null], \"type\": \"scatter\"}, {\"hoverinfo\": \"none\", \"line\": {\"color\": \"rgba(255, 255, 255, 0.0)\", \"dash\": \"solid\", \"width\": 1}, \"mode\": \"lines\", \"x\": [0.4748962739677183, 0.8685522586300654, null, 0.8544158427345641, 0.8401518403670534, null, 0.8544158427345641, 0.8416697772412196, null], \"y\": [0.4146727453953676, 0.5453194146536426, null, 0.540627816598602, 0.5437772767361085, null, 0.540627816598602, 0.5285142468325135, null], \"type\": \"scatter\"}, {\"hoverinfo\": \"none\", \"line\": {\"color\": \"rgba(255, 255, 255, 0.0)\", \"dash\": \"solid\", \"width\": 1}, \"mode\": \"lines\", \"x\": [0.2605586265200922, 0.033384801454501734, null, 0.042180721666971635, 0.05394110710674939, null, 0.042180721666971635, 0.04722646329601378, null], \"y\": [0.5723479168870731, 0.036345095691985074, null, 0.05709853437502674, 0.07217659224675899, null, 0.05709853437502674, 0.0816735110007756, null], \"type\": \"scatter\"}, {\"hoverinfo\": \"none\", \"line\": {\"color\": \"rgba(255, 255, 255, 0.0)\", \"dash\": \"solid\", \"width\": 1}, \"mode\": \"lines\", \"x\": [0.15455978433290074, 0.941068118585822, null, 0.927196357856654, 0.9128380918842263, null, 0.927196357856654, 0.9150502254430942, null], \"y\": [0.4451772264443228, 0.832836493690238, null, 0.8259992913803759, 0.8269561039365785, null, 0.8259992913803759, 0.811978821123883, null], \"type\": \"scatter\"}, {\"hoverinfo\": \"none\", \"line\": {\"color\": \"rgba(255, 255, 255, 0.0)\", \"dash\": \"solid\", \"width\": 1}, \"mode\": \"lines\", \"x\": [0.15455978433290074, 0.498801222263745, null, 0.4847317767052078, 0.4721515354115645, null, 0.4847317767052078, 0.47042990855117744, null], \"y\": [0.4451772264443228, 0.31498283375559344, null, 0.32030399128668907, 0.3329828483941058, null, 0.32030399128668907, 0.3177921260869547, null], \"type\": \"scatter\"}, {\"hoverinfo\": \"none\", \"line\": {\"color\": \"rgba(255, 255, 255, 0.0)\", \"dash\": \"solid\", \"width\": 1}, \"mode\": \"lines\", \"x\": [0.20859398742060498, 0.8685522586300654, null, 0.8548954622530966, 0.8431677873736535, null, 0.8548954622530966, 0.8405294653255867, null], \"y\": [0.939379580126871, 0.5453194146536426, null, 0.5534738687682641, 0.5686367096772376, null, 0.5534738687682641, 0.5538915229884873, null], \"type\": \"scatter\"}, {\"hoverinfo\": \"none\", \"line\": {\"color\": \"rgba(255, 255, 255, 0.0)\", \"dash\": \"solid\", \"width\": 1}, \"mode\": \"lines\", \"x\": [0.498801222263745, 0.29896656175169767, null, 0.30834432900147873, 0.31408640082604095, null, 0.30834432900147873, 0.32052010365740247, null], \"y\": [0.31498283375559344, 0.7387228229006633, null, 0.7188377089647469, 0.6947781657318409, null, 0.7188377089647469, 0.7049033023308507, null], \"type\": \"scatter\"}, {\"hoverinfo\": \"none\", \"line\": {\"color\": \"rgba(255, 255, 255, 0.0)\", \"dash\": \"solid\", \"width\": 1}, \"mode\": \"lines\", \"x\": [0.29896656175169767, 0.15455978433290074, null, 0.1641634427920823, 0.17649628080181545, null, 0.1641634427920823, 0.17018005549266108, null], \"y\": [0.7387228229006633, 0.4451772264443228, null, 0.464699244045946, 0.47816482459933807, null, 0.464699244045946, 0.48853385500491986, null], \"type\": \"scatter\"}, {\"hoverinfo\": \"none\", \"line\": {\"color\": \"rgba(255, 255, 255, 0.0)\", \"dash\": \"solid\", \"width\": 1}, \"mode\": \"lines\", \"x\": [0.29896656175169767, 0.034891532242013024, null, 0.04873093106162867, 0.06309313530398673, null, 0.04873093106162867, 0.060811292179151946, null], \"y\": [0.7387228229006633, 0.6041482586538549, null, 0.611200917396507, 0.610467408742461, null, 0.611200917396507, 0.6254097505349654, null], \"type\": \"scatter\"}, {\"hoverinfo\": \"none\", \"line\": {\"color\": \"rgba(255, 255, 255, 0.0)\", \"dash\": \"solid\", \"width\": 1}, \"mode\": \"lines\", \"x\": [0.29896656175169767, 0.6708449357266852, null, 0.6573712397622157, 0.6459737813771741, null, 0.6573712397622157, 0.6430248713507729, null], \"y\": [0.7387228229006633, 0.4871621262930794, null, 0.4962765372938351, 0.5122576136642456, null, 0.4962765372938351, 0.4977101197352439, null], \"type\": \"scatter\"}, {\"hoverinfo\": \"none\", \"line\": {\"color\": \"rgba(255, 255, 255, 0.0)\", \"dash\": \"solid\", \"width\": 1}, \"mode\": \"lines\", \"x\": [0.29896656175169767, 0.5205373591701874, null, 0.5122549829790511, 0.5078120445657056, null, 0.5122549829790511, 0.5008730090082815, null], \"y\": [0.7387228229006633, 0.1649714106502279, null, 0.18641839324820295, 0.21137870200243966, null, 0.18641839324820295, 0.2024362546089411, null], \"type\": \"scatter\"}, {\"hoverinfo\": \"none\", \"line\": {\"color\": \"rgba(255, 255, 255, 0.0)\", \"dash\": \"solid\", \"width\": 1}, \"mode\": \"lines\", \"x\": [0.29896656175169767, 0.46795563360246895, null, 0.457465683538372, 0.45034569840344585, null, 0.457465683538372, 0.4445428045426237, null], \"y\": [0.7387228229006633, 0.4497899782459661, null, 0.4677254049520298, 0.49052275042928134, null, 0.4677254049520298, 0.4791967946354593, null], \"type\": \"scatter\"}, {\"hoverinfo\": \"none\", \"line\": {\"color\": \"rgba(255, 255, 255, 0.0)\", \"dash\": \"solid\", \"width\": 1}, \"mode\": \"lines\", \"x\": [0.29896656175169767, 0.5221180554750893, null, 0.5092429097937172, 0.4950583126166657, null, 0.5092429097937172, 0.4988273140263234, null], \"y\": [0.7387228229006633, 0.9406250143679719, null, 0.9289758871981035, 0.9247976717754961, null, 0.9289758871981035, 0.9108964301170315, null], \"type\": \"scatter\"}, {\"hoverinfo\": \"none\", \"line\": {\"color\": \"rgba(255, 255, 255, 0.0)\", \"dash\": \"solid\", \"width\": 1}, \"mode\": \"lines\", \"x\": [0.595137678663374, 0.2605586265200922, null, 0.2729688318259899, 0.28696438832475857, null, 0.2729688318259899, 0.2826851192597498, null], \"y\": [0.9289274901762686, 0.5723479168870731, null, 0.5855741654643846, 0.5915100596176353, null, 0.5855741654643846, 0.6049093070714365, null], \"type\": \"scatter\"}, {\"hoverinfo\": \"none\", \"line\": {\"color\": \"rgba(255, 255, 255, 0.0)\", \"dash\": \"solid\", \"width\": 1}, \"mode\": \"lines\", \"x\": [0.595137678663374, 0.20335982988714008, null, 0.21385197434699402, 0.22677625670966825, null, 0.21385197434699402, 0.22097474888767088, null], \"y\": [0.9289274901762686, 0.2593766114844933, null, 0.2773077542594097, 0.2887738667070758, null, 0.2773077542594097, 0.3001021917809408, null], \"type\": \"scatter\"}, {\"hoverinfo\": \"none\", \"line\": {\"color\": \"rgba(255, 255, 255, 0.0)\", \"dash\": \"solid\", \"width\": 1}, \"mode\": \"lines\", \"x\": [0.595137678663374, 0.033384801454501734, null, 0.04422558149429061, 0.05736872180725856, null, 0.04422558149429061, 0.05179562666651235, null], \"y\": [0.9289274901762686, 0.036345095691985074, null, 0.053570266756652926, 0.06417372847078258, null, 0.053570266756652926, 0.0758784739415388, null], \"type\": \"scatter\"}, {\"hoverinfo\": \"none\", \"line\": {\"color\": \"rgba(255, 255, 255, 0.0)\", \"dash\": \"solid\", \"width\": 1}, \"mode\": \"lines\", \"x\": [0.595137678663374, 0.25284826436995056, null, 0.26198832588097737, 0.27399621744513514, null, 0.26198832588097737, 0.2674441028654924, null], \"y\": [0.9289274901762686, 0.17053692797372544, null, 0.19078802572450568, 0.20520039500374992, null, 0.19078802572450568, 0.2150688816976011, null], \"type\": \"scatter\"}, {\"hoverinfo\": \"none\", \"line\": {\"color\": \"rgba(255, 255, 255, 0.0)\", \"dash\": \"solid\", \"width\": 1}, \"mode\": \"lines\", \"x\": [0.5205373591701874, 0.595137678663374, null, 0.5926145165782878, 0.5860240526791469, null, 0.5926145165782878, 0.5943840428617065, null], \"y\": [0.1649714106502279, 0.9289274901762686, null, 0.9030886596239782, 0.8797660058063278, null, 0.9030886596239782, 0.8770417581157556, null], \"type\": \"scatter\"}, {\"hoverinfo\": \"none\", \"line\": {\"color\": \"rgba(255, 255, 255, 0.0)\", \"dash\": \"solid\", \"width\": 1}, \"mode\": \"lines\", \"x\": [0.5266595794830784, 0.4748962739677183, null, 0.47829478096041395, 0.4856669892507968, null, 0.47829478096041395, 0.4774160081473725, null], \"y\": [0.8030971537898313, 0.4146727453953676, null, 0.44017465364716113, 0.4627028801549795, null, 0.44017465364716113, 0.4663722341298862, null], \"type\": \"scatter\"}, {\"hoverinfo\": \"none\", \"line\": {\"color\": \"rgba(255, 255, 255, 0.0)\", \"dash\": \"solid\", \"width\": 1}, \"mode\": \"lines\", \"x\": [0.2843590293998197, 0.5221180554750893, null, 0.5160605213224866, 0.506423368698442, null, 0.5160605213224866, 0.5141237071263195, null], \"y\": [0.006471954056391782, 0.9406250143679719, null, 0.916825017539232, 0.8973581594406975, null, 0.916825017539232, 0.8908178648146285, null], \"type\": \"scatter\"}, {\"hoverinfo\": \"none\", \"line\": {\"color\": \"rgba(255, 255, 255, 0.0)\", \"dash\": \"solid\", \"width\": 1}, \"mode\": \"lines\", \"x\": [0.2843590293998197, 0.941068118585822, null, 0.9292358077194441, 0.9155233336113702, null, 0.9292358077194441, 0.9203406051848619, null], \"y\": [0.006471954056391782, 0.832836493690238, null, 0.8179474015748562, 0.8101109571932454, null, 0.8179474015748562, 0.7973356599809138, null], \"type\": \"scatter\"}, {\"hoverinfo\": \"none\", \"line\": {\"color\": \"rgba(255, 255, 255, 0.0)\", \"dash\": \"solid\", \"width\": 1}, \"mode\": \"lines\", \"x\": [0.2843590293998197, 0.46795563360246895, null, 0.4592870389994964, 0.4476194941814937, null, 0.4592870389994964, 0.45439173435018515, null], \"y\": [0.006471954056391782, 0.4497899782459661, null, 0.4288585223043929, 0.4135416615823307, null, 0.4288585223043929, 0.4041822157634355, null], \"type\": \"scatter\"}, {\"hoverinfo\": \"none\", \"line\": {\"color\": \"rgba(255, 255, 255, 0.0)\", \"dash\": \"solid\", \"width\": 1}, \"mode\": \"lines\", \"x\": [0.941068118585822, 0.498801222263745, null, 0.5108974874182753, 0.5247447638754987, null, 0.5108974874182753, 0.5201622179295747, null], \"y\": [0.832836493690238, 0.31498283375559344, null, 0.3291464422777462, 0.3361473105326732, null, 0.3291464422777462, 0.349207598100625, null], \"type\": \"scatter\"}, {\"hoverinfo\": \"none\", \"line\": {\"color\": \"rgba(255, 255, 255, 0.0)\", \"dash\": \"solid\", \"width\": 1}, \"mode\": \"lines\", \"x\": [0.941068118585822, 0.5221180554750893, null, 0.536345457770869, 0.549345254720324, null, 0.536345457770869, 0.5505295739386695, null], \"y\": [0.832836493690238, 0.9406250143679719, null, 0.9369645527006257, 0.9257869463305198, null, 0.9369645527006257, 0.9411482138750089, null], \"type\": \"scatter\"}, {\"hoverinfo\": \"none\", \"line\": {\"color\": \"rgba(255, 255, 255, 0.0)\", \"dash\": \"solid\", \"width\": 1}, \"mode\": \"lines\", \"x\": [0.941068118585822, 0.25284826436995056, null, 0.26556008641737605, 0.2796831183252613, null, 0.26556008641737605, 0.27572518939984464, null], \"y\": [0.832836493690238, 0.17053692797372544, null, 0.18276998717697637, 0.18759422410502397, null, 0.18276998717697637, 0.20131912590992768, null], \"type\": \"scatter\"}, {\"hoverinfo\": \"none\", \"line\": {\"color\": \"rgba(255, 255, 255, 0.0)\", \"dash\": \"solid\", \"width\": 1}, \"mode\": \"lines\", \"x\": [0.1285717381336141, 0.941068118585822, null, 0.9279460941415584, 0.9136807432089741, null, 0.9279460941415584, 0.9171395475485363, null], \"y\": [0.17090404054234576, 0.832836493690238, null, 0.8221461151979379, 0.8190171043616443, null, 0.8221461151979379, 0.8048493087217157, null], \"type\": \"scatter\"}, {\"hoverinfo\": \"none\", \"line\": {\"color\": \"rgba(255, 255, 255, 0.0)\", \"dash\": \"solid\", \"width\": 1}, \"mode\": \"lines\", \"x\": [0.71991656933083, 0.15455978433290074, null, 0.16889521488888423, 0.18287529826477666, null, 0.16889521488888423, 0.1823054513079062, null], \"y\": [0.5146376116125279, 0.4451772264443228, null, 0.44693849393839613, 0.44088214443698753, null, 0.44693849393839613, 0.4563600496482029, null], \"type\": \"scatter\"}, {\"hoverinfo\": \"none\", \"marker\": {\"color\": \"rgba(255, 255, 255, 0.0)\", \"line\": {\"color\": \"rgba(255, 255, 255, 0.0)\", \"width\": 1}, \"size\": 20, \"symbol\": \"circle\"}, \"mode\": \"markers+text\", \"text\": [\"('Golden State Warriors',)\"], \"textfont\": {\"color\": \"rgb(0, 0, 0)\"}, \"textposition\": \"middle center\", \"x\": [0.8675686494277822], \"y\": [0.4184051883646216], \"type\": \"scatter\"}, {\"hoverinfo\": \"none\", \"marker\": {\"color\": \"rgba(255, 255, 255, 0.0)\", \"line\": {\"color\": \"rgba(255, 255, 255, 0.0)\", \"width\": 1}, \"size\": 20, \"symbol\": \"circle\"}, \"mode\": \"markers+text\", \"text\": [\"('LA Clippers',)\"], \"textfont\": {\"color\": \"rgb(0, 0, 0)\"}, \"textposition\": \"middle center\", \"x\": [0.45848455903048313], \"y\": [0.37570346186128845], \"type\": \"scatter\"}, {\"hoverinfo\": \"none\", \"marker\": {\"color\": \"rgba(255, 255, 255, 0.0)\", \"line\": {\"color\": \"rgba(255, 255, 255, 0.0)\", \"width\": 1}, \"size\": 20, \"symbol\": \"circle\"}, \"mode\": \"markers+text\", \"text\": [\"('Boston Celtics',)\"], \"textfont\": {\"color\": \"rgb(0, 0, 0)\"}, \"textposition\": \"middle center\", \"x\": [0.5357097752206065], \"y\": [0.35903305778233463], \"type\": \"scatter\"}, {\"hoverinfo\": \"none\", \"marker\": {\"color\": \"rgba(255, 255, 255, 0.0)\", \"line\": {\"color\": \"rgba(255, 255, 255, 0.0)\", \"width\": 1}, \"size\": 20, \"symbol\": \"circle\"}, \"mode\": \"markers+text\", \"text\": [\"('Chicago Bulls',)\"], \"textfont\": {\"color\": \"rgb(0, 0, 0)\"}, \"textposition\": \"middle center\", \"x\": [0.034891532242013024], \"y\": [0.6041482586538549], \"type\": \"scatter\"}, {\"hoverinfo\": \"none\", \"marker\": {\"color\": \"rgba(255, 255, 255, 0.0)\", \"line\": {\"color\": \"rgba(255, 255, 255, 0.0)\", \"width\": 1}, \"size\": 20, \"symbol\": \"circle\"}, \"mode\": \"markers+text\", \"text\": [\"('Houston Rockets',)\"], \"textfont\": {\"color\": \"rgb(0, 0, 0)\"}, \"textposition\": \"middle center\", \"x\": [0.5221180554750893], \"y\": [0.9406250143679719], \"type\": \"scatter\"}, {\"hoverinfo\": \"none\", \"marker\": {\"color\": \"rgba(255, 255, 255, 0.0)\", \"line\": {\"color\": \"rgba(255, 255, 255, 0.0)\", \"width\": 1}, \"size\": 20, \"symbol\": \"circle\"}, \"mode\": \"markers+text\", \"text\": [\"('Cleveland Cavaliers',)\"], \"textfont\": {\"color\": \"rgb(0, 0, 0)\"}, \"textposition\": \"middle center\", \"x\": [0.018938184382305767], \"y\": [0.7336698464258018], \"type\": \"scatter\"}, {\"hoverinfo\": \"none\", \"marker\": {\"color\": \"rgba(255, 255, 255, 0.0)\", \"line\": {\"color\": \"rgba(255, 255, 255, 0.0)\", \"width\": 1}, \"size\": 20, \"symbol\": \"circle\"}, \"mode\": \"markers+text\", \"text\": [\"('Dallas Mavericks',)\"], \"textfont\": {\"color\": \"rgb(0, 0, 0)\"}, \"textposition\": \"middle center\", \"x\": [0.7686980902794368], \"y\": [0.2529713818798117], \"type\": \"scatter\"}, {\"hoverinfo\": \"none\", \"marker\": {\"color\": \"rgba(255, 255, 255, 0.0)\", \"line\": {\"color\": \"rgba(255, 255, 255, 0.0)\", \"width\": 1}, \"size\": 20, \"symbol\": \"circle\"}, \"mode\": \"markers+text\", \"text\": [\"('Los Angeles Lakers',)\"], \"textfont\": {\"color\": \"rgb(0, 0, 0)\"}, \"textposition\": \"middle center\", \"x\": [0.6708449357266852], \"y\": [0.4871621262930794], \"type\": \"scatter\"}, {\"hoverinfo\": \"none\", \"marker\": {\"color\": \"rgba(255, 255, 255, 0.0)\", \"line\": {\"color\": \"rgba(255, 255, 255, 0.0)\", \"width\": 1}, \"size\": 20, \"symbol\": \"circle\"}, \"mode\": \"markers+text\", \"text\": [\"('Brooklyn Nets',)\"], \"textfont\": {\"color\": \"rgb(0, 0, 0)\"}, \"textposition\": \"middle center\", \"x\": [0.4137964301778312], \"y\": [0.25708714990923776], \"type\": \"scatter\"}, {\"hoverinfo\": \"none\", \"marker\": {\"color\": \"rgba(255, 255, 255, 0.0)\", \"line\": {\"color\": \"rgba(255, 255, 255, 0.0)\", \"width\": 1}, \"size\": 20, \"symbol\": \"circle\"}, \"mode\": \"markers+text\", \"text\": [\"('Memphis Grizzlies',)\"], \"textfont\": {\"color\": \"rgb(0, 0, 0)\"}, \"textposition\": \"middle center\", \"x\": [0.25284826436995056], \"y\": [0.17053692797372544], \"type\": \"scatter\"}, {\"hoverinfo\": \"none\", \"marker\": {\"color\": \"rgba(255, 255, 255, 0.0)\", \"line\": {\"color\": \"rgba(255, 255, 255, 0.0)\", \"width\": 1}, \"size\": 20, \"symbol\": \"circle\"}, \"mode\": \"markers+text\", \"text\": [\"('Washington Wizards',)\"], \"textfont\": {\"color\": \"rgb(0, 0, 0)\"}, \"textposition\": \"middle center\", \"x\": [0.033384801454501734], \"y\": [0.036345095691985074], \"type\": \"scatter\"}, {\"hoverinfo\": \"none\", \"marker\": {\"color\": \"rgba(255, 255, 255, 0.0)\", \"line\": {\"color\": \"rgba(255, 255, 255, 0.0)\", \"width\": 1}, \"size\": 20, \"symbol\": \"circle\"}, \"mode\": \"markers+text\", \"text\": [\"('Oklahoma City Thunder',)\"], \"textfont\": {\"color\": \"rgb(0, 0, 0)\"}, \"textposition\": \"middle center\", \"x\": [0.8685522586300654], \"y\": [0.5453194146536426], \"type\": \"scatter\"}, {\"hoverinfo\": \"none\", \"marker\": {\"color\": \"rgba(255, 255, 255, 0.0)\", \"line\": {\"color\": \"rgba(255, 255, 255, 0.0)\", \"width\": 1}, \"size\": 20, \"symbol\": \"circle\"}, \"mode\": \"markers+text\", \"text\": [\"('Miami Heat',)\"], \"textfont\": {\"color\": \"rgb(0, 0, 0)\"}, \"textposition\": \"middle center\", \"x\": [0.6724589514545904], \"y\": [0.4043614998419862], \"type\": \"scatter\"}, {\"hoverinfo\": \"none\", \"marker\": {\"color\": \"rgba(255, 255, 255, 0.0)\", \"line\": {\"color\": \"rgba(255, 255, 255, 0.0)\", \"width\": 1}, \"size\": 20, \"symbol\": \"circle\"}, \"mode\": \"markers+text\", \"text\": [\"('Minnesota Timberwolves',)\"], \"textfont\": {\"color\": \"rgb(0, 0, 0)\"}, \"textposition\": \"middle center\", \"x\": [0.46795563360246895], \"y\": [0.4497899782459661], \"type\": \"scatter\"}, {\"hoverinfo\": \"none\", \"marker\": {\"color\": \"rgba(255, 255, 255, 0.0)\", \"line\": {\"color\": \"rgba(255, 255, 255, 0.0)\", \"width\": 1}, \"size\": 20, \"symbol\": \"circle\"}, \"mode\": \"markers+text\", \"text\": [\"('Indiana Pacers',)\"], \"textfont\": {\"color\": \"rgb(0, 0, 0)\"}, \"textposition\": \"middle center\", \"x\": [0.20335982988714008], \"y\": [0.2593766114844933], \"type\": \"scatter\"}, {\"hoverinfo\": \"none\", \"marker\": {\"color\": \"rgba(255, 255, 255, 0.0)\", \"line\": {\"color\": \"rgba(255, 255, 255, 0.0)\", \"width\": 1}, \"size\": 20, \"symbol\": \"circle\"}, \"mode\": \"markers+text\", \"text\": [\"('Denver Nuggets',)\"], \"textfont\": {\"color\": \"rgb(0, 0, 0)\"}, \"textposition\": \"middle center\", \"x\": [0.8502102235794309], \"y\": [0.575560587466893], \"type\": \"scatter\"}, {\"hoverinfo\": \"none\", \"marker\": {\"color\": \"rgba(255, 255, 255, 0.0)\", \"line\": {\"color\": \"rgba(255, 255, 255, 0.0)\", \"width\": 1}, \"size\": 20, \"symbol\": \"circle\"}, \"mode\": \"markers+text\", \"text\": [\"('Charlotte Hornets',)\"], \"textfont\": {\"color\": \"rgb(0, 0, 0)\"}, \"textposition\": \"middle center\", \"x\": [0.18674033924666944], \"y\": [0.3892342028166137], \"type\": \"scatter\"}, {\"hoverinfo\": \"none\", \"marker\": {\"color\": \"rgba(255, 255, 255, 0.0)\", \"line\": {\"color\": \"rgba(255, 255, 255, 0.0)\", \"width\": 1}, \"size\": 20, \"symbol\": \"circle\"}, \"mode\": \"markers+text\", \"text\": [\"('Philadelphia 76ers',)\"], \"textfont\": {\"color\": \"rgb(0, 0, 0)\"}, \"textposition\": \"middle center\", \"x\": [0.4748962739677183], \"y\": [0.4146727453953676], \"type\": \"scatter\"}, {\"hoverinfo\": \"none\", \"marker\": {\"color\": \"rgba(255, 255, 255, 0.0)\", \"line\": {\"color\": \"rgba(255, 255, 255, 0.0)\", \"width\": 1}, \"size\": 20, \"symbol\": \"circle\"}, \"mode\": \"markers+text\", \"text\": [\"('Portland Trail Blazers',)\"], \"textfont\": {\"color\": \"rgb(0, 0, 0)\"}, \"textposition\": \"middle center\", \"x\": [0.2605586265200922], \"y\": [0.5723479168870731], \"type\": \"scatter\"}, {\"hoverinfo\": \"none\", \"marker\": {\"color\": \"rgba(255, 255, 255, 0.0)\", \"line\": {\"color\": \"rgba(255, 255, 255, 0.0)\", \"width\": 1}, \"size\": 20, \"symbol\": \"circle\"}, \"mode\": \"markers+text\", \"text\": [\"('Milwaukee Bucks',)\"], \"textfont\": {\"color\": \"rgb(0, 0, 0)\"}, \"textposition\": \"middle center\", \"x\": [0.15455978433290074], \"y\": [0.4451772264443228], \"type\": \"scatter\"}, {\"hoverinfo\": \"none\", \"marker\": {\"color\": \"rgba(255, 255, 255, 0.0)\", \"line\": {\"color\": \"rgba(255, 255, 255, 0.0)\", \"width\": 1}, \"size\": 20, \"symbol\": \"circle\"}, \"mode\": \"markers+text\", \"text\": [\"('New Orleans Pelicans',)\"], \"textfont\": {\"color\": \"rgb(0, 0, 0)\"}, \"textposition\": \"middle center\", \"x\": [0.20859398742060498], \"y\": [0.939379580126871], \"type\": \"scatter\"}, {\"hoverinfo\": \"none\", \"marker\": {\"color\": \"rgba(255, 255, 255, 0.0)\", \"line\": {\"color\": \"rgba(255, 255, 255, 0.0)\", \"width\": 1}, \"size\": 20, \"symbol\": \"circle\"}, \"mode\": \"markers+text\", \"text\": [\"('Toronto Raptors',)\"], \"textfont\": {\"color\": \"rgb(0, 0, 0)\"}, \"textposition\": \"middle center\", \"x\": [0.498801222263745], \"y\": [0.31498283375559344], \"type\": \"scatter\"}, {\"hoverinfo\": \"none\", \"marker\": {\"color\": \"rgba(255, 255, 255, 0.0)\", \"line\": {\"color\": \"rgba(255, 255, 255, 0.0)\", \"width\": 1}, \"size\": 20, \"symbol\": \"circle\"}, \"mode\": \"markers+text\", \"text\": [\"('Phoenix Suns',)\"], \"textfont\": {\"color\": \"rgb(0, 0, 0)\"}, \"textposition\": \"middle center\", \"x\": [0.29896656175169767], \"y\": [0.7387228229006633], \"type\": \"scatter\"}, {\"hoverinfo\": \"none\", \"marker\": {\"color\": \"rgba(255, 255, 255, 0.0)\", \"line\": {\"color\": \"rgba(255, 255, 255, 0.0)\", \"width\": 1}, \"size\": 20, \"symbol\": \"circle\"}, \"mode\": \"markers+text\", \"text\": [\"('New York Knicks',)\"], \"textfont\": {\"color\": \"rgb(0, 0, 0)\"}, \"textposition\": \"middle center\", \"x\": [0.595137678663374], \"y\": [0.9289274901762686], \"type\": \"scatter\"}, {\"hoverinfo\": \"none\", \"marker\": {\"color\": \"rgba(255, 255, 255, 0.0)\", \"line\": {\"color\": \"rgba(255, 255, 255, 0.0)\", \"width\": 1}, \"size\": 20, \"symbol\": \"circle\"}, \"mode\": \"markers+text\", \"text\": [\"('Detroit Pistons',)\"], \"textfont\": {\"color\": \"rgb(0, 0, 0)\"}, \"textposition\": \"middle center\", \"x\": [0.5205373591701874], \"y\": [0.1649714106502279], \"type\": \"scatter\"}, {\"hoverinfo\": \"none\", \"marker\": {\"color\": \"rgba(255, 255, 255, 0.0)\", \"line\": {\"color\": \"rgba(255, 255, 255, 0.0)\", \"width\": 1}, \"size\": 20, \"symbol\": \"circle\"}, \"mode\": \"markers+text\", \"text\": [\"('Utah Jazz',)\"], \"textfont\": {\"color\": \"rgb(0, 0, 0)\"}, \"textposition\": \"middle center\", \"x\": [0.5266595794830784], \"y\": [0.8030971537898313], \"type\": \"scatter\"}, {\"hoverinfo\": \"none\", \"marker\": {\"color\": \"rgba(255, 255, 255, 0.0)\", \"line\": {\"color\": \"rgba(255, 255, 255, 0.0)\", \"width\": 1}, \"size\": 20, \"symbol\": \"circle\"}, \"mode\": \"markers+text\", \"text\": [\"('Sacramento Kings',)\"], \"textfont\": {\"color\": \"rgb(0, 0, 0)\"}, \"textposition\": \"middle center\", \"x\": [0.2843590293998197], \"y\": [0.006471954056391782], \"type\": \"scatter\"}, {\"hoverinfo\": \"none\", \"marker\": {\"color\": \"rgba(255, 255, 255, 0.0)\", \"line\": {\"color\": \"rgba(255, 255, 255, 0.0)\", \"width\": 1}, \"size\": 20, \"symbol\": \"circle\"}, \"mode\": \"markers+text\", \"text\": [\"('Atlanta Hawks',)\"], \"textfont\": {\"color\": \"rgb(0, 0, 0)\"}, \"textposition\": \"middle center\", \"x\": [0.941068118585822], \"y\": [0.832836493690238], \"type\": \"scatter\"}, {\"hoverinfo\": \"none\", \"marker\": {\"color\": \"rgba(255, 255, 255, 0.0)\", \"line\": {\"color\": \"rgba(255, 255, 255, 0.0)\", \"width\": 1}, \"size\": 20, \"symbol\": \"circle\"}, \"mode\": \"markers+text\", \"text\": [\"('Orlando Magic',)\"], \"textfont\": {\"color\": \"rgb(0, 0, 0)\"}, \"textposition\": \"middle center\", \"x\": [0.1285717381336141], \"y\": [0.17090404054234576], \"type\": \"scatter\"}, {\"hoverinfo\": \"none\", \"marker\": {\"color\": \"rgba(255, 255, 255, 0.0)\", \"line\": {\"color\": \"rgba(255, 255, 255, 0.0)\", \"width\": 1}, \"size\": 20, \"symbol\": \"circle\"}, \"mode\": \"markers+text\", \"text\": [\"('San Antonio Spurs',)\"], \"textfont\": {\"color\": \"rgb(0, 0, 0)\"}, \"textposition\": \"middle center\", \"x\": [0.71991656933083], \"y\": [0.5146376116125279], \"type\": \"scatter\"}, {\"hoverinfo\": \"none\", \"mode\": \"text\", \"text\": [null, null, null, null, null, null, null, null, null, null, null, null, null, null, null, null, null, null, null, null, null, null, null, null, null, null, null, null, null, null, null, null, null, null, null, null, null, null, null, null, null, null, null, null, null, null], \"textfont\": {\"color\": \"rgb(0, 0, 0)\"}, \"textposition\": \"middle center\", \"x\": [0.5811453276142949, 0.7705794819273795, 0.6856832735522186, 0.5606971915257761, 0.01289749452219281, 0.09509472374285477, 0.399591623063444, 0.2650620765604027, 0.040519030616998616, 0.5267543366427512, 0.5708417318596337, 0.4512794926734644, 0.4541561003552273, 0.4563432584607982, 0.546529769450485, 0.34692772022139207, 0.26752717943633064, 0.6666913405675772, 0.5845002041261683, 0.09943546043683296, 0.6691560208118652, 0.15833243257672064, 0.5440711726087041, 0.3295933783261209, 0.5430369836829082, 0.38799850636176714, 0.23744979474663605, 0.1707897696706347, 0.4898951030370189, 0.4214923345555237, 0.3932791976411785, 0.4041654157229914, 0.4350883834939683, 0.4090645091563535, 0.32369053628830347, 0.43507870175092556, 0.5436929866747942, 0.5147380230528887, 0.39021009589758393, 0.6045630796020731, 0.36469916380899003, 0.7276880250899275, 0.729589299824624, 0.603654736817597, 0.5289678677195365, 0.4382023189514659], \"y\": [0.18795803711445935, 0.3851569754784948, 0.6592942084036942, 0.45665895892060104, 0.6631474333853146, 0.397168667089225, 0.5414521873349283, 0.54801025337634, 0.386000083180108, 0.4730061584650669, 0.44236175443453624, 0.310628008598912, 0.6061546249112608, 0.3530945359471652, 0.3976552697550934, 0.2862301446817714, 0.506925396130603, 0.4349127257894363, 0.6605291523964116, 0.48132398786994257, 0.5058200838651058, 0.28827836857856043, 0.6643473993520597, 0.4057816944273647, 0.7672973458899162, 0.5097217889427015, 0.5744063336289488, 0.6461541193115046, 0.6375558404532252, 0.4669771268253953, 0.6134191439974916, 0.8631938698002886, 0.7279670922642042, 0.5749852987462384, 0.46283266325514244, 0.533035403795011, 0.5515586913875788, 0.6026766533539742, 0.48461421589252685, 0.44126915395992633, 0.2439665090479477, 0.5518125494248762, 0.8607405388116176, 0.47846511465085806, 0.525841209408175, 0.4537198608474161], \"type\": \"scatter\"}, {\"hoverinfo\": \"none\", \"marker\": {\"color\": \"rgba(255, 255, 255, 0.0)\", \"line\": {\"color\": \"rgba(255, 255, 255, 0.0)\", \"width\": 0}, \"size\": 0, \"symbol\": \"circle\"}, \"mode\": \"markers\", \"x\": [0.5, 0.0, 1.0, 0.5], \"y\": [0.0, 0.5, 0.5, 1.0], \"type\": \"scatter\"}], \"name\": \"0\"}, {\"data\": [{\"hoverinfo\": \"none\", \"line\": {\"color\": \"rgb(0, 0, 0)\", \"dash\": \"solid\", \"width\": 1}, \"mode\": \"lines\", \"x\": [0.8675686494277822, 0.2843590293998197, null, 0.2977600114265353, 0.3120936930105964, null, 0.2977600114265353, 0.3090312240829498, null], \"y\": [0.4184051883646216, 0.006471954056391782, null, 0.015937349824223464, 0.017745495290004278, null, 0.015937349824223464, 0.032214480280492036, null], \"type\": \"scatter\"}, {\"hoverinfo\": \"none\", \"line\": {\"color\": \"rgb(0, 0, 0)\", \"dash\": \"solid\", \"width\": 1}, \"mode\": \"lines\", \"x\": [0.8675686494277822, 0.6724589514545904, null, 0.6868156273828264, 0.7006982540693258, null, 0.6868156273828264, 0.7003639134499172, null], \"y\": [0.4184051883646216, 0.4043614998419862, null, 0.40539487074589825, 0.3986316658012261, null, 0.40539487074589825, 0.4141325095531862, null], \"type\": \"scatter\"}, {\"hoverinfo\": \"none\", \"line\": {\"color\": \"rgb(0, 0, 0)\", \"dash\": \"solid\", \"width\": 1}, \"mode\": \"lines\", \"x\": [0.8675686494277822, 0.5221180554750893, null, 0.5331872511916863, 0.5410550693556936, null, 0.5331872511916863, 0.5464690461743552, null], \"y\": [0.4184051883646216, 0.9406250143679719, null, 0.923891641890662, 0.9019299581097725, null, 0.923891641890662, 0.9138813230441428, null], \"type\": \"scatter\"}, {\"hoverinfo\": \"none\", \"line\": {\"color\": \"rgb(0, 0, 0)\", \"dash\": \"solid\", \"width\": 1}, \"mode\": \"lines\", \"x\": [0.45848455903048313, 0.6708449357266852, null, 0.6570357851442974, 0.64267090678355, null, 0.6570357851442974, 0.6450158926346744, null], \"y\": [0.37570346186128845, 0.4871621262930794, null, 0.47991430772731986, 0.48044504363268736, null, 0.47991430772731986, 0.46553536073708807, null], \"type\": \"scatter\"}, {\"hoverinfo\": \"none\", \"line\": {\"color\": \"rgb(0, 0, 0)\", \"dash\": \"solid\", \"width\": 1}, \"mode\": \"lines\", \"x\": [0.034891532242013024, 0.018938184382305767, null, 0.02209217417809563, 0.0209628814722854, null, 0.02209217417809563, 0.02924770996040161, null], \"y\": [0.6041482586538549, 0.7336698464258018, null, 0.7080633235968865, 0.68189780309555, null, 0.7080633235968865, 0.6853031528620417, null], \"type\": \"scatter\"}, {\"hoverinfo\": \"none\", \"line\": {\"color\": \"rgb(0, 0, 0)\", \"dash\": \"solid\", \"width\": 1}, \"mode\": \"lines\", \"x\": [0.034891532242013024, 0.1285717381336141, null, 0.12329329105873123, 0.12219966065359684, null, 0.12329329105873123, 0.11430153527075773, null], \"y\": [0.6041482586538549, 0.17090404054234576, null, 0.19531535191848404, 0.22148592718522866, null, 0.19531535191848404, 0.2157868096618032, null], \"type\": \"scatter\"}, {\"hoverinfo\": \"none\", \"line\": {\"color\": \"rgb(0, 0, 0)\", \"dash\": \"solid\", \"width\": 1}, \"mode\": \"lines\", \"x\": [0.5221180554750893, 0.25284826436995056, null, 0.2605825555215104, 0.2715497016058739, null, 0.2605825555215104, 0.2643931105463597, null], \"y\": [0.9406250143679719, 0.17053692797372544, null, 0.19265632520753942, 0.20961245138340134, null, 0.19265632520753942, 0.2179631336215305, null], \"type\": \"scatter\"}, {\"hoverinfo\": \"none\", \"line\": {\"color\": \"rgb(0, 0, 0)\", \"dash\": \"solid\", \"width\": 1}, \"mode\": \"lines\", \"x\": [0.018938184382305767, 0.498801222263745, null, 0.4858363214565184, 0.47528045005631464, null, 0.4858363214565184, 0.47162050721864684, null], \"y\": [0.7336698464258018, 0.31498283375559344, null, 0.32629488565379455, 0.34410077654775095, null, 0.32629488565379455, 0.3301026266503064, null], \"type\": \"scatter\"}, {\"hoverinfo\": \"none\", \"line\": {\"color\": \"rgb(0, 0, 0)\", \"dash\": \"solid\", \"width\": 1}, \"mode\": \"lines\", \"x\": [0.018938184382305767, 0.033384801454501734, null, 0.03284143188814721, 0.036565273622165106, null, 0.03284143188814721, 0.028079388606491656, null], \"y\": [0.7336698464258018, 0.036345095691985074, null, 0.06257303857445758, 0.08792288638398166, null, 0.06257303857445758, 0.0873362125055899, null], \"type\": \"scatter\"}, {\"hoverinfo\": \"none\", \"line\": {\"color\": \"rgb(0, 0, 0)\", \"dash\": \"solid\", \"width\": 1}, \"mode\": \"lines\", \"x\": [0.7686980902794368, 0.29896656175169767, null, 0.31147000950383846, 0.3213233204991327, null, 0.31147000950383846, 0.3255066982635355, null], \"y\": [0.2529713818798117, 0.7387228229006633, null, 0.725792952550322, 0.7066906151358712, null, 0.725792952550322, 0.7201905360740841, null], \"type\": \"scatter\"}, {\"hoverinfo\": \"none\", \"line\": {\"color\": \"rgb(0, 0, 0)\", \"dash\": \"solid\", \"width\": 1}, \"mode\": \"lines\", \"x\": [0.6708449357266852, 0.46795563360246895, null, 0.4822509604345521, 0.496333784554192, null, 0.4822509604345521, 0.495481831008243, null], \"y\": [0.4871621262930794, 0.4497899782459661, null, 0.4524231731219749, 0.44722145757699366, null, 0.4524231731219749, 0.46265606296301565, null], \"type\": \"scatter\"}, {\"hoverinfo\": \"none\", \"line\": {\"color\": \"rgb(0, 0, 0)\", \"dash\": \"solid\", \"width\": 1}, \"mode\": \"lines\", \"x\": [0.4137964301778312, 0.498801222263745, null, 0.4853386656717405, 0.47099407963527284, null, 0.4853386656717405, 0.4739607086096874, null], \"y\": [0.25708714990923776, 0.31498283375559344, null, 0.3058136575116635, 0.3043217422678744, null, 0.3058136575116635, 0.2897862754733528, null], \"type\": \"scatter\"}, {\"hoverinfo\": \"none\", \"line\": {\"color\": \"rgb(0, 0, 0)\", \"dash\": \"solid\", \"width\": 1}, \"mode\": \"lines\", \"x\": [0.4137964301778312, 0.5221180554750893, null, 0.5181227324917819, 0.5102273381847249, null, 0.5181227324917819, 0.5183843711352475, null], \"y\": [0.25708714990923776, 0.9406250143679719, null, 0.915413478515011, 0.8934848452362809, null, 0.915413478515011, 0.8891711114992771, null], \"type\": \"scatter\"}, {\"hoverinfo\": \"none\", \"line\": {\"color\": \"rgb(0, 0, 0)\", \"dash\": \"solid\", \"width\": 1}, \"mode\": \"lines\", \"x\": [0.25284826436995056, 0.6708449357266852, null, 0.6575728834881168, 0.6432672590557594, null, 0.6575728834881168, 0.646519956342303, null], \"y\": [0.17053692797372544, 0.4871621262930794, null, 0.47710877788123246, 0.47466933732065125, null, 0.47710877788123246, 0.4603395572903529, null], \"type\": \"scatter\"}, {\"hoverinfo\": \"none\", \"line\": {\"color\": \"rgb(0, 0, 0)\", \"dash\": \"solid\", \"width\": 1}, \"mode\": \"lines\", \"x\": [0.25284826436995056, 0.8502102235794309, null, 0.836740279491424, 0.822394504653078, null, 0.836740279491424, 0.8253493961422608, null], \"y\": [0.17053692797372544, 0.575560587466893, null, 0.5664276891234621, 0.564974419606242, null, 0.5664276891234621, 0.5504309765627736, null], \"type\": \"scatter\"}, {\"hoverinfo\": \"none\", \"line\": {\"color\": \"rgb(0, 0, 0)\", \"dash\": \"solid\", \"width\": 1}, \"mode\": \"lines\", \"x\": [0.033384801454501734, 0.6708449357266852, null, 0.6574461435778345, 0.6431128813697783, null, 0.6574461435778345, 0.6461786956858772, null], \"y\": [0.036345095691985074, 0.4871621262930794, null, 0.4776863906894989, 0.475867185000289, null, 0.4776863906894989, 0.4614005644118946, null], \"type\": \"scatter\"}, {\"hoverinfo\": \"none\", \"line\": {\"color\": \"rgb(0, 0, 0)\", \"dash\": \"solid\", \"width\": 1}, \"mode\": \"lines\", \"x\": [0.033384801454501734, 0.5221180554750893, null, 0.512023558407075, 0.49935844483278063, null, 0.512023558407075, 0.5054013892044785, null], \"y\": [0.036345095691985074, 0.9406250143679719, null, 0.9219476460640046, 0.9095539680153487, null, 0.9219476460640046, 0.8986549811894244, null], \"type\": \"scatter\"}, {\"hoverinfo\": \"none\", \"line\": {\"color\": \"rgb(0, 0, 0)\", \"dash\": \"solid\", \"width\": 1}, \"mode\": \"lines\", \"x\": [0.8685522586300654, 0.45848455903048313, null, 0.47249764732117155, 0.48682252733333503, null, 0.47249764732117155, 0.4849471964478749, null], \"y\": [0.5453194146536426, 0.37570346186128845, null, 0.3814996836176214, 0.3794720889616937, null, 0.3814996836176214, 0.39460196255932617, null], \"type\": \"scatter\"}, {\"hoverinfo\": \"none\", \"line\": {\"color\": \"rgb(0, 0, 0)\", \"dash\": \"solid\", \"width\": 1}, \"mode\": \"lines\", \"x\": [0.6724589514545904, 0.5221180554750893, null, 0.528667371414693, 0.5311449710471972, null, 0.528667371414693, 0.5387033727740197, null], \"y\": [0.4043614998419862, 0.9406250143679719, null, 0.9172637116390602, 0.8914101720126275, null, 0.9172637116390602, 0.8984814414046149, null], \"type\": \"scatter\"}, {\"hoverinfo\": \"none\", \"line\": {\"color\": \"rgb(0, 0, 0)\", \"dash\": \"solid\", \"width\": 1}, \"mode\": \"lines\", \"x\": [0.20335982988714008, 0.018938184382305767, null, 0.027258458597051585, 0.03174553041303147, null, 0.027258458597051585, 0.038668709894826854, null], \"y\": [0.2593766114844933, 0.7336698464258018, null, 0.7122718713556406, 0.6873379221111203, null, 0.7122718713556406, 0.6963212878443109, null], \"type\": \"scatter\"}, {\"hoverinfo\": \"none\", \"line\": {\"color\": \"rgb(0, 0, 0)\", \"dash\": \"solid\", \"width\": 1}, \"mode\": \"lines\", \"x\": [0.4748962739677183, 0.8685522586300654, null, 0.8544158427345641, 0.8401518403670534, null, 0.8544158427345641, 0.8416697772412196, null], \"y\": [0.4146727453953676, 0.5453194146536426, null, 0.540627816598602, 0.5437772767361085, null, 0.540627816598602, 0.5285142468325135, null], \"type\": \"scatter\"}, {\"hoverinfo\": \"none\", \"line\": {\"color\": \"rgb(0, 0, 0)\", \"dash\": \"solid\", \"width\": 1}, \"mode\": \"lines\", \"x\": [0.2605586265200922, 0.033384801454501734, null, 0.042180721666971635, 0.05394110710674939, null, 0.042180721666971635, 0.04722646329601378, null], \"y\": [0.5723479168870731, 0.036345095691985074, null, 0.05709853437502674, 0.07217659224675899, null, 0.05709853437502674, 0.0816735110007756, null], \"type\": \"scatter\"}, {\"hoverinfo\": \"none\", \"line\": {\"color\": \"rgb(0, 0, 0)\", \"dash\": \"solid\", \"width\": 1}, \"mode\": \"lines\", \"x\": [0.15455978433290074, 0.941068118585822, null, 0.927196357856654, 0.9128380918842263, null, 0.927196357856654, 0.9150502254430942, null], \"y\": [0.4451772264443228, 0.832836493690238, null, 0.8259992913803759, 0.8269561039365785, null, 0.8259992913803759, 0.811978821123883, null], \"type\": \"scatter\"}, {\"hoverinfo\": \"none\", \"line\": {\"color\": \"rgb(0, 0, 0)\", \"dash\": \"solid\", \"width\": 1}, \"mode\": \"lines\", \"x\": [0.15455978433290074, 0.498801222263745, null, 0.4847317767052078, 0.4721515354115645, null, 0.4847317767052078, 0.47042990855117744, null], \"y\": [0.4451772264443228, 0.31498283375559344, null, 0.32030399128668907, 0.3329828483941058, null, 0.32030399128668907, 0.3177921260869547, null], \"type\": \"scatter\"}, {\"hoverinfo\": \"none\", \"line\": {\"color\": \"rgb(0, 0, 0)\", \"dash\": \"solid\", \"width\": 1}, \"mode\": \"lines\", \"x\": [0.20859398742060498, 0.8685522586300654, null, 0.8548954622530966, 0.8431677873736535, null, 0.8548954622530966, 0.8405294653255867, null], \"y\": [0.939379580126871, 0.5453194146536426, null, 0.5534738687682641, 0.5686367096772376, null, 0.5534738687682641, 0.5538915229884873, null], \"type\": \"scatter\"}, {\"hoverinfo\": \"none\", \"line\": {\"color\": \"rgb(0, 0, 0)\", \"dash\": \"solid\", \"width\": 1}, \"mode\": \"lines\", \"x\": [0.498801222263745, 0.29896656175169767, null, 0.30834432900147873, 0.31408640082604095, null, 0.30834432900147873, 0.32052010365740247, null], \"y\": [0.31498283375559344, 0.7387228229006633, null, 0.7188377089647469, 0.6947781657318409, null, 0.7188377089647469, 0.7049033023308507, null], \"type\": \"scatter\"}, {\"hoverinfo\": \"none\", \"line\": {\"color\": \"rgb(0, 0, 0)\", \"dash\": \"solid\", \"width\": 1}, \"mode\": \"lines\", \"x\": [0.29896656175169767, 0.15455978433290074, null, 0.1641634427920823, 0.17649628080181545, null, 0.1641634427920823, 0.17018005549266108, null], \"y\": [0.7387228229006633, 0.4451772264443228, null, 0.464699244045946, 0.47816482459933807, null, 0.464699244045946, 0.48853385500491986, null], \"type\": \"scatter\"}, {\"hoverinfo\": \"none\", \"line\": {\"color\": \"rgb(0, 0, 0)\", \"dash\": \"solid\", \"width\": 1}, \"mode\": \"lines\", \"x\": [0.29896656175169767, 0.034891532242013024, null, 0.04873093106162867, 0.06309313530398673, null, 0.04873093106162867, 0.060811292179151946, null], \"y\": [0.7387228229006633, 0.6041482586538549, null, 0.611200917396507, 0.610467408742461, null, 0.611200917396507, 0.6254097505349654, null], \"type\": \"scatter\"}, {\"hoverinfo\": \"none\", \"line\": {\"color\": \"rgb(0, 0, 0)\", \"dash\": \"solid\", \"width\": 1}, \"mode\": \"lines\", \"x\": [0.29896656175169767, 0.6708449357266852, null, 0.6573712397622157, 0.6459737813771741, null, 0.6573712397622157, 0.6430248713507729, null], \"y\": [0.7387228229006633, 0.4871621262930794, null, 0.4962765372938351, 0.5122576136642456, null, 0.4962765372938351, 0.4977101197352439, null], \"type\": \"scatter\"}, {\"hoverinfo\": \"none\", \"line\": {\"color\": \"rgb(0, 0, 0)\", \"dash\": \"solid\", \"width\": 1}, \"mode\": \"lines\", \"x\": [0.29896656175169767, 0.5205373591701874, null, 0.5122549829790511, 0.5078120445657056, null, 0.5122549829790511, 0.5008730090082815, null], \"y\": [0.7387228229006633, 0.1649714106502279, null, 0.18641839324820295, 0.21137870200243966, null, 0.18641839324820295, 0.2024362546089411, null], \"type\": \"scatter\"}, {\"hoverinfo\": \"none\", \"line\": {\"color\": \"rgb(0, 0, 0)\", \"dash\": \"solid\", \"width\": 1}, \"mode\": \"lines\", \"x\": [0.29896656175169767, 0.46795563360246895, null, 0.457465683538372, 0.45034569840344585, null, 0.457465683538372, 0.4445428045426237, null], \"y\": [0.7387228229006633, 0.4497899782459661, null, 0.4677254049520298, 0.49052275042928134, null, 0.4677254049520298, 0.4791967946354593, null], \"type\": \"scatter\"}, {\"hoverinfo\": \"none\", \"line\": {\"color\": \"rgb(0, 0, 0)\", \"dash\": \"solid\", \"width\": 1}, \"mode\": \"lines\", \"x\": [0.29896656175169767, 0.5221180554750893, null, 0.5092429097937172, 0.4950583126166657, null, 0.5092429097937172, 0.4988273140263234, null], \"y\": [0.7387228229006633, 0.9406250143679719, null, 0.9289758871981035, 0.9247976717754961, null, 0.9289758871981035, 0.9108964301170315, null], \"type\": \"scatter\"}, {\"hoverinfo\": \"none\", \"line\": {\"color\": \"rgb(0, 0, 0)\", \"dash\": \"solid\", \"width\": 1}, \"mode\": \"lines\", \"x\": [0.595137678663374, 0.2605586265200922, null, 0.2729688318259899, 0.28696438832475857, null, 0.2729688318259899, 0.2826851192597498, null], \"y\": [0.9289274901762686, 0.5723479168870731, null, 0.5855741654643846, 0.5915100596176353, null, 0.5855741654643846, 0.6049093070714365, null], \"type\": \"scatter\"}, {\"hoverinfo\": \"none\", \"line\": {\"color\": \"rgb(0, 0, 0)\", \"dash\": \"solid\", \"width\": 1}, \"mode\": \"lines\", \"x\": [0.595137678663374, 0.20335982988714008, null, 0.21385197434699402, 0.22677625670966825, null, 0.21385197434699402, 0.22097474888767088, null], \"y\": [0.9289274901762686, 0.2593766114844933, null, 0.2773077542594097, 0.2887738667070758, null, 0.2773077542594097, 0.3001021917809408, null], \"type\": \"scatter\"}, {\"hoverinfo\": \"none\", \"line\": {\"color\": \"rgb(0, 0, 0)\", \"dash\": \"solid\", \"width\": 1}, \"mode\": \"lines\", \"x\": [0.595137678663374, 0.033384801454501734, null, 0.04422558149429061, 0.05736872180725856, null, 0.04422558149429061, 0.05179562666651235, null], \"y\": [0.9289274901762686, 0.036345095691985074, null, 0.053570266756652926, 0.06417372847078258, null, 0.053570266756652926, 0.0758784739415388, null], \"type\": \"scatter\"}, {\"hoverinfo\": \"none\", \"line\": {\"color\": \"rgb(0, 0, 0)\", \"dash\": \"solid\", \"width\": 1}, \"mode\": \"lines\", \"x\": [0.595137678663374, 0.25284826436995056, null, 0.26198832588097737, 0.27399621744513514, null, 0.26198832588097737, 0.2674441028654924, null], \"y\": [0.9289274901762686, 0.17053692797372544, null, 0.19078802572450568, 0.20520039500374992, null, 0.19078802572450568, 0.2150688816976011, null], \"type\": \"scatter\"}, {\"hoverinfo\": \"none\", \"line\": {\"color\": \"rgb(0, 0, 0)\", \"dash\": \"solid\", \"width\": 1}, \"mode\": \"lines\", \"x\": [0.5205373591701874, 0.595137678663374, null, 0.5926145165782878, 0.5860240526791469, null, 0.5926145165782878, 0.5943840428617065, null], \"y\": [0.1649714106502279, 0.9289274901762686, null, 0.9030886596239782, 0.8797660058063278, null, 0.9030886596239782, 0.8770417581157556, null], \"type\": \"scatter\"}, {\"hoverinfo\": \"none\", \"line\": {\"color\": \"rgb(0, 0, 0)\", \"dash\": \"solid\", \"width\": 1}, \"mode\": \"lines\", \"x\": [0.5266595794830784, 0.4748962739677183, null, 0.47829478096041395, 0.4856669892507968, null, 0.47829478096041395, 0.4774160081473725, null], \"y\": [0.8030971537898313, 0.4146727453953676, null, 0.44017465364716113, 0.4627028801549795, null, 0.44017465364716113, 0.4663722341298862, null], \"type\": \"scatter\"}, {\"hoverinfo\": \"none\", \"line\": {\"color\": \"rgb(0, 0, 0)\", \"dash\": \"solid\", \"width\": 1}, \"mode\": \"lines\", \"x\": [0.2843590293998197, 0.5221180554750893, null, 0.5160605213224866, 0.506423368698442, null, 0.5160605213224866, 0.5141237071263195, null], \"y\": [0.006471954056391782, 0.9406250143679719, null, 0.916825017539232, 0.8973581594406975, null, 0.916825017539232, 0.8908178648146285, null], \"type\": \"scatter\"}, {\"hoverinfo\": \"none\", \"line\": {\"color\": \"rgb(0, 0, 0)\", \"dash\": \"solid\", \"width\": 1}, \"mode\": \"lines\", \"x\": [0.2843590293998197, 0.941068118585822, null, 0.9292358077194441, 0.9155233336113702, null, 0.9292358077194441, 0.9203406051848619, null], \"y\": [0.006471954056391782, 0.832836493690238, null, 0.8179474015748562, 0.8101109571932454, null, 0.8179474015748562, 0.7973356599809138, null], \"type\": \"scatter\"}, {\"hoverinfo\": \"none\", \"line\": {\"color\": \"rgb(0, 0, 0)\", \"dash\": \"solid\", \"width\": 1}, \"mode\": \"lines\", \"x\": [0.2843590293998197, 0.46795563360246895, null, 0.4592870389994964, 0.4476194941814937, null, 0.4592870389994964, 0.45439173435018515, null], \"y\": [0.006471954056391782, 0.4497899782459661, null, 0.4288585223043929, 0.4135416615823307, null, 0.4288585223043929, 0.4041822157634355, null], \"type\": \"scatter\"}, {\"hoverinfo\": \"none\", \"line\": {\"color\": \"rgb(0, 0, 0)\", \"dash\": \"solid\", \"width\": 1}, \"mode\": \"lines\", \"x\": [0.941068118585822, 0.498801222263745, null, 0.5108974874182753, 0.5247447638754987, null, 0.5108974874182753, 0.5201622179295747, null], \"y\": [0.832836493690238, 0.31498283375559344, null, 0.3291464422777462, 0.3361473105326732, null, 0.3291464422777462, 0.349207598100625, null], \"type\": \"scatter\"}, {\"hoverinfo\": \"none\", \"line\": {\"color\": \"rgb(0, 0, 0)\", \"dash\": \"solid\", \"width\": 1}, \"mode\": \"lines\", \"x\": [0.941068118585822, 0.5221180554750893, null, 0.536345457770869, 0.549345254720324, null, 0.536345457770869, 0.5505295739386695, null], \"y\": [0.832836493690238, 0.9406250143679719, null, 0.9369645527006257, 0.9257869463305198, null, 0.9369645527006257, 0.9411482138750089, null], \"type\": \"scatter\"}, {\"hoverinfo\": \"none\", \"line\": {\"color\": \"rgb(0, 0, 0)\", \"dash\": \"solid\", \"width\": 1}, \"mode\": \"lines\", \"x\": [0.941068118585822, 0.25284826436995056, null, 0.26556008641737605, 0.2796831183252613, null, 0.26556008641737605, 0.27572518939984464, null], \"y\": [0.832836493690238, 0.17053692797372544, null, 0.18276998717697637, 0.18759422410502397, null, 0.18276998717697637, 0.20131912590992768, null], \"type\": \"scatter\"}, {\"hoverinfo\": \"none\", \"line\": {\"color\": \"rgb(0, 0, 0)\", \"dash\": \"solid\", \"width\": 1}, \"mode\": \"lines\", \"x\": [0.1285717381336141, 0.941068118585822, null, 0.9279460941415584, 0.9136807432089741, null, 0.9279460941415584, 0.9171395475485363, null], \"y\": [0.17090404054234576, 0.832836493690238, null, 0.8221461151979379, 0.8190171043616443, null, 0.8221461151979379, 0.8048493087217157, null], \"type\": \"scatter\"}, {\"hoverinfo\": \"none\", \"line\": {\"color\": \"rgb(0, 0, 0)\", \"dash\": \"solid\", \"width\": 1}, \"mode\": \"lines\", \"x\": [0.71991656933083, 0.15455978433290074, null, 0.16889521488888423, 0.18287529826477666, null, 0.16889521488888423, 0.1823054513079062, null], \"y\": [0.5146376116125279, 0.4451772264443228, null, 0.44693849393839613, 0.44088214443698753, null, 0.44693849393839613, 0.4563600496482029, null], \"type\": \"scatter\"}, {\"hoverinfo\": \"none\", \"marker\": {\"color\": \"rgb(255, 0, 0)\", \"line\": {\"color\": \"rgb(0, 0, 0)\", \"width\": 1}, \"size\": 20, \"symbol\": \"circle\"}, \"mode\": \"markers+text\", \"text\": [\"('Golden State Warriors',)\"], \"textfont\": {\"color\": \"rgb(0, 0, 0)\"}, \"textposition\": \"middle center\", \"x\": [0.8675686494277822], \"y\": [0.4184051883646216], \"type\": \"scatter\"}, {\"hoverinfo\": \"none\", \"marker\": {\"color\": \"rgb(255, 0, 0)\", \"line\": {\"color\": \"rgb(0, 0, 0)\", \"width\": 1}, \"size\": 20, \"symbol\": \"circle\"}, \"mode\": \"markers+text\", \"text\": [\"('LA Clippers',)\"], \"textfont\": {\"color\": \"rgb(0, 0, 0)\"}, \"textposition\": \"middle center\", \"x\": [0.45848455903048313], \"y\": [0.37570346186128845], \"type\": \"scatter\"}, {\"hoverinfo\": \"none\", \"marker\": {\"color\": \"rgb(255, 0, 0)\", \"line\": {\"color\": \"rgb(0, 0, 0)\", \"width\": 1}, \"size\": 20, \"symbol\": \"circle\"}, \"mode\": \"markers+text\", \"text\": [\"('Boston Celtics',)\"], \"textfont\": {\"color\": \"rgb(0, 0, 0)\"}, \"textposition\": \"middle center\", \"x\": [0.5357097752206065], \"y\": [0.35903305778233463], \"type\": \"scatter\"}, {\"hoverinfo\": \"none\", \"marker\": {\"color\": \"rgb(255, 0, 0)\", \"line\": {\"color\": \"rgb(0, 0, 0)\", \"width\": 1}, \"size\": 20, \"symbol\": \"circle\"}, \"mode\": \"markers+text\", \"text\": [\"('Chicago Bulls',)\"], \"textfont\": {\"color\": \"rgb(0, 0, 0)\"}, \"textposition\": \"middle center\", \"x\": [0.034891532242013024], \"y\": [0.6041482586538549], \"type\": \"scatter\"}, {\"hoverinfo\": \"none\", \"marker\": {\"color\": \"rgb(255, 0, 0)\", \"line\": {\"color\": \"rgb(0, 0, 0)\", \"width\": 1}, \"size\": 20, \"symbol\": \"circle\"}, \"mode\": \"markers+text\", \"text\": [\"('Houston Rockets',)\"], \"textfont\": {\"color\": \"rgb(0, 0, 0)\"}, \"textposition\": \"middle center\", \"x\": [0.5221180554750893], \"y\": [0.9406250143679719], \"type\": \"scatter\"}, {\"hoverinfo\": \"none\", \"marker\": {\"color\": \"rgb(255, 0, 0)\", \"line\": {\"color\": \"rgb(0, 0, 0)\", \"width\": 1}, \"size\": 20, \"symbol\": \"circle\"}, \"mode\": \"markers+text\", \"text\": [\"('Cleveland Cavaliers',)\"], \"textfont\": {\"color\": \"rgb(0, 0, 0)\"}, \"textposition\": \"middle center\", \"x\": [0.018938184382305767], \"y\": [0.7336698464258018], \"type\": \"scatter\"}, {\"hoverinfo\": \"none\", \"marker\": {\"color\": \"rgb(255, 0, 0)\", \"line\": {\"color\": \"rgb(0, 0, 0)\", \"width\": 1}, \"size\": 20, \"symbol\": \"circle\"}, \"mode\": \"markers+text\", \"text\": [\"('Dallas Mavericks',)\"], \"textfont\": {\"color\": \"rgb(0, 0, 0)\"}, \"textposition\": \"middle center\", \"x\": [0.7686980902794368], \"y\": [0.2529713818798117], \"type\": \"scatter\"}, {\"hoverinfo\": \"none\", \"marker\": {\"color\": \"rgb(255, 0, 0)\", \"line\": {\"color\": \"rgb(0, 0, 0)\", \"width\": 1}, \"size\": 20, \"symbol\": \"circle\"}, \"mode\": \"markers+text\", \"text\": [\"('Los Angeles Lakers',)\"], \"textfont\": {\"color\": \"rgb(0, 0, 0)\"}, \"textposition\": \"middle center\", \"x\": [0.6708449357266852], \"y\": [0.4871621262930794], \"type\": \"scatter\"}, {\"hoverinfo\": \"none\", \"marker\": {\"color\": \"rgb(255, 0, 0)\", \"line\": {\"color\": \"rgb(0, 0, 0)\", \"width\": 1}, \"size\": 20, \"symbol\": \"circle\"}, \"mode\": \"markers+text\", \"text\": [\"('Brooklyn Nets',)\"], \"textfont\": {\"color\": \"rgb(0, 0, 0)\"}, \"textposition\": \"middle center\", \"x\": [0.4137964301778312], \"y\": [0.25708714990923776], \"type\": \"scatter\"}, {\"hoverinfo\": \"none\", \"marker\": {\"color\": \"rgb(255, 0, 0)\", \"line\": {\"color\": \"rgb(0, 0, 0)\", \"width\": 1}, \"size\": 20, \"symbol\": \"circle\"}, \"mode\": \"markers+text\", \"text\": [\"('Memphis Grizzlies',)\"], \"textfont\": {\"color\": \"rgb(0, 0, 0)\"}, \"textposition\": \"middle center\", \"x\": [0.25284826436995056], \"y\": [0.17053692797372544], \"type\": \"scatter\"}, {\"hoverinfo\": \"none\", \"marker\": {\"color\": \"rgb(255, 0, 0)\", \"line\": {\"color\": \"rgb(0, 0, 0)\", \"width\": 1}, \"size\": 20, \"symbol\": \"circle\"}, \"mode\": \"markers+text\", \"text\": [\"('Washington Wizards',)\"], \"textfont\": {\"color\": \"rgb(0, 0, 0)\"}, \"textposition\": \"middle center\", \"x\": [0.033384801454501734], \"y\": [0.036345095691985074], \"type\": \"scatter\"}, {\"hoverinfo\": \"none\", \"marker\": {\"color\": \"rgb(255, 0, 0)\", \"line\": {\"color\": \"rgb(0, 0, 0)\", \"width\": 1}, \"size\": 20, \"symbol\": \"circle\"}, \"mode\": \"markers+text\", \"text\": [\"('Oklahoma City Thunder',)\"], \"textfont\": {\"color\": \"rgb(0, 0, 0)\"}, \"textposition\": \"middle center\", \"x\": [0.8685522586300654], \"y\": [0.5453194146536426], \"type\": \"scatter\"}, {\"hoverinfo\": \"none\", \"marker\": {\"color\": \"rgb(255, 0, 0)\", \"line\": {\"color\": \"rgb(0, 0, 0)\", \"width\": 1}, \"size\": 20, \"symbol\": \"circle\"}, \"mode\": \"markers+text\", \"text\": [\"('Miami Heat',)\"], \"textfont\": {\"color\": \"rgb(0, 0, 0)\"}, \"textposition\": \"middle center\", \"x\": [0.6724589514545904], \"y\": [0.4043614998419862], \"type\": \"scatter\"}, {\"hoverinfo\": \"none\", \"marker\": {\"color\": \"rgb(255, 0, 0)\", \"line\": {\"color\": \"rgb(0, 0, 0)\", \"width\": 1}, \"size\": 20, \"symbol\": \"circle\"}, \"mode\": \"markers+text\", \"text\": [\"('Minnesota Timberwolves',)\"], \"textfont\": {\"color\": \"rgb(0, 0, 0)\"}, \"textposition\": \"middle center\", \"x\": [0.46795563360246895], \"y\": [0.4497899782459661], \"type\": \"scatter\"}, {\"hoverinfo\": \"none\", \"marker\": {\"color\": \"rgb(255, 0, 0)\", \"line\": {\"color\": \"rgb(0, 0, 0)\", \"width\": 1}, \"size\": 20, \"symbol\": \"circle\"}, \"mode\": \"markers+text\", \"text\": [\"('Indiana Pacers',)\"], \"textfont\": {\"color\": \"rgb(0, 0, 0)\"}, \"textposition\": \"middle center\", \"x\": [0.20335982988714008], \"y\": [0.2593766114844933], \"type\": \"scatter\"}, {\"hoverinfo\": \"none\", \"marker\": {\"color\": \"rgb(255, 0, 0)\", \"line\": {\"color\": \"rgb(0, 0, 0)\", \"width\": 1}, \"size\": 20, \"symbol\": \"circle\"}, \"mode\": \"markers+text\", \"text\": [\"('Denver Nuggets',)\"], \"textfont\": {\"color\": \"rgb(0, 0, 0)\"}, \"textposition\": \"middle center\", \"x\": [0.8502102235794309], \"y\": [0.575560587466893], \"type\": \"scatter\"}, {\"hoverinfo\": \"none\", \"marker\": {\"color\": \"rgb(255, 0, 0)\", \"line\": {\"color\": \"rgb(0, 0, 0)\", \"width\": 1}, \"size\": 20, \"symbol\": \"circle\"}, \"mode\": \"markers+text\", \"text\": [\"('Charlotte Hornets',)\"], \"textfont\": {\"color\": \"rgb(0, 0, 0)\"}, \"textposition\": \"middle center\", \"x\": [0.18674033924666944], \"y\": [0.3892342028166137], \"type\": \"scatter\"}, {\"hoverinfo\": \"none\", \"marker\": {\"color\": \"rgb(255, 0, 0)\", \"line\": {\"color\": \"rgb(0, 0, 0)\", \"width\": 1}, \"size\": 20, \"symbol\": \"circle\"}, \"mode\": \"markers+text\", \"text\": [\"('Philadelphia 76ers',)\"], \"textfont\": {\"color\": \"rgb(0, 0, 0)\"}, \"textposition\": \"middle center\", \"x\": [0.4748962739677183], \"y\": [0.4146727453953676], \"type\": \"scatter\"}, {\"hoverinfo\": \"none\", \"marker\": {\"color\": \"rgb(255, 0, 0)\", \"line\": {\"color\": \"rgb(0, 0, 0)\", \"width\": 1}, \"size\": 20, \"symbol\": \"circle\"}, \"mode\": \"markers+text\", \"text\": [\"('Portland Trail Blazers',)\"], \"textfont\": {\"color\": \"rgb(0, 0, 0)\"}, \"textposition\": \"middle center\", \"x\": [0.2605586265200922], \"y\": [0.5723479168870731], \"type\": \"scatter\"}, {\"hoverinfo\": \"none\", \"marker\": {\"color\": \"rgb(255, 0, 0)\", \"line\": {\"color\": \"rgb(0, 0, 0)\", \"width\": 1}, \"size\": 20, \"symbol\": \"circle\"}, \"mode\": \"markers+text\", \"text\": [\"('Milwaukee Bucks',)\"], \"textfont\": {\"color\": \"rgb(0, 0, 0)\"}, \"textposition\": \"middle center\", \"x\": [0.15455978433290074], \"y\": [0.4451772264443228], \"type\": \"scatter\"}, {\"hoverinfo\": \"none\", \"marker\": {\"color\": \"rgb(255, 0, 0)\", \"line\": {\"color\": \"rgb(0, 0, 0)\", \"width\": 1}, \"size\": 20, \"symbol\": \"circle\"}, \"mode\": \"markers+text\", \"text\": [\"('New Orleans Pelicans',)\"], \"textfont\": {\"color\": \"rgb(0, 0, 0)\"}, \"textposition\": \"middle center\", \"x\": [0.20859398742060498], \"y\": [0.939379580126871], \"type\": \"scatter\"}, {\"hoverinfo\": \"none\", \"marker\": {\"color\": \"rgb(255, 0, 0)\", \"line\": {\"color\": \"rgb(0, 0, 0)\", \"width\": 1}, \"size\": 20, \"symbol\": \"circle\"}, \"mode\": \"markers+text\", \"text\": [\"('Toronto Raptors',)\"], \"textfont\": {\"color\": \"rgb(0, 0, 0)\"}, \"textposition\": \"middle center\", \"x\": [0.498801222263745], \"y\": [0.31498283375559344], \"type\": \"scatter\"}, {\"hoverinfo\": \"none\", \"marker\": {\"color\": \"rgb(255, 0, 0)\", \"line\": {\"color\": \"rgb(0, 0, 0)\", \"width\": 1}, \"size\": 20, \"symbol\": \"circle\"}, \"mode\": \"markers+text\", \"text\": [\"('Phoenix Suns',)\"], \"textfont\": {\"color\": \"rgb(0, 0, 0)\"}, \"textposition\": \"middle center\", \"x\": [0.29896656175169767], \"y\": [0.7387228229006633], \"type\": \"scatter\"}, {\"hoverinfo\": \"none\", \"marker\": {\"color\": \"rgb(255, 0, 0)\", \"line\": {\"color\": \"rgb(0, 0, 0)\", \"width\": 1}, \"size\": 20, \"symbol\": \"circle\"}, \"mode\": \"markers+text\", \"text\": [\"('New York Knicks',)\"], \"textfont\": {\"color\": \"rgb(0, 0, 0)\"}, \"textposition\": \"middle center\", \"x\": [0.595137678663374], \"y\": [0.9289274901762686], \"type\": \"scatter\"}, {\"hoverinfo\": \"none\", \"marker\": {\"color\": \"rgb(255, 0, 0)\", \"line\": {\"color\": \"rgb(0, 0, 0)\", \"width\": 1}, \"size\": 20, \"symbol\": \"circle\"}, \"mode\": \"markers+text\", \"text\": [\"('Detroit Pistons',)\"], \"textfont\": {\"color\": \"rgb(0, 0, 0)\"}, \"textposition\": \"middle center\", \"x\": [0.5205373591701874], \"y\": [0.1649714106502279], \"type\": \"scatter\"}, {\"hoverinfo\": \"none\", \"marker\": {\"color\": \"rgb(255, 0, 0)\", \"line\": {\"color\": \"rgb(0, 0, 0)\", \"width\": 1}, \"size\": 20, \"symbol\": \"circle\"}, \"mode\": \"markers+text\", \"text\": [\"('Utah Jazz',)\"], \"textfont\": {\"color\": \"rgb(0, 0, 0)\"}, \"textposition\": \"middle center\", \"x\": [0.5266595794830784], \"y\": [0.8030971537898313], \"type\": \"scatter\"}, {\"hoverinfo\": \"none\", \"marker\": {\"color\": \"rgb(255, 0, 0)\", \"line\": {\"color\": \"rgb(0, 0, 0)\", \"width\": 1}, \"size\": 20, \"symbol\": \"circle\"}, \"mode\": \"markers+text\", \"text\": [\"('Sacramento Kings',)\"], \"textfont\": {\"color\": \"rgb(0, 0, 0)\"}, \"textposition\": \"middle center\", \"x\": [0.2843590293998197], \"y\": [0.006471954056391782], \"type\": \"scatter\"}, {\"hoverinfo\": \"none\", \"marker\": {\"color\": \"rgb(255, 0, 0)\", \"line\": {\"color\": \"rgb(0, 0, 0)\", \"width\": 1}, \"size\": 20, \"symbol\": \"circle\"}, \"mode\": \"markers+text\", \"text\": [\"('Atlanta Hawks',)\"], \"textfont\": {\"color\": \"rgb(0, 0, 0)\"}, \"textposition\": \"middle center\", \"x\": [0.941068118585822], \"y\": [0.832836493690238], \"type\": \"scatter\"}, {\"hoverinfo\": \"none\", \"marker\": {\"color\": \"rgb(255, 0, 0)\", \"line\": {\"color\": \"rgb(0, 0, 0)\", \"width\": 1}, \"size\": 20, \"symbol\": \"circle\"}, \"mode\": \"markers+text\", \"text\": [\"('Orlando Magic',)\"], \"textfont\": {\"color\": \"rgb(0, 0, 0)\"}, \"textposition\": \"middle center\", \"x\": [0.1285717381336141], \"y\": [0.17090404054234576], \"type\": \"scatter\"}, {\"hoverinfo\": \"none\", \"marker\": {\"color\": \"rgb(255, 0, 0)\", \"line\": {\"color\": \"rgb(0, 0, 0)\", \"width\": 1}, \"size\": 20, \"symbol\": \"circle\"}, \"mode\": \"markers+text\", \"text\": [\"('San Antonio Spurs',)\"], \"textfont\": {\"color\": \"rgb(0, 0, 0)\"}, \"textposition\": \"middle center\", \"x\": [0.71991656933083], \"y\": [0.5146376116125279], \"type\": \"scatter\"}, {\"hoverinfo\": \"none\", \"mode\": \"text\", \"text\": [null, null, null, null, null, null, null, null, null, null, null, null, null, null, null, null, null, null, null, null, null, null, null, null, null, null, null, null, null, null, null, null, null, null, null, null, null, null, null, null, null, null, null, null, null, null], \"textfont\": {\"color\": \"rgb(0, 0, 0)\"}, \"textposition\": \"middle center\", \"x\": [0.5811453276142949, 0.7705794819273795, 0.6856832735522186, 0.5606971915257761, 0.01289749452219281, 0.09509472374285477, 0.399591623063444, 0.2650620765604027, 0.040519030616998616, 0.5267543366427512, 0.5708417318596337, 0.4512794926734644, 0.4541561003552273, 0.4563432584607982, 0.546529769450485, 0.34692772022139207, 0.26752717943633064, 0.6666913405675772, 0.5845002041261683, 0.09943546043683296, 0.6691560208118652, 0.15833243257672064, 0.5440711726087041, 0.3295933783261209, 0.5430369836829082, 0.38799850636176714, 0.23744979474663605, 0.1707897696706347, 0.4898951030370189, 0.4214923345555237, 0.3932791976411785, 0.4041654157229914, 0.4350883834939683, 0.4090645091563535, 0.32369053628830347, 0.43507870175092556, 0.5436929866747942, 0.5147380230528887, 0.39021009589758393, 0.6045630796020731, 0.36469916380899003, 0.7276880250899275, 0.729589299824624, 0.603654736817597, 0.5289678677195365, 0.4382023189514659], \"y\": [0.18795803711445935, 0.3851569754784948, 0.6592942084036942, 0.45665895892060104, 0.6631474333853146, 0.397168667089225, 0.5414521873349283, 0.54801025337634, 0.386000083180108, 0.4730061584650669, 0.44236175443453624, 0.310628008598912, 0.6061546249112608, 0.3530945359471652, 0.3976552697550934, 0.2862301446817714, 0.506925396130603, 0.4349127257894363, 0.6605291523964116, 0.48132398786994257, 0.5058200838651058, 0.28827836857856043, 0.6643473993520597, 0.4057816944273647, 0.7672973458899162, 0.5097217889427015, 0.5744063336289488, 0.6461541193115046, 0.6375558404532252, 0.4669771268253953, 0.6134191439974916, 0.8631938698002886, 0.7279670922642042, 0.5749852987462384, 0.46283266325514244, 0.533035403795011, 0.5515586913875788, 0.6026766533539742, 0.48461421589252685, 0.44126915395992633, 0.2439665090479477, 0.5518125494248762, 0.8607405388116176, 0.47846511465085806, 0.525841209408175, 0.4537198608474161], \"type\": \"scatter\"}, {\"hoverinfo\": \"none\", \"marker\": {\"color\": \"rgba(255, 255, 255, 0.0)\", \"line\": {\"color\": \"rgba(255, 255, 255, 0.0)\", \"width\": 0}, \"size\": 0, \"symbol\": \"circle\"}, \"mode\": \"markers\", \"x\": [0.5, 0.0, 1.0, 0.5], \"y\": [0.0, 0.5, 0.5, 1.0], \"type\": \"scatter\"}], \"name\": \"1\"}]);\n",
       "                        }).then(function(){\n",
       "                            Plotly.animate('2d5a72c5-b13e-4052-896f-9bd74ffea6cd', null);\n",
       "                        }).then(function(){\n",
       "                            \n",
       "var gd = document.getElementById('2d5a72c5-b13e-4052-896f-9bd74ffea6cd');\n",
       "var x = new MutationObserver(function (mutations, observer) {{\n",
       "        var display = window.getComputedStyle(gd).display;\n",
       "        if (!display || display === 'none') {{\n",
       "            console.log([gd, 'removed!']);\n",
       "            Plotly.purge(gd);\n",
       "            observer.disconnect();\n",
       "        }}\n",
       "}});\n",
       "\n",
       "// Listen for the removal of the full notebook cells\n",
       "var notebookContainer = gd.closest('#notebook-container');\n",
       "if (notebookContainer) {{\n",
       "    x.observe(notebookContainer, {childList: true});\n",
       "}}\n",
       "\n",
       "// Listen for the clearing of the current output cell\n",
       "var outputEl = gd.closest('.output');\n",
       "if (outputEl) {{\n",
       "    x.observe(outputEl, {childList: true});\n",
       "}}\n",
       "\n",
       "                        })\n",
       "                };\n",
       "                });\n",
       "            </script>\n",
       "        </div>"
      ]
     },
     "metadata": {},
     "output_type": "display_data"
    }
   ],
   "source": [
    "a = fm.Animation()\n",
    "g = nx.DiGraph()\n",
    "a.rec(g)\n",
    "\n",
    "transfers = list_all_transfers(connection)\n",
    "teams = list_all_teams(connection)\n",
    "\n",
    "for team in teams:\n",
    "    add_node(g, team)\n",
    "\n",
    "    \n",
    "#Existem casos em que um time assina com um jogador e na mesma temporada vende ele, vamos ignorar estes casos por enquanto\n",
    "for transfer in transfers:\n",
    "    if(transfer[3] == 2019):\n",
    "        antigo = get_from_where(connection, transfer[1], transfer[3])\n",
    "        novo = get_team_name(connection, transfer[2])\n",
    "        if(antigo != -1) and (novo != -1):\n",
    "            if(antigo != novo):\n",
    "                add_edge(g, antigo, novo)\n",
    "\n",
    "a.rec(g)\n",
    "a.play()"
   ]
  },
  {
   "cell_type": "code",
   "execution_count": null,
   "metadata": {},
   "outputs": [],
   "source": [
    "\n",
    "\n",
    "\n"
   ]
  },
  {
   "cell_type": "code",
   "execution_count": 72,
   "metadata": {},
   "outputs": [],
   "source": [
    "connection.close()"
   ]
  },
  {
   "cell_type": "code",
   "execution_count": null,
   "metadata": {},
   "outputs": [],
   "source": []
  }
 ],
 "metadata": {
  "kernelspec": {
   "display_name": "Python 3",
   "language": "python",
   "name": "python3"
  },
  "language_info": {
   "codemirror_mode": {
    "name": "ipython",
    "version": 3
   },
   "file_extension": ".py",
   "mimetype": "text/x-python",
   "name": "python",
   "nbconvert_exporter": "python",
   "pygments_lexer": "ipython3",
   "version": "3.6.4"
  }
 },
 "nbformat": 4,
 "nbformat_minor": 2
}
