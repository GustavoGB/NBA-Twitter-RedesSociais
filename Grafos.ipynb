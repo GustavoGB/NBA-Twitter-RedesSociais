{
 "cells": [
  {
   "cell_type": "code",
   "execution_count": 96,
   "metadata": {},
   "outputs": [],
   "source": [
    "import pymysql\n",
    "import json\n",
    "from functools import partial\n",
    "import csv\n",
    "import networkx as nx\n",
    "import freeman as fm\n",
    "\n",
    "def run_db_query(connection, query, args=None):\n",
    "    with connection.cursor() as cursor:\n",
    "        print('Executando query:')\n",
    "        cursor.execute(query, args)\n",
    "        for result in cursor:\n",
    "            print(result)\n",
    "            \n",
    "def return_db_results(connection, query, args=None):#Gambiarra para pegar o id\n",
    "    with connection.cursor() as cursor:\n",
    "        cursor.execute(query, args)\n",
    "        for result in cursor:\n",
    "            return result #retorna logo o primeiro\n",
    "\n",
    "def multiple_db_results(connection, query, args=None):#Gambiarra para pegar o id\n",
    "    with connection.cursor() as cursor:\n",
    "        cursor.execute(query, args)\n",
    "        res = cursor.fetchall()\n",
    "        return res\n",
    "\n",
    "connection = pymysql.connect(\n",
    "    host='localhost',\n",
    "    user='root',\n",
    "    password='vlm1998',\n",
    "    database='redes')\n",
    "\n",
    "db = partial(run_db_query, connection)"
   ]
  },
  {
   "cell_type": "code",
   "execution_count": 140,
   "metadata": {},
   "outputs": [],
   "source": [
    "def add_node(g, n):\n",
    "    g.add_node(n)\n",
    "    g.nodes[n]['label'] = n\n",
    "    g.nodes[n]['color'] = (255, 0, 0)\n",
    "\n",
    "def add_edge(g, n, m):\n",
    "    print(\"De: \", n, \"para: \", m)\n",
    "    g.add_edge(n, m)\n",
    "\n",
    "def get_team_name(connection, id_team):\n",
    "    with connection.cursor() as cursor:\n",
    "        cursor.execute(\"SELECT nome FROM times WHERE id_time = %s\", (id_team))\n",
    "        res = cursor.fetchone()\n",
    "        if res:\n",
    "            return res\n",
    "        else:\n",
    "            return -1\n",
    "def list_all_teams(connection):\n",
    "    with connection.cursor() as cursor:\n",
    "        cursor.execute(\"SELECT nome FROM times\")\n",
    "        res = cursor.fetchall()\n",
    "        return res\n",
    "def list_all_transfers_2019(connection):\n",
    "    with connection.cursor() as cursor:\n",
    "        cursor.execute(\"SELECT * FROM transferencia WHERE ano = '2019' \")\n",
    "        res = cursor.fetchall()\n",
    "        return res\n",
    "def get_from_where_2019(connection, id_jogador):\n",
    "    with connection.cursor() as cursor:\n",
    "        cursor.execute(\"SELECT times.nome FROM waived INNER JOIN times USING(id_time) WHERE id_jogador = %s AND ano = '2019' \", (id_jogador))\n",
    "        res = cursor.fetchone()\n",
    "        if res:\n",
    "            return res\n",
    "        else:\n",
    "            return -1\n"
   ]
  },
  {
   "cell_type": "code",
   "execution_count": 144,
   "metadata": {
    "scrolled": false
   },
   "outputs": [
    {
     "name": "stdout",
     "output_type": "stream",
     "text": [
      "De:  ('Miami Heat',) para:  ('Houston Rockets',)\n",
      "De:  ('Golden State Warriors',) para:  ('Sacramento Kings',)\n",
      "De:  ('Cleveland Cavaliers',) para:  ('Toronto Raptors',)\n",
      "De:  ('Oklahoma City Thunder',) para:  ('LA Clippers',)\n",
      "De:  ('Philadelphia 76ers',) para:  ('Oklahoma City Thunder',)\n",
      "De:  ('San Antonio Spurs',) para:  ('Milwaukee Bucks',)\n",
      "De:  ('Phoenix Suns',) para:  ('Milwaukee Bucks',)\n",
      "De:  ('Chicago Bulls',) para:  ('Cleveland Cavaliers',)\n",
      "De:  ('Sacramento Kings',) para:  ('Houston Rockets',)\n",
      "De:  ('Phoenix Suns',) para:  ('Chicago Bulls',)\n",
      "De:  ('Phoenix Suns',) para:  ('Los Angeles Lakers',)\n",
      "De:  ('New York Knicks',) para:  ('Portland Trail Blazers',)\n",
      "De:  ('New York Knicks',) para:  ('Indiana Pacers',)\n",
      "De:  ('Utah Jazz',) para:  ('Philadelphia 76ers',)\n",
      "De:  ('Utah Jazz',) para:  ('Philadelphia 76ers',)\n",
      "De:  ('Phoenix Suns',) para:  ('Detroit Pistons',)\n",
      "De:  ('Memphis Grizzlies',) para:  ('Los Angeles Lakers',)\n",
      "De:  ('New Orleans Pelicans',) para:  ('Oklahoma City Thunder',)\n",
      "De:  ('Golden State Warriors',) para:  ('Miami Heat',)\n",
      "De:  ('Toronto Raptors',) para:  ('Phoenix Suns',)\n",
      "De:  ('Sacramento Kings',) para:  ('Atlanta Hawks',)\n",
      "De:  ('Milwaukee Bucks',) para:  ('Atlanta Hawks',)\n",
      "De:  ('Chicago Bulls',) para:  ('Orlando Magic',)\n",
      "De:  ('Brooklyn Nets',) para:  ('Toronto Raptors',)\n",
      "De:  ('Orlando Magic',) para:  ('Atlanta Hawks',)\n",
      "De:  ('Washington Wizards',) para:  ('Los Angeles Lakers',)\n",
      "De:  ('Milwaukee Bucks',) para:  ('Toronto Raptors',)\n",
      "De:  ('Washington Wizards',) para:  ('Houston Rockets',)\n",
      "De:  ('Sacramento Kings',) para:  ('Minnesota Timberwolves',)\n",
      "De:  ('Dallas Mavericks',) para:  ('Phoenix Suns',)\n",
      "De:  ('Detroit Pistons',) para:  ('New York Knicks',)\n",
      "De:  ('Phoenix Suns',) para:  ('Minnesota Timberwolves',)\n",
      "De:  ('New York Knicks',) para:  ('Washington Wizards',)\n",
      "De:  ('Houston Rockets',) para:  ('Memphis Grizzlies',)\n",
      "De:  ('Atlanta Hawks',) para:  ('Toronto Raptors',)\n",
      "De:  ('Indiana Pacers',) para:  ('Cleveland Cavaliers',)\n",
      "De:  ('Portland Trail Blazers',) para:  ('Washington Wizards',)\n",
      "De:  ('Brooklyn Nets',) para:  ('Houston Rockets',)\n",
      "De:  ('Cleveland Cavaliers',) para:  ('Toronto Raptors',)\n",
      "De:  ('Phoenix Suns',) para:  ('Houston Rockets',)\n",
      "De:  ('New York Knicks',) para:  ('Washington Wizards',)\n",
      "De:  ('New York Knicks',) para:  ('Memphis Grizzlies',)\n",
      "De:  ('Memphis Grizzlies',) para:  ('Denver Nuggets',)\n",
      "De:  ('Golden State Warriors',) para:  ('Houston Rockets',)\n",
      "De:  ('Cleveland Cavaliers',) para:  ('Washington Wizards',)\n",
      "De:  ('Los Angeles Lakers',) para:  ('Minnesota Timberwolves',)\n",
      "De:  ('Atlanta Hawks',) para:  ('Houston Rockets',)\n",
      "De:  ('Atlanta Hawks',) para:  ('Memphis Grizzlies',)\n",
      "De:  ('LA Clippers',) para:  ('Los Angeles Lakers',)\n"
     ]
    },
    {
     "data": {
      "application/vnd.plotly.v1+json": {
       "config": {
        "linkText": "Export to plot.ly",
        "plotlyServerURL": "https://plot.ly",
        "showLink": false,
        "staticPlot": true
       },
       "data": [
        {
         "hoverinfo": "none",
         "line": {
          "color": "rgba(255, 255, 255, 0.0)",
          "dash": "solid",
          "width": 1
         },
         "mode": "lines",
         "type": "scatter",
         "x": [
          0.2422821711210923,
          0.1620041872364254,
          null
         ],
         "y": [
          0.770245873030432,
          0.4757845613195645,
          null
         ]
        },
        {
         "hoverinfo": "none",
         "line": {
          "color": "rgba(255, 255, 255, 0.0)",
          "dash": "solid",
          "width": 1
         },
         "mode": "lines",
         "type": "scatter",
         "x": [
          0.2422821711210923,
          0.3255064458667908,
          null
         ],
         "y": [
          0.770245873030432,
          0.24582235548362408,
          null
         ]
        },
        {
         "hoverinfo": "none",
         "line": {
          "color": "rgba(255, 255, 255, 0.0)",
          "dash": "solid",
          "width": 1
         },
         "mode": "lines",
         "type": "scatter",
         "x": [
          0.2422821711210923,
          0.03644128620803111,
          null
         ],
         "y": [
          0.770245873030432,
          0.35175858403501037,
          null
         ]
        },
        {
         "hoverinfo": "none",
         "line": {
          "color": "rgba(255, 255, 255, 0.0)",
          "dash": "solid",
          "width": 1
         },
         "mode": "lines",
         "type": "scatter",
         "x": [
          0.13252208607152327,
          0.42770731430612385,
          null
         ],
         "y": [
          0.5741610838281521,
          0.28097318733364607,
          null
         ]
        },
        {
         "hoverinfo": "none",
         "line": {
          "color": "rgba(255, 255, 255, 0.0)",
          "dash": "solid",
          "width": 1
         },
         "mode": "lines",
         "type": "scatter",
         "x": [
          0.13252208607152327,
          0.40881742786550546,
          null
         ],
         "y": [
          0.5741610838281521,
          0.005922178100667197,
          null
         ]
        },
        {
         "hoverinfo": "none",
         "line": {
          "color": "rgba(255, 255, 255, 0.0)",
          "dash": "solid",
          "width": 1
         },
         "mode": "lines",
         "type": "scatter",
         "x": [
          0.6451267827147388,
          0.7295274364039469,
          null
         ],
         "y": [
          0.420031263248842,
          0.6773214880223646,
          null
         ]
        },
        {
         "hoverinfo": "none",
         "line": {
          "color": "rgba(255, 255, 255, 0.0)",
          "dash": "solid",
          "width": 1
         },
         "mode": "lines",
         "type": "scatter",
         "x": [
          0.6451267827147388,
          0.5251917709552311,
          null
         ],
         "y": [
          0.420031263248842,
          0.5092254370434016,
          null
         ]
        },
        {
         "hoverinfo": "none",
         "line": {
          "color": "rgba(255, 255, 255, 0.0)",
          "dash": "solid",
          "width": 1
         },
         "mode": "lines",
         "type": "scatter",
         "x": [
          0.6451267827147388,
          0.7833382112958032,
          null
         ],
         "y": [
          0.420031263248842,
          0.6270028197830154,
          null
         ]
        },
        {
         "hoverinfo": "none",
         "line": {
          "color": "rgba(255, 255, 255, 0.0)",
          "dash": "solid",
          "width": 1
         },
         "mode": "lines",
         "type": "scatter",
         "x": [
          0.03644128620803111,
          0.3255064458667908,
          null
         ],
         "y": [
          0.35175858403501037,
          0.24582235548362408,
          null
         ]
        },
        {
         "hoverinfo": "none",
         "line": {
          "color": "rgba(255, 255, 255, 0.0)",
          "dash": "solid",
          "width": 1
         },
         "mode": "lines",
         "type": "scatter",
         "x": [
          0.03644128620803111,
          0.1620041872364254,
          null
         ],
         "y": [
          0.35175858403501037,
          0.4757845613195645,
          null
         ]
        },
        {
         "hoverinfo": "none",
         "line": {
          "color": "rgba(255, 255, 255, 0.0)",
          "dash": "solid",
          "width": 1
         },
         "mode": "lines",
         "type": "scatter",
         "x": [
          0.03644128620803111,
          0.5906358500620068,
          null
         ],
         "y": [
          0.35175858403501037,
          0.91837159701635,
          null
         ]
        },
        {
         "hoverinfo": "none",
         "line": {
          "color": "rgba(255, 255, 255, 0.0)",
          "dash": "solid",
          "width": 1
         },
         "mode": "lines",
         "type": "scatter",
         "x": [
          0.03644128620803111,
          0.4430261862562974,
          null
         ],
         "y": [
          0.35175858403501037,
          0.6372349120843785,
          null
         ]
        },
        {
         "hoverinfo": "none",
         "line": {
          "color": "rgba(255, 255, 255, 0.0)",
          "dash": "solid",
          "width": 1
         },
         "mode": "lines",
         "type": "scatter",
         "x": [
          0.03644128620803111,
          0.05329305036451948,
          null
         ],
         "y": [
          0.35175858403501037,
          0.2353288097052717,
          null
         ]
        },
        {
         "hoverinfo": "none",
         "line": {
          "color": "rgba(255, 255, 255, 0.0)",
          "dash": "solid",
          "width": 1
         },
         "mode": "lines",
         "type": "scatter",
         "x": [
          0.03644128620803111,
          0.5251917709552311,
          null
         ],
         "y": [
          0.35175858403501037,
          0.5092254370434016,
          null
         ]
        },
        {
         "hoverinfo": "none",
         "line": {
          "color": "rgba(255, 255, 255, 0.0)",
          "dash": "solid",
          "width": 1
         },
         "mode": "lines",
         "type": "scatter",
         "x": [
          0.03644128620803111,
          0.33300329099006487,
          null
         ],
         "y": [
          0.35175858403501037,
          0.8813151598035718,
          null
         ]
        },
        {
         "hoverinfo": "none",
         "line": {
          "color": "rgba(255, 255, 255, 0.0)",
          "dash": "solid",
          "width": 1
         },
         "mode": "lines",
         "type": "scatter",
         "x": [
          0.7295274364039469,
          0.41184537578801217,
          null
         ],
         "y": [
          0.6773214880223646,
          0.15550574970768394,
          null
         ]
        },
        {
         "hoverinfo": "none",
         "line": {
          "color": "rgba(255, 255, 255, 0.0)",
          "dash": "solid",
          "width": 1
         },
         "mode": "lines",
         "type": "scatter",
         "x": [
          0.7295274364039469,
          0.040852296249109354,
          null
         ],
         "y": [
          0.6773214880223646,
          0.015556645505791722,
          null
         ]
        },
        {
         "hoverinfo": "none",
         "line": {
          "color": "rgba(255, 255, 255, 0.0)",
          "dash": "solid",
          "width": 1
         },
         "mode": "lines",
         "type": "scatter",
         "x": [
          0.7295274364039469,
          0.5906358500620068,
          null
         ],
         "y": [
          0.6773214880223646,
          0.91837159701635,
          null
         ]
        },
        {
         "hoverinfo": "none",
         "line": {
          "color": "rgba(255, 255, 255, 0.0)",
          "dash": "solid",
          "width": 1
         },
         "mode": "lines",
         "type": "scatter",
         "x": [
          0.839754753501359,
          0.5251917709552311,
          null
         ],
         "y": [
          0.43800342784795454,
          0.5092254370434016,
          null
         ]
        },
        {
         "hoverinfo": "none",
         "line": {
          "color": "rgba(255, 255, 255, 0.0)",
          "dash": "solid",
          "width": 1
         },
         "mode": "lines",
         "type": "scatter",
         "x": [
          0.40881742786550546,
          0.5251917709552311,
          null
         ],
         "y": [
          0.005922178100667197,
          0.5092254370434016,
          null
         ]
        },
        {
         "hoverinfo": "none",
         "line": {
          "color": "rgba(255, 255, 255, 0.0)",
          "dash": "solid",
          "width": 1
         },
         "mode": "lines",
         "type": "scatter",
         "x": [
          0.40881742786550546,
          0.4430261862562974,
          null
         ],
         "y": [
          0.005922178100667197,
          0.6372349120843785,
          null
         ]
        },
        {
         "hoverinfo": "none",
         "line": {
          "color": "rgba(255, 255, 255, 0.0)",
          "dash": "solid",
          "width": 1
         },
         "mode": "lines",
         "type": "scatter",
         "x": [
          0.40881742786550546,
          0.5906358500620068,
          null
         ],
         "y": [
          0.005922178100667197,
          0.91837159701635,
          null
         ]
        },
        {
         "hoverinfo": "none",
         "line": {
          "color": "rgba(255, 255, 255, 0.0)",
          "dash": "solid",
          "width": 1
         },
         "mode": "lines",
         "type": "scatter",
         "x": [
          0.40881742786550546,
          0.8976478374822048,
          null
         ],
         "y": [
          0.005922178100667197,
          0.07928176083471472,
          null
         ]
        },
        {
         "hoverinfo": "none",
         "line": {
          "color": "rgba(255, 255, 255, 0.0)",
          "dash": "solid",
          "width": 1
         },
         "mode": "lines",
         "type": "scatter",
         "x": [
          0.05329305036451948,
          0.41184537578801217,
          null
         ],
         "y": [
          0.2353288097052717,
          0.15550574970768394,
          null
         ]
        },
        {
         "hoverinfo": "none",
         "line": {
          "color": "rgba(255, 255, 255, 0.0)",
          "dash": "solid",
          "width": 1
         },
         "mode": "lines",
         "type": "scatter",
         "x": [
          0.4430261862562974,
          0.2557423809559065,
          null
         ],
         "y": [
          0.6372349120843785,
          0.9006353590369995,
          null
         ]
        },
        {
         "hoverinfo": "none",
         "line": {
          "color": "rgba(255, 255, 255, 0.0)",
          "dash": "solid",
          "width": 1
         },
         "mode": "lines",
         "type": "scatter",
         "x": [
          0.4430261862562974,
          0.25924035686843705,
          null
         ],
         "y": [
          0.6372349120843785,
          0.4914512229221102,
          null
         ]
        },
        {
         "hoverinfo": "none",
         "line": {
          "color": "rgba(255, 255, 255, 0.0)",
          "dash": "solid",
          "width": 1
         },
         "mode": "lines",
         "type": "scatter",
         "x": [
          0.4430261862562974,
          0.33300329099006487,
          null
         ],
         "y": [
          0.6372349120843785,
          0.8813151598035718,
          null
         ]
        },
        {
         "hoverinfo": "none",
         "line": {
          "color": "rgba(255, 255, 255, 0.0)",
          "dash": "solid",
          "width": 1
         },
         "mode": "lines",
         "type": "scatter",
         "x": [
          0.5906358500620068,
          0.2557423809559065,
          null
         ],
         "y": [
          0.91837159701635,
          0.9006353590369995,
          null
         ]
        },
        {
         "hoverinfo": "none",
         "line": {
          "color": "rgba(255, 255, 255, 0.0)",
          "dash": "solid",
          "width": 1
         },
         "mode": "lines",
         "type": "scatter",
         "x": [
          0.5906358500620068,
          0.8928966941182267,
          null
         ],
         "y": [
          0.91837159701635,
          0.9992849993933854,
          null
         ]
        },
        {
         "hoverinfo": "none",
         "line": {
          "color": "rgba(255, 255, 255, 0.0)",
          "dash": "solid",
          "width": 1
         },
         "mode": "lines",
         "type": "scatter",
         "x": [
          0.42770731430612385,
          0.2632211166234796,
          null
         ],
         "y": [
          0.28097318733364607,
          0.4186672377198427,
          null
         ]
        },
        {
         "hoverinfo": "none",
         "line": {
          "color": "rgba(255, 255, 255, 0.0)",
          "dash": "solid",
          "width": 1
         },
         "mode": "lines",
         "type": "scatter",
         "x": [
          0.42770731430612385,
          0.8064662404424623,
          null
         ],
         "y": [
          0.28097318733364607,
          0.4176252748388205,
          null
         ]
        },
        {
         "hoverinfo": "none",
         "line": {
          "color": "rgba(255, 255, 255, 0.0)",
          "dash": "solid",
          "width": 1
         },
         "mode": "lines",
         "type": "scatter",
         "x": [
          0.8976478374822048,
          0.1620041872364254,
          null
         ],
         "y": [
          0.07928176083471472,
          0.4757845613195645,
          null
         ]
        },
        {
         "hoverinfo": "none",
         "line": {
          "color": "rgba(255, 255, 255, 0.0)",
          "dash": "solid",
          "width": 1
         },
         "mode": "lines",
         "type": "scatter",
         "x": [
          0.8976478374822048,
          0.5251917709552311,
          null
         ],
         "y": [
          0.07928176083471472,
          0.5092254370434016,
          null
         ]
        },
        {
         "hoverinfo": "none",
         "line": {
          "color": "rgba(255, 255, 255, 0.0)",
          "dash": "solid",
          "width": 1
         },
         "mode": "lines",
         "type": "scatter",
         "x": [
          0.040852296249109354,
          0.2557423809559065,
          null
         ],
         "y": [
          0.015556645505791722,
          0.9006353590369995,
          null
         ]
        },
        {
         "hoverinfo": "none",
         "line": {
          "color": "rgba(255, 255, 255, 0.0)",
          "dash": "solid",
          "width": 1
         },
         "mode": "lines",
         "type": "scatter",
         "x": [
          0.2632211166234796,
          0.4458198051341652,
          null
         ],
         "y": [
          0.4186672377198427,
          0.06472032037273356,
          null
         ]
        },
        {
         "hoverinfo": "none",
         "line": {
          "color": "rgba(255, 255, 255, 0.0)",
          "dash": "solid",
          "width": 1
         },
         "mode": "lines",
         "type": "scatter",
         "x": [
          0.8928966941182267,
          0.2557423809559065,
          null
         ],
         "y": [
          0.9992849993933854,
          0.9006353590369995,
          null
         ]
        },
        {
         "hoverinfo": "none",
         "line": {
          "color": "rgba(255, 255, 255, 0.0)",
          "dash": "solid",
          "width": 1
         },
         "mode": "lines",
         "type": "scatter",
         "x": [
          0.5818933857339115,
          0.0964941873496099,
          null
         ],
         "y": [
          0.4635414782133458,
          0.06479736535237024,
          null
         ]
        },
        {
         "hoverinfo": "none",
         "line": {
          "color": "rgba(255, 255, 255, 0.0)",
          "dash": "solid",
          "width": 1
         },
         "mode": "lines",
         "type": "scatter",
         "x": [
          0.5818933857339115,
          0.5251917709552311,
          null
         ],
         "y": [
          0.4635414782133458,
          0.5092254370434016,
          null
         ]
        },
        {
         "hoverinfo": "none",
         "line": {
          "color": "rgba(255, 255, 255, 0.0)",
          "dash": "solid",
          "width": 1
         },
         "mode": "lines",
         "type": "scatter",
         "x": [
          0.5818933857339115,
          0.33300329099006487,
          null
         ],
         "y": [
          0.4635414782133458,
          0.8813151598035718,
          null
         ]
        },
        {
         "hoverinfo": "none",
         "line": {
          "color": "rgba(255, 255, 255, 0.0)",
          "dash": "solid",
          "width": 1
         },
         "mode": "lines",
         "type": "scatter",
         "x": [
          0.5818933857339115,
          0.41184537578801217,
          null
         ],
         "y": [
          0.4635414782133458,
          0.15550574970768394,
          null
         ]
        },
        {
         "hoverinfo": "none",
         "line": {
          "color": "rgba(255, 255, 255, 0.0)",
          "dash": "solid",
          "width": 1
         },
         "mode": "lines",
         "type": "scatter",
         "x": [
          0.41184537578801217,
          0.5251917709552311,
          null
         ],
         "y": [
          0.15550574970768394,
          0.5092254370434016,
          null
         ]
        },
        {
         "hoverinfo": "none",
         "line": {
          "color": "rgba(255, 255, 255, 0.0)",
          "dash": "solid",
          "width": 1
         },
         "mode": "lines",
         "type": "scatter",
         "x": [
          0.41184537578801217,
          0.33300329099006487,
          null
         ],
         "y": [
          0.15550574970768394,
          0.8813151598035718,
          null
         ]
        },
        {
         "hoverinfo": "none",
         "line": {
          "color": "rgba(255, 255, 255, 0.0)",
          "dash": "solid",
          "width": 1
         },
         "mode": "lines",
         "type": "scatter",
         "x": [
          0.5251917709552311,
          0.23233795348105157,
          null
         ],
         "y": [
          0.5092254370434016,
          0.7068234704531743,
          null
         ]
        },
        {
         "hoverinfo": "none",
         "line": {
          "color": "rgba(255, 255, 255, 0.0)",
          "dash": "solid",
          "width": 1
         },
         "mode": "lines",
         "type": "scatter",
         "x": [
          0.2557423809559065,
          0.23233795348105157,
          null
         ],
         "y": [
          0.9006353590369995,
          0.7068234704531743,
          null
         ]
        },
        {
         "hoverinfo": "none",
         "line": {
          "color": "rgba(255, 255, 255, 0.0)",
          "dash": "solid",
          "width": 1
         },
         "mode": "lines",
         "type": "scatter",
         "x": [
          0.1620041872364254,
          0.33300329099006487,
          null
         ],
         "y": [
          0.4757845613195645,
          0.8813151598035718,
          null
         ]
        },
        {
         "hoverinfo": "none",
         "line": {
          "color": "rgba(255, 255, 255, 0.0)",
          "dash": "solid",
          "width": 1
         },
         "mode": "lines",
         "type": "scatter",
         "x": [
          0.33300329099006487,
          0.7833382112958032,
          null
         ],
         "y": [
          0.8813151598035718,
          0.6270028197830154,
          null
         ]
        },
        {
         "hoverinfo": "none",
         "marker": {
          "color": "rgba(255, 255, 255, 0.0)",
          "line": {
           "color": "rgba(255, 255, 255, 0.0)",
           "width": 1
          },
          "size": 20,
          "symbol": "circle"
         },
         "mode": "markers+text",
         "text": [
          "('Golden State Warriors',)"
         ],
         "textfont": {
          "color": "rgb(0, 0, 0)"
         },
         "textposition": "middle center",
         "type": "scatter",
         "x": [
          0.2422821711210923
         ],
         "y": [
          0.770245873030432
         ]
        },
        {
         "hoverinfo": "none",
         "marker": {
          "color": "rgba(255, 255, 255, 0.0)",
          "line": {
           "color": "rgba(255, 255, 255, 0.0)",
           "width": 1
          },
          "size": 20,
          "symbol": "circle"
         },
         "mode": "markers+text",
         "text": [
          "('LA Clippers',)"
         ],
         "textfont": {
          "color": "rgb(0, 0, 0)"
         },
         "textposition": "middle center",
         "type": "scatter",
         "x": [
          0.13252208607152327
         ],
         "y": [
          0.5741610838281521
         ]
        },
        {
         "hoverinfo": "none",
         "marker": {
          "color": "rgba(255, 255, 255, 0.0)",
          "line": {
           "color": "rgba(255, 255, 255, 0.0)",
           "width": 1
          },
          "size": 20,
          "symbol": "circle"
         },
         "mode": "markers+text",
         "text": [
          "('Boston Celtics',)"
         ],
         "textfont": {
          "color": "rgb(0, 0, 0)"
         },
         "textposition": "middle center",
         "type": "scatter",
         "x": [
          0.715493075132561
         ],
         "y": [
          0.8604383158653254
         ]
        },
        {
         "hoverinfo": "none",
         "marker": {
          "color": "rgba(255, 255, 255, 0.0)",
          "line": {
           "color": "rgba(255, 255, 255, 0.0)",
           "width": 1
          },
          "size": 20,
          "symbol": "circle"
         },
         "mode": "markers+text",
         "text": [
          "('Chicago Bulls',)"
         ],
         "textfont": {
          "color": "rgb(0, 0, 0)"
         },
         "textposition": "middle center",
         "type": "scatter",
         "x": [
          0.6451267827147388
         ],
         "y": [
          0.420031263248842
         ]
        },
        {
         "hoverinfo": "none",
         "marker": {
          "color": "rgba(255, 255, 255, 0.0)",
          "line": {
           "color": "rgba(255, 255, 255, 0.0)",
           "width": 1
          },
          "size": 20,
          "symbol": "circle"
         },
         "mode": "markers+text",
         "text": [
          "('Houston Rockets',)"
         ],
         "textfont": {
          "color": "rgb(0, 0, 0)"
         },
         "textposition": "middle center",
         "type": "scatter",
         "x": [
          0.03644128620803111
         ],
         "y": [
          0.35175858403501037
         ]
        },
        {
         "hoverinfo": "none",
         "marker": {
          "color": "rgba(255, 255, 255, 0.0)",
          "line": {
           "color": "rgba(255, 255, 255, 0.0)",
           "width": 1
          },
          "size": 20,
          "symbol": "circle"
         },
         "mode": "markers+text",
         "text": [
          "('Cleveland Cavaliers',)"
         ],
         "textfont": {
          "color": "rgb(0, 0, 0)"
         },
         "textposition": "middle center",
         "type": "scatter",
         "x": [
          0.7295274364039469
         ],
         "y": [
          0.6773214880223646
         ]
        },
        {
         "hoverinfo": "none",
         "marker": {
          "color": "rgba(255, 255, 255, 0.0)",
          "line": {
           "color": "rgba(255, 255, 255, 0.0)",
           "width": 1
          },
          "size": 20,
          "symbol": "circle"
         },
         "mode": "markers+text",
         "text": [
          "('Dallas Mavericks',)"
         ],
         "textfont": {
          "color": "rgb(0, 0, 0)"
         },
         "textposition": "middle center",
         "type": "scatter",
         "x": [
          0.839754753501359
         ],
         "y": [
          0.43800342784795454
         ]
        },
        {
         "hoverinfo": "none",
         "marker": {
          "color": "rgba(255, 255, 255, 0.0)",
          "line": {
           "color": "rgba(255, 255, 255, 0.0)",
           "width": 1
          },
          "size": 20,
          "symbol": "circle"
         },
         "mode": "markers+text",
         "text": [
          "('Los Angeles Lakers',)"
         ],
         "textfont": {
          "color": "rgb(0, 0, 0)"
         },
         "textposition": "middle center",
         "type": "scatter",
         "x": [
          0.40881742786550546
         ],
         "y": [
          0.005922178100667197
         ]
        },
        {
         "hoverinfo": "none",
         "marker": {
          "color": "rgba(255, 255, 255, 0.0)",
          "line": {
           "color": "rgba(255, 255, 255, 0.0)",
           "width": 1
          },
          "size": 20,
          "symbol": "circle"
         },
         "mode": "markers+text",
         "text": [
          "('Brooklyn Nets',)"
         ],
         "textfont": {
          "color": "rgb(0, 0, 0)"
         },
         "textposition": "middle center",
         "type": "scatter",
         "x": [
          0.05329305036451948
         ],
         "y": [
          0.2353288097052717
         ]
        },
        {
         "hoverinfo": "none",
         "marker": {
          "color": "rgba(255, 255, 255, 0.0)",
          "line": {
           "color": "rgba(255, 255, 255, 0.0)",
           "width": 1
          },
          "size": 20,
          "symbol": "circle"
         },
         "mode": "markers+text",
         "text": [
          "('Memphis Grizzlies',)"
         ],
         "textfont": {
          "color": "rgb(0, 0, 0)"
         },
         "textposition": "middle center",
         "type": "scatter",
         "x": [
          0.4430261862562974
         ],
         "y": [
          0.6372349120843785
         ]
        },
        {
         "hoverinfo": "none",
         "marker": {
          "color": "rgba(255, 255, 255, 0.0)",
          "line": {
           "color": "rgba(255, 255, 255, 0.0)",
           "width": 1
          },
          "size": 20,
          "symbol": "circle"
         },
         "mode": "markers+text",
         "text": [
          "('Washington Wizards',)"
         ],
         "textfont": {
          "color": "rgb(0, 0, 0)"
         },
         "textposition": "middle center",
         "type": "scatter",
         "x": [
          0.5906358500620068
         ],
         "y": [
          0.91837159701635
         ]
        },
        {
         "hoverinfo": "none",
         "marker": {
          "color": "rgba(255, 255, 255, 0.0)",
          "line": {
           "color": "rgba(255, 255, 255, 0.0)",
           "width": 1
          },
          "size": 20,
          "symbol": "circle"
         },
         "mode": "markers+text",
         "text": [
          "('Oklahoma City Thunder',)"
         ],
         "textfont": {
          "color": "rgb(0, 0, 0)"
         },
         "textposition": "middle center",
         "type": "scatter",
         "x": [
          0.42770731430612385
         ],
         "y": [
          0.28097318733364607
         ]
        },
        {
         "hoverinfo": "none",
         "marker": {
          "color": "rgba(255, 255, 255, 0.0)",
          "line": {
           "color": "rgba(255, 255, 255, 0.0)",
           "width": 1
          },
          "size": 20,
          "symbol": "circle"
         },
         "mode": "markers+text",
         "text": [
          "('Miami Heat',)"
         ],
         "textfont": {
          "color": "rgb(0, 0, 0)"
         },
         "textposition": "middle center",
         "type": "scatter",
         "x": [
          0.3255064458667908
         ],
         "y": [
          0.24582235548362408
         ]
        },
        {
         "hoverinfo": "none",
         "marker": {
          "color": "rgba(255, 255, 255, 0.0)",
          "line": {
           "color": "rgba(255, 255, 255, 0.0)",
           "width": 1
          },
          "size": 20,
          "symbol": "circle"
         },
         "mode": "markers+text",
         "text": [
          "('Minnesota Timberwolves',)"
         ],
         "textfont": {
          "color": "rgb(0, 0, 0)"
         },
         "textposition": "middle center",
         "type": "scatter",
         "x": [
          0.8976478374822048
         ],
         "y": [
          0.07928176083471472
         ]
        },
        {
         "hoverinfo": "none",
         "marker": {
          "color": "rgba(255, 255, 255, 0.0)",
          "line": {
           "color": "rgba(255, 255, 255, 0.0)",
           "width": 1
          },
          "size": 20,
          "symbol": "circle"
         },
         "mode": "markers+text",
         "text": [
          "('Indiana Pacers',)"
         ],
         "textfont": {
          "color": "rgb(0, 0, 0)"
         },
         "textposition": "middle center",
         "type": "scatter",
         "x": [
          0.040852296249109354
         ],
         "y": [
          0.015556645505791722
         ]
        },
        {
         "hoverinfo": "none",
         "marker": {
          "color": "rgba(255, 255, 255, 0.0)",
          "line": {
           "color": "rgba(255, 255, 255, 0.0)",
           "width": 1
          },
          "size": 20,
          "symbol": "circle"
         },
         "mode": "markers+text",
         "text": [
          "('Denver Nuggets',)"
         ],
         "textfont": {
          "color": "rgb(0, 0, 0)"
         },
         "textposition": "middle center",
         "type": "scatter",
         "x": [
          0.25924035686843705
         ],
         "y": [
          0.4914512229221102
         ]
        },
        {
         "hoverinfo": "none",
         "marker": {
          "color": "rgba(255, 255, 255, 0.0)",
          "line": {
           "color": "rgba(255, 255, 255, 0.0)",
           "width": 1
          },
          "size": 20,
          "symbol": "circle"
         },
         "mode": "markers+text",
         "text": [
          "('Charlotte Hornets',)"
         ],
         "textfont": {
          "color": "rgb(0, 0, 0)"
         },
         "textposition": "middle center",
         "type": "scatter",
         "x": [
          0.5941941305043772
         ],
         "y": [
          0.9133530153386847
         ]
        },
        {
         "hoverinfo": "none",
         "marker": {
          "color": "rgba(255, 255, 255, 0.0)",
          "line": {
           "color": "rgba(255, 255, 255, 0.0)",
           "width": 1
          },
          "size": 20,
          "symbol": "circle"
         },
         "mode": "markers+text",
         "text": [
          "('Philadelphia 76ers',)"
         ],
         "textfont": {
          "color": "rgb(0, 0, 0)"
         },
         "textposition": "middle center",
         "type": "scatter",
         "x": [
          0.2632211166234796
         ],
         "y": [
          0.4186672377198427
         ]
        },
        {
         "hoverinfo": "none",
         "marker": {
          "color": "rgba(255, 255, 255, 0.0)",
          "line": {
           "color": "rgba(255, 255, 255, 0.0)",
           "width": 1
          },
          "size": 20,
          "symbol": "circle"
         },
         "mode": "markers+text",
         "text": [
          "('Portland Trail Blazers',)"
         ],
         "textfont": {
          "color": "rgb(0, 0, 0)"
         },
         "textposition": "middle center",
         "type": "scatter",
         "x": [
          0.8928966941182267
         ],
         "y": [
          0.9992849993933854
         ]
        },
        {
         "hoverinfo": "none",
         "marker": {
          "color": "rgba(255, 255, 255, 0.0)",
          "line": {
           "color": "rgba(255, 255, 255, 0.0)",
           "width": 1
          },
          "size": 20,
          "symbol": "circle"
         },
         "mode": "markers+text",
         "text": [
          "('Milwaukee Bucks',)"
         ],
         "textfont": {
          "color": "rgb(0, 0, 0)"
         },
         "textposition": "middle center",
         "type": "scatter",
         "x": [
          0.5818933857339115
         ],
         "y": [
          0.4635414782133458
         ]
        },
        {
         "hoverinfo": "none",
         "marker": {
          "color": "rgba(255, 255, 255, 0.0)",
          "line": {
           "color": "rgba(255, 255, 255, 0.0)",
           "width": 1
          },
          "size": 20,
          "symbol": "circle"
         },
         "mode": "markers+text",
         "text": [
          "('New Orleans Pelicans',)"
         ],
         "textfont": {
          "color": "rgb(0, 0, 0)"
         },
         "textposition": "middle center",
         "type": "scatter",
         "x": [
          0.8064662404424623
         ],
         "y": [
          0.4176252748388205
         ]
        },
        {
         "hoverinfo": "none",
         "marker": {
          "color": "rgba(255, 255, 255, 0.0)",
          "line": {
           "color": "rgba(255, 255, 255, 0.0)",
           "width": 1
          },
          "size": 20,
          "symbol": "circle"
         },
         "mode": "markers+text",
         "text": [
          "('Toronto Raptors',)"
         ],
         "textfont": {
          "color": "rgb(0, 0, 0)"
         },
         "textposition": "middle center",
         "type": "scatter",
         "x": [
          0.41184537578801217
         ],
         "y": [
          0.15550574970768394
         ]
        },
        {
         "hoverinfo": "none",
         "marker": {
          "color": "rgba(255, 255, 255, 0.0)",
          "line": {
           "color": "rgba(255, 255, 255, 0.0)",
           "width": 1
          },
          "size": 20,
          "symbol": "circle"
         },
         "mode": "markers+text",
         "text": [
          "('Phoenix Suns',)"
         ],
         "textfont": {
          "color": "rgb(0, 0, 0)"
         },
         "textposition": "middle center",
         "type": "scatter",
         "x": [
          0.5251917709552311
         ],
         "y": [
          0.5092254370434016
         ]
        },
        {
         "hoverinfo": "none",
         "marker": {
          "color": "rgba(255, 255, 255, 0.0)",
          "line": {
           "color": "rgba(255, 255, 255, 0.0)",
           "width": 1
          },
          "size": 20,
          "symbol": "circle"
         },
         "mode": "markers+text",
         "text": [
          "('New York Knicks',)"
         ],
         "textfont": {
          "color": "rgb(0, 0, 0)"
         },
         "textposition": "middle center",
         "type": "scatter",
         "x": [
          0.2557423809559065
         ],
         "y": [
          0.9006353590369995
         ]
        },
        {
         "hoverinfo": "none",
         "marker": {
          "color": "rgba(255, 255, 255, 0.0)",
          "line": {
           "color": "rgba(255, 255, 255, 0.0)",
           "width": 1
          },
          "size": 20,
          "symbol": "circle"
         },
         "mode": "markers+text",
         "text": [
          "('Detroit Pistons',)"
         ],
         "textfont": {
          "color": "rgb(0, 0, 0)"
         },
         "textposition": "middle center",
         "type": "scatter",
         "x": [
          0.23233795348105157
         ],
         "y": [
          0.7068234704531743
         ]
        },
        {
         "hoverinfo": "none",
         "marker": {
          "color": "rgba(255, 255, 255, 0.0)",
          "line": {
           "color": "rgba(255, 255, 255, 0.0)",
           "width": 1
          },
          "size": 20,
          "symbol": "circle"
         },
         "mode": "markers+text",
         "text": [
          "('Utah Jazz',)"
         ],
         "textfont": {
          "color": "rgb(0, 0, 0)"
         },
         "textposition": "middle center",
         "type": "scatter",
         "x": [
          0.4458198051341652
         ],
         "y": [
          0.06472032037273356
         ]
        },
        {
         "hoverinfo": "none",
         "marker": {
          "color": "rgba(255, 255, 255, 0.0)",
          "line": {
           "color": "rgba(255, 255, 255, 0.0)",
           "width": 1
          },
          "size": 20,
          "symbol": "circle"
         },
         "mode": "markers+text",
         "text": [
          "('Sacramento Kings',)"
         ],
         "textfont": {
          "color": "rgb(0, 0, 0)"
         },
         "textposition": "middle center",
         "type": "scatter",
         "x": [
          0.1620041872364254
         ],
         "y": [
          0.4757845613195645
         ]
        },
        {
         "hoverinfo": "none",
         "marker": {
          "color": "rgba(255, 255, 255, 0.0)",
          "line": {
           "color": "rgba(255, 255, 255, 0.0)",
           "width": 1
          },
          "size": 20,
          "symbol": "circle"
         },
         "mode": "markers+text",
         "text": [
          "('Atlanta Hawks',)"
         ],
         "textfont": {
          "color": "rgb(0, 0, 0)"
         },
         "textposition": "middle center",
         "type": "scatter",
         "x": [
          0.33300329099006487
         ],
         "y": [
          0.8813151598035718
         ]
        },
        {
         "hoverinfo": "none",
         "marker": {
          "color": "rgba(255, 255, 255, 0.0)",
          "line": {
           "color": "rgba(255, 255, 255, 0.0)",
           "width": 1
          },
          "size": 20,
          "symbol": "circle"
         },
         "mode": "markers+text",
         "text": [
          "('Orlando Magic',)"
         ],
         "textfont": {
          "color": "rgb(0, 0, 0)"
         },
         "textposition": "middle center",
         "type": "scatter",
         "x": [
          0.7833382112958032
         ],
         "y": [
          0.6270028197830154
         ]
        },
        {
         "hoverinfo": "none",
         "marker": {
          "color": "rgba(255, 255, 255, 0.0)",
          "line": {
           "color": "rgba(255, 255, 255, 0.0)",
           "width": 1
          },
          "size": 20,
          "symbol": "circle"
         },
         "mode": "markers+text",
         "text": [
          "('San Antonio Spurs',)"
         ],
         "textfont": {
          "color": "rgb(0, 0, 0)"
         },
         "textposition": "middle center",
         "type": "scatter",
         "x": [
          0.0964941873496099
         ],
         "y": [
          0.06479736535237024
         ]
        },
        {
         "hoverinfo": "none",
         "mode": "text",
         "text": [
          null,
          null,
          null,
          null,
          null,
          null,
          null,
          null,
          null,
          null,
          null,
          null,
          null,
          null,
          null,
          null,
          null,
          null,
          null,
          null,
          null,
          null,
          null,
          null,
          null,
          null,
          null,
          null,
          null,
          null,
          null,
          null,
          null,
          null,
          null,
          null,
          null,
          null,
          null,
          null,
          null,
          null,
          null,
          null,
          null,
          null
         ],
         "textfont": {
          "color": "rgb(0, 0, 0)"
         },
         "textposition": "middle center",
         "type": "scatter",
         "x": [
          0.2150042809237758,
          0.29769393718657233,
          0.15004903896305696,
          0.28697777978056327,
          0.2814118948775985,
          0.6750027234495011,
          0.5797417981923244,
          0.7051238064097648,
          0.1837999633052978,
          0.09238890575788385,
          0.3065214564062382,
          0.2345790117815549,
          0.05875765306800043,
          0.27832103234525063,
          0.17467900357453248,
          0.5802930486153103,
          0.391878713238047,
          0.6501855358811746,
          0.6807059931695598,
          0.45376904241279054,
          0.41162386849588406,
          0.4862254808920491,
          0.6520562609791875,
          0.23430733798168032,
          0.3406193148469759,
          0.3568558898719227,
          0.3769233285820922,
          0.42360548498937023,
          0.7396830697427031,
          0.33947870839910527,
          0.6143028959440429,
          0.5257600842593856,
          0.7037446545656659,
          0.1351633875931838,
          0.36497662088906485,
          0.5755329350051561,
          0.34508642688037583,
          0.5477445841392407,
          0.44772705038036337,
          0.5069861236102055,
          0.4561189792397209,
          0.358331306915336,
          0.3737867145249749,
          0.2580706519333667,
          0.23612129460100653,
          0.5624142041354553
         ],
         "y": [
          0.6113144344070937,
          0.5153422026035948,
          0.5434599373428665,
          0.4506259060505401,
          0.3074718100442812,
          0.5621677547893806,
          0.4403188946747176,
          0.543815252773901,
          0.32452444482996706,
          0.43685931376504566,
          0.6579686317817723,
          0.5189961298787624,
          0.3002528429448945,
          0.456339805506948,
          0.635306145277534,
          0.39689650142139643,
          0.3232100675376299,
          0.7788181749653509,
          0.4475670195348672,
          0.2677864529185791,
          0.3241639866001344,
          0.47112466087709565,
          0.06876056704076035,
          0.2214712360805464,
          0.7481380433350058,
          0.5402680620438972,
          0.7425908230508478,
          0.8832677821885746,
          0.9847976680481498,
          0.32595948058104324,
          0.3750485572308378,
          0.25235932186530624,
          0.2720655626753617,
          0.4687373932740121,
          0.25969492976649716,
          0.9238072262142462,
          0.24023167696483447,
          0.4623687114645336,
          0.6531015670754388,
          0.29088645539126057,
          0.3456250118635124,
          0.5133017794514732,
          0.5834035167547105,
          0.7980753755981401,
          0.6945666060780205,
          0.7792348658286423
         ]
        },
        {
         "hoverinfo": "none",
         "marker": {
          "color": "rgba(255, 255, 255, 0.0)",
          "line": {
           "color": "rgba(255, 255, 255, 0.0)",
           "width": 0
          },
          "size": 0,
          "symbol": "circle"
         },
         "mode": "markers",
         "type": "scatter",
         "x": [
          0.5,
          0,
          1,
          0.5
         ],
         "y": [
          0,
          0.5,
          0.5,
          1
         ]
        }
       ],
       "frames": [
        {
         "data": [
          {
           "hoverinfo": "none",
           "line": {
            "color": "rgba(255, 255, 255, 0.0)",
            "dash": "solid",
            "width": 1
           },
           "mode": "lines",
           "type": "scatter",
           "x": [
            0.2422821711210923,
            0.1620041872364254,
            null
           ],
           "y": [
            0.770245873030432,
            0.4757845613195645,
            null
           ]
          },
          {
           "hoverinfo": "none",
           "line": {
            "color": "rgba(255, 255, 255, 0.0)",
            "dash": "solid",
            "width": 1
           },
           "mode": "lines",
           "type": "scatter",
           "x": [
            0.2422821711210923,
            0.3255064458667908,
            null
           ],
           "y": [
            0.770245873030432,
            0.24582235548362408,
            null
           ]
          },
          {
           "hoverinfo": "none",
           "line": {
            "color": "rgba(255, 255, 255, 0.0)",
            "dash": "solid",
            "width": 1
           },
           "mode": "lines",
           "type": "scatter",
           "x": [
            0.2422821711210923,
            0.03644128620803111,
            null
           ],
           "y": [
            0.770245873030432,
            0.35175858403501037,
            null
           ]
          },
          {
           "hoverinfo": "none",
           "line": {
            "color": "rgba(255, 255, 255, 0.0)",
            "dash": "solid",
            "width": 1
           },
           "mode": "lines",
           "type": "scatter",
           "x": [
            0.13252208607152327,
            0.42770731430612385,
            null
           ],
           "y": [
            0.5741610838281521,
            0.28097318733364607,
            null
           ]
          },
          {
           "hoverinfo": "none",
           "line": {
            "color": "rgba(255, 255, 255, 0.0)",
            "dash": "solid",
            "width": 1
           },
           "mode": "lines",
           "type": "scatter",
           "x": [
            0.13252208607152327,
            0.40881742786550546,
            null
           ],
           "y": [
            0.5741610838281521,
            0.005922178100667197,
            null
           ]
          },
          {
           "hoverinfo": "none",
           "line": {
            "color": "rgba(255, 255, 255, 0.0)",
            "dash": "solid",
            "width": 1
           },
           "mode": "lines",
           "type": "scatter",
           "x": [
            0.6451267827147388,
            0.7295274364039469,
            null
           ],
           "y": [
            0.420031263248842,
            0.6773214880223646,
            null
           ]
          },
          {
           "hoverinfo": "none",
           "line": {
            "color": "rgba(255, 255, 255, 0.0)",
            "dash": "solid",
            "width": 1
           },
           "mode": "lines",
           "type": "scatter",
           "x": [
            0.6451267827147388,
            0.5251917709552311,
            null
           ],
           "y": [
            0.420031263248842,
            0.5092254370434016,
            null
           ]
          },
          {
           "hoverinfo": "none",
           "line": {
            "color": "rgba(255, 255, 255, 0.0)",
            "dash": "solid",
            "width": 1
           },
           "mode": "lines",
           "type": "scatter",
           "x": [
            0.6451267827147388,
            0.7833382112958032,
            null
           ],
           "y": [
            0.420031263248842,
            0.6270028197830154,
            null
           ]
          },
          {
           "hoverinfo": "none",
           "line": {
            "color": "rgba(255, 255, 255, 0.0)",
            "dash": "solid",
            "width": 1
           },
           "mode": "lines",
           "type": "scatter",
           "x": [
            0.03644128620803111,
            0.3255064458667908,
            null
           ],
           "y": [
            0.35175858403501037,
            0.24582235548362408,
            null
           ]
          },
          {
           "hoverinfo": "none",
           "line": {
            "color": "rgba(255, 255, 255, 0.0)",
            "dash": "solid",
            "width": 1
           },
           "mode": "lines",
           "type": "scatter",
           "x": [
            0.03644128620803111,
            0.1620041872364254,
            null
           ],
           "y": [
            0.35175858403501037,
            0.4757845613195645,
            null
           ]
          },
          {
           "hoverinfo": "none",
           "line": {
            "color": "rgba(255, 255, 255, 0.0)",
            "dash": "solid",
            "width": 1
           },
           "mode": "lines",
           "type": "scatter",
           "x": [
            0.03644128620803111,
            0.5906358500620068,
            null
           ],
           "y": [
            0.35175858403501037,
            0.91837159701635,
            null
           ]
          },
          {
           "hoverinfo": "none",
           "line": {
            "color": "rgba(255, 255, 255, 0.0)",
            "dash": "solid",
            "width": 1
           },
           "mode": "lines",
           "type": "scatter",
           "x": [
            0.03644128620803111,
            0.4430261862562974,
            null
           ],
           "y": [
            0.35175858403501037,
            0.6372349120843785,
            null
           ]
          },
          {
           "hoverinfo": "none",
           "line": {
            "color": "rgba(255, 255, 255, 0.0)",
            "dash": "solid",
            "width": 1
           },
           "mode": "lines",
           "type": "scatter",
           "x": [
            0.03644128620803111,
            0.05329305036451948,
            null
           ],
           "y": [
            0.35175858403501037,
            0.2353288097052717,
            null
           ]
          },
          {
           "hoverinfo": "none",
           "line": {
            "color": "rgba(255, 255, 255, 0.0)",
            "dash": "solid",
            "width": 1
           },
           "mode": "lines",
           "type": "scatter",
           "x": [
            0.03644128620803111,
            0.5251917709552311,
            null
           ],
           "y": [
            0.35175858403501037,
            0.5092254370434016,
            null
           ]
          },
          {
           "hoverinfo": "none",
           "line": {
            "color": "rgba(255, 255, 255, 0.0)",
            "dash": "solid",
            "width": 1
           },
           "mode": "lines",
           "type": "scatter",
           "x": [
            0.03644128620803111,
            0.33300329099006487,
            null
           ],
           "y": [
            0.35175858403501037,
            0.8813151598035718,
            null
           ]
          },
          {
           "hoverinfo": "none",
           "line": {
            "color": "rgba(255, 255, 255, 0.0)",
            "dash": "solid",
            "width": 1
           },
           "mode": "lines",
           "type": "scatter",
           "x": [
            0.7295274364039469,
            0.41184537578801217,
            null
           ],
           "y": [
            0.6773214880223646,
            0.15550574970768394,
            null
           ]
          },
          {
           "hoverinfo": "none",
           "line": {
            "color": "rgba(255, 255, 255, 0.0)",
            "dash": "solid",
            "width": 1
           },
           "mode": "lines",
           "type": "scatter",
           "x": [
            0.7295274364039469,
            0.040852296249109354,
            null
           ],
           "y": [
            0.6773214880223646,
            0.015556645505791722,
            null
           ]
          },
          {
           "hoverinfo": "none",
           "line": {
            "color": "rgba(255, 255, 255, 0.0)",
            "dash": "solid",
            "width": 1
           },
           "mode": "lines",
           "type": "scatter",
           "x": [
            0.7295274364039469,
            0.5906358500620068,
            null
           ],
           "y": [
            0.6773214880223646,
            0.91837159701635,
            null
           ]
          },
          {
           "hoverinfo": "none",
           "line": {
            "color": "rgba(255, 255, 255, 0.0)",
            "dash": "solid",
            "width": 1
           },
           "mode": "lines",
           "type": "scatter",
           "x": [
            0.839754753501359,
            0.5251917709552311,
            null
           ],
           "y": [
            0.43800342784795454,
            0.5092254370434016,
            null
           ]
          },
          {
           "hoverinfo": "none",
           "line": {
            "color": "rgba(255, 255, 255, 0.0)",
            "dash": "solid",
            "width": 1
           },
           "mode": "lines",
           "type": "scatter",
           "x": [
            0.40881742786550546,
            0.5251917709552311,
            null
           ],
           "y": [
            0.005922178100667197,
            0.5092254370434016,
            null
           ]
          },
          {
           "hoverinfo": "none",
           "line": {
            "color": "rgba(255, 255, 255, 0.0)",
            "dash": "solid",
            "width": 1
           },
           "mode": "lines",
           "type": "scatter",
           "x": [
            0.40881742786550546,
            0.4430261862562974,
            null
           ],
           "y": [
            0.005922178100667197,
            0.6372349120843785,
            null
           ]
          },
          {
           "hoverinfo": "none",
           "line": {
            "color": "rgba(255, 255, 255, 0.0)",
            "dash": "solid",
            "width": 1
           },
           "mode": "lines",
           "type": "scatter",
           "x": [
            0.40881742786550546,
            0.5906358500620068,
            null
           ],
           "y": [
            0.005922178100667197,
            0.91837159701635,
            null
           ]
          },
          {
           "hoverinfo": "none",
           "line": {
            "color": "rgba(255, 255, 255, 0.0)",
            "dash": "solid",
            "width": 1
           },
           "mode": "lines",
           "type": "scatter",
           "x": [
            0.40881742786550546,
            0.8976478374822048,
            null
           ],
           "y": [
            0.005922178100667197,
            0.07928176083471472,
            null
           ]
          },
          {
           "hoverinfo": "none",
           "line": {
            "color": "rgba(255, 255, 255, 0.0)",
            "dash": "solid",
            "width": 1
           },
           "mode": "lines",
           "type": "scatter",
           "x": [
            0.05329305036451948,
            0.41184537578801217,
            null
           ],
           "y": [
            0.2353288097052717,
            0.15550574970768394,
            null
           ]
          },
          {
           "hoverinfo": "none",
           "line": {
            "color": "rgba(255, 255, 255, 0.0)",
            "dash": "solid",
            "width": 1
           },
           "mode": "lines",
           "type": "scatter",
           "x": [
            0.4430261862562974,
            0.2557423809559065,
            null
           ],
           "y": [
            0.6372349120843785,
            0.9006353590369995,
            null
           ]
          },
          {
           "hoverinfo": "none",
           "line": {
            "color": "rgba(255, 255, 255, 0.0)",
            "dash": "solid",
            "width": 1
           },
           "mode": "lines",
           "type": "scatter",
           "x": [
            0.4430261862562974,
            0.25924035686843705,
            null
           ],
           "y": [
            0.6372349120843785,
            0.4914512229221102,
            null
           ]
          },
          {
           "hoverinfo": "none",
           "line": {
            "color": "rgba(255, 255, 255, 0.0)",
            "dash": "solid",
            "width": 1
           },
           "mode": "lines",
           "type": "scatter",
           "x": [
            0.4430261862562974,
            0.33300329099006487,
            null
           ],
           "y": [
            0.6372349120843785,
            0.8813151598035718,
            null
           ]
          },
          {
           "hoverinfo": "none",
           "line": {
            "color": "rgba(255, 255, 255, 0.0)",
            "dash": "solid",
            "width": 1
           },
           "mode": "lines",
           "type": "scatter",
           "x": [
            0.5906358500620068,
            0.2557423809559065,
            null
           ],
           "y": [
            0.91837159701635,
            0.9006353590369995,
            null
           ]
          },
          {
           "hoverinfo": "none",
           "line": {
            "color": "rgba(255, 255, 255, 0.0)",
            "dash": "solid",
            "width": 1
           },
           "mode": "lines",
           "type": "scatter",
           "x": [
            0.5906358500620068,
            0.8928966941182267,
            null
           ],
           "y": [
            0.91837159701635,
            0.9992849993933854,
            null
           ]
          },
          {
           "hoverinfo": "none",
           "line": {
            "color": "rgba(255, 255, 255, 0.0)",
            "dash": "solid",
            "width": 1
           },
           "mode": "lines",
           "type": "scatter",
           "x": [
            0.42770731430612385,
            0.2632211166234796,
            null
           ],
           "y": [
            0.28097318733364607,
            0.4186672377198427,
            null
           ]
          },
          {
           "hoverinfo": "none",
           "line": {
            "color": "rgba(255, 255, 255, 0.0)",
            "dash": "solid",
            "width": 1
           },
           "mode": "lines",
           "type": "scatter",
           "x": [
            0.42770731430612385,
            0.8064662404424623,
            null
           ],
           "y": [
            0.28097318733364607,
            0.4176252748388205,
            null
           ]
          },
          {
           "hoverinfo": "none",
           "line": {
            "color": "rgba(255, 255, 255, 0.0)",
            "dash": "solid",
            "width": 1
           },
           "mode": "lines",
           "type": "scatter",
           "x": [
            0.8976478374822048,
            0.1620041872364254,
            null
           ],
           "y": [
            0.07928176083471472,
            0.4757845613195645,
            null
           ]
          },
          {
           "hoverinfo": "none",
           "line": {
            "color": "rgba(255, 255, 255, 0.0)",
            "dash": "solid",
            "width": 1
           },
           "mode": "lines",
           "type": "scatter",
           "x": [
            0.8976478374822048,
            0.5251917709552311,
            null
           ],
           "y": [
            0.07928176083471472,
            0.5092254370434016,
            null
           ]
          },
          {
           "hoverinfo": "none",
           "line": {
            "color": "rgba(255, 255, 255, 0.0)",
            "dash": "solid",
            "width": 1
           },
           "mode": "lines",
           "type": "scatter",
           "x": [
            0.040852296249109354,
            0.2557423809559065,
            null
           ],
           "y": [
            0.015556645505791722,
            0.9006353590369995,
            null
           ]
          },
          {
           "hoverinfo": "none",
           "line": {
            "color": "rgba(255, 255, 255, 0.0)",
            "dash": "solid",
            "width": 1
           },
           "mode": "lines",
           "type": "scatter",
           "x": [
            0.2632211166234796,
            0.4458198051341652,
            null
           ],
           "y": [
            0.4186672377198427,
            0.06472032037273356,
            null
           ]
          },
          {
           "hoverinfo": "none",
           "line": {
            "color": "rgba(255, 255, 255, 0.0)",
            "dash": "solid",
            "width": 1
           },
           "mode": "lines",
           "type": "scatter",
           "x": [
            0.8928966941182267,
            0.2557423809559065,
            null
           ],
           "y": [
            0.9992849993933854,
            0.9006353590369995,
            null
           ]
          },
          {
           "hoverinfo": "none",
           "line": {
            "color": "rgba(255, 255, 255, 0.0)",
            "dash": "solid",
            "width": 1
           },
           "mode": "lines",
           "type": "scatter",
           "x": [
            0.5818933857339115,
            0.0964941873496099,
            null
           ],
           "y": [
            0.4635414782133458,
            0.06479736535237024,
            null
           ]
          },
          {
           "hoverinfo": "none",
           "line": {
            "color": "rgba(255, 255, 255, 0.0)",
            "dash": "solid",
            "width": 1
           },
           "mode": "lines",
           "type": "scatter",
           "x": [
            0.5818933857339115,
            0.5251917709552311,
            null
           ],
           "y": [
            0.4635414782133458,
            0.5092254370434016,
            null
           ]
          },
          {
           "hoverinfo": "none",
           "line": {
            "color": "rgba(255, 255, 255, 0.0)",
            "dash": "solid",
            "width": 1
           },
           "mode": "lines",
           "type": "scatter",
           "x": [
            0.5818933857339115,
            0.33300329099006487,
            null
           ],
           "y": [
            0.4635414782133458,
            0.8813151598035718,
            null
           ]
          },
          {
           "hoverinfo": "none",
           "line": {
            "color": "rgba(255, 255, 255, 0.0)",
            "dash": "solid",
            "width": 1
           },
           "mode": "lines",
           "type": "scatter",
           "x": [
            0.5818933857339115,
            0.41184537578801217,
            null
           ],
           "y": [
            0.4635414782133458,
            0.15550574970768394,
            null
           ]
          },
          {
           "hoverinfo": "none",
           "line": {
            "color": "rgba(255, 255, 255, 0.0)",
            "dash": "solid",
            "width": 1
           },
           "mode": "lines",
           "type": "scatter",
           "x": [
            0.41184537578801217,
            0.5251917709552311,
            null
           ],
           "y": [
            0.15550574970768394,
            0.5092254370434016,
            null
           ]
          },
          {
           "hoverinfo": "none",
           "line": {
            "color": "rgba(255, 255, 255, 0.0)",
            "dash": "solid",
            "width": 1
           },
           "mode": "lines",
           "type": "scatter",
           "x": [
            0.41184537578801217,
            0.33300329099006487,
            null
           ],
           "y": [
            0.15550574970768394,
            0.8813151598035718,
            null
           ]
          },
          {
           "hoverinfo": "none",
           "line": {
            "color": "rgba(255, 255, 255, 0.0)",
            "dash": "solid",
            "width": 1
           },
           "mode": "lines",
           "type": "scatter",
           "x": [
            0.5251917709552311,
            0.23233795348105157,
            null
           ],
           "y": [
            0.5092254370434016,
            0.7068234704531743,
            null
           ]
          },
          {
           "hoverinfo": "none",
           "line": {
            "color": "rgba(255, 255, 255, 0.0)",
            "dash": "solid",
            "width": 1
           },
           "mode": "lines",
           "type": "scatter",
           "x": [
            0.2557423809559065,
            0.23233795348105157,
            null
           ],
           "y": [
            0.9006353590369995,
            0.7068234704531743,
            null
           ]
          },
          {
           "hoverinfo": "none",
           "line": {
            "color": "rgba(255, 255, 255, 0.0)",
            "dash": "solid",
            "width": 1
           },
           "mode": "lines",
           "type": "scatter",
           "x": [
            0.1620041872364254,
            0.33300329099006487,
            null
           ],
           "y": [
            0.4757845613195645,
            0.8813151598035718,
            null
           ]
          },
          {
           "hoverinfo": "none",
           "line": {
            "color": "rgba(255, 255, 255, 0.0)",
            "dash": "solid",
            "width": 1
           },
           "mode": "lines",
           "type": "scatter",
           "x": [
            0.33300329099006487,
            0.7833382112958032,
            null
           ],
           "y": [
            0.8813151598035718,
            0.6270028197830154,
            null
           ]
          },
          {
           "hoverinfo": "none",
           "marker": {
            "color": "rgba(255, 255, 255, 0.0)",
            "line": {
             "color": "rgba(255, 255, 255, 0.0)",
             "width": 1
            },
            "size": 20,
            "symbol": "circle"
           },
           "mode": "markers+text",
           "text": [
            "('Golden State Warriors',)"
           ],
           "textfont": {
            "color": "rgb(0, 0, 0)"
           },
           "textposition": "middle center",
           "type": "scatter",
           "x": [
            0.2422821711210923
           ],
           "y": [
            0.770245873030432
           ]
          },
          {
           "hoverinfo": "none",
           "marker": {
            "color": "rgba(255, 255, 255, 0.0)",
            "line": {
             "color": "rgba(255, 255, 255, 0.0)",
             "width": 1
            },
            "size": 20,
            "symbol": "circle"
           },
           "mode": "markers+text",
           "text": [
            "('LA Clippers',)"
           ],
           "textfont": {
            "color": "rgb(0, 0, 0)"
           },
           "textposition": "middle center",
           "type": "scatter",
           "x": [
            0.13252208607152327
           ],
           "y": [
            0.5741610838281521
           ]
          },
          {
           "hoverinfo": "none",
           "marker": {
            "color": "rgba(255, 255, 255, 0.0)",
            "line": {
             "color": "rgba(255, 255, 255, 0.0)",
             "width": 1
            },
            "size": 20,
            "symbol": "circle"
           },
           "mode": "markers+text",
           "text": [
            "('Boston Celtics',)"
           ],
           "textfont": {
            "color": "rgb(0, 0, 0)"
           },
           "textposition": "middle center",
           "type": "scatter",
           "x": [
            0.715493075132561
           ],
           "y": [
            0.8604383158653254
           ]
          },
          {
           "hoverinfo": "none",
           "marker": {
            "color": "rgba(255, 255, 255, 0.0)",
            "line": {
             "color": "rgba(255, 255, 255, 0.0)",
             "width": 1
            },
            "size": 20,
            "symbol": "circle"
           },
           "mode": "markers+text",
           "text": [
            "('Chicago Bulls',)"
           ],
           "textfont": {
            "color": "rgb(0, 0, 0)"
           },
           "textposition": "middle center",
           "type": "scatter",
           "x": [
            0.6451267827147388
           ],
           "y": [
            0.420031263248842
           ]
          },
          {
           "hoverinfo": "none",
           "marker": {
            "color": "rgba(255, 255, 255, 0.0)",
            "line": {
             "color": "rgba(255, 255, 255, 0.0)",
             "width": 1
            },
            "size": 20,
            "symbol": "circle"
           },
           "mode": "markers+text",
           "text": [
            "('Houston Rockets',)"
           ],
           "textfont": {
            "color": "rgb(0, 0, 0)"
           },
           "textposition": "middle center",
           "type": "scatter",
           "x": [
            0.03644128620803111
           ],
           "y": [
            0.35175858403501037
           ]
          },
          {
           "hoverinfo": "none",
           "marker": {
            "color": "rgba(255, 255, 255, 0.0)",
            "line": {
             "color": "rgba(255, 255, 255, 0.0)",
             "width": 1
            },
            "size": 20,
            "symbol": "circle"
           },
           "mode": "markers+text",
           "text": [
            "('Cleveland Cavaliers',)"
           ],
           "textfont": {
            "color": "rgb(0, 0, 0)"
           },
           "textposition": "middle center",
           "type": "scatter",
           "x": [
            0.7295274364039469
           ],
           "y": [
            0.6773214880223646
           ]
          },
          {
           "hoverinfo": "none",
           "marker": {
            "color": "rgba(255, 255, 255, 0.0)",
            "line": {
             "color": "rgba(255, 255, 255, 0.0)",
             "width": 1
            },
            "size": 20,
            "symbol": "circle"
           },
           "mode": "markers+text",
           "text": [
            "('Dallas Mavericks',)"
           ],
           "textfont": {
            "color": "rgb(0, 0, 0)"
           },
           "textposition": "middle center",
           "type": "scatter",
           "x": [
            0.839754753501359
           ],
           "y": [
            0.43800342784795454
           ]
          },
          {
           "hoverinfo": "none",
           "marker": {
            "color": "rgba(255, 255, 255, 0.0)",
            "line": {
             "color": "rgba(255, 255, 255, 0.0)",
             "width": 1
            },
            "size": 20,
            "symbol": "circle"
           },
           "mode": "markers+text",
           "text": [
            "('Los Angeles Lakers',)"
           ],
           "textfont": {
            "color": "rgb(0, 0, 0)"
           },
           "textposition": "middle center",
           "type": "scatter",
           "x": [
            0.40881742786550546
           ],
           "y": [
            0.005922178100667197
           ]
          },
          {
           "hoverinfo": "none",
           "marker": {
            "color": "rgba(255, 255, 255, 0.0)",
            "line": {
             "color": "rgba(255, 255, 255, 0.0)",
             "width": 1
            },
            "size": 20,
            "symbol": "circle"
           },
           "mode": "markers+text",
           "text": [
            "('Brooklyn Nets',)"
           ],
           "textfont": {
            "color": "rgb(0, 0, 0)"
           },
           "textposition": "middle center",
           "type": "scatter",
           "x": [
            0.05329305036451948
           ],
           "y": [
            0.2353288097052717
           ]
          },
          {
           "hoverinfo": "none",
           "marker": {
            "color": "rgba(255, 255, 255, 0.0)",
            "line": {
             "color": "rgba(255, 255, 255, 0.0)",
             "width": 1
            },
            "size": 20,
            "symbol": "circle"
           },
           "mode": "markers+text",
           "text": [
            "('Memphis Grizzlies',)"
           ],
           "textfont": {
            "color": "rgb(0, 0, 0)"
           },
           "textposition": "middle center",
           "type": "scatter",
           "x": [
            0.4430261862562974
           ],
           "y": [
            0.6372349120843785
           ]
          },
          {
           "hoverinfo": "none",
           "marker": {
            "color": "rgba(255, 255, 255, 0.0)",
            "line": {
             "color": "rgba(255, 255, 255, 0.0)",
             "width": 1
            },
            "size": 20,
            "symbol": "circle"
           },
           "mode": "markers+text",
           "text": [
            "('Washington Wizards',)"
           ],
           "textfont": {
            "color": "rgb(0, 0, 0)"
           },
           "textposition": "middle center",
           "type": "scatter",
           "x": [
            0.5906358500620068
           ],
           "y": [
            0.91837159701635
           ]
          },
          {
           "hoverinfo": "none",
           "marker": {
            "color": "rgba(255, 255, 255, 0.0)",
            "line": {
             "color": "rgba(255, 255, 255, 0.0)",
             "width": 1
            },
            "size": 20,
            "symbol": "circle"
           },
           "mode": "markers+text",
           "text": [
            "('Oklahoma City Thunder',)"
           ],
           "textfont": {
            "color": "rgb(0, 0, 0)"
           },
           "textposition": "middle center",
           "type": "scatter",
           "x": [
            0.42770731430612385
           ],
           "y": [
            0.28097318733364607
           ]
          },
          {
           "hoverinfo": "none",
           "marker": {
            "color": "rgba(255, 255, 255, 0.0)",
            "line": {
             "color": "rgba(255, 255, 255, 0.0)",
             "width": 1
            },
            "size": 20,
            "symbol": "circle"
           },
           "mode": "markers+text",
           "text": [
            "('Miami Heat',)"
           ],
           "textfont": {
            "color": "rgb(0, 0, 0)"
           },
           "textposition": "middle center",
           "type": "scatter",
           "x": [
            0.3255064458667908
           ],
           "y": [
            0.24582235548362408
           ]
          },
          {
           "hoverinfo": "none",
           "marker": {
            "color": "rgba(255, 255, 255, 0.0)",
            "line": {
             "color": "rgba(255, 255, 255, 0.0)",
             "width": 1
            },
            "size": 20,
            "symbol": "circle"
           },
           "mode": "markers+text",
           "text": [
            "('Minnesota Timberwolves',)"
           ],
           "textfont": {
            "color": "rgb(0, 0, 0)"
           },
           "textposition": "middle center",
           "type": "scatter",
           "x": [
            0.8976478374822048
           ],
           "y": [
            0.07928176083471472
           ]
          },
          {
           "hoverinfo": "none",
           "marker": {
            "color": "rgba(255, 255, 255, 0.0)",
            "line": {
             "color": "rgba(255, 255, 255, 0.0)",
             "width": 1
            },
            "size": 20,
            "symbol": "circle"
           },
           "mode": "markers+text",
           "text": [
            "('Indiana Pacers',)"
           ],
           "textfont": {
            "color": "rgb(0, 0, 0)"
           },
           "textposition": "middle center",
           "type": "scatter",
           "x": [
            0.040852296249109354
           ],
           "y": [
            0.015556645505791722
           ]
          },
          {
           "hoverinfo": "none",
           "marker": {
            "color": "rgba(255, 255, 255, 0.0)",
            "line": {
             "color": "rgba(255, 255, 255, 0.0)",
             "width": 1
            },
            "size": 20,
            "symbol": "circle"
           },
           "mode": "markers+text",
           "text": [
            "('Denver Nuggets',)"
           ],
           "textfont": {
            "color": "rgb(0, 0, 0)"
           },
           "textposition": "middle center",
           "type": "scatter",
           "x": [
            0.25924035686843705
           ],
           "y": [
            0.4914512229221102
           ]
          },
          {
           "hoverinfo": "none",
           "marker": {
            "color": "rgba(255, 255, 255, 0.0)",
            "line": {
             "color": "rgba(255, 255, 255, 0.0)",
             "width": 1
            },
            "size": 20,
            "symbol": "circle"
           },
           "mode": "markers+text",
           "text": [
            "('Charlotte Hornets',)"
           ],
           "textfont": {
            "color": "rgb(0, 0, 0)"
           },
           "textposition": "middle center",
           "type": "scatter",
           "x": [
            0.5941941305043772
           ],
           "y": [
            0.9133530153386847
           ]
          },
          {
           "hoverinfo": "none",
           "marker": {
            "color": "rgba(255, 255, 255, 0.0)",
            "line": {
             "color": "rgba(255, 255, 255, 0.0)",
             "width": 1
            },
            "size": 20,
            "symbol": "circle"
           },
           "mode": "markers+text",
           "text": [
            "('Philadelphia 76ers',)"
           ],
           "textfont": {
            "color": "rgb(0, 0, 0)"
           },
           "textposition": "middle center",
           "type": "scatter",
           "x": [
            0.2632211166234796
           ],
           "y": [
            0.4186672377198427
           ]
          },
          {
           "hoverinfo": "none",
           "marker": {
            "color": "rgba(255, 255, 255, 0.0)",
            "line": {
             "color": "rgba(255, 255, 255, 0.0)",
             "width": 1
            },
            "size": 20,
            "symbol": "circle"
           },
           "mode": "markers+text",
           "text": [
            "('Portland Trail Blazers',)"
           ],
           "textfont": {
            "color": "rgb(0, 0, 0)"
           },
           "textposition": "middle center",
           "type": "scatter",
           "x": [
            0.8928966941182267
           ],
           "y": [
            0.9992849993933854
           ]
          },
          {
           "hoverinfo": "none",
           "marker": {
            "color": "rgba(255, 255, 255, 0.0)",
            "line": {
             "color": "rgba(255, 255, 255, 0.0)",
             "width": 1
            },
            "size": 20,
            "symbol": "circle"
           },
           "mode": "markers+text",
           "text": [
            "('Milwaukee Bucks',)"
           ],
           "textfont": {
            "color": "rgb(0, 0, 0)"
           },
           "textposition": "middle center",
           "type": "scatter",
           "x": [
            0.5818933857339115
           ],
           "y": [
            0.4635414782133458
           ]
          },
          {
           "hoverinfo": "none",
           "marker": {
            "color": "rgba(255, 255, 255, 0.0)",
            "line": {
             "color": "rgba(255, 255, 255, 0.0)",
             "width": 1
            },
            "size": 20,
            "symbol": "circle"
           },
           "mode": "markers+text",
           "text": [
            "('New Orleans Pelicans',)"
           ],
           "textfont": {
            "color": "rgb(0, 0, 0)"
           },
           "textposition": "middle center",
           "type": "scatter",
           "x": [
            0.8064662404424623
           ],
           "y": [
            0.4176252748388205
           ]
          },
          {
           "hoverinfo": "none",
           "marker": {
            "color": "rgba(255, 255, 255, 0.0)",
            "line": {
             "color": "rgba(255, 255, 255, 0.0)",
             "width": 1
            },
            "size": 20,
            "symbol": "circle"
           },
           "mode": "markers+text",
           "text": [
            "('Toronto Raptors',)"
           ],
           "textfont": {
            "color": "rgb(0, 0, 0)"
           },
           "textposition": "middle center",
           "type": "scatter",
           "x": [
            0.41184537578801217
           ],
           "y": [
            0.15550574970768394
           ]
          },
          {
           "hoverinfo": "none",
           "marker": {
            "color": "rgba(255, 255, 255, 0.0)",
            "line": {
             "color": "rgba(255, 255, 255, 0.0)",
             "width": 1
            },
            "size": 20,
            "symbol": "circle"
           },
           "mode": "markers+text",
           "text": [
            "('Phoenix Suns',)"
           ],
           "textfont": {
            "color": "rgb(0, 0, 0)"
           },
           "textposition": "middle center",
           "type": "scatter",
           "x": [
            0.5251917709552311
           ],
           "y": [
            0.5092254370434016
           ]
          },
          {
           "hoverinfo": "none",
           "marker": {
            "color": "rgba(255, 255, 255, 0.0)",
            "line": {
             "color": "rgba(255, 255, 255, 0.0)",
             "width": 1
            },
            "size": 20,
            "symbol": "circle"
           },
           "mode": "markers+text",
           "text": [
            "('New York Knicks',)"
           ],
           "textfont": {
            "color": "rgb(0, 0, 0)"
           },
           "textposition": "middle center",
           "type": "scatter",
           "x": [
            0.2557423809559065
           ],
           "y": [
            0.9006353590369995
           ]
          },
          {
           "hoverinfo": "none",
           "marker": {
            "color": "rgba(255, 255, 255, 0.0)",
            "line": {
             "color": "rgba(255, 255, 255, 0.0)",
             "width": 1
            },
            "size": 20,
            "symbol": "circle"
           },
           "mode": "markers+text",
           "text": [
            "('Detroit Pistons',)"
           ],
           "textfont": {
            "color": "rgb(0, 0, 0)"
           },
           "textposition": "middle center",
           "type": "scatter",
           "x": [
            0.23233795348105157
           ],
           "y": [
            0.7068234704531743
           ]
          },
          {
           "hoverinfo": "none",
           "marker": {
            "color": "rgba(255, 255, 255, 0.0)",
            "line": {
             "color": "rgba(255, 255, 255, 0.0)",
             "width": 1
            },
            "size": 20,
            "symbol": "circle"
           },
           "mode": "markers+text",
           "text": [
            "('Utah Jazz',)"
           ],
           "textfont": {
            "color": "rgb(0, 0, 0)"
           },
           "textposition": "middle center",
           "type": "scatter",
           "x": [
            0.4458198051341652
           ],
           "y": [
            0.06472032037273356
           ]
          },
          {
           "hoverinfo": "none",
           "marker": {
            "color": "rgba(255, 255, 255, 0.0)",
            "line": {
             "color": "rgba(255, 255, 255, 0.0)",
             "width": 1
            },
            "size": 20,
            "symbol": "circle"
           },
           "mode": "markers+text",
           "text": [
            "('Sacramento Kings',)"
           ],
           "textfont": {
            "color": "rgb(0, 0, 0)"
           },
           "textposition": "middle center",
           "type": "scatter",
           "x": [
            0.1620041872364254
           ],
           "y": [
            0.4757845613195645
           ]
          },
          {
           "hoverinfo": "none",
           "marker": {
            "color": "rgba(255, 255, 255, 0.0)",
            "line": {
             "color": "rgba(255, 255, 255, 0.0)",
             "width": 1
            },
            "size": 20,
            "symbol": "circle"
           },
           "mode": "markers+text",
           "text": [
            "('Atlanta Hawks',)"
           ],
           "textfont": {
            "color": "rgb(0, 0, 0)"
           },
           "textposition": "middle center",
           "type": "scatter",
           "x": [
            0.33300329099006487
           ],
           "y": [
            0.8813151598035718
           ]
          },
          {
           "hoverinfo": "none",
           "marker": {
            "color": "rgba(255, 255, 255, 0.0)",
            "line": {
             "color": "rgba(255, 255, 255, 0.0)",
             "width": 1
            },
            "size": 20,
            "symbol": "circle"
           },
           "mode": "markers+text",
           "text": [
            "('Orlando Magic',)"
           ],
           "textfont": {
            "color": "rgb(0, 0, 0)"
           },
           "textposition": "middle center",
           "type": "scatter",
           "x": [
            0.7833382112958032
           ],
           "y": [
            0.6270028197830154
           ]
          },
          {
           "hoverinfo": "none",
           "marker": {
            "color": "rgba(255, 255, 255, 0.0)",
            "line": {
             "color": "rgba(255, 255, 255, 0.0)",
             "width": 1
            },
            "size": 20,
            "symbol": "circle"
           },
           "mode": "markers+text",
           "text": [
            "('San Antonio Spurs',)"
           ],
           "textfont": {
            "color": "rgb(0, 0, 0)"
           },
           "textposition": "middle center",
           "type": "scatter",
           "x": [
            0.0964941873496099
           ],
           "y": [
            0.06479736535237024
           ]
          },
          {
           "hoverinfo": "none",
           "mode": "text",
           "text": [
            null,
            null,
            null,
            null,
            null,
            null,
            null,
            null,
            null,
            null,
            null,
            null,
            null,
            null,
            null,
            null,
            null,
            null,
            null,
            null,
            null,
            null,
            null,
            null,
            null,
            null,
            null,
            null,
            null,
            null,
            null,
            null,
            null,
            null,
            null,
            null,
            null,
            null,
            null,
            null,
            null,
            null,
            null,
            null,
            null,
            null
           ],
           "textfont": {
            "color": "rgb(0, 0, 0)"
           },
           "textposition": "middle center",
           "type": "scatter",
           "x": [
            0.2150042809237758,
            0.29769393718657233,
            0.15004903896305696,
            0.28697777978056327,
            0.2814118948775985,
            0.6750027234495011,
            0.5797417981923244,
            0.7051238064097648,
            0.1837999633052978,
            0.09238890575788385,
            0.3065214564062382,
            0.2345790117815549,
            0.05875765306800043,
            0.27832103234525063,
            0.17467900357453248,
            0.5802930486153103,
            0.391878713238047,
            0.6501855358811746,
            0.6807059931695598,
            0.45376904241279054,
            0.41162386849588406,
            0.4862254808920491,
            0.6520562609791875,
            0.23430733798168032,
            0.3406193148469759,
            0.3568558898719227,
            0.3769233285820922,
            0.42360548498937023,
            0.7396830697427031,
            0.33947870839910527,
            0.6143028959440429,
            0.5257600842593856,
            0.7037446545656659,
            0.1351633875931838,
            0.36497662088906485,
            0.5755329350051561,
            0.34508642688037583,
            0.5477445841392407,
            0.44772705038036337,
            0.5069861236102055,
            0.4561189792397209,
            0.358331306915336,
            0.3737867145249749,
            0.2580706519333667,
            0.23612129460100653,
            0.5624142041354553
           ],
           "y": [
            0.6113144344070937,
            0.5153422026035948,
            0.5434599373428665,
            0.4506259060505401,
            0.3074718100442812,
            0.5621677547893806,
            0.4403188946747176,
            0.543815252773901,
            0.32452444482996706,
            0.43685931376504566,
            0.6579686317817723,
            0.5189961298787624,
            0.3002528429448945,
            0.456339805506948,
            0.635306145277534,
            0.39689650142139643,
            0.3232100675376299,
            0.7788181749653509,
            0.4475670195348672,
            0.2677864529185791,
            0.3241639866001344,
            0.47112466087709565,
            0.06876056704076035,
            0.2214712360805464,
            0.7481380433350058,
            0.5402680620438972,
            0.7425908230508478,
            0.8832677821885746,
            0.9847976680481498,
            0.32595948058104324,
            0.3750485572308378,
            0.25235932186530624,
            0.2720655626753617,
            0.4687373932740121,
            0.25969492976649716,
            0.9238072262142462,
            0.24023167696483447,
            0.4623687114645336,
            0.6531015670754388,
            0.29088645539126057,
            0.3456250118635124,
            0.5133017794514732,
            0.5834035167547105,
            0.7980753755981401,
            0.6945666060780205,
            0.7792348658286423
           ]
          },
          {
           "hoverinfo": "none",
           "marker": {
            "color": "rgba(255, 255, 255, 0.0)",
            "line": {
             "color": "rgba(255, 255, 255, 0.0)",
             "width": 0
            },
            "size": 0,
            "symbol": "circle"
           },
           "mode": "markers",
           "type": "scatter",
           "x": [
            0.5,
            0,
            1,
            0.5
           ],
           "y": [
            0,
            0.5,
            0.5,
            1
           ]
          }
         ],
         "name": "0"
        },
        {
         "data": [
          {
           "hoverinfo": "none",
           "line": {
            "color": "rgb(0, 0, 0)",
            "dash": "solid",
            "width": 1
           },
           "mode": "lines",
           "type": "scatter",
           "x": [
            0.2422821711210923,
            0.1620041872364254,
            null
           ],
           "y": [
            0.770245873030432,
            0.4757845613195645,
            null
           ]
          },
          {
           "hoverinfo": "none",
           "line": {
            "color": "rgb(0, 0, 0)",
            "dash": "solid",
            "width": 1
           },
           "mode": "lines",
           "type": "scatter",
           "x": [
            0.2422821711210923,
            0.3255064458667908,
            null
           ],
           "y": [
            0.770245873030432,
            0.24582235548362408,
            null
           ]
          },
          {
           "hoverinfo": "none",
           "line": {
            "color": "rgb(0, 0, 0)",
            "dash": "solid",
            "width": 1
           },
           "mode": "lines",
           "type": "scatter",
           "x": [
            0.2422821711210923,
            0.03644128620803111,
            null
           ],
           "y": [
            0.770245873030432,
            0.35175858403501037,
            null
           ]
          },
          {
           "hoverinfo": "none",
           "line": {
            "color": "rgb(0, 0, 0)",
            "dash": "solid",
            "width": 1
           },
           "mode": "lines",
           "type": "scatter",
           "x": [
            0.13252208607152327,
            0.42770731430612385,
            null
           ],
           "y": [
            0.5741610838281521,
            0.28097318733364607,
            null
           ]
          },
          {
           "hoverinfo": "none",
           "line": {
            "color": "rgb(0, 0, 0)",
            "dash": "solid",
            "width": 1
           },
           "mode": "lines",
           "type": "scatter",
           "x": [
            0.13252208607152327,
            0.40881742786550546,
            null
           ],
           "y": [
            0.5741610838281521,
            0.005922178100667197,
            null
           ]
          },
          {
           "hoverinfo": "none",
           "line": {
            "color": "rgb(0, 0, 0)",
            "dash": "solid",
            "width": 1
           },
           "mode": "lines",
           "type": "scatter",
           "x": [
            0.6451267827147388,
            0.7295274364039469,
            null
           ],
           "y": [
            0.420031263248842,
            0.6773214880223646,
            null
           ]
          },
          {
           "hoverinfo": "none",
           "line": {
            "color": "rgb(0, 0, 0)",
            "dash": "solid",
            "width": 1
           },
           "mode": "lines",
           "type": "scatter",
           "x": [
            0.6451267827147388,
            0.5251917709552311,
            null
           ],
           "y": [
            0.420031263248842,
            0.5092254370434016,
            null
           ]
          },
          {
           "hoverinfo": "none",
           "line": {
            "color": "rgb(0, 0, 0)",
            "dash": "solid",
            "width": 1
           },
           "mode": "lines",
           "type": "scatter",
           "x": [
            0.6451267827147388,
            0.7833382112958032,
            null
           ],
           "y": [
            0.420031263248842,
            0.6270028197830154,
            null
           ]
          },
          {
           "hoverinfo": "none",
           "line": {
            "color": "rgb(0, 0, 0)",
            "dash": "solid",
            "width": 1
           },
           "mode": "lines",
           "type": "scatter",
           "x": [
            0.03644128620803111,
            0.3255064458667908,
            null
           ],
           "y": [
            0.35175858403501037,
            0.24582235548362408,
            null
           ]
          },
          {
           "hoverinfo": "none",
           "line": {
            "color": "rgb(0, 0, 0)",
            "dash": "solid",
            "width": 1
           },
           "mode": "lines",
           "type": "scatter",
           "x": [
            0.03644128620803111,
            0.1620041872364254,
            null
           ],
           "y": [
            0.35175858403501037,
            0.4757845613195645,
            null
           ]
          },
          {
           "hoverinfo": "none",
           "line": {
            "color": "rgb(0, 0, 0)",
            "dash": "solid",
            "width": 1
           },
           "mode": "lines",
           "type": "scatter",
           "x": [
            0.03644128620803111,
            0.5906358500620068,
            null
           ],
           "y": [
            0.35175858403501037,
            0.91837159701635,
            null
           ]
          },
          {
           "hoverinfo": "none",
           "line": {
            "color": "rgb(0, 0, 0)",
            "dash": "solid",
            "width": 1
           },
           "mode": "lines",
           "type": "scatter",
           "x": [
            0.03644128620803111,
            0.4430261862562974,
            null
           ],
           "y": [
            0.35175858403501037,
            0.6372349120843785,
            null
           ]
          },
          {
           "hoverinfo": "none",
           "line": {
            "color": "rgb(0, 0, 0)",
            "dash": "solid",
            "width": 1
           },
           "mode": "lines",
           "type": "scatter",
           "x": [
            0.03644128620803111,
            0.05329305036451948,
            null
           ],
           "y": [
            0.35175858403501037,
            0.2353288097052717,
            null
           ]
          },
          {
           "hoverinfo": "none",
           "line": {
            "color": "rgb(0, 0, 0)",
            "dash": "solid",
            "width": 1
           },
           "mode": "lines",
           "type": "scatter",
           "x": [
            0.03644128620803111,
            0.5251917709552311,
            null
           ],
           "y": [
            0.35175858403501037,
            0.5092254370434016,
            null
           ]
          },
          {
           "hoverinfo": "none",
           "line": {
            "color": "rgb(0, 0, 0)",
            "dash": "solid",
            "width": 1
           },
           "mode": "lines",
           "type": "scatter",
           "x": [
            0.03644128620803111,
            0.33300329099006487,
            null
           ],
           "y": [
            0.35175858403501037,
            0.8813151598035718,
            null
           ]
          },
          {
           "hoverinfo": "none",
           "line": {
            "color": "rgb(0, 0, 0)",
            "dash": "solid",
            "width": 1
           },
           "mode": "lines",
           "type": "scatter",
           "x": [
            0.7295274364039469,
            0.41184537578801217,
            null
           ],
           "y": [
            0.6773214880223646,
            0.15550574970768394,
            null
           ]
          },
          {
           "hoverinfo": "none",
           "line": {
            "color": "rgb(0, 0, 0)",
            "dash": "solid",
            "width": 1
           },
           "mode": "lines",
           "type": "scatter",
           "x": [
            0.7295274364039469,
            0.040852296249109354,
            null
           ],
           "y": [
            0.6773214880223646,
            0.015556645505791722,
            null
           ]
          },
          {
           "hoverinfo": "none",
           "line": {
            "color": "rgb(0, 0, 0)",
            "dash": "solid",
            "width": 1
           },
           "mode": "lines",
           "type": "scatter",
           "x": [
            0.7295274364039469,
            0.5906358500620068,
            null
           ],
           "y": [
            0.6773214880223646,
            0.91837159701635,
            null
           ]
          },
          {
           "hoverinfo": "none",
           "line": {
            "color": "rgb(0, 0, 0)",
            "dash": "solid",
            "width": 1
           },
           "mode": "lines",
           "type": "scatter",
           "x": [
            0.839754753501359,
            0.5251917709552311,
            null
           ],
           "y": [
            0.43800342784795454,
            0.5092254370434016,
            null
           ]
          },
          {
           "hoverinfo": "none",
           "line": {
            "color": "rgb(0, 0, 0)",
            "dash": "solid",
            "width": 1
           },
           "mode": "lines",
           "type": "scatter",
           "x": [
            0.40881742786550546,
            0.5251917709552311,
            null
           ],
           "y": [
            0.005922178100667197,
            0.5092254370434016,
            null
           ]
          },
          {
           "hoverinfo": "none",
           "line": {
            "color": "rgb(0, 0, 0)",
            "dash": "solid",
            "width": 1
           },
           "mode": "lines",
           "type": "scatter",
           "x": [
            0.40881742786550546,
            0.4430261862562974,
            null
           ],
           "y": [
            0.005922178100667197,
            0.6372349120843785,
            null
           ]
          },
          {
           "hoverinfo": "none",
           "line": {
            "color": "rgb(0, 0, 0)",
            "dash": "solid",
            "width": 1
           },
           "mode": "lines",
           "type": "scatter",
           "x": [
            0.40881742786550546,
            0.5906358500620068,
            null
           ],
           "y": [
            0.005922178100667197,
            0.91837159701635,
            null
           ]
          },
          {
           "hoverinfo": "none",
           "line": {
            "color": "rgb(0, 0, 0)",
            "dash": "solid",
            "width": 1
           },
           "mode": "lines",
           "type": "scatter",
           "x": [
            0.40881742786550546,
            0.8976478374822048,
            null
           ],
           "y": [
            0.005922178100667197,
            0.07928176083471472,
            null
           ]
          },
          {
           "hoverinfo": "none",
           "line": {
            "color": "rgb(0, 0, 0)",
            "dash": "solid",
            "width": 1
           },
           "mode": "lines",
           "type": "scatter",
           "x": [
            0.05329305036451948,
            0.41184537578801217,
            null
           ],
           "y": [
            0.2353288097052717,
            0.15550574970768394,
            null
           ]
          },
          {
           "hoverinfo": "none",
           "line": {
            "color": "rgb(0, 0, 0)",
            "dash": "solid",
            "width": 1
           },
           "mode": "lines",
           "type": "scatter",
           "x": [
            0.4430261862562974,
            0.2557423809559065,
            null
           ],
           "y": [
            0.6372349120843785,
            0.9006353590369995,
            null
           ]
          },
          {
           "hoverinfo": "none",
           "line": {
            "color": "rgb(0, 0, 0)",
            "dash": "solid",
            "width": 1
           },
           "mode": "lines",
           "type": "scatter",
           "x": [
            0.4430261862562974,
            0.25924035686843705,
            null
           ],
           "y": [
            0.6372349120843785,
            0.4914512229221102,
            null
           ]
          },
          {
           "hoverinfo": "none",
           "line": {
            "color": "rgb(0, 0, 0)",
            "dash": "solid",
            "width": 1
           },
           "mode": "lines",
           "type": "scatter",
           "x": [
            0.4430261862562974,
            0.33300329099006487,
            null
           ],
           "y": [
            0.6372349120843785,
            0.8813151598035718,
            null
           ]
          },
          {
           "hoverinfo": "none",
           "line": {
            "color": "rgb(0, 0, 0)",
            "dash": "solid",
            "width": 1
           },
           "mode": "lines",
           "type": "scatter",
           "x": [
            0.5906358500620068,
            0.2557423809559065,
            null
           ],
           "y": [
            0.91837159701635,
            0.9006353590369995,
            null
           ]
          },
          {
           "hoverinfo": "none",
           "line": {
            "color": "rgb(0, 0, 0)",
            "dash": "solid",
            "width": 1
           },
           "mode": "lines",
           "type": "scatter",
           "x": [
            0.5906358500620068,
            0.8928966941182267,
            null
           ],
           "y": [
            0.91837159701635,
            0.9992849993933854,
            null
           ]
          },
          {
           "hoverinfo": "none",
           "line": {
            "color": "rgb(0, 0, 0)",
            "dash": "solid",
            "width": 1
           },
           "mode": "lines",
           "type": "scatter",
           "x": [
            0.42770731430612385,
            0.2632211166234796,
            null
           ],
           "y": [
            0.28097318733364607,
            0.4186672377198427,
            null
           ]
          },
          {
           "hoverinfo": "none",
           "line": {
            "color": "rgb(0, 0, 0)",
            "dash": "solid",
            "width": 1
           },
           "mode": "lines",
           "type": "scatter",
           "x": [
            0.42770731430612385,
            0.8064662404424623,
            null
           ],
           "y": [
            0.28097318733364607,
            0.4176252748388205,
            null
           ]
          },
          {
           "hoverinfo": "none",
           "line": {
            "color": "rgb(0, 0, 0)",
            "dash": "solid",
            "width": 1
           },
           "mode": "lines",
           "type": "scatter",
           "x": [
            0.8976478374822048,
            0.1620041872364254,
            null
           ],
           "y": [
            0.07928176083471472,
            0.4757845613195645,
            null
           ]
          },
          {
           "hoverinfo": "none",
           "line": {
            "color": "rgb(0, 0, 0)",
            "dash": "solid",
            "width": 1
           },
           "mode": "lines",
           "type": "scatter",
           "x": [
            0.8976478374822048,
            0.5251917709552311,
            null
           ],
           "y": [
            0.07928176083471472,
            0.5092254370434016,
            null
           ]
          },
          {
           "hoverinfo": "none",
           "line": {
            "color": "rgb(0, 0, 0)",
            "dash": "solid",
            "width": 1
           },
           "mode": "lines",
           "type": "scatter",
           "x": [
            0.040852296249109354,
            0.2557423809559065,
            null
           ],
           "y": [
            0.015556645505791722,
            0.9006353590369995,
            null
           ]
          },
          {
           "hoverinfo": "none",
           "line": {
            "color": "rgb(0, 0, 0)",
            "dash": "solid",
            "width": 1
           },
           "mode": "lines",
           "type": "scatter",
           "x": [
            0.2632211166234796,
            0.4458198051341652,
            null
           ],
           "y": [
            0.4186672377198427,
            0.06472032037273356,
            null
           ]
          },
          {
           "hoverinfo": "none",
           "line": {
            "color": "rgb(0, 0, 0)",
            "dash": "solid",
            "width": 1
           },
           "mode": "lines",
           "type": "scatter",
           "x": [
            0.8928966941182267,
            0.2557423809559065,
            null
           ],
           "y": [
            0.9992849993933854,
            0.9006353590369995,
            null
           ]
          },
          {
           "hoverinfo": "none",
           "line": {
            "color": "rgb(0, 0, 0)",
            "dash": "solid",
            "width": 1
           },
           "mode": "lines",
           "type": "scatter",
           "x": [
            0.5818933857339115,
            0.0964941873496099,
            null
           ],
           "y": [
            0.4635414782133458,
            0.06479736535237024,
            null
           ]
          },
          {
           "hoverinfo": "none",
           "line": {
            "color": "rgb(0, 0, 0)",
            "dash": "solid",
            "width": 1
           },
           "mode": "lines",
           "type": "scatter",
           "x": [
            0.5818933857339115,
            0.5251917709552311,
            null
           ],
           "y": [
            0.4635414782133458,
            0.5092254370434016,
            null
           ]
          },
          {
           "hoverinfo": "none",
           "line": {
            "color": "rgb(0, 0, 0)",
            "dash": "solid",
            "width": 1
           },
           "mode": "lines",
           "type": "scatter",
           "x": [
            0.5818933857339115,
            0.33300329099006487,
            null
           ],
           "y": [
            0.4635414782133458,
            0.8813151598035718,
            null
           ]
          },
          {
           "hoverinfo": "none",
           "line": {
            "color": "rgb(0, 0, 0)",
            "dash": "solid",
            "width": 1
           },
           "mode": "lines",
           "type": "scatter",
           "x": [
            0.5818933857339115,
            0.41184537578801217,
            null
           ],
           "y": [
            0.4635414782133458,
            0.15550574970768394,
            null
           ]
          },
          {
           "hoverinfo": "none",
           "line": {
            "color": "rgb(0, 0, 0)",
            "dash": "solid",
            "width": 1
           },
           "mode": "lines",
           "type": "scatter",
           "x": [
            0.41184537578801217,
            0.5251917709552311,
            null
           ],
           "y": [
            0.15550574970768394,
            0.5092254370434016,
            null
           ]
          },
          {
           "hoverinfo": "none",
           "line": {
            "color": "rgb(0, 0, 0)",
            "dash": "solid",
            "width": 1
           },
           "mode": "lines",
           "type": "scatter",
           "x": [
            0.41184537578801217,
            0.33300329099006487,
            null
           ],
           "y": [
            0.15550574970768394,
            0.8813151598035718,
            null
           ]
          },
          {
           "hoverinfo": "none",
           "line": {
            "color": "rgb(0, 0, 0)",
            "dash": "solid",
            "width": 1
           },
           "mode": "lines",
           "type": "scatter",
           "x": [
            0.5251917709552311,
            0.23233795348105157,
            null
           ],
           "y": [
            0.5092254370434016,
            0.7068234704531743,
            null
           ]
          },
          {
           "hoverinfo": "none",
           "line": {
            "color": "rgb(0, 0, 0)",
            "dash": "solid",
            "width": 1
           },
           "mode": "lines",
           "type": "scatter",
           "x": [
            0.2557423809559065,
            0.23233795348105157,
            null
           ],
           "y": [
            0.9006353590369995,
            0.7068234704531743,
            null
           ]
          },
          {
           "hoverinfo": "none",
           "line": {
            "color": "rgb(0, 0, 0)",
            "dash": "solid",
            "width": 1
           },
           "mode": "lines",
           "type": "scatter",
           "x": [
            0.1620041872364254,
            0.33300329099006487,
            null
           ],
           "y": [
            0.4757845613195645,
            0.8813151598035718,
            null
           ]
          },
          {
           "hoverinfo": "none",
           "line": {
            "color": "rgb(0, 0, 0)",
            "dash": "solid",
            "width": 1
           },
           "mode": "lines",
           "type": "scatter",
           "x": [
            0.33300329099006487,
            0.7833382112958032,
            null
           ],
           "y": [
            0.8813151598035718,
            0.6270028197830154,
            null
           ]
          },
          {
           "hoverinfo": "none",
           "marker": {
            "color": "rgb(255, 0, 0)",
            "line": {
             "color": "rgb(0, 0, 0)",
             "width": 1
            },
            "size": 20,
            "symbol": "circle"
           },
           "mode": "markers+text",
           "text": [
            "('Golden State Warriors',)"
           ],
           "textfont": {
            "color": "rgb(0, 0, 0)"
           },
           "textposition": "middle center",
           "type": "scatter",
           "x": [
            0.2422821711210923
           ],
           "y": [
            0.770245873030432
           ]
          },
          {
           "hoverinfo": "none",
           "marker": {
            "color": "rgb(255, 0, 0)",
            "line": {
             "color": "rgb(0, 0, 0)",
             "width": 1
            },
            "size": 20,
            "symbol": "circle"
           },
           "mode": "markers+text",
           "text": [
            "('LA Clippers',)"
           ],
           "textfont": {
            "color": "rgb(0, 0, 0)"
           },
           "textposition": "middle center",
           "type": "scatter",
           "x": [
            0.13252208607152327
           ],
           "y": [
            0.5741610838281521
           ]
          },
          {
           "hoverinfo": "none",
           "marker": {
            "color": "rgb(255, 0, 0)",
            "line": {
             "color": "rgb(0, 0, 0)",
             "width": 1
            },
            "size": 20,
            "symbol": "circle"
           },
           "mode": "markers+text",
           "text": [
            "('Boston Celtics',)"
           ],
           "textfont": {
            "color": "rgb(0, 0, 0)"
           },
           "textposition": "middle center",
           "type": "scatter",
           "x": [
            0.715493075132561
           ],
           "y": [
            0.8604383158653254
           ]
          },
          {
           "hoverinfo": "none",
           "marker": {
            "color": "rgb(255, 0, 0)",
            "line": {
             "color": "rgb(0, 0, 0)",
             "width": 1
            },
            "size": 20,
            "symbol": "circle"
           },
           "mode": "markers+text",
           "text": [
            "('Chicago Bulls',)"
           ],
           "textfont": {
            "color": "rgb(0, 0, 0)"
           },
           "textposition": "middle center",
           "type": "scatter",
           "x": [
            0.6451267827147388
           ],
           "y": [
            0.420031263248842
           ]
          },
          {
           "hoverinfo": "none",
           "marker": {
            "color": "rgb(255, 0, 0)",
            "line": {
             "color": "rgb(0, 0, 0)",
             "width": 1
            },
            "size": 20,
            "symbol": "circle"
           },
           "mode": "markers+text",
           "text": [
            "('Houston Rockets',)"
           ],
           "textfont": {
            "color": "rgb(0, 0, 0)"
           },
           "textposition": "middle center",
           "type": "scatter",
           "x": [
            0.03644128620803111
           ],
           "y": [
            0.35175858403501037
           ]
          },
          {
           "hoverinfo": "none",
           "marker": {
            "color": "rgb(255, 0, 0)",
            "line": {
             "color": "rgb(0, 0, 0)",
             "width": 1
            },
            "size": 20,
            "symbol": "circle"
           },
           "mode": "markers+text",
           "text": [
            "('Cleveland Cavaliers',)"
           ],
           "textfont": {
            "color": "rgb(0, 0, 0)"
           },
           "textposition": "middle center",
           "type": "scatter",
           "x": [
            0.7295274364039469
           ],
           "y": [
            0.6773214880223646
           ]
          },
          {
           "hoverinfo": "none",
           "marker": {
            "color": "rgb(255, 0, 0)",
            "line": {
             "color": "rgb(0, 0, 0)",
             "width": 1
            },
            "size": 20,
            "symbol": "circle"
           },
           "mode": "markers+text",
           "text": [
            "('Dallas Mavericks',)"
           ],
           "textfont": {
            "color": "rgb(0, 0, 0)"
           },
           "textposition": "middle center",
           "type": "scatter",
           "x": [
            0.839754753501359
           ],
           "y": [
            0.43800342784795454
           ]
          },
          {
           "hoverinfo": "none",
           "marker": {
            "color": "rgb(255, 0, 0)",
            "line": {
             "color": "rgb(0, 0, 0)",
             "width": 1
            },
            "size": 20,
            "symbol": "circle"
           },
           "mode": "markers+text",
           "text": [
            "('Los Angeles Lakers',)"
           ],
           "textfont": {
            "color": "rgb(0, 0, 0)"
           },
           "textposition": "middle center",
           "type": "scatter",
           "x": [
            0.40881742786550546
           ],
           "y": [
            0.005922178100667197
           ]
          },
          {
           "hoverinfo": "none",
           "marker": {
            "color": "rgb(255, 0, 0)",
            "line": {
             "color": "rgb(0, 0, 0)",
             "width": 1
            },
            "size": 20,
            "symbol": "circle"
           },
           "mode": "markers+text",
           "text": [
            "('Brooklyn Nets',)"
           ],
           "textfont": {
            "color": "rgb(0, 0, 0)"
           },
           "textposition": "middle center",
           "type": "scatter",
           "x": [
            0.05329305036451948
           ],
           "y": [
            0.2353288097052717
           ]
          },
          {
           "hoverinfo": "none",
           "marker": {
            "color": "rgb(255, 0, 0)",
            "line": {
             "color": "rgb(0, 0, 0)",
             "width": 1
            },
            "size": 20,
            "symbol": "circle"
           },
           "mode": "markers+text",
           "text": [
            "('Memphis Grizzlies',)"
           ],
           "textfont": {
            "color": "rgb(0, 0, 0)"
           },
           "textposition": "middle center",
           "type": "scatter",
           "x": [
            0.4430261862562974
           ],
           "y": [
            0.6372349120843785
           ]
          },
          {
           "hoverinfo": "none",
           "marker": {
            "color": "rgb(255, 0, 0)",
            "line": {
             "color": "rgb(0, 0, 0)",
             "width": 1
            },
            "size": 20,
            "symbol": "circle"
           },
           "mode": "markers+text",
           "text": [
            "('Washington Wizards',)"
           ],
           "textfont": {
            "color": "rgb(0, 0, 0)"
           },
           "textposition": "middle center",
           "type": "scatter",
           "x": [
            0.5906358500620068
           ],
           "y": [
            0.91837159701635
           ]
          },
          {
           "hoverinfo": "none",
           "marker": {
            "color": "rgb(255, 0, 0)",
            "line": {
             "color": "rgb(0, 0, 0)",
             "width": 1
            },
            "size": 20,
            "symbol": "circle"
           },
           "mode": "markers+text",
           "text": [
            "('Oklahoma City Thunder',)"
           ],
           "textfont": {
            "color": "rgb(0, 0, 0)"
           },
           "textposition": "middle center",
           "type": "scatter",
           "x": [
            0.42770731430612385
           ],
           "y": [
            0.28097318733364607
           ]
          },
          {
           "hoverinfo": "none",
           "marker": {
            "color": "rgb(255, 0, 0)",
            "line": {
             "color": "rgb(0, 0, 0)",
             "width": 1
            },
            "size": 20,
            "symbol": "circle"
           },
           "mode": "markers+text",
           "text": [
            "('Miami Heat',)"
           ],
           "textfont": {
            "color": "rgb(0, 0, 0)"
           },
           "textposition": "middle center",
           "type": "scatter",
           "x": [
            0.3255064458667908
           ],
           "y": [
            0.24582235548362408
           ]
          },
          {
           "hoverinfo": "none",
           "marker": {
            "color": "rgb(255, 0, 0)",
            "line": {
             "color": "rgb(0, 0, 0)",
             "width": 1
            },
            "size": 20,
            "symbol": "circle"
           },
           "mode": "markers+text",
           "text": [
            "('Minnesota Timberwolves',)"
           ],
           "textfont": {
            "color": "rgb(0, 0, 0)"
           },
           "textposition": "middle center",
           "type": "scatter",
           "x": [
            0.8976478374822048
           ],
           "y": [
            0.07928176083471472
           ]
          },
          {
           "hoverinfo": "none",
           "marker": {
            "color": "rgb(255, 0, 0)",
            "line": {
             "color": "rgb(0, 0, 0)",
             "width": 1
            },
            "size": 20,
            "symbol": "circle"
           },
           "mode": "markers+text",
           "text": [
            "('Indiana Pacers',)"
           ],
           "textfont": {
            "color": "rgb(0, 0, 0)"
           },
           "textposition": "middle center",
           "type": "scatter",
           "x": [
            0.040852296249109354
           ],
           "y": [
            0.015556645505791722
           ]
          },
          {
           "hoverinfo": "none",
           "marker": {
            "color": "rgb(255, 0, 0)",
            "line": {
             "color": "rgb(0, 0, 0)",
             "width": 1
            },
            "size": 20,
            "symbol": "circle"
           },
           "mode": "markers+text",
           "text": [
            "('Denver Nuggets',)"
           ],
           "textfont": {
            "color": "rgb(0, 0, 0)"
           },
           "textposition": "middle center",
           "type": "scatter",
           "x": [
            0.25924035686843705
           ],
           "y": [
            0.4914512229221102
           ]
          },
          {
           "hoverinfo": "none",
           "marker": {
            "color": "rgb(255, 0, 0)",
            "line": {
             "color": "rgb(0, 0, 0)",
             "width": 1
            },
            "size": 20,
            "symbol": "circle"
           },
           "mode": "markers+text",
           "text": [
            "('Charlotte Hornets',)"
           ],
           "textfont": {
            "color": "rgb(0, 0, 0)"
           },
           "textposition": "middle center",
           "type": "scatter",
           "x": [
            0.5941941305043772
           ],
           "y": [
            0.9133530153386847
           ]
          },
          {
           "hoverinfo": "none",
           "marker": {
            "color": "rgb(255, 0, 0)",
            "line": {
             "color": "rgb(0, 0, 0)",
             "width": 1
            },
            "size": 20,
            "symbol": "circle"
           },
           "mode": "markers+text",
           "text": [
            "('Philadelphia 76ers',)"
           ],
           "textfont": {
            "color": "rgb(0, 0, 0)"
           },
           "textposition": "middle center",
           "type": "scatter",
           "x": [
            0.2632211166234796
           ],
           "y": [
            0.4186672377198427
           ]
          },
          {
           "hoverinfo": "none",
           "marker": {
            "color": "rgb(255, 0, 0)",
            "line": {
             "color": "rgb(0, 0, 0)",
             "width": 1
            },
            "size": 20,
            "symbol": "circle"
           },
           "mode": "markers+text",
           "text": [
            "('Portland Trail Blazers',)"
           ],
           "textfont": {
            "color": "rgb(0, 0, 0)"
           },
           "textposition": "middle center",
           "type": "scatter",
           "x": [
            0.8928966941182267
           ],
           "y": [
            0.9992849993933854
           ]
          },
          {
           "hoverinfo": "none",
           "marker": {
            "color": "rgb(255, 0, 0)",
            "line": {
             "color": "rgb(0, 0, 0)",
             "width": 1
            },
            "size": 20,
            "symbol": "circle"
           },
           "mode": "markers+text",
           "text": [
            "('Milwaukee Bucks',)"
           ],
           "textfont": {
            "color": "rgb(0, 0, 0)"
           },
           "textposition": "middle center",
           "type": "scatter",
           "x": [
            0.5818933857339115
           ],
           "y": [
            0.4635414782133458
           ]
          },
          {
           "hoverinfo": "none",
           "marker": {
            "color": "rgb(255, 0, 0)",
            "line": {
             "color": "rgb(0, 0, 0)",
             "width": 1
            },
            "size": 20,
            "symbol": "circle"
           },
           "mode": "markers+text",
           "text": [
            "('New Orleans Pelicans',)"
           ],
           "textfont": {
            "color": "rgb(0, 0, 0)"
           },
           "textposition": "middle center",
           "type": "scatter",
           "x": [
            0.8064662404424623
           ],
           "y": [
            0.4176252748388205
           ]
          },
          {
           "hoverinfo": "none",
           "marker": {
            "color": "rgb(255, 0, 0)",
            "line": {
             "color": "rgb(0, 0, 0)",
             "width": 1
            },
            "size": 20,
            "symbol": "circle"
           },
           "mode": "markers+text",
           "text": [
            "('Toronto Raptors',)"
           ],
           "textfont": {
            "color": "rgb(0, 0, 0)"
           },
           "textposition": "middle center",
           "type": "scatter",
           "x": [
            0.41184537578801217
           ],
           "y": [
            0.15550574970768394
           ]
          },
          {
           "hoverinfo": "none",
           "marker": {
            "color": "rgb(255, 0, 0)",
            "line": {
             "color": "rgb(0, 0, 0)",
             "width": 1
            },
            "size": 20,
            "symbol": "circle"
           },
           "mode": "markers+text",
           "text": [
            "('Phoenix Suns',)"
           ],
           "textfont": {
            "color": "rgb(0, 0, 0)"
           },
           "textposition": "middle center",
           "type": "scatter",
           "x": [
            0.5251917709552311
           ],
           "y": [
            0.5092254370434016
           ]
          },
          {
           "hoverinfo": "none",
           "marker": {
            "color": "rgb(255, 0, 0)",
            "line": {
             "color": "rgb(0, 0, 0)",
             "width": 1
            },
            "size": 20,
            "symbol": "circle"
           },
           "mode": "markers+text",
           "text": [
            "('New York Knicks',)"
           ],
           "textfont": {
            "color": "rgb(0, 0, 0)"
           },
           "textposition": "middle center",
           "type": "scatter",
           "x": [
            0.2557423809559065
           ],
           "y": [
            0.9006353590369995
           ]
          },
          {
           "hoverinfo": "none",
           "marker": {
            "color": "rgb(255, 0, 0)",
            "line": {
             "color": "rgb(0, 0, 0)",
             "width": 1
            },
            "size": 20,
            "symbol": "circle"
           },
           "mode": "markers+text",
           "text": [
            "('Detroit Pistons',)"
           ],
           "textfont": {
            "color": "rgb(0, 0, 0)"
           },
           "textposition": "middle center",
           "type": "scatter",
           "x": [
            0.23233795348105157
           ],
           "y": [
            0.7068234704531743
           ]
          },
          {
           "hoverinfo": "none",
           "marker": {
            "color": "rgb(255, 0, 0)",
            "line": {
             "color": "rgb(0, 0, 0)",
             "width": 1
            },
            "size": 20,
            "symbol": "circle"
           },
           "mode": "markers+text",
           "text": [
            "('Utah Jazz',)"
           ],
           "textfont": {
            "color": "rgb(0, 0, 0)"
           },
           "textposition": "middle center",
           "type": "scatter",
           "x": [
            0.4458198051341652
           ],
           "y": [
            0.06472032037273356
           ]
          },
          {
           "hoverinfo": "none",
           "marker": {
            "color": "rgb(255, 0, 0)",
            "line": {
             "color": "rgb(0, 0, 0)",
             "width": 1
            },
            "size": 20,
            "symbol": "circle"
           },
           "mode": "markers+text",
           "text": [
            "('Sacramento Kings',)"
           ],
           "textfont": {
            "color": "rgb(0, 0, 0)"
           },
           "textposition": "middle center",
           "type": "scatter",
           "x": [
            0.1620041872364254
           ],
           "y": [
            0.4757845613195645
           ]
          },
          {
           "hoverinfo": "none",
           "marker": {
            "color": "rgb(255, 0, 0)",
            "line": {
             "color": "rgb(0, 0, 0)",
             "width": 1
            },
            "size": 20,
            "symbol": "circle"
           },
           "mode": "markers+text",
           "text": [
            "('Atlanta Hawks',)"
           ],
           "textfont": {
            "color": "rgb(0, 0, 0)"
           },
           "textposition": "middle center",
           "type": "scatter",
           "x": [
            0.33300329099006487
           ],
           "y": [
            0.8813151598035718
           ]
          },
          {
           "hoverinfo": "none",
           "marker": {
            "color": "rgb(255, 0, 0)",
            "line": {
             "color": "rgb(0, 0, 0)",
             "width": 1
            },
            "size": 20,
            "symbol": "circle"
           },
           "mode": "markers+text",
           "text": [
            "('Orlando Magic',)"
           ],
           "textfont": {
            "color": "rgb(0, 0, 0)"
           },
           "textposition": "middle center",
           "type": "scatter",
           "x": [
            0.7833382112958032
           ],
           "y": [
            0.6270028197830154
           ]
          },
          {
           "hoverinfo": "none",
           "marker": {
            "color": "rgb(255, 0, 0)",
            "line": {
             "color": "rgb(0, 0, 0)",
             "width": 1
            },
            "size": 20,
            "symbol": "circle"
           },
           "mode": "markers+text",
           "text": [
            "('San Antonio Spurs',)"
           ],
           "textfont": {
            "color": "rgb(0, 0, 0)"
           },
           "textposition": "middle center",
           "type": "scatter",
           "x": [
            0.0964941873496099
           ],
           "y": [
            0.06479736535237024
           ]
          },
          {
           "hoverinfo": "none",
           "mode": "text",
           "text": [
            null,
            null,
            null,
            null,
            null,
            null,
            null,
            null,
            null,
            null,
            null,
            null,
            null,
            null,
            null,
            null,
            null,
            null,
            null,
            null,
            null,
            null,
            null,
            null,
            null,
            null,
            null,
            null,
            null,
            null,
            null,
            null,
            null,
            null,
            null,
            null,
            null,
            null,
            null,
            null,
            null,
            null,
            null,
            null,
            null,
            null
           ],
           "textfont": {
            "color": "rgb(0, 0, 0)"
           },
           "textposition": "middle center",
           "type": "scatter",
           "x": [
            0.2150042809237758,
            0.29769393718657233,
            0.15004903896305696,
            0.28697777978056327,
            0.2814118948775985,
            0.6750027234495011,
            0.5797417981923244,
            0.7051238064097648,
            0.1837999633052978,
            0.09238890575788385,
            0.3065214564062382,
            0.2345790117815549,
            0.05875765306800043,
            0.27832103234525063,
            0.17467900357453248,
            0.5802930486153103,
            0.391878713238047,
            0.6501855358811746,
            0.6807059931695598,
            0.45376904241279054,
            0.41162386849588406,
            0.4862254808920491,
            0.6520562609791875,
            0.23430733798168032,
            0.3406193148469759,
            0.3568558898719227,
            0.3769233285820922,
            0.42360548498937023,
            0.7396830697427031,
            0.33947870839910527,
            0.6143028959440429,
            0.5257600842593856,
            0.7037446545656659,
            0.1351633875931838,
            0.36497662088906485,
            0.5755329350051561,
            0.34508642688037583,
            0.5477445841392407,
            0.44772705038036337,
            0.5069861236102055,
            0.4561189792397209,
            0.358331306915336,
            0.3737867145249749,
            0.2580706519333667,
            0.23612129460100653,
            0.5624142041354553
           ],
           "y": [
            0.6113144344070937,
            0.5153422026035948,
            0.5434599373428665,
            0.4506259060505401,
            0.3074718100442812,
            0.5621677547893806,
            0.4403188946747176,
            0.543815252773901,
            0.32452444482996706,
            0.43685931376504566,
            0.6579686317817723,
            0.5189961298787624,
            0.3002528429448945,
            0.456339805506948,
            0.635306145277534,
            0.39689650142139643,
            0.3232100675376299,
            0.7788181749653509,
            0.4475670195348672,
            0.2677864529185791,
            0.3241639866001344,
            0.47112466087709565,
            0.06876056704076035,
            0.2214712360805464,
            0.7481380433350058,
            0.5402680620438972,
            0.7425908230508478,
            0.8832677821885746,
            0.9847976680481498,
            0.32595948058104324,
            0.3750485572308378,
            0.25235932186530624,
            0.2720655626753617,
            0.4687373932740121,
            0.25969492976649716,
            0.9238072262142462,
            0.24023167696483447,
            0.4623687114645336,
            0.6531015670754388,
            0.29088645539126057,
            0.3456250118635124,
            0.5133017794514732,
            0.5834035167547105,
            0.7980753755981401,
            0.6945666060780205,
            0.7792348658286423
           ]
          },
          {
           "hoverinfo": "none",
           "marker": {
            "color": "rgba(255, 255, 255, 0.0)",
            "line": {
             "color": "rgba(255, 255, 255, 0.0)",
             "width": 0
            },
            "size": 0,
            "symbol": "circle"
           },
           "mode": "markers",
           "type": "scatter",
           "x": [
            0.5,
            0,
            1,
            0.5
           ],
           "y": [
            0,
            0.5,
            0.5,
            1
           ]
          }
         ],
         "name": "1"
        }
       ],
       "layout": {
        "height": 526,
        "margin": {
         "b": 0,
         "l": 0,
         "r": 0,
         "t": 0
        },
        "showlegend": false,
        "sliders": [
         {
          "currentvalue": {
           "visible": false
          },
          "steps": [
           {
            "args": [
             [
              0
             ],
             {
              "frame": {
               "redraw": false
              },
              "mode": "immediate"
             }
            ],
            "label": "",
            "method": "animate"
           },
           {
            "args": [
             [
              1
             ],
             {
              "frame": {
               "redraw": false
              },
              "mode": "immediate"
             }
            ],
            "label": "",
            "method": "animate"
           }
          ]
         }
        ],
        "template": {
         "data": {
          "bar": [
           {
            "error_x": {
             "color": "#2a3f5f"
            },
            "error_y": {
             "color": "#2a3f5f"
            },
            "marker": {
             "line": {
              "color": "#E5ECF6",
              "width": 0.5
             }
            },
            "type": "bar"
           }
          ],
          "barpolar": [
           {
            "marker": {
             "line": {
              "color": "#E5ECF6",
              "width": 0.5
             }
            },
            "type": "barpolar"
           }
          ],
          "carpet": [
           {
            "aaxis": {
             "endlinecolor": "#2a3f5f",
             "gridcolor": "white",
             "linecolor": "white",
             "minorgridcolor": "white",
             "startlinecolor": "#2a3f5f"
            },
            "baxis": {
             "endlinecolor": "#2a3f5f",
             "gridcolor": "white",
             "linecolor": "white",
             "minorgridcolor": "white",
             "startlinecolor": "#2a3f5f"
            },
            "type": "carpet"
           }
          ],
          "choropleth": [
           {
            "colorbar": {
             "outlinewidth": 0,
             "ticks": ""
            },
            "type": "choropleth"
           }
          ],
          "contour": [
           {
            "colorbar": {
             "outlinewidth": 0,
             "ticks": ""
            },
            "colorscale": [
             [
              0,
              "#0d0887"
             ],
             [
              0.1111111111111111,
              "#46039f"
             ],
             [
              0.2222222222222222,
              "#7201a8"
             ],
             [
              0.3333333333333333,
              "#9c179e"
             ],
             [
              0.4444444444444444,
              "#bd3786"
             ],
             [
              0.5555555555555556,
              "#d8576b"
             ],
             [
              0.6666666666666666,
              "#ed7953"
             ],
             [
              0.7777777777777778,
              "#fb9f3a"
             ],
             [
              0.8888888888888888,
              "#fdca26"
             ],
             [
              1,
              "#f0f921"
             ]
            ],
            "type": "contour"
           }
          ],
          "contourcarpet": [
           {
            "colorbar": {
             "outlinewidth": 0,
             "ticks": ""
            },
            "type": "contourcarpet"
           }
          ],
          "heatmap": [
           {
            "colorbar": {
             "outlinewidth": 0,
             "ticks": ""
            },
            "colorscale": [
             [
              0,
              "#0d0887"
             ],
             [
              0.1111111111111111,
              "#46039f"
             ],
             [
              0.2222222222222222,
              "#7201a8"
             ],
             [
              0.3333333333333333,
              "#9c179e"
             ],
             [
              0.4444444444444444,
              "#bd3786"
             ],
             [
              0.5555555555555556,
              "#d8576b"
             ],
             [
              0.6666666666666666,
              "#ed7953"
             ],
             [
              0.7777777777777778,
              "#fb9f3a"
             ],
             [
              0.8888888888888888,
              "#fdca26"
             ],
             [
              1,
              "#f0f921"
             ]
            ],
            "type": "heatmap"
           }
          ],
          "heatmapgl": [
           {
            "colorbar": {
             "outlinewidth": 0,
             "ticks": ""
            },
            "colorscale": [
             [
              0,
              "#0d0887"
             ],
             [
              0.1111111111111111,
              "#46039f"
             ],
             [
              0.2222222222222222,
              "#7201a8"
             ],
             [
              0.3333333333333333,
              "#9c179e"
             ],
             [
              0.4444444444444444,
              "#bd3786"
             ],
             [
              0.5555555555555556,
              "#d8576b"
             ],
             [
              0.6666666666666666,
              "#ed7953"
             ],
             [
              0.7777777777777778,
              "#fb9f3a"
             ],
             [
              0.8888888888888888,
              "#fdca26"
             ],
             [
              1,
              "#f0f921"
             ]
            ],
            "type": "heatmapgl"
           }
          ],
          "histogram": [
           {
            "marker": {
             "colorbar": {
              "outlinewidth": 0,
              "ticks": ""
             }
            },
            "type": "histogram"
           }
          ],
          "histogram2d": [
           {
            "colorbar": {
             "outlinewidth": 0,
             "ticks": ""
            },
            "colorscale": [
             [
              0,
              "#0d0887"
             ],
             [
              0.1111111111111111,
              "#46039f"
             ],
             [
              0.2222222222222222,
              "#7201a8"
             ],
             [
              0.3333333333333333,
              "#9c179e"
             ],
             [
              0.4444444444444444,
              "#bd3786"
             ],
             [
              0.5555555555555556,
              "#d8576b"
             ],
             [
              0.6666666666666666,
              "#ed7953"
             ],
             [
              0.7777777777777778,
              "#fb9f3a"
             ],
             [
              0.8888888888888888,
              "#fdca26"
             ],
             [
              1,
              "#f0f921"
             ]
            ],
            "type": "histogram2d"
           }
          ],
          "histogram2dcontour": [
           {
            "colorbar": {
             "outlinewidth": 0,
             "ticks": ""
            },
            "colorscale": [
             [
              0,
              "#0d0887"
             ],
             [
              0.1111111111111111,
              "#46039f"
             ],
             [
              0.2222222222222222,
              "#7201a8"
             ],
             [
              0.3333333333333333,
              "#9c179e"
             ],
             [
              0.4444444444444444,
              "#bd3786"
             ],
             [
              0.5555555555555556,
              "#d8576b"
             ],
             [
              0.6666666666666666,
              "#ed7953"
             ],
             [
              0.7777777777777778,
              "#fb9f3a"
             ],
             [
              0.8888888888888888,
              "#fdca26"
             ],
             [
              1,
              "#f0f921"
             ]
            ],
            "type": "histogram2dcontour"
           }
          ],
          "mesh3d": [
           {
            "colorbar": {
             "outlinewidth": 0,
             "ticks": ""
            },
            "type": "mesh3d"
           }
          ],
          "parcoords": [
           {
            "line": {
             "colorbar": {
              "outlinewidth": 0,
              "ticks": ""
             }
            },
            "type": "parcoords"
           }
          ],
          "scatter": [
           {
            "marker": {
             "colorbar": {
              "outlinewidth": 0,
              "ticks": ""
             }
            },
            "type": "scatter"
           }
          ],
          "scatter3d": [
           {
            "line": {
             "colorbar": {
              "outlinewidth": 0,
              "ticks": ""
             }
            },
            "marker": {
             "colorbar": {
              "outlinewidth": 0,
              "ticks": ""
             }
            },
            "type": "scatter3d"
           }
          ],
          "scattercarpet": [
           {
            "marker": {
             "colorbar": {
              "outlinewidth": 0,
              "ticks": ""
             }
            },
            "type": "scattercarpet"
           }
          ],
          "scattergeo": [
           {
            "marker": {
             "colorbar": {
              "outlinewidth": 0,
              "ticks": ""
             }
            },
            "type": "scattergeo"
           }
          ],
          "scattergl": [
           {
            "marker": {
             "colorbar": {
              "outlinewidth": 0,
              "ticks": ""
             }
            },
            "type": "scattergl"
           }
          ],
          "scattermapbox": [
           {
            "marker": {
             "colorbar": {
              "outlinewidth": 0,
              "ticks": ""
             }
            },
            "type": "scattermapbox"
           }
          ],
          "scatterpolar": [
           {
            "marker": {
             "colorbar": {
              "outlinewidth": 0,
              "ticks": ""
             }
            },
            "type": "scatterpolar"
           }
          ],
          "scatterpolargl": [
           {
            "marker": {
             "colorbar": {
              "outlinewidth": 0,
              "ticks": ""
             }
            },
            "type": "scatterpolargl"
           }
          ],
          "scatterternary": [
           {
            "marker": {
             "colorbar": {
              "outlinewidth": 0,
              "ticks": ""
             }
            },
            "type": "scatterternary"
           }
          ],
          "surface": [
           {
            "colorbar": {
             "outlinewidth": 0,
             "ticks": ""
            },
            "colorscale": [
             [
              0,
              "#0d0887"
             ],
             [
              0.1111111111111111,
              "#46039f"
             ],
             [
              0.2222222222222222,
              "#7201a8"
             ],
             [
              0.3333333333333333,
              "#9c179e"
             ],
             [
              0.4444444444444444,
              "#bd3786"
             ],
             [
              0.5555555555555556,
              "#d8576b"
             ],
             [
              0.6666666666666666,
              "#ed7953"
             ],
             [
              0.7777777777777778,
              "#fb9f3a"
             ],
             [
              0.8888888888888888,
              "#fdca26"
             ],
             [
              1,
              "#f0f921"
             ]
            ],
            "type": "surface"
           }
          ],
          "table": [
           {
            "cells": {
             "fill": {
              "color": "#EBF0F8"
             },
             "line": {
              "color": "white"
             }
            },
            "header": {
             "fill": {
              "color": "#C8D4E3"
             },
             "line": {
              "color": "white"
             }
            },
            "type": "table"
           }
          ]
         },
         "layout": {
          "annotationdefaults": {
           "arrowcolor": "#2a3f5f",
           "arrowhead": 0,
           "arrowwidth": 1
          },
          "colorscale": {
           "diverging": [
            [
             0,
             "#8e0152"
            ],
            [
             0.1,
             "#c51b7d"
            ],
            [
             0.2,
             "#de77ae"
            ],
            [
             0.3,
             "#f1b6da"
            ],
            [
             0.4,
             "#fde0ef"
            ],
            [
             0.5,
             "#f7f7f7"
            ],
            [
             0.6,
             "#e6f5d0"
            ],
            [
             0.7,
             "#b8e186"
            ],
            [
             0.8,
             "#7fbc41"
            ],
            [
             0.9,
             "#4d9221"
            ],
            [
             1,
             "#276419"
            ]
           ],
           "sequential": [
            [
             0,
             "#0d0887"
            ],
            [
             0.1111111111111111,
             "#46039f"
            ],
            [
             0.2222222222222222,
             "#7201a8"
            ],
            [
             0.3333333333333333,
             "#9c179e"
            ],
            [
             0.4444444444444444,
             "#bd3786"
            ],
            [
             0.5555555555555556,
             "#d8576b"
            ],
            [
             0.6666666666666666,
             "#ed7953"
            ],
            [
             0.7777777777777778,
             "#fb9f3a"
            ],
            [
             0.8888888888888888,
             "#fdca26"
            ],
            [
             1,
             "#f0f921"
            ]
           ],
           "sequentialminus": [
            [
             0,
             "#0d0887"
            ],
            [
             0.1111111111111111,
             "#46039f"
            ],
            [
             0.2222222222222222,
             "#7201a8"
            ],
            [
             0.3333333333333333,
             "#9c179e"
            ],
            [
             0.4444444444444444,
             "#bd3786"
            ],
            [
             0.5555555555555556,
             "#d8576b"
            ],
            [
             0.6666666666666666,
             "#ed7953"
            ],
            [
             0.7777777777777778,
             "#fb9f3a"
            ],
            [
             0.8888888888888888,
             "#fdca26"
            ],
            [
             1,
             "#f0f921"
            ]
           ]
          },
          "colorway": [
           "#636efa",
           "#EF553B",
           "#00cc96",
           "#ab63fa",
           "#FFA15A",
           "#19d3f3",
           "#FF6692",
           "#B6E880",
           "#FF97FF",
           "#FECB52"
          ],
          "font": {
           "color": "#2a3f5f"
          },
          "geo": {
           "bgcolor": "white",
           "lakecolor": "white",
           "landcolor": "#E5ECF6",
           "showlakes": true,
           "showland": true,
           "subunitcolor": "white"
          },
          "hoverlabel": {
           "align": "left"
          },
          "hovermode": "closest",
          "mapbox": {
           "style": "light"
          },
          "paper_bgcolor": "white",
          "plot_bgcolor": "#E5ECF6",
          "polar": {
           "angularaxis": {
            "gridcolor": "white",
            "linecolor": "white",
            "ticks": ""
           },
           "bgcolor": "#E5ECF6",
           "radialaxis": {
            "gridcolor": "white",
            "linecolor": "white",
            "ticks": ""
           }
          },
          "scene": {
           "xaxis": {
            "backgroundcolor": "#E5ECF6",
            "gridcolor": "white",
            "gridwidth": 2,
            "linecolor": "white",
            "showbackground": true,
            "ticks": "",
            "zerolinecolor": "white"
           },
           "yaxis": {
            "backgroundcolor": "#E5ECF6",
            "gridcolor": "white",
            "gridwidth": 2,
            "linecolor": "white",
            "showbackground": true,
            "ticks": "",
            "zerolinecolor": "white"
           },
           "zaxis": {
            "backgroundcolor": "#E5ECF6",
            "gridcolor": "white",
            "gridwidth": 2,
            "linecolor": "white",
            "showbackground": true,
            "ticks": "",
            "zerolinecolor": "white"
           }
          },
          "shapedefaults": {
           "line": {
            "color": "#2a3f5f"
           }
          },
          "ternary": {
           "aaxis": {
            "gridcolor": "white",
            "linecolor": "white",
            "ticks": ""
           },
           "baxis": {
            "gridcolor": "white",
            "linecolor": "white",
            "ticks": ""
           },
           "bgcolor": "#E5ECF6",
           "caxis": {
            "gridcolor": "white",
            "linecolor": "white",
            "ticks": ""
           }
          },
          "title": {
           "x": 0.05
          },
          "xaxis": {
           "automargin": true,
           "gridcolor": "white",
           "linecolor": "white",
           "ticks": "",
           "zerolinecolor": "white",
           "zerolinewidth": 2
          },
          "yaxis": {
           "automargin": true,
           "gridcolor": "white",
           "linecolor": "white",
           "ticks": "",
           "zerolinecolor": "white",
           "zerolinewidth": 2
          }
         }
        },
        "updatemenus": [
         {
          "buttons": [
           {
            "args": [
             null,
             {
              "frame": {
               "redraw": false
              },
              "fromcurrent": true
             }
            ],
            "label": "Play",
            "method": "animate"
           },
           {
            "args": [
             [
              null
             ],
             {
              "frame": {
               "redraw": false
              },
              "mode": "immediate"
             }
            ],
            "label": "Pause",
            "method": "animate"
           }
          ],
          "showactive": true,
          "type": "buttons"
         }
        ],
        "width": 912,
        "xaxis": {
         "showgrid": false,
         "showticklabels": false,
         "zeroline": false
        },
        "yaxis": {
         "showgrid": false,
         "showticklabels": false,
         "zeroline": false
        }
       }
      },
      "text/html": [
       "<div>\n",
       "        \n",
       "        \n",
       "            <div id=\"77e19bf4-2973-4044-bfb2-408ee9669340\" class=\"plotly-graph-div\" style=\"height:526.0px; width:912.0px;\"></div>\n",
       "            <script type=\"text/javascript\">\n",
       "                require([\"plotly\"], function(Plotly) {\n",
       "                    window.PLOTLYENV=window.PLOTLYENV || {};\n",
       "                    \n",
       "                if (document.getElementById(\"77e19bf4-2973-4044-bfb2-408ee9669340\")) {\n",
       "                    Plotly.newPlot(\n",
       "                        '77e19bf4-2973-4044-bfb2-408ee9669340',\n",
       "                        [{\"hoverinfo\": \"none\", \"line\": {\"color\": \"rgba(255, 255, 255, 0.0)\", \"dash\": \"solid\", \"width\": 1}, \"mode\": \"lines\", \"type\": \"scatter\", \"x\": [0.2422821711210923, 0.1620041872364254, null], \"y\": [0.770245873030432, 0.4757845613195645, null]}, {\"hoverinfo\": \"none\", \"line\": {\"color\": \"rgba(255, 255, 255, 0.0)\", \"dash\": \"solid\", \"width\": 1}, \"mode\": \"lines\", \"type\": \"scatter\", \"x\": [0.2422821711210923, 0.3255064458667908, null], \"y\": [0.770245873030432, 0.24582235548362408, null]}, {\"hoverinfo\": \"none\", \"line\": {\"color\": \"rgba(255, 255, 255, 0.0)\", \"dash\": \"solid\", \"width\": 1}, \"mode\": \"lines\", \"type\": \"scatter\", \"x\": [0.2422821711210923, 0.03644128620803111, null], \"y\": [0.770245873030432, 0.35175858403501037, null]}, {\"hoverinfo\": \"none\", \"line\": {\"color\": \"rgba(255, 255, 255, 0.0)\", \"dash\": \"solid\", \"width\": 1}, \"mode\": \"lines\", \"type\": \"scatter\", \"x\": [0.13252208607152327, 0.42770731430612385, null], \"y\": [0.5741610838281521, 0.28097318733364607, null]}, {\"hoverinfo\": \"none\", \"line\": {\"color\": \"rgba(255, 255, 255, 0.0)\", \"dash\": \"solid\", \"width\": 1}, \"mode\": \"lines\", \"type\": \"scatter\", \"x\": [0.13252208607152327, 0.40881742786550546, null], \"y\": [0.5741610838281521, 0.005922178100667197, null]}, {\"hoverinfo\": \"none\", \"line\": {\"color\": \"rgba(255, 255, 255, 0.0)\", \"dash\": \"solid\", \"width\": 1}, \"mode\": \"lines\", \"type\": \"scatter\", \"x\": [0.6451267827147388, 0.7295274364039469, null], \"y\": [0.420031263248842, 0.6773214880223646, null]}, {\"hoverinfo\": \"none\", \"line\": {\"color\": \"rgba(255, 255, 255, 0.0)\", \"dash\": \"solid\", \"width\": 1}, \"mode\": \"lines\", \"type\": \"scatter\", \"x\": [0.6451267827147388, 0.5251917709552311, null], \"y\": [0.420031263248842, 0.5092254370434016, null]}, {\"hoverinfo\": \"none\", \"line\": {\"color\": \"rgba(255, 255, 255, 0.0)\", \"dash\": \"solid\", \"width\": 1}, \"mode\": \"lines\", \"type\": \"scatter\", \"x\": [0.6451267827147388, 0.7833382112958032, null], \"y\": [0.420031263248842, 0.6270028197830154, null]}, {\"hoverinfo\": \"none\", \"line\": {\"color\": \"rgba(255, 255, 255, 0.0)\", \"dash\": \"solid\", \"width\": 1}, \"mode\": \"lines\", \"type\": \"scatter\", \"x\": [0.03644128620803111, 0.3255064458667908, null], \"y\": [0.35175858403501037, 0.24582235548362408, null]}, {\"hoverinfo\": \"none\", \"line\": {\"color\": \"rgba(255, 255, 255, 0.0)\", \"dash\": \"solid\", \"width\": 1}, \"mode\": \"lines\", \"type\": \"scatter\", \"x\": [0.03644128620803111, 0.1620041872364254, null], \"y\": [0.35175858403501037, 0.4757845613195645, null]}, {\"hoverinfo\": \"none\", \"line\": {\"color\": \"rgba(255, 255, 255, 0.0)\", \"dash\": \"solid\", \"width\": 1}, \"mode\": \"lines\", \"type\": \"scatter\", \"x\": [0.03644128620803111, 0.5906358500620068, null], \"y\": [0.35175858403501037, 0.91837159701635, null]}, {\"hoverinfo\": \"none\", \"line\": {\"color\": \"rgba(255, 255, 255, 0.0)\", \"dash\": \"solid\", \"width\": 1}, \"mode\": \"lines\", \"type\": \"scatter\", \"x\": [0.03644128620803111, 0.4430261862562974, null], \"y\": [0.35175858403501037, 0.6372349120843785, null]}, {\"hoverinfo\": \"none\", \"line\": {\"color\": \"rgba(255, 255, 255, 0.0)\", \"dash\": \"solid\", \"width\": 1}, \"mode\": \"lines\", \"type\": \"scatter\", \"x\": [0.03644128620803111, 0.05329305036451948, null], \"y\": [0.35175858403501037, 0.2353288097052717, null]}, {\"hoverinfo\": \"none\", \"line\": {\"color\": \"rgba(255, 255, 255, 0.0)\", \"dash\": \"solid\", \"width\": 1}, \"mode\": \"lines\", \"type\": \"scatter\", \"x\": [0.03644128620803111, 0.5251917709552311, null], \"y\": [0.35175858403501037, 0.5092254370434016, null]}, {\"hoverinfo\": \"none\", \"line\": {\"color\": \"rgba(255, 255, 255, 0.0)\", \"dash\": \"solid\", \"width\": 1}, \"mode\": \"lines\", \"type\": \"scatter\", \"x\": [0.03644128620803111, 0.33300329099006487, null], \"y\": [0.35175858403501037, 0.8813151598035718, null]}, {\"hoverinfo\": \"none\", \"line\": {\"color\": \"rgba(255, 255, 255, 0.0)\", \"dash\": \"solid\", \"width\": 1}, \"mode\": \"lines\", \"type\": \"scatter\", \"x\": [0.7295274364039469, 0.41184537578801217, null], \"y\": [0.6773214880223646, 0.15550574970768394, null]}, {\"hoverinfo\": \"none\", \"line\": {\"color\": \"rgba(255, 255, 255, 0.0)\", \"dash\": \"solid\", \"width\": 1}, \"mode\": \"lines\", \"type\": \"scatter\", \"x\": [0.7295274364039469, 0.040852296249109354, null], \"y\": [0.6773214880223646, 0.015556645505791722, null]}, {\"hoverinfo\": \"none\", \"line\": {\"color\": \"rgba(255, 255, 255, 0.0)\", \"dash\": \"solid\", \"width\": 1}, \"mode\": \"lines\", \"type\": \"scatter\", \"x\": [0.7295274364039469, 0.5906358500620068, null], \"y\": [0.6773214880223646, 0.91837159701635, null]}, {\"hoverinfo\": \"none\", \"line\": {\"color\": \"rgba(255, 255, 255, 0.0)\", \"dash\": \"solid\", \"width\": 1}, \"mode\": \"lines\", \"type\": \"scatter\", \"x\": [0.839754753501359, 0.5251917709552311, null], \"y\": [0.43800342784795454, 0.5092254370434016, null]}, {\"hoverinfo\": \"none\", \"line\": {\"color\": \"rgba(255, 255, 255, 0.0)\", \"dash\": \"solid\", \"width\": 1}, \"mode\": \"lines\", \"type\": \"scatter\", \"x\": [0.40881742786550546, 0.5251917709552311, null], \"y\": [0.005922178100667197, 0.5092254370434016, null]}, {\"hoverinfo\": \"none\", \"line\": {\"color\": \"rgba(255, 255, 255, 0.0)\", \"dash\": \"solid\", \"width\": 1}, \"mode\": \"lines\", \"type\": \"scatter\", \"x\": [0.40881742786550546, 0.4430261862562974, null], \"y\": [0.005922178100667197, 0.6372349120843785, null]}, {\"hoverinfo\": \"none\", \"line\": {\"color\": \"rgba(255, 255, 255, 0.0)\", \"dash\": \"solid\", \"width\": 1}, \"mode\": \"lines\", \"type\": \"scatter\", \"x\": [0.40881742786550546, 0.5906358500620068, null], \"y\": [0.005922178100667197, 0.91837159701635, null]}, {\"hoverinfo\": \"none\", \"line\": {\"color\": \"rgba(255, 255, 255, 0.0)\", \"dash\": \"solid\", \"width\": 1}, \"mode\": \"lines\", \"type\": \"scatter\", \"x\": [0.40881742786550546, 0.8976478374822048, null], \"y\": [0.005922178100667197, 0.07928176083471472, null]}, {\"hoverinfo\": \"none\", \"line\": {\"color\": \"rgba(255, 255, 255, 0.0)\", \"dash\": \"solid\", \"width\": 1}, \"mode\": \"lines\", \"type\": \"scatter\", \"x\": [0.05329305036451948, 0.41184537578801217, null], \"y\": [0.2353288097052717, 0.15550574970768394, null]}, {\"hoverinfo\": \"none\", \"line\": {\"color\": \"rgba(255, 255, 255, 0.0)\", \"dash\": \"solid\", \"width\": 1}, \"mode\": \"lines\", \"type\": \"scatter\", \"x\": [0.4430261862562974, 0.2557423809559065, null], \"y\": [0.6372349120843785, 0.9006353590369995, null]}, {\"hoverinfo\": \"none\", \"line\": {\"color\": \"rgba(255, 255, 255, 0.0)\", \"dash\": \"solid\", \"width\": 1}, \"mode\": \"lines\", \"type\": \"scatter\", \"x\": [0.4430261862562974, 0.25924035686843705, null], \"y\": [0.6372349120843785, 0.4914512229221102, null]}, {\"hoverinfo\": \"none\", \"line\": {\"color\": \"rgba(255, 255, 255, 0.0)\", \"dash\": \"solid\", \"width\": 1}, \"mode\": \"lines\", \"type\": \"scatter\", \"x\": [0.4430261862562974, 0.33300329099006487, null], \"y\": [0.6372349120843785, 0.8813151598035718, null]}, {\"hoverinfo\": \"none\", \"line\": {\"color\": \"rgba(255, 255, 255, 0.0)\", \"dash\": \"solid\", \"width\": 1}, \"mode\": \"lines\", \"type\": \"scatter\", \"x\": [0.5906358500620068, 0.2557423809559065, null], \"y\": [0.91837159701635, 0.9006353590369995, null]}, {\"hoverinfo\": \"none\", \"line\": {\"color\": \"rgba(255, 255, 255, 0.0)\", \"dash\": \"solid\", \"width\": 1}, \"mode\": \"lines\", \"type\": \"scatter\", \"x\": [0.5906358500620068, 0.8928966941182267, null], \"y\": [0.91837159701635, 0.9992849993933854, null]}, {\"hoverinfo\": \"none\", \"line\": {\"color\": \"rgba(255, 255, 255, 0.0)\", \"dash\": \"solid\", \"width\": 1}, \"mode\": \"lines\", \"type\": \"scatter\", \"x\": [0.42770731430612385, 0.2632211166234796, null], \"y\": [0.28097318733364607, 0.4186672377198427, null]}, {\"hoverinfo\": \"none\", \"line\": {\"color\": \"rgba(255, 255, 255, 0.0)\", \"dash\": \"solid\", \"width\": 1}, \"mode\": \"lines\", \"type\": \"scatter\", \"x\": [0.42770731430612385, 0.8064662404424623, null], \"y\": [0.28097318733364607, 0.4176252748388205, null]}, {\"hoverinfo\": \"none\", \"line\": {\"color\": \"rgba(255, 255, 255, 0.0)\", \"dash\": \"solid\", \"width\": 1}, \"mode\": \"lines\", \"type\": \"scatter\", \"x\": [0.8976478374822048, 0.1620041872364254, null], \"y\": [0.07928176083471472, 0.4757845613195645, null]}, {\"hoverinfo\": \"none\", \"line\": {\"color\": \"rgba(255, 255, 255, 0.0)\", \"dash\": \"solid\", \"width\": 1}, \"mode\": \"lines\", \"type\": \"scatter\", \"x\": [0.8976478374822048, 0.5251917709552311, null], \"y\": [0.07928176083471472, 0.5092254370434016, null]}, {\"hoverinfo\": \"none\", \"line\": {\"color\": \"rgba(255, 255, 255, 0.0)\", \"dash\": \"solid\", \"width\": 1}, \"mode\": \"lines\", \"type\": \"scatter\", \"x\": [0.040852296249109354, 0.2557423809559065, null], \"y\": [0.015556645505791722, 0.9006353590369995, null]}, {\"hoverinfo\": \"none\", \"line\": {\"color\": \"rgba(255, 255, 255, 0.0)\", \"dash\": \"solid\", \"width\": 1}, \"mode\": \"lines\", \"type\": \"scatter\", \"x\": [0.2632211166234796, 0.4458198051341652, null], \"y\": [0.4186672377198427, 0.06472032037273356, null]}, {\"hoverinfo\": \"none\", \"line\": {\"color\": \"rgba(255, 255, 255, 0.0)\", \"dash\": \"solid\", \"width\": 1}, \"mode\": \"lines\", \"type\": \"scatter\", \"x\": [0.8928966941182267, 0.2557423809559065, null], \"y\": [0.9992849993933854, 0.9006353590369995, null]}, {\"hoverinfo\": \"none\", \"line\": {\"color\": \"rgba(255, 255, 255, 0.0)\", \"dash\": \"solid\", \"width\": 1}, \"mode\": \"lines\", \"type\": \"scatter\", \"x\": [0.5818933857339115, 0.0964941873496099, null], \"y\": [0.4635414782133458, 0.06479736535237024, null]}, {\"hoverinfo\": \"none\", \"line\": {\"color\": \"rgba(255, 255, 255, 0.0)\", \"dash\": \"solid\", \"width\": 1}, \"mode\": \"lines\", \"type\": \"scatter\", \"x\": [0.5818933857339115, 0.5251917709552311, null], \"y\": [0.4635414782133458, 0.5092254370434016, null]}, {\"hoverinfo\": \"none\", \"line\": {\"color\": \"rgba(255, 255, 255, 0.0)\", \"dash\": \"solid\", \"width\": 1}, \"mode\": \"lines\", \"type\": \"scatter\", \"x\": [0.5818933857339115, 0.33300329099006487, null], \"y\": [0.4635414782133458, 0.8813151598035718, null]}, {\"hoverinfo\": \"none\", \"line\": {\"color\": \"rgba(255, 255, 255, 0.0)\", \"dash\": \"solid\", \"width\": 1}, \"mode\": \"lines\", \"type\": \"scatter\", \"x\": [0.5818933857339115, 0.41184537578801217, null], \"y\": [0.4635414782133458, 0.15550574970768394, null]}, {\"hoverinfo\": \"none\", \"line\": {\"color\": \"rgba(255, 255, 255, 0.0)\", \"dash\": \"solid\", \"width\": 1}, \"mode\": \"lines\", \"type\": \"scatter\", \"x\": [0.41184537578801217, 0.5251917709552311, null], \"y\": [0.15550574970768394, 0.5092254370434016, null]}, {\"hoverinfo\": \"none\", \"line\": {\"color\": \"rgba(255, 255, 255, 0.0)\", \"dash\": \"solid\", \"width\": 1}, \"mode\": \"lines\", \"type\": \"scatter\", \"x\": [0.41184537578801217, 0.33300329099006487, null], \"y\": [0.15550574970768394, 0.8813151598035718, null]}, {\"hoverinfo\": \"none\", \"line\": {\"color\": \"rgba(255, 255, 255, 0.0)\", \"dash\": \"solid\", \"width\": 1}, \"mode\": \"lines\", \"type\": \"scatter\", \"x\": [0.5251917709552311, 0.23233795348105157, null], \"y\": [0.5092254370434016, 0.7068234704531743, null]}, {\"hoverinfo\": \"none\", \"line\": {\"color\": \"rgba(255, 255, 255, 0.0)\", \"dash\": \"solid\", \"width\": 1}, \"mode\": \"lines\", \"type\": \"scatter\", \"x\": [0.2557423809559065, 0.23233795348105157, null], \"y\": [0.9006353590369995, 0.7068234704531743, null]}, {\"hoverinfo\": \"none\", \"line\": {\"color\": \"rgba(255, 255, 255, 0.0)\", \"dash\": \"solid\", \"width\": 1}, \"mode\": \"lines\", \"type\": \"scatter\", \"x\": [0.1620041872364254, 0.33300329099006487, null], \"y\": [0.4757845613195645, 0.8813151598035718, null]}, {\"hoverinfo\": \"none\", \"line\": {\"color\": \"rgba(255, 255, 255, 0.0)\", \"dash\": \"solid\", \"width\": 1}, \"mode\": \"lines\", \"type\": \"scatter\", \"x\": [0.33300329099006487, 0.7833382112958032, null], \"y\": [0.8813151598035718, 0.6270028197830154, null]}, {\"hoverinfo\": \"none\", \"marker\": {\"color\": \"rgba(255, 255, 255, 0.0)\", \"line\": {\"color\": \"rgba(255, 255, 255, 0.0)\", \"width\": 1}, \"size\": 20, \"symbol\": \"circle\"}, \"mode\": \"markers+text\", \"text\": [\"('Golden State Warriors',)\"], \"textfont\": {\"color\": \"rgb(0, 0, 0)\"}, \"textposition\": \"middle center\", \"type\": \"scatter\", \"x\": [0.2422821711210923], \"y\": [0.770245873030432]}, {\"hoverinfo\": \"none\", \"marker\": {\"color\": \"rgba(255, 255, 255, 0.0)\", \"line\": {\"color\": \"rgba(255, 255, 255, 0.0)\", \"width\": 1}, \"size\": 20, \"symbol\": \"circle\"}, \"mode\": \"markers+text\", \"text\": [\"('LA Clippers',)\"], \"textfont\": {\"color\": \"rgb(0, 0, 0)\"}, \"textposition\": \"middle center\", \"type\": \"scatter\", \"x\": [0.13252208607152327], \"y\": [0.5741610838281521]}, {\"hoverinfo\": \"none\", \"marker\": {\"color\": \"rgba(255, 255, 255, 0.0)\", \"line\": {\"color\": \"rgba(255, 255, 255, 0.0)\", \"width\": 1}, \"size\": 20, \"symbol\": \"circle\"}, \"mode\": \"markers+text\", \"text\": [\"('Boston Celtics',)\"], \"textfont\": {\"color\": \"rgb(0, 0, 0)\"}, \"textposition\": \"middle center\", \"type\": \"scatter\", \"x\": [0.715493075132561], \"y\": [0.8604383158653254]}, {\"hoverinfo\": \"none\", \"marker\": {\"color\": \"rgba(255, 255, 255, 0.0)\", \"line\": {\"color\": \"rgba(255, 255, 255, 0.0)\", \"width\": 1}, \"size\": 20, \"symbol\": \"circle\"}, \"mode\": \"markers+text\", \"text\": [\"('Chicago Bulls',)\"], \"textfont\": {\"color\": \"rgb(0, 0, 0)\"}, \"textposition\": \"middle center\", \"type\": \"scatter\", \"x\": [0.6451267827147388], \"y\": [0.420031263248842]}, {\"hoverinfo\": \"none\", \"marker\": {\"color\": \"rgba(255, 255, 255, 0.0)\", \"line\": {\"color\": \"rgba(255, 255, 255, 0.0)\", \"width\": 1}, \"size\": 20, \"symbol\": \"circle\"}, \"mode\": \"markers+text\", \"text\": [\"('Houston Rockets',)\"], \"textfont\": {\"color\": \"rgb(0, 0, 0)\"}, \"textposition\": \"middle center\", \"type\": \"scatter\", \"x\": [0.03644128620803111], \"y\": [0.35175858403501037]}, {\"hoverinfo\": \"none\", \"marker\": {\"color\": \"rgba(255, 255, 255, 0.0)\", \"line\": {\"color\": \"rgba(255, 255, 255, 0.0)\", \"width\": 1}, \"size\": 20, \"symbol\": \"circle\"}, \"mode\": \"markers+text\", \"text\": [\"('Cleveland Cavaliers',)\"], \"textfont\": {\"color\": \"rgb(0, 0, 0)\"}, \"textposition\": \"middle center\", \"type\": \"scatter\", \"x\": [0.7295274364039469], \"y\": [0.6773214880223646]}, {\"hoverinfo\": \"none\", \"marker\": {\"color\": \"rgba(255, 255, 255, 0.0)\", \"line\": {\"color\": \"rgba(255, 255, 255, 0.0)\", \"width\": 1}, \"size\": 20, \"symbol\": \"circle\"}, \"mode\": \"markers+text\", \"text\": [\"('Dallas Mavericks',)\"], \"textfont\": {\"color\": \"rgb(0, 0, 0)\"}, \"textposition\": \"middle center\", \"type\": \"scatter\", \"x\": [0.839754753501359], \"y\": [0.43800342784795454]}, {\"hoverinfo\": \"none\", \"marker\": {\"color\": \"rgba(255, 255, 255, 0.0)\", \"line\": {\"color\": \"rgba(255, 255, 255, 0.0)\", \"width\": 1}, \"size\": 20, \"symbol\": \"circle\"}, \"mode\": \"markers+text\", \"text\": [\"('Los Angeles Lakers',)\"], \"textfont\": {\"color\": \"rgb(0, 0, 0)\"}, \"textposition\": \"middle center\", \"type\": \"scatter\", \"x\": [0.40881742786550546], \"y\": [0.005922178100667197]}, {\"hoverinfo\": \"none\", \"marker\": {\"color\": \"rgba(255, 255, 255, 0.0)\", \"line\": {\"color\": \"rgba(255, 255, 255, 0.0)\", \"width\": 1}, \"size\": 20, \"symbol\": \"circle\"}, \"mode\": \"markers+text\", \"text\": [\"('Brooklyn Nets',)\"], \"textfont\": {\"color\": \"rgb(0, 0, 0)\"}, \"textposition\": \"middle center\", \"type\": \"scatter\", \"x\": [0.05329305036451948], \"y\": [0.2353288097052717]}, {\"hoverinfo\": \"none\", \"marker\": {\"color\": \"rgba(255, 255, 255, 0.0)\", \"line\": {\"color\": \"rgba(255, 255, 255, 0.0)\", \"width\": 1}, \"size\": 20, \"symbol\": \"circle\"}, \"mode\": \"markers+text\", \"text\": [\"('Memphis Grizzlies',)\"], \"textfont\": {\"color\": \"rgb(0, 0, 0)\"}, \"textposition\": \"middle center\", \"type\": \"scatter\", \"x\": [0.4430261862562974], \"y\": [0.6372349120843785]}, {\"hoverinfo\": \"none\", \"marker\": {\"color\": \"rgba(255, 255, 255, 0.0)\", \"line\": {\"color\": \"rgba(255, 255, 255, 0.0)\", \"width\": 1}, \"size\": 20, \"symbol\": \"circle\"}, \"mode\": \"markers+text\", \"text\": [\"('Washington Wizards',)\"], \"textfont\": {\"color\": \"rgb(0, 0, 0)\"}, \"textposition\": \"middle center\", \"type\": \"scatter\", \"x\": [0.5906358500620068], \"y\": [0.91837159701635]}, {\"hoverinfo\": \"none\", \"marker\": {\"color\": \"rgba(255, 255, 255, 0.0)\", \"line\": {\"color\": \"rgba(255, 255, 255, 0.0)\", \"width\": 1}, \"size\": 20, \"symbol\": \"circle\"}, \"mode\": \"markers+text\", \"text\": [\"('Oklahoma City Thunder',)\"], \"textfont\": {\"color\": \"rgb(0, 0, 0)\"}, \"textposition\": \"middle center\", \"type\": \"scatter\", \"x\": [0.42770731430612385], \"y\": [0.28097318733364607]}, {\"hoverinfo\": \"none\", \"marker\": {\"color\": \"rgba(255, 255, 255, 0.0)\", \"line\": {\"color\": \"rgba(255, 255, 255, 0.0)\", \"width\": 1}, \"size\": 20, \"symbol\": \"circle\"}, \"mode\": \"markers+text\", \"text\": [\"('Miami Heat',)\"], \"textfont\": {\"color\": \"rgb(0, 0, 0)\"}, \"textposition\": \"middle center\", \"type\": \"scatter\", \"x\": [0.3255064458667908], \"y\": [0.24582235548362408]}, {\"hoverinfo\": \"none\", \"marker\": {\"color\": \"rgba(255, 255, 255, 0.0)\", \"line\": {\"color\": \"rgba(255, 255, 255, 0.0)\", \"width\": 1}, \"size\": 20, \"symbol\": \"circle\"}, \"mode\": \"markers+text\", \"text\": [\"('Minnesota Timberwolves',)\"], \"textfont\": {\"color\": \"rgb(0, 0, 0)\"}, \"textposition\": \"middle center\", \"type\": \"scatter\", \"x\": [0.8976478374822048], \"y\": [0.07928176083471472]}, {\"hoverinfo\": \"none\", \"marker\": {\"color\": \"rgba(255, 255, 255, 0.0)\", \"line\": {\"color\": \"rgba(255, 255, 255, 0.0)\", \"width\": 1}, \"size\": 20, \"symbol\": \"circle\"}, \"mode\": \"markers+text\", \"text\": [\"('Indiana Pacers',)\"], \"textfont\": {\"color\": \"rgb(0, 0, 0)\"}, \"textposition\": \"middle center\", \"type\": \"scatter\", \"x\": [0.040852296249109354], \"y\": [0.015556645505791722]}, {\"hoverinfo\": \"none\", \"marker\": {\"color\": \"rgba(255, 255, 255, 0.0)\", \"line\": {\"color\": \"rgba(255, 255, 255, 0.0)\", \"width\": 1}, \"size\": 20, \"symbol\": \"circle\"}, \"mode\": \"markers+text\", \"text\": [\"('Denver Nuggets',)\"], \"textfont\": {\"color\": \"rgb(0, 0, 0)\"}, \"textposition\": \"middle center\", \"type\": \"scatter\", \"x\": [0.25924035686843705], \"y\": [0.4914512229221102]}, {\"hoverinfo\": \"none\", \"marker\": {\"color\": \"rgba(255, 255, 255, 0.0)\", \"line\": {\"color\": \"rgba(255, 255, 255, 0.0)\", \"width\": 1}, \"size\": 20, \"symbol\": \"circle\"}, \"mode\": \"markers+text\", \"text\": [\"('Charlotte Hornets',)\"], \"textfont\": {\"color\": \"rgb(0, 0, 0)\"}, \"textposition\": \"middle center\", \"type\": \"scatter\", \"x\": [0.5941941305043772], \"y\": [0.9133530153386847]}, {\"hoverinfo\": \"none\", \"marker\": {\"color\": \"rgba(255, 255, 255, 0.0)\", \"line\": {\"color\": \"rgba(255, 255, 255, 0.0)\", \"width\": 1}, \"size\": 20, \"symbol\": \"circle\"}, \"mode\": \"markers+text\", \"text\": [\"('Philadelphia 76ers',)\"], \"textfont\": {\"color\": \"rgb(0, 0, 0)\"}, \"textposition\": \"middle center\", \"type\": \"scatter\", \"x\": [0.2632211166234796], \"y\": [0.4186672377198427]}, {\"hoverinfo\": \"none\", \"marker\": {\"color\": \"rgba(255, 255, 255, 0.0)\", \"line\": {\"color\": \"rgba(255, 255, 255, 0.0)\", \"width\": 1}, \"size\": 20, \"symbol\": \"circle\"}, \"mode\": \"markers+text\", \"text\": [\"('Portland Trail Blazers',)\"], \"textfont\": {\"color\": \"rgb(0, 0, 0)\"}, \"textposition\": \"middle center\", \"type\": \"scatter\", \"x\": [0.8928966941182267], \"y\": [0.9992849993933854]}, {\"hoverinfo\": \"none\", \"marker\": {\"color\": \"rgba(255, 255, 255, 0.0)\", \"line\": {\"color\": \"rgba(255, 255, 255, 0.0)\", \"width\": 1}, \"size\": 20, \"symbol\": \"circle\"}, \"mode\": \"markers+text\", \"text\": [\"('Milwaukee Bucks',)\"], \"textfont\": {\"color\": \"rgb(0, 0, 0)\"}, \"textposition\": \"middle center\", \"type\": \"scatter\", \"x\": [0.5818933857339115], \"y\": [0.4635414782133458]}, {\"hoverinfo\": \"none\", \"marker\": {\"color\": \"rgba(255, 255, 255, 0.0)\", \"line\": {\"color\": \"rgba(255, 255, 255, 0.0)\", \"width\": 1}, \"size\": 20, \"symbol\": \"circle\"}, \"mode\": \"markers+text\", \"text\": [\"('New Orleans Pelicans',)\"], \"textfont\": {\"color\": \"rgb(0, 0, 0)\"}, \"textposition\": \"middle center\", \"type\": \"scatter\", \"x\": [0.8064662404424623], \"y\": [0.4176252748388205]}, {\"hoverinfo\": \"none\", \"marker\": {\"color\": \"rgba(255, 255, 255, 0.0)\", \"line\": {\"color\": \"rgba(255, 255, 255, 0.0)\", \"width\": 1}, \"size\": 20, \"symbol\": \"circle\"}, \"mode\": \"markers+text\", \"text\": [\"('Toronto Raptors',)\"], \"textfont\": {\"color\": \"rgb(0, 0, 0)\"}, \"textposition\": \"middle center\", \"type\": \"scatter\", \"x\": [0.41184537578801217], \"y\": [0.15550574970768394]}, {\"hoverinfo\": \"none\", \"marker\": {\"color\": \"rgba(255, 255, 255, 0.0)\", \"line\": {\"color\": \"rgba(255, 255, 255, 0.0)\", \"width\": 1}, \"size\": 20, \"symbol\": \"circle\"}, \"mode\": \"markers+text\", \"text\": [\"('Phoenix Suns',)\"], \"textfont\": {\"color\": \"rgb(0, 0, 0)\"}, \"textposition\": \"middle center\", \"type\": \"scatter\", \"x\": [0.5251917709552311], \"y\": [0.5092254370434016]}, {\"hoverinfo\": \"none\", \"marker\": {\"color\": \"rgba(255, 255, 255, 0.0)\", \"line\": {\"color\": \"rgba(255, 255, 255, 0.0)\", \"width\": 1}, \"size\": 20, \"symbol\": \"circle\"}, \"mode\": \"markers+text\", \"text\": [\"('New York Knicks',)\"], \"textfont\": {\"color\": \"rgb(0, 0, 0)\"}, \"textposition\": \"middle center\", \"type\": \"scatter\", \"x\": [0.2557423809559065], \"y\": [0.9006353590369995]}, {\"hoverinfo\": \"none\", \"marker\": {\"color\": \"rgba(255, 255, 255, 0.0)\", \"line\": {\"color\": \"rgba(255, 255, 255, 0.0)\", \"width\": 1}, \"size\": 20, \"symbol\": \"circle\"}, \"mode\": \"markers+text\", \"text\": [\"('Detroit Pistons',)\"], \"textfont\": {\"color\": \"rgb(0, 0, 0)\"}, \"textposition\": \"middle center\", \"type\": \"scatter\", \"x\": [0.23233795348105157], \"y\": [0.7068234704531743]}, {\"hoverinfo\": \"none\", \"marker\": {\"color\": \"rgba(255, 255, 255, 0.0)\", \"line\": {\"color\": \"rgba(255, 255, 255, 0.0)\", \"width\": 1}, \"size\": 20, \"symbol\": \"circle\"}, \"mode\": \"markers+text\", \"text\": [\"('Utah Jazz',)\"], \"textfont\": {\"color\": \"rgb(0, 0, 0)\"}, \"textposition\": \"middle center\", \"type\": \"scatter\", \"x\": [0.4458198051341652], \"y\": [0.06472032037273356]}, {\"hoverinfo\": \"none\", \"marker\": {\"color\": \"rgba(255, 255, 255, 0.0)\", \"line\": {\"color\": \"rgba(255, 255, 255, 0.0)\", \"width\": 1}, \"size\": 20, \"symbol\": \"circle\"}, \"mode\": \"markers+text\", \"text\": [\"('Sacramento Kings',)\"], \"textfont\": {\"color\": \"rgb(0, 0, 0)\"}, \"textposition\": \"middle center\", \"type\": \"scatter\", \"x\": [0.1620041872364254], \"y\": [0.4757845613195645]}, {\"hoverinfo\": \"none\", \"marker\": {\"color\": \"rgba(255, 255, 255, 0.0)\", \"line\": {\"color\": \"rgba(255, 255, 255, 0.0)\", \"width\": 1}, \"size\": 20, \"symbol\": \"circle\"}, \"mode\": \"markers+text\", \"text\": [\"('Atlanta Hawks',)\"], \"textfont\": {\"color\": \"rgb(0, 0, 0)\"}, \"textposition\": \"middle center\", \"type\": \"scatter\", \"x\": [0.33300329099006487], \"y\": [0.8813151598035718]}, {\"hoverinfo\": \"none\", \"marker\": {\"color\": \"rgba(255, 255, 255, 0.0)\", \"line\": {\"color\": \"rgba(255, 255, 255, 0.0)\", \"width\": 1}, \"size\": 20, \"symbol\": \"circle\"}, \"mode\": \"markers+text\", \"text\": [\"('Orlando Magic',)\"], \"textfont\": {\"color\": \"rgb(0, 0, 0)\"}, \"textposition\": \"middle center\", \"type\": \"scatter\", \"x\": [0.7833382112958032], \"y\": [0.6270028197830154]}, {\"hoverinfo\": \"none\", \"marker\": {\"color\": \"rgba(255, 255, 255, 0.0)\", \"line\": {\"color\": \"rgba(255, 255, 255, 0.0)\", \"width\": 1}, \"size\": 20, \"symbol\": \"circle\"}, \"mode\": \"markers+text\", \"text\": [\"('San Antonio Spurs',)\"], \"textfont\": {\"color\": \"rgb(0, 0, 0)\"}, \"textposition\": \"middle center\", \"type\": \"scatter\", \"x\": [0.0964941873496099], \"y\": [0.06479736535237024]}, {\"hoverinfo\": \"none\", \"mode\": \"text\", \"text\": [null, null, null, null, null, null, null, null, null, null, null, null, null, null, null, null, null, null, null, null, null, null, null, null, null, null, null, null, null, null, null, null, null, null, null, null, null, null, null, null, null, null, null, null, null, null], \"textfont\": {\"color\": \"rgb(0, 0, 0)\"}, \"textposition\": \"middle center\", \"type\": \"scatter\", \"x\": [0.2150042809237758, 0.29769393718657233, 0.15004903896305696, 0.28697777978056327, 0.2814118948775985, 0.6750027234495011, 0.5797417981923244, 0.7051238064097648, 0.1837999633052978, 0.09238890575788385, 0.3065214564062382, 0.2345790117815549, 0.05875765306800043, 0.27832103234525063, 0.17467900357453248, 0.5802930486153103, 0.391878713238047, 0.6501855358811746, 0.6807059931695598, 0.45376904241279054, 0.41162386849588406, 0.4862254808920491, 0.6520562609791875, 0.23430733798168032, 0.3406193148469759, 0.3568558898719227, 0.3769233285820922, 0.42360548498937023, 0.7396830697427031, 0.33947870839910527, 0.6143028959440429, 0.5257600842593856, 0.7037446545656659, 0.1351633875931838, 0.36497662088906485, 0.5755329350051561, 0.34508642688037583, 0.5477445841392407, 0.44772705038036337, 0.5069861236102055, 0.4561189792397209, 0.358331306915336, 0.3737867145249749, 0.2580706519333667, 0.23612129460100653, 0.5624142041354553], \"y\": [0.6113144344070937, 0.5153422026035948, 0.5434599373428665, 0.4506259060505401, 0.3074718100442812, 0.5621677547893806, 0.4403188946747176, 0.543815252773901, 0.32452444482996706, 0.43685931376504566, 0.6579686317817723, 0.5189961298787624, 0.3002528429448945, 0.456339805506948, 0.635306145277534, 0.39689650142139643, 0.3232100675376299, 0.7788181749653509, 0.4475670195348672, 0.2677864529185791, 0.3241639866001344, 0.47112466087709565, 0.06876056704076035, 0.2214712360805464, 0.7481380433350058, 0.5402680620438972, 0.7425908230508478, 0.8832677821885746, 0.9847976680481498, 0.32595948058104324, 0.3750485572308378, 0.25235932186530624, 0.2720655626753617, 0.4687373932740121, 0.25969492976649716, 0.9238072262142462, 0.24023167696483447, 0.4623687114645336, 0.6531015670754388, 0.29088645539126057, 0.3456250118635124, 0.5133017794514732, 0.5834035167547105, 0.7980753755981401, 0.6945666060780205, 0.7792348658286423]}, {\"hoverinfo\": \"none\", \"marker\": {\"color\": \"rgba(255, 255, 255, 0.0)\", \"line\": {\"color\": \"rgba(255, 255, 255, 0.0)\", \"width\": 0}, \"size\": 0, \"symbol\": \"circle\"}, \"mode\": \"markers\", \"type\": \"scatter\", \"x\": [0.5, 0.0, 1.0, 0.5], \"y\": [0.0, 0.5, 0.5, 1.0]}],\n",
       "                        {\"height\": 526.0, \"margin\": {\"b\": 0, \"l\": 0, \"r\": 0, \"t\": 0}, \"showlegend\": false, \"sliders\": [{\"currentvalue\": {\"visible\": false}, \"steps\": [{\"args\": [[0], {\"frame\": {\"redraw\": false}, \"mode\": \"immediate\"}], \"label\": \"\", \"method\": \"animate\"}, {\"args\": [[1], {\"frame\": {\"redraw\": false}, \"mode\": \"immediate\"}], \"label\": \"\", \"method\": \"animate\"}]}], \"template\": {\"data\": {\"bar\": [{\"error_x\": {\"color\": \"#2a3f5f\"}, \"error_y\": {\"color\": \"#2a3f5f\"}, \"marker\": {\"line\": {\"color\": \"#E5ECF6\", \"width\": 0.5}}, \"type\": \"bar\"}], \"barpolar\": [{\"marker\": {\"line\": {\"color\": \"#E5ECF6\", \"width\": 0.5}}, \"type\": \"barpolar\"}], \"carpet\": [{\"aaxis\": {\"endlinecolor\": \"#2a3f5f\", \"gridcolor\": \"white\", \"linecolor\": \"white\", \"minorgridcolor\": \"white\", \"startlinecolor\": \"#2a3f5f\"}, \"baxis\": {\"endlinecolor\": \"#2a3f5f\", \"gridcolor\": \"white\", \"linecolor\": \"white\", \"minorgridcolor\": \"white\", \"startlinecolor\": \"#2a3f5f\"}, \"type\": \"carpet\"}], \"choropleth\": [{\"colorbar\": {\"outlinewidth\": 0, \"ticks\": \"\"}, \"type\": \"choropleth\"}], \"contour\": [{\"colorbar\": {\"outlinewidth\": 0, \"ticks\": \"\"}, \"colorscale\": [[0.0, \"#0d0887\"], [0.1111111111111111, \"#46039f\"], [0.2222222222222222, \"#7201a8\"], [0.3333333333333333, \"#9c179e\"], [0.4444444444444444, \"#bd3786\"], [0.5555555555555556, \"#d8576b\"], [0.6666666666666666, \"#ed7953\"], [0.7777777777777778, \"#fb9f3a\"], [0.8888888888888888, \"#fdca26\"], [1.0, \"#f0f921\"]], \"type\": \"contour\"}], \"contourcarpet\": [{\"colorbar\": {\"outlinewidth\": 0, \"ticks\": \"\"}, \"type\": \"contourcarpet\"}], \"heatmap\": [{\"colorbar\": {\"outlinewidth\": 0, \"ticks\": \"\"}, \"colorscale\": [[0.0, \"#0d0887\"], [0.1111111111111111, \"#46039f\"], [0.2222222222222222, \"#7201a8\"], [0.3333333333333333, \"#9c179e\"], [0.4444444444444444, \"#bd3786\"], [0.5555555555555556, \"#d8576b\"], [0.6666666666666666, \"#ed7953\"], [0.7777777777777778, \"#fb9f3a\"], [0.8888888888888888, \"#fdca26\"], [1.0, \"#f0f921\"]], \"type\": \"heatmap\"}], \"heatmapgl\": [{\"colorbar\": {\"outlinewidth\": 0, \"ticks\": \"\"}, \"colorscale\": [[0.0, \"#0d0887\"], [0.1111111111111111, \"#46039f\"], [0.2222222222222222, \"#7201a8\"], [0.3333333333333333, \"#9c179e\"], [0.4444444444444444, \"#bd3786\"], [0.5555555555555556, \"#d8576b\"], [0.6666666666666666, \"#ed7953\"], [0.7777777777777778, \"#fb9f3a\"], [0.8888888888888888, \"#fdca26\"], [1.0, \"#f0f921\"]], \"type\": \"heatmapgl\"}], \"histogram\": [{\"marker\": {\"colorbar\": {\"outlinewidth\": 0, \"ticks\": \"\"}}, \"type\": \"histogram\"}], \"histogram2d\": [{\"colorbar\": {\"outlinewidth\": 0, \"ticks\": \"\"}, \"colorscale\": [[0.0, \"#0d0887\"], [0.1111111111111111, \"#46039f\"], [0.2222222222222222, \"#7201a8\"], [0.3333333333333333, \"#9c179e\"], [0.4444444444444444, \"#bd3786\"], [0.5555555555555556, \"#d8576b\"], [0.6666666666666666, \"#ed7953\"], [0.7777777777777778, \"#fb9f3a\"], [0.8888888888888888, \"#fdca26\"], [1.0, \"#f0f921\"]], \"type\": \"histogram2d\"}], \"histogram2dcontour\": [{\"colorbar\": {\"outlinewidth\": 0, \"ticks\": \"\"}, \"colorscale\": [[0.0, \"#0d0887\"], [0.1111111111111111, \"#46039f\"], [0.2222222222222222, \"#7201a8\"], [0.3333333333333333, \"#9c179e\"], [0.4444444444444444, \"#bd3786\"], [0.5555555555555556, \"#d8576b\"], [0.6666666666666666, \"#ed7953\"], [0.7777777777777778, \"#fb9f3a\"], [0.8888888888888888, \"#fdca26\"], [1.0, \"#f0f921\"]], \"type\": \"histogram2dcontour\"}], \"mesh3d\": [{\"colorbar\": {\"outlinewidth\": 0, \"ticks\": \"\"}, \"type\": \"mesh3d\"}], \"parcoords\": [{\"line\": {\"colorbar\": {\"outlinewidth\": 0, \"ticks\": \"\"}}, \"type\": \"parcoords\"}], \"scatter\": [{\"marker\": {\"colorbar\": {\"outlinewidth\": 0, \"ticks\": \"\"}}, \"type\": \"scatter\"}], \"scatter3d\": [{\"line\": {\"colorbar\": {\"outlinewidth\": 0, \"ticks\": \"\"}}, \"marker\": {\"colorbar\": {\"outlinewidth\": 0, \"ticks\": \"\"}}, \"type\": \"scatter3d\"}], \"scattercarpet\": [{\"marker\": {\"colorbar\": {\"outlinewidth\": 0, \"ticks\": \"\"}}, \"type\": \"scattercarpet\"}], \"scattergeo\": [{\"marker\": {\"colorbar\": {\"outlinewidth\": 0, \"ticks\": \"\"}}, \"type\": \"scattergeo\"}], \"scattergl\": [{\"marker\": {\"colorbar\": {\"outlinewidth\": 0, \"ticks\": \"\"}}, \"type\": \"scattergl\"}], \"scattermapbox\": [{\"marker\": {\"colorbar\": {\"outlinewidth\": 0, \"ticks\": \"\"}}, \"type\": \"scattermapbox\"}], \"scatterpolar\": [{\"marker\": {\"colorbar\": {\"outlinewidth\": 0, \"ticks\": \"\"}}, \"type\": \"scatterpolar\"}], \"scatterpolargl\": [{\"marker\": {\"colorbar\": {\"outlinewidth\": 0, \"ticks\": \"\"}}, \"type\": \"scatterpolargl\"}], \"scatterternary\": [{\"marker\": {\"colorbar\": {\"outlinewidth\": 0, \"ticks\": \"\"}}, \"type\": \"scatterternary\"}], \"surface\": [{\"colorbar\": {\"outlinewidth\": 0, \"ticks\": \"\"}, \"colorscale\": [[0.0, \"#0d0887\"], [0.1111111111111111, \"#46039f\"], [0.2222222222222222, \"#7201a8\"], [0.3333333333333333, \"#9c179e\"], [0.4444444444444444, \"#bd3786\"], [0.5555555555555556, \"#d8576b\"], [0.6666666666666666, \"#ed7953\"], [0.7777777777777778, \"#fb9f3a\"], [0.8888888888888888, \"#fdca26\"], [1.0, \"#f0f921\"]], \"type\": \"surface\"}], \"table\": [{\"cells\": {\"fill\": {\"color\": \"#EBF0F8\"}, \"line\": {\"color\": \"white\"}}, \"header\": {\"fill\": {\"color\": \"#C8D4E3\"}, \"line\": {\"color\": \"white\"}}, \"type\": \"table\"}]}, \"layout\": {\"annotationdefaults\": {\"arrowcolor\": \"#2a3f5f\", \"arrowhead\": 0, \"arrowwidth\": 1}, \"colorscale\": {\"diverging\": [[0, \"#8e0152\"], [0.1, \"#c51b7d\"], [0.2, \"#de77ae\"], [0.3, \"#f1b6da\"], [0.4, \"#fde0ef\"], [0.5, \"#f7f7f7\"], [0.6, \"#e6f5d0\"], [0.7, \"#b8e186\"], [0.8, \"#7fbc41\"], [0.9, \"#4d9221\"], [1, \"#276419\"]], \"sequential\": [[0.0, \"#0d0887\"], [0.1111111111111111, \"#46039f\"], [0.2222222222222222, \"#7201a8\"], [0.3333333333333333, \"#9c179e\"], [0.4444444444444444, \"#bd3786\"], [0.5555555555555556, \"#d8576b\"], [0.6666666666666666, \"#ed7953\"], [0.7777777777777778, \"#fb9f3a\"], [0.8888888888888888, \"#fdca26\"], [1.0, \"#f0f921\"]], \"sequentialminus\": [[0.0, \"#0d0887\"], [0.1111111111111111, \"#46039f\"], [0.2222222222222222, \"#7201a8\"], [0.3333333333333333, \"#9c179e\"], [0.4444444444444444, \"#bd3786\"], [0.5555555555555556, \"#d8576b\"], [0.6666666666666666, \"#ed7953\"], [0.7777777777777778, \"#fb9f3a\"], [0.8888888888888888, \"#fdca26\"], [1.0, \"#f0f921\"]]}, \"colorway\": [\"#636efa\", \"#EF553B\", \"#00cc96\", \"#ab63fa\", \"#FFA15A\", \"#19d3f3\", \"#FF6692\", \"#B6E880\", \"#FF97FF\", \"#FECB52\"], \"font\": {\"color\": \"#2a3f5f\"}, \"geo\": {\"bgcolor\": \"white\", \"lakecolor\": \"white\", \"landcolor\": \"#E5ECF6\", \"showlakes\": true, \"showland\": true, \"subunitcolor\": \"white\"}, \"hoverlabel\": {\"align\": \"left\"}, \"hovermode\": \"closest\", \"mapbox\": {\"style\": \"light\"}, \"paper_bgcolor\": \"white\", \"plot_bgcolor\": \"#E5ECF6\", \"polar\": {\"angularaxis\": {\"gridcolor\": \"white\", \"linecolor\": \"white\", \"ticks\": \"\"}, \"bgcolor\": \"#E5ECF6\", \"radialaxis\": {\"gridcolor\": \"white\", \"linecolor\": \"white\", \"ticks\": \"\"}}, \"scene\": {\"xaxis\": {\"backgroundcolor\": \"#E5ECF6\", \"gridcolor\": \"white\", \"gridwidth\": 2, \"linecolor\": \"white\", \"showbackground\": true, \"ticks\": \"\", \"zerolinecolor\": \"white\"}, \"yaxis\": {\"backgroundcolor\": \"#E5ECF6\", \"gridcolor\": \"white\", \"gridwidth\": 2, \"linecolor\": \"white\", \"showbackground\": true, \"ticks\": \"\", \"zerolinecolor\": \"white\"}, \"zaxis\": {\"backgroundcolor\": \"#E5ECF6\", \"gridcolor\": \"white\", \"gridwidth\": 2, \"linecolor\": \"white\", \"showbackground\": true, \"ticks\": \"\", \"zerolinecolor\": \"white\"}}, \"shapedefaults\": {\"line\": {\"color\": \"#2a3f5f\"}}, \"ternary\": {\"aaxis\": {\"gridcolor\": \"white\", \"linecolor\": \"white\", \"ticks\": \"\"}, \"baxis\": {\"gridcolor\": \"white\", \"linecolor\": \"white\", \"ticks\": \"\"}, \"bgcolor\": \"#E5ECF6\", \"caxis\": {\"gridcolor\": \"white\", \"linecolor\": \"white\", \"ticks\": \"\"}}, \"title\": {\"x\": 0.05}, \"xaxis\": {\"automargin\": true, \"gridcolor\": \"white\", \"linecolor\": \"white\", \"ticks\": \"\", \"zerolinecolor\": \"white\", \"zerolinewidth\": 2}, \"yaxis\": {\"automargin\": true, \"gridcolor\": \"white\", \"linecolor\": \"white\", \"ticks\": \"\", \"zerolinecolor\": \"white\", \"zerolinewidth\": 2}}}, \"updatemenus\": [{\"buttons\": [{\"args\": [null, {\"frame\": {\"redraw\": false}, \"fromcurrent\": true}], \"label\": \"Play\", \"method\": \"animate\"}, {\"args\": [[null], {\"frame\": {\"redraw\": false}, \"mode\": \"immediate\"}], \"label\": \"Pause\", \"method\": \"animate\"}], \"showactive\": true, \"type\": \"buttons\"}], \"width\": 912.0, \"xaxis\": {\"showgrid\": false, \"showticklabels\": false, \"zeroline\": false}, \"yaxis\": {\"showgrid\": false, \"showticklabels\": false, \"zeroline\": false}},\n",
       "                        {\"staticPlot\": true, \"responsive\": true}\n",
       "                    ).then(function(){\n",
       "                            Plotly.addFrames('77e19bf4-2973-4044-bfb2-408ee9669340', [{\"data\": [{\"hoverinfo\": \"none\", \"line\": {\"color\": \"rgba(255, 255, 255, 0.0)\", \"dash\": \"solid\", \"width\": 1}, \"mode\": \"lines\", \"x\": [0.2422821711210923, 0.1620041872364254, null], \"y\": [0.770245873030432, 0.4757845613195645, null], \"type\": \"scatter\"}, {\"hoverinfo\": \"none\", \"line\": {\"color\": \"rgba(255, 255, 255, 0.0)\", \"dash\": \"solid\", \"width\": 1}, \"mode\": \"lines\", \"x\": [0.2422821711210923, 0.3255064458667908, null], \"y\": [0.770245873030432, 0.24582235548362408, null], \"type\": \"scatter\"}, {\"hoverinfo\": \"none\", \"line\": {\"color\": \"rgba(255, 255, 255, 0.0)\", \"dash\": \"solid\", \"width\": 1}, \"mode\": \"lines\", \"x\": [0.2422821711210923, 0.03644128620803111, null], \"y\": [0.770245873030432, 0.35175858403501037, null], \"type\": \"scatter\"}, {\"hoverinfo\": \"none\", \"line\": {\"color\": \"rgba(255, 255, 255, 0.0)\", \"dash\": \"solid\", \"width\": 1}, \"mode\": \"lines\", \"x\": [0.13252208607152327, 0.42770731430612385, null], \"y\": [0.5741610838281521, 0.28097318733364607, null], \"type\": \"scatter\"}, {\"hoverinfo\": \"none\", \"line\": {\"color\": \"rgba(255, 255, 255, 0.0)\", \"dash\": \"solid\", \"width\": 1}, \"mode\": \"lines\", \"x\": [0.13252208607152327, 0.40881742786550546, null], \"y\": [0.5741610838281521, 0.005922178100667197, null], \"type\": \"scatter\"}, {\"hoverinfo\": \"none\", \"line\": {\"color\": \"rgba(255, 255, 255, 0.0)\", \"dash\": \"solid\", \"width\": 1}, \"mode\": \"lines\", \"x\": [0.6451267827147388, 0.7295274364039469, null], \"y\": [0.420031263248842, 0.6773214880223646, null], \"type\": \"scatter\"}, {\"hoverinfo\": \"none\", \"line\": {\"color\": \"rgba(255, 255, 255, 0.0)\", \"dash\": \"solid\", \"width\": 1}, \"mode\": \"lines\", \"x\": [0.6451267827147388, 0.5251917709552311, null], \"y\": [0.420031263248842, 0.5092254370434016, null], \"type\": \"scatter\"}, {\"hoverinfo\": \"none\", \"line\": {\"color\": \"rgba(255, 255, 255, 0.0)\", \"dash\": \"solid\", \"width\": 1}, \"mode\": \"lines\", \"x\": [0.6451267827147388, 0.7833382112958032, null], \"y\": [0.420031263248842, 0.6270028197830154, null], \"type\": \"scatter\"}, {\"hoverinfo\": \"none\", \"line\": {\"color\": \"rgba(255, 255, 255, 0.0)\", \"dash\": \"solid\", \"width\": 1}, \"mode\": \"lines\", \"x\": [0.03644128620803111, 0.3255064458667908, null], \"y\": [0.35175858403501037, 0.24582235548362408, null], \"type\": \"scatter\"}, {\"hoverinfo\": \"none\", \"line\": {\"color\": \"rgba(255, 255, 255, 0.0)\", \"dash\": \"solid\", \"width\": 1}, \"mode\": \"lines\", \"x\": [0.03644128620803111, 0.1620041872364254, null], \"y\": [0.35175858403501037, 0.4757845613195645, null], \"type\": \"scatter\"}, {\"hoverinfo\": \"none\", \"line\": {\"color\": \"rgba(255, 255, 255, 0.0)\", \"dash\": \"solid\", \"width\": 1}, \"mode\": \"lines\", \"x\": [0.03644128620803111, 0.5906358500620068, null], \"y\": [0.35175858403501037, 0.91837159701635, null], \"type\": \"scatter\"}, {\"hoverinfo\": \"none\", \"line\": {\"color\": \"rgba(255, 255, 255, 0.0)\", \"dash\": \"solid\", \"width\": 1}, \"mode\": \"lines\", \"x\": [0.03644128620803111, 0.4430261862562974, null], \"y\": [0.35175858403501037, 0.6372349120843785, null], \"type\": \"scatter\"}, {\"hoverinfo\": \"none\", \"line\": {\"color\": \"rgba(255, 255, 255, 0.0)\", \"dash\": \"solid\", \"width\": 1}, \"mode\": \"lines\", \"x\": [0.03644128620803111, 0.05329305036451948, null], \"y\": [0.35175858403501037, 0.2353288097052717, null], \"type\": \"scatter\"}, {\"hoverinfo\": \"none\", \"line\": {\"color\": \"rgba(255, 255, 255, 0.0)\", \"dash\": \"solid\", \"width\": 1}, \"mode\": \"lines\", \"x\": [0.03644128620803111, 0.5251917709552311, null], \"y\": [0.35175858403501037, 0.5092254370434016, null], \"type\": \"scatter\"}, {\"hoverinfo\": \"none\", \"line\": {\"color\": \"rgba(255, 255, 255, 0.0)\", \"dash\": \"solid\", \"width\": 1}, \"mode\": \"lines\", \"x\": [0.03644128620803111, 0.33300329099006487, null], \"y\": [0.35175858403501037, 0.8813151598035718, null], \"type\": \"scatter\"}, {\"hoverinfo\": \"none\", \"line\": {\"color\": \"rgba(255, 255, 255, 0.0)\", \"dash\": \"solid\", \"width\": 1}, \"mode\": \"lines\", \"x\": [0.7295274364039469, 0.41184537578801217, null], \"y\": [0.6773214880223646, 0.15550574970768394, null], \"type\": \"scatter\"}, {\"hoverinfo\": \"none\", \"line\": {\"color\": \"rgba(255, 255, 255, 0.0)\", \"dash\": \"solid\", \"width\": 1}, \"mode\": \"lines\", \"x\": [0.7295274364039469, 0.040852296249109354, null], \"y\": [0.6773214880223646, 0.015556645505791722, null], \"type\": \"scatter\"}, {\"hoverinfo\": \"none\", \"line\": {\"color\": \"rgba(255, 255, 255, 0.0)\", \"dash\": \"solid\", \"width\": 1}, \"mode\": \"lines\", \"x\": [0.7295274364039469, 0.5906358500620068, null], \"y\": [0.6773214880223646, 0.91837159701635, null], \"type\": \"scatter\"}, {\"hoverinfo\": \"none\", \"line\": {\"color\": \"rgba(255, 255, 255, 0.0)\", \"dash\": \"solid\", \"width\": 1}, \"mode\": \"lines\", \"x\": [0.839754753501359, 0.5251917709552311, null], \"y\": [0.43800342784795454, 0.5092254370434016, null], \"type\": \"scatter\"}, {\"hoverinfo\": \"none\", \"line\": {\"color\": \"rgba(255, 255, 255, 0.0)\", \"dash\": \"solid\", \"width\": 1}, \"mode\": \"lines\", \"x\": [0.40881742786550546, 0.5251917709552311, null], \"y\": [0.005922178100667197, 0.5092254370434016, null], \"type\": \"scatter\"}, {\"hoverinfo\": \"none\", \"line\": {\"color\": \"rgba(255, 255, 255, 0.0)\", \"dash\": \"solid\", \"width\": 1}, \"mode\": \"lines\", \"x\": [0.40881742786550546, 0.4430261862562974, null], \"y\": [0.005922178100667197, 0.6372349120843785, null], \"type\": \"scatter\"}, {\"hoverinfo\": \"none\", \"line\": {\"color\": \"rgba(255, 255, 255, 0.0)\", \"dash\": \"solid\", \"width\": 1}, \"mode\": \"lines\", \"x\": [0.40881742786550546, 0.5906358500620068, null], \"y\": [0.005922178100667197, 0.91837159701635, null], \"type\": \"scatter\"}, {\"hoverinfo\": \"none\", \"line\": {\"color\": \"rgba(255, 255, 255, 0.0)\", \"dash\": \"solid\", \"width\": 1}, \"mode\": \"lines\", \"x\": [0.40881742786550546, 0.8976478374822048, null], \"y\": [0.005922178100667197, 0.07928176083471472, null], \"type\": \"scatter\"}, {\"hoverinfo\": \"none\", \"line\": {\"color\": \"rgba(255, 255, 255, 0.0)\", \"dash\": \"solid\", \"width\": 1}, \"mode\": \"lines\", \"x\": [0.05329305036451948, 0.41184537578801217, null], \"y\": [0.2353288097052717, 0.15550574970768394, null], \"type\": \"scatter\"}, {\"hoverinfo\": \"none\", \"line\": {\"color\": \"rgba(255, 255, 255, 0.0)\", \"dash\": \"solid\", \"width\": 1}, \"mode\": \"lines\", \"x\": [0.4430261862562974, 0.2557423809559065, null], \"y\": [0.6372349120843785, 0.9006353590369995, null], \"type\": \"scatter\"}, {\"hoverinfo\": \"none\", \"line\": {\"color\": \"rgba(255, 255, 255, 0.0)\", \"dash\": \"solid\", \"width\": 1}, \"mode\": \"lines\", \"x\": [0.4430261862562974, 0.25924035686843705, null], \"y\": [0.6372349120843785, 0.4914512229221102, null], \"type\": \"scatter\"}, {\"hoverinfo\": \"none\", \"line\": {\"color\": \"rgba(255, 255, 255, 0.0)\", \"dash\": \"solid\", \"width\": 1}, \"mode\": \"lines\", \"x\": [0.4430261862562974, 0.33300329099006487, null], \"y\": [0.6372349120843785, 0.8813151598035718, null], \"type\": \"scatter\"}, {\"hoverinfo\": \"none\", \"line\": {\"color\": \"rgba(255, 255, 255, 0.0)\", \"dash\": \"solid\", \"width\": 1}, \"mode\": \"lines\", \"x\": [0.5906358500620068, 0.2557423809559065, null], \"y\": [0.91837159701635, 0.9006353590369995, null], \"type\": \"scatter\"}, {\"hoverinfo\": \"none\", \"line\": {\"color\": \"rgba(255, 255, 255, 0.0)\", \"dash\": \"solid\", \"width\": 1}, \"mode\": \"lines\", \"x\": [0.5906358500620068, 0.8928966941182267, null], \"y\": [0.91837159701635, 0.9992849993933854, null], \"type\": \"scatter\"}, {\"hoverinfo\": \"none\", \"line\": {\"color\": \"rgba(255, 255, 255, 0.0)\", \"dash\": \"solid\", \"width\": 1}, \"mode\": \"lines\", \"x\": [0.42770731430612385, 0.2632211166234796, null], \"y\": [0.28097318733364607, 0.4186672377198427, null], \"type\": \"scatter\"}, {\"hoverinfo\": \"none\", \"line\": {\"color\": \"rgba(255, 255, 255, 0.0)\", \"dash\": \"solid\", \"width\": 1}, \"mode\": \"lines\", \"x\": [0.42770731430612385, 0.8064662404424623, null], \"y\": [0.28097318733364607, 0.4176252748388205, null], \"type\": \"scatter\"}, {\"hoverinfo\": \"none\", \"line\": {\"color\": \"rgba(255, 255, 255, 0.0)\", \"dash\": \"solid\", \"width\": 1}, \"mode\": \"lines\", \"x\": [0.8976478374822048, 0.1620041872364254, null], \"y\": [0.07928176083471472, 0.4757845613195645, null], \"type\": \"scatter\"}, {\"hoverinfo\": \"none\", \"line\": {\"color\": \"rgba(255, 255, 255, 0.0)\", \"dash\": \"solid\", \"width\": 1}, \"mode\": \"lines\", \"x\": [0.8976478374822048, 0.5251917709552311, null], \"y\": [0.07928176083471472, 0.5092254370434016, null], \"type\": \"scatter\"}, {\"hoverinfo\": \"none\", \"line\": {\"color\": \"rgba(255, 255, 255, 0.0)\", \"dash\": \"solid\", \"width\": 1}, \"mode\": \"lines\", \"x\": [0.040852296249109354, 0.2557423809559065, null], \"y\": [0.015556645505791722, 0.9006353590369995, null], \"type\": \"scatter\"}, {\"hoverinfo\": \"none\", \"line\": {\"color\": \"rgba(255, 255, 255, 0.0)\", \"dash\": \"solid\", \"width\": 1}, \"mode\": \"lines\", \"x\": [0.2632211166234796, 0.4458198051341652, null], \"y\": [0.4186672377198427, 0.06472032037273356, null], \"type\": \"scatter\"}, {\"hoverinfo\": \"none\", \"line\": {\"color\": \"rgba(255, 255, 255, 0.0)\", \"dash\": \"solid\", \"width\": 1}, \"mode\": \"lines\", \"x\": [0.8928966941182267, 0.2557423809559065, null], \"y\": [0.9992849993933854, 0.9006353590369995, null], \"type\": \"scatter\"}, {\"hoverinfo\": \"none\", \"line\": {\"color\": \"rgba(255, 255, 255, 0.0)\", \"dash\": \"solid\", \"width\": 1}, \"mode\": \"lines\", \"x\": [0.5818933857339115, 0.0964941873496099, null], \"y\": [0.4635414782133458, 0.06479736535237024, null], \"type\": \"scatter\"}, {\"hoverinfo\": \"none\", \"line\": {\"color\": \"rgba(255, 255, 255, 0.0)\", \"dash\": \"solid\", \"width\": 1}, \"mode\": \"lines\", \"x\": [0.5818933857339115, 0.5251917709552311, null], \"y\": [0.4635414782133458, 0.5092254370434016, null], \"type\": \"scatter\"}, {\"hoverinfo\": \"none\", \"line\": {\"color\": \"rgba(255, 255, 255, 0.0)\", \"dash\": \"solid\", \"width\": 1}, \"mode\": \"lines\", \"x\": [0.5818933857339115, 0.33300329099006487, null], \"y\": [0.4635414782133458, 0.8813151598035718, null], \"type\": \"scatter\"}, {\"hoverinfo\": \"none\", \"line\": {\"color\": \"rgba(255, 255, 255, 0.0)\", \"dash\": \"solid\", \"width\": 1}, \"mode\": \"lines\", \"x\": [0.5818933857339115, 0.41184537578801217, null], \"y\": [0.4635414782133458, 0.15550574970768394, null], \"type\": \"scatter\"}, {\"hoverinfo\": \"none\", \"line\": {\"color\": \"rgba(255, 255, 255, 0.0)\", \"dash\": \"solid\", \"width\": 1}, \"mode\": \"lines\", \"x\": [0.41184537578801217, 0.5251917709552311, null], \"y\": [0.15550574970768394, 0.5092254370434016, null], \"type\": \"scatter\"}, {\"hoverinfo\": \"none\", \"line\": {\"color\": \"rgba(255, 255, 255, 0.0)\", \"dash\": \"solid\", \"width\": 1}, \"mode\": \"lines\", \"x\": [0.41184537578801217, 0.33300329099006487, null], \"y\": [0.15550574970768394, 0.8813151598035718, null], \"type\": \"scatter\"}, {\"hoverinfo\": \"none\", \"line\": {\"color\": \"rgba(255, 255, 255, 0.0)\", \"dash\": \"solid\", \"width\": 1}, \"mode\": \"lines\", \"x\": [0.5251917709552311, 0.23233795348105157, null], \"y\": [0.5092254370434016, 0.7068234704531743, null], \"type\": \"scatter\"}, {\"hoverinfo\": \"none\", \"line\": {\"color\": \"rgba(255, 255, 255, 0.0)\", \"dash\": \"solid\", \"width\": 1}, \"mode\": \"lines\", \"x\": [0.2557423809559065, 0.23233795348105157, null], \"y\": [0.9006353590369995, 0.7068234704531743, null], \"type\": \"scatter\"}, {\"hoverinfo\": \"none\", \"line\": {\"color\": \"rgba(255, 255, 255, 0.0)\", \"dash\": \"solid\", \"width\": 1}, \"mode\": \"lines\", \"x\": [0.1620041872364254, 0.33300329099006487, null], \"y\": [0.4757845613195645, 0.8813151598035718, null], \"type\": \"scatter\"}, {\"hoverinfo\": \"none\", \"line\": {\"color\": \"rgba(255, 255, 255, 0.0)\", \"dash\": \"solid\", \"width\": 1}, \"mode\": \"lines\", \"x\": [0.33300329099006487, 0.7833382112958032, null], \"y\": [0.8813151598035718, 0.6270028197830154, null], \"type\": \"scatter\"}, {\"hoverinfo\": \"none\", \"marker\": {\"color\": \"rgba(255, 255, 255, 0.0)\", \"line\": {\"color\": \"rgba(255, 255, 255, 0.0)\", \"width\": 1}, \"size\": 20, \"symbol\": \"circle\"}, \"mode\": \"markers+text\", \"text\": [\"('Golden State Warriors',)\"], \"textfont\": {\"color\": \"rgb(0, 0, 0)\"}, \"textposition\": \"middle center\", \"x\": [0.2422821711210923], \"y\": [0.770245873030432], \"type\": \"scatter\"}, {\"hoverinfo\": \"none\", \"marker\": {\"color\": \"rgba(255, 255, 255, 0.0)\", \"line\": {\"color\": \"rgba(255, 255, 255, 0.0)\", \"width\": 1}, \"size\": 20, \"symbol\": \"circle\"}, \"mode\": \"markers+text\", \"text\": [\"('LA Clippers',)\"], \"textfont\": {\"color\": \"rgb(0, 0, 0)\"}, \"textposition\": \"middle center\", \"x\": [0.13252208607152327], \"y\": [0.5741610838281521], \"type\": \"scatter\"}, {\"hoverinfo\": \"none\", \"marker\": {\"color\": \"rgba(255, 255, 255, 0.0)\", \"line\": {\"color\": \"rgba(255, 255, 255, 0.0)\", \"width\": 1}, \"size\": 20, \"symbol\": \"circle\"}, \"mode\": \"markers+text\", \"text\": [\"('Boston Celtics',)\"], \"textfont\": {\"color\": \"rgb(0, 0, 0)\"}, \"textposition\": \"middle center\", \"x\": [0.715493075132561], \"y\": [0.8604383158653254], \"type\": \"scatter\"}, {\"hoverinfo\": \"none\", \"marker\": {\"color\": \"rgba(255, 255, 255, 0.0)\", \"line\": {\"color\": \"rgba(255, 255, 255, 0.0)\", \"width\": 1}, \"size\": 20, \"symbol\": \"circle\"}, \"mode\": \"markers+text\", \"text\": [\"('Chicago Bulls',)\"], \"textfont\": {\"color\": \"rgb(0, 0, 0)\"}, \"textposition\": \"middle center\", \"x\": [0.6451267827147388], \"y\": [0.420031263248842], \"type\": \"scatter\"}, {\"hoverinfo\": \"none\", \"marker\": {\"color\": \"rgba(255, 255, 255, 0.0)\", \"line\": {\"color\": \"rgba(255, 255, 255, 0.0)\", \"width\": 1}, \"size\": 20, \"symbol\": \"circle\"}, \"mode\": \"markers+text\", \"text\": [\"('Houston Rockets',)\"], \"textfont\": {\"color\": \"rgb(0, 0, 0)\"}, \"textposition\": \"middle center\", \"x\": [0.03644128620803111], \"y\": [0.35175858403501037], \"type\": \"scatter\"}, {\"hoverinfo\": \"none\", \"marker\": {\"color\": \"rgba(255, 255, 255, 0.0)\", \"line\": {\"color\": \"rgba(255, 255, 255, 0.0)\", \"width\": 1}, \"size\": 20, \"symbol\": \"circle\"}, \"mode\": \"markers+text\", \"text\": [\"('Cleveland Cavaliers',)\"], \"textfont\": {\"color\": \"rgb(0, 0, 0)\"}, \"textposition\": \"middle center\", \"x\": [0.7295274364039469], \"y\": [0.6773214880223646], \"type\": \"scatter\"}, {\"hoverinfo\": \"none\", \"marker\": {\"color\": \"rgba(255, 255, 255, 0.0)\", \"line\": {\"color\": \"rgba(255, 255, 255, 0.0)\", \"width\": 1}, \"size\": 20, \"symbol\": \"circle\"}, \"mode\": \"markers+text\", \"text\": [\"('Dallas Mavericks',)\"], \"textfont\": {\"color\": \"rgb(0, 0, 0)\"}, \"textposition\": \"middle center\", \"x\": [0.839754753501359], \"y\": [0.43800342784795454], \"type\": \"scatter\"}, {\"hoverinfo\": \"none\", \"marker\": {\"color\": \"rgba(255, 255, 255, 0.0)\", \"line\": {\"color\": \"rgba(255, 255, 255, 0.0)\", \"width\": 1}, \"size\": 20, \"symbol\": \"circle\"}, \"mode\": \"markers+text\", \"text\": [\"('Los Angeles Lakers',)\"], \"textfont\": {\"color\": \"rgb(0, 0, 0)\"}, \"textposition\": \"middle center\", \"x\": [0.40881742786550546], \"y\": [0.005922178100667197], \"type\": \"scatter\"}, {\"hoverinfo\": \"none\", \"marker\": {\"color\": \"rgba(255, 255, 255, 0.0)\", \"line\": {\"color\": \"rgba(255, 255, 255, 0.0)\", \"width\": 1}, \"size\": 20, \"symbol\": \"circle\"}, \"mode\": \"markers+text\", \"text\": [\"('Brooklyn Nets',)\"], \"textfont\": {\"color\": \"rgb(0, 0, 0)\"}, \"textposition\": \"middle center\", \"x\": [0.05329305036451948], \"y\": [0.2353288097052717], \"type\": \"scatter\"}, {\"hoverinfo\": \"none\", \"marker\": {\"color\": \"rgba(255, 255, 255, 0.0)\", \"line\": {\"color\": \"rgba(255, 255, 255, 0.0)\", \"width\": 1}, \"size\": 20, \"symbol\": \"circle\"}, \"mode\": \"markers+text\", \"text\": [\"('Memphis Grizzlies',)\"], \"textfont\": {\"color\": \"rgb(0, 0, 0)\"}, \"textposition\": \"middle center\", \"x\": [0.4430261862562974], \"y\": [0.6372349120843785], \"type\": \"scatter\"}, {\"hoverinfo\": \"none\", \"marker\": {\"color\": \"rgba(255, 255, 255, 0.0)\", \"line\": {\"color\": \"rgba(255, 255, 255, 0.0)\", \"width\": 1}, \"size\": 20, \"symbol\": \"circle\"}, \"mode\": \"markers+text\", \"text\": [\"('Washington Wizards',)\"], \"textfont\": {\"color\": \"rgb(0, 0, 0)\"}, \"textposition\": \"middle center\", \"x\": [0.5906358500620068], \"y\": [0.91837159701635], \"type\": \"scatter\"}, {\"hoverinfo\": \"none\", \"marker\": {\"color\": \"rgba(255, 255, 255, 0.0)\", \"line\": {\"color\": \"rgba(255, 255, 255, 0.0)\", \"width\": 1}, \"size\": 20, \"symbol\": \"circle\"}, \"mode\": \"markers+text\", \"text\": [\"('Oklahoma City Thunder',)\"], \"textfont\": {\"color\": \"rgb(0, 0, 0)\"}, \"textposition\": \"middle center\", \"x\": [0.42770731430612385], \"y\": [0.28097318733364607], \"type\": \"scatter\"}, {\"hoverinfo\": \"none\", \"marker\": {\"color\": \"rgba(255, 255, 255, 0.0)\", \"line\": {\"color\": \"rgba(255, 255, 255, 0.0)\", \"width\": 1}, \"size\": 20, \"symbol\": \"circle\"}, \"mode\": \"markers+text\", \"text\": [\"('Miami Heat',)\"], \"textfont\": {\"color\": \"rgb(0, 0, 0)\"}, \"textposition\": \"middle center\", \"x\": [0.3255064458667908], \"y\": [0.24582235548362408], \"type\": \"scatter\"}, {\"hoverinfo\": \"none\", \"marker\": {\"color\": \"rgba(255, 255, 255, 0.0)\", \"line\": {\"color\": \"rgba(255, 255, 255, 0.0)\", \"width\": 1}, \"size\": 20, \"symbol\": \"circle\"}, \"mode\": \"markers+text\", \"text\": [\"('Minnesota Timberwolves',)\"], \"textfont\": {\"color\": \"rgb(0, 0, 0)\"}, \"textposition\": \"middle center\", \"x\": [0.8976478374822048], \"y\": [0.07928176083471472], \"type\": \"scatter\"}, {\"hoverinfo\": \"none\", \"marker\": {\"color\": \"rgba(255, 255, 255, 0.0)\", \"line\": {\"color\": \"rgba(255, 255, 255, 0.0)\", \"width\": 1}, \"size\": 20, \"symbol\": \"circle\"}, \"mode\": \"markers+text\", \"text\": [\"('Indiana Pacers',)\"], \"textfont\": {\"color\": \"rgb(0, 0, 0)\"}, \"textposition\": \"middle center\", \"x\": [0.040852296249109354], \"y\": [0.015556645505791722], \"type\": \"scatter\"}, {\"hoverinfo\": \"none\", \"marker\": {\"color\": \"rgba(255, 255, 255, 0.0)\", \"line\": {\"color\": \"rgba(255, 255, 255, 0.0)\", \"width\": 1}, \"size\": 20, \"symbol\": \"circle\"}, \"mode\": \"markers+text\", \"text\": [\"('Denver Nuggets',)\"], \"textfont\": {\"color\": \"rgb(0, 0, 0)\"}, \"textposition\": \"middle center\", \"x\": [0.25924035686843705], \"y\": [0.4914512229221102], \"type\": \"scatter\"}, {\"hoverinfo\": \"none\", \"marker\": {\"color\": \"rgba(255, 255, 255, 0.0)\", \"line\": {\"color\": \"rgba(255, 255, 255, 0.0)\", \"width\": 1}, \"size\": 20, \"symbol\": \"circle\"}, \"mode\": \"markers+text\", \"text\": [\"('Charlotte Hornets',)\"], \"textfont\": {\"color\": \"rgb(0, 0, 0)\"}, \"textposition\": \"middle center\", \"x\": [0.5941941305043772], \"y\": [0.9133530153386847], \"type\": \"scatter\"}, {\"hoverinfo\": \"none\", \"marker\": {\"color\": \"rgba(255, 255, 255, 0.0)\", \"line\": {\"color\": \"rgba(255, 255, 255, 0.0)\", \"width\": 1}, \"size\": 20, \"symbol\": \"circle\"}, \"mode\": \"markers+text\", \"text\": [\"('Philadelphia 76ers',)\"], \"textfont\": {\"color\": \"rgb(0, 0, 0)\"}, \"textposition\": \"middle center\", \"x\": [0.2632211166234796], \"y\": [0.4186672377198427], \"type\": \"scatter\"}, {\"hoverinfo\": \"none\", \"marker\": {\"color\": \"rgba(255, 255, 255, 0.0)\", \"line\": {\"color\": \"rgba(255, 255, 255, 0.0)\", \"width\": 1}, \"size\": 20, \"symbol\": \"circle\"}, \"mode\": \"markers+text\", \"text\": [\"('Portland Trail Blazers',)\"], \"textfont\": {\"color\": \"rgb(0, 0, 0)\"}, \"textposition\": \"middle center\", \"x\": [0.8928966941182267], \"y\": [0.9992849993933854], \"type\": \"scatter\"}, {\"hoverinfo\": \"none\", \"marker\": {\"color\": \"rgba(255, 255, 255, 0.0)\", \"line\": {\"color\": \"rgba(255, 255, 255, 0.0)\", \"width\": 1}, \"size\": 20, \"symbol\": \"circle\"}, \"mode\": \"markers+text\", \"text\": [\"('Milwaukee Bucks',)\"], \"textfont\": {\"color\": \"rgb(0, 0, 0)\"}, \"textposition\": \"middle center\", \"x\": [0.5818933857339115], \"y\": [0.4635414782133458], \"type\": \"scatter\"}, {\"hoverinfo\": \"none\", \"marker\": {\"color\": \"rgba(255, 255, 255, 0.0)\", \"line\": {\"color\": \"rgba(255, 255, 255, 0.0)\", \"width\": 1}, \"size\": 20, \"symbol\": \"circle\"}, \"mode\": \"markers+text\", \"text\": [\"('New Orleans Pelicans',)\"], \"textfont\": {\"color\": \"rgb(0, 0, 0)\"}, \"textposition\": \"middle center\", \"x\": [0.8064662404424623], \"y\": [0.4176252748388205], \"type\": \"scatter\"}, {\"hoverinfo\": \"none\", \"marker\": {\"color\": \"rgba(255, 255, 255, 0.0)\", \"line\": {\"color\": \"rgba(255, 255, 255, 0.0)\", \"width\": 1}, \"size\": 20, \"symbol\": \"circle\"}, \"mode\": \"markers+text\", \"text\": [\"('Toronto Raptors',)\"], \"textfont\": {\"color\": \"rgb(0, 0, 0)\"}, \"textposition\": \"middle center\", \"x\": [0.41184537578801217], \"y\": [0.15550574970768394], \"type\": \"scatter\"}, {\"hoverinfo\": \"none\", \"marker\": {\"color\": \"rgba(255, 255, 255, 0.0)\", \"line\": {\"color\": \"rgba(255, 255, 255, 0.0)\", \"width\": 1}, \"size\": 20, \"symbol\": \"circle\"}, \"mode\": \"markers+text\", \"text\": [\"('Phoenix Suns',)\"], \"textfont\": {\"color\": \"rgb(0, 0, 0)\"}, \"textposition\": \"middle center\", \"x\": [0.5251917709552311], \"y\": [0.5092254370434016], \"type\": \"scatter\"}, {\"hoverinfo\": \"none\", \"marker\": {\"color\": \"rgba(255, 255, 255, 0.0)\", \"line\": {\"color\": \"rgba(255, 255, 255, 0.0)\", \"width\": 1}, \"size\": 20, \"symbol\": \"circle\"}, \"mode\": \"markers+text\", \"text\": [\"('New York Knicks',)\"], \"textfont\": {\"color\": \"rgb(0, 0, 0)\"}, \"textposition\": \"middle center\", \"x\": [0.2557423809559065], \"y\": [0.9006353590369995], \"type\": \"scatter\"}, {\"hoverinfo\": \"none\", \"marker\": {\"color\": \"rgba(255, 255, 255, 0.0)\", \"line\": {\"color\": \"rgba(255, 255, 255, 0.0)\", \"width\": 1}, \"size\": 20, \"symbol\": \"circle\"}, \"mode\": \"markers+text\", \"text\": [\"('Detroit Pistons',)\"], \"textfont\": {\"color\": \"rgb(0, 0, 0)\"}, \"textposition\": \"middle center\", \"x\": [0.23233795348105157], \"y\": [0.7068234704531743], \"type\": \"scatter\"}, {\"hoverinfo\": \"none\", \"marker\": {\"color\": \"rgba(255, 255, 255, 0.0)\", \"line\": {\"color\": \"rgba(255, 255, 255, 0.0)\", \"width\": 1}, \"size\": 20, \"symbol\": \"circle\"}, \"mode\": \"markers+text\", \"text\": [\"('Utah Jazz',)\"], \"textfont\": {\"color\": \"rgb(0, 0, 0)\"}, \"textposition\": \"middle center\", \"x\": [0.4458198051341652], \"y\": [0.06472032037273356], \"type\": \"scatter\"}, {\"hoverinfo\": \"none\", \"marker\": {\"color\": \"rgba(255, 255, 255, 0.0)\", \"line\": {\"color\": \"rgba(255, 255, 255, 0.0)\", \"width\": 1}, \"size\": 20, \"symbol\": \"circle\"}, \"mode\": \"markers+text\", \"text\": [\"('Sacramento Kings',)\"], \"textfont\": {\"color\": \"rgb(0, 0, 0)\"}, \"textposition\": \"middle center\", \"x\": [0.1620041872364254], \"y\": [0.4757845613195645], \"type\": \"scatter\"}, {\"hoverinfo\": \"none\", \"marker\": {\"color\": \"rgba(255, 255, 255, 0.0)\", \"line\": {\"color\": \"rgba(255, 255, 255, 0.0)\", \"width\": 1}, \"size\": 20, \"symbol\": \"circle\"}, \"mode\": \"markers+text\", \"text\": [\"('Atlanta Hawks',)\"], \"textfont\": {\"color\": \"rgb(0, 0, 0)\"}, \"textposition\": \"middle center\", \"x\": [0.33300329099006487], \"y\": [0.8813151598035718], \"type\": \"scatter\"}, {\"hoverinfo\": \"none\", \"marker\": {\"color\": \"rgba(255, 255, 255, 0.0)\", \"line\": {\"color\": \"rgba(255, 255, 255, 0.0)\", \"width\": 1}, \"size\": 20, \"symbol\": \"circle\"}, \"mode\": \"markers+text\", \"text\": [\"('Orlando Magic',)\"], \"textfont\": {\"color\": \"rgb(0, 0, 0)\"}, \"textposition\": \"middle center\", \"x\": [0.7833382112958032], \"y\": [0.6270028197830154], \"type\": \"scatter\"}, {\"hoverinfo\": \"none\", \"marker\": {\"color\": \"rgba(255, 255, 255, 0.0)\", \"line\": {\"color\": \"rgba(255, 255, 255, 0.0)\", \"width\": 1}, \"size\": 20, \"symbol\": \"circle\"}, \"mode\": \"markers+text\", \"text\": [\"('San Antonio Spurs',)\"], \"textfont\": {\"color\": \"rgb(0, 0, 0)\"}, \"textposition\": \"middle center\", \"x\": [0.0964941873496099], \"y\": [0.06479736535237024], \"type\": \"scatter\"}, {\"hoverinfo\": \"none\", \"mode\": \"text\", \"text\": [null, null, null, null, null, null, null, null, null, null, null, null, null, null, null, null, null, null, null, null, null, null, null, null, null, null, null, null, null, null, null, null, null, null, null, null, null, null, null, null, null, null, null, null, null, null], \"textfont\": {\"color\": \"rgb(0, 0, 0)\"}, \"textposition\": \"middle center\", \"x\": [0.2150042809237758, 0.29769393718657233, 0.15004903896305696, 0.28697777978056327, 0.2814118948775985, 0.6750027234495011, 0.5797417981923244, 0.7051238064097648, 0.1837999633052978, 0.09238890575788385, 0.3065214564062382, 0.2345790117815549, 0.05875765306800043, 0.27832103234525063, 0.17467900357453248, 0.5802930486153103, 0.391878713238047, 0.6501855358811746, 0.6807059931695598, 0.45376904241279054, 0.41162386849588406, 0.4862254808920491, 0.6520562609791875, 0.23430733798168032, 0.3406193148469759, 0.3568558898719227, 0.3769233285820922, 0.42360548498937023, 0.7396830697427031, 0.33947870839910527, 0.6143028959440429, 0.5257600842593856, 0.7037446545656659, 0.1351633875931838, 0.36497662088906485, 0.5755329350051561, 0.34508642688037583, 0.5477445841392407, 0.44772705038036337, 0.5069861236102055, 0.4561189792397209, 0.358331306915336, 0.3737867145249749, 0.2580706519333667, 0.23612129460100653, 0.5624142041354553], \"y\": [0.6113144344070937, 0.5153422026035948, 0.5434599373428665, 0.4506259060505401, 0.3074718100442812, 0.5621677547893806, 0.4403188946747176, 0.543815252773901, 0.32452444482996706, 0.43685931376504566, 0.6579686317817723, 0.5189961298787624, 0.3002528429448945, 0.456339805506948, 0.635306145277534, 0.39689650142139643, 0.3232100675376299, 0.7788181749653509, 0.4475670195348672, 0.2677864529185791, 0.3241639866001344, 0.47112466087709565, 0.06876056704076035, 0.2214712360805464, 0.7481380433350058, 0.5402680620438972, 0.7425908230508478, 0.8832677821885746, 0.9847976680481498, 0.32595948058104324, 0.3750485572308378, 0.25235932186530624, 0.2720655626753617, 0.4687373932740121, 0.25969492976649716, 0.9238072262142462, 0.24023167696483447, 0.4623687114645336, 0.6531015670754388, 0.29088645539126057, 0.3456250118635124, 0.5133017794514732, 0.5834035167547105, 0.7980753755981401, 0.6945666060780205, 0.7792348658286423], \"type\": \"scatter\"}, {\"hoverinfo\": \"none\", \"marker\": {\"color\": \"rgba(255, 255, 255, 0.0)\", \"line\": {\"color\": \"rgba(255, 255, 255, 0.0)\", \"width\": 0}, \"size\": 0, \"symbol\": \"circle\"}, \"mode\": \"markers\", \"x\": [0.5, 0.0, 1.0, 0.5], \"y\": [0.0, 0.5, 0.5, 1.0], \"type\": \"scatter\"}], \"name\": \"0\"}, {\"data\": [{\"hoverinfo\": \"none\", \"line\": {\"color\": \"rgb(0, 0, 0)\", \"dash\": \"solid\", \"width\": 1}, \"mode\": \"lines\", \"x\": [0.2422821711210923, 0.1620041872364254, null], \"y\": [0.770245873030432, 0.4757845613195645, null], \"type\": \"scatter\"}, {\"hoverinfo\": \"none\", \"line\": {\"color\": \"rgb(0, 0, 0)\", \"dash\": \"solid\", \"width\": 1}, \"mode\": \"lines\", \"x\": [0.2422821711210923, 0.3255064458667908, null], \"y\": [0.770245873030432, 0.24582235548362408, null], \"type\": \"scatter\"}, {\"hoverinfo\": \"none\", \"line\": {\"color\": \"rgb(0, 0, 0)\", \"dash\": \"solid\", \"width\": 1}, \"mode\": \"lines\", \"x\": [0.2422821711210923, 0.03644128620803111, null], \"y\": [0.770245873030432, 0.35175858403501037, null], \"type\": \"scatter\"}, {\"hoverinfo\": \"none\", \"line\": {\"color\": \"rgb(0, 0, 0)\", \"dash\": \"solid\", \"width\": 1}, \"mode\": \"lines\", \"x\": [0.13252208607152327, 0.42770731430612385, null], \"y\": [0.5741610838281521, 0.28097318733364607, null], \"type\": \"scatter\"}, {\"hoverinfo\": \"none\", \"line\": {\"color\": \"rgb(0, 0, 0)\", \"dash\": \"solid\", \"width\": 1}, \"mode\": \"lines\", \"x\": [0.13252208607152327, 0.40881742786550546, null], \"y\": [0.5741610838281521, 0.005922178100667197, null], \"type\": \"scatter\"}, {\"hoverinfo\": \"none\", \"line\": {\"color\": \"rgb(0, 0, 0)\", \"dash\": \"solid\", \"width\": 1}, \"mode\": \"lines\", \"x\": [0.6451267827147388, 0.7295274364039469, null], \"y\": [0.420031263248842, 0.6773214880223646, null], \"type\": \"scatter\"}, {\"hoverinfo\": \"none\", \"line\": {\"color\": \"rgb(0, 0, 0)\", \"dash\": \"solid\", \"width\": 1}, \"mode\": \"lines\", \"x\": [0.6451267827147388, 0.5251917709552311, null], \"y\": [0.420031263248842, 0.5092254370434016, null], \"type\": \"scatter\"}, {\"hoverinfo\": \"none\", \"line\": {\"color\": \"rgb(0, 0, 0)\", \"dash\": \"solid\", \"width\": 1}, \"mode\": \"lines\", \"x\": [0.6451267827147388, 0.7833382112958032, null], \"y\": [0.420031263248842, 0.6270028197830154, null], \"type\": \"scatter\"}, {\"hoverinfo\": \"none\", \"line\": {\"color\": \"rgb(0, 0, 0)\", \"dash\": \"solid\", \"width\": 1}, \"mode\": \"lines\", \"x\": [0.03644128620803111, 0.3255064458667908, null], \"y\": [0.35175858403501037, 0.24582235548362408, null], \"type\": \"scatter\"}, {\"hoverinfo\": \"none\", \"line\": {\"color\": \"rgb(0, 0, 0)\", \"dash\": \"solid\", \"width\": 1}, \"mode\": \"lines\", \"x\": [0.03644128620803111, 0.1620041872364254, null], \"y\": [0.35175858403501037, 0.4757845613195645, null], \"type\": \"scatter\"}, {\"hoverinfo\": \"none\", \"line\": {\"color\": \"rgb(0, 0, 0)\", \"dash\": \"solid\", \"width\": 1}, \"mode\": \"lines\", \"x\": [0.03644128620803111, 0.5906358500620068, null], \"y\": [0.35175858403501037, 0.91837159701635, null], \"type\": \"scatter\"}, {\"hoverinfo\": \"none\", \"line\": {\"color\": \"rgb(0, 0, 0)\", \"dash\": \"solid\", \"width\": 1}, \"mode\": \"lines\", \"x\": [0.03644128620803111, 0.4430261862562974, null], \"y\": [0.35175858403501037, 0.6372349120843785, null], \"type\": \"scatter\"}, {\"hoverinfo\": \"none\", \"line\": {\"color\": \"rgb(0, 0, 0)\", \"dash\": \"solid\", \"width\": 1}, \"mode\": \"lines\", \"x\": [0.03644128620803111, 0.05329305036451948, null], \"y\": [0.35175858403501037, 0.2353288097052717, null], \"type\": \"scatter\"}, {\"hoverinfo\": \"none\", \"line\": {\"color\": \"rgb(0, 0, 0)\", \"dash\": \"solid\", \"width\": 1}, \"mode\": \"lines\", \"x\": [0.03644128620803111, 0.5251917709552311, null], \"y\": [0.35175858403501037, 0.5092254370434016, null], \"type\": \"scatter\"}, {\"hoverinfo\": \"none\", \"line\": {\"color\": \"rgb(0, 0, 0)\", \"dash\": \"solid\", \"width\": 1}, \"mode\": \"lines\", \"x\": [0.03644128620803111, 0.33300329099006487, null], \"y\": [0.35175858403501037, 0.8813151598035718, null], \"type\": \"scatter\"}, {\"hoverinfo\": \"none\", \"line\": {\"color\": \"rgb(0, 0, 0)\", \"dash\": \"solid\", \"width\": 1}, \"mode\": \"lines\", \"x\": [0.7295274364039469, 0.41184537578801217, null], \"y\": [0.6773214880223646, 0.15550574970768394, null], \"type\": \"scatter\"}, {\"hoverinfo\": \"none\", \"line\": {\"color\": \"rgb(0, 0, 0)\", \"dash\": \"solid\", \"width\": 1}, \"mode\": \"lines\", \"x\": [0.7295274364039469, 0.040852296249109354, null], \"y\": [0.6773214880223646, 0.015556645505791722, null], \"type\": \"scatter\"}, {\"hoverinfo\": \"none\", \"line\": {\"color\": \"rgb(0, 0, 0)\", \"dash\": \"solid\", \"width\": 1}, \"mode\": \"lines\", \"x\": [0.7295274364039469, 0.5906358500620068, null], \"y\": [0.6773214880223646, 0.91837159701635, null], \"type\": \"scatter\"}, {\"hoverinfo\": \"none\", \"line\": {\"color\": \"rgb(0, 0, 0)\", \"dash\": \"solid\", \"width\": 1}, \"mode\": \"lines\", \"x\": [0.839754753501359, 0.5251917709552311, null], \"y\": [0.43800342784795454, 0.5092254370434016, null], \"type\": \"scatter\"}, {\"hoverinfo\": \"none\", \"line\": {\"color\": \"rgb(0, 0, 0)\", \"dash\": \"solid\", \"width\": 1}, \"mode\": \"lines\", \"x\": [0.40881742786550546, 0.5251917709552311, null], \"y\": [0.005922178100667197, 0.5092254370434016, null], \"type\": \"scatter\"}, {\"hoverinfo\": \"none\", \"line\": {\"color\": \"rgb(0, 0, 0)\", \"dash\": \"solid\", \"width\": 1}, \"mode\": \"lines\", \"x\": [0.40881742786550546, 0.4430261862562974, null], \"y\": [0.005922178100667197, 0.6372349120843785, null], \"type\": \"scatter\"}, {\"hoverinfo\": \"none\", \"line\": {\"color\": \"rgb(0, 0, 0)\", \"dash\": \"solid\", \"width\": 1}, \"mode\": \"lines\", \"x\": [0.40881742786550546, 0.5906358500620068, null], \"y\": [0.005922178100667197, 0.91837159701635, null], \"type\": \"scatter\"}, {\"hoverinfo\": \"none\", \"line\": {\"color\": \"rgb(0, 0, 0)\", \"dash\": \"solid\", \"width\": 1}, \"mode\": \"lines\", \"x\": [0.40881742786550546, 0.8976478374822048, null], \"y\": [0.005922178100667197, 0.07928176083471472, null], \"type\": \"scatter\"}, {\"hoverinfo\": \"none\", \"line\": {\"color\": \"rgb(0, 0, 0)\", \"dash\": \"solid\", \"width\": 1}, \"mode\": \"lines\", \"x\": [0.05329305036451948, 0.41184537578801217, null], \"y\": [0.2353288097052717, 0.15550574970768394, null], \"type\": \"scatter\"}, {\"hoverinfo\": \"none\", \"line\": {\"color\": \"rgb(0, 0, 0)\", \"dash\": \"solid\", \"width\": 1}, \"mode\": \"lines\", \"x\": [0.4430261862562974, 0.2557423809559065, null], \"y\": [0.6372349120843785, 0.9006353590369995, null], \"type\": \"scatter\"}, {\"hoverinfo\": \"none\", \"line\": {\"color\": \"rgb(0, 0, 0)\", \"dash\": \"solid\", \"width\": 1}, \"mode\": \"lines\", \"x\": [0.4430261862562974, 0.25924035686843705, null], \"y\": [0.6372349120843785, 0.4914512229221102, null], \"type\": \"scatter\"}, {\"hoverinfo\": \"none\", \"line\": {\"color\": \"rgb(0, 0, 0)\", \"dash\": \"solid\", \"width\": 1}, \"mode\": \"lines\", \"x\": [0.4430261862562974, 0.33300329099006487, null], \"y\": [0.6372349120843785, 0.8813151598035718, null], \"type\": \"scatter\"}, {\"hoverinfo\": \"none\", \"line\": {\"color\": \"rgb(0, 0, 0)\", \"dash\": \"solid\", \"width\": 1}, \"mode\": \"lines\", \"x\": [0.5906358500620068, 0.2557423809559065, null], \"y\": [0.91837159701635, 0.9006353590369995, null], \"type\": \"scatter\"}, {\"hoverinfo\": \"none\", \"line\": {\"color\": \"rgb(0, 0, 0)\", \"dash\": \"solid\", \"width\": 1}, \"mode\": \"lines\", \"x\": [0.5906358500620068, 0.8928966941182267, null], \"y\": [0.91837159701635, 0.9992849993933854, null], \"type\": \"scatter\"}, {\"hoverinfo\": \"none\", \"line\": {\"color\": \"rgb(0, 0, 0)\", \"dash\": \"solid\", \"width\": 1}, \"mode\": \"lines\", \"x\": [0.42770731430612385, 0.2632211166234796, null], \"y\": [0.28097318733364607, 0.4186672377198427, null], \"type\": \"scatter\"}, {\"hoverinfo\": \"none\", \"line\": {\"color\": \"rgb(0, 0, 0)\", \"dash\": \"solid\", \"width\": 1}, \"mode\": \"lines\", \"x\": [0.42770731430612385, 0.8064662404424623, null], \"y\": [0.28097318733364607, 0.4176252748388205, null], \"type\": \"scatter\"}, {\"hoverinfo\": \"none\", \"line\": {\"color\": \"rgb(0, 0, 0)\", \"dash\": \"solid\", \"width\": 1}, \"mode\": \"lines\", \"x\": [0.8976478374822048, 0.1620041872364254, null], \"y\": [0.07928176083471472, 0.4757845613195645, null], \"type\": \"scatter\"}, {\"hoverinfo\": \"none\", \"line\": {\"color\": \"rgb(0, 0, 0)\", \"dash\": \"solid\", \"width\": 1}, \"mode\": \"lines\", \"x\": [0.8976478374822048, 0.5251917709552311, null], \"y\": [0.07928176083471472, 0.5092254370434016, null], \"type\": \"scatter\"}, {\"hoverinfo\": \"none\", \"line\": {\"color\": \"rgb(0, 0, 0)\", \"dash\": \"solid\", \"width\": 1}, \"mode\": \"lines\", \"x\": [0.040852296249109354, 0.2557423809559065, null], \"y\": [0.015556645505791722, 0.9006353590369995, null], \"type\": \"scatter\"}, {\"hoverinfo\": \"none\", \"line\": {\"color\": \"rgb(0, 0, 0)\", \"dash\": \"solid\", \"width\": 1}, \"mode\": \"lines\", \"x\": [0.2632211166234796, 0.4458198051341652, null], \"y\": [0.4186672377198427, 0.06472032037273356, null], \"type\": \"scatter\"}, {\"hoverinfo\": \"none\", \"line\": {\"color\": \"rgb(0, 0, 0)\", \"dash\": \"solid\", \"width\": 1}, \"mode\": \"lines\", \"x\": [0.8928966941182267, 0.2557423809559065, null], \"y\": [0.9992849993933854, 0.9006353590369995, null], \"type\": \"scatter\"}, {\"hoverinfo\": \"none\", \"line\": {\"color\": \"rgb(0, 0, 0)\", \"dash\": \"solid\", \"width\": 1}, \"mode\": \"lines\", \"x\": [0.5818933857339115, 0.0964941873496099, null], \"y\": [0.4635414782133458, 0.06479736535237024, null], \"type\": \"scatter\"}, {\"hoverinfo\": \"none\", \"line\": {\"color\": \"rgb(0, 0, 0)\", \"dash\": \"solid\", \"width\": 1}, \"mode\": \"lines\", \"x\": [0.5818933857339115, 0.5251917709552311, null], \"y\": [0.4635414782133458, 0.5092254370434016, null], \"type\": \"scatter\"}, {\"hoverinfo\": \"none\", \"line\": {\"color\": \"rgb(0, 0, 0)\", \"dash\": \"solid\", \"width\": 1}, \"mode\": \"lines\", \"x\": [0.5818933857339115, 0.33300329099006487, null], \"y\": [0.4635414782133458, 0.8813151598035718, null], \"type\": \"scatter\"}, {\"hoverinfo\": \"none\", \"line\": {\"color\": \"rgb(0, 0, 0)\", \"dash\": \"solid\", \"width\": 1}, \"mode\": \"lines\", \"x\": [0.5818933857339115, 0.41184537578801217, null], \"y\": [0.4635414782133458, 0.15550574970768394, null], \"type\": \"scatter\"}, {\"hoverinfo\": \"none\", \"line\": {\"color\": \"rgb(0, 0, 0)\", \"dash\": \"solid\", \"width\": 1}, \"mode\": \"lines\", \"x\": [0.41184537578801217, 0.5251917709552311, null], \"y\": [0.15550574970768394, 0.5092254370434016, null], \"type\": \"scatter\"}, {\"hoverinfo\": \"none\", \"line\": {\"color\": \"rgb(0, 0, 0)\", \"dash\": \"solid\", \"width\": 1}, \"mode\": \"lines\", \"x\": [0.41184537578801217, 0.33300329099006487, null], \"y\": [0.15550574970768394, 0.8813151598035718, null], \"type\": \"scatter\"}, {\"hoverinfo\": \"none\", \"line\": {\"color\": \"rgb(0, 0, 0)\", \"dash\": \"solid\", \"width\": 1}, \"mode\": \"lines\", \"x\": [0.5251917709552311, 0.23233795348105157, null], \"y\": [0.5092254370434016, 0.7068234704531743, null], \"type\": \"scatter\"}, {\"hoverinfo\": \"none\", \"line\": {\"color\": \"rgb(0, 0, 0)\", \"dash\": \"solid\", \"width\": 1}, \"mode\": \"lines\", \"x\": [0.2557423809559065, 0.23233795348105157, null], \"y\": [0.9006353590369995, 0.7068234704531743, null], \"type\": \"scatter\"}, {\"hoverinfo\": \"none\", \"line\": {\"color\": \"rgb(0, 0, 0)\", \"dash\": \"solid\", \"width\": 1}, \"mode\": \"lines\", \"x\": [0.1620041872364254, 0.33300329099006487, null], \"y\": [0.4757845613195645, 0.8813151598035718, null], \"type\": \"scatter\"}, {\"hoverinfo\": \"none\", \"line\": {\"color\": \"rgb(0, 0, 0)\", \"dash\": \"solid\", \"width\": 1}, \"mode\": \"lines\", \"x\": [0.33300329099006487, 0.7833382112958032, null], \"y\": [0.8813151598035718, 0.6270028197830154, null], \"type\": \"scatter\"}, {\"hoverinfo\": \"none\", \"marker\": {\"color\": \"rgb(255, 0, 0)\", \"line\": {\"color\": \"rgb(0, 0, 0)\", \"width\": 1}, \"size\": 20, \"symbol\": \"circle\"}, \"mode\": \"markers+text\", \"text\": [\"('Golden State Warriors',)\"], \"textfont\": {\"color\": \"rgb(0, 0, 0)\"}, \"textposition\": \"middle center\", \"x\": [0.2422821711210923], \"y\": [0.770245873030432], \"type\": \"scatter\"}, {\"hoverinfo\": \"none\", \"marker\": {\"color\": \"rgb(255, 0, 0)\", \"line\": {\"color\": \"rgb(0, 0, 0)\", \"width\": 1}, \"size\": 20, \"symbol\": \"circle\"}, \"mode\": \"markers+text\", \"text\": [\"('LA Clippers',)\"], \"textfont\": {\"color\": \"rgb(0, 0, 0)\"}, \"textposition\": \"middle center\", \"x\": [0.13252208607152327], \"y\": [0.5741610838281521], \"type\": \"scatter\"}, {\"hoverinfo\": \"none\", \"marker\": {\"color\": \"rgb(255, 0, 0)\", \"line\": {\"color\": \"rgb(0, 0, 0)\", \"width\": 1}, \"size\": 20, \"symbol\": \"circle\"}, \"mode\": \"markers+text\", \"text\": [\"('Boston Celtics',)\"], \"textfont\": {\"color\": \"rgb(0, 0, 0)\"}, \"textposition\": \"middle center\", \"x\": [0.715493075132561], \"y\": [0.8604383158653254], \"type\": \"scatter\"}, {\"hoverinfo\": \"none\", \"marker\": {\"color\": \"rgb(255, 0, 0)\", \"line\": {\"color\": \"rgb(0, 0, 0)\", \"width\": 1}, \"size\": 20, \"symbol\": \"circle\"}, \"mode\": \"markers+text\", \"text\": [\"('Chicago Bulls',)\"], \"textfont\": {\"color\": \"rgb(0, 0, 0)\"}, \"textposition\": \"middle center\", \"x\": [0.6451267827147388], \"y\": [0.420031263248842], \"type\": \"scatter\"}, {\"hoverinfo\": \"none\", \"marker\": {\"color\": \"rgb(255, 0, 0)\", \"line\": {\"color\": \"rgb(0, 0, 0)\", \"width\": 1}, \"size\": 20, \"symbol\": \"circle\"}, \"mode\": \"markers+text\", \"text\": [\"('Houston Rockets',)\"], \"textfont\": {\"color\": \"rgb(0, 0, 0)\"}, \"textposition\": \"middle center\", \"x\": [0.03644128620803111], \"y\": [0.35175858403501037], \"type\": \"scatter\"}, {\"hoverinfo\": \"none\", \"marker\": {\"color\": \"rgb(255, 0, 0)\", \"line\": {\"color\": \"rgb(0, 0, 0)\", \"width\": 1}, \"size\": 20, \"symbol\": \"circle\"}, \"mode\": \"markers+text\", \"text\": [\"('Cleveland Cavaliers',)\"], \"textfont\": {\"color\": \"rgb(0, 0, 0)\"}, \"textposition\": \"middle center\", \"x\": [0.7295274364039469], \"y\": [0.6773214880223646], \"type\": \"scatter\"}, {\"hoverinfo\": \"none\", \"marker\": {\"color\": \"rgb(255, 0, 0)\", \"line\": {\"color\": \"rgb(0, 0, 0)\", \"width\": 1}, \"size\": 20, \"symbol\": \"circle\"}, \"mode\": \"markers+text\", \"text\": [\"('Dallas Mavericks',)\"], \"textfont\": {\"color\": \"rgb(0, 0, 0)\"}, \"textposition\": \"middle center\", \"x\": [0.839754753501359], \"y\": [0.43800342784795454], \"type\": \"scatter\"}, {\"hoverinfo\": \"none\", \"marker\": {\"color\": \"rgb(255, 0, 0)\", \"line\": {\"color\": \"rgb(0, 0, 0)\", \"width\": 1}, \"size\": 20, \"symbol\": \"circle\"}, \"mode\": \"markers+text\", \"text\": [\"('Los Angeles Lakers',)\"], \"textfont\": {\"color\": \"rgb(0, 0, 0)\"}, \"textposition\": \"middle center\", \"x\": [0.40881742786550546], \"y\": [0.005922178100667197], \"type\": \"scatter\"}, {\"hoverinfo\": \"none\", \"marker\": {\"color\": \"rgb(255, 0, 0)\", \"line\": {\"color\": \"rgb(0, 0, 0)\", \"width\": 1}, \"size\": 20, \"symbol\": \"circle\"}, \"mode\": \"markers+text\", \"text\": [\"('Brooklyn Nets',)\"], \"textfont\": {\"color\": \"rgb(0, 0, 0)\"}, \"textposition\": \"middle center\", \"x\": [0.05329305036451948], \"y\": [0.2353288097052717], \"type\": \"scatter\"}, {\"hoverinfo\": \"none\", \"marker\": {\"color\": \"rgb(255, 0, 0)\", \"line\": {\"color\": \"rgb(0, 0, 0)\", \"width\": 1}, \"size\": 20, \"symbol\": \"circle\"}, \"mode\": \"markers+text\", \"text\": [\"('Memphis Grizzlies',)\"], \"textfont\": {\"color\": \"rgb(0, 0, 0)\"}, \"textposition\": \"middle center\", \"x\": [0.4430261862562974], \"y\": [0.6372349120843785], \"type\": \"scatter\"}, {\"hoverinfo\": \"none\", \"marker\": {\"color\": \"rgb(255, 0, 0)\", \"line\": {\"color\": \"rgb(0, 0, 0)\", \"width\": 1}, \"size\": 20, \"symbol\": \"circle\"}, \"mode\": \"markers+text\", \"text\": [\"('Washington Wizards',)\"], \"textfont\": {\"color\": \"rgb(0, 0, 0)\"}, \"textposition\": \"middle center\", \"x\": [0.5906358500620068], \"y\": [0.91837159701635], \"type\": \"scatter\"}, {\"hoverinfo\": \"none\", \"marker\": {\"color\": \"rgb(255, 0, 0)\", \"line\": {\"color\": \"rgb(0, 0, 0)\", \"width\": 1}, \"size\": 20, \"symbol\": \"circle\"}, \"mode\": \"markers+text\", \"text\": [\"('Oklahoma City Thunder',)\"], \"textfont\": {\"color\": \"rgb(0, 0, 0)\"}, \"textposition\": \"middle center\", \"x\": [0.42770731430612385], \"y\": [0.28097318733364607], \"type\": \"scatter\"}, {\"hoverinfo\": \"none\", \"marker\": {\"color\": \"rgb(255, 0, 0)\", \"line\": {\"color\": \"rgb(0, 0, 0)\", \"width\": 1}, \"size\": 20, \"symbol\": \"circle\"}, \"mode\": \"markers+text\", \"text\": [\"('Miami Heat',)\"], \"textfont\": {\"color\": \"rgb(0, 0, 0)\"}, \"textposition\": \"middle center\", \"x\": [0.3255064458667908], \"y\": [0.24582235548362408], \"type\": \"scatter\"}, {\"hoverinfo\": \"none\", \"marker\": {\"color\": \"rgb(255, 0, 0)\", \"line\": {\"color\": \"rgb(0, 0, 0)\", \"width\": 1}, \"size\": 20, \"symbol\": \"circle\"}, \"mode\": \"markers+text\", \"text\": [\"('Minnesota Timberwolves',)\"], \"textfont\": {\"color\": \"rgb(0, 0, 0)\"}, \"textposition\": \"middle center\", \"x\": [0.8976478374822048], \"y\": [0.07928176083471472], \"type\": \"scatter\"}, {\"hoverinfo\": \"none\", \"marker\": {\"color\": \"rgb(255, 0, 0)\", \"line\": {\"color\": \"rgb(0, 0, 0)\", \"width\": 1}, \"size\": 20, \"symbol\": \"circle\"}, \"mode\": \"markers+text\", \"text\": [\"('Indiana Pacers',)\"], \"textfont\": {\"color\": \"rgb(0, 0, 0)\"}, \"textposition\": \"middle center\", \"x\": [0.040852296249109354], \"y\": [0.015556645505791722], \"type\": \"scatter\"}, {\"hoverinfo\": \"none\", \"marker\": {\"color\": \"rgb(255, 0, 0)\", \"line\": {\"color\": \"rgb(0, 0, 0)\", \"width\": 1}, \"size\": 20, \"symbol\": \"circle\"}, \"mode\": \"markers+text\", \"text\": [\"('Denver Nuggets',)\"], \"textfont\": {\"color\": \"rgb(0, 0, 0)\"}, \"textposition\": \"middle center\", \"x\": [0.25924035686843705], \"y\": [0.4914512229221102], \"type\": \"scatter\"}, {\"hoverinfo\": \"none\", \"marker\": {\"color\": \"rgb(255, 0, 0)\", \"line\": {\"color\": \"rgb(0, 0, 0)\", \"width\": 1}, \"size\": 20, \"symbol\": \"circle\"}, \"mode\": \"markers+text\", \"text\": [\"('Charlotte Hornets',)\"], \"textfont\": {\"color\": \"rgb(0, 0, 0)\"}, \"textposition\": \"middle center\", \"x\": [0.5941941305043772], \"y\": [0.9133530153386847], \"type\": \"scatter\"}, {\"hoverinfo\": \"none\", \"marker\": {\"color\": \"rgb(255, 0, 0)\", \"line\": {\"color\": \"rgb(0, 0, 0)\", \"width\": 1}, \"size\": 20, \"symbol\": \"circle\"}, \"mode\": \"markers+text\", \"text\": [\"('Philadelphia 76ers',)\"], \"textfont\": {\"color\": \"rgb(0, 0, 0)\"}, \"textposition\": \"middle center\", \"x\": [0.2632211166234796], \"y\": [0.4186672377198427], \"type\": \"scatter\"}, {\"hoverinfo\": \"none\", \"marker\": {\"color\": \"rgb(255, 0, 0)\", \"line\": {\"color\": \"rgb(0, 0, 0)\", \"width\": 1}, \"size\": 20, \"symbol\": \"circle\"}, \"mode\": \"markers+text\", \"text\": [\"('Portland Trail Blazers',)\"], \"textfont\": {\"color\": \"rgb(0, 0, 0)\"}, \"textposition\": \"middle center\", \"x\": [0.8928966941182267], \"y\": [0.9992849993933854], \"type\": \"scatter\"}, {\"hoverinfo\": \"none\", \"marker\": {\"color\": \"rgb(255, 0, 0)\", \"line\": {\"color\": \"rgb(0, 0, 0)\", \"width\": 1}, \"size\": 20, \"symbol\": \"circle\"}, \"mode\": \"markers+text\", \"text\": [\"('Milwaukee Bucks',)\"], \"textfont\": {\"color\": \"rgb(0, 0, 0)\"}, \"textposition\": \"middle center\", \"x\": [0.5818933857339115], \"y\": [0.4635414782133458], \"type\": \"scatter\"}, {\"hoverinfo\": \"none\", \"marker\": {\"color\": \"rgb(255, 0, 0)\", \"line\": {\"color\": \"rgb(0, 0, 0)\", \"width\": 1}, \"size\": 20, \"symbol\": \"circle\"}, \"mode\": \"markers+text\", \"text\": [\"('New Orleans Pelicans',)\"], \"textfont\": {\"color\": \"rgb(0, 0, 0)\"}, \"textposition\": \"middle center\", \"x\": [0.8064662404424623], \"y\": [0.4176252748388205], \"type\": \"scatter\"}, {\"hoverinfo\": \"none\", \"marker\": {\"color\": \"rgb(255, 0, 0)\", \"line\": {\"color\": \"rgb(0, 0, 0)\", \"width\": 1}, \"size\": 20, \"symbol\": \"circle\"}, \"mode\": \"markers+text\", \"text\": [\"('Toronto Raptors',)\"], \"textfont\": {\"color\": \"rgb(0, 0, 0)\"}, \"textposition\": \"middle center\", \"x\": [0.41184537578801217], \"y\": [0.15550574970768394], \"type\": \"scatter\"}, {\"hoverinfo\": \"none\", \"marker\": {\"color\": \"rgb(255, 0, 0)\", \"line\": {\"color\": \"rgb(0, 0, 0)\", \"width\": 1}, \"size\": 20, \"symbol\": \"circle\"}, \"mode\": \"markers+text\", \"text\": [\"('Phoenix Suns',)\"], \"textfont\": {\"color\": \"rgb(0, 0, 0)\"}, \"textposition\": \"middle center\", \"x\": [0.5251917709552311], \"y\": [0.5092254370434016], \"type\": \"scatter\"}, {\"hoverinfo\": \"none\", \"marker\": {\"color\": \"rgb(255, 0, 0)\", \"line\": {\"color\": \"rgb(0, 0, 0)\", \"width\": 1}, \"size\": 20, \"symbol\": \"circle\"}, \"mode\": \"markers+text\", \"text\": [\"('New York Knicks',)\"], \"textfont\": {\"color\": \"rgb(0, 0, 0)\"}, \"textposition\": \"middle center\", \"x\": [0.2557423809559065], \"y\": [0.9006353590369995], \"type\": \"scatter\"}, {\"hoverinfo\": \"none\", \"marker\": {\"color\": \"rgb(255, 0, 0)\", \"line\": {\"color\": \"rgb(0, 0, 0)\", \"width\": 1}, \"size\": 20, \"symbol\": \"circle\"}, \"mode\": \"markers+text\", \"text\": [\"('Detroit Pistons',)\"], \"textfont\": {\"color\": \"rgb(0, 0, 0)\"}, \"textposition\": \"middle center\", \"x\": [0.23233795348105157], \"y\": [0.7068234704531743], \"type\": \"scatter\"}, {\"hoverinfo\": \"none\", \"marker\": {\"color\": \"rgb(255, 0, 0)\", \"line\": {\"color\": \"rgb(0, 0, 0)\", \"width\": 1}, \"size\": 20, \"symbol\": \"circle\"}, \"mode\": \"markers+text\", \"text\": [\"('Utah Jazz',)\"], \"textfont\": {\"color\": \"rgb(0, 0, 0)\"}, \"textposition\": \"middle center\", \"x\": [0.4458198051341652], \"y\": [0.06472032037273356], \"type\": \"scatter\"}, {\"hoverinfo\": \"none\", \"marker\": {\"color\": \"rgb(255, 0, 0)\", \"line\": {\"color\": \"rgb(0, 0, 0)\", \"width\": 1}, \"size\": 20, \"symbol\": \"circle\"}, \"mode\": \"markers+text\", \"text\": [\"('Sacramento Kings',)\"], \"textfont\": {\"color\": \"rgb(0, 0, 0)\"}, \"textposition\": \"middle center\", \"x\": [0.1620041872364254], \"y\": [0.4757845613195645], \"type\": \"scatter\"}, {\"hoverinfo\": \"none\", \"marker\": {\"color\": \"rgb(255, 0, 0)\", \"line\": {\"color\": \"rgb(0, 0, 0)\", \"width\": 1}, \"size\": 20, \"symbol\": \"circle\"}, \"mode\": \"markers+text\", \"text\": [\"('Atlanta Hawks',)\"], \"textfont\": {\"color\": \"rgb(0, 0, 0)\"}, \"textposition\": \"middle center\", \"x\": [0.33300329099006487], \"y\": [0.8813151598035718], \"type\": \"scatter\"}, {\"hoverinfo\": \"none\", \"marker\": {\"color\": \"rgb(255, 0, 0)\", \"line\": {\"color\": \"rgb(0, 0, 0)\", \"width\": 1}, \"size\": 20, \"symbol\": \"circle\"}, \"mode\": \"markers+text\", \"text\": [\"('Orlando Magic',)\"], \"textfont\": {\"color\": \"rgb(0, 0, 0)\"}, \"textposition\": \"middle center\", \"x\": [0.7833382112958032], \"y\": [0.6270028197830154], \"type\": \"scatter\"}, {\"hoverinfo\": \"none\", \"marker\": {\"color\": \"rgb(255, 0, 0)\", \"line\": {\"color\": \"rgb(0, 0, 0)\", \"width\": 1}, \"size\": 20, \"symbol\": \"circle\"}, \"mode\": \"markers+text\", \"text\": [\"('San Antonio Spurs',)\"], \"textfont\": {\"color\": \"rgb(0, 0, 0)\"}, \"textposition\": \"middle center\", \"x\": [0.0964941873496099], \"y\": [0.06479736535237024], \"type\": \"scatter\"}, {\"hoverinfo\": \"none\", \"mode\": \"text\", \"text\": [null, null, null, null, null, null, null, null, null, null, null, null, null, null, null, null, null, null, null, null, null, null, null, null, null, null, null, null, null, null, null, null, null, null, null, null, null, null, null, null, null, null, null, null, null, null], \"textfont\": {\"color\": \"rgb(0, 0, 0)\"}, \"textposition\": \"middle center\", \"x\": [0.2150042809237758, 0.29769393718657233, 0.15004903896305696, 0.28697777978056327, 0.2814118948775985, 0.6750027234495011, 0.5797417981923244, 0.7051238064097648, 0.1837999633052978, 0.09238890575788385, 0.3065214564062382, 0.2345790117815549, 0.05875765306800043, 0.27832103234525063, 0.17467900357453248, 0.5802930486153103, 0.391878713238047, 0.6501855358811746, 0.6807059931695598, 0.45376904241279054, 0.41162386849588406, 0.4862254808920491, 0.6520562609791875, 0.23430733798168032, 0.3406193148469759, 0.3568558898719227, 0.3769233285820922, 0.42360548498937023, 0.7396830697427031, 0.33947870839910527, 0.6143028959440429, 0.5257600842593856, 0.7037446545656659, 0.1351633875931838, 0.36497662088906485, 0.5755329350051561, 0.34508642688037583, 0.5477445841392407, 0.44772705038036337, 0.5069861236102055, 0.4561189792397209, 0.358331306915336, 0.3737867145249749, 0.2580706519333667, 0.23612129460100653, 0.5624142041354553], \"y\": [0.6113144344070937, 0.5153422026035948, 0.5434599373428665, 0.4506259060505401, 0.3074718100442812, 0.5621677547893806, 0.4403188946747176, 0.543815252773901, 0.32452444482996706, 0.43685931376504566, 0.6579686317817723, 0.5189961298787624, 0.3002528429448945, 0.456339805506948, 0.635306145277534, 0.39689650142139643, 0.3232100675376299, 0.7788181749653509, 0.4475670195348672, 0.2677864529185791, 0.3241639866001344, 0.47112466087709565, 0.06876056704076035, 0.2214712360805464, 0.7481380433350058, 0.5402680620438972, 0.7425908230508478, 0.8832677821885746, 0.9847976680481498, 0.32595948058104324, 0.3750485572308378, 0.25235932186530624, 0.2720655626753617, 0.4687373932740121, 0.25969492976649716, 0.9238072262142462, 0.24023167696483447, 0.4623687114645336, 0.6531015670754388, 0.29088645539126057, 0.3456250118635124, 0.5133017794514732, 0.5834035167547105, 0.7980753755981401, 0.6945666060780205, 0.7792348658286423], \"type\": \"scatter\"}, {\"hoverinfo\": \"none\", \"marker\": {\"color\": \"rgba(255, 255, 255, 0.0)\", \"line\": {\"color\": \"rgba(255, 255, 255, 0.0)\", \"width\": 0}, \"size\": 0, \"symbol\": \"circle\"}, \"mode\": \"markers\", \"x\": [0.5, 0.0, 1.0, 0.5], \"y\": [0.0, 0.5, 0.5, 1.0], \"type\": \"scatter\"}], \"name\": \"1\"}]);\n",
       "                        }).then(function(){\n",
       "                            Plotly.animate('77e19bf4-2973-4044-bfb2-408ee9669340', null);\n",
       "                        }).then(function(){\n",
       "                            \n",
       "var gd = document.getElementById('77e19bf4-2973-4044-bfb2-408ee9669340');\n",
       "var x = new MutationObserver(function (mutations, observer) {{\n",
       "        var display = window.getComputedStyle(gd).display;\n",
       "        if (!display || display === 'none') {{\n",
       "            console.log([gd, 'removed!']);\n",
       "            Plotly.purge(gd);\n",
       "            observer.disconnect();\n",
       "        }}\n",
       "}});\n",
       "\n",
       "// Listen for the removal of the full notebook cells\n",
       "var notebookContainer = gd.closest('#notebook-container');\n",
       "if (notebookContainer) {{\n",
       "    x.observe(notebookContainer, {childList: true});\n",
       "}}\n",
       "\n",
       "// Listen for the clearing of the current output cell\n",
       "var outputEl = gd.closest('.output');\n",
       "if (outputEl) {{\n",
       "    x.observe(outputEl, {childList: true});\n",
       "}}\n",
       "\n",
       "                        })\n",
       "                };\n",
       "                });\n",
       "            </script>\n",
       "        </div>"
      ]
     },
     "metadata": {},
     "output_type": "display_data"
    }
   ],
   "source": [
    "a = fm.Animation()\n",
    "g = fm.Graph(nx.Graph())\n",
    "a.rec(g)\n",
    "\n",
    "transfers = list_all_transfers_2019(connection)\n",
    "teams = list_all_teams(connection)\n",
    "\n",
    "for team in teams:\n",
    "    add_node(g, team)\n",
    "    \n",
    "#Existem casos em que um time assina com um jogador e na mesma temporada vende ele, vamos ignorar estes casos por enquanto\n",
    "for transfer in transfers:\n",
    "    antigo = get_from_where_2019(connection, transfer[1])\n",
    "    novo = get_team_name(connection, transfer[2])\n",
    "    if(antigo != -1) and (novo != -1):\n",
    "        if(antigo != novo):\n",
    "            add_edge(g, antigo, novo)\n",
    "\n",
    "a.rec(g)\n",
    "a.play()"
   ]
  },
  {
   "cell_type": "code",
   "execution_count": 82,
   "metadata": {},
   "outputs": [],
   "source": [
    "connection.close()"
   ]
  },
  {
   "cell_type": "code",
   "execution_count": null,
   "metadata": {},
   "outputs": [],
   "source": []
  }
 ],
 "metadata": {
  "kernelspec": {
   "display_name": "Python 3",
   "language": "python",
   "name": "python3"
  },
  "language_info": {
   "codemirror_mode": {
    "name": "ipython",
    "version": 3
   },
   "file_extension": ".py",
   "mimetype": "text/x-python",
   "name": "python",
   "nbconvert_exporter": "python",
   "pygments_lexer": "ipython3",
   "version": "3.6.4"
  }
 },
 "nbformat": 4,
 "nbformat_minor": 2
}
