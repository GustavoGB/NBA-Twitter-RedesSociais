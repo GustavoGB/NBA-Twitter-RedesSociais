{
 "cells": [
  {
   "cell_type": "markdown",
   "metadata": {},
   "source": [
    "Intradivisional rivalries comprise games between opponents in the same NBA division. Since the 2004–05 NBA season, there are 30 teams in six divisions of five teams each. Each team plays each division opponent four times during the regular season (twice at home, twice away) for a total of sixteen games out of 82 total regular season games. \n",
    "\n",
    "Interdivisional rivalries comprise games between opponents in different divisions but within the same conference. A team plays against each team from the other two divisions in its conference either three or four times. The total interdivisional games an NBA team plays is 36. Conference games are often important, as a team's record in common games, as well as its overall record against its conference, are sometimes used as tiebreakers for playoff seeding at the end of the regular season. Also, many regular season opponents have met again in the playoffs, and the result of a regular season game can affect where the playoff game will be played. \n",
    "\n",
    "Interconference rivalries comprise games between opponents in different conferences. A team plays each opponent from the other conference in one home game and one away game. "
   ]
  },
  {
   "cell_type": "code",
   "execution_count": 2,
   "metadata": {},
   "outputs": [
    {
     "ename": "SyntaxError",
     "evalue": "invalid syntax (<ipython-input-2-dd50f86ccc38>, line 1)",
     "output_type": "error",
     "traceback": [
      "\u001b[1;36m  File \u001b[1;32m\"<ipython-input-2-dd50f86ccc38>\"\u001b[1;36m, line \u001b[1;32m1\u001b[0m\n\u001b[1;33m    dict_intra_leste = {Boston Celtics:[Philadelphia 76ers, New York Knicks, Brooklyn Nets, New York Knicks,  Detroit Pistons, Orlando Magic, Chicago Bulls, Atlanta Hawks, Miami Heat ],\u001b[0m\n\u001b[1;37m                                     ^\u001b[0m\n\u001b[1;31mSyntaxError\u001b[0m\u001b[1;31m:\u001b[0m invalid syntax\n"
     ]
    }
   ],
   "source": [
    "dict_intra_leste = {Boston Celtics:[Philadelphia 76ers, New York Knicks, Brooklyn Nets, New York Knicks,  Detroit Pistons, Orlando Magic, Chicago Bulls, Atlanta Hawks, Miami Heat ],\n",
    "                        New York Knicks : [Philadelphia 76ers], \n",
    "                        Chicago Bulls : [Detroit Pistons,Milwaukee Bucks, Indiana Pacers, Miami Heat, New York Knicks ],\n",
    "                        Indiana Pacers : [Detroit Pistons, New York Knicks],\n",
    "                        Miami Heat : [Orlando Magic, New York Knicks],\n",
    "                        Cleveland Cavaliers : [Orlando Magic,Washington Wizards, Miami Heat]\n",
    "    }\n",
    "\n",
    "    dict_intra_oeste = {Los Angeles Lakers : [Los Angeles Clippers,Phoenix Suns, Sacramento Kings],\n",
    "                        Houston Rockets : [San Antonio Spurs,Utah Jazz],\n",
    "                        San Antonio Spurs : [Dallas Mavericks,Los Angeles Lakers,Phoenix Suns ],\n",
    "                        Dallas Mavericks : Phoenix Suns, \n",
    "                        Phoenix Suns : Portland Trail Blazers}\n",
    "    \n",
    "    dict_biggest_2019 = {Los Angeles Clippers : [Los Angeles Lakers],\n",
    "                    Boston Celtics : [Philadelphia 76ers],\n",
    "                    Houston Rockets : [Los Angeles Lakers, Portland Trail Blazers],\n",
    "                    Milwaukee Bucks : [Toronto Raptors, Minnesota Timberwolves, Philadelphia 76ers, Boston Celtics, Brookyln Nets], \n",
    "                    New York Knicks : [Brooklyn Nets]\n",
    "                   }"
   ]
  },
  {
   "cell_type": "code",
   "execution_count": 1,
   "metadata": {},
   "outputs": [
    {
     "ename": "SyntaxError",
     "evalue": "invalid syntax (<ipython-input-1-84eea451e953>, line 3)",
     "output_type": "error",
     "traceback": [
      "\u001b[1;36m  File \u001b[1;32m\"<ipython-input-1-84eea451e953>\"\u001b[1;36m, line \u001b[1;32m3\u001b[0m\n\u001b[1;33m    dict_intra_leste_all_time = {Boston Celtics:[Philadelphia 76ers, New York Knicks, Brooklyn Nets, New York Knicks,  Detroit Pistons, Orlando Magic, Chicago Bulls, Atlanta Hawks, Miami Heat ],\u001b[0m\n\u001b[1;37m                                              ^\u001b[0m\n\u001b[1;31mSyntaxError\u001b[0m\u001b[1;31m:\u001b[0m invalid syntax\n"
     ]
    }
   ],
   "source": [
    "# https://basketball.fandom.com/wiki/Rivalries_of_the_NBA\n",
    "#\n",
    "dict_intra_leste_all_time = {Boston Celtics:[Philadelphia 76ers, New York Knicks, Brooklyn Nets, New York Knicks,  Detroit Pistons, Orlando Magic, Chicago Bulls, Atlanta Hawks, Miami Heat ],\n",
    "                        New York Knicks : [Philadelphia 76ers], \n",
    "                        Chicago Bulls : [Detroit Pistons,Milwaukee Bucks, Indiana Pacers, Miami Heat, New York Knicks ],\n",
    "                        Indiana Pacers : [Detroit Pistons, New York Knicks],\n",
    "                        Miami Heat : [Orlando Magic, New York Knicks],\n",
    "                        Cleveland Cavaliers : [Orlando Magic,Washington Wizards, Miami Heat]\n",
    "    }\n",
    "\n",
    "    dict_intra_oeste_all_time = {Los Angeles Lakers : [Los Angeles Clippers,Phoenix Suns, Sacramento Kings],\n",
    "                        Houston Rockets : [San Antonio Spurs,Utah Jazz],\n",
    "                       San Antonio Spurs : [Dallas Mavericks,Los Angeles Lakers,Phoenix Suns ],\n",
    "                        Dallas Mavericks : Phoenix Suns, \n",
    "                        Phoenix Suns : Portland Trail Blazers}\n",
    "    \n",
    "    dict_biggest_all_time = {Boston Celtics : [Los Angeles Lakers, Philadelphia 76ers],\n",
    "                    Los Angeles Lakers : [Philadelphia 76ers, Detroit Pistons],\n",
    "                    Milwaukee Bucks : [Minnesota Timberwolves], \n",
    "                    Chicago Bulls : [Utah Jazz, Detroit Pistons],\n",
    "                    Cleveland Cavaliers : [Golden State Warriors],\n",
    "                    San Antonio Spurs : [Los Angeles Lakers]\n",
    "                   }"
   ]
  },
  {
   "cell_type": "code",
   "execution_count": null,
   "metadata": {},
   "outputs": [],
   "source": []
  }
 ],
 "metadata": {
  "kernelspec": {
   "display_name": "Python 3",
   "language": "python",
   "name": "python3"
  },
  "language_info": {
   "codemirror_mode": {
    "name": "ipython",
    "version": 3
   },
   "file_extension": ".py",
   "mimetype": "text/x-python",
   "name": "python",
   "nbconvert_exporter": "python",
   "pygments_lexer": "ipython3",
   "version": "3.6.4"
  }
 },
 "nbformat": 4,
 "nbformat_minor": 2
}
