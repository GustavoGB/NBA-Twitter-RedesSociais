{
 "cells": [
  {
   "cell_type": "code",
   "execution_count": 3,
   "metadata": {},
   "outputs": [],
   "source": [
    "import pandas as pd\n",
    "import nltk\n",
    "from vaderSentiment.vaderSentiment import SentimentIntensityAnalyzer\n",
    "import ast\n",
    "import re\n",
    "import preprocessor as p \n",
    "import os\n",
    "import json\n",
    "import time\n",
    "from pandas.io.json import json_normalize\n"
   ]
  },
  {
   "cell_type": "code",
   "execution_count": 4,
   "metadata": {},
   "outputs": [],
   "source": [
    "analyser = SentimentIntensityAnalyzer()\n",
    "def sentiment_analyzer_scores(sentence, index, dict_tweets, i):\n",
    "    l = []\n",
    "    score = analyser.polarity_scores(sentence)\n",
    "    #print(\"{:-<40} {}\".format(sentence, str(score)))\n",
    "    l.append(sentence)\n",
    "    l.append(score)\n",
    "    dict_tweets[index][i] = l\n",
    "    #print(dict_tweets[index][i])\n",
    "    #print(l)\n",
    "    return dict_tweets\n",
    "\n",
    "def save_to_json(dict_temp, name, ano):\n",
    "    try:\n",
    "        filename = \"analises/\" + name + \"_\" + str(ano) + \".json\"\n",
    "        os.remove(filename)\n",
    "    except:\n",
    "        pass\n",
    "    with open(filename, 'w') as f:\n",
    "        json.dump(dict_temp, f, indent=2)\n",
    "        \n",
    "for file in os.listdir(\"jsons/\"):\n",
    "    if file.endswith(\".json\"):\n",
    "        with open(\"jsons/\" + file, 'r') as f:\n",
    "            data = json.load(f)\n",
    "            dict_res = {}\n",
    "            i = 0\n",
    "            for key, value in data.items():\n",
    "                for sentence in data[key]:\n",
    "                    name = key\n",
    "                    ano = data[key][-2]\n",
    "                    #print(name, year)\n",
    "                    if(type(sentence) == int):\n",
    "                        break\n",
    "                    sentence = sentence[0]\n",
    "                    new_dict_tweets = sentiment_analyzer_scores(sentence, key, data, i)\n",
    "                    #print(new_dict_tweets)\n",
    "                    #print(\"---------------------------------------------------------------------\")\n",
    "                    i+=1\n",
    "                    time.sleep(0.05)\n",
    "            save_to_json(new_dict_tweets, name, ano)"
   ]
  },
  {
   "cell_type": "code",
   "execution_count": null,
   "metadata": {},
   "outputs": [],
   "source": []
  },
  {
   "cell_type": "code",
   "execution_count": null,
   "metadata": {},
   "outputs": [],
   "source": []
  },
  {
   "cell_type": "code",
   "execution_count": null,
   "metadata": {},
   "outputs": [],
   "source": []
  },
  {
   "cell_type": "code",
   "execution_count": null,
   "metadata": {},
   "outputs": [],
   "source": []
  },
  {
   "cell_type": "code",
   "execution_count": null,
   "metadata": {},
   "outputs": [],
   "source": []
  },
  {
   "cell_type": "code",
   "execution_count": null,
   "metadata": {},
   "outputs": [],
   "source": [
    "   \n"
   ]
  },
  {
   "cell_type": "code",
   "execution_count": null,
   "metadata": {},
   "outputs": [],
   "source": [
    "\n"
   ]
  },
  {
   "cell_type": "code",
   "execution_count": null,
   "metadata": {},
   "outputs": [],
   "source": []
  }
 ],
 "metadata": {
  "kernelspec": {
   "display_name": "Python 3",
   "language": "python",
   "name": "python3"
  },
  "language_info": {
   "codemirror_mode": {
    "name": "ipython",
    "version": 3
   },
   "file_extension": ".py",
   "mimetype": "text/x-python",
   "name": "python",
   "nbconvert_exporter": "python",
   "pygments_lexer": "ipython3",
   "version": "3.6.4"
  }
 },
 "nbformat": 4,
 "nbformat_minor": 2
}
