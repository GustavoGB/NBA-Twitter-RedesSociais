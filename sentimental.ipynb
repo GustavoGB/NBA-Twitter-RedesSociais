{
 "cells": [
  {
   "cell_type": "code",
   "execution_count": 52,
   "metadata": {},
   "outputs": [],
   "source": [
    "import pandas as pd\n",
    "import nltk\n",
    "from vaderSentiment.vaderSentiment import SentimentIntensityAnalyzer\n",
    "import ast\n"
   ]
  },
  {
   "cell_type": "code",
   "execution_count": 3,
   "metadata": {},
   "outputs": [
    {
     "data": {
      "text/html": [
       "<div>\n",
       "<style scoped>\n",
       "    .dataframe tbody tr th:only-of-type {\n",
       "        vertical-align: middle;\n",
       "    }\n",
       "\n",
       "    .dataframe tbody tr th {\n",
       "        vertical-align: top;\n",
       "    }\n",
       "\n",
       "    .dataframe thead th {\n",
       "        text-align: right;\n",
       "    }\n",
       "</style>\n",
       "<table border=\"1\" class=\"dataframe\">\n",
       "  <thead>\n",
       "    <tr style=\"text-align: right;\">\n",
       "      <th></th>\n",
       "      <th>hashtags</th>\n",
       "      <th>text</th>\n",
       "      <th>user</th>\n",
       "      <th>user_loc</th>\n",
       "    </tr>\n",
       "  </thead>\n",
       "  <tbody>\n",
       "    <tr>\n",
       "      <th>0</th>\n",
       "      <td>[]</td>\n",
       "      <td>RT @MattBruenig: Just realizing this morning t...</td>\n",
       "      <td>fuegomy_eggo</td>\n",
       "      <td>None</td>\n",
       "    </tr>\n",
       "    <tr>\n",
       "      <th>1</th>\n",
       "      <td>[NBACrossover]</td>\n",
       "      <td>RT @SkySportsNBA: 🏀⭐️⬆️ At #NBACrossover, Insi...</td>\n",
       "      <td>KSmoove81</td>\n",
       "      <td>Brooklyn, New York</td>\n",
       "    </tr>\n",
       "    <tr>\n",
       "      <th>2</th>\n",
       "      <td>[NBARookieWeek]</td>\n",
       "      <td>RT @OrlandoMagic: With the fifth overall pick ...</td>\n",
       "      <td>beavis13077</td>\n",
       "      <td>Memphis, TN</td>\n",
       "    </tr>\n",
       "    <tr>\n",
       "      <th>3</th>\n",
       "      <td>[]</td>\n",
       "      <td>RT @GXATSHXT: Here is what NBA players thought...</td>\n",
       "      <td>SBoy229</td>\n",
       "      <td>None</td>\n",
       "    </tr>\n",
       "    <tr>\n",
       "      <th>4</th>\n",
       "      <td>[]</td>\n",
       "      <td>RT @wojespn: The NBA Board of Governors passed...</td>\n",
       "      <td>AntsN_HerPants</td>\n",
       "      <td>Maintaining…</td>\n",
       "    </tr>\n",
       "  </tbody>\n",
       "</table>\n",
       "</div>"
      ],
      "text/plain": [
       "          hashtags                                               text  \\\n",
       "0               []  RT @MattBruenig: Just realizing this morning t...   \n",
       "1   [NBACrossover]  RT @SkySportsNBA: 🏀⭐️⬆️ At #NBACrossover, Insi...   \n",
       "2  [NBARookieWeek]  RT @OrlandoMagic: With the fifth overall pick ...   \n",
       "3               []  RT @GXATSHXT: Here is what NBA players thought...   \n",
       "4               []  RT @wojespn: The NBA Board of Governors passed...   \n",
       "\n",
       "             user            user_loc  \n",
       "0    fuegomy_eggo                None  \n",
       "1       KSmoove81  Brooklyn, New York  \n",
       "2     beavis13077         Memphis, TN  \n",
       "3         SBoy229                None  \n",
       "4  AntsN_HerPants        Maintaining…  "
      ]
     },
     "execution_count": 3,
     "metadata": {},
     "output_type": "execute_result"
    }
   ],
   "source": [
    "data_df = pd.read_json(\"saved_tweets.json\", orient='records')\n",
    "data_df.head()"
   ]
  },
  {
   "cell_type": "code",
   "execution_count": 7,
   "metadata": {},
   "outputs": [
    {
     "name": "stdout",
     "output_type": "stream",
     "text": [
      "<class 'pandas.core.frame.DataFrame'>\n",
      "RangeIndex: 35 entries, 0 to 34\n",
      "Data columns (total 4 columns):\n",
      "hashtags    35 non-null object\n",
      "text        35 non-null object\n",
      "user        35 non-null object\n",
      "user_loc    25 non-null object\n",
      "dtypes: object(4)\n",
      "memory usage: 1.2+ KB\n"
     ]
    }
   ],
   "source": [
    "data_df.info()\n",
    "#data_df.loc[2]"
   ]
  },
  {
   "cell_type": "code",
   "execution_count": 8,
   "metadata": {},
   "outputs": [],
   "source": [
    "tweets = data_df['text']"
   ]
  },
  {
   "cell_type": "code",
   "execution_count": 9,
   "metadata": {},
   "outputs": [
    {
     "data": {
      "text/plain": [
       "0    RT @MattBruenig: Just realizing this morning t...\n",
       "1    RT @SkySportsNBA: 🏀⭐️⬆️ At #NBACrossover, Insi...\n",
       "2    RT @OrlandoMagic: With the fifth overall pick ...\n",
       "3    RT @GXATSHXT: Here is what NBA players thought...\n",
       "4    RT @wojespn: The NBA Board of Governors passed...\n",
       "Name: text, dtype: object"
      ]
     },
     "execution_count": 9,
     "metadata": {},
     "output_type": "execute_result"
    }
   ],
   "source": [
    "tweets.head()"
   ]
  },
  {
   "cell_type": "code",
   "execution_count": 16,
   "metadata": {},
   "outputs": [
    {
     "name": "stdout",
     "output_type": "stream",
     "text": [
      "{0: 'RT @MattBruenig: Just realizing this morning that once the NBA season starts Westbrook will become the best player to ever wear a Rockets j…', 1: \"RT @SkySportsNBA: 🏀⭐️⬆️ At #NBACrossover, Inside The NBA's Kenny Smith says even without the injured @KDTrey5, @KyrieIrving and @BrooklynNe…\", 2: 'RT @OrlandoMagic: With the fifth overall pick in the 2000 NBA draft the Orlando Magic select, Mike Millerrrrr! #NBARookieWeek https://t.co/…', 3: 'RT @GXATSHXT: Here is what NBA players thought about Rookie Michael Jordan:\\n\\nNotice how Walt Frazier says: “Michael gotta realize he’s not…', 4: 'RT @wojespn: The NBA Board of Governors passed a stricter package of measures to enforce compliance with tampering and salary cap circumven…', 5: 'RT @PremierPolls1: Outside of Trae Young &amp; Luka Doncic, who will be the best #NBA player from last years draft class?', 6: 'RT @AmicoHoops: #Hawks agree to deal with shooting guard Tahjere McCall, agent tells @BenStinar of AmicoHoops. #NBA https://t.co/sc0vvTKP7e', 7: 'Niggas get some money and buy basketball lessons 😂😂😂 boy get tf', 8: \"Before every soccer game, right before they take the field,  my son and I grab the back of each other's head, touch… https://t.co/0NK6leEwyg\", 9: \"RT @HerbertJacobz: @OmachSnr @UsherKomugisha Its a basketball playoff game remember not a concert or football game. For Africa that's the m…\", 10: 'RT @ItSG_Sn0w: #PS4live (NBA 2K20)  @walkonwarriors @TexasStarrr_ @NBA2K @youfamousenough  live at https://t.co/xsezDunDjj', 11: 'For me po, Direk, the reason I’m willing to give Thia a chance as an actor is for the same reason that some people… https://t.co/3Q7HpPWdMS', 12: 'RT @ATLHawks: 𝐎𝐅𝐅𝐈𝐂𝐈𝐀𝐋\\n\\nWe have re-signed Vince Carter.\\n\\n#TrueToAtlanta \\n\\n📰 | https://t.co/mUNZumf6w5 https://t.co/UGtLrUPUDM', 13: 'RT @CavsNationCP: Who do you trust the most in crunch time? 🚨\\n\\n#Cavs #NBA #NBATwitter https://t.co/joP9QqPcz8', 14: 'RT @Ballislife: Happy Birthday to the late great Red \"16 Rings\" Auerbach, who tried to stop flopping in the NBA decades ago! https://t.co/h…', 15: 'RT @LakersReporter: New Story: “Getting to Know Frank Vogel.” I sat down with the new @Lakers coach for an extended Q&amp;A touching on how he…', 16: 'Ok StateBoyz played NBA 2K20 (Xbox One) in the last 24 hours https://t.co/krzMESz74g #exophase', 17: 'Tu Eleven played NBA 2K20 (Xbox One) in the last 24 hours https://t.co/wXHSJvigLi #exophase', 18: 'bruh....', 19: \"RT @Oldskoolbball1: #NBARookieWeek LeBron &amp; Melo's first meeting in the NBA!\\n\\n https://t.co/ZGjjXTlTJP\", 20: 'CLAP YOUR HANDS \\nEVERYBODY \\nFOR PHILADELPHIA \\nSEVENTY SIXERS', 21: \"RT @DiY_Philippines: Wang Hedi presented NBA tickets to Wenchuan's children at the scene of Super Penguin League Red and Blue War to encour…\", 22: 'Listen my manz ain’t drop a BAD SONG yet . My car is most deff a NBA car', 23: 'quite the read. #storytelling #sportsbiz #finance', 24: 'RT @mikeheavens: I feel sorry for @KDTrey5 he is still empty deep inside.\\n\\nThe easy rings and the money did not even make a difference in h…', 25: 'RT @Oldskoolbball1: #NBARookieWeek Jordan against Magic for the first time in NBA. Super rare highlights including they both guarding each…', 26: 'RT @BleacherReport: LaMelo got NBA scouts sweating 💯\\n\\nAll-around game helped get the W over the defending champs\\n\\n(via @NBL, H/T @brhoops)…', 27: 'RT @Complex: .@NBA2K hosted a Complex Current panel at #ComplexCon Chicago to celebrate the upcoming release of NBA 2K20 🏀\\n\\nWatch the full…', 28: \"RT @DiY_Philippines: Wang Hedi presented NBA tickets to Wenchuan's children at the scene of Super Penguin League Red and Blue War to encour…\", 29: '@TheRealHacobo That makes sense, 2K just being their name. But still, it seems crazy weird. Are there other NBA gam… https://t.co/7ug6OwO677', 30: 'And we like Billy 😊👍🏼', 31: 'RT @PrimetimeRyley: Patiently waiting for NBA opening night like https://t.co/WRKRhygojA', 32: 'RT @ATLHawks: 𝐎𝐅𝐅𝐈𝐂𝐈𝐀𝐋\\n\\nWe have re-signed Vince Carter.\\n\\n#TrueToAtlanta \\n\\n📰 | https://t.co/mUNZumf6w5 https://t.co/UGtLrUPUDM', 33: 'RT @Benzene21: 7 of the top 10 players on the 1991 Bulls team were on the 1989 team. The 1989 Bulls were underdogs in the 1st round. In 2 y…', 34: 'RT @9NEWSSports: WATCH: The journey of @nuggets guard Monte Morris (@BigGameTae) from Flint, Michigan to the NBA is truly remarkable. \\n\\n@Ce…'}\n"
     ]
    }
   ],
   "source": [
    "dict_tweets = {}\n",
    "for index, value in tweets.iteritems():\n",
    "    dict_tweets[index] = value\n"
   ]
  },
  {
   "cell_type": "code",
   "execution_count": 26,
   "metadata": {},
   "outputs": [
    {
     "name": "stdout",
     "output_type": "stream",
     "text": [
      "RT @MattBruenig: Just realizing this morning that once the NBA season starts Westbrook will become the best player to ever wear a Rockets j… {'neg': 0.0, 'neu': 0.84, 'pos': 0.16, 'compound': 0.6369}\n",
      "---------------------------------------------------------------------\n",
      "RT @SkySportsNBA: 🏀⭐️⬆️ At #NBACrossover, Inside The NBA's Kenny Smith says even without the injured @KDTrey5, @KyrieIrving and @BrooklynNe… {'neg': 0.0, 'neu': 0.889, 'pos': 0.111, 'compound': 0.3089}\n",
      "---------------------------------------------------------------------\n",
      "RT @OrlandoMagic: With the fifth overall pick in the 2000 NBA draft the Orlando Magic select, Mike Millerrrrr! #NBARookieWeek https://t.co/… {'neg': 0.0, 'neu': 1.0, 'pos': 0.0, 'compound': 0.0}\n",
      "---------------------------------------------------------------------\n",
      "RT @GXATSHXT: Here is what NBA players thought about Rookie Michael Jordan:\n",
      "\n",
      "Notice how Walt Frazier says: “Michael gotta realize he’s not… {'neg': 0.0, 'neu': 1.0, 'pos': 0.0, 'compound': 0.0}\n",
      "---------------------------------------------------------------------\n",
      "RT @wojespn: The NBA Board of Governors passed a stricter package of measures to enforce compliance with tampering and salary cap circumven… {'neg': 0.0, 'neu': 1.0, 'pos': 0.0, 'compound': 0.0}\n",
      "---------------------------------------------------------------------\n",
      "RT @PremierPolls1: Outside of Trae Young &amp; Luka Doncic, who will be the best #NBA player from last years draft class? {'neg': 0.0, 'neu': 0.826, 'pos': 0.174, 'compound': 0.6369}\n",
      "---------------------------------------------------------------------\n",
      "RT @AmicoHoops: #Hawks agree to deal with shooting guard Tahjere McCall, agent tells @BenStinar of AmicoHoops. #NBA https://t.co/sc0vvTKP7e {'neg': 0.0, 'neu': 0.872, 'pos': 0.128, 'compound': 0.3612}\n",
      "---------------------------------------------------------------------\n",
      "Niggas get some money and buy basketball lessons 😂😂😂 boy get tf {'neg': 0.179, 'neu': 0.821, 'pos': 0.0, 'compound': -0.34}\n",
      "---------------------------------------------------------------------\n",
      "Before every soccer game, right before they take the field,  my son and I grab the back of each other's head, touch… https://t.co/0NK6leEwyg {'neg': 0.0, 'neu': 1.0, 'pos': 0.0, 'compound': 0.0}\n",
      "---------------------------------------------------------------------\n",
      "RT @HerbertJacobz: @OmachSnr @UsherKomugisha Its a basketball playoff game remember not a concert or football game. For Africa that's the m… {'neg': 0.0, 'neu': 1.0, 'pos': 0.0, 'compound': 0.0}\n",
      "---------------------------------------------------------------------\n",
      "RT @ItSG_Sn0w: #PS4live (NBA 2K20)  @walkonwarriors @TexasStarrr_ @NBA2K @youfamousenough  live at https://t.co/xsezDunDjj {'neg': 0.0, 'neu': 1.0, 'pos': 0.0, 'compound': 0.0}\n",
      "---------------------------------------------------------------------\n",
      "For me po, Direk, the reason I’m willing to give Thia a chance as an actor is for the same reason that some people… https://t.co/3Q7HpPWdMS {'neg': 0.13, 'neu': 0.797, 'pos': 0.072, 'compound': -0.3818}\n",
      "---------------------------------------------------------------------\n",
      "RT @ATLHawks: 𝐎𝐅𝐅𝐈𝐂𝐈𝐀𝐋\n",
      "\n",
      "We have re-signed Vince Carter.\n",
      "\n",
      "#TrueToAtlanta \n",
      "\n",
      "📰 | https://t.co/mUNZumf6w5 https://t.co/UGtLrUPUDM {'neg': 0.0, 'neu': 1.0, 'pos': 0.0, 'compound': 0.0}\n",
      "---------------------------------------------------------------------\n",
      "RT @CavsNationCP: Who do you trust the most in crunch time? 🚨\n",
      "\n",
      "#Cavs #NBA #NBATwitter https://t.co/joP9QqPcz8 {'neg': 0.0, 'neu': 0.837, 'pos': 0.163, 'compound': 0.5106}\n",
      "---------------------------------------------------------------------\n",
      "RT @Ballislife: Happy Birthday to the late great Red \"16 Rings\" Auerbach, who tried to stop flopping in the NBA decades ago! https://t.co/h… {'neg': 0.073, 'neu': 0.66, 'pos': 0.267, 'compound': 0.784}\n",
      "---------------------------------------------------------------------\n",
      "RT @LakersReporter: New Story: “Getting to Know Frank Vogel.” I sat down with the new @Lakers coach for an extended Q&amp;A touching on how he… {'neg': 0.0, 'neu': 1.0, 'pos': 0.0, 'compound': 0.0}\n",
      "---------------------------------------------------------------------\n",
      "Ok StateBoyz played NBA 2K20 (Xbox One) in the last 24 hours https://t.co/krzMESz74g #exophase {'neg': 0.0, 'neu': 0.723, 'pos': 0.277, 'compound': 0.5574}\n",
      "---------------------------------------------------------------------\n",
      "Tu Eleven played NBA 2K20 (Xbox One) in the last 24 hours https://t.co/wXHSJvigLi #exophase {'neg': 0.0, 'neu': 0.844, 'pos': 0.156, 'compound': 0.34}\n",
      "---------------------------------------------------------------------\n",
      "bruh....-------------------------------- {'neg': 0.0, 'neu': 1.0, 'pos': 0.0, 'compound': 0.0}\n",
      "---------------------------------------------------------------------\n",
      "RT @Oldskoolbball1: #NBARookieWeek LeBron &amp; Melo's first meeting in the NBA!\n",
      "\n",
      " https://t.co/ZGjjXTlTJP {'neg': 0.0, 'neu': 1.0, 'pos': 0.0, 'compound': 0.0}\n",
      "---------------------------------------------------------------------\n",
      "CLAP YOUR HANDS \n",
      "EVERYBODY \n",
      "FOR PHILADELPHIA \n",
      "SEVENTY SIXERS {'neg': 0.0, 'neu': 1.0, 'pos': 0.0, 'compound': 0.0}\n",
      "---------------------------------------------------------------------\n",
      "RT @DiY_Philippines: Wang Hedi presented NBA tickets to Wenchuan's children at the scene of Super Penguin League Red and Blue War to encour… {'neg': 0.135, 'neu': 0.729, 'pos': 0.135, 'compound': 0.0}\n",
      "---------------------------------------------------------------------\n",
      "Listen my manz ain’t drop a BAD SONG yet . My car is most deff a NBA car {'neg': 0.328, 'neu': 0.672, 'pos': 0.0, 'compound': -0.7456}\n",
      "---------------------------------------------------------------------\n",
      "quite the read. #storytelling #sportsbiz #finance {'neg': 0.0, 'neu': 1.0, 'pos': 0.0, 'compound': 0.0}\n",
      "---------------------------------------------------------------------\n",
      "RT @mikeheavens: I feel sorry for @KDTrey5 he is still empty deep inside.\n",
      "\n",
      "The easy rings and the money did not even make a difference in h… {'neg': 0.111, 'neu': 0.786, 'pos': 0.104, 'compound': 0.2023}\n",
      "---------------------------------------------------------------------\n",
      "RT @Oldskoolbball1: #NBARookieWeek Jordan against Magic for the first time in NBA. Super rare highlights including they both guarding each… {'neg': 0.0, 'neu': 0.83, 'pos': 0.17, 'compound': 0.5994}\n",
      "---------------------------------------------------------------------\n",
      "RT @BleacherReport: LaMelo got NBA scouts sweating 💯\n",
      "\n",
      "All-around game helped get the W over the defending champs\n",
      "\n",
      "(via @NBL, H/T @brhoops)… {'neg': 0.0, 'neu': 0.882, 'pos': 0.118, 'compound': 0.4215}\n",
      "---------------------------------------------------------------------\n",
      "RT @Complex: .@NBA2K hosted a Complex Current panel at #ComplexCon Chicago to celebrate the upcoming release of NBA 2K20 🏀\n",
      "\n",
      "Watch the full… {'neg': 0.0, 'neu': 0.85, 'pos': 0.15, 'compound': 0.5719}\n",
      "---------------------------------------------------------------------\n",
      "RT @DiY_Philippines: Wang Hedi presented NBA tickets to Wenchuan's children at the scene of Super Penguin League Red and Blue War to encour… {'neg': 0.135, 'neu': 0.729, 'pos': 0.135, 'compound': 0.0}\n",
      "---------------------------------------------------------------------\n",
      "@TheRealHacobo That makes sense, 2K just being their name. But still, it seems crazy weird. Are there other NBA gam… https://t.co/7ug6OwO677 {'neg': 0.213, 'neu': 0.787, 'pos': 0.0, 'compound': -0.631}\n",
      "---------------------------------------------------------------------\n",
      "And we like Billy 😊👍🏼------------------- {'neg': 0.0, 'neu': 0.615, 'pos': 0.385, 'compound': 0.3612}\n",
      "---------------------------------------------------------------------\n",
      "RT @PrimetimeRyley: Patiently waiting for NBA opening night like https://t.co/WRKRhygojA {'neg': 0.0, 'neu': 0.783, 'pos': 0.217, 'compound': 0.3612}\n",
      "---------------------------------------------------------------------\n",
      "RT @ATLHawks: 𝐎𝐅𝐅𝐈𝐂𝐈𝐀𝐋\n",
      "\n",
      "We have re-signed Vince Carter.\n",
      "\n",
      "#TrueToAtlanta \n",
      "\n",
      "📰 | https://t.co/mUNZumf6w5 https://t.co/UGtLrUPUDM {'neg': 0.0, 'neu': 1.0, 'pos': 0.0, 'compound': 0.0}\n",
      "---------------------------------------------------------------------\n",
      "RT @Benzene21: 7 of the top 10 players on the 1991 Bulls team were on the 1989 team. The 1989 Bulls were underdogs in the 1st round. In 2 y… {'neg': 0.0, 'neu': 0.938, 'pos': 0.062, 'compound': 0.2023}\n",
      "---------------------------------------------------------------------\n",
      "RT @9NEWSSports: WATCH: The journey of @nuggets guard Monte Morris (@BigGameTae) from Flint, Michigan to the NBA is truly remarkable. \n",
      "\n",
      "@Ce… {'neg': 0.0, 'neu': 0.745, 'pos': 0.255, 'compound': 0.7579}\n",
      "---------------------------------------------------------------------\n"
     ]
    }
   ],
   "source": [
    "analyser = SentimentIntensityAnalyzer()\n",
    "def sentiment_analyzer_scores(sentence, index, dict_tweets):\n",
    "    l = []\n",
    "    score = analyser.polarity_scores(sentence)\n",
    "    print(\"{:-<40} {}\".format(sentence, str(score)))\n",
    "    l.append(sentence)\n",
    "    l.append(str(score))\n",
    "    dict_tweets[index] = l\n",
    "    return dict_tweets\n",
    "    \n",
    "for index in dict_tweets:\n",
    "    new_dict_tweets = sentiment_analyzer_scores(dict_tweets[index], index, dict_tweets)\n",
    "    print(\"---------------------------------------------------------------------\")\n"
   ]
  },
  {
   "cell_type": "code",
   "execution_count": 67,
   "metadata": {},
   "outputs": [
    {
     "name": "stdout",
     "output_type": "stream",
     "text": [
      "{'RT @MattBruenig: Just realizing this morning that once the NBA season starts Westbrook will become the best player to ever wear a Rockets j…': {'neg': 0.0, 'neu': 0.84, 'pos': 0.16, 'compound': 0.6369}, \"RT @SkySportsNBA: 🏀⭐️⬆️ At #NBACrossover, Inside The NBA's Kenny Smith says even without the injured @KDTrey5, @KyrieIrving and @BrooklynNe…\": {'neg': 0.0, 'neu': 0.889, 'pos': 0.111, 'compound': 0.3089}, 'RT @OrlandoMagic: With the fifth overall pick in the 2000 NBA draft the Orlando Magic select, Mike Millerrrrr! #NBARookieWeek https://t.co/…': {'neg': 0.0, 'neu': 1.0, 'pos': 0.0, 'compound': 0.0}, 'RT @GXATSHXT: Here is what NBA players thought about Rookie Michael Jordan:\\n\\nNotice how Walt Frazier says: “Michael gotta realize he’s not…': {'neg': 0.0, 'neu': 1.0, 'pos': 0.0, 'compound': 0.0}, 'RT @wojespn: The NBA Board of Governors passed a stricter package of measures to enforce compliance with tampering and salary cap circumven…': {'neg': 0.0, 'neu': 1.0, 'pos': 0.0, 'compound': 0.0}, 'RT @PremierPolls1: Outside of Trae Young &amp; Luka Doncic, who will be the best #NBA player from last years draft class?': {'neg': 0.0, 'neu': 0.826, 'pos': 0.174, 'compound': 0.6369}, 'RT @AmicoHoops: #Hawks agree to deal with shooting guard Tahjere McCall, agent tells @BenStinar of AmicoHoops. #NBA https://t.co/sc0vvTKP7e': {'neg': 0.0, 'neu': 0.872, 'pos': 0.128, 'compound': 0.3612}, 'Niggas get some money and buy basketball lessons 😂😂😂 boy get tf': {'neg': 0.179, 'neu': 0.821, 'pos': 0.0, 'compound': -0.34}, \"Before every soccer game, right before they take the field,  my son and I grab the back of each other's head, touch… https://t.co/0NK6leEwyg\": {'neg': 0.0, 'neu': 1.0, 'pos': 0.0, 'compound': 0.0}, \"RT @HerbertJacobz: @OmachSnr @UsherKomugisha Its a basketball playoff game remember not a concert or football game. For Africa that's the m…\": {'neg': 0.0, 'neu': 1.0, 'pos': 0.0, 'compound': 0.0}, 'RT @ItSG_Sn0w: #PS4live (NBA 2K20)  @walkonwarriors @TexasStarrr_ @NBA2K @youfamousenough  live at https://t.co/xsezDunDjj': {'neg': 0.0, 'neu': 1.0, 'pos': 0.0, 'compound': 0.0}, 'For me po, Direk, the reason I’m willing to give Thia a chance as an actor is for the same reason that some people… https://t.co/3Q7HpPWdMS': {'neg': 0.13, 'neu': 0.797, 'pos': 0.072, 'compound': -0.3818}, 'RT @ATLHawks: 𝐎𝐅𝐅𝐈𝐂𝐈𝐀𝐋\\n\\nWe have re-signed Vince Carter.\\n\\n#TrueToAtlanta \\n\\n📰 | https://t.co/mUNZumf6w5 https://t.co/UGtLrUPUDM': {'neg': 0.0, 'neu': 1.0, 'pos': 0.0, 'compound': 0.0}, 'RT @CavsNationCP: Who do you trust the most in crunch time? 🚨\\n\\n#Cavs #NBA #NBATwitter https://t.co/joP9QqPcz8': {'neg': 0.0, 'neu': 0.837, 'pos': 0.163, 'compound': 0.5106}, 'RT @Ballislife: Happy Birthday to the late great Red \"16 Rings\" Auerbach, who tried to stop flopping in the NBA decades ago! https://t.co/h…': {'neg': 0.073, 'neu': 0.66, 'pos': 0.267, 'compound': 0.784}, 'RT @LakersReporter: New Story: “Getting to Know Frank Vogel.” I sat down with the new @Lakers coach for an extended Q&amp;A touching on how he…': {'neg': 0.0, 'neu': 1.0, 'pos': 0.0, 'compound': 0.0}, 'Ok StateBoyz played NBA 2K20 (Xbox One) in the last 24 hours https://t.co/krzMESz74g #exophase': {'neg': 0.0, 'neu': 0.723, 'pos': 0.277, 'compound': 0.5574}, 'Tu Eleven played NBA 2K20 (Xbox One) in the last 24 hours https://t.co/wXHSJvigLi #exophase': {'neg': 0.0, 'neu': 0.844, 'pos': 0.156, 'compound': 0.34}, 'bruh....': {'neg': 0.0, 'neu': 1.0, 'pos': 0.0, 'compound': 0.0}, \"RT @Oldskoolbball1: #NBARookieWeek LeBron &amp; Melo's first meeting in the NBA!\\n\\n https://t.co/ZGjjXTlTJP\": {'neg': 0.0, 'neu': 1.0, 'pos': 0.0, 'compound': 0.0}, 'CLAP YOUR HANDS \\nEVERYBODY \\nFOR PHILADELPHIA \\nSEVENTY SIXERS': {'neg': 0.0, 'neu': 1.0, 'pos': 0.0, 'compound': 0.0}, \"RT @DiY_Philippines: Wang Hedi presented NBA tickets to Wenchuan's children at the scene of Super Penguin League Red and Blue War to encour…\": {'neg': 0.135, 'neu': 0.729, 'pos': 0.135, 'compound': 0.0}, 'Listen my manz ain’t drop a BAD SONG yet . My car is most deff a NBA car': {'neg': 0.328, 'neu': 0.672, 'pos': 0.0, 'compound': -0.7456}, 'quite the read. #storytelling #sportsbiz #finance': {'neg': 0.0, 'neu': 1.0, 'pos': 0.0, 'compound': 0.0}, 'RT @mikeheavens: I feel sorry for @KDTrey5 he is still empty deep inside.\\n\\nThe easy rings and the money did not even make a difference in h…': {'neg': 0.111, 'neu': 0.786, 'pos': 0.104, 'compound': 0.2023}, 'RT @Oldskoolbball1: #NBARookieWeek Jordan against Magic for the first time in NBA. Super rare highlights including they both guarding each…': {'neg': 0.0, 'neu': 0.83, 'pos': 0.17, 'compound': 0.5994}, 'RT @BleacherReport: LaMelo got NBA scouts sweating 💯\\n\\nAll-around game helped get the W over the defending champs\\n\\n(via @NBL, H/T @brhoops)…': {'neg': 0.0, 'neu': 0.882, 'pos': 0.118, 'compound': 0.4215}, 'RT @Complex: .@NBA2K hosted a Complex Current panel at #ComplexCon Chicago to celebrate the upcoming release of NBA 2K20 🏀\\n\\nWatch the full…': {'neg': 0.0, 'neu': 0.85, 'pos': 0.15, 'compound': 0.5719}, '@TheRealHacobo That makes sense, 2K just being their name. But still, it seems crazy weird. Are there other NBA gam… https://t.co/7ug6OwO677': {'neg': 0.213, 'neu': 0.787, 'pos': 0.0, 'compound': -0.631}, 'And we like Billy 😊👍🏼': {'neg': 0.0, 'neu': 0.615, 'pos': 0.385, 'compound': 0.3612}, 'RT @PrimetimeRyley: Patiently waiting for NBA opening night like https://t.co/WRKRhygojA': {'neg': 0.0, 'neu': 0.783, 'pos': 0.217, 'compound': 0.3612}, 'RT @Benzene21: 7 of the top 10 players on the 1991 Bulls team were on the 1989 team. The 1989 Bulls were underdogs in the 1st round. In 2 y…': {'neg': 0.0, 'neu': 0.938, 'pos': 0.062, 'compound': 0.2023}, 'RT @9NEWSSports: WATCH: The journey of @nuggets guard Monte Morris (@BigGameTae) from Flint, Michigan to the NBA is truly remarkable. \\n\\n@Ce…': {'neg': 0.0, 'neu': 0.745, 'pos': 0.255, 'compound': 0.7579}}\n"
     ]
    }
   ],
   "source": [
    "dict_res = {}\n",
    "for index, item in dict_tweets.items():\n",
    "    res = item[1].replace(\"'\", \"\\\"\")\n",
    "    res = ast.literal_eval(res) #transformando a string de dict em um dict real\n",
    "    dict_res[item[0]] = res\n",
    "print(dict_res)"
   ]
  },
  {
   "cell_type": "code",
   "execution_count": null,
   "metadata": {},
   "outputs": [],
   "source": []
  }
 ],
 "metadata": {
  "kernelspec": {
   "display_name": "Python 3",
   "language": "python",
   "name": "python3"
  },
  "language_info": {
   "codemirror_mode": {
    "name": "ipython",
    "version": 3
   },
   "file_extension": ".py",
   "mimetype": "text/x-python",
   "name": "python",
   "nbconvert_exporter": "python",
   "pygments_lexer": "ipython3",
   "version": "3.6.4"
  }
 },
 "nbformat": 4,
 "nbformat_minor": 2
}
